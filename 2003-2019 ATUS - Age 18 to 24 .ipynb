{
 "cells": [
  {
   "cell_type": "code",
   "execution_count": 1,
   "metadata": {},
   "outputs": [],
   "source": [
    "import pandas as pd \n",
    "import numpy as np \n",
    "%matplotlib inline\n",
    "import matplotlib.pyplot as plt\n",
    "from sklearn.linear_model import LinearRegression"
   ]
  },
  {
   "cell_type": "code",
   "execution_count": 2,
   "metadata": {},
   "outputs": [],
   "source": [
    "multi_act = pd.read_csv(\"ATUS DATA 03-19/atus_activity_0319.dat\", \n",
    "                        dtype= {\"TRCODEP\": object, \"TRTIER1P\": object, \"TRTIER2P\": object}) #using 2003-2019 activity file\n",
    "#multi_act"
   ]
  },
  {
   "cell_type": "code",
   "execution_count": 307,
   "metadata": {},
   "outputs": [],
   "source": [
    "multi_rost = pd.read_csv(\"ATUS DATA 03-19/atus_rost_0319.dat\")\n",
    "\n",
    "#TERRP = How is this person related to you?\n",
    "# \"There is no distinction between 18 and 19\"\n",
    "roster_list = [18,19] # 18 and 19 = self \n",
    "multi_rost = multi_rost[multi_rost[\"TERRP\"].isin(roster_list)]\n",
    "#multi_rost.head(20)"
   ]
  },
  {
   "cell_type": "code",
   "execution_count": 4,
   "metadata": {},
   "outputs": [],
   "source": [
    "multi_resp = pd.read_csv(\"ATUS DATA 03-19/atus_resp_0319.dat\")\n",
    "#multi_resp.columns.to_list()"
   ]
  },
  {
   "cell_type": "code",
   "execution_count": 5,
   "metadata": {},
   "outputs": [],
   "source": [
    "multi_merged1 = pd.merge(multi_act, multi_resp, on=\"TUCASEID\")\n",
    "multi_merged = pd.merge(multi_merged1, multi_rost, on=\"TUCASEID\")\n",
    "#multi_merged = pd.merge(multi_resp, multi_rost, on=\"TUCASEID\")\n",
    "multi_merged = multi_merged.filter([\"TUCASEID\",\"TUACTDUR24\",\"TUCUMDUR\",\"TRTIER1P\",\"TRTIER2P\",\"TRCODEP\", \n",
    "                                    \"TEWHERE\",\"TEAGE\", \"TUFNWGTP\",\"TUSTARTTIM\",\"TUSTOPTIME\", \"TUYEAR\"])\n",
    "#multi_merged.head(20)"
   ]
  },
  {
   "cell_type": "markdown",
   "metadata": {},
   "source": [
    "## Age Between 18 and 24  Population"
   ]
  },
  {
   "cell_type": "code",
   "execution_count": 6,
   "metadata": {},
   "outputs": [
    {
     "data": {
      "text/html": [
       "<div>\n",
       "<style scoped>\n",
       "    .dataframe tbody tr th:only-of-type {\n",
       "        vertical-align: middle;\n",
       "    }\n",
       "\n",
       "    .dataframe tbody tr th {\n",
       "        vertical-align: top;\n",
       "    }\n",
       "\n",
       "    .dataframe thead th {\n",
       "        text-align: right;\n",
       "    }\n",
       "</style>\n",
       "<table border=\"1\" class=\"dataframe\">\n",
       "  <thead>\n",
       "    <tr style=\"text-align: right;\">\n",
       "      <th></th>\n",
       "      <th>TUCASEID</th>\n",
       "      <th>TUACTDUR24</th>\n",
       "      <th>TUCUMDUR</th>\n",
       "      <th>TRTIER1P</th>\n",
       "      <th>TRTIER2P</th>\n",
       "      <th>TRCODEP</th>\n",
       "      <th>TEWHERE</th>\n",
       "      <th>TEAGE</th>\n",
       "      <th>TUFNWGTP</th>\n",
       "      <th>TUSTARTTIM</th>\n",
       "      <th>TUSTOPTIME</th>\n",
       "      <th>TUYEAR</th>\n",
       "    </tr>\n",
       "  </thead>\n",
       "  <tbody>\n",
       "    <tr>\n",
       "      <th>131</th>\n",
       "      <td>20030100014427</td>\n",
       "      <td>60</td>\n",
       "      <td>60</td>\n",
       "      <td>01</td>\n",
       "      <td>0101</td>\n",
       "      <td>010101</td>\n",
       "      <td>-1</td>\n",
       "      <td>21</td>\n",
       "      <td>6.574427e+06</td>\n",
       "      <td>04:00:00</td>\n",
       "      <td>05:00:00</td>\n",
       "      <td>2003</td>\n",
       "    </tr>\n",
       "    <tr>\n",
       "      <th>132</th>\n",
       "      <td>20030100014427</td>\n",
       "      <td>80</td>\n",
       "      <td>140</td>\n",
       "      <td>01</td>\n",
       "      <td>0102</td>\n",
       "      <td>010201</td>\n",
       "      <td>-1</td>\n",
       "      <td>21</td>\n",
       "      <td>6.574427e+06</td>\n",
       "      <td>05:00:00</td>\n",
       "      <td>06:20:00</td>\n",
       "      <td>2003</td>\n",
       "    </tr>\n",
       "    <tr>\n",
       "      <th>133</th>\n",
       "      <td>20030100014427</td>\n",
       "      <td>25</td>\n",
       "      <td>165</td>\n",
       "      <td>18</td>\n",
       "      <td>1805</td>\n",
       "      <td>180501</td>\n",
       "      <td>12</td>\n",
       "      <td>21</td>\n",
       "      <td>6.574427e+06</td>\n",
       "      <td>06:20:00</td>\n",
       "      <td>06:45:00</td>\n",
       "      <td>2003</td>\n",
       "    </tr>\n",
       "    <tr>\n",
       "      <th>134</th>\n",
       "      <td>20030100014427</td>\n",
       "      <td>10</td>\n",
       "      <td>175</td>\n",
       "      <td>05</td>\n",
       "      <td>0501</td>\n",
       "      <td>050101</td>\n",
       "      <td>2</td>\n",
       "      <td>21</td>\n",
       "      <td>6.574427e+06</td>\n",
       "      <td>06:45:00</td>\n",
       "      <td>06:55:00</td>\n",
       "      <td>2003</td>\n",
       "    </tr>\n",
       "    <tr>\n",
       "      <th>135</th>\n",
       "      <td>20030100014427</td>\n",
       "      <td>260</td>\n",
       "      <td>435</td>\n",
       "      <td>05</td>\n",
       "      <td>0501</td>\n",
       "      <td>050101</td>\n",
       "      <td>2</td>\n",
       "      <td>21</td>\n",
       "      <td>6.574427e+06</td>\n",
       "      <td>06:55:00</td>\n",
       "      <td>11:15:00</td>\n",
       "      <td>2003</td>\n",
       "    </tr>\n",
       "    <tr>\n",
       "      <th>...</th>\n",
       "      <td>...</td>\n",
       "      <td>...</td>\n",
       "      <td>...</td>\n",
       "      <td>...</td>\n",
       "      <td>...</td>\n",
       "      <td>...</td>\n",
       "      <td>...</td>\n",
       "      <td>...</td>\n",
       "      <td>...</td>\n",
       "      <td>...</td>\n",
       "      <td>...</td>\n",
       "      <td>...</td>\n",
       "    </tr>\n",
       "    <tr>\n",
       "      <th>4118957</th>\n",
       "      <td>20191212190331</td>\n",
       "      <td>5</td>\n",
       "      <td>931</td>\n",
       "      <td>18</td>\n",
       "      <td>1813</td>\n",
       "      <td>181301</td>\n",
       "      <td>12</td>\n",
       "      <td>24</td>\n",
       "      <td>1.320052e+07</td>\n",
       "      <td>19:26:00</td>\n",
       "      <td>19:31:00</td>\n",
       "      <td>2019</td>\n",
       "    </tr>\n",
       "    <tr>\n",
       "      <th>4118958</th>\n",
       "      <td>20191212190331</td>\n",
       "      <td>120</td>\n",
       "      <td>1051</td>\n",
       "      <td>12</td>\n",
       "      <td>1203</td>\n",
       "      <td>120303</td>\n",
       "      <td>1</td>\n",
       "      <td>24</td>\n",
       "      <td>1.320052e+07</td>\n",
       "      <td>19:31:00</td>\n",
       "      <td>21:31:00</td>\n",
       "      <td>2019</td>\n",
       "    </tr>\n",
       "    <tr>\n",
       "      <th>4118959</th>\n",
       "      <td>20191212190331</td>\n",
       "      <td>60</td>\n",
       "      <td>1111</td>\n",
       "      <td>50</td>\n",
       "      <td>5001</td>\n",
       "      <td>500101</td>\n",
       "      <td>1</td>\n",
       "      <td>24</td>\n",
       "      <td>1.320052e+07</td>\n",
       "      <td>21:31:00</td>\n",
       "      <td>22:31:00</td>\n",
       "      <td>2019</td>\n",
       "    </tr>\n",
       "    <tr>\n",
       "      <th>4118960</th>\n",
       "      <td>20191212190331</td>\n",
       "      <td>120</td>\n",
       "      <td>1231</td>\n",
       "      <td>12</td>\n",
       "      <td>1203</td>\n",
       "      <td>120308</td>\n",
       "      <td>1</td>\n",
       "      <td>24</td>\n",
       "      <td>1.320052e+07</td>\n",
       "      <td>22:31:00</td>\n",
       "      <td>00:31:00</td>\n",
       "      <td>2019</td>\n",
       "    </tr>\n",
       "    <tr>\n",
       "      <th>4118961</th>\n",
       "      <td>20191212190331</td>\n",
       "      <td>209</td>\n",
       "      <td>1740</td>\n",
       "      <td>01</td>\n",
       "      <td>0101</td>\n",
       "      <td>010101</td>\n",
       "      <td>-1</td>\n",
       "      <td>24</td>\n",
       "      <td>1.320052e+07</td>\n",
       "      <td>00:31:00</td>\n",
       "      <td>09:00:00</td>\n",
       "      <td>2019</td>\n",
       "    </tr>\n",
       "  </tbody>\n",
       "</table>\n",
       "<p>235580 rows × 12 columns</p>\n",
       "</div>"
      ],
      "text/plain": [
       "               TUCASEID  TUACTDUR24  TUCUMDUR TRTIER1P TRTIER2P TRCODEP  \\\n",
       "131      20030100014427          60        60       01     0101  010101   \n",
       "132      20030100014427          80       140       01     0102  010201   \n",
       "133      20030100014427          25       165       18     1805  180501   \n",
       "134      20030100014427          10       175       05     0501  050101   \n",
       "135      20030100014427         260       435       05     0501  050101   \n",
       "...                 ...         ...       ...      ...      ...     ...   \n",
       "4118957  20191212190331           5       931       18     1813  181301   \n",
       "4118958  20191212190331         120      1051       12     1203  120303   \n",
       "4118959  20191212190331          60      1111       50     5001  500101   \n",
       "4118960  20191212190331         120      1231       12     1203  120308   \n",
       "4118961  20191212190331         209      1740       01     0101  010101   \n",
       "\n",
       "         TEWHERE  TEAGE      TUFNWGTP TUSTARTTIM TUSTOPTIME  TUYEAR  \n",
       "131           -1     21  6.574427e+06   04:00:00   05:00:00    2003  \n",
       "132           -1     21  6.574427e+06   05:00:00   06:20:00    2003  \n",
       "133           12     21  6.574427e+06   06:20:00   06:45:00    2003  \n",
       "134            2     21  6.574427e+06   06:45:00   06:55:00    2003  \n",
       "135            2     21  6.574427e+06   06:55:00   11:15:00    2003  \n",
       "...          ...    ...           ...        ...        ...     ...  \n",
       "4118957       12     24  1.320052e+07   19:26:00   19:31:00    2019  \n",
       "4118958        1     24  1.320052e+07   19:31:00   21:31:00    2019  \n",
       "4118959        1     24  1.320052e+07   21:31:00   22:31:00    2019  \n",
       "4118960        1     24  1.320052e+07   22:31:00   00:31:00    2019  \n",
       "4118961       -1     24  1.320052e+07   00:31:00   09:00:00    2019  \n",
       "\n",
       "[235580 rows x 12 columns]"
      ]
     },
     "execution_count": 6,
     "metadata": {},
     "output_type": "execute_result"
    }
   ],
   "source": [
    "#p18_24loyed_codes = [3,4] # 3= Age Between 18 and 24  - on layoff, 3 = Age Between 18 and 24  - looking\n",
    "#multi_merged_p18_24loyed = multi_merged[multi_merged[\"TELFS\"].isin(p18_24loyed_codes)]\n",
    "#multi_merged_p18_24loyed[\"TELFS\"].unique()\n",
    "\n",
    "multi_merged_p18_24loyed = multi_merged[(multi_merged[\"TEAGE\"] >= 18) & (multi_merged[\"TEAGE\"] <= 24)]\n",
    "multi_merged_p18_24loyed"
   ]
  },
  {
   "cell_type": "code",
   "execution_count": 7,
   "metadata": {},
   "outputs": [
    {
     "data": {
      "text/plain": [
       "9825379092.958874"
      ]
     },
     "execution_count": 7,
     "metadata": {},
     "output_type": "execute_result"
    }
   ],
   "source": [
    "p18_24_2003 = multi_merged_p18_24loyed[multi_merged_p18_24loyed[\"TUCASEID\"].apply(str).str.startswith(\"2003\")]\n",
    "atus_2003_p18_24_weight = p18_24_2003.drop_duplicates(subset=[\"TUCASEID\"])\n",
    "atus_2003_p18_24_weight = atus_2003_p18_24_weight[\"TUFNWGTP\"].sum()\n",
    "atus_2003_p18_24_weight"
   ]
  },
  {
   "cell_type": "markdown",
   "metadata": {},
   "source": [
    "## 2003-2019 Residential - Age Between 18 and 24 "
   ]
  },
  {
   "cell_type": "code",
   "execution_count": 8,
   "metadata": {},
   "outputs": [],
   "source": [
    "#only residential location from 2003-2019\n",
    "residential_location = [-1,1,3]\n",
    "atus_multi_yr_res_p18_24 = multi_merged_p18_24loyed[multi_merged_p18_24loyed[\"TEWHERE\"].isin(residential_location)]\n",
    "#atus_multi_yr_res_p18_24"
   ]
  },
  {
   "cell_type": "code",
   "execution_count": 9,
   "metadata": {},
   "outputs": [],
   "source": [
    "#atus residential year seperation by p18_24loyed population \n",
    "atus_2003_res_p18_24 = atus_multi_yr_res_p18_24[atus_multi_yr_res_p18_24[\"TUCASEID\"].apply(str).str.startswith(\"2003\")]\n",
    "atus_2004_res_p18_24 = atus_multi_yr_res_p18_24[atus_multi_yr_res_p18_24[\"TUCASEID\"].apply(str).str.startswith(\"2004\")]\n",
    "atus_2005_res_p18_24 = atus_multi_yr_res_p18_24[atus_multi_yr_res_p18_24[\"TUCASEID\"].apply(str).str.startswith(\"2005\")]\n",
    "atus_2006_res_p18_24 = atus_multi_yr_res_p18_24[atus_multi_yr_res_p18_24[\"TUCASEID\"].apply(str).str.startswith(\"2006\")]\n",
    "atus_2007_res_p18_24 = atus_multi_yr_res_p18_24[atus_multi_yr_res_p18_24[\"TUCASEID\"].apply(str).str.startswith(\"2007\")]\n",
    "atus_2008_res_p18_24 = atus_multi_yr_res_p18_24[atus_multi_yr_res_p18_24[\"TUCASEID\"].apply(str).str.startswith(\"2008\")]\n",
    "atus_2009_res_p18_24 = atus_multi_yr_res_p18_24[atus_multi_yr_res_p18_24[\"TUCASEID\"].apply(str).str.startswith(\"2009\")]\n",
    "atus_2010_res_p18_24 = atus_multi_yr_res_p18_24[atus_multi_yr_res_p18_24[\"TUCASEID\"].apply(str).str.startswith(\"2010\")]\n",
    "atus_2011_res_p18_24 = atus_multi_yr_res_p18_24[atus_multi_yr_res_p18_24[\"TUCASEID\"].apply(str).str.startswith(\"2011\")]\n",
    "atus_2012_res_p18_24 = atus_multi_yr_res_p18_24[atus_multi_yr_res_p18_24[\"TUCASEID\"].apply(str).str.startswith(\"2012\")]\n",
    "atus_2013_res_p18_24 = atus_multi_yr_res_p18_24[atus_multi_yr_res_p18_24[\"TUCASEID\"].apply(str).str.startswith(\"2013\")]\n",
    "atus_2014_res_p18_24 = atus_multi_yr_res_p18_24[atus_multi_yr_res_p18_24[\"TUCASEID\"].apply(str).str.startswith(\"2014\")]\n",
    "atus_2015_res_p18_24 = atus_multi_yr_res_p18_24[atus_multi_yr_res_p18_24[\"TUCASEID\"].apply(str).str.startswith(\"2015\")]\n",
    "atus_2016_res_p18_24 = atus_multi_yr_res_p18_24[atus_multi_yr_res_p18_24[\"TUCASEID\"].apply(str).str.startswith(\"2016\")]\n",
    "atus_2017_res_p18_24 = atus_multi_yr_res_p18_24[atus_multi_yr_res_p18_24[\"TUCASEID\"].apply(str).str.startswith(\"2017\")]\n",
    "atus_2018_res_p18_24 = atus_multi_yr_res_p18_24[atus_multi_yr_res_p18_24[\"TUCASEID\"].apply(str).str.startswith(\"2018\")]\n",
    "atus_2019_res_p18_24 = atus_multi_yr_res_p18_24[atus_multi_yr_res_p18_24[\"TUCASEID\"].apply(str).str.startswith(\"2019\")]\n",
    "#atus_2003_res_p18_24.head(30)"
   ]
  },
  {
   "cell_type": "code",
   "execution_count": null,
   "metadata": {},
   "outputs": [],
   "source": []
  },
  {
   "cell_type": "markdown",
   "metadata": {},
   "source": [
    "### 2003 All Residential Activities - Age Between 18 and 24  Population"
   ]
  },
  {
   "cell_type": "code",
   "execution_count": 10,
   "metadata": {},
   "outputs": [
    {
     "data": {
      "text/html": [
       "<div>\n",
       "<style scoped>\n",
       "    .dataframe tbody tr th:only-of-type {\n",
       "        vertical-align: middle;\n",
       "    }\n",
       "\n",
       "    .dataframe tbody tr th {\n",
       "        vertical-align: top;\n",
       "    }\n",
       "\n",
       "    .dataframe thead th {\n",
       "        text-align: right;\n",
       "    }\n",
       "</style>\n",
       "<table border=\"1\" class=\"dataframe\">\n",
       "  <thead>\n",
       "    <tr style=\"text-align: right;\">\n",
       "      <th></th>\n",
       "      <th>TUACTDUR24</th>\n",
       "    </tr>\n",
       "    <tr>\n",
       "      <th>TUCASEID</th>\n",
       "      <th></th>\n",
       "    </tr>\n",
       "  </thead>\n",
       "  <tbody>\n",
       "    <tr>\n",
       "      <th>20030100014427</th>\n",
       "      <td>855</td>\n",
       "    </tr>\n",
       "    <tr>\n",
       "      <th>20030101030074</th>\n",
       "      <td>670</td>\n",
       "    </tr>\n",
       "    <tr>\n",
       "      <th>20030101030082</th>\n",
       "      <td>1370</td>\n",
       "    </tr>\n",
       "    <tr>\n",
       "      <th>20030101030124</th>\n",
       "      <td>1428</td>\n",
       "    </tr>\n",
       "    <tr>\n",
       "      <th>20030101030168</th>\n",
       "      <td>1350</td>\n",
       "    </tr>\n",
       "    <tr>\n",
       "      <th>...</th>\n",
       "      <td>...</td>\n",
       "    </tr>\n",
       "    <tr>\n",
       "      <th>20031212032648</th>\n",
       "      <td>1415</td>\n",
       "    </tr>\n",
       "    <tr>\n",
       "      <th>20031212032664</th>\n",
       "      <td>1440</td>\n",
       "    </tr>\n",
       "    <tr>\n",
       "      <th>20031212032808</th>\n",
       "      <td>973</td>\n",
       "    </tr>\n",
       "    <tr>\n",
       "      <th>20031212033329</th>\n",
       "      <td>795</td>\n",
       "    </tr>\n",
       "    <tr>\n",
       "      <th>20031212033503</th>\n",
       "      <td>1315</td>\n",
       "    </tr>\n",
       "  </tbody>\n",
       "</table>\n",
       "<p>1503 rows × 1 columns</p>\n",
       "</div>"
      ],
      "text/plain": [
       "                TUACTDUR24\n",
       "TUCASEID                  \n",
       "20030100014427         855\n",
       "20030101030074         670\n",
       "20030101030082        1370\n",
       "20030101030124        1428\n",
       "20030101030168        1350\n",
       "...                    ...\n",
       "20031212032648        1415\n",
       "20031212032664        1440\n",
       "20031212032808         973\n",
       "20031212033329         795\n",
       "20031212033503        1315\n",
       "\n",
       "[1503 rows x 1 columns]"
      ]
     },
     "execution_count": 10,
     "metadata": {},
     "output_type": "execute_result"
    }
   ],
   "source": [
    "atus_2003_all_res_p18_24 = atus_2003_res_p18_24.groupby([\"TUCASEID\"]).sum().filter([\"TUCASEID\", \"TUACTDUR24\"])\n",
    "atus_2003_all_res_p18_24"
   ]
  },
  {
   "cell_type": "code",
   "execution_count": 11,
   "metadata": {},
   "outputs": [
    {
     "data": {
      "text/html": [
       "<div>\n",
       "<style scoped>\n",
       "    .dataframe tbody tr th:only-of-type {\n",
       "        vertical-align: middle;\n",
       "    }\n",
       "\n",
       "    .dataframe tbody tr th {\n",
       "        vertical-align: top;\n",
       "    }\n",
       "\n",
       "    .dataframe thead th {\n",
       "        text-align: right;\n",
       "    }\n",
       "</style>\n",
       "<table border=\"1\" class=\"dataframe\">\n",
       "  <thead>\n",
       "    <tr style=\"text-align: right;\">\n",
       "      <th></th>\n",
       "      <th>TUCASEID</th>\n",
       "      <th>TUACTDUR24</th>\n",
       "      <th>TUFNWGTP</th>\n",
       "    </tr>\n",
       "  </thead>\n",
       "  <tbody>\n",
       "    <tr>\n",
       "      <th>0</th>\n",
       "      <td>20030100014427</td>\n",
       "      <td>855</td>\n",
       "      <td>6.574427e+06</td>\n",
       "    </tr>\n",
       "    <tr>\n",
       "      <th>1</th>\n",
       "      <td>20030101030074</td>\n",
       "      <td>670</td>\n",
       "      <td>1.221143e+07</td>\n",
       "    </tr>\n",
       "    <tr>\n",
       "      <th>2</th>\n",
       "      <td>20030101030082</td>\n",
       "      <td>1370</td>\n",
       "      <td>2.394056e+06</td>\n",
       "    </tr>\n",
       "    <tr>\n",
       "      <th>3</th>\n",
       "      <td>20030101030124</td>\n",
       "      <td>1428</td>\n",
       "      <td>1.836971e+07</td>\n",
       "    </tr>\n",
       "    <tr>\n",
       "      <th>4</th>\n",
       "      <td>20030101030168</td>\n",
       "      <td>1350</td>\n",
       "      <td>4.100694e+06</td>\n",
       "    </tr>\n",
       "    <tr>\n",
       "      <th>...</th>\n",
       "      <td>...</td>\n",
       "      <td>...</td>\n",
       "      <td>...</td>\n",
       "    </tr>\n",
       "    <tr>\n",
       "      <th>1498</th>\n",
       "      <td>20031212032648</td>\n",
       "      <td>1415</td>\n",
       "      <td>3.534580e+06</td>\n",
       "    </tr>\n",
       "    <tr>\n",
       "      <th>1499</th>\n",
       "      <td>20031212032664</td>\n",
       "      <td>1440</td>\n",
       "      <td>2.946482e+06</td>\n",
       "    </tr>\n",
       "    <tr>\n",
       "      <th>1500</th>\n",
       "      <td>20031212032808</td>\n",
       "      <td>973</td>\n",
       "      <td>2.692090e+06</td>\n",
       "    </tr>\n",
       "    <tr>\n",
       "      <th>1501</th>\n",
       "      <td>20031212033329</td>\n",
       "      <td>795</td>\n",
       "      <td>9.872682e+06</td>\n",
       "    </tr>\n",
       "    <tr>\n",
       "      <th>1502</th>\n",
       "      <td>20031212033503</td>\n",
       "      <td>1315</td>\n",
       "      <td>1.594529e+06</td>\n",
       "    </tr>\n",
       "  </tbody>\n",
       "</table>\n",
       "<p>1503 rows × 3 columns</p>\n",
       "</div>"
      ],
      "text/plain": [
       "            TUCASEID  TUACTDUR24      TUFNWGTP\n",
       "0     20030100014427         855  6.574427e+06\n",
       "1     20030101030074         670  1.221143e+07\n",
       "2     20030101030082        1370  2.394056e+06\n",
       "3     20030101030124        1428  1.836971e+07\n",
       "4     20030101030168        1350  4.100694e+06\n",
       "...              ...         ...           ...\n",
       "1498  20031212032648        1415  3.534580e+06\n",
       "1499  20031212032664        1440  2.946482e+06\n",
       "1500  20031212032808         973  2.692090e+06\n",
       "1501  20031212033329         795  9.872682e+06\n",
       "1502  20031212033503        1315  1.594529e+06\n",
       "\n",
       "[1503 rows x 3 columns]"
      ]
     },
     "execution_count": 11,
     "metadata": {},
     "output_type": "execute_result"
    }
   ],
   "source": [
    "atus_2003_all_res_p18_24_merge = pd.merge(atus_2003_all_res_p18_24, multi_resp, on= \"TUCASEID\").filter([\"TUCASEID\",\"TUACTDUR24\",\"TUFNWGTP\"])\n",
    "atus_2003_all_res_p18_24_merge"
   ]
  },
  {
   "cell_type": "code",
   "execution_count": 12,
   "metadata": {},
   "outputs": [],
   "source": [
    "atus_2003_all_res_p18_24_merge[\"Multiplied Weight\"] = atus_2003_all_res_p18_24_merge[\"TUACTDUR24\"] * atus_2003_all_res_p18_24_merge[\"TUFNWGTP\"]\n",
    "#atus_2003_all_res_p18_24_merge"
   ]
  },
  {
   "cell_type": "code",
   "execution_count": 13,
   "metadata": {},
   "outputs": [
    {
     "data": {
      "text/plain": [
       "9698753942868.656"
      ]
     },
     "execution_count": 13,
     "metadata": {},
     "output_type": "execute_result"
    }
   ],
   "source": [
    "atus_2003_all_res_p18_24_multiplied_weight = atus_2003_all_res_p18_24_merge[\"Multiplied Weight\"].sum()\n",
    "atus_2003_all_res_p18_24_multiplied_weight"
   ]
  },
  {
   "cell_type": "code",
   "execution_count": 14,
   "metadata": {},
   "outputs": [
    {
     "data": {
      "text/plain": [
       "9825379092.958874"
      ]
     },
     "execution_count": 14,
     "metadata": {},
     "output_type": "execute_result"
    }
   ],
   "source": [
    "p18_24_2003 = multi_merged_p18_24loyed[multi_merged_p18_24loyed[\"TUCASEID\"].apply(str).str.startswith(\"2003\")]\n",
    "atus_2003_p18_24_weight = p18_24_2003.drop_duplicates(subset=[\"TUCASEID\"])\n",
    "atus_2003_p18_24_weight = atus_2003_p18_24_weight[\"TUFNWGTP\"].sum()\n",
    "atus_2003_p18_24_weight"
   ]
  },
  {
   "cell_type": "code",
   "execution_count": 15,
   "metadata": {},
   "outputs": [
    {
     "data": {
      "text/plain": [
       "16.451874021191777"
      ]
     },
     "execution_count": 15,
     "metadata": {},
     "output_type": "execute_result"
    }
   ],
   "source": [
    "all_act_2003_res_p18_24_hpd = atus_2003_all_res_p18_24_multiplied_weight / atus_2003_p18_24_weight / 60\n",
    "all_act_2003_res_p18_24_hpd"
   ]
  },
  {
   "cell_type": "markdown",
   "metadata": {},
   "source": [
    "### 2004 All Residential Activities - Age Between 18 and 24  Population"
   ]
  },
  {
   "cell_type": "code",
   "execution_count": 16,
   "metadata": {},
   "outputs": [],
   "source": [
    "atus_2004_all_res_p18_24 = atus_2004_res_p18_24.groupby([\"TUCASEID\"]).sum().filter([\"TUCASEID\", \"TUACTDUR24\"])\n",
    "#atus_2004_all_res_p18_24"
   ]
  },
  {
   "cell_type": "code",
   "execution_count": 17,
   "metadata": {},
   "outputs": [],
   "source": [
    "atus_2004_all_res_p18_24_merge = pd.merge(atus_2004_all_res_p18_24, multi_resp, on= \"TUCASEID\").filter([\"TUCASEID\",\"TUACTDUR24\",\"TUFNWGTP\"])\n",
    "atus_2004_all_res_p18_24_merge[\"Multiplied Weight\"] = atus_2004_all_res_p18_24_merge[\"TUACTDUR24\"] * atus_2004_all_res_p18_24_merge[\"TUFNWGTP\"]\n",
    "#atus_2004_all_res_p18_24_merge"
   ]
  },
  {
   "cell_type": "code",
   "execution_count": 18,
   "metadata": {},
   "outputs": [],
   "source": [
    "p18_24_2004 = multi_merged_p18_24loyed[multi_merged_p18_24loyed[\"TUCASEID\"].apply(str).str.startswith(\"2004\")]\n",
    "atus_2004_p18_24_weight = p18_24_2004.drop_duplicates(subset=[\"TUCASEID\"])\n",
    "atus_2004_p18_24_weight = atus_2004_p18_24_weight[\"TUFNWGTP\"].sum()\n",
    "\n",
    "atus_2004_all_res_p18_24_multiplied_weight = atus_2004_all_res_p18_24_merge[\"Multiplied Weight\"].sum()"
   ]
  },
  {
   "cell_type": "code",
   "execution_count": 19,
   "metadata": {},
   "outputs": [
    {
     "data": {
      "text/plain": [
       "16.655371887204883"
      ]
     },
     "execution_count": 19,
     "metadata": {},
     "output_type": "execute_result"
    }
   ],
   "source": [
    "all_act_2004_res_p18_24_hpd = atus_2004_all_res_p18_24_multiplied_weight / atus_2004_p18_24_weight / 60\n",
    "all_act_2004_res_p18_24_hpd"
   ]
  },
  {
   "cell_type": "markdown",
   "metadata": {},
   "source": [
    "### 2005 All Residential Activities - Age Between 18 and 24  Population"
   ]
  },
  {
   "cell_type": "code",
   "execution_count": 20,
   "metadata": {},
   "outputs": [],
   "source": [
    "atus_2005_all_res_p18_24 = atus_2005_res_p18_24.groupby([\"TUCASEID\"]).sum().filter([\"TUCASEID\", \"TUACTDUR24\"])\n",
    "#atus_2005_all_res_p18_24"
   ]
  },
  {
   "cell_type": "code",
   "execution_count": 21,
   "metadata": {},
   "outputs": [],
   "source": [
    "atus_2005_all_res_p18_24_merge = pd.merge(atus_2005_all_res_p18_24, multi_resp, on= \"TUCASEID\").filter([\"TUCASEID\",\"TUACTDUR24\",\"TUFNWGTP\"])\n",
    "atus_2005_all_res_p18_24_merge[\"Multiplied Weight\"] = atus_2005_all_res_p18_24_merge[\"TUACTDUR24\"] * atus_2005_all_res_p18_24_merge[\"TUFNWGTP\"]\n",
    "#atus_2005_all_res_p18_24_merge"
   ]
  },
  {
   "cell_type": "code",
   "execution_count": 22,
   "metadata": {},
   "outputs": [],
   "source": [
    "p18_24_2005 = multi_merged_p18_24loyed[multi_merged_p18_24loyed[\"TUCASEID\"].apply(str).str.startswith(\"2005\")]\n",
    "atus_2005_p18_24_weight = p18_24_2005.drop_duplicates(subset=[\"TUCASEID\"])\n",
    "atus_2005_p18_24_weight = atus_2005_p18_24_weight[\"TUFNWGTP\"].sum()\n",
    "\n",
    "atus_2005_all_res_p18_24_multiplied_weight = atus_2005_all_res_p18_24_merge[\"Multiplied Weight\"].sum()"
   ]
  },
  {
   "cell_type": "code",
   "execution_count": 23,
   "metadata": {},
   "outputs": [
    {
     "data": {
      "text/plain": [
       "16.787790630695717"
      ]
     },
     "execution_count": 23,
     "metadata": {},
     "output_type": "execute_result"
    }
   ],
   "source": [
    "all_act_2005_res_p18_24_hpd = atus_2005_all_res_p18_24_multiplied_weight / atus_2005_p18_24_weight / 60\n",
    "all_act_2005_res_p18_24_hpd"
   ]
  },
  {
   "cell_type": "markdown",
   "metadata": {},
   "source": [
    "### 2006 All Residential Activities - Age Between 18 and 24  Population"
   ]
  },
  {
   "cell_type": "code",
   "execution_count": 24,
   "metadata": {},
   "outputs": [],
   "source": [
    "atus_2006_all_res_p18_24 = atus_2006_res_p18_24.groupby([\"TUCASEID\"]).sum().filter([\"TUCASEID\", \"TUACTDUR24\"])\n",
    "#atus_2006_all_res_p18_24"
   ]
  },
  {
   "cell_type": "code",
   "execution_count": 25,
   "metadata": {},
   "outputs": [],
   "source": [
    "atus_2006_all_res_p18_24_merge = pd.merge(atus_2006_all_res_p18_24, multi_resp, on= \"TUCASEID\").filter([\"TUCASEID\",\"TUACTDUR24\",\"TUFNWGTP\"])\n",
    "atus_2006_all_res_p18_24_merge[\"Multiplied Weight\"] = atus_2006_all_res_p18_24_merge[\"TUACTDUR24\"] * atus_2006_all_res_p18_24_merge[\"TUFNWGTP\"]\n",
    "#atus_2006_all_res_p18_24_merge"
   ]
  },
  {
   "cell_type": "code",
   "execution_count": 26,
   "metadata": {},
   "outputs": [],
   "source": [
    "p18_24_2006 = multi_merged_p18_24loyed[multi_merged_p18_24loyed[\"TUCASEID\"].apply(str).str.startswith(\"2006\")]\n",
    "atus_2006_p18_24_weight = p18_24_2006.drop_duplicates(subset=[\"TUCASEID\"])\n",
    "atus_2006_p18_24_weight = atus_2006_p18_24_weight[\"TUFNWGTP\"].sum()\n",
    "\n",
    "atus_2006_all_res_p18_24_multiplied_weight = atus_2006_all_res_p18_24_merge[\"Multiplied Weight\"].sum()"
   ]
  },
  {
   "cell_type": "code",
   "execution_count": 27,
   "metadata": {},
   "outputs": [
    {
     "data": {
      "text/plain": [
       "16.16793865876902"
      ]
     },
     "execution_count": 27,
     "metadata": {},
     "output_type": "execute_result"
    }
   ],
   "source": [
    "all_act_2006_res_p18_24_hpd = atus_2006_all_res_p18_24_multiplied_weight / atus_2006_p18_24_weight / 60\n",
    "all_act_2006_res_p18_24_hpd"
   ]
  },
  {
   "cell_type": "markdown",
   "metadata": {},
   "source": [
    "### 2007 All Residential Activities - Age Between 18 and 24  Population"
   ]
  },
  {
   "cell_type": "code",
   "execution_count": 28,
   "metadata": {},
   "outputs": [],
   "source": [
    "atus_2007_all_res_p18_24 = atus_2007_res_p18_24.groupby([\"TUCASEID\"]).sum().filter([\"TUCASEID\", \"TUACTDUR24\"])\n",
    "#atus_2007_all_res_p18_24"
   ]
  },
  {
   "cell_type": "code",
   "execution_count": 29,
   "metadata": {},
   "outputs": [],
   "source": [
    "atus_2007_all_res_p18_24_merge = pd.merge(atus_2007_all_res_p18_24, multi_resp, on= \"TUCASEID\").filter([\"TUCASEID\",\"TUACTDUR24\",\"TUFNWGTP\"])\n",
    "atus_2007_all_res_p18_24_merge[\"Multiplied Weight\"] = atus_2007_all_res_p18_24_merge[\"TUACTDUR24\"] * atus_2007_all_res_p18_24_merge[\"TUFNWGTP\"]\n",
    "#atus_2007_all_res_p18_24_merge"
   ]
  },
  {
   "cell_type": "code",
   "execution_count": 30,
   "metadata": {},
   "outputs": [],
   "source": [
    "p18_24_2007 = multi_merged_p18_24loyed[multi_merged_p18_24loyed[\"TUCASEID\"].apply(str).str.startswith(\"2007\")]\n",
    "atus_2007_p18_24_weight = p18_24_2007.drop_duplicates(subset=[\"TUCASEID\"])\n",
    "atus_2007_p18_24_weight = atus_2007_p18_24_weight[\"TUFNWGTP\"].sum()\n",
    "\n",
    "atus_2007_all_res_p18_24_multiplied_weight = atus_2007_all_res_p18_24_merge[\"Multiplied Weight\"].sum()"
   ]
  },
  {
   "cell_type": "code",
   "execution_count": 31,
   "metadata": {},
   "outputs": [
    {
     "data": {
      "text/plain": [
       "16.081000419950133"
      ]
     },
     "execution_count": 31,
     "metadata": {},
     "output_type": "execute_result"
    }
   ],
   "source": [
    "all_act_2007_res_p18_24_hpd = atus_2007_all_res_p18_24_multiplied_weight / atus_2007_p18_24_weight / 60\n",
    "all_act_2007_res_p18_24_hpd"
   ]
  },
  {
   "cell_type": "markdown",
   "metadata": {},
   "source": [
    "### 2008 All Residential Activities - Age Between 18 and 24  Population"
   ]
  },
  {
   "cell_type": "code",
   "execution_count": 32,
   "metadata": {},
   "outputs": [],
   "source": [
    "atus_2008_all_res_p18_24 = atus_2008_res_p18_24.groupby([\"TUCASEID\"]).sum().filter([\"TUCASEID\", \"TUACTDUR24\"])\n",
    "#atus_2008_all_res_p18_24"
   ]
  },
  {
   "cell_type": "code",
   "execution_count": 33,
   "metadata": {},
   "outputs": [],
   "source": [
    "atus_2008_all_res_p18_24_merge = pd.merge(atus_2008_all_res_p18_24, multi_resp, on= \"TUCASEID\").filter([\"TUCASEID\",\"TUACTDUR24\",\"TUFNWGTP\"])\n",
    "atus_2008_all_res_p18_24_merge[\"Multiplied Weight\"] = atus_2008_all_res_p18_24_merge[\"TUACTDUR24\"] * atus_2008_all_res_p18_24_merge[\"TUFNWGTP\"]\n",
    "#atus_2008_all_res_p18_24_merge"
   ]
  },
  {
   "cell_type": "code",
   "execution_count": 34,
   "metadata": {},
   "outputs": [],
   "source": [
    "p18_24_2008 = multi_merged_p18_24loyed[multi_merged_p18_24loyed[\"TUCASEID\"].apply(str).str.startswith(\"2008\")]\n",
    "atus_2008_p18_24_weight = p18_24_2008.drop_duplicates(subset=[\"TUCASEID\"])\n",
    "atus_2008_p18_24_weight = atus_2008_p18_24_weight[\"TUFNWGTP\"].sum()\n",
    "\n",
    "atus_2008_all_res_p18_24_multiplied_weight = atus_2008_all_res_p18_24_merge[\"Multiplied Weight\"].sum()"
   ]
  },
  {
   "cell_type": "code",
   "execution_count": 35,
   "metadata": {},
   "outputs": [
    {
     "data": {
      "text/plain": [
       "16.51997126874162"
      ]
     },
     "execution_count": 35,
     "metadata": {},
     "output_type": "execute_result"
    }
   ],
   "source": [
    "all_act_2008_res_p18_24_hpd = atus_2008_all_res_p18_24_multiplied_weight / atus_2008_p18_24_weight / 60\n",
    "all_act_2008_res_p18_24_hpd"
   ]
  },
  {
   "cell_type": "markdown",
   "metadata": {},
   "source": [
    "### 2009 All Residential Activities - Age Between 18 and 24  Population"
   ]
  },
  {
   "cell_type": "code",
   "execution_count": 36,
   "metadata": {},
   "outputs": [],
   "source": [
    "atus_2009_all_res_p18_24 = atus_2009_res_p18_24.groupby([\"TUCASEID\"]).sum().filter([\"TUCASEID\", \"TUACTDUR24\"])\n",
    "#atus_2009_all_res_p18_24"
   ]
  },
  {
   "cell_type": "code",
   "execution_count": 37,
   "metadata": {},
   "outputs": [],
   "source": [
    "atus_2009_all_res_p18_24_merge = pd.merge(atus_2009_all_res_p18_24, multi_resp, on= \"TUCASEID\").filter([\"TUCASEID\",\"TUACTDUR24\",\"TUFNWGTP\"])\n",
    "atus_2009_all_res_p18_24_merge[\"Multiplied Weight\"] = atus_2009_all_res_p18_24_merge[\"TUACTDUR24\"] * atus_2009_all_res_p18_24_merge[\"TUFNWGTP\"]\n",
    "#atus_2009_all_res_p18_24_merge"
   ]
  },
  {
   "cell_type": "code",
   "execution_count": 38,
   "metadata": {},
   "outputs": [],
   "source": [
    "p18_24_2009 = multi_merged_p18_24loyed[multi_merged_p18_24loyed[\"TUCASEID\"].apply(str).str.startswith(\"2009\")]\n",
    "atus_2009_p18_24_weight = p18_24_2009.drop_duplicates(subset=[\"TUCASEID\"])\n",
    "atus_2009_p18_24_weight = atus_2009_p18_24_weight[\"TUFNWGTP\"].sum()\n",
    "\n",
    "atus_2009_all_res_p18_24_multiplied_weight = atus_2009_all_res_p18_24_merge[\"Multiplied Weight\"].sum()"
   ]
  },
  {
   "cell_type": "code",
   "execution_count": 39,
   "metadata": {},
   "outputs": [
    {
     "data": {
      "text/plain": [
       "16.91281714194202"
      ]
     },
     "execution_count": 39,
     "metadata": {},
     "output_type": "execute_result"
    }
   ],
   "source": [
    "all_act_2009_res_p18_24_hpd = atus_2009_all_res_p18_24_multiplied_weight / atus_2009_p18_24_weight / 60\n",
    "all_act_2009_res_p18_24_hpd"
   ]
  },
  {
   "cell_type": "markdown",
   "metadata": {},
   "source": [
    "### 2010 All Residential Activities - Age Between 18 and 24  Population"
   ]
  },
  {
   "cell_type": "code",
   "execution_count": 40,
   "metadata": {},
   "outputs": [],
   "source": [
    "atus_2010_all_res_p18_24 = atus_2010_res_p18_24.groupby([\"TUCASEID\"]).sum().filter([\"TUCASEID\", \"TUACTDUR24\"])\n",
    "#atus_2010_all_res_p18_24"
   ]
  },
  {
   "cell_type": "code",
   "execution_count": 41,
   "metadata": {},
   "outputs": [],
   "source": [
    "atus_2010_all_res_p18_24_merge = pd.merge(atus_2010_all_res_p18_24, multi_resp, on= \"TUCASEID\").filter([\"TUCASEID\",\"TUACTDUR24\",\"TUFNWGTP\"])\n",
    "atus_2010_all_res_p18_24_merge[\"Multiplied Weight\"] = atus_2010_all_res_p18_24_merge[\"TUACTDUR24\"] * atus_2010_all_res_p18_24_merge[\"TUFNWGTP\"]\n",
    "#atus_2010_all_res_p18_24_merge"
   ]
  },
  {
   "cell_type": "code",
   "execution_count": 42,
   "metadata": {},
   "outputs": [],
   "source": [
    "p18_24_2010 = multi_merged_p18_24loyed[multi_merged_p18_24loyed[\"TUCASEID\"].apply(str).str.startswith(\"2010\")]\n",
    "atus_2010_p18_24_weight = p18_24_2010.drop_duplicates(subset=[\"TUCASEID\"])\n",
    "atus_2010_p18_24_weight = atus_2010_p18_24_weight[\"TUFNWGTP\"].sum()\n",
    "\n",
    "atus_2010_all_res_p18_24_multiplied_weight = atus_2010_all_res_p18_24_merge[\"Multiplied Weight\"].sum()"
   ]
  },
  {
   "cell_type": "code",
   "execution_count": 43,
   "metadata": {},
   "outputs": [
    {
     "data": {
      "text/plain": [
       "17.208172306931168"
      ]
     },
     "execution_count": 43,
     "metadata": {},
     "output_type": "execute_result"
    }
   ],
   "source": [
    "all_act_2010_res_p18_24_hpd = atus_2010_all_res_p18_24_multiplied_weight / atus_2010_p18_24_weight / 60\n",
    "all_act_2010_res_p18_24_hpd"
   ]
  },
  {
   "cell_type": "markdown",
   "metadata": {},
   "source": [
    "### 2011 All Residential Activities - Age Between 18 and 24  Population"
   ]
  },
  {
   "cell_type": "code",
   "execution_count": 44,
   "metadata": {},
   "outputs": [],
   "source": [
    "atus_2011_all_res_p18_24 = atus_2011_res_p18_24.groupby([\"TUCASEID\"]).sum().filter([\"TUCASEID\", \"TUACTDUR24\"])\n",
    "#atus_2011_all_res_p18_24"
   ]
  },
  {
   "cell_type": "code",
   "execution_count": 45,
   "metadata": {},
   "outputs": [],
   "source": [
    "atus_2011_all_res_p18_24_merge = pd.merge(atus_2011_all_res_p18_24, multi_resp, on= \"TUCASEID\").filter([\"TUCASEID\",\"TUACTDUR24\",\"TUFNWGTP\"])\n",
    "atus_2011_all_res_p18_24_merge[\"Multiplied Weight\"] = atus_2011_all_res_p18_24_merge[\"TUACTDUR24\"] * atus_2011_all_res_p18_24_merge[\"TUFNWGTP\"]\n",
    "#atus_2011_all_res_p18_24_merge"
   ]
  },
  {
   "cell_type": "code",
   "execution_count": 46,
   "metadata": {},
   "outputs": [],
   "source": [
    "atus_2011_all_res_p18_24_merge = pd.merge(atus_2011_all_res_p18_24, multi_resp, on= \"TUCASEID\").filter([\"TUCASEID\",\"TUACTDUR24\",\"TUFNWGTP\"])\n",
    "atus_2011_all_res_p18_24_merge[\"Multiplied Weight\"] = atus_2011_all_res_p18_24_merge[\"TUACTDUR24\"] * atus_2011_all_res_p18_24_merge[\"TUFNWGTP\"]\n",
    "#atus_2011_all_res_p18_24_merge"
   ]
  },
  {
   "cell_type": "code",
   "execution_count": 47,
   "metadata": {},
   "outputs": [],
   "source": [
    "p18_24_2011 = multi_merged_p18_24loyed[multi_merged_p18_24loyed[\"TUCASEID\"].apply(str).str.startswith(\"2011\")]\n",
    "atus_2011_p18_24_weight = p18_24_2011.drop_duplicates(subset=[\"TUCASEID\"])\n",
    "atus_2011_p18_24_weight = atus_2011_p18_24_weight[\"TUFNWGTP\"].sum()\n",
    "\n",
    "atus_2011_all_res_p18_24_multiplied_weight = atus_2011_all_res_p18_24_merge[\"Multiplied Weight\"].sum()"
   ]
  },
  {
   "cell_type": "code",
   "execution_count": 48,
   "metadata": {},
   "outputs": [
    {
     "data": {
      "text/plain": [
       "17.105612465669356"
      ]
     },
     "execution_count": 48,
     "metadata": {},
     "output_type": "execute_result"
    }
   ],
   "source": [
    "all_act_2011_res_p18_24_hpd = atus_2011_all_res_p18_24_multiplied_weight / atus_2011_p18_24_weight / 60\n",
    "all_act_2011_res_p18_24_hpd"
   ]
  },
  {
   "cell_type": "markdown",
   "metadata": {},
   "source": [
    "### 2012 All Residential Activities - Age Between 18 and 24  Population"
   ]
  },
  {
   "cell_type": "code",
   "execution_count": 49,
   "metadata": {},
   "outputs": [],
   "source": [
    "atus_2012_all_res_p18_24 = atus_2012_res_p18_24.groupby([\"TUCASEID\"]).sum().filter([\"TUCASEID\", \"TUACTDUR24\"])\n",
    "#atus_2012_all_res_p18_24"
   ]
  },
  {
   "cell_type": "code",
   "execution_count": 50,
   "metadata": {},
   "outputs": [],
   "source": [
    "atus_2012_all_res_p18_24_merge = pd.merge(atus_2012_all_res_p18_24, multi_resp, on= \"TUCASEID\").filter([\"TUCASEID\",\"TUACTDUR24\",\"TUFNWGTP\"])\n",
    "atus_2012_all_res_p18_24_merge[\"Multiplied Weight\"] = atus_2012_all_res_p18_24_merge[\"TUACTDUR24\"] * atus_2012_all_res_p18_24_merge[\"TUFNWGTP\"]\n",
    "#atus_2012_all_res_p18_24_merge"
   ]
  },
  {
   "cell_type": "code",
   "execution_count": 51,
   "metadata": {},
   "outputs": [],
   "source": [
    "atus_2012_all_res_p18_24_merge = pd.merge(atus_2012_all_res_p18_24, multi_resp, on= \"TUCASEID\").filter([\"TUCASEID\",\"TUACTDUR24\",\"TUFNWGTP\"])\n",
    "atus_2012_all_res_p18_24_merge[\"Multiplied Weight\"] = atus_2012_all_res_p18_24_merge[\"TUACTDUR24\"] * atus_2012_all_res_p18_24_merge[\"TUFNWGTP\"]\n",
    "#atus_2012_all_res_p18_24_merge"
   ]
  },
  {
   "cell_type": "code",
   "execution_count": 52,
   "metadata": {},
   "outputs": [],
   "source": [
    "p18_24_2012 = multi_merged_p18_24loyed[multi_merged_p18_24loyed[\"TUCASEID\"].apply(str).str.startswith(\"2012\")]\n",
    "atus_2012_p18_24_weight = p18_24_2012.drop_duplicates(subset=[\"TUCASEID\"])\n",
    "atus_2012_p18_24_weight = atus_2012_p18_24_weight[\"TUFNWGTP\"].sum()\n",
    "\n",
    "atus_2012_all_res_p18_24_multiplied_weight = atus_2012_all_res_p18_24_merge[\"Multiplied Weight\"].sum()"
   ]
  },
  {
   "cell_type": "code",
   "execution_count": 53,
   "metadata": {},
   "outputs": [
    {
     "data": {
      "text/plain": [
       "17.246259821956617"
      ]
     },
     "execution_count": 53,
     "metadata": {},
     "output_type": "execute_result"
    }
   ],
   "source": [
    "all_act_2012_res_p18_24_hpd = atus_2012_all_res_p18_24_multiplied_weight / atus_2012_p18_24_weight / 60\n",
    "all_act_2012_res_p18_24_hpd"
   ]
  },
  {
   "cell_type": "markdown",
   "metadata": {},
   "source": [
    "### 2013 All Residential Activities - Age Between 18 and 24  Population"
   ]
  },
  {
   "cell_type": "code",
   "execution_count": 54,
   "metadata": {},
   "outputs": [],
   "source": [
    "atus_2013_all_res_p18_24 = atus_2013_res_p18_24.groupby([\"TUCASEID\"]).sum().filter([\"TUCASEID\", \"TUACTDUR24\"])\n",
    "#atus_2013_all_res_p18_24"
   ]
  },
  {
   "cell_type": "code",
   "execution_count": 55,
   "metadata": {},
   "outputs": [],
   "source": [
    "atus_2013_all_res_p18_24_merge = pd.merge(atus_2013_all_res_p18_24, multi_resp, on= \"TUCASEID\").filter([\"TUCASEID\",\"TUACTDUR24\",\"TUFNWGTP\"])\n",
    "atus_2013_all_res_p18_24_merge[\"Multiplied Weight\"] = atus_2013_all_res_p18_24_merge[\"TUACTDUR24\"] * atus_2013_all_res_p18_24_merge[\"TUFNWGTP\"]\n",
    "#atus_2013_all_res_p18_24_merge"
   ]
  },
  {
   "cell_type": "code",
   "execution_count": 56,
   "metadata": {},
   "outputs": [],
   "source": [
    "atus_2013_all_res_p18_24_merge = pd.merge(atus_2013_all_res_p18_24, multi_resp, on= \"TUCASEID\").filter([\"TUCASEID\",\"TUACTDUR24\",\"TUFNWGTP\"])\n",
    "atus_2013_all_res_p18_24_merge[\"Multiplied Weight\"] = atus_2013_all_res_p18_24_merge[\"TUACTDUR24\"] * atus_2013_all_res_p18_24_merge[\"TUFNWGTP\"]\n",
    "#atus_2013_all_res_p18_24_merge"
   ]
  },
  {
   "cell_type": "code",
   "execution_count": 57,
   "metadata": {},
   "outputs": [],
   "source": [
    "p18_24_2013 = multi_merged_p18_24loyed[multi_merged_p18_24loyed[\"TUCASEID\"].apply(str).str.startswith(\"2013\")]\n",
    "atus_2013_p18_24_weight = p18_24_2013.drop_duplicates(subset=[\"TUCASEID\"])\n",
    "atus_2013_p18_24_weight = atus_2013_p18_24_weight[\"TUFNWGTP\"].sum()\n",
    "\n",
    "atus_2013_all_res_p18_24_multiplied_weight = atus_2013_all_res_p18_24_merge[\"Multiplied Weight\"].sum()"
   ]
  },
  {
   "cell_type": "code",
   "execution_count": 58,
   "metadata": {},
   "outputs": [
    {
     "data": {
      "text/plain": [
       "16.99522369782626"
      ]
     },
     "execution_count": 58,
     "metadata": {},
     "output_type": "execute_result"
    }
   ],
   "source": [
    "all_act_2013_res_p18_24_hpd = atus_2013_all_res_p18_24_multiplied_weight / atus_2013_p18_24_weight / 60\n",
    "all_act_2013_res_p18_24_hpd"
   ]
  },
  {
   "cell_type": "markdown",
   "metadata": {},
   "source": [
    "### 2014 All Residential Activities - Age Between 18 and 24  Population"
   ]
  },
  {
   "cell_type": "code",
   "execution_count": 59,
   "metadata": {},
   "outputs": [],
   "source": [
    "atus_2014_all_res_p18_24 = atus_2014_res_p18_24.groupby([\"TUCASEID\"]).sum().filter([\"TUCASEID\", \"TUACTDUR24\"])\n",
    "#atus_2014_all_res_p18_24"
   ]
  },
  {
   "cell_type": "code",
   "execution_count": 60,
   "metadata": {},
   "outputs": [],
   "source": [
    "atus_2014_all_res_p18_24_merge = pd.merge(atus_2014_all_res_p18_24, multi_resp, on= \"TUCASEID\").filter([\"TUCASEID\",\"TUACTDUR24\",\"TUFNWGTP\"])\n",
    "atus_2014_all_res_p18_24_merge[\"Multiplied Weight\"] = atus_2014_all_res_p18_24_merge[\"TUACTDUR24\"] * atus_2014_all_res_p18_24_merge[\"TUFNWGTP\"]\n",
    "#atus_2014_all_res_p18_24_merge"
   ]
  },
  {
   "cell_type": "code",
   "execution_count": 61,
   "metadata": {},
   "outputs": [],
   "source": [
    "atus_2014_all_res_p18_24_merge = pd.merge(atus_2014_all_res_p18_24, multi_resp, on= \"TUCASEID\").filter([\"TUCASEID\",\"TUACTDUR24\",\"TUFNWGTP\"])\n",
    "atus_2014_all_res_p18_24_merge[\"Multiplied Weight\"] = atus_2014_all_res_p18_24_merge[\"TUACTDUR24\"] * atus_2014_all_res_p18_24_merge[\"TUFNWGTP\"]\n",
    "#atus_2014_all_res_p18_24_merge"
   ]
  },
  {
   "cell_type": "code",
   "execution_count": 62,
   "metadata": {},
   "outputs": [],
   "source": [
    "p18_24_2014 = multi_merged_p18_24loyed[multi_merged_p18_24loyed[\"TUCASEID\"].apply(str).str.startswith(\"2014\")]\n",
    "atus_2014_p18_24_weight = p18_24_2014.drop_duplicates(subset=[\"TUCASEID\"])\n",
    "atus_2014_p18_24_weight = atus_2014_p18_24_weight[\"TUFNWGTP\"].sum()\n",
    "\n",
    "atus_2014_all_res_p18_24_multiplied_weight = atus_2014_all_res_p18_24_merge[\"Multiplied Weight\"].sum()"
   ]
  },
  {
   "cell_type": "code",
   "execution_count": 63,
   "metadata": {},
   "outputs": [
    {
     "data": {
      "text/plain": [
       "17.19725457585849"
      ]
     },
     "execution_count": 63,
     "metadata": {},
     "output_type": "execute_result"
    }
   ],
   "source": [
    "all_act_2014_res_p18_24_hpd = atus_2014_all_res_p18_24_multiplied_weight / atus_2014_p18_24_weight / 60\n",
    "all_act_2014_res_p18_24_hpd"
   ]
  },
  {
   "cell_type": "markdown",
   "metadata": {},
   "source": [
    "### 2015 All Residential Activities - Age Between 18 and 24  Population"
   ]
  },
  {
   "cell_type": "code",
   "execution_count": 64,
   "metadata": {},
   "outputs": [],
   "source": [
    "atus_2015_all_res_p18_24 = atus_2015_res_p18_24.groupby([\"TUCASEID\"]).sum().filter([\"TUCASEID\", \"TUACTDUR24\"])\n",
    "#atus_2015_all_res_p18_24"
   ]
  },
  {
   "cell_type": "code",
   "execution_count": 65,
   "metadata": {},
   "outputs": [],
   "source": [
    "atus_2015_all_res_p18_24_merge = pd.merge(atus_2015_all_res_p18_24, multi_resp, on= \"TUCASEID\").filter([\"TUCASEID\",\"TUACTDUR24\",\"TUFNWGTP\"])\n",
    "atus_2015_all_res_p18_24_merge[\"Multiplied Weight\"] = atus_2015_all_res_p18_24_merge[\"TUACTDUR24\"] * atus_2015_all_res_p18_24_merge[\"TUFNWGTP\"]\n",
    "#atus_2015_all_res_p18_24_merge"
   ]
  },
  {
   "cell_type": "code",
   "execution_count": 66,
   "metadata": {},
   "outputs": [],
   "source": [
    "atus_2015_all_res_p18_24_merge = pd.merge(atus_2015_all_res_p18_24, multi_resp, on= \"TUCASEID\").filter([\"TUCASEID\",\"TUACTDUR24\",\"TUFNWGTP\"])\n",
    "atus_2015_all_res_p18_24_merge[\"Multiplied Weight\"] = atus_2015_all_res_p18_24_merge[\"TUACTDUR24\"] * atus_2015_all_res_p18_24_merge[\"TUFNWGTP\"]\n",
    "#atus_2015_all_res_p18_24_merge"
   ]
  },
  {
   "cell_type": "code",
   "execution_count": 67,
   "metadata": {},
   "outputs": [],
   "source": [
    "p18_24_2015 = multi_merged_p18_24loyed[multi_merged_p18_24loyed[\"TUCASEID\"].apply(str).str.startswith(\"2015\")]\n",
    "atus_2015_p18_24_weight = p18_24_2015.drop_duplicates(subset=[\"TUCASEID\"])\n",
    "atus_2015_p18_24_weight = atus_2015_p18_24_weight[\"TUFNWGTP\"].sum()\n",
    "\n",
    "atus_2015_all_res_p18_24_multiplied_weight = atus_2015_all_res_p18_24_merge[\"Multiplied Weight\"].sum()"
   ]
  },
  {
   "cell_type": "code",
   "execution_count": 68,
   "metadata": {},
   "outputs": [
    {
     "data": {
      "text/plain": [
       "17.008304597889715"
      ]
     },
     "execution_count": 68,
     "metadata": {},
     "output_type": "execute_result"
    }
   ],
   "source": [
    "all_act_2015_res_p18_24_hpd = atus_2015_all_res_p18_24_multiplied_weight / atus_2015_p18_24_weight / 60\n",
    "all_act_2015_res_p18_24_hpd"
   ]
  },
  {
   "cell_type": "markdown",
   "metadata": {},
   "source": [
    "### 2016 All Residential Activities - Age Between 18 and 24  Population"
   ]
  },
  {
   "cell_type": "code",
   "execution_count": 69,
   "metadata": {},
   "outputs": [],
   "source": [
    "atus_2016_all_res_p18_24 = atus_2016_res_p18_24.groupby([\"TUCASEID\"]).sum().filter([\"TUCASEID\", \"TUACTDUR24\"])\n",
    "#atus_2016_all_res_p18_24"
   ]
  },
  {
   "cell_type": "code",
   "execution_count": 70,
   "metadata": {},
   "outputs": [],
   "source": [
    "atus_2016_all_res_p18_24_merge = pd.merge(atus_2016_all_res_p18_24, multi_resp, on= \"TUCASEID\").filter([\"TUCASEID\",\"TUACTDUR24\",\"TUFNWGTP\"])\n",
    "atus_2016_all_res_p18_24_merge[\"Multiplied Weight\"] = atus_2016_all_res_p18_24_merge[\"TUACTDUR24\"] * atus_2016_all_res_p18_24_merge[\"TUFNWGTP\"]\n",
    "#atus_2016_all_res_p18_24_merge"
   ]
  },
  {
   "cell_type": "code",
   "execution_count": 71,
   "metadata": {},
   "outputs": [],
   "source": [
    "atus_2016_all_res_p18_24_merge = pd.merge(atus_2016_all_res_p18_24, multi_resp, on= \"TUCASEID\").filter([\"TUCASEID\",\"TUACTDUR24\",\"TUFNWGTP\"])\n",
    "atus_2016_all_res_p18_24_merge[\"Multiplied Weight\"] = atus_2016_all_res_p18_24_merge[\"TUACTDUR24\"] * atus_2016_all_res_p18_24_merge[\"TUFNWGTP\"]\n",
    "#atus_2016_all_res_p18_24_merge"
   ]
  },
  {
   "cell_type": "code",
   "execution_count": 72,
   "metadata": {},
   "outputs": [],
   "source": [
    "p18_24_2016 = multi_merged_p18_24loyed[multi_merged_p18_24loyed[\"TUCASEID\"].apply(str).str.startswith(\"2016\")]\n",
    "atus_2016_p18_24_weight = p18_24_2016.drop_duplicates(subset=[\"TUCASEID\"])\n",
    "atus_2016_p18_24_weight = atus_2016_p18_24_weight[\"TUFNWGTP\"].sum()\n",
    "\n",
    "atus_2016_all_res_p18_24_multiplied_weight = atus_2016_all_res_p18_24_merge[\"Multiplied Weight\"].sum()"
   ]
  },
  {
   "cell_type": "code",
   "execution_count": 73,
   "metadata": {},
   "outputs": [
    {
     "data": {
      "text/plain": [
       "17.075190855344566"
      ]
     },
     "execution_count": 73,
     "metadata": {},
     "output_type": "execute_result"
    }
   ],
   "source": [
    "all_act_2016_res_p18_24_hpd = atus_2016_all_res_p18_24_multiplied_weight / atus_2016_p18_24_weight / 60\n",
    "all_act_2016_res_p18_24_hpd"
   ]
  },
  {
   "cell_type": "markdown",
   "metadata": {},
   "source": [
    "### 2017 All Residential Activities - Age Between 18 and 24  Population"
   ]
  },
  {
   "cell_type": "code",
   "execution_count": 74,
   "metadata": {},
   "outputs": [],
   "source": [
    "atus_2017_all_res_p18_24 = atus_2017_res_p18_24.groupby([\"TUCASEID\"]).sum().filter([\"TUCASEID\", \"TUACTDUR24\"])\n",
    "#atus_2017_all_res_p18_24"
   ]
  },
  {
   "cell_type": "code",
   "execution_count": 75,
   "metadata": {},
   "outputs": [],
   "source": [
    "atus_2017_all_res_p18_24_merge = pd.merge(atus_2017_all_res_p18_24, multi_resp, on= \"TUCASEID\").filter([\"TUCASEID\",\"TUACTDUR24\",\"TUFNWGTP\"])\n",
    "atus_2017_all_res_p18_24_merge[\"Multiplied Weight\"] = atus_2017_all_res_p18_24_merge[\"TUACTDUR24\"] * atus_2017_all_res_p18_24_merge[\"TUFNWGTP\"]\n",
    "#atus_2017_all_res_p18_24_merge"
   ]
  },
  {
   "cell_type": "code",
   "execution_count": 76,
   "metadata": {},
   "outputs": [],
   "source": [
    "atus_2017_all_res_p18_24_merge = pd.merge(atus_2017_all_res_p18_24, multi_resp, on= \"TUCASEID\").filter([\"TUCASEID\",\"TUACTDUR24\",\"TUFNWGTP\"])\n",
    "atus_2017_all_res_p18_24_merge[\"Multiplied Weight\"] = atus_2017_all_res_p18_24_merge[\"TUACTDUR24\"] * atus_2017_all_res_p18_24_merge[\"TUFNWGTP\"]\n",
    "#atus_2017_all_res_p18_24_merge"
   ]
  },
  {
   "cell_type": "code",
   "execution_count": 77,
   "metadata": {},
   "outputs": [],
   "source": [
    "p18_24_2017 = multi_merged_p18_24loyed[multi_merged_p18_24loyed[\"TUCASEID\"].apply(str).str.startswith(\"2017\")]\n",
    "atus_2017_p18_24_weight = p18_24_2017.drop_duplicates(subset=[\"TUCASEID\"])\n",
    "atus_2017_p18_24_weight = atus_2017_p18_24_weight[\"TUFNWGTP\"].sum()\n",
    "\n",
    "atus_2017_all_res_p18_24_multiplied_weight = atus_2017_all_res_p18_24_merge[\"Multiplied Weight\"].sum()"
   ]
  },
  {
   "cell_type": "code",
   "execution_count": 78,
   "metadata": {},
   "outputs": [
    {
     "data": {
      "text/plain": [
       "17.282487946826947"
      ]
     },
     "execution_count": 78,
     "metadata": {},
     "output_type": "execute_result"
    }
   ],
   "source": [
    "all_act_2017_res_p18_24_hpd = atus_2017_all_res_p18_24_multiplied_weight / atus_2017_p18_24_weight / 60\n",
    "all_act_2017_res_p18_24_hpd"
   ]
  },
  {
   "cell_type": "markdown",
   "metadata": {},
   "source": [
    "### 2018 All Residential Activities - Age Between 18 and 24  Population"
   ]
  },
  {
   "cell_type": "code",
   "execution_count": 79,
   "metadata": {},
   "outputs": [],
   "source": [
    "atus_2018_all_res_p18_24 = atus_2018_res_p18_24.groupby([\"TUCASEID\"]).sum().filter([\"TUCASEID\", \"TUACTDUR24\"])\n",
    "#atus_2018_all_res_p18_24"
   ]
  },
  {
   "cell_type": "code",
   "execution_count": 80,
   "metadata": {},
   "outputs": [],
   "source": [
    "atus_2018_all_res_p18_24_merge = pd.merge(atus_2018_all_res_p18_24, multi_resp, on= \"TUCASEID\").filter([\"TUCASEID\",\"TUACTDUR24\",\"TUFNWGTP\"])\n",
    "atus_2018_all_res_p18_24_merge[\"Multiplied Weight\"] = atus_2018_all_res_p18_24_merge[\"TUACTDUR24\"] * atus_2018_all_res_p18_24_merge[\"TUFNWGTP\"]\n",
    "#atus_2018_all_res_p18_24_merge"
   ]
  },
  {
   "cell_type": "code",
   "execution_count": 81,
   "metadata": {},
   "outputs": [],
   "source": [
    "atus_2018_all_res_p18_24_merge = pd.merge(atus_2018_all_res_p18_24, multi_resp, on= \"TUCASEID\").filter([\"TUCASEID\",\"TUACTDUR24\",\"TUFNWGTP\"])\n",
    "atus_2018_all_res_p18_24_merge[\"Multiplied Weight\"] = atus_2018_all_res_p18_24_merge[\"TUACTDUR24\"] * atus_2018_all_res_p18_24_merge[\"TUFNWGTP\"]\n",
    "#atus_2018_all_res_p18_24_merge"
   ]
  },
  {
   "cell_type": "code",
   "execution_count": 82,
   "metadata": {},
   "outputs": [],
   "source": [
    "p18_24_2018 = multi_merged_p18_24loyed[multi_merged_p18_24loyed[\"TUCASEID\"].apply(str).str.startswith(\"2018\")]\n",
    "atus_2018_p18_24_weight = p18_24_2018.drop_duplicates(subset=[\"TUCASEID\"])\n",
    "atus_2018_p18_24_weight = atus_2018_p18_24_weight[\"TUFNWGTP\"].sum()\n",
    "\n",
    "atus_2018_all_res_p18_24_multiplied_weight = atus_2018_all_res_p18_24_merge[\"Multiplied Weight\"].sum()"
   ]
  },
  {
   "cell_type": "code",
   "execution_count": 83,
   "metadata": {},
   "outputs": [
    {
     "data": {
      "text/plain": [
       "17.114779503925526"
      ]
     },
     "execution_count": 83,
     "metadata": {},
     "output_type": "execute_result"
    }
   ],
   "source": [
    "all_act_2018_res_p18_24_hpd = atus_2018_all_res_p18_24_multiplied_weight / atus_2018_p18_24_weight / 60\n",
    "all_act_2018_res_p18_24_hpd"
   ]
  },
  {
   "cell_type": "markdown",
   "metadata": {},
   "source": [
    "### 2019 All Residential Activities - Age Between 18 and 24  Population"
   ]
  },
  {
   "cell_type": "code",
   "execution_count": 84,
   "metadata": {},
   "outputs": [],
   "source": [
    "atus_2019_all_res_p18_24 = atus_2019_res_p18_24.groupby([\"TUCASEID\"]).sum().filter([\"TUCASEID\", \"TUACTDUR24\"])\n",
    "#atus_2019_all_res_p18_24"
   ]
  },
  {
   "cell_type": "code",
   "execution_count": 85,
   "metadata": {},
   "outputs": [],
   "source": [
    "atus_2019_all_res_p18_24_merge = pd.merge(atus_2019_all_res_p18_24, multi_resp, on= \"TUCASEID\").filter([\"TUCASEID\",\"TUACTDUR24\",\"TUFNWGTP\"])\n",
    "atus_2019_all_res_p18_24_merge[\"Multiplied Weight\"] = atus_2019_all_res_p18_24_merge[\"TUACTDUR24\"] * atus_2019_all_res_p18_24_merge[\"TUFNWGTP\"]\n",
    "#atus_2019_all_res_p18_24_merge"
   ]
  },
  {
   "cell_type": "code",
   "execution_count": 86,
   "metadata": {},
   "outputs": [],
   "source": [
    "atus_2019_all_res_p18_24_merge = pd.merge(atus_2019_all_res_p18_24, multi_resp, on= \"TUCASEID\").filter([\"TUCASEID\",\"TUACTDUR24\",\"TUFNWGTP\"])\n",
    "atus_2019_all_res_p18_24_merge[\"Multiplied Weight\"] = atus_2019_all_res_p18_24_merge[\"TUACTDUR24\"] * atus_2019_all_res_p18_24_merge[\"TUFNWGTP\"]\n",
    "#atus_2019_all_res_p18_24_merge"
   ]
  },
  {
   "cell_type": "code",
   "execution_count": 87,
   "metadata": {},
   "outputs": [],
   "source": [
    "p18_24_2019 = multi_merged_p18_24loyed[multi_merged_p18_24loyed[\"TUCASEID\"].apply(str).str.startswith(\"2019\")]\n",
    "atus_2019_p18_24_weight = p18_24_2019.drop_duplicates(subset=[\"TUCASEID\"])\n",
    "atus_2019_p18_24_weight = atus_2019_p18_24_weight[\"TUFNWGTP\"].sum()\n",
    "\n",
    "atus_2019_all_res_p18_24_multiplied_weight = atus_2019_all_res_p18_24_merge[\"Multiplied Weight\"].sum()"
   ]
  },
  {
   "cell_type": "code",
   "execution_count": 88,
   "metadata": {},
   "outputs": [
    {
     "data": {
      "text/plain": [
       "16.98160327680245"
      ]
     },
     "execution_count": 88,
     "metadata": {},
     "output_type": "execute_result"
    }
   ],
   "source": [
    "all_act_2019_res_p18_24_hpd = atus_2019_all_res_p18_24_multiplied_weight / atus_2019_p18_24_weight / 60\n",
    "all_act_2019_res_p18_24_hpd"
   ]
  },
  {
   "cell_type": "markdown",
   "metadata": {},
   "source": [
    "### Regresssion: All Residential Activity - Age Between 18 and 24  "
   ]
  },
  {
   "cell_type": "markdown",
   "metadata": {},
   "source": [
    "#### 2003 -2012 Regression "
   ]
  },
  {
   "cell_type": "code",
   "execution_count": 89,
   "metadata": {},
   "outputs": [],
   "source": [
    "year = np.array([2003, 2004, 2005, 2006, 2007, 2008, 2009, 2010,2011,2012]).reshape((-1, 1))\n",
    "activity_hours_per_day = np.array([all_act_2003_res_p18_24_hpd, all_act_2004_res_p18_24_hpd, all_act_2005_res_p18_24_hpd,\n",
    "                                   all_act_2006_res_p18_24_hpd, all_act_2007_res_p18_24_hpd, all_act_2008_res_p18_24_hpd,\n",
    "                                   all_act_2009_res_p18_24_hpd, all_act_2010_res_p18_24_hpd, all_act_2011_res_p18_24_hpd,\n",
    "                                   all_act_2012_res_p18_24_hpd]).reshape((-1, 1))\n",
    "\n",
    "activity_hours_per_yr = [i * 365 for i in activity_hours_per_day]\n",
    "#activity_hours_per_yr"
   ]
  },
  {
   "cell_type": "code",
   "execution_count": 90,
   "metadata": {},
   "outputs": [
    {
     "data": {
      "image/png": "[encoded data removed]",
      "text/plain": [
       "<Figure size 432x288 with 1 Axes>"
      ]
     },
     "metadata": {
      "needs_background": "light"
     },
     "output_type": "display_data"
    }
   ],
   "source": [
    "x = year\n",
    "y = activity_hours_per_yr\n",
    "x, y = np.array(x), np.array(y)\n",
    "\n",
    "model = LinearRegression().fit(x, y)\n",
    "\n",
    "y_pred = model.predict(x)  \n",
    "\n",
    "plt.scatter(x, y)\n",
    "plt.plot(x, y_pred, color='red')\n",
    "plt.show()"
   ]
  },
  {
   "cell_type": "code",
   "execution_count": 91,
   "metadata": {},
   "outputs": [
    {
     "data": {
      "text/plain": [
       "0.44887826894478666"
      ]
     },
     "execution_count": 91,
     "metadata": {},
     "output_type": "execute_result"
    }
   ],
   "source": [
    "coefficient_of_determination = model.score(x,y) #R sqaure value \n",
    "coefficient_of_determination"
   ]
  },
  {
   "cell_type": "code",
   "execution_count": 92,
   "metadata": {},
   "outputs": [
    {
     "data": {
      "text/plain": [
       "array([[33.35142358]])"
      ]
     },
     "execution_count": 92,
     "metadata": {},
     "output_type": "execute_result"
    }
   ],
   "source": [
    "all_act_2012_res_p18_24_slope = model.coef_\n",
    "all_act_2012_res_p18_24_slope"
   ]
  },
  {
   "cell_type": "markdown",
   "metadata": {},
   "source": [
    "#### 2003-2019 Regression"
   ]
  },
  {
   "cell_type": "code",
   "execution_count": 93,
   "metadata": {},
   "outputs": [],
   "source": [
    "year = np.array([2003, 2004, 2005, 2006, 2007, 2008, 2009, 2010,2011,2012, 2013, 2014, 2015, 2016, 2017, 2018, 2019]).reshape((-1, 1))\n",
    "activity_hours_per_day = np.array([all_act_2003_res_p18_24_hpd, all_act_2004_res_p18_24_hpd, all_act_2005_res_p18_24_hpd,\n",
    "                                   all_act_2006_res_p18_24_hpd, all_act_2007_res_p18_24_hpd, all_act_2008_res_p18_24_hpd,\n",
    "                                   all_act_2009_res_p18_24_hpd, all_act_2010_res_p18_24_hpd, all_act_2011_res_p18_24_hpd,\n",
    "                                   all_act_2012_res_p18_24_hpd, all_act_2013_res_p18_24_hpd, all_act_2014_res_p18_24_hpd,\n",
    "                                   all_act_2015_res_p18_24_hpd, all_act_2016_res_p18_24_hpd, all_act_2017_res_p18_24_hpd,\n",
    "                                   all_act_2018_res_p18_24_hpd, all_act_2019_res_p18_24_hpd]).reshape((-1, 1))\n",
    "\n",
    "activity_hours_per_yr = [i * 365 for i in activity_hours_per_day]\n",
    "#activity_hours_per_yr"
   ]
  },
  {
   "cell_type": "code",
   "execution_count": 94,
   "metadata": {},
   "outputs": [
    {
     "data": {
      "image/png": "[encoded data removed]",
      "text/plain": [
       "<Figure size 432x288 with 1 Axes>"
      ]
     },
     "metadata": {
      "needs_background": "light"
     },
     "output_type": "display_data"
    }
   ],
   "source": [
    "x = year\n",
    "y = activity_hours_per_yr\n",
    "x, y = np.array(x), np.array(y)\n",
    "\n",
    "model = LinearRegression().fit(x, y)\n",
    "\n",
    "y_pred = model.predict(x)  \n",
    "\n",
    "plt.scatter(x, y)\n",
    "plt.plot(x, y_pred, color='red')\n",
    "plt.show()"
   ]
  },
  {
   "cell_type": "code",
   "execution_count": 95,
   "metadata": {},
   "outputs": [
    {
     "data": {
      "text/plain": [
       "0.4855506765054305"
      ]
     },
     "execution_count": 95,
     "metadata": {},
     "output_type": "execute_result"
    }
   ],
   "source": [
    "coefficient_of_determination = model.score(x,y) #R sqaure value \n",
    "coefficient_of_determination"
   ]
  },
  {
   "cell_type": "code",
   "execution_count": 96,
   "metadata": {},
   "outputs": [
    {
     "data": {
      "text/plain": [
       "array([[18.69918215]])"
      ]
     },
     "execution_count": 96,
     "metadata": {},
     "output_type": "execute_result"
    }
   ],
   "source": [
    "all_act_2019_res_p18_24_slope = model.coef_\n",
    "all_act_2019_res_p18_24_slope"
   ]
  },
  {
   "cell_type": "markdown",
   "metadata": {},
   "source": [
    "### 2003-2019 NonResidential - Age Between 18 and 24 "
   ]
  },
  {
   "cell_type": "code",
   "execution_count": 97,
   "metadata": {},
   "outputs": [],
   "source": [
    "#non-residential = 2,4,5,6,7,8,9,10,11,30,31,32"
   ]
  },
  {
   "cell_type": "code",
   "execution_count": 98,
   "metadata": {},
   "outputs": [],
   "source": [
    "nonresidential_location = [2,4,5,6,7,8,9,10,11,30,31,32]\n",
    "atus_multi_yr_nonres_p18_24 = multi_merged_p18_24loyed[multi_merged_p18_24loyed[\"TEWHERE\"].isin(nonresidential_location)]\n",
    "#atus_multi_yr_res_p18_24"
   ]
  },
  {
   "cell_type": "code",
   "execution_count": 99,
   "metadata": {},
   "outputs": [],
   "source": [
    "atus_2003_nonres_p18_24 = atus_multi_yr_nonres_p18_24[atus_multi_yr_nonres_p18_24[\"TUCASEID\"].apply(str).str.startswith(\"2003\")]\n",
    "atus_2004_nonres_p18_24 = atus_multi_yr_nonres_p18_24[atus_multi_yr_nonres_p18_24[\"TUCASEID\"].apply(str).str.startswith(\"2004\")]\n",
    "atus_2005_nonres_p18_24 = atus_multi_yr_nonres_p18_24[atus_multi_yr_nonres_p18_24[\"TUCASEID\"].apply(str).str.startswith(\"2005\")]\n",
    "atus_2006_nonres_p18_24 = atus_multi_yr_nonres_p18_24[atus_multi_yr_nonres_p18_24[\"TUCASEID\"].apply(str).str.startswith(\"2006\")]\n",
    "atus_2007_nonres_p18_24 = atus_multi_yr_nonres_p18_24[atus_multi_yr_nonres_p18_24[\"TUCASEID\"].apply(str).str.startswith(\"2007\")]\n",
    "atus_2008_nonres_p18_24 = atus_multi_yr_nonres_p18_24[atus_multi_yr_nonres_p18_24[\"TUCASEID\"].apply(str).str.startswith(\"2008\")]\n",
    "atus_2009_nonres_p18_24 = atus_multi_yr_nonres_p18_24[atus_multi_yr_nonres_p18_24[\"TUCASEID\"].apply(str).str.startswith(\"2009\")]\n",
    "atus_2010_nonres_p18_24 = atus_multi_yr_nonres_p18_24[atus_multi_yr_nonres_p18_24[\"TUCASEID\"].apply(str).str.startswith(\"2010\")]\n",
    "atus_2011_nonres_p18_24 = atus_multi_yr_nonres_p18_24[atus_multi_yr_nonres_p18_24[\"TUCASEID\"].apply(str).str.startswith(\"2011\")]\n",
    "atus_2012_nonres_p18_24 = atus_multi_yr_nonres_p18_24[atus_multi_yr_nonres_p18_24[\"TUCASEID\"].apply(str).str.startswith(\"2012\")]\n",
    "atus_2013_nonres_p18_24 = atus_multi_yr_nonres_p18_24[atus_multi_yr_nonres_p18_24[\"TUCASEID\"].apply(str).str.startswith(\"2013\")]\n",
    "atus_2014_nonres_p18_24 = atus_multi_yr_nonres_p18_24[atus_multi_yr_nonres_p18_24[\"TUCASEID\"].apply(str).str.startswith(\"2014\")]\n",
    "atus_2015_nonres_p18_24 = atus_multi_yr_nonres_p18_24[atus_multi_yr_nonres_p18_24[\"TUCASEID\"].apply(str).str.startswith(\"2015\")]\n",
    "atus_2016_nonres_p18_24 = atus_multi_yr_nonres_p18_24[atus_multi_yr_nonres_p18_24[\"TUCASEID\"].apply(str).str.startswith(\"2016\")]\n",
    "atus_2017_nonres_p18_24 = atus_multi_yr_nonres_p18_24[atus_multi_yr_nonres_p18_24[\"TUCASEID\"].apply(str).str.startswith(\"2017\")]\n",
    "atus_2018_nonres_p18_24 = atus_multi_yr_nonres_p18_24[atus_multi_yr_nonres_p18_24[\"TUCASEID\"].apply(str).str.startswith(\"2018\")]\n",
    "atus_2019_nonres_p18_24 = atus_multi_yr_nonres_p18_24[atus_multi_yr_nonres_p18_24[\"TUCASEID\"].apply(str).str.startswith(\"2019\")]\n",
    "#atus_2003_nonres_p18_24"
   ]
  },
  {
   "cell_type": "markdown",
   "metadata": {},
   "source": [
    "### 2003 All Activities - NonResidential - Age Between 18 and 24 "
   ]
  },
  {
   "cell_type": "code",
   "execution_count": 100,
   "metadata": {},
   "outputs": [],
   "source": [
    "atus_2003_all_nonres_p18_24 = atus_2003_nonres_p18_24.groupby([\"TUCASEID\"]).sum().filter([\"TUCASEID\", \"TUACTDUR24\"])\n",
    "#atus_2003_all_nonres_p18_24"
   ]
  },
  {
   "cell_type": "code",
   "execution_count": 101,
   "metadata": {},
   "outputs": [],
   "source": [
    "atus_2003_all_nonres_p18_24_merge = pd.merge(atus_2003_all_nonres_p18_24, multi_resp, on= \"TUCASEID\").filter([\"TUCASEID\",\"TUACTDUR24\",\"TUFNWGTP\"])\n",
    "#atus_2003_all_res_p18_24_merge"
   ]
  },
  {
   "cell_type": "code",
   "execution_count": 102,
   "metadata": {},
   "outputs": [],
   "source": [
    "atus_2003_all_nonres_p18_24_merge[\"Multiplied Weight\"]=atus_2003_all_nonres_p18_24_merge[\"TUACTDUR24\"]*atus_2003_all_nonres_p18_24_merge[\"TUFNWGTP\"]\n",
    "#atus_2003_all_nonres_p18_24_merge"
   ]
  },
  {
   "cell_type": "code",
   "execution_count": 103,
   "metadata": {},
   "outputs": [
    {
     "data": {
      "text/plain": [
       "3564899432477.3857"
      ]
     },
     "execution_count": 103,
     "metadata": {},
     "output_type": "execute_result"
    }
   ],
   "source": [
    "atus_2003_all_nonres_p18_24_multiplied_weight = atus_2003_all_nonres_p18_24_merge[\"Multiplied Weight\"].sum()\n",
    "atus_2003_all_nonres_p18_24_multiplied_weight"
   ]
  },
  {
   "cell_type": "code",
   "execution_count": 104,
   "metadata": {},
   "outputs": [
    {
     "data": {
      "text/plain": [
       "6.047093957307776"
      ]
     },
     "execution_count": 104,
     "metadata": {},
     "output_type": "execute_result"
    }
   ],
   "source": [
    "all_act_2003_nonres_p18_24_hpd = atus_2003_all_nonres_p18_24_multiplied_weight / atus_2003_p18_24_weight / 60\n",
    "all_act_2003_nonres_p18_24_hpd"
   ]
  },
  {
   "cell_type": "markdown",
   "metadata": {},
   "source": [
    "### 2004 All Activities - NonResidential - Age Between 18 and 24 "
   ]
  },
  {
   "cell_type": "code",
   "execution_count": 105,
   "metadata": {},
   "outputs": [],
   "source": [
    "atus_2004_all_nonres_p18_24 = atus_2004_nonres_p18_24.groupby([\"TUCASEID\"]).sum().filter([\"TUCASEID\", \"TUACTDUR24\"])\n",
    "#atus_2004_all_nonres_p18_24"
   ]
  },
  {
   "cell_type": "code",
   "execution_count": 106,
   "metadata": {},
   "outputs": [],
   "source": [
    "atus_2004_all_nonres_p18_24_merge = pd.merge(atus_2004_all_nonres_p18_24, multi_resp, on= \"TUCASEID\").filter([\"TUCASEID\",\"TUACTDUR24\",\"TUFNWGTP\"])\n",
    "#atus_2004_all_res_p18_24_merge"
   ]
  },
  {
   "cell_type": "code",
   "execution_count": 107,
   "metadata": {},
   "outputs": [
    {
     "data": {
      "text/plain": [
       "3510732935138.453"
      ]
     },
     "execution_count": 107,
     "metadata": {},
     "output_type": "execute_result"
    }
   ],
   "source": [
    "atus_2004_all_nonres_p18_24_merge[\"Multiplied Weight\"]=atus_2004_all_nonres_p18_24_merge[\"TUACTDUR24\"]*atus_2004_all_nonres_p18_24_merge[\"TUFNWGTP\"]\n",
    "\n",
    "atus_2004_all_nonres_p18_24_multiplied_weight = atus_2004_all_nonres_p18_24_merge[\"Multiplied Weight\"].sum()\n",
    "atus_2004_all_nonres_p18_24_multiplied_weight"
   ]
  },
  {
   "cell_type": "code",
   "execution_count": 108,
   "metadata": {},
   "outputs": [
    {
     "data": {
      "text/plain": [
       "5.933767341266334"
      ]
     },
     "execution_count": 108,
     "metadata": {},
     "output_type": "execute_result"
    }
   ],
   "source": [
    "all_act_2004_nonres_p18_24_hpd = atus_2004_all_nonres_p18_24_multiplied_weight / atus_2004_p18_24_weight / 60\n",
    "all_act_2004_nonres_p18_24_hpd"
   ]
  },
  {
   "cell_type": "markdown",
   "metadata": {},
   "source": [
    "### 2005 All Activities - NonResidential - Age Between 18 and 24 "
   ]
  },
  {
   "cell_type": "code",
   "execution_count": 109,
   "metadata": {},
   "outputs": [],
   "source": [
    "atus_2005_all_nonres_p18_24 = atus_2005_nonres_p18_24.groupby([\"TUCASEID\"]).sum().filter([\"TUCASEID\", \"TUACTDUR24\"])\n",
    "#atus_2005_all_nonres_p18_24"
   ]
  },
  {
   "cell_type": "code",
   "execution_count": 110,
   "metadata": {},
   "outputs": [],
   "source": [
    "atus_2005_all_nonres_p18_24_merge = pd.merge(atus_2005_all_nonres_p18_24, multi_resp, on= \"TUCASEID\").filter([\"TUCASEID\",\"TUACTDUR24\",\"TUFNWGTP\"])\n",
    "#atus_2005_all_res_p18_24_merge"
   ]
  },
  {
   "cell_type": "code",
   "execution_count": 111,
   "metadata": {},
   "outputs": [
    {
     "data": {
      "text/plain": [
       "3551468117105.9644"
      ]
     },
     "execution_count": 111,
     "metadata": {},
     "output_type": "execute_result"
    }
   ],
   "source": [
    "atus_2005_all_nonres_p18_24_merge[\"Multiplied Weight\"]=atus_2005_all_nonres_p18_24_merge[\"TUACTDUR24\"]*atus_2005_all_nonres_p18_24_merge[\"TUFNWGTP\"]\n",
    "\n",
    "atus_2005_all_nonres_p18_24_multiplied_weight = atus_2005_all_nonres_p18_24_merge[\"Multiplied Weight\"].sum()\n",
    "atus_2005_all_nonres_p18_24_multiplied_weight"
   ]
  },
  {
   "cell_type": "code",
   "execution_count": 112,
   "metadata": {},
   "outputs": [
    {
     "data": {
      "text/plain": [
       "5.844293689925544"
      ]
     },
     "execution_count": 112,
     "metadata": {},
     "output_type": "execute_result"
    }
   ],
   "source": [
    "all_act_2005_nonres_p18_24_hpd = atus_2005_all_nonres_p18_24_multiplied_weight / atus_2005_p18_24_weight / 60\n",
    "all_act_2005_nonres_p18_24_hpd"
   ]
  },
  {
   "cell_type": "markdown",
   "metadata": {},
   "source": [
    "### 2006 All Activities - NonResidential - Age Between 18 and 24 "
   ]
  },
  {
   "cell_type": "code",
   "execution_count": 113,
   "metadata": {},
   "outputs": [],
   "source": [
    "atus_2006_all_nonres_p18_24 = atus_2006_nonres_p18_24.groupby([\"TUCASEID\"]).sum().filter([\"TUCASEID\", \"TUACTDUR24\"])\n",
    "#atus_2006_all_nonres_p18_24"
   ]
  },
  {
   "cell_type": "code",
   "execution_count": 114,
   "metadata": {},
   "outputs": [],
   "source": [
    "atus_2006_all_nonres_p18_24_merge = pd.merge(atus_2006_all_nonres_p18_24, multi_resp, on= \"TUCASEID\").filter([\"TUCASEID\",\"TUACTDUR24\",\"TUFNWGTP\"])\n",
    "#atus_2006_all_res_p18_24_merge"
   ]
  },
  {
   "cell_type": "code",
   "execution_count": 115,
   "metadata": {},
   "outputs": [
    {
     "data": {
      "text/plain": [
       "3831090750967.5767"
      ]
     },
     "execution_count": 115,
     "metadata": {},
     "output_type": "execute_result"
    }
   ],
   "source": [
    "atus_2006_all_nonres_p18_24_merge[\"Multiplied Weight\"]=atus_2006_all_nonres_p18_24_merge[\"TUACTDUR24\"]*atus_2006_all_nonres_p18_24_merge[\"TUFNWGTP\"]\n",
    "\n",
    "atus_2006_all_nonres_p18_24_multiplied_weight = atus_2006_all_nonres_p18_24_merge[\"Multiplied Weight\"].sum()\n",
    "atus_2006_all_nonres_p18_24_multiplied_weight"
   ]
  },
  {
   "cell_type": "code",
   "execution_count": 116,
   "metadata": {},
   "outputs": [
    {
     "data": {
      "text/plain": [
       "6.479783300330893"
      ]
     },
     "execution_count": 116,
     "metadata": {},
     "output_type": "execute_result"
    }
   ],
   "source": [
    "all_act_2006_nonres_p18_24_hpd = atus_2006_all_nonres_p18_24_multiplied_weight / atus_2006_p18_24_weight / 60\n",
    "all_act_2006_nonres_p18_24_hpd"
   ]
  },
  {
   "cell_type": "markdown",
   "metadata": {},
   "source": [
    "### 2007 All Activities - NonResidential - Age Between 18 and 24 "
   ]
  },
  {
   "cell_type": "code",
   "execution_count": 117,
   "metadata": {},
   "outputs": [],
   "source": [
    "atus_2007_all_nonres_p18_24 = atus_2007_nonres_p18_24.groupby([\"TUCASEID\"]).sum().filter([\"TUCASEID\", \"TUACTDUR24\"])\n",
    "#atus_2007_all_nonres_p18_24"
   ]
  },
  {
   "cell_type": "code",
   "execution_count": 118,
   "metadata": {},
   "outputs": [],
   "source": [
    "atus_2007_all_nonres_p18_24_merge = pd.merge(atus_2007_all_nonres_p18_24, multi_resp, on= \"TUCASEID\").filter([\"TUCASEID\",\"TUACTDUR24\",\"TUFNWGTP\"])\n",
    "#atus_2007_all_res_p18_24_merge"
   ]
  },
  {
   "cell_type": "code",
   "execution_count": 119,
   "metadata": {},
   "outputs": [
    {
     "data": {
      "text/plain": [
       "3946007702656.459"
      ]
     },
     "execution_count": 119,
     "metadata": {},
     "output_type": "execute_result"
    }
   ],
   "source": [
    "atus_2007_all_nonres_p18_24_merge[\"Multiplied Weight\"]=atus_2007_all_nonres_p18_24_merge[\"TUACTDUR24\"]*atus_2007_all_nonres_p18_24_merge[\"TUFNWGTP\"]\n",
    "\n",
    "atus_2007_all_nonres_p18_24_multiplied_weight = atus_2007_all_nonres_p18_24_merge[\"Multiplied Weight\"].sum()\n",
    "atus_2007_all_nonres_p18_24_multiplied_weight"
   ]
  },
  {
   "cell_type": "code",
   "execution_count": 120,
   "metadata": {},
   "outputs": [
    {
     "data": {
      "text/plain": [
       "6.576220818310399"
      ]
     },
     "execution_count": 120,
     "metadata": {},
     "output_type": "execute_result"
    }
   ],
   "source": [
    "all_act_2007_nonres_p18_24_hpd = atus_2007_all_nonres_p18_24_multiplied_weight / atus_2007_p18_24_weight / 60\n",
    "all_act_2007_nonres_p18_24_hpd"
   ]
  },
  {
   "cell_type": "markdown",
   "metadata": {},
   "source": [
    "### 2008 All Activities - NonResidential - Age Between 18 and 24 "
   ]
  },
  {
   "cell_type": "code",
   "execution_count": 121,
   "metadata": {},
   "outputs": [],
   "source": [
    "atus_2008_all_nonres_p18_24 = atus_2008_nonres_p18_24.groupby([\"TUCASEID\"]).sum().filter([\"TUCASEID\", \"TUACTDUR24\"])\n",
    "#atus_2008_all_nonres_p18_24"
   ]
  },
  {
   "cell_type": "code",
   "execution_count": 122,
   "metadata": {},
   "outputs": [],
   "source": [
    "atus_2008_all_nonres_p18_24_merge = pd.merge(atus_2008_all_nonres_p18_24, multi_resp, on= \"TUCASEID\").filter([\"TUCASEID\",\"TUACTDUR24\",\"TUFNWGTP\"])\n",
    "#atus_2008_all_res_p18_24_merge"
   ]
  },
  {
   "cell_type": "code",
   "execution_count": 123,
   "metadata": {},
   "outputs": [
    {
     "data": {
      "text/plain": [
       "3659339220095.1763"
      ]
     },
     "execution_count": 123,
     "metadata": {},
     "output_type": "execute_result"
    }
   ],
   "source": [
    "atus_2008_all_nonres_p18_24_merge[\"Multiplied Weight\"]=atus_2008_all_nonres_p18_24_merge[\"TUACTDUR24\"]*atus_2008_all_nonres_p18_24_merge[\"TUFNWGTP\"]\n",
    "\n",
    "atus_2008_all_nonres_p18_24_multiplied_weight = atus_2008_all_nonres_p18_24_merge[\"Multiplied Weight\"].sum()\n",
    "atus_2008_all_nonres_p18_24_multiplied_weight"
   ]
  },
  {
   "cell_type": "code",
   "execution_count": 124,
   "metadata": {},
   "outputs": [
    {
     "data": {
      "text/plain": [
       "6.164269386258201"
      ]
     },
     "execution_count": 124,
     "metadata": {},
     "output_type": "execute_result"
    }
   ],
   "source": [
    "all_act_2008_nonres_p18_24_hpd = atus_2008_all_nonres_p18_24_multiplied_weight / atus_2008_p18_24_weight / 60\n",
    "all_act_2008_nonres_p18_24_hpd"
   ]
  },
  {
   "cell_type": "markdown",
   "metadata": {},
   "source": [
    "### 2009 All Activities - NonResidential - Age Between 18 and 24 "
   ]
  },
  {
   "cell_type": "code",
   "execution_count": 125,
   "metadata": {},
   "outputs": [],
   "source": [
    "atus_2009_all_nonres_p18_24 = atus_2009_nonres_p18_24.groupby([\"TUCASEID\"]).sum().filter([\"TUCASEID\", \"TUACTDUR24\"])\n",
    "#atus_2009_all_nonres_p18_24"
   ]
  },
  {
   "cell_type": "code",
   "execution_count": 126,
   "metadata": {},
   "outputs": [],
   "source": [
    "atus_2009_all_nonres_p18_24_merge = pd.merge(atus_2009_all_nonres_p18_24, multi_resp, on= \"TUCASEID\").filter([\"TUCASEID\",\"TUACTDUR24\",\"TUFNWGTP\"])\n",
    "#atus_2009_all_res_p18_24_merge"
   ]
  },
  {
   "cell_type": "code",
   "execution_count": 127,
   "metadata": {},
   "outputs": [
    {
     "data": {
      "text/plain": [
       "3455869770823.0425"
      ]
     },
     "execution_count": 127,
     "metadata": {},
     "output_type": "execute_result"
    }
   ],
   "source": [
    "atus_2009_all_nonres_p18_24_merge[\"Multiplied Weight\"]=atus_2009_all_nonres_p18_24_merge[\"TUACTDUR24\"]*atus_2009_all_nonres_p18_24_merge[\"TUFNWGTP\"]\n",
    "\n",
    "atus_2009_all_nonres_p18_24_multiplied_weight = atus_2009_all_nonres_p18_24_merge[\"Multiplied Weight\"].sum()\n",
    "atus_2009_all_nonres_p18_24_multiplied_weight"
   ]
  },
  {
   "cell_type": "code",
   "execution_count": 128,
   "metadata": {},
   "outputs": [
    {
     "data": {
      "text/plain": [
       "5.748888014700939"
      ]
     },
     "execution_count": 128,
     "metadata": {},
     "output_type": "execute_result"
    }
   ],
   "source": [
    "all_act_2009_nonres_p18_24_hpd = atus_2009_all_nonres_p18_24_multiplied_weight / atus_2009_p18_24_weight / 60\n",
    "all_act_2009_nonres_p18_24_hpd"
   ]
  },
  {
   "cell_type": "markdown",
   "metadata": {},
   "source": [
    "### 2010 All Activities - NonResidential - Age Between 18 and 24 "
   ]
  },
  {
   "cell_type": "code",
   "execution_count": 129,
   "metadata": {},
   "outputs": [],
   "source": [
    "atus_2010_all_nonres_p18_24 = atus_2010_nonres_p18_24.groupby([\"TUCASEID\"]).sum().filter([\"TUCASEID\", \"TUACTDUR24\"])\n",
    "#atus_2010_all_nonres_p18_24"
   ]
  },
  {
   "cell_type": "code",
   "execution_count": 130,
   "metadata": {},
   "outputs": [],
   "source": [
    "atus_2010_all_nonres_p18_24_merge = pd.merge(atus_2010_all_nonres_p18_24, multi_resp, on= \"TUCASEID\").filter([\"TUCASEID\",\"TUACTDUR24\",\"TUFNWGTP\"])\n",
    "#atus_2010_all_res_p18_24_merge"
   ]
  },
  {
   "cell_type": "code",
   "execution_count": 131,
   "metadata": {},
   "outputs": [
    {
     "data": {
      "text/plain": [
       "3452984524538.0117"
      ]
     },
     "execution_count": 131,
     "metadata": {},
     "output_type": "execute_result"
    }
   ],
   "source": [
    "atus_2010_all_nonres_p18_24_merge[\"Multiplied Weight\"]=atus_2010_all_nonres_p18_24_merge[\"TUACTDUR24\"]*atus_2010_all_nonres_p18_24_merge[\"TUFNWGTP\"]\n",
    "\n",
    "atus_2010_all_nonres_p18_24_multiplied_weight = atus_2010_all_nonres_p18_24_merge[\"Multiplied Weight\"].sum()\n",
    "atus_2010_all_nonres_p18_24_multiplied_weight"
   ]
  },
  {
   "cell_type": "code",
   "execution_count": 132,
   "metadata": {},
   "outputs": [
    {
     "data": {
      "text/plain": [
       "5.582088623576394"
      ]
     },
     "execution_count": 132,
     "metadata": {},
     "output_type": "execute_result"
    }
   ],
   "source": [
    "all_act_2010_nonres_p18_24_hpd = atus_2010_all_nonres_p18_24_multiplied_weight / atus_2010_p18_24_weight / 60\n",
    "all_act_2010_nonres_p18_24_hpd"
   ]
  },
  {
   "cell_type": "markdown",
   "metadata": {},
   "source": [
    "### 2011 All Activities - NonResidential - Age Between 18 and 24 "
   ]
  },
  {
   "cell_type": "code",
   "execution_count": 133,
   "metadata": {},
   "outputs": [],
   "source": [
    "atus_2011_all_nonres_p18_24 = atus_2011_nonres_p18_24.groupby([\"TUCASEID\"]).sum().filter([\"TUCASEID\", \"TUACTDUR24\"])\n",
    "#atus_2011_all_nonres_p18_24"
   ]
  },
  {
   "cell_type": "code",
   "execution_count": 134,
   "metadata": {},
   "outputs": [],
   "source": [
    "atus_2011_all_nonres_p18_24_merge = pd.merge(atus_2011_all_nonres_p18_24, multi_resp, on= \"TUCASEID\").filter([\"TUCASEID\",\"TUACTDUR24\",\"TUFNWGTP\"])\n",
    "#atus_2011_all_res_p18_24_merge"
   ]
  },
  {
   "cell_type": "code",
   "execution_count": 135,
   "metadata": {},
   "outputs": [
    {
     "data": {
      "text/plain": [
       "3649215288118.825"
      ]
     },
     "execution_count": 135,
     "metadata": {},
     "output_type": "execute_result"
    }
   ],
   "source": [
    "atus_2011_all_nonres_p18_24_merge[\"Multiplied Weight\"]=atus_2011_all_nonres_p18_24_merge[\"TUACTDUR24\"]*atus_2011_all_nonres_p18_24_merge[\"TUFNWGTP\"]\n",
    "\n",
    "atus_2011_all_nonres_p18_24_multiplied_weight = atus_2011_all_nonres_p18_24_merge[\"Multiplied Weight\"].sum()\n",
    "atus_2011_all_nonres_p18_24_multiplied_weight"
   ]
  },
  {
   "cell_type": "code",
   "execution_count": 136,
   "metadata": {},
   "outputs": [
    {
     "data": {
      "text/plain": [
       "5.7113173156099615"
      ]
     },
     "execution_count": 136,
     "metadata": {},
     "output_type": "execute_result"
    }
   ],
   "source": [
    "all_act_2011_nonres_p18_24_hpd = atus_2011_all_nonres_p18_24_multiplied_weight / atus_2011_p18_24_weight / 60\n",
    "all_act_2011_nonres_p18_24_hpd"
   ]
  },
  {
   "cell_type": "markdown",
   "metadata": {},
   "source": [
    "### 2012 All Activities - NonResidential - Age Between 18 and 24 "
   ]
  },
  {
   "cell_type": "code",
   "execution_count": 137,
   "metadata": {},
   "outputs": [],
   "source": [
    "atus_2012_all_nonres_p18_24 = atus_2012_nonres_p18_24.groupby([\"TUCASEID\"]).sum().filter([\"TUCASEID\", \"TUACTDUR24\"])\n",
    "#atus_2012_all_nonres_p18_24"
   ]
  },
  {
   "cell_type": "code",
   "execution_count": 138,
   "metadata": {},
   "outputs": [],
   "source": [
    "atus_2012_all_nonres_p18_24_merge = pd.merge(atus_2012_all_nonres_p18_24, multi_resp, on= \"TUCASEID\").filter([\"TUCASEID\",\"TUACTDUR24\",\"TUFNWGTP\"])\n",
    "#atus_2012_all_res_p18_24_merge"
   ]
  },
  {
   "cell_type": "code",
   "execution_count": 139,
   "metadata": {},
   "outputs": [
    {
     "data": {
      "text/plain": [
       "3466227383935.4795"
      ]
     },
     "execution_count": 139,
     "metadata": {},
     "output_type": "execute_result"
    }
   ],
   "source": [
    "atus_2012_all_nonres_p18_24_merge[\"Multiplied Weight\"]=atus_2012_all_nonres_p18_24_merge[\"TUACTDUR24\"]*atus_2012_all_nonres_p18_24_merge[\"TUFNWGTP\"]\n",
    "\n",
    "atus_2012_all_nonres_p18_24_multiplied_weight = atus_2012_all_nonres_p18_24_merge[\"Multiplied Weight\"].sum()\n",
    "atus_2012_all_nonres_p18_24_multiplied_weight"
   ]
  },
  {
   "cell_type": "code",
   "execution_count": 140,
   "metadata": {},
   "outputs": [
    {
     "data": {
      "text/plain": [
       "5.447549117712131"
      ]
     },
     "execution_count": 140,
     "metadata": {},
     "output_type": "execute_result"
    }
   ],
   "source": [
    "all_act_2012_nonres_p18_24_hpd = atus_2012_all_nonres_p18_24_multiplied_weight / atus_2012_p18_24_weight / 60\n",
    "all_act_2012_nonres_p18_24_hpd"
   ]
  },
  {
   "cell_type": "markdown",
   "metadata": {},
   "source": [
    "### 2013 All Activities - NonResidential - Age Between 18 and 24 "
   ]
  },
  {
   "cell_type": "code",
   "execution_count": 141,
   "metadata": {},
   "outputs": [],
   "source": [
    "atus_2013_all_nonres_p18_24 = atus_2013_nonres_p18_24.groupby([\"TUCASEID\"]).sum().filter([\"TUCASEID\", \"TUACTDUR24\"])\n",
    "#atus_2013_all_nonres_p18_24"
   ]
  },
  {
   "cell_type": "code",
   "execution_count": 142,
   "metadata": {},
   "outputs": [],
   "source": [
    "atus_2013_all_nonres_p18_24_merge = pd.merge(atus_2013_all_nonres_p18_24, multi_resp, on= \"TUCASEID\").filter([\"TUCASEID\",\"TUACTDUR24\",\"TUFNWGTP\"])\n",
    "#atus_2013_all_res_p18_24_merge"
   ]
  },
  {
   "cell_type": "code",
   "execution_count": 143,
   "metadata": {},
   "outputs": [
    {
     "data": {
      "text/plain": [
       "3698649346866.634"
      ]
     },
     "execution_count": 143,
     "metadata": {},
     "output_type": "execute_result"
    }
   ],
   "source": [
    "atus_2013_all_nonres_p18_24_merge[\"Multiplied Weight\"]=atus_2013_all_nonres_p18_24_merge[\"TUACTDUR24\"]*atus_2013_all_nonres_p18_24_merge[\"TUFNWGTP\"]\n",
    "\n",
    "atus_2013_all_nonres_p18_24_multiplied_weight = atus_2013_all_nonres_p18_24_merge[\"Multiplied Weight\"].sum()\n",
    "atus_2013_all_nonres_p18_24_multiplied_weight"
   ]
  },
  {
   "cell_type": "code",
   "execution_count": 144,
   "metadata": {},
   "outputs": [
    {
     "data": {
      "text/plain": [
       "5.720176724481598"
      ]
     },
     "execution_count": 144,
     "metadata": {},
     "output_type": "execute_result"
    }
   ],
   "source": [
    "all_act_2013_nonres_p18_24_hpd = atus_2013_all_nonres_p18_24_multiplied_weight / atus_2013_p18_24_weight / 60\n",
    "all_act_2013_nonres_p18_24_hpd"
   ]
  },
  {
   "cell_type": "markdown",
   "metadata": {},
   "source": [
    "### 2014 All Activities - NonResidential - Age Between 18 and 24 "
   ]
  },
  {
   "cell_type": "code",
   "execution_count": 145,
   "metadata": {},
   "outputs": [],
   "source": [
    "atus_2014_all_nonres_p18_24 = atus_2014_nonres_p18_24.groupby([\"TUCASEID\"]).sum().filter([\"TUCASEID\", \"TUACTDUR24\"])\n",
    "#atus_2014_all_nonres_p18_24"
   ]
  },
  {
   "cell_type": "code",
   "execution_count": 146,
   "metadata": {},
   "outputs": [],
   "source": [
    "atus_2014_all_nonres_p18_24_merge = pd.merge(atus_2014_all_nonres_p18_24, multi_resp, on= \"TUCASEID\").filter([\"TUCASEID\",\"TUACTDUR24\",\"TUFNWGTP\"])\n",
    "#atus_2014_all_res_p18_24_merge"
   ]
  },
  {
   "cell_type": "code",
   "execution_count": 147,
   "metadata": {},
   "outputs": [
    {
     "data": {
      "text/plain": [
       "3678524628345.0024"
      ]
     },
     "execution_count": 147,
     "metadata": {},
     "output_type": "execute_result"
    }
   ],
   "source": [
    "atus_2014_all_nonres_p18_24_merge[\"Multiplied Weight\"]=atus_2014_all_nonres_p18_24_merge[\"TUACTDUR24\"]*atus_2014_all_nonres_p18_24_merge[\"TUFNWGTP\"]\n",
    "\n",
    "atus_2014_all_nonres_p18_24_multiplied_weight = atus_2014_all_nonres_p18_24_merge[\"Multiplied Weight\"].sum()\n",
    "atus_2014_all_nonres_p18_24_multiplied_weight"
   ]
  },
  {
   "cell_type": "code",
   "execution_count": 148,
   "metadata": {},
   "outputs": [
    {
     "data": {
      "text/plain": [
       "5.648500234878703"
      ]
     },
     "execution_count": 148,
     "metadata": {},
     "output_type": "execute_result"
    }
   ],
   "source": [
    "all_act_2014_nonres_p18_24_hpd = atus_2014_all_nonres_p18_24_multiplied_weight / atus_2014_p18_24_weight / 60\n",
    "all_act_2014_nonres_p18_24_hpd"
   ]
  },
  {
   "cell_type": "markdown",
   "metadata": {},
   "source": [
    "### 2015 All Activities - NonResidential - Age Between 18 and 24 "
   ]
  },
  {
   "cell_type": "code",
   "execution_count": 149,
   "metadata": {},
   "outputs": [],
   "source": [
    "atus_2015_all_nonres_p18_24 = atus_2015_nonres_p18_24.groupby([\"TUCASEID\"]).sum().filter([\"TUCASEID\", \"TUACTDUR24\"])\n",
    "#atus_2015_all_nonres_p18_24"
   ]
  },
  {
   "cell_type": "code",
   "execution_count": 150,
   "metadata": {},
   "outputs": [],
   "source": [
    "atus_2015_all_nonres_p18_24_merge = pd.merge(atus_2015_all_nonres_p18_24, multi_resp, on= \"TUCASEID\").filter([\"TUCASEID\",\"TUACTDUR24\",\"TUFNWGTP\"])\n",
    "#atus_2015_all_res_p18_24_merge"
   ]
  },
  {
   "cell_type": "code",
   "execution_count": 151,
   "metadata": {},
   "outputs": [
    {
     "data": {
      "text/plain": [
       "3769197866118.259"
      ]
     },
     "execution_count": 151,
     "metadata": {},
     "output_type": "execute_result"
    }
   ],
   "source": [
    "atus_2015_all_nonres_p18_24_merge[\"Multiplied Weight\"]=atus_2015_all_nonres_p18_24_merge[\"TUACTDUR24\"]*atus_2015_all_nonres_p18_24_merge[\"TUFNWGTP\"]\n",
    "\n",
    "atus_2015_all_nonres_p18_24_multiplied_weight = atus_2015_all_nonres_p18_24_merge[\"Multiplied Weight\"].sum()\n",
    "atus_2015_all_nonres_p18_24_multiplied_weight"
   ]
  },
  {
   "cell_type": "code",
   "execution_count": 152,
   "metadata": {},
   "outputs": [
    {
     "data": {
      "text/plain": [
       "5.8366009161868595"
      ]
     },
     "execution_count": 152,
     "metadata": {},
     "output_type": "execute_result"
    }
   ],
   "source": [
    "all_act_2015_nonres_p18_24_hpd = atus_2015_all_nonres_p18_24_multiplied_weight / atus_2015_p18_24_weight / 60\n",
    "all_act_2015_nonres_p18_24_hpd"
   ]
  },
  {
   "cell_type": "markdown",
   "metadata": {},
   "source": [
    "### 2016 All Activities - NonResidential - Age Between 18 and 24 "
   ]
  },
  {
   "cell_type": "code",
   "execution_count": 153,
   "metadata": {},
   "outputs": [],
   "source": [
    "atus_2016_all_nonres_p18_24 = atus_2016_nonres_p18_24.groupby([\"TUCASEID\"]).sum().filter([\"TUCASEID\", \"TUACTDUR24\"])\n",
    "#atus_2016_all_nonres_p18_24"
   ]
  },
  {
   "cell_type": "code",
   "execution_count": 154,
   "metadata": {},
   "outputs": [],
   "source": [
    "atus_2016_all_nonres_p18_24_merge = pd.merge(atus_2016_all_nonres_p18_24, multi_resp, on= \"TUCASEID\").filter([\"TUCASEID\",\"TUACTDUR24\",\"TUFNWGTP\"])\n",
    "#atus_2016_all_res_p18_24_merge"
   ]
  },
  {
   "cell_type": "code",
   "execution_count": 155,
   "metadata": {},
   "outputs": [
    {
     "data": {
      "text/plain": [
       "3574733830047.0566"
      ]
     },
     "execution_count": 155,
     "metadata": {},
     "output_type": "execute_result"
    }
   ],
   "source": [
    "atus_2016_all_nonres_p18_24_merge[\"Multiplied Weight\"]=atus_2016_all_nonres_p18_24_merge[\"TUACTDUR24\"]*atus_2016_all_nonres_p18_24_merge[\"TUFNWGTP\"]\n",
    "\n",
    "atus_2016_all_nonres_p18_24_multiplied_weight = atus_2016_all_nonres_p18_24_merge[\"Multiplied Weight\"].sum()\n",
    "atus_2016_all_nonres_p18_24_multiplied_weight"
   ]
  },
  {
   "cell_type": "code",
   "execution_count": 156,
   "metadata": {},
   "outputs": [
    {
     "data": {
      "text/plain": [
       "5.651624379284933"
      ]
     },
     "execution_count": 156,
     "metadata": {},
     "output_type": "execute_result"
    }
   ],
   "source": [
    "all_act_2016_nonres_p18_24_hpd = atus_2016_all_nonres_p18_24_multiplied_weight / atus_2016_p18_24_weight / 60\n",
    "all_act_2016_nonres_p18_24_hpd"
   ]
  },
  {
   "cell_type": "markdown",
   "metadata": {},
   "source": [
    "### 2017 All Activities - NonResidential - Age Between 18 and 24 "
   ]
  },
  {
   "cell_type": "code",
   "execution_count": 157,
   "metadata": {},
   "outputs": [],
   "source": [
    "atus_2017_all_nonres_p18_24 = atus_2017_nonres_p18_24.groupby([\"TUCASEID\"]).sum().filter([\"TUCASEID\", \"TUACTDUR24\"])\n",
    "#atus_2017_all_nonres_p18_24"
   ]
  },
  {
   "cell_type": "code",
   "execution_count": 158,
   "metadata": {},
   "outputs": [],
   "source": [
    "atus_2017_all_nonres_p18_24_merge = pd.merge(atus_2017_all_nonres_p18_24, multi_resp, on= \"TUCASEID\").filter([\"TUCASEID\",\"TUACTDUR24\",\"TUFNWGTP\"])\n",
    "#atus_2017_all_res_p18_24_merge"
   ]
  },
  {
   "cell_type": "code",
   "execution_count": 159,
   "metadata": {},
   "outputs": [
    {
     "data": {
      "text/plain": [
       "3488299355780.3105"
      ]
     },
     "execution_count": 159,
     "metadata": {},
     "output_type": "execute_result"
    }
   ],
   "source": [
    "atus_2017_all_nonres_p18_24_merge[\"Multiplied Weight\"]=atus_2017_all_nonres_p18_24_merge[\"TUACTDUR24\"]*atus_2017_all_nonres_p18_24_merge[\"TUFNWGTP\"]\n",
    "\n",
    "atus_2017_all_nonres_p18_24_multiplied_weight = atus_2017_all_nonres_p18_24_merge[\"Multiplied Weight\"].sum()\n",
    "atus_2017_all_nonres_p18_24_multiplied_weight"
   ]
  },
  {
   "cell_type": "code",
   "execution_count": 160,
   "metadata": {},
   "outputs": [
    {
     "data": {
      "text/plain": [
       "5.498630996593372"
      ]
     },
     "execution_count": 160,
     "metadata": {},
     "output_type": "execute_result"
    }
   ],
   "source": [
    "all_act_2017_nonres_p18_24_hpd = atus_2017_all_nonres_p18_24_multiplied_weight / atus_2017_p18_24_weight / 60\n",
    "all_act_2017_nonres_p18_24_hpd"
   ]
  },
  {
   "cell_type": "markdown",
   "metadata": {},
   "source": [
    "### 2018 All Activities - NonResidential - Age Between 18 and 24 "
   ]
  },
  {
   "cell_type": "code",
   "execution_count": 161,
   "metadata": {},
   "outputs": [],
   "source": [
    "atus_2018_all_nonres_p18_24 = atus_2018_nonres_p18_24.groupby([\"TUCASEID\"]).sum().filter([\"TUCASEID\", \"TUACTDUR24\"])\n",
    "#atus_2018_all_nonres_p18_24"
   ]
  },
  {
   "cell_type": "code",
   "execution_count": 162,
   "metadata": {},
   "outputs": [],
   "source": [
    "atus_2018_all_nonres_p18_24_merge = pd.merge(atus_2018_all_nonres_p18_24, multi_resp, on= \"TUCASEID\").filter([\"TUCASEID\",\"TUACTDUR24\",\"TUFNWGTP\"])\n",
    "#atus_2018_all_res_p18_24_merge"
   ]
  },
  {
   "cell_type": "code",
   "execution_count": 163,
   "metadata": {},
   "outputs": [
    {
     "data": {
      "text/plain": [
       "3623221711988.8213"
      ]
     },
     "execution_count": 163,
     "metadata": {},
     "output_type": "execute_result"
    }
   ],
   "source": [
    "atus_2018_all_nonres_p18_24_merge[\"Multiplied Weight\"]=atus_2018_all_nonres_p18_24_merge[\"TUACTDUR24\"]*atus_2018_all_nonres_p18_24_merge[\"TUFNWGTP\"]\n",
    "\n",
    "atus_2018_all_nonres_p18_24_multiplied_weight = atus_2018_all_nonres_p18_24_merge[\"Multiplied Weight\"].sum()\n",
    "atus_2018_all_nonres_p18_24_multiplied_weight"
   ]
  },
  {
   "cell_type": "code",
   "execution_count": 164,
   "metadata": {},
   "outputs": [
    {
     "data": {
      "text/plain": [
       "5.658153176384164"
      ]
     },
     "execution_count": 164,
     "metadata": {},
     "output_type": "execute_result"
    }
   ],
   "source": [
    "all_act_2018_nonres_p18_24_hpd = atus_2018_all_nonres_p18_24_multiplied_weight / atus_2018_p18_24_weight / 60\n",
    "all_act_2018_nonres_p18_24_hpd"
   ]
  },
  {
   "cell_type": "markdown",
   "metadata": {},
   "source": [
    "### 2019 All Activities - NonResidential - Age Between 18 and 24 "
   ]
  },
  {
   "cell_type": "code",
   "execution_count": 165,
   "metadata": {},
   "outputs": [],
   "source": [
    "atus_2019_all_nonres_p18_24 = atus_2019_nonres_p18_24.groupby([\"TUCASEID\"]).sum().filter([\"TUCASEID\", \"TUACTDUR24\"])\n",
    "#atus_2019_all_nonres_p18_24"
   ]
  },
  {
   "cell_type": "code",
   "execution_count": 166,
   "metadata": {},
   "outputs": [],
   "source": [
    "atus_2019_all_nonres_p18_24_merge = pd.merge(atus_2019_all_nonres_p18_24, multi_resp, on= \"TUCASEID\").filter([\"TUCASEID\",\"TUACTDUR24\",\"TUFNWGTP\"])\n",
    "#atus_2019_all_res_p18_24_merge"
   ]
  },
  {
   "cell_type": "code",
   "execution_count": 167,
   "metadata": {},
   "outputs": [
    {
     "data": {
      "text/plain": [
       "3554103202023.4883"
      ]
     },
     "execution_count": 167,
     "metadata": {},
     "output_type": "execute_result"
    }
   ],
   "source": [
    "atus_2019_all_nonres_p18_24_merge[\"Multiplied Weight\"]=atus_2019_all_nonres_p18_24_merge[\"TUACTDUR24\"]*atus_2019_all_nonres_p18_24_merge[\"TUFNWGTP\"]\n",
    "\n",
    "atus_2019_all_nonres_p18_24_multiplied_weight = atus_2019_all_nonres_p18_24_merge[\"Multiplied Weight\"].sum()\n",
    "atus_2019_all_nonres_p18_24_multiplied_weight"
   ]
  },
  {
   "cell_type": "code",
   "execution_count": 168,
   "metadata": {},
   "outputs": [
    {
     "data": {
      "text/plain": [
       "5.757597447400608"
      ]
     },
     "execution_count": 168,
     "metadata": {},
     "output_type": "execute_result"
    }
   ],
   "source": [
    "all_act_2019_nonres_p18_24_hpd = atus_2019_all_nonres_p18_24_multiplied_weight / atus_2019_p18_24_weight / 60\n",
    "all_act_2019_nonres_p18_24_hpd"
   ]
  },
  {
   "cell_type": "markdown",
   "metadata": {},
   "source": [
    "### Regresssion: All Activities - NonResidential - Age Between 18 and 24 "
   ]
  },
  {
   "cell_type": "markdown",
   "metadata": {},
   "source": [
    "#### 2003 -2012 Regression"
   ]
  },
  {
   "cell_type": "code",
   "execution_count": 169,
   "metadata": {},
   "outputs": [],
   "source": [
    "year = np.array([2003, 2004, 2005, 2006, 2007, 2008, 2009, 2010,2011,2012]).reshape((-1, 1))\n",
    "activity_hours_per_day = np.array([all_act_2003_nonres_p18_24_hpd, all_act_2004_nonres_p18_24_hpd, all_act_2005_nonres_p18_24_hpd,\n",
    "                                   all_act_2006_nonres_p18_24_hpd, all_act_2007_nonres_p18_24_hpd, all_act_2008_nonres_p18_24_hpd,\n",
    "                                   all_act_2009_nonres_p18_24_hpd, all_act_2010_nonres_p18_24_hpd, all_act_2011_nonres_p18_24_hpd,\n",
    "                                   all_act_2012_nonres_p18_24_hpd]).reshape((-1, 1))\n",
    "\n",
    "activity_hours_per_yr = [i * 365 for i in activity_hours_per_day]\n",
    "#activity_hours_per_yr"
   ]
  },
  {
   "cell_type": "code",
   "execution_count": 170,
   "metadata": {},
   "outputs": [
    {
     "data": {
      "image/png": "[encoded data removed]",
      "text/plain": [
       "<Figure size 432x288 with 1 Axes>"
      ]
     },
     "metadata": {
      "needs_background": "light"
     },
     "output_type": "display_data"
    }
   ],
   "source": [
    "x = year\n",
    "y = activity_hours_per_yr\n",
    "x, y = np.array(x), np.array(y)\n",
    "\n",
    "model = LinearRegression().fit(x, y)\n",
    "\n",
    "y_pred = model.predict(x)  \n",
    "\n",
    "plt.scatter(x, y)\n",
    "plt.plot(x, y_pred, color='red')\n",
    "plt.show()"
   ]
  },
  {
   "cell_type": "code",
   "execution_count": 171,
   "metadata": {},
   "outputs": [
    {
     "data": {
      "text/plain": [
       "0.2922879426676278"
      ]
     },
     "execution_count": 171,
     "metadata": {},
     "output_type": "execute_result"
    }
   ],
   "source": [
    "coefficient_of_determination = model.score(x,y) #R sqaure value \n",
    "coefficient_of_determination"
   ]
  },
  {
   "cell_type": "code",
   "execution_count": 172,
   "metadata": {},
   "outputs": [
    {
     "data": {
      "text/plain": [
       "array([[-24.042918]])"
      ]
     },
     "execution_count": 172,
     "metadata": {},
     "output_type": "execute_result"
    }
   ],
   "source": [
    "all_act_2012_nonres_p18_24_slope = model.coef_\n",
    "all_act_2012_nonres_p18_24_slope"
   ]
  },
  {
   "cell_type": "markdown",
   "metadata": {},
   "source": [
    "#### 2003 -2019 Regression"
   ]
  },
  {
   "cell_type": "code",
   "execution_count": 173,
   "metadata": {},
   "outputs": [],
   "source": [
    "year = np.array([2003, 2004, 2005, 2006, 2007, 2008, 2009, 2010,2011,2012, 2013, 2014, 2015, 2016, 2017, 2018, 2019]).reshape((-1, 1))\n",
    "activity_hours_per_day = np.array([all_act_2003_nonres_p18_24_hpd, all_act_2004_nonres_p18_24_hpd, all_act_2005_nonres_p18_24_hpd,\n",
    "                                   all_act_2006_nonres_p18_24_hpd, all_act_2007_nonres_p18_24_hpd, all_act_2008_nonres_p18_24_hpd,\n",
    "                                   all_act_2009_nonres_p18_24_hpd, all_act_2010_nonres_p18_24_hpd, all_act_2011_nonres_p18_24_hpd,\n",
    "                                   all_act_2012_nonres_p18_24_hpd, all_act_2013_nonres_p18_24_hpd, all_act_2014_nonres_p18_24_hpd,\n",
    "                                   all_act_2015_nonres_p18_24_hpd, all_act_2016_nonres_p18_24_hpd, all_act_2017_nonres_p18_24_hpd,\n",
    "                                   all_act_2018_nonres_p18_24_hpd, all_act_2019_nonres_p18_24_hpd]).reshape((-1, 1))\n",
    "\n",
    "activity_hours_per_yr = [i * 365 for i in activity_hours_per_day]\n",
    "#activity_hours_per_yr"
   ]
  },
  {
   "cell_type": "code",
   "execution_count": 174,
   "metadata": {},
   "outputs": [
    {
     "data": {
      "image/png": "[encoded data removed]",
      "text/plain": [
       "<Figure size 432x288 with 1 Axes>"
      ]
     },
     "metadata": {
      "needs_background": "light"
     },
     "output_type": "display_data"
    }
   ],
   "source": [
    "x = year\n",
    "y = activity_hours_per_yr\n",
    "x, y = np.array(x), np.array(y)\n",
    "\n",
    "model = LinearRegression().fit(x, y)\n",
    "\n",
    "y_pred = model.predict(x)  \n",
    "\n",
    "plt.scatter(x, y)\n",
    "plt.plot(x, y_pred, color='red')\n",
    "plt.show()"
   ]
  },
  {
   "cell_type": "code",
   "execution_count": 175,
   "metadata": {},
   "outputs": [
    {
     "data": {
      "text/plain": [
       "0.35273777139785123"
      ]
     },
     "execution_count": 175,
     "metadata": {},
     "output_type": "execute_result"
    }
   ],
   "source": [
    "coefficient_of_determination = model.score(x,y) #R sqaure value \n",
    "coefficient_of_determination"
   ]
  },
  {
   "cell_type": "code",
   "execution_count": 176,
   "metadata": {},
   "outputs": [
    {
     "data": {
      "text/plain": [
       "array([[-13.56027885]])"
      ]
     },
     "execution_count": 176,
     "metadata": {},
     "output_type": "execute_result"
    }
   ],
   "source": [
    "all_act_2019_nonres_p18_24_slope = model.coef_\n",
    "all_act_2019_nonres_p18_24_slope"
   ]
  },
  {
   "cell_type": "markdown",
   "metadata": {},
   "source": [
    "## 2003-2019 Transportation - Age Between 18 and 24 "
   ]
  },
  {
   "cell_type": "markdown",
   "metadata": {},
   "source": [
    "### 2003 Transportation"
   ]
  },
  {
   "cell_type": "code",
   "execution_count": 177,
   "metadata": {},
   "outputs": [],
   "source": [
    "#transporation = 12, 13. 12 = Car, truck, or motorcycle (driver), 13= Car, truck, or motorcycle (passager)"
   ]
  },
  {
   "cell_type": "code",
   "execution_count": 178,
   "metadata": {},
   "outputs": [],
   "source": [
    "transpoartion_location = [12,13]\n",
    "atus_multi_yr_tran_p18_24 = multi_merged_p18_24loyed[multi_merged_p18_24loyed[\"TEWHERE\"].isin(transpoartion_location)]\n",
    "#atus_multi_yr_tran_p18_24"
   ]
  },
  {
   "cell_type": "code",
   "execution_count": 179,
   "metadata": {},
   "outputs": [],
   "source": [
    "#atus transportation p18_24loyed population seperated by year\n",
    "atus_2003_tran_p18_24 = atus_multi_yr_tran_p18_24[atus_multi_yr_tran_p18_24[\"TUCASEID\"].apply(str).str.startswith(\"2003\")]\n",
    "atus_2004_tran_p18_24 = atus_multi_yr_tran_p18_24[atus_multi_yr_tran_p18_24[\"TUCASEID\"].apply(str).str.startswith(\"2004\")]\n",
    "atus_2005_tran_p18_24 = atus_multi_yr_tran_p18_24[atus_multi_yr_tran_p18_24[\"TUCASEID\"].apply(str).str.startswith(\"2005\")]\n",
    "atus_2006_tran_p18_24 = atus_multi_yr_tran_p18_24[atus_multi_yr_tran_p18_24[\"TUCASEID\"].apply(str).str.startswith(\"2006\")]\n",
    "atus_2007_tran_p18_24 = atus_multi_yr_tran_p18_24[atus_multi_yr_tran_p18_24[\"TUCASEID\"].apply(str).str.startswith(\"2007\")]\n",
    "atus_2008_tran_p18_24 = atus_multi_yr_tran_p18_24[atus_multi_yr_tran_p18_24[\"TUCASEID\"].apply(str).str.startswith(\"2008\")]\n",
    "atus_2009_tran_p18_24 = atus_multi_yr_tran_p18_24[atus_multi_yr_tran_p18_24[\"TUCASEID\"].apply(str).str.startswith(\"2009\")]\n",
    "atus_2010_tran_p18_24 = atus_multi_yr_tran_p18_24[atus_multi_yr_tran_p18_24[\"TUCASEID\"].apply(str).str.startswith(\"2010\")]\n",
    "atus_2011_tran_p18_24 = atus_multi_yr_tran_p18_24[atus_multi_yr_tran_p18_24[\"TUCASEID\"].apply(str).str.startswith(\"2011\")]\n",
    "atus_2012_tran_p18_24 = atus_multi_yr_tran_p18_24[atus_multi_yr_tran_p18_24[\"TUCASEID\"].apply(str).str.startswith(\"2012\")]\n",
    "atus_2013_tran_p18_24 = atus_multi_yr_tran_p18_24[atus_multi_yr_tran_p18_24[\"TUCASEID\"].apply(str).str.startswith(\"2013\")]\n",
    "atus_2014_tran_p18_24 = atus_multi_yr_tran_p18_24[atus_multi_yr_tran_p18_24[\"TUCASEID\"].apply(str).str.startswith(\"2014\")]\n",
    "atus_2015_tran_p18_24 = atus_multi_yr_tran_p18_24[atus_multi_yr_tran_p18_24[\"TUCASEID\"].apply(str).str.startswith(\"2015\")]\n",
    "atus_2016_tran_p18_24 = atus_multi_yr_tran_p18_24[atus_multi_yr_tran_p18_24[\"TUCASEID\"].apply(str).str.startswith(\"2016\")]\n",
    "atus_2017_tran_p18_24 = atus_multi_yr_tran_p18_24[atus_multi_yr_tran_p18_24[\"TUCASEID\"].apply(str).str.startswith(\"2017\")]\n",
    "atus_2018_tran_p18_24 = atus_multi_yr_tran_p18_24[atus_multi_yr_tran_p18_24[\"TUCASEID\"].apply(str).str.startswith(\"2018\")]\n",
    "atus_2019_tran_p18_24 = atus_multi_yr_tran_p18_24[atus_multi_yr_tran_p18_24[\"TUCASEID\"].apply(str).str.startswith(\"2019\")]\n",
    "#atus_2003_tran_p18_24"
   ]
  },
  {
   "cell_type": "code",
   "execution_count": 180,
   "metadata": {},
   "outputs": [],
   "source": [
    "atus_2003_tran_p18_24 = atus_2003_tran_p18_24.groupby([\"TUCASEID\"]).sum().filter([\"TUCASEID\", \"TUACTDUR24\"])\n",
    "#atus_2003_tran_p18_24"
   ]
  },
  {
   "cell_type": "code",
   "execution_count": 181,
   "metadata": {},
   "outputs": [],
   "source": [
    "atus_2003_tran_p18_24_merge = pd.merge(atus_2003_tran_p18_24, multi_resp, on= \"TUCASEID\").filter([\"TUCASEID\",\"TUACTDUR24\",\"TUFNWGTP\"])\n",
    "#atus_2003_tran_p18_24_merge"
   ]
  },
  {
   "cell_type": "code",
   "execution_count": 182,
   "metadata": {},
   "outputs": [],
   "source": [
    "atus_2003_tran_p18_24_merge[\"Multiplied Weight\"] = atus_2003_tran_p18_24_merge[\"TUACTDUR24\"] * atus_2003_tran_p18_24_merge[\"TUFNWGTP\"]\n",
    "#atus_2003_tran_p18_24_merge"
   ]
  },
  {
   "cell_type": "code",
   "execution_count": 183,
   "metadata": {},
   "outputs": [
    {
     "data": {
      "text/plain": [
       "768866344490.3411"
      ]
     },
     "execution_count": 183,
     "metadata": {},
     "output_type": "execute_result"
    }
   ],
   "source": [
    "atus_2003_tran_p18_24_multiplied_weight = atus_2003_tran_p18_24_merge[\"Multiplied Weight\"].sum()\n",
    "atus_2003_tran_p18_24_multiplied_weight"
   ]
  },
  {
   "cell_type": "code",
   "execution_count": 184,
   "metadata": {},
   "outputs": [
    {
     "data": {
      "text/plain": [
       "1.3042182854829676"
      ]
     },
     "execution_count": 184,
     "metadata": {},
     "output_type": "execute_result"
    }
   ],
   "source": [
    "atus_2003_tran_p18_24_hpd = atus_2003_tran_p18_24_multiplied_weight / atus_2003_p18_24_weight / 60\n",
    "atus_2003_tran_p18_24_hpd"
   ]
  },
  {
   "cell_type": "markdown",
   "metadata": {},
   "source": [
    "### 2004 Transportation"
   ]
  },
  {
   "cell_type": "code",
   "execution_count": 185,
   "metadata": {},
   "outputs": [],
   "source": [
    "atus_2004_tran_p18_24 = atus_2004_tran_p18_24.groupby([\"TUCASEID\"]).sum().filter([\"TUCASEID\", \"TUACTDUR24\"])\n",
    "atus_2004_tran_p18_24_merge = pd.merge(atus_2004_tran_p18_24, multi_resp, on= \"TUCASEID\").filter([\"TUCASEID\",\"TUACTDUR24\",\"TUFNWGTP\"])\n",
    "#atus_2004_tran_p18_24_merge"
   ]
  },
  {
   "cell_type": "code",
   "execution_count": 186,
   "metadata": {},
   "outputs": [
    {
     "data": {
      "text/plain": [
       "711422918796.8995"
      ]
     },
     "execution_count": 186,
     "metadata": {},
     "output_type": "execute_result"
    }
   ],
   "source": [
    "atus_2004_tran_p18_24_merge[\"Multiplied Weight\"] = atus_2004_tran_p18_24_merge[\"TUACTDUR24\"] * atus_2004_tran_p18_24_merge[\"TUFNWGTP\"]\n",
    "atus_2004_tran_p18_24_multiplied_weight = atus_2004_tran_p18_24_merge[\"Multiplied Weight\"].sum()\n",
    "atus_2004_tran_p18_24_multiplied_weight"
   ]
  },
  {
   "cell_type": "code",
   "execution_count": 187,
   "metadata": {},
   "outputs": [
    {
     "data": {
      "text/plain": [
       "1.2024321300927816"
      ]
     },
     "execution_count": 187,
     "metadata": {},
     "output_type": "execute_result"
    }
   ],
   "source": [
    "atus_2004_tran_p18_24_hpd = atus_2004_tran_p18_24_multiplied_weight / atus_2004_p18_24_weight / 60\n",
    "atus_2004_tran_p18_24_hpd"
   ]
  },
  {
   "cell_type": "markdown",
   "metadata": {},
   "source": [
    "### 2005 Transportation"
   ]
  },
  {
   "cell_type": "code",
   "execution_count": 188,
   "metadata": {},
   "outputs": [],
   "source": [
    "atus_2005_tran_p18_24 = atus_2005_tran_p18_24.groupby([\"TUCASEID\"]).sum().filter([\"TUCASEID\", \"TUACTDUR24\"])\n",
    "atus_2005_tran_p18_24_merge = pd.merge(atus_2005_tran_p18_24, multi_resp, on= \"TUCASEID\").filter([\"TUCASEID\",\"TUACTDUR24\",\"TUFNWGTP\"])\n",
    "#atus_2005_tran_p18_24_merge"
   ]
  },
  {
   "cell_type": "code",
   "execution_count": 189,
   "metadata": {},
   "outputs": [
    {
     "data": {
      "text/plain": [
       "698370927281.5613"
      ]
     },
     "execution_count": 189,
     "metadata": {},
     "output_type": "execute_result"
    }
   ],
   "source": [
    "atus_2005_tran_p18_24_merge[\"Multiplied Weight\"] = atus_2005_tran_p18_24_merge[\"TUACTDUR24\"] * atus_2005_tran_p18_24_merge[\"TUFNWGTP\"]\n",
    "atus_2005_tran_p18_24_multiplied_weight = atus_2005_tran_p18_24_merge[\"Multiplied Weight\"].sum()\n",
    "atus_2005_tran_p18_24_multiplied_weight"
   ]
  },
  {
   "cell_type": "code",
   "execution_count": 190,
   "metadata": {},
   "outputs": [
    {
     "data": {
      "text/plain": [
       "1.1492387567497064"
      ]
     },
     "execution_count": 190,
     "metadata": {},
     "output_type": "execute_result"
    }
   ],
   "source": [
    "atus_2005_tran_p18_24_hpd = atus_2005_tran_p18_24_multiplied_weight / atus_2005_p18_24_weight / 60\n",
    "atus_2005_tran_p18_24_hpd"
   ]
  },
  {
   "cell_type": "markdown",
   "metadata": {},
   "source": [
    "### 2006 Transportation"
   ]
  },
  {
   "cell_type": "code",
   "execution_count": 191,
   "metadata": {},
   "outputs": [],
   "source": [
    "atus_2006_tran_p18_24 = atus_2006_tran_p18_24.groupby([\"TUCASEID\"]).sum().filter([\"TUCASEID\", \"TUACTDUR24\"])\n",
    "atus_2006_tran_p18_24_merge = pd.merge(atus_2006_tran_p18_24, multi_resp, on= \"TUCASEID\").filter([\"TUCASEID\",\"TUACTDUR24\",\"TUFNWGTP\"])\n",
    "#atus_2006_tran_p18_24_merge"
   ]
  },
  {
   "cell_type": "code",
   "execution_count": 192,
   "metadata": {},
   "outputs": [
    {
     "data": {
      "text/plain": [
       "686041437307.7454"
      ]
     },
     "execution_count": 192,
     "metadata": {},
     "output_type": "execute_result"
    }
   ],
   "source": [
    "atus_2006_tran_p18_24_merge[\"Multiplied Weight\"] = atus_2006_tran_p18_24_merge[\"TUACTDUR24\"] * atus_2006_tran_p18_24_merge[\"TUFNWGTP\"]\n",
    "atus_2006_tran_p18_24_multiplied_weight = atus_2006_tran_p18_24_merge[\"Multiplied Weight\"].sum()\n",
    "atus_2006_tran_p18_24_multiplied_weight"
   ]
  },
  {
   "cell_type": "code",
   "execution_count": 193,
   "metadata": {},
   "outputs": [
    {
     "data": {
      "text/plain": [
       "1.160348354493823"
      ]
     },
     "execution_count": 193,
     "metadata": {},
     "output_type": "execute_result"
    }
   ],
   "source": [
    "atus_2006_tran_p18_24_hpd = atus_2006_tran_p18_24_multiplied_weight / atus_2006_p18_24_weight / 60\n",
    "atus_2006_tran_p18_24_hpd"
   ]
  },
  {
   "cell_type": "markdown",
   "metadata": {},
   "source": [
    "### 2007 Transportation"
   ]
  },
  {
   "cell_type": "code",
   "execution_count": 194,
   "metadata": {},
   "outputs": [],
   "source": [
    "atus_2007_tran_p18_24 = atus_2007_tran_p18_24.groupby([\"TUCASEID\"]).sum().filter([\"TUCASEID\", \"TUACTDUR24\"])\n",
    "atus_2007_tran_p18_24_merge = pd.merge(atus_2007_tran_p18_24, multi_resp, on= \"TUCASEID\").filter([\"TUCASEID\",\"TUACTDUR24\",\"TUFNWGTP\"])\n",
    "#atus_2007_tran_p18_24_merge"
   ]
  },
  {
   "cell_type": "code",
   "execution_count": 195,
   "metadata": {},
   "outputs": [
    {
     "data": {
      "text/plain": [
       "680696828844.6843"
      ]
     },
     "execution_count": 195,
     "metadata": {},
     "output_type": "execute_result"
    }
   ],
   "source": [
    "atus_2007_tran_p18_24_merge[\"Multiplied Weight\"] = atus_2007_tran_p18_24_merge[\"TUACTDUR24\"] * atus_2007_tran_p18_24_merge[\"TUFNWGTP\"]\n",
    "atus_2007_tran_p18_24_multiplied_weight = atus_2007_tran_p18_24_merge[\"Multiplied Weight\"].sum()\n",
    "atus_2007_tran_p18_24_multiplied_weight"
   ]
  },
  {
   "cell_type": "code",
   "execution_count": 196,
   "metadata": {},
   "outputs": [
    {
     "data": {
      "text/plain": [
       "1.1344155901654107"
      ]
     },
     "execution_count": 196,
     "metadata": {},
     "output_type": "execute_result"
    }
   ],
   "source": [
    "atus_2007_tran_p18_24_hpd = atus_2007_tran_p18_24_multiplied_weight / atus_2007_p18_24_weight / 60\n",
    "atus_2007_tran_p18_24_hpd"
   ]
  },
  {
   "cell_type": "markdown",
   "metadata": {},
   "source": [
    "### 2008 Transportation"
   ]
  },
  {
   "cell_type": "code",
   "execution_count": 197,
   "metadata": {},
   "outputs": [],
   "source": [
    "atus_2008_tran_p18_24 = atus_2008_tran_p18_24.groupby([\"TUCASEID\"]).sum().filter([\"TUCASEID\", \"TUACTDUR24\"])\n",
    "atus_2008_tran_p18_24_merge = pd.merge(atus_2008_tran_p18_24, multi_resp, on= \"TUCASEID\").filter([\"TUCASEID\",\"TUACTDUR24\",\"TUFNWGTP\"])\n",
    "#atus_2008_tran_p18_24_merge"
   ]
  },
  {
   "cell_type": "code",
   "execution_count": 198,
   "metadata": {},
   "outputs": [
    {
     "data": {
      "text/plain": [
       "658746940131.8989"
      ]
     },
     "execution_count": 198,
     "metadata": {},
     "output_type": "execute_result"
    }
   ],
   "source": [
    "atus_2008_tran_p18_24_merge[\"Multiplied Weight\"] = atus_2008_tran_p18_24_merge[\"TUACTDUR24\"] * atus_2008_tran_p18_24_merge[\"TUFNWGTP\"]\n",
    "atus_2008_tran_p18_24_multiplied_weight = atus_2008_tran_p18_24_merge[\"Multiplied Weight\"].sum()\n",
    "atus_2008_tran_p18_24_multiplied_weight"
   ]
  },
  {
   "cell_type": "code",
   "execution_count": 199,
   "metadata": {},
   "outputs": [
    {
     "data": {
      "text/plain": [
       "1.1096794672784431"
      ]
     },
     "execution_count": 199,
     "metadata": {},
     "output_type": "execute_result"
    }
   ],
   "source": [
    "atus_2008_tran_p18_24_hpd = atus_2008_tran_p18_24_multiplied_weight / atus_2008_p18_24_weight / 60\n",
    "atus_2008_tran_p18_24_hpd"
   ]
  },
  {
   "cell_type": "markdown",
   "metadata": {},
   "source": [
    "### 2009 Transportation"
   ]
  },
  {
   "cell_type": "code",
   "execution_count": 200,
   "metadata": {},
   "outputs": [],
   "source": [
    "atus_2009_tran_p18_24 = atus_2009_tran_p18_24.groupby([\"TUCASEID\"]).sum().filter([\"TUCASEID\", \"TUACTDUR24\"])\n",
    "atus_2009_tran_p18_24_merge = pd.merge(atus_2009_tran_p18_24, multi_resp, on= \"TUCASEID\").filter([\"TUCASEID\",\"TUACTDUR24\",\"TUFNWGTP\"])\n",
    "#atus_2009_tran_p18_24_merge"
   ]
  },
  {
   "cell_type": "code",
   "execution_count": 201,
   "metadata": {},
   "outputs": [
    {
     "data": {
      "text/plain": [
       "697470227477.1593"
      ]
     },
     "execution_count": 201,
     "metadata": {},
     "output_type": "execute_result"
    }
   ],
   "source": [
    "atus_2009_tran_p18_24_merge[\"Multiplied Weight\"] = atus_2009_tran_p18_24_merge[\"TUACTDUR24\"] * atus_2009_tran_p18_24_merge[\"TUFNWGTP\"]\n",
    "atus_2009_tran_p18_24_multiplied_weight = atus_2009_tran_p18_24_merge[\"Multiplied Weight\"].sum()\n",
    "atus_2009_tran_p18_24_multiplied_weight"
   ]
  },
  {
   "cell_type": "code",
   "execution_count": 202,
   "metadata": {},
   "outputs": [
    {
     "data": {
      "text/plain": [
       "1.1602515422330983"
      ]
     },
     "execution_count": 202,
     "metadata": {},
     "output_type": "execute_result"
    }
   ],
   "source": [
    "atus_2009_tran_p18_24_hpd = atus_2009_tran_p18_24_multiplied_weight / atus_2009_p18_24_weight / 60\n",
    "atus_2009_tran_p18_24_hpd"
   ]
  },
  {
   "cell_type": "markdown",
   "metadata": {},
   "source": [
    "### 2010 Transportation"
   ]
  },
  {
   "cell_type": "code",
   "execution_count": 203,
   "metadata": {},
   "outputs": [],
   "source": [
    "atus_2010_tran_p18_24 = atus_2010_tran_p18_24.groupby([\"TUCASEID\"]).sum().filter([\"TUCASEID\", \"TUACTDUR24\"])\n",
    "atus_2010_tran_p18_24_merge = pd.merge(atus_2010_tran_p18_24, multi_resp, on= \"TUCASEID\").filter([\"TUCASEID\",\"TUACTDUR24\",\"TUFNWGTP\"])\n",
    "#atus_2010_tran_p18_24_merge"
   ]
  },
  {
   "cell_type": "code",
   "execution_count": 204,
   "metadata": {},
   "outputs": [
    {
     "data": {
      "text/plain": [
       "643693190212.7354"
      ]
     },
     "execution_count": 204,
     "metadata": {},
     "output_type": "execute_result"
    }
   ],
   "source": [
    "atus_2010_tran_p18_24_merge[\"Multiplied Weight\"] = atus_2010_tran_p18_24_merge[\"TUACTDUR24\"] * atus_2010_tran_p18_24_merge[\"TUFNWGTP\"]\n",
    "atus_2010_tran_p18_24_multiplied_weight = atus_2010_tran_p18_24_merge[\"Multiplied Weight\"].sum()\n",
    "atus_2010_tran_p18_24_multiplied_weight"
   ]
  },
  {
   "cell_type": "code",
   "execution_count": 205,
   "metadata": {},
   "outputs": [
    {
     "data": {
      "text/plain": [
       "1.040593263197682"
      ]
     },
     "execution_count": 205,
     "metadata": {},
     "output_type": "execute_result"
    }
   ],
   "source": [
    "atus_2010_tran_p18_24_hpd = atus_2010_tran_p18_24_multiplied_weight / atus_2010_p18_24_weight / 60\n",
    "atus_2010_tran_p18_24_hpd"
   ]
  },
  {
   "cell_type": "markdown",
   "metadata": {},
   "source": [
    "### 2011 Transportation"
   ]
  },
  {
   "cell_type": "code",
   "execution_count": 206,
   "metadata": {},
   "outputs": [],
   "source": [
    "atus_2011_tran_p18_24 = atus_2011_tran_p18_24.groupby([\"TUCASEID\"]).sum().filter([\"TUCASEID\", \"TUACTDUR24\"])\n",
    "atus_2011_tran_p18_24_merge = pd.merge(atus_2011_tran_p18_24, multi_resp, on= \"TUCASEID\").filter([\"TUCASEID\",\"TUACTDUR24\",\"TUFNWGTP\"])\n",
    "#atus_2011_tran_p18_24_merge"
   ]
  },
  {
   "cell_type": "code",
   "execution_count": 207,
   "metadata": {},
   "outputs": [
    {
     "data": {
      "text/plain": [
       "621419349380.4226"
      ]
     },
     "execution_count": 207,
     "metadata": {},
     "output_type": "execute_result"
    }
   ],
   "source": [
    "atus_2011_tran_p18_24_merge[\"Multiplied Weight\"] = atus_2011_tran_p18_24_merge[\"TUACTDUR24\"] * atus_2011_tran_p18_24_merge[\"TUFNWGTP\"]\n",
    "atus_2011_tran_p18_24_multiplied_weight = atus_2011_tran_p18_24_merge[\"Multiplied Weight\"].sum()\n",
    "atus_2011_tran_p18_24_multiplied_weight"
   ]
  },
  {
   "cell_type": "code",
   "execution_count": 208,
   "metadata": {},
   "outputs": [
    {
     "data": {
      "text/plain": [
       "0.9725715832460685"
      ]
     },
     "execution_count": 208,
     "metadata": {},
     "output_type": "execute_result"
    }
   ],
   "source": [
    "atus_2011_tran_p18_24_hpd = atus_2011_tran_p18_24_multiplied_weight / atus_2011_p18_24_weight / 60\n",
    "atus_2011_tran_p18_24_hpd"
   ]
  },
  {
   "cell_type": "markdown",
   "metadata": {},
   "source": [
    "### 2012 Transportation"
   ]
  },
  {
   "cell_type": "code",
   "execution_count": 209,
   "metadata": {},
   "outputs": [],
   "source": [
    "atus_2012_tran_p18_24 = atus_2012_tran_p18_24.groupby([\"TUCASEID\"]).sum().filter([\"TUCASEID\", \"TUACTDUR24\"])\n",
    "atus_2012_tran_p18_24_merge = pd.merge(atus_2012_tran_p18_24, multi_resp, on= \"TUCASEID\").filter([\"TUCASEID\",\"TUACTDUR24\",\"TUFNWGTP\"])\n",
    "#atus_2012_tran_p18_24_merge"
   ]
  },
  {
   "cell_type": "code",
   "execution_count": 210,
   "metadata": {},
   "outputs": [
    {
     "data": {
      "text/plain": [
       "714077004989.4373"
      ]
     },
     "execution_count": 210,
     "metadata": {},
     "output_type": "execute_result"
    }
   ],
   "source": [
    "atus_2012_tran_p18_24_merge[\"Multiplied Weight\"] = atus_2012_tran_p18_24_merge[\"TUACTDUR24\"] * atus_2012_tran_p18_24_merge[\"TUFNWGTP\"]\n",
    "atus_2012_tran_p18_24_multiplied_weight = atus_2012_tran_p18_24_merge[\"Multiplied Weight\"].sum()\n",
    "atus_2012_tran_p18_24_multiplied_weight"
   ]
  },
  {
   "cell_type": "code",
   "execution_count": 211,
   "metadata": {},
   "outputs": [
    {
     "data": {
      "text/plain": [
       "1.1222488104897905"
      ]
     },
     "execution_count": 211,
     "metadata": {},
     "output_type": "execute_result"
    }
   ],
   "source": [
    "atus_2012_tran_p18_24_hpd = atus_2012_tran_p18_24_multiplied_weight / atus_2012_p18_24_weight / 60\n",
    "atus_2012_tran_p18_24_hpd"
   ]
  },
  {
   "cell_type": "markdown",
   "metadata": {},
   "source": [
    "### 2013 Transportation"
   ]
  },
  {
   "cell_type": "code",
   "execution_count": 212,
   "metadata": {},
   "outputs": [],
   "source": [
    "atus_2013_tran_p18_24 = atus_2013_tran_p18_24.groupby([\"TUCASEID\"]).sum().filter([\"TUCASEID\", \"TUACTDUR24\"])\n",
    "atus_2013_tran_p18_24_merge = pd.merge(atus_2013_tran_p18_24, multi_resp, on= \"TUCASEID\").filter([\"TUCASEID\",\"TUACTDUR24\",\"TUFNWGTP\"])\n",
    "#atus_2013_tran_p18_24_merge"
   ]
  },
  {
   "cell_type": "code",
   "execution_count": 213,
   "metadata": {},
   "outputs": [
    {
     "data": {
      "text/plain": [
       "696192827120.7576"
      ]
     },
     "execution_count": 213,
     "metadata": {},
     "output_type": "execute_result"
    }
   ],
   "source": [
    "atus_2013_tran_p18_24_merge[\"Multiplied Weight\"] = atus_2013_tran_p18_24_merge[\"TUACTDUR24\"] * atus_2013_tran_p18_24_merge[\"TUFNWGTP\"]\n",
    "atus_2013_tran_p18_24_multiplied_weight = atus_2013_tran_p18_24_merge[\"Multiplied Weight\"].sum()\n",
    "atus_2013_tran_p18_24_multiplied_weight"
   ]
  },
  {
   "cell_type": "code",
   "execution_count": 214,
   "metadata": {},
   "outputs": [
    {
     "data": {
      "text/plain": [
       "1.0767027722757505"
      ]
     },
     "execution_count": 214,
     "metadata": {},
     "output_type": "execute_result"
    }
   ],
   "source": [
    "atus_2013_tran_p18_24_hpd = atus_2013_tran_p18_24_multiplied_weight / atus_2013_p18_24_weight / 60\n",
    "atus_2013_tran_p18_24_hpd"
   ]
  },
  {
   "cell_type": "markdown",
   "metadata": {},
   "source": [
    "### 2014 Transportation"
   ]
  },
  {
   "cell_type": "code",
   "execution_count": 215,
   "metadata": {},
   "outputs": [],
   "source": [
    "atus_2014_tran_p18_24 = atus_2014_tran_p18_24.groupby([\"TUCASEID\"]).sum().filter([\"TUCASEID\", \"TUACTDUR24\"])\n",
    "atus_2014_tran_p18_24_merge = pd.merge(atus_2014_tran_p18_24, multi_resp, on= \"TUCASEID\").filter([\"TUCASEID\",\"TUACTDUR24\",\"TUFNWGTP\"])\n",
    "#atus_2014_tran_p18_24_merge"
   ]
  },
  {
   "cell_type": "code",
   "execution_count": 216,
   "metadata": {},
   "outputs": [
    {
     "data": {
      "text/plain": [
       "649540600851.2095"
      ]
     },
     "execution_count": 216,
     "metadata": {},
     "output_type": "execute_result"
    }
   ],
   "source": [
    "atus_2014_tran_p18_24_merge[\"Multiplied Weight\"] = atus_2014_tran_p18_24_merge[\"TUACTDUR24\"] * atus_2014_tran_p18_24_merge[\"TUFNWGTP\"]\n",
    "atus_2014_tran_p18_24_multiplied_weight = atus_2014_tran_p18_24_merge[\"Multiplied Weight\"].sum()\n",
    "atus_2014_tran_p18_24_multiplied_weight"
   ]
  },
  {
   "cell_type": "code",
   "execution_count": 217,
   "metadata": {},
   "outputs": [
    {
     "data": {
      "text/plain": [
       "0.9973917826185634"
      ]
     },
     "execution_count": 217,
     "metadata": {},
     "output_type": "execute_result"
    }
   ],
   "source": [
    "atus_2014_tran_p18_24_hpd = atus_2014_tran_p18_24_multiplied_weight / atus_2014_p18_24_weight / 60\n",
    "atus_2014_tran_p18_24_hpd"
   ]
  },
  {
   "cell_type": "markdown",
   "metadata": {},
   "source": [
    "### 2015 Transportation"
   ]
  },
  {
   "cell_type": "code",
   "execution_count": 218,
   "metadata": {},
   "outputs": [],
   "source": [
    "atus_2015_tran_p18_24 = atus_2015_tran_p18_24.groupby([\"TUCASEID\"]).sum().filter([\"TUCASEID\", \"TUACTDUR24\"])\n",
    "atus_2015_tran_p18_24_merge = pd.merge(atus_2015_tran_p18_24, multi_resp, on= \"TUCASEID\").filter([\"TUCASEID\",\"TUACTDUR24\",\"TUFNWGTP\"])\n",
    "#atus_2015_tran_p18_24_merge"
   ]
  },
  {
   "cell_type": "code",
   "execution_count": 219,
   "metadata": {},
   "outputs": [
    {
     "data": {
      "text/plain": [
       "631022680937.2367"
      ]
     },
     "execution_count": 219,
     "metadata": {},
     "output_type": "execute_result"
    }
   ],
   "source": [
    "atus_2015_tran_p18_24_merge[\"Multiplied Weight\"] = atus_2015_tran_p18_24_merge[\"TUACTDUR24\"] * atus_2015_tran_p18_24_merge[\"TUFNWGTP\"]\n",
    "atus_2015_tran_p18_24_multiplied_weight = atus_2015_tran_p18_24_merge[\"Multiplied Weight\"].sum()\n",
    "atus_2015_tran_p18_24_multiplied_weight"
   ]
  },
  {
   "cell_type": "code",
   "execution_count": 220,
   "metadata": {},
   "outputs": [
    {
     "data": {
      "text/plain": [
       "0.9771382900325055"
      ]
     },
     "execution_count": 220,
     "metadata": {},
     "output_type": "execute_result"
    }
   ],
   "source": [
    "atus_2015_tran_p18_24_hpd = atus_2015_tran_p18_24_multiplied_weight / atus_2015_p18_24_weight / 60\n",
    "atus_2015_tran_p18_24_hpd"
   ]
  },
  {
   "cell_type": "markdown",
   "metadata": {},
   "source": [
    "### 2016 Transportation"
   ]
  },
  {
   "cell_type": "code",
   "execution_count": 221,
   "metadata": {},
   "outputs": [],
   "source": [
    "atus_2016_tran_p18_24 = atus_2016_tran_p18_24.groupby([\"TUCASEID\"]).sum().filter([\"TUCASEID\", \"TUACTDUR24\"])\n",
    "atus_2016_tran_p18_24_merge = pd.merge(atus_2016_tran_p18_24, multi_resp, on= \"TUCASEID\").filter([\"TUCASEID\",\"TUACTDUR24\",\"TUFNWGTP\"])\n",
    "#atus_2016_tran_p18_24_merge"
   ]
  },
  {
   "cell_type": "code",
   "execution_count": 222,
   "metadata": {},
   "outputs": [
    {
     "data": {
      "text/plain": [
       "671767513726.1469"
      ]
     },
     "execution_count": 222,
     "metadata": {},
     "output_type": "execute_result"
    }
   ],
   "source": [
    "atus_2016_tran_p18_24_merge[\"Multiplied Weight\"] = atus_2016_tran_p18_24_merge[\"TUACTDUR24\"] * atus_2016_tran_p18_24_merge[\"TUFNWGTP\"]\n",
    "atus_2016_tran_p18_24_multiplied_weight = atus_2016_tran_p18_24_merge[\"Multiplied Weight\"].sum()\n",
    "atus_2016_tran_p18_24_multiplied_weight"
   ]
  },
  {
   "cell_type": "code",
   "execution_count": 223,
   "metadata": {},
   "outputs": [
    {
     "data": {
      "text/plain": [
       "1.0620588380244076"
      ]
     },
     "execution_count": 223,
     "metadata": {},
     "output_type": "execute_result"
    }
   ],
   "source": [
    "atus_2016_tran_p18_24_hpd = atus_2016_tran_p18_24_multiplied_weight / atus_2016_p18_24_weight / 60\n",
    "atus_2016_tran_p18_24_hpd"
   ]
  },
  {
   "cell_type": "markdown",
   "metadata": {},
   "source": [
    "### 2017 Transportation"
   ]
  },
  {
   "cell_type": "code",
   "execution_count": 224,
   "metadata": {},
   "outputs": [],
   "source": [
    "atus_2017_tran_p18_24 = atus_2017_tran_p18_24.groupby([\"TUCASEID\"]).sum().filter([\"TUCASEID\", \"TUACTDUR24\"])\n",
    "atus_2017_tran_p18_24_merge = pd.merge(atus_2017_tran_p18_24, multi_resp, on= \"TUCASEID\").filter([\"TUCASEID\",\"TUACTDUR24\",\"TUFNWGTP\"])\n",
    "#atus_2017_tran_p18_24_merge"
   ]
  },
  {
   "cell_type": "code",
   "execution_count": 225,
   "metadata": {},
   "outputs": [
    {
     "data": {
      "text/plain": [
       "657921033133.7007"
      ]
     },
     "execution_count": 225,
     "metadata": {},
     "output_type": "execute_result"
    }
   ],
   "source": [
    "atus_2017_tran_p18_24_merge[\"Multiplied Weight\"] = atus_2017_tran_p18_24_merge[\"TUACTDUR24\"] * atus_2017_tran_p18_24_merge[\"TUFNWGTP\"]\n",
    "atus_2017_tran_p18_24_multiplied_weight = atus_2017_tran_p18_24_merge[\"Multiplied Weight\"].sum()\n",
    "atus_2017_tran_p18_24_multiplied_weight"
   ]
  },
  {
   "cell_type": "code",
   "execution_count": 226,
   "metadata": {},
   "outputs": [
    {
     "data": {
      "text/plain": [
       "1.0370855873091924"
      ]
     },
     "execution_count": 226,
     "metadata": {},
     "output_type": "execute_result"
    }
   ],
   "source": [
    "atus_2017_tran_p18_24_hpd = atus_2017_tran_p18_24_multiplied_weight / atus_2017_p18_24_weight / 60\n",
    "atus_2017_tran_p18_24_hpd"
   ]
  },
  {
   "cell_type": "markdown",
   "metadata": {},
   "source": [
    "### 2018 Transportation"
   ]
  },
  {
   "cell_type": "code",
   "execution_count": 227,
   "metadata": {},
   "outputs": [],
   "source": [
    "atus_2018_tran_p18_24 = atus_2018_tran_p18_24.groupby([\"TUCASEID\"]).sum().filter([\"TUCASEID\", \"TUACTDUR24\"])\n",
    "atus_2018_tran_p18_24_merge = pd.merge(atus_2018_tran_p18_24, multi_resp, on= \"TUCASEID\").filter([\"TUCASEID\",\"TUACTDUR24\",\"TUFNWGTP\"])\n",
    "#atus_2018_tran_p18_24_merge"
   ]
  },
  {
   "cell_type": "code",
   "execution_count": 228,
   "metadata": {},
   "outputs": [
    {
     "data": {
      "text/plain": [
       "694635712215.427"
      ]
     },
     "execution_count": 228,
     "metadata": {},
     "output_type": "execute_result"
    }
   ],
   "source": [
    "atus_2018_tran_p18_24_merge[\"Multiplied Weight\"] = atus_2018_tran_p18_24_merge[\"TUACTDUR24\"] * atus_2018_tran_p18_24_merge[\"TUFNWGTP\"]\n",
    "atus_2018_tran_p18_24_multiplied_weight = atus_2018_tran_p18_24_merge[\"Multiplied Weight\"].sum()\n",
    "atus_2018_tran_p18_24_multiplied_weight"
   ]
  },
  {
   "cell_type": "code",
   "execution_count": 229,
   "metadata": {},
   "outputs": [
    {
     "data": {
      "text/plain": [
       "1.0847680804341904"
      ]
     },
     "execution_count": 229,
     "metadata": {},
     "output_type": "execute_result"
    }
   ],
   "source": [
    "atus_2018_tran_p18_24_hpd = atus_2018_tran_p18_24_multiplied_weight / atus_2018_p18_24_weight / 60\n",
    "atus_2018_tran_p18_24_hpd"
   ]
  },
  {
   "cell_type": "markdown",
   "metadata": {},
   "source": [
    "### 2019 Transportation"
   ]
  },
  {
   "cell_type": "code",
   "execution_count": 230,
   "metadata": {},
   "outputs": [],
   "source": [
    "atus_2019_tran_p18_24 = atus_2019_tran_p18_24.groupby([\"TUCASEID\"]).sum().filter([\"TUCASEID\", \"TUACTDUR24\"])\n",
    "atus_2019_tran_p18_24_merge = pd.merge(atus_2019_tran_p18_24, multi_resp, on= \"TUCASEID\").filter([\"TUCASEID\",\"TUACTDUR24\",\"TUFNWGTP\"])\n",
    "#atus_2019_tran_p18_24_merge"
   ]
  },
  {
   "cell_type": "code",
   "execution_count": 231,
   "metadata": {},
   "outputs": [
    {
     "data": {
      "text/plain": [
       "644415802673.9042"
      ]
     },
     "execution_count": 231,
     "metadata": {},
     "output_type": "execute_result"
    }
   ],
   "source": [
    "atus_2019_tran_p18_24_merge[\"Multiplied Weight\"] = atus_2019_tran_p18_24_merge[\"TUACTDUR24\"] * atus_2019_tran_p18_24_merge[\"TUFNWGTP\"]\n",
    "atus_2019_tran_p18_24_multiplied_weight = atus_2019_tran_p18_24_merge[\"Multiplied Weight\"].sum()\n",
    "atus_2019_tran_p18_24_multiplied_weight"
   ]
  },
  {
   "cell_type": "code",
   "execution_count": 232,
   "metadata": {},
   "outputs": [
    {
     "data": {
      "text/plain": [
       "1.0439445816957353"
      ]
     },
     "execution_count": 232,
     "metadata": {},
     "output_type": "execute_result"
    }
   ],
   "source": [
    "atus_2019_tran_p18_24_hpd = atus_2019_tran_p18_24_multiplied_weight / atus_2019_p18_24_weight / 60\n",
    "atus_2019_tran_p18_24_hpd"
   ]
  },
  {
   "cell_type": "markdown",
   "metadata": {},
   "source": [
    "### Regresssion: Transportation - Age Between 18 and 24 "
   ]
  },
  {
   "cell_type": "markdown",
   "metadata": {},
   "source": [
    "#### 2003 -2012 Regression"
   ]
  },
  {
   "cell_type": "code",
   "execution_count": 233,
   "metadata": {},
   "outputs": [],
   "source": [
    "year = np.array([2003, 2004, 2005, 2006, 2007, 2008, 2009, 2010,2011,2012]).reshape((-1, 1))\n",
    "activity_hours_per_day = np.array([atus_2003_tran_p18_24_hpd, atus_2004_tran_p18_24_hpd, atus_2005_tran_p18_24_hpd,\n",
    "                                   atus_2006_tran_p18_24_hpd, atus_2007_tran_p18_24_hpd, atus_2008_tran_p18_24_hpd,\n",
    "                                   atus_2009_tran_p18_24_hpd, atus_2010_tran_p18_24_hpd, atus_2011_tran_p18_24_hpd,\n",
    "                                   atus_2012_tran_p18_24_hpd]).reshape((-1, 1))\n",
    "\n",
    "activity_hours_per_yr = [i * 365 for i in activity_hours_per_day]\n",
    "#activity_hours_per_yr"
   ]
  },
  {
   "cell_type": "code",
   "execution_count": 234,
   "metadata": {},
   "outputs": [
    {
     "data": {
      "image/png": "[encoded data removed]",
      "text/plain": [
       "<Figure size 432x288 with 1 Axes>"
      ]
     },
     "metadata": {
      "needs_background": "light"
     },
     "output_type": "display_data"
    }
   ],
   "source": [
    "x = year\n",
    "y = activity_hours_per_yr\n",
    "x, y = np.array(x), np.array(y)\n",
    "\n",
    "model = LinearRegression().fit(x, y)\n",
    "\n",
    "y_pred = model.predict(x)  \n",
    "\n",
    "plt.scatter(x, y)\n",
    "plt.plot(x, y_pred, color='red')\n",
    "plt.show()"
   ]
  },
  {
   "cell_type": "code",
   "execution_count": 235,
   "metadata": {},
   "outputs": [
    {
     "data": {
      "text/plain": [
       "0.6232787491711638"
      ]
     },
     "execution_count": 235,
     "metadata": {},
     "output_type": "execute_result"
    }
   ],
   "source": [
    "coefficient_of_determination = model.score(x,y) #R sqaure value \n",
    "coefficient_of_determination"
   ]
  },
  {
   "cell_type": "code",
   "execution_count": 236,
   "metadata": {},
   "outputs": [
    {
     "data": {
      "text/plain": [
       "array([[-8.43924935]])"
      ]
     },
     "execution_count": 236,
     "metadata": {},
     "output_type": "execute_result"
    }
   ],
   "source": [
    "tran_2012_p18_24_slope = model.coef_\n",
    "tran_2012_p18_24_slope"
   ]
  },
  {
   "cell_type": "markdown",
   "metadata": {},
   "source": [
    "#### 2003 -2019 Regression"
   ]
  },
  {
   "cell_type": "code",
   "execution_count": 237,
   "metadata": {},
   "outputs": [],
   "source": [
    "year = np.array([2003, 2004, 2005, 2006, 2007, 2008, 2009, 2010,2011,2012, 2013, 2014, 2015, 2016, 2017, 2018, 2019]).reshape((-1, 1))\n",
    "activity_hours_per_day = np.array([atus_2003_tran_p18_24_hpd, atus_2004_tran_p18_24_hpd, atus_2005_tran_p18_24_hpd,\n",
    "                                   atus_2006_tran_p18_24_hpd, atus_2007_tran_p18_24_hpd, atus_2008_tran_p18_24_hpd,\n",
    "                                   atus_2009_tran_p18_24_hpd, atus_2010_tran_p18_24_hpd, atus_2011_tran_p18_24_hpd,\n",
    "                                   atus_2012_tran_p18_24_hpd, atus_2013_tran_p18_24_hpd, atus_2014_tran_p18_24_hpd,\n",
    "                                   atus_2015_tran_p18_24_hpd, atus_2016_tran_p18_24_hpd, atus_2017_tran_p18_24_hpd,\n",
    "                                   atus_2018_tran_p18_24_hpd, atus_2019_tran_p18_24_hpd]).reshape((-1, 1))\n",
    "\n",
    "activity_hours_per_yr = [i * 365 for i in activity_hours_per_day]\n",
    "#activity_hours_per_yr"
   ]
  },
  {
   "cell_type": "code",
   "execution_count": 238,
   "metadata": {},
   "outputs": [
    {
     "data": {
      "image/png": "[encoded data removed]",
      "text/plain": [
       "<Figure size 432x288 with 1 Axes>"
      ]
     },
     "metadata": {
      "needs_background": "light"
     },
     "output_type": "display_data"
    }
   ],
   "source": [
    "x = year\n",
    "y = activity_hours_per_yr\n",
    "x, y = np.array(x), np.array(y)\n",
    "\n",
    "model = LinearRegression().fit(x, y)\n",
    "\n",
    "y_pred = model.predict(x)  \n",
    "\n",
    "plt.scatter(x, y)\n",
    "plt.plot(x, y_pred, color='red')\n",
    "plt.show()"
   ]
  },
  {
   "cell_type": "code",
   "execution_count": 239,
   "metadata": {},
   "outputs": [
    {
     "data": {
      "text/plain": [
       "0.5442690447208953"
      ]
     },
     "execution_count": 239,
     "metadata": {},
     "output_type": "execute_result"
    }
   ],
   "source": [
    "coefficient_of_determination = model.score(x,y) #R sqaure value \n",
    "coefficient_of_determination"
   ]
  },
  {
   "cell_type": "code",
   "execution_count": 240,
   "metadata": {},
   "outputs": [
    {
     "data": {
      "text/plain": [
       "array([[-4.58184037]])"
      ]
     },
     "execution_count": 240,
     "metadata": {},
     "output_type": "execute_result"
    }
   ],
   "source": [
    "tran_2019_p18_24_slope = model.coef_\n",
    "tran_2019_p18_24_slope"
   ]
  },
  {
   "cell_type": "markdown",
   "metadata": {},
   "source": [
    "### 2003-2019 - Unspecified- Age Between 18 and 24 "
   ]
  },
  {
   "cell_type": "code",
   "execution_count": 241,
   "metadata": {},
   "outputs": [],
   "source": [
    "#unspecified = 89, 89 = Unspecified place"
   ]
  },
  {
   "cell_type": "code",
   "execution_count": 242,
   "metadata": {},
   "outputs": [
    {
     "data": {
      "text/html": [
       "<div>\n",
       "<style scoped>\n",
       "    .dataframe tbody tr th:only-of-type {\n",
       "        vertical-align: middle;\n",
       "    }\n",
       "\n",
       "    .dataframe tbody tr th {\n",
       "        vertical-align: top;\n",
       "    }\n",
       "\n",
       "    .dataframe thead th {\n",
       "        text-align: right;\n",
       "    }\n",
       "</style>\n",
       "<table border=\"1\" class=\"dataframe\">\n",
       "  <thead>\n",
       "    <tr style=\"text-align: right;\">\n",
       "      <th></th>\n",
       "      <th>TUCASEID</th>\n",
       "      <th>TUACTDUR24</th>\n",
       "      <th>TUCUMDUR</th>\n",
       "      <th>TRTIER1P</th>\n",
       "      <th>TRTIER2P</th>\n",
       "      <th>TRCODEP</th>\n",
       "      <th>TEWHERE</th>\n",
       "      <th>TEAGE</th>\n",
       "      <th>TUFNWGTP</th>\n",
       "      <th>TUSTARTTIM</th>\n",
       "      <th>TUSTOPTIME</th>\n",
       "      <th>TUYEAR</th>\n",
       "    </tr>\n",
       "  </thead>\n",
       "  <tbody>\n",
       "    <tr>\n",
       "      <th>1944</th>\n",
       "      <td>20030101031604</td>\n",
       "      <td>1</td>\n",
       "      <td>1122</td>\n",
       "      <td>04</td>\n",
       "      <td>0405</td>\n",
       "      <td>040507</td>\n",
       "      <td>89</td>\n",
       "      <td>24</td>\n",
       "      <td>2.249413e+06</td>\n",
       "      <td>22:41:00</td>\n",
       "      <td>22:42:00</td>\n",
       "      <td>2003</td>\n",
       "    </tr>\n",
       "    <tr>\n",
       "      <th>5543</th>\n",
       "      <td>20030111020795</td>\n",
       "      <td>1</td>\n",
       "      <td>1026</td>\n",
       "      <td>04</td>\n",
       "      <td>0401</td>\n",
       "      <td>040112</td>\n",
       "      <td>89</td>\n",
       "      <td>19</td>\n",
       "      <td>5.846569e+06</td>\n",
       "      <td>21:05:00</td>\n",
       "      <td>21:06:00</td>\n",
       "      <td>2003</td>\n",
       "    </tr>\n",
       "    <tr>\n",
       "      <th>6914</th>\n",
       "      <td>20030111021664</td>\n",
       "      <td>5</td>\n",
       "      <td>1036</td>\n",
       "      <td>04</td>\n",
       "      <td>0405</td>\n",
       "      <td>040507</td>\n",
       "      <td>89</td>\n",
       "      <td>18</td>\n",
       "      <td>1.720062e+06</td>\n",
       "      <td>21:11:00</td>\n",
       "      <td>21:16:00</td>\n",
       "      <td>2003</td>\n",
       "    </tr>\n",
       "    <tr>\n",
       "      <th>6922</th>\n",
       "      <td>20030111021664</td>\n",
       "      <td>2</td>\n",
       "      <td>1282</td>\n",
       "      <td>04</td>\n",
       "      <td>0405</td>\n",
       "      <td>040507</td>\n",
       "      <td>89</td>\n",
       "      <td>18</td>\n",
       "      <td>1.720062e+06</td>\n",
       "      <td>01:20:00</td>\n",
       "      <td>01:22:00</td>\n",
       "      <td>2003</td>\n",
       "    </tr>\n",
       "    <tr>\n",
       "      <th>8804</th>\n",
       "      <td>20030111022667</td>\n",
       "      <td>1</td>\n",
       "      <td>485</td>\n",
       "      <td>04</td>\n",
       "      <td>0405</td>\n",
       "      <td>040507</td>\n",
       "      <td>89</td>\n",
       "      <td>22</td>\n",
       "      <td>2.903227e+06</td>\n",
       "      <td>12:04:00</td>\n",
       "      <td>12:05:00</td>\n",
       "      <td>2003</td>\n",
       "    </tr>\n",
       "    <tr>\n",
       "      <th>...</th>\n",
       "      <td>...</td>\n",
       "      <td>...</td>\n",
       "      <td>...</td>\n",
       "      <td>...</td>\n",
       "      <td>...</td>\n",
       "      <td>...</td>\n",
       "      <td>...</td>\n",
       "      <td>...</td>\n",
       "      <td>...</td>\n",
       "      <td>...</td>\n",
       "      <td>...</td>\n",
       "      <td>...</td>\n",
       "    </tr>\n",
       "    <tr>\n",
       "      <th>4040485</th>\n",
       "      <td>20190706191372</td>\n",
       "      <td>3</td>\n",
       "      <td>278</td>\n",
       "      <td>04</td>\n",
       "      <td>0405</td>\n",
       "      <td>040507</td>\n",
       "      <td>89</td>\n",
       "      <td>18</td>\n",
       "      <td>3.062553e+07</td>\n",
       "      <td>08:35:00</td>\n",
       "      <td>08:38:00</td>\n",
       "      <td>2019</td>\n",
       "    </tr>\n",
       "    <tr>\n",
       "      <th>4040493</th>\n",
       "      <td>20190706191372</td>\n",
       "      <td>10</td>\n",
       "      <td>620</td>\n",
       "      <td>04</td>\n",
       "      <td>0405</td>\n",
       "      <td>040508</td>\n",
       "      <td>89</td>\n",
       "      <td>18</td>\n",
       "      <td>3.062553e+07</td>\n",
       "      <td>14:10:00</td>\n",
       "      <td>14:20:00</td>\n",
       "      <td>2019</td>\n",
       "    </tr>\n",
       "    <tr>\n",
       "      <th>4040495</th>\n",
       "      <td>20190706191372</td>\n",
       "      <td>15</td>\n",
       "      <td>645</td>\n",
       "      <td>04</td>\n",
       "      <td>0405</td>\n",
       "      <td>040508</td>\n",
       "      <td>89</td>\n",
       "      <td>18</td>\n",
       "      <td>3.062553e+07</td>\n",
       "      <td>14:30:00</td>\n",
       "      <td>14:45:00</td>\n",
       "      <td>2019</td>\n",
       "    </tr>\n",
       "    <tr>\n",
       "      <th>4042095</th>\n",
       "      <td>20190706191701</td>\n",
       "      <td>5</td>\n",
       "      <td>925</td>\n",
       "      <td>04</td>\n",
       "      <td>0405</td>\n",
       "      <td>040507</td>\n",
       "      <td>89</td>\n",
       "      <td>18</td>\n",
       "      <td>1.491221e+07</td>\n",
       "      <td>19:20:00</td>\n",
       "      <td>19:25:00</td>\n",
       "      <td>2019</td>\n",
       "    </tr>\n",
       "    <tr>\n",
       "      <th>4042099</th>\n",
       "      <td>20190706191701</td>\n",
       "      <td>1</td>\n",
       "      <td>1036</td>\n",
       "      <td>04</td>\n",
       "      <td>0405</td>\n",
       "      <td>040507</td>\n",
       "      <td>89</td>\n",
       "      <td>18</td>\n",
       "      <td>1.491221e+07</td>\n",
       "      <td>21:15:00</td>\n",
       "      <td>21:16:00</td>\n",
       "      <td>2019</td>\n",
       "    </tr>\n",
       "  </tbody>\n",
       "</table>\n",
       "<p>675 rows × 12 columns</p>\n",
       "</div>"
      ],
      "text/plain": [
       "               TUCASEID  TUACTDUR24  TUCUMDUR TRTIER1P TRTIER2P TRCODEP  \\\n",
       "1944     20030101031604           1      1122       04     0405  040507   \n",
       "5543     20030111020795           1      1026       04     0401  040112   \n",
       "6914     20030111021664           5      1036       04     0405  040507   \n",
       "6922     20030111021664           2      1282       04     0405  040507   \n",
       "8804     20030111022667           1       485       04     0405  040507   \n",
       "...                 ...         ...       ...      ...      ...     ...   \n",
       "4040485  20190706191372           3       278       04     0405  040507   \n",
       "4040493  20190706191372          10       620       04     0405  040508   \n",
       "4040495  20190706191372          15       645       04     0405  040508   \n",
       "4042095  20190706191701           5       925       04     0405  040507   \n",
       "4042099  20190706191701           1      1036       04     0405  040507   \n",
       "\n",
       "         TEWHERE  TEAGE      TUFNWGTP TUSTARTTIM TUSTOPTIME  TUYEAR  \n",
       "1944          89     24  2.249413e+06   22:41:00   22:42:00    2003  \n",
       "5543          89     19  5.846569e+06   21:05:00   21:06:00    2003  \n",
       "6914          89     18  1.720062e+06   21:11:00   21:16:00    2003  \n",
       "6922          89     18  1.720062e+06   01:20:00   01:22:00    2003  \n",
       "8804          89     22  2.903227e+06   12:04:00   12:05:00    2003  \n",
       "...          ...    ...           ...        ...        ...     ...  \n",
       "4040485       89     18  3.062553e+07   08:35:00   08:38:00    2019  \n",
       "4040493       89     18  3.062553e+07   14:10:00   14:20:00    2019  \n",
       "4040495       89     18  3.062553e+07   14:30:00   14:45:00    2019  \n",
       "4042095       89     18  1.491221e+07   19:20:00   19:25:00    2019  \n",
       "4042099       89     18  1.491221e+07   21:15:00   21:16:00    2019  \n",
       "\n",
       "[675 rows x 12 columns]"
      ]
     },
     "execution_count": 242,
     "metadata": {},
     "output_type": "execute_result"
    }
   ],
   "source": [
    "unspecified_location = [89]\n",
    "atus_multi_yr_unsp_p18_24 = multi_merged_p18_24loyed[multi_merged_p18_24loyed[\"TEWHERE\"].isin(unspecified_location)]\n",
    "atus_multi_yr_unsp_p18_24"
   ]
  },
  {
   "cell_type": "code",
   "execution_count": 243,
   "metadata": {},
   "outputs": [],
   "source": [
    "#atus transportation p18_24loyed population seperated by year\n",
    "#unsp = unspecified\n",
    "atus_2003_unsp_p18_24 = atus_multi_yr_unsp_p18_24[atus_multi_yr_unsp_p18_24[\"TUCASEID\"].apply(str).str.startswith(\"2003\")]\n",
    "atus_2004_unsp_p18_24 = atus_multi_yr_unsp_p18_24[atus_multi_yr_unsp_p18_24[\"TUCASEID\"].apply(str).str.startswith(\"2004\")]\n",
    "atus_2005_unsp_p18_24 = atus_multi_yr_unsp_p18_24[atus_multi_yr_unsp_p18_24[\"TUCASEID\"].apply(str).str.startswith(\"2005\")]\n",
    "atus_2006_unsp_p18_24 = atus_multi_yr_unsp_p18_24[atus_multi_yr_unsp_p18_24[\"TUCASEID\"].apply(str).str.startswith(\"2006\")]\n",
    "atus_2007_unsp_p18_24 = atus_multi_yr_unsp_p18_24[atus_multi_yr_unsp_p18_24[\"TUCASEID\"].apply(str).str.startswith(\"2007\")]\n",
    "atus_2008_unsp_p18_24 = atus_multi_yr_unsp_p18_24[atus_multi_yr_unsp_p18_24[\"TUCASEID\"].apply(str).str.startswith(\"2008\")]\n",
    "atus_2009_unsp_p18_24 = atus_multi_yr_unsp_p18_24[atus_multi_yr_unsp_p18_24[\"TUCASEID\"].apply(str).str.startswith(\"2009\")]\n",
    "atus_2010_unsp_p18_24 = atus_multi_yr_unsp_p18_24[atus_multi_yr_unsp_p18_24[\"TUCASEID\"].apply(str).str.startswith(\"2010\")]\n",
    "atus_2011_unsp_p18_24 = atus_multi_yr_unsp_p18_24[atus_multi_yr_unsp_p18_24[\"TUCASEID\"].apply(str).str.startswith(\"2011\")]\n",
    "atus_2012_unsp_p18_24 = atus_multi_yr_unsp_p18_24[atus_multi_yr_unsp_p18_24[\"TUCASEID\"].apply(str).str.startswith(\"2012\")]\n",
    "atus_2013_unsp_p18_24 = atus_multi_yr_unsp_p18_24[atus_multi_yr_unsp_p18_24[\"TUCASEID\"].apply(str).str.startswith(\"2013\")]\n",
    "atus_2014_unsp_p18_24 = atus_multi_yr_unsp_p18_24[atus_multi_yr_unsp_p18_24[\"TUCASEID\"].apply(str).str.startswith(\"2014\")]\n",
    "atus_2015_unsp_p18_24 = atus_multi_yr_unsp_p18_24[atus_multi_yr_unsp_p18_24[\"TUCASEID\"].apply(str).str.startswith(\"2015\")]\n",
    "atus_2016_unsp_p18_24 = atus_multi_yr_unsp_p18_24[atus_multi_yr_unsp_p18_24[\"TUCASEID\"].apply(str).str.startswith(\"2016\")]\n",
    "atus_2017_unsp_p18_24 = atus_multi_yr_unsp_p18_24[atus_multi_yr_unsp_p18_24[\"TUCASEID\"].apply(str).str.startswith(\"2017\")]\n",
    "atus_2018_unsp_p18_24 = atus_multi_yr_unsp_p18_24[atus_multi_yr_unsp_p18_24[\"TUCASEID\"].apply(str).str.startswith(\"2018\")]\n",
    "atus_2019_unsp_p18_24 = atus_multi_yr_unsp_p18_24[atus_multi_yr_unsp_p18_24[\"TUCASEID\"].apply(str).str.startswith(\"2019\")]\n",
    "#atus_2003_unsp_p18_24\n",
    "#atus_2004_unsp_p18_24[\"TRCODEP\"]"
   ]
  },
  {
   "cell_type": "markdown",
   "metadata": {},
   "source": [
    "### 2003 Unspecified- Age Between 18 and 24 "
   ]
  },
  {
   "cell_type": "code",
   "execution_count": 244,
   "metadata": {},
   "outputs": [],
   "source": [
    "atus_2003_unsp_p18_24 = atus_2003_unsp_p18_24.groupby([\"TUCASEID\"]).sum().filter([\"TUCASEID\", \"TUACTDUR24\",])\n",
    "#atus_2003_unsp_p18_24"
   ]
  },
  {
   "cell_type": "code",
   "execution_count": 245,
   "metadata": {},
   "outputs": [],
   "source": [
    "atus_2003_unsp_p18_24_merge = pd.merge(atus_2003_unsp_p18_24, multi_resp, on= \"TUCASEID\").filter([\"TUCASEID\",\"TUACTDUR24\",\"TUFNWGTP\"])\n",
    "#atus_2003_unsp_p18_24_merge"
   ]
  },
  {
   "cell_type": "code",
   "execution_count": 246,
   "metadata": {},
   "outputs": [],
   "source": [
    "atus_2003_unsp_p18_24_merge[\"Multiplied Weight\"] = atus_2003_unsp_p18_24_merge[\"TUACTDUR24\"] * atus_2003_unsp_p18_24_merge[\"TUFNWGTP\"]\n",
    "#atus_2003_unsp_p18_24_merge"
   ]
  },
  {
   "cell_type": "code",
   "execution_count": 247,
   "metadata": {},
   "outputs": [
    {
     "data": {
      "text/plain": [
       "8754931806.724504"
      ]
     },
     "execution_count": 247,
     "metadata": {},
     "output_type": "execute_result"
    }
   ],
   "source": [
    "atus_2003_unsp_p18_24_multiplied_weight = atus_2003_unsp_p18_24_merge[\"Multiplied Weight\"].sum()\n",
    "atus_2003_unsp_p18_24_multiplied_weight"
   ]
  },
  {
   "cell_type": "code",
   "execution_count": 248,
   "metadata": {},
   "outputs": [
    {
     "data": {
      "text/plain": [
       "0.01485088043235319"
      ]
     },
     "execution_count": 248,
     "metadata": {},
     "output_type": "execute_result"
    }
   ],
   "source": [
    "atus_2003_unsp_p18_24_hpd = atus_2003_unsp_p18_24_multiplied_weight / atus_2003_p18_24_weight / 60\n",
    "atus_2003_unsp_p18_24_hpd"
   ]
  },
  {
   "cell_type": "markdown",
   "metadata": {},
   "source": [
    "### 2004 Unspecified- Age Between 18 and 24 "
   ]
  },
  {
   "cell_type": "code",
   "execution_count": 249,
   "metadata": {},
   "outputs": [],
   "source": [
    "atus_2004_unsp_p18_24 = atus_2004_unsp_p18_24.groupby([\"TUCASEID\"]).sum().filter([\"TUCASEID\", \"TUACTDUR24\"])\n",
    "#atus_2004_unsp_p18_24"
   ]
  },
  {
   "cell_type": "code",
   "execution_count": 250,
   "metadata": {},
   "outputs": [
    {
     "data": {
      "text/plain": [
       "1837187232.096007"
      ]
     },
     "execution_count": 250,
     "metadata": {},
     "output_type": "execute_result"
    }
   ],
   "source": [
    "atus_2004_unsp_p18_24_merge = pd.merge(atus_2004_unsp_p18_24, multi_resp, on= \"TUCASEID\").filter([\"TUCASEID\",\"TUACTDUR24\",\"TUFNWGTP\"])\n",
    "\n",
    "atus_2004_unsp_p18_24_merge[\"Multiplied Weight\"] = atus_2004_unsp_p18_24_merge[\"TUACTDUR24\"] * atus_2004_unsp_p18_24_merge[\"TUFNWGTP\"]\n",
    "\n",
    "atus_2004_unsp_p18_24_multiplied_weight = atus_2004_unsp_p18_24_merge[\"Multiplied Weight\"].sum()\n",
    "atus_2004_unsp_p18_24_multiplied_weight"
   ]
  },
  {
   "cell_type": "code",
   "execution_count": 251,
   "metadata": {},
   "outputs": [
    {
     "data": {
      "text/plain": [
       "0.003105175414652513"
      ]
     },
     "execution_count": 251,
     "metadata": {},
     "output_type": "execute_result"
    }
   ],
   "source": [
    "atus_2004_unsp_p18_24_hpd = atus_2004_unsp_p18_24_multiplied_weight / atus_2004_p18_24_weight / 60\n",
    "atus_2004_unsp_p18_24_hpd"
   ]
  },
  {
   "cell_type": "markdown",
   "metadata": {},
   "source": [
    "### 2005 Unspecified- Age Between 18 and 24 "
   ]
  },
  {
   "cell_type": "code",
   "execution_count": 252,
   "metadata": {},
   "outputs": [],
   "source": [
    "atus_2005_unsp_p18_24 = atus_2005_unsp_p18_24.groupby([\"TUCASEID\"]).sum().filter([\"TUCASEID\", \"TUACTDUR24\"])\n",
    "#atus_2005_unsp_p18_24"
   ]
  },
  {
   "cell_type": "code",
   "execution_count": 253,
   "metadata": {},
   "outputs": [
    {
     "data": {
      "text/plain": [
       "4698185249.6647215"
      ]
     },
     "execution_count": 253,
     "metadata": {},
     "output_type": "execute_result"
    }
   ],
   "source": [
    "atus_2005_unsp_p18_24_merge = pd.merge(atus_2005_unsp_p18_24, multi_resp, on= \"TUCASEID\").filter([\"TUCASEID\",\"TUACTDUR24\",\"TUFNWGTP\"])\n",
    "\n",
    "atus_2005_unsp_p18_24_merge[\"Multiplied Weight\"] = atus_2005_unsp_p18_24_merge[\"TUACTDUR24\"] * atus_2005_unsp_p18_24_merge[\"TUFNWGTP\"]\n",
    "\n",
    "atus_2005_unsp_p18_24_multiplied_weight = atus_2005_unsp_p18_24_merge[\"Multiplied Weight\"].sum()\n",
    "atus_2005_unsp_p18_24_multiplied_weight"
   ]
  },
  {
   "cell_type": "code",
   "execution_count": 254,
   "metadata": {},
   "outputs": [
    {
     "data": {
      "text/plain": [
       "0.007731330678843751"
      ]
     },
     "execution_count": 254,
     "metadata": {},
     "output_type": "execute_result"
    }
   ],
   "source": [
    "atus_2005_unsp_p18_24_hpd = atus_2005_unsp_p18_24_multiplied_weight / atus_2005_p18_24_weight / 60\n",
    "atus_2005_unsp_p18_24_hpd"
   ]
  },
  {
   "cell_type": "markdown",
   "metadata": {},
   "source": [
    "### 2006 Unspecified- Age Between 18 and 24 "
   ]
  },
  {
   "cell_type": "code",
   "execution_count": 255,
   "metadata": {},
   "outputs": [],
   "source": [
    "atus_2006_unsp_p18_24 = atus_2006_unsp_p18_24.groupby([\"TUCASEID\"]).sum().filter([\"TUCASEID\", \"TUACTDUR24\"])\n",
    "#atus_2006_unsp_p18_24"
   ]
  },
  {
   "cell_type": "code",
   "execution_count": 256,
   "metadata": {},
   "outputs": [
    {
     "data": {
      "text/plain": [
       "6739299317.302964"
      ]
     },
     "execution_count": 256,
     "metadata": {},
     "output_type": "execute_result"
    }
   ],
   "source": [
    "atus_2006_unsp_p18_24_merge = pd.merge(atus_2006_unsp_p18_24, multi_resp, on= \"TUCASEID\").filter([\"TUCASEID\",\"TUACTDUR24\",\"TUFNWGTP\"])\n",
    "\n",
    "atus_2006_unsp_p18_24_merge[\"Multiplied Weight\"] = atus_2006_unsp_p18_24_merge[\"TUACTDUR24\"] * atus_2006_unsp_p18_24_merge[\"TUFNWGTP\"]\n",
    "\n",
    "atus_2006_unsp_p18_24_multiplied_weight = atus_2006_unsp_p18_24_merge[\"Multiplied Weight\"].sum()\n",
    "atus_2006_unsp_p18_24_multiplied_weight"
   ]
  },
  {
   "cell_type": "code",
   "execution_count": 257,
   "metadata": {},
   "outputs": [
    {
     "data": {
      "text/plain": [
       "0.011398633446926853"
      ]
     },
     "execution_count": 257,
     "metadata": {},
     "output_type": "execute_result"
    }
   ],
   "source": [
    "atus_2006_unsp_p18_24_hpd = atus_2006_unsp_p18_24_multiplied_weight / atus_2006_p18_24_weight / 60\n",
    "atus_2006_unsp_p18_24_hpd"
   ]
  },
  {
   "cell_type": "markdown",
   "metadata": {},
   "source": [
    "### 2007 Unspecified- Age Between 18 and 24 "
   ]
  },
  {
   "cell_type": "code",
   "execution_count": 258,
   "metadata": {},
   "outputs": [],
   "source": [
    "atus_2007_unsp_p18_24 = atus_2007_unsp_p18_24.groupby([\"TUCASEID\"]).sum().filter([\"TUCASEID\", \"TUACTDUR24\"])\n",
    "#atus_2007_unsp_p18_24"
   ]
  },
  {
   "cell_type": "code",
   "execution_count": 259,
   "metadata": {},
   "outputs": [
    {
     "data": {
      "text/plain": [
       "8368023800.504999"
      ]
     },
     "execution_count": 259,
     "metadata": {},
     "output_type": "execute_result"
    }
   ],
   "source": [
    "atus_2007_unsp_p18_24_merge = pd.merge(atus_2007_unsp_p18_24, multi_resp, on= \"TUCASEID\").filter([\"TUCASEID\",\"TUACTDUR24\",\"TUFNWGTP\"])\n",
    "\n",
    "atus_2007_unsp_p18_24_merge[\"Multiplied Weight\"] = atus_2007_unsp_p18_24_merge[\"TUACTDUR24\"] * atus_2007_unsp_p18_24_merge[\"TUFNWGTP\"]\n",
    "\n",
    "atus_2007_unsp_p18_24_multiplied_weight = atus_2007_unsp_p18_24_merge[\"Multiplied Weight\"].sum()\n",
    "atus_2007_unsp_p18_24_multiplied_weight"
   ]
  },
  {
   "cell_type": "code",
   "execution_count": 260,
   "metadata": {},
   "outputs": [
    {
     "data": {
      "text/plain": [
       "0.0139457336304619"
      ]
     },
     "execution_count": 260,
     "metadata": {},
     "output_type": "execute_result"
    }
   ],
   "source": [
    "atus_2007_unsp_p18_24_hpd = atus_2007_unsp_p18_24_multiplied_weight / atus_2007_p18_24_weight / 60\n",
    "atus_2007_unsp_p18_24_hpd"
   ]
  },
  {
   "cell_type": "markdown",
   "metadata": {},
   "source": [
    "### 2008 Unspecified- Age Between 18 and 24 "
   ]
  },
  {
   "cell_type": "code",
   "execution_count": 261,
   "metadata": {},
   "outputs": [],
   "source": [
    "atus_2008_unsp_p18_24 = atus_2008_unsp_p18_24.groupby([\"TUCASEID\"]).sum().filter([\"TUCASEID\", \"TUACTDUR24\"])\n",
    "#atus_2008_unsp_p18_24"
   ]
  },
  {
   "cell_type": "code",
   "execution_count": 262,
   "metadata": {},
   "outputs": [
    {
     "data": {
      "text/plain": [
       "10379792618.634289"
      ]
     },
     "execution_count": 262,
     "metadata": {},
     "output_type": "execute_result"
    }
   ],
   "source": [
    "atus_2008_unsp_p18_24_merge = pd.merge(atus_2008_unsp_p18_24, multi_resp, on= \"TUCASEID\").filter([\"TUCASEID\",\"TUACTDUR24\",\"TUFNWGTP\"])\n",
    "\n",
    "atus_2008_unsp_p18_24_merge[\"Multiplied Weight\"] = atus_2008_unsp_p18_24_merge[\"TUACTDUR24\"] * atus_2008_unsp_p18_24_merge[\"TUFNWGTP\"]\n",
    "\n",
    "atus_2008_unsp_p18_24_multiplied_weight = atus_2008_unsp_p18_24_merge[\"Multiplied Weight\"].sum()\n",
    "atus_2008_unsp_p18_24_multiplied_weight"
   ]
  },
  {
   "cell_type": "code",
   "execution_count": 263,
   "metadata": {},
   "outputs": [
    {
     "data": {
      "text/plain": [
       "0.017485079689630968"
      ]
     },
     "execution_count": 263,
     "metadata": {},
     "output_type": "execute_result"
    }
   ],
   "source": [
    "atus_2008_unsp_p18_24_hpd = atus_2008_unsp_p18_24_multiplied_weight / atus_2008_p18_24_weight / 60\n",
    "atus_2008_unsp_p18_24_hpd"
   ]
  },
  {
   "cell_type": "markdown",
   "metadata": {},
   "source": [
    "### 2009 Unspecified- Age Between 18 and 24 "
   ]
  },
  {
   "cell_type": "code",
   "execution_count": 264,
   "metadata": {},
   "outputs": [],
   "source": [
    "atus_2009_unsp_p18_24 = atus_2009_unsp_p18_24.groupby([\"TUCASEID\"]).sum().filter([\"TUCASEID\", \"TUACTDUR24\"])\n",
    "#atus_2009_unsp_p18_24"
   ]
  },
  {
   "cell_type": "code",
   "execution_count": 265,
   "metadata": {},
   "outputs": [
    {
     "data": {
      "text/plain": [
       "4671517748.092165"
      ]
     },
     "execution_count": 265,
     "metadata": {},
     "output_type": "execute_result"
    }
   ],
   "source": [
    "atus_2009_unsp_p18_24_merge = pd.merge(atus_2009_unsp_p18_24, multi_resp, on= \"TUCASEID\").filter([\"TUCASEID\",\"TUACTDUR24\",\"TUFNWGTP\"])\n",
    "\n",
    "atus_2009_unsp_p18_24_merge[\"Multiplied Weight\"] = atus_2009_unsp_p18_24_merge[\"TUACTDUR24\"] * atus_2009_unsp_p18_24_merge[\"TUFNWGTP\"]\n",
    "\n",
    "atus_2009_unsp_p18_24_multiplied_weight = atus_2009_unsp_p18_24_merge[\"Multiplied Weight\"].sum()\n",
    "atus_2009_unsp_p18_24_multiplied_weight"
   ]
  },
  {
   "cell_type": "code",
   "execution_count": 266,
   "metadata": {},
   "outputs": [
    {
     "data": {
      "text/plain": [
       "0.007771135538499703"
      ]
     },
     "execution_count": 266,
     "metadata": {},
     "output_type": "execute_result"
    }
   ],
   "source": [
    "atus_2009_unsp_p18_24_hpd = atus_2009_unsp_p18_24_multiplied_weight / atus_2009_p18_24_weight / 60\n",
    "atus_2009_unsp_p18_24_hpd"
   ]
  },
  {
   "cell_type": "markdown",
   "metadata": {},
   "source": [
    "### 2010 Unspecified- Age Between 18 and 24 "
   ]
  },
  {
   "cell_type": "code",
   "execution_count": 267,
   "metadata": {},
   "outputs": [],
   "source": [
    "atus_2010_unsp_p18_24 = atus_2010_unsp_p18_24.groupby([\"TUCASEID\"]).sum().filter([\"TUCASEID\", \"TUACTDUR24\"])\n",
    "#atus_2010_unsp_p18_24"
   ]
  },
  {
   "cell_type": "code",
   "execution_count": 268,
   "metadata": {},
   "outputs": [
    {
     "data": {
      "text/plain": [
       "4951305277.046246"
      ]
     },
     "execution_count": 268,
     "metadata": {},
     "output_type": "execute_result"
    }
   ],
   "source": [
    "atus_2010_unsp_p18_24_merge = pd.merge(atus_2010_unsp_p18_24, multi_resp, on= \"TUCASEID\").filter([\"TUCASEID\",\"TUACTDUR24\",\"TUFNWGTP\"])\n",
    "\n",
    "atus_2010_unsp_p18_24_merge[\"Multiplied Weight\"] = atus_2010_unsp_p18_24_merge[\"TUACTDUR24\"] * atus_2010_unsp_p18_24_merge[\"TUFNWGTP\"]\n",
    "\n",
    "atus_2010_unsp_p18_24_multiplied_weight = atus_2010_unsp_p18_24_merge[\"Multiplied Weight\"].sum()\n",
    "atus_2010_unsp_p18_24_multiplied_weight"
   ]
  },
  {
   "cell_type": "code",
   "execution_count": 269,
   "metadata": {},
   "outputs": [
    {
     "data": {
      "text/plain": [
       "0.00800427127965524"
      ]
     },
     "execution_count": 269,
     "metadata": {},
     "output_type": "execute_result"
    }
   ],
   "source": [
    "atus_2010_unsp_p18_24_hpd = atus_2010_unsp_p18_24_multiplied_weight / atus_2010_p18_24_weight / 60\n",
    "atus_2010_unsp_p18_24_hpd"
   ]
  },
  {
   "cell_type": "markdown",
   "metadata": {},
   "source": [
    "### 2011 Unspecified- Age Between 18 and 24 "
   ]
  },
  {
   "cell_type": "code",
   "execution_count": 270,
   "metadata": {},
   "outputs": [],
   "source": [
    "atus_2011_unsp_p18_24 = atus_2011_unsp_p18_24.groupby([\"TUCASEID\"]).sum().filter([\"TUCASEID\", \"TUACTDUR24\"])\n",
    "#atus_2011_unsp_p18_24"
   ]
  },
  {
   "cell_type": "code",
   "execution_count": 271,
   "metadata": {},
   "outputs": [
    {
     "data": {
      "text/plain": [
       "7560649999.14202"
      ]
     },
     "execution_count": 271,
     "metadata": {},
     "output_type": "execute_result"
    }
   ],
   "source": [
    "atus_2011_unsp_p18_24_merge = pd.merge(atus_2011_unsp_p18_24, multi_resp, on= \"TUCASEID\").filter([\"TUCASEID\",\"TUACTDUR24\",\"TUFNWGTP\"])\n",
    "\n",
    "atus_2011_unsp_p18_24_merge[\"Multiplied Weight\"] = atus_2011_unsp_p18_24_merge[\"TUACTDUR24\"] * atus_2011_unsp_p18_24_merge[\"TUFNWGTP\"]\n",
    "\n",
    "atus_2011_unsp_p18_24_multiplied_weight = atus_2011_unsp_p18_24_merge[\"Multiplied Weight\"].sum()\n",
    "atus_2011_unsp_p18_24_multiplied_weight"
   ]
  },
  {
   "cell_type": "code",
   "execution_count": 272,
   "metadata": {},
   "outputs": [
    {
     "data": {
      "text/plain": [
       "0.011833029253701896"
      ]
     },
     "execution_count": 272,
     "metadata": {},
     "output_type": "execute_result"
    }
   ],
   "source": [
    "atus_2011_unsp_p18_24_hpd = atus_2011_unsp_p18_24_multiplied_weight / atus_2011_p18_24_weight / 60\n",
    "atus_2011_unsp_p18_24_hpd"
   ]
  },
  {
   "cell_type": "markdown",
   "metadata": {},
   "source": [
    "### 2012 Unspecified- Age Between 18 and 24 "
   ]
  },
  {
   "cell_type": "code",
   "execution_count": 273,
   "metadata": {},
   "outputs": [],
   "source": [
    "atus_2012_unsp_p18_24 = atus_2012_unsp_p18_24.groupby([\"TUCASEID\"]).sum().filter([\"TUCASEID\", \"TUACTDUR24\"])\n",
    "#atus_2012_unsp_p18_24"
   ]
  },
  {
   "cell_type": "code",
   "execution_count": 274,
   "metadata": {},
   "outputs": [
    {
     "data": {
      "text/plain": [
       "7907871737.278778"
      ]
     },
     "execution_count": 274,
     "metadata": {},
     "output_type": "execute_result"
    }
   ],
   "source": [
    "atus_2012_unsp_p18_24_merge = pd.merge(atus_2012_unsp_p18_24, multi_resp, on= \"TUCASEID\").filter([\"TUCASEID\",\"TUACTDUR24\",\"TUFNWGTP\"])\n",
    "\n",
    "atus_2012_unsp_p18_24_merge[\"Multiplied Weight\"] = atus_2012_unsp_p18_24_merge[\"TUACTDUR24\"] * atus_2012_unsp_p18_24_merge[\"TUFNWGTP\"]\n",
    "\n",
    "atus_2012_unsp_p18_24_multiplied_weight = atus_2012_unsp_p18_24_merge[\"Multiplied Weight\"].sum()\n",
    "atus_2012_unsp_p18_24_multiplied_weight"
   ]
  },
  {
   "cell_type": "code",
   "execution_count": 275,
   "metadata": {},
   "outputs": [
    {
     "data": {
      "text/plain": [
       "0.012428070906439869"
      ]
     },
     "execution_count": 275,
     "metadata": {},
     "output_type": "execute_result"
    }
   ],
   "source": [
    "atus_2012_unsp_p18_24_hpd = atus_2012_unsp_p18_24_multiplied_weight / atus_2012_p18_24_weight / 60\n",
    "atus_2012_unsp_p18_24_hpd"
   ]
  },
  {
   "cell_type": "markdown",
   "metadata": {},
   "source": [
    "### 2013 Unspecified- Age Between 18 and 24 "
   ]
  },
  {
   "cell_type": "code",
   "execution_count": 276,
   "metadata": {},
   "outputs": [],
   "source": [
    "atus_2013_unsp_p18_24 = atus_2013_unsp_p18_24.groupby([\"TUCASEID\"]).sum().filter([\"TUCASEID\", \"TUACTDUR24\"])\n",
    "#atus_2013_unsp_p18_24"
   ]
  },
  {
   "cell_type": "code",
   "execution_count": 277,
   "metadata": {},
   "outputs": [
    {
     "data": {
      "text/plain": [
       "4550150380.817172"
      ]
     },
     "execution_count": 277,
     "metadata": {},
     "output_type": "execute_result"
    }
   ],
   "source": [
    "atus_2013_unsp_p18_24_merge = pd.merge(atus_2013_unsp_p18_24, multi_resp, on= \"TUCASEID\").filter([\"TUCASEID\",\"TUACTDUR24\",\"TUFNWGTP\"])\n",
    "\n",
    "atus_2013_unsp_p18_24_merge[\"Multiplied Weight\"] = atus_2013_unsp_p18_24_merge[\"TUACTDUR24\"] * atus_2013_unsp_p18_24_merge[\"TUFNWGTP\"]\n",
    "\n",
    "atus_2013_unsp_p18_24_multiplied_weight = atus_2013_unsp_p18_24_merge[\"Multiplied Weight\"].sum()\n",
    "atus_2013_unsp_p18_24_multiplied_weight"
   ]
  },
  {
   "cell_type": "code",
   "execution_count": 278,
   "metadata": {},
   "outputs": [
    {
     "data": {
      "text/plain": [
       "0.007037072687977624"
      ]
     },
     "execution_count": 278,
     "metadata": {},
     "output_type": "execute_result"
    }
   ],
   "source": [
    "atus_2013_unsp_p18_24_hpd = atus_2013_unsp_p18_24_multiplied_weight / atus_2013_p18_24_weight / 60\n",
    "atus_2013_unsp_p18_24_hpd"
   ]
  },
  {
   "cell_type": "markdown",
   "metadata": {},
   "source": [
    "### 2014 Unspecified- Age Between 18 and 24 "
   ]
  },
  {
   "cell_type": "code",
   "execution_count": 279,
   "metadata": {},
   "outputs": [],
   "source": [
    "atus_2014_unsp_p18_24 = atus_2014_unsp_p18_24.groupby([\"TUCASEID\"]).sum().filter([\"TUCASEID\", \"TUACTDUR24\"])\n",
    "#atus_2014_unsp_p18_24"
   ]
  },
  {
   "cell_type": "code",
   "execution_count": 280,
   "metadata": {},
   "outputs": [
    {
     "data": {
      "text/plain": [
       "6151307267.567117"
      ]
     },
     "execution_count": 280,
     "metadata": {},
     "output_type": "execute_result"
    }
   ],
   "source": [
    "atus_2014_unsp_p18_24_merge = pd.merge(atus_2014_unsp_p18_24, multi_resp, on= \"TUCASEID\").filter([\"TUCASEID\",\"TUACTDUR24\",\"TUFNWGTP\"])\n",
    "\n",
    "atus_2014_unsp_p18_24_merge[\"Multiplied Weight\"] = atus_2014_unsp_p18_24_merge[\"TUACTDUR24\"] * atus_2014_unsp_p18_24_merge[\"TUFNWGTP\"]\n",
    "\n",
    "atus_2014_unsp_p18_24_multiplied_weight = atus_2014_unsp_p18_24_merge[\"Multiplied Weight\"].sum()\n",
    "atus_2014_unsp_p18_24_multiplied_weight"
   ]
  },
  {
   "cell_type": "code",
   "execution_count": 281,
   "metadata": {},
   "outputs": [
    {
     "data": {
      "text/plain": [
       "0.009445542454148604"
      ]
     },
     "execution_count": 281,
     "metadata": {},
     "output_type": "execute_result"
    }
   ],
   "source": [
    "atus_2014_unsp_p18_24_hpd = atus_2014_unsp_p18_24_multiplied_weight / atus_2014_p18_24_weight / 60\n",
    "atus_2014_unsp_p18_24_hpd"
   ]
  },
  {
   "cell_type": "markdown",
   "metadata": {},
   "source": [
    "### 2015 Unspecified- Age Between 18 and 24 "
   ]
  },
  {
   "cell_type": "code",
   "execution_count": 282,
   "metadata": {},
   "outputs": [],
   "source": [
    "atus_2015_unsp_p18_24 = atus_2015_unsp_p18_24.groupby([\"TUCASEID\"]).sum().filter([\"TUCASEID\", \"TUACTDUR24\"])\n",
    "#atus_2015_unsp_p18_24"
   ]
  },
  {
   "cell_type": "code",
   "execution_count": 283,
   "metadata": {},
   "outputs": [
    {
     "data": {
      "text/plain": [
       "5054057496.292613"
      ]
     },
     "execution_count": 283,
     "metadata": {},
     "output_type": "execute_result"
    }
   ],
   "source": [
    "atus_2015_unsp_p18_24_merge = pd.merge(atus_2015_unsp_p18_24, multi_resp, on= \"TUCASEID\").filter([\"TUCASEID\",\"TUACTDUR24\",\"TUFNWGTP\"])\n",
    "\n",
    "atus_2015_unsp_p18_24_merge[\"Multiplied Weight\"] = atus_2015_unsp_p18_24_merge[\"TUACTDUR24\"] * atus_2015_unsp_p18_24_merge[\"TUFNWGTP\"]\n",
    "\n",
    "atus_2015_unsp_p18_24_multiplied_weight = atus_2015_unsp_p18_24_merge[\"Multiplied Weight\"].sum()\n",
    "atus_2015_unsp_p18_24_multiplied_weight"
   ]
  },
  {
   "cell_type": "code",
   "execution_count": 284,
   "metadata": {},
   "outputs": [
    {
     "data": {
      "text/plain": [
       "0.0078262053787327"
      ]
     },
     "execution_count": 284,
     "metadata": {},
     "output_type": "execute_result"
    }
   ],
   "source": [
    "atus_2015_unsp_p18_24_hpd = atus_2015_unsp_p18_24_multiplied_weight / atus_2015_p18_24_weight / 60\n",
    "atus_2015_unsp_p18_24_hpd"
   ]
  },
  {
   "cell_type": "markdown",
   "metadata": {},
   "source": [
    "### 2016 Unspecified- Age Between 18 and 24 "
   ]
  },
  {
   "cell_type": "code",
   "execution_count": 285,
   "metadata": {},
   "outputs": [],
   "source": [
    "atus_2016_unsp_p18_24 = atus_2016_unsp_p18_24.groupby([\"TUCASEID\"]).sum().filter([\"TUCASEID\", \"TUACTDUR24\"])\n",
    "#atus_2016_unsp_p18_24"
   ]
  },
  {
   "cell_type": "code",
   "execution_count": 286,
   "metadata": {},
   "outputs": [
    {
     "data": {
      "text/plain": [
       "7259530363.682425"
      ]
     },
     "execution_count": 286,
     "metadata": {},
     "output_type": "execute_result"
    }
   ],
   "source": [
    "atus_2016_unsp_p18_24_merge = pd.merge(atus_2016_unsp_p18_24, multi_resp, on= \"TUCASEID\").filter([\"TUCASEID\",\"TUACTDUR24\",\"TUFNWGTP\"])\n",
    "\n",
    "atus_2016_unsp_p18_24_merge[\"Multiplied Weight\"] = atus_2016_unsp_p18_24_merge[\"TUACTDUR24\"] * atus_2016_unsp_p18_24_merge[\"TUFNWGTP\"]\n",
    "\n",
    "atus_2016_unsp_p18_24_multiplied_weight = atus_2016_unsp_p18_24_merge[\"Multiplied Weight\"].sum()\n",
    "atus_2016_unsp_p18_24_multiplied_weight"
   ]
  },
  {
   "cell_type": "code",
   "execution_count": 287,
   "metadata": {},
   "outputs": [
    {
     "data": {
      "text/plain": [
       "0.011477256975243587"
      ]
     },
     "execution_count": 287,
     "metadata": {},
     "output_type": "execute_result"
    }
   ],
   "source": [
    "atus_2016_unsp_p18_24_hpd = atus_2016_unsp_p18_24_multiplied_weight / atus_2016_p18_24_weight / 60\n",
    "atus_2016_unsp_p18_24_hpd"
   ]
  },
  {
   "cell_type": "markdown",
   "metadata": {},
   "source": [
    "### 2017 Unspecified- Age Between 18 and 24 "
   ]
  },
  {
   "cell_type": "code",
   "execution_count": 288,
   "metadata": {},
   "outputs": [],
   "source": [
    "atus_2017_unsp_p18_24 = atus_2017_unsp_p18_24.groupby([\"TUCASEID\"]).sum().filter([\"TUCASEID\", \"TUACTDUR24\"])\n",
    "#atus_2017_unsp_p18_24"
   ]
  },
  {
   "cell_type": "code",
   "execution_count": 289,
   "metadata": {},
   "outputs": [
    {
     "data": {
      "text/plain": [
       "6959077717.308715"
      ]
     },
     "execution_count": 289,
     "metadata": {},
     "output_type": "execute_result"
    }
   ],
   "source": [
    "atus_2017_unsp_p18_24_merge = pd.merge(atus_2017_unsp_p18_24, multi_resp, on= \"TUCASEID\").filter([\"TUCASEID\",\"TUACTDUR24\",\"TUFNWGTP\"])\n",
    "\n",
    "atus_2017_unsp_p18_24_merge[\"Multiplied Weight\"] = atus_2017_unsp_p18_24_merge[\"TUACTDUR24\"] * atus_2017_unsp_p18_24_merge[\"TUFNWGTP\"]\n",
    "\n",
    "atus_2017_unsp_p18_24_multiplied_weight = atus_2017_unsp_p18_24_merge[\"Multiplied Weight\"].sum()\n",
    "atus_2017_unsp_p18_24_multiplied_weight"
   ]
  },
  {
   "cell_type": "code",
   "execution_count": 290,
   "metadata": {},
   "outputs": [
    {
     "data": {
      "text/plain": [
       "0.010969643525773669"
      ]
     },
     "execution_count": 290,
     "metadata": {},
     "output_type": "execute_result"
    }
   ],
   "source": [
    "atus_2017_unsp_p18_24_hpd = atus_2017_unsp_p18_24_multiplied_weight / atus_2017_p18_24_weight / 60\n",
    "atus_2017_unsp_p18_24_hpd"
   ]
  },
  {
   "cell_type": "markdown",
   "metadata": {},
   "source": [
    "### 2018 Unspecified- Age Between 18 and 24 "
   ]
  },
  {
   "cell_type": "code",
   "execution_count": 291,
   "metadata": {},
   "outputs": [],
   "source": [
    "atus_2018_unsp_p18_24 = atus_2018_unsp_p18_24.groupby([\"TUCASEID\"]).sum().filter([\"TUCASEID\", \"TUACTDUR24\"])\n",
    "#atus_2018_unsp_p18_24"
   ]
  },
  {
   "cell_type": "code",
   "execution_count": 292,
   "metadata": {},
   "outputs": [
    {
     "data": {
      "text/plain": [
       "6900367727.048753"
      ]
     },
     "execution_count": 292,
     "metadata": {},
     "output_type": "execute_result"
    }
   ],
   "source": [
    "atus_2018_unsp_p18_24_merge = pd.merge(atus_2018_unsp_p18_24, multi_resp, on= \"TUCASEID\").filter([\"TUCASEID\",\"TUACTDUR24\",\"TUFNWGTP\"])\n",
    "\n",
    "atus_2018_unsp_p18_24_merge[\"Multiplied Weight\"] = atus_2018_unsp_p18_24_merge[\"TUACTDUR24\"] * atus_2018_unsp_p18_24_merge[\"TUFNWGTP\"]\n",
    "\n",
    "atus_2018_unsp_p18_24_multiplied_weight = atus_2018_unsp_p18_24_merge[\"Multiplied Weight\"].sum()\n",
    "atus_2018_unsp_p18_24_multiplied_weight"
   ]
  },
  {
   "cell_type": "code",
   "execution_count": 293,
   "metadata": {},
   "outputs": [
    {
     "data": {
      "text/plain": [
       "0.010775862112944894"
      ]
     },
     "execution_count": 293,
     "metadata": {},
     "output_type": "execute_result"
    }
   ],
   "source": [
    "atus_2018_unsp_p18_24_hpd = atus_2018_unsp_p18_24_multiplied_weight / atus_2018_p18_24_weight / 60\n",
    "atus_2018_unsp_p18_24_hpd"
   ]
  },
  {
   "cell_type": "markdown",
   "metadata": {},
   "source": [
    "### 2019 Unspecified- Age Between 18 and 24 "
   ]
  },
  {
   "cell_type": "code",
   "execution_count": 294,
   "metadata": {},
   "outputs": [],
   "source": [
    "atus_2019_unsp_p18_24 = atus_2019_unsp_p18_24.groupby([\"TUCASEID\"]).sum().filter([\"TUCASEID\", \"TUACTDUR24\"])\n",
    "#atus_2019_unsp_p18_24"
   ]
  },
  {
   "cell_type": "code",
   "execution_count": 295,
   "metadata": {},
   "outputs": [
    {
     "data": {
      "text/plain": [
       "2591117156.703066"
      ]
     },
     "execution_count": 295,
     "metadata": {},
     "output_type": "execute_result"
    }
   ],
   "source": [
    "atus_2019_unsp_p18_24_merge = pd.merge(atus_2019_unsp_p18_24, multi_resp, on= \"TUCASEID\").filter([\"TUCASEID\",\"TUACTDUR24\",\"TUFNWGTP\"])\n",
    "\n",
    "atus_2019_unsp_p18_24_merge[\"Multiplied Weight\"] = atus_2019_unsp_p18_24_merge[\"TUACTDUR24\"] * atus_2019_unsp_p18_24_merge[\"TUFNWGTP\"]\n",
    "\n",
    "atus_2019_unsp_p18_24_multiplied_weight = atus_2019_unsp_p18_24_merge[\"Multiplied Weight\"].sum()\n",
    "atus_2019_unsp_p18_24_multiplied_weight"
   ]
  },
  {
   "cell_type": "code",
   "execution_count": 296,
   "metadata": {},
   "outputs": [
    {
     "data": {
      "text/plain": [
       "0.004197573531026266"
      ]
     },
     "execution_count": 296,
     "metadata": {},
     "output_type": "execute_result"
    }
   ],
   "source": [
    "atus_2019_unsp_p18_24_hpd = atus_2019_unsp_p18_24_multiplied_weight / atus_2019_p18_24_weight / 60\n",
    "atus_2019_unsp_p18_24_hpd"
   ]
  },
  {
   "cell_type": "markdown",
   "metadata": {},
   "source": [
    "### Regresssion: Unespecified - Age Between 18 and 24 "
   ]
  },
  {
   "cell_type": "markdown",
   "metadata": {},
   "source": [
    "#### 2003 -2012 Regression"
   ]
  },
  {
   "cell_type": "code",
   "execution_count": 297,
   "metadata": {},
   "outputs": [],
   "source": [
    "year = np.array([2003, 2004, 2005, 2006, 2007, 2008, 2009, 2010,2011,2012]).reshape((-1, 1))\n",
    "activity_hours_per_day = np.array([atus_2003_unsp_p18_24_hpd, atus_2004_unsp_p18_24_hpd, atus_2005_unsp_p18_24_hpd,\n",
    "                                   atus_2006_unsp_p18_24_hpd, atus_2007_unsp_p18_24_hpd, atus_2008_unsp_p18_24_hpd,\n",
    "                                   atus_2009_unsp_p18_24_hpd, atus_2010_unsp_p18_24_hpd, atus_2011_unsp_p18_24_hpd,\n",
    "                                   atus_2012_unsp_p18_24_hpd]).reshape((-1, 1))\n",
    "\n",
    "activity_hours_per_yr = [i * 365 for i in activity_hours_per_day]\n",
    "#activity_hours_per_yr"
   ]
  },
  {
   "cell_type": "code",
   "execution_count": 298,
   "metadata": {},
   "outputs": [
    {
     "data": {
      "image/png": "[encoded data removed]",
      "text/plain": [
       "<Figure size 432x288 with 1 Axes>"
      ]
     },
     "metadata": {
      "needs_background": "light"
     },
     "output_type": "display_data"
    }
   ],
   "source": [
    "x = year\n",
    "y = activity_hours_per_yr\n",
    "x, y = np.array(x), np.array(y)\n",
    "\n",
    "model = LinearRegression().fit(x, y)\n",
    "\n",
    "y_pred = model.predict(x)  \n",
    "\n",
    "plt.scatter(x, y)\n",
    "plt.plot(x, y_pred, color='red')\n",
    "plt.show()"
   ]
  },
  {
   "cell_type": "code",
   "execution_count": 299,
   "metadata": {},
   "outputs": [
    {
     "data": {
      "text/plain": [
       "0.02092978686078595"
      ]
     },
     "execution_count": 299,
     "metadata": {},
     "output_type": "execute_result"
    }
   ],
   "source": [
    "coefficient_of_determination = model.score(x,y) #R sqaure value \n",
    "coefficient_of_determination"
   ]
  },
  {
   "cell_type": "code",
   "execution_count": 300,
   "metadata": {},
   "outputs": [
    {
     "data": {
      "text/plain": [
       "array([[0.07368851]])"
      ]
     },
     "execution_count": 300,
     "metadata": {},
     "output_type": "execute_result"
    }
   ],
   "source": [
    "all_act_2012_res_p18_24_slope = model.coef_\n",
    "all_act_2012_res_p18_24_slope"
   ]
  },
  {
   "cell_type": "markdown",
   "metadata": {},
   "source": [
    "#### 2003-2019 Regression"
   ]
  },
  {
   "cell_type": "code",
   "execution_count": 301,
   "metadata": {},
   "outputs": [],
   "source": [
    "year = np.array([2003, 2004, 2005, 2006, 2007, 2008, 2009, 2010,2011,2012,2013,2014,2015,2016,2017,2018,2019]).reshape((-1, 1))\n",
    "activity_hours_per_day = np.array([atus_2003_unsp_p18_24_hpd, atus_2004_unsp_p18_24_hpd, atus_2005_unsp_p18_24_hpd,\n",
    "                                   atus_2006_unsp_p18_24_hpd, atus_2007_unsp_p18_24_hpd, atus_2008_unsp_p18_24_hpd,\n",
    "                                   atus_2009_unsp_p18_24_hpd, atus_2010_unsp_p18_24_hpd, atus_2011_unsp_p18_24_hpd,\n",
    "                                   atus_2012_unsp_p18_24_hpd, atus_2013_unsp_p18_24_hpd, atus_2014_unsp_p18_24_hpd,\n",
    "                                   atus_2015_unsp_p18_24_hpd, atus_2016_unsp_p18_24_hpd, atus_2017_unsp_p18_24_hpd,\n",
    "                                   atus_2018_unsp_p18_24_hpd, atus_2019_unsp_p18_24_hpd]).reshape((-1, 1))\n",
    "\n",
    "activity_hours_per_yr = [i * 365 for i in activity_hours_per_day]\n",
    "#activity_hours_per_yr"
   ]
  },
  {
   "cell_type": "code",
   "execution_count": 302,
   "metadata": {},
   "outputs": [
    {
     "data": {
      "image/png": "[encoded data removed]",
      "text/plain": [
       "<Figure size 432x288 with 1 Axes>"
      ]
     },
     "metadata": {
      "needs_background": "light"
     },
     "output_type": "display_data"
    }
   ],
   "source": [
    "x = year\n",
    "y = activity_hours_per_yr\n",
    "x, y = np.array(x), np.array(y)\n",
    "\n",
    "model = LinearRegression().fit(x, y)\n",
    "\n",
    "y_pred = model.predict(x)  \n",
    "\n",
    "plt.scatter(x, y)\n",
    "plt.plot(x, y_pred, color='red')\n",
    "plt.show()"
   ]
  },
  {
   "cell_type": "code",
   "execution_count": 303,
   "metadata": {},
   "outputs": [
    {
     "data": {
      "text/plain": [
       "0.03678014404677865"
      ]
     },
     "execution_count": 303,
     "metadata": {},
     "output_type": "execute_result"
    }
   ],
   "source": [
    "coefficient_of_determination = model.score(x,y) #R sqaure value \n",
    "coefficient_of_determination"
   ]
  },
  {
   "cell_type": "code",
   "execution_count": 304,
   "metadata": {},
   "outputs": [
    {
     "data": {
      "text/plain": [
       "array([[-0.0513055]])"
      ]
     },
     "execution_count": 304,
     "metadata": {},
     "output_type": "execute_result"
    }
   ],
   "source": [
    "all_act_2019_res_p18_24_slope = model.coef_\n",
    "all_act_2019_res_p18_24_slope"
   ]
  },
  {
   "cell_type": "code",
   "execution_count": null,
   "metadata": {},
   "outputs": [],
   "source": []
  }
 ],
 "metadata": {
  "kernelspec": {
   "display_name": "Python 3",
   "language": "python",
   "name": "python3"
  },
  "language_info": {
   "codemirror_mode": {
    "name": "ipython",
    "version": 3
   },
   "file_extension": ".py",
   "mimetype": "text/x-python",
   "name": "python",
   "nbconvert_exporter": "python",
   "pygments_lexer": "ipython3",
   "version": "3.8.3"
  }
 },
 "nbformat": 4,
 "nbformat_minor": 4
}
