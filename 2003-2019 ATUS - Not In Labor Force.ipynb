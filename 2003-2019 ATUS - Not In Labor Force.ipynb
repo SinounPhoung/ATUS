{
 "cells": [
  {
   "cell_type": "code",
   "execution_count": 1,
   "metadata": {},
   "outputs": [],
   "source": [
    "import pandas as pd \n",
    "import numpy as np \n",
    "%matplotlib inline\n",
    "import matplotlib.pyplot as plt\n",
    "from sklearn.linear_model import LinearRegression"
   ]
  },
  {
   "cell_type": "code",
   "execution_count": 2,
   "metadata": {},
   "outputs": [],
   "source": [
    "# nilf = not in labor force"
   ]
  },
  {
   "cell_type": "code",
   "execution_count": 3,
   "metadata": {},
   "outputs": [],
   "source": [
    "multi_act = pd.read_csv(\"ATUS DATA 03-19/atus_activity_0319.dat\", \n",
    "                        dtype= {\"TRCODEP\": object, \"TRTIER1P\": object, \"TRTIER2P\": object}) #using 2003-2019 activity file\n",
    "#multi_act"
   ]
  },
  {
   "cell_type": "code",
   "execution_count": 4,
   "metadata": {},
   "outputs": [],
   "source": [
    "multi_resp = pd.read_csv(\"ATUS DATA 03-19/atus_resp_0319.dat\")\n",
    "#multi_resp"
   ]
  },
  {
   "cell_type": "code",
   "execution_count": 5,
   "metadata": {},
   "outputs": [],
   "source": [
    "multi_merged = pd.merge(multi_act, multi_resp, on=\"TUCASEID\")\n",
    "multi_merged = multi_merged.filter([\"TUCASEID\",\"TUACTDUR24\",\"TUCUMDUR\",\"TRTIER1P\",\"TRTIER2P\",\"TRCODEP\", \n",
    "                                    \"TEWHERE\",\"TELFS\", \"TUFNWGTP\",\"TUSTARTTIM\",\"TUSTOPTIME\", \"TUYEAR\"])\n",
    "#multi_merged"
   ]
  },
  {
   "cell_type": "code",
   "execution_count": 6,
   "metadata": {},
   "outputs": [
    {
     "data": {
      "text/plain": [
       "array([2, 1, 4, 5, 3])"
      ]
     },
     "execution_count": 6,
     "metadata": {},
     "output_type": "execute_result"
    }
   ],
   "source": [
    "#TELFS = employment status \n",
    "multi_merged[\"TELFS\"].unique()"
   ]
  },
  {
   "cell_type": "markdown",
   "metadata": {},
   "source": [
    "## Not In Labor Force Population"
   ]
  },
  {
   "cell_type": "code",
   "execution_count": 7,
   "metadata": {},
   "outputs": [
    {
     "data": {
      "text/plain": [
       "array([5])"
      ]
     },
     "execution_count": 7,
     "metadata": {},
     "output_type": "execute_result"
    }
   ],
   "source": [
    "nilf_codes = [5] # 5 = not in labor force\n",
    "multi_merged_nilf = multi_merged[multi_merged[\"TELFS\"].isin(nilf_codes)]\n",
    "multi_merged_nilf[\"TELFS\"].unique()"
   ]
  },
  {
   "cell_type": "code",
   "execution_count": 8,
   "metadata": {},
   "outputs": [
    {
     "data": {
      "text/plain": [
       "24651107709.08413"
      ]
     },
     "execution_count": 8,
     "metadata": {},
     "output_type": "execute_result"
    }
   ],
   "source": [
    "nilf_2003 = multi_merged_nilf[multi_merged_nilf[\"TUCASEID\"].apply(str).str.startswith(\"2003\")]\n",
    "atus_2003_nilf_weight = nilf_2003.drop_duplicates(subset=[\"TUCASEID\"])\n",
    "atus_2003_nilf_weight = atus_2003_nilf_weight[\"TUFNWGTP\"].sum()\n",
    "atus_2003_nilf_weight"
   ]
  },
  {
   "cell_type": "markdown",
   "metadata": {},
   "source": [
    "## 2003-2019 Residential - Not In Labor Force"
   ]
  },
  {
   "cell_type": "code",
   "execution_count": 9,
   "metadata": {},
   "outputs": [],
   "source": [
    "#only residential location from 2003-2019\n",
    "residential_location = [-1,1,3]\n",
    "atus_multi_yr_res_nilf = multi_merged_nilf[multi_merged_nilf[\"TEWHERE\"].isin(residential_location)]\n",
    "#atus_multi_yr_res_nilf"
   ]
  },
  {
   "cell_type": "code",
   "execution_count": 10,
   "metadata": {},
   "outputs": [],
   "source": [
    "#atus residential year seperation by nilf population \n",
    "atus_2003_res_nilf = atus_multi_yr_res_nilf[atus_multi_yr_res_nilf[\"TUCASEID\"].apply(str).str.startswith(\"2003\")]\n",
    "atus_2004_res_nilf = atus_multi_yr_res_nilf[atus_multi_yr_res_nilf[\"TUCASEID\"].apply(str).str.startswith(\"2004\")]\n",
    "atus_2005_res_nilf = atus_multi_yr_res_nilf[atus_multi_yr_res_nilf[\"TUCASEID\"].apply(str).str.startswith(\"2005\")]\n",
    "atus_2006_res_nilf = atus_multi_yr_res_nilf[atus_multi_yr_res_nilf[\"TUCASEID\"].apply(str).str.startswith(\"2006\")]\n",
    "atus_2007_res_nilf = atus_multi_yr_res_nilf[atus_multi_yr_res_nilf[\"TUCASEID\"].apply(str).str.startswith(\"2007\")]\n",
    "atus_2008_res_nilf = atus_multi_yr_res_nilf[atus_multi_yr_res_nilf[\"TUCASEID\"].apply(str).str.startswith(\"2008\")]\n",
    "atus_2009_res_nilf = atus_multi_yr_res_nilf[atus_multi_yr_res_nilf[\"TUCASEID\"].apply(str).str.startswith(\"2009\")]\n",
    "atus_2010_res_nilf = atus_multi_yr_res_nilf[atus_multi_yr_res_nilf[\"TUCASEID\"].apply(str).str.startswith(\"2010\")]\n",
    "atus_2011_res_nilf = atus_multi_yr_res_nilf[atus_multi_yr_res_nilf[\"TUCASEID\"].apply(str).str.startswith(\"2011\")]\n",
    "atus_2012_res_nilf = atus_multi_yr_res_nilf[atus_multi_yr_res_nilf[\"TUCASEID\"].apply(str).str.startswith(\"2012\")]\n",
    "atus_2013_res_nilf = atus_multi_yr_res_nilf[atus_multi_yr_res_nilf[\"TUCASEID\"].apply(str).str.startswith(\"2013\")]\n",
    "atus_2014_res_nilf = atus_multi_yr_res_nilf[atus_multi_yr_res_nilf[\"TUCASEID\"].apply(str).str.startswith(\"2014\")]\n",
    "atus_2015_res_nilf = atus_multi_yr_res_nilf[atus_multi_yr_res_nilf[\"TUCASEID\"].apply(str).str.startswith(\"2015\")]\n",
    "atus_2016_res_nilf = atus_multi_yr_res_nilf[atus_multi_yr_res_nilf[\"TUCASEID\"].apply(str).str.startswith(\"2016\")]\n",
    "atus_2017_res_nilf = atus_multi_yr_res_nilf[atus_multi_yr_res_nilf[\"TUCASEID\"].apply(str).str.startswith(\"2017\")]\n",
    "atus_2018_res_nilf = atus_multi_yr_res_nilf[atus_multi_yr_res_nilf[\"TUCASEID\"].apply(str).str.startswith(\"2018\")]\n",
    "atus_2019_res_nilf = atus_multi_yr_res_nilf[atus_multi_yr_res_nilf[\"TUCASEID\"].apply(str).str.startswith(\"2019\")]\n",
    "#atus_2003_res_nilf"
   ]
  },
  {
   "cell_type": "code",
   "execution_count": null,
   "metadata": {},
   "outputs": [],
   "source": []
  },
  {
   "cell_type": "markdown",
   "metadata": {},
   "source": [
    "### 2003 All Residential Activities - Not In Labor Force Population"
   ]
  },
  {
   "cell_type": "code",
   "execution_count": 11,
   "metadata": {},
   "outputs": [],
   "source": [
    "atus_2003_all_res_nilf = atus_2003_res_nilf.groupby([\"TUCASEID\"]).sum().filter([\"TUCASEID\", \"TUACTDUR24\"])\n",
    "#atus_2003_all_res_nilf"
   ]
  },
  {
   "cell_type": "code",
   "execution_count": 12,
   "metadata": {},
   "outputs": [],
   "source": [
    "atus_2003_all_res_nilf_merge = pd.merge(atus_2003_all_res_nilf, multi_resp, on= \"TUCASEID\").filter([\"TUCASEID\",\"TUACTDUR24\",\"TUFNWGTP\"])\n",
    "#atus_2003_all_res_nilf_merge"
   ]
  },
  {
   "cell_type": "code",
   "execution_count": 13,
   "metadata": {},
   "outputs": [],
   "source": [
    "atus_2003_all_res_nilf_merge[\"Multiplied Weight\"] = atus_2003_all_res_nilf_merge[\"TUACTDUR24\"] * atus_2003_all_res_nilf_merge[\"TUFNWGTP\"]\n",
    "#atus_2003_all_res_nilf_merge"
   ]
  },
  {
   "cell_type": "code",
   "execution_count": 14,
   "metadata": {},
   "outputs": [
    {
     "data": {
      "text/plain": [
       "30318719295454.375"
      ]
     },
     "execution_count": 14,
     "metadata": {},
     "output_type": "execute_result"
    }
   ],
   "source": [
    "atus_2003_all_res_nilf_multiplied_weight = atus_2003_all_res_nilf_merge[\"Multiplied Weight\"].sum()\n",
    "atus_2003_all_res_nilf_multiplied_weight"
   ]
  },
  {
   "cell_type": "code",
   "execution_count": 15,
   "metadata": {},
   "outputs": [
    {
     "data": {
      "text/plain": [
       "24651107709.08413"
      ]
     },
     "execution_count": 15,
     "metadata": {},
     "output_type": "execute_result"
    }
   ],
   "source": [
    "nilf_2003 = multi_merged_nilf[multi_merged_nilf[\"TUCASEID\"].apply(str).str.startswith(\"2003\")]\n",
    "atus_2003_nilf_weight = nilf_2003.drop_duplicates(subset=[\"TUCASEID\"])\n",
    "atus_2003_nilf_weight = atus_2003_nilf_weight[\"TUFNWGTP\"].sum()\n",
    "atus_2003_nilf_weight"
   ]
  },
  {
   "cell_type": "code",
   "execution_count": 16,
   "metadata": {},
   "outputs": [
    {
     "data": {
      "text/plain": [
       "20.49855098687356"
      ]
     },
     "execution_count": 16,
     "metadata": {},
     "output_type": "execute_result"
    }
   ],
   "source": [
    "all_act_2003_res_nilf_hpd = atus_2003_all_res_nilf_multiplied_weight / atus_2003_nilf_weight / 60\n",
    "all_act_2003_res_nilf_hpd"
   ]
  },
  {
   "cell_type": "markdown",
   "metadata": {},
   "source": [
    "### 2004 All Residential Activities - Not In Labor Force Population"
   ]
  },
  {
   "cell_type": "code",
   "execution_count": 17,
   "metadata": {},
   "outputs": [],
   "source": [
    "atus_2004_all_res_nilf = atus_2004_res_nilf.groupby([\"TUCASEID\"]).sum().filter([\"TUCASEID\", \"TUACTDUR24\"])\n",
    "#atus_2004_all_res_nilf"
   ]
  },
  {
   "cell_type": "code",
   "execution_count": 18,
   "metadata": {},
   "outputs": [],
   "source": [
    "atus_2004_all_res_nilf_merge = pd.merge(atus_2004_all_res_nilf, multi_resp, on= \"TUCASEID\").filter([\"TUCASEID\",\"TUACTDUR24\",\"TUFNWGTP\"])\n",
    "atus_2004_all_res_nilf_merge[\"Multiplied Weight\"] = atus_2004_all_res_nilf_merge[\"TUACTDUR24\"] * atus_2004_all_res_nilf_merge[\"TUFNWGTP\"]\n",
    "#atus_2004_all_res_nilf_merge"
   ]
  },
  {
   "cell_type": "code",
   "execution_count": 19,
   "metadata": {},
   "outputs": [],
   "source": [
    "nilf_2004 = multi_merged_nilf[multi_merged_nilf[\"TUCASEID\"].apply(str).str.startswith(\"2004\")]\n",
    "atus_2004_nilf_weight = nilf_2004.drop_duplicates(subset=[\"TUCASEID\"])\n",
    "atus_2004_nilf_weight = atus_2004_nilf_weight[\"TUFNWGTP\"].sum()\n",
    "\n",
    "atus_2004_all_res_nilf_multiplied_weight = atus_2004_all_res_nilf_merge[\"Multiplied Weight\"].sum()"
   ]
  },
  {
   "cell_type": "code",
   "execution_count": 20,
   "metadata": {},
   "outputs": [
    {
     "data": {
      "text/plain": [
       "20.555295765778034"
      ]
     },
     "execution_count": 20,
     "metadata": {},
     "output_type": "execute_result"
    }
   ],
   "source": [
    "all_act_2004_res_nilf_hpd = atus_2004_all_res_nilf_multiplied_weight / atus_2004_nilf_weight / 60\n",
    "all_act_2004_res_nilf_hpd"
   ]
  },
  {
   "cell_type": "markdown",
   "metadata": {},
   "source": [
    "### 2005 All Residential Activities - Not In Labor Force Population"
   ]
  },
  {
   "cell_type": "code",
   "execution_count": 21,
   "metadata": {},
   "outputs": [],
   "source": [
    "atus_2005_all_res_nilf = atus_2005_res_nilf.groupby([\"TUCASEID\"]).sum().filter([\"TUCASEID\", \"TUACTDUR24\"])\n",
    "#atus_2005_all_res_nilf"
   ]
  },
  {
   "cell_type": "code",
   "execution_count": 22,
   "metadata": {},
   "outputs": [],
   "source": [
    "atus_2005_all_res_nilf_merge = pd.merge(atus_2005_all_res_nilf, multi_resp, on= \"TUCASEID\").filter([\"TUCASEID\",\"TUACTDUR24\",\"TUFNWGTP\"])\n",
    "atus_2005_all_res_nilf_merge[\"Multiplied Weight\"] = atus_2005_all_res_nilf_merge[\"TUACTDUR24\"] * atus_2005_all_res_nilf_merge[\"TUFNWGTP\"]\n",
    "#atus_2005_all_res_nilf_merge"
   ]
  },
  {
   "cell_type": "code",
   "execution_count": 23,
   "metadata": {},
   "outputs": [],
   "source": [
    "nilf_2005 = multi_merged_nilf[multi_merged_nilf[\"TUCASEID\"].apply(str).str.startswith(\"2005\")]\n",
    "atus_2005_nilf_weight = nilf_2005.drop_duplicates(subset=[\"TUCASEID\"])\n",
    "atus_2005_nilf_weight = atus_2005_nilf_weight[\"TUFNWGTP\"].sum()\n",
    "\n",
    "atus_2005_all_res_nilf_multiplied_weight = atus_2005_all_res_nilf_merge[\"Multiplied Weight\"].sum()"
   ]
  },
  {
   "cell_type": "code",
   "execution_count": 24,
   "metadata": {},
   "outputs": [
    {
     "data": {
      "text/plain": [
       "20.471361811362193"
      ]
     },
     "execution_count": 24,
     "metadata": {},
     "output_type": "execute_result"
    }
   ],
   "source": [
    "all_act_2005_res_nilf_hpd = atus_2005_all_res_nilf_multiplied_weight / atus_2005_nilf_weight / 60\n",
    "all_act_2005_res_nilf_hpd"
   ]
  },
  {
   "cell_type": "markdown",
   "metadata": {},
   "source": [
    "### 2006 All Residential Activities - Not In Labor Force Population"
   ]
  },
  {
   "cell_type": "code",
   "execution_count": 25,
   "metadata": {},
   "outputs": [],
   "source": [
    "atus_2006_all_res_nilf = atus_2006_res_nilf.groupby([\"TUCASEID\"]).sum().filter([\"TUCASEID\", \"TUACTDUR24\"])\n",
    "#atus_2006_all_res_nilf"
   ]
  },
  {
   "cell_type": "code",
   "execution_count": 26,
   "metadata": {},
   "outputs": [],
   "source": [
    "atus_2006_all_res_nilf_merge = pd.merge(atus_2006_all_res_nilf, multi_resp, on= \"TUCASEID\").filter([\"TUCASEID\",\"TUACTDUR24\",\"TUFNWGTP\"])\n",
    "atus_2006_all_res_nilf_merge[\"Multiplied Weight\"] = atus_2006_all_res_nilf_merge[\"TUACTDUR24\"] * atus_2006_all_res_nilf_merge[\"TUFNWGTP\"]\n",
    "#atus_2006_all_res_nilf_merge"
   ]
  },
  {
   "cell_type": "code",
   "execution_count": 27,
   "metadata": {},
   "outputs": [],
   "source": [
    "nilf_2006 = multi_merged_nilf[multi_merged_nilf[\"TUCASEID\"].apply(str).str.startswith(\"2006\")]\n",
    "atus_2006_nilf_weight = nilf_2006.drop_duplicates(subset=[\"TUCASEID\"])\n",
    "atus_2006_nilf_weight = atus_2006_nilf_weight[\"TUFNWGTP\"].sum()\n",
    "\n",
    "atus_2006_all_res_nilf_multiplied_weight = atus_2006_all_res_nilf_merge[\"Multiplied Weight\"].sum()"
   ]
  },
  {
   "cell_type": "code",
   "execution_count": 28,
   "metadata": {},
   "outputs": [
    {
     "data": {
      "text/plain": [
       "20.533608562987535"
      ]
     },
     "execution_count": 28,
     "metadata": {},
     "output_type": "execute_result"
    }
   ],
   "source": [
    "all_act_2006_res_nilf_hpd = atus_2006_all_res_nilf_multiplied_weight / atus_2006_nilf_weight / 60\n",
    "all_act_2006_res_nilf_hpd"
   ]
  },
  {
   "cell_type": "markdown",
   "metadata": {},
   "source": [
    "### 2007 All Residential Activities - Not In Labor Force Population"
   ]
  },
  {
   "cell_type": "code",
   "execution_count": 29,
   "metadata": {},
   "outputs": [],
   "source": [
    "atus_2007_all_res_nilf = atus_2007_res_nilf.groupby([\"TUCASEID\"]).sum().filter([\"TUCASEID\", \"TUACTDUR24\"])\n",
    "#atus_2007_all_res_nilf"
   ]
  },
  {
   "cell_type": "code",
   "execution_count": 30,
   "metadata": {},
   "outputs": [],
   "source": [
    "atus_2007_all_res_nilf_merge = pd.merge(atus_2007_all_res_nilf, multi_resp, on= \"TUCASEID\").filter([\"TUCASEID\",\"TUACTDUR24\",\"TUFNWGTP\"])\n",
    "atus_2007_all_res_nilf_merge[\"Multiplied Weight\"] = atus_2007_all_res_nilf_merge[\"TUACTDUR24\"] * atus_2007_all_res_nilf_merge[\"TUFNWGTP\"]\n",
    "#atus_2007_all_res_nilf_merge"
   ]
  },
  {
   "cell_type": "code",
   "execution_count": 31,
   "metadata": {},
   "outputs": [],
   "source": [
    "nilf_2007 = multi_merged_nilf[multi_merged_nilf[\"TUCASEID\"].apply(str).str.startswith(\"2007\")]\n",
    "atus_2007_nilf_weight = nilf_2007.drop_duplicates(subset=[\"TUCASEID\"])\n",
    "atus_2007_nilf_weight = atus_2007_nilf_weight[\"TUFNWGTP\"].sum()\n",
    "\n",
    "atus_2007_all_res_nilf_multiplied_weight = atus_2007_all_res_nilf_merge[\"Multiplied Weight\"].sum()"
   ]
  },
  {
   "cell_type": "code",
   "execution_count": 32,
   "metadata": {},
   "outputs": [
    {
     "data": {
      "text/plain": [
       "20.494393301076492"
      ]
     },
     "execution_count": 32,
     "metadata": {},
     "output_type": "execute_result"
    }
   ],
   "source": [
    "all_act_2007_res_nilf_hpd = atus_2007_all_res_nilf_multiplied_weight / atus_2007_nilf_weight / 60\n",
    "all_act_2007_res_nilf_hpd"
   ]
  },
  {
   "cell_type": "markdown",
   "metadata": {},
   "source": [
    "### 2008 All Residential Activities - Not In Labor Force Population"
   ]
  },
  {
   "cell_type": "code",
   "execution_count": 33,
   "metadata": {},
   "outputs": [],
   "source": [
    "atus_2008_all_res_nilf = atus_2008_res_nilf.groupby([\"TUCASEID\"]).sum().filter([\"TUCASEID\", \"TUACTDUR24\"])\n",
    "#atus_2008_all_res_nilf"
   ]
  },
  {
   "cell_type": "code",
   "execution_count": 34,
   "metadata": {},
   "outputs": [],
   "source": [
    "atus_2008_all_res_nilf_merge = pd.merge(atus_2008_all_res_nilf, multi_resp, on= \"TUCASEID\").filter([\"TUCASEID\",\"TUACTDUR24\",\"TUFNWGTP\"])\n",
    "atus_2008_all_res_nilf_merge[\"Multiplied Weight\"] = atus_2008_all_res_nilf_merge[\"TUACTDUR24\"] * atus_2008_all_res_nilf_merge[\"TUFNWGTP\"]\n",
    "#atus_2008_all_res_nilf_merge"
   ]
  },
  {
   "cell_type": "code",
   "execution_count": 35,
   "metadata": {},
   "outputs": [],
   "source": [
    "nilf_2008 = multi_merged_nilf[multi_merged_nilf[\"TUCASEID\"].apply(str).str.startswith(\"2008\")]\n",
    "atus_2008_nilf_weight = nilf_2008.drop_duplicates(subset=[\"TUCASEID\"])\n",
    "atus_2008_nilf_weight = atus_2008_nilf_weight[\"TUFNWGTP\"].sum()\n",
    "\n",
    "atus_2008_all_res_nilf_multiplied_weight = atus_2008_all_res_nilf_merge[\"Multiplied Weight\"].sum()"
   ]
  },
  {
   "cell_type": "code",
   "execution_count": 36,
   "metadata": {},
   "outputs": [
    {
     "data": {
      "text/plain": [
       "20.667992454033268"
      ]
     },
     "execution_count": 36,
     "metadata": {},
     "output_type": "execute_result"
    }
   ],
   "source": [
    "all_act_2008_res_nilf_hpd = atus_2008_all_res_nilf_multiplied_weight / atus_2008_nilf_weight / 60\n",
    "all_act_2008_res_nilf_hpd"
   ]
  },
  {
   "cell_type": "markdown",
   "metadata": {},
   "source": [
    "### 2009 All Residential Activities - Not In Labor Force Population"
   ]
  },
  {
   "cell_type": "code",
   "execution_count": 37,
   "metadata": {},
   "outputs": [],
   "source": [
    "atus_2009_all_res_nilf = atus_2009_res_nilf.groupby([\"TUCASEID\"]).sum().filter([\"TUCASEID\", \"TUACTDUR24\"])\n",
    "#atus_2009_all_res_nilf"
   ]
  },
  {
   "cell_type": "code",
   "execution_count": 38,
   "metadata": {},
   "outputs": [],
   "source": [
    "atus_2009_all_res_nilf_merge = pd.merge(atus_2009_all_res_nilf, multi_resp, on= \"TUCASEID\").filter([\"TUCASEID\",\"TUACTDUR24\",\"TUFNWGTP\"])\n",
    "atus_2009_all_res_nilf_merge[\"Multiplied Weight\"] = atus_2009_all_res_nilf_merge[\"TUACTDUR24\"] * atus_2009_all_res_nilf_merge[\"TUFNWGTP\"]\n",
    "#atus_2009_all_res_nilf_merge"
   ]
  },
  {
   "cell_type": "code",
   "execution_count": 39,
   "metadata": {},
   "outputs": [],
   "source": [
    "nilf_2009 = multi_merged_nilf[multi_merged_nilf[\"TUCASEID\"].apply(str).str.startswith(\"2009\")]\n",
    "atus_2009_nilf_weight = nilf_2009.drop_duplicates(subset=[\"TUCASEID\"])\n",
    "atus_2009_nilf_weight = atus_2009_nilf_weight[\"TUFNWGTP\"].sum()\n",
    "\n",
    "atus_2009_all_res_nilf_multiplied_weight = atus_2009_all_res_nilf_merge[\"Multiplied Weight\"].sum()"
   ]
  },
  {
   "cell_type": "code",
   "execution_count": 40,
   "metadata": {},
   "outputs": [
    {
     "data": {
      "text/plain": [
       "20.684682804236445"
      ]
     },
     "execution_count": 40,
     "metadata": {},
     "output_type": "execute_result"
    }
   ],
   "source": [
    "all_act_2009_res_nilf_hpd = atus_2009_all_res_nilf_multiplied_weight / atus_2009_nilf_weight / 60\n",
    "all_act_2009_res_nilf_hpd"
   ]
  },
  {
   "cell_type": "markdown",
   "metadata": {},
   "source": [
    "### 2010 All Residential Activities - Not In Labor Force Population"
   ]
  },
  {
   "cell_type": "code",
   "execution_count": 41,
   "metadata": {},
   "outputs": [],
   "source": [
    "atus_2010_all_res_nilf = atus_2010_res_nilf.groupby([\"TUCASEID\"]).sum().filter([\"TUCASEID\", \"TUACTDUR24\"])\n",
    "#atus_2010_all_res_nilf"
   ]
  },
  {
   "cell_type": "code",
   "execution_count": 42,
   "metadata": {},
   "outputs": [],
   "source": [
    "atus_2010_all_res_nilf_merge = pd.merge(atus_2010_all_res_nilf, multi_resp, on= \"TUCASEID\").filter([\"TUCASEID\",\"TUACTDUR24\",\"TUFNWGTP\"])\n",
    "atus_2010_all_res_nilf_merge[\"Multiplied Weight\"] = atus_2010_all_res_nilf_merge[\"TUACTDUR24\"] * atus_2010_all_res_nilf_merge[\"TUFNWGTP\"]\n",
    "#atus_2010_all_res_nilf_merge"
   ]
  },
  {
   "cell_type": "code",
   "execution_count": 43,
   "metadata": {},
   "outputs": [],
   "source": [
    "nilf_2010 = multi_merged_nilf[multi_merged_nilf[\"TUCASEID\"].apply(str).str.startswith(\"2010\")]\n",
    "atus_2010_nilf_weight = nilf_2010.drop_duplicates(subset=[\"TUCASEID\"])\n",
    "atus_2010_nilf_weight = atus_2010_nilf_weight[\"TUFNWGTP\"].sum()\n",
    "\n",
    "atus_2010_all_res_nilf_multiplied_weight = atus_2010_all_res_nilf_merge[\"Multiplied Weight\"].sum()"
   ]
  },
  {
   "cell_type": "code",
   "execution_count": 44,
   "metadata": {},
   "outputs": [
    {
     "data": {
      "text/plain": [
       "20.623825246843463"
      ]
     },
     "execution_count": 44,
     "metadata": {},
     "output_type": "execute_result"
    }
   ],
   "source": [
    "all_act_2010_res_nilf_hpd = atus_2010_all_res_nilf_multiplied_weight / atus_2010_nilf_weight / 60\n",
    "all_act_2010_res_nilf_hpd"
   ]
  },
  {
   "cell_type": "markdown",
   "metadata": {},
   "source": [
    "### 2011 All Residential Activities - Not In Labor Force Population"
   ]
  },
  {
   "cell_type": "code",
   "execution_count": 45,
   "metadata": {},
   "outputs": [],
   "source": [
    "atus_2011_all_res_nilf = atus_2011_res_nilf.groupby([\"TUCASEID\"]).sum().filter([\"TUCASEID\", \"TUACTDUR24\"])\n",
    "#atus_2011_all_res_nilf"
   ]
  },
  {
   "cell_type": "code",
   "execution_count": 46,
   "metadata": {},
   "outputs": [],
   "source": [
    "atus_2011_all_res_nilf_merge = pd.merge(atus_2011_all_res_nilf, multi_resp, on= \"TUCASEID\").filter([\"TUCASEID\",\"TUACTDUR24\",\"TUFNWGTP\"])\n",
    "atus_2011_all_res_nilf_merge[\"Multiplied Weight\"] = atus_2011_all_res_nilf_merge[\"TUACTDUR24\"] * atus_2011_all_res_nilf_merge[\"TUFNWGTP\"]\n",
    "#atus_2011_all_res_nilf_merge"
   ]
  },
  {
   "cell_type": "code",
   "execution_count": 47,
   "metadata": {},
   "outputs": [],
   "source": [
    "atus_2011_all_res_nilf_merge = pd.merge(atus_2011_all_res_nilf, multi_resp, on= \"TUCASEID\").filter([\"TUCASEID\",\"TUACTDUR24\",\"TUFNWGTP\"])\n",
    "atus_2011_all_res_nilf_merge[\"Multiplied Weight\"] = atus_2011_all_res_nilf_merge[\"TUACTDUR24\"] * atus_2011_all_res_nilf_merge[\"TUFNWGTP\"]\n",
    "#atus_2011_all_res_nilf_merge"
   ]
  },
  {
   "cell_type": "code",
   "execution_count": 48,
   "metadata": {},
   "outputs": [],
   "source": [
    "nilf_2011 = multi_merged_nilf[multi_merged_nilf[\"TUCASEID\"].apply(str).str.startswith(\"2011\")]\n",
    "atus_2011_nilf_weight = nilf_2011.drop_duplicates(subset=[\"TUCASEID\"])\n",
    "atus_2011_nilf_weight = atus_2011_nilf_weight[\"TUFNWGTP\"].sum()\n",
    "\n",
    "atus_2011_all_res_nilf_multiplied_weight = atus_2011_all_res_nilf_merge[\"Multiplied Weight\"].sum()"
   ]
  },
  {
   "cell_type": "code",
   "execution_count": 49,
   "metadata": {},
   "outputs": [
    {
     "data": {
      "text/plain": [
       "20.54094889994446"
      ]
     },
     "execution_count": 49,
     "metadata": {},
     "output_type": "execute_result"
    }
   ],
   "source": [
    "all_act_2011_res_nilf_hpd = atus_2011_all_res_nilf_multiplied_weight / atus_2011_nilf_weight / 60\n",
    "all_act_2011_res_nilf_hpd"
   ]
  },
  {
   "cell_type": "markdown",
   "metadata": {},
   "source": [
    "### 2012 All Residential Activities - Not In Labor Force Population"
   ]
  },
  {
   "cell_type": "code",
   "execution_count": 50,
   "metadata": {},
   "outputs": [],
   "source": [
    "atus_2012_all_res_nilf = atus_2012_res_nilf.groupby([\"TUCASEID\"]).sum().filter([\"TUCASEID\", \"TUACTDUR24\"])\n",
    "#atus_2012_all_res_nilf"
   ]
  },
  {
   "cell_type": "code",
   "execution_count": 51,
   "metadata": {},
   "outputs": [],
   "source": [
    "atus_2012_all_res_nilf_merge = pd.merge(atus_2012_all_res_nilf, multi_resp, on= \"TUCASEID\").filter([\"TUCASEID\",\"TUACTDUR24\",\"TUFNWGTP\"])\n",
    "atus_2012_all_res_nilf_merge[\"Multiplied Weight\"] = atus_2012_all_res_nilf_merge[\"TUACTDUR24\"] * atus_2012_all_res_nilf_merge[\"TUFNWGTP\"]\n",
    "#atus_2012_all_res_nilf_merge"
   ]
  },
  {
   "cell_type": "code",
   "execution_count": 52,
   "metadata": {},
   "outputs": [],
   "source": [
    "atus_2012_all_res_nilf_merge = pd.merge(atus_2012_all_res_nilf, multi_resp, on= \"TUCASEID\").filter([\"TUCASEID\",\"TUACTDUR24\",\"TUFNWGTP\"])\n",
    "atus_2012_all_res_nilf_merge[\"Multiplied Weight\"] = atus_2012_all_res_nilf_merge[\"TUACTDUR24\"] * atus_2012_all_res_nilf_merge[\"TUFNWGTP\"]\n",
    "#atus_2012_all_res_nilf_merge"
   ]
  },
  {
   "cell_type": "code",
   "execution_count": 53,
   "metadata": {},
   "outputs": [],
   "source": [
    "nilf_2012 = multi_merged_nilf[multi_merged_nilf[\"TUCASEID\"].apply(str).str.startswith(\"2012\")]\n",
    "atus_2012_nilf_weight = nilf_2012.drop_duplicates(subset=[\"TUCASEID\"])\n",
    "atus_2012_nilf_weight = atus_2012_nilf_weight[\"TUFNWGTP\"].sum()\n",
    "\n",
    "atus_2012_all_res_nilf_multiplied_weight = atus_2012_all_res_nilf_merge[\"Multiplied Weight\"].sum()"
   ]
  },
  {
   "cell_type": "code",
   "execution_count": 54,
   "metadata": {},
   "outputs": [
    {
     "data": {
      "text/plain": [
       "20.54296320099"
      ]
     },
     "execution_count": 54,
     "metadata": {},
     "output_type": "execute_result"
    }
   ],
   "source": [
    "all_act_2012_res_nilf_hpd = atus_2012_all_res_nilf_multiplied_weight / atus_2012_nilf_weight / 60\n",
    "all_act_2012_res_nilf_hpd"
   ]
  },
  {
   "cell_type": "markdown",
   "metadata": {},
   "source": [
    "### 2013 All Residential Activities -Not In Labor Force Population"
   ]
  },
  {
   "cell_type": "code",
   "execution_count": 55,
   "metadata": {},
   "outputs": [],
   "source": [
    "atus_2013_all_res_nilf = atus_2013_res_nilf.groupby([\"TUCASEID\"]).sum().filter([\"TUCASEID\", \"TUACTDUR24\"])\n",
    "#atus_2013_all_res_nilf"
   ]
  },
  {
   "cell_type": "code",
   "execution_count": 56,
   "metadata": {},
   "outputs": [],
   "source": [
    "atus_2013_all_res_nilf_merge = pd.merge(atus_2013_all_res_nilf, multi_resp, on= \"TUCASEID\").filter([\"TUCASEID\",\"TUACTDUR24\",\"TUFNWGTP\"])\n",
    "atus_2013_all_res_nilf_merge[\"Multiplied Weight\"] = atus_2013_all_res_nilf_merge[\"TUACTDUR24\"] * atus_2013_all_res_nilf_merge[\"TUFNWGTP\"]\n",
    "#atus_2013_all_res_nilf_merge"
   ]
  },
  {
   "cell_type": "code",
   "execution_count": 57,
   "metadata": {},
   "outputs": [],
   "source": [
    "atus_2013_all_res_nilf_merge = pd.merge(atus_2013_all_res_nilf, multi_resp, on= \"TUCASEID\").filter([\"TUCASEID\",\"TUACTDUR24\",\"TUFNWGTP\"])\n",
    "atus_2013_all_res_nilf_merge[\"Multiplied Weight\"] = atus_2013_all_res_nilf_merge[\"TUACTDUR24\"] * atus_2013_all_res_nilf_merge[\"TUFNWGTP\"]\n",
    "#atus_2013_all_res_nilf_merge"
   ]
  },
  {
   "cell_type": "code",
   "execution_count": 58,
   "metadata": {},
   "outputs": [],
   "source": [
    "nilf_2013 = multi_merged_nilf[multi_merged_nilf[\"TUCASEID\"].apply(str).str.startswith(\"2013\")]\n",
    "atus_2013_nilf_weight = nilf_2013.drop_duplicates(subset=[\"TUCASEID\"])\n",
    "atus_2013_nilf_weight = atus_2013_nilf_weight[\"TUFNWGTP\"].sum()\n",
    "\n",
    "atus_2013_all_res_nilf_multiplied_weight = atus_2013_all_res_nilf_merge[\"Multiplied Weight\"].sum()"
   ]
  },
  {
   "cell_type": "code",
   "execution_count": 59,
   "metadata": {},
   "outputs": [
    {
     "data": {
      "text/plain": [
       "20.60259744072299"
      ]
     },
     "execution_count": 59,
     "metadata": {},
     "output_type": "execute_result"
    }
   ],
   "source": [
    "all_act_2013_res_nilf_hpd = atus_2013_all_res_nilf_multiplied_weight / atus_2013_nilf_weight / 60\n",
    "all_act_2013_res_nilf_hpd"
   ]
  },
  {
   "cell_type": "markdown",
   "metadata": {},
   "source": [
    "### 2014 All Residential Activities - Not In Labor Force Population"
   ]
  },
  {
   "cell_type": "code",
   "execution_count": 60,
   "metadata": {},
   "outputs": [],
   "source": [
    "atus_2014_all_res_nilf = atus_2014_res_nilf.groupby([\"TUCASEID\"]).sum().filter([\"TUCASEID\", \"TUACTDUR24\"])\n",
    "#atus_2014_all_res_nilf"
   ]
  },
  {
   "cell_type": "code",
   "execution_count": 61,
   "metadata": {},
   "outputs": [],
   "source": [
    "atus_2014_all_res_nilf_merge = pd.merge(atus_2014_all_res_nilf, multi_resp, on= \"TUCASEID\").filter([\"TUCASEID\",\"TUACTDUR24\",\"TUFNWGTP\"])\n",
    "atus_2014_all_res_nilf_merge[\"Multiplied Weight\"] = atus_2014_all_res_nilf_merge[\"TUACTDUR24\"] * atus_2014_all_res_nilf_merge[\"TUFNWGTP\"]\n",
    "#atus_2014_all_res_nilf_merge"
   ]
  },
  {
   "cell_type": "code",
   "execution_count": 62,
   "metadata": {},
   "outputs": [],
   "source": [
    "atus_2014_all_res_nilf_merge = pd.merge(atus_2014_all_res_nilf, multi_resp, on= \"TUCASEID\").filter([\"TUCASEID\",\"TUACTDUR24\",\"TUFNWGTP\"])\n",
    "atus_2014_all_res_nilf_merge[\"Multiplied Weight\"] = atus_2014_all_res_nilf_merge[\"TUACTDUR24\"] * atus_2014_all_res_nilf_merge[\"TUFNWGTP\"]\n",
    "#atus_2014_all_res_nilf_merge"
   ]
  },
  {
   "cell_type": "code",
   "execution_count": 63,
   "metadata": {},
   "outputs": [],
   "source": [
    "nilf_2014 = multi_merged_nilf[multi_merged_nilf[\"TUCASEID\"].apply(str).str.startswith(\"2014\")]\n",
    "atus_2014_nilf_weight = nilf_2014.drop_duplicates(subset=[\"TUCASEID\"])\n",
    "atus_2014_nilf_weight = atus_2014_nilf_weight[\"TUFNWGTP\"].sum()\n",
    "\n",
    "atus_2014_all_res_nilf_multiplied_weight = atus_2014_all_res_nilf_merge[\"Multiplied Weight\"].sum()"
   ]
  },
  {
   "cell_type": "code",
   "execution_count": 64,
   "metadata": {},
   "outputs": [
    {
     "data": {
      "text/plain": [
       "20.678103531923757"
      ]
     },
     "execution_count": 64,
     "metadata": {},
     "output_type": "execute_result"
    }
   ],
   "source": [
    "all_act_2014_res_nilf_hpd = atus_2014_all_res_nilf_multiplied_weight / atus_2014_nilf_weight / 60\n",
    "all_act_2014_res_nilf_hpd"
   ]
  },
  {
   "cell_type": "markdown",
   "metadata": {},
   "source": [
    "### 2015 All Residential Activities - Not In Labor Force Population"
   ]
  },
  {
   "cell_type": "code",
   "execution_count": 65,
   "metadata": {},
   "outputs": [],
   "source": [
    "atus_2015_all_res_nilf = atus_2015_res_nilf.groupby([\"TUCASEID\"]).sum().filter([\"TUCASEID\", \"TUACTDUR24\"])\n",
    "#atus_2015_all_res_nilf"
   ]
  },
  {
   "cell_type": "code",
   "execution_count": 66,
   "metadata": {},
   "outputs": [],
   "source": [
    "atus_2015_all_res_nilf_merge = pd.merge(atus_2015_all_res_nilf, multi_resp, on= \"TUCASEID\").filter([\"TUCASEID\",\"TUACTDUR24\",\"TUFNWGTP\"])\n",
    "atus_2015_all_res_nilf_merge[\"Multiplied Weight\"] = atus_2015_all_res_nilf_merge[\"TUACTDUR24\"] * atus_2015_all_res_nilf_merge[\"TUFNWGTP\"]\n",
    "#atus_2015_all_res_nilf_merge"
   ]
  },
  {
   "cell_type": "code",
   "execution_count": 67,
   "metadata": {},
   "outputs": [],
   "source": [
    "atus_2015_all_res_nilf_merge = pd.merge(atus_2015_all_res_nilf, multi_resp, on= \"TUCASEID\").filter([\"TUCASEID\",\"TUACTDUR24\",\"TUFNWGTP\"])\n",
    "atus_2015_all_res_nilf_merge[\"Multiplied Weight\"] = atus_2015_all_res_nilf_merge[\"TUACTDUR24\"] * atus_2015_all_res_nilf_merge[\"TUFNWGTP\"]\n",
    "#atus_2015_all_res_nilf_merge"
   ]
  },
  {
   "cell_type": "code",
   "execution_count": 68,
   "metadata": {},
   "outputs": [],
   "source": [
    "nilf_2015 = multi_merged_nilf[multi_merged_nilf[\"TUCASEID\"].apply(str).str.startswith(\"2015\")]\n",
    "atus_2015_nilf_weight = nilf_2015.drop_duplicates(subset=[\"TUCASEID\"])\n",
    "atus_2015_nilf_weight = atus_2015_nilf_weight[\"TUFNWGTP\"].sum()\n",
    "\n",
    "atus_2015_all_res_nilf_multiplied_weight = atus_2015_all_res_nilf_merge[\"Multiplied Weight\"].sum()"
   ]
  },
  {
   "cell_type": "code",
   "execution_count": 69,
   "metadata": {},
   "outputs": [
    {
     "data": {
      "text/plain": [
       "20.72775863647949"
      ]
     },
     "execution_count": 69,
     "metadata": {},
     "output_type": "execute_result"
    }
   ],
   "source": [
    "all_act_2015_res_nilf_hpd = atus_2015_all_res_nilf_multiplied_weight / atus_2015_nilf_weight / 60\n",
    "all_act_2015_res_nilf_hpd"
   ]
  },
  {
   "cell_type": "markdown",
   "metadata": {},
   "source": [
    "### 2016 All Residential Activities - Not In Labor ForcePopulation"
   ]
  },
  {
   "cell_type": "code",
   "execution_count": 70,
   "metadata": {},
   "outputs": [],
   "source": [
    "atus_2016_all_res_nilf = atus_2016_res_nilf.groupby([\"TUCASEID\"]).sum().filter([\"TUCASEID\", \"TUACTDUR24\"])\n",
    "#atus_2016_all_res_nilf"
   ]
  },
  {
   "cell_type": "code",
   "execution_count": 71,
   "metadata": {},
   "outputs": [],
   "source": [
    "atus_2016_all_res_nilf_merge = pd.merge(atus_2016_all_res_nilf, multi_resp, on= \"TUCASEID\").filter([\"TUCASEID\",\"TUACTDUR24\",\"TUFNWGTP\"])\n",
    "atus_2016_all_res_nilf_merge[\"Multiplied Weight\"] = atus_2016_all_res_nilf_merge[\"TUACTDUR24\"] * atus_2016_all_res_nilf_merge[\"TUFNWGTP\"]\n",
    "#atus_2016_all_res_nilf_merge"
   ]
  },
  {
   "cell_type": "code",
   "execution_count": 72,
   "metadata": {},
   "outputs": [],
   "source": [
    "atus_2016_all_res_nilf_merge = pd.merge(atus_2016_all_res_nilf, multi_resp, on= \"TUCASEID\").filter([\"TUCASEID\",\"TUACTDUR24\",\"TUFNWGTP\"])\n",
    "atus_2016_all_res_nilf_merge[\"Multiplied Weight\"] = atus_2016_all_res_nilf_merge[\"TUACTDUR24\"] * atus_2016_all_res_nilf_merge[\"TUFNWGTP\"]\n",
    "#atus_2016_all_res_nilf_merge"
   ]
  },
  {
   "cell_type": "code",
   "execution_count": 73,
   "metadata": {},
   "outputs": [],
   "source": [
    "nilf_2016 = multi_merged_nilf[multi_merged_nilf[\"TUCASEID\"].apply(str).str.startswith(\"2016\")]\n",
    "atus_2016_nilf_weight = nilf_2016.drop_duplicates(subset=[\"TUCASEID\"])\n",
    "atus_2016_nilf_weight = atus_2016_nilf_weight[\"TUFNWGTP\"].sum()\n",
    "\n",
    "atus_2016_all_res_nilf_multiplied_weight = atus_2016_all_res_nilf_merge[\"Multiplied Weight\"].sum()"
   ]
  },
  {
   "cell_type": "code",
   "execution_count": 74,
   "metadata": {},
   "outputs": [
    {
     "data": {
      "text/plain": [
       "20.547968999724965"
      ]
     },
     "execution_count": 74,
     "metadata": {},
     "output_type": "execute_result"
    }
   ],
   "source": [
    "all_act_2016_res_nilf_hpd = atus_2016_all_res_nilf_multiplied_weight / atus_2016_nilf_weight / 60\n",
    "all_act_2016_res_nilf_hpd"
   ]
  },
  {
   "cell_type": "markdown",
   "metadata": {},
   "source": [
    "### 2017 All Residential Activities - Not In Labor Force Population"
   ]
  },
  {
   "cell_type": "code",
   "execution_count": 75,
   "metadata": {},
   "outputs": [],
   "source": [
    "atus_2017_all_res_nilf = atus_2017_res_nilf.groupby([\"TUCASEID\"]).sum().filter([\"TUCASEID\", \"TUACTDUR24\"])\n",
    "#atus_2017_all_res_nilf"
   ]
  },
  {
   "cell_type": "code",
   "execution_count": 76,
   "metadata": {},
   "outputs": [],
   "source": [
    "atus_2017_all_res_nilf_merge = pd.merge(atus_2017_all_res_nilf, multi_resp, on= \"TUCASEID\").filter([\"TUCASEID\",\"TUACTDUR24\",\"TUFNWGTP\"])\n",
    "atus_2017_all_res_nilf_merge[\"Multiplied Weight\"] = atus_2017_all_res_nilf_merge[\"TUACTDUR24\"] * atus_2017_all_res_nilf_merge[\"TUFNWGTP\"]\n",
    "#atus_2017_all_res_nilf_merge"
   ]
  },
  {
   "cell_type": "code",
   "execution_count": 77,
   "metadata": {},
   "outputs": [],
   "source": [
    "atus_2017_all_res_nilf_merge = pd.merge(atus_2017_all_res_nilf, multi_resp, on= \"TUCASEID\").filter([\"TUCASEID\",\"TUACTDUR24\",\"TUFNWGTP\"])\n",
    "atus_2017_all_res_nilf_merge[\"Multiplied Weight\"] = atus_2017_all_res_nilf_merge[\"TUACTDUR24\"] * atus_2017_all_res_nilf_merge[\"TUFNWGTP\"]\n",
    "#atus_2017_all_res_nilf_merge"
   ]
  },
  {
   "cell_type": "code",
   "execution_count": 78,
   "metadata": {},
   "outputs": [],
   "source": [
    "nilf_2017 = multi_merged_nilf[multi_merged_nilf[\"TUCASEID\"].apply(str).str.startswith(\"2017\")]\n",
    "atus_2017_nilf_weight = nilf_2017.drop_duplicates(subset=[\"TUCASEID\"])\n",
    "atus_2017_nilf_weight = atus_2017_nilf_weight[\"TUFNWGTP\"].sum()\n",
    "\n",
    "atus_2017_all_res_nilf_multiplied_weight = atus_2017_all_res_nilf_merge[\"Multiplied Weight\"].sum()"
   ]
  },
  {
   "cell_type": "code",
   "execution_count": 79,
   "metadata": {},
   "outputs": [
    {
     "data": {
      "text/plain": [
       "20.69626127534722"
      ]
     },
     "execution_count": 79,
     "metadata": {},
     "output_type": "execute_result"
    }
   ],
   "source": [
    "all_act_2017_res_nilf_hpd = atus_2017_all_res_nilf_multiplied_weight / atus_2017_nilf_weight / 60\n",
    "all_act_2017_res_nilf_hpd"
   ]
  },
  {
   "cell_type": "markdown",
   "metadata": {},
   "source": [
    "### 2018 All Residential Activities - Not In Labor Force Population"
   ]
  },
  {
   "cell_type": "code",
   "execution_count": 80,
   "metadata": {},
   "outputs": [],
   "source": [
    "atus_2018_all_res_nilf = atus_2018_res_nilf.groupby([\"TUCASEID\"]).sum().filter([\"TUCASEID\", \"TUACTDUR24\"])\n",
    "#atus_2018_all_res_nilf"
   ]
  },
  {
   "cell_type": "code",
   "execution_count": 81,
   "metadata": {},
   "outputs": [],
   "source": [
    "atus_2018_all_res_nilf_merge = pd.merge(atus_2018_all_res_nilf, multi_resp, on= \"TUCASEID\").filter([\"TUCASEID\",\"TUACTDUR24\",\"TUFNWGTP\"])\n",
    "atus_2018_all_res_nilf_merge[\"Multiplied Weight\"] = atus_2018_all_res_nilf_merge[\"TUACTDUR24\"] * atus_2018_all_res_nilf_merge[\"TUFNWGTP\"]\n",
    "#atus_2018_all_res_nilf_merge"
   ]
  },
  {
   "cell_type": "code",
   "execution_count": 82,
   "metadata": {},
   "outputs": [],
   "source": [
    "atus_2018_all_res_nilf_merge = pd.merge(atus_2018_all_res_nilf, multi_resp, on= \"TUCASEID\").filter([\"TUCASEID\",\"TUACTDUR24\",\"TUFNWGTP\"])\n",
    "atus_2018_all_res_nilf_merge[\"Multiplied Weight\"] = atus_2018_all_res_nilf_merge[\"TUACTDUR24\"] * atus_2018_all_res_nilf_merge[\"TUFNWGTP\"]\n",
    "#atus_2018_all_res_nilf_merge"
   ]
  },
  {
   "cell_type": "code",
   "execution_count": 83,
   "metadata": {},
   "outputs": [],
   "source": [
    "nilf_2018 = multi_merged_nilf[multi_merged_nilf[\"TUCASEID\"].apply(str).str.startswith(\"2018\")]\n",
    "atus_2018_nilf_weight = nilf_2018.drop_duplicates(subset=[\"TUCASEID\"])\n",
    "atus_2018_nilf_weight = atus_2018_nilf_weight[\"TUFNWGTP\"].sum()\n",
    "\n",
    "atus_2018_all_res_nilf_multiplied_weight = atus_2018_all_res_nilf_merge[\"Multiplied Weight\"].sum()"
   ]
  },
  {
   "cell_type": "code",
   "execution_count": 84,
   "metadata": {},
   "outputs": [
    {
     "data": {
      "text/plain": [
       "20.64266497237559"
      ]
     },
     "execution_count": 84,
     "metadata": {},
     "output_type": "execute_result"
    }
   ],
   "source": [
    "all_act_2018_res_nilf_hpd = atus_2018_all_res_nilf_multiplied_weight / atus_2018_nilf_weight / 60\n",
    "all_act_2018_res_nilf_hpd"
   ]
  },
  {
   "cell_type": "markdown",
   "metadata": {},
   "source": [
    "### 2019 All Residential Activities - Not In Labor Force Population"
   ]
  },
  {
   "cell_type": "code",
   "execution_count": 85,
   "metadata": {},
   "outputs": [],
   "source": [
    "atus_2019_all_res_nilf = atus_2019_res_nilf.groupby([\"TUCASEID\"]).sum().filter([\"TUCASEID\", \"TUACTDUR24\"])\n",
    "#atus_2019_all_res_nilf"
   ]
  },
  {
   "cell_type": "code",
   "execution_count": 86,
   "metadata": {},
   "outputs": [],
   "source": [
    "atus_2019_all_res_nilf_merge = pd.merge(atus_2019_all_res_nilf, multi_resp, on= \"TUCASEID\").filter([\"TUCASEID\",\"TUACTDUR24\",\"TUFNWGTP\"])\n",
    "atus_2019_all_res_nilf_merge[\"Multiplied Weight\"] = atus_2019_all_res_nilf_merge[\"TUACTDUR24\"] * atus_2019_all_res_nilf_merge[\"TUFNWGTP\"]\n",
    "#atus_2019_all_res_nilf_merge"
   ]
  },
  {
   "cell_type": "code",
   "execution_count": 87,
   "metadata": {},
   "outputs": [],
   "source": [
    "atus_2019_all_res_nilf_merge = pd.merge(atus_2019_all_res_nilf, multi_resp, on= \"TUCASEID\").filter([\"TUCASEID\",\"TUACTDUR24\",\"TUFNWGTP\"])\n",
    "atus_2019_all_res_nilf_merge[\"Multiplied Weight\"] = atus_2019_all_res_nilf_merge[\"TUACTDUR24\"] * atus_2019_all_res_nilf_merge[\"TUFNWGTP\"]\n",
    "#atus_2019_all_res_nilf_merge"
   ]
  },
  {
   "cell_type": "code",
   "execution_count": 88,
   "metadata": {},
   "outputs": [],
   "source": [
    "nilf_2019 = multi_merged_nilf[multi_merged_nilf[\"TUCASEID\"].apply(str).str.startswith(\"2019\")]\n",
    "atus_2019_nilf_weight = nilf_2019.drop_duplicates(subset=[\"TUCASEID\"])\n",
    "atus_2019_nilf_weight = atus_2019_nilf_weight[\"TUFNWGTP\"].sum()\n",
    "\n",
    "atus_2019_all_res_nilf_multiplied_weight = atus_2019_all_res_nilf_merge[\"Multiplied Weight\"].sum()"
   ]
  },
  {
   "cell_type": "code",
   "execution_count": 89,
   "metadata": {},
   "outputs": [
    {
     "data": {
      "text/plain": [
       "20.64263822129432"
      ]
     },
     "execution_count": 89,
     "metadata": {},
     "output_type": "execute_result"
    }
   ],
   "source": [
    "all_act_2019_res_nilf_hpd = atus_2019_all_res_nilf_multiplied_weight / atus_2019_nilf_weight / 60\n",
    "all_act_2019_res_nilf_hpd"
   ]
  },
  {
   "cell_type": "markdown",
   "metadata": {},
   "source": [
    "### Regresssion: All Residential Activity - Not In Labor Force"
   ]
  },
  {
   "cell_type": "markdown",
   "metadata": {},
   "source": [
    "#### 2003 -2012 Regression "
   ]
  },
  {
   "cell_type": "code",
   "execution_count": 90,
   "metadata": {},
   "outputs": [],
   "source": [
    "year = np.array([2003, 2004, 2005, 2006, 2007, 2008, 2009, 2010,2011,2012]).reshape((-1, 1))\n",
    "activity_hours_per_day = np.array([all_act_2003_res_nilf_hpd, all_act_2004_res_nilf_hpd, all_act_2005_res_nilf_hpd,\n",
    "                                   all_act_2006_res_nilf_hpd, all_act_2007_res_nilf_hpd, all_act_2008_res_nilf_hpd,\n",
    "                                   all_act_2009_res_nilf_hpd, all_act_2010_res_nilf_hpd, all_act_2011_res_nilf_hpd,\n",
    "                                   all_act_2012_res_nilf_hpd]).reshape((-1, 1))\n",
    "\n",
    "activity_hours_per_yr = [i * 365 for i in activity_hours_per_day]\n",
    "#activity_hours_per_yr"
   ]
  },
  {
   "cell_type": "code",
   "execution_count": 91,
   "metadata": {},
   "outputs": [
    {
     "data": {
      "image/png": "[encoded data removed]",
      "text/plain": [
       "<Figure size 432x288 with 1 Axes>"
      ]
     },
     "metadata": {
      "needs_background": "light"
     },
     "output_type": "display_data"
    }
   ],
   "source": [
    "x = year\n",
    "y = activity_hours_per_yr\n",
    "x, y = np.array(x), np.array(y)\n",
    "\n",
    "model = LinearRegression().fit(x, y)\n",
    "\n",
    "y_pred = model.predict(x)  \n",
    "\n",
    "plt.scatter(x, y)\n",
    "plt.plot(x, y_pred, color='red')\n",
    "plt.show()"
   ]
  },
  {
   "cell_type": "code",
   "execution_count": 92,
   "metadata": {},
   "outputs": [
    {
     "data": {
      "text/plain": [
       "0.17785291977965845"
      ]
     },
     "execution_count": 92,
     "metadata": {},
     "output_type": "execute_result"
    }
   ],
   "source": [
    "coefficient_of_determination = model.score(x,y) #R sqaure value \n",
    "coefficient_of_determination"
   ]
  },
  {
   "cell_type": "code",
   "execution_count": 93,
   "metadata": {},
   "outputs": [
    {
     "data": {
      "text/plain": [
       "array([[3.73499173]])"
      ]
     },
     "execution_count": 93,
     "metadata": {},
     "output_type": "execute_result"
    }
   ],
   "source": [
    "all_act_2012_res_nilf_slope = model.coef_\n",
    "all_act_2012_res_nilf_slope"
   ]
  },
  {
   "cell_type": "markdown",
   "metadata": {},
   "source": [
    "#### 2003-2019 Regression"
   ]
  },
  {
   "cell_type": "code",
   "execution_count": 94,
   "metadata": {},
   "outputs": [],
   "source": [
    "year = np.array([2003, 2004, 2005, 2006, 2007, 2008, 2009, 2010,2011,2012, 2013, 2014, 2015, 2016, 2017, 2018, 2019]).reshape((-1, 1))\n",
    "activity_hours_per_day = np.array([all_act_2003_res_nilf_hpd, all_act_2004_res_nilf_hpd, all_act_2005_res_nilf_hpd,\n",
    "                                   all_act_2006_res_nilf_hpd, all_act_2007_res_nilf_hpd, all_act_2008_res_nilf_hpd,\n",
    "                                   all_act_2009_res_nilf_hpd, all_act_2010_res_nilf_hpd, all_act_2011_res_nilf_hpd,\n",
    "                                   all_act_2012_res_nilf_hpd, all_act_2013_res_nilf_hpd, all_act_2014_res_nilf_hpd,\n",
    "                                   all_act_2015_res_nilf_hpd, all_act_2016_res_nilf_hpd, all_act_2017_res_nilf_hpd,\n",
    "                                   all_act_2018_res_nilf_hpd, all_act_2019_res_nilf_hpd]).reshape((-1, 1))\n",
    "\n",
    "activity_hours_per_yr = [i * 365 for i in activity_hours_per_day]\n",
    "#activity_hours_per_yr"
   ]
  },
  {
   "cell_type": "code",
   "execution_count": 95,
   "metadata": {},
   "outputs": [
    {
     "data": {
      "image/png": "[encoded data removed]",
      "text/plain": [
       "<Figure size 432x288 with 1 Axes>"
      ]
     },
     "metadata": {
      "needs_background": "light"
     },
     "output_type": "display_data"
    }
   ],
   "source": [
    "x = year\n",
    "y = activity_hours_per_yr\n",
    "x, y = np.array(x), np.array(y)\n",
    "\n",
    "model = LinearRegression().fit(x, y)\n",
    "\n",
    "y_pred = model.predict(x)  \n",
    "\n",
    "plt.scatter(x, y)\n",
    "plt.plot(x, y_pred, color='red')\n",
    "plt.show()"
   ]
  },
  {
   "cell_type": "code",
   "execution_count": 96,
   "metadata": {},
   "outputs": [
    {
     "data": {
      "text/plain": [
       "0.36843285931783165"
      ]
     },
     "execution_count": 96,
     "metadata": {},
     "output_type": "execute_result"
    }
   ],
   "source": [
    "coefficient_of_determination = model.score(x,y) #R sqaure value \n",
    "coefficient_of_determination"
   ]
  },
  {
   "cell_type": "code",
   "execution_count": 97,
   "metadata": {},
   "outputs": [
    {
     "data": {
      "text/plain": [
       "array([[3.49276649]])"
      ]
     },
     "execution_count": 97,
     "metadata": {},
     "output_type": "execute_result"
    }
   ],
   "source": [
    "all_act_2019_res_nilf_slope = model.coef_\n",
    "all_act_2019_res_nilf_slope"
   ]
  },
  {
   "cell_type": "markdown",
   "metadata": {},
   "source": [
    "### 2003-2019 NonResidential - Not In Labor Force"
   ]
  },
  {
   "cell_type": "code",
   "execution_count": 98,
   "metadata": {},
   "outputs": [],
   "source": [
    "#non-residential = 2,4,5,6,7,8,9,10,11,30,31,32"
   ]
  },
  {
   "cell_type": "code",
   "execution_count": 99,
   "metadata": {},
   "outputs": [],
   "source": [
    "nonresidential_location = [2,4,5,6,7,8,9,10,11,30,31,32]\n",
    "atus_multi_yr_nonres_nilf = multi_merged_nilf[multi_merged_nilf[\"TEWHERE\"].isin(nonresidential_location)]\n",
    "#atus_multi_yr_res_nilf"
   ]
  },
  {
   "cell_type": "code",
   "execution_count": 100,
   "metadata": {},
   "outputs": [],
   "source": [
    "atus_2003_nonres_nilf = atus_multi_yr_nonres_nilf[atus_multi_yr_nonres_nilf[\"TUCASEID\"].apply(str).str.startswith(\"2003\")]\n",
    "atus_2004_nonres_nilf = atus_multi_yr_nonres_nilf[atus_multi_yr_nonres_nilf[\"TUCASEID\"].apply(str).str.startswith(\"2004\")]\n",
    "atus_2005_nonres_nilf = atus_multi_yr_nonres_nilf[atus_multi_yr_nonres_nilf[\"TUCASEID\"].apply(str).str.startswith(\"2005\")]\n",
    "atus_2006_nonres_nilf = atus_multi_yr_nonres_nilf[atus_multi_yr_nonres_nilf[\"TUCASEID\"].apply(str).str.startswith(\"2006\")]\n",
    "atus_2007_nonres_nilf = atus_multi_yr_nonres_nilf[atus_multi_yr_nonres_nilf[\"TUCASEID\"].apply(str).str.startswith(\"2007\")]\n",
    "atus_2008_nonres_nilf = atus_multi_yr_nonres_nilf[atus_multi_yr_nonres_nilf[\"TUCASEID\"].apply(str).str.startswith(\"2008\")]\n",
    "atus_2009_nonres_nilf = atus_multi_yr_nonres_nilf[atus_multi_yr_nonres_nilf[\"TUCASEID\"].apply(str).str.startswith(\"2009\")]\n",
    "atus_2010_nonres_nilf = atus_multi_yr_nonres_nilf[atus_multi_yr_nonres_nilf[\"TUCASEID\"].apply(str).str.startswith(\"2010\")]\n",
    "atus_2011_nonres_nilf = atus_multi_yr_nonres_nilf[atus_multi_yr_nonres_nilf[\"TUCASEID\"].apply(str).str.startswith(\"2011\")]\n",
    "atus_2012_nonres_nilf = atus_multi_yr_nonres_nilf[atus_multi_yr_nonres_nilf[\"TUCASEID\"].apply(str).str.startswith(\"2012\")]\n",
    "atus_2013_nonres_nilf = atus_multi_yr_nonres_nilf[atus_multi_yr_nonres_nilf[\"TUCASEID\"].apply(str).str.startswith(\"2013\")]\n",
    "atus_2014_nonres_nilf = atus_multi_yr_nonres_nilf[atus_multi_yr_nonres_nilf[\"TUCASEID\"].apply(str).str.startswith(\"2014\")]\n",
    "atus_2015_nonres_nilf = atus_multi_yr_nonres_nilf[atus_multi_yr_nonres_nilf[\"TUCASEID\"].apply(str).str.startswith(\"2015\")]\n",
    "atus_2016_nonres_nilf = atus_multi_yr_nonres_nilf[atus_multi_yr_nonres_nilf[\"TUCASEID\"].apply(str).str.startswith(\"2016\")]\n",
    "atus_2017_nonres_nilf = atus_multi_yr_nonres_nilf[atus_multi_yr_nonres_nilf[\"TUCASEID\"].apply(str).str.startswith(\"2017\")]\n",
    "atus_2018_nonres_nilf = atus_multi_yr_nonres_nilf[atus_multi_yr_nonres_nilf[\"TUCASEID\"].apply(str).str.startswith(\"2018\")]\n",
    "atus_2019_nonres_nilf = atus_multi_yr_nonres_nilf[atus_multi_yr_nonres_nilf[\"TUCASEID\"].apply(str).str.startswith(\"2019\")]\n",
    "#atus_2003_nonres_nilf"
   ]
  },
  {
   "cell_type": "markdown",
   "metadata": {},
   "source": [
    "### 2003 All Activities - NonResidential - Not In Labor Force"
   ]
  },
  {
   "cell_type": "code",
   "execution_count": 101,
   "metadata": {},
   "outputs": [],
   "source": [
    "atus_2003_all_nonres_nilf = atus_2003_nonres_nilf.groupby([\"TUCASEID\"]).sum().filter([\"TUCASEID\", \"TUACTDUR24\"])\n",
    "#atus_2003_all_nonres_nilf"
   ]
  },
  {
   "cell_type": "code",
   "execution_count": 102,
   "metadata": {},
   "outputs": [],
   "source": [
    "atus_2003_all_nonres_nilf_merge = pd.merge(atus_2003_all_nonres_nilf, multi_resp, on= \"TUCASEID\").filter([\"TUCASEID\",\"TUACTDUR24\",\"TUFNWGTP\"])\n",
    "#atus_2003_all_res_nilf_merge"
   ]
  },
  {
   "cell_type": "code",
   "execution_count": 103,
   "metadata": {},
   "outputs": [],
   "source": [
    "atus_2003_all_nonres_nilf_merge[\"Multiplied Weight\"]=atus_2003_all_nonres_nilf_merge[\"TUACTDUR24\"]*atus_2003_all_nonres_nilf_merge[\"TUFNWGTP\"]\n",
    "#atus_2003_all_nonres_nilf_merge"
   ]
  },
  {
   "cell_type": "code",
   "execution_count": 104,
   "metadata": {},
   "outputs": [
    {
     "data": {
      "text/plain": [
       "3650100451036.1094"
      ]
     },
     "execution_count": 104,
     "metadata": {},
     "output_type": "execute_result"
    }
   ],
   "source": [
    "atus_2003_all_nonres_nilf_multiplied_weight = atus_2003_all_nonres_nilf_merge[\"Multiplied Weight\"].sum()\n",
    "atus_2003_all_nonres_nilf_multiplied_weight"
   ]
  },
  {
   "cell_type": "code",
   "execution_count": 105,
   "metadata": {},
   "outputs": [
    {
     "data": {
      "text/plain": [
       "2.4678407248551477"
      ]
     },
     "execution_count": 105,
     "metadata": {},
     "output_type": "execute_result"
    }
   ],
   "source": [
    "all_act_2003_nonres_nilf_hpd = atus_2003_all_nonres_nilf_multiplied_weight / atus_2003_nilf_weight / 60\n",
    "all_act_2003_nonres_nilf_hpd"
   ]
  },
  {
   "cell_type": "markdown",
   "metadata": {},
   "source": [
    "### 2004 All Activities - NonResidential - Not In Labor Force"
   ]
  },
  {
   "cell_type": "code",
   "execution_count": 106,
   "metadata": {},
   "outputs": [],
   "source": [
    "atus_2004_all_nonres_nilf = atus_2004_nonres_nilf.groupby([\"TUCASEID\"]).sum().filter([\"TUCASEID\", \"TUACTDUR24\"])\n",
    "#atus_2004_all_nonres_nilf"
   ]
  },
  {
   "cell_type": "code",
   "execution_count": 107,
   "metadata": {},
   "outputs": [],
   "source": [
    "atus_2004_all_nonres_nilf_merge = pd.merge(atus_2004_all_nonres_nilf, multi_resp, on= \"TUCASEID\").filter([\"TUCASEID\",\"TUACTDUR24\",\"TUFNWGTP\"])\n",
    "#atus_2004_all_res_nilf_merge"
   ]
  },
  {
   "cell_type": "code",
   "execution_count": 108,
   "metadata": {},
   "outputs": [
    {
     "data": {
      "text/plain": [
       "3779756337832.336"
      ]
     },
     "execution_count": 108,
     "metadata": {},
     "output_type": "execute_result"
    }
   ],
   "source": [
    "atus_2004_all_nonres_nilf_merge[\"Multiplied Weight\"]=atus_2004_all_nonres_nilf_merge[\"TUACTDUR24\"]*atus_2004_all_nonres_nilf_merge[\"TUFNWGTP\"]\n",
    "\n",
    "atus_2004_all_nonres_nilf_multiplied_weight = atus_2004_all_nonres_nilf_merge[\"Multiplied Weight\"].sum()\n",
    "atus_2004_all_nonres_nilf_multiplied_weight"
   ]
  },
  {
   "cell_type": "code",
   "execution_count": 109,
   "metadata": {},
   "outputs": [
    {
     "data": {
      "text/plain": [
       "2.4573571134365904"
      ]
     },
     "execution_count": 109,
     "metadata": {},
     "output_type": "execute_result"
    }
   ],
   "source": [
    "all_act_2004_nonres_nilf_hpd = atus_2004_all_nonres_nilf_multiplied_weight / atus_2004_nilf_weight / 60\n",
    "all_act_2004_nonres_nilf_hpd"
   ]
  },
  {
   "cell_type": "markdown",
   "metadata": {},
   "source": [
    "### 2005 All Activities - NonResidential - Not In Labor Force"
   ]
  },
  {
   "cell_type": "code",
   "execution_count": 110,
   "metadata": {},
   "outputs": [],
   "source": [
    "atus_2005_all_nonres_nilf = atus_2005_nonres_nilf.groupby([\"TUCASEID\"]).sum().filter([\"TUCASEID\", \"TUACTDUR24\"])\n",
    "#atus_2005_all_nonres_nilf"
   ]
  },
  {
   "cell_type": "code",
   "execution_count": 111,
   "metadata": {},
   "outputs": [],
   "source": [
    "atus_2005_all_nonres_nilf_merge = pd.merge(atus_2005_all_nonres_nilf, multi_resp, on= \"TUCASEID\").filter([\"TUCASEID\",\"TUACTDUR24\",\"TUFNWGTP\"])\n",
    "#atus_2005_all_res_nilf_merge"
   ]
  },
  {
   "cell_type": "code",
   "execution_count": 112,
   "metadata": {},
   "outputs": [
    {
     "data": {
      "text/plain": [
       "3749957583941.2026"
      ]
     },
     "execution_count": 112,
     "metadata": {},
     "output_type": "execute_result"
    }
   ],
   "source": [
    "atus_2005_all_nonres_nilf_merge[\"Multiplied Weight\"]=atus_2005_all_nonres_nilf_merge[\"TUACTDUR24\"]*atus_2005_all_nonres_nilf_merge[\"TUFNWGTP\"]\n",
    "\n",
    "atus_2005_all_nonres_nilf_multiplied_weight = atus_2005_all_nonres_nilf_merge[\"Multiplied Weight\"].sum()\n",
    "atus_2005_all_nonres_nilf_multiplied_weight"
   ]
  },
  {
   "cell_type": "code",
   "execution_count": 113,
   "metadata": {},
   "outputs": [
    {
     "data": {
      "text/plain": [
       "2.478999857030551"
      ]
     },
     "execution_count": 113,
     "metadata": {},
     "output_type": "execute_result"
    }
   ],
   "source": [
    "all_act_2005_nonres_nilf_hpd = atus_2005_all_nonres_nilf_multiplied_weight / atus_2005_nilf_weight / 60\n",
    "all_act_2005_nonres_nilf_hpd"
   ]
  },
  {
   "cell_type": "markdown",
   "metadata": {},
   "source": [
    "### 2006 All Activities - NonResidential - Not In Labor Force"
   ]
  },
  {
   "cell_type": "code",
   "execution_count": 114,
   "metadata": {},
   "outputs": [],
   "source": [
    "atus_2006_all_nonres_nilf = atus_2006_nonres_nilf.groupby([\"TUCASEID\"]).sum().filter([\"TUCASEID\", \"TUACTDUR24\"])\n",
    "#atus_2006_all_nonres_nilf"
   ]
  },
  {
   "cell_type": "code",
   "execution_count": 115,
   "metadata": {},
   "outputs": [],
   "source": [
    "atus_2006_all_nonres_nilf_merge = pd.merge(atus_2006_all_nonres_nilf, multi_resp, on= \"TUCASEID\").filter([\"TUCASEID\",\"TUACTDUR24\",\"TUFNWGTP\"])\n",
    "#atus_2006_all_res_nilf_merge"
   ]
  },
  {
   "cell_type": "code",
   "execution_count": 116,
   "metadata": {},
   "outputs": [
    {
     "data": {
      "text/plain": [
       "3873250075256.552"
      ]
     },
     "execution_count": 116,
     "metadata": {},
     "output_type": "execute_result"
    }
   ],
   "source": [
    "atus_2006_all_nonres_nilf_merge[\"Multiplied Weight\"]=atus_2006_all_nonres_nilf_merge[\"TUACTDUR24\"]*atus_2006_all_nonres_nilf_merge[\"TUFNWGTP\"]\n",
    "\n",
    "atus_2006_all_nonres_nilf_multiplied_weight = atus_2006_all_nonres_nilf_merge[\"Multiplied Weight\"].sum()\n",
    "atus_2006_all_nonres_nilf_multiplied_weight"
   ]
  },
  {
   "cell_type": "code",
   "execution_count": 117,
   "metadata": {},
   "outputs": [
    {
     "data": {
      "text/plain": [
       "2.4886576062474908"
      ]
     },
     "execution_count": 117,
     "metadata": {},
     "output_type": "execute_result"
    }
   ],
   "source": [
    "all_act_2006_nonres_nilf_hpd = atus_2006_all_nonres_nilf_multiplied_weight / atus_2006_nilf_weight / 60\n",
    "all_act_2006_nonres_nilf_hpd"
   ]
  },
  {
   "cell_type": "markdown",
   "metadata": {},
   "source": [
    "### 2007 All Activities - NonResidential - Not In Labor Force"
   ]
  },
  {
   "cell_type": "code",
   "execution_count": 118,
   "metadata": {},
   "outputs": [],
   "source": [
    "atus_2007_all_nonres_nilf = atus_2007_nonres_nilf.groupby([\"TUCASEID\"]).sum().filter([\"TUCASEID\", \"TUACTDUR24\"])\n",
    "#atus_2007_all_nonres_nilf"
   ]
  },
  {
   "cell_type": "code",
   "execution_count": 119,
   "metadata": {},
   "outputs": [],
   "source": [
    "atus_2007_all_nonres_nilf_merge = pd.merge(atus_2007_all_nonres_nilf, multi_resp, on= \"TUCASEID\").filter([\"TUCASEID\",\"TUACTDUR24\",\"TUFNWGTP\"])\n",
    "#atus_2007_all_res_nilf_merge"
   ]
  },
  {
   "cell_type": "code",
   "execution_count": 120,
   "metadata": {},
   "outputs": [
    {
     "data": {
      "text/plain": [
       "3870716685946.3135"
      ]
     },
     "execution_count": 120,
     "metadata": {},
     "output_type": "execute_result"
    }
   ],
   "source": [
    "atus_2007_all_nonres_nilf_merge[\"Multiplied Weight\"]=atus_2007_all_nonres_nilf_merge[\"TUACTDUR24\"]*atus_2007_all_nonres_nilf_merge[\"TUFNWGTP\"]\n",
    "\n",
    "atus_2007_all_nonres_nilf_multiplied_weight = atus_2007_all_nonres_nilf_merge[\"Multiplied Weight\"].sum()\n",
    "atus_2007_all_nonres_nilf_multiplied_weight"
   ]
  },
  {
   "cell_type": "code",
   "execution_count": 121,
   "metadata": {},
   "outputs": [
    {
     "data": {
      "text/plain": [
       "2.52190762784703"
      ]
     },
     "execution_count": 121,
     "metadata": {},
     "output_type": "execute_result"
    }
   ],
   "source": [
    "all_act_2007_nonres_nilf_hpd = atus_2007_all_nonres_nilf_multiplied_weight / atus_2007_nilf_weight / 60\n",
    "all_act_2007_nonres_nilf_hpd"
   ]
  },
  {
   "cell_type": "markdown",
   "metadata": {},
   "source": [
    "### 2008 All Activities - NonResidential - Not In Labor Force"
   ]
  },
  {
   "cell_type": "code",
   "execution_count": 122,
   "metadata": {},
   "outputs": [],
   "source": [
    "atus_2008_all_nonres_nilf = atus_2008_nonres_nilf.groupby([\"TUCASEID\"]).sum().filter([\"TUCASEID\", \"TUACTDUR24\"])\n",
    "#atus_2008_all_nonres_nilf"
   ]
  },
  {
   "cell_type": "code",
   "execution_count": 123,
   "metadata": {},
   "outputs": [],
   "source": [
    "atus_2008_all_nonres_nilf_merge = pd.merge(atus_2008_all_nonres_nilf, multi_resp, on= \"TUCASEID\").filter([\"TUCASEID\",\"TUACTDUR24\",\"TUFNWGTP\"])\n",
    "#atus_2008_all_res_nilf_merge"
   ]
  },
  {
   "cell_type": "code",
   "execution_count": 124,
   "metadata": {},
   "outputs": [
    {
     "data": {
      "text/plain": [
       "3639229100852.5977"
      ]
     },
     "execution_count": 124,
     "metadata": {},
     "output_type": "execute_result"
    }
   ],
   "source": [
    "atus_2008_all_nonres_nilf_merge[\"Multiplied Weight\"]=atus_2008_all_nonres_nilf_merge[\"TUACTDUR24\"]*atus_2008_all_nonres_nilf_merge[\"TUFNWGTP\"]\n",
    "\n",
    "atus_2008_all_nonres_nilf_multiplied_weight = atus_2008_all_nonres_nilf_merge[\"Multiplied Weight\"].sum()\n",
    "atus_2008_all_nonres_nilf_multiplied_weight"
   ]
  },
  {
   "cell_type": "code",
   "execution_count": 125,
   "metadata": {},
   "outputs": [
    {
     "data": {
      "text/plain": [
       "2.367000751010454"
      ]
     },
     "execution_count": 125,
     "metadata": {},
     "output_type": "execute_result"
    }
   ],
   "source": [
    "all_act_2008_nonres_nilf_hpd = atus_2008_all_nonres_nilf_multiplied_weight / atus_2008_nilf_weight / 60\n",
    "all_act_2008_nonres_nilf_hpd"
   ]
  },
  {
   "cell_type": "markdown",
   "metadata": {},
   "source": [
    "### 2009 All Activities - NonResidential - nilf"
   ]
  },
  {
   "cell_type": "code",
   "execution_count": 126,
   "metadata": {},
   "outputs": [],
   "source": [
    "atus_2009_all_nonres_nilf = atus_2009_nonres_nilf.groupby([\"TUCASEID\"]).sum().filter([\"TUCASEID\", \"TUACTDUR24\"])\n",
    "#atus_2009_all_nonres_nilf"
   ]
  },
  {
   "cell_type": "code",
   "execution_count": 127,
   "metadata": {},
   "outputs": [],
   "source": [
    "atus_2009_all_nonres_nilf_merge = pd.merge(atus_2009_all_nonres_nilf, multi_resp, on= \"TUCASEID\").filter([\"TUCASEID\",\"TUACTDUR24\",\"TUFNWGTP\"])\n",
    "#atus_2009_all_res_nilf_merge"
   ]
  },
  {
   "cell_type": "code",
   "execution_count": 128,
   "metadata": {},
   "outputs": [
    {
     "data": {
      "text/plain": [
       "3763245227886.361"
      ]
     },
     "execution_count": 128,
     "metadata": {},
     "output_type": "execute_result"
    }
   ],
   "source": [
    "atus_2009_all_nonres_nilf_merge[\"Multiplied Weight\"]=atus_2009_all_nonres_nilf_merge[\"TUACTDUR24\"]*atus_2009_all_nonres_nilf_merge[\"TUFNWGTP\"]\n",
    "\n",
    "atus_2009_all_nonres_nilf_multiplied_weight = atus_2009_all_nonres_nilf_merge[\"Multiplied Weight\"].sum()\n",
    "atus_2009_all_nonres_nilf_multiplied_weight"
   ]
  },
  {
   "cell_type": "code",
   "execution_count": 129,
   "metadata": {},
   "outputs": [
    {
     "data": {
      "text/plain": [
       "2.3706084547603306"
      ]
     },
     "execution_count": 129,
     "metadata": {},
     "output_type": "execute_result"
    }
   ],
   "source": [
    "all_act_2009_nonres_nilf_hpd = atus_2009_all_nonres_nilf_multiplied_weight / atus_2009_nilf_weight / 60\n",
    "all_act_2009_nonres_nilf_hpd"
   ]
  },
  {
   "cell_type": "markdown",
   "metadata": {},
   "source": [
    "### 2010 All Activities - NonResidential - Not In Labor Force"
   ]
  },
  {
   "cell_type": "code",
   "execution_count": 130,
   "metadata": {},
   "outputs": [],
   "source": [
    "atus_2010_all_nonres_nilf = atus_2010_nonres_nilf.groupby([\"TUCASEID\"]).sum().filter([\"TUCASEID\", \"TUACTDUR24\"])\n",
    "#atus_2010_all_nonres_nilf"
   ]
  },
  {
   "cell_type": "code",
   "execution_count": 131,
   "metadata": {},
   "outputs": [],
   "source": [
    "atus_2010_all_nonres_nilf_merge = pd.merge(atus_2010_all_nonres_nilf, multi_resp, on= \"TUCASEID\").filter([\"TUCASEID\",\"TUACTDUR24\",\"TUFNWGTP\"])\n",
    "#atus_2010_all_res_nilf_merge"
   ]
  },
  {
   "cell_type": "code",
   "execution_count": 132,
   "metadata": {},
   "outputs": [
    {
     "data": {
      "text/plain": [
       "4028620987410.3047"
      ]
     },
     "execution_count": 132,
     "metadata": {},
     "output_type": "execute_result"
    }
   ],
   "source": [
    "atus_2010_all_nonres_nilf_merge[\"Multiplied Weight\"]=atus_2010_all_nonres_nilf_merge[\"TUACTDUR24\"]*atus_2010_all_nonres_nilf_merge[\"TUFNWGTP\"]\n",
    "\n",
    "atus_2010_all_nonres_nilf_multiplied_weight = atus_2010_all_nonres_nilf_merge[\"Multiplied Weight\"].sum()\n",
    "atus_2010_all_nonres_nilf_multiplied_weight"
   ]
  },
  {
   "cell_type": "code",
   "execution_count": 133,
   "metadata": {},
   "outputs": [
    {
     "data": {
      "text/plain": [
       "2.4518256226858566"
      ]
     },
     "execution_count": 133,
     "metadata": {},
     "output_type": "execute_result"
    }
   ],
   "source": [
    "all_act_2010_nonres_nilf_hpd = atus_2010_all_nonres_nilf_multiplied_weight / atus_2010_nilf_weight / 60\n",
    "all_act_2010_nonres_nilf_hpd"
   ]
  },
  {
   "cell_type": "markdown",
   "metadata": {},
   "source": [
    "### 2011 All Activities - NonResidential - Not In Labor Force"
   ]
  },
  {
   "cell_type": "code",
   "execution_count": 134,
   "metadata": {},
   "outputs": [],
   "source": [
    "atus_2011_all_nonres_nilf = atus_2011_nonres_nilf.groupby([\"TUCASEID\"]).sum().filter([\"TUCASEID\", \"TUACTDUR24\"])\n",
    "#atus_2011_all_nonres_nilf"
   ]
  },
  {
   "cell_type": "code",
   "execution_count": 135,
   "metadata": {},
   "outputs": [],
   "source": [
    "atus_2011_all_nonres_nilf_merge = pd.merge(atus_2011_all_nonres_nilf, multi_resp, on= \"TUCASEID\").filter([\"TUCASEID\",\"TUACTDUR24\",\"TUFNWGTP\"])\n",
    "#atus_2011_all_res_nilf_merge"
   ]
  },
  {
   "cell_type": "code",
   "execution_count": 136,
   "metadata": {},
   "outputs": [
    {
     "data": {
      "text/plain": [
       "4152903379375.709"
      ]
     },
     "execution_count": 136,
     "metadata": {},
     "output_type": "execute_result"
    }
   ],
   "source": [
    "atus_2011_all_nonres_nilf_merge[\"Multiplied Weight\"]=atus_2011_all_nonres_nilf_merge[\"TUACTDUR24\"]*atus_2011_all_nonres_nilf_merge[\"TUFNWGTP\"]\n",
    "\n",
    "atus_2011_all_nonres_nilf_multiplied_weight = atus_2011_all_nonres_nilf_merge[\"Multiplied Weight\"].sum()\n",
    "atus_2011_all_nonres_nilf_multiplied_weight"
   ]
  },
  {
   "cell_type": "code",
   "execution_count": 137,
   "metadata": {},
   "outputs": [
    {
     "data": {
      "text/plain": [
       "2.477194230124787"
      ]
     },
     "execution_count": 137,
     "metadata": {},
     "output_type": "execute_result"
    }
   ],
   "source": [
    "all_act_2011_nonres_nilf_hpd = atus_2011_all_nonres_nilf_multiplied_weight / atus_2011_nilf_weight / 60\n",
    "all_act_2011_nonres_nilf_hpd"
   ]
  },
  {
   "cell_type": "markdown",
   "metadata": {},
   "source": [
    "### 2012 All Activities - NonResidential - Not In Labor Force"
   ]
  },
  {
   "cell_type": "code",
   "execution_count": 138,
   "metadata": {},
   "outputs": [],
   "source": [
    "atus_2012_all_nonres_nilf = atus_2012_nonres_nilf.groupby([\"TUCASEID\"]).sum().filter([\"TUCASEID\", \"TUACTDUR24\"])\n",
    "#atus_2012_all_nonres_nilf"
   ]
  },
  {
   "cell_type": "code",
   "execution_count": 139,
   "metadata": {},
   "outputs": [],
   "source": [
    "atus_2012_all_nonres_nilf_merge = pd.merge(atus_2012_all_nonres_nilf, multi_resp, on= \"TUCASEID\").filter([\"TUCASEID\",\"TUACTDUR24\",\"TUFNWGTP\"])\n",
    "#atus_2012_all_res_nilf_merge"
   ]
  },
  {
   "cell_type": "code",
   "execution_count": 140,
   "metadata": {},
   "outputs": [
    {
     "data": {
      "text/plain": [
       "4424941105615.75"
      ]
     },
     "execution_count": 140,
     "metadata": {},
     "output_type": "execute_result"
    }
   ],
   "source": [
    "atus_2012_all_nonres_nilf_merge[\"Multiplied Weight\"]=atus_2012_all_nonres_nilf_merge[\"TUACTDUR24\"]*atus_2012_all_nonres_nilf_merge[\"TUFNWGTP\"]\n",
    "\n",
    "atus_2012_all_nonres_nilf_multiplied_weight = atus_2012_all_nonres_nilf_merge[\"Multiplied Weight\"].sum()\n",
    "atus_2012_all_nonres_nilf_multiplied_weight"
   ]
  },
  {
   "cell_type": "code",
   "execution_count": 141,
   "metadata": {},
   "outputs": [
    {
     "data": {
      "text/plain": [
       "2.482378186483533"
      ]
     },
     "execution_count": 141,
     "metadata": {},
     "output_type": "execute_result"
    }
   ],
   "source": [
    "all_act_2012_nonres_nilf_hpd = atus_2012_all_nonres_nilf_multiplied_weight / atus_2012_nilf_weight / 60\n",
    "all_act_2012_nonres_nilf_hpd"
   ]
  },
  {
   "cell_type": "markdown",
   "metadata": {},
   "source": [
    "### 2013 All Activities - NonResidential - Not In Labor Force"
   ]
  },
  {
   "cell_type": "code",
   "execution_count": 142,
   "metadata": {},
   "outputs": [],
   "source": [
    "atus_2013_all_nonres_nilf = atus_2013_nonres_nilf.groupby([\"TUCASEID\"]).sum().filter([\"TUCASEID\", \"TUACTDUR24\"])\n",
    "#atus_2013_all_nonres_nilf"
   ]
  },
  {
   "cell_type": "code",
   "execution_count": 143,
   "metadata": {},
   "outputs": [],
   "source": [
    "atus_2013_all_nonres_nilf_merge = pd.merge(atus_2013_all_nonres_nilf, multi_resp, on= \"TUCASEID\").filter([\"TUCASEID\",\"TUACTDUR24\",\"TUFNWGTP\"])\n",
    "#atus_2013_all_res_nilf_merge"
   ]
  },
  {
   "cell_type": "code",
   "execution_count": 144,
   "metadata": {},
   "outputs": [
    {
     "data": {
      "text/plain": [
       "4486038312783.599"
      ]
     },
     "execution_count": 144,
     "metadata": {},
     "output_type": "execute_result"
    }
   ],
   "source": [
    "atus_2013_all_nonres_nilf_merge[\"Multiplied Weight\"]=atus_2013_all_nonres_nilf_merge[\"TUACTDUR24\"]*atus_2013_all_nonres_nilf_merge[\"TUFNWGTP\"]\n",
    "\n",
    "atus_2013_all_nonres_nilf_multiplied_weight = atus_2013_all_nonres_nilf_merge[\"Multiplied Weight\"].sum()\n",
    "atus_2013_all_nonres_nilf_multiplied_weight"
   ]
  },
  {
   "cell_type": "code",
   "execution_count": 145,
   "metadata": {},
   "outputs": [
    {
     "data": {
      "text/plain": [
       "2.4473483495420587"
      ]
     },
     "execution_count": 145,
     "metadata": {},
     "output_type": "execute_result"
    }
   ],
   "source": [
    "all_act_2013_nonres_nilf_hpd = atus_2013_all_nonres_nilf_multiplied_weight / atus_2013_nilf_weight / 60\n",
    "all_act_2013_nonres_nilf_hpd"
   ]
  },
  {
   "cell_type": "markdown",
   "metadata": {},
   "source": [
    "### 2014 All Activities - NonResidential - Not In Labor Force"
   ]
  },
  {
   "cell_type": "code",
   "execution_count": 146,
   "metadata": {},
   "outputs": [],
   "source": [
    "atus_2014_all_nonres_nilf = atus_2014_nonres_nilf.groupby([\"TUCASEID\"]).sum().filter([\"TUCASEID\", \"TUACTDUR24\"])\n",
    "#atus_2014_all_nonres_nilf"
   ]
  },
  {
   "cell_type": "code",
   "execution_count": 147,
   "metadata": {},
   "outputs": [],
   "source": [
    "atus_2014_all_nonres_nilf_merge = pd.merge(atus_2014_all_nonres_nilf, multi_resp, on= \"TUCASEID\").filter([\"TUCASEID\",\"TUACTDUR24\",\"TUFNWGTP\"])\n",
    "#atus_2014_all_res_nilf_merge"
   ]
  },
  {
   "cell_type": "code",
   "execution_count": 148,
   "metadata": {},
   "outputs": [
    {
     "data": {
      "text/plain": [
       "4463983868139.211"
      ]
     },
     "execution_count": 148,
     "metadata": {},
     "output_type": "execute_result"
    }
   ],
   "source": [
    "atus_2014_all_nonres_nilf_merge[\"Multiplied Weight\"]=atus_2014_all_nonres_nilf_merge[\"TUACTDUR24\"]*atus_2014_all_nonres_nilf_merge[\"TUFNWGTP\"]\n",
    "\n",
    "atus_2014_all_nonres_nilf_multiplied_weight = atus_2014_all_nonres_nilf_merge[\"Multiplied Weight\"].sum()\n",
    "atus_2014_all_nonres_nilf_multiplied_weight"
   ]
  },
  {
   "cell_type": "code",
   "execution_count": 149,
   "metadata": {},
   "outputs": [
    {
     "data": {
      "text/plain": [
       "2.403040049820918"
      ]
     },
     "execution_count": 149,
     "metadata": {},
     "output_type": "execute_result"
    }
   ],
   "source": [
    "all_act_2014_nonres_nilf_hpd = atus_2014_all_nonres_nilf_multiplied_weight / atus_2014_nilf_weight / 60\n",
    "all_act_2014_nonres_nilf_hpd"
   ]
  },
  {
   "cell_type": "markdown",
   "metadata": {},
   "source": [
    "### 2015 All Activities - NonResidential - nilf"
   ]
  },
  {
   "cell_type": "code",
   "execution_count": 150,
   "metadata": {},
   "outputs": [],
   "source": [
    "atus_2015_all_nonres_nilf = atus_2015_nonres_nilf.groupby([\"TUCASEID\"]).sum().filter([\"TUCASEID\", \"TUACTDUR24\"])\n",
    "#atus_2015_all_nonres_nilf"
   ]
  },
  {
   "cell_type": "code",
   "execution_count": 151,
   "metadata": {},
   "outputs": [],
   "source": [
    "atus_2015_all_nonres_nilf_merge = pd.merge(atus_2015_all_nonres_nilf, multi_resp, on= \"TUCASEID\").filter([\"TUCASEID\",\"TUACTDUR24\",\"TUFNWGTP\"])\n",
    "#atus_2015_all_res_nilf_merge"
   ]
  },
  {
   "cell_type": "code",
   "execution_count": 152,
   "metadata": {},
   "outputs": [
    {
     "data": {
      "text/plain": [
       "4382982667945.4023"
      ]
     },
     "execution_count": 152,
     "metadata": {},
     "output_type": "execute_result"
    }
   ],
   "source": [
    "atus_2015_all_nonres_nilf_merge[\"Multiplied Weight\"]=atus_2015_all_nonres_nilf_merge[\"TUACTDUR24\"]*atus_2015_all_nonres_nilf_merge[\"TUFNWGTP\"]\n",
    "\n",
    "atus_2015_all_nonres_nilf_multiplied_weight = atus_2015_all_nonres_nilf_merge[\"Multiplied Weight\"].sum()\n",
    "atus_2015_all_nonres_nilf_multiplied_weight"
   ]
  },
  {
   "cell_type": "code",
   "execution_count": 153,
   "metadata": {},
   "outputs": [
    {
     "data": {
      "text/plain": [
       "2.3460730420966436"
      ]
     },
     "execution_count": 153,
     "metadata": {},
     "output_type": "execute_result"
    }
   ],
   "source": [
    "all_act_2015_nonres_nilf_hpd = atus_2015_all_nonres_nilf_multiplied_weight / atus_2015_nilf_weight / 60\n",
    "all_act_2015_nonres_nilf_hpd"
   ]
  },
  {
   "cell_type": "markdown",
   "metadata": {},
   "source": [
    "### 2016 All Activities - NonResidential - Not In Labor Force"
   ]
  },
  {
   "cell_type": "code",
   "execution_count": 154,
   "metadata": {},
   "outputs": [],
   "source": [
    "atus_2016_all_nonres_nilf = atus_2016_nonres_nilf.groupby([\"TUCASEID\"]).sum().filter([\"TUCASEID\", \"TUACTDUR24\"])\n",
    "#atus_2016_all_nonres_nilf"
   ]
  },
  {
   "cell_type": "code",
   "execution_count": 155,
   "metadata": {},
   "outputs": [],
   "source": [
    "atus_2016_all_nonres_nilf_merge = pd.merge(atus_2016_all_nonres_nilf, multi_resp, on= \"TUCASEID\").filter([\"TUCASEID\",\"TUACTDUR24\",\"TUFNWGTP\"])\n",
    "#atus_2016_all_res_nilf_merge"
   ]
  },
  {
   "cell_type": "code",
   "execution_count": 156,
   "metadata": {},
   "outputs": [
    {
     "data": {
      "text/plain": [
       "4618981524282.185"
      ]
     },
     "execution_count": 156,
     "metadata": {},
     "output_type": "execute_result"
    }
   ],
   "source": [
    "atus_2016_all_nonres_nilf_merge[\"Multiplied Weight\"]=atus_2016_all_nonres_nilf_merge[\"TUACTDUR24\"]*atus_2016_all_nonres_nilf_merge[\"TUFNWGTP\"]\n",
    "\n",
    "atus_2016_all_nonres_nilf_multiplied_weight = atus_2016_all_nonres_nilf_merge[\"Multiplied Weight\"].sum()\n",
    "atus_2016_all_nonres_nilf_multiplied_weight"
   ]
  },
  {
   "cell_type": "code",
   "execution_count": 157,
   "metadata": {},
   "outputs": [
    {
     "data": {
      "text/plain": [
       "2.460129038449993"
      ]
     },
     "execution_count": 157,
     "metadata": {},
     "output_type": "execute_result"
    }
   ],
   "source": [
    "all_act_2016_nonres_nilf_hpd = atus_2016_all_nonres_nilf_multiplied_weight / atus_2016_nilf_weight / 60\n",
    "all_act_2016_nonres_nilf_hpd"
   ]
  },
  {
   "cell_type": "markdown",
   "metadata": {},
   "source": [
    "### 2017 All Activities - NonResidential - Not In Labor Force"
   ]
  },
  {
   "cell_type": "code",
   "execution_count": 158,
   "metadata": {},
   "outputs": [],
   "source": [
    "atus_2017_all_nonres_nilf = atus_2017_nonres_nilf.groupby([\"TUCASEID\"]).sum().filter([\"TUCASEID\", \"TUACTDUR24\"])\n",
    "#atus_2017_all_nonres_nilf"
   ]
  },
  {
   "cell_type": "code",
   "execution_count": 159,
   "metadata": {},
   "outputs": [],
   "source": [
    "atus_2017_all_nonres_nilf_merge = pd.merge(atus_2017_all_nonres_nilf, multi_resp, on= \"TUCASEID\").filter([\"TUCASEID\",\"TUACTDUR24\",\"TUFNWGTP\"])\n",
    "#atus_2017_all_res_nilf_merge"
   ]
  },
  {
   "cell_type": "code",
   "execution_count": 160,
   "metadata": {},
   "outputs": [
    {
     "data": {
      "text/plain": [
       "4542523580202.075"
      ]
     },
     "execution_count": 160,
     "metadata": {},
     "output_type": "execute_result"
    }
   ],
   "source": [
    "atus_2017_all_nonres_nilf_merge[\"Multiplied Weight\"]=atus_2017_all_nonres_nilf_merge[\"TUACTDUR24\"]*atus_2017_all_nonres_nilf_merge[\"TUFNWGTP\"]\n",
    "\n",
    "atus_2017_all_nonres_nilf_multiplied_weight = atus_2017_all_nonres_nilf_merge[\"Multiplied Weight\"].sum()\n",
    "atus_2017_all_nonres_nilf_multiplied_weight"
   ]
  },
  {
   "cell_type": "code",
   "execution_count": 161,
   "metadata": {},
   "outputs": [
    {
     "data": {
      "text/plain": [
       "2.380385983061553"
      ]
     },
     "execution_count": 161,
     "metadata": {},
     "output_type": "execute_result"
    }
   ],
   "source": [
    "all_act_2017_nonres_nilf_hpd = atus_2017_all_nonres_nilf_multiplied_weight / atus_2017_nilf_weight / 60\n",
    "all_act_2017_nonres_nilf_hpd"
   ]
  },
  {
   "cell_type": "markdown",
   "metadata": {},
   "source": [
    "### 2018 All Activities - NonResidential - Not In Labor Force"
   ]
  },
  {
   "cell_type": "code",
   "execution_count": 162,
   "metadata": {},
   "outputs": [],
   "source": [
    "atus_2018_all_nonres_nilf = atus_2018_nonres_nilf.groupby([\"TUCASEID\"]).sum().filter([\"TUCASEID\", \"TUACTDUR24\"])\n",
    "#atus_2018_all_nonres_nilf"
   ]
  },
  {
   "cell_type": "code",
   "execution_count": 163,
   "metadata": {},
   "outputs": [],
   "source": [
    "atus_2018_all_nonres_nilf_merge = pd.merge(atus_2018_all_nonres_nilf, multi_resp, on= \"TUCASEID\").filter([\"TUCASEID\",\"TUACTDUR24\",\"TUFNWGTP\"])\n",
    "#atus_2018_all_res_nilf_merge"
   ]
  },
  {
   "cell_type": "code",
   "execution_count": 164,
   "metadata": {},
   "outputs": [
    {
     "data": {
      "text/plain": [
       "4503233438702.347"
      ]
     },
     "execution_count": 164,
     "metadata": {},
     "output_type": "execute_result"
    }
   ],
   "source": [
    "atus_2018_all_nonres_nilf_merge[\"Multiplied Weight\"]=atus_2018_all_nonres_nilf_merge[\"TUACTDUR24\"]*atus_2018_all_nonres_nilf_merge[\"TUFNWGTP\"]\n",
    "\n",
    "atus_2018_all_nonres_nilf_multiplied_weight = atus_2018_all_nonres_nilf_merge[\"Multiplied Weight\"].sum()\n",
    "atus_2018_all_nonres_nilf_multiplied_weight"
   ]
  },
  {
   "cell_type": "code",
   "execution_count": 165,
   "metadata": {},
   "outputs": [
    {
     "data": {
      "text/plain": [
       "2.3595189031524257"
      ]
     },
     "execution_count": 165,
     "metadata": {},
     "output_type": "execute_result"
    }
   ],
   "source": [
    "all_act_2018_nonres_nilf_hpd = atus_2018_all_nonres_nilf_multiplied_weight / atus_2018_nilf_weight / 60\n",
    "all_act_2018_nonres_nilf_hpd"
   ]
  },
  {
   "cell_type": "markdown",
   "metadata": {},
   "source": [
    "### 2019 All Activities - NonResidential - Not In Labor Force"
   ]
  },
  {
   "cell_type": "code",
   "execution_count": 166,
   "metadata": {},
   "outputs": [],
   "source": [
    "atus_2019_all_nonres_nilf = atus_2019_nonres_nilf.groupby([\"TUCASEID\"]).sum().filter([\"TUCASEID\", \"TUACTDUR24\"])\n",
    "#atus_2019_all_nonres_nilf"
   ]
  },
  {
   "cell_type": "code",
   "execution_count": 167,
   "metadata": {},
   "outputs": [],
   "source": [
    "atus_2019_all_nonres_nilf_merge = pd.merge(atus_2019_all_nonres_nilf, multi_resp, on= \"TUCASEID\").filter([\"TUCASEID\",\"TUACTDUR24\",\"TUFNWGTP\"])\n",
    "#atus_2019_all_res_nilf_merge"
   ]
  },
  {
   "cell_type": "code",
   "execution_count": 168,
   "metadata": {},
   "outputs": [
    {
     "data": {
      "text/plain": [
       "4600818103529.365"
      ]
     },
     "execution_count": 168,
     "metadata": {},
     "output_type": "execute_result"
    }
   ],
   "source": [
    "atus_2019_all_nonres_nilf_merge[\"Multiplied Weight\"]=atus_2019_all_nonres_nilf_merge[\"TUACTDUR24\"]*atus_2019_all_nonres_nilf_merge[\"TUFNWGTP\"]\n",
    "\n",
    "atus_2019_all_nonres_nilf_multiplied_weight = atus_2019_all_nonres_nilf_merge[\"Multiplied Weight\"].sum()\n",
    "atus_2019_all_nonres_nilf_multiplied_weight"
   ]
  },
  {
   "cell_type": "code",
   "execution_count": 169,
   "metadata": {},
   "outputs": [
    {
     "data": {
      "text/plain": [
       "2.3926001457545407"
      ]
     },
     "execution_count": 169,
     "metadata": {},
     "output_type": "execute_result"
    }
   ],
   "source": [
    "all_act_2019_nonres_nilf_hpd = atus_2019_all_nonres_nilf_multiplied_weight / atus_2019_nilf_weight / 60\n",
    "all_act_2019_nonres_nilf_hpd"
   ]
  },
  {
   "cell_type": "markdown",
   "metadata": {},
   "source": [
    "### Regresssion: All Activities - NonResidential - Not In Labor Force"
   ]
  },
  {
   "cell_type": "markdown",
   "metadata": {},
   "source": [
    "#### 2003 -2012 Regression"
   ]
  },
  {
   "cell_type": "code",
   "execution_count": 170,
   "metadata": {},
   "outputs": [],
   "source": [
    "year = np.array([2003, 2004, 2005, 2006, 2007, 2008, 2009, 2010,2011,2012]).reshape((-1, 1))\n",
    "activity_hours_per_day = np.array([all_act_2003_nonres_nilf_hpd, all_act_2004_nonres_nilf_hpd, all_act_2005_nonres_nilf_hpd,\n",
    "                                   all_act_2006_nonres_nilf_hpd, all_act_2007_nonres_nilf_hpd, all_act_2008_nonres_nilf_hpd,\n",
    "                                   all_act_2009_nonres_nilf_hpd, all_act_2010_nonres_nilf_hpd, all_act_2011_nonres_nilf_hpd,\n",
    "                                   all_act_2012_nonres_nilf_hpd]).reshape((-1, 1))\n",
    "\n",
    "activity_hours_per_yr = [i * 365 for i in activity_hours_per_day]\n",
    "#activity_hours_per_yr"
   ]
  },
  {
   "cell_type": "code",
   "execution_count": 171,
   "metadata": {},
   "outputs": [
    {
     "data": {
      "image/png": "[encoded data removed]",
      "text/plain": [
       "<Figure size 432x288 with 1 Axes>"
      ]
     },
     "metadata": {
      "needs_background": "light"
     },
     "output_type": "display_data"
    }
   ],
   "source": [
    "x = year\n",
    "y = activity_hours_per_yr\n",
    "x, y = np.array(x), np.array(y)\n",
    "\n",
    "model = LinearRegression().fit(x, y)\n",
    "\n",
    "y_pred = model.predict(x)  \n",
    "\n",
    "plt.scatter(x, y)\n",
    "plt.plot(x, y_pred, color='red')\n",
    "plt.show()"
   ]
  },
  {
   "cell_type": "code",
   "execution_count": 172,
   "metadata": {},
   "outputs": [
    {
     "data": {
      "text/plain": [
       "0.019000517217515056"
      ]
     },
     "execution_count": 172,
     "metadata": {},
     "output_type": "execute_result"
    }
   ],
   "source": [
    "coefficient_of_determination = model.score(x,y) #R sqaure value \n",
    "coefficient_of_determination"
   ]
  },
  {
   "cell_type": "code",
   "execution_count": 173,
   "metadata": {},
   "outputs": [
    {
     "data": {
      "text/plain": [
       "array([[-0.83005099]])"
      ]
     },
     "execution_count": 173,
     "metadata": {},
     "output_type": "execute_result"
    }
   ],
   "source": [
    "all_act_2012_nonres_nilf_slope = model.coef_\n",
    "all_act_2012_nonres_nilf_slope"
   ]
  },
  {
   "cell_type": "markdown",
   "metadata": {},
   "source": [
    "#### 2003 -2019 Regression"
   ]
  },
  {
   "cell_type": "code",
   "execution_count": 174,
   "metadata": {},
   "outputs": [],
   "source": [
    "year = np.array([2003, 2004, 2005, 2006, 2007, 2008, 2009, 2010,2011,2012, 2013, 2014, 2015, 2016, 2017, 2018, 2019]).reshape((-1, 1))\n",
    "activity_hours_per_day = np.array([all_act_2003_nonres_nilf_hpd, all_act_2004_nonres_nilf_hpd, all_act_2005_nonres_nilf_hpd,\n",
    "                                   all_act_2006_nonres_nilf_hpd, all_act_2007_nonres_nilf_hpd, all_act_2008_nonres_nilf_hpd,\n",
    "                                   all_act_2009_nonres_nilf_hpd, all_act_2010_nonres_nilf_hpd, all_act_2011_nonres_nilf_hpd,\n",
    "                                   all_act_2012_nonres_nilf_hpd, all_act_2013_nonres_nilf_hpd, all_act_2014_nonres_nilf_hpd,\n",
    "                                   all_act_2015_nonres_nilf_hpd, all_act_2016_nonres_nilf_hpd, all_act_2017_nonres_nilf_hpd,\n",
    "                                   all_act_2018_nonres_nilf_hpd, all_act_2019_nonres_nilf_hpd]).reshape((-1, 1))\n",
    "\n",
    "activity_hours_per_yr = [i * 365 for i in activity_hours_per_day]\n",
    "#activity_hours_per_yr"
   ]
  },
  {
   "cell_type": "code",
   "execution_count": 175,
   "metadata": {},
   "outputs": [
    {
     "data": {
      "image/png": "[encoded data removed]",
      "text/plain": [
       "<Figure size 432x288 with 1 Axes>"
      ]
     },
     "metadata": {
      "needs_background": "light"
     },
     "output_type": "display_data"
    }
   ],
   "source": [
    "x = year\n",
    "y = activity_hours_per_yr\n",
    "x, y = np.array(x), np.array(y)\n",
    "\n",
    "model = LinearRegression().fit(x, y)\n",
    "\n",
    "y_pred = model.predict(x)  \n",
    "\n",
    "plt.scatter(x, y)\n",
    "plt.plot(x, y_pred, color='red')\n",
    "plt.show()"
   ]
  },
  {
   "cell_type": "code",
   "execution_count": 176,
   "metadata": {},
   "outputs": [
    {
     "data": {
      "text/plain": [
       "0.30778620897100506"
      ]
     },
     "execution_count": 176,
     "metadata": {},
     "output_type": "execute_result"
    }
   ],
   "source": [
    "coefficient_of_determination = model.score(x,y) #R sqaure value \n",
    "coefficient_of_determination"
   ]
  },
  {
   "cell_type": "code",
   "execution_count": 177,
   "metadata": {},
   "outputs": [
    {
     "data": {
      "text/plain": [
       "array([[-2.17596028]])"
      ]
     },
     "execution_count": 177,
     "metadata": {},
     "output_type": "execute_result"
    }
   ],
   "source": [
    "all_act_2019_nonres_nilf_slope = model.coef_\n",
    "all_act_2019_nonres_nilf_slope"
   ]
  },
  {
   "cell_type": "markdown",
   "metadata": {},
   "source": [
    "## 2003-2019 Transportation - Not In Labor Force"
   ]
  },
  {
   "cell_type": "markdown",
   "metadata": {},
   "source": [
    "### 2003 Transportation"
   ]
  },
  {
   "cell_type": "code",
   "execution_count": 178,
   "metadata": {},
   "outputs": [],
   "source": [
    "#transporation = 12, 13. 12 = Car, truck, or motorcycle (driver), 13= Car, truck, or motorcycle (passager)"
   ]
  },
  {
   "cell_type": "code",
   "execution_count": 179,
   "metadata": {},
   "outputs": [],
   "source": [
    "transpoartion_location = [12,13]\n",
    "atus_multi_yr_tran_nilf = multi_merged_nilf[multi_merged_nilf[\"TEWHERE\"].isin(transpoartion_location)]\n",
    "#atus_multi_yr_tran_nilf"
   ]
  },
  {
   "cell_type": "code",
   "execution_count": 180,
   "metadata": {},
   "outputs": [],
   "source": [
    "#atus transportation nilf population seperated by year\n",
    "atus_2003_tran_nilf = atus_multi_yr_tran_nilf[atus_multi_yr_tran_nilf[\"TUCASEID\"].apply(str).str.startswith(\"2003\")]\n",
    "atus_2004_tran_nilf = atus_multi_yr_tran_nilf[atus_multi_yr_tran_nilf[\"TUCASEID\"].apply(str).str.startswith(\"2004\")]\n",
    "atus_2005_tran_nilf = atus_multi_yr_tran_nilf[atus_multi_yr_tran_nilf[\"TUCASEID\"].apply(str).str.startswith(\"2005\")]\n",
    "atus_2006_tran_nilf = atus_multi_yr_tran_nilf[atus_multi_yr_tran_nilf[\"TUCASEID\"].apply(str).str.startswith(\"2006\")]\n",
    "atus_2007_tran_nilf = atus_multi_yr_tran_nilf[atus_multi_yr_tran_nilf[\"TUCASEID\"].apply(str).str.startswith(\"2007\")]\n",
    "atus_2008_tran_nilf = atus_multi_yr_tran_nilf[atus_multi_yr_tran_nilf[\"TUCASEID\"].apply(str).str.startswith(\"2008\")]\n",
    "atus_2009_tran_nilf = atus_multi_yr_tran_nilf[atus_multi_yr_tran_nilf[\"TUCASEID\"].apply(str).str.startswith(\"2009\")]\n",
    "atus_2010_tran_nilf = atus_multi_yr_tran_nilf[atus_multi_yr_tran_nilf[\"TUCASEID\"].apply(str).str.startswith(\"2010\")]\n",
    "atus_2011_tran_nilf = atus_multi_yr_tran_nilf[atus_multi_yr_tran_nilf[\"TUCASEID\"].apply(str).str.startswith(\"2011\")]\n",
    "atus_2012_tran_nilf = atus_multi_yr_tran_nilf[atus_multi_yr_tran_nilf[\"TUCASEID\"].apply(str).str.startswith(\"2012\")]\n",
    "atus_2013_tran_nilf = atus_multi_yr_tran_nilf[atus_multi_yr_tran_nilf[\"TUCASEID\"].apply(str).str.startswith(\"2013\")]\n",
    "atus_2014_tran_nilf = atus_multi_yr_tran_nilf[atus_multi_yr_tran_nilf[\"TUCASEID\"].apply(str).str.startswith(\"2014\")]\n",
    "atus_2015_tran_nilf = atus_multi_yr_tran_nilf[atus_multi_yr_tran_nilf[\"TUCASEID\"].apply(str).str.startswith(\"2015\")]\n",
    "atus_2016_tran_nilf = atus_multi_yr_tran_nilf[atus_multi_yr_tran_nilf[\"TUCASEID\"].apply(str).str.startswith(\"2016\")]\n",
    "atus_2017_tran_nilf = atus_multi_yr_tran_nilf[atus_multi_yr_tran_nilf[\"TUCASEID\"].apply(str).str.startswith(\"2017\")]\n",
    "atus_2018_tran_nilf = atus_multi_yr_tran_nilf[atus_multi_yr_tran_nilf[\"TUCASEID\"].apply(str).str.startswith(\"2018\")]\n",
    "atus_2019_tran_nilf = atus_multi_yr_tran_nilf[atus_multi_yr_tran_nilf[\"TUCASEID\"].apply(str).str.startswith(\"2019\")]\n",
    "#atus_2003_tran_nilf"
   ]
  },
  {
   "cell_type": "code",
   "execution_count": 181,
   "metadata": {},
   "outputs": [],
   "source": [
    "atus_2003_tran_nilf = atus_2003_tran_nilf.groupby([\"TUCASEID\"]).sum().filter([\"TUCASEID\", \"TUACTDUR24\"])\n",
    "#atus_2003_tran_nilf"
   ]
  },
  {
   "cell_type": "code",
   "execution_count": 182,
   "metadata": {},
   "outputs": [],
   "source": [
    "atus_2003_tran_nilf_merge = pd.merge(atus_2003_tran_nilf, multi_resp, on= \"TUCASEID\").filter([\"TUCASEID\",\"TUACTDUR24\",\"TUFNWGTP\"])\n",
    "#atus_2003_tran_nilf_merge"
   ]
  },
  {
   "cell_type": "code",
   "execution_count": 183,
   "metadata": {},
   "outputs": [],
   "source": [
    "atus_2003_tran_nilf_merge[\"Multiplied Weight\"] = atus_2003_tran_nilf_merge[\"TUACTDUR24\"] * atus_2003_tran_nilf_merge[\"TUFNWGTP\"]\n",
    "#atus_2003_tran_nilf_merge"
   ]
  },
  {
   "cell_type": "code",
   "execution_count": 184,
   "metadata": {},
   "outputs": [
    {
     "data": {
      "text/plain": [
       "1281080687654.3047"
      ]
     },
     "execution_count": 184,
     "metadata": {},
     "output_type": "execute_result"
    }
   ],
   "source": [
    "atus_2003_tran_nilf_multiplied_weight = atus_2003_tran_nilf_merge[\"Multiplied Weight\"].sum()\n",
    "atus_2003_tran_nilf_multiplied_weight"
   ]
  },
  {
   "cell_type": "code",
   "execution_count": 185,
   "metadata": {},
   "outputs": [
    {
     "data": {
      "text/plain": [
       "0.8661413939776131"
      ]
     },
     "execution_count": 185,
     "metadata": {},
     "output_type": "execute_result"
    }
   ],
   "source": [
    "atus_2003_tran_nilf_hpd = atus_2003_tran_nilf_multiplied_weight / atus_2003_nilf_weight / 60\n",
    "atus_2003_tran_nilf_hpd"
   ]
  },
  {
   "cell_type": "markdown",
   "metadata": {},
   "source": [
    "### 2004 Transportation"
   ]
  },
  {
   "cell_type": "code",
   "execution_count": 186,
   "metadata": {},
   "outputs": [],
   "source": [
    "atus_2004_tran_nilf = atus_2004_tran_nilf.groupby([\"TUCASEID\"]).sum().filter([\"TUCASEID\", \"TUACTDUR24\"])\n",
    "atus_2004_tran_nilf_merge = pd.merge(atus_2004_tran_nilf, multi_resp, on= \"TUCASEID\").filter([\"TUCASEID\",\"TUACTDUR24\",\"TUFNWGTP\"])\n",
    "#atus_2004_tran_nilf_merge"
   ]
  },
  {
   "cell_type": "code",
   "execution_count": 187,
   "metadata": {},
   "outputs": [
    {
     "data": {
      "text/plain": [
       "1306416061038.8867"
      ]
     },
     "execution_count": 187,
     "metadata": {},
     "output_type": "execute_result"
    }
   ],
   "source": [
    "atus_2004_tran_nilf_merge[\"Multiplied Weight\"] = atus_2004_tran_nilf_merge[\"TUACTDUR24\"] * atus_2004_tran_nilf_merge[\"TUFNWGTP\"]\n",
    "atus_2004_tran_nilf_multiplied_weight = atus_2004_tran_nilf_merge[\"Multiplied Weight\"].sum()\n",
    "atus_2004_tran_nilf_multiplied_weight"
   ]
  },
  {
   "cell_type": "code",
   "execution_count": 188,
   "metadata": {},
   "outputs": [
    {
     "data": {
      "text/plain": [
       "0.8493486123877554"
      ]
     },
     "execution_count": 188,
     "metadata": {},
     "output_type": "execute_result"
    }
   ],
   "source": [
    "atus_2004_tran_nilf_hpd = atus_2004_tran_nilf_multiplied_weight / atus_2004_nilf_weight / 60\n",
    "atus_2004_tran_nilf_hpd"
   ]
  },
  {
   "cell_type": "markdown",
   "metadata": {},
   "source": [
    "### 2005 Transportation"
   ]
  },
  {
   "cell_type": "code",
   "execution_count": 189,
   "metadata": {},
   "outputs": [],
   "source": [
    "atus_2005_tran_nilf = atus_2005_tran_nilf.groupby([\"TUCASEID\"]).sum().filter([\"TUCASEID\", \"TUACTDUR24\"])\n",
    "atus_2005_tran_nilf_merge = pd.merge(atus_2005_tran_nilf, multi_resp, on= \"TUCASEID\").filter([\"TUCASEID\",\"TUACTDUR24\",\"TUFNWGTP\"])\n",
    "#atus_2005_tran_nilf_merge"
   ]
  },
  {
   "cell_type": "code",
   "execution_count": 190,
   "metadata": {},
   "outputs": [
    {
     "data": {
      "text/plain": [
       "1327196813200.7969"
      ]
     },
     "execution_count": 190,
     "metadata": {},
     "output_type": "execute_result"
    }
   ],
   "source": [
    "atus_2005_tran_nilf_merge[\"Multiplied Weight\"] = atus_2005_tran_nilf_merge[\"TUACTDUR24\"] * atus_2005_tran_nilf_merge[\"TUFNWGTP\"]\n",
    "atus_2005_tran_nilf_multiplied_weight = atus_2005_tran_nilf_merge[\"Multiplied Weight\"].sum()\n",
    "atus_2005_tran_nilf_multiplied_weight"
   ]
  },
  {
   "cell_type": "code",
   "execution_count": 191,
   "metadata": {},
   "outputs": [
    {
     "data": {
      "text/plain": [
       "0.8773754466625897"
      ]
     },
     "execution_count": 191,
     "metadata": {},
     "output_type": "execute_result"
    }
   ],
   "source": [
    "atus_2005_tran_nilf_hpd = atus_2005_tran_nilf_multiplied_weight / atus_2005_nilf_weight / 60\n",
    "atus_2005_tran_nilf_hpd"
   ]
  },
  {
   "cell_type": "markdown",
   "metadata": {},
   "source": [
    "### 2006 Transportation"
   ]
  },
  {
   "cell_type": "code",
   "execution_count": 192,
   "metadata": {},
   "outputs": [],
   "source": [
    "atus_2006_tran_nilf = atus_2006_tran_nilf.groupby([\"TUCASEID\"]).sum().filter([\"TUCASEID\", \"TUACTDUR24\"])\n",
    "atus_2006_tran_nilf_merge = pd.merge(atus_2006_tran_nilf, multi_resp, on= \"TUCASEID\").filter([\"TUCASEID\",\"TUACTDUR24\",\"TUFNWGTP\"])\n",
    "#atus_2006_tran_nilf_merge"
   ]
  },
  {
   "cell_type": "code",
   "execution_count": 193,
   "metadata": {},
   "outputs": [
    {
     "data": {
      "text/plain": [
       "1292976511959.92"
      ]
     },
     "execution_count": 193,
     "metadata": {},
     "output_type": "execute_result"
    }
   ],
   "source": [
    "atus_2006_tran_nilf_merge[\"Multiplied Weight\"] = atus_2006_tran_nilf_merge[\"TUACTDUR24\"] * atus_2006_tran_nilf_merge[\"TUFNWGTP\"]\n",
    "atus_2006_tran_nilf_multiplied_weight = atus_2006_tran_nilf_merge[\"Multiplied Weight\"].sum()\n",
    "atus_2006_tran_nilf_multiplied_weight"
   ]
  },
  {
   "cell_type": "code",
   "execution_count": 194,
   "metadata": {},
   "outputs": [
    {
     "data": {
      "text/plain": [
       "0.8307689327225454"
      ]
     },
     "execution_count": 194,
     "metadata": {},
     "output_type": "execute_result"
    }
   ],
   "source": [
    "atus_2006_tran_nilf_hpd = atus_2006_tran_nilf_multiplied_weight / atus_2006_nilf_weight / 60\n",
    "atus_2006_tran_nilf_hpd"
   ]
  },
  {
   "cell_type": "markdown",
   "metadata": {},
   "source": [
    "### 2007 Transportation"
   ]
  },
  {
   "cell_type": "code",
   "execution_count": 195,
   "metadata": {},
   "outputs": [],
   "source": [
    "atus_2007_tran_nilf = atus_2007_tran_nilf.groupby([\"TUCASEID\"]).sum().filter([\"TUCASEID\", \"TUACTDUR24\"])\n",
    "atus_2007_tran_nilf_merge = pd.merge(atus_2007_tran_nilf, multi_resp, on= \"TUCASEID\").filter([\"TUCASEID\",\"TUACTDUR24\",\"TUFNWGTP\"])\n",
    "#atus_2007_tran_nilf_merge"
   ]
  },
  {
   "cell_type": "code",
   "execution_count": 196,
   "metadata": {},
   "outputs": [
    {
     "data": {
      "text/plain": [
       "1304658214591.2434"
      ]
     },
     "execution_count": 196,
     "metadata": {},
     "output_type": "execute_result"
    }
   ],
   "source": [
    "atus_2007_tran_nilf_merge[\"Multiplied Weight\"] = atus_2007_tran_nilf_merge[\"TUACTDUR24\"] * atus_2007_tran_nilf_merge[\"TUFNWGTP\"]\n",
    "atus_2007_tran_nilf_multiplied_weight = atus_2007_tran_nilf_merge[\"Multiplied Weight\"].sum()\n",
    "atus_2007_tran_nilf_multiplied_weight"
   ]
  },
  {
   "cell_type": "code",
   "execution_count": 197,
   "metadata": {},
   "outputs": [
    {
     "data": {
      "text/plain": [
       "0.8500305679971379"
      ]
     },
     "execution_count": 197,
     "metadata": {},
     "output_type": "execute_result"
    }
   ],
   "source": [
    "atus_2007_tran_nilf_hpd = atus_2007_tran_nilf_multiplied_weight / atus_2007_nilf_weight / 60\n",
    "atus_2007_tran_nilf_hpd"
   ]
  },
  {
   "cell_type": "markdown",
   "metadata": {},
   "source": [
    "### 2008 Transportation"
   ]
  },
  {
   "cell_type": "code",
   "execution_count": 198,
   "metadata": {},
   "outputs": [],
   "source": [
    "atus_2008_tran_nilf = atus_2008_tran_nilf.groupby([\"TUCASEID\"]).sum().filter([\"TUCASEID\", \"TUACTDUR24\"])\n",
    "atus_2008_tran_nilf_merge = pd.merge(atus_2008_tran_nilf, multi_resp, on= \"TUCASEID\").filter([\"TUCASEID\",\"TUACTDUR24\",\"TUFNWGTP\"])\n",
    "#atus_2008_tran_nilf_merge"
   ]
  },
  {
   "cell_type": "code",
   "execution_count": 199,
   "metadata": {},
   "outputs": [
    {
     "data": {
      "text/plain": [
       "1241686109596.4324"
      ]
     },
     "execution_count": 199,
     "metadata": {},
     "output_type": "execute_result"
    }
   ],
   "source": [
    "atus_2008_tran_nilf_merge[\"Multiplied Weight\"] = atus_2008_tran_nilf_merge[\"TUACTDUR24\"] * atus_2008_tran_nilf_merge[\"TUFNWGTP\"]\n",
    "atus_2008_tran_nilf_multiplied_weight = atus_2008_tran_nilf_merge[\"Multiplied Weight\"].sum()\n",
    "atus_2008_tran_nilf_multiplied_weight"
   ]
  },
  {
   "cell_type": "code",
   "execution_count": 200,
   "metadata": {},
   "outputs": [
    {
     "data": {
      "text/plain": [
       "0.8076083897123815"
      ]
     },
     "execution_count": 200,
     "metadata": {},
     "output_type": "execute_result"
    }
   ],
   "source": [
    "atus_2008_tran_nilf_hpd = atus_2008_tran_nilf_multiplied_weight / atus_2008_nilf_weight / 60\n",
    "atus_2008_tran_nilf_hpd"
   ]
  },
  {
   "cell_type": "markdown",
   "metadata": {},
   "source": [
    "### 2009 Transportation"
   ]
  },
  {
   "cell_type": "code",
   "execution_count": 201,
   "metadata": {},
   "outputs": [],
   "source": [
    "atus_2009_tran_nilf = atus_2009_tran_nilf.groupby([\"TUCASEID\"]).sum().filter([\"TUCASEID\", \"TUACTDUR24\"])\n",
    "atus_2009_tran_nilf_merge = pd.merge(atus_2009_tran_nilf, multi_resp, on= \"TUCASEID\").filter([\"TUCASEID\",\"TUACTDUR24\",\"TUFNWGTP\"])\n",
    "#atus_2009_tran_nilf_merge"
   ]
  },
  {
   "cell_type": "code",
   "execution_count": 202,
   "metadata": {},
   "outputs": [
    {
     "data": {
      "text/plain": [
       "1277846882289.8745"
      ]
     },
     "execution_count": 202,
     "metadata": {},
     "output_type": "execute_result"
    }
   ],
   "source": [
    "atus_2009_tran_nilf_merge[\"Multiplied Weight\"] = atus_2009_tran_nilf_merge[\"TUACTDUR24\"] * atus_2009_tran_nilf_merge[\"TUFNWGTP\"]\n",
    "atus_2009_tran_nilf_multiplied_weight = atus_2009_tran_nilf_merge[\"Multiplied Weight\"].sum()\n",
    "atus_2009_tran_nilf_multiplied_weight"
   ]
  },
  {
   "cell_type": "code",
   "execution_count": 203,
   "metadata": {},
   "outputs": [
    {
     "data": {
      "text/plain": [
       "0.8049633865468043"
      ]
     },
     "execution_count": 203,
     "metadata": {},
     "output_type": "execute_result"
    }
   ],
   "source": [
    "atus_2009_tran_nilf_hpd = atus_2009_tran_nilf_multiplied_weight / atus_2009_nilf_weight / 60\n",
    "atus_2009_tran_nilf_hpd"
   ]
  },
  {
   "cell_type": "markdown",
   "metadata": {},
   "source": [
    "### 2010 Transportation"
   ]
  },
  {
   "cell_type": "code",
   "execution_count": 204,
   "metadata": {},
   "outputs": [],
   "source": [
    "atus_2010_tran_nilf = atus_2010_tran_nilf.groupby([\"TUCASEID\"]).sum().filter([\"TUCASEID\", \"TUACTDUR24\"])\n",
    "atus_2010_tran_nilf_merge = pd.merge(atus_2010_tran_nilf, multi_resp, on= \"TUCASEID\").filter([\"TUCASEID\",\"TUACTDUR24\",\"TUFNWGTP\"])\n",
    "#atus_2010_tran_nilf_merge"
   ]
  },
  {
   "cell_type": "code",
   "execution_count": 205,
   "metadata": {},
   "outputs": [
    {
     "data": {
      "text/plain": [
       "1268220109655.4707"
      ]
     },
     "execution_count": 205,
     "metadata": {},
     "output_type": "execute_result"
    }
   ],
   "source": [
    "atus_2010_tran_nilf_merge[\"Multiplied Weight\"] = atus_2010_tran_nilf_merge[\"TUACTDUR24\"] * atus_2010_tran_nilf_merge[\"TUFNWGTP\"]\n",
    "atus_2010_tran_nilf_multiplied_weight = atus_2010_tran_nilf_merge[\"Multiplied Weight\"].sum()\n",
    "atus_2010_tran_nilf_multiplied_weight"
   ]
  },
  {
   "cell_type": "code",
   "execution_count": 206,
   "metadata": {},
   "outputs": [
    {
     "data": {
      "text/plain": [
       "0.7718409276464556"
      ]
     },
     "execution_count": 206,
     "metadata": {},
     "output_type": "execute_result"
    }
   ],
   "source": [
    "atus_2010_tran_nilf_hpd = atus_2010_tran_nilf_multiplied_weight / atus_2010_nilf_weight / 60\n",
    "atus_2010_tran_nilf_hpd"
   ]
  },
  {
   "cell_type": "markdown",
   "metadata": {},
   "source": [
    "### 2011 Transportation"
   ]
  },
  {
   "cell_type": "code",
   "execution_count": 207,
   "metadata": {},
   "outputs": [],
   "source": [
    "atus_2011_tran_nilf = atus_2011_tran_nilf.groupby([\"TUCASEID\"]).sum().filter([\"TUCASEID\", \"TUACTDUR24\"])\n",
    "atus_2011_tran_nilf_merge = pd.merge(atus_2011_tran_nilf, multi_resp, on= \"TUCASEID\").filter([\"TUCASEID\",\"TUACTDUR24\",\"TUFNWGTP\"])\n",
    "#atus_2011_tran_nilf_merge"
   ]
  },
  {
   "cell_type": "code",
   "execution_count": 208,
   "metadata": {},
   "outputs": [
    {
     "data": {
      "text/plain": [
       "1365638386692.0088"
      ]
     },
     "execution_count": 208,
     "metadata": {},
     "output_type": "execute_result"
    }
   ],
   "source": [
    "atus_2011_tran_nilf_merge[\"Multiplied Weight\"] = atus_2011_tran_nilf_merge[\"TUACTDUR24\"] * atus_2011_tran_nilf_merge[\"TUFNWGTP\"]\n",
    "atus_2011_tran_nilf_multiplied_weight = atus_2011_tran_nilf_merge[\"Multiplied Weight\"].sum()\n",
    "atus_2011_tran_nilf_multiplied_weight"
   ]
  },
  {
   "cell_type": "code",
   "execution_count": 209,
   "metadata": {},
   "outputs": [
    {
     "data": {
      "text/plain": [
       "0.8145991425543144"
      ]
     },
     "execution_count": 209,
     "metadata": {},
     "output_type": "execute_result"
    }
   ],
   "source": [
    "atus_2011_tran_nilf_hpd = atus_2011_tran_nilf_multiplied_weight / atus_2011_nilf_weight / 60\n",
    "atus_2011_tran_nilf_hpd"
   ]
  },
  {
   "cell_type": "markdown",
   "metadata": {},
   "source": [
    "### 2012 Transportation"
   ]
  },
  {
   "cell_type": "code",
   "execution_count": 210,
   "metadata": {},
   "outputs": [],
   "source": [
    "atus_2012_tran_nilf = atus_2012_tran_nilf.groupby([\"TUCASEID\"]).sum().filter([\"TUCASEID\", \"TUACTDUR24\"])\n",
    "atus_2012_tran_nilf_merge = pd.merge(atus_2012_tran_nilf, multi_resp, on= \"TUCASEID\").filter([\"TUCASEID\",\"TUACTDUR24\",\"TUFNWGTP\"])\n",
    "#atus_2012_tran_nilf_merge"
   ]
  },
  {
   "cell_type": "code",
   "execution_count": 211,
   "metadata": {},
   "outputs": [
    {
     "data": {
      "text/plain": [
       "1447200106140.5337"
      ]
     },
     "execution_count": 211,
     "metadata": {},
     "output_type": "execute_result"
    }
   ],
   "source": [
    "atus_2012_tran_nilf_merge[\"Multiplied Weight\"] = atus_2012_tran_nilf_merge[\"TUACTDUR24\"] * atus_2012_tran_nilf_merge[\"TUFNWGTP\"]\n",
    "atus_2012_tran_nilf_multiplied_weight = atus_2012_tran_nilf_merge[\"Multiplied Weight\"].sum()\n",
    "atus_2012_tran_nilf_multiplied_weight"
   ]
  },
  {
   "cell_type": "code",
   "execution_count": 212,
   "metadata": {},
   "outputs": [
    {
     "data": {
      "text/plain": [
       "0.8118747547624146"
      ]
     },
     "execution_count": 212,
     "metadata": {},
     "output_type": "execute_result"
    }
   ],
   "source": [
    "atus_2012_tran_nilf_hpd = atus_2012_tran_nilf_multiplied_weight / atus_2012_nilf_weight / 60\n",
    "atus_2012_tran_nilf_hpd"
   ]
  },
  {
   "cell_type": "markdown",
   "metadata": {},
   "source": [
    "### 2013 Transportation"
   ]
  },
  {
   "cell_type": "code",
   "execution_count": 213,
   "metadata": {},
   "outputs": [],
   "source": [
    "atus_2013_tran_nilf = atus_2013_tran_nilf.groupby([\"TUCASEID\"]).sum().filter([\"TUCASEID\", \"TUACTDUR24\"])\n",
    "atus_2013_tran_nilf_merge = pd.merge(atus_2013_tran_nilf, multi_resp, on= \"TUCASEID\").filter([\"TUCASEID\",\"TUACTDUR24\",\"TUFNWGTP\"])\n",
    "#atus_2013_tran_nilf_merge"
   ]
  },
  {
   "cell_type": "code",
   "execution_count": 214,
   "metadata": {},
   "outputs": [
    {
     "data": {
      "text/plain": [
       "1472940193595.128"
      ]
     },
     "execution_count": 214,
     "metadata": {},
     "output_type": "execute_result"
    }
   ],
   "source": [
    "atus_2013_tran_nilf_merge[\"Multiplied Weight\"] = atus_2013_tran_nilf_merge[\"TUACTDUR24\"] * atus_2013_tran_nilf_merge[\"TUFNWGTP\"]\n",
    "atus_2013_tran_nilf_multiplied_weight = atus_2013_tran_nilf_merge[\"Multiplied Weight\"].sum()\n",
    "atus_2013_tran_nilf_multiplied_weight"
   ]
  },
  {
   "cell_type": "code",
   "execution_count": 215,
   "metadata": {},
   "outputs": [
    {
     "data": {
      "text/plain": [
       "0.8035592878234715"
      ]
     },
     "execution_count": 215,
     "metadata": {},
     "output_type": "execute_result"
    }
   ],
   "source": [
    "atus_2013_tran_nilf_hpd = atus_2013_tran_nilf_multiplied_weight / atus_2013_nilf_weight / 60\n",
    "atus_2013_tran_nilf_hpd"
   ]
  },
  {
   "cell_type": "markdown",
   "metadata": {},
   "source": [
    "### 2014 Transportation"
   ]
  },
  {
   "cell_type": "code",
   "execution_count": 216,
   "metadata": {},
   "outputs": [],
   "source": [
    "atus_2014_tran_nilf = atus_2014_tran_nilf.groupby([\"TUCASEID\"]).sum().filter([\"TUCASEID\", \"TUACTDUR24\"])\n",
    "atus_2014_tran_nilf_merge = pd.merge(atus_2014_tran_nilf, multi_resp, on= \"TUCASEID\").filter([\"TUCASEID\",\"TUACTDUR24\",\"TUFNWGTP\"])\n",
    "#atus_2014_tran_nilf_merge"
   ]
  },
  {
   "cell_type": "code",
   "execution_count": 217,
   "metadata": {},
   "outputs": [
    {
     "data": {
      "text/plain": [
       "1434921109334.1982"
      ]
     },
     "execution_count": 217,
     "metadata": {},
     "output_type": "execute_result"
    }
   ],
   "source": [
    "atus_2014_tran_nilf_merge[\"Multiplied Weight\"] = atus_2014_tran_nilf_merge[\"TUACTDUR24\"] * atus_2014_tran_nilf_merge[\"TUFNWGTP\"]\n",
    "atus_2014_tran_nilf_multiplied_weight = atus_2014_tran_nilf_merge[\"Multiplied Weight\"].sum()\n",
    "atus_2014_tran_nilf_multiplied_weight"
   ]
  },
  {
   "cell_type": "code",
   "execution_count": 218,
   "metadata": {},
   "outputs": [
    {
     "data": {
      "text/plain": [
       "0.7724429558704683"
      ]
     },
     "execution_count": 218,
     "metadata": {},
     "output_type": "execute_result"
    }
   ],
   "source": [
    "atus_2014_tran_nilf_hpd = atus_2014_tran_nilf_multiplied_weight / atus_2014_nilf_weight / 60\n",
    "atus_2014_tran_nilf_hpd"
   ]
  },
  {
   "cell_type": "markdown",
   "metadata": {},
   "source": [
    "### 2015 Transportation"
   ]
  },
  {
   "cell_type": "code",
   "execution_count": 219,
   "metadata": {},
   "outputs": [],
   "source": [
    "atus_2015_tran_nilf = atus_2015_tran_nilf.groupby([\"TUCASEID\"]).sum().filter([\"TUCASEID\", \"TUACTDUR24\"])\n",
    "atus_2015_tran_nilf_merge = pd.merge(atus_2015_tran_nilf, multi_resp, on= \"TUCASEID\").filter([\"TUCASEID\",\"TUACTDUR24\",\"TUFNWGTP\"])\n",
    "#atus_2015_tran_nilf_merge"
   ]
  },
  {
   "cell_type": "code",
   "execution_count": 220,
   "metadata": {},
   "outputs": [
    {
     "data": {
      "text/plain": [
       "1492120812986.559"
      ]
     },
     "execution_count": 220,
     "metadata": {},
     "output_type": "execute_result"
    }
   ],
   "source": [
    "atus_2015_tran_nilf_merge[\"Multiplied Weight\"] = atus_2015_tran_nilf_merge[\"TUACTDUR24\"] * atus_2015_tran_nilf_merge[\"TUFNWGTP\"]\n",
    "atus_2015_tran_nilf_multiplied_weight = atus_2015_tran_nilf_merge[\"Multiplied Weight\"].sum()\n",
    "atus_2015_tran_nilf_multiplied_weight"
   ]
  },
  {
   "cell_type": "code",
   "execution_count": 221,
   "metadata": {},
   "outputs": [
    {
     "data": {
      "text/plain": [
       "0.7986854341224378"
      ]
     },
     "execution_count": 221,
     "metadata": {},
     "output_type": "execute_result"
    }
   ],
   "source": [
    "atus_2015_tran_nilf_hpd = atus_2015_tran_nilf_multiplied_weight / atus_2015_nilf_weight / 60\n",
    "atus_2015_tran_nilf_hpd"
   ]
  },
  {
   "cell_type": "markdown",
   "metadata": {},
   "source": [
    "### 2016 Transportation"
   ]
  },
  {
   "cell_type": "code",
   "execution_count": 222,
   "metadata": {},
   "outputs": [],
   "source": [
    "atus_2016_tran_nilf = atus_2016_tran_nilf.groupby([\"TUCASEID\"]).sum().filter([\"TUCASEID\", \"TUACTDUR24\"])\n",
    "atus_2016_tran_nilf_merge = pd.merge(atus_2016_tran_nilf, multi_resp, on= \"TUCASEID\").filter([\"TUCASEID\",\"TUACTDUR24\",\"TUFNWGTP\"])\n",
    "#atus_2016_tran_nilf_merge"
   ]
  },
  {
   "cell_type": "code",
   "execution_count": 223,
   "metadata": {},
   "outputs": [
    {
     "data": {
      "text/plain": [
       "1591426239578.5596"
      ]
     },
     "execution_count": 223,
     "metadata": {},
     "output_type": "execute_result"
    }
   ],
   "source": [
    "atus_2016_tran_nilf_merge[\"Multiplied Weight\"] = atus_2016_tran_nilf_merge[\"TUACTDUR24\"] * atus_2016_tran_nilf_merge[\"TUFNWGTP\"]\n",
    "atus_2016_tran_nilf_multiplied_weight = atus_2016_tran_nilf_merge[\"Multiplied Weight\"].sum()\n",
    "atus_2016_tran_nilf_multiplied_weight"
   ]
  },
  {
   "cell_type": "code",
   "execution_count": 224,
   "metadata": {},
   "outputs": [
    {
     "data": {
      "text/plain": [
       "0.8476141079925452"
      ]
     },
     "execution_count": 224,
     "metadata": {},
     "output_type": "execute_result"
    }
   ],
   "source": [
    "atus_2016_tran_nilf_hpd = atus_2016_tran_nilf_multiplied_weight / atus_2016_nilf_weight / 60\n",
    "atus_2016_tran_nilf_hpd"
   ]
  },
  {
   "cell_type": "markdown",
   "metadata": {},
   "source": [
    "### 2017 Transportation"
   ]
  },
  {
   "cell_type": "code",
   "execution_count": 225,
   "metadata": {},
   "outputs": [],
   "source": [
    "atus_2017_tran_nilf = atus_2017_tran_nilf.groupby([\"TUCASEID\"]).sum().filter([\"TUCASEID\", \"TUACTDUR24\"])\n",
    "atus_2017_tran_nilf_merge = pd.merge(atus_2017_tran_nilf, multi_resp, on= \"TUCASEID\").filter([\"TUCASEID\",\"TUACTDUR24\",\"TUFNWGTP\"])\n",
    "#atus_2017_tran_nilf_merge"
   ]
  },
  {
   "cell_type": "code",
   "execution_count": 226,
   "metadata": {},
   "outputs": [
    {
     "data": {
      "text/plain": [
       "1515276453209.0557"
      ]
     },
     "execution_count": 226,
     "metadata": {},
     "output_type": "execute_result"
    }
   ],
   "source": [
    "atus_2017_tran_nilf_merge[\"Multiplied Weight\"] = atus_2017_tran_nilf_merge[\"TUACTDUR24\"] * atus_2017_tran_nilf_merge[\"TUFNWGTP\"]\n",
    "atus_2017_tran_nilf_multiplied_weight = atus_2017_tran_nilf_merge[\"Multiplied Weight\"].sum()\n",
    "atus_2017_tran_nilf_multiplied_weight"
   ]
  },
  {
   "cell_type": "code",
   "execution_count": 227,
   "metadata": {},
   "outputs": [
    {
     "data": {
      "text/plain": [
       "0.7940394289646385"
      ]
     },
     "execution_count": 227,
     "metadata": {},
     "output_type": "execute_result"
    }
   ],
   "source": [
    "atus_2017_tran_nilf_hpd = atus_2017_tran_nilf_multiplied_weight / atus_2017_nilf_weight / 60\n",
    "atus_2017_tran_nilf_hpd"
   ]
  },
  {
   "cell_type": "markdown",
   "metadata": {},
   "source": [
    "### 2018 Transportation"
   ]
  },
  {
   "cell_type": "code",
   "execution_count": 228,
   "metadata": {},
   "outputs": [],
   "source": [
    "atus_2018_tran_nilf = atus_2018_tran_nilf.groupby([\"TUCASEID\"]).sum().filter([\"TUCASEID\", \"TUACTDUR24\"])\n",
    "atus_2018_tran_nilf_merge = pd.merge(atus_2018_tran_nilf, multi_resp, on= \"TUCASEID\").filter([\"TUCASEID\",\"TUACTDUR24\",\"TUFNWGTP\"])\n",
    "#atus_2018_tran_nilf_merge"
   ]
  },
  {
   "cell_type": "code",
   "execution_count": 229,
   "metadata": {},
   "outputs": [
    {
     "data": {
      "text/plain": [
       "1576234928437.1748"
      ]
     },
     "execution_count": 229,
     "metadata": {},
     "output_type": "execute_result"
    }
   ],
   "source": [
    "atus_2018_tran_nilf_merge[\"Multiplied Weight\"] = atus_2018_tran_nilf_merge[\"TUACTDUR24\"] * atus_2018_tran_nilf_merge[\"TUFNWGTP\"]\n",
    "atus_2018_tran_nilf_multiplied_weight = atus_2018_tran_nilf_merge[\"Multiplied Weight\"].sum()\n",
    "atus_2018_tran_nilf_multiplied_weight"
   ]
  },
  {
   "cell_type": "code",
   "execution_count": 230,
   "metadata": {},
   "outputs": [
    {
     "data": {
      "text/plain": [
       "0.8258857019254009"
      ]
     },
     "execution_count": 230,
     "metadata": {},
     "output_type": "execute_result"
    }
   ],
   "source": [
    "atus_2018_tran_nilf_hpd = atus_2018_tran_nilf_multiplied_weight / atus_2018_nilf_weight / 60\n",
    "atus_2018_tran_nilf_hpd"
   ]
  },
  {
   "cell_type": "markdown",
   "metadata": {},
   "source": [
    "### 2019 Transportation"
   ]
  },
  {
   "cell_type": "code",
   "execution_count": 231,
   "metadata": {},
   "outputs": [],
   "source": [
    "atus_2019_tran_nilf = atus_2019_tran_nilf.groupby([\"TUCASEID\"]).sum().filter([\"TUCASEID\", \"TUACTDUR24\"])\n",
    "atus_2019_tran_nilf_merge = pd.merge(atus_2019_tran_nilf, multi_resp, on= \"TUCASEID\").filter([\"TUCASEID\",\"TUACTDUR24\",\"TUFNWGTP\"])\n",
    "#atus_2019_tran_nilf_merge"
   ]
  },
  {
   "cell_type": "code",
   "execution_count": 232,
   "metadata": {},
   "outputs": [
    {
     "data": {
      "text/plain": [
       "1534526055223.3408"
      ]
     },
     "execution_count": 232,
     "metadata": {},
     "output_type": "execute_result"
    }
   ],
   "source": [
    "atus_2019_tran_nilf_merge[\"Multiplied Weight\"] = atus_2019_tran_nilf_merge[\"TUACTDUR24\"] * atus_2019_tran_nilf_merge[\"TUFNWGTP\"]\n",
    "atus_2019_tran_nilf_multiplied_weight = atus_2019_tran_nilf_merge[\"Multiplied Weight\"].sum()\n",
    "atus_2019_tran_nilf_multiplied_weight"
   ]
  },
  {
   "cell_type": "code",
   "execution_count": 233,
   "metadata": {},
   "outputs": [
    {
     "data": {
      "text/plain": [
       "0.7980118276301839"
      ]
     },
     "execution_count": 233,
     "metadata": {},
     "output_type": "execute_result"
    }
   ],
   "source": [
    "atus_2019_tran_nilf_hpd = atus_2019_tran_nilf_multiplied_weight / atus_2019_nilf_weight / 60\n",
    "atus_2019_tran_nilf_hpd"
   ]
  },
  {
   "cell_type": "markdown",
   "metadata": {},
   "source": [
    "### Regresssion: Transportation - Not In Labor Force"
   ]
  },
  {
   "cell_type": "markdown",
   "metadata": {},
   "source": [
    "#### 2003 -2012 Regression"
   ]
  },
  {
   "cell_type": "code",
   "execution_count": 234,
   "metadata": {},
   "outputs": [],
   "source": [
    "year = np.array([2003, 2004, 2005, 2006, 2007, 2008, 2009, 2010,2011,2012]).reshape((-1, 1))\n",
    "activity_hours_per_day = np.array([atus_2003_tran_nilf_hpd, atus_2004_tran_nilf_hpd, atus_2005_tran_nilf_hpd,\n",
    "                                   atus_2006_tran_nilf_hpd, atus_2007_tran_nilf_hpd, atus_2008_tran_nilf_hpd,\n",
    "                                   atus_2009_tran_nilf_hpd, atus_2010_tran_nilf_hpd, atus_2011_tran_nilf_hpd,\n",
    "                                   atus_2012_tran_nilf_hpd]).reshape((-1, 1))\n",
    "\n",
    "activity_hours_per_yr = [i * 365 for i in activity_hours_per_day]\n",
    "#activity_hours_per_yr"
   ]
  },
  {
   "cell_type": "code",
   "execution_count": 235,
   "metadata": {},
   "outputs": [
    {
     "data": {
      "image/png": "[encoded data removed]",
      "text/plain": [
       "<Figure size 432x288 with 1 Axes>"
      ]
     },
     "metadata": {
      "needs_background": "light"
     },
     "output_type": "display_data"
    }
   ],
   "source": [
    "x = year\n",
    "y = activity_hours_per_yr\n",
    "x, y = np.array(x), np.array(y)\n",
    "\n",
    "model = LinearRegression().fit(x, y)\n",
    "\n",
    "y_pred = model.predict(x)  \n",
    "\n",
    "plt.scatter(x, y)\n",
    "plt.plot(x, y_pred, color='red')\n",
    "plt.show()"
   ]
  },
  {
   "cell_type": "code",
   "execution_count": 236,
   "metadata": {},
   "outputs": [
    {
     "data": {
      "text/plain": [
       "0.6145266512089316"
      ]
     },
     "execution_count": 236,
     "metadata": {},
     "output_type": "execute_result"
    }
   ],
   "source": [
    "coefficient_of_determination = model.score(x,y) #R sqaure value \n",
    "coefficient_of_determination"
   ]
  },
  {
   "cell_type": "code",
   "execution_count": 237,
   "metadata": {},
   "outputs": [
    {
     "data": {
      "text/plain": [
       "array([[-3.05086346]])"
      ]
     },
     "execution_count": 237,
     "metadata": {},
     "output_type": "execute_result"
    }
   ],
   "source": [
    "tran_2012_nilf_slope = model.coef_\n",
    "tran_2012_nilf_slope"
   ]
  },
  {
   "cell_type": "markdown",
   "metadata": {},
   "source": [
    "#### 2003 -2019 Regression"
   ]
  },
  {
   "cell_type": "code",
   "execution_count": 238,
   "metadata": {},
   "outputs": [],
   "source": [
    "year = np.array([2003, 2004, 2005, 2006, 2007, 2008, 2009, 2010,2011,2012, 2013, 2014, 2015, 2016, 2017, 2018, 2019]).reshape((-1, 1))\n",
    "activity_hours_per_day = np.array([atus_2003_tran_nilf_hpd, atus_2004_tran_nilf_hpd, atus_2005_tran_nilf_hpd,\n",
    "                                   atus_2006_tran_nilf_hpd, atus_2007_tran_nilf_hpd, atus_2008_tran_nilf_hpd,\n",
    "                                   atus_2009_tran_nilf_hpd, atus_2010_tran_nilf_hpd, atus_2011_tran_nilf_hpd,\n",
    "                                   atus_2012_tran_nilf_hpd, atus_2013_tran_nilf_hpd, atus_2014_tran_nilf_hpd,\n",
    "                                   atus_2015_tran_nilf_hpd, atus_2016_tran_nilf_hpd, atus_2017_tran_nilf_hpd,\n",
    "                                   atus_2018_tran_nilf_hpd, atus_2019_tran_nilf_hpd]).reshape((-1, 1))\n",
    "\n",
    "activity_hours_per_yr = [i * 365 for i in activity_hours_per_day]\n",
    "#activity_hours_per_yr"
   ]
  },
  {
   "cell_type": "code",
   "execution_count": 239,
   "metadata": {},
   "outputs": [
    {
     "data": {
      "image/png": "[encoded data removed]",
      "text/plain": [
       "<Figure size 432x288 with 1 Axes>"
      ]
     },
     "metadata": {
      "needs_background": "light"
     },
     "output_type": "display_data"
    }
   ],
   "source": [
    "x = year\n",
    "y = activity_hours_per_yr\n",
    "x, y = np.array(x), np.array(y)\n",
    "\n",
    "model = LinearRegression().fit(x, y)\n",
    "\n",
    "y_pred = model.predict(x)  \n",
    "\n",
    "plt.scatter(x, y)\n",
    "plt.plot(x, y_pred, color='red')\n",
    "plt.show()"
   ]
  },
  {
   "cell_type": "code",
   "execution_count": 240,
   "metadata": {},
   "outputs": [
    {
     "data": {
      "text/plain": [
       "0.31921700268325426"
      ]
     },
     "execution_count": 240,
     "metadata": {},
     "output_type": "execute_result"
    }
   ],
   "source": [
    "coefficient_of_determination = model.score(x,y) #R sqaure value \n",
    "coefficient_of_determination"
   ]
  },
  {
   "cell_type": "code",
   "execution_count": 241,
   "metadata": {},
   "outputs": [
    {
     "data": {
      "text/plain": [
       "array([[-1.2513044]])"
      ]
     },
     "execution_count": 241,
     "metadata": {},
     "output_type": "execute_result"
    }
   ],
   "source": [
    "tran_2019_nilf_slope = model.coef_\n",
    "tran_2019_nilf_slope"
   ]
  },
  {
   "cell_type": "markdown",
   "metadata": {},
   "source": [
    "### 2003-2019 - Unspecified- Not In Labor Force"
   ]
  },
  {
   "cell_type": "code",
   "execution_count": 242,
   "metadata": {},
   "outputs": [],
   "source": [
    "#unspecified = 89, 89 = Unspecified place"
   ]
  },
  {
   "cell_type": "code",
   "execution_count": 243,
   "metadata": {},
   "outputs": [
    {
     "data": {
      "text/html": [
       "<div>\n",
       "<style scoped>\n",
       "    .dataframe tbody tr th:only-of-type {\n",
       "        vertical-align: middle;\n",
       "    }\n",
       "\n",
       "    .dataframe tbody tr th {\n",
       "        vertical-align: top;\n",
       "    }\n",
       "\n",
       "    .dataframe thead th {\n",
       "        text-align: right;\n",
       "    }\n",
       "</style>\n",
       "<table border=\"1\" class=\"dataframe\">\n",
       "  <thead>\n",
       "    <tr style=\"text-align: right;\">\n",
       "      <th></th>\n",
       "      <th>TUCASEID</th>\n",
       "      <th>TUACTDUR24</th>\n",
       "      <th>TUCUMDUR</th>\n",
       "      <th>TRTIER1P</th>\n",
       "      <th>TRTIER2P</th>\n",
       "      <th>TRCODEP</th>\n",
       "      <th>TEWHERE</th>\n",
       "      <th>TELFS</th>\n",
       "      <th>TUFNWGTP</th>\n",
       "      <th>TUSTARTTIM</th>\n",
       "      <th>TUSTOPTIME</th>\n",
       "      <th>TUYEAR</th>\n",
       "    </tr>\n",
       "  </thead>\n",
       "  <tbody>\n",
       "    <tr>\n",
       "      <th>1516</th>\n",
       "      <td>20030101031197</td>\n",
       "      <td>2</td>\n",
       "      <td>282</td>\n",
       "      <td>03</td>\n",
       "      <td>0301</td>\n",
       "      <td>030111</td>\n",
       "      <td>89</td>\n",
       "      <td>5</td>\n",
       "      <td>1.471647e+06</td>\n",
       "      <td>08:40:00</td>\n",
       "      <td>08:42:00</td>\n",
       "      <td>2003</td>\n",
       "    </tr>\n",
       "    <tr>\n",
       "      <th>1518</th>\n",
       "      <td>20030101031197</td>\n",
       "      <td>1</td>\n",
       "      <td>285</td>\n",
       "      <td>04</td>\n",
       "      <td>0401</td>\n",
       "      <td>040112</td>\n",
       "      <td>89</td>\n",
       "      <td>5</td>\n",
       "      <td>1.471647e+06</td>\n",
       "      <td>08:44:00</td>\n",
       "      <td>08:45:00</td>\n",
       "      <td>2003</td>\n",
       "    </tr>\n",
       "    <tr>\n",
       "      <th>3588</th>\n",
       "      <td>20030101032616</td>\n",
       "      <td>10</td>\n",
       "      <td>750</td>\n",
       "      <td>04</td>\n",
       "      <td>0405</td>\n",
       "      <td>040508</td>\n",
       "      <td>89</td>\n",
       "      <td>5</td>\n",
       "      <td>1.387219e+06</td>\n",
       "      <td>16:20:00</td>\n",
       "      <td>16:30:00</td>\n",
       "      <td>2003</td>\n",
       "    </tr>\n",
       "    <tr>\n",
       "      <th>5618</th>\n",
       "      <td>20030111020813</td>\n",
       "      <td>60</td>\n",
       "      <td>668</td>\n",
       "      <td>04</td>\n",
       "      <td>0405</td>\n",
       "      <td>040507</td>\n",
       "      <td>89</td>\n",
       "      <td>5</td>\n",
       "      <td>6.246935e+06</td>\n",
       "      <td>14:08:00</td>\n",
       "      <td>15:08:00</td>\n",
       "      <td>2003</td>\n",
       "    </tr>\n",
       "    <tr>\n",
       "      <th>7267</th>\n",
       "      <td>20030111021858</td>\n",
       "      <td>34</td>\n",
       "      <td>290</td>\n",
       "      <td>03</td>\n",
       "      <td>0301</td>\n",
       "      <td>030111</td>\n",
       "      <td>89</td>\n",
       "      <td>5</td>\n",
       "      <td>2.801341e+06</td>\n",
       "      <td>08:16:00</td>\n",
       "      <td>08:50:00</td>\n",
       "      <td>2003</td>\n",
       "    </tr>\n",
       "    <tr>\n",
       "      <th>...</th>\n",
       "      <td>...</td>\n",
       "      <td>...</td>\n",
       "      <td>...</td>\n",
       "      <td>...</td>\n",
       "      <td>...</td>\n",
       "      <td>...</td>\n",
       "      <td>...</td>\n",
       "      <td>...</td>\n",
       "      <td>...</td>\n",
       "      <td>...</td>\n",
       "      <td>...</td>\n",
       "      <td>...</td>\n",
       "    </tr>\n",
       "    <tr>\n",
       "      <th>4111789</th>\n",
       "      <td>20191211191142</td>\n",
       "      <td>3</td>\n",
       "      <td>868</td>\n",
       "      <td>03</td>\n",
       "      <td>0305</td>\n",
       "      <td>030503</td>\n",
       "      <td>89</td>\n",
       "      <td>5</td>\n",
       "      <td>5.187372e+06</td>\n",
       "      <td>18:25:00</td>\n",
       "      <td>18:28:00</td>\n",
       "      <td>2019</td>\n",
       "    </tr>\n",
       "    <tr>\n",
       "      <th>4114300</th>\n",
       "      <td>20191211191655</td>\n",
       "      <td>90</td>\n",
       "      <td>630</td>\n",
       "      <td>13</td>\n",
       "      <td>1301</td>\n",
       "      <td>130131</td>\n",
       "      <td>89</td>\n",
       "      <td>5</td>\n",
       "      <td>9.197335e+06</td>\n",
       "      <td>13:00:00</td>\n",
       "      <td>14:30:00</td>\n",
       "      <td>2019</td>\n",
       "    </tr>\n",
       "    <tr>\n",
       "      <th>4115569</th>\n",
       "      <td>20191211191865</td>\n",
       "      <td>40</td>\n",
       "      <td>510</td>\n",
       "      <td>04</td>\n",
       "      <td>0401</td>\n",
       "      <td>040111</td>\n",
       "      <td>89</td>\n",
       "      <td>5</td>\n",
       "      <td>7.856008e+06</td>\n",
       "      <td>11:50:00</td>\n",
       "      <td>12:30:00</td>\n",
       "      <td>2019</td>\n",
       "    </tr>\n",
       "    <tr>\n",
       "      <th>4115570</th>\n",
       "      <td>20191211191865</td>\n",
       "      <td>10</td>\n",
       "      <td>520</td>\n",
       "      <td>04</td>\n",
       "      <td>0401</td>\n",
       "      <td>040112</td>\n",
       "      <td>89</td>\n",
       "      <td>5</td>\n",
       "      <td>7.856008e+06</td>\n",
       "      <td>12:30:00</td>\n",
       "      <td>12:40:00</td>\n",
       "      <td>2019</td>\n",
       "    </tr>\n",
       "    <tr>\n",
       "      <th>4120048</th>\n",
       "      <td>20191212191450</td>\n",
       "      <td>41</td>\n",
       "      <td>448</td>\n",
       "      <td>04</td>\n",
       "      <td>0405</td>\n",
       "      <td>040508</td>\n",
       "      <td>89</td>\n",
       "      <td>5</td>\n",
       "      <td>2.445740e+06</td>\n",
       "      <td>10:47:00</td>\n",
       "      <td>11:28:00</td>\n",
       "      <td>2019</td>\n",
       "    </tr>\n",
       "  </tbody>\n",
       "</table>\n",
       "<p>3943 rows × 12 columns</p>\n",
       "</div>"
      ],
      "text/plain": [
       "               TUCASEID  TUACTDUR24  TUCUMDUR TRTIER1P TRTIER2P TRCODEP  \\\n",
       "1516     20030101031197           2       282       03     0301  030111   \n",
       "1518     20030101031197           1       285       04     0401  040112   \n",
       "3588     20030101032616          10       750       04     0405  040508   \n",
       "5618     20030111020813          60       668       04     0405  040507   \n",
       "7267     20030111021858          34       290       03     0301  030111   \n",
       "...                 ...         ...       ...      ...      ...     ...   \n",
       "4111789  20191211191142           3       868       03     0305  030503   \n",
       "4114300  20191211191655          90       630       13     1301  130131   \n",
       "4115569  20191211191865          40       510       04     0401  040111   \n",
       "4115570  20191211191865          10       520       04     0401  040112   \n",
       "4120048  20191212191450          41       448       04     0405  040508   \n",
       "\n",
       "         TEWHERE  TELFS      TUFNWGTP TUSTARTTIM TUSTOPTIME  TUYEAR  \n",
       "1516          89      5  1.471647e+06   08:40:00   08:42:00    2003  \n",
       "1518          89      5  1.471647e+06   08:44:00   08:45:00    2003  \n",
       "3588          89      5  1.387219e+06   16:20:00   16:30:00    2003  \n",
       "5618          89      5  6.246935e+06   14:08:00   15:08:00    2003  \n",
       "7267          89      5  2.801341e+06   08:16:00   08:50:00    2003  \n",
       "...          ...    ...           ...        ...        ...     ...  \n",
       "4111789       89      5  5.187372e+06   18:25:00   18:28:00    2019  \n",
       "4114300       89      5  9.197335e+06   13:00:00   14:30:00    2019  \n",
       "4115569       89      5  7.856008e+06   11:50:00   12:30:00    2019  \n",
       "4115570       89      5  7.856008e+06   12:30:00   12:40:00    2019  \n",
       "4120048       89      5  2.445740e+06   10:47:00   11:28:00    2019  \n",
       "\n",
       "[3943 rows x 12 columns]"
      ]
     },
     "execution_count": 243,
     "metadata": {},
     "output_type": "execute_result"
    }
   ],
   "source": [
    "unspecified_location = [89]\n",
    "atus_multi_yr_unsp_nilf = multi_merged_nilf[multi_merged_nilf[\"TEWHERE\"].isin(unspecified_location)]\n",
    "atus_multi_yr_unsp_nilf"
   ]
  },
  {
   "cell_type": "code",
   "execution_count": 244,
   "metadata": {},
   "outputs": [],
   "source": [
    "#atus transportation nilf population seperated by year\n",
    "#unsp = unspecified\n",
    "atus_2003_unsp_nilf = atus_multi_yr_unsp_nilf[atus_multi_yr_unsp_nilf[\"TUCASEID\"].apply(str).str.startswith(\"2003\")]\n",
    "atus_2004_unsp_nilf = atus_multi_yr_unsp_nilf[atus_multi_yr_unsp_nilf[\"TUCASEID\"].apply(str).str.startswith(\"2004\")]\n",
    "atus_2005_unsp_nilf = atus_multi_yr_unsp_nilf[atus_multi_yr_unsp_nilf[\"TUCASEID\"].apply(str).str.startswith(\"2005\")]\n",
    "atus_2006_unsp_nilf = atus_multi_yr_unsp_nilf[atus_multi_yr_unsp_nilf[\"TUCASEID\"].apply(str).str.startswith(\"2006\")]\n",
    "atus_2007_unsp_nilf = atus_multi_yr_unsp_nilf[atus_multi_yr_unsp_nilf[\"TUCASEID\"].apply(str).str.startswith(\"2007\")]\n",
    "atus_2008_unsp_nilf = atus_multi_yr_unsp_nilf[atus_multi_yr_unsp_nilf[\"TUCASEID\"].apply(str).str.startswith(\"2008\")]\n",
    "atus_2009_unsp_nilf = atus_multi_yr_unsp_nilf[atus_multi_yr_unsp_nilf[\"TUCASEID\"].apply(str).str.startswith(\"2009\")]\n",
    "atus_2010_unsp_nilf = atus_multi_yr_unsp_nilf[atus_multi_yr_unsp_nilf[\"TUCASEID\"].apply(str).str.startswith(\"2010\")]\n",
    "atus_2011_unsp_nilf = atus_multi_yr_unsp_nilf[atus_multi_yr_unsp_nilf[\"TUCASEID\"].apply(str).str.startswith(\"2011\")]\n",
    "atus_2012_unsp_nilf = atus_multi_yr_unsp_nilf[atus_multi_yr_unsp_nilf[\"TUCASEID\"].apply(str).str.startswith(\"2012\")]\n",
    "atus_2013_unsp_nilf = atus_multi_yr_unsp_nilf[atus_multi_yr_unsp_nilf[\"TUCASEID\"].apply(str).str.startswith(\"2013\")]\n",
    "atus_2014_unsp_nilf = atus_multi_yr_unsp_nilf[atus_multi_yr_unsp_nilf[\"TUCASEID\"].apply(str).str.startswith(\"2014\")]\n",
    "atus_2015_unsp_nilf = atus_multi_yr_unsp_nilf[atus_multi_yr_unsp_nilf[\"TUCASEID\"].apply(str).str.startswith(\"2015\")]\n",
    "atus_2016_unsp_nilf = atus_multi_yr_unsp_nilf[atus_multi_yr_unsp_nilf[\"TUCASEID\"].apply(str).str.startswith(\"2016\")]\n",
    "atus_2017_unsp_nilf = atus_multi_yr_unsp_nilf[atus_multi_yr_unsp_nilf[\"TUCASEID\"].apply(str).str.startswith(\"2017\")]\n",
    "atus_2018_unsp_nilf = atus_multi_yr_unsp_nilf[atus_multi_yr_unsp_nilf[\"TUCASEID\"].apply(str).str.startswith(\"2018\")]\n",
    "atus_2019_unsp_nilf = atus_multi_yr_unsp_nilf[atus_multi_yr_unsp_nilf[\"TUCASEID\"].apply(str).str.startswith(\"2019\")]\n",
    "#atus_2003_unsp_nilf\n",
    "#atus_2004_unsp_nilf[\"TRCODEP\"]"
   ]
  },
  {
   "cell_type": "markdown",
   "metadata": {},
   "source": [
    "### 2003 Unspecified- Not In Labor Force"
   ]
  },
  {
   "cell_type": "code",
   "execution_count": 245,
   "metadata": {},
   "outputs": [],
   "source": [
    "atus_2003_unsp_nilf = atus_2003_unsp_nilf.groupby([\"TUCASEID\"]).sum().filter([\"TUCASEID\", \"TUACTDUR24\",])\n",
    "#atus_2003_unsp_nilf"
   ]
  },
  {
   "cell_type": "code",
   "execution_count": 246,
   "metadata": {},
   "outputs": [],
   "source": [
    "atus_2003_unsp_nilf_merge = pd.merge(atus_2003_unsp_nilf, multi_resp, on= \"TUCASEID\").filter([\"TUCASEID\",\"TUACTDUR24\",\"TUFNWGTP\"])\n",
    "#atus_2003_unsp_nilf_merge"
   ]
  },
  {
   "cell_type": "code",
   "execution_count": 247,
   "metadata": {},
   "outputs": [],
   "source": [
    "atus_2003_unsp_nilf_merge[\"Multiplied Weight\"] = atus_2003_unsp_nilf_merge[\"TUACTDUR24\"] * atus_2003_unsp_nilf_merge[\"TUFNWGTP\"]\n",
    "#atus_2003_unsp_nilf_merge"
   ]
  },
  {
   "cell_type": "code",
   "execution_count": 248,
   "metadata": {},
   "outputs": [
    {
     "data": {
      "text/plain": [
       "43428743806.192276"
      ]
     },
     "execution_count": 248,
     "metadata": {},
     "output_type": "execute_result"
    }
   ],
   "source": [
    "atus_2003_unsp_nilf_multiplied_weight = atus_2003_unsp_nilf_merge[\"Multiplied Weight\"].sum()\n",
    "atus_2003_unsp_nilf_multiplied_weight"
   ]
  },
  {
   "cell_type": "code",
   "execution_count": 249,
   "metadata": {},
   "outputs": [
    {
     "data": {
      "text/plain": [
       "0.029362266609347563"
      ]
     },
     "execution_count": 249,
     "metadata": {},
     "output_type": "execute_result"
    }
   ],
   "source": [
    "atus_2003_unsp_nilf_hpd = atus_2003_unsp_nilf_multiplied_weight / atus_2003_nilf_weight / 60\n",
    "atus_2003_unsp_nilf_hpd"
   ]
  },
  {
   "cell_type": "markdown",
   "metadata": {},
   "source": [
    "### 2004 Unspecified- Not In Labor Force"
   ]
  },
  {
   "cell_type": "code",
   "execution_count": 250,
   "metadata": {},
   "outputs": [],
   "source": [
    "atus_2004_unsp_nilf = atus_2004_unsp_nilf.groupby([\"TUCASEID\"]).sum().filter([\"TUCASEID\", \"TUACTDUR24\"])\n",
    "#atus_2004_unsp_nilf"
   ]
  },
  {
   "cell_type": "code",
   "execution_count": 251,
   "metadata": {},
   "outputs": [
    {
     "data": {
      "text/plain": [
       "31381039214.145317"
      ]
     },
     "execution_count": 251,
     "metadata": {},
     "output_type": "execute_result"
    }
   ],
   "source": [
    "atus_2004_unsp_nilf_merge = pd.merge(atus_2004_unsp_nilf, multi_resp, on= \"TUCASEID\").filter([\"TUCASEID\",\"TUACTDUR24\",\"TUFNWGTP\"])\n",
    "\n",
    "atus_2004_unsp_nilf_merge[\"Multiplied Weight\"] = atus_2004_unsp_nilf_merge[\"TUACTDUR24\"] * atus_2004_unsp_nilf_merge[\"TUFNWGTP\"]\n",
    "\n",
    "atus_2004_unsp_nilf_multiplied_weight = atus_2004_unsp_nilf_merge[\"Multiplied Weight\"].sum()\n",
    "atus_2004_unsp_nilf_multiplied_weight"
   ]
  },
  {
   "cell_type": "code",
   "execution_count": 252,
   "metadata": {},
   "outputs": [
    {
     "data": {
      "text/plain": [
       "0.020401955323960684"
      ]
     },
     "execution_count": 252,
     "metadata": {},
     "output_type": "execute_result"
    }
   ],
   "source": [
    "atus_2004_unsp_nilf_hpd = atus_2004_unsp_nilf_multiplied_weight / atus_2004_nilf_weight / 60\n",
    "atus_2004_unsp_nilf_hpd"
   ]
  },
  {
   "cell_type": "markdown",
   "metadata": {},
   "source": [
    "### 2005 Unspecified- Not In Labor Force"
   ]
  },
  {
   "cell_type": "code",
   "execution_count": 253,
   "metadata": {},
   "outputs": [],
   "source": [
    "atus_2005_unsp_nilf = atus_2005_unsp_nilf.groupby([\"TUCASEID\"]).sum().filter([\"TUCASEID\", \"TUACTDUR24\"])\n",
    "#atus_2005_unsp_nilf"
   ]
  },
  {
   "cell_type": "code",
   "execution_count": 254,
   "metadata": {},
   "outputs": [
    {
     "data": {
      "text/plain": [
       "28435179281.20034"
      ]
     },
     "execution_count": 254,
     "metadata": {},
     "output_type": "execute_result"
    }
   ],
   "source": [
    "atus_2005_unsp_nilf_merge = pd.merge(atus_2005_unsp_nilf, multi_resp, on= \"TUCASEID\").filter([\"TUCASEID\",\"TUACTDUR24\",\"TUFNWGTP\"])\n",
    "\n",
    "atus_2005_unsp_nilf_merge[\"Multiplied Weight\"] = atus_2005_unsp_nilf_merge[\"TUACTDUR24\"] * atus_2005_unsp_nilf_merge[\"TUFNWGTP\"]\n",
    "\n",
    "atus_2005_unsp_nilf_multiplied_weight = atus_2005_unsp_nilf_merge[\"Multiplied Weight\"].sum()\n",
    "atus_2005_unsp_nilf_multiplied_weight"
   ]
  },
  {
   "cell_type": "code",
   "execution_count": 255,
   "metadata": {},
   "outputs": [
    {
     "data": {
      "text/plain": [
       "0.018797760719908716"
      ]
     },
     "execution_count": 255,
     "metadata": {},
     "output_type": "execute_result"
    }
   ],
   "source": [
    "atus_2005_unsp_nilf_hpd = atus_2005_unsp_nilf_multiplied_weight / atus_2005_nilf_weight / 60\n",
    "atus_2005_unsp_nilf_hpd"
   ]
  },
  {
   "cell_type": "markdown",
   "metadata": {},
   "source": [
    "### 2006 Unspecified- Not In Labor Force"
   ]
  },
  {
   "cell_type": "code",
   "execution_count": 256,
   "metadata": {},
   "outputs": [],
   "source": [
    "atus_2006_unsp_nilf = atus_2006_unsp_nilf.groupby([\"TUCASEID\"]).sum().filter([\"TUCASEID\", \"TUACTDUR24\"])\n",
    "#atus_2006_unsp_nilf"
   ]
  },
  {
   "cell_type": "code",
   "execution_count": 257,
   "metadata": {},
   "outputs": [
    {
     "data": {
      "text/plain": [
       "28988679137.744213"
      ]
     },
     "execution_count": 257,
     "metadata": {},
     "output_type": "execute_result"
    }
   ],
   "source": [
    "atus_2006_unsp_nilf_merge = pd.merge(atus_2006_unsp_nilf, multi_resp, on= \"TUCASEID\").filter([\"TUCASEID\",\"TUACTDUR24\",\"TUFNWGTP\"])\n",
    "\n",
    "atus_2006_unsp_nilf_merge[\"Multiplied Weight\"] = atus_2006_unsp_nilf_merge[\"TUACTDUR24\"] * atus_2006_unsp_nilf_merge[\"TUFNWGTP\"]\n",
    "\n",
    "atus_2006_unsp_nilf_multiplied_weight = atus_2006_unsp_nilf_merge[\"Multiplied Weight\"].sum()\n",
    "atus_2006_unsp_nilf_multiplied_weight"
   ]
  },
  {
   "cell_type": "code",
   "execution_count": 258,
   "metadata": {},
   "outputs": [
    {
     "data": {
      "text/plain": [
       "0.01862593311288752"
      ]
     },
     "execution_count": 258,
     "metadata": {},
     "output_type": "execute_result"
    }
   ],
   "source": [
    "atus_2006_unsp_nilf_hpd = atus_2006_unsp_nilf_multiplied_weight / atus_2006_nilf_weight / 60\n",
    "atus_2006_unsp_nilf_hpd"
   ]
  },
  {
   "cell_type": "markdown",
   "metadata": {},
   "source": [
    "### 2007 Unspecified- Not In Labor Force"
   ]
  },
  {
   "cell_type": "code",
   "execution_count": 259,
   "metadata": {},
   "outputs": [],
   "source": [
    "atus_2007_unsp_nilf = atus_2007_unsp_nilf.groupby([\"TUCASEID\"]).sum().filter([\"TUCASEID\", \"TUACTDUR24\"])\n",
    "#atus_2007_unsp_nilf"
   ]
  },
  {
   "cell_type": "code",
   "execution_count": 260,
   "metadata": {},
   "outputs": [
    {
     "data": {
      "text/plain": [
       "45087449561.38875"
      ]
     },
     "execution_count": 260,
     "metadata": {},
     "output_type": "execute_result"
    }
   ],
   "source": [
    "atus_2007_unsp_nilf_merge = pd.merge(atus_2007_unsp_nilf, multi_resp, on= \"TUCASEID\").filter([\"TUCASEID\",\"TUACTDUR24\",\"TUFNWGTP\"])\n",
    "\n",
    "atus_2007_unsp_nilf_merge[\"Multiplied Weight\"] = atus_2007_unsp_nilf_merge[\"TUACTDUR24\"] * atus_2007_unsp_nilf_merge[\"TUFNWGTP\"]\n",
    "\n",
    "atus_2007_unsp_nilf_multiplied_weight = atus_2007_unsp_nilf_merge[\"Multiplied Weight\"].sum()\n",
    "atus_2007_unsp_nilf_multiplied_weight"
   ]
  },
  {
   "cell_type": "code",
   "execution_count": 261,
   "metadata": {},
   "outputs": [
    {
     "data": {
      "text/plain": [
       "0.02937605415086988"
      ]
     },
     "execution_count": 261,
     "metadata": {},
     "output_type": "execute_result"
    }
   ],
   "source": [
    "atus_2007_unsp_nilf_hpd = atus_2007_unsp_nilf_multiplied_weight / atus_2007_nilf_weight / 60\n",
    "atus_2007_unsp_nilf_hpd"
   ]
  },
  {
   "cell_type": "markdown",
   "metadata": {},
   "source": [
    "### 2008 Unspecified- Not In Labor Force"
   ]
  },
  {
   "cell_type": "code",
   "execution_count": 262,
   "metadata": {},
   "outputs": [],
   "source": [
    "atus_2008_unsp_nilf = atus_2008_unsp_nilf.groupby([\"TUCASEID\"]).sum().filter([\"TUCASEID\", \"TUACTDUR24\"])\n",
    "#atus_2008_unsp_nilf"
   ]
  },
  {
   "cell_type": "code",
   "execution_count": 263,
   "metadata": {},
   "outputs": [
    {
     "data": {
      "text/plain": [
       "29716878291.036324"
      ]
     },
     "execution_count": 263,
     "metadata": {},
     "output_type": "execute_result"
    }
   ],
   "source": [
    "atus_2008_unsp_nilf_merge = pd.merge(atus_2008_unsp_nilf, multi_resp, on= \"TUCASEID\").filter([\"TUCASEID\",\"TUACTDUR24\",\"TUFNWGTP\"])\n",
    "\n",
    "atus_2008_unsp_nilf_merge[\"Multiplied Weight\"] = atus_2008_unsp_nilf_merge[\"TUACTDUR24\"] * atus_2008_unsp_nilf_merge[\"TUFNWGTP\"]\n",
    "\n",
    "atus_2008_unsp_nilf_multiplied_weight = atus_2008_unsp_nilf_merge[\"Multiplied Weight\"].sum()\n",
    "atus_2008_unsp_nilf_multiplied_weight"
   ]
  },
  {
   "cell_type": "code",
   "execution_count": 264,
   "metadata": {},
   "outputs": [
    {
     "data": {
      "text/plain": [
       "0.019328234437367527"
      ]
     },
     "execution_count": 264,
     "metadata": {},
     "output_type": "execute_result"
    }
   ],
   "source": [
    "atus_2008_unsp_nilf_hpd = atus_2008_unsp_nilf_multiplied_weight / atus_2008_nilf_weight / 60\n",
    "atus_2008_unsp_nilf_hpd"
   ]
  },
  {
   "cell_type": "markdown",
   "metadata": {},
   "source": [
    "### 2009 Unspecified- Not In Labor Force"
   ]
  },
  {
   "cell_type": "code",
   "execution_count": 265,
   "metadata": {},
   "outputs": [],
   "source": [
    "atus_2009_unsp_nilf = atus_2009_unsp_nilf.groupby([\"TUCASEID\"]).sum().filter([\"TUCASEID\", \"TUACTDUR24\"])\n",
    "#atus_2009_unsp_nilf"
   ]
  },
  {
   "cell_type": "code",
   "execution_count": 266,
   "metadata": {},
   "outputs": [
    {
     "data": {
      "text/plain": [
       "34017438798.007027"
      ]
     },
     "execution_count": 266,
     "metadata": {},
     "output_type": "execute_result"
    }
   ],
   "source": [
    "atus_2009_unsp_nilf_merge = pd.merge(atus_2009_unsp_nilf, multi_resp, on= \"TUCASEID\").filter([\"TUCASEID\",\"TUACTDUR24\",\"TUFNWGTP\"])\n",
    "\n",
    "atus_2009_unsp_nilf_merge[\"Multiplied Weight\"] = atus_2009_unsp_nilf_merge[\"TUACTDUR24\"] * atus_2009_unsp_nilf_merge[\"TUFNWGTP\"]\n",
    "\n",
    "atus_2009_unsp_nilf_multiplied_weight = atus_2009_unsp_nilf_merge[\"Multiplied Weight\"].sum()\n",
    "atus_2009_unsp_nilf_multiplied_weight"
   ]
  },
  {
   "cell_type": "code",
   "execution_count": 267,
   "metadata": {},
   "outputs": [
    {
     "data": {
      "text/plain": [
       "0.021428852796058794"
      ]
     },
     "execution_count": 267,
     "metadata": {},
     "output_type": "execute_result"
    }
   ],
   "source": [
    "atus_2009_unsp_nilf_hpd = atus_2009_unsp_nilf_multiplied_weight / atus_2009_nilf_weight / 60\n",
    "atus_2009_unsp_nilf_hpd"
   ]
  },
  {
   "cell_type": "markdown",
   "metadata": {},
   "source": [
    "### 2010 Unspecified- Not In Labor Force"
   ]
  },
  {
   "cell_type": "code",
   "execution_count": 268,
   "metadata": {},
   "outputs": [],
   "source": [
    "atus_2010_unsp_nilf = atus_2010_unsp_nilf.groupby([\"TUCASEID\"]).sum().filter([\"TUCASEID\", \"TUACTDUR24\"])\n",
    "#atus_2010_unsp_nilf"
   ]
  },
  {
   "cell_type": "code",
   "execution_count": 269,
   "metadata": {},
   "outputs": [
    {
     "data": {
      "text/plain": [
       "40385024033.45438"
      ]
     },
     "execution_count": 269,
     "metadata": {},
     "output_type": "execute_result"
    }
   ],
   "source": [
    "atus_2010_unsp_nilf_merge = pd.merge(atus_2010_unsp_nilf, multi_resp, on= \"TUCASEID\").filter([\"TUCASEID\",\"TUACTDUR24\",\"TUFNWGTP\"])\n",
    "\n",
    "atus_2010_unsp_nilf_merge[\"Multiplied Weight\"] = atus_2010_unsp_nilf_merge[\"TUACTDUR24\"] * atus_2010_unsp_nilf_merge[\"TUFNWGTP\"]\n",
    "\n",
    "atus_2010_unsp_nilf_multiplied_weight = atus_2010_unsp_nilf_merge[\"Multiplied Weight\"].sum()\n",
    "atus_2010_unsp_nilf_multiplied_weight"
   ]
  },
  {
   "cell_type": "code",
   "execution_count": 270,
   "metadata": {},
   "outputs": [
    {
     "data": {
      "text/plain": [
       "0.024578394693231767"
      ]
     },
     "execution_count": 270,
     "metadata": {},
     "output_type": "execute_result"
    }
   ],
   "source": [
    "atus_2010_unsp_nilf_hpd = atus_2010_unsp_nilf_multiplied_weight / atus_2010_nilf_weight / 60\n",
    "atus_2010_unsp_nilf_hpd"
   ]
  },
  {
   "cell_type": "markdown",
   "metadata": {},
   "source": [
    "### 2011 Unspecified- Not In Labor Force"
   ]
  },
  {
   "cell_type": "code",
   "execution_count": 271,
   "metadata": {},
   "outputs": [],
   "source": [
    "atus_2011_unsp_nilf = atus_2011_unsp_nilf.groupby([\"TUCASEID\"]).sum().filter([\"TUCASEID\", \"TUACTDUR24\"])\n",
    "#atus_2011_unsp_nilf"
   ]
  },
  {
   "cell_type": "code",
   "execution_count": 272,
   "metadata": {},
   "outputs": [
    {
     "data": {
      "text/plain": [
       "31627531969.92402"
      ]
     },
     "execution_count": 272,
     "metadata": {},
     "output_type": "execute_result"
    }
   ],
   "source": [
    "atus_2011_unsp_nilf_merge = pd.merge(atus_2011_unsp_nilf, multi_resp, on= \"TUCASEID\").filter([\"TUCASEID\",\"TUACTDUR24\",\"TUFNWGTP\"])\n",
    "\n",
    "atus_2011_unsp_nilf_merge[\"Multiplied Weight\"] = atus_2011_unsp_nilf_merge[\"TUACTDUR24\"] * atus_2011_unsp_nilf_merge[\"TUFNWGTP\"]\n",
    "\n",
    "atus_2011_unsp_nilf_multiplied_weight = atus_2011_unsp_nilf_merge[\"Multiplied Weight\"].sum()\n",
    "atus_2011_unsp_nilf_multiplied_weight"
   ]
  },
  {
   "cell_type": "code",
   "execution_count": 273,
   "metadata": {},
   "outputs": [
    {
     "data": {
      "text/plain": [
       "0.018865726589757725"
      ]
     },
     "execution_count": 273,
     "metadata": {},
     "output_type": "execute_result"
    }
   ],
   "source": [
    "atus_2011_unsp_nilf_hpd = atus_2011_unsp_nilf_multiplied_weight / atus_2011_nilf_weight / 60\n",
    "atus_2011_unsp_nilf_hpd"
   ]
  },
  {
   "cell_type": "markdown",
   "metadata": {},
   "source": [
    "### 2012 Unspecified- Not In Labor Force"
   ]
  },
  {
   "cell_type": "code",
   "execution_count": 274,
   "metadata": {},
   "outputs": [],
   "source": [
    "atus_2012_unsp_nilf = atus_2012_unsp_nilf.groupby([\"TUCASEID\"]).sum().filter([\"TUCASEID\", \"TUACTDUR24\"])\n",
    "#atus_2012_unsp_nilf"
   ]
  },
  {
   "cell_type": "code",
   "execution_count": 275,
   "metadata": {},
   "outputs": [
    {
     "data": {
      "text/plain": [
       "37592400350.68397"
      ]
     },
     "execution_count": 275,
     "metadata": {},
     "output_type": "execute_result"
    }
   ],
   "source": [
    "atus_2012_unsp_nilf_merge = pd.merge(atus_2012_unsp_nilf, multi_resp, on= \"TUCASEID\").filter([\"TUCASEID\",\"TUACTDUR24\",\"TUFNWGTP\"])\n",
    "\n",
    "atus_2012_unsp_nilf_merge[\"Multiplied Weight\"] = atus_2012_unsp_nilf_merge[\"TUACTDUR24\"] * atus_2012_unsp_nilf_merge[\"TUFNWGTP\"]\n",
    "\n",
    "atus_2012_unsp_nilf_multiplied_weight = atus_2012_unsp_nilf_merge[\"Multiplied Weight\"].sum()\n",
    "atus_2012_unsp_nilf_multiplied_weight"
   ]
  },
  {
   "cell_type": "code",
   "execution_count": 276,
   "metadata": {},
   "outputs": [
    {
     "data": {
      "text/plain": [
       "0.02108921958072211"
      ]
     },
     "execution_count": 276,
     "metadata": {},
     "output_type": "execute_result"
    }
   ],
   "source": [
    "atus_2012_unsp_nilf_hpd = atus_2012_unsp_nilf_multiplied_weight / atus_2012_nilf_weight / 60\n",
    "atus_2012_unsp_nilf_hpd"
   ]
  },
  {
   "cell_type": "markdown",
   "metadata": {},
   "source": [
    "### 2013 Unspecified- Not In Labor Force"
   ]
  },
  {
   "cell_type": "code",
   "execution_count": 277,
   "metadata": {},
   "outputs": [],
   "source": [
    "atus_2013_unsp_nilf = atus_2013_unsp_nilf.groupby([\"TUCASEID\"]).sum().filter([\"TUCASEID\", \"TUACTDUR24\"])\n",
    "#atus_2013_unsp_nilf"
   ]
  },
  {
   "cell_type": "code",
   "execution_count": 278,
   "metadata": {},
   "outputs": [
    {
     "data": {
      "text/plain": [
       "22108156743.83189"
      ]
     },
     "execution_count": 278,
     "metadata": {},
     "output_type": "execute_result"
    }
   ],
   "source": [
    "atus_2013_unsp_nilf_merge = pd.merge(atus_2013_unsp_nilf, multi_resp, on= \"TUCASEID\").filter([\"TUCASEID\",\"TUACTDUR24\",\"TUFNWGTP\"])\n",
    "\n",
    "atus_2013_unsp_nilf_merge[\"Multiplied Weight\"] = atus_2013_unsp_nilf_merge[\"TUACTDUR24\"] * atus_2013_unsp_nilf_merge[\"TUFNWGTP\"]\n",
    "\n",
    "atus_2013_unsp_nilf_multiplied_weight = atus_2013_unsp_nilf_merge[\"Multiplied Weight\"].sum()\n",
    "atus_2013_unsp_nilf_multiplied_weight"
   ]
  },
  {
   "cell_type": "code",
   "execution_count": 279,
   "metadata": {},
   "outputs": [
    {
     "data": {
      "text/plain": [
       "0.01206105635884794"
      ]
     },
     "execution_count": 279,
     "metadata": {},
     "output_type": "execute_result"
    }
   ],
   "source": [
    "atus_2013_unsp_nilf_hpd = atus_2013_unsp_nilf_multiplied_weight / atus_2013_nilf_weight / 60\n",
    "atus_2013_unsp_nilf_hpd"
   ]
  },
  {
   "cell_type": "markdown",
   "metadata": {},
   "source": [
    "### 2014 Unspecified- Not In Labor Force"
   ]
  },
  {
   "cell_type": "code",
   "execution_count": 280,
   "metadata": {},
   "outputs": [],
   "source": [
    "atus_2014_unsp_nilf = atus_2014_unsp_nilf.groupby([\"TUCASEID\"]).sum().filter([\"TUCASEID\", \"TUACTDUR24\"])\n",
    "#atus_2014_unsp_nilf"
   ]
  },
  {
   "cell_type": "code",
   "execution_count": 281,
   "metadata": {},
   "outputs": [
    {
     "data": {
      "text/plain": [
       "31051925821.60458"
      ]
     },
     "execution_count": 281,
     "metadata": {},
     "output_type": "execute_result"
    }
   ],
   "source": [
    "atus_2014_unsp_nilf_merge = pd.merge(atus_2014_unsp_nilf, multi_resp, on= \"TUCASEID\").filter([\"TUCASEID\",\"TUACTDUR24\",\"TUFNWGTP\"])\n",
    "\n",
    "atus_2014_unsp_nilf_merge[\"Multiplied Weight\"] = atus_2014_unsp_nilf_merge[\"TUACTDUR24\"] * atus_2014_unsp_nilf_merge[\"TUFNWGTP\"]\n",
    "\n",
    "atus_2014_unsp_nilf_multiplied_weight = atus_2014_unsp_nilf_merge[\"Multiplied Weight\"].sum()\n",
    "atus_2014_unsp_nilf_multiplied_weight"
   ]
  },
  {
   "cell_type": "code",
   "execution_count": 282,
   "metadata": {},
   "outputs": [
    {
     "data": {
      "text/plain": [
       "0.016715791001388335"
      ]
     },
     "execution_count": 282,
     "metadata": {},
     "output_type": "execute_result"
    }
   ],
   "source": [
    "atus_2014_unsp_nilf_hpd = atus_2014_unsp_nilf_multiplied_weight / atus_2014_nilf_weight / 60\n",
    "atus_2014_unsp_nilf_hpd"
   ]
  },
  {
   "cell_type": "markdown",
   "metadata": {},
   "source": [
    "### 2015 Unspecified- Not In Labor Force"
   ]
  },
  {
   "cell_type": "code",
   "execution_count": 283,
   "metadata": {},
   "outputs": [],
   "source": [
    "atus_2015_unsp_nilf = atus_2015_unsp_nilf.groupby([\"TUCASEID\"]).sum().filter([\"TUCASEID\", \"TUACTDUR24\"])\n",
    "#atus_2015_unsp_nilf"
   ]
  },
  {
   "cell_type": "code",
   "execution_count": 284,
   "metadata": {},
   "outputs": [
    {
     "data": {
      "text/plain": [
       "24977843302.37083"
      ]
     },
     "execution_count": 284,
     "metadata": {},
     "output_type": "execute_result"
    }
   ],
   "source": [
    "atus_2015_unsp_nilf_merge = pd.merge(atus_2015_unsp_nilf, multi_resp, on= \"TUCASEID\").filter([\"TUCASEID\",\"TUACTDUR24\",\"TUFNWGTP\"])\n",
    "\n",
    "atus_2015_unsp_nilf_merge[\"Multiplied Weight\"] = atus_2015_unsp_nilf_merge[\"TUACTDUR24\"] * atus_2015_unsp_nilf_merge[\"TUFNWGTP\"]\n",
    "\n",
    "atus_2015_unsp_nilf_multiplied_weight = atus_2015_unsp_nilf_merge[\"Multiplied Weight\"].sum()\n",
    "atus_2015_unsp_nilf_multiplied_weight"
   ]
  },
  {
   "cell_type": "code",
   "execution_count": 285,
   "metadata": {},
   "outputs": [
    {
     "data": {
      "text/plain": [
       "0.013369855475352835"
      ]
     },
     "execution_count": 285,
     "metadata": {},
     "output_type": "execute_result"
    }
   ],
   "source": [
    "atus_2015_unsp_nilf_hpd = atus_2015_unsp_nilf_multiplied_weight / atus_2015_nilf_weight / 60\n",
    "atus_2015_unsp_nilf_hpd"
   ]
  },
  {
   "cell_type": "markdown",
   "metadata": {},
   "source": [
    "### 2016 Unspecified- Not In Labor Force"
   ]
  },
  {
   "cell_type": "code",
   "execution_count": 286,
   "metadata": {},
   "outputs": [],
   "source": [
    "atus_2016_unsp_nilf = atus_2016_unsp_nilf.groupby([\"TUCASEID\"]).sum().filter([\"TUCASEID\", \"TUACTDUR24\"])\n",
    "#atus_2016_unsp_nilf"
   ]
  },
  {
   "cell_type": "code",
   "execution_count": 287,
   "metadata": {},
   "outputs": [
    {
     "data": {
      "text/plain": [
       "49651383559.75206"
      ]
     },
     "execution_count": 287,
     "metadata": {},
     "output_type": "execute_result"
    }
   ],
   "source": [
    "atus_2016_unsp_nilf_merge = pd.merge(atus_2016_unsp_nilf, multi_resp, on= \"TUCASEID\").filter([\"TUCASEID\",\"TUACTDUR24\",\"TUFNWGTP\"])\n",
    "\n",
    "atus_2016_unsp_nilf_merge[\"Multiplied Weight\"] = atus_2016_unsp_nilf_merge[\"TUACTDUR24\"] * atus_2016_unsp_nilf_merge[\"TUFNWGTP\"]\n",
    "\n",
    "atus_2016_unsp_nilf_multiplied_weight = atus_2016_unsp_nilf_merge[\"Multiplied Weight\"].sum()\n",
    "atus_2016_unsp_nilf_multiplied_weight"
   ]
  },
  {
   "cell_type": "code",
   "execution_count": 288,
   "metadata": {},
   "outputs": [
    {
     "data": {
      "text/plain": [
       "0.026444966244706346"
      ]
     },
     "execution_count": 288,
     "metadata": {},
     "output_type": "execute_result"
    }
   ],
   "source": [
    "atus_2016_unsp_nilf_hpd = atus_2016_unsp_nilf_multiplied_weight / atus_2016_nilf_weight / 60\n",
    "atus_2016_unsp_nilf_hpd"
   ]
  },
  {
   "cell_type": "markdown",
   "metadata": {},
   "source": [
    "### 2017 Unspecified- Not In Labor Force"
   ]
  },
  {
   "cell_type": "code",
   "execution_count": 289,
   "metadata": {},
   "outputs": [],
   "source": [
    "atus_2017_unsp_nilf = atus_2017_unsp_nilf.groupby([\"TUCASEID\"]).sum().filter([\"TUCASEID\", \"TUACTDUR24\"])\n",
    "#atus_2017_unsp_nilf"
   ]
  },
  {
   "cell_type": "code",
   "execution_count": 290,
   "metadata": {},
   "outputs": [
    {
     "data": {
      "text/plain": [
       "45615924424.16437"
      ]
     },
     "execution_count": 290,
     "metadata": {},
     "output_type": "execute_result"
    }
   ],
   "source": [
    "atus_2017_unsp_nilf_merge = pd.merge(atus_2017_unsp_nilf, multi_resp, on= \"TUCASEID\").filter([\"TUCASEID\",\"TUACTDUR24\",\"TUFNWGTP\"])\n",
    "\n",
    "atus_2017_unsp_nilf_merge[\"Multiplied Weight\"] = atus_2017_unsp_nilf_merge[\"TUACTDUR24\"] * atus_2017_unsp_nilf_merge[\"TUFNWGTP\"]\n",
    "\n",
    "atus_2017_unsp_nilf_multiplied_weight = atus_2017_unsp_nilf_merge[\"Multiplied Weight\"].sum()\n",
    "atus_2017_unsp_nilf_multiplied_weight"
   ]
  },
  {
   "cell_type": "code",
   "execution_count": 291,
   "metadata": {},
   "outputs": [
    {
     "data": {
      "text/plain": [
       "0.023903785018733057"
      ]
     },
     "execution_count": 291,
     "metadata": {},
     "output_type": "execute_result"
    }
   ],
   "source": [
    "atus_2017_unsp_nilf_hpd = atus_2017_unsp_nilf_multiplied_weight / atus_2017_nilf_weight / 60\n",
    "atus_2017_unsp_nilf_hpd"
   ]
  },
  {
   "cell_type": "markdown",
   "metadata": {},
   "source": [
    "### 2018 Unspecified- Not In Labor Force"
   ]
  },
  {
   "cell_type": "code",
   "execution_count": 292,
   "metadata": {},
   "outputs": [],
   "source": [
    "atus_2018_unsp_nilf = atus_2018_unsp_nilf.groupby([\"TUCASEID\"]).sum().filter([\"TUCASEID\", \"TUACTDUR24\"])\n",
    "#atus_2018_unsp_nilf"
   ]
  },
  {
   "cell_type": "code",
   "execution_count": 293,
   "metadata": {},
   "outputs": [
    {
     "data": {
      "text/plain": [
       "47047432624.98837"
      ]
     },
     "execution_count": 293,
     "metadata": {},
     "output_type": "execute_result"
    }
   ],
   "source": [
    "atus_2018_unsp_nilf_merge = pd.merge(atus_2018_unsp_nilf, multi_resp, on= \"TUCASEID\").filter([\"TUCASEID\",\"TUACTDUR24\",\"TUFNWGTP\"])\n",
    "\n",
    "atus_2018_unsp_nilf_merge[\"Multiplied Weight\"] = atus_2018_unsp_nilf_merge[\"TUACTDUR24\"] * atus_2018_unsp_nilf_merge[\"TUFNWGTP\"]\n",
    "\n",
    "atus_2018_unsp_nilf_multiplied_weight = atus_2018_unsp_nilf_merge[\"Multiplied Weight\"].sum()\n",
    "atus_2018_unsp_nilf_multiplied_weight"
   ]
  },
  {
   "cell_type": "code",
   "execution_count": 294,
   "metadata": {},
   "outputs": [
    {
     "data": {
      "text/plain": [
       "0.024651022012183024"
      ]
     },
     "execution_count": 294,
     "metadata": {},
     "output_type": "execute_result"
    }
   ],
   "source": [
    "atus_2018_unsp_nilf_hpd = atus_2018_unsp_nilf_multiplied_weight / atus_2018_nilf_weight / 60\n",
    "atus_2018_unsp_nilf_hpd"
   ]
  },
  {
   "cell_type": "markdown",
   "metadata": {},
   "source": [
    "### 2019 Unspecified- Not In Labor Force"
   ]
  },
  {
   "cell_type": "code",
   "execution_count": 295,
   "metadata": {},
   "outputs": [],
   "source": [
    "atus_2019_unsp_nilf = atus_2019_unsp_nilf.groupby([\"TUCASEID\"]).sum().filter([\"TUCASEID\", \"TUACTDUR24\"])\n",
    "#atus_2019_unsp_nilf"
   ]
  },
  {
   "cell_type": "code",
   "execution_count": 296,
   "metadata": {},
   "outputs": [
    {
     "data": {
      "text/plain": [
       "36963271974.552635"
      ]
     },
     "execution_count": 296,
     "metadata": {},
     "output_type": "execute_result"
    }
   ],
   "source": [
    "atus_2019_unsp_nilf_merge = pd.merge(atus_2019_unsp_nilf, multi_resp, on= \"TUCASEID\").filter([\"TUCASEID\",\"TUACTDUR24\",\"TUFNWGTP\"])\n",
    "\n",
    "atus_2019_unsp_nilf_merge[\"Multiplied Weight\"] = atus_2019_unsp_nilf_merge[\"TUACTDUR24\"] * atus_2019_unsp_nilf_merge[\"TUFNWGTP\"]\n",
    "\n",
    "atus_2019_unsp_nilf_multiplied_weight = atus_2019_unsp_nilf_merge[\"Multiplied Weight\"].sum()\n",
    "atus_2019_unsp_nilf_multiplied_weight"
   ]
  },
  {
   "cell_type": "code",
   "execution_count": 297,
   "metadata": {},
   "outputs": [
    {
     "data": {
      "text/plain": [
       "0.019222305234374907"
      ]
     },
     "execution_count": 297,
     "metadata": {},
     "output_type": "execute_result"
    }
   ],
   "source": [
    "atus_2019_unsp_nilf_hpd = atus_2019_unsp_nilf_multiplied_weight / atus_2019_nilf_weight / 60\n",
    "atus_2019_unsp_nilf_hpd"
   ]
  },
  {
   "cell_type": "markdown",
   "metadata": {},
   "source": [
    "### Regresssion: Unespecified - Not In Labor Force"
   ]
  },
  {
   "cell_type": "markdown",
   "metadata": {},
   "source": [
    "#### 2003 -2012 Regression"
   ]
  },
  {
   "cell_type": "code",
   "execution_count": 298,
   "metadata": {},
   "outputs": [],
   "source": [
    "year = np.array([2003, 2004, 2005, 2006, 2007, 2008, 2009, 2010,2011,2012]).reshape((-1, 1))\n",
    "activity_hours_per_day = np.array([atus_2003_unsp_nilf_hpd, atus_2004_unsp_nilf_hpd, atus_2005_unsp_nilf_hpd,\n",
    "                                   atus_2006_unsp_nilf_hpd, atus_2007_unsp_nilf_hpd, atus_2008_unsp_nilf_hpd,\n",
    "                                   atus_2009_unsp_nilf_hpd, atus_2010_unsp_nilf_hpd, atus_2011_unsp_nilf_hpd,\n",
    "                                   atus_2012_unsp_nilf_hpd]).reshape((-1, 1))\n",
    "\n",
    "activity_hours_per_yr = [i * 365 for i in activity_hours_per_day]\n",
    "#activity_hours_per_yr"
   ]
  },
  {
   "cell_type": "code",
   "execution_count": 299,
   "metadata": {},
   "outputs": [
    {
     "data": {
      "image/png": "[encoded data removed]",
      "text/plain": [
       "<Figure size 432x288 with 1 Axes>"
      ]
     },
     "metadata": {
      "needs_background": "light"
     },
     "output_type": "display_data"
    }
   ],
   "source": [
    "x = year\n",
    "y = activity_hours_per_yr\n",
    "x, y = np.array(x), np.array(y)\n",
    "\n",
    "model = LinearRegression().fit(x, y)\n",
    "\n",
    "y_pred = model.predict(x)  \n",
    "\n",
    "plt.scatter(x, y)\n",
    "plt.plot(x, y_pred, color='red')\n",
    "plt.show()"
   ]
  },
  {
   "cell_type": "code",
   "execution_count": 300,
   "metadata": {},
   "outputs": [
    {
     "data": {
      "text/plain": [
       "0.06471860840078425"
      ]
     },
     "execution_count": 300,
     "metadata": {},
     "output_type": "execute_result"
    }
   ],
   "source": [
    "coefficient_of_determination = model.score(x,y) #R sqaure value \n",
    "coefficient_of_determination"
   ]
  },
  {
   "cell_type": "code",
   "execution_count": 301,
   "metadata": {},
   "outputs": [
    {
     "data": {
      "text/plain": [
       "array([[-0.1281856]])"
      ]
     },
     "execution_count": 301,
     "metadata": {},
     "output_type": "execute_result"
    }
   ],
   "source": [
    "all_act_2012_res_nilf_slope = model.coef_\n",
    "all_act_2012_res_nilf_slope"
   ]
  },
  {
   "cell_type": "markdown",
   "metadata": {},
   "source": [
    "#### 2003-2019 Regression"
   ]
  },
  {
   "cell_type": "code",
   "execution_count": 302,
   "metadata": {},
   "outputs": [],
   "source": [
    "year = np.array([2003, 2004, 2005, 2006, 2007, 2008, 2009, 2010,2011,2012,2013,2014,2015,2016,2017,2018,2019]).reshape((-1, 1))\n",
    "activity_hours_per_day = np.array([atus_2003_unsp_nilf_hpd, atus_2004_unsp_nilf_hpd, atus_2005_unsp_nilf_hpd,\n",
    "                                   atus_2006_unsp_nilf_hpd, atus_2007_unsp_nilf_hpd, atus_2008_unsp_nilf_hpd,\n",
    "                                   atus_2009_unsp_nilf_hpd, atus_2010_unsp_nilf_hpd, atus_2011_unsp_nilf_hpd,\n",
    "                                   atus_2012_unsp_nilf_hpd, atus_2013_unsp_nilf_hpd, atus_2014_unsp_nilf_hpd,\n",
    "                                   atus_2015_unsp_nilf_hpd, atus_2016_unsp_nilf_hpd, atus_2017_unsp_nilf_hpd,\n",
    "                                   atus_2018_unsp_nilf_hpd, atus_2019_unsp_nilf_hpd]).reshape((-1, 1))\n",
    "\n",
    "activity_hours_per_yr = [i * 365 for i in activity_hours_per_day]\n",
    "#activity_hours_per_yr"
   ]
  },
  {
   "cell_type": "code",
   "execution_count": 303,
   "metadata": {},
   "outputs": [
    {
     "data": {
      "image/png": "[encoded data removed]",
      "text/plain": [
       "<Figure size 432x288 with 1 Axes>"
      ]
     },
     "metadata": {
      "needs_background": "light"
     },
     "output_type": "display_data"
    }
   ],
   "source": [
    "x = year\n",
    "y = activity_hours_per_yr\n",
    "x, y = np.array(x), np.array(y)\n",
    "\n",
    "model = LinearRegression().fit(x, y)\n",
    "\n",
    "y_pred = model.predict(x)  \n",
    "\n",
    "plt.scatter(x, y)\n",
    "plt.plot(x, y_pred, color='red')\n",
    "plt.show()"
   ]
  },
  {
   "cell_type": "code",
   "execution_count": 304,
   "metadata": {},
   "outputs": [
    {
     "data": {
      "text/plain": [
       "0.03677600909421341"
      ]
     },
     "execution_count": 304,
     "metadata": {},
     "output_type": "execute_result"
    }
   ],
   "source": [
    "coefficient_of_determination = model.score(x,y) #R sqaure value \n",
    "coefficient_of_determination"
   ]
  },
  {
   "cell_type": "code",
   "execution_count": 305,
   "metadata": {},
   "outputs": [
    {
     "data": {
      "text/plain": [
       "array([[-0.06775027]])"
      ]
     },
     "execution_count": 305,
     "metadata": {},
     "output_type": "execute_result"
    }
   ],
   "source": [
    "all_act_2019_res_nilf_slope = model.coef_\n",
    "all_act_2019_res_nilf_slope"
   ]
  },
  {
   "cell_type": "code",
   "execution_count": null,
   "metadata": {},
   "outputs": [],
   "source": []
  }
 ],
 "metadata": {
  "kernelspec": {
   "display_name": "Python 3",
   "language": "python",
   "name": "python3"
  },
  "language_info": {
   "codemirror_mode": {
    "name": "ipython",
    "version": 3
   },
   "file_extension": ".py",
   "mimetype": "text/x-python",
   "name": "python",
   "nbconvert_exporter": "python",
   "pygments_lexer": "ipython3",
   "version": "3.8.3"
  }
 },
 "nbformat": 4,
 "nbformat_minor": 4
}
