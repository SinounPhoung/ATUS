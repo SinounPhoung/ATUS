{
 "cells": [
  {
   "cell_type": "code",
   "execution_count": 1,
   "metadata": {},
   "outputs": [],
   "source": [
    "import pandas as pd \n",
    "import numpy as np \n",
    "%matplotlib inline\n",
    "import matplotlib.pyplot as plt\n",
    "from sklearn.linear_model import LinearRegression"
   ]
  },
  {
   "cell_type": "code",
   "execution_count": 2,
   "metadata": {},
   "outputs": [],
   "source": [
    "multi_act = pd.read_csv(\"ATUS DATA 03-19/atus_activity_0319.dat\", \n",
    "                        dtype= {\"TRCODEP\": object, \"TRTIER1P\": object, \"TRTIER2P\": object}) #using 2003-2019 activity file\n",
    "#multi_act"
   ]
  },
  {
   "cell_type": "code",
   "execution_count": 3,
   "metadata": {},
   "outputs": [
    {
     "data": {
      "text/plain": [
       "Index(['TUCASEID', 'TUACTIVITY_N', 'TUACTDUR24', 'TUCC5', 'TUCC5B',\n",
       "       'TRTCCTOT_LN', 'TRTCC_LN', 'TRTCOC_LN', 'TUSTARTTIM', 'TUSTOPTIME',\n",
       "       'TRCODEP', 'TRTIER1P', 'TRTIER2P', 'TUCC8', 'TUCUMDUR', 'TUCUMDUR24',\n",
       "       'TUACTDUR', 'TR_03CC57', 'TRTO_LN', 'TRTONHH_LN', 'TRTOHH_LN',\n",
       "       'TRTHH_LN', 'TRTNOHH_LN', 'TEWHERE', 'TUCC7', 'TRWBELIG', 'TRTEC_LN',\n",
       "       'TUEC24', 'TUDURSTOP'],\n",
       "      dtype='object')"
      ]
     },
     "execution_count": 3,
     "metadata": {},
     "output_type": "execute_result"
    }
   ],
   "source": [
    "multi_act.columns  #CC = childcare, EC = elderly care"
   ]
  },
  {
   "cell_type": "code",
   "execution_count": 4,
   "metadata": {},
   "outputs": [],
   "source": [
    "multi_resp = pd.read_csv(\"ATUS DATA 03-19/atus_resp_0319.dat\")\n",
    "#multi_resp"
   ]
  },
  {
   "cell_type": "code",
   "execution_count": 5,
   "metadata": {},
   "outputs": [],
   "source": [
    "#multi_resp.columns.to_list()"
   ]
  },
  {
   "cell_type": "code",
   "execution_count": 6,
   "metadata": {},
   "outputs": [],
   "source": [
    "multi_merged = pd.merge(multi_act, multi_resp, on=\"TUCASEID\")\n",
    "multi_merged = multi_merged.filter([\"TUCASEID\",\"TUACTDUR24\",\"TUCUMDUR\",\"TRTIER1P\",\"TRTIER2P\",\"TRCODEP\", \n",
    "                                    \"TEWHERE\",\"TELFS\", \"TUFNWGTP\",\"TUSTARTTIM\",\"TUSTOPTIME\", \"TUYEAR\"])\n",
    "#multi_merged"
   ]
  },
  {
   "cell_type": "code",
   "execution_count": 7,
   "metadata": {},
   "outputs": [],
   "source": [
    "#TELFS = employment status \n",
    "#multi_merged[\"TELFS\"].unique()"
   ]
  },
  {
   "cell_type": "markdown",
   "metadata": {},
   "source": [
    "# 2003-2019 Residential"
   ]
  },
  {
   "cell_type": "code",
   "execution_count": 8,
   "metadata": {},
   "outputs": [
    {
     "data": {
      "text/html": [
       "<div>\n",
       "<style scoped>\n",
       "    .dataframe tbody tr th:only-of-type {\n",
       "        vertical-align: middle;\n",
       "    }\n",
       "\n",
       "    .dataframe tbody tr th {\n",
       "        vertical-align: top;\n",
       "    }\n",
       "\n",
       "    .dataframe thead th {\n",
       "        text-align: right;\n",
       "    }\n",
       "</style>\n",
       "<table border=\"1\" class=\"dataframe\">\n",
       "  <thead>\n",
       "    <tr style=\"text-align: right;\">\n",
       "      <th></th>\n",
       "      <th>TUCASEID</th>\n",
       "      <th>TUACTDUR24</th>\n",
       "      <th>TUCUMDUR</th>\n",
       "      <th>TRTIER1P</th>\n",
       "      <th>TRTIER2P</th>\n",
       "      <th>TRCODEP</th>\n",
       "      <th>TEWHERE</th>\n",
       "      <th>TELFS</th>\n",
       "      <th>TUFNWGTP</th>\n",
       "      <th>TUSTARTTIM</th>\n",
       "      <th>TUSTOPTIME</th>\n",
       "      <th>TUYEAR</th>\n",
       "    </tr>\n",
       "  </thead>\n",
       "  <tbody>\n",
       "    <tr>\n",
       "      <th>3</th>\n",
       "      <td>20030100013280</td>\n",
       "      <td>150</td>\n",
       "      <td>840</td>\n",
       "      <td>12</td>\n",
       "      <td>1203</td>\n",
       "      <td>120303</td>\n",
       "      <td>1</td>\n",
       "      <td>2</td>\n",
       "      <td>8.155463e+06</td>\n",
       "      <td>15:30:00</td>\n",
       "      <td>18:00:00</td>\n",
       "      <td>2003</td>\n",
       "    </tr>\n",
       "    <tr>\n",
       "      <th>4</th>\n",
       "      <td>20030100013280</td>\n",
       "      <td>5</td>\n",
       "      <td>845</td>\n",
       "      <td>11</td>\n",
       "      <td>1101</td>\n",
       "      <td>110101</td>\n",
       "      <td>1</td>\n",
       "      <td>2</td>\n",
       "      <td>8.155463e+06</td>\n",
       "      <td>18:00:00</td>\n",
       "      <td>18:05:00</td>\n",
       "      <td>2003</td>\n",
       "    </tr>\n",
       "    <tr>\n",
       "      <th>5</th>\n",
       "      <td>20030100013280</td>\n",
       "      <td>175</td>\n",
       "      <td>1020</td>\n",
       "      <td>12</td>\n",
       "      <td>1203</td>\n",
       "      <td>120303</td>\n",
       "      <td>1</td>\n",
       "      <td>2</td>\n",
       "      <td>8.155463e+06</td>\n",
       "      <td>18:05:00</td>\n",
       "      <td>21:00:00</td>\n",
       "      <td>2003</td>\n",
       "    </tr>\n",
       "    <tr>\n",
       "      <th>10</th>\n",
       "      <td>20030100013344</td>\n",
       "      <td>60</td>\n",
       "      <td>240</td>\n",
       "      <td>11</td>\n",
       "      <td>1101</td>\n",
       "      <td>110101</td>\n",
       "      <td>1</td>\n",
       "      <td>1</td>\n",
       "      <td>1.735323e+06</td>\n",
       "      <td>07:00:00</td>\n",
       "      <td>08:00:00</td>\n",
       "      <td>2003</td>\n",
       "    </tr>\n",
       "    <tr>\n",
       "      <th>12</th>\n",
       "      <td>20030100013344</td>\n",
       "      <td>60</td>\n",
       "      <td>360</td>\n",
       "      <td>03</td>\n",
       "      <td>0301</td>\n",
       "      <td>030101</td>\n",
       "      <td>1</td>\n",
       "      <td>1</td>\n",
       "      <td>1.735323e+06</td>\n",
       "      <td>09:00:00</td>\n",
       "      <td>10:00:00</td>\n",
       "      <td>2003</td>\n",
       "    </tr>\n",
       "    <tr>\n",
       "      <th>...</th>\n",
       "      <td>...</td>\n",
       "      <td>...</td>\n",
       "      <td>...</td>\n",
       "      <td>...</td>\n",
       "      <td>...</td>\n",
       "      <td>...</td>\n",
       "      <td>...</td>\n",
       "      <td>...</td>\n",
       "      <td>...</td>\n",
       "      <td>...</td>\n",
       "      <td>...</td>\n",
       "      <td>...</td>\n",
       "    </tr>\n",
       "    <tr>\n",
       "      <th>4121269</th>\n",
       "      <td>20191212192270</td>\n",
       "      <td>180</td>\n",
       "      <td>180</td>\n",
       "      <td>02</td>\n",
       "      <td>0209</td>\n",
       "      <td>020902</td>\n",
       "      <td>1</td>\n",
       "      <td>1</td>\n",
       "      <td>1.072172e+07</td>\n",
       "      <td>04:00:00</td>\n",
       "      <td>07:00:00</td>\n",
       "      <td>2019</td>\n",
       "    </tr>\n",
       "    <tr>\n",
       "      <th>4121271</th>\n",
       "      <td>20191212192270</td>\n",
       "      <td>75</td>\n",
       "      <td>345</td>\n",
       "      <td>12</td>\n",
       "      <td>1201</td>\n",
       "      <td>120101</td>\n",
       "      <td>1</td>\n",
       "      <td>1</td>\n",
       "      <td>1.072172e+07</td>\n",
       "      <td>08:30:00</td>\n",
       "      <td>09:45:00</td>\n",
       "      <td>2019</td>\n",
       "    </tr>\n",
       "    <tr>\n",
       "      <th>4121276</th>\n",
       "      <td>20191212192270</td>\n",
       "      <td>20</td>\n",
       "      <td>502</td>\n",
       "      <td>11</td>\n",
       "      <td>1101</td>\n",
       "      <td>110101</td>\n",
       "      <td>1</td>\n",
       "      <td>1</td>\n",
       "      <td>1.072172e+07</td>\n",
       "      <td>12:02:00</td>\n",
       "      <td>12:22:00</td>\n",
       "      <td>2019</td>\n",
       "    </tr>\n",
       "    <tr>\n",
       "      <th>4121278</th>\n",
       "      <td>20191212192270</td>\n",
       "      <td>98</td>\n",
       "      <td>690</td>\n",
       "      <td>03</td>\n",
       "      <td>0301</td>\n",
       "      <td>030103</td>\n",
       "      <td>1</td>\n",
       "      <td>1</td>\n",
       "      <td>1.072172e+07</td>\n",
       "      <td>13:52:00</td>\n",
       "      <td>15:30:00</td>\n",
       "      <td>2019</td>\n",
       "    </tr>\n",
       "    <tr>\n",
       "      <th>4121280</th>\n",
       "      <td>20191212192270</td>\n",
       "      <td>390</td>\n",
       "      <td>1110</td>\n",
       "      <td>12</td>\n",
       "      <td>1201</td>\n",
       "      <td>120101</td>\n",
       "      <td>3</td>\n",
       "      <td>1</td>\n",
       "      <td>1.072172e+07</td>\n",
       "      <td>16:00:00</td>\n",
       "      <td>22:30:00</td>\n",
       "      <td>2019</td>\n",
       "    </tr>\n",
       "  </tbody>\n",
       "</table>\n",
       "<p>1865507 rows × 12 columns</p>\n",
       "</div>"
      ],
      "text/plain": [
       "               TUCASEID  TUACTDUR24  TUCUMDUR TRTIER1P TRTIER2P TRCODEP  \\\n",
       "3        20030100013280         150       840       12     1203  120303   \n",
       "4        20030100013280           5       845       11     1101  110101   \n",
       "5        20030100013280         175      1020       12     1203  120303   \n",
       "10       20030100013344          60       240       11     1101  110101   \n",
       "12       20030100013344          60       360       03     0301  030101   \n",
       "...                 ...         ...       ...      ...      ...     ...   \n",
       "4121269  20191212192270         180       180       02     0209  020902   \n",
       "4121271  20191212192270          75       345       12     1201  120101   \n",
       "4121276  20191212192270          20       502       11     1101  110101   \n",
       "4121278  20191212192270          98       690       03     0301  030103   \n",
       "4121280  20191212192270         390      1110       12     1201  120101   \n",
       "\n",
       "         TEWHERE  TELFS      TUFNWGTP TUSTARTTIM TUSTOPTIME  TUYEAR  \n",
       "3              1      2  8.155463e+06   15:30:00   18:00:00    2003  \n",
       "4              1      2  8.155463e+06   18:00:00   18:05:00    2003  \n",
       "5              1      2  8.155463e+06   18:05:00   21:00:00    2003  \n",
       "10             1      1  1.735323e+06   07:00:00   08:00:00    2003  \n",
       "12             1      1  1.735323e+06   09:00:00   10:00:00    2003  \n",
       "...          ...    ...           ...        ...        ...     ...  \n",
       "4121269        1      1  1.072172e+07   04:00:00   07:00:00    2019  \n",
       "4121271        1      1  1.072172e+07   08:30:00   09:45:00    2019  \n",
       "4121276        1      1  1.072172e+07   12:02:00   12:22:00    2019  \n",
       "4121278        1      1  1.072172e+07   13:52:00   15:30:00    2019  \n",
       "4121280        3      1  1.072172e+07   16:00:00   22:30:00    2019  \n",
       "\n",
       "[1865507 rows x 12 columns]"
      ]
     },
     "execution_count": 8,
     "metadata": {},
     "output_type": "execute_result"
    }
   ],
   "source": [
    "#only residential location from 2003-2019\n",
    "residential_location = [1,3]\n",
    "atus_multi_yr_res = multi_merged[multi_merged[\"TEWHERE\"].isin(residential_location)]\n",
    "atus_multi_yr_res"
   ]
  },
  {
   "cell_type": "code",
   "execution_count": 9,
   "metadata": {},
   "outputs": [
    {
     "data": {
      "text/plain": [
       "array(['12', '11', '03', '02', '16', '05', '14', '04', '06', '07', '50',\n",
       "       '08', '18', '01', '15', '13', '09', '10'], dtype=object)"
      ]
     },
     "execution_count": 9,
     "metadata": {},
     "output_type": "execute_result"
    }
   ],
   "source": [
    "atus_multi_yr_res[\"TRTIER1P\"].unique()"
   ]
  },
  {
   "cell_type": "code",
   "execution_count": 10,
   "metadata": {},
   "outputs": [],
   "source": [
    "#atus residential year seperation by  population \n",
    "atus_2003_res = atus_multi_yr_res[atus_multi_yr_res[\"TUCASEID\"].apply(str).str.startswith(\"2003\")]\n",
    "atus_2004_res = atus_multi_yr_res[atus_multi_yr_res[\"TUCASEID\"].apply(str).str.startswith(\"2004\")]\n",
    "atus_2005_res = atus_multi_yr_res[atus_multi_yr_res[\"TUCASEID\"].apply(str).str.startswith(\"2005\")]\n",
    "atus_2006_res = atus_multi_yr_res[atus_multi_yr_res[\"TUCASEID\"].apply(str).str.startswith(\"2006\")]\n",
    "atus_2007_res = atus_multi_yr_res[atus_multi_yr_res[\"TUCASEID\"].apply(str).str.startswith(\"2007\")]\n",
    "atus_2008_res = atus_multi_yr_res[atus_multi_yr_res[\"TUCASEID\"].apply(str).str.startswith(\"2008\")]\n",
    "atus_2009_res = atus_multi_yr_res[atus_multi_yr_res[\"TUCASEID\"].apply(str).str.startswith(\"2009\")]\n",
    "atus_2010_res = atus_multi_yr_res[atus_multi_yr_res[\"TUCASEID\"].apply(str).str.startswith(\"2010\")]\n",
    "atus_2011_res = atus_multi_yr_res[atus_multi_yr_res[\"TUCASEID\"].apply(str).str.startswith(\"2011\")]\n",
    "atus_2012_res = atus_multi_yr_res[atus_multi_yr_res[\"TUCASEID\"].apply(str).str.startswith(\"2012\")]\n",
    "atus_2013_res = atus_multi_yr_res[atus_multi_yr_res[\"TUCASEID\"].apply(str).str.startswith(\"2013\")]\n",
    "atus_2014_res = atus_multi_yr_res[atus_multi_yr_res[\"TUCASEID\"].apply(str).str.startswith(\"2014\")]\n",
    "atus_2015_res = atus_multi_yr_res[atus_multi_yr_res[\"TUCASEID\"].apply(str).str.startswith(\"2015\")]\n",
    "atus_2016_res = atus_multi_yr_res[atus_multi_yr_res[\"TUCASEID\"].apply(str).str.startswith(\"2016\")]\n",
    "atus_2017_res = atus_multi_yr_res[atus_multi_yr_res[\"TUCASEID\"].apply(str).str.startswith(\"2017\")]\n",
    "atus_2018_res = atus_multi_yr_res[atus_multi_yr_res[\"TUCASEID\"].apply(str).str.startswith(\"2018\")]\n",
    "atus_2019_res = atus_multi_yr_res[atus_multi_yr_res[\"TUCASEID\"].apply(str).str.startswith(\"2019\")]\n",
    "#atus_2003_res"
   ]
  },
  {
   "cell_type": "code",
   "execution_count": 11,
   "metadata": {},
   "outputs": [],
   "source": [
    "#atus year seperation for all  respondants\n",
    "atus_2003 = multi_merged[multi_merged[\"TUCASEID\"].apply(str).str.startswith(\"2003\")]\n",
    "atus_2004 = multi_merged[multi_merged[\"TUCASEID\"].apply(str).str.startswith(\"2004\")]\n",
    "atus_2005 = multi_merged[multi_merged[\"TUCASEID\"].apply(str).str.startswith(\"2005\")]\n",
    "atus_2006 = multi_merged[multi_merged[\"TUCASEID\"].apply(str).str.startswith(\"2006\")]\n",
    "atus_2007 = multi_merged[multi_merged[\"TUCASEID\"].apply(str).str.startswith(\"2007\")]\n",
    "atus_2008 = multi_merged[multi_merged[\"TUCASEID\"].apply(str).str.startswith(\"2008\")]\n",
    "atus_2009 = multi_merged[multi_merged[\"TUCASEID\"].apply(str).str.startswith(\"2009\")]\n",
    "atus_2010 = multi_merged[multi_merged[\"TUCASEID\"].apply(str).str.startswith(\"2010\")]\n",
    "atus_2011 = multi_merged[multi_merged[\"TUCASEID\"].apply(str).str.startswith(\"2011\")]\n",
    "atus_2012 = multi_merged[multi_merged[\"TUCASEID\"].apply(str).str.startswith(\"2012\")]\n",
    "atus_2013 = multi_merged[multi_merged[\"TUCASEID\"].apply(str).str.startswith(\"2013\")]\n",
    "atus_2014 = multi_merged[multi_merged[\"TUCASEID\"].apply(str).str.startswith(\"2014\")]\n",
    "atus_2015 = multi_merged[multi_merged[\"TUCASEID\"].apply(str).str.startswith(\"2015\")]\n",
    "atus_2016 = multi_merged[multi_merged[\"TUCASEID\"].apply(str).str.startswith(\"2016\")]\n",
    "atus_2017 = multi_merged[multi_merged[\"TUCASEID\"].apply(str).str.startswith(\"2017\")]\n",
    "atus_2018 = multi_merged[multi_merged[\"TUCASEID\"].apply(str).str.startswith(\"2018\")]\n",
    "atus_2019 = multi_merged[multi_merged[\"TUCASEID\"].apply(str).str.startswith(\"2019\")]"
   ]
  },
  {
   "cell_type": "markdown",
   "metadata": {},
   "source": [
    "### All Weights from 2003-2019"
   ]
  },
  {
   "cell_type": "code",
   "execution_count": 12,
   "metadata": {},
   "outputs": [
    {
     "data": {
      "text/plain": [
       "82231180900.71338"
      ]
     },
     "execution_count": 12,
     "metadata": {},
     "output_type": "execute_result"
    }
   ],
   "source": [
    "#weight from all respondants in from 2003\n",
    "atus_2003_drop = atus_2003.drop_duplicates(subset=[\"TUCASEID\"])\n",
    "all_2003_weight = atus_2003_drop[\"TUFNWGTP\"].sum()\n",
    "all_2003_weight"
   ]
  },
  {
   "cell_type": "code",
   "execution_count": 13,
   "metadata": {},
   "outputs": [],
   "source": [
    "atus_2004_drop = atus_2004.drop_duplicates(subset=[\"TUCASEID\"])\n",
    "all_2004_weight = atus_2004_drop[\"TUFNWGTP\"].sum()\n",
    "\n",
    "atus_2005_drop = atus_2005.drop_duplicates(subset=[\"TUCASEID\"])\n",
    "all_2005_weight = atus_2005_drop[\"TUFNWGTP\"].sum()\n",
    "\n",
    "atus_2006_drop = atus_2006.drop_duplicates(subset=[\"TUCASEID\"])\n",
    "all_2006_weight = atus_2006_drop[\"TUFNWGTP\"].sum()\n",
    "\n",
    "atus_2007_drop = atus_2007.drop_duplicates(subset=[\"TUCASEID\"])\n",
    "all_2007_weight = atus_2007_drop[\"TUFNWGTP\"].sum()\n",
    "\n",
    "atus_2008_drop = atus_2008.drop_duplicates(subset=[\"TUCASEID\"])\n",
    "all_2008_weight = atus_2008_drop[\"TUFNWGTP\"].sum()\n",
    "\n",
    "atus_2009_drop = atus_2009.drop_duplicates(subset=[\"TUCASEID\"])\n",
    "all_2009_weight = atus_2009_drop[\"TUFNWGTP\"].sum()\n",
    "\n",
    "atus_2010_drop = atus_2010.drop_duplicates(subset=[\"TUCASEID\"])\n",
    "all_2010_weight = atus_2010_drop[\"TUFNWGTP\"].sum()\n",
    "\n",
    "atus_2011_drop = atus_2011.drop_duplicates(subset=[\"TUCASEID\"])\n",
    "all_2011_weight = atus_2011_drop[\"TUFNWGTP\"].sum()\n",
    "\n",
    "atus_2012_drop = atus_2012.drop_duplicates(subset=[\"TUCASEID\"])\n",
    "all_2012_weight = atus_2012_drop[\"TUFNWGTP\"].sum()\n",
    "\n",
    "atus_2013_drop = atus_2013.drop_duplicates(subset=[\"TUCASEID\"])\n",
    "all_2013_weight = atus_2013_drop[\"TUFNWGTP\"].sum()\n",
    "\n",
    "atus_2014_drop = atus_2014.drop_duplicates(subset=[\"TUCASEID\"])\n",
    "all_2014_weight = atus_2014_drop[\"TUFNWGTP\"].sum()\n",
    "\n",
    "atus_2015_drop = atus_2015.drop_duplicates(subset=[\"TUCASEID\"])\n",
    "all_2015_weight = atus_2015_drop[\"TUFNWGTP\"].sum()\n",
    "\n",
    "atus_2016_drop = atus_2016.drop_duplicates(subset=[\"TUCASEID\"])\n",
    "all_2016_weight = atus_2016_drop[\"TUFNWGTP\"].sum()\n",
    "\n",
    "atus_2017_drop = atus_2017.drop_duplicates(subset=[\"TUCASEID\"])\n",
    "all_2017_weight = atus_2017_drop[\"TUFNWGTP\"].sum()\n",
    "\n",
    "atus_2018_drop = atus_2018.drop_duplicates(subset=[\"TUCASEID\"])\n",
    "all_2018_weight = atus_2018_drop[\"TUFNWGTP\"].sum()\n",
    "\n",
    "atus_2019_drop = atus_2019.drop_duplicates(subset=[\"TUCASEID\"])\n",
    "all_2019_weight = atus_2019_drop[\"TUFNWGTP\"].sum()"
   ]
  },
  {
   "cell_type": "markdown",
   "metadata": {},
   "source": [
    "## Personal Care (Tier 01)"
   ]
  },
  {
   "cell_type": "markdown",
   "metadata": {},
   "source": [
    "### 2003 Sleeping\n",
    "This uses tier 2 codes that begins with 0101 for all sleeping This also inlcudes activity codes 010101=sleeping, 010102=sleeplessness, 99=sleeping nec"
   ]
  },
  {
   "cell_type": "code",
   "execution_count": 14,
   "metadata": {},
   "outputs": [],
   "source": [
    "#filter to only include 2003 survey (CASEID begins witn 2003)\n",
    "atus_2003 = multi_merged[multi_merged[\"TUCASEID\"].apply(str).str.startswith(\"2003\")]\n",
    "#atus_2003"
   ]
  },
  {
   "cell_type": "code",
   "execution_count": 15,
   "metadata": {},
   "outputs": [],
   "source": [
    "#010101 is Sleeping\n",
    "#TEWHERE = -1 is not surveyed due to confidential info and too pesonal i.e sleeping \n",
    "#all sleeping is assumed to be done at home \n",
    "sleeping_2003 = atus_2003[atus_2003[\"TRTIER2P\"].apply(str).str.startswith(\"0101\")]\n",
    "#sleeping"
   ]
  },
  {
   "cell_type": "code",
   "execution_count": 16,
   "metadata": {},
   "outputs": [],
   "source": [
    "sleep_2003 = sleeping_2003.groupby([\"TUCASEID\"]).sum().filter([\"TUCASEID\", \"TUACTDUR24\"])\n",
    "#sleep"
   ]
  },
  {
   "cell_type": "code",
   "execution_count": 17,
   "metadata": {},
   "outputs": [],
   "source": [
    "sleep_2003_merge = pd.merge(sleep_2003, multi_resp, on =\"TUCASEID\")\n",
    "sleep_2003_merge = sleep_2003_merge.filter([\"TUCASEID\",\"TUACTDUR24\",\"TUYEAR\",\"TUFNWGTP\"])\n",
    "#sleep_merge"
   ]
  },
  {
   "cell_type": "code",
   "execution_count": 18,
   "metadata": {},
   "outputs": [],
   "source": [
    "sleep_2003_merge[\"Multiplied Weight\"] = sleep_2003_merge[\"TUACTDUR24\"] * sleep_2003_merge[\"TUFNWGTP\"]\n",
    "#sleep_2003_merge"
   ]
  },
  {
   "cell_type": "code",
   "execution_count": 19,
   "metadata": {},
   "outputs": [
    {
     "data": {
      "text/plain": [
       "42267947500623.516"
      ]
     },
     "execution_count": 19,
     "metadata": {},
     "output_type": "execute_result"
    }
   ],
   "source": [
    "sleep_2003_weight = sleep_2003_merge[\"Multiplied Weight\"].sum()\n",
    "sleep_2003_weight"
   ]
  },
  {
   "cell_type": "code",
   "execution_count": 20,
   "metadata": {},
   "outputs": [
    {
     "data": {
      "text/plain": [
       "8.566893773879235"
      ]
     },
     "execution_count": 20,
     "metadata": {},
     "output_type": "execute_result"
    }
   ],
   "source": [
    "sleeping_2003_avg_hr_per_day = sleep_2003_weight.sum() / all_2003_weight /60\n",
    "sleeping_2003_avg_hr_per_day"
   ]
  },
  {
   "cell_type": "markdown",
   "metadata": {},
   "source": [
    "### 2004 Sleeping"
   ]
  },
  {
   "cell_type": "code",
   "execution_count": 21,
   "metadata": {},
   "outputs": [],
   "source": [
    "atus_2004 = multi_merged[multi_merged[\"TUCASEID\"].apply(str).str.startswith(\"2004\")]\n",
    "\n",
    "sleeping_2004 = atus_2004[atus_2004[\"TRTIER2P\"].apply(str).str.startswith(\"0101\")]\n",
    "sleep_2004 = sleeping_2004.groupby([\"TUCASEID\"]).sum().filter([\"TUCASEID\", \"TUACTDUR24\"])\n",
    "\n",
    "sleep_2004_merge = pd.merge(sleep_2004, multi_resp, on =\"TUCASEID\").filter([\"TUCASEID\",\"TUACTDUR24\",\"TUYEAR\",\"TUFNWGTP\"])\n",
    "sleep_2004_merge[\"Multiplied Weight\"] = sleep_2004_merge[\"TUACTDUR24\"] * sleep_2004_merge[\"TUFNWGTP\"]\n",
    "#sleep_2004_merge"
   ]
  },
  {
   "cell_type": "code",
   "execution_count": 22,
   "metadata": {},
   "outputs": [
    {
     "data": {
      "text/plain": [
       "8.546193703426919"
      ]
     },
     "execution_count": 22,
     "metadata": {},
     "output_type": "execute_result"
    }
   ],
   "source": [
    "sleep_2004_weight = sleep_2004_merge[\"Multiplied Weight\"].sum()\n",
    "\n",
    "sleeping_2004_avg_hr_per_day = sleep_2004_weight.sum() / all_2004_weight /60\n",
    "sleeping_2004_avg_hr_per_day"
   ]
  },
  {
   "cell_type": "markdown",
   "metadata": {},
   "source": [
    "### 2005 Sleeping"
   ]
  },
  {
   "cell_type": "code",
   "execution_count": 23,
   "metadata": {},
   "outputs": [],
   "source": [
    "atus_2005 = multi_merged[multi_merged[\"TUCASEID\"].apply(str).str.startswith(\"2005\")]\n",
    "\n",
    "sleeping_2005 = atus_2005[atus_2005[\"TRTIER2P\"].apply(str).str.startswith(\"0101\")]\n",
    "sleep_2005 = sleeping_2005.groupby([\"TUCASEID\"]).sum().filter([\"TUCASEID\", \"TUACTDUR24\"])\n",
    "\n",
    "sleep_2005_merge = pd.merge(sleep_2005, multi_resp, on =\"TUCASEID\").filter([\"TUCASEID\",\"TUACTDUR24\",\"TUYEAR\",\"TUFNWGTP\"])\n",
    "sleep_2005_merge[\"Multiplied Weight\"] = sleep_2005_merge[\"TUACTDUR24\"] * sleep_2005_merge[\"TUFNWGTP\"]"
   ]
  },
  {
   "cell_type": "code",
   "execution_count": 24,
   "metadata": {},
   "outputs": [
    {
     "data": {
      "text/plain": [
       "8.624976535467175"
      ]
     },
     "execution_count": 24,
     "metadata": {},
     "output_type": "execute_result"
    }
   ],
   "source": [
    "sleep_2005_weight = sleep_2005_merge[\"Multiplied Weight\"].sum()\n",
    "\n",
    "sleeping_2005_avg_hr_per_day = sleep_2005_weight.sum() / all_2005_weight /60\n",
    "sleeping_2005_avg_hr_per_day"
   ]
  },
  {
   "cell_type": "markdown",
   "metadata": {},
   "source": [
    "### 2006 Sleeping"
   ]
  },
  {
   "cell_type": "code",
   "execution_count": 25,
   "metadata": {},
   "outputs": [],
   "source": [
    "atus_2006 = multi_merged[multi_merged[\"TUCASEID\"].apply(str).str.startswith(\"2006\")]\n",
    "\n",
    "sleeping_2006 = atus_2006[atus_2006[\"TRTIER2P\"].apply(str).str.startswith(\"0101\")]\n",
    "sleep_2006 = sleeping_2006.groupby([\"TUCASEID\"]).sum().filter([\"TUCASEID\", \"TUACTDUR24\"])\n",
    "\n",
    "sleep_2006_merge = pd.merge(sleep_2006, multi_resp, on =\"TUCASEID\").filter([\"TUCASEID\",\"TUACTDUR24\",\"TUYEAR\",\"TUFNWGTP\"])\n",
    "sleep_2006_merge[\"Multiplied Weight\"] = sleep_2006_merge[\"TUACTDUR24\"] * sleep_2006_merge[\"TUFNWGTP\"]"
   ]
  },
  {
   "cell_type": "code",
   "execution_count": 26,
   "metadata": {},
   "outputs": [
    {
     "data": {
      "text/plain": [
       "8.626997380706264"
      ]
     },
     "execution_count": 26,
     "metadata": {},
     "output_type": "execute_result"
    }
   ],
   "source": [
    "sleep_2006_weight = sleep_2006_merge[\"Multiplied Weight\"].sum()\n",
    "\n",
    "sleeping_2006_avg_hr_per_day = sleep_2006_weight.sum() / all_2006_weight /60\n",
    "sleeping_2006_avg_hr_per_day"
   ]
  },
  {
   "cell_type": "markdown",
   "metadata": {},
   "source": [
    "### Sleeping 2007"
   ]
  },
  {
   "cell_type": "code",
   "execution_count": 27,
   "metadata": {},
   "outputs": [],
   "source": [
    "atus_2007 = multi_merged[multi_merged[\"TUCASEID\"].apply(str).str.startswith(\"2007\")]\n",
    "\n",
    "sleeping_2007 = atus_2007[atus_2007[\"TRTIER2P\"].apply(str).str.startswith(\"0101\")]\n",
    "sleep_2007 = sleeping_2007.groupby([\"TUCASEID\"]).sum().filter([\"TUCASEID\", \"TUACTDUR24\"])\n",
    "\n",
    "sleep_2007_merge = pd.merge(sleep_2007, multi_resp, on =\"TUCASEID\").filter([\"TUCASEID\",\"TUACTDUR24\",\"TUYEAR\",\"TUFNWGTP\"])\n",
    "sleep_2007_merge[\"Multiplied Weight\"] = sleep_2007_merge[\"TUACTDUR24\"] * sleep_2007_merge[\"TUFNWGTP\"]"
   ]
  },
  {
   "cell_type": "code",
   "execution_count": 28,
   "metadata": {},
   "outputs": [
    {
     "data": {
      "text/plain": [
       "8.573543784769155"
      ]
     },
     "execution_count": 28,
     "metadata": {},
     "output_type": "execute_result"
    }
   ],
   "source": [
    "sleep_2007_weight = sleep_2007_merge[\"Multiplied Weight\"].sum()\n",
    "\n",
    "sleeping_2007_avg_hr_per_day = sleep_2007_weight.sum() / all_2007_weight /60\n",
    "sleeping_2007_avg_hr_per_day"
   ]
  },
  {
   "cell_type": "markdown",
   "metadata": {},
   "source": [
    "### Sleeping 2008"
   ]
  },
  {
   "cell_type": "code",
   "execution_count": 29,
   "metadata": {},
   "outputs": [],
   "source": [
    "atus_2008 = multi_merged[multi_merged[\"TUCASEID\"].apply(str).str.startswith(\"2008\")]\n",
    "\n",
    "sleeping_2008 = atus_2008[atus_2008[\"TRTIER2P\"].apply(str).str.startswith(\"0101\")]\n",
    "sleep_2008 = sleeping_2008.groupby([\"TUCASEID\"]).sum().filter([\"TUCASEID\", \"TUACTDUR24\"])\n",
    "\n",
    "sleep_2008_merge = pd.merge(sleep_2008, multi_resp, on =\"TUCASEID\").filter([\"TUCASEID\",\"TUACTDUR24\",\"TUYEAR\",\"TUFNWGTP\"])\n",
    "sleep_2008_merge[\"Multiplied Weight\"] = sleep_2008_merge[\"TUACTDUR24\"] * sleep_2008_merge[\"TUFNWGTP\"]"
   ]
  },
  {
   "cell_type": "code",
   "execution_count": 30,
   "metadata": {},
   "outputs": [
    {
     "data": {
      "text/plain": [
       "8.602199723681917"
      ]
     },
     "execution_count": 30,
     "metadata": {},
     "output_type": "execute_result"
    }
   ],
   "source": [
    "sleep_2008_weight = sleep_2008_merge[\"Multiplied Weight\"].sum()\n",
    "\n",
    "sleeping_2008_avg_hr_per_day = sleep_2008_weight.sum() / all_2008_weight /60\n",
    "sleeping_2008_avg_hr_per_day"
   ]
  },
  {
   "cell_type": "markdown",
   "metadata": {},
   "source": [
    "### Sleeping 2009"
   ]
  },
  {
   "cell_type": "code",
   "execution_count": 31,
   "metadata": {},
   "outputs": [],
   "source": [
    "atus_2009 = multi_merged[multi_merged[\"TUCASEID\"].apply(str).str.startswith(\"2009\")]\n",
    "\n",
    "sleeping_2009 = atus_2009[atus_2009[\"TRTIER2P\"].apply(str).str.startswith(\"0101\")]\n",
    "sleep_2009 = sleeping_2009.groupby([\"TUCASEID\"]).sum().filter([\"TUCASEID\", \"TUACTDUR24\"])\n",
    "\n",
    "sleep_2009_merge = pd.merge(sleep_2009, multi_resp, on =\"TUCASEID\").filter([\"TUCASEID\",\"TUACTDUR24\",\"TUYEAR\",\"TUFNWGTP\"])\n",
    "sleep_2009_merge[\"Multiplied Weight\"] = sleep_2009_merge[\"TUACTDUR24\"] * sleep_2009_merge[\"TUFNWGTP\"]"
   ]
  },
  {
   "cell_type": "code",
   "execution_count": 32,
   "metadata": {},
   "outputs": [
    {
     "data": {
      "text/plain": [
       "8.672338161173975"
      ]
     },
     "execution_count": 32,
     "metadata": {},
     "output_type": "execute_result"
    }
   ],
   "source": [
    "sleep_2009_weight = sleep_2009_merge[\"Multiplied Weight\"].sum()\n",
    "\n",
    "sleeping_2009_avg_hr_per_day = sleep_2009_weight.sum() / all_2009_weight /60\n",
    "sleeping_2009_avg_hr_per_day"
   ]
  },
  {
   "cell_type": "markdown",
   "metadata": {},
   "source": [
    "### Sleeping 2010"
   ]
  },
  {
   "cell_type": "code",
   "execution_count": 33,
   "metadata": {},
   "outputs": [],
   "source": [
    "atus_2010 = multi_merged[multi_merged[\"TUCASEID\"].apply(str).str.startswith(\"2010\")]\n",
    "\n",
    "sleeping_2010 = atus_2010[atus_2010[\"TRTIER2P\"].apply(str).str.startswith(\"0101\")]\n",
    "sleep_2010 = sleeping_2010.groupby([\"TUCASEID\"]).sum().filter([\"TUCASEID\", \"TUACTDUR24\"])\n",
    "\n",
    "sleep_2010_merge = pd.merge(sleep_2010, multi_resp, on =\"TUCASEID\").filter([\"TUCASEID\",\"TUACTDUR24\",\"TUYEAR\",\"TUFNWGTP\"])\n",
    "sleep_2010_merge[\"Multiplied Weight\"] = sleep_2010_merge[\"TUACTDUR24\"] * sleep_2010_merge[\"TUFNWGTP\"]"
   ]
  },
  {
   "cell_type": "code",
   "execution_count": 34,
   "metadata": {},
   "outputs": [
    {
     "data": {
      "text/plain": [
       "8.665440903003892"
      ]
     },
     "execution_count": 34,
     "metadata": {},
     "output_type": "execute_result"
    }
   ],
   "source": [
    "sleep_2010_weight = sleep_2010_merge[\"Multiplied Weight\"].sum()\n",
    "\n",
    "sleeping_2010_avg_hr_per_day = sleep_2010_weight.sum() / all_2010_weight /60\n",
    "sleeping_2010_avg_hr_per_day"
   ]
  },
  {
   "cell_type": "markdown",
   "metadata": {},
   "source": [
    "### Sleeping 2011"
   ]
  },
  {
   "cell_type": "code",
   "execution_count": 35,
   "metadata": {},
   "outputs": [],
   "source": [
    "atus_2011 = multi_merged[multi_merged[\"TUCASEID\"].apply(str).str.startswith(\"2011\")]\n",
    "\n",
    "sleeping_2011 = atus_2011[atus_2011[\"TRTIER2P\"].apply(str).str.startswith(\"0101\")]\n",
    "sleep_2011 = sleeping_2011.groupby([\"TUCASEID\"]).sum().filter([\"TUCASEID\", \"TUACTDUR24\"])\n",
    "\n",
    "sleep_2011_merge = pd.merge(sleep_2011, multi_resp, on =\"TUCASEID\").filter([\"TUCASEID\",\"TUACTDUR24\",\"TUYEAR\",\"TUFNWGTP\"])\n",
    "sleep_2011_merge[\"Multiplied Weight\"] = sleep_2011_merge[\"TUACTDUR24\"] * sleep_2011_merge[\"TUFNWGTP\"]"
   ]
  },
  {
   "cell_type": "code",
   "execution_count": 36,
   "metadata": {},
   "outputs": [
    {
     "data": {
      "text/plain": [
       "8.71432663084258"
      ]
     },
     "execution_count": 36,
     "metadata": {},
     "output_type": "execute_result"
    }
   ],
   "source": [
    "sleep_2011_weight = sleep_2011_merge[\"Multiplied Weight\"].sum()\n",
    "\n",
    "sleeping_2011_avg_hr_per_day = sleep_2011_weight.sum() / all_2011_weight /60\n",
    "sleeping_2011_avg_hr_per_day"
   ]
  },
  {
   "cell_type": "markdown",
   "metadata": {},
   "source": [
    "### Sleeping 2012"
   ]
  },
  {
   "cell_type": "code",
   "execution_count": 37,
   "metadata": {},
   "outputs": [],
   "source": [
    "atus_2012 = multi_merged[multi_merged[\"TUCASEID\"].apply(str).str.startswith(\"2012\")]\n",
    "\n",
    "sleeping_2012 = atus_2012[atus_2012[\"TRTIER2P\"].apply(str).str.startswith(\"0101\")]\n",
    "sleep_2012 = sleeping_2012.groupby([\"TUCASEID\"]).sum().filter([\"TUCASEID\", \"TUACTDUR24\"])\n",
    "\n",
    "sleep_2012_merge = pd.merge(sleep_2012, multi_resp, on =\"TUCASEID\").filter([\"TUCASEID\",\"TUACTDUR24\",\"TUYEAR\",\"TUFNWGTP\"])\n",
    "sleep_2012_merge[\"Multiplied Weight\"] = sleep_2012_merge[\"TUACTDUR24\"] * sleep_2012_merge[\"TUFNWGTP\"]"
   ]
  },
  {
   "cell_type": "code",
   "execution_count": 38,
   "metadata": {},
   "outputs": [
    {
     "data": {
      "text/plain": [
       "8.730523413066825"
      ]
     },
     "execution_count": 38,
     "metadata": {},
     "output_type": "execute_result"
    }
   ],
   "source": [
    "sleep_2012_weight = sleep_2012_merge[\"Multiplied Weight\"].sum()\n",
    "\n",
    "sleeping_2012_avg_hr_per_day = sleep_2012_weight.sum() / all_2012_weight /60\n",
    "sleeping_2012_avg_hr_per_day"
   ]
  },
  {
   "cell_type": "markdown",
   "metadata": {},
   "source": [
    "### Sleeping 2013"
   ]
  },
  {
   "cell_type": "code",
   "execution_count": 39,
   "metadata": {},
   "outputs": [],
   "source": [
    "atus_2013 = multi_merged[multi_merged[\"TUCASEID\"].apply(str).str.startswith(\"2013\")]\n",
    "\n",
    "sleeping_2013 = atus_2013[atus_2013[\"TRTIER2P\"].apply(str).str.startswith(\"0101\")]\n",
    "sleep_2013 = sleeping_2013.groupby([\"TUCASEID\"]).sum().filter([\"TUCASEID\", \"TUACTDUR24\"])\n",
    "\n",
    "sleep_2013_merge = pd.merge(sleep_2013, multi_resp, on =\"TUCASEID\").filter([\"TUCASEID\",\"TUACTDUR24\",\"TUYEAR\",\"TUFNWGTP\"])\n",
    "sleep_2013_merge[\"Multiplied Weight\"] = sleep_2013_merge[\"TUACTDUR24\"] * sleep_2013_merge[\"TUFNWGTP\"]"
   ]
  },
  {
   "cell_type": "code",
   "execution_count": 40,
   "metadata": {},
   "outputs": [
    {
     "data": {
      "text/plain": [
       "8.738176540630185"
      ]
     },
     "execution_count": 40,
     "metadata": {},
     "output_type": "execute_result"
    }
   ],
   "source": [
    "sleep_2013_weight = sleep_2013_merge[\"Multiplied Weight\"].sum()\n",
    "\n",
    "sleeping_2013_avg_hr_per_day = sleep_2013_weight.sum() / all_2013_weight /60\n",
    "sleeping_2013_avg_hr_per_day"
   ]
  },
  {
   "cell_type": "markdown",
   "metadata": {},
   "source": [
    "### Sleeping 2014"
   ]
  },
  {
   "cell_type": "code",
   "execution_count": 41,
   "metadata": {},
   "outputs": [],
   "source": [
    "atus_2014 = multi_merged[multi_merged[\"TUCASEID\"].apply(str).str.startswith(\"2014\")]\n",
    "\n",
    "sleeping_2014 = atus_2014[atus_2014[\"TRTIER2P\"].apply(str).str.startswith(\"0101\")]\n",
    "sleep_2014 = sleeping_2014.groupby([\"TUCASEID\"]).sum().filter([\"TUCASEID\", \"TUACTDUR24\"])\n",
    "\n",
    "sleep_2014_merge = pd.merge(sleep_2014, multi_resp, on =\"TUCASEID\").filter([\"TUCASEID\",\"TUACTDUR24\",\"TUYEAR\",\"TUFNWGTP\"])\n",
    "sleep_2014_merge[\"Multiplied Weight\"] = sleep_2014_merge[\"TUACTDUR24\"] * sleep_2014_merge[\"TUFNWGTP\"]"
   ]
  },
  {
   "cell_type": "code",
   "execution_count": 42,
   "metadata": {},
   "outputs": [
    {
     "data": {
      "text/plain": [
       "8.79658052386772"
      ]
     },
     "execution_count": 42,
     "metadata": {},
     "output_type": "execute_result"
    }
   ],
   "source": [
    "sleep_2014_weight = sleep_2014_merge[\"Multiplied Weight\"].sum()\n",
    "\n",
    "sleeping_2014_avg_hr_per_day = sleep_2014_weight.sum() / all_2014_weight /60\n",
    "sleeping_2014_avg_hr_per_day"
   ]
  },
  {
   "cell_type": "markdown",
   "metadata": {},
   "source": [
    "### Sleeping 2015"
   ]
  },
  {
   "cell_type": "code",
   "execution_count": 43,
   "metadata": {},
   "outputs": [],
   "source": [
    "atus_2015 = multi_merged[multi_merged[\"TUCASEID\"].apply(str).str.startswith(\"2015\")]\n",
    "\n",
    "sleeping_2015 = atus_2015[atus_2015[\"TRTIER2P\"].apply(str).str.startswith(\"0101\")]\n",
    "sleep_2015 = sleeping_2015.groupby([\"TUCASEID\"]).sum().filter([\"TUCASEID\", \"TUACTDUR24\"])\n",
    "\n",
    "sleep_2015_merge = pd.merge(sleep_2015, multi_resp, on =\"TUCASEID\").filter([\"TUCASEID\",\"TUACTDUR24\",\"TUYEAR\",\"TUFNWGTP\"])\n",
    "sleep_2015_merge[\"Multiplied Weight\"] = sleep_2015_merge[\"TUACTDUR24\"] * sleep_2015_merge[\"TUFNWGTP\"]"
   ]
  },
  {
   "cell_type": "code",
   "execution_count": 44,
   "metadata": {},
   "outputs": [
    {
     "data": {
      "text/plain": [
       "8.834119693874062"
      ]
     },
     "execution_count": 44,
     "metadata": {},
     "output_type": "execute_result"
    }
   ],
   "source": [
    "sleep_2015_weight = sleep_2015_merge[\"Multiplied Weight\"].sum()\n",
    "\n",
    "sleeping_2015_avg_hr_per_day = sleep_2015_weight.sum() / all_2015_weight /60\n",
    "sleeping_2015_avg_hr_per_day"
   ]
  },
  {
   "cell_type": "markdown",
   "metadata": {},
   "source": [
    "### Sleeping 2016"
   ]
  },
  {
   "cell_type": "code",
   "execution_count": 45,
   "metadata": {},
   "outputs": [],
   "source": [
    "atus_2016 = multi_merged[multi_merged[\"TUCASEID\"].apply(str).str.startswith(\"2016\")]\n",
    "\n",
    "sleeping_2016 = atus_2016[atus_2016[\"TRTIER2P\"].apply(str).str.startswith(\"0101\")]\n",
    "sleep_2016 = sleeping_2016.groupby([\"TUCASEID\"]).sum().filter([\"TUCASEID\", \"TUACTDUR24\"])\n",
    "\n",
    "sleep_2016_merge = pd.merge(sleep_2016, multi_resp, on =\"TUCASEID\").filter([\"TUCASEID\",\"TUACTDUR24\",\"TUYEAR\",\"TUFNWGTP\"])\n",
    "sleep_2016_merge[\"Multiplied Weight\"] = sleep_2016_merge[\"TUACTDUR24\"] * sleep_2016_merge[\"TUFNWGTP\"]"
   ]
  },
  {
   "cell_type": "code",
   "execution_count": 46,
   "metadata": {},
   "outputs": [
    {
     "data": {
      "text/plain": [
       "8.786662771740454"
      ]
     },
     "execution_count": 46,
     "metadata": {},
     "output_type": "execute_result"
    }
   ],
   "source": [
    "sleep_2016_weight = sleep_2016_merge[\"Multiplied Weight\"].sum()\n",
    "\n",
    "sleeping_2016_avg_hr_per_day = sleep_2016_weight.sum() / all_2016_weight /60\n",
    "sleeping_2016_avg_hr_per_day"
   ]
  },
  {
   "cell_type": "markdown",
   "metadata": {},
   "source": [
    "### Sleeping 2017"
   ]
  },
  {
   "cell_type": "code",
   "execution_count": 47,
   "metadata": {},
   "outputs": [],
   "source": [
    "atus_2017 = multi_merged[multi_merged[\"TUCASEID\"].apply(str).str.startswith(\"2017\")]\n",
    "\n",
    "sleeping_2017 = atus_2017[atus_2017[\"TRTIER2P\"].apply(str).str.startswith(\"0101\")]\n",
    "sleep_2017 = sleeping_2017.groupby([\"TUCASEID\"]).sum().filter([\"TUCASEID\", \"TUACTDUR24\"])\n",
    "\n",
    "sleep_2017_merge = pd.merge(sleep_2017, multi_resp, on =\"TUCASEID\").filter([\"TUCASEID\",\"TUACTDUR24\",\"TUYEAR\",\"TUFNWGTP\"])\n",
    "sleep_2017_merge[\"Multiplied Weight\"] = sleep_2017_merge[\"TUACTDUR24\"] * sleep_2017_merge[\"TUFNWGTP\"]"
   ]
  },
  {
   "cell_type": "code",
   "execution_count": 48,
   "metadata": {},
   "outputs": [
    {
     "data": {
      "text/plain": [
       "8.802969246983633"
      ]
     },
     "execution_count": 48,
     "metadata": {},
     "output_type": "execute_result"
    }
   ],
   "source": [
    "sleep_2017_weight = sleep_2017_merge[\"Multiplied Weight\"].sum()\n",
    "\n",
    "sleeping_2017_avg_hr_per_day = sleep_2017_weight.sum() / all_2017_weight /60\n",
    "sleeping_2017_avg_hr_per_day"
   ]
  },
  {
   "cell_type": "markdown",
   "metadata": {},
   "source": [
    "### Sleeping 2018"
   ]
  },
  {
   "cell_type": "code",
   "execution_count": 49,
   "metadata": {},
   "outputs": [],
   "source": [
    "atus_2018 = multi_merged[multi_merged[\"TUCASEID\"].apply(str).str.startswith(\"2018\")]\n",
    "\n",
    "sleeping_2018 = atus_2018[atus_2018[\"TRTIER2P\"].apply(str).str.startswith(\"0101\")]\n",
    "sleep_2018 = sleeping_2018.groupby([\"TUCASEID\"]).sum().filter([\"TUCASEID\", \"TUACTDUR24\"])\n",
    "\n",
    "sleep_2018_merge = pd.merge(sleep_2018, multi_resp, on =\"TUCASEID\").filter([\"TUCASEID\",\"TUACTDUR24\",\"TUYEAR\",\"TUFNWGTP\"])\n",
    "sleep_2018_merge[\"Multiplied Weight\"] = sleep_2018_merge[\"TUACTDUR24\"] * sleep_2018_merge[\"TUFNWGTP\"]"
   ]
  },
  {
   "cell_type": "code",
   "execution_count": 50,
   "metadata": {},
   "outputs": [
    {
     "data": {
      "text/plain": [
       "8.815954973756664"
      ]
     },
     "execution_count": 50,
     "metadata": {},
     "output_type": "execute_result"
    }
   ],
   "source": [
    "sleep_2018_weight = sleep_2018_merge[\"Multiplied Weight\"].sum()\n",
    "\n",
    "sleeping_2018_avg_hr_per_day = sleep_2018_weight.sum() / all_2018_weight /60\n",
    "sleeping_2018_avg_hr_per_day"
   ]
  },
  {
   "cell_type": "markdown",
   "metadata": {},
   "source": [
    "### Sleeping 2019"
   ]
  },
  {
   "cell_type": "code",
   "execution_count": 51,
   "metadata": {},
   "outputs": [],
   "source": [
    "atus_2019 = multi_merged[multi_merged[\"TUCASEID\"].apply(str).str.startswith(\"2019\")]\n",
    "\n",
    "sleeping_2019 = atus_2019[atus_2019[\"TRTIER2P\"].apply(str).str.startswith(\"0101\")]\n",
    "sleep_2019 = sleeping_2019.groupby([\"TUCASEID\"]).sum().filter([\"TUCASEID\", \"TUACTDUR24\"])\n",
    "\n",
    "sleep_2019_merge = pd.merge(sleep_2019, multi_resp, on =\"TUCASEID\").filter([\"TUCASEID\",\"TUACTDUR24\",\"TUYEAR\",\"TUFNWGTP\"])\n",
    "sleep_2019_merge[\"Multiplied Weight\"] = sleep_2019_merge[\"TUACTDUR24\"] * sleep_2019_merge[\"TUFNWGTP\"]"
   ]
  },
  {
   "cell_type": "code",
   "execution_count": 52,
   "metadata": {},
   "outputs": [
    {
     "data": {
      "text/plain": [
       "8.840544891440885"
      ]
     },
     "execution_count": 52,
     "metadata": {},
     "output_type": "execute_result"
    }
   ],
   "source": [
    "sleep_2019_weight = sleep_2019_merge[\"Multiplied Weight\"].sum()\n",
    "\n",
    "sleeping_2019_avg_hr_per_day = sleep_2019_weight.sum() / all_2019_weight /60\n",
    "sleeping_2019_avg_hr_per_day"
   ]
  },
  {
   "cell_type": "markdown",
   "metadata": {},
   "source": [
    "### Sleeping Regression"
   ]
  },
  {
   "cell_type": "markdown",
   "metadata": {},
   "source": [
    "#### 2003-2012 Sleeping Regression "
   ]
  },
  {
   "cell_type": "code",
   "execution_count": 122,
   "metadata": {},
   "outputs": [],
   "source": [
    "year = np.array([2003, 2004, 2005, 2006, 2007, 2008, 2009, 2010,2011,2012]).reshape((-1, 1))\n",
    "activity_hours_per_day = np.array([sleeping_2003_avg_hr_per_day, sleeping_2004_avg_hr_per_day, sleeping_2005_avg_hr_per_day, \n",
    "                                   sleeping_2006_avg_hr_per_day, sleeping_2007_avg_hr_per_day, sleeping_2008_avg_hr_per_day, \n",
    "                                   sleeping_2009_avg_hr_per_day, sleeping_2010_avg_hr_per_day, sleeping_2011_avg_hr_per_day, \n",
    "                                   sleeping_2012_avg_hr_per_day]).reshape((-1, 1))\n",
    "\n",
    "activity_hours_per_yr = [i * 365 for i in activity_hours_per_day]"
   ]
  },
  {
   "cell_type": "code",
   "execution_count": 123,
   "metadata": {},
   "outputs": [
    {
     "data": {
      "image/png": "[encoded data removed]",
      "text/plain": [
       "<Figure size 432x288 with 1 Axes>"
      ]
     },
     "metadata": {
      "needs_background": "light"
     },
     "output_type": "display_data"
    }
   ],
   "source": [
    "x = year\n",
    "y = activity_hours_per_yr\n",
    "x, y = np.array(x), np.array(y)\n",
    "\n",
    "model = LinearRegression().fit(x, y)\n",
    "\n",
    "y_pred = model.predict(x)  \n",
    "\n",
    "plt.scatter(x, y)\n",
    "plt.plot(x, y_pred, color='red')\n",
    "plt.show()"
   ]
  },
  {
   "cell_type": "code",
   "execution_count": 124,
   "metadata": {},
   "outputs": [
    {
     "data": {
      "text/plain": [
       "0.783169830243087"
      ]
     },
     "execution_count": 124,
     "metadata": {},
     "output_type": "execute_result"
    }
   ],
   "source": [
    "coefficient_of_determination = model.score(x,y) #R sqaure value \n",
    "coefficient_of_determination"
   ]
  },
  {
   "cell_type": "code",
   "execution_count": 125,
   "metadata": {},
   "outputs": [
    {
     "data": {
      "text/plain": [
       "array([[6.67307901]])"
      ]
     },
     "execution_count": 125,
     "metadata": {},
     "output_type": "execute_result"
    }
   ],
   "source": [
    "sleeping_res_2003_2012_slope = model.coef_\n",
    "sleeping_res_2003_2012_slope"
   ]
  },
  {
   "cell_type": "markdown",
   "metadata": {},
   "source": [
    "#### 2003-2019 Sleeping Regression"
   ]
  },
  {
   "cell_type": "code",
   "execution_count": 126,
   "metadata": {},
   "outputs": [],
   "source": [
    "year = np.array([2003, 2004, 2005, 2006, 2007, 2008, 2009, 2010,2011,2012,2013,2014,2015,2016,2017,2018,2019]).reshape((-1, 1))\n",
    "activity_hours_per_day = np.array([sleeping_2003_avg_hr_per_day, sleeping_2004_avg_hr_per_day, sleeping_2005_avg_hr_per_day, \n",
    "                                   sleeping_2006_avg_hr_per_day, sleeping_2007_avg_hr_per_day, sleeping_2008_avg_hr_per_day, \n",
    "                                   sleeping_2009_avg_hr_per_day, sleeping_2010_avg_hr_per_day, sleeping_2011_avg_hr_per_day, \n",
    "                                   sleeping_2012_avg_hr_per_day, sleeping_2013_avg_hr_per_day, sleeping_2014_avg_hr_per_day, \n",
    "                                   sleeping_2015_avg_hr_per_day, sleeping_2016_avg_hr_per_day, sleeping_2017_avg_hr_per_day, \n",
    "                                   sleeping_2018_avg_hr_per_day, sleeping_2019_avg_hr_per_day]).reshape((-1, 1))\n",
    "\n",
    "activity_hours_per_yr = [i * 365/365 for i in activity_hours_per_day]\n",
    "#activity_hours_per_yr"
   ]
  },
  {
   "cell_type": "code",
   "execution_count": 58,
   "metadata": {
    "scrolled": false
   },
   "outputs": [
    {
     "data": {
      "image/png": "[encoded data removed]",
      "text/plain": [
       "<Figure size 432x288 with 1 Axes>"
      ]
     },
     "metadata": {
      "needs_background": "light"
     },
     "output_type": "display_data"
    }
   ],
   "source": [
    "x = year\n",
    "y = activity_hours_per_yr\n",
    "x, y = np.array(x), np.array(y)\n",
    "\n",
    "model = LinearRegression().fit(x, y)\n",
    "\n",
    "y_pred = model.predict(x)  \n",
    "\n",
    "plt.scatter(x, y)\n",
    "plt.plot(x, y_pred, color='red')\n",
    "plt.show()"
   ]
  },
  {
   "cell_type": "code",
   "execution_count": 59,
   "metadata": {},
   "outputs": [
    {
     "data": {
      "text/plain": [
       "0.9182486058374336"
      ]
     },
     "execution_count": 59,
     "metadata": {},
     "output_type": "execute_result"
    }
   ],
   "source": [
    "coefficient_of_determination = model.score(x,y) #R sqaure value \n",
    "coefficient_of_determination"
   ]
  },
  {
   "cell_type": "code",
   "execution_count": 60,
   "metadata": {},
   "outputs": [
    {
     "data": {
      "text/plain": [
       "array([[0.01903438]])"
      ]
     },
     "execution_count": 60,
     "metadata": {},
     "output_type": "execute_result"
    }
   ],
   "source": [
    "sleeping_res_2003_2019_slope = model.coef_\n",
    "sleeping_res_2003_2019_slope"
   ]
  },
  {
   "cell_type": "code",
   "execution_count": 127,
   "metadata": {},
   "outputs": [
    {
     "data": {
      "text/html": [
       "<div>\n",
       "<style scoped>\n",
       "    .dataframe tbody tr th:only-of-type {\n",
       "        vertical-align: middle;\n",
       "    }\n",
       "\n",
       "    .dataframe tbody tr th {\n",
       "        vertical-align: top;\n",
       "    }\n",
       "\n",
       "    .dataframe thead th {\n",
       "        text-align: right;\n",
       "    }\n",
       "</style>\n",
       "<table border=\"1\" class=\"dataframe\">\n",
       "  <thead>\n",
       "    <tr style=\"text-align: right;\">\n",
       "      <th></th>\n",
       "      <th>Year</th>\n",
       "      <th>HPD</th>\n",
       "    </tr>\n",
       "  </thead>\n",
       "  <tbody>\n",
       "    <tr>\n",
       "      <th>0</th>\n",
       "      <td>2003</td>\n",
       "      <td>8.566894</td>\n",
       "    </tr>\n",
       "    <tr>\n",
       "      <th>1</th>\n",
       "      <td>2004</td>\n",
       "      <td>8.546194</td>\n",
       "    </tr>\n",
       "    <tr>\n",
       "      <th>2</th>\n",
       "      <td>2005</td>\n",
       "      <td>8.624977</td>\n",
       "    </tr>\n",
       "    <tr>\n",
       "      <th>3</th>\n",
       "      <td>2006</td>\n",
       "      <td>8.626997</td>\n",
       "    </tr>\n",
       "    <tr>\n",
       "      <th>4</th>\n",
       "      <td>2007</td>\n",
       "      <td>8.573544</td>\n",
       "    </tr>\n",
       "    <tr>\n",
       "      <th>5</th>\n",
       "      <td>2008</td>\n",
       "      <td>8.602200</td>\n",
       "    </tr>\n",
       "    <tr>\n",
       "      <th>6</th>\n",
       "      <td>2009</td>\n",
       "      <td>8.672338</td>\n",
       "    </tr>\n",
       "    <tr>\n",
       "      <th>7</th>\n",
       "      <td>2010</td>\n",
       "      <td>8.665441</td>\n",
       "    </tr>\n",
       "    <tr>\n",
       "      <th>8</th>\n",
       "      <td>2011</td>\n",
       "      <td>8.714327</td>\n",
       "    </tr>\n",
       "    <tr>\n",
       "      <th>9</th>\n",
       "      <td>2012</td>\n",
       "      <td>8.730523</td>\n",
       "    </tr>\n",
       "    <tr>\n",
       "      <th>10</th>\n",
       "      <td>2013</td>\n",
       "      <td>8.738177</td>\n",
       "    </tr>\n",
       "    <tr>\n",
       "      <th>11</th>\n",
       "      <td>2014</td>\n",
       "      <td>8.796581</td>\n",
       "    </tr>\n",
       "    <tr>\n",
       "      <th>12</th>\n",
       "      <td>2015</td>\n",
       "      <td>8.834120</td>\n",
       "    </tr>\n",
       "    <tr>\n",
       "      <th>13</th>\n",
       "      <td>2016</td>\n",
       "      <td>8.786663</td>\n",
       "    </tr>\n",
       "    <tr>\n",
       "      <th>14</th>\n",
       "      <td>2017</td>\n",
       "      <td>8.802969</td>\n",
       "    </tr>\n",
       "    <tr>\n",
       "      <th>15</th>\n",
       "      <td>2018</td>\n",
       "      <td>8.815955</td>\n",
       "    </tr>\n",
       "    <tr>\n",
       "      <th>16</th>\n",
       "      <td>2019</td>\n",
       "      <td>8.840545</td>\n",
       "    </tr>\n",
       "  </tbody>\n",
       "</table>\n",
       "</div>"
      ],
      "text/plain": [
       "    Year       HPD\n",
       "0   2003  8.566894\n",
       "1   2004  8.546194\n",
       "2   2005  8.624977\n",
       "3   2006  8.626997\n",
       "4   2007  8.573544\n",
       "5   2008  8.602200\n",
       "6   2009  8.672338\n",
       "7   2010  8.665441\n",
       "8   2011  8.714327\n",
       "9   2012  8.730523\n",
       "10  2013  8.738177\n",
       "11  2014  8.796581\n",
       "12  2015  8.834120\n",
       "13  2016  8.786663\n",
       "14  2017  8.802969\n",
       "15  2018  8.815955\n",
       "16  2019  8.840545"
      ]
     },
     "execution_count": 127,
     "metadata": {},
     "output_type": "execute_result"
    }
   ],
   "source": [
    "year = [2003, 2004, 2005, 2006, 2007, 2008, 2009, 2010,2011,2012,2013,2014,2015,2016,2017,2018,2019]\n",
    "activity_hours_per_day = [sleeping_2003_avg_hr_per_day, sleeping_2004_avg_hr_per_day, sleeping_2005_avg_hr_per_day, \n",
    "                                   sleeping_2006_avg_hr_per_day, sleeping_2007_avg_hr_per_day, sleeping_2008_avg_hr_per_day, \n",
    "                                   sleeping_2009_avg_hr_per_day, sleeping_2010_avg_hr_per_day, sleeping_2011_avg_hr_per_day, \n",
    "                                   sleeping_2012_avg_hr_per_day, sleeping_2013_avg_hr_per_day, sleeping_2014_avg_hr_per_day, \n",
    "                                   sleeping_2015_avg_hr_per_day, sleeping_2016_avg_hr_per_day, sleeping_2017_avg_hr_per_day, \n",
    "                                   sleeping_2018_avg_hr_per_day, sleeping_2019_avg_hr_per_day]\n",
    "dictionary = {\"Year\":year,\n",
    "                  \"HPD\":activity_hours_per_day}\n",
    "\n",
    "df = pd.DataFrame(dictionary)\n",
    "df"
   ]
  },
  {
   "cell_type": "markdown",
   "metadata": {},
   "source": [
    "### 2003 Grooming \n",
    "This uses tier 2 codes that begins with 0102 for all grooming. This also inlcudes activity codes 010201=Washing, dressing and grooming oneself, 010299 = grooming nec"
   ]
  },
  {
   "cell_type": "code",
   "execution_count": 61,
   "metadata": {},
   "outputs": [],
   "source": [
    "#0102is Grooming\n",
    "#TEWHERE = -1 is not surveyed due to confidential info and too pesonal i.e grooming, grooming \n",
    "#all grooming is assumed to be done at home \n",
    "\n",
    "#2003 Grooming\n",
    "grooming_2003 = atus_2003[atus_2003[\"TRTIER2P\"].apply(str).str.startswith(\"0102\")]\n",
    "groom_2003 = grooming_2003.groupby([\"TUCASEID\"]).sum().filter([\"TUCASEID\", \"TUACTDUR24\"])\n",
    "groom_2003_merge = pd.merge(groom_2003, multi_resp, on =\"TUCASEID\").filter([\"TUCASEID\",\"TUACTDUR24\",\"TUYEAR\",\"TUFNWGTP\"])\n",
    "\n",
    "groom_2003_merge[\"Multiplied Weight\"] = groom_2003_merge[\"TUACTDUR24\"] * groom_2003_merge[\"TUFNWGTP\"]\n",
    "groom_2003_weight = groom_2003_merge[\"Multiplied Weight\"].sum()\n",
    "grooming_2003_avg_hr_per_day = groom_2003_weight.sum() / all_2003_weight /60\n",
    "\n",
    "# 2004 Grooming\n",
    "grooming_2004 = atus_2004[atus_2004[\"TRTIER2P\"].apply(str).str.startswith(\"0102\")]\n",
    "groom_2004 = grooming_2004.groupby([\"TUCASEID\"]).sum().filter([\"TUCASEID\", \"TUACTDUR24\"])\n",
    "\n",
    "groom_2004_merge = pd.merge(groom_2004, multi_resp, on =\"TUCASEID\").filter([\"TUCASEID\",\"TUACTDUR24\",\"TUYEAR\",\"TUFNWGTP\"])\n",
    "groom_2004_merge[\"Multiplied Weight\"] = groom_2004_merge[\"TUACTDUR24\"] * groom_2004_merge[\"TUFNWGTP\"]\n",
    "#groom_2004_merge\n",
    "\n",
    "groom_2004_weight = groom_2004_merge[\"Multiplied Weight\"].sum()\n",
    "grooming_2004_avg_hr_per_day = groom_2004_weight.sum() / all_2004_weight /60\n",
    "grooming_2004_avg_hr_per_day\n",
    "\n",
    "# 2005 grooming\n",
    "grooming_2005 = atus_2005[atus_2005[\"TRTIER2P\"].apply(str).str.startswith(\"0102\")]\n",
    "groom_2005 = grooming_2005.groupby([\"TUCASEID\"]).sum().filter([\"TUCASEID\", \"TUACTDUR24\"])\n",
    "groom_2005_merge = pd.merge(groom_2005, multi_resp, on =\"TUCASEID\").filter([\"TUCASEID\",\"TUACTDUR24\",\"TUYEAR\",\"TUFNWGTP\"])\n",
    "\n",
    "groom_2005_merge[\"Multiplied Weight\"] = groom_2005_merge[\"TUACTDUR24\"] * groom_2005_merge[\"TUFNWGTP\"]\n",
    "groom_2005_weight = groom_2005_merge[\"Multiplied Weight\"].sum()\n",
    "grooming_2005_avg_hr_per_day = groom_2005_weight.sum() / all_2005_weight /60\n",
    "\n",
    "# 2006 grooming\n",
    "grooming_2006 = atus_2006[atus_2006[\"TRTIER2P\"].apply(str).str.startswith(\"0102\")]\n",
    "groom_2006 = grooming_2006.groupby([\"TUCASEID\"]).sum().filter([\"TUCASEID\", \"TUACTDUR24\"])\n",
    "groom_2006_merge = pd.merge(groom_2006, multi_resp, on =\"TUCASEID\").filter([\"TUCASEID\",\"TUACTDUR24\",\"TUYEAR\",\"TUFNWGTP\"])\n",
    "\n",
    "groom_2006_merge[\"Multiplied Weight\"] = groom_2006_merge[\"TUACTDUR24\"] * groom_2006_merge[\"TUFNWGTP\"]\n",
    "groom_2006_weight = groom_2006_merge[\"Multiplied Weight\"].sum()\n",
    "grooming_2006_avg_hr_per_day = groom_2006_weight.sum() / all_2006_weight /60\n",
    "\n",
    "# grooming 2007\n",
    "grooming_2007 = atus_2007[atus_2007[\"TRTIER2P\"].apply(str).str.startswith(\"0102\")]\n",
    "groom_2007 = grooming_2007.groupby([\"TUCASEID\"]).sum().filter([\"TUCASEID\", \"TUACTDUR24\"])\n",
    "groom_2007_merge = pd.merge(groom_2007, multi_resp, on =\"TUCASEID\").filter([\"TUCASEID\",\"TUACTDUR24\",\"TUYEAR\",\"TUFNWGTP\"])\n",
    "\n",
    "groom_2007_merge[\"Multiplied Weight\"] = groom_2007_merge[\"TUACTDUR24\"] * groom_2007_merge[\"TUFNWGTP\"]\n",
    "groom_2007_weight = groom_2007_merge[\"Multiplied Weight\"].sum()\n",
    "grooming_2007_avg_hr_per_day = groom_2007_weight.sum() / all_2007_weight /60\n",
    "\n",
    "# grooming 2008\n",
    "grooming_2008 = atus_2008[atus_2008[\"TRTIER2P\"].apply(str).str.startswith(\"0102\")]\n",
    "groom_2008 = grooming_2008.groupby([\"TUCASEID\"]).sum().filter([\"TUCASEID\", \"TUACTDUR24\"])\n",
    "groom_2008_merge = pd.merge(groom_2008, multi_resp, on =\"TUCASEID\").filter([\"TUCASEID\",\"TUACTDUR24\",\"TUYEAR\",\"TUFNWGTP\"])\n",
    "\n",
    "groom_2008_merge[\"Multiplied Weight\"] = groom_2008_merge[\"TUACTDUR24\"] * groom_2008_merge[\"TUFNWGTP\"]\n",
    "groom_2008_weight = groom_2008_merge[\"Multiplied Weight\"].sum()\n",
    "grooming_2008_avg_hr_per_day = groom_2008_weight.sum() / all_2008_weight /60\n",
    "\n",
    "# grooming 2009\n",
    "grooming_2009 = atus_2009[atus_2009[\"TRTIER2P\"].apply(str).str.startswith(\"0102\")]\n",
    "groom_2009 = grooming_2009.groupby([\"TUCASEID\"]).sum().filter([\"TUCASEID\", \"TUACTDUR24\"])\n",
    "groom_2009_merge = pd.merge(groom_2009, multi_resp, on =\"TUCASEID\").filter([\"TUCASEID\",\"TUACTDUR24\",\"TUYEAR\",\"TUFNWGTP\"])\n",
    "\n",
    "groom_2009_merge[\"Multiplied Weight\"] = groom_2009_merge[\"TUACTDUR24\"] * groom_2009_merge[\"TUFNWGTP\"]\n",
    "groom_2009_weight = groom_2009_merge[\"Multiplied Weight\"].sum()\n",
    "grooming_2009_avg_hr_per_day = groom_2009_weight.sum() / all_2009_weight /60\n",
    "\n",
    "# grooming 2010\n",
    "grooming_2010 = atus_2010[atus_2010[\"TRTIER2P\"].apply(str).str.startswith(\"0102\")]\n",
    "groom_2010 = grooming_2010.groupby([\"TUCASEID\"]).sum().filter([\"TUCASEID\", \"TUACTDUR24\"])\n",
    "groom_2010_merge = pd.merge(groom_2010, multi_resp, on =\"TUCASEID\").filter([\"TUCASEID\",\"TUACTDUR24\",\"TUYEAR\",\"TUFNWGTP\"])\n",
    "\n",
    "groom_2010_merge[\"Multiplied Weight\"] = groom_2010_merge[\"TUACTDUR24\"] * groom_2010_merge[\"TUFNWGTP\"]\n",
    "groom_2010_weight = groom_2010_merge[\"Multiplied Weight\"].sum()\n",
    "grooming_2010_avg_hr_per_day = groom_2010_weight.sum() / all_2010_weight /60\n",
    "\n",
    "# grooming 2011\n",
    "grooming_2011 = atus_2011[atus_2011[\"TRTIER2P\"].apply(str).str.startswith(\"0102\")]\n",
    "groom_2011 = grooming_2011.groupby([\"TUCASEID\"]).sum().filter([\"TUCASEID\", \"TUACTDUR24\"])\n",
    "groom_2011_merge = pd.merge(groom_2011, multi_resp, on =\"TUCASEID\").filter([\"TUCASEID\",\"TUACTDUR24\",\"TUYEAR\",\"TUFNWGTP\"])\n",
    "\n",
    "groom_2011_merge[\"Multiplied Weight\"] = groom_2011_merge[\"TUACTDUR24\"] * groom_2011_merge[\"TUFNWGTP\"]\n",
    "groom_2011_weight = groom_2011_merge[\"Multiplied Weight\"].sum()\n",
    "grooming_2011_avg_hr_per_day = groom_2011_weight.sum() / all_2011_weight /60\n",
    "\n",
    "# grooming 2012\n",
    "grooming_2012 = atus_2012[atus_2012[\"TRTIER2P\"].apply(str).str.startswith(\"0102\")]\n",
    "groom_2012 = grooming_2012.groupby([\"TUCASEID\"]).sum().filter([\"TUCASEID\", \"TUACTDUR24\"])\n",
    "groom_2012_merge = pd.merge(groom_2012, multi_resp, on =\"TUCASEID\").filter([\"TUCASEID\",\"TUACTDUR24\",\"TUYEAR\",\"TUFNWGTP\"])\n",
    "\n",
    "groom_2012_merge[\"Multiplied Weight\"] = groom_2012_merge[\"TUACTDUR24\"] * groom_2012_merge[\"TUFNWGTP\"]\n",
    "groom_2012_weight = groom_2012_merge[\"Multiplied Weight\"].sum()\n",
    "grooming_2012_avg_hr_per_day = groom_2012_weight.sum() / all_2012_weight /60\n",
    "\n",
    "# grooming 2013\n",
    "grooming_2013 = atus_2013[atus_2013[\"TRTIER2P\"].apply(str).str.startswith(\"0102\")]\n",
    "groom_2013 = grooming_2013.groupby([\"TUCASEID\"]).sum().filter([\"TUCASEID\", \"TUACTDUR24\"])\n",
    "groom_2013_merge = pd.merge(groom_2013, multi_resp, on =\"TUCASEID\").filter([\"TUCASEID\",\"TUACTDUR24\",\"TUYEAR\",\"TUFNWGTP\"])\n",
    "\n",
    "groom_2013_merge[\"Multiplied Weight\"] = groom_2013_merge[\"TUACTDUR24\"] * groom_2013_merge[\"TUFNWGTP\"]\n",
    "groom_2013_weight = groom_2013_merge[\"Multiplied Weight\"].sum()\n",
    "grooming_2013_avg_hr_per_day = groom_2013_weight.sum() / all_2013_weight /60\n",
    "\n",
    "# grooming 2014\n",
    "grooming_2014 = atus_2014[atus_2014[\"TRTIER2P\"].apply(str).str.startswith(\"0102\")]\n",
    "groom_2014 = grooming_2014.groupby([\"TUCASEID\"]).sum().filter([\"TUCASEID\", \"TUACTDUR24\"])\n",
    "groom_2014_merge = pd.merge(groom_2014, multi_resp, on =\"TUCASEID\").filter([\"TUCASEID\",\"TUACTDUR24\",\"TUYEAR\",\"TUFNWGTP\"])\n",
    "\n",
    "groom_2014_merge[\"Multiplied Weight\"] = groom_2014_merge[\"TUACTDUR24\"] * groom_2014_merge[\"TUFNWGTP\"]\n",
    "groom_2014_weight = groom_2014_merge[\"Multiplied Weight\"].sum()\n",
    "grooming_2014_avg_hr_per_day = groom_2014_weight.sum() / all_2014_weight /60\n",
    "\n",
    "# grooming 2015\n",
    "grooming_2015 = atus_2015[atus_2015[\"TRTIER2P\"].apply(str).str.startswith(\"0102\")]\n",
    "groom_2015 = grooming_2015.groupby([\"TUCASEID\"]).sum().filter([\"TUCASEID\", \"TUACTDUR24\"])\n",
    "groom_2015_merge = pd.merge(groom_2015, multi_resp, on =\"TUCASEID\").filter([\"TUCASEID\",\"TUACTDUR24\",\"TUYEAR\",\"TUFNWGTP\"])\n",
    "\n",
    "groom_2015_merge[\"Multiplied Weight\"] = groom_2015_merge[\"TUACTDUR24\"] * groom_2015_merge[\"TUFNWGTP\"]\n",
    "groom_2015_weight = groom_2015_merge[\"Multiplied Weight\"].sum()\n",
    "grooming_2015_avg_hr_per_day = groom_2015_weight.sum() / all_2015_weight /60\n",
    "\n",
    "# grooming 2016\n",
    "grooming_2016 = atus_2016[atus_2016[\"TRTIER2P\"].apply(str).str.startswith(\"0102\")]\n",
    "groom_2016 = grooming_2016.groupby([\"TUCASEID\"]).sum().filter([\"TUCASEID\", \"TUACTDUR24\"])\n",
    "groom_2016_merge = pd.merge(groom_2016, multi_resp, on =\"TUCASEID\").filter([\"TUCASEID\",\"TUACTDUR24\",\"TUYEAR\",\"TUFNWGTP\"])\n",
    "\n",
    "groom_2016_merge[\"Multiplied Weight\"] = groom_2016_merge[\"TUACTDUR24\"] * groom_2016_merge[\"TUFNWGTP\"]\n",
    "groom_2016_weight = groom_2016_merge[\"Multiplied Weight\"].sum()\n",
    "grooming_2016_avg_hr_per_day = groom_2016_weight.sum() / all_2016_weight /60\n",
    "\n",
    "# grooming 2017\n",
    "grooming_2017 = atus_2017[atus_2017[\"TRTIER2P\"].apply(str).str.startswith(\"0102\")]\n",
    "groom_2017 = grooming_2017.groupby([\"TUCASEID\"]).sum().filter([\"TUCASEID\", \"TUACTDUR24\"])\n",
    "groom_2017_merge = pd.merge(groom_2017, multi_resp, on =\"TUCASEID\").filter([\"TUCASEID\",\"TUACTDUR24\",\"TUYEAR\",\"TUFNWGTP\"])\n",
    "\n",
    "groom_2017_merge[\"Multiplied Weight\"] = groom_2017_merge[\"TUACTDUR24\"] * groom_2017_merge[\"TUFNWGTP\"]\n",
    "groom_2017_weight = groom_2017_merge[\"Multiplied Weight\"].sum()\n",
    "grooming_2017_avg_hr_per_day = groom_2017_weight.sum() / all_2017_weight /60\n",
    "\n",
    "# grooming 2018\n",
    "grooming_2018 = atus_2018[atus_2018[\"TRTIER2P\"].apply(str).str.startswith(\"0102\")]\n",
    "groom_2018 = grooming_2018.groupby([\"TUCASEID\"]).sum().filter([\"TUCASEID\", \"TUACTDUR24\"])\n",
    "groom_2018_merge = pd.merge(groom_2018, multi_resp, on =\"TUCASEID\").filter([\"TUCASEID\",\"TUACTDUR24\",\"TUYEAR\",\"TUFNWGTP\"])\n",
    "\n",
    "groom_2018_merge[\"Multiplied Weight\"] = groom_2018_merge[\"TUACTDUR24\"] * groom_2018_merge[\"TUFNWGTP\"]\n",
    "groom_2018_weight = groom_2018_merge[\"Multiplied Weight\"].sum()\n",
    "grooming_2018_avg_hr_per_day = groom_2018_weight.sum() / all_2018_weight /60\n",
    "\n",
    "# grooming 2019\n",
    "grooming_2019 = atus_2019[atus_2019[\"TRTIER2P\"].apply(str).str.startswith(\"0102\")]\n",
    "groom_2019 = grooming_2019.groupby([\"TUCASEID\"]).sum().filter([\"TUCASEID\", \"TUACTDUR24\"])\n",
    "groom_2019_merge = pd.merge(groom_2019, multi_resp, on =\"TUCASEID\").filter([\"TUCASEID\",\"TUACTDUR24\",\"TUYEAR\",\"TUFNWGTP\"])\n",
    "\n",
    "groom_2019_merge[\"Multiplied Weight\"] = groom_2019_merge[\"TUACTDUR24\"] * groom_2019_merge[\"TUFNWGTP\"]\n",
    "groom_2019_weight = groom_2019_merge[\"Multiplied Weight\"].sum()\n",
    "grooming_2019_avg_hr_per_day = groom_2019_weight.sum() / all_2019_weight /60"
   ]
  },
  {
   "cell_type": "markdown",
   "metadata": {},
   "source": [
    "### Grooming Regression\n",
    "2003-2019 Grooming Regression"
   ]
  },
  {
   "cell_type": "code",
   "execution_count": 120,
   "metadata": {},
   "outputs": [
    {
     "data": {
      "image/png": "[encoded data removed]",
      "text/plain": [
       "<Figure size 432x288 with 1 Axes>"
      ]
     },
     "metadata": {
      "needs_background": "light"
     },
     "output_type": "display_data"
    }
   ],
   "source": [
    "year = np.array([2003, 2004, 2005, 2006, 2007, 2008, 2009, 2010,2011,2012,2013,2014,2015,2016,2017,2018,2019]).reshape((-1, 1))\n",
    "activity_hours_per_day = np.array([grooming_2003_avg_hr_per_day, grooming_2004_avg_hr_per_day, grooming_2005_avg_hr_per_day, \n",
    "                                   grooming_2006_avg_hr_per_day, grooming_2007_avg_hr_per_day, grooming_2008_avg_hr_per_day, \n",
    "                                   grooming_2009_avg_hr_per_day, grooming_2010_avg_hr_per_day, grooming_2011_avg_hr_per_day, \n",
    "                                   grooming_2012_avg_hr_per_day, grooming_2013_avg_hr_per_day, grooming_2014_avg_hr_per_day, \n",
    "                                   grooming_2015_avg_hr_per_day, grooming_2016_avg_hr_per_day, grooming_2017_avg_hr_per_day, \n",
    "                                   grooming_2018_avg_hr_per_day, grooming_2019_avg_hr_per_day]).reshape((-1, 1))\n",
    "\n",
    "activity_hours_per_yr = [i * 365/365 for i in activity_hours_per_day]\n",
    "#activity_hours_per_yr\n",
    "\n",
    "x = year\n",
    "y = activity_hours_per_yr\n",
    "x, y = np.array(x), np.array(y)\n",
    "\n",
    "model = LinearRegression().fit(x, y)\n",
    "\n",
    "y_pred = model.predict(x)  \n",
    "\n",
    "plt.scatter(x, y)\n",
    "plt.plot(x, y_pred, color='red')\n",
    "plt.show()"
   ]
  },
  {
   "cell_type": "code",
   "execution_count": 63,
   "metadata": {},
   "outputs": [
    {
     "data": {
      "text/plain": [
       "0.3587742332313927"
      ]
     },
     "execution_count": 63,
     "metadata": {},
     "output_type": "execute_result"
    }
   ],
   "source": [
    "coefficient_of_determination = model.score(x,y) #R sqaure value \n",
    "coefficient_of_determination"
   ]
  },
  {
   "cell_type": "code",
   "execution_count": 64,
   "metadata": {},
   "outputs": [
    {
     "data": {
      "text/plain": [
       "array([[0.00122692]])"
      ]
     },
     "execution_count": 64,
     "metadata": {},
     "output_type": "execute_result"
    }
   ],
   "source": [
    "grooming_res_2003_2019_slope = model.coef_\n",
    "grooming_res_2003_2019_slope"
   ]
  },
  {
   "cell_type": "code",
   "execution_count": 119,
   "metadata": {},
   "outputs": [
    {
     "data": {
      "text/html": [
       "<div>\n",
       "<style scoped>\n",
       "    .dataframe tbody tr th:only-of-type {\n",
       "        vertical-align: middle;\n",
       "    }\n",
       "\n",
       "    .dataframe tbody tr th {\n",
       "        vertical-align: top;\n",
       "    }\n",
       "\n",
       "    .dataframe thead th {\n",
       "        text-align: right;\n",
       "    }\n",
       "</style>\n",
       "<table border=\"1\" class=\"dataframe\">\n",
       "  <thead>\n",
       "    <tr style=\"text-align: right;\">\n",
       "      <th></th>\n",
       "      <th>Year</th>\n",
       "      <th>HPD</th>\n",
       "    </tr>\n",
       "  </thead>\n",
       "  <tbody>\n",
       "    <tr>\n",
       "      <th>0</th>\n",
       "      <td>2003</td>\n",
       "      <td>0.073778</td>\n",
       "    </tr>\n",
       "    <tr>\n",
       "      <th>1</th>\n",
       "      <td>2004</td>\n",
       "      <td>0.667611</td>\n",
       "    </tr>\n",
       "    <tr>\n",
       "      <th>2</th>\n",
       "      <td>2005</td>\n",
       "      <td>0.666223</td>\n",
       "    </tr>\n",
       "    <tr>\n",
       "      <th>3</th>\n",
       "      <td>2006</td>\n",
       "      <td>0.666572</td>\n",
       "    </tr>\n",
       "    <tr>\n",
       "      <th>4</th>\n",
       "      <td>2007</td>\n",
       "      <td>0.668203</td>\n",
       "    </tr>\n",
       "    <tr>\n",
       "      <th>5</th>\n",
       "      <td>2008</td>\n",
       "      <td>0.673489</td>\n",
       "    </tr>\n",
       "    <tr>\n",
       "      <th>6</th>\n",
       "      <td>2009</td>\n",
       "      <td>0.669559</td>\n",
       "    </tr>\n",
       "    <tr>\n",
       "      <th>7</th>\n",
       "      <td>2010</td>\n",
       "      <td>0.685323</td>\n",
       "    </tr>\n",
       "    <tr>\n",
       "      <th>8</th>\n",
       "      <td>2011</td>\n",
       "      <td>0.691738</td>\n",
       "    </tr>\n",
       "    <tr>\n",
       "      <th>9</th>\n",
       "      <td>2012</td>\n",
       "      <td>0.667787</td>\n",
       "    </tr>\n",
       "    <tr>\n",
       "      <th>10</th>\n",
       "      <td>2013</td>\n",
       "      <td>0.696491</td>\n",
       "    </tr>\n",
       "    <tr>\n",
       "      <th>11</th>\n",
       "      <td>2014</td>\n",
       "      <td>0.684216</td>\n",
       "    </tr>\n",
       "    <tr>\n",
       "      <th>12</th>\n",
       "      <td>2015</td>\n",
       "      <td>0.687733</td>\n",
       "    </tr>\n",
       "    <tr>\n",
       "      <th>13</th>\n",
       "      <td>2016</td>\n",
       "      <td>0.691827</td>\n",
       "    </tr>\n",
       "    <tr>\n",
       "      <th>14</th>\n",
       "      <td>2017</td>\n",
       "      <td>0.678189</td>\n",
       "    </tr>\n",
       "    <tr>\n",
       "      <th>15</th>\n",
       "      <td>2018</td>\n",
       "      <td>0.673666</td>\n",
       "    </tr>\n",
       "    <tr>\n",
       "      <th>16</th>\n",
       "      <td>2019</td>\n",
       "      <td>0.682127</td>\n",
       "    </tr>\n",
       "  </tbody>\n",
       "</table>\n",
       "</div>"
      ],
      "text/plain": [
       "    Year       HPD\n",
       "0   2003  0.073778\n",
       "1   2004  0.667611\n",
       "2   2005  0.666223\n",
       "3   2006  0.666572\n",
       "4   2007  0.668203\n",
       "5   2008  0.673489\n",
       "6   2009  0.669559\n",
       "7   2010  0.685323\n",
       "8   2011  0.691738\n",
       "9   2012  0.667787\n",
       "10  2013  0.696491\n",
       "11  2014  0.684216\n",
       "12  2015  0.687733\n",
       "13  2016  0.691827\n",
       "14  2017  0.678189\n",
       "15  2018  0.673666\n",
       "16  2019  0.682127"
      ]
     },
     "execution_count": 119,
     "metadata": {},
     "output_type": "execute_result"
    }
   ],
   "source": [
    "year = [2003, 2004, 2005, 2006, 2007, 2008, 2009, 2010,2011,2012,2013,2014,2015,2016,2017,2018,2019]\n",
    "activity_hours_per_day = [grooming_2003_avg_hr_per_day, grooming_2004_avg_hr_per_day, grooming_2005_avg_hr_per_day,\n",
    "                          grooming_2006_avg_hr_per_day, grooming_2007_avg_hr_per_day, grooming_2008_avg_hr_per_day, \n",
    "                          grooming_2009_avg_hr_per_day, grooming_2010_avg_hr_per_day, grooming_2011_avg_hr_per_day, \n",
    "                          grooming_2012_avg_hr_per_day, grooming_2013_avg_hr_per_day, grooming_2014_avg_hr_per_day, \n",
    "                          grooming_2015_avg_hr_per_day, grooming_2016_avg_hr_per_day, grooming_2017_avg_hr_per_day, \n",
    "                          grooming_2018_avg_hr_per_day, grooming_2019_avg_hr_per_day]\n",
    "dictionary = {\"Year\":year,\n",
    "                  \"HPD\":activity_hours_per_day}\n",
    "\n",
    "df = pd.DataFrame(dictionary)\n",
    "df"
   ]
  },
  {
   "cell_type": "markdown",
   "metadata": {},
   "source": [
    "### Health-related Self Care (0103)\n",
    "010301 = Health-related self care, 010399 = Self care, n.e.c.*"
   ]
  },
  {
   "cell_type": "code",
   "execution_count": 129,
   "metadata": {},
   "outputs": [],
   "source": [
    "#2003 Health-related Self Care\n",
    "health_care_2003 = atus_2003_res[atus_2003_res[\"TRCODEP\"].apply(str).str.startswith(\"0103\")]\n",
    "health_2003 = health_care_2003.groupby([\"TUCASEID\"]).sum().filter([\"TUCASEID\", \"TUACTDUR24\"])\n",
    "health_2003_merge = pd.merge(health_2003, multi_resp, on =\"TUCASEID\").filter([\"TUCASEID\",\"TUACTDUR24\",\"TUYEAR\",\"TUFNWGTP\"])\n",
    "\n",
    "health_2003_merge[\"Multiplied Weight\"] = health_2003_merge[\"TUACTDUR24\"] * health_2003_merge[\"TUFNWGTP\"]\n",
    "health_2003_weight = health_2003_merge[\"Multiplied Weight\"].sum()\n",
    "health_care_res_2003_avg_hr_per_day = health_2003_weight.sum() / all_2003_weight /60\n",
    "\n",
    "\n",
    "#2004 Health-related Self Care\n",
    "health_care_2004 = atus_2004_res[atus_2004_res[\"TRCODEP\"].apply(str).str.startswith(\"0103\")]\n",
    "health_2004 = health_care_2004.groupby([\"TUCASEID\"]).sum().filter([\"TUCASEID\", \"TUACTDUR24\"])\n",
    "health_2004_merge = pd.merge(health_2004, multi_resp, on =\"TUCASEID\").filter([\"TUCASEID\",\"TUACTDUR24\",\"TUYEAR\",\"TUFNWGTP\"])\n",
    "\n",
    "health_2004_merge[\"Multiplied Weight\"] = health_2004_merge[\"TUACTDUR24\"] * health_2004_merge[\"TUFNWGTP\"]\n",
    "health_2004_weight = health_2004_merge[\"Multiplied Weight\"].sum()\n",
    "health_care_res_2004_avg_hr_per_day = health_2004_weight.sum() / all_2004_weight /60\n",
    "\n",
    "#2005 Health-related Self Care\n",
    "health_care_2005 = atus_2005_res[atus_2005_res[\"TRCODEP\"].apply(str).str.startswith(\"0103\")]\n",
    "health_2005 = health_care_2005.groupby([\"TUCASEID\"]).sum().filter([\"TUCASEID\", \"TUACTDUR24\"])\n",
    "health_2005_merge = pd.merge(health_2005, multi_resp, on =\"TUCASEID\").filter([\"TUCASEID\",\"TUACTDUR24\",\"TUYEAR\",\"TUFNWGTP\"])\n",
    "\n",
    "health_2005_merge[\"Multiplied Weight\"] = health_2005_merge[\"TUACTDUR24\"] * health_2005_merge[\"TUFNWGTP\"]\n",
    "health_2005_weight = health_2005_merge[\"Multiplied Weight\"].sum()\n",
    "health_care_res_2005_avg_hr_per_day = health_2005_weight.sum() / all_2005_weight /60\n",
    "\n",
    "#2006 Health-related Self Care\n",
    "health_care_2006 = atus_2006_res[atus_2006_res[\"TRCODEP\"].apply(str).str.startswith(\"0103\")]\n",
    "health_2006 = health_care_2006.groupby([\"TUCASEID\"]).sum().filter([\"TUCASEID\", \"TUACTDUR24\"])\n",
    "health_2006_merge = pd.merge(health_2006, multi_resp, on =\"TUCASEID\").filter([\"TUCASEID\",\"TUACTDUR24\",\"TUYEAR\",\"TUFNWGTP\"])\n",
    "\n",
    "health_2006_merge[\"Multiplied Weight\"] = health_2006_merge[\"TUACTDUR24\"] * health_2006_merge[\"TUFNWGTP\"]\n",
    "health_2006_weight = health_2006_merge[\"Multiplied Weight\"].sum()\n",
    "health_care_res_2006_avg_hr_per_day = health_2006_weight.sum() / all_2006_weight /60\n",
    "\n",
    "#2007 Health-related Self Care\n",
    "health_care_2007 = atus_2007_res[atus_2007_res[\"TRCODEP\"].apply(str).str.startswith(\"0103\")]\n",
    "health_2007 = health_care_2007.groupby([\"TUCASEID\"]).sum().filter([\"TUCASEID\", \"TUACTDUR24\"])\n",
    "health_2007_merge = pd.merge(health_2007, multi_resp, on =\"TUCASEID\").filter([\"TUCASEID\",\"TUACTDUR24\",\"TUYEAR\",\"TUFNWGTP\"])\n",
    "\n",
    "health_2007_merge[\"Multiplied Weight\"] = health_2007_merge[\"TUACTDUR24\"] * health_2007_merge[\"TUFNWGTP\"]\n",
    "health_2007_weight = health_2007_merge[\"Multiplied Weight\"].sum()\n",
    "health_care_res_2007_avg_hr_per_day = health_2007_weight.sum() / all_2007_weight /60\n",
    "\n",
    "#2008 Health-related Self Care\n",
    "health_care_2008 = atus_2008_res[atus_2008_res[\"TRCODEP\"].apply(str).str.startswith(\"0103\")]\n",
    "health_2008 = health_care_2008.groupby([\"TUCASEID\"]).sum().filter([\"TUCASEID\", \"TUACTDUR24\"])\n",
    "health_2008_merge = pd.merge(health_2008, multi_resp, on =\"TUCASEID\").filter([\"TUCASEID\",\"TUACTDUR24\",\"TUYEAR\",\"TUFNWGTP\"])\n",
    "\n",
    "health_2008_merge[\"Multiplied Weight\"] = health_2008_merge[\"TUACTDUR24\"] * health_2008_merge[\"TUFNWGTP\"]\n",
    "health_2008_weight = health_2008_merge[\"Multiplied Weight\"].sum()\n",
    "health_care_res_2008_avg_hr_per_day = health_2008_weight.sum() / all_2008_weight /60\n",
    "\n",
    "#2009 Health-related Self Care\n",
    "health_care_2009 = atus_2009_res[atus_2009_res[\"TRCODEP\"].apply(str).str.startswith(\"0103\")]\n",
    "health_2009 = health_care_2009.groupby([\"TUCASEID\"]).sum().filter([\"TUCASEID\", \"TUACTDUR24\"])\n",
    "health_2009_merge = pd.merge(health_2009, multi_resp, on =\"TUCASEID\").filter([\"TUCASEID\",\"TUACTDUR24\",\"TUYEAR\",\"TUFNWGTP\"])\n",
    "\n",
    "health_2009_merge[\"Multiplied Weight\"] = health_2009_merge[\"TUACTDUR24\"] * health_2009_merge[\"TUFNWGTP\"]\n",
    "health_2009_weight = health_2009_merge[\"Multiplied Weight\"].sum()\n",
    "health_care_res_2009_avg_hr_per_day = health_2009_weight.sum() / all_2009_weight /60\n",
    "\n",
    "#2010 Health-related Self Care\n",
    "health_care_2010 = atus_2010_res[atus_2010_res[\"TRCODEP\"].apply(str).str.startswith(\"0103\")]\n",
    "health_2010 = health_care_2010.groupby([\"TUCASEID\"]).sum().filter([\"TUCASEID\", \"TUACTDUR24\"])\n",
    "health_2010_merge = pd.merge(health_2010, multi_resp, on =\"TUCASEID\").filter([\"TUCASEID\",\"TUACTDUR24\",\"TUYEAR\",\"TUFNWGTP\"])\n",
    "\n",
    "health_2010_merge[\"Multiplied Weight\"] = health_2010_merge[\"TUACTDUR24\"] * health_2010_merge[\"TUFNWGTP\"]\n",
    "health_2010_weight = health_2010_merge[\"Multiplied Weight\"].sum()\n",
    "health_care_res_2010_avg_hr_per_day = health_2010_weight.sum() / all_2010_weight /60\n",
    "\n",
    "#2011 Health-related Self Care\n",
    "health_care_2011 = atus_2011_res[atus_2011_res[\"TRCODEP\"].apply(str).str.startswith(\"0103\")]\n",
    "health_2011 = health_care_2011.groupby([\"TUCASEID\"]).sum().filter([\"TUCASEID\", \"TUACTDUR24\"])\n",
    "health_2011_merge = pd.merge(health_2011, multi_resp, on =\"TUCASEID\").filter([\"TUCASEID\",\"TUACTDUR24\",\"TUYEAR\",\"TUFNWGTP\"])\n",
    "\n",
    "health_2011_merge[\"Multiplied Weight\"] = health_2011_merge[\"TUACTDUR24\"] * health_2011_merge[\"TUFNWGTP\"]\n",
    "health_2011_weight = health_2011_merge[\"Multiplied Weight\"].sum()\n",
    "health_care_res_2011_avg_hr_per_day = health_2011_weight.sum() / all_2011_weight /60\n",
    "\n",
    "#2012 Health-related Self Care\n",
    "health_care_2012 = atus_2012_res[atus_2012_res[\"TRCODEP\"].apply(str).str.startswith(\"0103\")]\n",
    "health_2012 = health_care_2012.groupby([\"TUCASEID\"]).sum().filter([\"TUCASEID\", \"TUACTDUR24\"])\n",
    "health_2012_merge = pd.merge(health_2012, multi_resp, on =\"TUCASEID\").filter([\"TUCASEID\",\"TUACTDUR24\",\"TUYEAR\",\"TUFNWGTP\"])\n",
    "\n",
    "health_2012_merge[\"Multiplied Weight\"] = health_2012_merge[\"TUACTDUR24\"] * health_2012_merge[\"TUFNWGTP\"]\n",
    "health_2012_weight = health_2012_merge[\"Multiplied Weight\"].sum()\n",
    "health_care_res_2012_avg_hr_per_day = health_2012_weight.sum() / all_2012_weight /60\n",
    "\n",
    "#2013 Health-related Self Care\n",
    "health_care_2013 = atus_2013_res[atus_2013_res[\"TRCODEP\"].apply(str).str.startswith(\"0103\")]\n",
    "health_2013 = health_care_2013.groupby([\"TUCASEID\"]).sum().filter([\"TUCASEID\", \"TUACTDUR24\"])\n",
    "health_2013_merge = pd.merge(health_2013, multi_resp, on =\"TUCASEID\").filter([\"TUCASEID\",\"TUACTDUR24\",\"TUYEAR\",\"TUFNWGTP\"])\n",
    "\n",
    "health_2013_merge[\"Multiplied Weight\"] = health_2013_merge[\"TUACTDUR24\"] * health_2013_merge[\"TUFNWGTP\"]\n",
    "health_2013_weight = health_2013_merge[\"Multiplied Weight\"].sum()\n",
    "health_care_res_2013_avg_hr_per_day = health_2013_weight.sum() / all_2013_weight /60\n",
    "\n",
    "#2014 Health-related Self Care\n",
    "health_care_2014 = atus_2014_res[atus_2014_res[\"TRCODEP\"].apply(str).str.startswith(\"0103\")]\n",
    "health_2014 = health_care_2014.groupby([\"TUCASEID\"]).sum().filter([\"TUCASEID\", \"TUACTDUR24\"])\n",
    "health_2014_merge = pd.merge(health_2014, multi_resp, on =\"TUCASEID\").filter([\"TUCASEID\",\"TUACTDUR24\",\"TUYEAR\",\"TUFNWGTP\"])\n",
    "\n",
    "health_2014_merge[\"Multiplied Weight\"] = health_2014_merge[\"TUACTDUR24\"] * health_2014_merge[\"TUFNWGTP\"]\n",
    "health_2014_weight = health_2014_merge[\"Multiplied Weight\"].sum()\n",
    "health_care_res_2014_avg_hr_per_day = health_2014_weight.sum() / all_2014_weight /60\n",
    "\n",
    "#2015 Health-related Self Care\n",
    "health_care_2015 = atus_2015_res[atus_2015_res[\"TRCODEP\"].apply(str).str.startswith(\"0103\")]\n",
    "health_2015 = health_care_2015.groupby([\"TUCASEID\"]).sum().filter([\"TUCASEID\", \"TUACTDUR24\"])\n",
    "health_2015_merge = pd.merge(health_2015, multi_resp, on =\"TUCASEID\").filter([\"TUCASEID\",\"TUACTDUR24\",\"TUYEAR\",\"TUFNWGTP\"])\n",
    "\n",
    "health_2015_merge[\"Multiplied Weight\"] = health_2015_merge[\"TUACTDUR24\"] * health_2015_merge[\"TUFNWGTP\"]\n",
    "health_2015_weight = health_2015_merge[\"Multiplied Weight\"].sum()\n",
    "health_care_res_2015_avg_hr_per_day = health_2015_weight.sum() / all_2015_weight /60\n",
    "\n",
    "#2016 Health-related Self Care\n",
    "health_care_2016 = atus_2016_res[atus_2016_res[\"TRCODEP\"].apply(str).str.startswith(\"0103\")]\n",
    "health_2016 = health_care_2016.groupby([\"TUCASEID\"]).sum().filter([\"TUCASEID\", \"TUACTDUR24\"])\n",
    "health_2016_merge = pd.merge(health_2016, multi_resp, on =\"TUCASEID\").filter([\"TUCASEID\",\"TUACTDUR24\",\"TUYEAR\",\"TUFNWGTP\"])\n",
    "\n",
    "health_2016_merge[\"Multiplied Weight\"] = health_2016_merge[\"TUACTDUR24\"] * health_2016_merge[\"TUFNWGTP\"]\n",
    "health_2016_weight = health_2016_merge[\"Multiplied Weight\"].sum()\n",
    "health_care_res_2016_avg_hr_per_day = health_2016_weight.sum() / all_2016_weight /60\n",
    "\n",
    "#2017 Health-related Self Care\n",
    "health_care_2017 = atus_2017_res[atus_2017_res[\"TRCODEP\"].apply(str).str.startswith(\"0103\")]\n",
    "health_2017 = health_care_2017.groupby([\"TUCASEID\"]).sum().filter([\"TUCASEID\", \"TUACTDUR24\"])\n",
    "health_2017_merge = pd.merge(health_2017, multi_resp, on =\"TUCASEID\").filter([\"TUCASEID\",\"TUACTDUR24\",\"TUYEAR\",\"TUFNWGTP\"])\n",
    "\n",
    "health_2017_merge[\"Multiplied Weight\"] = health_2017_merge[\"TUACTDUR24\"] * health_2017_merge[\"TUFNWGTP\"]\n",
    "health_2017_weight = health_2017_merge[\"Multiplied Weight\"].sum()\n",
    "health_care_res_2017_avg_hr_per_day = health_2017_weight.sum() / all_2017_weight /60\n",
    "\n",
    "#2018 Health-related Self Care\n",
    "health_care_2018 = atus_2018_res[atus_2018_res[\"TRCODEP\"].apply(str).str.startswith(\"0103\")]\n",
    "health_2018 = health_care_2018.groupby([\"TUCASEID\"]).sum().filter([\"TUCASEID\", \"TUACTDUR24\"])\n",
    "health_2018_merge = pd.merge(health_2018, multi_resp, on =\"TUCASEID\").filter([\"TUCASEID\",\"TUACTDUR24\",\"TUYEAR\",\"TUFNWGTP\"])\n",
    "\n",
    "health_2018_merge[\"Multiplied Weight\"] = health_2018_merge[\"TUACTDUR24\"] * health_2018_merge[\"TUFNWGTP\"]\n",
    "health_2018_weight = health_2018_merge[\"Multiplied Weight\"].sum()\n",
    "health_care_res_2018_avg_hr_per_day = health_2018_weight.sum() / all_2018_weight /60\n",
    "\n",
    "#2019 Health-related Self Care\n",
    "health_care_2019 = atus_2019_res[atus_2019_res[\"TRCODEP\"].apply(str).str.startswith(\"0103\")]\n",
    "health_2019 = health_care_2019.groupby([\"TUCASEID\"]).sum().filter([\"TUCASEID\", \"TUACTDUR24\"])\n",
    "health_2019_merge = pd.merge(health_2019, multi_resp, on =\"TUCASEID\").filter([\"TUCASEID\",\"TUACTDUR24\",\"TUYEAR\",\"TUFNWGTP\"])\n",
    "\n",
    "health_2019_merge[\"Multiplied Weight\"] = health_2019_merge[\"TUACTDUR24\"] * health_2019_merge[\"TUFNWGTP\"]\n",
    "health_2019_weight = health_2019_merge[\"Multiplied Weight\"].sum()\n",
    "health_care_res_2019_avg_hr_per_day = health_2019_weight.sum() / all_2019_weight /60"
   ]
  },
  {
   "cell_type": "code",
   "execution_count": 130,
   "metadata": {},
   "outputs": [
    {
     "data": {
      "image/png": "[encoded data removed]",
      "text/plain": [
       "<Figure size 432x288 with 1 Axes>"
      ]
     },
     "metadata": {
      "needs_background": "light"
     },
     "output_type": "display_data"
    }
   ],
   "source": [
    "year = np.array([2003, 2004, 2005, 2006, 2007, 2008, 2009, 2010,2011,2012,2013,2014,2015,2016,2017,2018,2019]).reshape((-1, 1))\n",
    "activity_hours_per_day = np.array([health_care_res_2003_avg_hr_per_day, health_care_res_2004_avg_hr_per_day, \n",
    "                                   health_care_res_2005_avg_hr_per_day, health_care_res_2006_avg_hr_per_day, \n",
    "                                   health_care_res_2007_avg_hr_per_day, health_care_res_2008_avg_hr_per_day, \n",
    "                                   health_care_res_2009_avg_hr_per_day, health_care_res_2010_avg_hr_per_day, \n",
    "                                   health_care_res_2011_avg_hr_per_day, health_care_res_2012_avg_hr_per_day, \n",
    "                                   health_care_res_2013_avg_hr_per_day, health_care_res_2014_avg_hr_per_day, \n",
    "                                   health_care_res_2015_avg_hr_per_day, health_care_res_2016_avg_hr_per_day, \n",
    "                                   health_care_res_2017_avg_hr_per_day, health_care_res_2018_avg_hr_per_day, \n",
    "                                   health_care_res_2019_avg_hr_per_day]).reshape((-1, 1))\n",
    "\n",
    "activity_hours_per_yr = [i * 365/365 for i in activity_hours_per_day]\n",
    "#activity_hours_per_yr\n",
    "\n",
    "x = year\n",
    "y = activity_hours_per_yr\n",
    "x, y = np.array(x), np.array(y)\n",
    "\n",
    "model = LinearRegression().fit(x, y)\n",
    "\n",
    "y_pred = model.predict(x)  \n",
    "\n",
    "plt.scatter(x, y)\n",
    "plt.plot(x, y_pred, color='red')\n",
    "plt.show()"
   ]
  },
  {
   "cell_type": "code",
   "execution_count": 131,
   "metadata": {},
   "outputs": [
    {
     "data": {
      "text/plain": [
       "0.19219188752907623"
      ]
     },
     "execution_count": 131,
     "metadata": {},
     "output_type": "execute_result"
    }
   ],
   "source": [
    "coefficient_of_determination = model.score(x,y) #R sqaure value \n",
    "coefficient_of_determination"
   ]
  },
  {
   "cell_type": "code",
   "execution_count": 132,
   "metadata": {},
   "outputs": [
    {
     "data": {
      "text/plain": [
       "array([[-0.0011476]])"
      ]
     },
     "execution_count": 132,
     "metadata": {},
     "output_type": "execute_result"
    }
   ],
   "source": [
    "health_care_res_2003_2019_slope = model.coef_\n",
    "health_care_res_2003_2019_slope"
   ]
  },
  {
   "cell_type": "code",
   "execution_count": 134,
   "metadata": {},
   "outputs": [
    {
     "data": {
      "text/html": [
       "<div>\n",
       "<style scoped>\n",
       "    .dataframe tbody tr th:only-of-type {\n",
       "        vertical-align: middle;\n",
       "    }\n",
       "\n",
       "    .dataframe tbody tr th {\n",
       "        vertical-align: top;\n",
       "    }\n",
       "\n",
       "    .dataframe thead th {\n",
       "        text-align: right;\n",
       "    }\n",
       "</style>\n",
       "<table border=\"1\" class=\"dataframe\">\n",
       "  <thead>\n",
       "    <tr style=\"text-align: right;\">\n",
       "      <th></th>\n",
       "      <th>Year</th>\n",
       "      <th>HPD</th>\n",
       "    </tr>\n",
       "  </thead>\n",
       "  <tbody>\n",
       "    <tr>\n",
       "      <th>0</th>\n",
       "      <td>2003</td>\n",
       "      <td>0.073778</td>\n",
       "    </tr>\n",
       "    <tr>\n",
       "      <th>1</th>\n",
       "      <td>2004</td>\n",
       "      <td>0.092285</td>\n",
       "    </tr>\n",
       "    <tr>\n",
       "      <th>2</th>\n",
       "      <td>2005</td>\n",
       "      <td>0.099012</td>\n",
       "    </tr>\n",
       "    <tr>\n",
       "      <th>3</th>\n",
       "      <td>2006</td>\n",
       "      <td>0.090424</td>\n",
       "    </tr>\n",
       "    <tr>\n",
       "      <th>4</th>\n",
       "      <td>2007</td>\n",
       "      <td>0.064534</td>\n",
       "    </tr>\n",
       "    <tr>\n",
       "      <th>5</th>\n",
       "      <td>2008</td>\n",
       "      <td>0.085551</td>\n",
       "    </tr>\n",
       "    <tr>\n",
       "      <th>6</th>\n",
       "      <td>2009</td>\n",
       "      <td>0.076980</td>\n",
       "    </tr>\n",
       "    <tr>\n",
       "      <th>7</th>\n",
       "      <td>2010</td>\n",
       "      <td>0.085904</td>\n",
       "    </tr>\n",
       "    <tr>\n",
       "      <th>8</th>\n",
       "      <td>2011</td>\n",
       "      <td>0.059922</td>\n",
       "    </tr>\n",
       "    <tr>\n",
       "      <th>9</th>\n",
       "      <td>2012</td>\n",
       "      <td>0.064604</td>\n",
       "    </tr>\n",
       "    <tr>\n",
       "      <th>10</th>\n",
       "      <td>2013</td>\n",
       "      <td>0.087328</td>\n",
       "    </tr>\n",
       "    <tr>\n",
       "      <th>11</th>\n",
       "      <td>2014</td>\n",
       "      <td>0.074896</td>\n",
       "    </tr>\n",
       "    <tr>\n",
       "      <th>12</th>\n",
       "      <td>2015</td>\n",
       "      <td>0.093938</td>\n",
       "    </tr>\n",
       "    <tr>\n",
       "      <th>13</th>\n",
       "      <td>2016</td>\n",
       "      <td>0.061385</td>\n",
       "    </tr>\n",
       "    <tr>\n",
       "      <th>14</th>\n",
       "      <td>2017</td>\n",
       "      <td>0.077163</td>\n",
       "    </tr>\n",
       "    <tr>\n",
       "      <th>15</th>\n",
       "      <td>2018</td>\n",
       "      <td>0.055512</td>\n",
       "    </tr>\n",
       "    <tr>\n",
       "      <th>16</th>\n",
       "      <td>2019</td>\n",
       "      <td>0.071333</td>\n",
       "    </tr>\n",
       "  </tbody>\n",
       "</table>\n",
       "</div>"
      ],
      "text/plain": [
       "    Year       HPD\n",
       "0   2003  0.073778\n",
       "1   2004  0.092285\n",
       "2   2005  0.099012\n",
       "3   2006  0.090424\n",
       "4   2007  0.064534\n",
       "5   2008  0.085551\n",
       "6   2009  0.076980\n",
       "7   2010  0.085904\n",
       "8   2011  0.059922\n",
       "9   2012  0.064604\n",
       "10  2013  0.087328\n",
       "11  2014  0.074896\n",
       "12  2015  0.093938\n",
       "13  2016  0.061385\n",
       "14  2017  0.077163\n",
       "15  2018  0.055512\n",
       "16  2019  0.071333"
      ]
     },
     "execution_count": 134,
     "metadata": {},
     "output_type": "execute_result"
    }
   ],
   "source": [
    "year = [2003, 2004, 2005, 2006, 2007, 2008, 2009, 2010,2011,2012,2013,2014,2015,2016,2017,2018,2019]\n",
    "activity_hours_per_day = [health_care_2003_avg_hr_per_day, health_care_2004_avg_hr_per_day, health_care_2005_avg_hr_per_day, \n",
    "                          health_care_2006_avg_hr_per_day, health_care_2007_avg_hr_per_day, health_care_2008_avg_hr_per_day, \n",
    "                          health_care_2009_avg_hr_per_day, health_care_2010_avg_hr_per_day, health_care_2011_avg_hr_per_day, \n",
    "                          health_care_2012_avg_hr_per_day, health_care_2013_avg_hr_per_day, health_care_2014_avg_hr_per_day, \n",
    "                          health_care_2015_avg_hr_per_day, health_care_2016_avg_hr_per_day, health_care_2017_avg_hr_per_day, \n",
    "                          health_care_2018_avg_hr_per_day, health_care_2019_avg_hr_per_day]\n",
    "dictionary = {\"Year\":year,\n",
    "                  \"HPD\":activity_hours_per_day}\n",
    "\n",
    "df = pd.DataFrame(dictionary)\n",
    "df"
   ]
  },
  {
   "cell_type": "code",
   "execution_count": null,
   "metadata": {},
   "outputs": [],
   "source": []
  },
  {
   "cell_type": "markdown",
   "metadata": {},
   "source": [
    "### Personal Activities (0104)\n",
    "010401 = Personal/Private activities, 010499 = Self care, n.e.c.*"
   ]
  },
  {
   "cell_type": "code",
   "execution_count": 151,
   "metadata": {},
   "outputs": [],
   "source": [
    "#0104 Personal Activities\n",
    "#TEWHERE = -1 is not surveyed due to confidential info and too pesonal i.e personal_act, personal_act \n",
    "#all personal_act is assumed to be done at home \n",
    "\n",
    "#2003 Personal Activities\n",
    "personal_act_2003 = atus_2003[atus_2003[\"TRTIER2P\"].apply(str).str.startswith(\"0104\")]\n",
    "personal_2003 = personal_act_2003.groupby([\"TUCASEID\"]).sum().filter([\"TUCASEID\", \"TUACTDUR24\"])\n",
    "personal_2003_merge = pd.merge(personal_2003, multi_resp, on =\"TUCASEID\").filter([\"TUCASEID\",\"TUACTDUR24\",\"TUYEAR\",\"TUFNWGTP\"])\n",
    "\n",
    "personal_2003_merge[\"Multiplied Weight\"] = personal_2003_merge[\"TUACTDUR24\"] * personal_2003_merge[\"TUFNWGTP\"]\n",
    "personal_2003_weight = personal_2003_merge[\"Multiplied Weight\"].sum()\n",
    "personal_act_2003_avg_hr_per_day = personal_2003_weight.sum() / all_2003_weight /60\n",
    "\n",
    "# 2004 Personal Activities\n",
    "personal_act_2004 = atus_2004[atus_2004[\"TRTIER2P\"].apply(str).str.startswith(\"0104\")]\n",
    "personal_2004 = personal_act_2004.groupby([\"TUCASEID\"]).sum().filter([\"TUCASEID\", \"TUACTDUR24\"])\n",
    "\n",
    "personal_2004_merge = pd.merge(personal_2004, multi_resp, on =\"TUCASEID\").filter([\"TUCASEID\",\"TUACTDUR24\",\"TUYEAR\",\"TUFNWGTP\"])\n",
    "personal_2004_merge[\"Multiplied Weight\"] = personal_2004_merge[\"TUACTDUR24\"] * personal_2004_merge[\"TUFNWGTP\"]\n",
    "#personal_2004_merge\n",
    "\n",
    "personal_2004_weight = personal_2004_merge[\"Multiplied Weight\"].sum()\n",
    "personal_act_2004_avg_hr_per_day = personal_2004_weight.sum() / all_2004_weight /60\n",
    "personal_act_2004_avg_hr_per_day\n",
    "\n",
    "# 2005 Personal Activities\n",
    "personal_act_2005 = atus_2005[atus_2005[\"TRTIER2P\"].apply(str).str.startswith(\"0104\")]\n",
    "personal_2005 = personal_act_2005.groupby([\"TUCASEID\"]).sum().filter([\"TUCASEID\", \"TUACTDUR24\"])\n",
    "personal_2005_merge = pd.merge(personal_2005, multi_resp, on =\"TUCASEID\").filter([\"TUCASEID\",\"TUACTDUR24\",\"TUYEAR\",\"TUFNWGTP\"])\n",
    "\n",
    "personal_2005_merge[\"Multiplied Weight\"] = personal_2005_merge[\"TUACTDUR24\"] * personal_2005_merge[\"TUFNWGTP\"]\n",
    "personal_2005_weight = personal_2005_merge[\"Multiplied Weight\"].sum()\n",
    "personal_act_2005_avg_hr_per_day = personal_2005_weight.sum() / all_2005_weight /60\n",
    "\n",
    "# 2006 Personal Activities\n",
    "personal_act_2006 = atus_2006[atus_2006[\"TRTIER2P\"].apply(str).str.startswith(\"0104\")]\n",
    "personal_2006 = personal_act_2006.groupby([\"TUCASEID\"]).sum().filter([\"TUCASEID\", \"TUACTDUR24\"])\n",
    "personal_2006_merge = pd.merge(personal_2006, multi_resp, on =\"TUCASEID\").filter([\"TUCASEID\",\"TUACTDUR24\",\"TUYEAR\",\"TUFNWGTP\"])\n",
    "\n",
    "personal_2006_merge[\"Multiplied Weight\"] = personal_2006_merge[\"TUACTDUR24\"] * personal_2006_merge[\"TUFNWGTP\"]\n",
    "personal_2006_weight = personal_2006_merge[\"Multiplied Weight\"].sum()\n",
    "personal_act_2006_avg_hr_per_day = personal_2006_weight.sum() / all_2006_weight /60\n",
    "\n",
    "# 2007 Personal Activities\n",
    "personal_act_2007 = atus_2007[atus_2007[\"TRTIER2P\"].apply(str).str.startswith(\"0104\")]\n",
    "personal_2007 = personal_act_2007.groupby([\"TUCASEID\"]).sum().filter([\"TUCASEID\", \"TUACTDUR24\"])\n",
    "personal_2007_merge = pd.merge(personal_2007, multi_resp, on =\"TUCASEID\").filter([\"TUCASEID\",\"TUACTDUR24\",\"TUYEAR\",\"TUFNWGTP\"])\n",
    "\n",
    "personal_2007_merge[\"Multiplied Weight\"] = personal_2007_merge[\"TUACTDUR24\"] * personal_2007_merge[\"TUFNWGTP\"]\n",
    "personal_2007_weight = personal_2007_merge[\"Multiplied Weight\"].sum()\n",
    "personal_act_2007_avg_hr_per_day = personal_2007_weight.sum() / all_2007_weight /60\n",
    "\n",
    "# 2008 Personal Activities\n",
    "personal_act_2008 = atus_2008[atus_2008[\"TRTIER2P\"].apply(str).str.startswith(\"0104\")]\n",
    "personal_2008 = personal_act_2008.groupby([\"TUCASEID\"]).sum().filter([\"TUCASEID\", \"TUACTDUR24\"])\n",
    "personal_2008_merge = pd.merge(personal_2008, multi_resp, on =\"TUCASEID\").filter([\"TUCASEID\",\"TUACTDUR24\",\"TUYEAR\",\"TUFNWGTP\"])\n",
    "\n",
    "personal_2008_merge[\"Multiplied Weight\"] = personal_2008_merge[\"TUACTDUR24\"] * personal_2008_merge[\"TUFNWGTP\"]\n",
    "personal_2008_weight = personal_2008_merge[\"Multiplied Weight\"].sum()\n",
    "personal_act_2008_avg_hr_per_day = personal_2008_weight.sum() / all_2008_weight /60\n",
    "\n",
    "# 2009 Personal Activities\n",
    "personal_act_2009 = atus_2009[atus_2009[\"TRTIER2P\"].apply(str).str.startswith(\"0104\")]\n",
    "personal_2009 = personal_act_2009.groupby([\"TUCASEID\"]).sum().filter([\"TUCASEID\", \"TUACTDUR24\"])\n",
    "personal_2009_merge = pd.merge(personal_2009, multi_resp, on =\"TUCASEID\").filter([\"TUCASEID\",\"TUACTDUR24\",\"TUYEAR\",\"TUFNWGTP\"])\n",
    "\n",
    "personal_2009_merge[\"Multiplied Weight\"] = personal_2009_merge[\"TUACTDUR24\"] * personal_2009_merge[\"TUFNWGTP\"]\n",
    "personal_2009_weight = personal_2009_merge[\"Multiplied Weight\"].sum()\n",
    "personal_act_2009_avg_hr_per_day = personal_2009_weight.sum() / all_2009_weight /60\n",
    "\n",
    "# 2010 Personal Activities\n",
    "personal_act_2010 = atus_2010[atus_2010[\"TRTIER2P\"].apply(str).str.startswith(\"0104\")]\n",
    "personal_2010 = personal_act_2010.groupby([\"TUCASEID\"]).sum().filter([\"TUCASEID\", \"TUACTDUR24\"])\n",
    "personal_2010_merge = pd.merge(personal_2010, multi_resp, on =\"TUCASEID\").filter([\"TUCASEID\",\"TUACTDUR24\",\"TUYEAR\",\"TUFNWGTP\"])\n",
    "\n",
    "personal_2010_merge[\"Multiplied Weight\"] = personal_2010_merge[\"TUACTDUR24\"] * personal_2010_merge[\"TUFNWGTP\"]\n",
    "personal_2010_weight = personal_2010_merge[\"Multiplied Weight\"].sum()\n",
    "personal_act_2010_avg_hr_per_day = personal_2010_weight.sum() / all_2010_weight /60\n",
    "\n",
    "# 2011 Personal Activities\n",
    "personal_act_2011 = atus_2011[atus_2011[\"TRTIER2P\"].apply(str).str.startswith(\"0104\")]\n",
    "personal_2011 = personal_act_2011.groupby([\"TUCASEID\"]).sum().filter([\"TUCASEID\", \"TUACTDUR24\"])\n",
    "personal_2011_merge = pd.merge(personal_2011, multi_resp, on =\"TUCASEID\").filter([\"TUCASEID\",\"TUACTDUR24\",\"TUYEAR\",\"TUFNWGTP\"])\n",
    "\n",
    "personal_2011_merge[\"Multiplied Weight\"] = personal_2011_merge[\"TUACTDUR24\"] * personal_2011_merge[\"TUFNWGTP\"]\n",
    "personal_2011_weight = personal_2011_merge[\"Multiplied Weight\"].sum()\n",
    "personal_act_2011_avg_hr_per_day = personal_2011_weight.sum() / all_2011_weight /60\n",
    "\n",
    "# 2012 Personal Activities\n",
    "personal_act_2012 = atus_2012[atus_2012[\"TRTIER2P\"].apply(str).str.startswith(\"0104\")]\n",
    "personal_2012 = personal_act_2012.groupby([\"TUCASEID\"]).sum().filter([\"TUCASEID\", \"TUACTDUR24\"])\n",
    "personal_2012_merge = pd.merge(personal_2012, multi_resp, on =\"TUCASEID\").filter([\"TUCASEID\",\"TUACTDUR24\",\"TUYEAR\",\"TUFNWGTP\"])\n",
    "\n",
    "personal_2012_merge[\"Multiplied Weight\"] = personal_2012_merge[\"TUACTDUR24\"] * personal_2012_merge[\"TUFNWGTP\"]\n",
    "personal_2012_weight = personal_2012_merge[\"Multiplied Weight\"].sum()\n",
    "personal_act_2012_avg_hr_per_day = personal_2012_weight.sum() / all_2012_weight /60\n",
    "\n",
    "# 2013 Personal Activities\n",
    "personal_act_2013 = atus_2013[atus_2013[\"TRTIER2P\"].apply(str).str.startswith(\"0104\")]\n",
    "personal_2013 = personal_act_2013.groupby([\"TUCASEID\"]).sum().filter([\"TUCASEID\", \"TUACTDUR24\"])\n",
    "personal_2013_merge = pd.merge(personal_2013, multi_resp, on =\"TUCASEID\").filter([\"TUCASEID\",\"TUACTDUR24\",\"TUYEAR\",\"TUFNWGTP\"])\n",
    "\n",
    "personal_2013_merge[\"Multiplied Weight\"] = personal_2013_merge[\"TUACTDUR24\"] * personal_2013_merge[\"TUFNWGTP\"]\n",
    "personal_2013_weight = personal_2013_merge[\"Multiplied Weight\"].sum()\n",
    "personal_act_2013_avg_hr_per_day = personal_2013_weight.sum() / all_2013_weight /60\n",
    "\n",
    "# 2014 Personal Activities\n",
    "personal_act_2014 = atus_2014[atus_2014[\"TRTIER2P\"].apply(str).str.startswith(\"0104\")]\n",
    "personal_2014 = personal_act_2014.groupby([\"TUCASEID\"]).sum().filter([\"TUCASEID\", \"TUACTDUR24\"])\n",
    "personal_2014_merge = pd.merge(personal_2014, multi_resp, on =\"TUCASEID\").filter([\"TUCASEID\",\"TUACTDUR24\",\"TUYEAR\",\"TUFNWGTP\"])\n",
    "\n",
    "personal_2014_merge[\"Multiplied Weight\"] = personal_2014_merge[\"TUACTDUR24\"] * personal_2014_merge[\"TUFNWGTP\"]\n",
    "personal_2014_weight = personal_2014_merge[\"Multiplied Weight\"].sum()\n",
    "personal_act_2014_avg_hr_per_day = personal_2014_weight.sum() / all_2014_weight /60\n",
    "\n",
    "# 2015 Personal Activities\n",
    "personal_act_2015 = atus_2015[atus_2015[\"TRTIER2P\"].apply(str).str.startswith(\"0104\")]\n",
    "personal_2015 = personal_act_2015.groupby([\"TUCASEID\"]).sum().filter([\"TUCASEID\", \"TUACTDUR24\"])\n",
    "personal_2015_merge = pd.merge(personal_2015, multi_resp, on =\"TUCASEID\").filter([\"TUCASEID\",\"TUACTDUR24\",\"TUYEAR\",\"TUFNWGTP\"])\n",
    "\n",
    "personal_2015_merge[\"Multiplied Weight\"] = personal_2015_merge[\"TUACTDUR24\"] * personal_2015_merge[\"TUFNWGTP\"]\n",
    "personal_2015_weight = personal_2015_merge[\"Multiplied Weight\"].sum()\n",
    "personal_act_2015_avg_hr_per_day = personal_2015_weight.sum() / all_2015_weight /60\n",
    "\n",
    "# 2016 Personal Activities\n",
    "personal_act_2016 = atus_2016[atus_2016[\"TRTIER2P\"].apply(str).str.startswith(\"0104\")]\n",
    "personal_2016 = personal_act_2016.groupby([\"TUCASEID\"]).sum().filter([\"TUCASEID\", \"TUACTDUR24\"])\n",
    "personal_2016_merge = pd.merge(personal_2016, multi_resp, on =\"TUCASEID\").filter([\"TUCASEID\",\"TUACTDUR24\",\"TUYEAR\",\"TUFNWGTP\"])\n",
    "\n",
    "personal_2016_merge[\"Multiplied Weight\"] = personal_2016_merge[\"TUACTDUR24\"] * personal_2016_merge[\"TUFNWGTP\"]\n",
    "personal_2016_weight = personal_2016_merge[\"Multiplied Weight\"].sum()\n",
    "personal_act_2016_avg_hr_per_day = personal_2016_weight.sum() / all_2016_weight /60\n",
    "\n",
    "# 2017 Personal Activities\n",
    "personal_act_2017 = atus_2017[atus_2017[\"TRTIER2P\"].apply(str).str.startswith(\"0104\")]\n",
    "personal_2017 = personal_act_2017.groupby([\"TUCASEID\"]).sum().filter([\"TUCASEID\", \"TUACTDUR24\"])\n",
    "personal_2017_merge = pd.merge(personal_2017, multi_resp, on =\"TUCASEID\").filter([\"TUCASEID\",\"TUACTDUR24\",\"TUYEAR\",\"TUFNWGTP\"])\n",
    "\n",
    "personal_2017_merge[\"Multiplied Weight\"] = personal_2017_merge[\"TUACTDUR24\"] * personal_2017_merge[\"TUFNWGTP\"]\n",
    "personal_2017_weight = personal_2017_merge[\"Multiplied Weight\"].sum()\n",
    "personal_act_2017_avg_hr_per_day = personal_2017_weight.sum() / all_2017_weight /60\n",
    "\n",
    "# 2018 Personal Activities\n",
    "personal_act_2018 = atus_2018[atus_2018[\"TRTIER2P\"].apply(str).str.startswith(\"0104\")]\n",
    "personal_2018 = personal_act_2018.groupby([\"TUCASEID\"]).sum().filter([\"TUCASEID\", \"TUACTDUR24\"])\n",
    "personal_2018_merge = pd.merge(personal_2018, multi_resp, on =\"TUCASEID\").filter([\"TUCASEID\",\"TUACTDUR24\",\"TUYEAR\",\"TUFNWGTP\"])\n",
    "\n",
    "personal_2018_merge[\"Multiplied Weight\"] = personal_2018_merge[\"TUACTDUR24\"] * personal_2018_merge[\"TUFNWGTP\"]\n",
    "personal_2018_weight = personal_2018_merge[\"Multiplied Weight\"].sum()\n",
    "personal_act_2018_avg_hr_per_day = personal_2018_weight.sum() / all_2018_weight /60\n",
    "\n",
    "# 2019 Personal Activities\n",
    "personal_act_2019 = atus_2019[atus_2019[\"TRTIER2P\"].apply(str).str.startswith(\"0104\")]\n",
    "personal_2019 = personal_act_2019.groupby([\"TUCASEID\"]).sum().filter([\"TUCASEID\", \"TUACTDUR24\"])\n",
    "personal_2019_merge = pd.merge(personal_2019, multi_resp, on =\"TUCASEID\").filter([\"TUCASEID\",\"TUACTDUR24\",\"TUYEAR\",\"TUFNWGTP\"])\n",
    "\n",
    "personal_2019_merge[\"Multiplied Weight\"] = personal_2019_merge[\"TUACTDUR24\"] * personal_2019_merge[\"TUFNWGTP\"]\n",
    "personal_2019_weight = personal_2019_merge[\"Multiplied Weight\"].sum()\n",
    "personal_act_2019_avg_hr_per_day = personal_2019_weight.sum() / all_2019_weight /60"
   ]
  },
  {
   "cell_type": "code",
   "execution_count": 152,
   "metadata": {},
   "outputs": [
    {
     "data": {
      "image/png": "[encoded data removed]",
      "text/plain": [
       "<Figure size 432x288 with 1 Axes>"
      ]
     },
     "metadata": {
      "needs_background": "light"
     },
     "output_type": "display_data"
    }
   ],
   "source": [
    "year = np.array([2003, 2004, 2005, 2006, 2007, 2008, 2009, 2010,2011,2012,2013,2014,2015,2016,2017,2018,2019]).reshape((-1, 1))\n",
    "activity_hours_per_day = np.array([personal_act_2003_avg_hr_per_day, personal_act_2004_avg_hr_per_day, personal_act_2005_avg_hr_per_day, \n",
    "                                   personal_act_2006_avg_hr_per_day, personal_act_2007_avg_hr_per_day, personal_act_2008_avg_hr_per_day, \n",
    "                                   personal_act_2009_avg_hr_per_day, personal_act_2010_avg_hr_per_day, personal_act_2011_avg_hr_per_day, \n",
    "                                   personal_act_2012_avg_hr_per_day, personal_act_2013_avg_hr_per_day, personal_act_2014_avg_hr_per_day, \n",
    "                                   personal_act_2015_avg_hr_per_day, personal_act_2016_avg_hr_per_day, personal_act_2017_avg_hr_per_day, \n",
    "                                   personal_act_2018_avg_hr_per_day, personal_act_2019_avg_hr_per_day]).reshape((-1, 1))\n",
    "\n",
    "activity_hours_per_yr = [i * 365/365 for i in activity_hours_per_day]\n",
    "#activity_hours_per_yr\n",
    "\n",
    "x = year\n",
    "y = activity_hours_per_yr\n",
    "x, y = np.array(x), np.array(y)\n",
    "\n",
    "model = LinearRegression().fit(x, y)\n",
    "\n",
    "y_pred = model.predict(x)  \n",
    "\n",
    "plt.scatter(x, y)\n",
    "plt.plot(x, y_pred, color='red')\n",
    "plt.show()"
   ]
  },
  {
   "cell_type": "code",
   "execution_count": 153,
   "metadata": {},
   "outputs": [
    {
     "data": {
      "text/plain": [
       "0.2871189855610582"
      ]
     },
     "execution_count": 153,
     "metadata": {},
     "output_type": "execute_result"
    }
   ],
   "source": [
    "coefficient_of_determination = model.score(x,y) #R sqaure value \n",
    "coefficient_of_determination"
   ]
  },
  {
   "cell_type": "code",
   "execution_count": 154,
   "metadata": {},
   "outputs": [
    {
     "data": {
      "text/html": [
       "<div>\n",
       "<style scoped>\n",
       "    .dataframe tbody tr th:only-of-type {\n",
       "        vertical-align: middle;\n",
       "    }\n",
       "\n",
       "    .dataframe tbody tr th {\n",
       "        vertical-align: top;\n",
       "    }\n",
       "\n",
       "    .dataframe thead th {\n",
       "        text-align: right;\n",
       "    }\n",
       "</style>\n",
       "<table border=\"1\" class=\"dataframe\">\n",
       "  <thead>\n",
       "    <tr style=\"text-align: right;\">\n",
       "      <th></th>\n",
       "      <th>Year</th>\n",
       "      <th>HPD</th>\n",
       "    </tr>\n",
       "  </thead>\n",
       "  <tbody>\n",
       "    <tr>\n",
       "      <th>0</th>\n",
       "      <td>2003</td>\n",
       "      <td>0.016975</td>\n",
       "    </tr>\n",
       "    <tr>\n",
       "      <th>1</th>\n",
       "      <td>2004</td>\n",
       "      <td>0.008817</td>\n",
       "    </tr>\n",
       "    <tr>\n",
       "      <th>2</th>\n",
       "      <td>2005</td>\n",
       "      <td>0.016083</td>\n",
       "    </tr>\n",
       "    <tr>\n",
       "      <th>3</th>\n",
       "      <td>2006</td>\n",
       "      <td>0.009237</td>\n",
       "    </tr>\n",
       "    <tr>\n",
       "      <th>4</th>\n",
       "      <td>2007</td>\n",
       "      <td>0.005943</td>\n",
       "    </tr>\n",
       "    <tr>\n",
       "      <th>5</th>\n",
       "      <td>2008</td>\n",
       "      <td>0.014821</td>\n",
       "    </tr>\n",
       "    <tr>\n",
       "      <th>6</th>\n",
       "      <td>2009</td>\n",
       "      <td>0.011051</td>\n",
       "    </tr>\n",
       "    <tr>\n",
       "      <th>7</th>\n",
       "      <td>2010</td>\n",
       "      <td>0.012727</td>\n",
       "    </tr>\n",
       "    <tr>\n",
       "      <th>8</th>\n",
       "      <td>2011</td>\n",
       "      <td>0.005660</td>\n",
       "    </tr>\n",
       "    <tr>\n",
       "      <th>9</th>\n",
       "      <td>2012</td>\n",
       "      <td>0.005330</td>\n",
       "    </tr>\n",
       "    <tr>\n",
       "      <th>10</th>\n",
       "      <td>2013</td>\n",
       "      <td>0.004831</td>\n",
       "    </tr>\n",
       "    <tr>\n",
       "      <th>11</th>\n",
       "      <td>2014</td>\n",
       "      <td>0.005047</td>\n",
       "    </tr>\n",
       "    <tr>\n",
       "      <th>12</th>\n",
       "      <td>2015</td>\n",
       "      <td>0.007255</td>\n",
       "    </tr>\n",
       "    <tr>\n",
       "      <th>13</th>\n",
       "      <td>2016</td>\n",
       "      <td>0.009271</td>\n",
       "    </tr>\n",
       "    <tr>\n",
       "      <th>14</th>\n",
       "      <td>2017</td>\n",
       "      <td>0.010775</td>\n",
       "    </tr>\n",
       "    <tr>\n",
       "      <th>15</th>\n",
       "      <td>2018</td>\n",
       "      <td>0.007361</td>\n",
       "    </tr>\n",
       "    <tr>\n",
       "      <th>16</th>\n",
       "      <td>2019</td>\n",
       "      <td>0.006430</td>\n",
       "    </tr>\n",
       "  </tbody>\n",
       "</table>\n",
       "</div>"
      ],
      "text/plain": [
       "    Year       HPD\n",
       "0   2003  0.016975\n",
       "1   2004  0.008817\n",
       "2   2005  0.016083\n",
       "3   2006  0.009237\n",
       "4   2007  0.005943\n",
       "5   2008  0.014821\n",
       "6   2009  0.011051\n",
       "7   2010  0.012727\n",
       "8   2011  0.005660\n",
       "9   2012  0.005330\n",
       "10  2013  0.004831\n",
       "11  2014  0.005047\n",
       "12  2015  0.007255\n",
       "13  2016  0.009271\n",
       "14  2017  0.010775\n",
       "15  2018  0.007361\n",
       "16  2019  0.006430"
      ]
     },
     "execution_count": 154,
     "metadata": {},
     "output_type": "execute_result"
    }
   ],
   "source": [
    "year = [2003, 2004, 2005, 2006, 2007, 2008, 2009, 2010,2011,2012,2013,2014,2015,2016,2017,2018,2019]\n",
    "activity_hours_per_day = [personal_act_2003_avg_hr_per_day, personal_act_2004_avg_hr_per_day, personal_act_2005_avg_hr_per_day,\n",
    "                          personal_act_2006_avg_hr_per_day, personal_act_2007_avg_hr_per_day, personal_act_2008_avg_hr_per_day, \n",
    "                          personal_act_2009_avg_hr_per_day, personal_act_2010_avg_hr_per_day, personal_act_2011_avg_hr_per_day, \n",
    "                          personal_act_2012_avg_hr_per_day, personal_act_2013_avg_hr_per_day, personal_act_2014_avg_hr_per_day, \n",
    "                          personal_act_2015_avg_hr_per_day, personal_act_2016_avg_hr_per_day, personal_act_2017_avg_hr_per_day, \n",
    "                          personal_act_2018_avg_hr_per_day, personal_act_2019_avg_hr_per_day]\n",
    "dictionary = {\"Year\":year,\n",
    "                  \"HPD\":activity_hours_per_day}\n",
    "\n",
    "df = pd.DataFrame(dictionary)\n",
    "df"
   ]
  },
  {
   "cell_type": "markdown",
   "metadata": {},
   "source": [
    "### Personal Care Emergencies\n",
    "010501 = Personal Emergencies, 010599 = Personal care emergencies, n.e.c.*"
   ]
  },
  {
   "cell_type": "code",
   "execution_count": 157,
   "metadata": {},
   "outputs": [],
   "source": [
    "#0105 Personal Care Emergencies\n",
    "#TEWHERE = -1 is not surveyed due to confidential info and too pesonal i.e pers_care_emergency, pers_care_emergency \n",
    "#all pers_care_emergency is assumed to be done at home \n",
    "\n",
    "#2003 Personal Care Emergencies\n",
    "pers_care_emergency_2003 = atus_2003[atus_2003[\"TRTIER2P\"].apply(str).str.startswith(\"0105\")]\n",
    "emergency_2003 = pers_care_emergency_2003.groupby([\"TUCASEID\"]).sum().filter([\"TUCASEID\", \"TUACTDUR24\"])\n",
    "emergency_2003_merge = pd.merge(emergency_2003, multi_resp, on =\"TUCASEID\").filter([\"TUCASEID\",\"TUACTDUR24\",\"TUYEAR\",\"TUFNWGTP\"])\n",
    "\n",
    "emergency_2003_merge[\"Multiplied Weight\"] = emergency_2003_merge[\"TUACTDUR24\"] * emergency_2003_merge[\"TUFNWGTP\"]\n",
    "emergency_2003_weight = emergency_2003_merge[\"Multiplied Weight\"].sum()\n",
    "pers_care_emergency_2003_avg_hr_per_day = emergency_2003_weight.sum() / all_2003_weight /60\n",
    "\n",
    "# 2004 Personal Care Emergencies\n",
    "pers_care_emergency_2004 = atus_2004[atus_2004[\"TRTIER2P\"].apply(str).str.startswith(\"0105\")]\n",
    "emergency_2004 = pers_care_emergency_2004.groupby([\"TUCASEID\"]).sum().filter([\"TUCASEID\", \"TUACTDUR24\"])\n",
    "\n",
    "emergency_2004_merge = pd.merge(emergency_2004, multi_resp, on =\"TUCASEID\").filter([\"TUCASEID\",\"TUACTDUR24\",\"TUYEAR\",\"TUFNWGTP\"])\n",
    "emergency_2004_merge[\"Multiplied Weight\"] = emergency_2004_merge[\"TUACTDUR24\"] * emergency_2004_merge[\"TUFNWGTP\"]\n",
    "#emergency_2004_merge\n",
    "\n",
    "emergency_2004_weight = emergency_2004_merge[\"Multiplied Weight\"].sum()\n",
    "pers_care_emergency_2004_avg_hr_per_day = emergency_2004_weight.sum() / all_2004_weight /60\n",
    "pers_care_emergency_2004_avg_hr_per_day\n",
    "\n",
    "# 2005 Personal Care Emergencies\n",
    "pers_care_emergency_2005 = atus_2005[atus_2005[\"TRTIER2P\"].apply(str).str.startswith(\"0105\")]\n",
    "emergency_2005 = pers_care_emergency_2005.groupby([\"TUCASEID\"]).sum().filter([\"TUCASEID\", \"TUACTDUR24\"])\n",
    "emergency_2005_merge = pd.merge(emergency_2005, multi_resp, on =\"TUCASEID\").filter([\"TUCASEID\",\"TUACTDUR24\",\"TUYEAR\",\"TUFNWGTP\"])\n",
    "\n",
    "emergency_2005_merge[\"Multiplied Weight\"] = emergency_2005_merge[\"TUACTDUR24\"] * emergency_2005_merge[\"TUFNWGTP\"]\n",
    "emergency_2005_weight = emergency_2005_merge[\"Multiplied Weight\"].sum()\n",
    "pers_care_emergency_2005_avg_hr_per_day = emergency_2005_weight.sum() / all_2005_weight /60\n",
    "\n",
    "# 2006 Personal Care Emergencies\n",
    "pers_care_emergency_2006 = atus_2006[atus_2006[\"TRTIER2P\"].apply(str).str.startswith(\"0105\")]\n",
    "emergency_2006 = pers_care_emergency_2006.groupby([\"TUCASEID\"]).sum().filter([\"TUCASEID\", \"TUACTDUR24\"])\n",
    "emergency_2006_merge = pd.merge(emergency_2006, multi_resp, on =\"TUCASEID\").filter([\"TUCASEID\",\"TUACTDUR24\",\"TUYEAR\",\"TUFNWGTP\"])\n",
    "\n",
    "emergency_2006_merge[\"Multiplied Weight\"] = emergency_2006_merge[\"TUACTDUR24\"] * emergency_2006_merge[\"TUFNWGTP\"]\n",
    "emergency_2006_weight = emergency_2006_merge[\"Multiplied Weight\"].sum()\n",
    "pers_care_emergency_2006_avg_hr_per_day = emergency_2006_weight.sum() / all_2006_weight /60\n",
    "\n",
    "# 2007 Personal Care Emergencies\n",
    "pers_care_emergency_2007 = atus_2007[atus_2007[\"TRTIER2P\"].apply(str).str.startswith(\"0105\")]\n",
    "emergency_2007 = pers_care_emergency_2007.groupby([\"TUCASEID\"]).sum().filter([\"TUCASEID\", \"TUACTDUR24\"])\n",
    "emergency_2007_merge = pd.merge(emergency_2007, multi_resp, on =\"TUCASEID\").filter([\"TUCASEID\",\"TUACTDUR24\",\"TUYEAR\",\"TUFNWGTP\"])\n",
    "\n",
    "emergency_2007_merge[\"Multiplied Weight\"] = emergency_2007_merge[\"TUACTDUR24\"] * emergency_2007_merge[\"TUFNWGTP\"]\n",
    "emergency_2007_weight = emergency_2007_merge[\"Multiplied Weight\"].sum()\n",
    "pers_care_emergency_2007_avg_hr_per_day = emergency_2007_weight.sum() / all_2007_weight /60\n",
    "\n",
    "# 2008 Personal Care Emergencies\n",
    "pers_care_emergency_2008 = atus_2008[atus_2008[\"TRTIER2P\"].apply(str).str.startswith(\"0105\")]\n",
    "emergency_2008 = pers_care_emergency_2008.groupby([\"TUCASEID\"]).sum().filter([\"TUCASEID\", \"TUACTDUR24\"])\n",
    "emergency_2008_merge = pd.merge(emergency_2008, multi_resp, on =\"TUCASEID\").filter([\"TUCASEID\",\"TUACTDUR24\",\"TUYEAR\",\"TUFNWGTP\"])\n",
    "\n",
    "emergency_2008_merge[\"Multiplied Weight\"] = emergency_2008_merge[\"TUACTDUR24\"] * emergency_2008_merge[\"TUFNWGTP\"]\n",
    "emergency_2008_weight = emergency_2008_merge[\"Multiplied Weight\"].sum()\n",
    "pers_care_emergency_2008_avg_hr_per_day = emergency_2008_weight.sum() / all_2008_weight /60\n",
    "\n",
    "# 2009 Personal Care Emergencies\n",
    "pers_care_emergency_2009 = atus_2009[atus_2009[\"TRTIER2P\"].apply(str).str.startswith(\"0105\")]\n",
    "emergency_2009 = pers_care_emergency_2009.groupby([\"TUCASEID\"]).sum().filter([\"TUCASEID\", \"TUACTDUR24\"])\n",
    "emergency_2009_merge = pd.merge(emergency_2009, multi_resp, on =\"TUCASEID\").filter([\"TUCASEID\",\"TUACTDUR24\",\"TUYEAR\",\"TUFNWGTP\"])\n",
    "\n",
    "emergency_2009_merge[\"Multiplied Weight\"] = emergency_2009_merge[\"TUACTDUR24\"] * emergency_2009_merge[\"TUFNWGTP\"]\n",
    "emergency_2009_weight = emergency_2009_merge[\"Multiplied Weight\"].sum()\n",
    "pers_care_emergency_2009_avg_hr_per_day = emergency_2009_weight.sum() / all_2009_weight /60\n",
    "\n",
    "# 2010 Personal Care Emergencies\n",
    "pers_care_emergency_2010 = atus_2010[atus_2010[\"TRTIER2P\"].apply(str).str.startswith(\"0105\")]\n",
    "emergency_2010 = pers_care_emergency_2010.groupby([\"TUCASEID\"]).sum().filter([\"TUCASEID\", \"TUACTDUR24\"])\n",
    "emergency_2010_merge = pd.merge(emergency_2010, multi_resp, on =\"TUCASEID\").filter([\"TUCASEID\",\"TUACTDUR24\",\"TUYEAR\",\"TUFNWGTP\"])\n",
    "\n",
    "emergency_2010_merge[\"Multiplied Weight\"] = emergency_2010_merge[\"TUACTDUR24\"] * emergency_2010_merge[\"TUFNWGTP\"]\n",
    "emergency_2010_weight = emergency_2010_merge[\"Multiplied Weight\"].sum()\n",
    "pers_care_emergency_2010_avg_hr_per_day = emergency_2010_weight.sum() / all_2010_weight /60\n",
    "\n",
    "# 2011 Personal Care Emergencies\n",
    "pers_care_emergency_2011 = atus_2011[atus_2011[\"TRTIER2P\"].apply(str).str.startswith(\"0105\")]\n",
    "emergency_2011 = pers_care_emergency_2011.groupby([\"TUCASEID\"]).sum().filter([\"TUCASEID\", \"TUACTDUR24\"])\n",
    "emergency_2011_merge = pd.merge(emergency_2011, multi_resp, on =\"TUCASEID\").filter([\"TUCASEID\",\"TUACTDUR24\",\"TUYEAR\",\"TUFNWGTP\"])\n",
    "\n",
    "emergency_2011_merge[\"Multiplied Weight\"] = emergency_2011_merge[\"TUACTDUR24\"] * emergency_2011_merge[\"TUFNWGTP\"]\n",
    "emergency_2011_weight = emergency_2011_merge[\"Multiplied Weight\"].sum()\n",
    "pers_care_emergency_2011_avg_hr_per_day = emergency_2011_weight.sum() / all_2011_weight /60\n",
    "\n",
    "# 2012 Personal Care Emergencies\n",
    "pers_care_emergency_2012 = atus_2012[atus_2012[\"TRTIER2P\"].apply(str).str.startswith(\"0105\")]\n",
    "emergency_2012 = pers_care_emergency_2012.groupby([\"TUCASEID\"]).sum().filter([\"TUCASEID\", \"TUACTDUR24\"])\n",
    "emergency_2012_merge = pd.merge(emergency_2012, multi_resp, on =\"TUCASEID\").filter([\"TUCASEID\",\"TUACTDUR24\",\"TUYEAR\",\"TUFNWGTP\"])\n",
    "\n",
    "emergency_2012_merge[\"Multiplied Weight\"] = emergency_2012_merge[\"TUACTDUR24\"] * emergency_2012_merge[\"TUFNWGTP\"]\n",
    "emergency_2012_weight = emergency_2012_merge[\"Multiplied Weight\"].sum()\n",
    "pers_care_emergency_2012_avg_hr_per_day = emergency_2012_weight.sum() / all_2012_weight /60\n",
    "\n",
    "# 2013 Personal Care Emergencies\n",
    "pers_care_emergency_2013 = atus_2013[atus_2013[\"TRTIER2P\"].apply(str).str.startswith(\"0105\")]\n",
    "emergency_2013 = pers_care_emergency_2013.groupby([\"TUCASEID\"]).sum().filter([\"TUCASEID\", \"TUACTDUR24\"])\n",
    "emergency_2013_merge = pd.merge(emergency_2013, multi_resp, on =\"TUCASEID\").filter([\"TUCASEID\",\"TUACTDUR24\",\"TUYEAR\",\"TUFNWGTP\"])\n",
    "\n",
    "emergency_2013_merge[\"Multiplied Weight\"] = emergency_2013_merge[\"TUACTDUR24\"] * emergency_2013_merge[\"TUFNWGTP\"]\n",
    "emergency_2013_weight = emergency_2013_merge[\"Multiplied Weight\"].sum()\n",
    "pers_care_emergency_2013_avg_hr_per_day = emergency_2013_weight.sum() / all_2013_weight /60\n",
    "\n",
    "# 2014 Personal Care Emergencies\n",
    "pers_care_emergency_2014 = atus_2014[atus_2014[\"TRTIER2P\"].apply(str).str.startswith(\"0105\")]\n",
    "emergency_2014 = pers_care_emergency_2014.groupby([\"TUCASEID\"]).sum().filter([\"TUCASEID\", \"TUACTDUR24\"])\n",
    "emergency_2014_merge = pd.merge(emergency_2014, multi_resp, on =\"TUCASEID\").filter([\"TUCASEID\",\"TUACTDUR24\",\"TUYEAR\",\"TUFNWGTP\"])\n",
    "\n",
    "emergency_2014_merge[\"Multiplied Weight\"] = emergency_2014_merge[\"TUACTDUR24\"] * emergency_2014_merge[\"TUFNWGTP\"]\n",
    "emergency_2014_weight = emergency_2014_merge[\"Multiplied Weight\"].sum()\n",
    "pers_care_emergency_2014_avg_hr_per_day = emergency_2014_weight.sum() / all_2014_weight /60\n",
    "\n",
    "# 2015 Personal Care Emergencies\n",
    "pers_care_emergency_2015 = atus_2015[atus_2015[\"TRTIER2P\"].apply(str).str.startswith(\"0105\")]\n",
    "emergency_2015 = pers_care_emergency_2015.groupby([\"TUCASEID\"]).sum().filter([\"TUCASEID\", \"TUACTDUR24\"])\n",
    "emergency_2015_merge = pd.merge(emergency_2015, multi_resp, on =\"TUCASEID\").filter([\"TUCASEID\",\"TUACTDUR24\",\"TUYEAR\",\"TUFNWGTP\"])\n",
    "\n",
    "emergency_2015_merge[\"Multiplied Weight\"] = emergency_2015_merge[\"TUACTDUR24\"] * emergency_2015_merge[\"TUFNWGTP\"]\n",
    "emergency_2015_weight = emergency_2015_merge[\"Multiplied Weight\"].sum()\n",
    "pers_care_emergency_2015_avg_hr_per_day = emergency_2015_weight.sum() / all_2015_weight /60\n",
    "\n",
    "# 2016 Personal Care Emergencies\n",
    "pers_care_emergency_2016 = atus_2016[atus_2016[\"TRTIER2P\"].apply(str).str.startswith(\"0105\")]\n",
    "emergency_2016 = pers_care_emergency_2016.groupby([\"TUCASEID\"]).sum().filter([\"TUCASEID\", \"TUACTDUR24\"])\n",
    "emergency_2016_merge = pd.merge(emergency_2016, multi_resp, on =\"TUCASEID\").filter([\"TUCASEID\",\"TUACTDUR24\",\"TUYEAR\",\"TUFNWGTP\"])\n",
    "\n",
    "emergency_2016_merge[\"Multiplied Weight\"] = emergency_2016_merge[\"TUACTDUR24\"] * emergency_2016_merge[\"TUFNWGTP\"]\n",
    "emergency_2016_weight = emergency_2016_merge[\"Multiplied Weight\"].sum()\n",
    "pers_care_emergency_2016_avg_hr_per_day = emergency_2016_weight.sum() / all_2016_weight /60\n",
    "\n",
    "# 2017 Personal Care Emergencies\n",
    "pers_care_emergency_2017 = atus_2017[atus_2017[\"TRTIER2P\"].apply(str).str.startswith(\"0105\")]\n",
    "emergency_2017 = pers_care_emergency_2017.groupby([\"TUCASEID\"]).sum().filter([\"TUCASEID\", \"TUACTDUR24\"])\n",
    "emergency_2017_merge = pd.merge(emergency_2017, multi_resp, on =\"TUCASEID\").filter([\"TUCASEID\",\"TUACTDUR24\",\"TUYEAR\",\"TUFNWGTP\"])\n",
    "\n",
    "emergency_2017_merge[\"Multiplied Weight\"] = emergency_2017_merge[\"TUACTDUR24\"] * emergency_2017_merge[\"TUFNWGTP\"]\n",
    "emergency_2017_weight = emergency_2017_merge[\"Multiplied Weight\"].sum()\n",
    "pers_care_emergency_2017_avg_hr_per_day = emergency_2017_weight.sum() / all_2017_weight /60\n",
    "\n",
    "# 2018 Personal Care Emergencies\n",
    "pers_care_emergency_2018 = atus_2018[atus_2018[\"TRTIER2P\"].apply(str).str.startswith(\"0105\")]\n",
    "emergency_2018 = pers_care_emergency_2018.groupby([\"TUCASEID\"]).sum().filter([\"TUCASEID\", \"TUACTDUR24\"])\n",
    "emergency_2018_merge = pd.merge(emergency_2018, multi_resp, on =\"TUCASEID\").filter([\"TUCASEID\",\"TUACTDUR24\",\"TUYEAR\",\"TUFNWGTP\"])\n",
    "\n",
    "emergency_2018_merge[\"Multiplied Weight\"] = emergency_2018_merge[\"TUACTDUR24\"] * emergency_2018_merge[\"TUFNWGTP\"]\n",
    "emergency_2018_weight = emergency_2018_merge[\"Multiplied Weight\"].sum()\n",
    "pers_care_emergency_2018_avg_hr_per_day = emergency_2018_weight.sum() / all_2018_weight /60\n",
    "\n",
    "# 2019 Personal Care Emergencies\n",
    "pers_care_emergency_2019 = atus_2019[atus_2019[\"TRTIER2P\"].apply(str).str.startswith(\"0105\")]\n",
    "emergency_2019 = pers_care_emergency_2019.groupby([\"TUCASEID\"]).sum().filter([\"TUCASEID\", \"TUACTDUR24\"])\n",
    "emergency_2019_merge = pd.merge(emergency_2019, multi_resp, on =\"TUCASEID\").filter([\"TUCASEID\",\"TUACTDUR24\",\"TUYEAR\",\"TUFNWGTP\"])\n",
    "\n",
    "emergency_2019_merge[\"Multiplied Weight\"] = emergency_2019_merge[\"TUACTDUR24\"] * emergency_2019_merge[\"TUFNWGTP\"]\n",
    "emergency_2019_weight = emergency_2019_merge[\"Multiplied Weight\"].sum()\n",
    "pers_care_emergency_2019_avg_hr_per_day = emergency_2019_weight.sum() / all_2019_weight /60"
   ]
  },
  {
   "cell_type": "code",
   "execution_count": 159,
   "metadata": {},
   "outputs": [
    {
     "data": {
      "image/png": "[encoded data removed]",
      "text/plain": [
       "<Figure size 432x288 with 1 Axes>"
      ]
     },
     "metadata": {
      "needs_background": "light"
     },
     "output_type": "display_data"
    }
   ],
   "source": [
    "year = np.array([2003, 2004, 2005, 2006, 2007, 2008, 2009, 2010,2011,2012,2013,2014,2015,2016,2017,2018,2019]).reshape((-1, 1))\n",
    "activity_hours_per_day = np.array([pers_care_emergency_2003_avg_hr_per_day, pers_care_emergency_2004_avg_hr_per_day, pers_care_emergency_2005_avg_hr_per_day, \n",
    "                                   pers_care_emergency_2006_avg_hr_per_day, pers_care_emergency_2007_avg_hr_per_day, pers_care_emergency_2008_avg_hr_per_day, \n",
    "                                   pers_care_emergency_2009_avg_hr_per_day, pers_care_emergency_2010_avg_hr_per_day, pers_care_emergency_2011_avg_hr_per_day, \n",
    "                                   pers_care_emergency_2012_avg_hr_per_day, pers_care_emergency_2013_avg_hr_per_day, pers_care_emergency_2014_avg_hr_per_day, \n",
    "                                   pers_care_emergency_2015_avg_hr_per_day, pers_care_emergency_2016_avg_hr_per_day, pers_care_emergency_2017_avg_hr_per_day, \n",
    "                                   pers_care_emergency_2018_avg_hr_per_day, pers_care_emergency_2019_avg_hr_per_day]).reshape((-1, 1))\n",
    "\n",
    "activity_hours_per_yr = [i * 365/365 for i in activity_hours_per_day]\n",
    "#activity_hours_per_yr\n",
    "\n",
    "x = year\n",
    "y = activity_hours_per_yr\n",
    "x, y = np.array(x), np.array(y)\n",
    "\n",
    "model = LinearRegression().fit(x, y)\n",
    "\n",
    "y_pred = model.predict(x)  \n",
    "\n",
    "plt.scatter(x, y)\n",
    "plt.plot(x, y_pred, color='red')\n",
    "plt.show()"
   ]
  },
  {
   "cell_type": "code",
   "execution_count": 160,
   "metadata": {},
   "outputs": [
    {
     "data": {
      "text/plain": [
       "9.687990236328936e-05"
      ]
     },
     "execution_count": 160,
     "metadata": {},
     "output_type": "execute_result"
    }
   ],
   "source": [
    "coefficient_of_determination = model.score(x,y) #R sqaure value \n",
    "coefficient_of_determination"
   ]
  },
  {
   "cell_type": "code",
   "execution_count": 161,
   "metadata": {},
   "outputs": [
    {
     "data": {
      "text/html": [
       "<div>\n",
       "<style scoped>\n",
       "    .dataframe tbody tr th:only-of-type {\n",
       "        vertical-align: middle;\n",
       "    }\n",
       "\n",
       "    .dataframe tbody tr th {\n",
       "        vertical-align: top;\n",
       "    }\n",
       "\n",
       "    .dataframe thead th {\n",
       "        text-align: right;\n",
       "    }\n",
       "</style>\n",
       "<table border=\"1\" class=\"dataframe\">\n",
       "  <thead>\n",
       "    <tr style=\"text-align: right;\">\n",
       "      <th></th>\n",
       "      <th>Year</th>\n",
       "      <th>HPD</th>\n",
       "    </tr>\n",
       "  </thead>\n",
       "  <tbody>\n",
       "    <tr>\n",
       "      <th>0</th>\n",
       "      <td>2003</td>\n",
       "      <td>0.000011</td>\n",
       "    </tr>\n",
       "    <tr>\n",
       "      <th>1</th>\n",
       "      <td>2004</td>\n",
       "      <td>0.000000</td>\n",
       "    </tr>\n",
       "    <tr>\n",
       "      <th>2</th>\n",
       "      <td>2005</td>\n",
       "      <td>0.000134</td>\n",
       "    </tr>\n",
       "    <tr>\n",
       "      <th>3</th>\n",
       "      <td>2006</td>\n",
       "      <td>0.000000</td>\n",
       "    </tr>\n",
       "    <tr>\n",
       "      <th>4</th>\n",
       "      <td>2007</td>\n",
       "      <td>0.000026</td>\n",
       "    </tr>\n",
       "    <tr>\n",
       "      <th>5</th>\n",
       "      <td>2008</td>\n",
       "      <td>0.000076</td>\n",
       "    </tr>\n",
       "    <tr>\n",
       "      <th>6</th>\n",
       "      <td>2009</td>\n",
       "      <td>0.000017</td>\n",
       "    </tr>\n",
       "    <tr>\n",
       "      <th>7</th>\n",
       "      <td>2010</td>\n",
       "      <td>0.000047</td>\n",
       "    </tr>\n",
       "    <tr>\n",
       "      <th>8</th>\n",
       "      <td>2011</td>\n",
       "      <td>0.000081</td>\n",
       "    </tr>\n",
       "    <tr>\n",
       "      <th>9</th>\n",
       "      <td>2012</td>\n",
       "      <td>0.000000</td>\n",
       "    </tr>\n",
       "    <tr>\n",
       "      <th>10</th>\n",
       "      <td>2013</td>\n",
       "      <td>0.000000</td>\n",
       "    </tr>\n",
       "    <tr>\n",
       "      <th>11</th>\n",
       "      <td>2014</td>\n",
       "      <td>0.000014</td>\n",
       "    </tr>\n",
       "    <tr>\n",
       "      <th>12</th>\n",
       "      <td>2015</td>\n",
       "      <td>0.000000</td>\n",
       "    </tr>\n",
       "    <tr>\n",
       "      <th>13</th>\n",
       "      <td>2016</td>\n",
       "      <td>0.000000</td>\n",
       "    </tr>\n",
       "    <tr>\n",
       "      <th>14</th>\n",
       "      <td>2017</td>\n",
       "      <td>0.000059</td>\n",
       "    </tr>\n",
       "    <tr>\n",
       "      <th>15</th>\n",
       "      <td>2018</td>\n",
       "      <td>0.000121</td>\n",
       "    </tr>\n",
       "    <tr>\n",
       "      <th>16</th>\n",
       "      <td>2019</td>\n",
       "      <td>0.000004</td>\n",
       "    </tr>\n",
       "  </tbody>\n",
       "</table>\n",
       "</div>"
      ],
      "text/plain": [
       "    Year       HPD\n",
       "0   2003  0.000011\n",
       "1   2004  0.000000\n",
       "2   2005  0.000134\n",
       "3   2006  0.000000\n",
       "4   2007  0.000026\n",
       "5   2008  0.000076\n",
       "6   2009  0.000017\n",
       "7   2010  0.000047\n",
       "8   2011  0.000081\n",
       "9   2012  0.000000\n",
       "10  2013  0.000000\n",
       "11  2014  0.000014\n",
       "12  2015  0.000000\n",
       "13  2016  0.000000\n",
       "14  2017  0.000059\n",
       "15  2018  0.000121\n",
       "16  2019  0.000004"
      ]
     },
     "execution_count": 161,
     "metadata": {},
     "output_type": "execute_result"
    }
   ],
   "source": [
    "year = [2003, 2004, 2005, 2006, 2007, 2008, 2009, 2010,2011,2012,2013,2014,2015,2016,2017,2018,2019]\n",
    "activity_hours_per_day = [pers_care_emergency_2003_avg_hr_per_day, pers_care_emergency_2004_avg_hr_per_day, pers_care_emergency_2005_avg_hr_per_day,\n",
    "                          pers_care_emergency_2006_avg_hr_per_day, pers_care_emergency_2007_avg_hr_per_day, pers_care_emergency_2008_avg_hr_per_day, \n",
    "                          pers_care_emergency_2009_avg_hr_per_day, pers_care_emergency_2010_avg_hr_per_day, pers_care_emergency_2011_avg_hr_per_day, \n",
    "                          pers_care_emergency_2012_avg_hr_per_day, pers_care_emergency_2013_avg_hr_per_day, pers_care_emergency_2014_avg_hr_per_day, \n",
    "                          pers_care_emergency_2015_avg_hr_per_day, pers_care_emergency_2016_avg_hr_per_day, pers_care_emergency_2017_avg_hr_per_day, \n",
    "                          pers_care_emergency_2018_avg_hr_per_day, pers_care_emergency_2019_avg_hr_per_day]\n",
    "dictionary = {\"Year\":year,\n",
    "                  \"HPD\":activity_hours_per_day}\n",
    "\n",
    "df = pd.DataFrame(dictionary)\n",
    "df"
   ]
  },
  {
   "cell_type": "markdown",
   "metadata": {},
   "source": [
    "### Personal Care, n.e.c.* (0199)\n",
    "019999 = Personal care, n.e.c.*"
   ]
  },
  {
   "cell_type": "code",
   "execution_count": 162,
   "metadata": {},
   "outputs": [],
   "source": [
    "#0199 Personal Care , n.e.c.*\n",
    "#TEWHERE = -1 is not surveyed due to confidential info and too pesonal i.e pers_care_nec, pers_care_nec \n",
    "#all pers_care_nec is assumed to be done at home \n",
    "\n",
    "#2003 Personal Care , n.e.c.*\n",
    "pers_care_nec_2003 = atus_2003[atus_2003[\"TRTIER2P\"].apply(str).str.startswith(\"0199\")]\n",
    "nec_2003 = pers_care_nec_2003.groupby([\"TUCASEID\"]).sum().filter([\"TUCASEID\", \"TUACTDUR24\"])\n",
    "nec_2003_merge = pd.merge(nec_2003, multi_resp, on =\"TUCASEID\").filter([\"TUCASEID\",\"TUACTDUR24\",\"TUYEAR\",\"TUFNWGTP\"])\n",
    "\n",
    "nec_2003_merge[\"Multiplied Weight\"] = nec_2003_merge[\"TUACTDUR24\"] * nec_2003_merge[\"TUFNWGTP\"]\n",
    "nec_2003_weight = nec_2003_merge[\"Multiplied Weight\"].sum()\n",
    "pers_care_nec_2003_avg_hr_per_day = nec_2003_weight.sum() / all_2003_weight /60\n",
    "\n",
    "# 2004 Personal Care , n.e.c.*\n",
    "pers_care_nec_2004 = atus_2004[atus_2004[\"TRTIER2P\"].apply(str).str.startswith(\"0199\")]\n",
    "nec_2004 = pers_care_nec_2004.groupby([\"TUCASEID\"]).sum().filter([\"TUCASEID\", \"TUACTDUR24\"])\n",
    "\n",
    "nec_2004_merge = pd.merge(nec_2004, multi_resp, on =\"TUCASEID\").filter([\"TUCASEID\",\"TUACTDUR24\",\"TUYEAR\",\"TUFNWGTP\"])\n",
    "nec_2004_merge[\"Multiplied Weight\"] = nec_2004_merge[\"TUACTDUR24\"] * nec_2004_merge[\"TUFNWGTP\"]\n",
    "#nec_2004_merge\n",
    "\n",
    "nec_2004_weight = nec_2004_merge[\"Multiplied Weight\"].sum()\n",
    "pers_care_nec_2004_avg_hr_per_day = nec_2004_weight.sum() / all_2004_weight /60\n",
    "pers_care_nec_2004_avg_hr_per_day\n",
    "\n",
    "# 2005 Personal Care , n.e.c.*\n",
    "pers_care_nec_2005 = atus_2005[atus_2005[\"TRTIER2P\"].apply(str).str.startswith(\"0199\")]\n",
    "nec_2005 = pers_care_nec_2005.groupby([\"TUCASEID\"]).sum().filter([\"TUCASEID\", \"TUACTDUR24\"])\n",
    "nec_2005_merge = pd.merge(nec_2005, multi_resp, on =\"TUCASEID\").filter([\"TUCASEID\",\"TUACTDUR24\",\"TUYEAR\",\"TUFNWGTP\"])\n",
    "\n",
    "nec_2005_merge[\"Multiplied Weight\"] = nec_2005_merge[\"TUACTDUR24\"] * nec_2005_merge[\"TUFNWGTP\"]\n",
    "nec_2005_weight = nec_2005_merge[\"Multiplied Weight\"].sum()\n",
    "pers_care_nec_2005_avg_hr_per_day = nec_2005_weight.sum() / all_2005_weight /60\n",
    "\n",
    "# 2006 Personal Care , n.e.c.*\n",
    "pers_care_nec_2006 = atus_2006[atus_2006[\"TRTIER2P\"].apply(str).str.startswith(\"0199\")]\n",
    "nec_2006 = pers_care_nec_2006.groupby([\"TUCASEID\"]).sum().filter([\"TUCASEID\", \"TUACTDUR24\"])\n",
    "nec_2006_merge = pd.merge(nec_2006, multi_resp, on =\"TUCASEID\").filter([\"TUCASEID\",\"TUACTDUR24\",\"TUYEAR\",\"TUFNWGTP\"])\n",
    "\n",
    "nec_2006_merge[\"Multiplied Weight\"] = nec_2006_merge[\"TUACTDUR24\"] * nec_2006_merge[\"TUFNWGTP\"]\n",
    "nec_2006_weight = nec_2006_merge[\"Multiplied Weight\"].sum()\n",
    "pers_care_nec_2006_avg_hr_per_day = nec_2006_weight.sum() / all_2006_weight /60\n",
    "\n",
    "# 2007 Personal Care , n.e.c.*\n",
    "pers_care_nec_2007 = atus_2007[atus_2007[\"TRTIER2P\"].apply(str).str.startswith(\"0199\")]\n",
    "nec_2007 = pers_care_nec_2007.groupby([\"TUCASEID\"]).sum().filter([\"TUCASEID\", \"TUACTDUR24\"])\n",
    "nec_2007_merge = pd.merge(nec_2007, multi_resp, on =\"TUCASEID\").filter([\"TUCASEID\",\"TUACTDUR24\",\"TUYEAR\",\"TUFNWGTP\"])\n",
    "\n",
    "nec_2007_merge[\"Multiplied Weight\"] = nec_2007_merge[\"TUACTDUR24\"] * nec_2007_merge[\"TUFNWGTP\"]\n",
    "nec_2007_weight = nec_2007_merge[\"Multiplied Weight\"].sum()\n",
    "pers_care_nec_2007_avg_hr_per_day = nec_2007_weight.sum() / all_2007_weight /60\n",
    "\n",
    "# 2008 Personal Care , n.e.c.*\n",
    "pers_care_nec_2008 = atus_2008[atus_2008[\"TRTIER2P\"].apply(str).str.startswith(\"0199\")]\n",
    "nec_2008 = pers_care_nec_2008.groupby([\"TUCASEID\"]).sum().filter([\"TUCASEID\", \"TUACTDUR24\"])\n",
    "nec_2008_merge = pd.merge(nec_2008, multi_resp, on =\"TUCASEID\").filter([\"TUCASEID\",\"TUACTDUR24\",\"TUYEAR\",\"TUFNWGTP\"])\n",
    "\n",
    "nec_2008_merge[\"Multiplied Weight\"] = nec_2008_merge[\"TUACTDUR24\"] * nec_2008_merge[\"TUFNWGTP\"]\n",
    "nec_2008_weight = nec_2008_merge[\"Multiplied Weight\"].sum()\n",
    "pers_care_nec_2008_avg_hr_per_day = nec_2008_weight.sum() / all_2008_weight /60\n",
    "\n",
    "# 2009 Personal Care , n.e.c.*\n",
    "pers_care_nec_2009 = atus_2009[atus_2009[\"TRTIER2P\"].apply(str).str.startswith(\"0199\")]\n",
    "nec_2009 = pers_care_nec_2009.groupby([\"TUCASEID\"]).sum().filter([\"TUCASEID\", \"TUACTDUR24\"])\n",
    "nec_2009_merge = pd.merge(nec_2009, multi_resp, on =\"TUCASEID\").filter([\"TUCASEID\",\"TUACTDUR24\",\"TUYEAR\",\"TUFNWGTP\"])\n",
    "\n",
    "nec_2009_merge[\"Multiplied Weight\"] = nec_2009_merge[\"TUACTDUR24\"] * nec_2009_merge[\"TUFNWGTP\"]\n",
    "nec_2009_weight = nec_2009_merge[\"Multiplied Weight\"].sum()\n",
    "pers_care_nec_2009_avg_hr_per_day = nec_2009_weight.sum() / all_2009_weight /60\n",
    "\n",
    "# 2010 Personal Care , n.e.c.*\n",
    "pers_care_nec_2010 = atus_2010[atus_2010[\"TRTIER2P\"].apply(str).str.startswith(\"0199\")]\n",
    "nec_2010 = pers_care_nec_2010.groupby([\"TUCASEID\"]).sum().filter([\"TUCASEID\", \"TUACTDUR24\"])\n",
    "nec_2010_merge = pd.merge(nec_2010, multi_resp, on =\"TUCASEID\").filter([\"TUCASEID\",\"TUACTDUR24\",\"TUYEAR\",\"TUFNWGTP\"])\n",
    "\n",
    "nec_2010_merge[\"Multiplied Weight\"] = nec_2010_merge[\"TUACTDUR24\"] * nec_2010_merge[\"TUFNWGTP\"]\n",
    "nec_2010_weight = nec_2010_merge[\"Multiplied Weight\"].sum()\n",
    "pers_care_nec_2010_avg_hr_per_day = nec_2010_weight.sum() / all_2010_weight /60\n",
    "\n",
    "# 2011 Personal Care , n.e.c.*\n",
    "pers_care_nec_2011 = atus_2011[atus_2011[\"TRTIER2P\"].apply(str).str.startswith(\"0199\")]\n",
    "nec_2011 = pers_care_nec_2011.groupby([\"TUCASEID\"]).sum().filter([\"TUCASEID\", \"TUACTDUR24\"])\n",
    "nec_2011_merge = pd.merge(nec_2011, multi_resp, on =\"TUCASEID\").filter([\"TUCASEID\",\"TUACTDUR24\",\"TUYEAR\",\"TUFNWGTP\"])\n",
    "\n",
    "nec_2011_merge[\"Multiplied Weight\"] = nec_2011_merge[\"TUACTDUR24\"] * nec_2011_merge[\"TUFNWGTP\"]\n",
    "nec_2011_weight = nec_2011_merge[\"Multiplied Weight\"].sum()\n",
    "pers_care_nec_2011_avg_hr_per_day = nec_2011_weight.sum() / all_2011_weight /60\n",
    "\n",
    "# 2012 Personal Care , n.e.c.*\n",
    "pers_care_nec_2012 = atus_2012[atus_2012[\"TRTIER2P\"].apply(str).str.startswith(\"0199\")]\n",
    "nec_2012 = pers_care_nec_2012.groupby([\"TUCASEID\"]).sum().filter([\"TUCASEID\", \"TUACTDUR24\"])\n",
    "nec_2012_merge = pd.merge(nec_2012, multi_resp, on =\"TUCASEID\").filter([\"TUCASEID\",\"TUACTDUR24\",\"TUYEAR\",\"TUFNWGTP\"])\n",
    "\n",
    "nec_2012_merge[\"Multiplied Weight\"] = nec_2012_merge[\"TUACTDUR24\"] * nec_2012_merge[\"TUFNWGTP\"]\n",
    "nec_2012_weight = nec_2012_merge[\"Multiplied Weight\"].sum()\n",
    "pers_care_nec_2012_avg_hr_per_day = nec_2012_weight.sum() / all_2012_weight /60\n",
    "\n",
    "# 2013 Personal Care , n.e.c.*\n",
    "pers_care_nec_2013 = atus_2013[atus_2013[\"TRTIER2P\"].apply(str).str.startswith(\"0199\")]\n",
    "nec_2013 = pers_care_nec_2013.groupby([\"TUCASEID\"]).sum().filter([\"TUCASEID\", \"TUACTDUR24\"])\n",
    "nec_2013_merge = pd.merge(nec_2013, multi_resp, on =\"TUCASEID\").filter([\"TUCASEID\",\"TUACTDUR24\",\"TUYEAR\",\"TUFNWGTP\"])\n",
    "\n",
    "nec_2013_merge[\"Multiplied Weight\"] = nec_2013_merge[\"TUACTDUR24\"] * nec_2013_merge[\"TUFNWGTP\"]\n",
    "nec_2013_weight = nec_2013_merge[\"Multiplied Weight\"].sum()\n",
    "pers_care_nec_2013_avg_hr_per_day = nec_2013_weight.sum() / all_2013_weight /60\n",
    "\n",
    "# 2014 Personal Care , n.e.c.*\n",
    "pers_care_nec_2014 = atus_2014[atus_2014[\"TRTIER2P\"].apply(str).str.startswith(\"0199\")]\n",
    "nec_2014 = pers_care_nec_2014.groupby([\"TUCASEID\"]).sum().filter([\"TUCASEID\", \"TUACTDUR24\"])\n",
    "nec_2014_merge = pd.merge(nec_2014, multi_resp, on =\"TUCASEID\").filter([\"TUCASEID\",\"TUACTDUR24\",\"TUYEAR\",\"TUFNWGTP\"])\n",
    "\n",
    "nec_2014_merge[\"Multiplied Weight\"] = nec_2014_merge[\"TUACTDUR24\"] * nec_2014_merge[\"TUFNWGTP\"]\n",
    "nec_2014_weight = nec_2014_merge[\"Multiplied Weight\"].sum()\n",
    "pers_care_nec_2014_avg_hr_per_day = nec_2014_weight.sum() / all_2014_weight /60\n",
    "\n",
    "# 2015 Personal Care , n.e.c.*\n",
    "pers_care_nec_2015 = atus_2015[atus_2015[\"TRTIER2P\"].apply(str).str.startswith(\"0199\")]\n",
    "nec_2015 = pers_care_nec_2015.groupby([\"TUCASEID\"]).sum().filter([\"TUCASEID\", \"TUACTDUR24\"])\n",
    "nec_2015_merge = pd.merge(nec_2015, multi_resp, on =\"TUCASEID\").filter([\"TUCASEID\",\"TUACTDUR24\",\"TUYEAR\",\"TUFNWGTP\"])\n",
    "\n",
    "nec_2015_merge[\"Multiplied Weight\"] = nec_2015_merge[\"TUACTDUR24\"] * nec_2015_merge[\"TUFNWGTP\"]\n",
    "nec_2015_weight = nec_2015_merge[\"Multiplied Weight\"].sum()\n",
    "pers_care_nec_2015_avg_hr_per_day = nec_2015_weight.sum() / all_2015_weight /60\n",
    "\n",
    "# 2016 Personal Care , n.e.c.*\n",
    "pers_care_nec_2016 = atus_2016[atus_2016[\"TRTIER2P\"].apply(str).str.startswith(\"0199\")]\n",
    "nec_2016 = pers_care_nec_2016.groupby([\"TUCASEID\"]).sum().filter([\"TUCASEID\", \"TUACTDUR24\"])\n",
    "nec_2016_merge = pd.merge(nec_2016, multi_resp, on =\"TUCASEID\").filter([\"TUCASEID\",\"TUACTDUR24\",\"TUYEAR\",\"TUFNWGTP\"])\n",
    "\n",
    "nec_2016_merge[\"Multiplied Weight\"] = nec_2016_merge[\"TUACTDUR24\"] * nec_2016_merge[\"TUFNWGTP\"]\n",
    "nec_2016_weight = nec_2016_merge[\"Multiplied Weight\"].sum()\n",
    "pers_care_nec_2016_avg_hr_per_day = nec_2016_weight.sum() / all_2016_weight /60\n",
    "\n",
    "# 2017 Personal Care , n.e.c.*\n",
    "pers_care_nec_2017 = atus_2017[atus_2017[\"TRTIER2P\"].apply(str).str.startswith(\"0199\")]\n",
    "nec_2017 = pers_care_nec_2017.groupby([\"TUCASEID\"]).sum().filter([\"TUCASEID\", \"TUACTDUR24\"])\n",
    "nec_2017_merge = pd.merge(nec_2017, multi_resp, on =\"TUCASEID\").filter([\"TUCASEID\",\"TUACTDUR24\",\"TUYEAR\",\"TUFNWGTP\"])\n",
    "\n",
    "nec_2017_merge[\"Multiplied Weight\"] = nec_2017_merge[\"TUACTDUR24\"] * nec_2017_merge[\"TUFNWGTP\"]\n",
    "nec_2017_weight = nec_2017_merge[\"Multiplied Weight\"].sum()\n",
    "pers_care_nec_2017_avg_hr_per_day = nec_2017_weight.sum() / all_2017_weight /60\n",
    "\n",
    "# 2018 Personal Care , n.e.c.*\n",
    "pers_care_nec_2018 = atus_2018[atus_2018[\"TRTIER2P\"].apply(str).str.startswith(\"0199\")]\n",
    "nec_2018 = pers_care_nec_2018.groupby([\"TUCASEID\"]).sum().filter([\"TUCASEID\", \"TUACTDUR24\"])\n",
    "nec_2018_merge = pd.merge(nec_2018, multi_resp, on =\"TUCASEID\").filter([\"TUCASEID\",\"TUACTDUR24\",\"TUYEAR\",\"TUFNWGTP\"])\n",
    "\n",
    "nec_2018_merge[\"Multiplied Weight\"] = nec_2018_merge[\"TUACTDUR24\"] * nec_2018_merge[\"TUFNWGTP\"]\n",
    "nec_2018_weight = nec_2018_merge[\"Multiplied Weight\"].sum()\n",
    "pers_care_nec_2018_avg_hr_per_day = nec_2018_weight.sum() / all_2018_weight /60\n",
    "\n",
    "# 2019 Personal Care , n.e.c.*\n",
    "pers_care_nec_2019 = atus_2019[atus_2019[\"TRTIER2P\"].apply(str).str.startswith(\"0199\")]\n",
    "nec_2019 = pers_care_nec_2019.groupby([\"TUCASEID\"]).sum().filter([\"TUCASEID\", \"TUACTDUR24\"])\n",
    "nec_2019_merge = pd.merge(nec_2019, multi_resp, on =\"TUCASEID\").filter([\"TUCASEID\",\"TUACTDUR24\",\"TUYEAR\",\"TUFNWGTP\"])\n",
    "\n",
    "nec_2019_merge[\"Multiplied Weight\"] = nec_2019_merge[\"TUACTDUR24\"] * nec_2019_merge[\"TUFNWGTP\"]\n",
    "nec_2019_weight = nec_2019_merge[\"Multiplied Weight\"].sum()\n",
    "pers_care_nec_2019_avg_hr_per_day = nec_2019_weight.sum() / all_2019_weight /60"
   ]
  },
  {
   "cell_type": "code",
   "execution_count": 163,
   "metadata": {},
   "outputs": [
    {
     "data": {
      "image/png": "[encoded data removed]",
      "text/plain": [
       "<Figure size 432x288 with 1 Axes>"
      ]
     },
     "metadata": {
      "needs_background": "light"
     },
     "output_type": "display_data"
    }
   ],
   "source": [
    "year = np.array([2003, 2004, 2005, 2006, 2007, 2008, 2009, 2010,2011,2012,2013,2014,2015,2016,2017,2018,2019]).reshape((-1, 1))\n",
    "activity_hours_per_day = np.array([pers_care_nec_2003_avg_hr_per_day, pers_care_nec_2004_avg_hr_per_day, pers_care_nec_2005_avg_hr_per_day, \n",
    "                                   pers_care_nec_2006_avg_hr_per_day, pers_care_nec_2007_avg_hr_per_day, pers_care_nec_2008_avg_hr_per_day, \n",
    "                                   pers_care_nec_2009_avg_hr_per_day, pers_care_nec_2010_avg_hr_per_day, pers_care_nec_2011_avg_hr_per_day, \n",
    "                                   pers_care_nec_2012_avg_hr_per_day, pers_care_nec_2013_avg_hr_per_day, pers_care_nec_2014_avg_hr_per_day, \n",
    "                                   pers_care_nec_2015_avg_hr_per_day, pers_care_nec_2016_avg_hr_per_day, pers_care_nec_2017_avg_hr_per_day, \n",
    "                                   pers_care_nec_2018_avg_hr_per_day, pers_care_nec_2019_avg_hr_per_day]).reshape((-1, 1))\n",
    "\n",
    "activity_hours_per_yr = [i * 365/365 for i in activity_hours_per_day]\n",
    "#activity_hours_per_yr\n",
    "\n",
    "x = year\n",
    "y = activity_hours_per_yr\n",
    "x, y = np.array(x), np.array(y)\n",
    "\n",
    "model = LinearRegression().fit(x, y)\n",
    "\n",
    "y_pred = model.predict(x)  \n",
    "\n",
    "plt.scatter(x, y)\n",
    "plt.plot(x, y_pred, color='red')\n",
    "plt.show()"
   ]
  },
  {
   "cell_type": "code",
   "execution_count": 164,
   "metadata": {},
   "outputs": [
    {
     "data": {
      "text/plain": [
       "0.12122927955955498"
      ]
     },
     "execution_count": 164,
     "metadata": {},
     "output_type": "execute_result"
    }
   ],
   "source": [
    "coefficient_of_determination = model.score(x,y) #R sqaure value \n",
    "coefficient_of_determination"
   ]
  },
  {
   "cell_type": "code",
   "execution_count": 165,
   "metadata": {},
   "outputs": [
    {
     "data": {
      "text/html": [
       "<div>\n",
       "<style scoped>\n",
       "    .dataframe tbody tr th:only-of-type {\n",
       "        vertical-align: middle;\n",
       "    }\n",
       "\n",
       "    .dataframe tbody tr th {\n",
       "        vertical-align: top;\n",
       "    }\n",
       "\n",
       "    .dataframe thead th {\n",
       "        text-align: right;\n",
       "    }\n",
       "</style>\n",
       "<table border=\"1\" class=\"dataframe\">\n",
       "  <thead>\n",
       "    <tr style=\"text-align: right;\">\n",
       "      <th></th>\n",
       "      <th>Year</th>\n",
       "      <th>HPD</th>\n",
       "    </tr>\n",
       "  </thead>\n",
       "  <tbody>\n",
       "    <tr>\n",
       "      <th>0</th>\n",
       "      <td>2003</td>\n",
       "      <td>8.118710e-05</td>\n",
       "    </tr>\n",
       "    <tr>\n",
       "      <th>1</th>\n",
       "      <td>2004</td>\n",
       "      <td>9.609995e-06</td>\n",
       "    </tr>\n",
       "    <tr>\n",
       "      <th>2</th>\n",
       "      <td>2005</td>\n",
       "      <td>0.000000e+00</td>\n",
       "    </tr>\n",
       "    <tr>\n",
       "      <th>3</th>\n",
       "      <td>2006</td>\n",
       "      <td>0.000000e+00</td>\n",
       "    </tr>\n",
       "    <tr>\n",
       "      <th>4</th>\n",
       "      <td>2007</td>\n",
       "      <td>3.290500e-05</td>\n",
       "    </tr>\n",
       "    <tr>\n",
       "      <th>5</th>\n",
       "      <td>2008</td>\n",
       "      <td>1.043732e-04</td>\n",
       "    </tr>\n",
       "    <tr>\n",
       "      <th>6</th>\n",
       "      <td>2009</td>\n",
       "      <td>0.000000e+00</td>\n",
       "    </tr>\n",
       "    <tr>\n",
       "      <th>7</th>\n",
       "      <td>2010</td>\n",
       "      <td>7.625293e-06</td>\n",
       "    </tr>\n",
       "    <tr>\n",
       "      <th>8</th>\n",
       "      <td>2011</td>\n",
       "      <td>0.000000e+00</td>\n",
       "    </tr>\n",
       "    <tr>\n",
       "      <th>9</th>\n",
       "      <td>2012</td>\n",
       "      <td>0.000000e+00</td>\n",
       "    </tr>\n",
       "    <tr>\n",
       "      <th>10</th>\n",
       "      <td>2013</td>\n",
       "      <td>0.000000e+00</td>\n",
       "    </tr>\n",
       "    <tr>\n",
       "      <th>11</th>\n",
       "      <td>2014</td>\n",
       "      <td>7.158558e-05</td>\n",
       "    </tr>\n",
       "    <tr>\n",
       "      <th>12</th>\n",
       "      <td>2015</td>\n",
       "      <td>0.000000e+00</td>\n",
       "    </tr>\n",
       "    <tr>\n",
       "      <th>13</th>\n",
       "      <td>2016</td>\n",
       "      <td>0.000000e+00</td>\n",
       "    </tr>\n",
       "    <tr>\n",
       "      <th>14</th>\n",
       "      <td>2017</td>\n",
       "      <td>0.000000e+00</td>\n",
       "    </tr>\n",
       "    <tr>\n",
       "      <th>15</th>\n",
       "      <td>2018</td>\n",
       "      <td>0.000000e+00</td>\n",
       "    </tr>\n",
       "    <tr>\n",
       "      <th>16</th>\n",
       "      <td>2019</td>\n",
       "      <td>4.643783e-07</td>\n",
       "    </tr>\n",
       "  </tbody>\n",
       "</table>\n",
       "</div>"
      ],
      "text/plain": [
       "    Year           HPD\n",
       "0   2003  8.118710e-05\n",
       "1   2004  9.609995e-06\n",
       "2   2005  0.000000e+00\n",
       "3   2006  0.000000e+00\n",
       "4   2007  3.290500e-05\n",
       "5   2008  1.043732e-04\n",
       "6   2009  0.000000e+00\n",
       "7   2010  7.625293e-06\n",
       "8   2011  0.000000e+00\n",
       "9   2012  0.000000e+00\n",
       "10  2013  0.000000e+00\n",
       "11  2014  7.158558e-05\n",
       "12  2015  0.000000e+00\n",
       "13  2016  0.000000e+00\n",
       "14  2017  0.000000e+00\n",
       "15  2018  0.000000e+00\n",
       "16  2019  4.643783e-07"
      ]
     },
     "execution_count": 165,
     "metadata": {},
     "output_type": "execute_result"
    }
   ],
   "source": [
    "year = [2003, 2004, 2005, 2006, 2007, 2008, 2009, 2010,2011,2012,2013,2014,2015,2016,2017,2018,2019]\n",
    "activity_hours_per_day = [pers_care_nec_2003_avg_hr_per_day, pers_care_nec_2004_avg_hr_per_day, pers_care_nec_2005_avg_hr_per_day,\n",
    "                          pers_care_nec_2006_avg_hr_per_day, pers_care_nec_2007_avg_hr_per_day, pers_care_nec_2008_avg_hr_per_day, \n",
    "                          pers_care_nec_2009_avg_hr_per_day, pers_care_nec_2010_avg_hr_per_day, pers_care_nec_2011_avg_hr_per_day, \n",
    "                          pers_care_nec_2012_avg_hr_per_day, pers_care_nec_2013_avg_hr_per_day, pers_care_nec_2014_avg_hr_per_day, \n",
    "                          pers_care_nec_2015_avg_hr_per_day, pers_care_nec_2016_avg_hr_per_day, pers_care_nec_2017_avg_hr_per_day, \n",
    "                          pers_care_nec_2018_avg_hr_per_day, pers_care_nec_2019_avg_hr_per_day]\n",
    "dictionary = {\"Year\":year,\n",
    "                  \"HPD\":activity_hours_per_day}\n",
    "\n",
    "df = pd.DataFrame(dictionary)\n",
    "df"
   ]
  },
  {
   "cell_type": "code",
   "execution_count": null,
   "metadata": {},
   "outputs": [],
   "source": []
  }
 ],
 "metadata": {
  "kernelspec": {
   "display_name": "Python 3",
   "language": "python",
   "name": "python3"
  },
  "language_info": {
   "codemirror_mode": {
    "name": "ipython",
    "version": 3
   },
   "file_extension": ".py",
   "mimetype": "text/x-python",
   "name": "python",
   "nbconvert_exporter": "python",
   "pygments_lexer": "ipython3",
   "version": "3.8.5"
  }
 },
 "nbformat": 4,
 "nbformat_minor": 4
}
