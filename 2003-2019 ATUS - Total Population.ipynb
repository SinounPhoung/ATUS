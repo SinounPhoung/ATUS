{
 "cells": [
  {
   "cell_type": "code",
   "execution_count": 1,
   "metadata": {},
   "outputs": [],
   "source": [
    "import pandas as pd \n",
    "import numpy as np \n",
    "%matplotlib inline\n",
    "import matplotlib.pyplot as plt\n",
    "from sklearn.linear_model import LinearRegression"
   ]
  },
  {
   "cell_type": "code",
   "execution_count": 2,
   "metadata": {},
   "outputs": [],
   "source": [
    "multi_act = pd.read_csv(\"ATUS DATA 03-19/atus_activity_0319.dat\", \n",
    "                        dtype= {\"TRCODEP\": object, \"TRTIER1P\": object, \"TRTIER2P\": object}) #using 2003-2019 activity file\n",
    "#multi_act"
   ]
  },
  {
   "cell_type": "code",
   "execution_count": 3,
   "metadata": {},
   "outputs": [],
   "source": [
    "multi_resp = pd.read_csv(\"ATUS DATA 03-19/atus_resp_0319.dat\")\n",
    "#multi_resp"
   ]
  },
  {
   "cell_type": "code",
   "execution_count": 4,
   "metadata": {},
   "outputs": [],
   "source": [
    "multi_merged = pd.merge(multi_act, multi_resp, on=\"TUCASEID\")\n",
    "multi_merged = multi_merged.filter([\"TUCASEID\",\"TUACTDUR24\",\"TUCUMDUR\",\"TRTIER1P\",\"TRTIER2P\",\"TRCODEP\", \n",
    "                                    \"TEWHERE\",\"TELFS\", \"TUFNWGTP\",\"TUSTARTTIM\",\"TUSTOPTIME\", \"TUYEAR\"])\n",
    "#multi_merged"
   ]
  },
  {
   "cell_type": "code",
   "execution_count": 5,
   "metadata": {},
   "outputs": [
    {
     "data": {
      "text/plain": [
       "array([2, 1, 4, 5, 3])"
      ]
     },
     "execution_count": 5,
     "metadata": {},
     "output_type": "execute_result"
    }
   ],
   "source": [
    "#TELFS = employment status \n",
    "multi_merged[\"TELFS\"].unique()"
   ]
  },
  {
   "cell_type": "markdown",
   "metadata": {},
   "source": [
    "## Total Population  Population"
   ]
  },
  {
   "cell_type": "code",
   "execution_count": 6,
   "metadata": {},
   "outputs": [],
   "source": [
    "#total_pops_codes = [3,4] # 3= total_pops - on layoff, 3 = total_pops - looking\n",
    "#multi_merged = multi_merged[multi_merged[\"TELFS\"].isin(total_pops_codes)]\n",
    "#multi_merged[\"TELFS\"].unique()"
   ]
  },
  {
   "cell_type": "code",
   "execution_count": 7,
   "metadata": {},
   "outputs": [
    {
     "data": {
      "text/plain": [
       "82231180900.71338"
      ]
     },
     "execution_count": 7,
     "metadata": {},
     "output_type": "execute_result"
    }
   ],
   "source": [
    "total_pops_2003 = multi_merged[multi_merged[\"TUCASEID\"].apply(str).str.startswith(\"2003\")]\n",
    "atus_2003_total_pops_weight = total_pops_2003.drop_duplicates(subset=[\"TUCASEID\"])\n",
    "atus_2003_total_pops_weight = atus_2003_total_pops_weight[\"TUFNWGTP\"].sum()\n",
    "atus_2003_total_pops_weight"
   ]
  },
  {
   "cell_type": "markdown",
   "metadata": {},
   "source": [
    "## 2003-2019 Residential - Total Population"
   ]
  },
  {
   "cell_type": "code",
   "execution_count": 8,
   "metadata": {},
   "outputs": [],
   "source": [
    "#only residential location from 2003-2019\n",
    "residential_location = [-1,1,3]\n",
    "atus_multi_yr_res_total_pops = multi_merged[multi_merged[\"TEWHERE\"].isin(residential_location)]\n",
    "#atus_multi_yr_res_total_pops"
   ]
  },
  {
   "cell_type": "code",
   "execution_count": 9,
   "metadata": {},
   "outputs": [],
   "source": [
    "#atus residential year seperation by total_pops population \n",
    "atus_2003_res_total_pops = atus_multi_yr_res_total_pops[atus_multi_yr_res_total_pops[\"TUCASEID\"].apply(str).str.startswith(\"2003\")]\n",
    "atus_2004_res_total_pops = atus_multi_yr_res_total_pops[atus_multi_yr_res_total_pops[\"TUCASEID\"].apply(str).str.startswith(\"2004\")]\n",
    "atus_2005_res_total_pops = atus_multi_yr_res_total_pops[atus_multi_yr_res_total_pops[\"TUCASEID\"].apply(str).str.startswith(\"2005\")]\n",
    "atus_2006_res_total_pops = atus_multi_yr_res_total_pops[atus_multi_yr_res_total_pops[\"TUCASEID\"].apply(str).str.startswith(\"2006\")]\n",
    "atus_2007_res_total_pops = atus_multi_yr_res_total_pops[atus_multi_yr_res_total_pops[\"TUCASEID\"].apply(str).str.startswith(\"2007\")]\n",
    "atus_2008_res_total_pops = atus_multi_yr_res_total_pops[atus_multi_yr_res_total_pops[\"TUCASEID\"].apply(str).str.startswith(\"2008\")]\n",
    "atus_2009_res_total_pops = atus_multi_yr_res_total_pops[atus_multi_yr_res_total_pops[\"TUCASEID\"].apply(str).str.startswith(\"2009\")]\n",
    "atus_2010_res_total_pops = atus_multi_yr_res_total_pops[atus_multi_yr_res_total_pops[\"TUCASEID\"].apply(str).str.startswith(\"2010\")]\n",
    "atus_2011_res_total_pops = atus_multi_yr_res_total_pops[atus_multi_yr_res_total_pops[\"TUCASEID\"].apply(str).str.startswith(\"2011\")]\n",
    "atus_2012_res_total_pops = atus_multi_yr_res_total_pops[atus_multi_yr_res_total_pops[\"TUCASEID\"].apply(str).str.startswith(\"2012\")]\n",
    "atus_2013_res_total_pops = atus_multi_yr_res_total_pops[atus_multi_yr_res_total_pops[\"TUCASEID\"].apply(str).str.startswith(\"2013\")]\n",
    "atus_2014_res_total_pops = atus_multi_yr_res_total_pops[atus_multi_yr_res_total_pops[\"TUCASEID\"].apply(str).str.startswith(\"2014\")]\n",
    "atus_2015_res_total_pops = atus_multi_yr_res_total_pops[atus_multi_yr_res_total_pops[\"TUCASEID\"].apply(str).str.startswith(\"2015\")]\n",
    "atus_2016_res_total_pops = atus_multi_yr_res_total_pops[atus_multi_yr_res_total_pops[\"TUCASEID\"].apply(str).str.startswith(\"2016\")]\n",
    "atus_2017_res_total_pops = atus_multi_yr_res_total_pops[atus_multi_yr_res_total_pops[\"TUCASEID\"].apply(str).str.startswith(\"2017\")]\n",
    "atus_2018_res_total_pops = atus_multi_yr_res_total_pops[atus_multi_yr_res_total_pops[\"TUCASEID\"].apply(str).str.startswith(\"2018\")]\n",
    "atus_2019_res_total_pops = atus_multi_yr_res_total_pops[atus_multi_yr_res_total_pops[\"TUCASEID\"].apply(str).str.startswith(\"2019\")]\n",
    "#atus_2003_res_total_pops"
   ]
  },
  {
   "cell_type": "code",
   "execution_count": null,
   "metadata": {},
   "outputs": [],
   "source": []
  },
  {
   "cell_type": "markdown",
   "metadata": {},
   "source": [
    "### 2003 All Residential Activities -Total Population"
   ]
  },
  {
   "cell_type": "code",
   "execution_count": 10,
   "metadata": {},
   "outputs": [],
   "source": [
    "atus_2003_all_res_total_pops = atus_2003_res_total_pops.groupby([\"TUCASEID\"]).sum().filter([\"TUCASEID\", \"TUACTDUR24\"])\n",
    "#atus_2003_all_res_total_pops"
   ]
  },
  {
   "cell_type": "code",
   "execution_count": 11,
   "metadata": {},
   "outputs": [],
   "source": [
    "atus_2003_all_res_total_pops_merge = pd.merge(atus_2003_all_res_total_pops, multi_resp, on= \"TUCASEID\").filter([\"TUCASEID\",\"TUACTDUR24\",\"TUFNWGTP\"])\n",
    "#atus_2003_all_res_total_pops_merge"
   ]
  },
  {
   "cell_type": "code",
   "execution_count": 12,
   "metadata": {},
   "outputs": [],
   "source": [
    "atus_2003_all_res_total_pops_merge[\"Multiplied Weight\"] = atus_2003_all_res_total_pops_merge[\"TUACTDUR24\"] * atus_2003_all_res_total_pops_merge[\"TUFNWGTP\"]\n",
    "#atus_2003_all_res_total_pops_merge"
   ]
  },
  {
   "cell_type": "code",
   "execution_count": 13,
   "metadata": {},
   "outputs": [
    {
     "data": {
      "text/plain": [
       "85443505672905.53"
      ]
     },
     "execution_count": 13,
     "metadata": {},
     "output_type": "execute_result"
    }
   ],
   "source": [
    "atus_2003_all_res_total_pops_multiplied_weight = atus_2003_all_res_total_pops_merge[\"Multiplied Weight\"].sum()\n",
    "atus_2003_all_res_total_pops_multiplied_weight"
   ]
  },
  {
   "cell_type": "code",
   "execution_count": 14,
   "metadata": {},
   "outputs": [
    {
     "data": {
      "text/plain": [
       "82231180900.71338"
      ]
     },
     "execution_count": 14,
     "metadata": {},
     "output_type": "execute_result"
    }
   ],
   "source": [
    "total_pops_2003 = multi_merged[multi_merged[\"TUCASEID\"].apply(str).str.startswith(\"2003\")]\n",
    "atus_2003_total_pops_weight = total_pops_2003.drop_duplicates(subset=[\"TUCASEID\"])\n",
    "atus_2003_total_pops_weight = atus_2003_total_pops_weight[\"TUFNWGTP\"].sum()\n",
    "atus_2003_total_pops_weight"
   ]
  },
  {
   "cell_type": "code",
   "execution_count": 15,
   "metadata": {},
   "outputs": [
    {
     "data": {
      "text/plain": [
       "17.317742640728692"
      ]
     },
     "execution_count": 15,
     "metadata": {},
     "output_type": "execute_result"
    }
   ],
   "source": [
    "all_act_2003_res_total_pops_hpd = atus_2003_all_res_total_pops_multiplied_weight / atus_2003_total_pops_weight / 60\n",
    "all_act_2003_res_total_pops_hpd"
   ]
  },
  {
   "cell_type": "markdown",
   "metadata": {},
   "source": [
    "### 2004 All Residential Activities - Total Population"
   ]
  },
  {
   "cell_type": "code",
   "execution_count": 16,
   "metadata": {},
   "outputs": [],
   "source": [
    "atus_2004_all_res_total_pops = atus_2004_res_total_pops.groupby([\"TUCASEID\"]).sum().filter([\"TUCASEID\", \"TUACTDUR24\"])\n",
    "#atus_2004_all_res_total_pops"
   ]
  },
  {
   "cell_type": "code",
   "execution_count": 17,
   "metadata": {},
   "outputs": [],
   "source": [
    "atus_2004_all_res_total_pops_merge = pd.merge(atus_2004_all_res_total_pops, multi_resp, on= \"TUCASEID\").filter([\"TUCASEID\",\"TUACTDUR24\",\"TUFNWGTP\"])\n",
    "atus_2004_all_res_total_pops_merge[\"Multiplied Weight\"] = atus_2004_all_res_total_pops_merge[\"TUACTDUR24\"] * atus_2004_all_res_total_pops_merge[\"TUFNWGTP\"]\n",
    "#atus_2004_all_res_total_pops_merge"
   ]
  },
  {
   "cell_type": "code",
   "execution_count": 18,
   "metadata": {},
   "outputs": [],
   "source": [
    "total_pops_2004 = multi_merged[multi_merged[\"TUCASEID\"].apply(str).str.startswith(\"2004\")]\n",
    "atus_2004_total_pops_weight = total_pops_2004.drop_duplicates(subset=[\"TUCASEID\"])\n",
    "atus_2004_total_pops_weight = atus_2004_total_pops_weight[\"TUFNWGTP\"].sum()\n",
    "\n",
    "atus_2004_all_res_total_pops_multiplied_weight = atus_2004_all_res_total_pops_merge[\"Multiplied Weight\"].sum()"
   ]
  },
  {
   "cell_type": "code",
   "execution_count": 19,
   "metadata": {},
   "outputs": [
    {
     "data": {
      "text/plain": [
       "17.355506174426807"
      ]
     },
     "execution_count": 19,
     "metadata": {},
     "output_type": "execute_result"
    }
   ],
   "source": [
    "all_act_2004_res_total_pops_hpd = atus_2004_all_res_total_pops_multiplied_weight / atus_2004_total_pops_weight / 60\n",
    "all_act_2004_res_total_pops_hpd"
   ]
  },
  {
   "cell_type": "markdown",
   "metadata": {},
   "source": [
    "### 2005 All Residential Activities - Total Population"
   ]
  },
  {
   "cell_type": "code",
   "execution_count": 20,
   "metadata": {},
   "outputs": [],
   "source": [
    "atus_2005_all_res_total_pops = atus_2005_res_total_pops.groupby([\"TUCASEID\"]).sum().filter([\"TUCASEID\", \"TUACTDUR24\"])\n",
    "#atus_2005_all_res_total_pops"
   ]
  },
  {
   "cell_type": "code",
   "execution_count": 21,
   "metadata": {},
   "outputs": [],
   "source": [
    "atus_2005_all_res_total_pops_merge = pd.merge(atus_2005_all_res_total_pops, multi_resp, on= \"TUCASEID\").filter([\"TUCASEID\",\"TUACTDUR24\",\"TUFNWGTP\"])\n",
    "atus_2005_all_res_total_pops_merge[\"Multiplied Weight\"] = atus_2005_all_res_total_pops_merge[\"TUACTDUR24\"] * atus_2005_all_res_total_pops_merge[\"TUFNWGTP\"]\n",
    "#atus_2005_all_res_total_pops_merge"
   ]
  },
  {
   "cell_type": "code",
   "execution_count": 22,
   "metadata": {},
   "outputs": [],
   "source": [
    "total_pops_2005 = multi_merged[multi_merged[\"TUCASEID\"].apply(str).str.startswith(\"2005\")]\n",
    "atus_2005_total_pops_weight = total_pops_2005.drop_duplicates(subset=[\"TUCASEID\"])\n",
    "atus_2005_total_pops_weight = atus_2005_total_pops_weight[\"TUFNWGTP\"].sum()\n",
    "\n",
    "atus_2005_all_res_total_pops_multiplied_weight = atus_2005_all_res_total_pops_merge[\"Multiplied Weight\"].sum()"
   ]
  },
  {
   "cell_type": "code",
   "execution_count": 23,
   "metadata": {},
   "outputs": [
    {
     "data": {
      "text/plain": [
       "17.36391366798122"
      ]
     },
     "execution_count": 23,
     "metadata": {},
     "output_type": "execute_result"
    }
   ],
   "source": [
    "all_act_2005_res_total_pops_hpd = atus_2005_all_res_total_pops_multiplied_weight / atus_2005_total_pops_weight / 60\n",
    "all_act_2005_res_total_pops_hpd"
   ]
  },
  {
   "cell_type": "markdown",
   "metadata": {},
   "source": [
    "### 2006 All Residential Activities - Total Population"
   ]
  },
  {
   "cell_type": "code",
   "execution_count": 24,
   "metadata": {},
   "outputs": [],
   "source": [
    "atus_2006_all_res_total_pops = atus_2006_res_total_pops.groupby([\"TUCASEID\"]).sum().filter([\"TUCASEID\", \"TUACTDUR24\"])\n",
    "#atus_2006_all_res_total_pops"
   ]
  },
  {
   "cell_type": "code",
   "execution_count": 25,
   "metadata": {},
   "outputs": [],
   "source": [
    "atus_2006_all_res_total_pops_merge = pd.merge(atus_2006_all_res_total_pops, multi_resp, on= \"TUCASEID\").filter([\"TUCASEID\",\"TUACTDUR24\",\"TUFNWGTP\"])\n",
    "atus_2006_all_res_total_pops_merge[\"Multiplied Weight\"] = atus_2006_all_res_total_pops_merge[\"TUACTDUR24\"] * atus_2006_all_res_total_pops_merge[\"TUFNWGTP\"]\n",
    "#atus_2006_all_res_total_pops_merge"
   ]
  },
  {
   "cell_type": "code",
   "execution_count": 26,
   "metadata": {},
   "outputs": [],
   "source": [
    "total_pops_2006 = multi_merged[multi_merged[\"TUCASEID\"].apply(str).str.startswith(\"2006\")]\n",
    "atus_2006_total_pops_weight = total_pops_2006.drop_duplicates(subset=[\"TUCASEID\"])\n",
    "atus_2006_total_pops_weight = atus_2006_total_pops_weight[\"TUFNWGTP\"].sum()\n",
    "\n",
    "atus_2006_all_res_total_pops_multiplied_weight = atus_2006_all_res_total_pops_merge[\"Multiplied Weight\"].sum()"
   ]
  },
  {
   "cell_type": "code",
   "execution_count": 27,
   "metadata": {},
   "outputs": [
    {
     "data": {
      "text/plain": [
       "17.29335670843908"
      ]
     },
     "execution_count": 27,
     "metadata": {},
     "output_type": "execute_result"
    }
   ],
   "source": [
    "all_act_2006_res_total_pops_hpd = atus_2006_all_res_total_pops_multiplied_weight / atus_2006_total_pops_weight / 60\n",
    "all_act_2006_res_total_pops_hpd"
   ]
  },
  {
   "cell_type": "markdown",
   "metadata": {},
   "source": [
    "### 2007 All Residential Activities - Total Population"
   ]
  },
  {
   "cell_type": "code",
   "execution_count": 28,
   "metadata": {},
   "outputs": [],
   "source": [
    "atus_2007_all_res_total_pops = atus_2007_res_total_pops.groupby([\"TUCASEID\"]).sum().filter([\"TUCASEID\", \"TUACTDUR24\"])\n",
    "#atus_2007_all_res_total_pops"
   ]
  },
  {
   "cell_type": "code",
   "execution_count": 29,
   "metadata": {},
   "outputs": [],
   "source": [
    "atus_2007_all_res_total_pops_merge = pd.merge(atus_2007_all_res_total_pops, multi_resp, on= \"TUCASEID\").filter([\"TUCASEID\",\"TUACTDUR24\",\"TUFNWGTP\"])\n",
    "atus_2007_all_res_total_pops_merge[\"Multiplied Weight\"] = atus_2007_all_res_total_pops_merge[\"TUACTDUR24\"] * atus_2007_all_res_total_pops_merge[\"TUFNWGTP\"]\n",
    "#atus_2007_all_res_total_pops_merge"
   ]
  },
  {
   "cell_type": "code",
   "execution_count": 30,
   "metadata": {},
   "outputs": [],
   "source": [
    "total_pops_2007 = multi_merged[multi_merged[\"TUCASEID\"].apply(str).str.startswith(\"2007\")]\n",
    "atus_2007_total_pops_weight = total_pops_2007.drop_duplicates(subset=[\"TUCASEID\"])\n",
    "atus_2007_total_pops_weight = atus_2007_total_pops_weight[\"TUFNWGTP\"].sum()\n",
    "\n",
    "atus_2007_all_res_total_pops_multiplied_weight = atus_2007_all_res_total_pops_merge[\"Multiplied Weight\"].sum()"
   ]
  },
  {
   "cell_type": "code",
   "execution_count": 31,
   "metadata": {},
   "outputs": [
    {
     "data": {
      "text/plain": [
       "17.297802835592172"
      ]
     },
     "execution_count": 31,
     "metadata": {},
     "output_type": "execute_result"
    }
   ],
   "source": [
    "all_act_2007_res_total_pops_hpd = atus_2007_all_res_total_pops_multiplied_weight / atus_2007_total_pops_weight / 60\n",
    "all_act_2007_res_total_pops_hpd"
   ]
  },
  {
   "cell_type": "markdown",
   "metadata": {},
   "source": [
    "### 2008 All Residential Activities - Total Population"
   ]
  },
  {
   "cell_type": "code",
   "execution_count": 32,
   "metadata": {},
   "outputs": [],
   "source": [
    "atus_2008_all_res_total_pops = atus_2008_res_total_pops.groupby([\"TUCASEID\"]).sum().filter([\"TUCASEID\", \"TUACTDUR24\"])\n",
    "#atus_2008_all_res_total_pops"
   ]
  },
  {
   "cell_type": "code",
   "execution_count": 33,
   "metadata": {},
   "outputs": [],
   "source": [
    "atus_2008_all_res_total_pops_merge = pd.merge(atus_2008_all_res_total_pops, multi_resp, on= \"TUCASEID\").filter([\"TUCASEID\",\"TUACTDUR24\",\"TUFNWGTP\"])\n",
    "atus_2008_all_res_total_pops_merge[\"Multiplied Weight\"] = atus_2008_all_res_total_pops_merge[\"TUACTDUR24\"] * atus_2008_all_res_total_pops_merge[\"TUFNWGTP\"]\n",
    "#atus_2008_all_res_total_pops_merge"
   ]
  },
  {
   "cell_type": "code",
   "execution_count": 34,
   "metadata": {},
   "outputs": [],
   "source": [
    "total_pops_2008 = multi_merged[multi_merged[\"TUCASEID\"].apply(str).str.startswith(\"2008\")]\n",
    "atus_2008_total_pops_weight = total_pops_2008.drop_duplicates(subset=[\"TUCASEID\"])\n",
    "atus_2008_total_pops_weight = atus_2008_total_pops_weight[\"TUFNWGTP\"].sum()\n",
    "\n",
    "atus_2008_all_res_total_pops_multiplied_weight = atus_2008_all_res_total_pops_merge[\"Multiplied Weight\"].sum()"
   ]
  },
  {
   "cell_type": "code",
   "execution_count": 35,
   "metadata": {},
   "outputs": [
    {
     "data": {
      "text/plain": [
       "17.485108356944156"
      ]
     },
     "execution_count": 35,
     "metadata": {},
     "output_type": "execute_result"
    }
   ],
   "source": [
    "all_act_2008_res_total_pops_hpd = atus_2008_all_res_total_pops_multiplied_weight / atus_2008_total_pops_weight / 60\n",
    "all_act_2008_res_total_pops_hpd"
   ]
  },
  {
   "cell_type": "markdown",
   "metadata": {},
   "source": [
    "### 2009 All Residential Activities -Total Population"
   ]
  },
  {
   "cell_type": "code",
   "execution_count": 36,
   "metadata": {},
   "outputs": [],
   "source": [
    "atus_2009_all_res_total_pops = atus_2009_res_total_pops.groupby([\"TUCASEID\"]).sum().filter([\"TUCASEID\", \"TUACTDUR24\"])\n",
    "#atus_2009_all_res_total_pops"
   ]
  },
  {
   "cell_type": "code",
   "execution_count": 37,
   "metadata": {},
   "outputs": [],
   "source": [
    "atus_2009_all_res_total_pops_merge = pd.merge(atus_2009_all_res_total_pops, multi_resp, on= \"TUCASEID\").filter([\"TUCASEID\",\"TUACTDUR24\",\"TUFNWGTP\"])\n",
    "atus_2009_all_res_total_pops_merge[\"Multiplied Weight\"] = atus_2009_all_res_total_pops_merge[\"TUACTDUR24\"] * atus_2009_all_res_total_pops_merge[\"TUFNWGTP\"]\n",
    "#atus_2009_all_res_total_pops_merge"
   ]
  },
  {
   "cell_type": "code",
   "execution_count": 38,
   "metadata": {},
   "outputs": [],
   "source": [
    "total_pops_2009 = multi_merged[multi_merged[\"TUCASEID\"].apply(str).str.startswith(\"2009\")]\n",
    "atus_2009_total_pops_weight = total_pops_2009.drop_duplicates(subset=[\"TUCASEID\"])\n",
    "atus_2009_total_pops_weight = atus_2009_total_pops_weight[\"TUFNWGTP\"].sum()\n",
    "\n",
    "atus_2009_all_res_total_pops_multiplied_weight = atus_2009_all_res_total_pops_merge[\"Multiplied Weight\"].sum()"
   ]
  },
  {
   "cell_type": "code",
   "execution_count": 39,
   "metadata": {},
   "outputs": [
    {
     "data": {
      "text/plain": [
       "17.705195287146005"
      ]
     },
     "execution_count": 39,
     "metadata": {},
     "output_type": "execute_result"
    }
   ],
   "source": [
    "all_act_2009_res_total_pops_hpd = atus_2009_all_res_total_pops_multiplied_weight / atus_2009_total_pops_weight / 60\n",
    "all_act_2009_res_total_pops_hpd"
   ]
  },
  {
   "cell_type": "markdown",
   "metadata": {},
   "source": [
    "### 2010 All Residential Activities - Total Population"
   ]
  },
  {
   "cell_type": "code",
   "execution_count": 40,
   "metadata": {},
   "outputs": [],
   "source": [
    "atus_2010_all_res_total_pops = atus_2010_res_total_pops.groupby([\"TUCASEID\"]).sum().filter([\"TUCASEID\", \"TUACTDUR24\"])\n",
    "#atus_2010_all_res_total_pops"
   ]
  },
  {
   "cell_type": "code",
   "execution_count": 41,
   "metadata": {},
   "outputs": [],
   "source": [
    "atus_2010_all_res_total_pops_merge = pd.merge(atus_2010_all_res_total_pops, multi_resp, on= \"TUCASEID\").filter([\"TUCASEID\",\"TUACTDUR24\",\"TUFNWGTP\"])\n",
    "atus_2010_all_res_total_pops_merge[\"Multiplied Weight\"] = atus_2010_all_res_total_pops_merge[\"TUACTDUR24\"] * atus_2010_all_res_total_pops_merge[\"TUFNWGTP\"]\n",
    "#atus_2010_all_res_total_pops_merge"
   ]
  },
  {
   "cell_type": "code",
   "execution_count": 42,
   "metadata": {},
   "outputs": [],
   "source": [
    "total_pops_2010 = multi_merged[multi_merged[\"TUCASEID\"].apply(str).str.startswith(\"2010\")]\n",
    "atus_2010_total_pops_weight = total_pops_2010.drop_duplicates(subset=[\"TUCASEID\"])\n",
    "atus_2010_total_pops_weight = atus_2010_total_pops_weight[\"TUFNWGTP\"].sum()\n",
    "\n",
    "atus_2010_all_res_total_pops_multiplied_weight = atus_2010_all_res_total_pops_merge[\"Multiplied Weight\"].sum()"
   ]
  },
  {
   "cell_type": "code",
   "execution_count": 43,
   "metadata": {},
   "outputs": [
    {
     "data": {
      "text/plain": [
       "17.687538121810938"
      ]
     },
     "execution_count": 43,
     "metadata": {},
     "output_type": "execute_result"
    }
   ],
   "source": [
    "all_act_2010_res_total_pops_hpd = atus_2010_all_res_total_pops_multiplied_weight / atus_2010_total_pops_weight / 60\n",
    "all_act_2010_res_total_pops_hpd"
   ]
  },
  {
   "cell_type": "markdown",
   "metadata": {},
   "source": [
    "### 2011 All Residential Activities - Total Population"
   ]
  },
  {
   "cell_type": "code",
   "execution_count": 44,
   "metadata": {},
   "outputs": [],
   "source": [
    "atus_2011_all_res_total_pops = atus_2011_res_total_pops.groupby([\"TUCASEID\"]).sum().filter([\"TUCASEID\", \"TUACTDUR24\"])\n",
    "#atus_2011_all_res_total_pops"
   ]
  },
  {
   "cell_type": "code",
   "execution_count": 45,
   "metadata": {},
   "outputs": [],
   "source": [
    "atus_2011_all_res_total_pops_merge = pd.merge(atus_2011_all_res_total_pops, multi_resp, on= \"TUCASEID\").filter([\"TUCASEID\",\"TUACTDUR24\",\"TUFNWGTP\"])\n",
    "atus_2011_all_res_total_pops_merge[\"Multiplied Weight\"] = atus_2011_all_res_total_pops_merge[\"TUACTDUR24\"] * atus_2011_all_res_total_pops_merge[\"TUFNWGTP\"]\n",
    "#atus_2011_all_res_total_pops_merge"
   ]
  },
  {
   "cell_type": "code",
   "execution_count": 46,
   "metadata": {},
   "outputs": [],
   "source": [
    "atus_2011_all_res_total_pops_merge = pd.merge(atus_2011_all_res_total_pops, multi_resp, on= \"TUCASEID\").filter([\"TUCASEID\",\"TUACTDUR24\",\"TUFNWGTP\"])\n",
    "atus_2011_all_res_total_pops_merge[\"Multiplied Weight\"] = atus_2011_all_res_total_pops_merge[\"TUACTDUR24\"] * atus_2011_all_res_total_pops_merge[\"TUFNWGTP\"]\n",
    "#atus_2011_all_res_total_pops_merge"
   ]
  },
  {
   "cell_type": "code",
   "execution_count": 47,
   "metadata": {},
   "outputs": [],
   "source": [
    "total_pops_2011 = multi_merged[multi_merged[\"TUCASEID\"].apply(str).str.startswith(\"2011\")]\n",
    "atus_2011_total_pops_weight = total_pops_2011.drop_duplicates(subset=[\"TUCASEID\"])\n",
    "atus_2011_total_pops_weight = atus_2011_total_pops_weight[\"TUFNWGTP\"].sum()\n",
    "\n",
    "atus_2011_all_res_total_pops_multiplied_weight = atus_2011_all_res_total_pops_merge[\"Multiplied Weight\"].sum()"
   ]
  },
  {
   "cell_type": "code",
   "execution_count": 48,
   "metadata": {},
   "outputs": [
    {
     "data": {
      "text/plain": [
       "17.62568833008119"
      ]
     },
     "execution_count": 48,
     "metadata": {},
     "output_type": "execute_result"
    }
   ],
   "source": [
    "all_act_2011_res_total_pops_hpd = atus_2011_all_res_total_pops_multiplied_weight / atus_2011_total_pops_weight / 60\n",
    "all_act_2011_res_total_pops_hpd"
   ]
  },
  {
   "cell_type": "markdown",
   "metadata": {},
   "source": [
    "### 2012 All Residential Activities - Total Population"
   ]
  },
  {
   "cell_type": "code",
   "execution_count": 49,
   "metadata": {},
   "outputs": [],
   "source": [
    "atus_2012_all_res_total_pops = atus_2012_res_total_pops.groupby([\"TUCASEID\"]).sum().filter([\"TUCASEID\", \"TUACTDUR24\"])\n",
    "#atus_2012_all_res_total_pops"
   ]
  },
  {
   "cell_type": "code",
   "execution_count": 50,
   "metadata": {},
   "outputs": [],
   "source": [
    "atus_2012_all_res_total_pops_merge = pd.merge(atus_2012_all_res_total_pops, multi_resp, on= \"TUCASEID\").filter([\"TUCASEID\",\"TUACTDUR24\",\"TUFNWGTP\"])\n",
    "atus_2012_all_res_total_pops_merge[\"Multiplied Weight\"] = atus_2012_all_res_total_pops_merge[\"TUACTDUR24\"] * atus_2012_all_res_total_pops_merge[\"TUFNWGTP\"]\n",
    "#atus_2012_all_res_total_pops_merge"
   ]
  },
  {
   "cell_type": "code",
   "execution_count": 51,
   "metadata": {},
   "outputs": [],
   "source": [
    "atus_2012_all_res_total_pops_merge = pd.merge(atus_2012_all_res_total_pops, multi_resp, on= \"TUCASEID\").filter([\"TUCASEID\",\"TUACTDUR24\",\"TUFNWGTP\"])\n",
    "atus_2012_all_res_total_pops_merge[\"Multiplied Weight\"] = atus_2012_all_res_total_pops_merge[\"TUACTDUR24\"] * atus_2012_all_res_total_pops_merge[\"TUFNWGTP\"]\n",
    "#atus_2012_all_res_total_pops_merge"
   ]
  },
  {
   "cell_type": "code",
   "execution_count": 52,
   "metadata": {},
   "outputs": [],
   "source": [
    "total_pops_2012 = multi_merged[multi_merged[\"TUCASEID\"].apply(str).str.startswith(\"2012\")]\n",
    "atus_2012_total_pops_weight = total_pops_2012.drop_duplicates(subset=[\"TUCASEID\"])\n",
    "atus_2012_total_pops_weight = atus_2012_total_pops_weight[\"TUFNWGTP\"].sum()\n",
    "\n",
    "atus_2012_all_res_total_pops_multiplied_weight = atus_2012_all_res_total_pops_merge[\"Multiplied Weight\"].sum()"
   ]
  },
  {
   "cell_type": "code",
   "execution_count": 53,
   "metadata": {},
   "outputs": [
    {
     "data": {
      "text/plain": [
       "17.70959977701091"
      ]
     },
     "execution_count": 53,
     "metadata": {},
     "output_type": "execute_result"
    }
   ],
   "source": [
    "all_act_2012_res_total_pops_hpd = atus_2012_all_res_total_pops_multiplied_weight / atus_2012_total_pops_weight / 60\n",
    "all_act_2012_res_total_pops_hpd"
   ]
  },
  {
   "cell_type": "markdown",
   "metadata": {},
   "source": [
    "### 2013 All Residential Activities - Total Population"
   ]
  },
  {
   "cell_type": "code",
   "execution_count": 54,
   "metadata": {},
   "outputs": [],
   "source": [
    "atus_2013_all_res_total_pops = atus_2013_res_total_pops.groupby([\"TUCASEID\"]).sum().filter([\"TUCASEID\", \"TUACTDUR24\"])\n",
    "#atus_2013_all_res_total_pops"
   ]
  },
  {
   "cell_type": "code",
   "execution_count": 55,
   "metadata": {},
   "outputs": [],
   "source": [
    "atus_2013_all_res_total_pops_merge = pd.merge(atus_2013_all_res_total_pops, multi_resp, on= \"TUCASEID\").filter([\"TUCASEID\",\"TUACTDUR24\",\"TUFNWGTP\"])\n",
    "atus_2013_all_res_total_pops_merge[\"Multiplied Weight\"] = atus_2013_all_res_total_pops_merge[\"TUACTDUR24\"] * atus_2013_all_res_total_pops_merge[\"TUFNWGTP\"]\n",
    "#atus_2013_all_res_total_pops_merge"
   ]
  },
  {
   "cell_type": "code",
   "execution_count": 56,
   "metadata": {},
   "outputs": [],
   "source": [
    "atus_2013_all_res_total_pops_merge = pd.merge(atus_2013_all_res_total_pops, multi_resp, on= \"TUCASEID\").filter([\"TUCASEID\",\"TUACTDUR24\",\"TUFNWGTP\"])\n",
    "atus_2013_all_res_total_pops_merge[\"Multiplied Weight\"] = atus_2013_all_res_total_pops_merge[\"TUACTDUR24\"] * atus_2013_all_res_total_pops_merge[\"TUFNWGTP\"]\n",
    "#atus_2013_all_res_total_pops_merge"
   ]
  },
  {
   "cell_type": "code",
   "execution_count": 57,
   "metadata": {},
   "outputs": [],
   "source": [
    "total_pops_2013 = multi_merged[multi_merged[\"TUCASEID\"].apply(str).str.startswith(\"2013\")]\n",
    "atus_2013_total_pops_weight = total_pops_2013.drop_duplicates(subset=[\"TUCASEID\"])\n",
    "atus_2013_total_pops_weight = atus_2013_total_pops_weight[\"TUFNWGTP\"].sum()\n",
    "\n",
    "atus_2013_all_res_total_pops_multiplied_weight = atus_2013_all_res_total_pops_merge[\"Multiplied Weight\"].sum()"
   ]
  },
  {
   "cell_type": "code",
   "execution_count": 58,
   "metadata": {},
   "outputs": [
    {
     "data": {
      "text/plain": [
       "17.752395284957853"
      ]
     },
     "execution_count": 58,
     "metadata": {},
     "output_type": "execute_result"
    }
   ],
   "source": [
    "all_act_2013_res_total_pops_hpd = atus_2013_all_res_total_pops_multiplied_weight / atus_2013_total_pops_weight / 60\n",
    "all_act_2013_res_total_pops_hpd"
   ]
  },
  {
   "cell_type": "markdown",
   "metadata": {},
   "source": [
    "### 2014 All Residential Activities - Total Population"
   ]
  },
  {
   "cell_type": "code",
   "execution_count": 59,
   "metadata": {},
   "outputs": [],
   "source": [
    "atus_2014_all_res_total_pops = atus_2014_res_total_pops.groupby([\"TUCASEID\"]).sum().filter([\"TUCASEID\", \"TUACTDUR24\"])\n",
    "#atus_2014_all_res_total_pops"
   ]
  },
  {
   "cell_type": "code",
   "execution_count": 60,
   "metadata": {},
   "outputs": [],
   "source": [
    "atus_2014_all_res_total_pops_merge = pd.merge(atus_2014_all_res_total_pops, multi_resp, on= \"TUCASEID\").filter([\"TUCASEID\",\"TUACTDUR24\",\"TUFNWGTP\"])\n",
    "atus_2014_all_res_total_pops_merge[\"Multiplied Weight\"] = atus_2014_all_res_total_pops_merge[\"TUACTDUR24\"] * atus_2014_all_res_total_pops_merge[\"TUFNWGTP\"]\n",
    "#atus_2014_all_res_total_pops_merge"
   ]
  },
  {
   "cell_type": "code",
   "execution_count": 61,
   "metadata": {},
   "outputs": [],
   "source": [
    "atus_2014_all_res_total_pops_merge = pd.merge(atus_2014_all_res_total_pops, multi_resp, on= \"TUCASEID\").filter([\"TUCASEID\",\"TUACTDUR24\",\"TUFNWGTP\"])\n",
    "atus_2014_all_res_total_pops_merge[\"Multiplied Weight\"] = atus_2014_all_res_total_pops_merge[\"TUACTDUR24\"] * atus_2014_all_res_total_pops_merge[\"TUFNWGTP\"]\n",
    "#atus_2014_all_res_total_pops_merge"
   ]
  },
  {
   "cell_type": "code",
   "execution_count": 62,
   "metadata": {},
   "outputs": [],
   "source": [
    "total_pops_2014 = multi_merged[multi_merged[\"TUCASEID\"].apply(str).str.startswith(\"2014\")]\n",
    "atus_2014_total_pops_weight = total_pops_2014.drop_duplicates(subset=[\"TUCASEID\"])\n",
    "atus_2014_total_pops_weight = atus_2014_total_pops_weight[\"TUFNWGTP\"].sum()\n",
    "\n",
    "atus_2014_all_res_total_pops_multiplied_weight = atus_2014_all_res_total_pops_merge[\"Multiplied Weight\"].sum()"
   ]
  },
  {
   "cell_type": "code",
   "execution_count": 63,
   "metadata": {},
   "outputs": [
    {
     "data": {
      "text/plain": [
       "17.757475585701304"
      ]
     },
     "execution_count": 63,
     "metadata": {},
     "output_type": "execute_result"
    }
   ],
   "source": [
    "all_act_2014_res_total_pops_hpd = atus_2014_all_res_total_pops_multiplied_weight / atus_2014_total_pops_weight / 60\n",
    "all_act_2014_res_total_pops_hpd"
   ]
  },
  {
   "cell_type": "markdown",
   "metadata": {},
   "source": [
    "### 2015 All Residential Activities - Total Population"
   ]
  },
  {
   "cell_type": "code",
   "execution_count": 64,
   "metadata": {},
   "outputs": [],
   "source": [
    "atus_2015_all_res_total_pops = atus_2015_res_total_pops.groupby([\"TUCASEID\"]).sum().filter([\"TUCASEID\", \"TUACTDUR24\"])\n",
    "#atus_2015_all_res_total_pops"
   ]
  },
  {
   "cell_type": "code",
   "execution_count": 65,
   "metadata": {},
   "outputs": [],
   "source": [
    "atus_2015_all_res_total_pops_merge = pd.merge(atus_2015_all_res_total_pops, multi_resp, on= \"TUCASEID\").filter([\"TUCASEID\",\"TUACTDUR24\",\"TUFNWGTP\"])\n",
    "atus_2015_all_res_total_pops_merge[\"Multiplied Weight\"] = atus_2015_all_res_total_pops_merge[\"TUACTDUR24\"] * atus_2015_all_res_total_pops_merge[\"TUFNWGTP\"]\n",
    "#atus_2015_all_res_total_pops_merge"
   ]
  },
  {
   "cell_type": "code",
   "execution_count": 66,
   "metadata": {},
   "outputs": [],
   "source": [
    "atus_2015_all_res_total_pops_merge = pd.merge(atus_2015_all_res_total_pops, multi_resp, on= \"TUCASEID\").filter([\"TUCASEID\",\"TUACTDUR24\",\"TUFNWGTP\"])\n",
    "atus_2015_all_res_total_pops_merge[\"Multiplied Weight\"] = atus_2015_all_res_total_pops_merge[\"TUACTDUR24\"] * atus_2015_all_res_total_pops_merge[\"TUFNWGTP\"]\n",
    "#atus_2015_all_res_total_pops_merge"
   ]
  },
  {
   "cell_type": "code",
   "execution_count": 67,
   "metadata": {},
   "outputs": [],
   "source": [
    "total_pops_2015 = multi_merged[multi_merged[\"TUCASEID\"].apply(str).str.startswith(\"2015\")]\n",
    "atus_2015_total_pops_weight = total_pops_2015.drop_duplicates(subset=[\"TUCASEID\"])\n",
    "atus_2015_total_pops_weight = atus_2015_total_pops_weight[\"TUFNWGTP\"].sum()\n",
    "\n",
    "atus_2015_all_res_total_pops_multiplied_weight = atus_2015_all_res_total_pops_merge[\"Multiplied Weight\"].sum()"
   ]
  },
  {
   "cell_type": "code",
   "execution_count": 68,
   "metadata": {},
   "outputs": [
    {
     "data": {
      "text/plain": [
       "17.817960989520426"
      ]
     },
     "execution_count": 68,
     "metadata": {},
     "output_type": "execute_result"
    }
   ],
   "source": [
    "all_act_2015_res_total_pops_hpd = atus_2015_all_res_total_pops_multiplied_weight / atus_2015_total_pops_weight / 60\n",
    "all_act_2015_res_total_pops_hpd"
   ]
  },
  {
   "cell_type": "markdown",
   "metadata": {},
   "source": [
    "### 2016 All Residential Activities - Total Population"
   ]
  },
  {
   "cell_type": "code",
   "execution_count": 69,
   "metadata": {},
   "outputs": [],
   "source": [
    "atus_2016_all_res_total_pops = atus_2016_res_total_pops.groupby([\"TUCASEID\"]).sum().filter([\"TUCASEID\", \"TUACTDUR24\"])\n",
    "#atus_2016_all_res_total_pops"
   ]
  },
  {
   "cell_type": "code",
   "execution_count": 70,
   "metadata": {},
   "outputs": [],
   "source": [
    "atus_2016_all_res_total_pops_merge = pd.merge(atus_2016_all_res_total_pops, multi_resp, on= \"TUCASEID\").filter([\"TUCASEID\",\"TUACTDUR24\",\"TUFNWGTP\"])\n",
    "atus_2016_all_res_total_pops_merge[\"Multiplied Weight\"] = atus_2016_all_res_total_pops_merge[\"TUACTDUR24\"] * atus_2016_all_res_total_pops_merge[\"TUFNWGTP\"]\n",
    "#atus_2016_all_res_total_pops_merge"
   ]
  },
  {
   "cell_type": "code",
   "execution_count": 71,
   "metadata": {},
   "outputs": [],
   "source": [
    "atus_2016_all_res_total_pops_merge = pd.merge(atus_2016_all_res_total_pops, multi_resp, on= \"TUCASEID\").filter([\"TUCASEID\",\"TUACTDUR24\",\"TUFNWGTP\"])\n",
    "atus_2016_all_res_total_pops_merge[\"Multiplied Weight\"] = atus_2016_all_res_total_pops_merge[\"TUACTDUR24\"] * atus_2016_all_res_total_pops_merge[\"TUFNWGTP\"]\n",
    "#atus_2016_all_res_total_pops_merge"
   ]
  },
  {
   "cell_type": "code",
   "execution_count": 72,
   "metadata": {},
   "outputs": [],
   "source": [
    "total_pops_2016 = multi_merged[multi_merged[\"TUCASEID\"].apply(str).str.startswith(\"2016\")]\n",
    "atus_2016_total_pops_weight = total_pops_2016.drop_duplicates(subset=[\"TUCASEID\"])\n",
    "atus_2016_total_pops_weight = atus_2016_total_pops_weight[\"TUFNWGTP\"].sum()\n",
    "\n",
    "atus_2016_all_res_total_pops_multiplied_weight = atus_2016_all_res_total_pops_merge[\"Multiplied Weight\"].sum()"
   ]
  },
  {
   "cell_type": "code",
   "execution_count": 73,
   "metadata": {},
   "outputs": [
    {
     "data": {
      "text/plain": [
       "17.629279087740155"
      ]
     },
     "execution_count": 73,
     "metadata": {},
     "output_type": "execute_result"
    }
   ],
   "source": [
    "all_act_2016_res_total_pops_hpd = atus_2016_all_res_total_pops_multiplied_weight / atus_2016_total_pops_weight / 60\n",
    "all_act_2016_res_total_pops_hpd"
   ]
  },
  {
   "cell_type": "markdown",
   "metadata": {},
   "source": [
    "### 2017 All Residential Activities - Total Population"
   ]
  },
  {
   "cell_type": "code",
   "execution_count": 74,
   "metadata": {},
   "outputs": [],
   "source": [
    "atus_2017_all_res_total_pops = atus_2017_res_total_pops.groupby([\"TUCASEID\"]).sum().filter([\"TUCASEID\", \"TUACTDUR24\"])\n",
    "#atus_2017_all_res_total_pops"
   ]
  },
  {
   "cell_type": "code",
   "execution_count": 75,
   "metadata": {},
   "outputs": [],
   "source": [
    "atus_2017_all_res_total_pops_merge = pd.merge(atus_2017_all_res_total_pops, multi_resp, on= \"TUCASEID\").filter([\"TUCASEID\",\"TUACTDUR24\",\"TUFNWGTP\"])\n",
    "atus_2017_all_res_total_pops_merge[\"Multiplied Weight\"] = atus_2017_all_res_total_pops_merge[\"TUACTDUR24\"] * atus_2017_all_res_total_pops_merge[\"TUFNWGTP\"]\n",
    "#atus_2017_all_res_total_pops_merge"
   ]
  },
  {
   "cell_type": "code",
   "execution_count": 76,
   "metadata": {},
   "outputs": [],
   "source": [
    "atus_2017_all_res_total_pops_merge = pd.merge(atus_2017_all_res_total_pops, multi_resp, on= \"TUCASEID\").filter([\"TUCASEID\",\"TUACTDUR24\",\"TUFNWGTP\"])\n",
    "atus_2017_all_res_total_pops_merge[\"Multiplied Weight\"] = atus_2017_all_res_total_pops_merge[\"TUACTDUR24\"] * atus_2017_all_res_total_pops_merge[\"TUFNWGTP\"]\n",
    "#atus_2017_all_res_total_pops_merge"
   ]
  },
  {
   "cell_type": "code",
   "execution_count": 77,
   "metadata": {},
   "outputs": [],
   "source": [
    "total_pops_2017 = multi_merged[multi_merged[\"TUCASEID\"].apply(str).str.startswith(\"2017\")]\n",
    "atus_2017_total_pops_weight = total_pops_2017.drop_duplicates(subset=[\"TUCASEID\"])\n",
    "atus_2017_total_pops_weight = atus_2017_total_pops_weight[\"TUFNWGTP\"].sum()\n",
    "\n",
    "atus_2017_all_res_total_pops_multiplied_weight = atus_2017_all_res_total_pops_merge[\"Multiplied Weight\"].sum()"
   ]
  },
  {
   "cell_type": "code",
   "execution_count": 78,
   "metadata": {},
   "outputs": [
    {
     "data": {
      "text/plain": [
       "17.70734994338697"
      ]
     },
     "execution_count": 78,
     "metadata": {},
     "output_type": "execute_result"
    }
   ],
   "source": [
    "all_act_2017_res_total_pops_hpd = atus_2017_all_res_total_pops_multiplied_weight / atus_2017_total_pops_weight / 60\n",
    "all_act_2017_res_total_pops_hpd"
   ]
  },
  {
   "cell_type": "markdown",
   "metadata": {},
   "source": [
    "### 2018 All Residential Activities - Total Population"
   ]
  },
  {
   "cell_type": "code",
   "execution_count": 79,
   "metadata": {},
   "outputs": [],
   "source": [
    "atus_2018_all_res_total_pops = atus_2018_res_total_pops.groupby([\"TUCASEID\"]).sum().filter([\"TUCASEID\", \"TUACTDUR24\"])\n",
    "#atus_2018_all_res_total_pops"
   ]
  },
  {
   "cell_type": "code",
   "execution_count": 80,
   "metadata": {},
   "outputs": [],
   "source": [
    "atus_2018_all_res_total_pops_merge = pd.merge(atus_2018_all_res_total_pops, multi_resp, on= \"TUCASEID\").filter([\"TUCASEID\",\"TUACTDUR24\",\"TUFNWGTP\"])\n",
    "atus_2018_all_res_total_pops_merge[\"Multiplied Weight\"] = atus_2018_all_res_total_pops_merge[\"TUACTDUR24\"] * atus_2018_all_res_total_pops_merge[\"TUFNWGTP\"]\n",
    "#atus_2018_all_res_total_pops_merge"
   ]
  },
  {
   "cell_type": "code",
   "execution_count": 81,
   "metadata": {},
   "outputs": [],
   "source": [
    "atus_2018_all_res_total_pops_merge = pd.merge(atus_2018_all_res_total_pops, multi_resp, on= \"TUCASEID\").filter([\"TUCASEID\",\"TUACTDUR24\",\"TUFNWGTP\"])\n",
    "atus_2018_all_res_total_pops_merge[\"Multiplied Weight\"] = atus_2018_all_res_total_pops_merge[\"TUACTDUR24\"] * atus_2018_all_res_total_pops_merge[\"TUFNWGTP\"]\n",
    "#atus_2018_all_res_total_pops_merge"
   ]
  },
  {
   "cell_type": "code",
   "execution_count": 82,
   "metadata": {},
   "outputs": [],
   "source": [
    "total_pops_2018 = multi_merged[multi_merged[\"TUCASEID\"].apply(str).str.startswith(\"2018\")]\n",
    "atus_2018_total_pops_weight = total_pops_2018.drop_duplicates(subset=[\"TUCASEID\"])\n",
    "atus_2018_total_pops_weight = atus_2018_total_pops_weight[\"TUFNWGTP\"].sum()\n",
    "\n",
    "atus_2018_all_res_total_pops_multiplied_weight = atus_2018_all_res_total_pops_merge[\"Multiplied Weight\"].sum()"
   ]
  },
  {
   "cell_type": "code",
   "execution_count": 83,
   "metadata": {},
   "outputs": [
    {
     "data": {
      "text/plain": [
       "17.72399163726947"
      ]
     },
     "execution_count": 83,
     "metadata": {},
     "output_type": "execute_result"
    }
   ],
   "source": [
    "all_act_2018_res_total_pops_hpd = atus_2018_all_res_total_pops_multiplied_weight / atus_2018_total_pops_weight / 60\n",
    "all_act_2018_res_total_pops_hpd"
   ]
  },
  {
   "cell_type": "markdown",
   "metadata": {},
   "source": [
    "### 2019 All Residential Activities - Total Population"
   ]
  },
  {
   "cell_type": "code",
   "execution_count": 84,
   "metadata": {},
   "outputs": [],
   "source": [
    "atus_2019_all_res_total_pops = atus_2019_res_total_pops.groupby([\"TUCASEID\"]).sum().filter([\"TUCASEID\", \"TUACTDUR24\"])\n",
    "#atus_2019_all_res_total_pops"
   ]
  },
  {
   "cell_type": "code",
   "execution_count": 85,
   "metadata": {},
   "outputs": [],
   "source": [
    "atus_2019_all_res_total_pops_merge = pd.merge(atus_2019_all_res_total_pops, multi_resp, on= \"TUCASEID\").filter([\"TUCASEID\",\"TUACTDUR24\",\"TUFNWGTP\"])\n",
    "atus_2019_all_res_total_pops_merge[\"Multiplied Weight\"] = atus_2019_all_res_total_pops_merge[\"TUACTDUR24\"] * atus_2019_all_res_total_pops_merge[\"TUFNWGTP\"]\n",
    "#atus_2019_all_res_total_pops_merge"
   ]
  },
  {
   "cell_type": "code",
   "execution_count": 86,
   "metadata": {},
   "outputs": [],
   "source": [
    "atus_2019_all_res_total_pops_merge = pd.merge(atus_2019_all_res_total_pops, multi_resp, on= \"TUCASEID\").filter([\"TUCASEID\",\"TUACTDUR24\",\"TUFNWGTP\"])\n",
    "atus_2019_all_res_total_pops_merge[\"Multiplied Weight\"] = atus_2019_all_res_total_pops_merge[\"TUACTDUR24\"] * atus_2019_all_res_total_pops_merge[\"TUFNWGTP\"]\n",
    "#atus_2019_all_res_total_pops_merge"
   ]
  },
  {
   "cell_type": "code",
   "execution_count": 87,
   "metadata": {},
   "outputs": [],
   "source": [
    "total_pops_2019 = multi_merged[multi_merged[\"TUCASEID\"].apply(str).str.startswith(\"2019\")]\n",
    "atus_2019_total_pops_weight = total_pops_2019.drop_duplicates(subset=[\"TUCASEID\"])\n",
    "atus_2019_total_pops_weight = atus_2019_total_pops_weight[\"TUFNWGTP\"].sum()\n",
    "\n",
    "atus_2019_all_res_total_pops_multiplied_weight = atus_2019_all_res_total_pops_merge[\"Multiplied Weight\"].sum()"
   ]
  },
  {
   "cell_type": "code",
   "execution_count": 88,
   "metadata": {},
   "outputs": [
    {
     "data": {
      "text/plain": [
       "17.763810283202467"
      ]
     },
     "execution_count": 88,
     "metadata": {},
     "output_type": "execute_result"
    }
   ],
   "source": [
    "all_act_2019_res_total_pops_hpd = atus_2019_all_res_total_pops_multiplied_weight / atus_2019_total_pops_weight / 60\n",
    "all_act_2019_res_total_pops_hpd"
   ]
  },
  {
   "cell_type": "markdown",
   "metadata": {},
   "source": [
    "### Regresssion: All Residential Activity - Total Population"
   ]
  },
  {
   "cell_type": "markdown",
   "metadata": {},
   "source": [
    "#### 2003 -2012 Regression "
   ]
  },
  {
   "cell_type": "code",
   "execution_count": 89,
   "metadata": {},
   "outputs": [],
   "source": [
    "year = np.array([2003, 2004, 2005, 2006, 2007, 2008, 2009, 2010,2011,2012]).reshape((-1, 1))\n",
    "activity_hours_per_day = np.array([all_act_2003_res_total_pops_hpd, all_act_2004_res_total_pops_hpd, all_act_2005_res_total_pops_hpd,\n",
    "                                   all_act_2006_res_total_pops_hpd, all_act_2007_res_total_pops_hpd, all_act_2008_res_total_pops_hpd,\n",
    "                                   all_act_2009_res_total_pops_hpd, all_act_2010_res_total_pops_hpd, all_act_2011_res_total_pops_hpd,\n",
    "                                   all_act_2012_res_total_pops_hpd]).reshape((-1, 1))\n",
    "\n",
    "activity_hours_per_yr = [i * 365 for i in activity_hours_per_day]\n",
    "#activity_hours_per_yr"
   ]
  },
  {
   "cell_type": "code",
   "execution_count": 90,
   "metadata": {},
   "outputs": [
    {
     "data": {
      "image/png": "[encoded data removed]",
      "text/plain": [
       "<Figure size 432x288 with 1 Axes>"
      ]
     },
     "metadata": {
      "needs_background": "light"
     },
     "output_type": "display_data"
    }
   ],
   "source": [
    "x = year\n",
    "y = activity_hours_per_yr\n",
    "x, y = np.array(x), np.array(y)\n",
    "\n",
    "model = LinearRegression().fit(x, y)\n",
    "\n",
    "y_pred = model.predict(x)  \n",
    "\n",
    "plt.scatter(x, y)\n",
    "plt.plot(x, y_pred, color='red')\n",
    "plt.show()"
   ]
  },
  {
   "cell_type": "code",
   "execution_count": 91,
   "metadata": {},
   "outputs": [
    {
     "data": {
      "text/plain": [
       "0.7453365134405741"
      ]
     },
     "execution_count": 91,
     "metadata": {},
     "output_type": "execute_result"
    }
   ],
   "source": [
    "coefficient_of_determination = model.score(x,y) #R sqaure value \n",
    "coefficient_of_determination"
   ]
  },
  {
   "cell_type": "code",
   "execution_count": 92,
   "metadata": {},
   "outputs": [
    {
     "data": {
      "text/plain": [
       "array([[18.71218477]])"
      ]
     },
     "execution_count": 92,
     "metadata": {},
     "output_type": "execute_result"
    }
   ],
   "source": [
    "all_act_2012_res_total_pops_slope = model.coef_\n",
    "all_act_2012_res_total_pops_slope"
   ]
  },
  {
   "cell_type": "markdown",
   "metadata": {},
   "source": [
    "#### 2003-2019 Regression"
   ]
  },
  {
   "cell_type": "code",
   "execution_count": 93,
   "metadata": {},
   "outputs": [],
   "source": [
    "year = np.array([2003, 2004, 2005, 2006, 2007, 2008, 2009, 2010,2011,2012, 2013, 2014, 2015, 2016, 2017, 2018, 2019]).reshape((-1, 1))\n",
    "activity_hours_per_day = np.array([all_act_2003_res_total_pops_hpd, all_act_2004_res_total_pops_hpd, all_act_2005_res_total_pops_hpd,\n",
    "                                   all_act_2006_res_total_pops_hpd, all_act_2007_res_total_pops_hpd, all_act_2008_res_total_pops_hpd,\n",
    "                                   all_act_2009_res_total_pops_hpd, all_act_2010_res_total_pops_hpd, all_act_2011_res_total_pops_hpd,\n",
    "                                   all_act_2012_res_total_pops_hpd, all_act_2013_res_total_pops_hpd, all_act_2014_res_total_pops_hpd,\n",
    "                                   all_act_2015_res_total_pops_hpd, all_act_2016_res_total_pops_hpd, all_act_2017_res_total_pops_hpd,\n",
    "                                   all_act_2018_res_total_pops_hpd, all_act_2019_res_total_pops_hpd]).reshape((-1, 1))\n",
    "\n",
    "activity_hours_per_yr = [i * 365 for i in activity_hours_per_day]\n",
    "#activity_hours_per_yr"
   ]
  },
  {
   "cell_type": "code",
   "execution_count": 94,
   "metadata": {},
   "outputs": [
    {
     "data": {
      "image/png": "[encoded data removed]",
      "text/plain": [
       "<Figure size 432x288 with 1 Axes>"
      ]
     },
     "metadata": {
      "needs_background": "light"
     },
     "output_type": "display_data"
    }
   ],
   "source": [
    "x = year\n",
    "y = activity_hours_per_yr\n",
    "x, y = np.array(x), np.array(y)\n",
    "\n",
    "model = LinearRegression().fit(x, y)\n",
    "\n",
    "y_pred = model.predict(x)  \n",
    "\n",
    "plt.scatter(x, y)\n",
    "plt.plot(x, y_pred, color='red')\n",
    "plt.show()"
   ]
  },
  {
   "cell_type": "code",
   "execution_count": 95,
   "metadata": {},
   "outputs": [
    {
     "data": {
      "text/plain": [
       "0.712378702578844"
      ]
     },
     "execution_count": 95,
     "metadata": {},
     "output_type": "execute_result"
    }
   ],
   "source": [
    "coefficient_of_determination = model.score(x,y) #R sqaure value \n",
    "coefficient_of_determination"
   ]
  },
  {
   "cell_type": "code",
   "execution_count": 96,
   "metadata": {},
   "outputs": [
    {
     "data": {
      "text/plain": [
       "array([[11.54255682]])"
      ]
     },
     "execution_count": 96,
     "metadata": {},
     "output_type": "execute_result"
    }
   ],
   "source": [
    "all_act_2019_res_total_pops_slope = model.coef_\n",
    "all_act_2019_res_total_pops_slope"
   ]
  },
  {
   "cell_type": "markdown",
   "metadata": {},
   "source": [
    "### 2003-2019 NonResidential - Total Population"
   ]
  },
  {
   "cell_type": "code",
   "execution_count": 97,
   "metadata": {},
   "outputs": [],
   "source": [
    "#non-residential = 2,4,5,6,7,8,9,10,11,30,31,32"
   ]
  },
  {
   "cell_type": "code",
   "execution_count": 98,
   "metadata": {},
   "outputs": [],
   "source": [
    "nonresidential_location = [2,4,5,6,7,8,9,10,11,30,31,32]\n",
    "atus_multi_yr_nonres_total_pops = multi_merged[multi_merged[\"TEWHERE\"].isin(nonresidential_location)]\n",
    "#atus_multi_yr_res_total_pops"
   ]
  },
  {
   "cell_type": "code",
   "execution_count": 99,
   "metadata": {},
   "outputs": [],
   "source": [
    "atus_2003_nonres_total_pops = atus_multi_yr_nonres_total_pops[atus_multi_yr_nonres_total_pops[\"TUCASEID\"].apply(str).str.startswith(\"2003\")]\n",
    "atus_2004_nonres_total_pops = atus_multi_yr_nonres_total_pops[atus_multi_yr_nonres_total_pops[\"TUCASEID\"].apply(str).str.startswith(\"2004\")]\n",
    "atus_2005_nonres_total_pops = atus_multi_yr_nonres_total_pops[atus_multi_yr_nonres_total_pops[\"TUCASEID\"].apply(str).str.startswith(\"2005\")]\n",
    "atus_2006_nonres_total_pops = atus_multi_yr_nonres_total_pops[atus_multi_yr_nonres_total_pops[\"TUCASEID\"].apply(str).str.startswith(\"2006\")]\n",
    "atus_2007_nonres_total_pops = atus_multi_yr_nonres_total_pops[atus_multi_yr_nonres_total_pops[\"TUCASEID\"].apply(str).str.startswith(\"2007\")]\n",
    "atus_2008_nonres_total_pops = atus_multi_yr_nonres_total_pops[atus_multi_yr_nonres_total_pops[\"TUCASEID\"].apply(str).str.startswith(\"2008\")]\n",
    "atus_2009_nonres_total_pops = atus_multi_yr_nonres_total_pops[atus_multi_yr_nonres_total_pops[\"TUCASEID\"].apply(str).str.startswith(\"2009\")]\n",
    "atus_2010_nonres_total_pops = atus_multi_yr_nonres_total_pops[atus_multi_yr_nonres_total_pops[\"TUCASEID\"].apply(str).str.startswith(\"2010\")]\n",
    "atus_2011_nonres_total_pops = atus_multi_yr_nonres_total_pops[atus_multi_yr_nonres_total_pops[\"TUCASEID\"].apply(str).str.startswith(\"2011\")]\n",
    "atus_2012_nonres_total_pops = atus_multi_yr_nonres_total_pops[atus_multi_yr_nonres_total_pops[\"TUCASEID\"].apply(str).str.startswith(\"2012\")]\n",
    "atus_2013_nonres_total_pops = atus_multi_yr_nonres_total_pops[atus_multi_yr_nonres_total_pops[\"TUCASEID\"].apply(str).str.startswith(\"2013\")]\n",
    "atus_2014_nonres_total_pops = atus_multi_yr_nonres_total_pops[atus_multi_yr_nonres_total_pops[\"TUCASEID\"].apply(str).str.startswith(\"2014\")]\n",
    "atus_2015_nonres_total_pops = atus_multi_yr_nonres_total_pops[atus_multi_yr_nonres_total_pops[\"TUCASEID\"].apply(str).str.startswith(\"2015\")]\n",
    "atus_2016_nonres_total_pops = atus_multi_yr_nonres_total_pops[atus_multi_yr_nonres_total_pops[\"TUCASEID\"].apply(str).str.startswith(\"2016\")]\n",
    "atus_2017_nonres_total_pops = atus_multi_yr_nonres_total_pops[atus_multi_yr_nonres_total_pops[\"TUCASEID\"].apply(str).str.startswith(\"2017\")]\n",
    "atus_2018_nonres_total_pops = atus_multi_yr_nonres_total_pops[atus_multi_yr_nonres_total_pops[\"TUCASEID\"].apply(str).str.startswith(\"2018\")]\n",
    "atus_2019_nonres_total_pops = atus_multi_yr_nonres_total_pops[atus_multi_yr_nonres_total_pops[\"TUCASEID\"].apply(str).str.startswith(\"2019\")]\n",
    "#atus_2003_nonres_total_pops"
   ]
  },
  {
   "cell_type": "markdown",
   "metadata": {},
   "source": [
    "### 2003 All Activities - NonResidential - Total Population"
   ]
  },
  {
   "cell_type": "code",
   "execution_count": 100,
   "metadata": {},
   "outputs": [],
   "source": [
    "atus_2003_all_nonres_total_pops = atus_2003_nonres_total_pops.groupby([\"TUCASEID\"]).sum().filter([\"TUCASEID\", \"TUACTDUR24\"])\n",
    "#atus_2003_all_nonres_total_pops"
   ]
  },
  {
   "cell_type": "code",
   "execution_count": 101,
   "metadata": {},
   "outputs": [],
   "source": [
    "atus_2003_all_nonres_total_pops_merge = pd.merge(atus_2003_all_nonres_total_pops, multi_resp, on= \"TUCASEID\").filter([\"TUCASEID\",\"TUACTDUR24\",\"TUFNWGTP\"])\n",
    "#atus_2003_all_res_total_pops_merge"
   ]
  },
  {
   "cell_type": "code",
   "execution_count": 102,
   "metadata": {},
   "outputs": [],
   "source": [
    "atus_2003_all_nonres_total_pops_merge[\"Multiplied Weight\"]=atus_2003_all_nonres_total_pops_merge[\"TUACTDUR24\"]*atus_2003_all_nonres_total_pops_merge[\"TUFNWGTP\"]\n",
    "#atus_2003_all_nonres_total_pops_merge"
   ]
  },
  {
   "cell_type": "code",
   "execution_count": 103,
   "metadata": {},
   "outputs": [
    {
     "data": {
      "text/plain": [
       "26450159437926.35"
      ]
     },
     "execution_count": 103,
     "metadata": {},
     "output_type": "execute_result"
    }
   ],
   "source": [
    "atus_2003_all_nonres_total_pops_multiplied_weight = atus_2003_all_nonres_total_pops_merge[\"Multiplied Weight\"].sum()\n",
    "atus_2003_all_nonres_total_pops_multiplied_weight"
   ]
  },
  {
   "cell_type": "code",
   "execution_count": 104,
   "metadata": {},
   "outputs": [
    {
     "data": {
      "text/plain": [
       "5.360934694156648"
      ]
     },
     "execution_count": 104,
     "metadata": {},
     "output_type": "execute_result"
    }
   ],
   "source": [
    "all_act_2003_nonres_total_pops_hpd = atus_2003_all_nonres_total_pops_multiplied_weight / atus_2003_total_pops_weight / 60\n",
    "all_act_2003_nonres_total_pops_hpd"
   ]
  },
  {
   "cell_type": "markdown",
   "metadata": {},
   "source": [
    "### 2004 All Activities - NonResidential - Total Population"
   ]
  },
  {
   "cell_type": "code",
   "execution_count": 105,
   "metadata": {},
   "outputs": [],
   "source": [
    "atus_2004_all_nonres_total_pops = atus_2004_nonres_total_pops.groupby([\"TUCASEID\"]).sum().filter([\"TUCASEID\", \"TUACTDUR24\"])\n",
    "#atus_2004_all_nonres_total_pops"
   ]
  },
  {
   "cell_type": "code",
   "execution_count": 106,
   "metadata": {},
   "outputs": [],
   "source": [
    "atus_2004_all_nonres_total_pops_merge = pd.merge(atus_2004_all_nonres_total_pops, multi_resp, on= \"TUCASEID\").filter([\"TUCASEID\",\"TUACTDUR24\",\"TUFNWGTP\"])\n",
    "#atus_2004_all_res_total_pops_merge"
   ]
  },
  {
   "cell_type": "code",
   "execution_count": 107,
   "metadata": {},
   "outputs": [
    {
     "data": {
      "text/plain": [
       "26838862143575.75"
      ]
     },
     "execution_count": 107,
     "metadata": {},
     "output_type": "execute_result"
    }
   ],
   "source": [
    "atus_2004_all_nonres_total_pops_merge[\"Multiplied Weight\"]=atus_2004_all_nonres_total_pops_merge[\"TUACTDUR24\"]*atus_2004_all_nonres_total_pops_merge[\"TUFNWGTP\"]\n",
    "\n",
    "atus_2004_all_nonres_total_pops_multiplied_weight = atus_2004_all_nonres_total_pops_merge[\"Multiplied Weight\"].sum()\n",
    "atus_2004_all_nonres_total_pops_multiplied_weight"
   ]
  },
  {
   "cell_type": "code",
   "execution_count": 108,
   "metadata": {},
   "outputs": [
    {
     "data": {
      "text/plain": [
       "5.372610012255234"
      ]
     },
     "execution_count": 108,
     "metadata": {},
     "output_type": "execute_result"
    }
   ],
   "source": [
    "all_act_2004_nonres_total_pops_hpd = atus_2004_all_nonres_total_pops_multiplied_weight / atus_2004_total_pops_weight / 60\n",
    "all_act_2004_nonres_total_pops_hpd"
   ]
  },
  {
   "cell_type": "markdown",
   "metadata": {},
   "source": [
    "### 2005 All Activities - NonResidential - total_pops"
   ]
  },
  {
   "cell_type": "code",
   "execution_count": 109,
   "metadata": {},
   "outputs": [],
   "source": [
    "atus_2005_all_nonres_total_pops = atus_2005_nonres_total_pops.groupby([\"TUCASEID\"]).sum().filter([\"TUCASEID\", \"TUACTDUR24\"])\n",
    "#atus_2005_all_nonres_total_pops"
   ]
  },
  {
   "cell_type": "code",
   "execution_count": 110,
   "metadata": {},
   "outputs": [],
   "source": [
    "atus_2005_all_nonres_total_pops_merge = pd.merge(atus_2005_all_nonres_total_pops, multi_resp, on= \"TUCASEID\").filter([\"TUCASEID\",\"TUACTDUR24\",\"TUFNWGTP\"])\n",
    "#atus_2005_all_res_total_pops_merge"
   ]
  },
  {
   "cell_type": "code",
   "execution_count": 111,
   "metadata": {},
   "outputs": [
    {
     "data": {
      "text/plain": [
       "27093291857795.09"
      ]
     },
     "execution_count": 111,
     "metadata": {},
     "output_type": "execute_result"
    }
   ],
   "source": [
    "atus_2005_all_nonres_total_pops_merge[\"Multiplied Weight\"]=atus_2005_all_nonres_total_pops_merge[\"TUACTDUR24\"]*atus_2005_all_nonres_total_pops_merge[\"TUFNWGTP\"]\n",
    "\n",
    "atus_2005_all_nonres_total_pops_multiplied_weight = atus_2005_all_nonres_total_pops_merge[\"Multiplied Weight\"].sum()\n",
    "atus_2005_all_nonres_total_pops_multiplied_weight"
   ]
  },
  {
   "cell_type": "code",
   "execution_count": 112,
   "metadata": {},
   "outputs": [
    {
     "data": {
      "text/plain": [
       "5.368876151085315"
      ]
     },
     "execution_count": 112,
     "metadata": {},
     "output_type": "execute_result"
    }
   ],
   "source": [
    "all_act_2005_nonres_total_pops_hpd = atus_2005_all_nonres_total_pops_multiplied_weight / atus_2005_total_pops_weight / 60\n",
    "all_act_2005_nonres_total_pops_hpd"
   ]
  },
  {
   "cell_type": "markdown",
   "metadata": {},
   "source": [
    "### 2006 All Activities - NonResidential - total_pops"
   ]
  },
  {
   "cell_type": "code",
   "execution_count": 113,
   "metadata": {},
   "outputs": [],
   "source": [
    "atus_2006_all_nonres_total_pops = atus_2006_nonres_total_pops.groupby([\"TUCASEID\"]).sum().filter([\"TUCASEID\", \"TUACTDUR24\"])\n",
    "#atus_2006_all_nonres_total_pops"
   ]
  },
  {
   "cell_type": "code",
   "execution_count": 114,
   "metadata": {},
   "outputs": [],
   "source": [
    "atus_2006_all_nonres_total_pops_merge = pd.merge(atus_2006_all_nonres_total_pops, multi_resp, on= \"TUCASEID\").filter([\"TUCASEID\",\"TUACTDUR24\",\"TUFNWGTP\"])\n",
    "#atus_2006_all_res_total_pops_merge"
   ]
  },
  {
   "cell_type": "code",
   "execution_count": 115,
   "metadata": {},
   "outputs": [
    {
     "data": {
      "text/plain": [
       "27841461976797.637"
      ]
     },
     "execution_count": 115,
     "metadata": {},
     "output_type": "execute_result"
    }
   ],
   "source": [
    "atus_2006_all_nonres_total_pops_merge[\"Multiplied Weight\"]=atus_2006_all_nonres_total_pops_merge[\"TUACTDUR24\"]*atus_2006_all_nonres_total_pops_merge[\"TUFNWGTP\"]\n",
    "\n",
    "atus_2006_all_nonres_total_pops_multiplied_weight = atus_2006_all_nonres_total_pops_merge[\"Multiplied Weight\"].sum()\n",
    "atus_2006_all_nonres_total_pops_multiplied_weight"
   ]
  },
  {
   "cell_type": "code",
   "execution_count": 116,
   "metadata": {},
   "outputs": [
    {
     "data": {
      "text/plain": [
       "5.4533568284283644"
      ]
     },
     "execution_count": 116,
     "metadata": {},
     "output_type": "execute_result"
    }
   ],
   "source": [
    "all_act_2006_nonres_total_pops_hpd = atus_2006_all_nonres_total_pops_multiplied_weight / atus_2006_total_pops_weight / 60\n",
    "all_act_2006_nonres_total_pops_hpd"
   ]
  },
  {
   "cell_type": "markdown",
   "metadata": {},
   "source": [
    "### 2007 All Activities - NonResidential - total_pops"
   ]
  },
  {
   "cell_type": "code",
   "execution_count": 117,
   "metadata": {},
   "outputs": [],
   "source": [
    "atus_2007_all_nonres_total_pops = atus_2007_nonres_total_pops.groupby([\"TUCASEID\"]).sum().filter([\"TUCASEID\", \"TUACTDUR24\"])\n",
    "#atus_2007_all_nonres_total_pops"
   ]
  },
  {
   "cell_type": "code",
   "execution_count": 118,
   "metadata": {},
   "outputs": [],
   "source": [
    "atus_2007_all_nonres_total_pops_merge = pd.merge(atus_2007_all_nonres_total_pops, multi_resp, on= \"TUCASEID\").filter([\"TUCASEID\",\"TUACTDUR24\",\"TUFNWGTP\"])\n",
    "#atus_2007_all_res_total_pops_merge"
   ]
  },
  {
   "cell_type": "code",
   "execution_count": 119,
   "metadata": {},
   "outputs": [
    {
     "data": {
      "text/plain": [
       "28261373260358.223"
      ]
     },
     "execution_count": 119,
     "metadata": {},
     "output_type": "execute_result"
    }
   ],
   "source": [
    "atus_2007_all_nonres_total_pops_merge[\"Multiplied Weight\"]=atus_2007_all_nonres_total_pops_merge[\"TUACTDUR24\"]*atus_2007_all_nonres_total_pops_merge[\"TUFNWGTP\"]\n",
    "\n",
    "atus_2007_all_nonres_total_pops_multiplied_weight = atus_2007_all_nonres_total_pops_merge[\"Multiplied Weight\"].sum()\n",
    "atus_2007_all_nonres_total_pops_multiplied_weight"
   ]
  },
  {
   "cell_type": "code",
   "execution_count": 120,
   "metadata": {},
   "outputs": [
    {
     "data": {
      "text/plain": [
       "5.465658810020766"
      ]
     },
     "execution_count": 120,
     "metadata": {},
     "output_type": "execute_result"
    }
   ],
   "source": [
    "all_act_2007_nonres_total_pops_hpd = atus_2007_all_nonres_total_pops_multiplied_weight / atus_2007_total_pops_weight / 60\n",
    "all_act_2007_nonres_total_pops_hpd"
   ]
  },
  {
   "cell_type": "markdown",
   "metadata": {},
   "source": [
    "### 2008 All Activities - NonResidential - total_pops"
   ]
  },
  {
   "cell_type": "code",
   "execution_count": 121,
   "metadata": {},
   "outputs": [],
   "source": [
    "atus_2008_all_nonres_total_pops = atus_2008_nonres_total_pops.groupby([\"TUCASEID\"]).sum().filter([\"TUCASEID\", \"TUACTDUR24\"])\n",
    "#atus_2008_all_nonres_total_pops"
   ]
  },
  {
   "cell_type": "code",
   "execution_count": 122,
   "metadata": {},
   "outputs": [],
   "source": [
    "atus_2008_all_nonres_total_pops_merge = pd.merge(atus_2008_all_nonres_total_pops, multi_resp, on= \"TUCASEID\").filter([\"TUCASEID\",\"TUACTDUR24\",\"TUFNWGTP\"])\n",
    "#atus_2008_all_res_total_pops_merge"
   ]
  },
  {
   "cell_type": "code",
   "execution_count": 123,
   "metadata": {},
   "outputs": [
    {
     "data": {
      "text/plain": [
       "27598873324875.33"
      ]
     },
     "execution_count": 123,
     "metadata": {},
     "output_type": "execute_result"
    }
   ],
   "source": [
    "atus_2008_all_nonres_total_pops_merge[\"Multiplied Weight\"]=atus_2008_all_nonres_total_pops_merge[\"TUACTDUR24\"]*atus_2008_all_nonres_total_pops_merge[\"TUFNWGTP\"]\n",
    "\n",
    "atus_2008_all_nonres_total_pops_multiplied_weight = atus_2008_all_nonres_total_pops_merge[\"Multiplied Weight\"].sum()\n",
    "atus_2008_all_nonres_total_pops_multiplied_weight"
   ]
  },
  {
   "cell_type": "code",
   "execution_count": 124,
   "metadata": {},
   "outputs": [
    {
     "data": {
      "text/plain": [
       "5.280427353340347"
      ]
     },
     "execution_count": 124,
     "metadata": {},
     "output_type": "execute_result"
    }
   ],
   "source": [
    "all_act_2008_nonres_total_pops_hpd = atus_2008_all_nonres_total_pops_multiplied_weight / atus_2008_total_pops_weight / 60\n",
    "all_act_2008_nonres_total_pops_hpd"
   ]
  },
  {
   "cell_type": "markdown",
   "metadata": {},
   "source": [
    "### 2009 All Activities - NonResidential - total_pops"
   ]
  },
  {
   "cell_type": "code",
   "execution_count": 125,
   "metadata": {},
   "outputs": [],
   "source": [
    "atus_2009_all_nonres_total_pops = atus_2009_nonres_total_pops.groupby([\"TUCASEID\"]).sum().filter([\"TUCASEID\", \"TUACTDUR24\"])\n",
    "#atus_2009_all_nonres_total_pops"
   ]
  },
  {
   "cell_type": "code",
   "execution_count": 126,
   "metadata": {},
   "outputs": [],
   "source": [
    "atus_2009_all_nonres_total_pops_merge = pd.merge(atus_2009_all_nonres_total_pops, multi_resp, on= \"TUCASEID\").filter([\"TUCASEID\",\"TUACTDUR24\",\"TUFNWGTP\"])\n",
    "#atus_2009_all_res_total_pops_merge"
   ]
  },
  {
   "cell_type": "code",
   "execution_count": 127,
   "metadata": {},
   "outputs": [
    {
     "data": {
      "text/plain": [
       "26652605400275.004"
      ]
     },
     "execution_count": 127,
     "metadata": {},
     "output_type": "execute_result"
    }
   ],
   "source": [
    "atus_2009_all_nonres_total_pops_merge[\"Multiplied Weight\"]=atus_2009_all_nonres_total_pops_merge[\"TUACTDUR24\"]*atus_2009_all_nonres_total_pops_merge[\"TUFNWGTP\"]\n",
    "\n",
    "atus_2009_all_nonres_total_pops_multiplied_weight = atus_2009_all_nonres_total_pops_merge[\"Multiplied Weight\"].sum()\n",
    "atus_2009_all_nonres_total_pops_multiplied_weight"
   ]
  },
  {
   "cell_type": "code",
   "execution_count": 128,
   "metadata": {},
   "outputs": [
    {
     "data": {
      "text/plain": [
       "5.0730434707236"
      ]
     },
     "execution_count": 128,
     "metadata": {},
     "output_type": "execute_result"
    }
   ],
   "source": [
    "all_act_2009_nonres_total_pops_hpd = atus_2009_all_nonres_total_pops_multiplied_weight / atus_2009_total_pops_weight / 60\n",
    "all_act_2009_nonres_total_pops_hpd"
   ]
  },
  {
   "cell_type": "markdown",
   "metadata": {},
   "source": [
    "### 2010 All Activities - NonResidential - total_pops"
   ]
  },
  {
   "cell_type": "code",
   "execution_count": 129,
   "metadata": {},
   "outputs": [],
   "source": [
    "atus_2010_all_nonres_total_pops = atus_2010_nonres_total_pops.groupby([\"TUCASEID\"]).sum().filter([\"TUCASEID\", \"TUACTDUR24\"])\n",
    "#atus_2010_all_nonres_total_pops"
   ]
  },
  {
   "cell_type": "code",
   "execution_count": 130,
   "metadata": {},
   "outputs": [],
   "source": [
    "atus_2010_all_nonres_total_pops_merge = pd.merge(atus_2010_all_nonres_total_pops, multi_resp, on= \"TUCASEID\").filter([\"TUCASEID\",\"TUACTDUR24\",\"TUFNWGTP\"])\n",
    "#atus_2010_all_res_total_pops_merge"
   ]
  },
  {
   "cell_type": "code",
   "execution_count": 131,
   "metadata": {},
   "outputs": [
    {
     "data": {
      "text/plain": [
       "26839915412649.176"
      ]
     },
     "execution_count": 131,
     "metadata": {},
     "output_type": "execute_result"
    }
   ],
   "source": [
    "atus_2010_all_nonres_total_pops_merge[\"Multiplied Weight\"]=atus_2010_all_nonres_total_pops_merge[\"TUACTDUR24\"]*atus_2010_all_nonres_total_pops_merge[\"TUFNWGTP\"]\n",
    "\n",
    "atus_2010_all_nonres_total_pops_multiplied_weight = atus_2010_all_nonres_total_pops_merge[\"Multiplied Weight\"].sum()\n",
    "atus_2010_all_nonres_total_pops_multiplied_weight"
   ]
  },
  {
   "cell_type": "code",
   "execution_count": 132,
   "metadata": {},
   "outputs": [
    {
     "data": {
      "text/plain": [
       "5.066137330385002"
      ]
     },
     "execution_count": 132,
     "metadata": {},
     "output_type": "execute_result"
    }
   ],
   "source": [
    "all_act_2010_nonres_total_pops_hpd = atus_2010_all_nonres_total_pops_multiplied_weight / atus_2010_total_pops_weight / 60\n",
    "all_act_2010_nonres_total_pops_hpd"
   ]
  },
  {
   "cell_type": "markdown",
   "metadata": {},
   "source": [
    "### 2011 All Activities - NonResidential - total_pops"
   ]
  },
  {
   "cell_type": "code",
   "execution_count": 133,
   "metadata": {},
   "outputs": [],
   "source": [
    "atus_2011_all_nonres_total_pops = atus_2011_nonres_total_pops.groupby([\"TUCASEID\"]).sum().filter([\"TUCASEID\", \"TUACTDUR24\"])\n",
    "#atus_2011_all_nonres_total_pops"
   ]
  },
  {
   "cell_type": "code",
   "execution_count": 134,
   "metadata": {},
   "outputs": [],
   "source": [
    "atus_2011_all_nonres_total_pops_merge = pd.merge(atus_2011_all_nonres_total_pops, multi_resp, on= \"TUCASEID\").filter([\"TUCASEID\",\"TUACTDUR24\",\"TUFNWGTP\"])\n",
    "#atus_2011_all_res_total_pops_merge"
   ]
  },
  {
   "cell_type": "code",
   "execution_count": 135,
   "metadata": {},
   "outputs": [
    {
     "data": {
      "text/plain": [
       "27402530486348.934"
      ]
     },
     "execution_count": 135,
     "metadata": {},
     "output_type": "execute_result"
    }
   ],
   "source": [
    "atus_2011_all_nonres_total_pops_merge[\"Multiplied Weight\"]=atus_2011_all_nonres_total_pops_merge[\"TUACTDUR24\"]*atus_2011_all_nonres_total_pops_merge[\"TUFNWGTP\"]\n",
    "\n",
    "atus_2011_all_nonres_total_pops_multiplied_weight = atus_2011_all_nonres_total_pops_merge[\"Multiplied Weight\"].sum()\n",
    "atus_2011_all_nonres_total_pops_multiplied_weight"
   ]
  },
  {
   "cell_type": "code",
   "execution_count": 136,
   "metadata": {},
   "outputs": [
    {
     "data": {
      "text/plain": [
       "5.135443961335683"
      ]
     },
     "execution_count": 136,
     "metadata": {},
     "output_type": "execute_result"
    }
   ],
   "source": [
    "all_act_2011_nonres_total_pops_hpd = atus_2011_all_nonres_total_pops_multiplied_weight / atus_2011_total_pops_weight / 60\n",
    "all_act_2011_nonres_total_pops_hpd"
   ]
  },
  {
   "cell_type": "markdown",
   "metadata": {},
   "source": [
    "### 2012 All Activities - NonResidential - total_pops"
   ]
  },
  {
   "cell_type": "code",
   "execution_count": 137,
   "metadata": {},
   "outputs": [],
   "source": [
    "atus_2012_all_nonres_total_pops = atus_2012_nonres_total_pops.groupby([\"TUCASEID\"]).sum().filter([\"TUCASEID\", \"TUACTDUR24\"])\n",
    "#atus_2012_all_nonres_total_pops"
   ]
  },
  {
   "cell_type": "code",
   "execution_count": 138,
   "metadata": {},
   "outputs": [],
   "source": [
    "atus_2012_all_nonres_total_pops_merge = pd.merge(atus_2012_all_nonres_total_pops, multi_resp, on= \"TUCASEID\").filter([\"TUCASEID\",\"TUACTDUR24\",\"TUFNWGTP\"])\n",
    "#atus_2012_all_res_total_pops_merge"
   ]
  },
  {
   "cell_type": "code",
   "execution_count": 139,
   "metadata": {},
   "outputs": [
    {
     "data": {
      "text/plain": [
       "27459656096255.625"
      ]
     },
     "execution_count": 139,
     "metadata": {},
     "output_type": "execute_result"
    }
   ],
   "source": [
    "atus_2012_all_nonres_total_pops_merge[\"Multiplied Weight\"]=atus_2012_all_nonres_total_pops_merge[\"TUACTDUR24\"]*atus_2012_all_nonres_total_pops_merge[\"TUFNWGTP\"]\n",
    "\n",
    "atus_2012_all_nonres_total_pops_multiplied_weight = atus_2012_all_nonres_total_pops_merge[\"Multiplied Weight\"].sum()\n",
    "atus_2012_all_nonres_total_pops_multiplied_weight"
   ]
  },
  {
   "cell_type": "code",
   "execution_count": 140,
   "metadata": {},
   "outputs": [
    {
     "data": {
      "text/plain": [
       "5.05461951845301"
      ]
     },
     "execution_count": 140,
     "metadata": {},
     "output_type": "execute_result"
    }
   ],
   "source": [
    "all_act_2012_nonres_total_pops_hpd = atus_2012_all_nonres_total_pops_multiplied_weight / atus_2012_total_pops_weight / 60\n",
    "all_act_2012_nonres_total_pops_hpd"
   ]
  },
  {
   "cell_type": "markdown",
   "metadata": {},
   "source": [
    "### 2013 All Activities - NonResidential - total_pops"
   ]
  },
  {
   "cell_type": "code",
   "execution_count": 141,
   "metadata": {},
   "outputs": [],
   "source": [
    "atus_2013_all_nonres_total_pops = atus_2013_nonres_total_pops.groupby([\"TUCASEID\"]).sum().filter([\"TUCASEID\", \"TUACTDUR24\"])\n",
    "#atus_2013_all_nonres_total_pops"
   ]
  },
  {
   "cell_type": "code",
   "execution_count": 142,
   "metadata": {},
   "outputs": [],
   "source": [
    "atus_2013_all_nonres_total_pops_merge = pd.merge(atus_2013_all_nonres_total_pops, multi_resp, on= \"TUCASEID\").filter([\"TUCASEID\",\"TUACTDUR24\",\"TUFNWGTP\"])\n",
    "#atus_2013_all_res_total_pops_merge"
   ]
  },
  {
   "cell_type": "code",
   "execution_count": 143,
   "metadata": {},
   "outputs": [
    {
     "data": {
      "text/plain": [
       "27493142901426.977"
      ]
     },
     "execution_count": 143,
     "metadata": {},
     "output_type": "execute_result"
    }
   ],
   "source": [
    "atus_2013_all_nonres_total_pops_merge[\"Multiplied Weight\"]=atus_2013_all_nonres_total_pops_merge[\"TUACTDUR24\"]*atus_2013_all_nonres_total_pops_merge[\"TUFNWGTP\"]\n",
    "\n",
    "atus_2013_all_nonres_total_pops_multiplied_weight = atus_2013_all_nonres_total_pops_merge[\"Multiplied Weight\"].sum()\n",
    "atus_2013_all_nonres_total_pops_multiplied_weight"
   ]
  },
  {
   "cell_type": "code",
   "execution_count": 144,
   "metadata": {},
   "outputs": [
    {
     "data": {
      "text/plain": [
       "5.025380863166328"
      ]
     },
     "execution_count": 144,
     "metadata": {},
     "output_type": "execute_result"
    }
   ],
   "source": [
    "all_act_2013_nonres_total_pops_hpd = atus_2013_all_nonres_total_pops_multiplied_weight / atus_2013_total_pops_weight / 60\n",
    "all_act_2013_nonres_total_pops_hpd"
   ]
  },
  {
   "cell_type": "markdown",
   "metadata": {},
   "source": [
    "### 2014 All Activities - NonResidential - total_pops"
   ]
  },
  {
   "cell_type": "code",
   "execution_count": 145,
   "metadata": {},
   "outputs": [],
   "source": [
    "atus_2014_all_nonres_total_pops = atus_2014_nonres_total_pops.groupby([\"TUCASEID\"]).sum().filter([\"TUCASEID\", \"TUACTDUR24\"])\n",
    "#atus_2014_all_nonres_total_pops"
   ]
  },
  {
   "cell_type": "code",
   "execution_count": 146,
   "metadata": {},
   "outputs": [],
   "source": [
    "atus_2014_all_nonres_total_pops_merge = pd.merge(atus_2014_all_nonres_total_pops, multi_resp, on= \"TUCASEID\").filter([\"TUCASEID\",\"TUACTDUR24\",\"TUFNWGTP\"])\n",
    "#atus_2014_all_res_total_pops_merge"
   ]
  },
  {
   "cell_type": "code",
   "execution_count": 147,
   "metadata": {},
   "outputs": [
    {
     "data": {
      "text/plain": [
       "28023612407989.14"
      ]
     },
     "execution_count": 147,
     "metadata": {},
     "output_type": "execute_result"
    }
   ],
   "source": [
    "atus_2014_all_nonres_total_pops_merge[\"Multiplied Weight\"]=atus_2014_all_nonres_total_pops_merge[\"TUACTDUR24\"]*atus_2014_all_nonres_total_pops_merge[\"TUFNWGTP\"]\n",
    "\n",
    "atus_2014_all_nonres_total_pops_multiplied_weight = atus_2014_all_nonres_total_pops_merge[\"Multiplied Weight\"].sum()\n",
    "atus_2014_all_nonres_total_pops_multiplied_weight"
   ]
  },
  {
   "cell_type": "code",
   "execution_count": 148,
   "metadata": {},
   "outputs": [
    {
     "data": {
      "text/plain": [
       "5.076094344499081"
      ]
     },
     "execution_count": 148,
     "metadata": {},
     "output_type": "execute_result"
    }
   ],
   "source": [
    "all_act_2014_nonres_total_pops_hpd = atus_2014_all_nonres_total_pops_multiplied_weight / atus_2014_total_pops_weight / 60\n",
    "all_act_2014_nonres_total_pops_hpd"
   ]
  },
  {
   "cell_type": "markdown",
   "metadata": {},
   "source": [
    "### 2015 All Activities - NonResidential - total_pops"
   ]
  },
  {
   "cell_type": "code",
   "execution_count": 149,
   "metadata": {},
   "outputs": [],
   "source": [
    "atus_2015_all_nonres_total_pops = atus_2015_nonres_total_pops.groupby([\"TUCASEID\"]).sum().filter([\"TUCASEID\", \"TUACTDUR24\"])\n",
    "#atus_2015_all_nonres_total_pops"
   ]
  },
  {
   "cell_type": "code",
   "execution_count": 150,
   "metadata": {},
   "outputs": [],
   "source": [
    "atus_2015_all_nonres_total_pops_merge = pd.merge(atus_2015_all_nonres_total_pops, multi_resp, on= \"TUCASEID\").filter([\"TUCASEID\",\"TUACTDUR24\",\"TUFNWGTP\"])\n",
    "#atus_2015_all_res_total_pops_merge"
   ]
  },
  {
   "cell_type": "code",
   "execution_count": 151,
   "metadata": {},
   "outputs": [
    {
     "data": {
      "text/plain": [
       "27854550463137.555"
      ]
     },
     "execution_count": 151,
     "metadata": {},
     "output_type": "execute_result"
    }
   ],
   "source": [
    "atus_2015_all_nonres_total_pops_merge[\"Multiplied Weight\"]=atus_2015_all_nonres_total_pops_merge[\"TUACTDUR24\"]*atus_2015_all_nonres_total_pops_merge[\"TUFNWGTP\"]\n",
    "\n",
    "atus_2015_all_nonres_total_pops_multiplied_weight = atus_2015_all_nonres_total_pops_merge[\"Multiplied Weight\"].sum()\n",
    "atus_2015_all_nonres_total_pops_multiplied_weight"
   ]
  },
  {
   "cell_type": "code",
   "execution_count": 152,
   "metadata": {},
   "outputs": [
    {
     "data": {
      "text/plain": [
       "4.98737312889581"
      ]
     },
     "execution_count": 152,
     "metadata": {},
     "output_type": "execute_result"
    }
   ],
   "source": [
    "all_act_2015_nonres_total_pops_hpd = atus_2015_all_nonres_total_pops_multiplied_weight / atus_2015_total_pops_weight / 60\n",
    "all_act_2015_nonres_total_pops_hpd"
   ]
  },
  {
   "cell_type": "markdown",
   "metadata": {},
   "source": [
    "### 2016 All Activities - NonResidential - total_pops"
   ]
  },
  {
   "cell_type": "code",
   "execution_count": 153,
   "metadata": {},
   "outputs": [],
   "source": [
    "atus_2016_all_nonres_total_pops = atus_2016_nonres_total_pops.groupby([\"TUCASEID\"]).sum().filter([\"TUCASEID\", \"TUACTDUR24\"])\n",
    "#atus_2016_all_nonres_total_pops"
   ]
  },
  {
   "cell_type": "code",
   "execution_count": 154,
   "metadata": {},
   "outputs": [],
   "source": [
    "atus_2016_all_nonres_total_pops_merge = pd.merge(atus_2016_all_nonres_total_pops, multi_resp, on= \"TUCASEID\").filter([\"TUCASEID\",\"TUACTDUR24\",\"TUFNWGTP\"])\n",
    "#atus_2016_all_res_total_pops_merge"
   ]
  },
  {
   "cell_type": "code",
   "execution_count": 155,
   "metadata": {},
   "outputs": [
    {
     "data": {
      "text/plain": [
       "28924504008644.453"
      ]
     },
     "execution_count": 155,
     "metadata": {},
     "output_type": "execute_result"
    }
   ],
   "source": [
    "atus_2016_all_nonres_total_pops_merge[\"Multiplied Weight\"]=atus_2016_all_nonres_total_pops_merge[\"TUACTDUR24\"]*atus_2016_all_nonres_total_pops_merge[\"TUFNWGTP\"]\n",
    "\n",
    "atus_2016_all_nonres_total_pops_multiplied_weight = atus_2016_all_nonres_total_pops_merge[\"Multiplied Weight\"].sum()\n",
    "atus_2016_all_nonres_total_pops_multiplied_weight"
   ]
  },
  {
   "cell_type": "code",
   "execution_count": 156,
   "metadata": {},
   "outputs": [
    {
     "data": {
      "text/plain": [
       "5.110246587714533"
      ]
     },
     "execution_count": 156,
     "metadata": {},
     "output_type": "execute_result"
    }
   ],
   "source": [
    "all_act_2016_nonres_total_pops_hpd = atus_2016_all_nonres_total_pops_multiplied_weight / atus_2016_total_pops_weight / 60\n",
    "all_act_2016_nonres_total_pops_hpd"
   ]
  },
  {
   "cell_type": "markdown",
   "metadata": {},
   "source": [
    "### 2017 All Activities - NonResidential - total_pops"
   ]
  },
  {
   "cell_type": "code",
   "execution_count": 157,
   "metadata": {},
   "outputs": [],
   "source": [
    "atus_2017_all_nonres_total_pops = atus_2017_nonres_total_pops.groupby([\"TUCASEID\"]).sum().filter([\"TUCASEID\", \"TUACTDUR24\"])\n",
    "#atus_2017_all_nonres_total_pops"
   ]
  },
  {
   "cell_type": "code",
   "execution_count": 158,
   "metadata": {},
   "outputs": [],
   "source": [
    "atus_2017_all_nonres_total_pops_merge = pd.merge(atus_2017_all_nonres_total_pops, multi_resp, on= \"TUCASEID\").filter([\"TUCASEID\",\"TUACTDUR24\",\"TUFNWGTP\"])\n",
    "#atus_2017_all_res_total_pops_merge"
   ]
  },
  {
   "cell_type": "code",
   "execution_count": 159,
   "metadata": {},
   "outputs": [
    {
     "data": {
      "text/plain": [
       "28636443636966.19"
      ]
     },
     "execution_count": 159,
     "metadata": {},
     "output_type": "execute_result"
    }
   ],
   "source": [
    "atus_2017_all_nonres_total_pops_merge[\"Multiplied Weight\"]=atus_2017_all_nonres_total_pops_merge[\"TUACTDUR24\"]*atus_2017_all_nonres_total_pops_merge[\"TUFNWGTP\"]\n",
    "\n",
    "atus_2017_all_nonres_total_pops_multiplied_weight = atus_2017_all_nonres_total_pops_merge[\"Multiplied Weight\"].sum()\n",
    "atus_2017_all_nonres_total_pops_multiplied_weight"
   ]
  },
  {
   "cell_type": "code",
   "execution_count": 160,
   "metadata": {},
   "outputs": [
    {
     "data": {
      "text/plain": [
       "5.044670731401592"
      ]
     },
     "execution_count": 160,
     "metadata": {},
     "output_type": "execute_result"
    }
   ],
   "source": [
    "all_act_2017_nonres_total_pops_hpd = atus_2017_all_nonres_total_pops_multiplied_weight / atus_2017_total_pops_weight / 60\n",
    "all_act_2017_nonres_total_pops_hpd"
   ]
  },
  {
   "cell_type": "markdown",
   "metadata": {},
   "source": [
    "### 2018 All Activities - NonResidential - total_pops"
   ]
  },
  {
   "cell_type": "code",
   "execution_count": 161,
   "metadata": {},
   "outputs": [],
   "source": [
    "atus_2018_all_nonres_total_pops = atus_2018_nonres_total_pops.groupby([\"TUCASEID\"]).sum().filter([\"TUCASEID\", \"TUACTDUR24\"])\n",
    "#atus_2018_all_nonres_total_pops"
   ]
  },
  {
   "cell_type": "code",
   "execution_count": 162,
   "metadata": {},
   "outputs": [],
   "source": [
    "atus_2018_all_nonres_total_pops_merge = pd.merge(atus_2018_all_nonres_total_pops, multi_resp, on= \"TUCASEID\").filter([\"TUCASEID\",\"TUACTDUR24\",\"TUFNWGTP\"])\n",
    "#atus_2018_all_res_total_pops_merge"
   ]
  },
  {
   "cell_type": "code",
   "execution_count": 163,
   "metadata": {},
   "outputs": [
    {
     "data": {
      "text/plain": [
       "28918041439370.562"
      ]
     },
     "execution_count": 163,
     "metadata": {},
     "output_type": "execute_result"
    }
   ],
   "source": [
    "atus_2018_all_nonres_total_pops_merge[\"Multiplied Weight\"]=atus_2018_all_nonres_total_pops_merge[\"TUACTDUR24\"]*atus_2018_all_nonres_total_pops_merge[\"TUFNWGTP\"]\n",
    "\n",
    "atus_2018_all_nonres_total_pops_multiplied_weight = atus_2018_all_nonres_total_pops_merge[\"Multiplied Weight\"].sum()\n",
    "atus_2018_all_nonres_total_pops_multiplied_weight"
   ]
  },
  {
   "cell_type": "code",
   "execution_count": 164,
   "metadata": {},
   "outputs": [
    {
     "data": {
      "text/plain": [
       "5.0419324628323245"
      ]
     },
     "execution_count": 164,
     "metadata": {},
     "output_type": "execute_result"
    }
   ],
   "source": [
    "all_act_2018_nonres_total_pops_hpd = atus_2018_all_nonres_total_pops_multiplied_weight / atus_2018_total_pops_weight / 60\n",
    "all_act_2018_nonres_total_pops_hpd"
   ]
  },
  {
   "cell_type": "markdown",
   "metadata": {},
   "source": [
    "### 2019 All Activities - NonResidential - total_pops"
   ]
  },
  {
   "cell_type": "code",
   "execution_count": 165,
   "metadata": {},
   "outputs": [],
   "source": [
    "atus_2019_all_nonres_total_pops = atus_2019_nonres_total_pops.groupby([\"TUCASEID\"]).sum().filter([\"TUCASEID\", \"TUACTDUR24\"])\n",
    "#atus_2019_all_nonres_total_pops"
   ]
  },
  {
   "cell_type": "code",
   "execution_count": 166,
   "metadata": {},
   "outputs": [],
   "source": [
    "atus_2019_all_nonres_total_pops_merge = pd.merge(atus_2019_all_nonres_total_pops, multi_resp, on= \"TUCASEID\").filter([\"TUCASEID\",\"TUACTDUR24\",\"TUFNWGTP\"])\n",
    "#atus_2019_all_res_total_pops_merge"
   ]
  },
  {
   "cell_type": "code",
   "execution_count": 167,
   "metadata": {},
   "outputs": [
    {
     "data": {
      "text/plain": [
       "28716815294748.04"
      ]
     },
     "execution_count": 167,
     "metadata": {},
     "output_type": "execute_result"
    }
   ],
   "source": [
    "atus_2019_all_nonres_total_pops_merge[\"Multiplied Weight\"]=atus_2019_all_nonres_total_pops_merge[\"TUACTDUR24\"]*atus_2019_all_nonres_total_pops_merge[\"TUFNWGTP\"]\n",
    "\n",
    "atus_2019_all_nonres_total_pops_multiplied_weight = atus_2019_all_nonres_total_pops_merge[\"Multiplied Weight\"].sum()\n",
    "atus_2019_all_nonres_total_pops_multiplied_weight"
   ]
  },
  {
   "cell_type": "code",
   "execution_count": 168,
   "metadata": {},
   "outputs": [
    {
     "data": {
      "text/plain": [
       "4.9789578089848"
      ]
     },
     "execution_count": 168,
     "metadata": {},
     "output_type": "execute_result"
    }
   ],
   "source": [
    "all_act_2019_nonres_total_pops_hpd = atus_2019_all_nonres_total_pops_multiplied_weight / atus_2019_total_pops_weight / 60\n",
    "all_act_2019_nonres_total_pops_hpd"
   ]
  },
  {
   "cell_type": "markdown",
   "metadata": {},
   "source": [
    "### Regresssion: All Activities - NonResidential - total_pops"
   ]
  },
  {
   "cell_type": "markdown",
   "metadata": {},
   "source": [
    "#### 2003 -2012 Regression"
   ]
  },
  {
   "cell_type": "code",
   "execution_count": 169,
   "metadata": {},
   "outputs": [],
   "source": [
    "year = np.array([2003, 2004, 2005, 2006, 2007, 2008, 2009, 2010,2011,2012]).reshape((-1, 1))\n",
    "activity_hours_per_day = np.array([all_act_2003_nonres_total_pops_hpd, all_act_2004_nonres_total_pops_hpd, all_act_2005_nonres_total_pops_hpd,\n",
    "                                   all_act_2006_nonres_total_pops_hpd, all_act_2007_nonres_total_pops_hpd, all_act_2008_nonres_total_pops_hpd,\n",
    "                                   all_act_2009_nonres_total_pops_hpd, all_act_2010_nonres_total_pops_hpd, all_act_2011_nonres_total_pops_hpd,\n",
    "                                   all_act_2012_nonres_total_pops_hpd]).reshape((-1, 1))\n",
    "\n",
    "activity_hours_per_yr = [i * 365 for i in activity_hours_per_day]\n",
    "#activity_hours_per_yr"
   ]
  },
  {
   "cell_type": "code",
   "execution_count": 170,
   "metadata": {},
   "outputs": [
    {
     "data": {
      "image/png": "[encoded data removed]",
      "text/plain": [
       "<Figure size 432x288 with 1 Axes>"
      ]
     },
     "metadata": {
      "needs_background": "light"
     },
     "output_type": "display_data"
    }
   ],
   "source": [
    "x = year\n",
    "y = activity_hours_per_yr\n",
    "x, y = np.array(x), np.array(y)\n",
    "\n",
    "model = LinearRegression().fit(x, y)\n",
    "\n",
    "y_pred = model.predict(x)  \n",
    "\n",
    "plt.scatter(x, y)\n",
    "plt.plot(x, y_pred, color='red')\n",
    "plt.show()"
   ]
  },
  {
   "cell_type": "code",
   "execution_count": 171,
   "metadata": {},
   "outputs": [
    {
     "data": {
      "text/plain": [
       "0.6514708333962784"
      ]
     },
     "execution_count": 171,
     "metadata": {},
     "output_type": "execute_result"
    }
   ],
   "source": [
    "coefficient_of_determination = model.score(x,y) #R sqaure value \n",
    "coefficient_of_determination"
   ]
  },
  {
   "cell_type": "code",
   "execution_count": 172,
   "metadata": {},
   "outputs": [
    {
     "data": {
      "text/plain": [
       "array([[-16.05306405]])"
      ]
     },
     "execution_count": 172,
     "metadata": {},
     "output_type": "execute_result"
    }
   ],
   "source": [
    "all_act_2012_nonres_total_pops_slope = model.coef_\n",
    "all_act_2012_nonres_total_pops_slope"
   ]
  },
  {
   "cell_type": "markdown",
   "metadata": {},
   "source": [
    "#### 2003 -2019 Regression"
   ]
  },
  {
   "cell_type": "code",
   "execution_count": 173,
   "metadata": {},
   "outputs": [],
   "source": [
    "year = np.array([2003, 2004, 2005, 2006, 2007, 2008, 2009, 2010,2011,2012, 2013, 2014, 2015, 2016, 2017, 2018, 2019]).reshape((-1, 1))\n",
    "activity_hours_per_day = np.array([all_act_2003_nonres_total_pops_hpd, all_act_2004_nonres_total_pops_hpd, all_act_2005_nonres_total_pops_hpd,\n",
    "                                   all_act_2006_nonres_total_pops_hpd, all_act_2007_nonres_total_pops_hpd, all_act_2008_nonres_total_pops_hpd,\n",
    "                                   all_act_2009_nonres_total_pops_hpd, all_act_2010_nonres_total_pops_hpd, all_act_2011_nonres_total_pops_hpd,\n",
    "                                   all_act_2012_nonres_total_pops_hpd, all_act_2013_nonres_total_pops_hpd, all_act_2014_nonres_total_pops_hpd,\n",
    "                                   all_act_2015_nonres_total_pops_hpd, all_act_2016_nonres_total_pops_hpd, all_act_2017_nonres_total_pops_hpd,\n",
    "                                   all_act_2018_nonres_total_pops_hpd, all_act_2019_nonres_total_pops_hpd]).reshape((-1, 1))\n",
    "\n",
    "activity_hours_per_yr = [i * 365 for i in activity_hours_per_day]\n",
    "#activity_hours_per_yr"
   ]
  },
  {
   "cell_type": "code",
   "execution_count": 174,
   "metadata": {},
   "outputs": [
    {
     "data": {
      "image/png": "[encoded data removed]",
      "text/plain": [
       "<Figure size 432x288 with 1 Axes>"
      ]
     },
     "metadata": {
      "needs_background": "light"
     },
     "output_type": "display_data"
    }
   ],
   "source": [
    "x = year\n",
    "y = activity_hours_per_yr\n",
    "x, y = np.array(x), np.array(y)\n",
    "\n",
    "model = LinearRegression().fit(x, y)\n",
    "\n",
    "y_pred = model.predict(x)  \n",
    "\n",
    "plt.scatter(x, y)\n",
    "plt.plot(x, y_pred, color='red')\n",
    "plt.show()"
   ]
  },
  {
   "cell_type": "code",
   "execution_count": 175,
   "metadata": {},
   "outputs": [
    {
     "data": {
      "text/plain": [
       "0.7142059520513442"
      ]
     },
     "execution_count": 175,
     "metadata": {},
     "output_type": "execute_result"
    }
   ],
   "source": [
    "coefficient_of_determination = model.score(x,y) #R sqaure value \n",
    "coefficient_of_determination"
   ]
  },
  {
   "cell_type": "code",
   "execution_count": 176,
   "metadata": {},
   "outputs": [
    {
     "data": {
      "text/plain": [
       "array([[-10.43499791]])"
      ]
     },
     "execution_count": 176,
     "metadata": {},
     "output_type": "execute_result"
    }
   ],
   "source": [
    "all_act_2019_nonres_total_pops_slope = model.coef_\n",
    "all_act_2019_nonres_total_pops_slope"
   ]
  },
  {
   "attachments": {},
   "cell_type": "markdown",
   "metadata": {},
   "source": [
    "## 2003-2019 Transportation - Total Population"
   ]
  },
  {
   "cell_type": "markdown",
   "metadata": {},
   "source": [
    "### 2003 Transportation"
   ]
  },
  {
   "cell_type": "code",
   "execution_count": 177,
   "metadata": {},
   "outputs": [],
   "source": [
    "#transporation = 12, 13. 12 = Car, truck, or motorcycle (driver), 13= Car, truck, or motorcycle (passager)"
   ]
  },
  {
   "cell_type": "code",
   "execution_count": 178,
   "metadata": {},
   "outputs": [],
   "source": [
    "transpoartion_location = [12,13]\n",
    "atus_multi_yr_tran_total_pops = multi_merged[multi_merged[\"TEWHERE\"].isin(transpoartion_location)]\n",
    "#atus_multi_yr_tran_total_pops"
   ]
  },
  {
   "cell_type": "code",
   "execution_count": 179,
   "metadata": {},
   "outputs": [],
   "source": [
    "#atus transportation total_pops population seperated by year\n",
    "atus_2003_tran_total_pops = atus_multi_yr_tran_total_pops[atus_multi_yr_tran_total_pops[\"TUCASEID\"].apply(str).str.startswith(\"2003\")]\n",
    "atus_2004_tran_total_pops = atus_multi_yr_tran_total_pops[atus_multi_yr_tran_total_pops[\"TUCASEID\"].apply(str).str.startswith(\"2004\")]\n",
    "atus_2005_tran_total_pops = atus_multi_yr_tran_total_pops[atus_multi_yr_tran_total_pops[\"TUCASEID\"].apply(str).str.startswith(\"2005\")]\n",
    "atus_2006_tran_total_pops = atus_multi_yr_tran_total_pops[atus_multi_yr_tran_total_pops[\"TUCASEID\"].apply(str).str.startswith(\"2006\")]\n",
    "atus_2007_tran_total_pops = atus_multi_yr_tran_total_pops[atus_multi_yr_tran_total_pops[\"TUCASEID\"].apply(str).str.startswith(\"2007\")]\n",
    "atus_2008_tran_total_pops = atus_multi_yr_tran_total_pops[atus_multi_yr_tran_total_pops[\"TUCASEID\"].apply(str).str.startswith(\"2008\")]\n",
    "atus_2009_tran_total_pops = atus_multi_yr_tran_total_pops[atus_multi_yr_tran_total_pops[\"TUCASEID\"].apply(str).str.startswith(\"2009\")]\n",
    "atus_2010_tran_total_pops = atus_multi_yr_tran_total_pops[atus_multi_yr_tran_total_pops[\"TUCASEID\"].apply(str).str.startswith(\"2010\")]\n",
    "atus_2011_tran_total_pops = atus_multi_yr_tran_total_pops[atus_multi_yr_tran_total_pops[\"TUCASEID\"].apply(str).str.startswith(\"2011\")]\n",
    "atus_2012_tran_total_pops = atus_multi_yr_tran_total_pops[atus_multi_yr_tran_total_pops[\"TUCASEID\"].apply(str).str.startswith(\"2012\")]\n",
    "atus_2013_tran_total_pops = atus_multi_yr_tran_total_pops[atus_multi_yr_tran_total_pops[\"TUCASEID\"].apply(str).str.startswith(\"2013\")]\n",
    "atus_2014_tran_total_pops = atus_multi_yr_tran_total_pops[atus_multi_yr_tran_total_pops[\"TUCASEID\"].apply(str).str.startswith(\"2014\")]\n",
    "atus_2015_tran_total_pops = atus_multi_yr_tran_total_pops[atus_multi_yr_tran_total_pops[\"TUCASEID\"].apply(str).str.startswith(\"2015\")]\n",
    "atus_2016_tran_total_pops = atus_multi_yr_tran_total_pops[atus_multi_yr_tran_total_pops[\"TUCASEID\"].apply(str).str.startswith(\"2016\")]\n",
    "atus_2017_tran_total_pops = atus_multi_yr_tran_total_pops[atus_multi_yr_tran_total_pops[\"TUCASEID\"].apply(str).str.startswith(\"2017\")]\n",
    "atus_2018_tran_total_pops = atus_multi_yr_tran_total_pops[atus_multi_yr_tran_total_pops[\"TUCASEID\"].apply(str).str.startswith(\"2018\")]\n",
    "atus_2019_tran_total_pops = atus_multi_yr_tran_total_pops[atus_multi_yr_tran_total_pops[\"TUCASEID\"].apply(str).str.startswith(\"2019\")]\n",
    "#atus_2003_tran_total_pops"
   ]
  },
  {
   "cell_type": "code",
   "execution_count": 180,
   "metadata": {},
   "outputs": [],
   "source": [
    "atus_2003_tran_total_pops = atus_2003_tran_total_pops.groupby([\"TUCASEID\"]).sum().filter([\"TUCASEID\", \"TUACTDUR24\"])\n",
    "#atus_2003_tran_total_pops"
   ]
  },
  {
   "cell_type": "code",
   "execution_count": 181,
   "metadata": {},
   "outputs": [],
   "source": [
    "atus_2003_tran_total_pops_merge = pd.merge(atus_2003_tran_total_pops, multi_resp, on= \"TUCASEID\").filter([\"TUCASEID\",\"TUACTDUR24\",\"TUFNWGTP\"])\n",
    "#atus_2003_tran_total_pops_merge"
   ]
  },
  {
   "cell_type": "code",
   "execution_count": 182,
   "metadata": {},
   "outputs": [],
   "source": [
    "atus_2003_tran_total_pops_merge[\"Multiplied Weight\"] = atus_2003_tran_total_pops_merge[\"TUACTDUR24\"] * atus_2003_tran_total_pops_merge[\"TUFNWGTP\"]\n",
    "#atus_2003_tran_total_pops_merge"
   ]
  },
  {
   "cell_type": "code",
   "execution_count": 183,
   "metadata": {},
   "outputs": [
    {
     "data": {
      "text/plain": [
       "5717341919254.443"
      ]
     },
     "execution_count": 183,
     "metadata": {},
     "output_type": "execute_result"
    }
   ],
   "source": [
    "atus_2003_tran_total_pops_multiplied_weight = atus_2003_tran_total_pops_merge[\"Multiplied Weight\"].sum()\n",
    "atus_2003_tran_total_pops_multiplied_weight"
   ]
  },
  {
   "cell_type": "code",
   "execution_count": 184,
   "metadata": {},
   "outputs": [
    {
     "data": {
      "text/plain": [
       "1.1587944006620414"
      ]
     },
     "execution_count": 184,
     "metadata": {},
     "output_type": "execute_result"
    }
   ],
   "source": [
    "atus_2003_tran_total_pops_hpd = atus_2003_tran_total_pops_multiplied_weight / atus_2003_total_pops_weight / 60\n",
    "atus_2003_tran_total_pops_hpd"
   ]
  },
  {
   "cell_type": "markdown",
   "metadata": {},
   "source": [
    "### 2004 Transportation"
   ]
  },
  {
   "cell_type": "code",
   "execution_count": 185,
   "metadata": {},
   "outputs": [],
   "source": [
    "atus_2004_tran_total_pops = atus_2004_tran_total_pops.groupby([\"TUCASEID\"]).sum().filter([\"TUCASEID\", \"TUACTDUR24\"])\n",
    "atus_2004_tran_total_pops_merge = pd.merge(atus_2004_tran_total_pops, multi_resp, on= \"TUCASEID\").filter([\"TUCASEID\",\"TUACTDUR24\",\"TUFNWGTP\"])\n",
    "#atus_2004_tran_total_pops_merge"
   ]
  },
  {
   "cell_type": "code",
   "execution_count": 186,
   "metadata": {},
   "outputs": [
    {
     "data": {
      "text/plain": [
       "5673218498697.803"
      ]
     },
     "execution_count": 186,
     "metadata": {},
     "output_type": "execute_result"
    }
   ],
   "source": [
    "atus_2004_tran_total_pops_merge[\"Multiplied Weight\"] = atus_2004_tran_total_pops_merge[\"TUACTDUR24\"] * atus_2004_tran_total_pops_merge[\"TUFNWGTP\"]\n",
    "atus_2004_tran_total_pops_multiplied_weight = atus_2004_tran_total_pops_merge[\"Multiplied Weight\"].sum()\n",
    "atus_2004_tran_total_pops_multiplied_weight"
   ]
  },
  {
   "cell_type": "code",
   "execution_count": 187,
   "metadata": {},
   "outputs": [
    {
     "data": {
      "text/plain": [
       "1.1356662717205104"
      ]
     },
     "execution_count": 187,
     "metadata": {},
     "output_type": "execute_result"
    }
   ],
   "source": [
    "atus_2004_tran_total_pops_hpd = atus_2004_tran_total_pops_multiplied_weight / atus_2004_total_pops_weight / 60\n",
    "atus_2004_tran_total_pops_hpd"
   ]
  },
  {
   "cell_type": "markdown",
   "metadata": {},
   "source": [
    "### 2005 Transportation"
   ]
  },
  {
   "cell_type": "code",
   "execution_count": 188,
   "metadata": {},
   "outputs": [],
   "source": [
    "atus_2005_tran_total_pops = atus_2005_tran_total_pops.groupby([\"TUCASEID\"]).sum().filter([\"TUCASEID\", \"TUACTDUR24\"])\n",
    "atus_2005_tran_total_pops_merge = pd.merge(atus_2005_tran_total_pops, multi_resp, on= \"TUCASEID\").filter([\"TUCASEID\",\"TUACTDUR24\",\"TUFNWGTP\"])\n",
    "#atus_2005_tran_total_pops_merge"
   ]
  },
  {
   "cell_type": "code",
   "execution_count": 189,
   "metadata": {},
   "outputs": [
    {
     "data": {
      "text/plain": [
       "5634155951834.113"
      ]
     },
     "execution_count": 189,
     "metadata": {},
     "output_type": "execute_result"
    }
   ],
   "source": [
    "atus_2005_tran_total_pops_merge[\"Multiplied Weight\"] = atus_2005_tran_total_pops_merge[\"TUACTDUR24\"] * atus_2005_tran_total_pops_merge[\"TUFNWGTP\"]\n",
    "atus_2005_tran_total_pops_multiplied_weight = atus_2005_tran_total_pops_merge[\"Multiplied Weight\"].sum()\n",
    "atus_2005_tran_total_pops_multiplied_weight"
   ]
  },
  {
   "cell_type": "code",
   "execution_count": 190,
   "metadata": {},
   "outputs": [
    {
     "data": {
      "text/plain": [
       "1.1164787830163392"
      ]
     },
     "execution_count": 190,
     "metadata": {},
     "output_type": "execute_result"
    }
   ],
   "source": [
    "atus_2005_tran_total_pops_hpd = atus_2005_tran_total_pops_multiplied_weight / atus_2005_total_pops_weight / 60\n",
    "atus_2005_tran_total_pops_hpd"
   ]
  },
  {
   "cell_type": "markdown",
   "metadata": {},
   "source": [
    "### 2006 Transportation"
   ]
  },
  {
   "cell_type": "code",
   "execution_count": 191,
   "metadata": {},
   "outputs": [],
   "source": [
    "atus_2006_tran_total_pops = atus_2006_tran_total_pops.groupby([\"TUCASEID\"]).sum().filter([\"TUCASEID\", \"TUACTDUR24\"])\n",
    "atus_2006_tran_total_pops_merge = pd.merge(atus_2006_tran_total_pops, multi_resp, on= \"TUCASEID\").filter([\"TUCASEID\",\"TUACTDUR24\",\"TUFNWGTP\"])\n",
    "#atus_2006_tran_total_pops_merge"
   ]
  },
  {
   "cell_type": "code",
   "execution_count": 192,
   "metadata": {},
   "outputs": [
    {
     "data": {
      "text/plain": [
       "5607869520303.845"
      ]
     },
     "execution_count": 192,
     "metadata": {},
     "output_type": "execute_result"
    }
   ],
   "source": [
    "atus_2006_tran_total_pops_merge[\"Multiplied Weight\"] = atus_2006_tran_total_pops_merge[\"TUACTDUR24\"] * atus_2006_tran_total_pops_merge[\"TUFNWGTP\"]\n",
    "atus_2006_tran_total_pops_multiplied_weight = atus_2006_tran_total_pops_merge[\"Multiplied Weight\"].sum()\n",
    "atus_2006_tran_total_pops_multiplied_weight"
   ]
  },
  {
   "cell_type": "code",
   "execution_count": 193,
   "metadata": {},
   "outputs": [
    {
     "data": {
      "text/plain": [
       "1.098423407756758"
      ]
     },
     "execution_count": 193,
     "metadata": {},
     "output_type": "execute_result"
    }
   ],
   "source": [
    "atus_2006_tran_total_pops_hpd = atus_2006_tran_total_pops_multiplied_weight / atus_2006_total_pops_weight / 60\n",
    "atus_2006_tran_total_pops_hpd"
   ]
  },
  {
   "cell_type": "markdown",
   "metadata": {},
   "source": [
    "### 2007 Transportation"
   ]
  },
  {
   "cell_type": "code",
   "execution_count": 194,
   "metadata": {},
   "outputs": [],
   "source": [
    "atus_2007_tran_total_pops = atus_2007_tran_total_pops.groupby([\"TUCASEID\"]).sum().filter([\"TUCASEID\", \"TUACTDUR24\"])\n",
    "atus_2007_tran_total_pops_merge = pd.merge(atus_2007_tran_total_pops, multi_resp, on= \"TUCASEID\").filter([\"TUCASEID\",\"TUACTDUR24\",\"TUFNWGTP\"])\n",
    "#atus_2007_tran_total_pops_merge"
   ]
  },
  {
   "cell_type": "code",
   "execution_count": 195,
   "metadata": {},
   "outputs": [
    {
     "data": {
      "text/plain": [
       "5679245909215.617"
      ]
     },
     "execution_count": 195,
     "metadata": {},
     "output_type": "execute_result"
    }
   ],
   "source": [
    "atus_2007_tran_total_pops_merge[\"Multiplied Weight\"] = atus_2007_tran_total_pops_merge[\"TUACTDUR24\"] * atus_2007_tran_total_pops_merge[\"TUFNWGTP\"]\n",
    "atus_2007_tran_total_pops_multiplied_weight = atus_2007_tran_total_pops_merge[\"Multiplied Weight\"].sum()\n",
    "atus_2007_tran_total_pops_multiplied_weight"
   ]
  },
  {
   "cell_type": "code",
   "execution_count": 196,
   "metadata": {},
   "outputs": [
    {
     "data": {
      "text/plain": [
       "1.098347916501255"
      ]
     },
     "execution_count": 196,
     "metadata": {},
     "output_type": "execute_result"
    }
   ],
   "source": [
    "atus_2007_tran_total_pops_hpd = atus_2007_tran_total_pops_multiplied_weight / atus_2007_total_pops_weight / 60\n",
    "atus_2007_tran_total_pops_hpd"
   ]
  },
  {
   "cell_type": "markdown",
   "metadata": {},
   "source": [
    "### 2008 Transportation"
   ]
  },
  {
   "cell_type": "code",
   "execution_count": 197,
   "metadata": {},
   "outputs": [],
   "source": [
    "atus_2008_tran_total_pops = atus_2008_tran_total_pops.groupby([\"TUCASEID\"]).sum().filter([\"TUCASEID\", \"TUACTDUR24\"])\n",
    "atus_2008_tran_total_pops_merge = pd.merge(atus_2008_tran_total_pops, multi_resp, on= \"TUCASEID\").filter([\"TUCASEID\",\"TUACTDUR24\",\"TUFNWGTP\"])\n",
    "#atus_2008_tran_total_pops_merge"
   ]
  },
  {
   "cell_type": "code",
   "execution_count": 198,
   "metadata": {},
   "outputs": [
    {
     "data": {
      "text/plain": [
       "5607525571088.577"
      ]
     },
     "execution_count": 198,
     "metadata": {},
     "output_type": "execute_result"
    }
   ],
   "source": [
    "atus_2008_tran_total_pops_merge[\"Multiplied Weight\"] = atus_2008_tran_total_pops_merge[\"TUACTDUR24\"] * atus_2008_tran_total_pops_merge[\"TUFNWGTP\"]\n",
    "atus_2008_tran_total_pops_multiplied_weight = atus_2008_tran_total_pops_merge[\"Multiplied Weight\"].sum()\n",
    "atus_2008_tran_total_pops_multiplied_weight"
   ]
  },
  {
   "cell_type": "code",
   "execution_count": 199,
   "metadata": {},
   "outputs": [
    {
     "data": {
      "text/plain": [
       "1.0728746446125197"
      ]
     },
     "execution_count": 199,
     "metadata": {},
     "output_type": "execute_result"
    }
   ],
   "source": [
    "atus_2008_tran_total_pops_hpd = atus_2008_tran_total_pops_multiplied_weight / atus_2008_total_pops_weight / 60\n",
    "atus_2008_tran_total_pops_hpd"
   ]
  },
  {
   "cell_type": "markdown",
   "metadata": {},
   "source": [
    "### 2009 Transportation"
   ]
  },
  {
   "cell_type": "code",
   "execution_count": 200,
   "metadata": {},
   "outputs": [],
   "source": [
    "atus_2009_tran_total_pops = atus_2009_tran_total_pops.groupby([\"TUCASEID\"]).sum().filter([\"TUCASEID\", \"TUACTDUR24\"])\n",
    "atus_2009_tran_total_pops_merge = pd.merge(atus_2009_tran_total_pops, multi_resp, on= \"TUCASEID\").filter([\"TUCASEID\",\"TUACTDUR24\",\"TUFNWGTP\"])\n",
    "#atus_2009_tran_total_pops_merge"
   ]
  },
  {
   "cell_type": "code",
   "execution_count": 201,
   "metadata": {},
   "outputs": [
    {
     "data": {
      "text/plain": [
       "5604002255015.193"
      ]
     },
     "execution_count": 201,
     "metadata": {},
     "output_type": "execute_result"
    }
   ],
   "source": [
    "atus_2009_tran_total_pops_merge[\"Multiplied Weight\"] = atus_2009_tran_total_pops_merge[\"TUACTDUR24\"] * atus_2009_tran_total_pops_merge[\"TUFNWGTP\"]\n",
    "atus_2009_tran_total_pops_multiplied_weight = atus_2009_tran_total_pops_merge[\"Multiplied Weight\"].sum()\n",
    "atus_2009_tran_total_pops_multiplied_weight"
   ]
  },
  {
   "cell_type": "code",
   "execution_count": 202,
   "metadata": {},
   "outputs": [
    {
     "data": {
      "text/plain": [
       "1.0666629630674613"
      ]
     },
     "execution_count": 202,
     "metadata": {},
     "output_type": "execute_result"
    }
   ],
   "source": [
    "atus_2009_tran_total_pops_hpd = atus_2009_tran_total_pops_multiplied_weight / atus_2009_total_pops_weight / 60\n",
    "atus_2009_tran_total_pops_hpd"
   ]
  },
  {
   "cell_type": "markdown",
   "metadata": {},
   "source": [
    "### 2010 Transportation"
   ]
  },
  {
   "cell_type": "code",
   "execution_count": 203,
   "metadata": {},
   "outputs": [],
   "source": [
    "atus_2010_tran_total_pops = atus_2010_tran_total_pops.groupby([\"TUCASEID\"]).sum().filter([\"TUCASEID\", \"TUACTDUR24\"])\n",
    "atus_2010_tran_total_pops_merge = pd.merge(atus_2010_tran_total_pops, multi_resp, on= \"TUCASEID\").filter([\"TUCASEID\",\"TUACTDUR24\",\"TUFNWGTP\"])\n",
    "#atus_2010_tran_total_pops_merge"
   ]
  },
  {
   "cell_type": "code",
   "execution_count": 204,
   "metadata": {},
   "outputs": [
    {
     "data": {
      "text/plain": [
       "5771087579960.709"
      ]
     },
     "execution_count": 204,
     "metadata": {},
     "output_type": "execute_result"
    }
   ],
   "source": [
    "atus_2010_tran_total_pops_merge[\"Multiplied Weight\"] = atus_2010_tran_total_pops_merge[\"TUACTDUR24\"] * atus_2010_tran_total_pops_merge[\"TUFNWGTP\"]\n",
    "atus_2010_tran_total_pops_multiplied_weight = atus_2010_tran_total_pops_merge[\"Multiplied Weight\"].sum()\n",
    "atus_2010_tran_total_pops_multiplied_weight"
   ]
  },
  {
   "cell_type": "code",
   "execution_count": 205,
   "metadata": {},
   "outputs": [
    {
     "data": {
      "text/plain": [
       "1.0893149913572848"
      ]
     },
     "execution_count": 205,
     "metadata": {},
     "output_type": "execute_result"
    }
   ],
   "source": [
    "atus_2010_tran_total_pops_hpd = atus_2010_tran_total_pops_multiplied_weight / atus_2010_total_pops_weight / 60\n",
    "atus_2010_tran_total_pops_hpd"
   ]
  },
  {
   "cell_type": "markdown",
   "metadata": {},
   "source": [
    "### 2011 Transportation"
   ]
  },
  {
   "cell_type": "code",
   "execution_count": 206,
   "metadata": {},
   "outputs": [],
   "source": [
    "atus_2011_tran_total_pops = atus_2011_tran_total_pops.groupby([\"TUCASEID\"]).sum().filter([\"TUCASEID\", \"TUACTDUR24\"])\n",
    "atus_2011_tran_total_pops_merge = pd.merge(atus_2011_tran_total_pops, multi_resp, on= \"TUCASEID\").filter([\"TUCASEID\",\"TUACTDUR24\",\"TUFNWGTP\"])\n",
    "#atus_2011_tran_total_pops_merge"
   ]
  },
  {
   "cell_type": "code",
   "execution_count": 207,
   "metadata": {},
   "outputs": [
    {
     "data": {
      "text/plain": [
       "5752226384092.098"
      ]
     },
     "execution_count": 207,
     "metadata": {},
     "output_type": "execute_result"
    }
   ],
   "source": [
    "atus_2011_tran_total_pops_merge[\"Multiplied Weight\"] = atus_2011_tran_total_pops_merge[\"TUACTDUR24\"] * atus_2011_tran_total_pops_merge[\"TUFNWGTP\"]\n",
    "atus_2011_tran_total_pops_multiplied_weight = atus_2011_tran_total_pops_merge[\"Multiplied Weight\"].sum()\n",
    "atus_2011_tran_total_pops_multiplied_weight"
   ]
  },
  {
   "cell_type": "code",
   "execution_count": 208,
   "metadata": {},
   "outputs": [
    {
     "data": {
      "text/plain": [
       "1.0780112538561926"
      ]
     },
     "execution_count": 208,
     "metadata": {},
     "output_type": "execute_result"
    }
   ],
   "source": [
    "atus_2011_tran_total_pops_hpd = atus_2011_tran_total_pops_multiplied_weight / atus_2011_total_pops_weight / 60\n",
    "atus_2011_tran_total_pops_hpd"
   ]
  },
  {
   "cell_type": "markdown",
   "metadata": {},
   "source": [
    "### 2012 Transportation"
   ]
  },
  {
   "cell_type": "code",
   "execution_count": 209,
   "metadata": {},
   "outputs": [],
   "source": [
    "atus_2012_tran_total_pops = atus_2012_tran_total_pops.groupby([\"TUCASEID\"]).sum().filter([\"TUCASEID\", \"TUACTDUR24\"])\n",
    "atus_2012_tran_total_pops_merge = pd.merge(atus_2012_tran_total_pops, multi_resp, on= \"TUCASEID\").filter([\"TUCASEID\",\"TUACTDUR24\",\"TUFNWGTP\"])\n",
    "#atus_2012_tran_total_pops_merge"
   ]
  },
  {
   "cell_type": "code",
   "execution_count": 210,
   "metadata": {},
   "outputs": [
    {
     "data": {
      "text/plain": [
       "5877370382478.939"
      ]
     },
     "execution_count": 210,
     "metadata": {},
     "output_type": "execute_result"
    }
   ],
   "source": [
    "atus_2012_tran_total_pops_merge[\"Multiplied Weight\"] = atus_2012_tran_total_pops_merge[\"TUACTDUR24\"] * atus_2012_tran_total_pops_merge[\"TUFNWGTP\"]\n",
    "atus_2012_tran_total_pops_multiplied_weight = atus_2012_tran_total_pops_merge[\"Multiplied Weight\"].sum()\n",
    "atus_2012_tran_total_pops_multiplied_weight"
   ]
  },
  {
   "cell_type": "code",
   "execution_count": 211,
   "metadata": {},
   "outputs": [
    {
     "data": {
      "text/plain": [
       "1.0818733835674883"
      ]
     },
     "execution_count": 211,
     "metadata": {},
     "output_type": "execute_result"
    }
   ],
   "source": [
    "atus_2012_tran_total_pops_hpd = atus_2012_tran_total_pops_multiplied_weight / atus_2012_total_pops_weight / 60\n",
    "atus_2012_tran_total_pops_hpd"
   ]
  },
  {
   "cell_type": "markdown",
   "metadata": {},
   "source": [
    "### 2013 Transportation"
   ]
  },
  {
   "cell_type": "code",
   "execution_count": 212,
   "metadata": {},
   "outputs": [],
   "source": [
    "atus_2013_tran_total_pops = atus_2013_tran_total_pops.groupby([\"TUCASEID\"]).sum().filter([\"TUCASEID\", \"TUACTDUR24\"])\n",
    "atus_2013_tran_total_pops_merge = pd.merge(atus_2013_tran_total_pops, multi_resp, on= \"TUCASEID\").filter([\"TUCASEID\",\"TUACTDUR24\",\"TUFNWGTP\"])\n",
    "#atus_2013_tran_total_pops_merge"
   ]
  },
  {
   "cell_type": "code",
   "execution_count": 213,
   "metadata": {},
   "outputs": [
    {
     "data": {
      "text/plain": [
       "5857819457260.153"
      ]
     },
     "execution_count": 213,
     "metadata": {},
     "output_type": "execute_result"
    }
   ],
   "source": [
    "atus_2013_tran_total_pops_merge[\"Multiplied Weight\"] = atus_2013_tran_total_pops_merge[\"TUACTDUR24\"] * atus_2013_tran_total_pops_merge[\"TUFNWGTP\"]\n",
    "atus_2013_tran_total_pops_multiplied_weight = atus_2013_tran_total_pops_merge[\"Multiplied Weight\"].sum()\n",
    "atus_2013_tran_total_pops_multiplied_weight"
   ]
  },
  {
   "cell_type": "code",
   "execution_count": 214,
   "metadata": {},
   "outputs": [
    {
     "data": {
      "text/plain": [
       "1.0707314877001795"
      ]
     },
     "execution_count": 214,
     "metadata": {},
     "output_type": "execute_result"
    }
   ],
   "source": [
    "atus_2013_tran_total_pops_hpd = atus_2013_tran_total_pops_multiplied_weight / atus_2013_total_pops_weight / 60\n",
    "atus_2013_tran_total_pops_hpd"
   ]
  },
  {
   "cell_type": "markdown",
   "metadata": {},
   "source": [
    "### 2014 Transportation"
   ]
  },
  {
   "cell_type": "code",
   "execution_count": 215,
   "metadata": {},
   "outputs": [],
   "source": [
    "atus_2014_tran_total_pops = atus_2014_tran_total_pops.groupby([\"TUCASEID\"]).sum().filter([\"TUCASEID\", \"TUACTDUR24\"])\n",
    "atus_2014_tran_total_pops_merge = pd.merge(atus_2014_tran_total_pops, multi_resp, on= \"TUCASEID\").filter([\"TUCASEID\",\"TUACTDUR24\",\"TUFNWGTP\"])\n",
    "#atus_2014_tran_total_pops_merge"
   ]
  },
  {
   "cell_type": "code",
   "execution_count": 216,
   "metadata": {},
   "outputs": [
    {
     "data": {
      "text/plain": [
       "5645778953683.627"
      ]
     },
     "execution_count": 216,
     "metadata": {},
     "output_type": "execute_result"
    }
   ],
   "source": [
    "atus_2014_tran_total_pops_merge[\"Multiplied Weight\"] = atus_2014_tran_total_pops_merge[\"TUACTDUR24\"] * atus_2014_tran_total_pops_merge[\"TUFNWGTP\"]\n",
    "atus_2014_tran_total_pops_multiplied_weight = atus_2014_tran_total_pops_merge[\"Multiplied Weight\"].sum()\n",
    "atus_2014_tran_total_pops_multiplied_weight"
   ]
  },
  {
   "cell_type": "code",
   "execution_count": 217,
   "metadata": {},
   "outputs": [
    {
     "data": {
      "text/plain": [
       "1.0226556876341628"
      ]
     },
     "execution_count": 217,
     "metadata": {},
     "output_type": "execute_result"
    }
   ],
   "source": [
    "atus_2014_tran_total_pops_hpd = atus_2014_tran_total_pops_multiplied_weight / atus_2014_total_pops_weight / 60\n",
    "atus_2014_tran_total_pops_hpd"
   ]
  },
  {
   "cell_type": "markdown",
   "metadata": {},
   "source": [
    "### 2015 Transportation"
   ]
  },
  {
   "cell_type": "code",
   "execution_count": 218,
   "metadata": {},
   "outputs": [],
   "source": [
    "atus_2015_tran_total_pops = atus_2015_tran_total_pops.groupby([\"TUCASEID\"]).sum().filter([\"TUCASEID\", \"TUACTDUR24\"])\n",
    "atus_2015_tran_total_pops_merge = pd.merge(atus_2015_tran_total_pops, multi_resp, on= \"TUCASEID\").filter([\"TUCASEID\",\"TUACTDUR24\",\"TUFNWGTP\"])\n",
    "#atus_2015_tran_total_pops_merge"
   ]
  },
  {
   "cell_type": "code",
   "execution_count": 219,
   "metadata": {},
   "outputs": [
    {
     "data": {
      "text/plain": [
       "5887348998090.09"
      ]
     },
     "execution_count": 219,
     "metadata": {},
     "output_type": "execute_result"
    }
   ],
   "source": [
    "atus_2015_tran_total_pops_merge[\"Multiplied Weight\"] = atus_2015_tran_total_pops_merge[\"TUACTDUR24\"] * atus_2015_tran_total_pops_merge[\"TUFNWGTP\"]\n",
    "atus_2015_tran_total_pops_multiplied_weight = atus_2015_tran_total_pops_merge[\"Multiplied Weight\"].sum()\n",
    "atus_2015_tran_total_pops_multiplied_weight"
   ]
  },
  {
   "cell_type": "code",
   "execution_count": 220,
   "metadata": {},
   "outputs": [
    {
     "data": {
      "text/plain": [
       "1.0541331920744552"
      ]
     },
     "execution_count": 220,
     "metadata": {},
     "output_type": "execute_result"
    }
   ],
   "source": [
    "atus_2015_tran_total_pops_hpd = atus_2015_tran_total_pops_multiplied_weight / atus_2015_total_pops_weight / 60\n",
    "atus_2015_tran_total_pops_hpd"
   ]
  },
  {
   "cell_type": "markdown",
   "metadata": {},
   "source": [
    "### 2016 Transportation"
   ]
  },
  {
   "cell_type": "code",
   "execution_count": 221,
   "metadata": {},
   "outputs": [],
   "source": [
    "atus_2016_tran_total_pops = atus_2016_tran_total_pops.groupby([\"TUCASEID\"]).sum().filter([\"TUCASEID\", \"TUACTDUR24\"])\n",
    "atus_2016_tran_total_pops_merge = pd.merge(atus_2016_tran_total_pops, multi_resp, on= \"TUCASEID\").filter([\"TUCASEID\",\"TUACTDUR24\",\"TUFNWGTP\"])\n",
    "#atus_2016_tran_total_pops_merge"
   ]
  },
  {
   "cell_type": "code",
   "execution_count": 222,
   "metadata": {},
   "outputs": [
    {
     "data": {
      "text/plain": [
       "6258021760167.602"
      ]
     },
     "execution_count": 222,
     "metadata": {},
     "output_type": "execute_result"
    }
   ],
   "source": [
    "atus_2016_tran_total_pops_merge[\"Multiplied Weight\"] = atus_2016_tran_total_pops_merge[\"TUACTDUR24\"] * atus_2016_tran_total_pops_merge[\"TUFNWGTP\"]\n",
    "atus_2016_tran_total_pops_multiplied_weight = atus_2016_tran_total_pops_merge[\"Multiplied Weight\"].sum()\n",
    "atus_2016_tran_total_pops_multiplied_weight"
   ]
  },
  {
   "cell_type": "code",
   "execution_count": 223,
   "metadata": {},
   "outputs": [
    {
     "data": {
      "text/plain": [
       "1.1056381238614204"
      ]
     },
     "execution_count": 223,
     "metadata": {},
     "output_type": "execute_result"
    }
   ],
   "source": [
    "atus_2016_tran_total_pops_hpd = atus_2016_tran_total_pops_multiplied_weight / atus_2016_total_pops_weight / 60\n",
    "atus_2016_tran_total_pops_hpd"
   ]
  },
  {
   "cell_type": "markdown",
   "metadata": {},
   "source": [
    "### 2017 Transportation"
   ]
  },
  {
   "cell_type": "code",
   "execution_count": 224,
   "metadata": {},
   "outputs": [],
   "source": [
    "atus_2017_tran_total_pops = atus_2017_tran_total_pops.groupby([\"TUCASEID\"]).sum().filter([\"TUCASEID\", \"TUACTDUR24\"])\n",
    "atus_2017_tran_total_pops_merge = pd.merge(atus_2017_tran_total_pops, multi_resp, on= \"TUCASEID\").filter([\"TUCASEID\",\"TUACTDUR24\",\"TUFNWGTP\"])\n",
    "#atus_2017_tran_total_pops_merge"
   ]
  },
  {
   "cell_type": "code",
   "execution_count": 225,
   "metadata": {},
   "outputs": [
    {
     "data": {
      "text/plain": [
       "6204756216004.254"
      ]
     },
     "execution_count": 225,
     "metadata": {},
     "output_type": "execute_result"
    }
   ],
   "source": [
    "atus_2017_tran_total_pops_merge[\"Multiplied Weight\"] = atus_2017_tran_total_pops_merge[\"TUACTDUR24\"] * atus_2017_tran_total_pops_merge[\"TUFNWGTP\"]\n",
    "atus_2017_tran_total_pops_multiplied_weight = atus_2017_tran_total_pops_merge[\"Multiplied Weight\"].sum()\n",
    "atus_2017_tran_total_pops_multiplied_weight"
   ]
  },
  {
   "cell_type": "code",
   "execution_count": 226,
   "metadata": {},
   "outputs": [
    {
     "data": {
      "text/plain": [
       "1.093046066584644"
      ]
     },
     "execution_count": 226,
     "metadata": {},
     "output_type": "execute_result"
    }
   ],
   "source": [
    "atus_2017_tran_total_pops_hpd = atus_2017_tran_total_pops_multiplied_weight / atus_2017_total_pops_weight / 60\n",
    "atus_2017_tran_total_pops_hpd"
   ]
  },
  {
   "cell_type": "markdown",
   "metadata": {},
   "source": [
    "### 2018 Transportation"
   ]
  },
  {
   "cell_type": "code",
   "execution_count": 227,
   "metadata": {},
   "outputs": [],
   "source": [
    "atus_2018_tran_total_pops = atus_2018_tran_total_pops.groupby([\"TUCASEID\"]).sum().filter([\"TUCASEID\", \"TUACTDUR24\"])\n",
    "atus_2018_tran_total_pops_merge = pd.merge(atus_2018_tran_total_pops, multi_resp, on= \"TUCASEID\").filter([\"TUCASEID\",\"TUACTDUR24\",\"TUFNWGTP\"])\n",
    "#atus_2018_tran_total_pops_merge"
   ]
  },
  {
   "cell_type": "code",
   "execution_count": 228,
   "metadata": {},
   "outputs": [
    {
     "data": {
      "text/plain": [
       "6198851907486.807"
      ]
     },
     "execution_count": 228,
     "metadata": {},
     "output_type": "execute_result"
    }
   ],
   "source": [
    "atus_2018_tran_total_pops_merge[\"Multiplied Weight\"] = atus_2018_tran_total_pops_merge[\"TUACTDUR24\"] * atus_2018_tran_total_pops_merge[\"TUFNWGTP\"]\n",
    "atus_2018_tran_total_pops_multiplied_weight = atus_2018_tran_total_pops_merge[\"Multiplied Weight\"].sum()\n",
    "atus_2018_tran_total_pops_multiplied_weight"
   ]
  },
  {
   "cell_type": "code",
   "execution_count": 229,
   "metadata": {},
   "outputs": [
    {
     "data": {
      "text/plain": [
       "1.080785250625469"
      ]
     },
     "execution_count": 229,
     "metadata": {},
     "output_type": "execute_result"
    }
   ],
   "source": [
    "atus_2018_tran_total_pops_hpd = atus_2018_tran_total_pops_multiplied_weight / atus_2018_total_pops_weight / 60\n",
    "atus_2018_tran_total_pops_hpd"
   ]
  },
  {
   "cell_type": "markdown",
   "metadata": {},
   "source": [
    "### 2019 Transportation"
   ]
  },
  {
   "cell_type": "code",
   "execution_count": 230,
   "metadata": {},
   "outputs": [],
   "source": [
    "atus_2019_tran_total_pops = atus_2019_tran_total_pops.groupby([\"TUCASEID\"]).sum().filter([\"TUCASEID\", \"TUACTDUR24\"])\n",
    "atus_2019_tran_total_pops_merge = pd.merge(atus_2019_tran_total_pops, multi_resp, on= \"TUCASEID\").filter([\"TUCASEID\",\"TUACTDUR24\",\"TUFNWGTP\"])\n",
    "#atus_2019_tran_total_pops_merge"
   ]
  },
  {
   "cell_type": "code",
   "execution_count": 231,
   "metadata": {},
   "outputs": [
    {
     "data": {
      "text/plain": [
       "6340551393198.6875"
      ]
     },
     "execution_count": 231,
     "metadata": {},
     "output_type": "execute_result"
    }
   ],
   "source": [
    "atus_2019_tran_total_pops_merge[\"Multiplied Weight\"] = atus_2019_tran_total_pops_merge[\"TUACTDUR24\"] * atus_2019_tran_total_pops_merge[\"TUFNWGTP\"]\n",
    "atus_2019_tran_total_pops_multiplied_weight = atus_2019_tran_total_pops_merge[\"Multiplied Weight\"].sum()\n",
    "atus_2019_tran_total_pops_multiplied_weight"
   ]
  },
  {
   "cell_type": "code",
   "execution_count": 232,
   "metadata": {},
   "outputs": [
    {
     "data": {
      "text/plain": [
       "1.0993328315974409"
      ]
     },
     "execution_count": 232,
     "metadata": {},
     "output_type": "execute_result"
    }
   ],
   "source": [
    "atus_2019_tran_total_pops_hpd = atus_2019_tran_total_pops_multiplied_weight / atus_2019_total_pops_weight / 60\n",
    "atus_2019_tran_total_pops_hpd"
   ]
  },
  {
   "cell_type": "markdown",
   "metadata": {},
   "source": [
    "### Regresssion: Transportation - Total Population"
   ]
  },
  {
   "cell_type": "markdown",
   "metadata": {},
   "source": [
    "#### 2003 -2012 Regression"
   ]
  },
  {
   "cell_type": "code",
   "execution_count": 233,
   "metadata": {},
   "outputs": [],
   "source": [
    "year = np.array([2003, 2004, 2005, 2006, 2007, 2008, 2009, 2010,2011,2012]).reshape((-1, 1))\n",
    "activity_hours_per_day = np.array([atus_2003_tran_total_pops_hpd, atus_2004_tran_total_pops_hpd, atus_2005_tran_total_pops_hpd,\n",
    "                                   atus_2006_tran_total_pops_hpd, atus_2007_tran_total_pops_hpd, atus_2008_tran_total_pops_hpd,\n",
    "                                   atus_2009_tran_total_pops_hpd, atus_2010_tran_total_pops_hpd, atus_2011_tran_total_pops_hpd,\n",
    "                                   atus_2012_tran_total_pops_hpd]).reshape((-1, 1))\n",
    "\n",
    "activity_hours_per_yr = [i * 365 for i in activity_hours_per_day]\n",
    "#activity_hours_per_yr"
   ]
  },
  {
   "cell_type": "code",
   "execution_count": 234,
   "metadata": {},
   "outputs": [
    {
     "data": {
      "image/png": "[encoded data removed]",
      "text/plain": [
       "<Figure size 432x288 with 1 Axes>"
      ]
     },
     "metadata": {
      "needs_background": "light"
     },
     "output_type": "display_data"
    }
   ],
   "source": [
    "x = year\n",
    "y = activity_hours_per_yr\n",
    "x, y = np.array(x), np.array(y)\n",
    "\n",
    "model = LinearRegression().fit(x, y)\n",
    "\n",
    "y_pred = model.predict(x)  \n",
    "\n",
    "plt.scatter(x, y)\n",
    "plt.plot(x, y_pred, color='red')\n",
    "plt.show()"
   ]
  },
  {
   "cell_type": "code",
   "execution_count": 235,
   "metadata": {},
   "outputs": [
    {
     "data": {
      "text/plain": [
       "0.7126439327704555"
      ]
     },
     "execution_count": 235,
     "metadata": {},
     "output_type": "execute_result"
    }
   ],
   "source": [
    "coefficient_of_determination = model.score(x,y) #R sqaure value \n",
    "coefficient_of_determination"
   ]
  },
  {
   "cell_type": "code",
   "execution_count": 236,
   "metadata": {},
   "outputs": [
    {
     "data": {
      "text/plain": [
       "array([[-2.99177856]])"
      ]
     },
     "execution_count": 236,
     "metadata": {},
     "output_type": "execute_result"
    }
   ],
   "source": [
    "tran_2012_total_pops_slope = model.coef_\n",
    "tran_2012_total_pops_slope"
   ]
  },
  {
   "cell_type": "markdown",
   "metadata": {},
   "source": [
    "#### 2003 -2019 Regression"
   ]
  },
  {
   "cell_type": "code",
   "execution_count": 237,
   "metadata": {},
   "outputs": [],
   "source": [
    "year = np.array([2003, 2004, 2005, 2006, 2007, 2008, 2009, 2010,2011,2012, 2013, 2014, 2015, 2016, 2017, 2018, 2019]).reshape((-1, 1))\n",
    "activity_hours_per_day = np.array([atus_2003_tran_total_pops_hpd, atus_2004_tran_total_pops_hpd, atus_2005_tran_total_pops_hpd,\n",
    "                                   atus_2006_tran_total_pops_hpd, atus_2007_tran_total_pops_hpd, atus_2008_tran_total_pops_hpd,\n",
    "                                   atus_2009_tran_total_pops_hpd, atus_2010_tran_total_pops_hpd, atus_2011_tran_total_pops_hpd,\n",
    "                                   atus_2012_tran_total_pops_hpd, atus_2013_tran_total_pops_hpd, atus_2014_tran_total_pops_hpd,\n",
    "                                   atus_2015_tran_total_pops_hpd, atus_2016_tran_total_pops_hpd, atus_2017_tran_total_pops_hpd,\n",
    "                                   atus_2018_tran_total_pops_hpd, atus_2019_tran_total_pops_hpd]).reshape((-1, 1))\n",
    "\n",
    "activity_hours_per_yr = [i * 365 for i in activity_hours_per_day]\n",
    "#activity_hours_per_yr"
   ]
  },
  {
   "cell_type": "code",
   "execution_count": 238,
   "metadata": {},
   "outputs": [
    {
     "data": {
      "image/png": "[encoded data removed]",
      "text/plain": [
       "<Figure size 432x288 with 1 Axes>"
      ]
     },
     "metadata": {
      "needs_background": "light"
     },
     "output_type": "display_data"
    }
   ],
   "source": [
    "x = year\n",
    "y = activity_hours_per_yr\n",
    "x, y = np.array(x), np.array(y)\n",
    "\n",
    "model = LinearRegression().fit(x, y)\n",
    "\n",
    "y_pred = model.predict(x)  \n",
    "\n",
    "plt.scatter(x, y)\n",
    "plt.plot(x, y_pred, color='red')\n",
    "plt.show()"
   ]
  },
  {
   "cell_type": "code",
   "execution_count": 239,
   "metadata": {},
   "outputs": [
    {
     "data": {
      "text/plain": [
       "0.26666424843187275"
      ]
     },
     "execution_count": 239,
     "metadata": {},
     "output_type": "execute_result"
    }
   ],
   "source": [
    "coefficient_of_determination = model.score(x,y) #R sqaure value \n",
    "coefficient_of_determination"
   ]
  },
  {
   "cell_type": "code",
   "execution_count": 240,
   "metadata": {},
   "outputs": [
    {
     "data": {
      "text/plain": [
       "array([[-1.1551201]])"
      ]
     },
     "execution_count": 240,
     "metadata": {},
     "output_type": "execute_result"
    }
   ],
   "source": [
    "tran_2019_total_pops_slope = model.coef_\n",
    "tran_2019_total_pops_slope"
   ]
  },
  {
   "cell_type": "markdown",
   "metadata": {},
   "source": [
    "## 2003-2019 - Unspecified- total_pops"
   ]
  },
  {
   "cell_type": "code",
   "execution_count": 241,
   "metadata": {},
   "outputs": [],
   "source": [
    "#unspecified = 89, 89 = Unspecified place"
   ]
  },
  {
   "cell_type": "code",
   "execution_count": 242,
   "metadata": {},
   "outputs": [
    {
     "data": {
      "text/html": [
       "<div>\n",
       "<style scoped>\n",
       "    .dataframe tbody tr th:only-of-type {\n",
       "        vertical-align: middle;\n",
       "    }\n",
       "\n",
       "    .dataframe tbody tr th {\n",
       "        vertical-align: top;\n",
       "    }\n",
       "\n",
       "    .dataframe thead th {\n",
       "        text-align: right;\n",
       "    }\n",
       "</style>\n",
       "<table border=\"1\" class=\"dataframe\">\n",
       "  <thead>\n",
       "    <tr style=\"text-align: right;\">\n",
       "      <th></th>\n",
       "      <th>TUCASEID</th>\n",
       "      <th>TUACTDUR24</th>\n",
       "      <th>TUCUMDUR</th>\n",
       "      <th>TRTIER1P</th>\n",
       "      <th>TRTIER2P</th>\n",
       "      <th>TRCODEP</th>\n",
       "      <th>TEWHERE</th>\n",
       "      <th>TELFS</th>\n",
       "      <th>TUFNWGTP</th>\n",
       "      <th>TUSTARTTIM</th>\n",
       "      <th>TUSTOPTIME</th>\n",
       "      <th>TUYEAR</th>\n",
       "    </tr>\n",
       "  </thead>\n",
       "  <tbody>\n",
       "    <tr>\n",
       "      <th>373</th>\n",
       "      <td>20030100015941</td>\n",
       "      <td>15</td>\n",
       "      <td>905</td>\n",
       "      <td>04</td>\n",
       "      <td>0405</td>\n",
       "      <td>040507</td>\n",
       "      <td>89</td>\n",
       "      <td>1</td>\n",
       "      <td>1.423997e+06</td>\n",
       "      <td>18:50:00</td>\n",
       "      <td>19:05:00</td>\n",
       "      <td>2003</td>\n",
       "    </tr>\n",
       "    <tr>\n",
       "      <th>1237</th>\n",
       "      <td>20030101031030</td>\n",
       "      <td>129</td>\n",
       "      <td>510</td>\n",
       "      <td>13</td>\n",
       "      <td>1301</td>\n",
       "      <td>130131</td>\n",
       "      <td>89</td>\n",
       "      <td>1</td>\n",
       "      <td>2.080731e+06</td>\n",
       "      <td>10:21:00</td>\n",
       "      <td>12:30:00</td>\n",
       "      <td>2003</td>\n",
       "    </tr>\n",
       "    <tr>\n",
       "      <th>1315</th>\n",
       "      <td>20030101031047</td>\n",
       "      <td>4</td>\n",
       "      <td>232</td>\n",
       "      <td>03</td>\n",
       "      <td>0301</td>\n",
       "      <td>030112</td>\n",
       "      <td>89</td>\n",
       "      <td>1</td>\n",
       "      <td>3.792077e+06</td>\n",
       "      <td>07:48:00</td>\n",
       "      <td>07:52:00</td>\n",
       "      <td>2003</td>\n",
       "    </tr>\n",
       "    <tr>\n",
       "      <th>1324</th>\n",
       "      <td>20030101031047</td>\n",
       "      <td>5</td>\n",
       "      <td>672</td>\n",
       "      <td>03</td>\n",
       "      <td>0301</td>\n",
       "      <td>030111</td>\n",
       "      <td>89</td>\n",
       "      <td>1</td>\n",
       "      <td>3.792077e+06</td>\n",
       "      <td>15:07:00</td>\n",
       "      <td>15:12:00</td>\n",
       "      <td>2003</td>\n",
       "    </tr>\n",
       "    <tr>\n",
       "      <th>1325</th>\n",
       "      <td>20030101031047</td>\n",
       "      <td>1</td>\n",
       "      <td>673</td>\n",
       "      <td>03</td>\n",
       "      <td>0301</td>\n",
       "      <td>030112</td>\n",
       "      <td>89</td>\n",
       "      <td>1</td>\n",
       "      <td>3.792077e+06</td>\n",
       "      <td>15:12:00</td>\n",
       "      <td>15:13:00</td>\n",
       "      <td>2003</td>\n",
       "    </tr>\n",
       "    <tr>\n",
       "      <th>...</th>\n",
       "      <td>...</td>\n",
       "      <td>...</td>\n",
       "      <td>...</td>\n",
       "      <td>...</td>\n",
       "      <td>...</td>\n",
       "      <td>...</td>\n",
       "      <td>...</td>\n",
       "      <td>...</td>\n",
       "      <td>...</td>\n",
       "      <td>...</td>\n",
       "      <td>...</td>\n",
       "      <td>...</td>\n",
       "    </tr>\n",
       "    <tr>\n",
       "      <th>4119807</th>\n",
       "      <td>20191212191294</td>\n",
       "      <td>10</td>\n",
       "      <td>750</td>\n",
       "      <td>03</td>\n",
       "      <td>0301</td>\n",
       "      <td>030111</td>\n",
       "      <td>89</td>\n",
       "      <td>4</td>\n",
       "      <td>3.119249e+06</td>\n",
       "      <td>16:20:00</td>\n",
       "      <td>16:30:00</td>\n",
       "      <td>2019</td>\n",
       "    </tr>\n",
       "    <tr>\n",
       "      <th>4120048</th>\n",
       "      <td>20191212191450</td>\n",
       "      <td>41</td>\n",
       "      <td>448</td>\n",
       "      <td>04</td>\n",
       "      <td>0405</td>\n",
       "      <td>040508</td>\n",
       "      <td>89</td>\n",
       "      <td>5</td>\n",
       "      <td>2.445740e+06</td>\n",
       "      <td>10:47:00</td>\n",
       "      <td>11:28:00</td>\n",
       "      <td>2019</td>\n",
       "    </tr>\n",
       "    <tr>\n",
       "      <th>4120912</th>\n",
       "      <td>20191212191980</td>\n",
       "      <td>12</td>\n",
       "      <td>422</td>\n",
       "      <td>03</td>\n",
       "      <td>0305</td>\n",
       "      <td>030504</td>\n",
       "      <td>89</td>\n",
       "      <td>2</td>\n",
       "      <td>1.975811e+07</td>\n",
       "      <td>10:50:00</td>\n",
       "      <td>11:02:00</td>\n",
       "      <td>2019</td>\n",
       "    </tr>\n",
       "    <tr>\n",
       "      <th>4120914</th>\n",
       "      <td>20191212191980</td>\n",
       "      <td>10</td>\n",
       "      <td>437</td>\n",
       "      <td>03</td>\n",
       "      <td>0305</td>\n",
       "      <td>030504</td>\n",
       "      <td>89</td>\n",
       "      <td>2</td>\n",
       "      <td>1.975811e+07</td>\n",
       "      <td>11:07:00</td>\n",
       "      <td>11:17:00</td>\n",
       "      <td>2019</td>\n",
       "    </tr>\n",
       "    <tr>\n",
       "      <th>4120922</th>\n",
       "      <td>20191212191980</td>\n",
       "      <td>10</td>\n",
       "      <td>597</td>\n",
       "      <td>03</td>\n",
       "      <td>0305</td>\n",
       "      <td>030504</td>\n",
       "      <td>89</td>\n",
       "      <td>2</td>\n",
       "      <td>1.975811e+07</td>\n",
       "      <td>13:47:00</td>\n",
       "      <td>13:57:00</td>\n",
       "      <td>2019</td>\n",
       "    </tr>\n",
       "  </tbody>\n",
       "</table>\n",
       "<p>12242 rows × 12 columns</p>\n",
       "</div>"
      ],
      "text/plain": [
       "               TUCASEID  TUACTDUR24  TUCUMDUR TRTIER1P TRTIER2P TRCODEP  \\\n",
       "373      20030100015941          15       905       04     0405  040507   \n",
       "1237     20030101031030         129       510       13     1301  130131   \n",
       "1315     20030101031047           4       232       03     0301  030112   \n",
       "1324     20030101031047           5       672       03     0301  030111   \n",
       "1325     20030101031047           1       673       03     0301  030112   \n",
       "...                 ...         ...       ...      ...      ...     ...   \n",
       "4119807  20191212191294          10       750       03     0301  030111   \n",
       "4120048  20191212191450          41       448       04     0405  040508   \n",
       "4120912  20191212191980          12       422       03     0305  030504   \n",
       "4120914  20191212191980          10       437       03     0305  030504   \n",
       "4120922  20191212191980          10       597       03     0305  030504   \n",
       "\n",
       "         TEWHERE  TELFS      TUFNWGTP TUSTARTTIM TUSTOPTIME  TUYEAR  \n",
       "373           89      1  1.423997e+06   18:50:00   19:05:00    2003  \n",
       "1237          89      1  2.080731e+06   10:21:00   12:30:00    2003  \n",
       "1315          89      1  3.792077e+06   07:48:00   07:52:00    2003  \n",
       "1324          89      1  3.792077e+06   15:07:00   15:12:00    2003  \n",
       "1325          89      1  3.792077e+06   15:12:00   15:13:00    2003  \n",
       "...          ...    ...           ...        ...        ...     ...  \n",
       "4119807       89      4  3.119249e+06   16:20:00   16:30:00    2019  \n",
       "4120048       89      5  2.445740e+06   10:47:00   11:28:00    2019  \n",
       "4120912       89      2  1.975811e+07   10:50:00   11:02:00    2019  \n",
       "4120914       89      2  1.975811e+07   11:07:00   11:17:00    2019  \n",
       "4120922       89      2  1.975811e+07   13:47:00   13:57:00    2019  \n",
       "\n",
       "[12242 rows x 12 columns]"
      ]
     },
     "execution_count": 242,
     "metadata": {},
     "output_type": "execute_result"
    }
   ],
   "source": [
    "unspecified_location = [89]\n",
    "atus_multi_yr_unsp_total_pops = multi_merged[multi_merged[\"TEWHERE\"].isin(unspecified_location)]\n",
    "atus_multi_yr_unsp_total_pops"
   ]
  },
  {
   "cell_type": "code",
   "execution_count": 243,
   "metadata": {},
   "outputs": [],
   "source": [
    "#atus transportation total_pops population seperated by year\n",
    "#unsp = unspecified\n",
    "atus_2003_unsp_total_pops = atus_multi_yr_unsp_total_pops[atus_multi_yr_unsp_total_pops[\"TUCASEID\"].apply(str).str.startswith(\"2003\")]\n",
    "atus_2004_unsp_total_pops = atus_multi_yr_unsp_total_pops[atus_multi_yr_unsp_total_pops[\"TUCASEID\"].apply(str).str.startswith(\"2004\")]\n",
    "atus_2005_unsp_total_pops = atus_multi_yr_unsp_total_pops[atus_multi_yr_unsp_total_pops[\"TUCASEID\"].apply(str).str.startswith(\"2005\")]\n",
    "atus_2006_unsp_total_pops = atus_multi_yr_unsp_total_pops[atus_multi_yr_unsp_total_pops[\"TUCASEID\"].apply(str).str.startswith(\"2006\")]\n",
    "atus_2007_unsp_total_pops = atus_multi_yr_unsp_total_pops[atus_multi_yr_unsp_total_pops[\"TUCASEID\"].apply(str).str.startswith(\"2007\")]\n",
    "atus_2008_unsp_total_pops = atus_multi_yr_unsp_total_pops[atus_multi_yr_unsp_total_pops[\"TUCASEID\"].apply(str).str.startswith(\"2008\")]\n",
    "atus_2009_unsp_total_pops = atus_multi_yr_unsp_total_pops[atus_multi_yr_unsp_total_pops[\"TUCASEID\"].apply(str).str.startswith(\"2009\")]\n",
    "atus_2010_unsp_total_pops = atus_multi_yr_unsp_total_pops[atus_multi_yr_unsp_total_pops[\"TUCASEID\"].apply(str).str.startswith(\"2010\")]\n",
    "atus_2011_unsp_total_pops = atus_multi_yr_unsp_total_pops[atus_multi_yr_unsp_total_pops[\"TUCASEID\"].apply(str).str.startswith(\"2011\")]\n",
    "atus_2012_unsp_total_pops = atus_multi_yr_unsp_total_pops[atus_multi_yr_unsp_total_pops[\"TUCASEID\"].apply(str).str.startswith(\"2012\")]\n",
    "atus_2013_unsp_total_pops = atus_multi_yr_unsp_total_pops[atus_multi_yr_unsp_total_pops[\"TUCASEID\"].apply(str).str.startswith(\"2013\")]\n",
    "atus_2014_unsp_total_pops = atus_multi_yr_unsp_total_pops[atus_multi_yr_unsp_total_pops[\"TUCASEID\"].apply(str).str.startswith(\"2014\")]\n",
    "atus_2015_unsp_total_pops = atus_multi_yr_unsp_total_pops[atus_multi_yr_unsp_total_pops[\"TUCASEID\"].apply(str).str.startswith(\"2015\")]\n",
    "atus_2016_unsp_total_pops = atus_multi_yr_unsp_total_pops[atus_multi_yr_unsp_total_pops[\"TUCASEID\"].apply(str).str.startswith(\"2016\")]\n",
    "atus_2017_unsp_total_pops = atus_multi_yr_unsp_total_pops[atus_multi_yr_unsp_total_pops[\"TUCASEID\"].apply(str).str.startswith(\"2017\")]\n",
    "atus_2018_unsp_total_pops = atus_multi_yr_unsp_total_pops[atus_multi_yr_unsp_total_pops[\"TUCASEID\"].apply(str).str.startswith(\"2018\")]\n",
    "atus_2019_unsp_total_pops = atus_multi_yr_unsp_total_pops[atus_multi_yr_unsp_total_pops[\"TUCASEID\"].apply(str).str.startswith(\"2019\")]\n",
    "#atus_2003_unsp_total_pops\n",
    "#atus_2004_unsp_total_pops[\"TRCODEP\"]"
   ]
  },
  {
   "cell_type": "markdown",
   "metadata": {},
   "source": [
    "### 2003 Unspecified- total_pops"
   ]
  },
  {
   "cell_type": "code",
   "execution_count": 244,
   "metadata": {},
   "outputs": [],
   "source": [
    "atus_2003_unsp_total_pops = atus_2003_unsp_total_pops.groupby([\"TUCASEID\"]).sum().filter([\"TUCASEID\", \"TUACTDUR24\",])\n",
    "#atus_2003_unsp_total_pops"
   ]
  },
  {
   "cell_type": "code",
   "execution_count": 245,
   "metadata": {},
   "outputs": [],
   "source": [
    "atus_2003_unsp_total_pops_merge = pd.merge(atus_2003_unsp_total_pops, multi_resp, on= \"TUCASEID\").filter([\"TUCASEID\",\"TUACTDUR24\",\"TUFNWGTP\"])\n",
    "#atus_2003_unsp_total_pops_merge"
   ]
  },
  {
   "cell_type": "code",
   "execution_count": 246,
   "metadata": {},
   "outputs": [],
   "source": [
    "atus_2003_unsp_total_pops_merge[\"Multiplied Weight\"] = atus_2003_unsp_total_pops_merge[\"TUACTDUR24\"] * atus_2003_unsp_total_pops_merge[\"TUFNWGTP\"]\n",
    "#atus_2003_unsp_total_pops_merge"
   ]
  },
  {
   "cell_type": "code",
   "execution_count": 247,
   "metadata": {},
   "outputs": [
    {
     "data": {
      "text/plain": [
       "107661914278.52362"
      ]
     },
     "execution_count": 247,
     "metadata": {},
     "output_type": "execute_result"
    }
   ],
   "source": [
    "atus_2003_unsp_total_pops_multiplied_weight = atus_2003_unsp_total_pops_merge[\"Multiplied Weight\"].sum()\n",
    "atus_2003_unsp_total_pops_multiplied_weight"
   ]
  },
  {
   "cell_type": "code",
   "execution_count": 248,
   "metadata": {},
   "outputs": [
    {
     "data": {
      "text/plain": [
       "0.021820983455678757"
      ]
     },
     "execution_count": 248,
     "metadata": {},
     "output_type": "execute_result"
    }
   ],
   "source": [
    "atus_2003_unsp_total_pops_hpd = atus_2003_unsp_total_pops_multiplied_weight / atus_2003_total_pops_weight / 60\n",
    "atus_2003_unsp_total_pops_hpd"
   ]
  },
  {
   "cell_type": "markdown",
   "metadata": {},
   "source": [
    "### 2004 Unspecified- total_pops"
   ]
  },
  {
   "cell_type": "code",
   "execution_count": 249,
   "metadata": {},
   "outputs": [],
   "source": [
    "atus_2004_unsp_total_pops = atus_2004_unsp_total_pops.groupby([\"TUCASEID\"]).sum().filter([\"TUCASEID\", \"TUACTDUR24\"])\n",
    "#atus_2004_unsp_total_pops"
   ]
  },
  {
   "cell_type": "code",
   "execution_count": 250,
   "metadata": {},
   "outputs": [
    {
     "data": {
      "text/plain": [
       "56578146262.73575"
      ]
     },
     "execution_count": 250,
     "metadata": {},
     "output_type": "execute_result"
    }
   ],
   "source": [
    "atus_2004_unsp_total_pops_merge = pd.merge(atus_2004_unsp_total_pops, multi_resp, on= \"TUCASEID\").filter([\"TUCASEID\",\"TUACTDUR24\",\"TUFNWGTP\"])\n",
    "\n",
    "atus_2004_unsp_total_pops_merge[\"Multiplied Weight\"] = atus_2004_unsp_total_pops_merge[\"TUACTDUR24\"] * atus_2004_unsp_total_pops_merge[\"TUFNWGTP\"]\n",
    "\n",
    "atus_2004_unsp_total_pops_multiplied_weight = atus_2004_unsp_total_pops_merge[\"Multiplied Weight\"].sum()\n",
    "atus_2004_unsp_total_pops_multiplied_weight"
   ]
  },
  {
   "cell_type": "code",
   "execution_count": 251,
   "metadata": {},
   "outputs": [
    {
     "data": {
      "text/plain": [
       "0.011325827207573145"
      ]
     },
     "execution_count": 251,
     "metadata": {},
     "output_type": "execute_result"
    }
   ],
   "source": [
    "atus_2004_unsp_total_pops_hpd = atus_2004_unsp_total_pops_multiplied_weight / atus_2004_total_pops_weight / 60\n",
    "atus_2004_unsp_total_pops_hpd"
   ]
  },
  {
   "cell_type": "markdown",
   "metadata": {},
   "source": [
    "### 2005 Unspecified- total_pops"
   ]
  },
  {
   "cell_type": "code",
   "execution_count": 252,
   "metadata": {},
   "outputs": [],
   "source": [
    "atus_2005_unsp_total_pops = atus_2005_unsp_total_pops.groupby([\"TUCASEID\"]).sum().filter([\"TUCASEID\", \"TUACTDUR24\"])\n",
    "#atus_2005_unsp_total_pops"
   ]
  },
  {
   "cell_type": "code",
   "execution_count": 253,
   "metadata": {},
   "outputs": [
    {
     "data": {
      "text/plain": [
       "51324740058.55345"
      ]
     },
     "execution_count": 253,
     "metadata": {},
     "output_type": "execute_result"
    }
   ],
   "source": [
    "atus_2005_unsp_total_pops_merge = pd.merge(atus_2005_unsp_total_pops, multi_resp, on= \"TUCASEID\").filter([\"TUCASEID\",\"TUACTDUR24\",\"TUFNWGTP\"])\n",
    "\n",
    "atus_2005_unsp_total_pops_merge[\"Multiplied Weight\"] = atus_2005_unsp_total_pops_merge[\"TUACTDUR24\"] * atus_2005_unsp_total_pops_merge[\"TUFNWGTP\"]\n",
    "\n",
    "atus_2005_unsp_total_pops_multiplied_weight = atus_2005_unsp_total_pops_merge[\"Multiplied Weight\"].sum()\n",
    "atus_2005_unsp_total_pops_multiplied_weight"
   ]
  },
  {
   "cell_type": "code",
   "execution_count": 254,
   "metadata": {},
   "outputs": [
    {
     "data": {
      "text/plain": [
       "0.010170642028563232"
      ]
     },
     "execution_count": 254,
     "metadata": {},
     "output_type": "execute_result"
    }
   ],
   "source": [
    "atus_2005_unsp_total_pops_hpd = atus_2005_unsp_total_pops_multiplied_weight / atus_2005_total_pops_weight / 60\n",
    "atus_2005_unsp_total_pops_hpd"
   ]
  },
  {
   "cell_type": "markdown",
   "metadata": {},
   "source": [
    "### 2006 Unspecified- total_pops"
   ]
  },
  {
   "cell_type": "code",
   "execution_count": 255,
   "metadata": {},
   "outputs": [],
   "source": [
    "atus_2006_unsp_total_pops = atus_2006_unsp_total_pops.groupby([\"TUCASEID\"]).sum().filter([\"TUCASEID\", \"TUACTDUR24\"])\n",
    "#atus_2006_unsp_total_pops"
   ]
  },
  {
   "cell_type": "code",
   "execution_count": 256,
   "metadata": {},
   "outputs": [
    {
     "data": {
      "text/plain": [
       "67299605218.01517"
      ]
     },
     "execution_count": 256,
     "metadata": {},
     "output_type": "execute_result"
    }
   ],
   "source": [
    "atus_2006_unsp_total_pops_merge = pd.merge(atus_2006_unsp_total_pops, multi_resp, on= \"TUCASEID\").filter([\"TUCASEID\",\"TUACTDUR24\",\"TUFNWGTP\"])\n",
    "\n",
    "atus_2006_unsp_total_pops_merge[\"Multiplied Weight\"] = atus_2006_unsp_total_pops_merge[\"TUACTDUR24\"] * atus_2006_unsp_total_pops_merge[\"TUFNWGTP\"]\n",
    "\n",
    "atus_2006_unsp_total_pops_multiplied_weight = atus_2006_unsp_total_pops_merge[\"Multiplied Weight\"].sum()\n",
    "atus_2006_unsp_total_pops_multiplied_weight"
   ]
  },
  {
   "cell_type": "code",
   "execution_count": 257,
   "metadata": {},
   "outputs": [
    {
     "data": {
      "text/plain": [
       "0.013182093741056123"
      ]
     },
     "execution_count": 257,
     "metadata": {},
     "output_type": "execute_result"
    }
   ],
   "source": [
    "atus_2006_unsp_total_pops_hpd = atus_2006_unsp_total_pops_multiplied_weight / atus_2006_total_pops_weight / 60\n",
    "atus_2006_unsp_total_pops_hpd"
   ]
  },
  {
   "cell_type": "markdown",
   "metadata": {},
   "source": [
    "### 2007 Unspecified- total_pops"
   ]
  },
  {
   "cell_type": "code",
   "execution_count": 258,
   "metadata": {},
   "outputs": [],
   "source": [
    "atus_2007_unsp_total_pops = atus_2007_unsp_total_pops.groupby([\"TUCASEID\"]).sum().filter([\"TUCASEID\", \"TUACTDUR24\"])\n",
    "#atus_2007_unsp_total_pops"
   ]
  },
  {
   "cell_type": "code",
   "execution_count": 259,
   "metadata": {},
   "outputs": [
    {
     "data": {
      "text/plain": [
       "89702803091.01132"
      ]
     },
     "execution_count": 259,
     "metadata": {},
     "output_type": "execute_result"
    }
   ],
   "source": [
    "atus_2007_unsp_total_pops_merge = pd.merge(atus_2007_unsp_total_pops, multi_resp, on= \"TUCASEID\").filter([\"TUCASEID\",\"TUACTDUR24\",\"TUFNWGTP\"])\n",
    "\n",
    "atus_2007_unsp_total_pops_merge[\"Multiplied Weight\"] = atus_2007_unsp_total_pops_merge[\"TUACTDUR24\"] * atus_2007_unsp_total_pops_merge[\"TUFNWGTP\"]\n",
    "\n",
    "atus_2007_unsp_total_pops_multiplied_weight = atus_2007_unsp_total_pops_merge[\"Multiplied Weight\"].sum()\n",
    "atus_2007_unsp_total_pops_multiplied_weight"
   ]
  },
  {
   "cell_type": "code",
   "execution_count": 260,
   "metadata": {},
   "outputs": [
    {
     "data": {
      "text/plain": [
       "0.01734823398287085"
      ]
     },
     "execution_count": 260,
     "metadata": {},
     "output_type": "execute_result"
    }
   ],
   "source": [
    "atus_2007_unsp_total_pops_hpd = atus_2007_unsp_total_pops_multiplied_weight / atus_2007_total_pops_weight / 60\n",
    "atus_2007_unsp_total_pops_hpd"
   ]
  },
  {
   "cell_type": "markdown",
   "metadata": {},
   "source": [
    "### 2008 Unspecified- total_pops"
   ]
  },
  {
   "cell_type": "code",
   "execution_count": 261,
   "metadata": {},
   "outputs": [],
   "source": [
    "atus_2008_unsp_total_pops = atus_2008_unsp_total_pops.groupby([\"TUCASEID\"]).sum().filter([\"TUCASEID\", \"TUACTDUR24\"])\n",
    "#atus_2008_unsp_total_pops"
   ]
  },
  {
   "cell_type": "code",
   "execution_count": 262,
   "metadata": {},
   "outputs": [
    {
     "data": {
      "text/plain": [
       "86345951561.34996"
      ]
     },
     "execution_count": 262,
     "metadata": {},
     "output_type": "execute_result"
    }
   ],
   "source": [
    "atus_2008_unsp_total_pops_merge = pd.merge(atus_2008_unsp_total_pops, multi_resp, on= \"TUCASEID\").filter([\"TUCASEID\",\"TUACTDUR24\",\"TUFNWGTP\"])\n",
    "\n",
    "atus_2008_unsp_total_pops_merge[\"Multiplied Weight\"] = atus_2008_unsp_total_pops_merge[\"TUACTDUR24\"] * atus_2008_unsp_total_pops_merge[\"TUFNWGTP\"]\n",
    "\n",
    "atus_2008_unsp_total_pops_multiplied_weight = atus_2008_unsp_total_pops_merge[\"Multiplied Weight\"].sum()\n",
    "atus_2008_unsp_total_pops_multiplied_weight"
   ]
  },
  {
   "cell_type": "code",
   "execution_count": 263,
   "metadata": {},
   "outputs": [
    {
     "data": {
      "text/plain": [
       "0.0165203673029581"
      ]
     },
     "execution_count": 263,
     "metadata": {},
     "output_type": "execute_result"
    }
   ],
   "source": [
    "atus_2008_unsp_total_pops_hpd = atus_2008_unsp_total_pops_multiplied_weight / atus_2008_total_pops_weight / 60\n",
    "atus_2008_unsp_total_pops_hpd"
   ]
  },
  {
   "cell_type": "markdown",
   "metadata": {},
   "source": [
    "### 2009 Unspecified- total_pops"
   ]
  },
  {
   "cell_type": "code",
   "execution_count": 264,
   "metadata": {},
   "outputs": [],
   "source": [
    "atus_2009_unsp_total_pops = atus_2009_unsp_total_pops.groupby([\"TUCASEID\"]).sum().filter([\"TUCASEID\", \"TUACTDUR24\"])\n",
    "#atus_2009_unsp_total_pops"
   ]
  },
  {
   "cell_type": "code",
   "execution_count": 265,
   "metadata": {},
   "outputs": [
    {
     "data": {
      "text/plain": [
       "78365184552.22073"
      ]
     },
     "execution_count": 265,
     "metadata": {},
     "output_type": "execute_result"
    }
   ],
   "source": [
    "atus_2009_unsp_total_pops_merge = pd.merge(atus_2009_unsp_total_pops, multi_resp, on= \"TUCASEID\").filter([\"TUCASEID\",\"TUACTDUR24\",\"TUFNWGTP\"])\n",
    "\n",
    "atus_2009_unsp_total_pops_merge[\"Multiplied Weight\"] = atus_2009_unsp_total_pops_merge[\"TUACTDUR24\"] * atus_2009_unsp_total_pops_merge[\"TUFNWGTP\"]\n",
    "\n",
    "atus_2009_unsp_total_pops_multiplied_weight = atus_2009_unsp_total_pops_merge[\"Multiplied Weight\"].sum()\n",
    "atus_2009_unsp_total_pops_multiplied_weight"
   ]
  },
  {
   "cell_type": "code",
   "execution_count": 266,
   "metadata": {},
   "outputs": [
    {
     "data": {
      "text/plain": [
       "0.01491598970735489"
      ]
     },
     "execution_count": 266,
     "metadata": {},
     "output_type": "execute_result"
    }
   ],
   "source": [
    "atus_2009_unsp_total_pops_hpd = atus_2009_unsp_total_pops_multiplied_weight / atus_2009_total_pops_weight / 60\n",
    "atus_2009_unsp_total_pops_hpd"
   ]
  },
  {
   "cell_type": "markdown",
   "metadata": {},
   "source": [
    "### 2010 Unspecified- total_pops"
   ]
  },
  {
   "cell_type": "code",
   "execution_count": 267,
   "metadata": {},
   "outputs": [],
   "source": [
    "atus_2010_unsp_total_pops = atus_2010_unsp_total_pops.groupby([\"TUCASEID\"]).sum().filter([\"TUCASEID\", \"TUACTDUR24\"])\n",
    "#atus_2010_unsp_total_pops"
   ]
  },
  {
   "cell_type": "code",
   "execution_count": 268,
   "metadata": {},
   "outputs": [
    {
     "data": {
      "text/plain": [
       "97899426254.09967"
      ]
     },
     "execution_count": 268,
     "metadata": {},
     "output_type": "execute_result"
    }
   ],
   "source": [
    "atus_2010_unsp_total_pops_merge = pd.merge(atus_2010_unsp_total_pops, multi_resp, on= \"TUCASEID\").filter([\"TUCASEID\",\"TUACTDUR24\",\"TUFNWGTP\"])\n",
    "\n",
    "atus_2010_unsp_total_pops_merge[\"Multiplied Weight\"] = atus_2010_unsp_total_pops_merge[\"TUACTDUR24\"] * atus_2010_unsp_total_pops_merge[\"TUFNWGTP\"]\n",
    "\n",
    "atus_2010_unsp_total_pops_multiplied_weight = atus_2010_unsp_total_pops_merge[\"Multiplied Weight\"].sum()\n",
    "atus_2010_unsp_total_pops_multiplied_weight"
   ]
  },
  {
   "cell_type": "code",
   "execution_count": 269,
   "metadata": {},
   "outputs": [
    {
     "data": {
      "text/plain": [
       "0.018478893481736723"
      ]
     },
     "execution_count": 269,
     "metadata": {},
     "output_type": "execute_result"
    }
   ],
   "source": [
    "atus_2010_unsp_total_pops_hpd = atus_2010_unsp_total_pops_multiplied_weight / atus_2010_total_pops_weight / 60\n",
    "atus_2010_unsp_total_pops_hpd"
   ]
  },
  {
   "cell_type": "markdown",
   "metadata": {},
   "source": [
    "### 2011 Unspecified- total_pops"
   ]
  },
  {
   "cell_type": "code",
   "execution_count": 270,
   "metadata": {},
   "outputs": [],
   "source": [
    "atus_2011_unsp_total_pops = atus_2011_unsp_total_pops.groupby([\"TUCASEID\"]).sum().filter([\"TUCASEID\", \"TUACTDUR24\"])\n",
    "#atus_2011_unsp_total_pops"
   ]
  },
  {
   "cell_type": "code",
   "execution_count": 271,
   "metadata": {},
   "outputs": [
    {
     "data": {
      "text/plain": [
       "91438301580.85043"
      ]
     },
     "execution_count": 271,
     "metadata": {},
     "output_type": "execute_result"
    }
   ],
   "source": [
    "atus_2011_unsp_total_pops_merge = pd.merge(atus_2011_unsp_total_pops, multi_resp, on= \"TUCASEID\").filter([\"TUCASEID\",\"TUACTDUR24\",\"TUFNWGTP\"])\n",
    "\n",
    "atus_2011_unsp_total_pops_merge[\"Multiplied Weight\"] = atus_2011_unsp_total_pops_merge[\"TUACTDUR24\"] * atus_2011_unsp_total_pops_merge[\"TUFNWGTP\"]\n",
    "\n",
    "atus_2011_unsp_total_pops_multiplied_weight = atus_2011_unsp_total_pops_merge[\"Multiplied Weight\"].sum()\n",
    "atus_2011_unsp_total_pops_multiplied_weight"
   ]
  },
  {
   "cell_type": "code",
   "execution_count": 272,
   "metadata": {},
   "outputs": [
    {
     "data": {
      "text/plain": [
       "0.017136237615796007"
      ]
     },
     "execution_count": 272,
     "metadata": {},
     "output_type": "execute_result"
    }
   ],
   "source": [
    "atus_2011_unsp_total_pops_hpd = atus_2011_unsp_total_pops_multiplied_weight / atus_2011_total_pops_weight / 60\n",
    "atus_2011_unsp_total_pops_hpd"
   ]
  },
  {
   "cell_type": "markdown",
   "metadata": {},
   "source": [
    "### 2012 Unspecified- total_pops"
   ]
  },
  {
   "cell_type": "code",
   "execution_count": 273,
   "metadata": {},
   "outputs": [],
   "source": [
    "atus_2012_unsp_total_pops = atus_2012_unsp_total_pops.groupby([\"TUCASEID\"]).sum().filter([\"TUCASEID\", \"TUACTDUR24\"])\n",
    "#atus_2012_unsp_total_pops"
   ]
  },
  {
   "cell_type": "code",
   "execution_count": 274,
   "metadata": {},
   "outputs": [
    {
     "data": {
      "text/plain": [
       "80645527301.76378"
      ]
     },
     "execution_count": 274,
     "metadata": {},
     "output_type": "execute_result"
    }
   ],
   "source": [
    "atus_2012_unsp_total_pops_merge = pd.merge(atus_2012_unsp_total_pops, multi_resp, on= \"TUCASEID\").filter([\"TUCASEID\",\"TUACTDUR24\",\"TUFNWGTP\"])\n",
    "\n",
    "atus_2012_unsp_total_pops_merge[\"Multiplied Weight\"] = atus_2012_unsp_total_pops_merge[\"TUACTDUR24\"] * atus_2012_unsp_total_pops_merge[\"TUFNWGTP\"]\n",
    "\n",
    "atus_2012_unsp_total_pops_multiplied_weight = atus_2012_unsp_total_pops_merge[\"Multiplied Weight\"].sum()\n",
    "atus_2012_unsp_total_pops_multiplied_weight"
   ]
  },
  {
   "cell_type": "code",
   "execution_count": 275,
   "metadata": {},
   "outputs": [
    {
     "data": {
      "text/plain": [
       "0.014844776458471914"
      ]
     },
     "execution_count": 275,
     "metadata": {},
     "output_type": "execute_result"
    }
   ],
   "source": [
    "atus_2012_unsp_total_pops_hpd = atus_2012_unsp_total_pops_multiplied_weight / atus_2012_total_pops_weight / 60\n",
    "atus_2012_unsp_total_pops_hpd"
   ]
  },
  {
   "cell_type": "markdown",
   "metadata": {},
   "source": [
    "### 2013 Unspecified- total_pops"
   ]
  },
  {
   "cell_type": "code",
   "execution_count": 276,
   "metadata": {},
   "outputs": [],
   "source": [
    "atus_2013_unsp_total_pops = atus_2013_unsp_total_pops.groupby([\"TUCASEID\"]).sum().filter([\"TUCASEID\", \"TUACTDUR24\"])\n",
    "#atus_2013_unsp_total_pops"
   ]
  },
  {
   "cell_type": "code",
   "execution_count": 277,
   "metadata": {},
   "outputs": [
    {
     "data": {
      "text/plain": [
       "59320905800.25142"
      ]
     },
     "execution_count": 277,
     "metadata": {},
     "output_type": "execute_result"
    }
   ],
   "source": [
    "atus_2013_unsp_total_pops_merge = pd.merge(atus_2013_unsp_total_pops, multi_resp, on= \"TUCASEID\").filter([\"TUCASEID\",\"TUACTDUR24\",\"TUFNWGTP\"])\n",
    "\n",
    "atus_2013_unsp_total_pops_merge[\"Multiplied Weight\"] = atus_2013_unsp_total_pops_merge[\"TUACTDUR24\"] * atus_2013_unsp_total_pops_merge[\"TUFNWGTP\"]\n",
    "\n",
    "atus_2013_unsp_total_pops_multiplied_weight = atus_2013_unsp_total_pops_merge[\"Multiplied Weight\"].sum()\n",
    "atus_2013_unsp_total_pops_multiplied_weight"
   ]
  },
  {
   "cell_type": "code",
   "execution_count": 278,
   "metadata": {},
   "outputs": [
    {
     "data": {
      "text/plain": [
       "0.010843072611345685"
      ]
     },
     "execution_count": 278,
     "metadata": {},
     "output_type": "execute_result"
    }
   ],
   "source": [
    "atus_2013_unsp_total_pops_hpd = atus_2013_unsp_total_pops_multiplied_weight / atus_2013_total_pops_weight / 60\n",
    "atus_2013_unsp_total_pops_hpd"
   ]
  },
  {
   "cell_type": "markdown",
   "metadata": {},
   "source": [
    "### 2014 Unspecified- total_pops"
   ]
  },
  {
   "cell_type": "code",
   "execution_count": 279,
   "metadata": {},
   "outputs": [],
   "source": [
    "atus_2014_unsp_total_pops = atus_2014_unsp_total_pops.groupby([\"TUCASEID\"]).sum().filter([\"TUCASEID\", \"TUACTDUR24\"])\n",
    "#atus_2014_unsp_total_pops"
   ]
  },
  {
   "cell_type": "code",
   "execution_count": 280,
   "metadata": {},
   "outputs": [
    {
     "data": {
      "text/plain": [
       "74266238036.55905"
      ]
     },
     "execution_count": 280,
     "metadata": {},
     "output_type": "execute_result"
    }
   ],
   "source": [
    "atus_2014_unsp_total_pops_merge = pd.merge(atus_2014_unsp_total_pops, multi_resp, on= \"TUCASEID\").filter([\"TUCASEID\",\"TUACTDUR24\",\"TUFNWGTP\"])\n",
    "\n",
    "atus_2014_unsp_total_pops_merge[\"Multiplied Weight\"] = atus_2014_unsp_total_pops_merge[\"TUACTDUR24\"] * atus_2014_unsp_total_pops_merge[\"TUFNWGTP\"]\n",
    "\n",
    "atus_2014_unsp_total_pops_multiplied_weight = atus_2014_unsp_total_pops_merge[\"Multiplied Weight\"].sum()\n",
    "atus_2014_unsp_total_pops_multiplied_weight"
   ]
  },
  {
   "cell_type": "code",
   "execution_count": 281,
   "metadata": {},
   "outputs": [
    {
     "data": {
      "text/plain": [
       "0.013452313905723571"
      ]
     },
     "execution_count": 281,
     "metadata": {},
     "output_type": "execute_result"
    }
   ],
   "source": [
    "atus_2014_unsp_total_pops_hpd = atus_2014_unsp_total_pops_multiplied_weight / atus_2014_total_pops_weight / 60\n",
    "atus_2014_unsp_total_pops_hpd"
   ]
  },
  {
   "cell_type": "markdown",
   "metadata": {},
   "source": [
    "### 2015 Unspecified- total_pops"
   ]
  },
  {
   "cell_type": "code",
   "execution_count": 282,
   "metadata": {},
   "outputs": [],
   "source": [
    "atus_2015_unsp_total_pops = atus_2015_unsp_total_pops.groupby([\"TUCASEID\"]).sum().filter([\"TUCASEID\", \"TUACTDUR24\"])\n",
    "#atus_2015_unsp_total_pops"
   ]
  },
  {
   "cell_type": "code",
   "execution_count": 283,
   "metadata": {},
   "outputs": [
    {
     "data": {
      "text/plain": [
       "69170608126.13742"
      ]
     },
     "execution_count": 283,
     "metadata": {},
     "output_type": "execute_result"
    }
   ],
   "source": [
    "atus_2015_unsp_total_pops_merge = pd.merge(atus_2015_unsp_total_pops, multi_resp, on= \"TUCASEID\").filter([\"TUCASEID\",\"TUACTDUR24\",\"TUFNWGTP\"])\n",
    "\n",
    "atus_2015_unsp_total_pops_merge[\"Multiplied Weight\"] = atus_2015_unsp_total_pops_merge[\"TUACTDUR24\"] * atus_2015_unsp_total_pops_merge[\"TUFNWGTP\"]\n",
    "\n",
    "atus_2015_unsp_total_pops_multiplied_weight = atus_2015_unsp_total_pops_merge[\"Multiplied Weight\"].sum()\n",
    "atus_2015_unsp_total_pops_multiplied_weight"
   ]
  },
  {
   "cell_type": "code",
   "execution_count": 284,
   "metadata": {},
   "outputs": [
    {
     "data": {
      "text/plain": [
       "0.01238503679081889"
      ]
     },
     "execution_count": 284,
     "metadata": {},
     "output_type": "execute_result"
    }
   ],
   "source": [
    "atus_2015_unsp_total_pops_hpd = atus_2015_unsp_total_pops_multiplied_weight / atus_2015_total_pops_weight / 60\n",
    "atus_2015_unsp_total_pops_hpd"
   ]
  },
  {
   "cell_type": "markdown",
   "metadata": {},
   "source": [
    "### 2016 Unspecified- total_pops"
   ]
  },
  {
   "cell_type": "code",
   "execution_count": 285,
   "metadata": {},
   "outputs": [],
   "source": [
    "atus_2016_unsp_total_pops = atus_2016_unsp_total_pops.groupby([\"TUCASEID\"]).sum().filter([\"TUCASEID\", \"TUACTDUR24\"])\n",
    "#atus_2016_unsp_total_pops"
   ]
  },
  {
   "cell_type": "code",
   "execution_count": 286,
   "metadata": {},
   "outputs": [
    {
     "data": {
      "text/plain": [
       "120451157061.3049"
      ]
     },
     "execution_count": 286,
     "metadata": {},
     "output_type": "execute_result"
    }
   ],
   "source": [
    "atus_2016_unsp_total_pops_merge = pd.merge(atus_2016_unsp_total_pops, multi_resp, on= \"TUCASEID\").filter([\"TUCASEID\",\"TUACTDUR24\",\"TUFNWGTP\"])\n",
    "\n",
    "atus_2016_unsp_total_pops_merge[\"Multiplied Weight\"] = atus_2016_unsp_total_pops_merge[\"TUACTDUR24\"] * atus_2016_unsp_total_pops_merge[\"TUFNWGTP\"]\n",
    "\n",
    "atus_2016_unsp_total_pops_multiplied_weight = atus_2016_unsp_total_pops_merge[\"Multiplied Weight\"].sum()\n",
    "atus_2016_unsp_total_pops_multiplied_weight"
   ]
  },
  {
   "cell_type": "code",
   "execution_count": 287,
   "metadata": {},
   "outputs": [
    {
     "data": {
      "text/plain": [
       "0.02128074915908118"
      ]
     },
     "execution_count": 287,
     "metadata": {},
     "output_type": "execute_result"
    }
   ],
   "source": [
    "atus_2016_unsp_total_pops_hpd = atus_2016_unsp_total_pops_multiplied_weight / atus_2016_total_pops_weight / 60\n",
    "atus_2016_unsp_total_pops_hpd"
   ]
  },
  {
   "cell_type": "markdown",
   "metadata": {},
   "source": [
    "### 2017 Unspecified- total_pops"
   ]
  },
  {
   "cell_type": "code",
   "execution_count": 288,
   "metadata": {},
   "outputs": [],
   "source": [
    "atus_2017_unsp_total_pops = atus_2017_unsp_total_pops.groupby([\"TUCASEID\"]).sum().filter([\"TUCASEID\", \"TUACTDUR24\"])\n",
    "#atus_2017_unsp_total_pops"
   ]
  },
  {
   "cell_type": "code",
   "execution_count": 289,
   "metadata": {},
   "outputs": [
    {
     "data": {
      "text/plain": [
       "103262753966.27536"
      ]
     },
     "execution_count": 289,
     "metadata": {},
     "output_type": "execute_result"
    }
   ],
   "source": [
    "atus_2017_unsp_total_pops_merge = pd.merge(atus_2017_unsp_total_pops, multi_resp, on= \"TUCASEID\").filter([\"TUCASEID\",\"TUACTDUR24\",\"TUFNWGTP\"])\n",
    "\n",
    "atus_2017_unsp_total_pops_merge[\"Multiplied Weight\"] = atus_2017_unsp_total_pops_merge[\"TUACTDUR24\"] * atus_2017_unsp_total_pops_merge[\"TUFNWGTP\"]\n",
    "\n",
    "atus_2017_unsp_total_pops_multiplied_weight = atus_2017_unsp_total_pops_merge[\"Multiplied Weight\"].sum()\n",
    "atus_2017_unsp_total_pops_multiplied_weight"
   ]
  },
  {
   "cell_type": "code",
   "execution_count": 290,
   "metadata": {},
   "outputs": [
    {
     "data": {
      "text/plain": [
       "0.018191036540066017"
      ]
     },
     "execution_count": 290,
     "metadata": {},
     "output_type": "execute_result"
    }
   ],
   "source": [
    "atus_2017_unsp_total_pops_hpd = atus_2017_unsp_total_pops_multiplied_weight / atus_2017_total_pops_weight / 60\n",
    "atus_2017_unsp_total_pops_hpd"
   ]
  },
  {
   "cell_type": "markdown",
   "metadata": {},
   "source": [
    "### 2018 Unspecified- total_pops"
   ]
  },
  {
   "cell_type": "code",
   "execution_count": 291,
   "metadata": {},
   "outputs": [],
   "source": [
    "atus_2018_unsp_total_pops = atus_2018_unsp_total_pops.groupby([\"TUCASEID\"]).sum().filter([\"TUCASEID\", \"TUACTDUR24\"])\n",
    "#atus_2018_unsp_total_pops"
   ]
  },
  {
   "cell_type": "code",
   "execution_count": 292,
   "metadata": {},
   "outputs": [
    {
     "data": {
      "text/plain": [
       "96906680835.47786"
      ]
     },
     "execution_count": 292,
     "metadata": {},
     "output_type": "execute_result"
    }
   ],
   "source": [
    "atus_2018_unsp_total_pops_merge = pd.merge(atus_2018_unsp_total_pops, multi_resp, on= \"TUCASEID\").filter([\"TUCASEID\",\"TUACTDUR24\",\"TUFNWGTP\"])\n",
    "\n",
    "atus_2018_unsp_total_pops_merge[\"Multiplied Weight\"] = atus_2018_unsp_total_pops_merge[\"TUACTDUR24\"] * atus_2018_unsp_total_pops_merge[\"TUFNWGTP\"]\n",
    "\n",
    "atus_2018_unsp_total_pops_multiplied_weight = atus_2018_unsp_total_pops_merge[\"Multiplied Weight\"].sum()\n",
    "atus_2018_unsp_total_pops_multiplied_weight"
   ]
  },
  {
   "cell_type": "code",
   "execution_count": 293,
   "metadata": {},
   "outputs": [
    {
     "data": {
      "text/plain": [
       "0.01689592087327619"
      ]
     },
     "execution_count": 293,
     "metadata": {},
     "output_type": "execute_result"
    }
   ],
   "source": [
    "atus_2018_unsp_total_pops_hpd = atus_2018_unsp_total_pops_multiplied_weight / atus_2018_total_pops_weight / 60\n",
    "atus_2018_unsp_total_pops_hpd"
   ]
  },
  {
   "cell_type": "markdown",
   "metadata": {},
   "source": [
    "### 2019 Unspecified- total_pops"
   ]
  },
  {
   "cell_type": "code",
   "execution_count": 294,
   "metadata": {},
   "outputs": [],
   "source": [
    "atus_2019_unsp_total_pops = atus_2019_unsp_total_pops.groupby([\"TUCASEID\"]).sum().filter([\"TUCASEID\", \"TUACTDUR24\"])\n",
    "#atus_2019_unsp_total_pops"
   ]
  },
  {
   "cell_type": "code",
   "execution_count": 295,
   "metadata": {},
   "outputs": [
    {
     "data": {
      "text/plain": [
       "78051808613.3258"
      ]
     },
     "execution_count": 295,
     "metadata": {},
     "output_type": "execute_result"
    }
   ],
   "source": [
    "atus_2019_unsp_total_pops_merge = pd.merge(atus_2019_unsp_total_pops, multi_resp, on= \"TUCASEID\").filter([\"TUCASEID\",\"TUACTDUR24\",\"TUFNWGTP\"])\n",
    "\n",
    "atus_2019_unsp_total_pops_merge[\"Multiplied Weight\"] = atus_2019_unsp_total_pops_merge[\"TUACTDUR24\"] * atus_2019_unsp_total_pops_merge[\"TUFNWGTP\"]\n",
    "\n",
    "atus_2019_unsp_total_pops_multiplied_weight = atus_2019_unsp_total_pops_merge[\"Multiplied Weight\"].sum()\n",
    "atus_2019_unsp_total_pops_multiplied_weight"
   ]
  },
  {
   "cell_type": "code",
   "execution_count": 296,
   "metadata": {},
   "outputs": [
    {
     "data": {
      "text/plain": [
       "0.013532721439058006"
      ]
     },
     "execution_count": 296,
     "metadata": {},
     "output_type": "execute_result"
    }
   ],
   "source": [
    "atus_2019_unsp_total_pops_hpd = atus_2019_unsp_total_pops_multiplied_weight / atus_2019_total_pops_weight / 60\n",
    "atus_2019_unsp_total_pops_hpd"
   ]
  },
  {
   "cell_type": "markdown",
   "metadata": {},
   "source": [
    "### Regresssion: Unespecified - total_pops"
   ]
  },
  {
   "cell_type": "markdown",
   "metadata": {},
   "source": [
    "#### 2003 -2012 Regression"
   ]
  },
  {
   "cell_type": "code",
   "execution_count": 297,
   "metadata": {},
   "outputs": [],
   "source": [
    "year = np.array([2003, 2004, 2005, 2006, 2007, 2008, 2009, 2010,2011,2012]).reshape((-1, 1))\n",
    "activity_hours_per_day = np.array([atus_2003_unsp_total_pops_hpd, atus_2004_unsp_total_pops_hpd, atus_2005_unsp_total_pops_hpd,\n",
    "                                   atus_2006_unsp_total_pops_hpd, atus_2007_unsp_total_pops_hpd, atus_2008_unsp_total_pops_hpd,\n",
    "                                   atus_2009_unsp_total_pops_hpd, atus_2010_unsp_total_pops_hpd, atus_2011_unsp_total_pops_hpd,\n",
    "                                   atus_2012_unsp_total_pops_hpd]).reshape((-1, 1))\n",
    "\n",
    "activity_hours_per_yr = [i * 365 for i in activity_hours_per_day]\n",
    "#activity_hours_per_yr"
   ]
  },
  {
   "cell_type": "code",
   "execution_count": 298,
   "metadata": {},
   "outputs": [
    {
     "data": {
      "image/png": "[encoded data removed]",
      "text/plain": [
       "<Figure size 432x288 with 1 Axes>"
      ]
     },
     "metadata": {
      "needs_background": "light"
     },
     "output_type": "display_data"
    }
   ],
   "source": [
    "x = year\n",
    "y = activity_hours_per_yr\n",
    "x, y = np.array(x), np.array(y)\n",
    "\n",
    "model = LinearRegression().fit(x, y)\n",
    "\n",
    "y_pred = model.predict(x)  \n",
    "\n",
    "plt.scatter(x, y)\n",
    "plt.plot(x, y_pred, color='red')\n",
    "plt.show()"
   ]
  },
  {
   "cell_type": "code",
   "execution_count": 299,
   "metadata": {},
   "outputs": [
    {
     "data": {
      "text/plain": [
       "0.015914362951729655"
      ]
     },
     "execution_count": 299,
     "metadata": {},
     "output_type": "execute_result"
    }
   ],
   "source": [
    "coefficient_of_determination = model.score(x,y) #R sqaure value \n",
    "coefficient_of_determination"
   ]
  },
  {
   "cell_type": "code",
   "execution_count": 300,
   "metadata": {},
   "outputs": [
    {
     "data": {
      "text/plain": [
       "array([[0.0526531]])"
      ]
     },
     "execution_count": 300,
     "metadata": {},
     "output_type": "execute_result"
    }
   ],
   "source": [
    "all_act_2012_res_total_pops_slope = model.coef_\n",
    "all_act_2012_res_total_pops_slope"
   ]
  },
  {
   "cell_type": "markdown",
   "metadata": {},
   "source": [
    "#### 2003-2019 Regression"
   ]
  },
  {
   "cell_type": "code",
   "execution_count": 301,
   "metadata": {},
   "outputs": [],
   "source": [
    "year = np.array([2003, 2004, 2005, 2006, 2007, 2008, 2009, 2010,2011,2012,2013,2014,2015,2016,2017,2018,2019]).reshape((-1, 1))\n",
    "activity_hours_per_day = np.array([atus_2003_unsp_total_pops_hpd, atus_2004_unsp_total_pops_hpd, atus_2005_unsp_total_pops_hpd,\n",
    "                                   atus_2006_unsp_total_pops_hpd, atus_2007_unsp_total_pops_hpd, atus_2008_unsp_total_pops_hpd,\n",
    "                                   atus_2009_unsp_total_pops_hpd, atus_2010_unsp_total_pops_hpd, atus_2011_unsp_total_pops_hpd,\n",
    "                                   atus_2012_unsp_total_pops_hpd, atus_2013_unsp_total_pops_hpd, atus_2014_unsp_total_pops_hpd,\n",
    "                                   atus_2015_unsp_total_pops_hpd, atus_2016_unsp_total_pops_hpd, atus_2017_unsp_total_pops_hpd,\n",
    "                                   atus_2018_unsp_total_pops_hpd, atus_2019_unsp_total_pops_hpd]).reshape((-1, 1))\n",
    "\n",
    "activity_hours_per_yr = [i * 365 for i in activity_hours_per_day]\n",
    "#activity_hours_per_yr"
   ]
  },
  {
   "cell_type": "code",
   "execution_count": 302,
   "metadata": {},
   "outputs": [
    {
     "data": {
      "image/png": "[encoded data removed]",
      "text/plain": [
       "<Figure size 432x288 with 1 Axes>"
      ]
     },
     "metadata": {
      "needs_background": "light"
     },
     "output_type": "display_data"
    }
   ],
   "source": [
    "x = year\n",
    "y = activity_hours_per_yr\n",
    "x, y = np.array(x), np.array(y)\n",
    "\n",
    "model = LinearRegression().fit(x, y)\n",
    "\n",
    "y_pred = model.predict(x)  \n",
    "\n",
    "plt.scatter(x, y)\n",
    "plt.plot(x, y_pred, color='red')\n",
    "plt.show()"
   ]
  },
  {
   "cell_type": "code",
   "execution_count": 303,
   "metadata": {},
   "outputs": [
    {
     "data": {
      "text/plain": [
       "0.005404317384358426"
      ]
     },
     "execution_count": 303,
     "metadata": {},
     "output_type": "execute_result"
    }
   ],
   "source": [
    "coefficient_of_determination = model.score(x,y) #R sqaure value \n",
    "coefficient_of_determination"
   ]
  },
  {
   "cell_type": "code",
   "execution_count": 304,
   "metadata": {},
   "outputs": [
    {
     "data": {
      "text/plain": [
       "array([[0.01830663]])"
      ]
     },
     "execution_count": 304,
     "metadata": {},
     "output_type": "execute_result"
    }
   ],
   "source": [
    "all_act_2019_res_total_pops_slope = model.coef_\n",
    "all_act_2019_res_total_pops_slope"
   ]
  },
  {
   "cell_type": "code",
   "execution_count": null,
   "metadata": {},
   "outputs": [],
   "source": []
  }
 ],
 "metadata": {
  "kernelspec": {
   "display_name": "Python 3",
   "language": "python",
   "name": "python3"
  },
  "language_info": {
   "codemirror_mode": {
    "name": "ipython",
    "version": 3
   },
   "file_extension": ".py",
   "mimetype": "text/x-python",
   "name": "python",
   "nbconvert_exporter": "python",
   "pygments_lexer": "ipython3",
   "version": "3.8.3"
  }
 },
 "nbformat": 4,
 "nbformat_minor": 4
}
