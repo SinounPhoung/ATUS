{
 "cells": [
  {
   "cell_type": "code",
   "execution_count": 1,
   "metadata": {},
   "outputs": [],
   "source": [
    "import pandas as pd \n",
    "import numpy as np \n",
    "%matplotlib inline\n",
    "import matplotlib.pyplot as plt\n",
    "from sklearn.linear_model import LinearRegression"
   ]
  },
  {
   "cell_type": "code",
   "execution_count": 2,
   "metadata": {},
   "outputs": [],
   "source": [
    "multi_act = pd.read_csv(\"ATUS DATA 03-19/atus_activity_0319.dat\", \n",
    "                        dtype= {\"TRCODEP\": object, \"TRTIER1P\": object, \"TRTIER2P\": object}) #using 2003-2019 activity file\n",
    "#multi_act"
   ]
  },
  {
   "cell_type": "code",
   "execution_count": 3,
   "metadata": {},
   "outputs": [],
   "source": [
    "multi_rost = pd.read_csv(\"ATUS DATA 03-19/atus_rost_0319.dat\")\n",
    "\n",
    "#TERRP = How is this person related to you?\n",
    "# \"There is no distinction between 18 and 19\"\n",
    "roster_list = [18,19] # 18 and 19 = self \n",
    "multi_rost = multi_rost[multi_rost[\"TERRP\"].isin(roster_list)]\n",
    "#multi_rost.head(20)"
   ]
  },
  {
   "cell_type": "code",
   "execution_count": 4,
   "metadata": {},
   "outputs": [],
   "source": [
    "multi_resp = pd.read_csv(\"ATUS DATA 03-19/atus_resp_0319.dat\")\n",
    "#multi_resp.columns.to_list()"
   ]
  },
  {
   "cell_type": "code",
   "execution_count": 5,
   "metadata": {},
   "outputs": [],
   "source": [
    "multi_merged1 = pd.merge(multi_act, multi_resp, on=\"TUCASEID\")\n",
    "multi_merged = pd.merge(multi_merged1, multi_rost, on=\"TUCASEID\")\n",
    "#multi_merged = pd.merge(multi_resp, multi_rost, on=\"TUCASEID\")\n",
    "multi_merged = multi_merged.filter([\"TUCASEID\",\"TUACTDUR24\",\"TUCUMDUR\",\"TRTIER1P\",\"TRTIER2P\",\"TRCODEP\", \n",
    "                                    \"TEWHERE\",\"TEAGE\", \"TUFNWGTP\",\"TUSTARTTIM\",\"TUSTOPTIME\", \"TUYEAR\"])\n",
    "#multi_merged.head(20)"
   ]
  },
  {
   "cell_type": "markdown",
   "metadata": {},
   "source": [
    "## Age Between 25 and 64  Population"
   ]
  },
  {
   "cell_type": "code",
   "execution_count": 6,
   "metadata": {},
   "outputs": [
    {
     "data": {
      "text/html": [
       "<div>\n",
       "<style scoped>\n",
       "    .dataframe tbody tr th:only-of-type {\n",
       "        vertical-align: middle;\n",
       "    }\n",
       "\n",
       "    .dataframe tbody tr th {\n",
       "        vertical-align: top;\n",
       "    }\n",
       "\n",
       "    .dataframe thead th {\n",
       "        text-align: right;\n",
       "    }\n",
       "</style>\n",
       "<table border=\"1\" class=\"dataframe\">\n",
       "  <thead>\n",
       "    <tr style=\"text-align: right;\">\n",
       "      <th></th>\n",
       "      <th>TUCASEID</th>\n",
       "      <th>TUACTDUR24</th>\n",
       "      <th>TUCUMDUR</th>\n",
       "      <th>TRTIER1P</th>\n",
       "      <th>TRTIER2P</th>\n",
       "      <th>TRCODEP</th>\n",
       "      <th>TEWHERE</th>\n",
       "      <th>TEAGE</th>\n",
       "      <th>TUFNWGTP</th>\n",
       "      <th>TUSTARTTIM</th>\n",
       "      <th>TUSTOPTIME</th>\n",
       "      <th>TUYEAR</th>\n",
       "    </tr>\n",
       "  </thead>\n",
       "  <tbody>\n",
       "    <tr>\n",
       "      <th>0</th>\n",
       "      <td>20030100013280</td>\n",
       "      <td>60</td>\n",
       "      <td>60</td>\n",
       "      <td>13</td>\n",
       "      <td>1301</td>\n",
       "      <td>130124</td>\n",
       "      <td>9</td>\n",
       "      <td>60</td>\n",
       "      <td>8.155463e+06</td>\n",
       "      <td>04:00:00</td>\n",
       "      <td>05:00:00</td>\n",
       "      <td>2003</td>\n",
       "    </tr>\n",
       "    <tr>\n",
       "      <th>1</th>\n",
       "      <td>20030100013280</td>\n",
       "      <td>30</td>\n",
       "      <td>90</td>\n",
       "      <td>01</td>\n",
       "      <td>0102</td>\n",
       "      <td>010201</td>\n",
       "      <td>-1</td>\n",
       "      <td>60</td>\n",
       "      <td>8.155463e+06</td>\n",
       "      <td>05:00:00</td>\n",
       "      <td>05:30:00</td>\n",
       "      <td>2003</td>\n",
       "    </tr>\n",
       "    <tr>\n",
       "      <th>2</th>\n",
       "      <td>20030100013280</td>\n",
       "      <td>600</td>\n",
       "      <td>690</td>\n",
       "      <td>01</td>\n",
       "      <td>0101</td>\n",
       "      <td>010101</td>\n",
       "      <td>-1</td>\n",
       "      <td>60</td>\n",
       "      <td>8.155463e+06</td>\n",
       "      <td>05:30:00</td>\n",
       "      <td>15:30:00</td>\n",
       "      <td>2003</td>\n",
       "    </tr>\n",
       "    <tr>\n",
       "      <th>3</th>\n",
       "      <td>20030100013280</td>\n",
       "      <td>150</td>\n",
       "      <td>840</td>\n",
       "      <td>12</td>\n",
       "      <td>1203</td>\n",
       "      <td>120303</td>\n",
       "      <td>1</td>\n",
       "      <td>60</td>\n",
       "      <td>8.155463e+06</td>\n",
       "      <td>15:30:00</td>\n",
       "      <td>18:00:00</td>\n",
       "      <td>2003</td>\n",
       "    </tr>\n",
       "    <tr>\n",
       "      <th>4</th>\n",
       "      <td>20030100013280</td>\n",
       "      <td>5</td>\n",
       "      <td>845</td>\n",
       "      <td>11</td>\n",
       "      <td>1101</td>\n",
       "      <td>110101</td>\n",
       "      <td>1</td>\n",
       "      <td>60</td>\n",
       "      <td>8.155463e+06</td>\n",
       "      <td>18:00:00</td>\n",
       "      <td>18:05:00</td>\n",
       "      <td>2003</td>\n",
       "    </tr>\n",
       "    <tr>\n",
       "      <th>...</th>\n",
       "      <td>...</td>\n",
       "      <td>...</td>\n",
       "      <td>...</td>\n",
       "      <td>...</td>\n",
       "      <td>...</td>\n",
       "      <td>...</td>\n",
       "      <td>...</td>\n",
       "      <td>...</td>\n",
       "      <td>...</td>\n",
       "      <td>...</td>\n",
       "      <td>...</td>\n",
       "      <td>...</td>\n",
       "    </tr>\n",
       "    <tr>\n",
       "      <th>4121278</th>\n",
       "      <td>20191212192270</td>\n",
       "      <td>98</td>\n",
       "      <td>690</td>\n",
       "      <td>03</td>\n",
       "      <td>0301</td>\n",
       "      <td>030103</td>\n",
       "      <td>1</td>\n",
       "      <td>45</td>\n",
       "      <td>1.072172e+07</td>\n",
       "      <td>13:52:00</td>\n",
       "      <td>15:30:00</td>\n",
       "      <td>2019</td>\n",
       "    </tr>\n",
       "    <tr>\n",
       "      <th>4121279</th>\n",
       "      <td>20191212192270</td>\n",
       "      <td>30</td>\n",
       "      <td>720</td>\n",
       "      <td>18</td>\n",
       "      <td>1812</td>\n",
       "      <td>181201</td>\n",
       "      <td>13</td>\n",
       "      <td>45</td>\n",
       "      <td>1.072172e+07</td>\n",
       "      <td>15:30:00</td>\n",
       "      <td>16:00:00</td>\n",
       "      <td>2019</td>\n",
       "    </tr>\n",
       "    <tr>\n",
       "      <th>4121280</th>\n",
       "      <td>20191212192270</td>\n",
       "      <td>390</td>\n",
       "      <td>1110</td>\n",
       "      <td>12</td>\n",
       "      <td>1201</td>\n",
       "      <td>120101</td>\n",
       "      <td>3</td>\n",
       "      <td>45</td>\n",
       "      <td>1.072172e+07</td>\n",
       "      <td>16:00:00</td>\n",
       "      <td>22:30:00</td>\n",
       "      <td>2019</td>\n",
       "    </tr>\n",
       "    <tr>\n",
       "      <th>4121281</th>\n",
       "      <td>20191212192270</td>\n",
       "      <td>30</td>\n",
       "      <td>1140</td>\n",
       "      <td>18</td>\n",
       "      <td>1812</td>\n",
       "      <td>181201</td>\n",
       "      <td>13</td>\n",
       "      <td>45</td>\n",
       "      <td>1.072172e+07</td>\n",
       "      <td>22:30:00</td>\n",
       "      <td>23:00:00</td>\n",
       "      <td>2019</td>\n",
       "    </tr>\n",
       "    <tr>\n",
       "      <th>4121282</th>\n",
       "      <td>20191212192270</td>\n",
       "      <td>300</td>\n",
       "      <td>1740</td>\n",
       "      <td>01</td>\n",
       "      <td>0101</td>\n",
       "      <td>010101</td>\n",
       "      <td>-1</td>\n",
       "      <td>45</td>\n",
       "      <td>1.072172e+07</td>\n",
       "      <td>23:00:00</td>\n",
       "      <td>09:00:00</td>\n",
       "      <td>2019</td>\n",
       "    </tr>\n",
       "  </tbody>\n",
       "</table>\n",
       "<p>2936473 rows × 12 columns</p>\n",
       "</div>"
      ],
      "text/plain": [
       "               TUCASEID  TUACTDUR24  TUCUMDUR TRTIER1P TRTIER2P TRCODEP  \\\n",
       "0        20030100013280          60        60       13     1301  130124   \n",
       "1        20030100013280          30        90       01     0102  010201   \n",
       "2        20030100013280         600       690       01     0101  010101   \n",
       "3        20030100013280         150       840       12     1203  120303   \n",
       "4        20030100013280           5       845       11     1101  110101   \n",
       "...                 ...         ...       ...      ...      ...     ...   \n",
       "4121278  20191212192270          98       690       03     0301  030103   \n",
       "4121279  20191212192270          30       720       18     1812  181201   \n",
       "4121280  20191212192270         390      1110       12     1201  120101   \n",
       "4121281  20191212192270          30      1140       18     1812  181201   \n",
       "4121282  20191212192270         300      1740       01     0101  010101   \n",
       "\n",
       "         TEWHERE  TEAGE      TUFNWGTP TUSTARTTIM TUSTOPTIME  TUYEAR  \n",
       "0              9     60  8.155463e+06   04:00:00   05:00:00    2003  \n",
       "1             -1     60  8.155463e+06   05:00:00   05:30:00    2003  \n",
       "2             -1     60  8.155463e+06   05:30:00   15:30:00    2003  \n",
       "3              1     60  8.155463e+06   15:30:00   18:00:00    2003  \n",
       "4              1     60  8.155463e+06   18:00:00   18:05:00    2003  \n",
       "...          ...    ...           ...        ...        ...     ...  \n",
       "4121278        1     45  1.072172e+07   13:52:00   15:30:00    2019  \n",
       "4121279       13     45  1.072172e+07   15:30:00   16:00:00    2019  \n",
       "4121280        3     45  1.072172e+07   16:00:00   22:30:00    2019  \n",
       "4121281       13     45  1.072172e+07   22:30:00   23:00:00    2019  \n",
       "4121282       -1     45  1.072172e+07   23:00:00   09:00:00    2019  \n",
       "\n",
       "[2936473 rows x 12 columns]"
      ]
     },
     "execution_count": 6,
     "metadata": {},
     "output_type": "execute_result"
    }
   ],
   "source": [
    "#p25_64_codes = [3,4] # 3= Age Between 25 and 64  - on layoff, 3 = Age Between 25 and 64  - looking\n",
    "#multi_merged_p25_64 = multi_merged[multi_merged[\"TELFS\"].isin(p25_64_codes)]\n",
    "#multi_merged_p25_64[\"TELFS\"].unique()\n",
    "\n",
    "multi_merged_p25_64 = multi_merged[(multi_merged[\"TEAGE\"] >= 25) & (multi_merged[\"TEAGE\"] <= 64)]\n",
    "multi_merged_p25_64"
   ]
  },
  {
   "cell_type": "code",
   "execution_count": 7,
   "metadata": {},
   "outputs": [
    {
     "data": {
      "text/plain": [
       "55122702385.53839"
      ]
     },
     "execution_count": 7,
     "metadata": {},
     "output_type": "execute_result"
    }
   ],
   "source": [
    "p25_64_2003 = multi_merged_p25_64[multi_merged_p25_64[\"TUCASEID\"].apply(str).str.startswith(\"2003\")]\n",
    "atus_2003_p25_64_weight = p25_64_2003.drop_duplicates(subset=[\"TUCASEID\"])\n",
    "atus_2003_p25_64_weight = atus_2003_p25_64_weight[\"TUFNWGTP\"].sum()\n",
    "atus_2003_p25_64_weight"
   ]
  },
  {
   "cell_type": "markdown",
   "metadata": {},
   "source": [
    "## 2003-2019 Residential - Age Between 25 and 64 "
   ]
  },
  {
   "cell_type": "code",
   "execution_count": 8,
   "metadata": {},
   "outputs": [],
   "source": [
    "#only residential location from 2003-2019\n",
    "residential_location = [-1,1,3]\n",
    "atus_multi_yr_res_p25_64 = multi_merged_p25_64[multi_merged_p25_64[\"TEWHERE\"].isin(residential_location)]\n",
    "#atus_multi_yr_res_p25_64"
   ]
  },
  {
   "cell_type": "code",
   "execution_count": 9,
   "metadata": {},
   "outputs": [],
   "source": [
    "#atus residential year seperation by p25_64 population \n",
    "atus_2003_res_p25_64 = atus_multi_yr_res_p25_64[atus_multi_yr_res_p25_64[\"TUCASEID\"].apply(str).str.startswith(\"2003\")]\n",
    "atus_2004_res_p25_64 = atus_multi_yr_res_p25_64[atus_multi_yr_res_p25_64[\"TUCASEID\"].apply(str).str.startswith(\"2004\")]\n",
    "atus_2005_res_p25_64 = atus_multi_yr_res_p25_64[atus_multi_yr_res_p25_64[\"TUCASEID\"].apply(str).str.startswith(\"2005\")]\n",
    "atus_2006_res_p25_64 = atus_multi_yr_res_p25_64[atus_multi_yr_res_p25_64[\"TUCASEID\"].apply(str).str.startswith(\"2006\")]\n",
    "atus_2007_res_p25_64 = atus_multi_yr_res_p25_64[atus_multi_yr_res_p25_64[\"TUCASEID\"].apply(str).str.startswith(\"2007\")]\n",
    "atus_2008_res_p25_64 = atus_multi_yr_res_p25_64[atus_multi_yr_res_p25_64[\"TUCASEID\"].apply(str).str.startswith(\"2008\")]\n",
    "atus_2009_res_p25_64 = atus_multi_yr_res_p25_64[atus_multi_yr_res_p25_64[\"TUCASEID\"].apply(str).str.startswith(\"2009\")]\n",
    "atus_2010_res_p25_64 = atus_multi_yr_res_p25_64[atus_multi_yr_res_p25_64[\"TUCASEID\"].apply(str).str.startswith(\"2010\")]\n",
    "atus_2011_res_p25_64 = atus_multi_yr_res_p25_64[atus_multi_yr_res_p25_64[\"TUCASEID\"].apply(str).str.startswith(\"2011\")]\n",
    "atus_2012_res_p25_64 = atus_multi_yr_res_p25_64[atus_multi_yr_res_p25_64[\"TUCASEID\"].apply(str).str.startswith(\"2012\")]\n",
    "atus_2013_res_p25_64 = atus_multi_yr_res_p25_64[atus_multi_yr_res_p25_64[\"TUCASEID\"].apply(str).str.startswith(\"2013\")]\n",
    "atus_2014_res_p25_64 = atus_multi_yr_res_p25_64[atus_multi_yr_res_p25_64[\"TUCASEID\"].apply(str).str.startswith(\"2014\")]\n",
    "atus_2015_res_p25_64 = atus_multi_yr_res_p25_64[atus_multi_yr_res_p25_64[\"TUCASEID\"].apply(str).str.startswith(\"2015\")]\n",
    "atus_2016_res_p25_64 = atus_multi_yr_res_p25_64[atus_multi_yr_res_p25_64[\"TUCASEID\"].apply(str).str.startswith(\"2016\")]\n",
    "atus_2017_res_p25_64 = atus_multi_yr_res_p25_64[atus_multi_yr_res_p25_64[\"TUCASEID\"].apply(str).str.startswith(\"2017\")]\n",
    "atus_2018_res_p25_64 = atus_multi_yr_res_p25_64[atus_multi_yr_res_p25_64[\"TUCASEID\"].apply(str).str.startswith(\"2018\")]\n",
    "atus_2019_res_p25_64 = atus_multi_yr_res_p25_64[atus_multi_yr_res_p25_64[\"TUCASEID\"].apply(str).str.startswith(\"2019\")]\n",
    "#atus_2003_res_p25_64.head(30)"
   ]
  },
  {
   "cell_type": "code",
   "execution_count": null,
   "metadata": {},
   "outputs": [],
   "source": []
  },
  {
   "cell_type": "markdown",
   "metadata": {},
   "source": [
    "### 2003 All Residential Activities - Age Between 25 and 64  Population"
   ]
  },
  {
   "cell_type": "code",
   "execution_count": 10,
   "metadata": {},
   "outputs": [
    {
     "data": {
      "text/html": [
       "<div>\n",
       "<style scoped>\n",
       "    .dataframe tbody tr th:only-of-type {\n",
       "        vertical-align: middle;\n",
       "    }\n",
       "\n",
       "    .dataframe tbody tr th {\n",
       "        vertical-align: top;\n",
       "    }\n",
       "\n",
       "    .dataframe thead th {\n",
       "        text-align: right;\n",
       "    }\n",
       "</style>\n",
       "<table border=\"1\" class=\"dataframe\">\n",
       "  <thead>\n",
       "    <tr style=\"text-align: right;\">\n",
       "      <th></th>\n",
       "      <th>TUACTDUR24</th>\n",
       "    </tr>\n",
       "    <tr>\n",
       "      <th>TUCASEID</th>\n",
       "      <th></th>\n",
       "    </tr>\n",
       "  </thead>\n",
       "  <tbody>\n",
       "    <tr>\n",
       "      <th>20030100013280</th>\n",
       "      <td>1240</td>\n",
       "    </tr>\n",
       "    <tr>\n",
       "      <th>20030100013344</th>\n",
       "      <td>1420</td>\n",
       "    </tr>\n",
       "    <tr>\n",
       "      <th>20030100013352</th>\n",
       "      <td>1370</td>\n",
       "    </tr>\n",
       "    <tr>\n",
       "      <th>20030100013848</th>\n",
       "      <td>1440</td>\n",
       "    </tr>\n",
       "    <tr>\n",
       "      <th>20030100014165</th>\n",
       "      <td>677</td>\n",
       "    </tr>\n",
       "    <tr>\n",
       "      <th>...</th>\n",
       "      <td>...</td>\n",
       "    </tr>\n",
       "    <tr>\n",
       "      <th>20031212033591</th>\n",
       "      <td>1230</td>\n",
       "    </tr>\n",
       "    <tr>\n",
       "      <th>20031212033597</th>\n",
       "      <td>907</td>\n",
       "    </tr>\n",
       "    <tr>\n",
       "      <th>20031212033621</th>\n",
       "      <td>872</td>\n",
       "    </tr>\n",
       "    <tr>\n",
       "      <th>20031212033636</th>\n",
       "      <td>1185</td>\n",
       "    </tr>\n",
       "    <tr>\n",
       "      <th>20031212033642</th>\n",
       "      <td>1440</td>\n",
       "    </tr>\n",
       "  </tbody>\n",
       "</table>\n",
       "<p>14774 rows × 1 columns</p>\n",
       "</div>"
      ],
      "text/plain": [
       "                TUACTDUR24\n",
       "TUCASEID                  \n",
       "20030100013280        1240\n",
       "20030100013344        1420\n",
       "20030100013352        1370\n",
       "20030100013848        1440\n",
       "20030100014165         677\n",
       "...                    ...\n",
       "20031212033591        1230\n",
       "20031212033597         907\n",
       "20031212033621         872\n",
       "20031212033636        1185\n",
       "20031212033642        1440\n",
       "\n",
       "[14774 rows x 1 columns]"
      ]
     },
     "execution_count": 10,
     "metadata": {},
     "output_type": "execute_result"
    }
   ],
   "source": [
    "atus_2003_all_res_p25_64 = atus_2003_res_p25_64.groupby([\"TUCASEID\"]).sum().filter([\"TUCASEID\", \"TUACTDUR24\"])\n",
    "atus_2003_all_res_p25_64"
   ]
  },
  {
   "cell_type": "code",
   "execution_count": 11,
   "metadata": {},
   "outputs": [
    {
     "data": {
      "text/html": [
       "<div>\n",
       "<style scoped>\n",
       "    .dataframe tbody tr th:only-of-type {\n",
       "        vertical-align: middle;\n",
       "    }\n",
       "\n",
       "    .dataframe tbody tr th {\n",
       "        vertical-align: top;\n",
       "    }\n",
       "\n",
       "    .dataframe thead th {\n",
       "        text-align: right;\n",
       "    }\n",
       "</style>\n",
       "<table border=\"1\" class=\"dataframe\">\n",
       "  <thead>\n",
       "    <tr style=\"text-align: right;\">\n",
       "      <th></th>\n",
       "      <th>TUCASEID</th>\n",
       "      <th>TUACTDUR24</th>\n",
       "      <th>TUFNWGTP</th>\n",
       "    </tr>\n",
       "  </thead>\n",
       "  <tbody>\n",
       "    <tr>\n",
       "      <th>0</th>\n",
       "      <td>20030100013280</td>\n",
       "      <td>1240</td>\n",
       "      <td>8.155463e+06</td>\n",
       "    </tr>\n",
       "    <tr>\n",
       "      <th>1</th>\n",
       "      <td>20030100013344</td>\n",
       "      <td>1420</td>\n",
       "      <td>1.735323e+06</td>\n",
       "    </tr>\n",
       "    <tr>\n",
       "      <th>2</th>\n",
       "      <td>20030100013352</td>\n",
       "      <td>1370</td>\n",
       "      <td>3.830527e+06</td>\n",
       "    </tr>\n",
       "    <tr>\n",
       "      <th>3</th>\n",
       "      <td>20030100013848</td>\n",
       "      <td>1440</td>\n",
       "      <td>6.622023e+06</td>\n",
       "    </tr>\n",
       "    <tr>\n",
       "      <th>4</th>\n",
       "      <td>20030100014165</td>\n",
       "      <td>677</td>\n",
       "      <td>3.068387e+06</td>\n",
       "    </tr>\n",
       "    <tr>\n",
       "      <th>...</th>\n",
       "      <td>...</td>\n",
       "      <td>...</td>\n",
       "      <td>...</td>\n",
       "    </tr>\n",
       "    <tr>\n",
       "      <th>14769</th>\n",
       "      <td>20031212033591</td>\n",
       "      <td>1230</td>\n",
       "      <td>1.731625e+06</td>\n",
       "    </tr>\n",
       "    <tr>\n",
       "      <th>14770</th>\n",
       "      <td>20031212033597</td>\n",
       "      <td>907</td>\n",
       "      <td>3.575899e+06</td>\n",
       "    </tr>\n",
       "    <tr>\n",
       "      <th>14771</th>\n",
       "      <td>20031212033621</td>\n",
       "      <td>872</td>\n",
       "      <td>6.004256e+06</td>\n",
       "    </tr>\n",
       "    <tr>\n",
       "      <th>14772</th>\n",
       "      <td>20031212033636</td>\n",
       "      <td>1185</td>\n",
       "      <td>1.402276e+06</td>\n",
       "    </tr>\n",
       "    <tr>\n",
       "      <th>14773</th>\n",
       "      <td>20031212033642</td>\n",
       "      <td>1440</td>\n",
       "      <td>6.374127e+06</td>\n",
       "    </tr>\n",
       "  </tbody>\n",
       "</table>\n",
       "<p>14774 rows × 3 columns</p>\n",
       "</div>"
      ],
      "text/plain": [
       "             TUCASEID  TUACTDUR24      TUFNWGTP\n",
       "0      20030100013280        1240  8.155463e+06\n",
       "1      20030100013344        1420  1.735323e+06\n",
       "2      20030100013352        1370  3.830527e+06\n",
       "3      20030100013848        1440  6.622023e+06\n",
       "4      20030100014165         677  3.068387e+06\n",
       "...               ...         ...           ...\n",
       "14769  20031212033591        1230  1.731625e+06\n",
       "14770  20031212033597         907  3.575899e+06\n",
       "14771  20031212033621         872  6.004256e+06\n",
       "14772  20031212033636        1185  1.402276e+06\n",
       "14773  20031212033642        1440  6.374127e+06\n",
       "\n",
       "[14774 rows x 3 columns]"
      ]
     },
     "execution_count": 11,
     "metadata": {},
     "output_type": "execute_result"
    }
   ],
   "source": [
    "atus_2003_all_res_p25_64_merge = pd.merge(atus_2003_all_res_p25_64, multi_resp, on= \"TUCASEID\").filter([\"TUCASEID\",\"TUACTDUR24\",\"TUFNWGTP\"])\n",
    "atus_2003_all_res_p25_64_merge"
   ]
  },
  {
   "cell_type": "code",
   "execution_count": 12,
   "metadata": {},
   "outputs": [],
   "source": [
    "atus_2003_all_res_p25_64_merge[\"Multiplied Weight\"] = atus_2003_all_res_p25_64_merge[\"TUACTDUR24\"] * atus_2003_all_res_p25_64_merge[\"TUFNWGTP\"]\n",
    "#atus_2003_all_res_p25_64_merge"
   ]
  },
  {
   "cell_type": "code",
   "execution_count": 13,
   "metadata": {},
   "outputs": [
    {
     "data": {
      "text/plain": [
       "55368017493239.59"
      ]
     },
     "execution_count": 13,
     "metadata": {},
     "output_type": "execute_result"
    }
   ],
   "source": [
    "atus_2003_all_res_p25_64_multiplied_weight = atus_2003_all_res_p25_64_merge[\"Multiplied Weight\"].sum()\n",
    "atus_2003_all_res_p25_64_multiplied_weight"
   ]
  },
  {
   "cell_type": "code",
   "execution_count": 14,
   "metadata": {},
   "outputs": [
    {
     "data": {
      "text/plain": [
       "55122702385.53839"
      ]
     },
     "execution_count": 14,
     "metadata": {},
     "output_type": "execute_result"
    }
   ],
   "source": [
    "p25_64_2003 = multi_merged_p25_64[multi_merged_p25_64[\"TUCASEID\"].apply(str).str.startswith(\"2003\")]\n",
    "atus_2003_p25_64_weight = p25_64_2003.drop_duplicates(subset=[\"TUCASEID\"])\n",
    "atus_2003_p25_64_weight = atus_2003_p25_64_weight[\"TUFNWGTP\"].sum()\n",
    "atus_2003_p25_64_weight"
   ]
  },
  {
   "cell_type": "code",
   "execution_count": 15,
   "metadata": {},
   "outputs": [
    {
     "data": {
      "text/plain": [
       "16.740839102911846"
      ]
     },
     "execution_count": 15,
     "metadata": {},
     "output_type": "execute_result"
    }
   ],
   "source": [
    "all_act_2003_res_p25_64_hpd = atus_2003_all_res_p25_64_multiplied_weight / atus_2003_p25_64_weight / 60\n",
    "all_act_2003_res_p25_64_hpd"
   ]
  },
  {
   "cell_type": "markdown",
   "metadata": {},
   "source": [
    "### 2004 All Residential Activities - Age Between 25 and 64  Population"
   ]
  },
  {
   "cell_type": "code",
   "execution_count": 16,
   "metadata": {},
   "outputs": [],
   "source": [
    "atus_2004_all_res_p25_64 = atus_2004_res_p25_64.groupby([\"TUCASEID\"]).sum().filter([\"TUCASEID\", \"TUACTDUR24\"])\n",
    "#atus_2004_all_res_p25_64"
   ]
  },
  {
   "cell_type": "code",
   "execution_count": 17,
   "metadata": {},
   "outputs": [],
   "source": [
    "atus_2004_all_res_p25_64_merge = pd.merge(atus_2004_all_res_p25_64, multi_resp, on= \"TUCASEID\").filter([\"TUCASEID\",\"TUACTDUR24\",\"TUFNWGTP\"])\n",
    "atus_2004_all_res_p25_64_merge[\"Multiplied Weight\"] = atus_2004_all_res_p25_64_merge[\"TUACTDUR24\"] * atus_2004_all_res_p25_64_merge[\"TUFNWGTP\"]\n",
    "#atus_2004_all_res_p25_64_merge"
   ]
  },
  {
   "cell_type": "code",
   "execution_count": 18,
   "metadata": {},
   "outputs": [],
   "source": [
    "p25_64_2004 = multi_merged_p25_64[multi_merged_p25_64[\"TUCASEID\"].apply(str).str.startswith(\"2004\")]\n",
    "atus_2004_p25_64_weight = p25_64_2004.drop_duplicates(subset=[\"TUCASEID\"])\n",
    "atus_2004_p25_64_weight = atus_2004_p25_64_weight[\"TUFNWGTP\"].sum()\n",
    "\n",
    "atus_2004_all_res_p25_64_multiplied_weight = atus_2004_all_res_p25_64_merge[\"Multiplied Weight\"].sum()"
   ]
  },
  {
   "cell_type": "code",
   "execution_count": 19,
   "metadata": {},
   "outputs": [
    {
     "data": {
      "text/plain": [
       "16.75057902276908"
      ]
     },
     "execution_count": 19,
     "metadata": {},
     "output_type": "execute_result"
    }
   ],
   "source": [
    "all_act_2004_res_p25_64_hpd = atus_2004_all_res_p25_64_multiplied_weight / atus_2004_p25_64_weight / 60\n",
    "all_act_2004_res_p25_64_hpd"
   ]
  },
  {
   "cell_type": "markdown",
   "metadata": {},
   "source": [
    "### 2005 All Residential Activities - Age Between 25 and 64  Population"
   ]
  },
  {
   "cell_type": "code",
   "execution_count": 20,
   "metadata": {},
   "outputs": [],
   "source": [
    "atus_2005_all_res_p25_64 = atus_2005_res_p25_64.groupby([\"TUCASEID\"]).sum().filter([\"TUCASEID\", \"TUACTDUR24\"])\n",
    "#atus_2005_all_res_p25_64"
   ]
  },
  {
   "cell_type": "code",
   "execution_count": 21,
   "metadata": {},
   "outputs": [],
   "source": [
    "atus_2005_all_res_p25_64_merge = pd.merge(atus_2005_all_res_p25_64, multi_resp, on= \"TUCASEID\").filter([\"TUCASEID\",\"TUACTDUR24\",\"TUFNWGTP\"])\n",
    "atus_2005_all_res_p25_64_merge[\"Multiplied Weight\"] = atus_2005_all_res_p25_64_merge[\"TUACTDUR24\"] * atus_2005_all_res_p25_64_merge[\"TUFNWGTP\"]\n",
    "#atus_2005_all_res_p25_64_merge"
   ]
  },
  {
   "cell_type": "code",
   "execution_count": 22,
   "metadata": {},
   "outputs": [],
   "source": [
    "p25_64_2005 = multi_merged_p25_64[multi_merged_p25_64[\"TUCASEID\"].apply(str).str.startswith(\"2005\")]\n",
    "atus_2005_p25_64_weight = p25_64_2005.drop_duplicates(subset=[\"TUCASEID\"])\n",
    "atus_2005_p25_64_weight = atus_2005_p25_64_weight[\"TUFNWGTP\"].sum()\n",
    "\n",
    "atus_2005_all_res_p25_64_multiplied_weight = atus_2005_all_res_p25_64_merge[\"Multiplied Weight\"].sum()"
   ]
  },
  {
   "cell_type": "code",
   "execution_count": 23,
   "metadata": {},
   "outputs": [
    {
     "data": {
      "text/plain": [
       "16.773331494431346"
      ]
     },
     "execution_count": 23,
     "metadata": {},
     "output_type": "execute_result"
    }
   ],
   "source": [
    "all_act_2005_res_p25_64_hpd = atus_2005_all_res_p25_64_multiplied_weight / atus_2005_p25_64_weight / 60\n",
    "all_act_2005_res_p25_64_hpd"
   ]
  },
  {
   "cell_type": "markdown",
   "metadata": {},
   "source": [
    "### 2006 All Residential Activities - Age Between 25 and 64  Population"
   ]
  },
  {
   "cell_type": "code",
   "execution_count": 24,
   "metadata": {},
   "outputs": [],
   "source": [
    "atus_2006_all_res_p25_64 = atus_2006_res_p25_64.groupby([\"TUCASEID\"]).sum().filter([\"TUCASEID\", \"TUACTDUR24\"])\n",
    "#atus_2006_all_res_p25_64"
   ]
  },
  {
   "cell_type": "code",
   "execution_count": 25,
   "metadata": {},
   "outputs": [],
   "source": [
    "atus_2006_all_res_p25_64_merge = pd.merge(atus_2006_all_res_p25_64, multi_resp, on= \"TUCASEID\").filter([\"TUCASEID\",\"TUACTDUR24\",\"TUFNWGTP\"])\n",
    "atus_2006_all_res_p25_64_merge[\"Multiplied Weight\"] = atus_2006_all_res_p25_64_merge[\"TUACTDUR24\"] * atus_2006_all_res_p25_64_merge[\"TUFNWGTP\"]\n",
    "#atus_2006_all_res_p25_64_merge"
   ]
  },
  {
   "cell_type": "code",
   "execution_count": 26,
   "metadata": {},
   "outputs": [],
   "source": [
    "p25_64_2006 = multi_merged_p25_64[multi_merged_p25_64[\"TUCASEID\"].apply(str).str.startswith(\"2006\")]\n",
    "atus_2006_p25_64_weight = p25_64_2006.drop_duplicates(subset=[\"TUCASEID\"])\n",
    "atus_2006_p25_64_weight = atus_2006_p25_64_weight[\"TUFNWGTP\"].sum()\n",
    "\n",
    "atus_2006_all_res_p25_64_multiplied_weight = atus_2006_all_res_p25_64_merge[\"Multiplied Weight\"].sum()"
   ]
  },
  {
   "cell_type": "code",
   "execution_count": 27,
   "metadata": {},
   "outputs": [
    {
     "data": {
      "text/plain": [
       "16.7303037220374"
      ]
     },
     "execution_count": 27,
     "metadata": {},
     "output_type": "execute_result"
    }
   ],
   "source": [
    "all_act_2006_res_p25_64_hpd = atus_2006_all_res_p25_64_multiplied_weight / atus_2006_p25_64_weight / 60\n",
    "all_act_2006_res_p25_64_hpd"
   ]
  },
  {
   "cell_type": "markdown",
   "metadata": {},
   "source": [
    "### 2007 All Residential Activities - Age Between 25 and 64  Population"
   ]
  },
  {
   "cell_type": "code",
   "execution_count": 28,
   "metadata": {},
   "outputs": [],
   "source": [
    "atus_2007_all_res_p25_64 = atus_2007_res_p25_64.groupby([\"TUCASEID\"]).sum().filter([\"TUCASEID\", \"TUACTDUR24\"])\n",
    "#atus_2007_all_res_p25_64"
   ]
  },
  {
   "cell_type": "code",
   "execution_count": 29,
   "metadata": {},
   "outputs": [],
   "source": [
    "atus_2007_all_res_p25_64_merge = pd.merge(atus_2007_all_res_p25_64, multi_resp, on= \"TUCASEID\").filter([\"TUCASEID\",\"TUACTDUR24\",\"TUFNWGTP\"])\n",
    "atus_2007_all_res_p25_64_merge[\"Multiplied Weight\"] = atus_2007_all_res_p25_64_merge[\"TUACTDUR24\"] * atus_2007_all_res_p25_64_merge[\"TUFNWGTP\"]\n",
    "#atus_2007_all_res_p25_64_merge"
   ]
  },
  {
   "cell_type": "code",
   "execution_count": 30,
   "metadata": {},
   "outputs": [],
   "source": [
    "p25_64_2007 = multi_merged_p25_64[multi_merged_p25_64[\"TUCASEID\"].apply(str).str.startswith(\"2007\")]\n",
    "atus_2007_p25_64_weight = p25_64_2007.drop_duplicates(subset=[\"TUCASEID\"])\n",
    "atus_2007_p25_64_weight = atus_2007_p25_64_weight[\"TUFNWGTP\"].sum()\n",
    "\n",
    "atus_2007_all_res_p25_64_multiplied_weight = atus_2007_all_res_p25_64_merge[\"Multiplied Weight\"].sum()"
   ]
  },
  {
   "cell_type": "code",
   "execution_count": 31,
   "metadata": {},
   "outputs": [
    {
     "data": {
      "text/plain": [
       "16.78903176097087"
      ]
     },
     "execution_count": 31,
     "metadata": {},
     "output_type": "execute_result"
    }
   ],
   "source": [
    "all_act_2007_res_p25_64_hpd = atus_2007_all_res_p25_64_multiplied_weight / atus_2007_p25_64_weight / 60\n",
    "all_act_2007_res_p25_64_hpd"
   ]
  },
  {
   "cell_type": "markdown",
   "metadata": {},
   "source": [
    "### 2008 All Residential Activities - Age Between 25 and 64  Population"
   ]
  },
  {
   "cell_type": "code",
   "execution_count": 32,
   "metadata": {},
   "outputs": [],
   "source": [
    "atus_2008_all_res_p25_64 = atus_2008_res_p25_64.groupby([\"TUCASEID\"]).sum().filter([\"TUCASEID\", \"TUACTDUR24\"])\n",
    "#atus_2008_all_res_p25_64"
   ]
  },
  {
   "cell_type": "code",
   "execution_count": 33,
   "metadata": {},
   "outputs": [],
   "source": [
    "atus_2008_all_res_p25_64_merge = pd.merge(atus_2008_all_res_p25_64, multi_resp, on= \"TUCASEID\").filter([\"TUCASEID\",\"TUACTDUR24\",\"TUFNWGTP\"])\n",
    "atus_2008_all_res_p25_64_merge[\"Multiplied Weight\"] = atus_2008_all_res_p25_64_merge[\"TUACTDUR24\"] * atus_2008_all_res_p25_64_merge[\"TUFNWGTP\"]\n",
    "#atus_2008_all_res_p25_64_merge"
   ]
  },
  {
   "cell_type": "code",
   "execution_count": 34,
   "metadata": {},
   "outputs": [],
   "source": [
    "p25_64_2008 = multi_merged_p25_64[multi_merged_p25_64[\"TUCASEID\"].apply(str).str.startswith(\"2008\")]\n",
    "atus_2008_p25_64_weight = p25_64_2008.drop_duplicates(subset=[\"TUCASEID\"])\n",
    "atus_2008_p25_64_weight = atus_2008_p25_64_weight[\"TUFNWGTP\"].sum()\n",
    "\n",
    "atus_2008_all_res_p25_64_multiplied_weight = atus_2008_all_res_p25_64_merge[\"Multiplied Weight\"].sum()"
   ]
  },
  {
   "cell_type": "code",
   "execution_count": 35,
   "metadata": {},
   "outputs": [
    {
     "data": {
      "text/plain": [
       "16.96508978153347"
      ]
     },
     "execution_count": 35,
     "metadata": {},
     "output_type": "execute_result"
    }
   ],
   "source": [
    "all_act_2008_res_p25_64_hpd = atus_2008_all_res_p25_64_multiplied_weight / atus_2008_p25_64_weight / 60\n",
    "all_act_2008_res_p25_64_hpd"
   ]
  },
  {
   "cell_type": "markdown",
   "metadata": {},
   "source": [
    "### 2009 All Residential Activities - Age Between 25 and 64  Population"
   ]
  },
  {
   "cell_type": "code",
   "execution_count": 36,
   "metadata": {},
   "outputs": [],
   "source": [
    "atus_2009_all_res_p25_64 = atus_2009_res_p25_64.groupby([\"TUCASEID\"]).sum().filter([\"TUCASEID\", \"TUACTDUR24\"])\n",
    "#atus_2009_all_res_p25_64"
   ]
  },
  {
   "cell_type": "code",
   "execution_count": 37,
   "metadata": {},
   "outputs": [],
   "source": [
    "atus_2009_all_res_p25_64_merge = pd.merge(atus_2009_all_res_p25_64, multi_resp, on= \"TUCASEID\").filter([\"TUCASEID\",\"TUACTDUR24\",\"TUFNWGTP\"])\n",
    "atus_2009_all_res_p25_64_merge[\"Multiplied Weight\"] = atus_2009_all_res_p25_64_merge[\"TUACTDUR24\"] * atus_2009_all_res_p25_64_merge[\"TUFNWGTP\"]\n",
    "#atus_2009_all_res_p25_64_merge"
   ]
  },
  {
   "cell_type": "code",
   "execution_count": 38,
   "metadata": {},
   "outputs": [],
   "source": [
    "p25_64_2009 = multi_merged_p25_64[multi_merged_p25_64[\"TUCASEID\"].apply(str).str.startswith(\"2009\")]\n",
    "atus_2009_p25_64_weight = p25_64_2009.drop_duplicates(subset=[\"TUCASEID\"])\n",
    "atus_2009_p25_64_weight = atus_2009_p25_64_weight[\"TUFNWGTP\"].sum()\n",
    "\n",
    "atus_2009_all_res_p25_64_multiplied_weight = atus_2009_all_res_p25_64_merge[\"Multiplied Weight\"].sum()"
   ]
  },
  {
   "cell_type": "code",
   "execution_count": 39,
   "metadata": {},
   "outputs": [
    {
     "data": {
      "text/plain": [
       "17.154522304191467"
      ]
     },
     "execution_count": 39,
     "metadata": {},
     "output_type": "execute_result"
    }
   ],
   "source": [
    "all_act_2009_res_p25_64_hpd = atus_2009_all_res_p25_64_multiplied_weight / atus_2009_p25_64_weight / 60\n",
    "all_act_2009_res_p25_64_hpd"
   ]
  },
  {
   "cell_type": "markdown",
   "metadata": {},
   "source": [
    "### 2010 All Residential Activities - Age Between 25 and 64  Population"
   ]
  },
  {
   "cell_type": "code",
   "execution_count": 40,
   "metadata": {},
   "outputs": [],
   "source": [
    "atus_2010_all_res_p25_64 = atus_2010_res_p25_64.groupby([\"TUCASEID\"]).sum().filter([\"TUCASEID\", \"TUACTDUR24\"])\n",
    "#atus_2010_all_res_p25_64"
   ]
  },
  {
   "cell_type": "code",
   "execution_count": 41,
   "metadata": {},
   "outputs": [],
   "source": [
    "atus_2010_all_res_p25_64_merge = pd.merge(atus_2010_all_res_p25_64, multi_resp, on= \"TUCASEID\").filter([\"TUCASEID\",\"TUACTDUR24\",\"TUFNWGTP\"])\n",
    "atus_2010_all_res_p25_64_merge[\"Multiplied Weight\"] = atus_2010_all_res_p25_64_merge[\"TUACTDUR24\"] * atus_2010_all_res_p25_64_merge[\"TUFNWGTP\"]\n",
    "#atus_2010_all_res_p25_64_merge"
   ]
  },
  {
   "cell_type": "code",
   "execution_count": 42,
   "metadata": {},
   "outputs": [],
   "source": [
    "p25_64_2010 = multi_merged_p25_64[multi_merged_p25_64[\"TUCASEID\"].apply(str).str.startswith(\"2010\")]\n",
    "atus_2010_p25_64_weight = p25_64_2010.drop_duplicates(subset=[\"TUCASEID\"])\n",
    "atus_2010_p25_64_weight = atus_2010_p25_64_weight[\"TUFNWGTP\"].sum()\n",
    "\n",
    "atus_2010_all_res_p25_64_multiplied_weight = atus_2010_all_res_p25_64_merge[\"Multiplied Weight\"].sum()"
   ]
  },
  {
   "cell_type": "code",
   "execution_count": 43,
   "metadata": {},
   "outputs": [
    {
     "data": {
      "text/plain": [
       "17.073206676348093"
      ]
     },
     "execution_count": 43,
     "metadata": {},
     "output_type": "execute_result"
    }
   ],
   "source": [
    "all_act_2010_res_p25_64_hpd = atus_2010_all_res_p25_64_multiplied_weight / atus_2010_p25_64_weight / 60\n",
    "all_act_2010_res_p25_64_hpd"
   ]
  },
  {
   "cell_type": "markdown",
   "metadata": {},
   "source": [
    "### 2011 All Residential Activities - Age Between 25 and 64  Population"
   ]
  },
  {
   "cell_type": "code",
   "execution_count": 44,
   "metadata": {},
   "outputs": [],
   "source": [
    "atus_2011_all_res_p25_64 = atus_2011_res_p25_64.groupby([\"TUCASEID\"]).sum().filter([\"TUCASEID\", \"TUACTDUR24\"])\n",
    "#atus_2011_all_res_p25_64"
   ]
  },
  {
   "cell_type": "code",
   "execution_count": 45,
   "metadata": {},
   "outputs": [],
   "source": [
    "atus_2011_all_res_p25_64_merge = pd.merge(atus_2011_all_res_p25_64, multi_resp, on= \"TUCASEID\").filter([\"TUCASEID\",\"TUACTDUR24\",\"TUFNWGTP\"])\n",
    "atus_2011_all_res_p25_64_merge[\"Multiplied Weight\"] = atus_2011_all_res_p25_64_merge[\"TUACTDUR24\"] * atus_2011_all_res_p25_64_merge[\"TUFNWGTP\"]\n",
    "#atus_2011_all_res_p25_64_merge"
   ]
  },
  {
   "cell_type": "code",
   "execution_count": 46,
   "metadata": {},
   "outputs": [],
   "source": [
    "atus_2011_all_res_p25_64_merge = pd.merge(atus_2011_all_res_p25_64, multi_resp, on= \"TUCASEID\").filter([\"TUCASEID\",\"TUACTDUR24\",\"TUFNWGTP\"])\n",
    "atus_2011_all_res_p25_64_merge[\"Multiplied Weight\"] = atus_2011_all_res_p25_64_merge[\"TUACTDUR24\"] * atus_2011_all_res_p25_64_merge[\"TUFNWGTP\"]\n",
    "#atus_2011_all_res_p25_64_merge"
   ]
  },
  {
   "cell_type": "code",
   "execution_count": 47,
   "metadata": {},
   "outputs": [],
   "source": [
    "p25_64_2011 = multi_merged_p25_64[multi_merged_p25_64[\"TUCASEID\"].apply(str).str.startswith(\"2011\")]\n",
    "atus_2011_p25_64_weight = p25_64_2011.drop_duplicates(subset=[\"TUCASEID\"])\n",
    "atus_2011_p25_64_weight = atus_2011_p25_64_weight[\"TUFNWGTP\"].sum()\n",
    "\n",
    "atus_2011_all_res_p25_64_multiplied_weight = atus_2011_all_res_p25_64_merge[\"Multiplied Weight\"].sum()"
   ]
  },
  {
   "cell_type": "code",
   "execution_count": 48,
   "metadata": {},
   "outputs": [
    {
     "data": {
      "text/plain": [
       "17.070960967752477"
      ]
     },
     "execution_count": 48,
     "metadata": {},
     "output_type": "execute_result"
    }
   ],
   "source": [
    "all_act_2011_res_p25_64_hpd = atus_2011_all_res_p25_64_multiplied_weight / atus_2011_p25_64_weight / 60\n",
    "all_act_2011_res_p25_64_hpd"
   ]
  },
  {
   "cell_type": "markdown",
   "metadata": {},
   "source": [
    "### 2012 All Residential Activities - Age Between 25 and 64  Population"
   ]
  },
  {
   "cell_type": "code",
   "execution_count": 49,
   "metadata": {},
   "outputs": [],
   "source": [
    "atus_2012_all_res_p25_64 = atus_2012_res_p25_64.groupby([\"TUCASEID\"]).sum().filter([\"TUCASEID\", \"TUACTDUR24\"])\n",
    "#atus_2012_all_res_p25_64"
   ]
  },
  {
   "cell_type": "code",
   "execution_count": 50,
   "metadata": {},
   "outputs": [],
   "source": [
    "atus_2012_all_res_p25_64_merge = pd.merge(atus_2012_all_res_p25_64, multi_resp, on= \"TUCASEID\").filter([\"TUCASEID\",\"TUACTDUR24\",\"TUFNWGTP\"])\n",
    "atus_2012_all_res_p25_64_merge[\"Multiplied Weight\"] = atus_2012_all_res_p25_64_merge[\"TUACTDUR24\"] * atus_2012_all_res_p25_64_merge[\"TUFNWGTP\"]\n",
    "#atus_2012_all_res_p25_64_merge"
   ]
  },
  {
   "cell_type": "code",
   "execution_count": 51,
   "metadata": {},
   "outputs": [],
   "source": [
    "atus_2012_all_res_p25_64_merge = pd.merge(atus_2012_all_res_p25_64, multi_resp, on= \"TUCASEID\").filter([\"TUCASEID\",\"TUACTDUR24\",\"TUFNWGTP\"])\n",
    "atus_2012_all_res_p25_64_merge[\"Multiplied Weight\"] = atus_2012_all_res_p25_64_merge[\"TUACTDUR24\"] * atus_2012_all_res_p25_64_merge[\"TUFNWGTP\"]\n",
    "#atus_2012_all_res_p25_64_merge"
   ]
  },
  {
   "cell_type": "code",
   "execution_count": 52,
   "metadata": {},
   "outputs": [],
   "source": [
    "p25_64_2012 = multi_merged_p25_64[multi_merged_p25_64[\"TUCASEID\"].apply(str).str.startswith(\"2012\")]\n",
    "atus_2012_p25_64_weight = p25_64_2012.drop_duplicates(subset=[\"TUCASEID\"])\n",
    "atus_2012_p25_64_weight = atus_2012_p25_64_weight[\"TUFNWGTP\"].sum()\n",
    "\n",
    "atus_2012_all_res_p25_64_multiplied_weight = atus_2012_all_res_p25_64_merge[\"Multiplied Weight\"].sum()"
   ]
  },
  {
   "cell_type": "code",
   "execution_count": 53,
   "metadata": {},
   "outputs": [
    {
     "data": {
      "text/plain": [
       "17.100226602787206"
      ]
     },
     "execution_count": 53,
     "metadata": {},
     "output_type": "execute_result"
    }
   ],
   "source": [
    "all_act_2012_res_p25_64_hpd = atus_2012_all_res_p25_64_multiplied_weight / atus_2012_p25_64_weight / 60\n",
    "all_act_2012_res_p25_64_hpd"
   ]
  },
  {
   "cell_type": "markdown",
   "metadata": {},
   "source": [
    "### 2013 All Residential Activities - Age Between 25 and 64  Population"
   ]
  },
  {
   "cell_type": "code",
   "execution_count": 54,
   "metadata": {},
   "outputs": [],
   "source": [
    "atus_2013_all_res_p25_64 = atus_2013_res_p25_64.groupby([\"TUCASEID\"]).sum().filter([\"TUCASEID\", \"TUACTDUR24\"])\n",
    "#atus_2013_all_res_p25_64"
   ]
  },
  {
   "cell_type": "code",
   "execution_count": 55,
   "metadata": {},
   "outputs": [],
   "source": [
    "atus_2013_all_res_p25_64_merge = pd.merge(atus_2013_all_res_p25_64, multi_resp, on= \"TUCASEID\").filter([\"TUCASEID\",\"TUACTDUR24\",\"TUFNWGTP\"])\n",
    "atus_2013_all_res_p25_64_merge[\"Multiplied Weight\"] = atus_2013_all_res_p25_64_merge[\"TUACTDUR24\"] * atus_2013_all_res_p25_64_merge[\"TUFNWGTP\"]\n",
    "#atus_2013_all_res_p25_64_merge"
   ]
  },
  {
   "cell_type": "code",
   "execution_count": 56,
   "metadata": {},
   "outputs": [],
   "source": [
    "atus_2013_all_res_p25_64_merge = pd.merge(atus_2013_all_res_p25_64, multi_resp, on= \"TUCASEID\").filter([\"TUCASEID\",\"TUACTDUR24\",\"TUFNWGTP\"])\n",
    "atus_2013_all_res_p25_64_merge[\"Multiplied Weight\"] = atus_2013_all_res_p25_64_merge[\"TUACTDUR24\"] * atus_2013_all_res_p25_64_merge[\"TUFNWGTP\"]\n",
    "#atus_2013_all_res_p25_64_merge"
   ]
  },
  {
   "cell_type": "code",
   "execution_count": 57,
   "metadata": {},
   "outputs": [],
   "source": [
    "p25_64_2013 = multi_merged_p25_64[multi_merged_p25_64[\"TUCASEID\"].apply(str).str.startswith(\"2013\")]\n",
    "atus_2013_p25_64_weight = p25_64_2013.drop_duplicates(subset=[\"TUCASEID\"])\n",
    "atus_2013_p25_64_weight = atus_2013_p25_64_weight[\"TUFNWGTP\"].sum()\n",
    "\n",
    "atus_2013_all_res_p25_64_multiplied_weight = atus_2013_all_res_p25_64_merge[\"Multiplied Weight\"].sum()"
   ]
  },
  {
   "cell_type": "code",
   "execution_count": 58,
   "metadata": {},
   "outputs": [
    {
     "data": {
      "text/plain": [
       "17.205901604022397"
      ]
     },
     "execution_count": 58,
     "metadata": {},
     "output_type": "execute_result"
    }
   ],
   "source": [
    "all_act_2013_res_p25_64_hpd = atus_2013_all_res_p25_64_multiplied_weight / atus_2013_p25_64_weight / 60\n",
    "all_act_2013_res_p25_64_hpd"
   ]
  },
  {
   "cell_type": "markdown",
   "metadata": {},
   "source": [
    "### 2014 All Residential Activities - Age Between 25 and 64  Population"
   ]
  },
  {
   "cell_type": "code",
   "execution_count": 59,
   "metadata": {},
   "outputs": [],
   "source": [
    "atus_2014_all_res_p25_64 = atus_2014_res_p25_64.groupby([\"TUCASEID\"]).sum().filter([\"TUCASEID\", \"TUACTDUR24\"])\n",
    "#atus_2014_all_res_p25_64"
   ]
  },
  {
   "cell_type": "code",
   "execution_count": 60,
   "metadata": {},
   "outputs": [],
   "source": [
    "atus_2014_all_res_p25_64_merge = pd.merge(atus_2014_all_res_p25_64, multi_resp, on= \"TUCASEID\").filter([\"TUCASEID\",\"TUACTDUR24\",\"TUFNWGTP\"])\n",
    "atus_2014_all_res_p25_64_merge[\"Multiplied Weight\"] = atus_2014_all_res_p25_64_merge[\"TUACTDUR24\"] * atus_2014_all_res_p25_64_merge[\"TUFNWGTP\"]\n",
    "#atus_2014_all_res_p25_64_merge"
   ]
  },
  {
   "cell_type": "code",
   "execution_count": 61,
   "metadata": {},
   "outputs": [],
   "source": [
    "atus_2014_all_res_p25_64_merge = pd.merge(atus_2014_all_res_p25_64, multi_resp, on= \"TUCASEID\").filter([\"TUCASEID\",\"TUACTDUR24\",\"TUFNWGTP\"])\n",
    "atus_2014_all_res_p25_64_merge[\"Multiplied Weight\"] = atus_2014_all_res_p25_64_merge[\"TUACTDUR24\"] * atus_2014_all_res_p25_64_merge[\"TUFNWGTP\"]\n",
    "#atus_2014_all_res_p25_64_merge"
   ]
  },
  {
   "cell_type": "code",
   "execution_count": 62,
   "metadata": {},
   "outputs": [],
   "source": [
    "p25_64_2014 = multi_merged_p25_64[multi_merged_p25_64[\"TUCASEID\"].apply(str).str.startswith(\"2014\")]\n",
    "atus_2014_p25_64_weight = p25_64_2014.drop_duplicates(subset=[\"TUCASEID\"])\n",
    "atus_2014_p25_64_weight = atus_2014_p25_64_weight[\"TUFNWGTP\"].sum()\n",
    "\n",
    "atus_2014_all_res_p25_64_multiplied_weight = atus_2014_all_res_p25_64_merge[\"Multiplied Weight\"].sum()"
   ]
  },
  {
   "cell_type": "code",
   "execution_count": 63,
   "metadata": {},
   "outputs": [
    {
     "data": {
      "text/plain": [
       "17.097012904870148"
      ]
     },
     "execution_count": 63,
     "metadata": {},
     "output_type": "execute_result"
    }
   ],
   "source": [
    "all_act_2014_res_p25_64_hpd = atus_2014_all_res_p25_64_multiplied_weight / atus_2014_p25_64_weight / 60\n",
    "all_act_2014_res_p25_64_hpd"
   ]
  },
  {
   "cell_type": "markdown",
   "metadata": {},
   "source": [
    "### 2015 All Residential Activities - Age Between 25 and 64  Population"
   ]
  },
  {
   "cell_type": "code",
   "execution_count": 64,
   "metadata": {},
   "outputs": [],
   "source": [
    "atus_2015_all_res_p25_64 = atus_2015_res_p25_64.groupby([\"TUCASEID\"]).sum().filter([\"TUCASEID\", \"TUACTDUR24\"])\n",
    "#atus_2015_all_res_p25_64"
   ]
  },
  {
   "cell_type": "code",
   "execution_count": 65,
   "metadata": {},
   "outputs": [],
   "source": [
    "atus_2015_all_res_p25_64_merge = pd.merge(atus_2015_all_res_p25_64, multi_resp, on= \"TUCASEID\").filter([\"TUCASEID\",\"TUACTDUR24\",\"TUFNWGTP\"])\n",
    "atus_2015_all_res_p25_64_merge[\"Multiplied Weight\"] = atus_2015_all_res_p25_64_merge[\"TUACTDUR24\"] * atus_2015_all_res_p25_64_merge[\"TUFNWGTP\"]\n",
    "#atus_2015_all_res_p25_64_merge"
   ]
  },
  {
   "cell_type": "code",
   "execution_count": 66,
   "metadata": {},
   "outputs": [],
   "source": [
    "atus_2015_all_res_p25_64_merge = pd.merge(atus_2015_all_res_p25_64, multi_resp, on= \"TUCASEID\").filter([\"TUCASEID\",\"TUACTDUR24\",\"TUFNWGTP\"])\n",
    "atus_2015_all_res_p25_64_merge[\"Multiplied Weight\"] = atus_2015_all_res_p25_64_merge[\"TUACTDUR24\"] * atus_2015_all_res_p25_64_merge[\"TUFNWGTP\"]\n",
    "#atus_2015_all_res_p25_64_merge"
   ]
  },
  {
   "cell_type": "code",
   "execution_count": 67,
   "metadata": {},
   "outputs": [],
   "source": [
    "p25_64_2015 = multi_merged_p25_64[multi_merged_p25_64[\"TUCASEID\"].apply(str).str.startswith(\"2015\")]\n",
    "atus_2015_p25_64_weight = p25_64_2015.drop_duplicates(subset=[\"TUCASEID\"])\n",
    "atus_2015_p25_64_weight = atus_2015_p25_64_weight[\"TUFNWGTP\"].sum()\n",
    "\n",
    "atus_2015_all_res_p25_64_multiplied_weight = atus_2015_all_res_p25_64_merge[\"Multiplied Weight\"].sum()"
   ]
  },
  {
   "cell_type": "code",
   "execution_count": 68,
   "metadata": {},
   "outputs": [
    {
     "data": {
      "text/plain": [
       "17.17999902036872"
      ]
     },
     "execution_count": 68,
     "metadata": {},
     "output_type": "execute_result"
    }
   ],
   "source": [
    "all_act_2015_res_p25_64_hpd = atus_2015_all_res_p25_64_multiplied_weight / atus_2015_p25_64_weight / 60\n",
    "all_act_2015_res_p25_64_hpd"
   ]
  },
  {
   "cell_type": "markdown",
   "metadata": {},
   "source": [
    "### 2016 All Residential Activities - Age Between 25 and 64  Population"
   ]
  },
  {
   "cell_type": "code",
   "execution_count": 69,
   "metadata": {},
   "outputs": [],
   "source": [
    "atus_2016_all_res_p25_64 = atus_2016_res_p25_64.groupby([\"TUCASEID\"]).sum().filter([\"TUCASEID\", \"TUACTDUR24\"])\n",
    "#atus_2016_all_res_p25_64"
   ]
  },
  {
   "cell_type": "code",
   "execution_count": 70,
   "metadata": {},
   "outputs": [],
   "source": [
    "atus_2016_all_res_p25_64_merge = pd.merge(atus_2016_all_res_p25_64, multi_resp, on= \"TUCASEID\").filter([\"TUCASEID\",\"TUACTDUR24\",\"TUFNWGTP\"])\n",
    "atus_2016_all_res_p25_64_merge[\"Multiplied Weight\"] = atus_2016_all_res_p25_64_merge[\"TUACTDUR24\"] * atus_2016_all_res_p25_64_merge[\"TUFNWGTP\"]\n",
    "#atus_2016_all_res_p25_64_merge"
   ]
  },
  {
   "cell_type": "code",
   "execution_count": 71,
   "metadata": {},
   "outputs": [],
   "source": [
    "atus_2016_all_res_p25_64_merge = pd.merge(atus_2016_all_res_p25_64, multi_resp, on= \"TUCASEID\").filter([\"TUCASEID\",\"TUACTDUR24\",\"TUFNWGTP\"])\n",
    "atus_2016_all_res_p25_64_merge[\"Multiplied Weight\"] = atus_2016_all_res_p25_64_merge[\"TUACTDUR24\"] * atus_2016_all_res_p25_64_merge[\"TUFNWGTP\"]\n",
    "#atus_2016_all_res_p25_64_merge"
   ]
  },
  {
   "cell_type": "code",
   "execution_count": 72,
   "metadata": {},
   "outputs": [],
   "source": [
    "p25_64_2016 = multi_merged_p25_64[multi_merged_p25_64[\"TUCASEID\"].apply(str).str.startswith(\"2016\")]\n",
    "atus_2016_p25_64_weight = p25_64_2016.drop_duplicates(subset=[\"TUCASEID\"])\n",
    "atus_2016_p25_64_weight = atus_2016_p25_64_weight[\"TUFNWGTP\"].sum()\n",
    "\n",
    "atus_2016_all_res_p25_64_multiplied_weight = atus_2016_all_res_p25_64_merge[\"Multiplied Weight\"].sum()"
   ]
  },
  {
   "cell_type": "code",
   "execution_count": 73,
   "metadata": {},
   "outputs": [
    {
     "data": {
      "text/plain": [
       "16.947409463531077"
      ]
     },
     "execution_count": 73,
     "metadata": {},
     "output_type": "execute_result"
    }
   ],
   "source": [
    "all_act_2016_res_p25_64_hpd = atus_2016_all_res_p25_64_multiplied_weight / atus_2016_p25_64_weight / 60\n",
    "all_act_2016_res_p25_64_hpd"
   ]
  },
  {
   "cell_type": "markdown",
   "metadata": {},
   "source": [
    "### 2017 All Residential Activities - Age Between 25 and 64  Population"
   ]
  },
  {
   "cell_type": "code",
   "execution_count": 74,
   "metadata": {},
   "outputs": [],
   "source": [
    "atus_2017_all_res_p25_64 = atus_2017_res_p25_64.groupby([\"TUCASEID\"]).sum().filter([\"TUCASEID\", \"TUACTDUR24\"])\n",
    "#atus_2017_all_res_p25_64"
   ]
  },
  {
   "cell_type": "code",
   "execution_count": 75,
   "metadata": {},
   "outputs": [],
   "source": [
    "atus_2017_all_res_p25_64_merge = pd.merge(atus_2017_all_res_p25_64, multi_resp, on= \"TUCASEID\").filter([\"TUCASEID\",\"TUACTDUR24\",\"TUFNWGTP\"])\n",
    "atus_2017_all_res_p25_64_merge[\"Multiplied Weight\"] = atus_2017_all_res_p25_64_merge[\"TUACTDUR24\"] * atus_2017_all_res_p25_64_merge[\"TUFNWGTP\"]\n",
    "#atus_2017_all_res_p25_64_merge"
   ]
  },
  {
   "cell_type": "code",
   "execution_count": 76,
   "metadata": {},
   "outputs": [],
   "source": [
    "atus_2017_all_res_p25_64_merge = pd.merge(atus_2017_all_res_p25_64, multi_resp, on= \"TUCASEID\").filter([\"TUCASEID\",\"TUACTDUR24\",\"TUFNWGTP\"])\n",
    "atus_2017_all_res_p25_64_merge[\"Multiplied Weight\"] = atus_2017_all_res_p25_64_merge[\"TUACTDUR24\"] * atus_2017_all_res_p25_64_merge[\"TUFNWGTP\"]\n",
    "#atus_2017_all_res_p25_64_merge"
   ]
  },
  {
   "cell_type": "code",
   "execution_count": 77,
   "metadata": {},
   "outputs": [],
   "source": [
    "p25_64_2017 = multi_merged_p25_64[multi_merged_p25_64[\"TUCASEID\"].apply(str).str.startswith(\"2017\")]\n",
    "atus_2017_p25_64_weight = p25_64_2017.drop_duplicates(subset=[\"TUCASEID\"])\n",
    "atus_2017_p25_64_weight = atus_2017_p25_64_weight[\"TUFNWGTP\"].sum()\n",
    "\n",
    "atus_2017_all_res_p25_64_multiplied_weight = atus_2017_all_res_p25_64_merge[\"Multiplied Weight\"].sum()"
   ]
  },
  {
   "cell_type": "code",
   "execution_count": 78,
   "metadata": {},
   "outputs": [
    {
     "data": {
      "text/plain": [
       "16.971515931656135"
      ]
     },
     "execution_count": 78,
     "metadata": {},
     "output_type": "execute_result"
    }
   ],
   "source": [
    "all_act_2017_res_p25_64_hpd = atus_2017_all_res_p25_64_multiplied_weight / atus_2017_p25_64_weight / 60\n",
    "all_act_2017_res_p25_64_hpd"
   ]
  },
  {
   "cell_type": "markdown",
   "metadata": {},
   "source": [
    "### 2018 All Residential Activities - Age Between 25 and 64  Population"
   ]
  },
  {
   "cell_type": "code",
   "execution_count": 79,
   "metadata": {},
   "outputs": [],
   "source": [
    "atus_2018_all_res_p25_64 = atus_2018_res_p25_64.groupby([\"TUCASEID\"]).sum().filter([\"TUCASEID\", \"TUACTDUR24\"])\n",
    "#atus_2018_all_res_p25_64"
   ]
  },
  {
   "cell_type": "code",
   "execution_count": 80,
   "metadata": {},
   "outputs": [],
   "source": [
    "atus_2018_all_res_p25_64_merge = pd.merge(atus_2018_all_res_p25_64, multi_resp, on= \"TUCASEID\").filter([\"TUCASEID\",\"TUACTDUR24\",\"TUFNWGTP\"])\n",
    "atus_2018_all_res_p25_64_merge[\"Multiplied Weight\"] = atus_2018_all_res_p25_64_merge[\"TUACTDUR24\"] * atus_2018_all_res_p25_64_merge[\"TUFNWGTP\"]\n",
    "#atus_2018_all_res_p25_64_merge"
   ]
  },
  {
   "cell_type": "code",
   "execution_count": 81,
   "metadata": {},
   "outputs": [],
   "source": [
    "atus_2018_all_res_p25_64_merge = pd.merge(atus_2018_all_res_p25_64, multi_resp, on= \"TUCASEID\").filter([\"TUCASEID\",\"TUACTDUR24\",\"TUFNWGTP\"])\n",
    "atus_2018_all_res_p25_64_merge[\"Multiplied Weight\"] = atus_2018_all_res_p25_64_merge[\"TUACTDUR24\"] * atus_2018_all_res_p25_64_merge[\"TUFNWGTP\"]\n",
    "#atus_2018_all_res_p25_64_merge"
   ]
  },
  {
   "cell_type": "code",
   "execution_count": 82,
   "metadata": {},
   "outputs": [],
   "source": [
    "p25_64_2018 = multi_merged_p25_64[multi_merged_p25_64[\"TUCASEID\"].apply(str).str.startswith(\"2018\")]\n",
    "atus_2018_p25_64_weight = p25_64_2018.drop_duplicates(subset=[\"TUCASEID\"])\n",
    "atus_2018_p25_64_weight = atus_2018_p25_64_weight[\"TUFNWGTP\"].sum()\n",
    "\n",
    "atus_2018_all_res_p25_64_multiplied_weight = atus_2018_all_res_p25_64_merge[\"Multiplied Weight\"].sum()"
   ]
  },
  {
   "cell_type": "code",
   "execution_count": 83,
   "metadata": {},
   "outputs": [
    {
     "data": {
      "text/plain": [
       "16.96662168993012"
      ]
     },
     "execution_count": 83,
     "metadata": {},
     "output_type": "execute_result"
    }
   ],
   "source": [
    "all_act_2018_res_p25_64_hpd = atus_2018_all_res_p25_64_multiplied_weight / atus_2018_p25_64_weight / 60\n",
    "all_act_2018_res_p25_64_hpd"
   ]
  },
  {
   "cell_type": "markdown",
   "metadata": {},
   "source": [
    "### 2019 All Residential Activities - Age Between 25 and 64  Population"
   ]
  },
  {
   "cell_type": "code",
   "execution_count": 84,
   "metadata": {},
   "outputs": [],
   "source": [
    "atus_2019_all_res_p25_64 = atus_2019_res_p25_64.groupby([\"TUCASEID\"]).sum().filter([\"TUCASEID\", \"TUACTDUR24\"])\n",
    "#atus_2019_all_res_p25_64"
   ]
  },
  {
   "cell_type": "code",
   "execution_count": 85,
   "metadata": {},
   "outputs": [],
   "source": [
    "atus_2019_all_res_p25_64_merge = pd.merge(atus_2019_all_res_p25_64, multi_resp, on= \"TUCASEID\").filter([\"TUCASEID\",\"TUACTDUR24\",\"TUFNWGTP\"])\n",
    "atus_2019_all_res_p25_64_merge[\"Multiplied Weight\"] = atus_2019_all_res_p25_64_merge[\"TUACTDUR24\"] * atus_2019_all_res_p25_64_merge[\"TUFNWGTP\"]\n",
    "#atus_2019_all_res_p25_64_merge"
   ]
  },
  {
   "cell_type": "code",
   "execution_count": 86,
   "metadata": {},
   "outputs": [],
   "source": [
    "atus_2019_all_res_p25_64_merge = pd.merge(atus_2019_all_res_p25_64, multi_resp, on= \"TUCASEID\").filter([\"TUCASEID\",\"TUACTDUR24\",\"TUFNWGTP\"])\n",
    "atus_2019_all_res_p25_64_merge[\"Multiplied Weight\"] = atus_2019_all_res_p25_64_merge[\"TUACTDUR24\"] * atus_2019_all_res_p25_64_merge[\"TUFNWGTP\"]\n",
    "#atus_2019_all_res_p25_64_merge"
   ]
  },
  {
   "cell_type": "code",
   "execution_count": 87,
   "metadata": {},
   "outputs": [],
   "source": [
    "p25_64_2019 = multi_merged_p25_64[multi_merged_p25_64[\"TUCASEID\"].apply(str).str.startswith(\"2019\")]\n",
    "atus_2019_p25_64_weight = p25_64_2019.drop_duplicates(subset=[\"TUCASEID\"])\n",
    "atus_2019_p25_64_weight = atus_2019_p25_64_weight[\"TUFNWGTP\"].sum()\n",
    "\n",
    "atus_2019_all_res_p25_64_multiplied_weight = atus_2019_all_res_p25_64_merge[\"Multiplied Weight\"].sum()"
   ]
  },
  {
   "cell_type": "code",
   "execution_count": 88,
   "metadata": {},
   "outputs": [
    {
     "data": {
      "text/plain": [
       "17.0027884748849"
      ]
     },
     "execution_count": 88,
     "metadata": {},
     "output_type": "execute_result"
    }
   ],
   "source": [
    "all_act_2019_res_p25_64_hpd = atus_2019_all_res_p25_64_multiplied_weight / atus_2019_p25_64_weight / 60\n",
    "all_act_2019_res_p25_64_hpd"
   ]
  },
  {
   "cell_type": "markdown",
   "metadata": {},
   "source": [
    "### Regresssion: All Residential Activity - Age Between 25 and 64  "
   ]
  },
  {
   "cell_type": "markdown",
   "metadata": {},
   "source": [
    "#### 2003 -2012 Regression "
   ]
  },
  {
   "cell_type": "code",
   "execution_count": 89,
   "metadata": {},
   "outputs": [],
   "source": [
    "year = np.array([2003, 2004, 2005, 2006, 2007, 2008, 2009, 2010,2011,2012]).reshape((-1, 1))\n",
    "activity_hours_per_day = np.array([all_act_2003_res_p25_64_hpd, all_act_2004_res_p25_64_hpd, all_act_2005_res_p25_64_hpd,\n",
    "                                   all_act_2006_res_p25_64_hpd, all_act_2007_res_p25_64_hpd, all_act_2008_res_p25_64_hpd,\n",
    "                                   all_act_2009_res_p25_64_hpd, all_act_2010_res_p25_64_hpd, all_act_2011_res_p25_64_hpd,\n",
    "                                   all_act_2012_res_p25_64_hpd]).reshape((-1, 1))\n",
    "\n",
    "activity_hours_per_yr = [i * 365 for i in activity_hours_per_day]\n",
    "#activity_hours_per_yr"
   ]
  },
  {
   "cell_type": "code",
   "execution_count": 90,
   "metadata": {},
   "outputs": [
    {
     "data": {
      "image/png": "[encoded data removed]",
      "text/plain": [
       "<Figure size 432x288 with 1 Axes>"
      ]
     },
     "metadata": {
      "needs_background": "light"
     },
     "output_type": "display_data"
    }
   ],
   "source": [
    "x = year\n",
    "y = activity_hours_per_yr\n",
    "x, y = np.array(x), np.array(y)\n",
    "\n",
    "model = LinearRegression().fit(x, y)\n",
    "\n",
    "y_pred = model.predict(x)  \n",
    "\n",
    "plt.scatter(x, y)\n",
    "plt.plot(x, y_pred, color='red')\n",
    "plt.show()"
   ]
  },
  {
   "cell_type": "code",
   "execution_count": 91,
   "metadata": {},
   "outputs": [
    {
     "data": {
      "text/plain": [
       "0.793868969450865"
      ]
     },
     "execution_count": 91,
     "metadata": {},
     "output_type": "execute_result"
    }
   ],
   "source": [
    "coefficient_of_determination = model.score(x,y) #R sqaure value \n",
    "coefficient_of_determination"
   ]
  },
  {
   "cell_type": "code",
   "execution_count": 92,
   "metadata": {},
   "outputs": [
    {
     "data": {
      "text/plain": [
       "array([[18.63767599]])"
      ]
     },
     "execution_count": 92,
     "metadata": {},
     "output_type": "execute_result"
    }
   ],
   "source": [
    "all_act_2012_res_p25_64_slope = model.coef_\n",
    "all_act_2012_res_p25_64_slope"
   ]
  },
  {
   "cell_type": "markdown",
   "metadata": {},
   "source": [
    "#### 2003-2019 Regression"
   ]
  },
  {
   "cell_type": "code",
   "execution_count": 93,
   "metadata": {},
   "outputs": [],
   "source": [
    "year = np.array([2003, 2004, 2005, 2006, 2007, 2008, 2009, 2010,2011,2012, 2013, 2014, 2015, 2016, 2017, 2018, 2019]).reshape((-1, 1))\n",
    "activity_hours_per_day = np.array([all_act_2003_res_p25_64_hpd, all_act_2004_res_p25_64_hpd, all_act_2005_res_p25_64_hpd,\n",
    "                                   all_act_2006_res_p25_64_hpd, all_act_2007_res_p25_64_hpd, all_act_2008_res_p25_64_hpd,\n",
    "                                   all_act_2009_res_p25_64_hpd, all_act_2010_res_p25_64_hpd, all_act_2011_res_p25_64_hpd,\n",
    "                                   all_act_2012_res_p25_64_hpd, all_act_2013_res_p25_64_hpd, all_act_2014_res_p25_64_hpd,\n",
    "                                   all_act_2015_res_p25_64_hpd, all_act_2016_res_p25_64_hpd, all_act_2017_res_p25_64_hpd,\n",
    "                                   all_act_2018_res_p25_64_hpd, all_act_2019_res_p25_64_hpd]).reshape((-1, 1))\n",
    "\n",
    "activity_hours_per_yr = [i * 365 for i in activity_hours_per_day]\n",
    "#activity_hours_per_yr"
   ]
  },
  {
   "cell_type": "code",
   "execution_count": 94,
   "metadata": {},
   "outputs": [
    {
     "data": {
      "image/png": "[encoded data removed]",
      "text/plain": [
       "<Figure size 432x288 with 1 Axes>"
      ]
     },
     "metadata": {
      "needs_background": "light"
     },
     "output_type": "display_data"
    }
   ],
   "source": [
    "x = year\n",
    "y = activity_hours_per_yr\n",
    "x, y = np.array(x), np.array(y)\n",
    "\n",
    "model = LinearRegression().fit(x, y)\n",
    "\n",
    "y_pred = model.predict(x)  \n",
    "\n",
    "plt.scatter(x, y)\n",
    "plt.plot(x, y_pred, color='red')\n",
    "plt.show()"
   ]
  },
  {
   "cell_type": "code",
   "execution_count": 95,
   "metadata": {},
   "outputs": [
    {
     "data": {
      "text/plain": [
       "0.3718872078620016"
      ]
     },
     "execution_count": 95,
     "metadata": {},
     "output_type": "execute_result"
    }
   ],
   "source": [
    "coefficient_of_determination = model.score(x,y) #R sqaure value \n",
    "coefficient_of_determination"
   ]
  },
  {
   "cell_type": "code",
   "execution_count": 96,
   "metadata": {},
   "outputs": [
    {
     "data": {
      "text/plain": [
       "array([[7.13176534]])"
      ]
     },
     "execution_count": 96,
     "metadata": {},
     "output_type": "execute_result"
    }
   ],
   "source": [
    "all_act_2019_res_p25_64_slope = model.coef_\n",
    "all_act_2019_res_p25_64_slope"
   ]
  },
  {
   "cell_type": "markdown",
   "metadata": {},
   "source": [
    "### 2003-2019 NonResidential - Age Between 25 and 64 "
   ]
  },
  {
   "cell_type": "code",
   "execution_count": 97,
   "metadata": {},
   "outputs": [],
   "source": [
    "#non-residential = 2,4,5,6,7,8,9,10,11,30,31,32"
   ]
  },
  {
   "cell_type": "code",
   "execution_count": 98,
   "metadata": {},
   "outputs": [],
   "source": [
    "nonresidential_location = [2,4,5,6,7,8,9,10,11,30,31,32]\n",
    "atus_multi_yr_nonres_p25_64 = multi_merged_p25_64[multi_merged_p25_64[\"TEWHERE\"].isin(nonresidential_location)]\n",
    "#atus_multi_yr_res_p25_64"
   ]
  },
  {
   "cell_type": "code",
   "execution_count": 99,
   "metadata": {},
   "outputs": [],
   "source": [
    "atus_2003_nonres_p25_64 = atus_multi_yr_nonres_p25_64[atus_multi_yr_nonres_p25_64[\"TUCASEID\"].apply(str).str.startswith(\"2003\")]\n",
    "atus_2004_nonres_p25_64 = atus_multi_yr_nonres_p25_64[atus_multi_yr_nonres_p25_64[\"TUCASEID\"].apply(str).str.startswith(\"2004\")]\n",
    "atus_2005_nonres_p25_64 = atus_multi_yr_nonres_p25_64[atus_multi_yr_nonres_p25_64[\"TUCASEID\"].apply(str).str.startswith(\"2005\")]\n",
    "atus_2006_nonres_p25_64 = atus_multi_yr_nonres_p25_64[atus_multi_yr_nonres_p25_64[\"TUCASEID\"].apply(str).str.startswith(\"2006\")]\n",
    "atus_2007_nonres_p25_64 = atus_multi_yr_nonres_p25_64[atus_multi_yr_nonres_p25_64[\"TUCASEID\"].apply(str).str.startswith(\"2007\")]\n",
    "atus_2008_nonres_p25_64 = atus_multi_yr_nonres_p25_64[atus_multi_yr_nonres_p25_64[\"TUCASEID\"].apply(str).str.startswith(\"2008\")]\n",
    "atus_2009_nonres_p25_64 = atus_multi_yr_nonres_p25_64[atus_multi_yr_nonres_p25_64[\"TUCASEID\"].apply(str).str.startswith(\"2009\")]\n",
    "atus_2010_nonres_p25_64 = atus_multi_yr_nonres_p25_64[atus_multi_yr_nonres_p25_64[\"TUCASEID\"].apply(str).str.startswith(\"2010\")]\n",
    "atus_2011_nonres_p25_64 = atus_multi_yr_nonres_p25_64[atus_multi_yr_nonres_p25_64[\"TUCASEID\"].apply(str).str.startswith(\"2011\")]\n",
    "atus_2012_nonres_p25_64 = atus_multi_yr_nonres_p25_64[atus_multi_yr_nonres_p25_64[\"TUCASEID\"].apply(str).str.startswith(\"2012\")]\n",
    "atus_2013_nonres_p25_64 = atus_multi_yr_nonres_p25_64[atus_multi_yr_nonres_p25_64[\"TUCASEID\"].apply(str).str.startswith(\"2013\")]\n",
    "atus_2014_nonres_p25_64 = atus_multi_yr_nonres_p25_64[atus_multi_yr_nonres_p25_64[\"TUCASEID\"].apply(str).str.startswith(\"2014\")]\n",
    "atus_2015_nonres_p25_64 = atus_multi_yr_nonres_p25_64[atus_multi_yr_nonres_p25_64[\"TUCASEID\"].apply(str).str.startswith(\"2015\")]\n",
    "atus_2016_nonres_p25_64 = atus_multi_yr_nonres_p25_64[atus_multi_yr_nonres_p25_64[\"TUCASEID\"].apply(str).str.startswith(\"2016\")]\n",
    "atus_2017_nonres_p25_64 = atus_multi_yr_nonres_p25_64[atus_multi_yr_nonres_p25_64[\"TUCASEID\"].apply(str).str.startswith(\"2017\")]\n",
    "atus_2018_nonres_p25_64 = atus_multi_yr_nonres_p25_64[atus_multi_yr_nonres_p25_64[\"TUCASEID\"].apply(str).str.startswith(\"2018\")]\n",
    "atus_2019_nonres_p25_64 = atus_multi_yr_nonres_p25_64[atus_multi_yr_nonres_p25_64[\"TUCASEID\"].apply(str).str.startswith(\"2019\")]\n",
    "#atus_2003_nonres_p25_64"
   ]
  },
  {
   "cell_type": "markdown",
   "metadata": {},
   "source": [
    "### 2003 All Activities - NonResidential - Age Between 25 and 64 "
   ]
  },
  {
   "cell_type": "code",
   "execution_count": 100,
   "metadata": {},
   "outputs": [],
   "source": [
    "atus_2003_all_nonres_p25_64 = atus_2003_nonres_p25_64.groupby([\"TUCASEID\"]).sum().filter([\"TUCASEID\", \"TUACTDUR24\"])\n",
    "#atus_2003_all_nonres_p25_64"
   ]
  },
  {
   "cell_type": "code",
   "execution_count": 101,
   "metadata": {},
   "outputs": [],
   "source": [
    "atus_2003_all_nonres_p25_64_merge = pd.merge(atus_2003_all_nonres_p25_64, multi_resp, on= \"TUCASEID\").filter([\"TUCASEID\",\"TUACTDUR24\",\"TUFNWGTP\"])\n",
    "#atus_2003_all_res_p25_64_merge"
   ]
  },
  {
   "cell_type": "code",
   "execution_count": 102,
   "metadata": {},
   "outputs": [],
   "source": [
    "atus_2003_all_nonres_p25_64_merge[\"Multiplied Weight\"]=atus_2003_all_nonres_p25_64_merge[\"TUACTDUR24\"]*atus_2003_all_nonres_p25_64_merge[\"TUFNWGTP\"]\n",
    "#atus_2003_all_nonres_p25_64_merge"
   ]
  },
  {
   "cell_type": "code",
   "execution_count": 103,
   "metadata": {},
   "outputs": [
    {
     "data": {
      "text/plain": [
       "19446533305532.684"
      ]
     },
     "execution_count": 103,
     "metadata": {},
     "output_type": "execute_result"
    }
   ],
   "source": [
    "atus_2003_all_nonres_p25_64_multiplied_weight = atus_2003_all_nonres_p25_64_merge[\"Multiplied Weight\"].sum()\n",
    "atus_2003_all_nonres_p25_64_multiplied_weight"
   ]
  },
  {
   "cell_type": "code",
   "execution_count": 104,
   "metadata": {},
   "outputs": [
    {
     "data": {
      "text/plain": [
       "5.879771389992224"
      ]
     },
     "execution_count": 104,
     "metadata": {},
     "output_type": "execute_result"
    }
   ],
   "source": [
    "all_act_2003_nonres_p25_64_hpd = atus_2003_all_nonres_p25_64_multiplied_weight / atus_2003_p25_64_weight / 60\n",
    "all_act_2003_nonres_p25_64_hpd"
   ]
  },
  {
   "cell_type": "markdown",
   "metadata": {},
   "source": [
    "### 2004 All Activities - NonResidential - Age Between 25 and 64 "
   ]
  },
  {
   "cell_type": "code",
   "execution_count": 105,
   "metadata": {},
   "outputs": [],
   "source": [
    "atus_2004_all_nonres_p25_64 = atus_2004_nonres_p25_64.groupby([\"TUCASEID\"]).sum().filter([\"TUCASEID\", \"TUACTDUR24\"])\n",
    "#atus_2004_all_nonres_p25_64"
   ]
  },
  {
   "cell_type": "code",
   "execution_count": 106,
   "metadata": {},
   "outputs": [],
   "source": [
    "atus_2004_all_nonres_p25_64_merge = pd.merge(atus_2004_all_nonres_p25_64, multi_resp, on= \"TUCASEID\").filter([\"TUCASEID\",\"TUACTDUR24\",\"TUFNWGTP\"])\n",
    "#atus_2004_all_res_p25_64_merge"
   ]
  },
  {
   "cell_type": "code",
   "execution_count": 107,
   "metadata": {},
   "outputs": [
    {
     "data": {
      "text/plain": [
       "19802464312477.25"
      ]
     },
     "execution_count": 107,
     "metadata": {},
     "output_type": "execute_result"
    }
   ],
   "source": [
    "atus_2004_all_nonres_p25_64_merge[\"Multiplied Weight\"]=atus_2004_all_nonres_p25_64_merge[\"TUACTDUR24\"]*atus_2004_all_nonres_p25_64_merge[\"TUFNWGTP\"]\n",
    "\n",
    "atus_2004_all_nonres_p25_64_multiplied_weight = atus_2004_all_nonres_p25_64_merge[\"Multiplied Weight\"].sum()\n",
    "atus_2004_all_nonres_p25_64_multiplied_weight"
   ]
  },
  {
   "cell_type": "code",
   "execution_count": 108,
   "metadata": {},
   "outputs": [
    {
     "data": {
      "text/plain": [
       "5.919742201945997"
      ]
     },
     "execution_count": 108,
     "metadata": {},
     "output_type": "execute_result"
    }
   ],
   "source": [
    "all_act_2004_nonres_p25_64_hpd = atus_2004_all_nonres_p25_64_multiplied_weight / atus_2004_p25_64_weight / 60\n",
    "all_act_2004_nonres_p25_64_hpd"
   ]
  },
  {
   "cell_type": "markdown",
   "metadata": {},
   "source": [
    "### 2005 All Activities - NonResidential - Age Between 25 and 64 "
   ]
  },
  {
   "cell_type": "code",
   "execution_count": 109,
   "metadata": {},
   "outputs": [],
   "source": [
    "atus_2005_all_nonres_p25_64 = atus_2005_nonres_p25_64.groupby([\"TUCASEID\"]).sum().filter([\"TUCASEID\", \"TUACTDUR24\"])\n",
    "#atus_2005_all_nonres_p25_64"
   ]
  },
  {
   "cell_type": "code",
   "execution_count": 110,
   "metadata": {},
   "outputs": [],
   "source": [
    "atus_2005_all_nonres_p25_64_merge = pd.merge(atus_2005_all_nonres_p25_64, multi_resp, on= \"TUCASEID\").filter([\"TUCASEID\",\"TUACTDUR24\",\"TUFNWGTP\"])\n",
    "#atus_2005_all_res_p25_64_merge"
   ]
  },
  {
   "cell_type": "code",
   "execution_count": 111,
   "metadata": {},
   "outputs": [
    {
     "data": {
      "text/plain": [
       "19968417665787.62"
      ]
     },
     "execution_count": 111,
     "metadata": {},
     "output_type": "execute_result"
    }
   ],
   "source": [
    "atus_2005_all_nonres_p25_64_merge[\"Multiplied Weight\"]=atus_2005_all_nonres_p25_64_merge[\"TUACTDUR24\"]*atus_2005_all_nonres_p25_64_merge[\"TUFNWGTP\"]\n",
    "\n",
    "atus_2005_all_nonres_p25_64_multiplied_weight = atus_2005_all_nonres_p25_64_merge[\"Multiplied Weight\"].sum()\n",
    "atus_2005_all_nonres_p25_64_multiplied_weight"
   ]
  },
  {
   "cell_type": "code",
   "execution_count": 112,
   "metadata": {},
   "outputs": [
    {
     "data": {
      "text/plain": [
       "5.907703852815129"
      ]
     },
     "execution_count": 112,
     "metadata": {},
     "output_type": "execute_result"
    }
   ],
   "source": [
    "all_act_2005_nonres_p25_64_hpd = atus_2005_all_nonres_p25_64_multiplied_weight / atus_2005_p25_64_weight / 60\n",
    "all_act_2005_nonres_p25_64_hpd"
   ]
  },
  {
   "cell_type": "markdown",
   "metadata": {},
   "source": [
    "### 2006 All Activities - NonResidential - Age Between 25 and 64 "
   ]
  },
  {
   "cell_type": "code",
   "execution_count": 113,
   "metadata": {},
   "outputs": [],
   "source": [
    "atus_2006_all_nonres_p25_64 = atus_2006_nonres_p25_64.groupby([\"TUCASEID\"]).sum().filter([\"TUCASEID\", \"TUACTDUR24\"])\n",
    "#atus_2006_all_nonres_p25_64"
   ]
  },
  {
   "cell_type": "code",
   "execution_count": 114,
   "metadata": {},
   "outputs": [],
   "source": [
    "atus_2006_all_nonres_p25_64_merge = pd.merge(atus_2006_all_nonres_p25_64, multi_resp, on= \"TUCASEID\").filter([\"TUCASEID\",\"TUACTDUR24\",\"TUFNWGTP\"])\n",
    "#atus_2006_all_res_p25_64_merge"
   ]
  },
  {
   "cell_type": "code",
   "execution_count": 115,
   "metadata": {},
   "outputs": [
    {
     "data": {
      "text/plain": [
       "20340017321743.477"
      ]
     },
     "execution_count": 115,
     "metadata": {},
     "output_type": "execute_result"
    }
   ],
   "source": [
    "atus_2006_all_nonres_p25_64_merge[\"Multiplied Weight\"]=atus_2006_all_nonres_p25_64_merge[\"TUACTDUR24\"]*atus_2006_all_nonres_p25_64_merge[\"TUFNWGTP\"]\n",
    "\n",
    "atus_2006_all_nonres_p25_64_multiplied_weight = atus_2006_all_nonres_p25_64_merge[\"Multiplied Weight\"].sum()\n",
    "atus_2006_all_nonres_p25_64_multiplied_weight"
   ]
  },
  {
   "cell_type": "code",
   "execution_count": 116,
   "metadata": {},
   "outputs": [
    {
     "data": {
      "text/plain": [
       "5.943304645573703"
      ]
     },
     "execution_count": 116,
     "metadata": {},
     "output_type": "execute_result"
    }
   ],
   "source": [
    "all_act_2006_nonres_p25_64_hpd = atus_2006_all_nonres_p25_64_multiplied_weight / atus_2006_p25_64_weight / 60\n",
    "all_act_2006_nonres_p25_64_hpd"
   ]
  },
  {
   "cell_type": "markdown",
   "metadata": {},
   "source": [
    "### 2007 All Activities - NonResidential - Age Between 25 and 64 "
   ]
  },
  {
   "cell_type": "code",
   "execution_count": 117,
   "metadata": {},
   "outputs": [],
   "source": [
    "atus_2007_all_nonres_p25_64 = atus_2007_nonres_p25_64.groupby([\"TUCASEID\"]).sum().filter([\"TUCASEID\", \"TUACTDUR24\"])\n",
    "#atus_2007_all_nonres_p25_64"
   ]
  },
  {
   "cell_type": "code",
   "execution_count": 118,
   "metadata": {},
   "outputs": [],
   "source": [
    "atus_2007_all_nonres_p25_64_merge = pd.merge(atus_2007_all_nonres_p25_64, multi_resp, on= \"TUCASEID\").filter([\"TUCASEID\",\"TUACTDUR24\",\"TUFNWGTP\"])\n",
    "#atus_2007_all_res_p25_64_merge"
   ]
  },
  {
   "cell_type": "code",
   "execution_count": 119,
   "metadata": {},
   "outputs": [
    {
     "data": {
      "text/plain": [
       "20502494275381.734"
      ]
     },
     "execution_count": 119,
     "metadata": {},
     "output_type": "execute_result"
    }
   ],
   "source": [
    "atus_2007_all_nonres_p25_64_merge[\"Multiplied Weight\"]=atus_2007_all_nonres_p25_64_merge[\"TUACTDUR24\"]*atus_2007_all_nonres_p25_64_merge[\"TUFNWGTP\"]\n",
    "\n",
    "atus_2007_all_nonres_p25_64_multiplied_weight = atus_2007_all_nonres_p25_64_merge[\"Multiplied Weight\"].sum()\n",
    "atus_2007_all_nonres_p25_64_multiplied_weight"
   ]
  },
  {
   "cell_type": "code",
   "execution_count": 120,
   "metadata": {},
   "outputs": [
    {
     "data": {
      "text/plain": [
       "5.916301292902543"
      ]
     },
     "execution_count": 120,
     "metadata": {},
     "output_type": "execute_result"
    }
   ],
   "source": [
    "all_act_2007_nonres_p25_64_hpd = atus_2007_all_nonres_p25_64_multiplied_weight / atus_2007_p25_64_weight / 60\n",
    "all_act_2007_nonres_p25_64_hpd"
   ]
  },
  {
   "cell_type": "markdown",
   "metadata": {},
   "source": [
    "### 2008 All Activities - NonResidential - Age Between 25 and 64 "
   ]
  },
  {
   "cell_type": "code",
   "execution_count": 121,
   "metadata": {},
   "outputs": [],
   "source": [
    "atus_2008_all_nonres_p25_64 = atus_2008_nonres_p25_64.groupby([\"TUCASEID\"]).sum().filter([\"TUCASEID\", \"TUACTDUR24\"])\n",
    "#atus_2008_all_nonres_p25_64"
   ]
  },
  {
   "cell_type": "code",
   "execution_count": 122,
   "metadata": {},
   "outputs": [],
   "source": [
    "atus_2008_all_nonres_p25_64_merge = pd.merge(atus_2008_all_nonres_p25_64, multi_resp, on= \"TUCASEID\").filter([\"TUCASEID\",\"TUACTDUR24\",\"TUFNWGTP\"])\n",
    "#atus_2008_all_res_p25_64_merge"
   ]
  },
  {
   "cell_type": "code",
   "execution_count": 123,
   "metadata": {},
   "outputs": [
    {
     "data": {
      "text/plain": [
       "20042644558165.24"
      ]
     },
     "execution_count": 123,
     "metadata": {},
     "output_type": "execute_result"
    }
   ],
   "source": [
    "atus_2008_all_nonres_p25_64_merge[\"Multiplied Weight\"]=atus_2008_all_nonres_p25_64_merge[\"TUACTDUR24\"]*atus_2008_all_nonres_p25_64_merge[\"TUFNWGTP\"]\n",
    "\n",
    "atus_2008_all_nonres_p25_64_multiplied_weight = atus_2008_all_nonres_p25_64_merge[\"Multiplied Weight\"].sum()\n",
    "atus_2008_all_nonres_p25_64_multiplied_weight"
   ]
  },
  {
   "cell_type": "code",
   "execution_count": 124,
   "metadata": {},
   "outputs": [
    {
     "data": {
      "text/plain": [
       "5.7350129454875"
      ]
     },
     "execution_count": 124,
     "metadata": {},
     "output_type": "execute_result"
    }
   ],
   "source": [
    "all_act_2008_nonres_p25_64_hpd = atus_2008_all_nonres_p25_64_multiplied_weight / atus_2008_p25_64_weight / 60\n",
    "all_act_2008_nonres_p25_64_hpd"
   ]
  },
  {
   "cell_type": "markdown",
   "metadata": {},
   "source": [
    "### 2009 All Activities - NonResidential - Age Between 25 and 64 "
   ]
  },
  {
   "cell_type": "code",
   "execution_count": 125,
   "metadata": {},
   "outputs": [],
   "source": [
    "atus_2009_all_nonres_p25_64 = atus_2009_nonres_p25_64.groupby([\"TUCASEID\"]).sum().filter([\"TUCASEID\", \"TUACTDUR24\"])\n",
    "#atus_2009_all_nonres_p25_64"
   ]
  },
  {
   "cell_type": "code",
   "execution_count": 126,
   "metadata": {},
   "outputs": [],
   "source": [
    "atus_2009_all_nonres_p25_64_merge = pd.merge(atus_2009_all_nonres_p25_64, multi_resp, on= \"TUCASEID\").filter([\"TUCASEID\",\"TUACTDUR24\",\"TUFNWGTP\"])\n",
    "#atus_2009_all_res_p25_64_merge"
   ]
  },
  {
   "cell_type": "code",
   "execution_count": 127,
   "metadata": {},
   "outputs": [
    {
     "data": {
      "text/plain": [
       "19495743852082.008"
      ]
     },
     "execution_count": 127,
     "metadata": {},
     "output_type": "execute_result"
    }
   ],
   "source": [
    "atus_2009_all_nonres_p25_64_merge[\"Multiplied Weight\"]=atus_2009_all_nonres_p25_64_merge[\"TUACTDUR24\"]*atus_2009_all_nonres_p25_64_merge[\"TUFNWGTP\"]\n",
    "\n",
    "atus_2009_all_nonres_p25_64_multiplied_weight = atus_2009_all_nonres_p25_64_merge[\"Multiplied Weight\"].sum()\n",
    "atus_2009_all_nonres_p25_64_multiplied_weight"
   ]
  },
  {
   "cell_type": "code",
   "execution_count": 128,
   "metadata": {},
   "outputs": [
    {
     "data": {
      "text/plain": [
       "5.555440082463012"
      ]
     },
     "execution_count": 128,
     "metadata": {},
     "output_type": "execute_result"
    }
   ],
   "source": [
    "all_act_2009_nonres_p25_64_hpd = atus_2009_all_nonres_p25_64_multiplied_weight / atus_2009_p25_64_weight / 60\n",
    "all_act_2009_nonres_p25_64_hpd"
   ]
  },
  {
   "cell_type": "markdown",
   "metadata": {},
   "source": [
    "### 2010 All Activities - NonResidential - Age Between 25 and 64 "
   ]
  },
  {
   "cell_type": "code",
   "execution_count": 129,
   "metadata": {},
   "outputs": [],
   "source": [
    "atus_2010_all_nonres_p25_64 = atus_2010_nonres_p25_64.groupby([\"TUCASEID\"]).sum().filter([\"TUCASEID\", \"TUACTDUR24\"])\n",
    "#atus_2010_all_nonres_p25_64"
   ]
  },
  {
   "cell_type": "code",
   "execution_count": 130,
   "metadata": {},
   "outputs": [],
   "source": [
    "atus_2010_all_nonres_p25_64_merge = pd.merge(atus_2010_all_nonres_p25_64, multi_resp, on= \"TUCASEID\").filter([\"TUCASEID\",\"TUACTDUR24\",\"TUFNWGTP\"])\n",
    "#atus_2010_all_res_p25_64_merge"
   ]
  },
  {
   "cell_type": "code",
   "execution_count": 131,
   "metadata": {},
   "outputs": [
    {
     "data": {
      "text/plain": [
       "19677955905239.594"
      ]
     },
     "execution_count": 131,
     "metadata": {},
     "output_type": "execute_result"
    }
   ],
   "source": [
    "atus_2010_all_nonres_p25_64_merge[\"Multiplied Weight\"]=atus_2010_all_nonres_p25_64_merge[\"TUACTDUR24\"]*atus_2010_all_nonres_p25_64_merge[\"TUFNWGTP\"]\n",
    "\n",
    "atus_2010_all_nonres_p25_64_multiplied_weight = atus_2010_all_nonres_p25_64_merge[\"Multiplied Weight\"].sum()\n",
    "atus_2010_all_nonres_p25_64_multiplied_weight"
   ]
  },
  {
   "cell_type": "code",
   "execution_count": 132,
   "metadata": {},
   "outputs": [
    {
     "data": {
      "text/plain": [
       "5.574556418161181"
      ]
     },
     "execution_count": 132,
     "metadata": {},
     "output_type": "execute_result"
    }
   ],
   "source": [
    "all_act_2010_nonres_p25_64_hpd = atus_2010_all_nonres_p25_64_multiplied_weight / atus_2010_p25_64_weight / 60\n",
    "all_act_2010_nonres_p25_64_hpd"
   ]
  },
  {
   "cell_type": "markdown",
   "metadata": {},
   "source": [
    "### 2011 All Activities - NonResidential - Age Between 25 and 64 "
   ]
  },
  {
   "cell_type": "code",
   "execution_count": 133,
   "metadata": {},
   "outputs": [],
   "source": [
    "atus_2011_all_nonres_p25_64 = atus_2011_nonres_p25_64.groupby([\"TUCASEID\"]).sum().filter([\"TUCASEID\", \"TUACTDUR24\"])\n",
    "#atus_2011_all_nonres_p25_64"
   ]
  },
  {
   "cell_type": "code",
   "execution_count": 134,
   "metadata": {},
   "outputs": [],
   "source": [
    "atus_2011_all_nonres_p25_64_merge = pd.merge(atus_2011_all_nonres_p25_64, multi_resp, on= \"TUCASEID\").filter([\"TUCASEID\",\"TUACTDUR24\",\"TUFNWGTP\"])\n",
    "#atus_2011_all_res_p25_64_merge"
   ]
  },
  {
   "cell_type": "code",
   "execution_count": 135,
   "metadata": {},
   "outputs": [
    {
     "data": {
      "text/plain": [
       "19834017980787.797"
      ]
     },
     "execution_count": 135,
     "metadata": {},
     "output_type": "execute_result"
    }
   ],
   "source": [
    "atus_2011_all_nonres_p25_64_merge[\"Multiplied Weight\"]=atus_2011_all_nonres_p25_64_merge[\"TUACTDUR24\"]*atus_2011_all_nonres_p25_64_merge[\"TUFNWGTP\"]\n",
    "\n",
    "atus_2011_all_nonres_p25_64_multiplied_weight = atus_2011_all_nonres_p25_64_merge[\"Multiplied Weight\"].sum()\n",
    "atus_2011_all_nonres_p25_64_multiplied_weight"
   ]
  },
  {
   "cell_type": "code",
   "execution_count": 136,
   "metadata": {},
   "outputs": [
    {
     "data": {
      "text/plain": [
       "5.600723012115676"
      ]
     },
     "execution_count": 136,
     "metadata": {},
     "output_type": "execute_result"
    }
   ],
   "source": [
    "all_act_2011_nonres_p25_64_hpd = atus_2011_all_nonres_p25_64_multiplied_weight / atus_2011_p25_64_weight / 60\n",
    "all_act_2011_nonres_p25_64_hpd"
   ]
  },
  {
   "cell_type": "markdown",
   "metadata": {},
   "source": [
    "### 2012 All Activities - NonResidential - Age Between 25 and 64 "
   ]
  },
  {
   "cell_type": "code",
   "execution_count": 137,
   "metadata": {},
   "outputs": [],
   "source": [
    "atus_2012_all_nonres_p25_64 = atus_2012_nonres_p25_64.groupby([\"TUCASEID\"]).sum().filter([\"TUCASEID\", \"TUACTDUR24\"])\n",
    "#atus_2012_all_nonres_p25_64"
   ]
  },
  {
   "cell_type": "code",
   "execution_count": 138,
   "metadata": {},
   "outputs": [],
   "source": [
    "atus_2012_all_nonres_p25_64_merge = pd.merge(atus_2012_all_nonres_p25_64, multi_resp, on= \"TUCASEID\").filter([\"TUCASEID\",\"TUACTDUR24\",\"TUFNWGTP\"])\n",
    "#atus_2012_all_res_p25_64_merge"
   ]
  },
  {
   "cell_type": "code",
   "execution_count": 139,
   "metadata": {},
   "outputs": [
    {
     "data": {
      "text/plain": [
       "19942400903900.883"
      ]
     },
     "execution_count": 139,
     "metadata": {},
     "output_type": "execute_result"
    }
   ],
   "source": [
    "atus_2012_all_nonres_p25_64_merge[\"Multiplied Weight\"]=atus_2012_all_nonres_p25_64_merge[\"TUACTDUR24\"]*atus_2012_all_nonres_p25_64_merge[\"TUFNWGTP\"]\n",
    "\n",
    "atus_2012_all_nonres_p25_64_multiplied_weight = atus_2012_all_nonres_p25_64_merge[\"Multiplied Weight\"].sum()\n",
    "atus_2012_all_nonres_p25_64_multiplied_weight"
   ]
  },
  {
   "cell_type": "code",
   "execution_count": 140,
   "metadata": {},
   "outputs": [
    {
     "data": {
      "text/plain": [
       "5.583836899956372"
      ]
     },
     "execution_count": 140,
     "metadata": {},
     "output_type": "execute_result"
    }
   ],
   "source": [
    "all_act_2012_nonres_p25_64_hpd = atus_2012_all_nonres_p25_64_multiplied_weight / atus_2012_p25_64_weight / 60\n",
    "all_act_2012_nonres_p25_64_hpd"
   ]
  },
  {
   "cell_type": "markdown",
   "metadata": {},
   "source": [
    "### 2013 All Activities - NonResidential - Age Between 25 and 64 "
   ]
  },
  {
   "cell_type": "code",
   "execution_count": 141,
   "metadata": {},
   "outputs": [],
   "source": [
    "atus_2013_all_nonres_p25_64 = atus_2013_nonres_p25_64.groupby([\"TUCASEID\"]).sum().filter([\"TUCASEID\", \"TUACTDUR24\"])\n",
    "#atus_2013_all_nonres_p25_64"
   ]
  },
  {
   "cell_type": "code",
   "execution_count": 142,
   "metadata": {},
   "outputs": [],
   "source": [
    "atus_2013_all_nonres_p25_64_merge = pd.merge(atus_2013_all_nonres_p25_64, multi_resp, on= \"TUCASEID\").filter([\"TUCASEID\",\"TUACTDUR24\",\"TUFNWGTP\"])\n",
    "#atus_2013_all_res_p25_64_merge"
   ]
  },
  {
   "cell_type": "code",
   "execution_count": 143,
   "metadata": {},
   "outputs": [
    {
     "data": {
      "text/plain": [
       "19687753945985.754"
      ]
     },
     "execution_count": 143,
     "metadata": {},
     "output_type": "execute_result"
    }
   ],
   "source": [
    "atus_2013_all_nonres_p25_64_merge[\"Multiplied Weight\"]=atus_2013_all_nonres_p25_64_merge[\"TUACTDUR24\"]*atus_2013_all_nonres_p25_64_merge[\"TUFNWGTP\"]\n",
    "\n",
    "atus_2013_all_nonres_p25_64_multiplied_weight = atus_2013_all_nonres_p25_64_merge[\"Multiplied Weight\"].sum()\n",
    "atus_2013_all_nonres_p25_64_multiplied_weight"
   ]
  },
  {
   "cell_type": "code",
   "execution_count": 144,
   "metadata": {},
   "outputs": [
    {
     "data": {
      "text/plain": [
       "5.500727736078349"
      ]
     },
     "execution_count": 144,
     "metadata": {},
     "output_type": "execute_result"
    }
   ],
   "source": [
    "all_act_2013_nonres_p25_64_hpd = atus_2013_all_nonres_p25_64_multiplied_weight / atus_2013_p25_64_weight / 60\n",
    "all_act_2013_nonres_p25_64_hpd"
   ]
  },
  {
   "cell_type": "markdown",
   "metadata": {},
   "source": [
    "### 2014 All Activities - NonResidential - Age Between 25 and 64 "
   ]
  },
  {
   "cell_type": "code",
   "execution_count": 145,
   "metadata": {},
   "outputs": [],
   "source": [
    "atus_2014_all_nonres_p25_64 = atus_2014_nonres_p25_64.groupby([\"TUCASEID\"]).sum().filter([\"TUCASEID\", \"TUACTDUR24\"])\n",
    "#atus_2014_all_nonres_p25_64"
   ]
  },
  {
   "cell_type": "code",
   "execution_count": 146,
   "metadata": {},
   "outputs": [],
   "source": [
    "atus_2014_all_nonres_p25_64_merge = pd.merge(atus_2014_all_nonres_p25_64, multi_resp, on= \"TUCASEID\").filter([\"TUCASEID\",\"TUACTDUR24\",\"TUFNWGTP\"])\n",
    "#atus_2014_all_res_p25_64_merge"
   ]
  },
  {
   "cell_type": "code",
   "execution_count": 147,
   "metadata": {},
   "outputs": [
    {
     "data": {
      "text/plain": [
       "20340455571699.85"
      ]
     },
     "execution_count": 147,
     "metadata": {},
     "output_type": "execute_result"
    }
   ],
   "source": [
    "atus_2014_all_nonres_p25_64_merge[\"Multiplied Weight\"]=atus_2014_all_nonres_p25_64_merge[\"TUACTDUR24\"]*atus_2014_all_nonres_p25_64_merge[\"TUFNWGTP\"]\n",
    "\n",
    "atus_2014_all_nonres_p25_64_multiplied_weight = atus_2014_all_nonres_p25_64_merge[\"Multiplied Weight\"].sum()\n",
    "atus_2014_all_nonres_p25_64_multiplied_weight"
   ]
  },
  {
   "cell_type": "code",
   "execution_count": 148,
   "metadata": {},
   "outputs": [
    {
     "data": {
      "text/plain": [
       "5.653836118357266"
      ]
     },
     "execution_count": 148,
     "metadata": {},
     "output_type": "execute_result"
    }
   ],
   "source": [
    "all_act_2014_nonres_p25_64_hpd = atus_2014_all_nonres_p25_64_multiplied_weight / atus_2014_p25_64_weight / 60\n",
    "all_act_2014_nonres_p25_64_hpd"
   ]
  },
  {
   "cell_type": "markdown",
   "metadata": {},
   "source": [
    "### 2015 All Activities - NonResidential - Age Between 25 and 64 "
   ]
  },
  {
   "cell_type": "code",
   "execution_count": 149,
   "metadata": {},
   "outputs": [],
   "source": [
    "atus_2015_all_nonres_p25_64 = atus_2015_nonres_p25_64.groupby([\"TUCASEID\"]).sum().filter([\"TUCASEID\", \"TUACTDUR24\"])\n",
    "#atus_2015_all_nonres_p25_64"
   ]
  },
  {
   "cell_type": "code",
   "execution_count": 150,
   "metadata": {},
   "outputs": [],
   "source": [
    "atus_2015_all_nonres_p25_64_merge = pd.merge(atus_2015_all_nonres_p25_64, multi_resp, on= \"TUCASEID\").filter([\"TUCASEID\",\"TUACTDUR24\",\"TUFNWGTP\"])\n",
    "#atus_2015_all_res_p25_64_merge"
   ]
  },
  {
   "cell_type": "code",
   "execution_count": 151,
   "metadata": {},
   "outputs": [
    {
     "data": {
      "text/plain": [
       "20041150242348.914"
      ]
     },
     "execution_count": 151,
     "metadata": {},
     "output_type": "execute_result"
    }
   ],
   "source": [
    "atus_2015_all_nonres_p25_64_merge[\"Multiplied Weight\"]=atus_2015_all_nonres_p25_64_merge[\"TUACTDUR24\"]*atus_2015_all_nonres_p25_64_merge[\"TUFNWGTP\"]\n",
    "\n",
    "atus_2015_all_nonres_p25_64_multiplied_weight = atus_2015_all_nonres_p25_64_merge[\"Multiplied Weight\"].sum()\n",
    "atus_2015_all_nonres_p25_64_multiplied_weight"
   ]
  },
  {
   "cell_type": "code",
   "execution_count": 152,
   "metadata": {},
   "outputs": [
    {
     "data": {
      "text/plain": [
       "5.522552115221482"
      ]
     },
     "execution_count": 152,
     "metadata": {},
     "output_type": "execute_result"
    }
   ],
   "source": [
    "all_act_2015_nonres_p25_64_hpd = atus_2015_all_nonres_p25_64_multiplied_weight / atus_2015_p25_64_weight / 60\n",
    "all_act_2015_nonres_p25_64_hpd"
   ]
  },
  {
   "cell_type": "markdown",
   "metadata": {},
   "source": [
    "### 2016 All Activities - NonResidential - Age Between 25 and 64 "
   ]
  },
  {
   "cell_type": "code",
   "execution_count": 153,
   "metadata": {},
   "outputs": [],
   "source": [
    "atus_2016_all_nonres_p25_64 = atus_2016_nonres_p25_64.groupby([\"TUCASEID\"]).sum().filter([\"TUCASEID\", \"TUACTDUR24\"])\n",
    "#atus_2016_all_nonres_p25_64"
   ]
  },
  {
   "cell_type": "code",
   "execution_count": 154,
   "metadata": {},
   "outputs": [],
   "source": [
    "atus_2016_all_nonres_p25_64_merge = pd.merge(atus_2016_all_nonres_p25_64, multi_resp, on= \"TUCASEID\").filter([\"TUCASEID\",\"TUACTDUR24\",\"TUFNWGTP\"])\n",
    "#atus_2016_all_res_p25_64_merge"
   ]
  },
  {
   "cell_type": "code",
   "execution_count": 155,
   "metadata": {},
   "outputs": [
    {
     "data": {
      "text/plain": [
       "20892692918611.49"
      ]
     },
     "execution_count": 155,
     "metadata": {},
     "output_type": "execute_result"
    }
   ],
   "source": [
    "atus_2016_all_nonres_p25_64_merge[\"Multiplied Weight\"]=atus_2016_all_nonres_p25_64_merge[\"TUACTDUR24\"]*atus_2016_all_nonres_p25_64_merge[\"TUFNWGTP\"]\n",
    "\n",
    "atus_2016_all_nonres_p25_64_multiplied_weight = atus_2016_all_nonres_p25_64_merge[\"Multiplied Weight\"].sum()\n",
    "atus_2016_all_nonres_p25_64_multiplied_weight"
   ]
  },
  {
   "cell_type": "code",
   "execution_count": 156,
   "metadata": {},
   "outputs": [
    {
     "data": {
      "text/plain": [
       "5.694414325939056"
      ]
     },
     "execution_count": 156,
     "metadata": {},
     "output_type": "execute_result"
    }
   ],
   "source": [
    "all_act_2016_nonres_p25_64_hpd = atus_2016_all_nonres_p25_64_multiplied_weight / atus_2016_p25_64_weight / 60\n",
    "all_act_2016_nonres_p25_64_hpd"
   ]
  },
  {
   "cell_type": "markdown",
   "metadata": {},
   "source": [
    "### 2017 All Activities - NonResidential - Age Between 25 and 64 "
   ]
  },
  {
   "cell_type": "code",
   "execution_count": 157,
   "metadata": {},
   "outputs": [],
   "source": [
    "atus_2017_all_nonres_p25_64 = atus_2017_nonres_p25_64.groupby([\"TUCASEID\"]).sum().filter([\"TUCASEID\", \"TUACTDUR24\"])\n",
    "#atus_2017_all_nonres_p25_64"
   ]
  },
  {
   "cell_type": "code",
   "execution_count": 158,
   "metadata": {},
   "outputs": [],
   "source": [
    "atus_2017_all_nonres_p25_64_merge = pd.merge(atus_2017_all_nonres_p25_64, multi_resp, on= \"TUCASEID\").filter([\"TUCASEID\",\"TUACTDUR24\",\"TUFNWGTP\"])\n",
    "#atus_2017_all_res_p25_64_merge"
   ]
  },
  {
   "cell_type": "code",
   "execution_count": 159,
   "metadata": {},
   "outputs": [
    {
     "data": {
      "text/plain": [
       "20798326314605.785"
      ]
     },
     "execution_count": 159,
     "metadata": {},
     "output_type": "execute_result"
    }
   ],
   "source": [
    "atus_2017_all_nonres_p25_64_merge[\"Multiplied Weight\"]=atus_2017_all_nonres_p25_64_merge[\"TUACTDUR24\"]*atus_2017_all_nonres_p25_64_merge[\"TUFNWGTP\"]\n",
    "\n",
    "atus_2017_all_nonres_p25_64_multiplied_weight = atus_2017_all_nonres_p25_64_merge[\"Multiplied Weight\"].sum()\n",
    "atus_2017_all_nonres_p25_64_multiplied_weight"
   ]
  },
  {
   "cell_type": "code",
   "execution_count": 160,
   "metadata": {},
   "outputs": [
    {
     "data": {
      "text/plain": [
       "5.673523604693754"
      ]
     },
     "execution_count": 160,
     "metadata": {},
     "output_type": "execute_result"
    }
   ],
   "source": [
    "all_act_2017_nonres_p25_64_hpd = atus_2017_all_nonres_p25_64_multiplied_weight / atus_2017_p25_64_weight / 60\n",
    "all_act_2017_nonres_p25_64_hpd"
   ]
  },
  {
   "cell_type": "markdown",
   "metadata": {},
   "source": [
    "### 2018 All Activities - NonResidential - Age Between 25 and 64 "
   ]
  },
  {
   "cell_type": "code",
   "execution_count": 161,
   "metadata": {},
   "outputs": [],
   "source": [
    "atus_2018_all_nonres_p25_64 = atus_2018_nonres_p25_64.groupby([\"TUCASEID\"]).sum().filter([\"TUCASEID\", \"TUACTDUR24\"])\n",
    "#atus_2018_all_nonres_p25_64"
   ]
  },
  {
   "cell_type": "code",
   "execution_count": 162,
   "metadata": {},
   "outputs": [],
   "source": [
    "atus_2018_all_nonres_p25_64_merge = pd.merge(atus_2018_all_nonres_p25_64, multi_resp, on= \"TUCASEID\").filter([\"TUCASEID\",\"TUACTDUR24\",\"TUFNWGTP\"])\n",
    "#atus_2018_all_res_p25_64_merge"
   ]
  },
  {
   "cell_type": "code",
   "execution_count": 163,
   "metadata": {},
   "outputs": [
    {
     "data": {
      "text/plain": [
       "21051683848441.83"
      ]
     },
     "execution_count": 163,
     "metadata": {},
     "output_type": "execute_result"
    }
   ],
   "source": [
    "atus_2018_all_nonres_p25_64_merge[\"Multiplied Weight\"]=atus_2018_all_nonres_p25_64_merge[\"TUACTDUR24\"]*atus_2018_all_nonres_p25_64_merge[\"TUFNWGTP\"]\n",
    "\n",
    "atus_2018_all_nonres_p25_64_multiplied_weight = atus_2018_all_nonres_p25_64_merge[\"Multiplied Weight\"].sum()\n",
    "atus_2018_all_nonres_p25_64_multiplied_weight"
   ]
  },
  {
   "cell_type": "code",
   "execution_count": 164,
   "metadata": {},
   "outputs": [
    {
     "data": {
      "text/plain": [
       "5.704720417040221"
      ]
     },
     "execution_count": 164,
     "metadata": {},
     "output_type": "execute_result"
    }
   ],
   "source": [
    "all_act_2018_nonres_p25_64_hpd = atus_2018_all_nonres_p25_64_multiplied_weight / atus_2018_p25_64_weight / 60\n",
    "all_act_2018_nonres_p25_64_hpd"
   ]
  },
  {
   "cell_type": "markdown",
   "metadata": {},
   "source": [
    "### 2019 All Activities - NonResidential - Age Between 25 and 64 "
   ]
  },
  {
   "cell_type": "code",
   "execution_count": 165,
   "metadata": {},
   "outputs": [],
   "source": [
    "atus_2019_all_nonres_p25_64 = atus_2019_nonres_p25_64.groupby([\"TUCASEID\"]).sum().filter([\"TUCASEID\", \"TUACTDUR24\"])\n",
    "#atus_2019_all_nonres_p25_64"
   ]
  },
  {
   "cell_type": "code",
   "execution_count": 166,
   "metadata": {},
   "outputs": [],
   "source": [
    "atus_2019_all_nonres_p25_64_merge = pd.merge(atus_2019_all_nonres_p25_64, multi_resp, on= \"TUCASEID\").filter([\"TUCASEID\",\"TUACTDUR24\",\"TUFNWGTP\"])\n",
    "#atus_2019_all_res_p25_64_merge"
   ]
  },
  {
   "cell_type": "code",
   "execution_count": 167,
   "metadata": {},
   "outputs": [
    {
     "data": {
      "text/plain": [
       "20758545646086.28"
      ]
     },
     "execution_count": 167,
     "metadata": {},
     "output_type": "execute_result"
    }
   ],
   "source": [
    "atus_2019_all_nonres_p25_64_merge[\"Multiplied Weight\"]=atus_2019_all_nonres_p25_64_merge[\"TUACTDUR24\"]*atus_2019_all_nonres_p25_64_merge[\"TUFNWGTP\"]\n",
    "\n",
    "atus_2019_all_nonres_p25_64_multiplied_weight = atus_2019_all_nonres_p25_64_merge[\"Multiplied Weight\"].sum()\n",
    "atus_2019_all_nonres_p25_64_multiplied_weight"
   ]
  },
  {
   "cell_type": "code",
   "execution_count": 168,
   "metadata": {},
   "outputs": [
    {
     "data": {
      "text/plain": [
       "5.6246303766878984"
      ]
     },
     "execution_count": 168,
     "metadata": {},
     "output_type": "execute_result"
    }
   ],
   "source": [
    "all_act_2019_nonres_p25_64_hpd = atus_2019_all_nonres_p25_64_multiplied_weight / atus_2019_p25_64_weight / 60\n",
    "all_act_2019_nonres_p25_64_hpd"
   ]
  },
  {
   "cell_type": "markdown",
   "metadata": {},
   "source": [
    "### Regresssion: All Activities - NonResidential - Age Between 25 and 64 "
   ]
  },
  {
   "cell_type": "markdown",
   "metadata": {},
   "source": [
    "#### 2003 -2012 Regression"
   ]
  },
  {
   "cell_type": "code",
   "execution_count": 169,
   "metadata": {},
   "outputs": [],
   "source": [
    "year = np.array([2003, 2004, 2005, 2006, 2007, 2008, 2009, 2010,2011,2012]).reshape((-1, 1))\n",
    "activity_hours_per_day = np.array([all_act_2003_nonres_p25_64_hpd, all_act_2004_nonres_p25_64_hpd, all_act_2005_nonres_p25_64_hpd,\n",
    "                                   all_act_2006_nonres_p25_64_hpd, all_act_2007_nonres_p25_64_hpd, all_act_2008_nonres_p25_64_hpd,\n",
    "                                   all_act_2009_nonres_p25_64_hpd, all_act_2010_nonres_p25_64_hpd, all_act_2011_nonres_p25_64_hpd,\n",
    "                                   all_act_2012_nonres_p25_64_hpd]).reshape((-1, 1))\n",
    "\n",
    "activity_hours_per_yr = [i * 365 for i in activity_hours_per_day]\n",
    "#activity_hours_per_yr"
   ]
  },
  {
   "cell_type": "code",
   "execution_count": 170,
   "metadata": {},
   "outputs": [
    {
     "data": {
      "image/png": "[encoded data removed]",
      "text/plain": [
       "<Figure size 432x288 with 1 Axes>"
      ]
     },
     "metadata": {
      "needs_background": "light"
     },
     "output_type": "display_data"
    }
   ],
   "source": [
    "x = year\n",
    "y = activity_hours_per_yr\n",
    "x, y = np.array(x), np.array(y)\n",
    "\n",
    "model = LinearRegression().fit(x, y)\n",
    "\n",
    "y_pred = model.predict(x)  \n",
    "\n",
    "plt.scatter(x, y)\n",
    "plt.plot(x, y_pred, color='red')\n",
    "plt.show()"
   ]
  },
  {
   "cell_type": "code",
   "execution_count": 171,
   "metadata": {},
   "outputs": [
    {
     "data": {
      "text/plain": [
       "0.7490367241706872"
      ]
     },
     "execution_count": 171,
     "metadata": {},
     "output_type": "execute_result"
    }
   ],
   "source": [
    "coefficient_of_determination = model.score(x,y) #R sqaure value \n",
    "coefficient_of_determination"
   ]
  },
  {
   "cell_type": "code",
   "execution_count": 172,
   "metadata": {},
   "outputs": [
    {
     "data": {
      "text/plain": [
       "array([[-17.4916051]])"
      ]
     },
     "execution_count": 172,
     "metadata": {},
     "output_type": "execute_result"
    }
   ],
   "source": [
    "all_act_2012_nonres_p25_64_slope = model.coef_\n",
    "all_act_2012_nonres_p25_64_slope"
   ]
  },
  {
   "cell_type": "markdown",
   "metadata": {},
   "source": [
    "#### 2003 -2019 Regression"
   ]
  },
  {
   "cell_type": "code",
   "execution_count": 173,
   "metadata": {},
   "outputs": [],
   "source": [
    "year = np.array([2003, 2004, 2005, 2006, 2007, 2008, 2009, 2010,2011,2012, 2013, 2014, 2015, 2016, 2017, 2018, 2019]).reshape((-1, 1))\n",
    "activity_hours_per_day = np.array([all_act_2003_nonres_p25_64_hpd, all_act_2004_nonres_p25_64_hpd, all_act_2005_nonres_p25_64_hpd,\n",
    "                                   all_act_2006_nonres_p25_64_hpd, all_act_2007_nonres_p25_64_hpd, all_act_2008_nonres_p25_64_hpd,\n",
    "                                   all_act_2009_nonres_p25_64_hpd, all_act_2010_nonres_p25_64_hpd, all_act_2011_nonres_p25_64_hpd,\n",
    "                                   all_act_2012_nonres_p25_64_hpd, all_act_2013_nonres_p25_64_hpd, all_act_2014_nonres_p25_64_hpd,\n",
    "                                   all_act_2015_nonres_p25_64_hpd, all_act_2016_nonres_p25_64_hpd, all_act_2017_nonres_p25_64_hpd,\n",
    "                                   all_act_2018_nonres_p25_64_hpd, all_act_2019_nonres_p25_64_hpd]).reshape((-1, 1))\n",
    "\n",
    "activity_hours_per_yr = [i * 365 for i in activity_hours_per_day]\n",
    "#activity_hours_per_yr"
   ]
  },
  {
   "cell_type": "code",
   "execution_count": 174,
   "metadata": {},
   "outputs": [
    {
     "data": {
      "image/png": "[encoded data removed]",
      "text/plain": [
       "<Figure size 432x288 with 1 Axes>"
      ]
     },
     "metadata": {
      "needs_background": "light"
     },
     "output_type": "display_data"
    }
   ],
   "source": [
    "x = year\n",
    "y = activity_hours_per_yr\n",
    "x, y = np.array(x), np.array(y)\n",
    "\n",
    "model = LinearRegression().fit(x, y)\n",
    "\n",
    "y_pred = model.predict(x)  \n",
    "\n",
    "plt.scatter(x, y)\n",
    "plt.plot(x, y_pred, color='red')\n",
    "plt.show()"
   ]
  },
  {
   "cell_type": "code",
   "execution_count": 175,
   "metadata": {},
   "outputs": [
    {
     "data": {
      "text/plain": [
       "0.43591927927878815"
      ]
     },
     "execution_count": 175,
     "metadata": {},
     "output_type": "execute_result"
    }
   ],
   "source": [
    "coefficient_of_determination = model.score(x,y) #R sqaure value \n",
    "coefficient_of_determination"
   ]
  },
  {
   "cell_type": "code",
   "execution_count": 176,
   "metadata": {},
   "outputs": [
    {
     "data": {
      "text/plain": [
       "array([[-7.25928201]])"
      ]
     },
     "execution_count": 176,
     "metadata": {},
     "output_type": "execute_result"
    }
   ],
   "source": [
    "all_act_2019_nonres_p25_64_slope = model.coef_\n",
    "all_act_2019_nonres_p25_64_slope"
   ]
  },
  {
   "cell_type": "markdown",
   "metadata": {},
   "source": [
    "## 2003-2019 Transportation - Age Between 25 and 64 "
   ]
  },
  {
   "cell_type": "markdown",
   "metadata": {},
   "source": [
    "### 2003 Transportation"
   ]
  },
  {
   "cell_type": "code",
   "execution_count": 177,
   "metadata": {},
   "outputs": [],
   "source": [
    "#transporation = 12, 13. 12 = Car, truck, or motorcycle (driver), 13= Car, truck, or motorcycle (passager)"
   ]
  },
  {
   "cell_type": "code",
   "execution_count": 178,
   "metadata": {},
   "outputs": [],
   "source": [
    "transpoartion_location = [12,13]\n",
    "atus_multi_yr_tran_p25_64 = multi_merged_p25_64[multi_merged_p25_64[\"TEWHERE\"].isin(transpoartion_location)]\n",
    "#atus_multi_yr_tran_p25_64"
   ]
  },
  {
   "cell_type": "code",
   "execution_count": 179,
   "metadata": {},
   "outputs": [],
   "source": [
    "#atus transportation p25_64 population seperated by year\n",
    "atus_2003_tran_p25_64 = atus_multi_yr_tran_p25_64[atus_multi_yr_tran_p25_64[\"TUCASEID\"].apply(str).str.startswith(\"2003\")]\n",
    "atus_2004_tran_p25_64 = atus_multi_yr_tran_p25_64[atus_multi_yr_tran_p25_64[\"TUCASEID\"].apply(str).str.startswith(\"2004\")]\n",
    "atus_2005_tran_p25_64 = atus_multi_yr_tran_p25_64[atus_multi_yr_tran_p25_64[\"TUCASEID\"].apply(str).str.startswith(\"2005\")]\n",
    "atus_2006_tran_p25_64 = atus_multi_yr_tran_p25_64[atus_multi_yr_tran_p25_64[\"TUCASEID\"].apply(str).str.startswith(\"2006\")]\n",
    "atus_2007_tran_p25_64 = atus_multi_yr_tran_p25_64[atus_multi_yr_tran_p25_64[\"TUCASEID\"].apply(str).str.startswith(\"2007\")]\n",
    "atus_2008_tran_p25_64 = atus_multi_yr_tran_p25_64[atus_multi_yr_tran_p25_64[\"TUCASEID\"].apply(str).str.startswith(\"2008\")]\n",
    "atus_2009_tran_p25_64 = atus_multi_yr_tran_p25_64[atus_multi_yr_tran_p25_64[\"TUCASEID\"].apply(str).str.startswith(\"2009\")]\n",
    "atus_2010_tran_p25_64 = atus_multi_yr_tran_p25_64[atus_multi_yr_tran_p25_64[\"TUCASEID\"].apply(str).str.startswith(\"2010\")]\n",
    "atus_2011_tran_p25_64 = atus_multi_yr_tran_p25_64[atus_multi_yr_tran_p25_64[\"TUCASEID\"].apply(str).str.startswith(\"2011\")]\n",
    "atus_2012_tran_p25_64 = atus_multi_yr_tran_p25_64[atus_multi_yr_tran_p25_64[\"TUCASEID\"].apply(str).str.startswith(\"2012\")]\n",
    "atus_2013_tran_p25_64 = atus_multi_yr_tran_p25_64[atus_multi_yr_tran_p25_64[\"TUCASEID\"].apply(str).str.startswith(\"2013\")]\n",
    "atus_2014_tran_p25_64 = atus_multi_yr_tran_p25_64[atus_multi_yr_tran_p25_64[\"TUCASEID\"].apply(str).str.startswith(\"2014\")]\n",
    "atus_2015_tran_p25_64 = atus_multi_yr_tran_p25_64[atus_multi_yr_tran_p25_64[\"TUCASEID\"].apply(str).str.startswith(\"2015\")]\n",
    "atus_2016_tran_p25_64 = atus_multi_yr_tran_p25_64[atus_multi_yr_tran_p25_64[\"TUCASEID\"].apply(str).str.startswith(\"2016\")]\n",
    "atus_2017_tran_p25_64 = atus_multi_yr_tran_p25_64[atus_multi_yr_tran_p25_64[\"TUCASEID\"].apply(str).str.startswith(\"2017\")]\n",
    "atus_2018_tran_p25_64 = atus_multi_yr_tran_p25_64[atus_multi_yr_tran_p25_64[\"TUCASEID\"].apply(str).str.startswith(\"2018\")]\n",
    "atus_2019_tran_p25_64 = atus_multi_yr_tran_p25_64[atus_multi_yr_tran_p25_64[\"TUCASEID\"].apply(str).str.startswith(\"2019\")]\n",
    "#atus_2003_tran_p25_64"
   ]
  },
  {
   "cell_type": "code",
   "execution_count": 180,
   "metadata": {},
   "outputs": [],
   "source": [
    "atus_2003_tran_p25_64 = atus_2003_tran_p25_64.groupby([\"TUCASEID\"]).sum().filter([\"TUCASEID\", \"TUACTDUR24\"])\n",
    "#atus_2003_tran_p25_64"
   ]
  },
  {
   "cell_type": "code",
   "execution_count": 181,
   "metadata": {},
   "outputs": [],
   "source": [
    "atus_2003_tran_p25_64_merge = pd.merge(atus_2003_tran_p25_64, multi_resp, on= \"TUCASEID\").filter([\"TUCASEID\",\"TUACTDUR24\",\"TUFNWGTP\"])\n",
    "#atus_2003_tran_p25_64_merge"
   ]
  },
  {
   "cell_type": "code",
   "execution_count": 182,
   "metadata": {},
   "outputs": [],
   "source": [
    "atus_2003_tran_p25_64_merge[\"Multiplied Weight\"] = atus_2003_tran_p25_64_merge[\"TUACTDUR24\"] * atus_2003_tran_p25_64_merge[\"TUFNWGTP\"]\n",
    "#atus_2003_tran_p25_64_merge"
   ]
  },
  {
   "cell_type": "code",
   "execution_count": 183,
   "metadata": {},
   "outputs": [
    {
     "data": {
      "text/plain": [
       "4065818226353.311"
      ]
     },
     "execution_count": 183,
     "metadata": {},
     "output_type": "execute_result"
    }
   ],
   "source": [
    "atus_2003_tran_p25_64_multiplied_weight = atus_2003_tran_p25_64_merge[\"Multiplied Weight\"].sum()\n",
    "atus_2003_tran_p25_64_multiplied_weight"
   ]
  },
  {
   "cell_type": "code",
   "execution_count": 184,
   "metadata": {},
   "outputs": [
    {
     "data": {
      "text/plain": [
       "1.2293235667572515"
      ]
     },
     "execution_count": 184,
     "metadata": {},
     "output_type": "execute_result"
    }
   ],
   "source": [
    "atus_2003_tran_p25_64_hpd = atus_2003_tran_p25_64_multiplied_weight / atus_2003_p25_64_weight / 60\n",
    "atus_2003_tran_p25_64_hpd"
   ]
  },
  {
   "cell_type": "markdown",
   "metadata": {},
   "source": [
    "### 2004 Transportation"
   ]
  },
  {
   "cell_type": "code",
   "execution_count": 185,
   "metadata": {},
   "outputs": [],
   "source": [
    "atus_2004_tran_p25_64 = atus_2004_tran_p25_64.groupby([\"TUCASEID\"]).sum().filter([\"TUCASEID\", \"TUACTDUR24\"])\n",
    "atus_2004_tran_p25_64_merge = pd.merge(atus_2004_tran_p25_64, multi_resp, on= \"TUCASEID\").filter([\"TUCASEID\",\"TUACTDUR24\",\"TUFNWGTP\"])\n",
    "#atus_2004_tran_p25_64_merge"
   ]
  },
  {
   "cell_type": "code",
   "execution_count": 186,
   "metadata": {},
   "outputs": [
    {
     "data": {
      "text/plain": [
       "4044328113002.6606"
      ]
     },
     "execution_count": 186,
     "metadata": {},
     "output_type": "execute_result"
    }
   ],
   "source": [
    "atus_2004_tran_p25_64_merge[\"Multiplied Weight\"] = atus_2004_tran_p25_64_merge[\"TUACTDUR24\"] * atus_2004_tran_p25_64_merge[\"TUFNWGTP\"]\n",
    "atus_2004_tran_p25_64_multiplied_weight = atus_2004_tran_p25_64_merge[\"Multiplied Weight\"].sum()\n",
    "atus_2004_tran_p25_64_multiplied_weight"
   ]
  },
  {
   "cell_type": "code",
   "execution_count": 187,
   "metadata": {},
   "outputs": [
    {
     "data": {
      "text/plain": [
       "1.2090101227438317"
      ]
     },
     "execution_count": 187,
     "metadata": {},
     "output_type": "execute_result"
    }
   ],
   "source": [
    "atus_2004_tran_p25_64_hpd = atus_2004_tran_p25_64_multiplied_weight / atus_2004_p25_64_weight / 60\n",
    "atus_2004_tran_p25_64_hpd"
   ]
  },
  {
   "cell_type": "markdown",
   "metadata": {},
   "source": [
    "### 2005 Transportation"
   ]
  },
  {
   "cell_type": "code",
   "execution_count": 188,
   "metadata": {},
   "outputs": [],
   "source": [
    "atus_2005_tran_p25_64 = atus_2005_tran_p25_64.groupby([\"TUCASEID\"]).sum().filter([\"TUCASEID\", \"TUACTDUR24\"])\n",
    "atus_2005_tran_p25_64_merge = pd.merge(atus_2005_tran_p25_64, multi_resp, on= \"TUCASEID\").filter([\"TUCASEID\",\"TUACTDUR24\",\"TUFNWGTP\"])\n",
    "#atus_2005_tran_p25_64_merge"
   ]
  },
  {
   "cell_type": "code",
   "execution_count": 189,
   "metadata": {},
   "outputs": [
    {
     "data": {
      "text/plain": [
       "4017742623949.9023"
      ]
     },
     "execution_count": 189,
     "metadata": {},
     "output_type": "execute_result"
    }
   ],
   "source": [
    "atus_2005_tran_p25_64_merge[\"Multiplied Weight\"] = atus_2005_tran_p25_64_merge[\"TUACTDUR24\"] * atus_2005_tran_p25_64_merge[\"TUFNWGTP\"]\n",
    "atus_2005_tran_p25_64_multiplied_weight = atus_2005_tran_p25_64_merge[\"Multiplied Weight\"].sum()\n",
    "atus_2005_tran_p25_64_multiplied_weight"
   ]
  },
  {
   "cell_type": "code",
   "execution_count": 190,
   "metadata": {},
   "outputs": [
    {
     "data": {
      "text/plain": [
       "1.1886587097882697"
      ]
     },
     "execution_count": 190,
     "metadata": {},
     "output_type": "execute_result"
    }
   ],
   "source": [
    "atus_2005_tran_p25_64_hpd = atus_2005_tran_p25_64_multiplied_weight / atus_2005_p25_64_weight / 60\n",
    "atus_2005_tran_p25_64_hpd"
   ]
  },
  {
   "cell_type": "markdown",
   "metadata": {},
   "source": [
    "### 2006 Transportation"
   ]
  },
  {
   "cell_type": "code",
   "execution_count": 191,
   "metadata": {},
   "outputs": [],
   "source": [
    "atus_2006_tran_p25_64 = atus_2006_tran_p25_64.groupby([\"TUCASEID\"]).sum().filter([\"TUCASEID\", \"TUACTDUR24\"])\n",
    "atus_2006_tran_p25_64_merge = pd.merge(atus_2006_tran_p25_64, multi_resp, on= \"TUCASEID\").filter([\"TUCASEID\",\"TUACTDUR24\",\"TUFNWGTP\"])\n",
    "#atus_2006_tran_p25_64_merge"
   ]
  },
  {
   "cell_type": "code",
   "execution_count": 192,
   "metadata": {},
   "outputs": [
    {
     "data": {
      "text/plain": [
       "4006963050603.9697"
      ]
     },
     "execution_count": 192,
     "metadata": {},
     "output_type": "execute_result"
    }
   ],
   "source": [
    "atus_2006_tran_p25_64_merge[\"Multiplied Weight\"] = atus_2006_tran_p25_64_merge[\"TUACTDUR24\"] * atus_2006_tran_p25_64_merge[\"TUFNWGTP\"]\n",
    "atus_2006_tran_p25_64_multiplied_weight = atus_2006_tran_p25_64_merge[\"Multiplied Weight\"].sum()\n",
    "atus_2006_tran_p25_64_multiplied_weight"
   ]
  },
  {
   "cell_type": "code",
   "execution_count": 193,
   "metadata": {},
   "outputs": [
    {
     "data": {
      "text/plain": [
       "1.1708250655145185"
      ]
     },
     "execution_count": 193,
     "metadata": {},
     "output_type": "execute_result"
    }
   ],
   "source": [
    "atus_2006_tran_p25_64_hpd = atus_2006_tran_p25_64_multiplied_weight / atus_2006_p25_64_weight / 60\n",
    "atus_2006_tran_p25_64_hpd"
   ]
  },
  {
   "cell_type": "markdown",
   "metadata": {},
   "source": [
    "### 2007 Transportation"
   ]
  },
  {
   "cell_type": "code",
   "execution_count": 194,
   "metadata": {},
   "outputs": [],
   "source": [
    "atus_2007_tran_p25_64 = atus_2007_tran_p25_64.groupby([\"TUCASEID\"]).sum().filter([\"TUCASEID\", \"TUACTDUR24\"])\n",
    "atus_2007_tran_p25_64_merge = pd.merge(atus_2007_tran_p25_64, multi_resp, on= \"TUCASEID\").filter([\"TUCASEID\",\"TUACTDUR24\",\"TUFNWGTP\"])\n",
    "#atus_2007_tran_p25_64_merge"
   ]
  },
  {
   "cell_type": "code",
   "execution_count": 195,
   "metadata": {},
   "outputs": [
    {
     "data": {
      "text/plain": [
       "4054311686171.603"
      ]
     },
     "execution_count": 195,
     "metadata": {},
     "output_type": "execute_result"
    }
   ],
   "source": [
    "atus_2007_tran_p25_64_merge[\"Multiplied Weight\"] = atus_2007_tran_p25_64_merge[\"TUACTDUR24\"] * atus_2007_tran_p25_64_merge[\"TUFNWGTP\"]\n",
    "atus_2007_tran_p25_64_multiplied_weight = atus_2007_tran_p25_64_merge[\"Multiplied Weight\"].sum()\n",
    "atus_2007_tran_p25_64_multiplied_weight"
   ]
  },
  {
   "cell_type": "code",
   "execution_count": 196,
   "metadata": {},
   "outputs": [
    {
     "data": {
      "text/plain": [
       "1.1699322603654447"
      ]
     },
     "execution_count": 196,
     "metadata": {},
     "output_type": "execute_result"
    }
   ],
   "source": [
    "atus_2007_tran_p25_64_hpd = atus_2007_tran_p25_64_multiplied_weight / atus_2007_p25_64_weight / 60\n",
    "atus_2007_tran_p25_64_hpd"
   ]
  },
  {
   "cell_type": "markdown",
   "metadata": {},
   "source": [
    "### 2008 Transportation"
   ]
  },
  {
   "cell_type": "code",
   "execution_count": 197,
   "metadata": {},
   "outputs": [],
   "source": [
    "atus_2008_tran_p25_64 = atus_2008_tran_p25_64.groupby([\"TUCASEID\"]).sum().filter([\"TUCASEID\", \"TUACTDUR24\"])\n",
    "atus_2008_tran_p25_64_merge = pd.merge(atus_2008_tran_p25_64, multi_resp, on= \"TUCASEID\").filter([\"TUCASEID\",\"TUACTDUR24\",\"TUFNWGTP\"])\n",
    "#atus_2008_tran_p25_64_merge"
   ]
  },
  {
   "cell_type": "code",
   "execution_count": 198,
   "metadata": {},
   "outputs": [
    {
     "data": {
      "text/plain": [
       "4003262168348.5786"
      ]
     },
     "execution_count": 198,
     "metadata": {},
     "output_type": "execute_result"
    }
   ],
   "source": [
    "atus_2008_tran_p25_64_merge[\"Multiplied Weight\"] = atus_2008_tran_p25_64_merge[\"TUACTDUR24\"] * atus_2008_tran_p25_64_merge[\"TUFNWGTP\"]\n",
    "atus_2008_tran_p25_64_multiplied_weight = atus_2008_tran_p25_64_merge[\"Multiplied Weight\"].sum()\n",
    "atus_2008_tran_p25_64_multiplied_weight"
   ]
  },
  {
   "cell_type": "code",
   "execution_count": 199,
   "metadata": {},
   "outputs": [
    {
     "data": {
      "text/plain": [
       "1.1454955603803398"
      ]
     },
     "execution_count": 199,
     "metadata": {},
     "output_type": "execute_result"
    }
   ],
   "source": [
    "atus_2008_tran_p25_64_hpd = atus_2008_tran_p25_64_multiplied_weight / atus_2008_p25_64_weight / 60\n",
    "atus_2008_tran_p25_64_hpd"
   ]
  },
  {
   "cell_type": "markdown",
   "metadata": {},
   "source": [
    "### 2009 Transportation"
   ]
  },
  {
   "cell_type": "code",
   "execution_count": 200,
   "metadata": {},
   "outputs": [],
   "source": [
    "atus_2009_tran_p25_64 = atus_2009_tran_p25_64.groupby([\"TUCASEID\"]).sum().filter([\"TUCASEID\", \"TUACTDUR24\"])\n",
    "atus_2009_tran_p25_64_merge = pd.merge(atus_2009_tran_p25_64, multi_resp, on= \"TUCASEID\").filter([\"TUCASEID\",\"TUACTDUR24\",\"TUFNWGTP\"])\n",
    "#atus_2009_tran_p25_64_merge"
   ]
  },
  {
   "cell_type": "code",
   "execution_count": 201,
   "metadata": {},
   "outputs": [
    {
     "data": {
      "text/plain": [
       "3999764285093.799"
      ]
     },
     "execution_count": 201,
     "metadata": {},
     "output_type": "execute_result"
    }
   ],
   "source": [
    "atus_2009_tran_p25_64_merge[\"Multiplied Weight\"] = atus_2009_tran_p25_64_merge[\"TUACTDUR24\"] * atus_2009_tran_p25_64_merge[\"TUFNWGTP\"]\n",
    "atus_2009_tran_p25_64_multiplied_weight = atus_2009_tran_p25_64_merge[\"Multiplied Weight\"].sum()\n",
    "atus_2009_tran_p25_64_multiplied_weight"
   ]
  },
  {
   "cell_type": "code",
   "execution_count": 202,
   "metadata": {},
   "outputs": [
    {
     "data": {
      "text/plain": [
       "1.139759067333105"
      ]
     },
     "execution_count": 202,
     "metadata": {},
     "output_type": "execute_result"
    }
   ],
   "source": [
    "atus_2009_tran_p25_64_hpd = atus_2009_tran_p25_64_multiplied_weight / atus_2009_p25_64_weight / 60\n",
    "atus_2009_tran_p25_64_hpd"
   ]
  },
  {
   "cell_type": "markdown",
   "metadata": {},
   "source": [
    "### 2010 Transportation"
   ]
  },
  {
   "cell_type": "code",
   "execution_count": 203,
   "metadata": {},
   "outputs": [],
   "source": [
    "atus_2010_tran_p25_64 = atus_2010_tran_p25_64.groupby([\"TUCASEID\"]).sum().filter([\"TUCASEID\", \"TUACTDUR24\"])\n",
    "atus_2010_tran_p25_64_merge = pd.merge(atus_2010_tran_p25_64, multi_resp, on= \"TUCASEID\").filter([\"TUCASEID\",\"TUACTDUR24\",\"TUFNWGTP\"])\n",
    "#atus_2010_tran_p25_64_merge"
   ]
  },
  {
   "cell_type": "code",
   "execution_count": 204,
   "metadata": {},
   "outputs": [
    {
     "data": {
      "text/plain": [
       "4214427269522.582"
      ]
     },
     "execution_count": 204,
     "metadata": {},
     "output_type": "execute_result"
    }
   ],
   "source": [
    "atus_2010_tran_p25_64_merge[\"Multiplied Weight\"] = atus_2010_tran_p25_64_merge[\"TUACTDUR24\"] * atus_2010_tran_p25_64_merge[\"TUFNWGTP\"]\n",
    "atus_2010_tran_p25_64_multiplied_weight = atus_2010_tran_p25_64_merge[\"Multiplied Weight\"].sum()\n",
    "atus_2010_tran_p25_64_multiplied_weight"
   ]
  },
  {
   "cell_type": "code",
   "execution_count": 205,
   "metadata": {},
   "outputs": [
    {
     "data": {
      "text/plain": [
       "1.1939025932025311"
      ]
     },
     "execution_count": 205,
     "metadata": {},
     "output_type": "execute_result"
    }
   ],
   "source": [
    "atus_2010_tran_p25_64_hpd = atus_2010_tran_p25_64_multiplied_weight / atus_2010_p25_64_weight / 60\n",
    "atus_2010_tran_p25_64_hpd"
   ]
  },
  {
   "cell_type": "markdown",
   "metadata": {},
   "source": [
    "### 2011 Transportation"
   ]
  },
  {
   "cell_type": "code",
   "execution_count": 206,
   "metadata": {},
   "outputs": [],
   "source": [
    "atus_2011_tran_p25_64 = atus_2011_tran_p25_64.groupby([\"TUCASEID\"]).sum().filter([\"TUCASEID\", \"TUACTDUR24\"])\n",
    "atus_2011_tran_p25_64_merge = pd.merge(atus_2011_tran_p25_64, multi_resp, on= \"TUCASEID\").filter([\"TUCASEID\",\"TUACTDUR24\",\"TUFNWGTP\"])\n",
    "#atus_2011_tran_p25_64_merge"
   ]
  },
  {
   "cell_type": "code",
   "execution_count": 207,
   "metadata": {},
   "outputs": [
    {
     "data": {
      "text/plain": [
       "4159154115439.3047"
      ]
     },
     "execution_count": 207,
     "metadata": {},
     "output_type": "execute_result"
    }
   ],
   "source": [
    "atus_2011_tran_p25_64_merge[\"Multiplied Weight\"] = atus_2011_tran_p25_64_merge[\"TUACTDUR24\"] * atus_2011_tran_p25_64_merge[\"TUFNWGTP\"]\n",
    "atus_2011_tran_p25_64_multiplied_weight = atus_2011_tran_p25_64_merge[\"Multiplied Weight\"].sum()\n",
    "atus_2011_tran_p25_64_multiplied_weight"
   ]
  },
  {
   "cell_type": "code",
   "execution_count": 208,
   "metadata": {},
   "outputs": [
    {
     "data": {
      "text/plain": [
       "1.174460474314408"
      ]
     },
     "execution_count": 208,
     "metadata": {},
     "output_type": "execute_result"
    }
   ],
   "source": [
    "atus_2011_tran_p25_64_hpd = atus_2011_tran_p25_64_multiplied_weight / atus_2011_p25_64_weight / 60\n",
    "atus_2011_tran_p25_64_hpd"
   ]
  },
  {
   "cell_type": "markdown",
   "metadata": {},
   "source": [
    "### 2012 Transportation"
   ]
  },
  {
   "cell_type": "code",
   "execution_count": 209,
   "metadata": {},
   "outputs": [],
   "source": [
    "atus_2012_tran_p25_64 = atus_2012_tran_p25_64.groupby([\"TUCASEID\"]).sum().filter([\"TUCASEID\", \"TUACTDUR24\"])\n",
    "atus_2012_tran_p25_64_merge = pd.merge(atus_2012_tran_p25_64, multi_resp, on= \"TUCASEID\").filter([\"TUCASEID\",\"TUACTDUR24\",\"TUFNWGTP\"])\n",
    "#atus_2012_tran_p25_64_merge"
   ]
  },
  {
   "cell_type": "code",
   "execution_count": 210,
   "metadata": {},
   "outputs": [
    {
     "data": {
      "text/plain": [
       "4141708692758.5293"
      ]
     },
     "execution_count": 210,
     "metadata": {},
     "output_type": "execute_result"
    }
   ],
   "source": [
    "atus_2012_tran_p25_64_merge[\"Multiplied Weight\"] = atus_2012_tran_p25_64_merge[\"TUACTDUR24\"] * atus_2012_tran_p25_64_merge[\"TUFNWGTP\"]\n",
    "atus_2012_tran_p25_64_multiplied_weight = atus_2012_tran_p25_64_merge[\"Multiplied Weight\"].sum()\n",
    "atus_2012_tran_p25_64_multiplied_weight"
   ]
  },
  {
   "cell_type": "code",
   "execution_count": 211,
   "metadata": {},
   "outputs": [
    {
     "data": {
      "text/plain": [
       "1.1596710917074886"
      ]
     },
     "execution_count": 211,
     "metadata": {},
     "output_type": "execute_result"
    }
   ],
   "source": [
    "atus_2012_tran_p25_64_hpd = atus_2012_tran_p25_64_multiplied_weight / atus_2012_p25_64_weight / 60\n",
    "atus_2012_tran_p25_64_hpd"
   ]
  },
  {
   "cell_type": "markdown",
   "metadata": {},
   "source": [
    "### 2013 Transportation"
   ]
  },
  {
   "cell_type": "code",
   "execution_count": 212,
   "metadata": {},
   "outputs": [],
   "source": [
    "atus_2013_tran_p25_64 = atus_2013_tran_p25_64.groupby([\"TUCASEID\"]).sum().filter([\"TUCASEID\", \"TUACTDUR24\"])\n",
    "atus_2013_tran_p25_64_merge = pd.merge(atus_2013_tran_p25_64, multi_resp, on= \"TUCASEID\").filter([\"TUCASEID\",\"TUACTDUR24\",\"TUFNWGTP\"])\n",
    "#atus_2013_tran_p25_64_merge"
   ]
  },
  {
   "cell_type": "code",
   "execution_count": 213,
   "metadata": {},
   "outputs": [
    {
     "data": {
      "text/plain": [
       "4105622359349.9355"
      ]
     },
     "execution_count": 213,
     "metadata": {},
     "output_type": "execute_result"
    }
   ],
   "source": [
    "atus_2013_tran_p25_64_merge[\"Multiplied Weight\"] = atus_2013_tran_p25_64_merge[\"TUACTDUR24\"] * atus_2013_tran_p25_64_merge[\"TUFNWGTP\"]\n",
    "atus_2013_tran_p25_64_multiplied_weight = atus_2013_tran_p25_64_merge[\"Multiplied Weight\"].sum()\n",
    "atus_2013_tran_p25_64_multiplied_weight"
   ]
  },
  {
   "cell_type": "code",
   "execution_count": 214,
   "metadata": {},
   "outputs": [
    {
     "data": {
      "text/plain": [
       "1.14710448169454"
      ]
     },
     "execution_count": 214,
     "metadata": {},
     "output_type": "execute_result"
    }
   ],
   "source": [
    "atus_2013_tran_p25_64_hpd = atus_2013_tran_p25_64_multiplied_weight / atus_2013_p25_64_weight / 60\n",
    "atus_2013_tran_p25_64_hpd"
   ]
  },
  {
   "cell_type": "markdown",
   "metadata": {},
   "source": [
    "### 2014 Transportation"
   ]
  },
  {
   "cell_type": "code",
   "execution_count": 215,
   "metadata": {},
   "outputs": [],
   "source": [
    "atus_2014_tran_p25_64 = atus_2014_tran_p25_64.groupby([\"TUCASEID\"]).sum().filter([\"TUCASEID\", \"TUACTDUR24\"])\n",
    "atus_2014_tran_p25_64_merge = pd.merge(atus_2014_tran_p25_64, multi_resp, on= \"TUCASEID\").filter([\"TUCASEID\",\"TUACTDUR24\",\"TUFNWGTP\"])\n",
    "#atus_2014_tran_p25_64_merge"
   ]
  },
  {
   "cell_type": "code",
   "execution_count": 216,
   "metadata": {},
   "outputs": [
    {
     "data": {
      "text/plain": [
       "3986474566398.167"
      ]
     },
     "execution_count": 216,
     "metadata": {},
     "output_type": "execute_result"
    }
   ],
   "source": [
    "atus_2014_tran_p25_64_merge[\"Multiplied Weight\"] = atus_2014_tran_p25_64_merge[\"TUACTDUR24\"] * atus_2014_tran_p25_64_merge[\"TUFNWGTP\"]\n",
    "atus_2014_tran_p25_64_multiplied_weight = atus_2014_tran_p25_64_merge[\"Multiplied Weight\"].sum()\n",
    "atus_2014_tran_p25_64_multiplied_weight"
   ]
  },
  {
   "cell_type": "code",
   "execution_count": 217,
   "metadata": {},
   "outputs": [
    {
     "data": {
      "text/plain": [
       "1.1080810756162924"
      ]
     },
     "execution_count": 217,
     "metadata": {},
     "output_type": "execute_result"
    }
   ],
   "source": [
    "atus_2014_tran_p25_64_hpd = atus_2014_tran_p25_64_multiplied_weight / atus_2014_p25_64_weight / 60\n",
    "atus_2014_tran_p25_64_hpd"
   ]
  },
  {
   "cell_type": "markdown",
   "metadata": {},
   "source": [
    "### 2015 Transportation"
   ]
  },
  {
   "cell_type": "code",
   "execution_count": 218,
   "metadata": {},
   "outputs": [],
   "source": [
    "atus_2015_tran_p25_64 = atus_2015_tran_p25_64.groupby([\"TUCASEID\"]).sum().filter([\"TUCASEID\", \"TUACTDUR24\"])\n",
    "atus_2015_tran_p25_64_merge = pd.merge(atus_2015_tran_p25_64, multi_resp, on= \"TUCASEID\").filter([\"TUCASEID\",\"TUACTDUR24\",\"TUFNWGTP\"])\n",
    "#atus_2015_tran_p25_64_merge"
   ]
  },
  {
   "cell_type": "code",
   "execution_count": 219,
   "metadata": {},
   "outputs": [
    {
     "data": {
      "text/plain": [
       "4211415859495.5244"
      ]
     },
     "execution_count": 219,
     "metadata": {},
     "output_type": "execute_result"
    }
   ],
   "source": [
    "atus_2015_tran_p25_64_merge[\"Multiplied Weight\"] = atus_2015_tran_p25_64_merge[\"TUACTDUR24\"] * atus_2015_tran_p25_64_merge[\"TUFNWGTP\"]\n",
    "atus_2015_tran_p25_64_multiplied_weight = atus_2015_tran_p25_64_merge[\"Multiplied Weight\"].sum()\n",
    "atus_2015_tran_p25_64_multiplied_weight"
   ]
  },
  {
   "cell_type": "code",
   "execution_count": 220,
   "metadata": {},
   "outputs": [
    {
     "data": {
      "text/plain": [
       "1.160500434440553"
      ]
     },
     "execution_count": 220,
     "metadata": {},
     "output_type": "execute_result"
    }
   ],
   "source": [
    "atus_2015_tran_p25_64_hpd = atus_2015_tran_p25_64_multiplied_weight / atus_2015_p25_64_weight / 60\n",
    "atus_2015_tran_p25_64_hpd"
   ]
  },
  {
   "cell_type": "markdown",
   "metadata": {},
   "source": [
    "### 2016 Transportation"
   ]
  },
  {
   "cell_type": "code",
   "execution_count": 221,
   "metadata": {},
   "outputs": [],
   "source": [
    "atus_2016_tran_p25_64 = atus_2016_tran_p25_64.groupby([\"TUCASEID\"]).sum().filter([\"TUCASEID\", \"TUACTDUR24\"])\n",
    "atus_2016_tran_p25_64_merge = pd.merge(atus_2016_tran_p25_64, multi_resp, on= \"TUCASEID\").filter([\"TUCASEID\",\"TUACTDUR24\",\"TUFNWGTP\"])\n",
    "#atus_2016_tran_p25_64_merge"
   ]
  },
  {
   "cell_type": "code",
   "execution_count": 222,
   "metadata": {},
   "outputs": [
    {
     "data": {
      "text/plain": [
       "4414758922530.568"
      ]
     },
     "execution_count": 222,
     "metadata": {},
     "output_type": "execute_result"
    }
   ],
   "source": [
    "atus_2016_tran_p25_64_merge[\"Multiplied Weight\"] = atus_2016_tran_p25_64_merge[\"TUACTDUR24\"] * atus_2016_tran_p25_64_merge[\"TUFNWGTP\"]\n",
    "atus_2016_tran_p25_64_multiplied_weight = atus_2016_tran_p25_64_merge[\"Multiplied Weight\"].sum()\n",
    "atus_2016_tran_p25_64_multiplied_weight"
   ]
  },
  {
   "cell_type": "code",
   "execution_count": 223,
   "metadata": {},
   "outputs": [
    {
     "data": {
      "text/plain": [
       "1.203265972077289"
      ]
     },
     "execution_count": 223,
     "metadata": {},
     "output_type": "execute_result"
    }
   ],
   "source": [
    "atus_2016_tran_p25_64_hpd = atus_2016_tran_p25_64_multiplied_weight / atus_2016_p25_64_weight / 60\n",
    "atus_2016_tran_p25_64_hpd"
   ]
  },
  {
   "cell_type": "markdown",
   "metadata": {},
   "source": [
    "### 2017 Transportation"
   ]
  },
  {
   "cell_type": "code",
   "execution_count": 224,
   "metadata": {},
   "outputs": [],
   "source": [
    "atus_2017_tran_p25_64 = atus_2017_tran_p25_64.groupby([\"TUCASEID\"]).sum().filter([\"TUCASEID\", \"TUACTDUR24\"])\n",
    "atus_2017_tran_p25_64_merge = pd.merge(atus_2017_tran_p25_64, multi_resp, on= \"TUCASEID\").filter([\"TUCASEID\",\"TUACTDUR24\",\"TUFNWGTP\"])\n",
    "#atus_2017_tran_p25_64_merge"
   ]
  },
  {
   "cell_type": "code",
   "execution_count": 225,
   "metadata": {},
   "outputs": [
    {
     "data": {
      "text/plain": [
       "4362098793136.4062"
      ]
     },
     "execution_count": 225,
     "metadata": {},
     "output_type": "execute_result"
    }
   ],
   "source": [
    "atus_2017_tran_p25_64_merge[\"Multiplied Weight\"] = atus_2017_tran_p25_64_merge[\"TUACTDUR24\"] * atus_2017_tran_p25_64_merge[\"TUFNWGTP\"]\n",
    "atus_2017_tran_p25_64_multiplied_weight = atus_2017_tran_p25_64_merge[\"Multiplied Weight\"].sum()\n",
    "atus_2017_tran_p25_64_multiplied_weight"
   ]
  },
  {
   "cell_type": "code",
   "execution_count": 226,
   "metadata": {},
   "outputs": [
    {
     "data": {
      "text/plain": [
       "1.1899260591697578"
      ]
     },
     "execution_count": 226,
     "metadata": {},
     "output_type": "execute_result"
    }
   ],
   "source": [
    "atus_2017_tran_p25_64_hpd = atus_2017_tran_p25_64_multiplied_weight / atus_2017_p25_64_weight / 60\n",
    "atus_2017_tran_p25_64_hpd"
   ]
  },
  {
   "cell_type": "markdown",
   "metadata": {},
   "source": [
    "### 2018 Transportation"
   ]
  },
  {
   "cell_type": "code",
   "execution_count": 227,
   "metadata": {},
   "outputs": [],
   "source": [
    "atus_2018_tran_p25_64 = atus_2018_tran_p25_64.groupby([\"TUCASEID\"]).sum().filter([\"TUCASEID\", \"TUACTDUR24\"])\n",
    "atus_2018_tran_p25_64_merge = pd.merge(atus_2018_tran_p25_64, multi_resp, on= \"TUCASEID\").filter([\"TUCASEID\",\"TUACTDUR24\",\"TUFNWGTP\"])\n",
    "#atus_2018_tran_p25_64_merge"
   ]
  },
  {
   "cell_type": "code",
   "execution_count": 228,
   "metadata": {},
   "outputs": [
    {
     "data": {
      "text/plain": [
       "4328242234363.8486"
      ]
     },
     "execution_count": 228,
     "metadata": {},
     "output_type": "execute_result"
    }
   ],
   "source": [
    "atus_2018_tran_p25_64_merge[\"Multiplied Weight\"] = atus_2018_tran_p25_64_merge[\"TUACTDUR24\"] * atus_2018_tran_p25_64_merge[\"TUFNWGTP\"]\n",
    "atus_2018_tran_p25_64_multiplied_weight = atus_2018_tran_p25_64_merge[\"Multiplied Weight\"].sum()\n",
    "atus_2018_tran_p25_64_multiplied_weight"
   ]
  },
  {
   "cell_type": "code",
   "execution_count": 229,
   "metadata": {},
   "outputs": [
    {
     "data": {
      "text/plain": [
       "1.1728948630443548"
      ]
     },
     "execution_count": 229,
     "metadata": {},
     "output_type": "execute_result"
    }
   ],
   "source": [
    "atus_2018_tran_p25_64_hpd = atus_2018_tran_p25_64_multiplied_weight / atus_2018_p25_64_weight / 60\n",
    "atus_2018_tran_p25_64_hpd"
   ]
  },
  {
   "cell_type": "markdown",
   "metadata": {},
   "source": [
    "### 2019 Transportation"
   ]
  },
  {
   "cell_type": "code",
   "execution_count": 230,
   "metadata": {},
   "outputs": [],
   "source": [
    "atus_2019_tran_p25_64 = atus_2019_tran_p25_64.groupby([\"TUCASEID\"]).sum().filter([\"TUCASEID\", \"TUACTDUR24\"])\n",
    "atus_2019_tran_p25_64_merge = pd.merge(atus_2019_tran_p25_64, multi_resp, on= \"TUCASEID\").filter([\"TUCASEID\",\"TUACTDUR24\",\"TUFNWGTP\"])\n",
    "#atus_2019_tran_p25_64_merge"
   ]
  },
  {
   "cell_type": "code",
   "execution_count": 231,
   "metadata": {},
   "outputs": [
    {
     "data": {
      "text/plain": [
       "4495572293508.766"
      ]
     },
     "execution_count": 231,
     "metadata": {},
     "output_type": "execute_result"
    }
   ],
   "source": [
    "atus_2019_tran_p25_64_merge[\"Multiplied Weight\"] = atus_2019_tran_p25_64_merge[\"TUACTDUR24\"] * atus_2019_tran_p25_64_merge[\"TUFNWGTP\"]\n",
    "atus_2019_tran_p25_64_multiplied_weight = atus_2019_tran_p25_64_merge[\"Multiplied Weight\"].sum()\n",
    "atus_2019_tran_p25_64_multiplied_weight"
   ]
  },
  {
   "cell_type": "code",
   "execution_count": 232,
   "metadata": {},
   "outputs": [
    {
     "data": {
      "text/plain": [
       "1.2180974965090186"
      ]
     },
     "execution_count": 232,
     "metadata": {},
     "output_type": "execute_result"
    }
   ],
   "source": [
    "atus_2019_tran_p25_64_hpd = atus_2019_tran_p25_64_multiplied_weight / atus_2019_p25_64_weight / 60\n",
    "atus_2019_tran_p25_64_hpd"
   ]
  },
  {
   "cell_type": "markdown",
   "metadata": {},
   "source": [
    "### Regresssion: Transportation - Age Between 25 and 64 "
   ]
  },
  {
   "cell_type": "markdown",
   "metadata": {},
   "source": [
    "#### 2003 -2012 Regression"
   ]
  },
  {
   "cell_type": "code",
   "execution_count": 233,
   "metadata": {},
   "outputs": [],
   "source": [
    "year = np.array([2003, 2004, 2005, 2006, 2007, 2008, 2009, 2010,2011,2012]).reshape((-1, 1))\n",
    "activity_hours_per_day = np.array([atus_2003_tran_p25_64_hpd, atus_2004_tran_p25_64_hpd, atus_2005_tran_p25_64_hpd,\n",
    "                                   atus_2006_tran_p25_64_hpd, atus_2007_tran_p25_64_hpd, atus_2008_tran_p25_64_hpd,\n",
    "                                   atus_2009_tran_p25_64_hpd, atus_2010_tran_p25_64_hpd, atus_2011_tran_p25_64_hpd,\n",
    "                                   atus_2012_tran_p25_64_hpd]).reshape((-1, 1))\n",
    "\n",
    "activity_hours_per_yr = [i * 365 for i in activity_hours_per_day]\n",
    "#activity_hours_per_yr"
   ]
  },
  {
   "cell_type": "code",
   "execution_count": 234,
   "metadata": {},
   "outputs": [
    {
     "data": {
      "image/png": "[encoded data removed]",
      "text/plain": [
       "<Figure size 432x288 with 1 Axes>"
      ]
     },
     "metadata": {
      "needs_background": "light"
     },
     "output_type": "display_data"
    }
   ],
   "source": [
    "x = year\n",
    "y = activity_hours_per_yr\n",
    "x, y = np.array(x), np.array(y)\n",
    "\n",
    "model = LinearRegression().fit(x, y)\n",
    "\n",
    "y_pred = model.predict(x)  \n",
    "\n",
    "plt.scatter(x, y)\n",
    "plt.plot(x, y_pred, color='red')\n",
    "plt.show()"
   ]
  },
  {
   "cell_type": "code",
   "execution_count": 235,
   "metadata": {},
   "outputs": [
    {
     "data": {
      "text/plain": [
       "0.4021711006815607"
      ]
     },
     "execution_count": 235,
     "metadata": {},
     "output_type": "execute_result"
    }
   ],
   "source": [
    "coefficient_of_determination = model.score(x,y) #R sqaure value \n",
    "coefficient_of_determination"
   ]
  },
  {
   "cell_type": "code",
   "execution_count": 236,
   "metadata": {},
   "outputs": [
    {
     "data": {
      "text/plain": [
       "array([[-2.1239352]])"
      ]
     },
     "execution_count": 236,
     "metadata": {},
     "output_type": "execute_result"
    }
   ],
   "source": [
    "tran_2012_p25_64_slope = model.coef_\n",
    "tran_2012_p25_64_slope"
   ]
  },
  {
   "cell_type": "markdown",
   "metadata": {},
   "source": [
    "#### 2003 -2019 Regression"
   ]
  },
  {
   "cell_type": "code",
   "execution_count": 237,
   "metadata": {},
   "outputs": [],
   "source": [
    "year = np.array([2003, 2004, 2005, 2006, 2007, 2008, 2009, 2010,2011,2012, 2013, 2014, 2015, 2016, 2017, 2018, 2019]).reshape((-1, 1))\n",
    "activity_hours_per_day = np.array([atus_2003_tran_p25_64_hpd, atus_2004_tran_p25_64_hpd, atus_2005_tran_p25_64_hpd,\n",
    "                                   atus_2006_tran_p25_64_hpd, atus_2007_tran_p25_64_hpd, atus_2008_tran_p25_64_hpd,\n",
    "                                   atus_2009_tran_p25_64_hpd, atus_2010_tran_p25_64_hpd, atus_2011_tran_p25_64_hpd,\n",
    "                                   atus_2012_tran_p25_64_hpd, atus_2013_tran_p25_64_hpd, atus_2014_tran_p25_64_hpd,\n",
    "                                   atus_2015_tran_p25_64_hpd, atus_2016_tran_p25_64_hpd, atus_2017_tran_p25_64_hpd,\n",
    "                                   atus_2018_tran_p25_64_hpd, atus_2019_tran_p25_64_hpd]).reshape((-1, 1))\n",
    "\n",
    "activity_hours_per_yr = [i * 365 for i in activity_hours_per_day]\n",
    "#activity_hours_per_yr"
   ]
  },
  {
   "cell_type": "code",
   "execution_count": 238,
   "metadata": {},
   "outputs": [
    {
     "data": {
      "image/png": "[encoded data removed]",
      "text/plain": [
       "<Figure size 432x288 with 1 Axes>"
      ]
     },
     "metadata": {
      "needs_background": "light"
     },
     "output_type": "display_data"
    }
   ],
   "source": [
    "x = year\n",
    "y = activity_hours_per_yr\n",
    "x, y = np.array(x), np.array(y)\n",
    "\n",
    "model = LinearRegression().fit(x, y)\n",
    "\n",
    "y_pred = model.predict(x)  \n",
    "\n",
    "plt.scatter(x, y)\n",
    "plt.plot(x, y_pred, color='red')\n",
    "plt.show()"
   ]
  },
  {
   "cell_type": "code",
   "execution_count": 239,
   "metadata": {},
   "outputs": [
    {
     "data": {
      "text/plain": [
       "0.018661539552126016"
      ]
     },
     "execution_count": 239,
     "metadata": {},
     "output_type": "execute_result"
    }
   ],
   "source": [
    "coefficient_of_determination = model.score(x,y) #R sqaure value \n",
    "coefficient_of_determination"
   ]
  },
  {
   "cell_type": "code",
   "execution_count": 240,
   "metadata": {},
   "outputs": [
    {
     "data": {
      "text/plain": [
       "array([[-0.30624053]])"
      ]
     },
     "execution_count": 240,
     "metadata": {},
     "output_type": "execute_result"
    }
   ],
   "source": [
    "tran_2019_p25_64_slope = model.coef_\n",
    "tran_2019_p25_64_slope"
   ]
  },
  {
   "cell_type": "markdown",
   "metadata": {},
   "source": [
    "### 2003-2019 - Unspecified- Age Between 25 and 64 "
   ]
  },
  {
   "cell_type": "code",
   "execution_count": 241,
   "metadata": {},
   "outputs": [],
   "source": [
    "#unspecified = 89, 89 = Unspecified place"
   ]
  },
  {
   "cell_type": "code",
   "execution_count": 242,
   "metadata": {},
   "outputs": [
    {
     "data": {
      "text/html": [
       "<div>\n",
       "<style scoped>\n",
       "    .dataframe tbody tr th:only-of-type {\n",
       "        vertical-align: middle;\n",
       "    }\n",
       "\n",
       "    .dataframe tbody tr th {\n",
       "        vertical-align: top;\n",
       "    }\n",
       "\n",
       "    .dataframe thead th {\n",
       "        text-align: right;\n",
       "    }\n",
       "</style>\n",
       "<table border=\"1\" class=\"dataframe\">\n",
       "  <thead>\n",
       "    <tr style=\"text-align: right;\">\n",
       "      <th></th>\n",
       "      <th>TUCASEID</th>\n",
       "      <th>TUACTDUR24</th>\n",
       "      <th>TUCUMDUR</th>\n",
       "      <th>TRTIER1P</th>\n",
       "      <th>TRTIER2P</th>\n",
       "      <th>TRCODEP</th>\n",
       "      <th>TEWHERE</th>\n",
       "      <th>TEAGE</th>\n",
       "      <th>TUFNWGTP</th>\n",
       "      <th>TUSTARTTIM</th>\n",
       "      <th>TUSTOPTIME</th>\n",
       "      <th>TUYEAR</th>\n",
       "    </tr>\n",
       "  </thead>\n",
       "  <tbody>\n",
       "    <tr>\n",
       "      <th>373</th>\n",
       "      <td>20030100015941</td>\n",
       "      <td>15</td>\n",
       "      <td>905</td>\n",
       "      <td>04</td>\n",
       "      <td>0405</td>\n",
       "      <td>040507</td>\n",
       "      <td>89</td>\n",
       "      <td>28</td>\n",
       "      <td>1.423997e+06</td>\n",
       "      <td>18:50:00</td>\n",
       "      <td>19:05:00</td>\n",
       "      <td>2003</td>\n",
       "    </tr>\n",
       "    <tr>\n",
       "      <th>1237</th>\n",
       "      <td>20030101031030</td>\n",
       "      <td>129</td>\n",
       "      <td>510</td>\n",
       "      <td>13</td>\n",
       "      <td>1301</td>\n",
       "      <td>130131</td>\n",
       "      <td>89</td>\n",
       "      <td>58</td>\n",
       "      <td>2.080731e+06</td>\n",
       "      <td>10:21:00</td>\n",
       "      <td>12:30:00</td>\n",
       "      <td>2003</td>\n",
       "    </tr>\n",
       "    <tr>\n",
       "      <th>1315</th>\n",
       "      <td>20030101031047</td>\n",
       "      <td>4</td>\n",
       "      <td>232</td>\n",
       "      <td>03</td>\n",
       "      <td>0301</td>\n",
       "      <td>030112</td>\n",
       "      <td>89</td>\n",
       "      <td>46</td>\n",
       "      <td>3.792077e+06</td>\n",
       "      <td>07:48:00</td>\n",
       "      <td>07:52:00</td>\n",
       "      <td>2003</td>\n",
       "    </tr>\n",
       "    <tr>\n",
       "      <th>1324</th>\n",
       "      <td>20030101031047</td>\n",
       "      <td>5</td>\n",
       "      <td>672</td>\n",
       "      <td>03</td>\n",
       "      <td>0301</td>\n",
       "      <td>030111</td>\n",
       "      <td>89</td>\n",
       "      <td>46</td>\n",
       "      <td>3.792077e+06</td>\n",
       "      <td>15:07:00</td>\n",
       "      <td>15:12:00</td>\n",
       "      <td>2003</td>\n",
       "    </tr>\n",
       "    <tr>\n",
       "      <th>1325</th>\n",
       "      <td>20030101031047</td>\n",
       "      <td>1</td>\n",
       "      <td>673</td>\n",
       "      <td>03</td>\n",
       "      <td>0301</td>\n",
       "      <td>030112</td>\n",
       "      <td>89</td>\n",
       "      <td>46</td>\n",
       "      <td>3.792077e+06</td>\n",
       "      <td>15:12:00</td>\n",
       "      <td>15:13:00</td>\n",
       "      <td>2003</td>\n",
       "    </tr>\n",
       "    <tr>\n",
       "      <th>...</th>\n",
       "      <td>...</td>\n",
       "      <td>...</td>\n",
       "      <td>...</td>\n",
       "      <td>...</td>\n",
       "      <td>...</td>\n",
       "      <td>...</td>\n",
       "      <td>...</td>\n",
       "      <td>...</td>\n",
       "      <td>...</td>\n",
       "      <td>...</td>\n",
       "      <td>...</td>\n",
       "      <td>...</td>\n",
       "    </tr>\n",
       "    <tr>\n",
       "      <th>4113263</th>\n",
       "      <td>20191211191445</td>\n",
       "      <td>30</td>\n",
       "      <td>750</td>\n",
       "      <td>13</td>\n",
       "      <td>1301</td>\n",
       "      <td>130131</td>\n",
       "      <td>89</td>\n",
       "      <td>47</td>\n",
       "      <td>1.127632e+07</td>\n",
       "      <td>16:00:00</td>\n",
       "      <td>16:30:00</td>\n",
       "      <td>2019</td>\n",
       "    </tr>\n",
       "    <tr>\n",
       "      <th>4117901</th>\n",
       "      <td>20191211192382</td>\n",
       "      <td>45</td>\n",
       "      <td>395</td>\n",
       "      <td>13</td>\n",
       "      <td>1301</td>\n",
       "      <td>130131</td>\n",
       "      <td>89</td>\n",
       "      <td>54</td>\n",
       "      <td>4.213571e+06</td>\n",
       "      <td>09:50:00</td>\n",
       "      <td>10:35:00</td>\n",
       "      <td>2019</td>\n",
       "    </tr>\n",
       "    <tr>\n",
       "      <th>4118322</th>\n",
       "      <td>20191211192468</td>\n",
       "      <td>5</td>\n",
       "      <td>810</td>\n",
       "      <td>04</td>\n",
       "      <td>0405</td>\n",
       "      <td>040507</td>\n",
       "      <td>89</td>\n",
       "      <td>42</td>\n",
       "      <td>3.042547e+06</td>\n",
       "      <td>17:25:00</td>\n",
       "      <td>17:30:00</td>\n",
       "      <td>2019</td>\n",
       "    </tr>\n",
       "    <tr>\n",
       "      <th>4118327</th>\n",
       "      <td>20191211192468</td>\n",
       "      <td>5</td>\n",
       "      <td>985</td>\n",
       "      <td>04</td>\n",
       "      <td>0405</td>\n",
       "      <td>040507</td>\n",
       "      <td>89</td>\n",
       "      <td>42</td>\n",
       "      <td>3.042547e+06</td>\n",
       "      <td>20:20:00</td>\n",
       "      <td>20:25:00</td>\n",
       "      <td>2019</td>\n",
       "    </tr>\n",
       "    <tr>\n",
       "      <th>4119807</th>\n",
       "      <td>20191212191294</td>\n",
       "      <td>10</td>\n",
       "      <td>750</td>\n",
       "      <td>03</td>\n",
       "      <td>0301</td>\n",
       "      <td>030111</td>\n",
       "      <td>89</td>\n",
       "      <td>43</td>\n",
       "      <td>3.119249e+06</td>\n",
       "      <td>16:20:00</td>\n",
       "      <td>16:30:00</td>\n",
       "      <td>2019</td>\n",
       "    </tr>\n",
       "  </tbody>\n",
       "</table>\n",
       "<p>9349 rows × 12 columns</p>\n",
       "</div>"
      ],
      "text/plain": [
       "               TUCASEID  TUACTDUR24  TUCUMDUR TRTIER1P TRTIER2P TRCODEP  \\\n",
       "373      20030100015941          15       905       04     0405  040507   \n",
       "1237     20030101031030         129       510       13     1301  130131   \n",
       "1315     20030101031047           4       232       03     0301  030112   \n",
       "1324     20030101031047           5       672       03     0301  030111   \n",
       "1325     20030101031047           1       673       03     0301  030112   \n",
       "...                 ...         ...       ...      ...      ...     ...   \n",
       "4113263  20191211191445          30       750       13     1301  130131   \n",
       "4117901  20191211192382          45       395       13     1301  130131   \n",
       "4118322  20191211192468           5       810       04     0405  040507   \n",
       "4118327  20191211192468           5       985       04     0405  040507   \n",
       "4119807  20191212191294          10       750       03     0301  030111   \n",
       "\n",
       "         TEWHERE  TEAGE      TUFNWGTP TUSTARTTIM TUSTOPTIME  TUYEAR  \n",
       "373           89     28  1.423997e+06   18:50:00   19:05:00    2003  \n",
       "1237          89     58  2.080731e+06   10:21:00   12:30:00    2003  \n",
       "1315          89     46  3.792077e+06   07:48:00   07:52:00    2003  \n",
       "1324          89     46  3.792077e+06   15:07:00   15:12:00    2003  \n",
       "1325          89     46  3.792077e+06   15:12:00   15:13:00    2003  \n",
       "...          ...    ...           ...        ...        ...     ...  \n",
       "4113263       89     47  1.127632e+07   16:00:00   16:30:00    2019  \n",
       "4117901       89     54  4.213571e+06   09:50:00   10:35:00    2019  \n",
       "4118322       89     42  3.042547e+06   17:25:00   17:30:00    2019  \n",
       "4118327       89     42  3.042547e+06   20:20:00   20:25:00    2019  \n",
       "4119807       89     43  3.119249e+06   16:20:00   16:30:00    2019  \n",
       "\n",
       "[9349 rows x 12 columns]"
      ]
     },
     "execution_count": 242,
     "metadata": {},
     "output_type": "execute_result"
    }
   ],
   "source": [
    "unspecified_location = [89]\n",
    "atus_multi_yr_unsp_p25_64 = multi_merged_p25_64[multi_merged_p25_64[\"TEWHERE\"].isin(unspecified_location)]\n",
    "atus_multi_yr_unsp_p25_64"
   ]
  },
  {
   "cell_type": "code",
   "execution_count": 243,
   "metadata": {},
   "outputs": [],
   "source": [
    "#atus transportation p25_64 population seperated by year\n",
    "#unsp = unspecified\n",
    "atus_2003_unsp_p25_64 = atus_multi_yr_unsp_p25_64[atus_multi_yr_unsp_p25_64[\"TUCASEID\"].apply(str).str.startswith(\"2003\")]\n",
    "atus_2004_unsp_p25_64 = atus_multi_yr_unsp_p25_64[atus_multi_yr_unsp_p25_64[\"TUCASEID\"].apply(str).str.startswith(\"2004\")]\n",
    "atus_2005_unsp_p25_64 = atus_multi_yr_unsp_p25_64[atus_multi_yr_unsp_p25_64[\"TUCASEID\"].apply(str).str.startswith(\"2005\")]\n",
    "atus_2006_unsp_p25_64 = atus_multi_yr_unsp_p25_64[atus_multi_yr_unsp_p25_64[\"TUCASEID\"].apply(str).str.startswith(\"2006\")]\n",
    "atus_2007_unsp_p25_64 = atus_multi_yr_unsp_p25_64[atus_multi_yr_unsp_p25_64[\"TUCASEID\"].apply(str).str.startswith(\"2007\")]\n",
    "atus_2008_unsp_p25_64 = atus_multi_yr_unsp_p25_64[atus_multi_yr_unsp_p25_64[\"TUCASEID\"].apply(str).str.startswith(\"2008\")]\n",
    "atus_2009_unsp_p25_64 = atus_multi_yr_unsp_p25_64[atus_multi_yr_unsp_p25_64[\"TUCASEID\"].apply(str).str.startswith(\"2009\")]\n",
    "atus_2010_unsp_p25_64 = atus_multi_yr_unsp_p25_64[atus_multi_yr_unsp_p25_64[\"TUCASEID\"].apply(str).str.startswith(\"2010\")]\n",
    "atus_2011_unsp_p25_64 = atus_multi_yr_unsp_p25_64[atus_multi_yr_unsp_p25_64[\"TUCASEID\"].apply(str).str.startswith(\"2011\")]\n",
    "atus_2012_unsp_p25_64 = atus_multi_yr_unsp_p25_64[atus_multi_yr_unsp_p25_64[\"TUCASEID\"].apply(str).str.startswith(\"2012\")]\n",
    "atus_2013_unsp_p25_64 = atus_multi_yr_unsp_p25_64[atus_multi_yr_unsp_p25_64[\"TUCASEID\"].apply(str).str.startswith(\"2013\")]\n",
    "atus_2014_unsp_p25_64 = atus_multi_yr_unsp_p25_64[atus_multi_yr_unsp_p25_64[\"TUCASEID\"].apply(str).str.startswith(\"2014\")]\n",
    "atus_2015_unsp_p25_64 = atus_multi_yr_unsp_p25_64[atus_multi_yr_unsp_p25_64[\"TUCASEID\"].apply(str).str.startswith(\"2015\")]\n",
    "atus_2016_unsp_p25_64 = atus_multi_yr_unsp_p25_64[atus_multi_yr_unsp_p25_64[\"TUCASEID\"].apply(str).str.startswith(\"2016\")]\n",
    "atus_2017_unsp_p25_64 = atus_multi_yr_unsp_p25_64[atus_multi_yr_unsp_p25_64[\"TUCASEID\"].apply(str).str.startswith(\"2017\")]\n",
    "atus_2018_unsp_p25_64 = atus_multi_yr_unsp_p25_64[atus_multi_yr_unsp_p25_64[\"TUCASEID\"].apply(str).str.startswith(\"2018\")]\n",
    "atus_2019_unsp_p25_64 = atus_multi_yr_unsp_p25_64[atus_multi_yr_unsp_p25_64[\"TUCASEID\"].apply(str).str.startswith(\"2019\")]\n",
    "#atus_2003_unsp_p25_64\n",
    "#atus_2004_unsp_p25_64[\"TRCODEP\"]"
   ]
  },
  {
   "cell_type": "markdown",
   "metadata": {},
   "source": [
    "### 2003 Unspecified- Age Between 25 and 64 "
   ]
  },
  {
   "cell_type": "code",
   "execution_count": 244,
   "metadata": {},
   "outputs": [],
   "source": [
    "atus_2003_unsp_p25_64 = atus_2003_unsp_p25_64.groupby([\"TUCASEID\"]).sum().filter([\"TUCASEID\", \"TUACTDUR24\",])\n",
    "#atus_2003_unsp_p25_64"
   ]
  },
  {
   "cell_type": "code",
   "execution_count": 245,
   "metadata": {},
   "outputs": [],
   "source": [
    "atus_2003_unsp_p25_64_merge = pd.merge(atus_2003_unsp_p25_64, multi_resp, on= \"TUCASEID\").filter([\"TUCASEID\",\"TUACTDUR24\",\"TUFNWGTP\"])\n",
    "#atus_2003_unsp_p25_64_merge"
   ]
  },
  {
   "cell_type": "code",
   "execution_count": 246,
   "metadata": {},
   "outputs": [],
   "source": [
    "atus_2003_unsp_p25_64_merge[\"Multiplied Weight\"] = atus_2003_unsp_p25_64_merge[\"TUACTDUR24\"] * atus_2003_unsp_p25_64_merge[\"TUFNWGTP\"]\n",
    "#atus_2003_unsp_p25_64_merge"
   ]
  },
  {
   "cell_type": "code",
   "execution_count": 247,
   "metadata": {},
   "outputs": [
    {
     "data": {
      "text/plain": [
       "72347295726.24776"
      ]
     },
     "execution_count": 247,
     "metadata": {},
     "output_type": "execute_result"
    }
   ],
   "source": [
    "atus_2003_unsp_p25_64_multiplied_weight = atus_2003_unsp_p25_64_merge[\"Multiplied Weight\"].sum()\n",
    "atus_2003_unsp_p25_64_multiplied_weight"
   ]
  },
  {
   "cell_type": "code",
   "execution_count": 248,
   "metadata": {},
   "outputs": [
    {
     "data": {
      "text/plain": [
       "0.021874621706146093"
      ]
     },
     "execution_count": 248,
     "metadata": {},
     "output_type": "execute_result"
    }
   ],
   "source": [
    "atus_2003_unsp_p25_64_hpd = atus_2003_unsp_p25_64_multiplied_weight / atus_2003_p25_64_weight / 60\n",
    "atus_2003_unsp_p25_64_hpd"
   ]
  },
  {
   "cell_type": "markdown",
   "metadata": {},
   "source": [
    "### 2004 Unspecified- Age Between 25 and 64 "
   ]
  },
  {
   "cell_type": "code",
   "execution_count": 249,
   "metadata": {},
   "outputs": [],
   "source": [
    "atus_2004_unsp_p25_64 = atus_2004_unsp_p25_64.groupby([\"TUCASEID\"]).sum().filter([\"TUCASEID\", \"TUACTDUR24\"])\n",
    "#atus_2004_unsp_p25_64"
   ]
  },
  {
   "cell_type": "code",
   "execution_count": 250,
   "metadata": {},
   "outputs": [
    {
     "data": {
      "text/plain": [
       "36768085069.120636"
      ]
     },
     "execution_count": 250,
     "metadata": {},
     "output_type": "execute_result"
    }
   ],
   "source": [
    "atus_2004_unsp_p25_64_merge = pd.merge(atus_2004_unsp_p25_64, multi_resp, on= \"TUCASEID\").filter([\"TUCASEID\",\"TUACTDUR24\",\"TUFNWGTP\"])\n",
    "\n",
    "atus_2004_unsp_p25_64_merge[\"Multiplied Weight\"] = atus_2004_unsp_p25_64_merge[\"TUACTDUR24\"] * atus_2004_unsp_p25_64_merge[\"TUFNWGTP\"]\n",
    "\n",
    "atus_2004_unsp_p25_64_multiplied_weight = atus_2004_unsp_p25_64_merge[\"Multiplied Weight\"].sum()\n",
    "atus_2004_unsp_p25_64_multiplied_weight"
   ]
  },
  {
   "cell_type": "code",
   "execution_count": 251,
   "metadata": {},
   "outputs": [
    {
     "data": {
      "text/plain": [
       "0.010991439319563425"
      ]
     },
     "execution_count": 251,
     "metadata": {},
     "output_type": "execute_result"
    }
   ],
   "source": [
    "atus_2004_unsp_p25_64_hpd = atus_2004_unsp_p25_64_multiplied_weight / atus_2004_p25_64_weight / 60\n",
    "atus_2004_unsp_p25_64_hpd"
   ]
  },
  {
   "cell_type": "markdown",
   "metadata": {},
   "source": [
    "### 2005 Unspecified- Age Between 25 and 64 "
   ]
  },
  {
   "cell_type": "code",
   "execution_count": 252,
   "metadata": {},
   "outputs": [],
   "source": [
    "atus_2005_unsp_p25_64 = atus_2005_unsp_p25_64.groupby([\"TUCASEID\"]).sum().filter([\"TUCASEID\", \"TUACTDUR24\"])\n",
    "#atus_2005_unsp_p25_64"
   ]
  },
  {
   "cell_type": "code",
   "execution_count": 253,
   "metadata": {},
   "outputs": [
    {
     "data": {
      "text/plain": [
       "30797288683.19909"
      ]
     },
     "execution_count": 253,
     "metadata": {},
     "output_type": "execute_result"
    }
   ],
   "source": [
    "atus_2005_unsp_p25_64_merge = pd.merge(atus_2005_unsp_p25_64, multi_resp, on= \"TUCASEID\").filter([\"TUCASEID\",\"TUACTDUR24\",\"TUFNWGTP\"])\n",
    "\n",
    "atus_2005_unsp_p25_64_merge[\"Multiplied Weight\"] = atus_2005_unsp_p25_64_merge[\"TUACTDUR24\"] * atus_2005_unsp_p25_64_merge[\"TUFNWGTP\"]\n",
    "\n",
    "atus_2005_unsp_p25_64_multiplied_weight = atus_2005_unsp_p25_64_merge[\"Multiplied Weight\"].sum()\n",
    "atus_2005_unsp_p25_64_multiplied_weight"
   ]
  },
  {
   "cell_type": "code",
   "execution_count": 254,
   "metadata": {},
   "outputs": [
    {
     "data": {
      "text/plain": [
       "0.00911145109518214"
      ]
     },
     "execution_count": 254,
     "metadata": {},
     "output_type": "execute_result"
    }
   ],
   "source": [
    "atus_2005_unsp_p25_64_hpd = atus_2005_unsp_p25_64_multiplied_weight / atus_2005_p25_64_weight / 60\n",
    "atus_2005_unsp_p25_64_hpd"
   ]
  },
  {
   "cell_type": "markdown",
   "metadata": {},
   "source": [
    "### 2006 Unspecified- Age Between 25 and 64 "
   ]
  },
  {
   "cell_type": "code",
   "execution_count": 255,
   "metadata": {},
   "outputs": [],
   "source": [
    "atus_2006_unsp_p25_64 = atus_2006_unsp_p25_64.groupby([\"TUCASEID\"]).sum().filter([\"TUCASEID\", \"TUACTDUR24\"])\n",
    "#atus_2006_unsp_p25_64"
   ]
  },
  {
   "cell_type": "code",
   "execution_count": 256,
   "metadata": {},
   "outputs": [
    {
     "data": {
      "text/plain": [
       "45821883376.46158"
      ]
     },
     "execution_count": 256,
     "metadata": {},
     "output_type": "execute_result"
    }
   ],
   "source": [
    "atus_2006_unsp_p25_64_merge = pd.merge(atus_2006_unsp_p25_64, multi_resp, on= \"TUCASEID\").filter([\"TUCASEID\",\"TUACTDUR24\",\"TUFNWGTP\"])\n",
    "\n",
    "atus_2006_unsp_p25_64_merge[\"Multiplied Weight\"] = atus_2006_unsp_p25_64_merge[\"TUACTDUR24\"] * atus_2006_unsp_p25_64_merge[\"TUFNWGTP\"]\n",
    "\n",
    "atus_2006_unsp_p25_64_multiplied_weight = atus_2006_unsp_p25_64_merge[\"Multiplied Weight\"].sum()\n",
    "atus_2006_unsp_p25_64_multiplied_weight"
   ]
  },
  {
   "cell_type": "code",
   "execution_count": 257,
   "metadata": {},
   "outputs": [
    {
     "data": {
      "text/plain": [
       "0.013389045251654538"
      ]
     },
     "execution_count": 257,
     "metadata": {},
     "output_type": "execute_result"
    }
   ],
   "source": [
    "atus_2006_unsp_p25_64_hpd = atus_2006_unsp_p25_64_multiplied_weight / atus_2006_p25_64_weight / 60\n",
    "atus_2006_unsp_p25_64_hpd"
   ]
  },
  {
   "cell_type": "markdown",
   "metadata": {},
   "source": [
    "### 2007 Unspecified- Age Between 25 and 64 "
   ]
  },
  {
   "cell_type": "code",
   "execution_count": 258,
   "metadata": {},
   "outputs": [],
   "source": [
    "atus_2007_unsp_p25_64 = atus_2007_unsp_p25_64.groupby([\"TUCASEID\"]).sum().filter([\"TUCASEID\", \"TUACTDUR24\"])\n",
    "#atus_2007_unsp_p25_64"
   ]
  },
  {
   "cell_type": "code",
   "execution_count": 259,
   "metadata": {},
   "outputs": [
    {
     "data": {
      "text/plain": [
       "58648402995.56801"
      ]
     },
     "execution_count": 259,
     "metadata": {},
     "output_type": "execute_result"
    }
   ],
   "source": [
    "atus_2007_unsp_p25_64_merge = pd.merge(atus_2007_unsp_p25_64, multi_resp, on= \"TUCASEID\").filter([\"TUCASEID\",\"TUACTDUR24\",\"TUFNWGTP\"])\n",
    "\n",
    "atus_2007_unsp_p25_64_merge[\"Multiplied Weight\"] = atus_2007_unsp_p25_64_merge[\"TUACTDUR24\"] * atus_2007_unsp_p25_64_merge[\"TUFNWGTP\"]\n",
    "\n",
    "atus_2007_unsp_p25_64_multiplied_weight = atus_2007_unsp_p25_64_merge[\"Multiplied Weight\"].sum()\n",
    "atus_2007_unsp_p25_64_multiplied_weight"
   ]
  },
  {
   "cell_type": "code",
   "execution_count": 260,
   "metadata": {},
   "outputs": [
    {
     "data": {
      "text/plain": [
       "0.016923873642339448"
      ]
     },
     "execution_count": 260,
     "metadata": {},
     "output_type": "execute_result"
    }
   ],
   "source": [
    "atus_2007_unsp_p25_64_hpd = atus_2007_unsp_p25_64_multiplied_weight / atus_2007_p25_64_weight / 60\n",
    "atus_2007_unsp_p25_64_hpd"
   ]
  },
  {
   "cell_type": "markdown",
   "metadata": {},
   "source": [
    "### 2008 Unspecified- Age Between 25 and 64 "
   ]
  },
  {
   "cell_type": "code",
   "execution_count": 261,
   "metadata": {},
   "outputs": [],
   "source": [
    "atus_2008_unsp_p25_64 = atus_2008_unsp_p25_64.groupby([\"TUCASEID\"]).sum().filter([\"TUCASEID\", \"TUACTDUR24\"])\n",
    "#atus_2008_unsp_p25_64"
   ]
  },
  {
   "cell_type": "code",
   "execution_count": 262,
   "metadata": {},
   "outputs": [
    {
     "data": {
      "text/plain": [
       "52674602247.0854"
      ]
     },
     "execution_count": 262,
     "metadata": {},
     "output_type": "execute_result"
    }
   ],
   "source": [
    "atus_2008_unsp_p25_64_merge = pd.merge(atus_2008_unsp_p25_64, multi_resp, on= \"TUCASEID\").filter([\"TUCASEID\",\"TUACTDUR24\",\"TUFNWGTP\"])\n",
    "\n",
    "atus_2008_unsp_p25_64_merge[\"Multiplied Weight\"] = atus_2008_unsp_p25_64_merge[\"TUACTDUR24\"] * atus_2008_unsp_p25_64_merge[\"TUFNWGTP\"]\n",
    "\n",
    "atus_2008_unsp_p25_64_multiplied_weight = atus_2008_unsp_p25_64_merge[\"Multiplied Weight\"].sum()\n",
    "atus_2008_unsp_p25_64_multiplied_weight"
   ]
  },
  {
   "cell_type": "code",
   "execution_count": 263,
   "metadata": {},
   "outputs": [
    {
     "data": {
      "text/plain": [
       "0.015072338628206153"
      ]
     },
     "execution_count": 263,
     "metadata": {},
     "output_type": "execute_result"
    }
   ],
   "source": [
    "atus_2008_unsp_p25_64_hpd = atus_2008_unsp_p25_64_multiplied_weight / atus_2008_p25_64_weight / 60\n",
    "atus_2008_unsp_p25_64_hpd"
   ]
  },
  {
   "cell_type": "markdown",
   "metadata": {},
   "source": [
    "### 2009 Unspecified- Age Between 25 and 64 "
   ]
  },
  {
   "cell_type": "code",
   "execution_count": 264,
   "metadata": {},
   "outputs": [],
   "source": [
    "atus_2009_unsp_p25_64 = atus_2009_unsp_p25_64.groupby([\"TUCASEID\"]).sum().filter([\"TUCASEID\", \"TUACTDUR24\"])\n",
    "#atus_2009_unsp_p25_64"
   ]
  },
  {
   "cell_type": "code",
   "execution_count": 265,
   "metadata": {},
   "outputs": [
    {
     "data": {
      "text/plain": [
       "58790790543.54204"
      ]
     },
     "execution_count": 265,
     "metadata": {},
     "output_type": "execute_result"
    }
   ],
   "source": [
    "atus_2009_unsp_p25_64_merge = pd.merge(atus_2009_unsp_p25_64, multi_resp, on= \"TUCASEID\").filter([\"TUCASEID\",\"TUACTDUR24\",\"TUFNWGTP\"])\n",
    "\n",
    "atus_2009_unsp_p25_64_merge[\"Multiplied Weight\"] = atus_2009_unsp_p25_64_merge[\"TUACTDUR24\"] * atus_2009_unsp_p25_64_merge[\"TUFNWGTP\"]\n",
    "\n",
    "atus_2009_unsp_p25_64_multiplied_weight = atus_2009_unsp_p25_64_merge[\"Multiplied Weight\"].sum()\n",
    "atus_2009_unsp_p25_64_multiplied_weight"
   ]
  },
  {
   "cell_type": "code",
   "execution_count": 266,
   "metadata": {},
   "outputs": [
    {
     "data": {
      "text/plain": [
       "0.01675282137185042"
      ]
     },
     "execution_count": 266,
     "metadata": {},
     "output_type": "execute_result"
    }
   ],
   "source": [
    "atus_2009_unsp_p25_64_hpd = atus_2009_unsp_p25_64_multiplied_weight / atus_2009_p25_64_weight / 60\n",
    "atus_2009_unsp_p25_64_hpd"
   ]
  },
  {
   "cell_type": "markdown",
   "metadata": {},
   "source": [
    "### 2010 Unspecified- Age Between 25 and 64 "
   ]
  },
  {
   "cell_type": "code",
   "execution_count": 267,
   "metadata": {},
   "outputs": [],
   "source": [
    "atus_2010_unsp_p25_64 = atus_2010_unsp_p25_64.groupby([\"TUCASEID\"]).sum().filter([\"TUCASEID\", \"TUACTDUR24\"])\n",
    "#atus_2010_unsp_p25_64"
   ]
  },
  {
   "cell_type": "code",
   "execution_count": 268,
   "metadata": {},
   "outputs": [
    {
     "data": {
      "text/plain": [
       "66854067925.725395"
      ]
     },
     "execution_count": 268,
     "metadata": {},
     "output_type": "execute_result"
    }
   ],
   "source": [
    "atus_2010_unsp_p25_64_merge = pd.merge(atus_2010_unsp_p25_64, multi_resp, on= \"TUCASEID\").filter([\"TUCASEID\",\"TUACTDUR24\",\"TUFNWGTP\"])\n",
    "\n",
    "atus_2010_unsp_p25_64_merge[\"Multiplied Weight\"] = atus_2010_unsp_p25_64_merge[\"TUACTDUR24\"] * atus_2010_unsp_p25_64_merge[\"TUFNWGTP\"]\n",
    "\n",
    "atus_2010_unsp_p25_64_multiplied_weight = atus_2010_unsp_p25_64_merge[\"Multiplied Weight\"].sum()\n",
    "atus_2010_unsp_p25_64_multiplied_weight"
   ]
  },
  {
   "cell_type": "code",
   "execution_count": 269,
   "metadata": {},
   "outputs": [
    {
     "data": {
      "text/plain": [
       "0.01893904911822183"
      ]
     },
     "execution_count": 269,
     "metadata": {},
     "output_type": "execute_result"
    }
   ],
   "source": [
    "atus_2010_unsp_p25_64_hpd = atus_2010_unsp_p25_64_multiplied_weight / atus_2010_p25_64_weight / 60\n",
    "atus_2010_unsp_p25_64_hpd"
   ]
  },
  {
   "cell_type": "markdown",
   "metadata": {},
   "source": [
    "### 2011 Unspecified- Age Between 25 and 64 "
   ]
  },
  {
   "cell_type": "code",
   "execution_count": 270,
   "metadata": {},
   "outputs": [],
   "source": [
    "atus_2011_unsp_p25_64 = atus_2011_unsp_p25_64.groupby([\"TUCASEID\"]).sum().filter([\"TUCASEID\", \"TUACTDUR24\"])\n",
    "#atus_2011_unsp_p25_64"
   ]
  },
  {
   "cell_type": "code",
   "execution_count": 271,
   "metadata": {},
   "outputs": [
    {
     "data": {
      "text/plain": [
       "67961094047.71211"
      ]
     },
     "execution_count": 271,
     "metadata": {},
     "output_type": "execute_result"
    }
   ],
   "source": [
    "atus_2011_unsp_p25_64_merge = pd.merge(atus_2011_unsp_p25_64, multi_resp, on= \"TUCASEID\").filter([\"TUCASEID\",\"TUACTDUR24\",\"TUFNWGTP\"])\n",
    "\n",
    "atus_2011_unsp_p25_64_merge[\"Multiplied Weight\"] = atus_2011_unsp_p25_64_merge[\"TUACTDUR24\"] * atus_2011_unsp_p25_64_merge[\"TUFNWGTP\"]\n",
    "\n",
    "atus_2011_unsp_p25_64_multiplied_weight = atus_2011_unsp_p25_64_merge[\"Multiplied Weight\"].sum()\n",
    "atus_2011_unsp_p25_64_multiplied_weight"
   ]
  },
  {
   "cell_type": "code",
   "execution_count": 272,
   "metadata": {},
   "outputs": [
    {
     "data": {
      "text/plain": [
       "0.019190829802124665"
      ]
     },
     "execution_count": 272,
     "metadata": {},
     "output_type": "execute_result"
    }
   ],
   "source": [
    "atus_2011_unsp_p25_64_hpd = atus_2011_unsp_p25_64_multiplied_weight / atus_2011_p25_64_weight / 60\n",
    "atus_2011_unsp_p25_64_hpd"
   ]
  },
  {
   "cell_type": "markdown",
   "metadata": {},
   "source": [
    "### 2012 Unspecified- Age Between 25 and 64 "
   ]
  },
  {
   "cell_type": "code",
   "execution_count": 273,
   "metadata": {},
   "outputs": [],
   "source": [
    "atus_2012_unsp_p25_64 = atus_2012_unsp_p25_64.groupby([\"TUCASEID\"]).sum().filter([\"TUCASEID\", \"TUACTDUR24\"])\n",
    "#atus_2012_unsp_p25_64"
   ]
  },
  {
   "cell_type": "code",
   "execution_count": 274,
   "metadata": {},
   "outputs": [
    {
     "data": {
      "text/plain": [
       "47597039849.86354"
      ]
     },
     "execution_count": 274,
     "metadata": {},
     "output_type": "execute_result"
    }
   ],
   "source": [
    "atus_2012_unsp_p25_64_merge = pd.merge(atus_2012_unsp_p25_64, multi_resp, on= \"TUCASEID\").filter([\"TUCASEID\",\"TUACTDUR24\",\"TUFNWGTP\"])\n",
    "\n",
    "atus_2012_unsp_p25_64_merge[\"Multiplied Weight\"] = atus_2012_unsp_p25_64_merge[\"TUACTDUR24\"] * atus_2012_unsp_p25_64_merge[\"TUFNWGTP\"]\n",
    "\n",
    "atus_2012_unsp_p25_64_multiplied_weight = atus_2012_unsp_p25_64_merge[\"Multiplied Weight\"].sum()\n",
    "atus_2012_unsp_p25_64_multiplied_weight"
   ]
  },
  {
   "cell_type": "code",
   "execution_count": 275,
   "metadata": {},
   "outputs": [
    {
     "data": {
      "text/plain": [
       "0.013327086779725434"
      ]
     },
     "execution_count": 275,
     "metadata": {},
     "output_type": "execute_result"
    }
   ],
   "source": [
    "atus_2012_unsp_p25_64_hpd = atus_2012_unsp_p25_64_multiplied_weight / atus_2012_p25_64_weight / 60\n",
    "atus_2012_unsp_p25_64_hpd"
   ]
  },
  {
   "cell_type": "markdown",
   "metadata": {},
   "source": [
    "### 2013 Unspecified- Age Between 25 and 64 "
   ]
  },
  {
   "cell_type": "code",
   "execution_count": 276,
   "metadata": {},
   "outputs": [],
   "source": [
    "atus_2013_unsp_p25_64 = atus_2013_unsp_p25_64.groupby([\"TUCASEID\"]).sum().filter([\"TUCASEID\", \"TUACTDUR24\"])\n",
    "#atus_2013_unsp_p25_64"
   ]
  },
  {
   "cell_type": "code",
   "execution_count": 277,
   "metadata": {},
   "outputs": [
    {
     "data": {
      "text/plain": [
       "42520999819.37363"
      ]
     },
     "execution_count": 277,
     "metadata": {},
     "output_type": "execute_result"
    }
   ],
   "source": [
    "atus_2013_unsp_p25_64_merge = pd.merge(atus_2013_unsp_p25_64, multi_resp, on= \"TUCASEID\").filter([\"TUCASEID\",\"TUACTDUR24\",\"TUFNWGTP\"])\n",
    "\n",
    "atus_2013_unsp_p25_64_merge[\"Multiplied Weight\"] = atus_2013_unsp_p25_64_merge[\"TUACTDUR24\"] * atus_2013_unsp_p25_64_merge[\"TUFNWGTP\"]\n",
    "\n",
    "atus_2013_unsp_p25_64_multiplied_weight = atus_2013_unsp_p25_64_merge[\"Multiplied Weight\"].sum()\n",
    "atus_2013_unsp_p25_64_multiplied_weight"
   ]
  },
  {
   "cell_type": "code",
   "execution_count": 278,
   "metadata": {},
   "outputs": [
    {
     "data": {
      "text/plain": [
       "0.011880301009140833"
      ]
     },
     "execution_count": 278,
     "metadata": {},
     "output_type": "execute_result"
    }
   ],
   "source": [
    "atus_2013_unsp_p25_64_hpd = atus_2013_unsp_p25_64_multiplied_weight / atus_2013_p25_64_weight / 60\n",
    "atus_2013_unsp_p25_64_hpd"
   ]
  },
  {
   "cell_type": "markdown",
   "metadata": {},
   "source": [
    "### 2014 Unspecified- Age Between 25 and 64 "
   ]
  },
  {
   "cell_type": "code",
   "execution_count": 279,
   "metadata": {},
   "outputs": [],
   "source": [
    "atus_2014_unsp_p25_64 = atus_2014_unsp_p25_64.groupby([\"TUCASEID\"]).sum().filter([\"TUCASEID\", \"TUACTDUR24\"])\n",
    "#atus_2014_unsp_p25_64"
   ]
  },
  {
   "cell_type": "code",
   "execution_count": 280,
   "metadata": {},
   "outputs": [
    {
     "data": {
      "text/plain": [
       "53324883522.744675"
      ]
     },
     "execution_count": 280,
     "metadata": {},
     "output_type": "execute_result"
    }
   ],
   "source": [
    "atus_2014_unsp_p25_64_merge = pd.merge(atus_2014_unsp_p25_64, multi_resp, on= \"TUCASEID\").filter([\"TUCASEID\",\"TUACTDUR24\",\"TUFNWGTP\"])\n",
    "\n",
    "atus_2014_unsp_p25_64_merge[\"Multiplied Weight\"] = atus_2014_unsp_p25_64_merge[\"TUACTDUR24\"] * atus_2014_unsp_p25_64_merge[\"TUFNWGTP\"]\n",
    "\n",
    "atus_2014_unsp_p25_64_multiplied_weight = atus_2014_unsp_p25_64_merge[\"Multiplied Weight\"].sum()\n",
    "atus_2014_unsp_p25_64_multiplied_weight"
   ]
  },
  {
   "cell_type": "code",
   "execution_count": 281,
   "metadata": {},
   "outputs": [
    {
     "data": {
      "text/plain": [
       "0.014822192718611396"
      ]
     },
     "execution_count": 281,
     "metadata": {},
     "output_type": "execute_result"
    }
   ],
   "source": [
    "atus_2014_unsp_p25_64_hpd = atus_2014_unsp_p25_64_multiplied_weight / atus_2014_p25_64_weight / 60\n",
    "atus_2014_unsp_p25_64_hpd"
   ]
  },
  {
   "cell_type": "markdown",
   "metadata": {},
   "source": [
    "### 2015 Unspecified- Age Between 25 and 64 "
   ]
  },
  {
   "cell_type": "code",
   "execution_count": 282,
   "metadata": {},
   "outputs": [],
   "source": [
    "atus_2015_unsp_p25_64 = atus_2015_unsp_p25_64.groupby([\"TUCASEID\"]).sum().filter([\"TUCASEID\", \"TUACTDUR24\"])\n",
    "#atus_2015_unsp_p25_64"
   ]
  },
  {
   "cell_type": "code",
   "execution_count": 283,
   "metadata": {},
   "outputs": [
    {
     "data": {
      "text/plain": [
       "49221853024.16785"
      ]
     },
     "execution_count": 283,
     "metadata": {},
     "output_type": "execute_result"
    }
   ],
   "source": [
    "atus_2015_unsp_p25_64_merge = pd.merge(atus_2015_unsp_p25_64, multi_resp, on= \"TUCASEID\").filter([\"TUCASEID\",\"TUACTDUR24\",\"TUFNWGTP\"])\n",
    "\n",
    "atus_2015_unsp_p25_64_merge[\"Multiplied Weight\"] = atus_2015_unsp_p25_64_merge[\"TUACTDUR24\"] * atus_2015_unsp_p25_64_merge[\"TUFNWGTP\"]\n",
    "\n",
    "atus_2015_unsp_p25_64_multiplied_weight = atus_2015_unsp_p25_64_merge[\"Multiplied Weight\"].sum()\n",
    "atus_2015_unsp_p25_64_multiplied_weight"
   ]
  },
  {
   "cell_type": "code",
   "execution_count": 284,
   "metadata": {},
   "outputs": [
    {
     "data": {
      "text/plain": [
       "0.01356360514474539"
      ]
     },
     "execution_count": 284,
     "metadata": {},
     "output_type": "execute_result"
    }
   ],
   "source": [
    "atus_2015_unsp_p25_64_hpd = atus_2015_unsp_p25_64_multiplied_weight / atus_2015_p25_64_weight / 60\n",
    "atus_2015_unsp_p25_64_hpd"
   ]
  },
  {
   "cell_type": "markdown",
   "metadata": {},
   "source": [
    "### 2016 Unspecified- Age Between 25 and 64 "
   ]
  },
  {
   "cell_type": "code",
   "execution_count": 285,
   "metadata": {},
   "outputs": [],
   "source": [
    "atus_2016_unsp_p25_64 = atus_2016_unsp_p25_64.groupby([\"TUCASEID\"]).sum().filter([\"TUCASEID\", \"TUACTDUR24\"])\n",
    "#atus_2016_unsp_p25_64"
   ]
  },
  {
   "cell_type": "code",
   "execution_count": 286,
   "metadata": {},
   "outputs": [
    {
     "data": {
      "text/plain": [
       "92857328216.12201"
      ]
     },
     "execution_count": 286,
     "metadata": {},
     "output_type": "execute_result"
    }
   ],
   "source": [
    "atus_2016_unsp_p25_64_merge = pd.merge(atus_2016_unsp_p25_64, multi_resp, on= \"TUCASEID\").filter([\"TUCASEID\",\"TUACTDUR24\",\"TUFNWGTP\"])\n",
    "\n",
    "atus_2016_unsp_p25_64_merge[\"Multiplied Weight\"] = atus_2016_unsp_p25_64_merge[\"TUACTDUR24\"] * atus_2016_unsp_p25_64_merge[\"TUFNWGTP\"]\n",
    "\n",
    "atus_2016_unsp_p25_64_multiplied_weight = atus_2016_unsp_p25_64_merge[\"Multiplied Weight\"].sum()\n",
    "atus_2016_unsp_p25_64_multiplied_weight"
   ]
  },
  {
   "cell_type": "code",
   "execution_count": 287,
   "metadata": {},
   "outputs": [
    {
     "data": {
      "text/plain": [
       "0.02530875757003428"
      ]
     },
     "execution_count": 287,
     "metadata": {},
     "output_type": "execute_result"
    }
   ],
   "source": [
    "atus_2016_unsp_p25_64_hpd = atus_2016_unsp_p25_64_multiplied_weight / atus_2016_p25_64_weight / 60\n",
    "atus_2016_unsp_p25_64_hpd"
   ]
  },
  {
   "cell_type": "markdown",
   "metadata": {},
   "source": [
    "### 2017 Unspecified- Age Between 25 and 64 "
   ]
  },
  {
   "cell_type": "code",
   "execution_count": 288,
   "metadata": {},
   "outputs": [],
   "source": [
    "atus_2017_unsp_p25_64 = atus_2017_unsp_p25_64.groupby([\"TUCASEID\"]).sum().filter([\"TUCASEID\", \"TUACTDUR24\"])\n",
    "#atus_2017_unsp_p25_64"
   ]
  },
  {
   "cell_type": "code",
   "execution_count": 289,
   "metadata": {},
   "outputs": [
    {
     "data": {
      "text/plain": [
       "67029726353.29653"
      ]
     },
     "execution_count": 289,
     "metadata": {},
     "output_type": "execute_result"
    }
   ],
   "source": [
    "atus_2017_unsp_p25_64_merge = pd.merge(atus_2017_unsp_p25_64, multi_resp, on= \"TUCASEID\").filter([\"TUCASEID\",\"TUACTDUR24\",\"TUFNWGTP\"])\n",
    "\n",
    "atus_2017_unsp_p25_64_merge[\"Multiplied Weight\"] = atus_2017_unsp_p25_64_merge[\"TUACTDUR24\"] * atus_2017_unsp_p25_64_merge[\"TUFNWGTP\"]\n",
    "\n",
    "atus_2017_unsp_p25_64_multiplied_weight = atus_2017_unsp_p25_64_merge[\"Multiplied Weight\"].sum()\n",
    "atus_2017_unsp_p25_64_multiplied_weight"
   ]
  },
  {
   "cell_type": "code",
   "execution_count": 290,
   "metadata": {},
   "outputs": [
    {
     "data": {
      "text/plain": [
       "0.018284872009846576"
      ]
     },
     "execution_count": 290,
     "metadata": {},
     "output_type": "execute_result"
    }
   ],
   "source": [
    "atus_2017_unsp_p25_64_hpd = atus_2017_unsp_p25_64_multiplied_weight / atus_2017_p25_64_weight / 60\n",
    "atus_2017_unsp_p25_64_hpd"
   ]
  },
  {
   "cell_type": "markdown",
   "metadata": {},
   "source": [
    "### 2018 Unspecified- Age Between 25 and 64 "
   ]
  },
  {
   "cell_type": "code",
   "execution_count": 291,
   "metadata": {},
   "outputs": [],
   "source": [
    "atus_2018_unsp_p25_64 = atus_2018_unsp_p25_64.groupby([\"TUCASEID\"]).sum().filter([\"TUCASEID\", \"TUACTDUR24\"])\n",
    "#atus_2018_unsp_p25_64"
   ]
  },
  {
   "cell_type": "code",
   "execution_count": 292,
   "metadata": {},
   "outputs": [
    {
     "data": {
      "text/plain": [
       "65128045382.00681"
      ]
     },
     "execution_count": 292,
     "metadata": {},
     "output_type": "execute_result"
    }
   ],
   "source": [
    "atus_2018_unsp_p25_64_merge = pd.merge(atus_2018_unsp_p25_64, multi_resp, on= \"TUCASEID\").filter([\"TUCASEID\",\"TUACTDUR24\",\"TUFNWGTP\"])\n",
    "\n",
    "atus_2018_unsp_p25_64_merge[\"Multiplied Weight\"] = atus_2018_unsp_p25_64_merge[\"TUACTDUR24\"] * atus_2018_unsp_p25_64_merge[\"TUFNWGTP\"]\n",
    "\n",
    "atus_2018_unsp_p25_64_multiplied_weight = atus_2018_unsp_p25_64_merge[\"Multiplied Weight\"].sum()\n",
    "atus_2018_unsp_p25_64_multiplied_weight"
   ]
  },
  {
   "cell_type": "code",
   "execution_count": 293,
   "metadata": {},
   "outputs": [
    {
     "data": {
      "text/plain": [
       "0.017648815785353728"
      ]
     },
     "execution_count": 293,
     "metadata": {},
     "output_type": "execute_result"
    }
   ],
   "source": [
    "atus_2018_unsp_p25_64_hpd = atus_2018_unsp_p25_64_multiplied_weight / atus_2018_p25_64_weight / 60\n",
    "atus_2018_unsp_p25_64_hpd"
   ]
  },
  {
   "cell_type": "markdown",
   "metadata": {},
   "source": [
    "### 2019 Unspecified- Age Between 25 and 64 "
   ]
  },
  {
   "cell_type": "code",
   "execution_count": 294,
   "metadata": {},
   "outputs": [],
   "source": [
    "atus_2019_unsp_p25_64 = atus_2019_unsp_p25_64.groupby([\"TUCASEID\"]).sum().filter([\"TUCASEID\", \"TUACTDUR24\"])\n",
    "#atus_2019_unsp_p25_64"
   ]
  },
  {
   "cell_type": "code",
   "execution_count": 295,
   "metadata": {},
   "outputs": [
    {
     "data": {
      "text/plain": [
       "48153706356.935135"
      ]
     },
     "execution_count": 295,
     "metadata": {},
     "output_type": "execute_result"
    }
   ],
   "source": [
    "atus_2019_unsp_p25_64_merge = pd.merge(atus_2019_unsp_p25_64, multi_resp, on= \"TUCASEID\").filter([\"TUCASEID\",\"TUACTDUR24\",\"TUFNWGTP\"])\n",
    "\n",
    "atus_2019_unsp_p25_64_merge[\"Multiplied Weight\"] = atus_2019_unsp_p25_64_merge[\"TUACTDUR24\"] * atus_2019_unsp_p25_64_merge[\"TUFNWGTP\"]\n",
    "\n",
    "atus_2019_unsp_p25_64_multiplied_weight = atus_2019_unsp_p25_64_merge[\"Multiplied Weight\"].sum()\n",
    "atus_2019_unsp_p25_64_multiplied_weight"
   ]
  },
  {
   "cell_type": "code",
   "execution_count": 296,
   "metadata": {},
   "outputs": [
    {
     "data": {
      "text/plain": [
       "0.01304748435381795"
      ]
     },
     "execution_count": 296,
     "metadata": {},
     "output_type": "execute_result"
    }
   ],
   "source": [
    "atus_2019_unsp_p25_64_hpd = atus_2019_unsp_p25_64_multiplied_weight / atus_2019_p25_64_weight / 60\n",
    "atus_2019_unsp_p25_64_hpd"
   ]
  },
  {
   "cell_type": "markdown",
   "metadata": {},
   "source": [
    "### Regresssion: Unespecified - Age Between 25 and 64 "
   ]
  },
  {
   "cell_type": "markdown",
   "metadata": {},
   "source": [
    "#### 2003 -2012 Regression"
   ]
  },
  {
   "cell_type": "code",
   "execution_count": 297,
   "metadata": {},
   "outputs": [],
   "source": [
    "year = np.array([2003, 2004, 2005, 2006, 2007, 2008, 2009, 2010,2011,2012]).reshape((-1, 1))\n",
    "activity_hours_per_day = np.array([atus_2003_unsp_p25_64_hpd, atus_2004_unsp_p25_64_hpd, atus_2005_unsp_p25_64_hpd,\n",
    "                                   atus_2006_unsp_p25_64_hpd, atus_2007_unsp_p25_64_hpd, atus_2008_unsp_p25_64_hpd,\n",
    "                                   atus_2009_unsp_p25_64_hpd, atus_2010_unsp_p25_64_hpd, atus_2011_unsp_p25_64_hpd,\n",
    "                                   atus_2012_unsp_p25_64_hpd]).reshape((-1, 1))\n",
    "\n",
    "activity_hours_per_yr = [i * 365 for i in activity_hours_per_day]\n",
    "#activity_hours_per_yr"
   ]
  },
  {
   "cell_type": "code",
   "execution_count": 298,
   "metadata": {},
   "outputs": [
    {
     "data": {
      "image/png": "[encoded data removed]",
      "text/plain": [
       "<Figure size 432x288 with 1 Axes>"
      ]
     },
     "metadata": {
      "needs_background": "light"
     },
     "output_type": "display_data"
    }
   ],
   "source": [
    "x = year\n",
    "y = activity_hours_per_yr\n",
    "x, y = np.array(x), np.array(y)\n",
    "\n",
    "model = LinearRegression().fit(x, y)\n",
    "\n",
    "y_pred = model.predict(x)  \n",
    "\n",
    "plt.scatter(x, y)\n",
    "plt.plot(x, y_pred, color='red')\n",
    "plt.show()"
   ]
  },
  {
   "cell_type": "code",
   "execution_count": 299,
   "metadata": {},
   "outputs": [
    {
     "data": {
      "text/plain": [
       "0.03096880500442889"
      ]
     },
     "execution_count": 299,
     "metadata": {},
     "output_type": "execute_result"
    }
   ],
   "source": [
    "coefficient_of_determination = model.score(x,y) #R sqaure value \n",
    "coefficient_of_determination"
   ]
  },
  {
   "cell_type": "code",
   "execution_count": 300,
   "metadata": {},
   "outputs": [
    {
     "data": {
      "text/plain": [
       "array([[0.08371928]])"
      ]
     },
     "execution_count": 300,
     "metadata": {},
     "output_type": "execute_result"
    }
   ],
   "source": [
    "all_act_2012_res_p25_64_slope = model.coef_\n",
    "all_act_2012_res_p25_64_slope"
   ]
  },
  {
   "cell_type": "markdown",
   "metadata": {},
   "source": [
    "#### 2003-2019 Regression"
   ]
  },
  {
   "cell_type": "code",
   "execution_count": 301,
   "metadata": {},
   "outputs": [],
   "source": [
    "year = np.array([2003, 2004, 2005, 2006, 2007, 2008, 2009, 2010,2011,2012,2013,2014,2015,2016,2017,2018,2019]).reshape((-1, 1))\n",
    "activity_hours_per_day = np.array([atus_2003_unsp_p25_64_hpd, atus_2004_unsp_p25_64_hpd, atus_2005_unsp_p25_64_hpd,\n",
    "                                   atus_2006_unsp_p25_64_hpd, atus_2007_unsp_p25_64_hpd, atus_2008_unsp_p25_64_hpd,\n",
    "                                   atus_2009_unsp_p25_64_hpd, atus_2010_unsp_p25_64_hpd, atus_2011_unsp_p25_64_hpd,\n",
    "                                   atus_2012_unsp_p25_64_hpd, atus_2013_unsp_p25_64_hpd, atus_2014_unsp_p25_64_hpd,\n",
    "                                   atus_2015_unsp_p25_64_hpd, atus_2016_unsp_p25_64_hpd, atus_2017_unsp_p25_64_hpd,\n",
    "                                   atus_2018_unsp_p25_64_hpd, atus_2019_unsp_p25_64_hpd]).reshape((-1, 1))\n",
    "\n",
    "activity_hours_per_yr = [i * 365 for i in activity_hours_per_day]\n",
    "#activity_hours_per_yr"
   ]
  },
  {
   "cell_type": "code",
   "execution_count": 302,
   "metadata": {},
   "outputs": [
    {
     "data": {
      "image/png": "[encoded data removed]",
      "text/plain": [
       "<Figure size 432x288 with 1 Axes>"
      ]
     },
     "metadata": {
      "needs_background": "light"
     },
     "output_type": "display_data"
    }
   ],
   "source": [
    "x = year\n",
    "y = activity_hours_per_yr\n",
    "x, y = np.array(x), np.array(y)\n",
    "\n",
    "model = LinearRegression().fit(x, y)\n",
    "\n",
    "y_pred = model.predict(x)  \n",
    "\n",
    "plt.scatter(x, y)\n",
    "plt.plot(x, y_pred, color='red')\n",
    "plt.show()"
   ]
  },
  {
   "cell_type": "code",
   "execution_count": 303,
   "metadata": {},
   "outputs": [
    {
     "data": {
      "text/plain": [
       "0.03392300448613894"
      ]
     },
     "execution_count": 303,
     "metadata": {},
     "output_type": "execute_result"
    }
   ],
   "source": [
    "coefficient_of_determination = model.score(x,y) #R sqaure value \n",
    "coefficient_of_determination"
   ]
  },
  {
   "cell_type": "code",
   "execution_count": 304,
   "metadata": {},
   "outputs": [
    {
     "data": {
      "text/plain": [
       "array([[0.05463827]])"
      ]
     },
     "execution_count": 304,
     "metadata": {},
     "output_type": "execute_result"
    }
   ],
   "source": [
    "all_act_2019_res_p25_64_slope = model.coef_\n",
    "all_act_2019_res_p25_64_slope"
   ]
  },
  {
   "cell_type": "code",
   "execution_count": null,
   "metadata": {},
   "outputs": [],
   "source": []
  }
 ],
 "metadata": {
  "kernelspec": {
   "display_name": "Python 3",
   "language": "python",
   "name": "python3"
  },
  "language_info": {
   "codemirror_mode": {
    "name": "ipython",
    "version": 3
   },
   "file_extension": ".py",
   "mimetype": "text/x-python",
   "name": "python",
   "nbconvert_exporter": "python",
   "pygments_lexer": "ipython3",
   "version": "3.8.3"
  }
 },
 "nbformat": 4,
 "nbformat_minor": 4
}
