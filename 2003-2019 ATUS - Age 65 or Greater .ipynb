{
 "cells": [
  {
   "cell_type": "code",
   "execution_count": 1,
   "metadata": {},
   "outputs": [],
   "source": [
    "import pandas as pd \n",
    "import numpy as np \n",
    "%matplotlib inline\n",
    "import matplotlib.pyplot as plt\n",
    "from sklearn.linear_model import LinearRegression"
   ]
  },
  {
   "cell_type": "code",
   "execution_count": 2,
   "metadata": {},
   "outputs": [],
   "source": [
    "multi_act = pd.read_csv(\"ATUS DATA 03-19/atus_activity_0319.dat\", \n",
    "                        dtype= {\"TRCODEP\": object, \"TRTIER1P\": object, \"TRTIER2P\": object}) #using 2003-2019 activity file\n",
    "#multi_act"
   ]
  },
  {
   "cell_type": "code",
   "execution_count": 3,
   "metadata": {},
   "outputs": [],
   "source": [
    "multi_rost = pd.read_csv(\"ATUS DATA 03-19/atus_rost_0319.dat\")\n",
    "\n",
    "#TERRP = How is this person related to you?\n",
    "# \"There is no distinction between 18 and 19\"\n",
    "roster_list = [18,19] # 18 and 19 = self \n",
    "multi_rost = multi_rost[multi_rost[\"TERRP\"].isin(roster_list)]\n",
    "#multi_rost.head(20)"
   ]
  },
  {
   "cell_type": "code",
   "execution_count": 4,
   "metadata": {},
   "outputs": [],
   "source": [
    "multi_resp = pd.read_csv(\"ATUS DATA 03-19/atus_resp_0319.dat\")\n",
    "#multi_resp.columns.to_list()"
   ]
  },
  {
   "cell_type": "code",
   "execution_count": 5,
   "metadata": {},
   "outputs": [],
   "source": [
    "multi_merged1 = pd.merge(multi_act, multi_resp, on=\"TUCASEID\")\n",
    "multi_merged = pd.merge(multi_merged1, multi_rost, on=\"TUCASEID\")\n",
    "#multi_merged = pd.merge(multi_resp, multi_rost, on=\"TUCASEID\")\n",
    "multi_merged = multi_merged.filter([\"TUCASEID\",\"TUACTDUR24\",\"TUCUMDUR\",\"TRTIER1P\",\"TRTIER2P\",\"TRCODEP\", \n",
    "                                    \"TEWHERE\",\"TEAGE\", \"TUFNWGTP\",\"TUSTARTTIM\",\"TUSTOPTIME\", \"TUYEAR\"])\n",
    "#multi_merged.head(20)"
   ]
  },
  {
   "cell_type": "markdown",
   "metadata": {},
   "source": [
    "## Age Between 65 or Greater  Population"
   ]
  },
  {
   "cell_type": "code",
   "execution_count": 6,
   "metadata": {},
   "outputs": [
    {
     "data": {
      "text/html": [
       "<div>\n",
       "<style scoped>\n",
       "    .dataframe tbody tr th:only-of-type {\n",
       "        vertical-align: middle;\n",
       "    }\n",
       "\n",
       "    .dataframe tbody tr th {\n",
       "        vertical-align: top;\n",
       "    }\n",
       "\n",
       "    .dataframe thead th {\n",
       "        text-align: right;\n",
       "    }\n",
       "</style>\n",
       "<table border=\"1\" class=\"dataframe\">\n",
       "  <thead>\n",
       "    <tr style=\"text-align: right;\">\n",
       "      <th></th>\n",
       "      <th>TUCASEID</th>\n",
       "      <th>TUACTDUR24</th>\n",
       "      <th>TUCUMDUR</th>\n",
       "      <th>TRTIER1P</th>\n",
       "      <th>TRTIER2P</th>\n",
       "      <th>TRCODEP</th>\n",
       "      <th>TEWHERE</th>\n",
       "      <th>TEAGE</th>\n",
       "      <th>TUFNWGTP</th>\n",
       "      <th>TUSTARTTIM</th>\n",
       "      <th>TUSTOPTIME</th>\n",
       "      <th>TUYEAR</th>\n",
       "    </tr>\n",
       "  </thead>\n",
       "  <tbody>\n",
       "    <tr>\n",
       "      <th>687</th>\n",
       "      <td>20030101030549</td>\n",
       "      <td>180</td>\n",
       "      <td>180</td>\n",
       "      <td>01</td>\n",
       "      <td>0101</td>\n",
       "      <td>010101</td>\n",
       "      <td>-1</td>\n",
       "      <td>68</td>\n",
       "      <td>1.798283e+06</td>\n",
       "      <td>04:00:00</td>\n",
       "      <td>07:00:00</td>\n",
       "      <td>2003</td>\n",
       "    </tr>\n",
       "    <tr>\n",
       "      <th>688</th>\n",
       "      <td>20030101030549</td>\n",
       "      <td>60</td>\n",
       "      <td>240</td>\n",
       "      <td>01</td>\n",
       "      <td>0102</td>\n",
       "      <td>010201</td>\n",
       "      <td>-1</td>\n",
       "      <td>68</td>\n",
       "      <td>1.798283e+06</td>\n",
       "      <td>07:00:00</td>\n",
       "      <td>08:00:00</td>\n",
       "      <td>2003</td>\n",
       "    </tr>\n",
       "    <tr>\n",
       "      <th>689</th>\n",
       "      <td>20030101030549</td>\n",
       "      <td>30</td>\n",
       "      <td>270</td>\n",
       "      <td>11</td>\n",
       "      <td>1101</td>\n",
       "      <td>110101</td>\n",
       "      <td>1</td>\n",
       "      <td>68</td>\n",
       "      <td>1.798283e+06</td>\n",
       "      <td>08:00:00</td>\n",
       "      <td>08:30:00</td>\n",
       "      <td>2003</td>\n",
       "    </tr>\n",
       "    <tr>\n",
       "      <th>690</th>\n",
       "      <td>20030101030549</td>\n",
       "      <td>75</td>\n",
       "      <td>345</td>\n",
       "      <td>01</td>\n",
       "      <td>0102</td>\n",
       "      <td>010201</td>\n",
       "      <td>-1</td>\n",
       "      <td>68</td>\n",
       "      <td>1.798283e+06</td>\n",
       "      <td>08:30:00</td>\n",
       "      <td>09:45:00</td>\n",
       "      <td>2003</td>\n",
       "    </tr>\n",
       "    <tr>\n",
       "      <th>691</th>\n",
       "      <td>20030101030549</td>\n",
       "      <td>7</td>\n",
       "      <td>352</td>\n",
       "      <td>18</td>\n",
       "      <td>1814</td>\n",
       "      <td>181401</td>\n",
       "      <td>12</td>\n",
       "      <td>68</td>\n",
       "      <td>1.798283e+06</td>\n",
       "      <td>09:45:00</td>\n",
       "      <td>09:52:00</td>\n",
       "      <td>2003</td>\n",
       "    </tr>\n",
       "    <tr>\n",
       "      <th>...</th>\n",
       "      <td>...</td>\n",
       "      <td>...</td>\n",
       "      <td>...</td>\n",
       "      <td>...</td>\n",
       "      <td>...</td>\n",
       "      <td>...</td>\n",
       "      <td>...</td>\n",
       "      <td>...</td>\n",
       "      <td>...</td>\n",
       "      <td>...</td>\n",
       "      <td>...</td>\n",
       "      <td>...</td>\n",
       "    </tr>\n",
       "    <tr>\n",
       "      <th>4121248</th>\n",
       "      <td>20191212192256</td>\n",
       "      <td>10</td>\n",
       "      <td>805</td>\n",
       "      <td>02</td>\n",
       "      <td>0209</td>\n",
       "      <td>020904</td>\n",
       "      <td>1</td>\n",
       "      <td>75</td>\n",
       "      <td>6.548353e+06</td>\n",
       "      <td>17:15:00</td>\n",
       "      <td>17:25:00</td>\n",
       "      <td>2019</td>\n",
       "    </tr>\n",
       "    <tr>\n",
       "      <th>4121249</th>\n",
       "      <td>20191212192256</td>\n",
       "      <td>95</td>\n",
       "      <td>900</td>\n",
       "      <td>12</td>\n",
       "      <td>1203</td>\n",
       "      <td>120303</td>\n",
       "      <td>1</td>\n",
       "      <td>75</td>\n",
       "      <td>6.548353e+06</td>\n",
       "      <td>17:25:00</td>\n",
       "      <td>19:00:00</td>\n",
       "      <td>2019</td>\n",
       "    </tr>\n",
       "    <tr>\n",
       "      <th>4121250</th>\n",
       "      <td>20191212192256</td>\n",
       "      <td>90</td>\n",
       "      <td>990</td>\n",
       "      <td>01</td>\n",
       "      <td>0101</td>\n",
       "      <td>010101</td>\n",
       "      <td>-1</td>\n",
       "      <td>75</td>\n",
       "      <td>6.548353e+06</td>\n",
       "      <td>19:00:00</td>\n",
       "      <td>20:30:00</td>\n",
       "      <td>2019</td>\n",
       "    </tr>\n",
       "    <tr>\n",
       "      <th>4121251</th>\n",
       "      <td>20191212192256</td>\n",
       "      <td>105</td>\n",
       "      <td>1095</td>\n",
       "      <td>12</td>\n",
       "      <td>1203</td>\n",
       "      <td>120303</td>\n",
       "      <td>1</td>\n",
       "      <td>75</td>\n",
       "      <td>6.548353e+06</td>\n",
       "      <td>20:30:00</td>\n",
       "      <td>22:15:00</td>\n",
       "      <td>2019</td>\n",
       "    </tr>\n",
       "    <tr>\n",
       "      <th>4121252</th>\n",
       "      <td>20191212192256</td>\n",
       "      <td>345</td>\n",
       "      <td>1575</td>\n",
       "      <td>01</td>\n",
       "      <td>0101</td>\n",
       "      <td>010101</td>\n",
       "      <td>-1</td>\n",
       "      <td>75</td>\n",
       "      <td>6.548353e+06</td>\n",
       "      <td>22:15:00</td>\n",
       "      <td>06:15:00</td>\n",
       "      <td>2019</td>\n",
       "    </tr>\n",
       "  </tbody>\n",
       "</table>\n",
       "<p>790920 rows × 12 columns</p>\n",
       "</div>"
      ],
      "text/plain": [
       "               TUCASEID  TUACTDUR24  TUCUMDUR TRTIER1P TRTIER2P TRCODEP  \\\n",
       "687      20030101030549         180       180       01     0101  010101   \n",
       "688      20030101030549          60       240       01     0102  010201   \n",
       "689      20030101030549          30       270       11     1101  110101   \n",
       "690      20030101030549          75       345       01     0102  010201   \n",
       "691      20030101030549           7       352       18     1814  181401   \n",
       "...                 ...         ...       ...      ...      ...     ...   \n",
       "4121248  20191212192256          10       805       02     0209  020904   \n",
       "4121249  20191212192256          95       900       12     1203  120303   \n",
       "4121250  20191212192256          90       990       01     0101  010101   \n",
       "4121251  20191212192256         105      1095       12     1203  120303   \n",
       "4121252  20191212192256         345      1575       01     0101  010101   \n",
       "\n",
       "         TEWHERE  TEAGE      TUFNWGTP TUSTARTTIM TUSTOPTIME  TUYEAR  \n",
       "687           -1     68  1.798283e+06   04:00:00   07:00:00    2003  \n",
       "688           -1     68  1.798283e+06   07:00:00   08:00:00    2003  \n",
       "689            1     68  1.798283e+06   08:00:00   08:30:00    2003  \n",
       "690           -1     68  1.798283e+06   08:30:00   09:45:00    2003  \n",
       "691           12     68  1.798283e+06   09:45:00   09:52:00    2003  \n",
       "...          ...    ...           ...        ...        ...     ...  \n",
       "4121248        1     75  6.548353e+06   17:15:00   17:25:00    2019  \n",
       "4121249        1     75  6.548353e+06   17:25:00   19:00:00    2019  \n",
       "4121250       -1     75  6.548353e+06   19:00:00   20:30:00    2019  \n",
       "4121251        1     75  6.548353e+06   20:30:00   22:15:00    2019  \n",
       "4121252       -1     75  6.548353e+06   22:15:00   06:15:00    2019  \n",
       "\n",
       "[790920 rows x 12 columns]"
      ]
     },
     "execution_count": 6,
     "metadata": {},
     "output_type": "execute_result"
    }
   ],
   "source": [
    "#p65_greater_codes = [3,4] # 3= Age Between 65 or Greater  - on layoff, 3 = Age Between 65 or Greater  - looking\n",
    "#multi_merged_p65_greater = multi_merged[multi_merged[\"TELFS\"].isin(p65_greater_codes)]\n",
    "#multi_merged_p65_greater[\"TELFS\"].unique()\n",
    "\n",
    "multi_merged_p65_greater = multi_merged[(multi_merged[\"TEAGE\"] >= 65)]\n",
    "multi_merged_p65_greater"
   ]
  },
  {
   "cell_type": "code",
   "execution_count": 7,
   "metadata": {},
   "outputs": [
    {
     "data": {
      "text/plain": [
       "12502691204.231308"
      ]
     },
     "execution_count": 7,
     "metadata": {},
     "output_type": "execute_result"
    }
   ],
   "source": [
    "p65_greater_2003 = multi_merged_p65_greater[multi_merged_p65_greater[\"TUCASEID\"].apply(str).str.startswith(\"2003\")]\n",
    "atus_2003_p65_greater_weight = p65_greater_2003.drop_duplicates(subset=[\"TUCASEID\"])\n",
    "atus_2003_p65_greater_weight = atus_2003_p65_greater_weight[\"TUFNWGTP\"].sum()\n",
    "atus_2003_p65_greater_weight"
   ]
  },
  {
   "cell_type": "markdown",
   "metadata": {},
   "source": [
    "## 2003-2019 Residential - Age Between 65 or Greater "
   ]
  },
  {
   "cell_type": "code",
   "execution_count": 8,
   "metadata": {},
   "outputs": [],
   "source": [
    "#only residential location from 2003-2019\n",
    "residential_location = [-1,1,3]\n",
    "atus_multi_yr_res_p65_greater = multi_merged_p65_greater[multi_merged_p65_greater[\"TEWHERE\"].isin(residential_location)]\n",
    "#atus_multi_yr_res_p65_greater"
   ]
  },
  {
   "cell_type": "code",
   "execution_count": 9,
   "metadata": {},
   "outputs": [],
   "source": [
    "#atus residential year seperation by p65_greater population \n",
    "atus_2003_res_p65_greater = atus_multi_yr_res_p65_greater[atus_multi_yr_res_p65_greater[\"TUCASEID\"].apply(str).str.startswith(\"2003\")]\n",
    "atus_2004_res_p65_greater = atus_multi_yr_res_p65_greater[atus_multi_yr_res_p65_greater[\"TUCASEID\"].apply(str).str.startswith(\"2004\")]\n",
    "atus_2005_res_p65_greater = atus_multi_yr_res_p65_greater[atus_multi_yr_res_p65_greater[\"TUCASEID\"].apply(str).str.startswith(\"2005\")]\n",
    "atus_2006_res_p65_greater = atus_multi_yr_res_p65_greater[atus_multi_yr_res_p65_greater[\"TUCASEID\"].apply(str).str.startswith(\"2006\")]\n",
    "atus_2007_res_p65_greater = atus_multi_yr_res_p65_greater[atus_multi_yr_res_p65_greater[\"TUCASEID\"].apply(str).str.startswith(\"2007\")]\n",
    "atus_2008_res_p65_greater = atus_multi_yr_res_p65_greater[atus_multi_yr_res_p65_greater[\"TUCASEID\"].apply(str).str.startswith(\"2008\")]\n",
    "atus_2009_res_p65_greater = atus_multi_yr_res_p65_greater[atus_multi_yr_res_p65_greater[\"TUCASEID\"].apply(str).str.startswith(\"2009\")]\n",
    "atus_2010_res_p65_greater = atus_multi_yr_res_p65_greater[atus_multi_yr_res_p65_greater[\"TUCASEID\"].apply(str).str.startswith(\"2010\")]\n",
    "atus_2011_res_p65_greater = atus_multi_yr_res_p65_greater[atus_multi_yr_res_p65_greater[\"TUCASEID\"].apply(str).str.startswith(\"2011\")]\n",
    "atus_2012_res_p65_greater = atus_multi_yr_res_p65_greater[atus_multi_yr_res_p65_greater[\"TUCASEID\"].apply(str).str.startswith(\"2012\")]\n",
    "atus_2013_res_p65_greater = atus_multi_yr_res_p65_greater[atus_multi_yr_res_p65_greater[\"TUCASEID\"].apply(str).str.startswith(\"2013\")]\n",
    "atus_2014_res_p65_greater = atus_multi_yr_res_p65_greater[atus_multi_yr_res_p65_greater[\"TUCASEID\"].apply(str).str.startswith(\"2014\")]\n",
    "atus_2015_res_p65_greater = atus_multi_yr_res_p65_greater[atus_multi_yr_res_p65_greater[\"TUCASEID\"].apply(str).str.startswith(\"2015\")]\n",
    "atus_2016_res_p65_greater = atus_multi_yr_res_p65_greater[atus_multi_yr_res_p65_greater[\"TUCASEID\"].apply(str).str.startswith(\"2016\")]\n",
    "atus_2017_res_p65_greater = atus_multi_yr_res_p65_greater[atus_multi_yr_res_p65_greater[\"TUCASEID\"].apply(str).str.startswith(\"2017\")]\n",
    "atus_2018_res_p65_greater = atus_multi_yr_res_p65_greater[atus_multi_yr_res_p65_greater[\"TUCASEID\"].apply(str).str.startswith(\"2018\")]\n",
    "atus_2019_res_p65_greater = atus_multi_yr_res_p65_greater[atus_multi_yr_res_p65_greater[\"TUCASEID\"].apply(str).str.startswith(\"2019\")]\n",
    "#atus_2003_res_p65_greater.head(30)"
   ]
  },
  {
   "cell_type": "code",
   "execution_count": null,
   "metadata": {},
   "outputs": [],
   "source": []
  },
  {
   "cell_type": "markdown",
   "metadata": {},
   "source": [
    "### 2003 All Residential Activities - Age Between 65 or Greater  Population"
   ]
  },
  {
   "cell_type": "code",
   "execution_count": 10,
   "metadata": {},
   "outputs": [
    {
     "data": {
      "text/html": [
       "<div>\n",
       "<style scoped>\n",
       "    .dataframe tbody tr th:only-of-type {\n",
       "        vertical-align: middle;\n",
       "    }\n",
       "\n",
       "    .dataframe tbody tr th {\n",
       "        vertical-align: top;\n",
       "    }\n",
       "\n",
       "    .dataframe thead th {\n",
       "        text-align: right;\n",
       "    }\n",
       "</style>\n",
       "<table border=\"1\" class=\"dataframe\">\n",
       "  <thead>\n",
       "    <tr style=\"text-align: right;\">\n",
       "      <th></th>\n",
       "      <th>TUACTDUR24</th>\n",
       "    </tr>\n",
       "    <tr>\n",
       "      <th>TUCASEID</th>\n",
       "      <th></th>\n",
       "    </tr>\n",
       "  </thead>\n",
       "  <tbody>\n",
       "    <tr>\n",
       "      <th>20030101030549</th>\n",
       "      <td>1145</td>\n",
       "    </tr>\n",
       "    <tr>\n",
       "      <th>20030101030843</th>\n",
       "      <td>1150</td>\n",
       "    </tr>\n",
       "    <tr>\n",
       "      <th>20030101031007</th>\n",
       "      <td>1320</td>\n",
       "    </tr>\n",
       "    <tr>\n",
       "      <th>20030101031049</th>\n",
       "      <td>1440</td>\n",
       "    </tr>\n",
       "    <tr>\n",
       "      <th>20030101031055</th>\n",
       "      <td>1353</td>\n",
       "    </tr>\n",
       "    <tr>\n",
       "      <th>...</th>\n",
       "      <td>...</td>\n",
       "    </tr>\n",
       "    <tr>\n",
       "      <th>20031212033044</th>\n",
       "      <td>925</td>\n",
       "    </tr>\n",
       "    <tr>\n",
       "      <th>20031212033077</th>\n",
       "      <td>1066</td>\n",
       "    </tr>\n",
       "    <tr>\n",
       "      <th>20031212033114</th>\n",
       "      <td>1270</td>\n",
       "    </tr>\n",
       "    <tr>\n",
       "      <th>20031212033151</th>\n",
       "      <td>1423</td>\n",
       "    </tr>\n",
       "    <tr>\n",
       "      <th>20031212033517</th>\n",
       "      <td>1285</td>\n",
       "    </tr>\n",
       "  </tbody>\n",
       "</table>\n",
       "<p>3478 rows × 1 columns</p>\n",
       "</div>"
      ],
      "text/plain": [
       "                TUACTDUR24\n",
       "TUCASEID                  \n",
       "20030101030549        1145\n",
       "20030101030843        1150\n",
       "20030101031007        1320\n",
       "20030101031049        1440\n",
       "20030101031055        1353\n",
       "...                    ...\n",
       "20031212033044         925\n",
       "20031212033077        1066\n",
       "20031212033114        1270\n",
       "20031212033151        1423\n",
       "20031212033517        1285\n",
       "\n",
       "[3478 rows x 1 columns]"
      ]
     },
     "execution_count": 10,
     "metadata": {},
     "output_type": "execute_result"
    }
   ],
   "source": [
    "atus_2003_all_res_p65_greater = atus_2003_res_p65_greater.groupby([\"TUCASEID\"]).sum().filter([\"TUCASEID\", \"TUACTDUR24\"])\n",
    "atus_2003_all_res_p65_greater"
   ]
  },
  {
   "cell_type": "code",
   "execution_count": 11,
   "metadata": {},
   "outputs": [
    {
     "data": {
      "text/html": [
       "<div>\n",
       "<style scoped>\n",
       "    .dataframe tbody tr th:only-of-type {\n",
       "        vertical-align: middle;\n",
       "    }\n",
       "\n",
       "    .dataframe tbody tr th {\n",
       "        vertical-align: top;\n",
       "    }\n",
       "\n",
       "    .dataframe thead th {\n",
       "        text-align: right;\n",
       "    }\n",
       "</style>\n",
       "<table border=\"1\" class=\"dataframe\">\n",
       "  <thead>\n",
       "    <tr style=\"text-align: right;\">\n",
       "      <th></th>\n",
       "      <th>TUCASEID</th>\n",
       "      <th>TUACTDUR24</th>\n",
       "      <th>TUFNWGTP</th>\n",
       "    </tr>\n",
       "  </thead>\n",
       "  <tbody>\n",
       "    <tr>\n",
       "      <th>0</th>\n",
       "      <td>20030101030549</td>\n",
       "      <td>1145</td>\n",
       "      <td>1.798283e+06</td>\n",
       "    </tr>\n",
       "    <tr>\n",
       "      <th>1</th>\n",
       "      <td>20030101030843</td>\n",
       "      <td>1150</td>\n",
       "      <td>5.196677e+06</td>\n",
       "    </tr>\n",
       "    <tr>\n",
       "      <th>2</th>\n",
       "      <td>20030101031007</td>\n",
       "      <td>1320</td>\n",
       "      <td>3.681494e+06</td>\n",
       "    </tr>\n",
       "    <tr>\n",
       "      <th>3</th>\n",
       "      <td>20030101031049</td>\n",
       "      <td>1440</td>\n",
       "      <td>3.876824e+06</td>\n",
       "    </tr>\n",
       "    <tr>\n",
       "      <th>4</th>\n",
       "      <td>20030101031055</td>\n",
       "      <td>1353</td>\n",
       "      <td>3.075222e+06</td>\n",
       "    </tr>\n",
       "    <tr>\n",
       "      <th>...</th>\n",
       "      <td>...</td>\n",
       "      <td>...</td>\n",
       "      <td>...</td>\n",
       "    </tr>\n",
       "    <tr>\n",
       "      <th>3473</th>\n",
       "      <td>20031212033044</td>\n",
       "      <td>925</td>\n",
       "      <td>2.221994e+06</td>\n",
       "    </tr>\n",
       "    <tr>\n",
       "      <th>3474</th>\n",
       "      <td>20031212033077</td>\n",
       "      <td>1066</td>\n",
       "      <td>1.326797e+06</td>\n",
       "    </tr>\n",
       "    <tr>\n",
       "      <th>3475</th>\n",
       "      <td>20031212033114</td>\n",
       "      <td>1270</td>\n",
       "      <td>2.188040e+06</td>\n",
       "    </tr>\n",
       "    <tr>\n",
       "      <th>3476</th>\n",
       "      <td>20031212033151</td>\n",
       "      <td>1423</td>\n",
       "      <td>1.222893e+06</td>\n",
       "    </tr>\n",
       "    <tr>\n",
       "      <th>3477</th>\n",
       "      <td>20031212033517</td>\n",
       "      <td>1285</td>\n",
       "      <td>2.449238e+06</td>\n",
       "    </tr>\n",
       "  </tbody>\n",
       "</table>\n",
       "<p>3478 rows × 3 columns</p>\n",
       "</div>"
      ],
      "text/plain": [
       "            TUCASEID  TUACTDUR24      TUFNWGTP\n",
       "0     20030101030549        1145  1.798283e+06\n",
       "1     20030101030843        1150  5.196677e+06\n",
       "2     20030101031007        1320  3.681494e+06\n",
       "3     20030101031049        1440  3.876824e+06\n",
       "4     20030101031055        1353  3.075222e+06\n",
       "...              ...         ...           ...\n",
       "3473  20031212033044         925  2.221994e+06\n",
       "3474  20031212033077        1066  1.326797e+06\n",
       "3475  20031212033114        1270  2.188040e+06\n",
       "3476  20031212033151        1423  1.222893e+06\n",
       "3477  20031212033517        1285  2.449238e+06\n",
       "\n",
       "[3478 rows x 3 columns]"
      ]
     },
     "execution_count": 11,
     "metadata": {},
     "output_type": "execute_result"
    }
   ],
   "source": [
    "atus_2003_all_res_p65_greater_merge = pd.merge(atus_2003_all_res_p65_greater, multi_resp, on= \"TUCASEID\").filter([\"TUCASEID\",\"TUACTDUR24\",\"TUFNWGTP\"])\n",
    "atus_2003_all_res_p65_greater_merge"
   ]
  },
  {
   "cell_type": "code",
   "execution_count": 12,
   "metadata": {},
   "outputs": [],
   "source": [
    "atus_2003_all_res_p65_greater_merge[\"Multiplied Weight\"] = atus_2003_all_res_p65_greater_merge[\"TUACTDUR24\"] * atus_2003_all_res_p65_greater_merge[\"TUFNWGTP\"]\n",
    "#atus_2003_all_res_p65_greater_merge"
   ]
  },
  {
   "cell_type": "code",
   "execution_count": 13,
   "metadata": {},
   "outputs": [
    {
     "data": {
      "text/plain": [
       "15545766303489.17"
      ]
     },
     "execution_count": 13,
     "metadata": {},
     "output_type": "execute_result"
    }
   ],
   "source": [
    "atus_2003_all_res_p65_greater_multiplied_weight = atus_2003_all_res_p65_greater_merge[\"Multiplied Weight\"].sum()\n",
    "atus_2003_all_res_p65_greater_multiplied_weight"
   ]
  },
  {
   "cell_type": "code",
   "execution_count": 14,
   "metadata": {},
   "outputs": [
    {
     "data": {
      "text/plain": [
       "12502691204.231308"
      ]
     },
     "execution_count": 14,
     "metadata": {},
     "output_type": "execute_result"
    }
   ],
   "source": [
    "p65_greater_2003 = multi_merged_p65_greater[multi_merged_p65_greater[\"TUCASEID\"].apply(str).str.startswith(\"2003\")]\n",
    "atus_2003_p65_greater_weight = p65_greater_2003.drop_duplicates(subset=[\"TUCASEID\"])\n",
    "atus_2003_p65_greater_weight = atus_2003_p65_greater_weight[\"TUFNWGTP\"].sum()\n",
    "atus_2003_p65_greater_weight"
   ]
  },
  {
   "cell_type": "code",
   "execution_count": 15,
   "metadata": {},
   "outputs": [
    {
     "data": {
      "text/plain": [
       "20.723226769806686"
      ]
     },
     "execution_count": 15,
     "metadata": {},
     "output_type": "execute_result"
    }
   ],
   "source": [
    "all_act_2003_res_p65_greater_hpd = atus_2003_all_res_p65_greater_multiplied_weight / atus_2003_p65_greater_weight / 60\n",
    "all_act_2003_res_p65_greater_hpd"
   ]
  },
  {
   "cell_type": "markdown",
   "metadata": {},
   "source": [
    "### 2004 All Residential Activities - Age Between 65 or Greater  Population"
   ]
  },
  {
   "cell_type": "code",
   "execution_count": 16,
   "metadata": {},
   "outputs": [],
   "source": [
    "atus_2004_all_res_p65_greater = atus_2004_res_p65_greater.groupby([\"TUCASEID\"]).sum().filter([\"TUCASEID\", \"TUACTDUR24\"])\n",
    "#atus_2004_all_res_p65_greater"
   ]
  },
  {
   "cell_type": "code",
   "execution_count": 17,
   "metadata": {},
   "outputs": [],
   "source": [
    "atus_2004_all_res_p65_greater_merge = pd.merge(atus_2004_all_res_p65_greater, multi_resp, on= \"TUCASEID\").filter([\"TUCASEID\",\"TUACTDUR24\",\"TUFNWGTP\"])\n",
    "atus_2004_all_res_p65_greater_merge[\"Multiplied Weight\"] = atus_2004_all_res_p65_greater_merge[\"TUACTDUR24\"] * atus_2004_all_res_p65_greater_merge[\"TUFNWGTP\"]\n",
    "#atus_2004_all_res_p65_greater_merge"
   ]
  },
  {
   "cell_type": "code",
   "execution_count": 18,
   "metadata": {},
   "outputs": [],
   "source": [
    "p65_greater_2004 = multi_merged_p65_greater[multi_merged_p65_greater[\"TUCASEID\"].apply(str).str.startswith(\"2004\")]\n",
    "atus_2004_p65_greater_weight = p65_greater_2004.drop_duplicates(subset=[\"TUCASEID\"])\n",
    "atus_2004_p65_greater_weight = atus_2004_p65_greater_weight[\"TUFNWGTP\"].sum()\n",
    "\n",
    "atus_2004_all_res_p65_greater_multiplied_weight = atus_2004_all_res_p65_greater_merge[\"Multiplied Weight\"].sum()"
   ]
  },
  {
   "cell_type": "code",
   "execution_count": 19,
   "metadata": {},
   "outputs": [
    {
     "data": {
      "text/plain": [
       "20.67407545280653"
      ]
     },
     "execution_count": 19,
     "metadata": {},
     "output_type": "execute_result"
    }
   ],
   "source": [
    "all_act_2004_res_p65_greater_hpd = atus_2004_all_res_p65_greater_multiplied_weight / atus_2004_p65_greater_weight / 60\n",
    "all_act_2004_res_p65_greater_hpd"
   ]
  },
  {
   "cell_type": "markdown",
   "metadata": {},
   "source": [
    "### 2005 All Residential Activities - Age Between 65 or Greater  Population"
   ]
  },
  {
   "cell_type": "code",
   "execution_count": 20,
   "metadata": {},
   "outputs": [],
   "source": [
    "atus_2005_all_res_p65_greater = atus_2005_res_p65_greater.groupby([\"TUCASEID\"]).sum().filter([\"TUCASEID\", \"TUACTDUR24\"])\n",
    "#atus_2005_all_res_p65_greater"
   ]
  },
  {
   "cell_type": "code",
   "execution_count": 21,
   "metadata": {},
   "outputs": [],
   "source": [
    "atus_2005_all_res_p65_greater_merge = pd.merge(atus_2005_all_res_p65_greater, multi_resp, on= \"TUCASEID\").filter([\"TUCASEID\",\"TUACTDUR24\",\"TUFNWGTP\"])\n",
    "atus_2005_all_res_p65_greater_merge[\"Multiplied Weight\"] = atus_2005_all_res_p65_greater_merge[\"TUACTDUR24\"] * atus_2005_all_res_p65_greater_merge[\"TUFNWGTP\"]\n",
    "#atus_2005_all_res_p65_greater_merge"
   ]
  },
  {
   "cell_type": "code",
   "execution_count": 22,
   "metadata": {},
   "outputs": [],
   "source": [
    "p65_greater_2005 = multi_merged_p65_greater[multi_merged_p65_greater[\"TUCASEID\"].apply(str).str.startswith(\"2005\")]\n",
    "atus_2005_p65_greater_weight = p65_greater_2005.drop_duplicates(subset=[\"TUCASEID\"])\n",
    "atus_2005_p65_greater_weight = atus_2005_p65_greater_weight[\"TUFNWGTP\"].sum()\n",
    "\n",
    "atus_2005_all_res_p65_greater_multiplied_weight = atus_2005_all_res_p65_greater_merge[\"Multiplied Weight\"].sum()"
   ]
  },
  {
   "cell_type": "code",
   "execution_count": 23,
   "metadata": {},
   "outputs": [
    {
     "data": {
      "text/plain": [
       "20.561725599942058"
      ]
     },
     "execution_count": 23,
     "metadata": {},
     "output_type": "execute_result"
    }
   ],
   "source": [
    "all_act_2005_res_p65_greater_hpd = atus_2005_all_res_p65_greater_multiplied_weight / atus_2005_p65_greater_weight / 60\n",
    "all_act_2005_res_p65_greater_hpd"
   ]
  },
  {
   "cell_type": "markdown",
   "metadata": {},
   "source": [
    "### 2006 All Residential Activities - Age Between 65 or Greater  Population"
   ]
  },
  {
   "cell_type": "code",
   "execution_count": 24,
   "metadata": {},
   "outputs": [],
   "source": [
    "atus_2006_all_res_p65_greater = atus_2006_res_p65_greater.groupby([\"TUCASEID\"]).sum().filter([\"TUCASEID\", \"TUACTDUR24\"])\n",
    "#atus_2006_all_res_p65_greater"
   ]
  },
  {
   "cell_type": "code",
   "execution_count": 25,
   "metadata": {},
   "outputs": [],
   "source": [
    "atus_2006_all_res_p65_greater_merge = pd.merge(atus_2006_all_res_p65_greater, multi_resp, on= \"TUCASEID\").filter([\"TUCASEID\",\"TUACTDUR24\",\"TUFNWGTP\"])\n",
    "atus_2006_all_res_p65_greater_merge[\"Multiplied Weight\"] = atus_2006_all_res_p65_greater_merge[\"TUACTDUR24\"] * atus_2006_all_res_p65_greater_merge[\"TUFNWGTP\"]\n",
    "#atus_2006_all_res_p65_greater_merge"
   ]
  },
  {
   "cell_type": "code",
   "execution_count": 26,
   "metadata": {},
   "outputs": [],
   "source": [
    "p65_greater_2006 = multi_merged_p65_greater[multi_merged_p65_greater[\"TUCASEID\"].apply(str).str.startswith(\"2006\")]\n",
    "atus_2006_p65_greater_weight = p65_greater_2006.drop_duplicates(subset=[\"TUCASEID\"])\n",
    "atus_2006_p65_greater_weight = atus_2006_p65_greater_weight[\"TUFNWGTP\"].sum()\n",
    "\n",
    "atus_2006_all_res_p65_greater_multiplied_weight = atus_2006_all_res_p65_greater_merge[\"Multiplied Weight\"].sum()"
   ]
  },
  {
   "cell_type": "code",
   "execution_count": 27,
   "metadata": {},
   "outputs": [
    {
     "data": {
      "text/plain": [
       "20.84683641661397"
      ]
     },
     "execution_count": 27,
     "metadata": {},
     "output_type": "execute_result"
    }
   ],
   "source": [
    "all_act_2006_res_p65_greater_hpd = atus_2006_all_res_p65_greater_multiplied_weight / atus_2006_p65_greater_weight / 60\n",
    "all_act_2006_res_p65_greater_hpd"
   ]
  },
  {
   "cell_type": "markdown",
   "metadata": {},
   "source": [
    "### 2007 All Residential Activities - Age Between 65 or Greater  Population"
   ]
  },
  {
   "cell_type": "code",
   "execution_count": 28,
   "metadata": {},
   "outputs": [],
   "source": [
    "atus_2007_all_res_p65_greater = atus_2007_res_p65_greater.groupby([\"TUCASEID\"]).sum().filter([\"TUCASEID\", \"TUACTDUR24\"])\n",
    "#atus_2007_all_res_p65_greater"
   ]
  },
  {
   "cell_type": "code",
   "execution_count": 29,
   "metadata": {},
   "outputs": [],
   "source": [
    "atus_2007_all_res_p65_greater_merge = pd.merge(atus_2007_all_res_p65_greater, multi_resp, on= \"TUCASEID\").filter([\"TUCASEID\",\"TUACTDUR24\",\"TUFNWGTP\"])\n",
    "atus_2007_all_res_p65_greater_merge[\"Multiplied Weight\"] = atus_2007_all_res_p65_greater_merge[\"TUACTDUR24\"] * atus_2007_all_res_p65_greater_merge[\"TUFNWGTP\"]\n",
    "#atus_2007_all_res_p65_greater_merge"
   ]
  },
  {
   "cell_type": "code",
   "execution_count": 30,
   "metadata": {},
   "outputs": [],
   "source": [
    "p65_greater_2007 = multi_merged_p65_greater[multi_merged_p65_greater[\"TUCASEID\"].apply(str).str.startswith(\"2007\")]\n",
    "atus_2007_p65_greater_weight = p65_greater_2007.drop_duplicates(subset=[\"TUCASEID\"])\n",
    "atus_2007_p65_greater_weight = atus_2007_p65_greater_weight[\"TUFNWGTP\"].sum()\n",
    "\n",
    "atus_2007_all_res_p65_greater_multiplied_weight = atus_2007_all_res_p65_greater_merge[\"Multiplied Weight\"].sum()"
   ]
  },
  {
   "cell_type": "code",
   "execution_count": 31,
   "metadata": {},
   "outputs": [
    {
     "data": {
      "text/plain": [
       "20.553334195886073"
      ]
     },
     "execution_count": 31,
     "metadata": {},
     "output_type": "execute_result"
    }
   ],
   "source": [
    "all_act_2007_res_p65_greater_hpd = atus_2007_all_res_p65_greater_multiplied_weight / atus_2007_p65_greater_weight / 60\n",
    "all_act_2007_res_p65_greater_hpd"
   ]
  },
  {
   "cell_type": "markdown",
   "metadata": {},
   "source": [
    "### 2008 All Residential Activities - Age Between 65 or Greater  Population"
   ]
  },
  {
   "cell_type": "code",
   "execution_count": 32,
   "metadata": {},
   "outputs": [],
   "source": [
    "atus_2008_all_res_p65_greater = atus_2008_res_p65_greater.groupby([\"TUCASEID\"]).sum().filter([\"TUCASEID\", \"TUACTDUR24\"])\n",
    "#atus_2008_all_res_p65_greater"
   ]
  },
  {
   "cell_type": "code",
   "execution_count": 33,
   "metadata": {},
   "outputs": [],
   "source": [
    "atus_2008_all_res_p65_greater_merge = pd.merge(atus_2008_all_res_p65_greater, multi_resp, on= \"TUCASEID\").filter([\"TUCASEID\",\"TUACTDUR24\",\"TUFNWGTP\"])\n",
    "atus_2008_all_res_p65_greater_merge[\"Multiplied Weight\"] = atus_2008_all_res_p65_greater_merge[\"TUACTDUR24\"] * atus_2008_all_res_p65_greater_merge[\"TUFNWGTP\"]\n",
    "#atus_2008_all_res_p65_greater_merge"
   ]
  },
  {
   "cell_type": "code",
   "execution_count": 34,
   "metadata": {},
   "outputs": [],
   "source": [
    "p65_greater_2008 = multi_merged_p65_greater[multi_merged_p65_greater[\"TUCASEID\"].apply(str).str.startswith(\"2008\")]\n",
    "atus_2008_p65_greater_weight = p65_greater_2008.drop_duplicates(subset=[\"TUCASEID\"])\n",
    "atus_2008_p65_greater_weight = atus_2008_p65_greater_weight[\"TUFNWGTP\"].sum()\n",
    "\n",
    "atus_2008_all_res_p65_greater_multiplied_weight = atus_2008_all_res_p65_greater_merge[\"Multiplied Weight\"].sum()"
   ]
  },
  {
   "cell_type": "code",
   "execution_count": 35,
   "metadata": {},
   "outputs": [
    {
     "data": {
      "text/plain": [
       "20.68959134562103"
      ]
     },
     "execution_count": 35,
     "metadata": {},
     "output_type": "execute_result"
    }
   ],
   "source": [
    "all_act_2008_res_p65_greater_hpd = atus_2008_all_res_p65_greater_multiplied_weight / atus_2008_p65_greater_weight / 60\n",
    "all_act_2008_res_p65_greater_hpd"
   ]
  },
  {
   "cell_type": "markdown",
   "metadata": {},
   "source": [
    "### 2009 All Residential Activities - Age Between 65 or Greater  Population"
   ]
  },
  {
   "cell_type": "code",
   "execution_count": 36,
   "metadata": {},
   "outputs": [],
   "source": [
    "atus_2009_all_res_p65_greater = atus_2009_res_p65_greater.groupby([\"TUCASEID\"]).sum().filter([\"TUCASEID\", \"TUACTDUR24\"])\n",
    "#atus_2009_all_res_p65_greater"
   ]
  },
  {
   "cell_type": "code",
   "execution_count": 37,
   "metadata": {},
   "outputs": [],
   "source": [
    "atus_2009_all_res_p65_greater_merge = pd.merge(atus_2009_all_res_p65_greater, multi_resp, on= \"TUCASEID\").filter([\"TUCASEID\",\"TUACTDUR24\",\"TUFNWGTP\"])\n",
    "atus_2009_all_res_p65_greater_merge[\"Multiplied Weight\"] = atus_2009_all_res_p65_greater_merge[\"TUACTDUR24\"] * atus_2009_all_res_p65_greater_merge[\"TUFNWGTP\"]\n",
    "#atus_2009_all_res_p65_greater_merge"
   ]
  },
  {
   "cell_type": "code",
   "execution_count": 38,
   "metadata": {},
   "outputs": [],
   "source": [
    "p65_greater_2009 = multi_merged_p65_greater[multi_merged_p65_greater[\"TUCASEID\"].apply(str).str.startswith(\"2009\")]\n",
    "atus_2009_p65_greater_weight = p65_greater_2009.drop_duplicates(subset=[\"TUCASEID\"])\n",
    "atus_2009_p65_greater_weight = atus_2009_p65_greater_weight[\"TUFNWGTP\"].sum()\n",
    "\n",
    "atus_2009_all_res_p65_greater_multiplied_weight = atus_2009_all_res_p65_greater_merge[\"Multiplied Weight\"].sum()"
   ]
  },
  {
   "cell_type": "code",
   "execution_count": 39,
   "metadata": {},
   "outputs": [
    {
     "data": {
      "text/plain": [
       "20.79781353301159"
      ]
     },
     "execution_count": 39,
     "metadata": {},
     "output_type": "execute_result"
    }
   ],
   "source": [
    "all_act_2009_res_p65_greater_hpd = atus_2009_all_res_p65_greater_multiplied_weight / atus_2009_p65_greater_weight / 60\n",
    "all_act_2009_res_p65_greater_hpd"
   ]
  },
  {
   "cell_type": "markdown",
   "metadata": {},
   "source": [
    "### 2010 All Residential Activities - Age Between 65 or Greater  Population"
   ]
  },
  {
   "cell_type": "code",
   "execution_count": 40,
   "metadata": {},
   "outputs": [],
   "source": [
    "atus_2010_all_res_p65_greater = atus_2010_res_p65_greater.groupby([\"TUCASEID\"]).sum().filter([\"TUCASEID\", \"TUACTDUR24\"])\n",
    "#atus_2010_all_res_p65_greater"
   ]
  },
  {
   "cell_type": "code",
   "execution_count": 41,
   "metadata": {},
   "outputs": [],
   "source": [
    "atus_2010_all_res_p65_greater_merge = pd.merge(atus_2010_all_res_p65_greater, multi_resp, on= \"TUCASEID\").filter([\"TUCASEID\",\"TUACTDUR24\",\"TUFNWGTP\"])\n",
    "atus_2010_all_res_p65_greater_merge[\"Multiplied Weight\"] = atus_2010_all_res_p65_greater_merge[\"TUACTDUR24\"] * atus_2010_all_res_p65_greater_merge[\"TUFNWGTP\"]\n",
    "#atus_2010_all_res_p65_greater_merge"
   ]
  },
  {
   "cell_type": "code",
   "execution_count": 42,
   "metadata": {},
   "outputs": [],
   "source": [
    "p65_greater_2010 = multi_merged_p65_greater[multi_merged_p65_greater[\"TUCASEID\"].apply(str).str.startswith(\"2010\")]\n",
    "atus_2010_p65_greater_weight = p65_greater_2010.drop_duplicates(subset=[\"TUCASEID\"])\n",
    "atus_2010_p65_greater_weight = atus_2010_p65_greater_weight[\"TUFNWGTP\"].sum()\n",
    "\n",
    "atus_2010_all_res_p65_greater_multiplied_weight = atus_2010_all_res_p65_greater_merge[\"Multiplied Weight\"].sum()"
   ]
  },
  {
   "cell_type": "code",
   "execution_count": 43,
   "metadata": {},
   "outputs": [
    {
     "data": {
      "text/plain": [
       "20.82943182359941"
      ]
     },
     "execution_count": 43,
     "metadata": {},
     "output_type": "execute_result"
    }
   ],
   "source": [
    "all_act_2010_res_p65_greater_hpd = atus_2010_all_res_p65_greater_multiplied_weight / atus_2010_p65_greater_weight / 60\n",
    "all_act_2010_res_p65_greater_hpd"
   ]
  },
  {
   "cell_type": "markdown",
   "metadata": {},
   "source": [
    "### 2011 All Residential Activities - Age Between 65 or Greater  Population"
   ]
  },
  {
   "cell_type": "code",
   "execution_count": 44,
   "metadata": {},
   "outputs": [],
   "source": [
    "atus_2011_all_res_p65_greater = atus_2011_res_p65_greater.groupby([\"TUCASEID\"]).sum().filter([\"TUCASEID\", \"TUACTDUR24\"])\n",
    "#atus_2011_all_res_p65_greater"
   ]
  },
  {
   "cell_type": "code",
   "execution_count": 45,
   "metadata": {},
   "outputs": [],
   "source": [
    "atus_2011_all_res_p65_greater_merge = pd.merge(atus_2011_all_res_p65_greater, multi_resp, on= \"TUCASEID\").filter([\"TUCASEID\",\"TUACTDUR24\",\"TUFNWGTP\"])\n",
    "atus_2011_all_res_p65_greater_merge[\"Multiplied Weight\"] = atus_2011_all_res_p65_greater_merge[\"TUACTDUR24\"] * atus_2011_all_res_p65_greater_merge[\"TUFNWGTP\"]\n",
    "#atus_2011_all_res_p65_greater_merge"
   ]
  },
  {
   "cell_type": "code",
   "execution_count": 46,
   "metadata": {},
   "outputs": [],
   "source": [
    "atus_2011_all_res_p65_greater_merge = pd.merge(atus_2011_all_res_p65_greater, multi_resp, on= \"TUCASEID\").filter([\"TUCASEID\",\"TUACTDUR24\",\"TUFNWGTP\"])\n",
    "atus_2011_all_res_p65_greater_merge[\"Multiplied Weight\"] = atus_2011_all_res_p65_greater_merge[\"TUACTDUR24\"] * atus_2011_all_res_p65_greater_merge[\"TUFNWGTP\"]\n",
    "#atus_2011_all_res_p65_greater_merge"
   ]
  },
  {
   "cell_type": "code",
   "execution_count": 47,
   "metadata": {},
   "outputs": [],
   "source": [
    "p65_greater_2011 = multi_merged_p65_greater[multi_merged_p65_greater[\"TUCASEID\"].apply(str).str.startswith(\"2011\")]\n",
    "atus_2011_p65_greater_weight = p65_greater_2011.drop_duplicates(subset=[\"TUCASEID\"])\n",
    "atus_2011_p65_greater_weight = atus_2011_p65_greater_weight[\"TUFNWGTP\"].sum()\n",
    "\n",
    "atus_2011_all_res_p65_greater_multiplied_weight = atus_2011_all_res_p65_greater_merge[\"Multiplied Weight\"].sum()"
   ]
  },
  {
   "cell_type": "code",
   "execution_count": 48,
   "metadata": {},
   "outputs": [
    {
     "data": {
      "text/plain": [
       "20.493009301597063"
      ]
     },
     "execution_count": 48,
     "metadata": {},
     "output_type": "execute_result"
    }
   ],
   "source": [
    "all_act_2011_res_p65_greater_hpd = atus_2011_all_res_p65_greater_multiplied_weight / atus_2011_p65_greater_weight / 60\n",
    "all_act_2011_res_p65_greater_hpd"
   ]
  },
  {
   "cell_type": "markdown",
   "metadata": {},
   "source": [
    "### 2012 All Residential Activities - Age Between 65 or Greater  Population"
   ]
  },
  {
   "cell_type": "code",
   "execution_count": 49,
   "metadata": {},
   "outputs": [],
   "source": [
    "atus_2012_all_res_p65_greater = atus_2012_res_p65_greater.groupby([\"TUCASEID\"]).sum().filter([\"TUCASEID\", \"TUACTDUR24\"])\n",
    "#atus_2012_all_res_p65_greater"
   ]
  },
  {
   "cell_type": "code",
   "execution_count": 50,
   "metadata": {},
   "outputs": [],
   "source": [
    "atus_2012_all_res_p65_greater_merge = pd.merge(atus_2012_all_res_p65_greater, multi_resp, on= \"TUCASEID\").filter([\"TUCASEID\",\"TUACTDUR24\",\"TUFNWGTP\"])\n",
    "atus_2012_all_res_p65_greater_merge[\"Multiplied Weight\"] = atus_2012_all_res_p65_greater_merge[\"TUACTDUR24\"] * atus_2012_all_res_p65_greater_merge[\"TUFNWGTP\"]\n",
    "#atus_2012_all_res_p65_greater_merge"
   ]
  },
  {
   "cell_type": "code",
   "execution_count": 51,
   "metadata": {},
   "outputs": [],
   "source": [
    "atus_2012_all_res_p65_greater_merge = pd.merge(atus_2012_all_res_p65_greater, multi_resp, on= \"TUCASEID\").filter([\"TUCASEID\",\"TUACTDUR24\",\"TUFNWGTP\"])\n",
    "atus_2012_all_res_p65_greater_merge[\"Multiplied Weight\"] = atus_2012_all_res_p65_greater_merge[\"TUACTDUR24\"] * atus_2012_all_res_p65_greater_merge[\"TUFNWGTP\"]\n",
    "#atus_2012_all_res_p65_greater_merge"
   ]
  },
  {
   "cell_type": "code",
   "execution_count": 52,
   "metadata": {},
   "outputs": [],
   "source": [
    "p65_greater_2012 = multi_merged_p65_greater[multi_merged_p65_greater[\"TUCASEID\"].apply(str).str.startswith(\"2012\")]\n",
    "atus_2012_p65_greater_weight = p65_greater_2012.drop_duplicates(subset=[\"TUCASEID\"])\n",
    "atus_2012_p65_greater_weight = atus_2012_p65_greater_weight[\"TUFNWGTP\"].sum()\n",
    "\n",
    "atus_2012_all_res_p65_greater_multiplied_weight = atus_2012_all_res_p65_greater_merge[\"Multiplied Weight\"].sum()"
   ]
  },
  {
   "cell_type": "code",
   "execution_count": 53,
   "metadata": {},
   "outputs": [
    {
     "data": {
      "text/plain": [
       "20.59468005181322"
      ]
     },
     "execution_count": 53,
     "metadata": {},
     "output_type": "execute_result"
    }
   ],
   "source": [
    "all_act_2012_res_p65_greater_hpd = atus_2012_all_res_p65_greater_multiplied_weight / atus_2012_p65_greater_weight / 60\n",
    "all_act_2012_res_p65_greater_hpd"
   ]
  },
  {
   "cell_type": "markdown",
   "metadata": {},
   "source": [
    "### 2013 All Residential Activities - Age Between 65 or Greater  Population"
   ]
  },
  {
   "cell_type": "code",
   "execution_count": 54,
   "metadata": {},
   "outputs": [],
   "source": [
    "atus_2013_all_res_p65_greater = atus_2013_res_p65_greater.groupby([\"TUCASEID\"]).sum().filter([\"TUCASEID\", \"TUACTDUR24\"])\n",
    "#atus_2013_all_res_p65_greater"
   ]
  },
  {
   "cell_type": "code",
   "execution_count": 55,
   "metadata": {},
   "outputs": [],
   "source": [
    "atus_2013_all_res_p65_greater_merge = pd.merge(atus_2013_all_res_p65_greater, multi_resp, on= \"TUCASEID\").filter([\"TUCASEID\",\"TUACTDUR24\",\"TUFNWGTP\"])\n",
    "atus_2013_all_res_p65_greater_merge[\"Multiplied Weight\"] = atus_2013_all_res_p65_greater_merge[\"TUACTDUR24\"] * atus_2013_all_res_p65_greater_merge[\"TUFNWGTP\"]\n",
    "#atus_2013_all_res_p65_greater_merge"
   ]
  },
  {
   "cell_type": "code",
   "execution_count": 56,
   "metadata": {},
   "outputs": [],
   "source": [
    "atus_2013_all_res_p65_greater_merge = pd.merge(atus_2013_all_res_p65_greater, multi_resp, on= \"TUCASEID\").filter([\"TUCASEID\",\"TUACTDUR24\",\"TUFNWGTP\"])\n",
    "atus_2013_all_res_p65_greater_merge[\"Multiplied Weight\"] = atus_2013_all_res_p65_greater_merge[\"TUACTDUR24\"] * atus_2013_all_res_p65_greater_merge[\"TUFNWGTP\"]\n",
    "#atus_2013_all_res_p65_greater_merge"
   ]
  },
  {
   "cell_type": "code",
   "execution_count": 57,
   "metadata": {},
   "outputs": [],
   "source": [
    "p65_greater_2013 = multi_merged_p65_greater[multi_merged_p65_greater[\"TUCASEID\"].apply(str).str.startswith(\"2013\")]\n",
    "atus_2013_p65_greater_weight = p65_greater_2013.drop_duplicates(subset=[\"TUCASEID\"])\n",
    "atus_2013_p65_greater_weight = atus_2013_p65_greater_weight[\"TUFNWGTP\"].sum()\n",
    "\n",
    "atus_2013_all_res_p65_greater_multiplied_weight = atus_2013_all_res_p65_greater_merge[\"Multiplied Weight\"].sum()"
   ]
  },
  {
   "cell_type": "code",
   "execution_count": 58,
   "metadata": {},
   "outputs": [
    {
     "data": {
      "text/plain": [
       "20.611542304455554"
      ]
     },
     "execution_count": 58,
     "metadata": {},
     "output_type": "execute_result"
    }
   ],
   "source": [
    "all_act_2013_res_p65_greater_hpd = atus_2013_all_res_p65_greater_multiplied_weight / atus_2013_p65_greater_weight / 60\n",
    "all_act_2013_res_p65_greater_hpd"
   ]
  },
  {
   "cell_type": "markdown",
   "metadata": {},
   "source": [
    "### 2014 All Residential Activities - Age Between 65 or Greater  Population"
   ]
  },
  {
   "cell_type": "code",
   "execution_count": 59,
   "metadata": {},
   "outputs": [],
   "source": [
    "atus_2014_all_res_p65_greater = atus_2014_res_p65_greater.groupby([\"TUCASEID\"]).sum().filter([\"TUCASEID\", \"TUACTDUR24\"])\n",
    "#atus_2014_all_res_p65_greater"
   ]
  },
  {
   "cell_type": "code",
   "execution_count": 60,
   "metadata": {},
   "outputs": [],
   "source": [
    "atus_2014_all_res_p65_greater_merge = pd.merge(atus_2014_all_res_p65_greater, multi_resp, on= \"TUCASEID\").filter([\"TUCASEID\",\"TUACTDUR24\",\"TUFNWGTP\"])\n",
    "atus_2014_all_res_p65_greater_merge[\"Multiplied Weight\"] = atus_2014_all_res_p65_greater_merge[\"TUACTDUR24\"] * atus_2014_all_res_p65_greater_merge[\"TUFNWGTP\"]\n",
    "#atus_2014_all_res_p65_greater_merge"
   ]
  },
  {
   "cell_type": "code",
   "execution_count": 61,
   "metadata": {},
   "outputs": [],
   "source": [
    "atus_2014_all_res_p65_greater_merge = pd.merge(atus_2014_all_res_p65_greater, multi_resp, on= \"TUCASEID\").filter([\"TUCASEID\",\"TUACTDUR24\",\"TUFNWGTP\"])\n",
    "atus_2014_all_res_p65_greater_merge[\"Multiplied Weight\"] = atus_2014_all_res_p65_greater_merge[\"TUACTDUR24\"] * atus_2014_all_res_p65_greater_merge[\"TUFNWGTP\"]\n",
    "#atus_2014_all_res_p65_greater_merge"
   ]
  },
  {
   "cell_type": "code",
   "execution_count": 62,
   "metadata": {},
   "outputs": [],
   "source": [
    "p65_greater_2014 = multi_merged_p65_greater[multi_merged_p65_greater[\"TUCASEID\"].apply(str).str.startswith(\"2014\")]\n",
    "atus_2014_p65_greater_weight = p65_greater_2014.drop_duplicates(subset=[\"TUCASEID\"])\n",
    "atus_2014_p65_greater_weight = atus_2014_p65_greater_weight[\"TUFNWGTP\"].sum()\n",
    "\n",
    "atus_2014_all_res_p65_greater_multiplied_weight = atus_2014_all_res_p65_greater_merge[\"Multiplied Weight\"].sum()"
   ]
  },
  {
   "cell_type": "code",
   "execution_count": 63,
   "metadata": {},
   "outputs": [
    {
     "data": {
      "text/plain": [
       "20.651273124053056"
      ]
     },
     "execution_count": 63,
     "metadata": {},
     "output_type": "execute_result"
    }
   ],
   "source": [
    "all_act_2014_res_p65_greater_hpd = atus_2014_all_res_p65_greater_multiplied_weight / atus_2014_p65_greater_weight / 60\n",
    "all_act_2014_res_p65_greater_hpd"
   ]
  },
  {
   "cell_type": "markdown",
   "metadata": {},
   "source": [
    "### 2015 All Residential Activities - Age Between 65 or Greater  Population"
   ]
  },
  {
   "cell_type": "code",
   "execution_count": 64,
   "metadata": {},
   "outputs": [],
   "source": [
    "atus_2015_all_res_p65_greater = atus_2015_res_p65_greater.groupby([\"TUCASEID\"]).sum().filter([\"TUCASEID\", \"TUACTDUR24\"])\n",
    "#atus_2015_all_res_p65_greater"
   ]
  },
  {
   "cell_type": "code",
   "execution_count": 65,
   "metadata": {},
   "outputs": [],
   "source": [
    "atus_2015_all_res_p65_greater_merge = pd.merge(atus_2015_all_res_p65_greater, multi_resp, on= \"TUCASEID\").filter([\"TUCASEID\",\"TUACTDUR24\",\"TUFNWGTP\"])\n",
    "atus_2015_all_res_p65_greater_merge[\"Multiplied Weight\"] = atus_2015_all_res_p65_greater_merge[\"TUACTDUR24\"] * atus_2015_all_res_p65_greater_merge[\"TUFNWGTP\"]\n",
    "#atus_2015_all_res_p65_greater_merge"
   ]
  },
  {
   "cell_type": "code",
   "execution_count": 66,
   "metadata": {},
   "outputs": [],
   "source": [
    "atus_2015_all_res_p65_greater_merge = pd.merge(atus_2015_all_res_p65_greater, multi_resp, on= \"TUCASEID\").filter([\"TUCASEID\",\"TUACTDUR24\",\"TUFNWGTP\"])\n",
    "atus_2015_all_res_p65_greater_merge[\"Multiplied Weight\"] = atus_2015_all_res_p65_greater_merge[\"TUACTDUR24\"] * atus_2015_all_res_p65_greater_merge[\"TUFNWGTP\"]\n",
    "#atus_2015_all_res_p65_greater_merge"
   ]
  },
  {
   "cell_type": "code",
   "execution_count": 67,
   "metadata": {},
   "outputs": [],
   "source": [
    "p65_greater_2015 = multi_merged_p65_greater[multi_merged_p65_greater[\"TUCASEID\"].apply(str).str.startswith(\"2015\")]\n",
    "atus_2015_p65_greater_weight = p65_greater_2015.drop_duplicates(subset=[\"TUCASEID\"])\n",
    "atus_2015_p65_greater_weight = atus_2015_p65_greater_weight[\"TUFNWGTP\"].sum()\n",
    "\n",
    "atus_2015_all_res_p65_greater_multiplied_weight = atus_2015_all_res_p65_greater_merge[\"Multiplied Weight\"].sum()"
   ]
  },
  {
   "cell_type": "code",
   "execution_count": 68,
   "metadata": {},
   "outputs": [
    {
     "data": {
      "text/plain": [
       "20.710953555680643"
      ]
     },
     "execution_count": 68,
     "metadata": {},
     "output_type": "execute_result"
    }
   ],
   "source": [
    "all_act_2015_res_p65_greater_hpd = atus_2015_all_res_p65_greater_multiplied_weight / atus_2015_p65_greater_weight / 60\n",
    "all_act_2015_res_p65_greater_hpd"
   ]
  },
  {
   "cell_type": "markdown",
   "metadata": {},
   "source": [
    "### 2016 All Residential Activities - Age Between 65 or Greater  Population"
   ]
  },
  {
   "cell_type": "code",
   "execution_count": 69,
   "metadata": {},
   "outputs": [],
   "source": [
    "atus_2016_all_res_p65_greater = atus_2016_res_p65_greater.groupby([\"TUCASEID\"]).sum().filter([\"TUCASEID\", \"TUACTDUR24\"])\n",
    "#atus_2016_all_res_p65_greater"
   ]
  },
  {
   "cell_type": "code",
   "execution_count": 70,
   "metadata": {},
   "outputs": [],
   "source": [
    "atus_2016_all_res_p65_greater_merge = pd.merge(atus_2016_all_res_p65_greater, multi_resp, on= \"TUCASEID\").filter([\"TUCASEID\",\"TUACTDUR24\",\"TUFNWGTP\"])\n",
    "atus_2016_all_res_p65_greater_merge[\"Multiplied Weight\"] = atus_2016_all_res_p65_greater_merge[\"TUACTDUR24\"] * atus_2016_all_res_p65_greater_merge[\"TUFNWGTP\"]\n",
    "#atus_2016_all_res_p65_greater_merge"
   ]
  },
  {
   "cell_type": "code",
   "execution_count": 71,
   "metadata": {},
   "outputs": [],
   "source": [
    "atus_2016_all_res_p65_greater_merge = pd.merge(atus_2016_all_res_p65_greater, multi_resp, on= \"TUCASEID\").filter([\"TUCASEID\",\"TUACTDUR24\",\"TUFNWGTP\"])\n",
    "atus_2016_all_res_p65_greater_merge[\"Multiplied Weight\"] = atus_2016_all_res_p65_greater_merge[\"TUACTDUR24\"] * atus_2016_all_res_p65_greater_merge[\"TUFNWGTP\"]\n",
    "#atus_2016_all_res_p65_greater_merge"
   ]
  },
  {
   "cell_type": "code",
   "execution_count": 72,
   "metadata": {},
   "outputs": [],
   "source": [
    "p65_greater_2016 = multi_merged_p65_greater[multi_merged_p65_greater[\"TUCASEID\"].apply(str).str.startswith(\"2016\")]\n",
    "atus_2016_p65_greater_weight = p65_greater_2016.drop_duplicates(subset=[\"TUCASEID\"])\n",
    "atus_2016_p65_greater_weight = atus_2016_p65_greater_weight[\"TUFNWGTP\"].sum()\n",
    "\n",
    "atus_2016_all_res_p65_greater_multiplied_weight = atus_2016_all_res_p65_greater_merge[\"Multiplied Weight\"].sum()"
   ]
  },
  {
   "cell_type": "code",
   "execution_count": 73,
   "metadata": {},
   "outputs": [
    {
     "data": {
      "text/plain": [
       "20.511408893854796"
      ]
     },
     "execution_count": 73,
     "metadata": {},
     "output_type": "execute_result"
    }
   ],
   "source": [
    "all_act_2016_res_p65_greater_hpd = atus_2016_all_res_p65_greater_multiplied_weight / atus_2016_p65_greater_weight / 60\n",
    "all_act_2016_res_p65_greater_hpd"
   ]
  },
  {
   "cell_type": "markdown",
   "metadata": {},
   "source": [
    "### 2017 All Residential Activities - Age Between 65 or Greater  Population"
   ]
  },
  {
   "cell_type": "code",
   "execution_count": 74,
   "metadata": {},
   "outputs": [],
   "source": [
    "atus_2017_all_res_p65_greater = atus_2017_res_p65_greater.groupby([\"TUCASEID\"]).sum().filter([\"TUCASEID\", \"TUACTDUR24\"])\n",
    "#atus_2017_all_res_p65_greater"
   ]
  },
  {
   "cell_type": "code",
   "execution_count": 75,
   "metadata": {},
   "outputs": [],
   "source": [
    "atus_2017_all_res_p65_greater_merge = pd.merge(atus_2017_all_res_p65_greater, multi_resp, on= \"TUCASEID\").filter([\"TUCASEID\",\"TUACTDUR24\",\"TUFNWGTP\"])\n",
    "atus_2017_all_res_p65_greater_merge[\"Multiplied Weight\"] = atus_2017_all_res_p65_greater_merge[\"TUACTDUR24\"] * atus_2017_all_res_p65_greater_merge[\"TUFNWGTP\"]\n",
    "#atus_2017_all_res_p65_greater_merge"
   ]
  },
  {
   "cell_type": "code",
   "execution_count": 76,
   "metadata": {},
   "outputs": [],
   "source": [
    "atus_2017_all_res_p65_greater_merge = pd.merge(atus_2017_all_res_p65_greater, multi_resp, on= \"TUCASEID\").filter([\"TUCASEID\",\"TUACTDUR24\",\"TUFNWGTP\"])\n",
    "atus_2017_all_res_p65_greater_merge[\"Multiplied Weight\"] = atus_2017_all_res_p65_greater_merge[\"TUACTDUR24\"] * atus_2017_all_res_p65_greater_merge[\"TUFNWGTP\"]\n",
    "#atus_2017_all_res_p65_greater_merge"
   ]
  },
  {
   "cell_type": "code",
   "execution_count": 77,
   "metadata": {},
   "outputs": [],
   "source": [
    "p65_greater_2017 = multi_merged_p65_greater[multi_merged_p65_greater[\"TUCASEID\"].apply(str).str.startswith(\"2017\")]\n",
    "atus_2017_p65_greater_weight = p65_greater_2017.drop_duplicates(subset=[\"TUCASEID\"])\n",
    "atus_2017_p65_greater_weight = atus_2017_p65_greater_weight[\"TUFNWGTP\"].sum()\n",
    "\n",
    "atus_2017_all_res_p65_greater_multiplied_weight = atus_2017_all_res_p65_greater_merge[\"Multiplied Weight\"].sum()"
   ]
  },
  {
   "cell_type": "code",
   "execution_count": 78,
   "metadata": {},
   "outputs": [
    {
     "data": {
      "text/plain": [
       "20.587293797374592"
      ]
     },
     "execution_count": 78,
     "metadata": {},
     "output_type": "execute_result"
    }
   ],
   "source": [
    "all_act_2017_res_p65_greater_hpd = atus_2017_all_res_p65_greater_multiplied_weight / atus_2017_p65_greater_weight / 60\n",
    "all_act_2017_res_p65_greater_hpd"
   ]
  },
  {
   "cell_type": "markdown",
   "metadata": {},
   "source": [
    "### 2018 All Residential Activities - Age Between 65 or Greater  Population"
   ]
  },
  {
   "cell_type": "code",
   "execution_count": 79,
   "metadata": {},
   "outputs": [],
   "source": [
    "atus_2018_all_res_p65_greater = atus_2018_res_p65_greater.groupby([\"TUCASEID\"]).sum().filter([\"TUCASEID\", \"TUACTDUR24\"])\n",
    "#atus_2018_all_res_p65_greater"
   ]
  },
  {
   "cell_type": "code",
   "execution_count": 80,
   "metadata": {},
   "outputs": [],
   "source": [
    "atus_2018_all_res_p65_greater_merge = pd.merge(atus_2018_all_res_p65_greater, multi_resp, on= \"TUCASEID\").filter([\"TUCASEID\",\"TUACTDUR24\",\"TUFNWGTP\"])\n",
    "atus_2018_all_res_p65_greater_merge[\"Multiplied Weight\"] = atus_2018_all_res_p65_greater_merge[\"TUACTDUR24\"] * atus_2018_all_res_p65_greater_merge[\"TUFNWGTP\"]\n",
    "#atus_2018_all_res_p65_greater_merge"
   ]
  },
  {
   "cell_type": "code",
   "execution_count": 81,
   "metadata": {},
   "outputs": [],
   "source": [
    "atus_2018_all_res_p65_greater_merge = pd.merge(atus_2018_all_res_p65_greater, multi_resp, on= \"TUCASEID\").filter([\"TUCASEID\",\"TUACTDUR24\",\"TUFNWGTP\"])\n",
    "atus_2018_all_res_p65_greater_merge[\"Multiplied Weight\"] = atus_2018_all_res_p65_greater_merge[\"TUACTDUR24\"] * atus_2018_all_res_p65_greater_merge[\"TUFNWGTP\"]\n",
    "#atus_2018_all_res_p65_greater_merge"
   ]
  },
  {
   "cell_type": "code",
   "execution_count": 82,
   "metadata": {},
   "outputs": [],
   "source": [
    "p65_greater_2018 = multi_merged_p65_greater[multi_merged_p65_greater[\"TUCASEID\"].apply(str).str.startswith(\"2018\")]\n",
    "atus_2018_p65_greater_weight = p65_greater_2018.drop_duplicates(subset=[\"TUCASEID\"])\n",
    "atus_2018_p65_greater_weight = atus_2018_p65_greater_weight[\"TUFNWGTP\"].sum()\n",
    "\n",
    "atus_2018_all_res_p65_greater_multiplied_weight = atus_2018_all_res_p65_greater_merge[\"Multiplied Weight\"].sum()"
   ]
  },
  {
   "cell_type": "code",
   "execution_count": 83,
   "metadata": {},
   "outputs": [
    {
     "data": {
      "text/plain": [
       "20.66865936508115"
      ]
     },
     "execution_count": 83,
     "metadata": {},
     "output_type": "execute_result"
    }
   ],
   "source": [
    "all_act_2018_res_p65_greater_hpd = atus_2018_all_res_p65_greater_multiplied_weight / atus_2018_p65_greater_weight / 60\n",
    "all_act_2018_res_p65_greater_hpd"
   ]
  },
  {
   "cell_type": "markdown",
   "metadata": {},
   "source": [
    "### 2019 All Residential Activities - Age Between 65 or Greater  Population"
   ]
  },
  {
   "cell_type": "code",
   "execution_count": 84,
   "metadata": {},
   "outputs": [],
   "source": [
    "atus_2019_all_res_p65_greater = atus_2019_res_p65_greater.groupby([\"TUCASEID\"]).sum().filter([\"TUCASEID\", \"TUACTDUR24\"])\n",
    "#atus_2019_all_res_p65_greater"
   ]
  },
  {
   "cell_type": "code",
   "execution_count": 85,
   "metadata": {},
   "outputs": [],
   "source": [
    "atus_2019_all_res_p65_greater_merge = pd.merge(atus_2019_all_res_p65_greater, multi_resp, on= \"TUCASEID\").filter([\"TUCASEID\",\"TUACTDUR24\",\"TUFNWGTP\"])\n",
    "atus_2019_all_res_p65_greater_merge[\"Multiplied Weight\"] = atus_2019_all_res_p65_greater_merge[\"TUACTDUR24\"] * atus_2019_all_res_p65_greater_merge[\"TUFNWGTP\"]\n",
    "#atus_2019_all_res_p65_greater_merge"
   ]
  },
  {
   "cell_type": "code",
   "execution_count": 86,
   "metadata": {},
   "outputs": [],
   "source": [
    "atus_2019_all_res_p65_greater_merge = pd.merge(atus_2019_all_res_p65_greater, multi_resp, on= \"TUCASEID\").filter([\"TUCASEID\",\"TUACTDUR24\",\"TUFNWGTP\"])\n",
    "atus_2019_all_res_p65_greater_merge[\"Multiplied Weight\"] = atus_2019_all_res_p65_greater_merge[\"TUACTDUR24\"] * atus_2019_all_res_p65_greater_merge[\"TUFNWGTP\"]\n",
    "#atus_2019_all_res_p65_greater_merge"
   ]
  },
  {
   "cell_type": "code",
   "execution_count": 87,
   "metadata": {},
   "outputs": [],
   "source": [
    "p65_greater_2019 = multi_merged_p65_greater[multi_merged_p65_greater[\"TUCASEID\"].apply(str).str.startswith(\"2019\")]\n",
    "atus_2019_p65_greater_weight = p65_greater_2019.drop_duplicates(subset=[\"TUCASEID\"])\n",
    "atus_2019_p65_greater_weight = atus_2019_p65_greater_weight[\"TUFNWGTP\"].sum()\n",
    "\n",
    "atus_2019_all_res_p65_greater_multiplied_weight = atus_2019_all_res_p65_greater_merge[\"Multiplied Weight\"].sum()"
   ]
  },
  {
   "cell_type": "code",
   "execution_count": 88,
   "metadata": {},
   "outputs": [
    {
     "data": {
      "text/plain": [
       "20.65102619860598"
      ]
     },
     "execution_count": 88,
     "metadata": {},
     "output_type": "execute_result"
    }
   ],
   "source": [
    "all_act_2019_res_p65_greater_hpd = atus_2019_all_res_p65_greater_multiplied_weight / atus_2019_p65_greater_weight / 60\n",
    "all_act_2019_res_p65_greater_hpd"
   ]
  },
  {
   "cell_type": "markdown",
   "metadata": {},
   "source": [
    "### Regresssion: All Residential Activity - Age Between 65 or Greater  "
   ]
  },
  {
   "cell_type": "markdown",
   "metadata": {},
   "source": [
    "#### 2003 -2012 Regression "
   ]
  },
  {
   "cell_type": "code",
   "execution_count": 89,
   "metadata": {},
   "outputs": [],
   "source": [
    "year = np.array([2003, 2004, 2005, 2006, 2007, 2008, 2009, 2010,2011,2012]).reshape((-1, 1))\n",
    "activity_hours_per_day = np.array([all_act_2003_res_p65_greater_hpd, all_act_2004_res_p65_greater_hpd, all_act_2005_res_p65_greater_hpd,\n",
    "                                   all_act_2006_res_p65_greater_hpd, all_act_2007_res_p65_greater_hpd, all_act_2008_res_p65_greater_hpd,\n",
    "                                   all_act_2009_res_p65_greater_hpd, all_act_2010_res_p65_greater_hpd, all_act_2011_res_p65_greater_hpd,\n",
    "                                   all_act_2012_res_p65_greater_hpd]).reshape((-1, 1))\n",
    "\n",
    "activity_hours_per_yr = [i * 365 for i in activity_hours_per_day]\n",
    "#activity_hours_per_yr"
   ]
  },
  {
   "cell_type": "code",
   "execution_count": 90,
   "metadata": {},
   "outputs": [
    {
     "data": {
      "image/png": "[encoded data removed]",
      "text/plain": [
       "<Figure size 432x288 with 1 Axes>"
      ]
     },
     "metadata": {
      "needs_background": "light"
     },
     "output_type": "display_data"
    }
   ],
   "source": [
    "x = year\n",
    "y = activity_hours_per_yr\n",
    "x, y = np.array(x), np.array(y)\n",
    "\n",
    "model = LinearRegression().fit(x, y)\n",
    "\n",
    "y_pred = model.predict(x)  \n",
    "\n",
    "plt.scatter(x, y)\n",
    "plt.plot(x, y_pred, color='red')\n",
    "plt.show()"
   ]
  },
  {
   "cell_type": "code",
   "execution_count": 91,
   "metadata": {},
   "outputs": [
    {
     "data": {
      "text/plain": [
       "0.026373501556219536"
      ]
     },
     "execution_count": 91,
     "metadata": {},
     "output_type": "execute_result"
    }
   ],
   "source": [
    "coefficient_of_determination = model.score(x,y) #R sqaure value \n",
    "coefficient_of_determination"
   ]
  },
  {
   "cell_type": "code",
   "execution_count": 92,
   "metadata": {},
   "outputs": [
    {
     "data": {
      "text/plain": [
       "array([[-2.42595348]])"
      ]
     },
     "execution_count": 92,
     "metadata": {},
     "output_type": "execute_result"
    }
   ],
   "source": [
    "all_act_2012_res_p65_greater_slope = model.coef_\n",
    "all_act_2012_res_p65_greater_slope"
   ]
  },
  {
   "cell_type": "markdown",
   "metadata": {},
   "source": [
    "#### 2003-2019 Regression"
   ]
  },
  {
   "cell_type": "code",
   "execution_count": 93,
   "metadata": {},
   "outputs": [],
   "source": [
    "year = np.array([2003, 2004, 2005, 2006, 2007, 2008, 2009, 2010,2011,2012, 2013, 2014, 2015, 2016, 2017, 2018, 2019]).reshape((-1, 1))\n",
    "activity_hours_per_day = np.array([all_act_2003_res_p65_greater_hpd, all_act_2004_res_p65_greater_hpd, all_act_2005_res_p65_greater_hpd,\n",
    "                                   all_act_2006_res_p65_greater_hpd, all_act_2007_res_p65_greater_hpd, all_act_2008_res_p65_greater_hpd,\n",
    "                                   all_act_2009_res_p65_greater_hpd, all_act_2010_res_p65_greater_hpd, all_act_2011_res_p65_greater_hpd,\n",
    "                                   all_act_2012_res_p65_greater_hpd, all_act_2013_res_p65_greater_hpd, all_act_2014_res_p65_greater_hpd,\n",
    "                                   all_act_2015_res_p65_greater_hpd, all_act_2016_res_p65_greater_hpd, all_act_2017_res_p65_greater_hpd,\n",
    "                                   all_act_2018_res_p65_greater_hpd, all_act_2019_res_p65_greater_hpd]).reshape((-1, 1))\n",
    "\n",
    "activity_hours_per_yr = [i * 365 for i in activity_hours_per_day]\n",
    "#activity_hours_per_yr"
   ]
  },
  {
   "cell_type": "code",
   "execution_count": 94,
   "metadata": {},
   "outputs": [
    {
     "data": {
      "image/png": "[encoded data removed]",
      "text/plain": [
       "<Figure size 432x288 with 1 Axes>"
      ]
     },
     "metadata": {
      "needs_background": "light"
     },
     "output_type": "display_data"
    }
   ],
   "source": [
    "x = year\n",
    "y = activity_hours_per_yr\n",
    "x, y = np.array(x), np.array(y)\n",
    "\n",
    "model = LinearRegression().fit(x, y)\n",
    "\n",
    "y_pred = model.predict(x)  \n",
    "\n",
    "plt.scatter(x, y)\n",
    "plt.plot(x, y_pred, color='red')\n",
    "plt.show()"
   ]
  },
  {
   "cell_type": "code",
   "execution_count": 95,
   "metadata": {},
   "outputs": [
    {
     "data": {
      "text/plain": [
       "0.070450018555126"
      ]
     },
     "execution_count": 95,
     "metadata": {},
     "output_type": "execute_result"
    }
   ],
   "source": [
    "coefficient_of_determination = model.score(x,y) #R sqaure value \n",
    "coefficient_of_determination"
   ]
  },
  {
   "cell_type": "code",
   "execution_count": 96,
   "metadata": {},
   "outputs": [
    {
     "data": {
      "text/plain": [
       "array([[-1.99588537]])"
      ]
     },
     "execution_count": 96,
     "metadata": {},
     "output_type": "execute_result"
    }
   ],
   "source": [
    "all_act_2019_res_p65_greater_slope = model.coef_\n",
    "all_act_2019_res_p65_greater_slope"
   ]
  },
  {
   "cell_type": "markdown",
   "metadata": {},
   "source": [
    "### 2003-2019 NonResidential - Age Between 65 or Greater "
   ]
  },
  {
   "cell_type": "code",
   "execution_count": 97,
   "metadata": {},
   "outputs": [],
   "source": [
    "#non-residential = 2,4,5,6,7,8,9,10,11,30,31,32"
   ]
  },
  {
   "cell_type": "code",
   "execution_count": 98,
   "metadata": {},
   "outputs": [],
   "source": [
    "nonresidential_location = [2,4,5,6,7,8,9,10,11,30,31,32]\n",
    "atus_multi_yr_nonres_p65_greater = multi_merged_p65_greater[multi_merged_p65_greater[\"TEWHERE\"].isin(nonresidential_location)]\n",
    "#atus_multi_yr_res_p65_greater"
   ]
  },
  {
   "cell_type": "code",
   "execution_count": 99,
   "metadata": {},
   "outputs": [],
   "source": [
    "atus_2003_nonres_p65_greater = atus_multi_yr_nonres_p65_greater[atus_multi_yr_nonres_p65_greater[\"TUCASEID\"].apply(str).str.startswith(\"2003\")]\n",
    "atus_2004_nonres_p65_greater = atus_multi_yr_nonres_p65_greater[atus_multi_yr_nonres_p65_greater[\"TUCASEID\"].apply(str).str.startswith(\"2004\")]\n",
    "atus_2005_nonres_p65_greater = atus_multi_yr_nonres_p65_greater[atus_multi_yr_nonres_p65_greater[\"TUCASEID\"].apply(str).str.startswith(\"2005\")]\n",
    "atus_2006_nonres_p65_greater = atus_multi_yr_nonres_p65_greater[atus_multi_yr_nonres_p65_greater[\"TUCASEID\"].apply(str).str.startswith(\"2006\")]\n",
    "atus_2007_nonres_p65_greater = atus_multi_yr_nonres_p65_greater[atus_multi_yr_nonres_p65_greater[\"TUCASEID\"].apply(str).str.startswith(\"2007\")]\n",
    "atus_2008_nonres_p65_greater = atus_multi_yr_nonres_p65_greater[atus_multi_yr_nonres_p65_greater[\"TUCASEID\"].apply(str).str.startswith(\"2008\")]\n",
    "atus_2009_nonres_p65_greater = atus_multi_yr_nonres_p65_greater[atus_multi_yr_nonres_p65_greater[\"TUCASEID\"].apply(str).str.startswith(\"2009\")]\n",
    "atus_2010_nonres_p65_greater = atus_multi_yr_nonres_p65_greater[atus_multi_yr_nonres_p65_greater[\"TUCASEID\"].apply(str).str.startswith(\"2010\")]\n",
    "atus_2011_nonres_p65_greater = atus_multi_yr_nonres_p65_greater[atus_multi_yr_nonres_p65_greater[\"TUCASEID\"].apply(str).str.startswith(\"2011\")]\n",
    "atus_2012_nonres_p65_greater = atus_multi_yr_nonres_p65_greater[atus_multi_yr_nonres_p65_greater[\"TUCASEID\"].apply(str).str.startswith(\"2012\")]\n",
    "atus_2013_nonres_p65_greater = atus_multi_yr_nonres_p65_greater[atus_multi_yr_nonres_p65_greater[\"TUCASEID\"].apply(str).str.startswith(\"2013\")]\n",
    "atus_2014_nonres_p65_greater = atus_multi_yr_nonres_p65_greater[atus_multi_yr_nonres_p65_greater[\"TUCASEID\"].apply(str).str.startswith(\"2014\")]\n",
    "atus_2015_nonres_p65_greater = atus_multi_yr_nonres_p65_greater[atus_multi_yr_nonres_p65_greater[\"TUCASEID\"].apply(str).str.startswith(\"2015\")]\n",
    "atus_2016_nonres_p65_greater = atus_multi_yr_nonres_p65_greater[atus_multi_yr_nonres_p65_greater[\"TUCASEID\"].apply(str).str.startswith(\"2016\")]\n",
    "atus_2017_nonres_p65_greater = atus_multi_yr_nonres_p65_greater[atus_multi_yr_nonres_p65_greater[\"TUCASEID\"].apply(str).str.startswith(\"2017\")]\n",
    "atus_2018_nonres_p65_greater = atus_multi_yr_nonres_p65_greater[atus_multi_yr_nonres_p65_greater[\"TUCASEID\"].apply(str).str.startswith(\"2018\")]\n",
    "atus_2019_nonres_p65_greater = atus_multi_yr_nonres_p65_greater[atus_multi_yr_nonres_p65_greater[\"TUCASEID\"].apply(str).str.startswith(\"2019\")]\n",
    "#atus_2003_nonres_p65_greater"
   ]
  },
  {
   "cell_type": "markdown",
   "metadata": {},
   "source": [
    "### 2003 All Activities - NonResidential - Age Between 65 or Greater "
   ]
  },
  {
   "cell_type": "code",
   "execution_count": 100,
   "metadata": {},
   "outputs": [],
   "source": [
    "atus_2003_all_nonres_p65_greater = atus_2003_nonres_p65_greater.groupby([\"TUCASEID\"]).sum().filter([\"TUCASEID\", \"TUACTDUR24\"])\n",
    "#atus_2003_all_nonres_p65_greater"
   ]
  },
  {
   "cell_type": "code",
   "execution_count": 101,
   "metadata": {},
   "outputs": [],
   "source": [
    "atus_2003_all_nonres_p65_greater_merge = pd.merge(atus_2003_all_nonres_p65_greater, multi_resp, on= \"TUCASEID\").filter([\"TUCASEID\",\"TUACTDUR24\",\"TUFNWGTP\"])\n",
    "#atus_2003_all_res_p65_greater_merge"
   ]
  },
  {
   "cell_type": "code",
   "execution_count": 102,
   "metadata": {},
   "outputs": [],
   "source": [
    "atus_2003_all_nonres_p65_greater_merge[\"Multiplied Weight\"]=atus_2003_all_nonres_p65_greater_merge[\"TUACTDUR24\"]*atus_2003_all_nonres_p65_greater_merge[\"TUFNWGTP\"]\n",
    "#atus_2003_all_nonres_p65_greater_merge"
   ]
  },
  {
   "cell_type": "code",
   "execution_count": 103,
   "metadata": {},
   "outputs": [
    {
     "data": {
      "text/plain": [
       "1753868942052.8906"
      ]
     },
     "execution_count": 103,
     "metadata": {},
     "output_type": "execute_result"
    }
   ],
   "source": [
    "atus_2003_all_nonres_p65_greater_multiplied_weight = atus_2003_all_nonres_p65_greater_merge[\"Multiplied Weight\"].sum()\n",
    "atus_2003_all_nonres_p65_greater_multiplied_weight"
   ]
  },
  {
   "cell_type": "code",
   "execution_count": 104,
   "metadata": {},
   "outputs": [
    {
     "data": {
      "text/plain": [
       "2.3379885623602457"
      ]
     },
     "execution_count": 104,
     "metadata": {},
     "output_type": "execute_result"
    }
   ],
   "source": [
    "all_act_2003_nonres_p65_greater_hpd = atus_2003_all_nonres_p65_greater_multiplied_weight / atus_2003_p65_greater_weight / 60\n",
    "all_act_2003_nonres_p65_greater_hpd"
   ]
  },
  {
   "cell_type": "markdown",
   "metadata": {},
   "source": [
    "### 2004 All Activities - NonResidential - Age Between 65 or Greater "
   ]
  },
  {
   "cell_type": "code",
   "execution_count": 105,
   "metadata": {},
   "outputs": [],
   "source": [
    "atus_2004_all_nonres_p65_greater = atus_2004_nonres_p65_greater.groupby([\"TUCASEID\"]).sum().filter([\"TUCASEID\", \"TUACTDUR24\"])\n",
    "#atus_2004_all_nonres_p65_greater"
   ]
  },
  {
   "cell_type": "code",
   "execution_count": 106,
   "metadata": {},
   "outputs": [],
   "source": [
    "atus_2004_all_nonres_p65_greater_merge = pd.merge(atus_2004_all_nonres_p65_greater, multi_resp, on= \"TUCASEID\").filter([\"TUCASEID\",\"TUACTDUR24\",\"TUFNWGTP\"])\n",
    "#atus_2004_all_res_p65_greater_merge"
   ]
  },
  {
   "cell_type": "code",
   "execution_count": 107,
   "metadata": {},
   "outputs": [
    {
     "data": {
      "text/plain": [
       "1808054330113.702"
      ]
     },
     "execution_count": 107,
     "metadata": {},
     "output_type": "execute_result"
    }
   ],
   "source": [
    "atus_2004_all_nonres_p65_greater_merge[\"Multiplied Weight\"]=atus_2004_all_nonres_p65_greater_merge[\"TUACTDUR24\"]*atus_2004_all_nonres_p65_greater_merge[\"TUFNWGTP\"]\n",
    "\n",
    "atus_2004_all_nonres_p65_greater_multiplied_weight = atus_2004_all_nonres_p65_greater_merge[\"Multiplied Weight\"].sum()\n",
    "atus_2004_all_nonres_p65_greater_multiplied_weight"
   ]
  },
  {
   "cell_type": "code",
   "execution_count": 108,
   "metadata": {},
   "outputs": [
    {
     "data": {
      "text/plain": [
       "2.3788817237904074"
      ]
     },
     "execution_count": 108,
     "metadata": {},
     "output_type": "execute_result"
    }
   ],
   "source": [
    "all_act_2004_nonres_p65_greater_hpd = atus_2004_all_nonres_p65_greater_multiplied_weight / atus_2004_p65_greater_weight / 60\n",
    "all_act_2004_nonres_p65_greater_hpd"
   ]
  },
  {
   "cell_type": "markdown",
   "metadata": {},
   "source": [
    "### 2005 All Activities - NonResidential - Age Between 65 or Greater "
   ]
  },
  {
   "cell_type": "code",
   "execution_count": 109,
   "metadata": {},
   "outputs": [],
   "source": [
    "atus_2005_all_nonres_p65_greater = atus_2005_nonres_p65_greater.groupby([\"TUCASEID\"]).sum().filter([\"TUCASEID\", \"TUACTDUR24\"])\n",
    "#atus_2005_all_nonres_p65_greater"
   ]
  },
  {
   "cell_type": "code",
   "execution_count": 110,
   "metadata": {},
   "outputs": [],
   "source": [
    "atus_2005_all_nonres_p65_greater_merge = pd.merge(atus_2005_all_nonres_p65_greater, multi_resp, on= \"TUCASEID\").filter([\"TUCASEID\",\"TUACTDUR24\",\"TUFNWGTP\"])\n",
    "#atus_2005_all_res_p65_greater_merge"
   ]
  },
  {
   "cell_type": "code",
   "execution_count": 111,
   "metadata": {},
   "outputs": [
    {
     "data": {
      "text/plain": [
       "1884767196667.518"
      ]
     },
     "execution_count": 111,
     "metadata": {},
     "output_type": "execute_result"
    }
   ],
   "source": [
    "atus_2005_all_nonres_p65_greater_merge[\"Multiplied Weight\"]=atus_2005_all_nonres_p65_greater_merge[\"TUACTDUR24\"]*atus_2005_all_nonres_p65_greater_merge[\"TUFNWGTP\"]\n",
    "\n",
    "atus_2005_all_nonres_p65_greater_multiplied_weight = atus_2005_all_nonres_p65_greater_merge[\"Multiplied Weight\"].sum()\n",
    "atus_2005_all_nonres_p65_greater_multiplied_weight"
   ]
  },
  {
   "cell_type": "code",
   "execution_count": 112,
   "metadata": {},
   "outputs": [
    {
     "data": {
      "text/plain": [
       "2.4536537314779157"
      ]
     },
     "execution_count": 112,
     "metadata": {},
     "output_type": "execute_result"
    }
   ],
   "source": [
    "all_act_2005_nonres_p65_greater_hpd = atus_2005_all_nonres_p65_greater_multiplied_weight / atus_2005_p65_greater_weight / 60\n",
    "all_act_2005_nonres_p65_greater_hpd"
   ]
  },
  {
   "cell_type": "markdown",
   "metadata": {},
   "source": [
    "### 2006 All Activities - NonResidential - Age Between 65 or Greater "
   ]
  },
  {
   "cell_type": "code",
   "execution_count": 113,
   "metadata": {},
   "outputs": [],
   "source": [
    "atus_2006_all_nonres_p65_greater = atus_2006_nonres_p65_greater.groupby([\"TUCASEID\"]).sum().filter([\"TUCASEID\", \"TUACTDUR24\"])\n",
    "#atus_2006_all_nonres_p65_greater"
   ]
  },
  {
   "cell_type": "code",
   "execution_count": 114,
   "metadata": {},
   "outputs": [],
   "source": [
    "atus_2006_all_nonres_p65_greater_merge = pd.merge(atus_2006_all_nonres_p65_greater, multi_resp, on= \"TUCASEID\").filter([\"TUCASEID\",\"TUACTDUR24\",\"TUFNWGTP\"])\n",
    "#atus_2006_all_res_p65_greater_merge"
   ]
  },
  {
   "cell_type": "code",
   "execution_count": 115,
   "metadata": {},
   "outputs": [
    {
     "data": {
      "text/plain": [
       "1765880718629.0234"
      ]
     },
     "execution_count": 115,
     "metadata": {},
     "output_type": "execute_result"
    }
   ],
   "source": [
    "atus_2006_all_nonres_p65_greater_merge[\"Multiplied Weight\"]=atus_2006_all_nonres_p65_greater_merge[\"TUACTDUR24\"]*atus_2006_all_nonres_p65_greater_merge[\"TUFNWGTP\"]\n",
    "\n",
    "atus_2006_all_nonres_p65_greater_multiplied_weight = atus_2006_all_nonres_p65_greater_merge[\"Multiplied Weight\"].sum()\n",
    "atus_2006_all_nonres_p65_greater_multiplied_weight"
   ]
  },
  {
   "cell_type": "code",
   "execution_count": 116,
   "metadata": {},
   "outputs": [
    {
     "data": {
      "text/plain": [
       "2.264521999013785"
      ]
     },
     "execution_count": 116,
     "metadata": {},
     "output_type": "execute_result"
    }
   ],
   "source": [
    "all_act_2006_nonres_p65_greater_hpd = atus_2006_all_nonres_p65_greater_multiplied_weight / atus_2006_p65_greater_weight / 60\n",
    "all_act_2006_nonres_p65_greater_hpd"
   ]
  },
  {
   "cell_type": "markdown",
   "metadata": {},
   "source": [
    "### 2007 All Activities - NonResidential - Age Between 65 or Greater "
   ]
  },
  {
   "cell_type": "code",
   "execution_count": 117,
   "metadata": {},
   "outputs": [],
   "source": [
    "atus_2007_all_nonres_p65_greater = atus_2007_nonres_p65_greater.groupby([\"TUCASEID\"]).sum().filter([\"TUCASEID\", \"TUACTDUR24\"])\n",
    "#atus_2007_all_nonres_p65_greater"
   ]
  },
  {
   "cell_type": "code",
   "execution_count": 118,
   "metadata": {},
   "outputs": [],
   "source": [
    "atus_2007_all_nonres_p65_greater_merge = pd.merge(atus_2007_all_nonres_p65_greater, multi_resp, on= \"TUCASEID\").filter([\"TUCASEID\",\"TUACTDUR24\",\"TUFNWGTP\"])\n",
    "#atus_2007_all_res_p65_greater_merge"
   ]
  },
  {
   "cell_type": "code",
   "execution_count": 119,
   "metadata": {},
   "outputs": [
    {
     "data": {
      "text/plain": [
       "1994803418268.9028"
      ]
     },
     "execution_count": 119,
     "metadata": {},
     "output_type": "execute_result"
    }
   ],
   "source": [
    "atus_2007_all_nonres_p65_greater_merge[\"Multiplied Weight\"]=atus_2007_all_nonres_p65_greater_merge[\"TUACTDUR24\"]*atus_2007_all_nonres_p65_greater_merge[\"TUFNWGTP\"]\n",
    "\n",
    "atus_2007_all_nonres_p65_greater_multiplied_weight = atus_2007_all_nonres_p65_greater_merge[\"Multiplied Weight\"].sum()\n",
    "atus_2007_all_nonres_p65_greater_multiplied_weight"
   ]
  },
  {
   "cell_type": "code",
   "execution_count": 120,
   "metadata": {},
   "outputs": [
    {
     "data": {
      "text/plain": [
       "2.5145161549563273"
      ]
     },
     "execution_count": 120,
     "metadata": {},
     "output_type": "execute_result"
    }
   ],
   "source": [
    "all_act_2007_nonres_p65_greater_hpd = atus_2007_all_nonres_p65_greater_multiplied_weight / atus_2007_p65_greater_weight / 60\n",
    "all_act_2007_nonres_p65_greater_hpd"
   ]
  },
  {
   "cell_type": "markdown",
   "metadata": {},
   "source": [
    "### 2008 All Activities - NonResidential - Age Between 65 or Greater "
   ]
  },
  {
   "cell_type": "code",
   "execution_count": 121,
   "metadata": {},
   "outputs": [],
   "source": [
    "atus_2008_all_nonres_p65_greater = atus_2008_nonres_p65_greater.groupby([\"TUCASEID\"]).sum().filter([\"TUCASEID\", \"TUACTDUR24\"])\n",
    "#atus_2008_all_nonres_p65_greater"
   ]
  },
  {
   "cell_type": "code",
   "execution_count": 122,
   "metadata": {},
   "outputs": [],
   "source": [
    "atus_2008_all_nonres_p65_greater_merge = pd.merge(atus_2008_all_nonres_p65_greater, multi_resp, on= \"TUCASEID\").filter([\"TUCASEID\",\"TUACTDUR24\",\"TUFNWGTP\"])\n",
    "#atus_2008_all_res_p65_greater_merge"
   ]
  },
  {
   "cell_type": "code",
   "execution_count": 123,
   "metadata": {},
   "outputs": [
    {
     "data": {
      "text/plain": [
       "1933134377758.2808"
      ]
     },
     "execution_count": 123,
     "metadata": {},
     "output_type": "execute_result"
    }
   ],
   "source": [
    "atus_2008_all_nonres_p65_greater_merge[\"Multiplied Weight\"]=atus_2008_all_nonres_p65_greater_merge[\"TUACTDUR24\"]*atus_2008_all_nonres_p65_greater_merge[\"TUFNWGTP\"]\n",
    "\n",
    "atus_2008_all_nonres_p65_greater_multiplied_weight = atus_2008_all_nonres_p65_greater_merge[\"Multiplied Weight\"].sum()\n",
    "atus_2008_all_nonres_p65_greater_multiplied_weight"
   ]
  },
  {
   "cell_type": "code",
   "execution_count": 124,
   "metadata": {},
   "outputs": [
    {
     "data": {
      "text/plain": [
       "2.3687357417751125"
      ]
     },
     "execution_count": 124,
     "metadata": {},
     "output_type": "execute_result"
    }
   ],
   "source": [
    "all_act_2008_nonres_p65_greater_hpd = atus_2008_all_nonres_p65_greater_multiplied_weight / atus_2008_p65_greater_weight / 60\n",
    "all_act_2008_nonres_p65_greater_hpd"
   ]
  },
  {
   "cell_type": "markdown",
   "metadata": {},
   "source": [
    "### 2009 All Activities - NonResidential - Age Between 65 or Greater "
   ]
  },
  {
   "cell_type": "code",
   "execution_count": 125,
   "metadata": {},
   "outputs": [],
   "source": [
    "atus_2009_all_nonres_p65_greater = atus_2009_nonres_p65_greater.groupby([\"TUCASEID\"]).sum().filter([\"TUCASEID\", \"TUACTDUR24\"])\n",
    "#atus_2009_all_nonres_p65_greater"
   ]
  },
  {
   "cell_type": "code",
   "execution_count": 126,
   "metadata": {},
   "outputs": [],
   "source": [
    "atus_2009_all_nonres_p65_greater_merge = pd.merge(atus_2009_all_nonres_p65_greater, multi_resp, on= \"TUCASEID\").filter([\"TUCASEID\",\"TUACTDUR24\",\"TUFNWGTP\"])\n",
    "#atus_2009_all_res_p65_greater_merge"
   ]
  },
  {
   "cell_type": "code",
   "execution_count": 127,
   "metadata": {},
   "outputs": [
    {
     "data": {
      "text/plain": [
       "1937404202430.4937"
      ]
     },
     "execution_count": 127,
     "metadata": {},
     "output_type": "execute_result"
    }
   ],
   "source": [
    "atus_2009_all_nonres_p65_greater_merge[\"Multiplied Weight\"]=atus_2009_all_nonres_p65_greater_merge[\"TUACTDUR24\"]*atus_2009_all_nonres_p65_greater_merge[\"TUFNWGTP\"]\n",
    "\n",
    "atus_2009_all_nonres_p65_greater_multiplied_weight = atus_2009_all_nonres_p65_greater_merge[\"Multiplied Weight\"].sum()\n",
    "atus_2009_all_nonres_p65_greater_multiplied_weight"
   ]
  },
  {
   "cell_type": "code",
   "execution_count": 128,
   "metadata": {},
   "outputs": [
    {
     "data": {
      "text/plain": [
       "2.3283952993237422"
      ]
     },
     "execution_count": 128,
     "metadata": {},
     "output_type": "execute_result"
    }
   ],
   "source": [
    "all_act_2009_nonres_p65_greater_hpd = atus_2009_all_nonres_p65_greater_multiplied_weight / atus_2009_p65_greater_weight / 60\n",
    "all_act_2009_nonres_p65_greater_hpd"
   ]
  },
  {
   "cell_type": "markdown",
   "metadata": {},
   "source": [
    "### 2010 All Activities - NonResidential - Age Between 65 or Greater "
   ]
  },
  {
   "cell_type": "code",
   "execution_count": 129,
   "metadata": {},
   "outputs": [],
   "source": [
    "atus_2010_all_nonres_p65_greater = atus_2010_nonres_p65_greater.groupby([\"TUCASEID\"]).sum().filter([\"TUCASEID\", \"TUACTDUR24\"])\n",
    "#atus_2010_all_nonres_p65_greater"
   ]
  },
  {
   "cell_type": "code",
   "execution_count": 130,
   "metadata": {},
   "outputs": [],
   "source": [
    "atus_2010_all_nonres_p65_greater_merge = pd.merge(atus_2010_all_nonres_p65_greater, multi_resp, on= \"TUCASEID\").filter([\"TUCASEID\",\"TUACTDUR24\",\"TUFNWGTP\"])\n",
    "#atus_2010_all_res_p65_greater_merge"
   ]
  },
  {
   "cell_type": "code",
   "execution_count": 131,
   "metadata": {},
   "outputs": [
    {
     "data": {
      "text/plain": [
       "1954239265669.1294"
      ]
     },
     "execution_count": 131,
     "metadata": {},
     "output_type": "execute_result"
    }
   ],
   "source": [
    "atus_2010_all_nonres_p65_greater_merge[\"Multiplied Weight\"]=atus_2010_all_nonres_p65_greater_merge[\"TUACTDUR24\"]*atus_2010_all_nonres_p65_greater_merge[\"TUFNWGTP\"]\n",
    "\n",
    "atus_2010_all_nonres_p65_greater_multiplied_weight = atus_2010_all_nonres_p65_greater_merge[\"Multiplied Weight\"].sum()\n",
    "atus_2010_all_nonres_p65_greater_multiplied_weight"
   ]
  },
  {
   "cell_type": "code",
   "execution_count": 132,
   "metadata": {},
   "outputs": [
    {
     "data": {
      "text/plain": [
       "2.305766716418869"
      ]
     },
     "execution_count": 132,
     "metadata": {},
     "output_type": "execute_result"
    }
   ],
   "source": [
    "all_act_2010_nonres_p65_greater_hpd = atus_2010_all_nonres_p65_greater_multiplied_weight / atus_2010_p65_greater_weight / 60\n",
    "all_act_2010_nonres_p65_greater_hpd"
   ]
  },
  {
   "cell_type": "markdown",
   "metadata": {},
   "source": [
    "### 2011 All Activities - NonResidential - Age Between 65 or Greater "
   ]
  },
  {
   "cell_type": "code",
   "execution_count": 133,
   "metadata": {},
   "outputs": [],
   "source": [
    "atus_2011_all_nonres_p65_greater = atus_2011_nonres_p65_greater.groupby([\"TUCASEID\"]).sum().filter([\"TUCASEID\", \"TUACTDUR24\"])\n",
    "#atus_2011_all_nonres_p65_greater"
   ]
  },
  {
   "cell_type": "code",
   "execution_count": 134,
   "metadata": {},
   "outputs": [],
   "source": [
    "atus_2011_all_nonres_p65_greater_merge = pd.merge(atus_2011_all_nonres_p65_greater, multi_resp, on= \"TUCASEID\").filter([\"TUCASEID\",\"TUACTDUR24\",\"TUFNWGTP\"])\n",
    "#atus_2011_all_res_p65_greater_merge"
   ]
  },
  {
   "cell_type": "code",
   "execution_count": 135,
   "metadata": {},
   "outputs": [
    {
     "data": {
      "text/plain": [
       "2224907297515.203"
      ]
     },
     "execution_count": 135,
     "metadata": {},
     "output_type": "execute_result"
    }
   ],
   "source": [
    "atus_2011_all_nonres_p65_greater_merge[\"Multiplied Weight\"]=atus_2011_all_nonres_p65_greater_merge[\"TUACTDUR24\"]*atus_2011_all_nonres_p65_greater_merge[\"TUFNWGTP\"]\n",
    "\n",
    "atus_2011_all_nonres_p65_greater_multiplied_weight = atus_2011_all_nonres_p65_greater_merge[\"Multiplied Weight\"].sum()\n",
    "atus_2011_all_nonres_p65_greater_multiplied_weight"
   ]
  },
  {
   "cell_type": "code",
   "execution_count": 136,
   "metadata": {},
   "outputs": [
    {
     "data": {
      "text/plain": [
       "2.557657683883724"
      ]
     },
     "execution_count": 136,
     "metadata": {},
     "output_type": "execute_result"
    }
   ],
   "source": [
    "all_act_2011_nonres_p65_greater_hpd = atus_2011_all_nonres_p65_greater_multiplied_weight / atus_2011_p65_greater_weight / 60\n",
    "all_act_2011_nonres_p65_greater_hpd"
   ]
  },
  {
   "cell_type": "markdown",
   "metadata": {},
   "source": [
    "### 2012 All Activities - NonResidential - Age Between 65 or Greater "
   ]
  },
  {
   "cell_type": "code",
   "execution_count": 137,
   "metadata": {},
   "outputs": [],
   "source": [
    "atus_2012_all_nonres_p65_greater = atus_2012_nonres_p65_greater.groupby([\"TUCASEID\"]).sum().filter([\"TUCASEID\", \"TUACTDUR24\"])\n",
    "#atus_2012_all_nonres_p65_greater"
   ]
  },
  {
   "cell_type": "code",
   "execution_count": 138,
   "metadata": {},
   "outputs": [],
   "source": [
    "atus_2012_all_nonres_p65_greater_merge = pd.merge(atus_2012_all_nonres_p65_greater, multi_resp, on= \"TUCASEID\").filter([\"TUCASEID\",\"TUACTDUR24\",\"TUFNWGTP\"])\n",
    "#atus_2012_all_res_p65_greater_merge"
   ]
  },
  {
   "cell_type": "code",
   "execution_count": 139,
   "metadata": {},
   "outputs": [
    {
     "data": {
      "text/plain": [
       "2308641878644.29"
      ]
     },
     "execution_count": 139,
     "metadata": {},
     "output_type": "execute_result"
    }
   ],
   "source": [
    "atus_2012_all_nonres_p65_greater_merge[\"Multiplied Weight\"]=atus_2012_all_nonres_p65_greater_merge[\"TUACTDUR24\"]*atus_2012_all_nonres_p65_greater_merge[\"TUFNWGTP\"]\n",
    "\n",
    "atus_2012_all_nonres_p65_greater_multiplied_weight = atus_2012_all_nonres_p65_greater_merge[\"Multiplied Weight\"].sum()\n",
    "atus_2012_all_nonres_p65_greater_multiplied_weight"
   ]
  },
  {
   "cell_type": "code",
   "execution_count": 140,
   "metadata": {},
   "outputs": [
    {
     "data": {
      "text/plain": [
       "2.5108299194964596"
      ]
     },
     "execution_count": 140,
     "metadata": {},
     "output_type": "execute_result"
    }
   ],
   "source": [
    "all_act_2012_nonres_p65_greater_hpd = atus_2012_all_nonres_p65_greater_multiplied_weight / atus_2012_p65_greater_weight / 60\n",
    "all_act_2012_nonres_p65_greater_hpd"
   ]
  },
  {
   "cell_type": "markdown",
   "metadata": {},
   "source": [
    "### 2013 All Activities - NonResidential - Age Between 65 or Greater "
   ]
  },
  {
   "cell_type": "code",
   "execution_count": 141,
   "metadata": {},
   "outputs": [],
   "source": [
    "atus_2013_all_nonres_p65_greater = atus_2013_nonres_p65_greater.groupby([\"TUCASEID\"]).sum().filter([\"TUCASEID\", \"TUACTDUR24\"])\n",
    "#atus_2013_all_nonres_p65_greater"
   ]
  },
  {
   "cell_type": "code",
   "execution_count": 142,
   "metadata": {},
   "outputs": [],
   "source": [
    "atus_2013_all_nonres_p65_greater_merge = pd.merge(atus_2013_all_nonres_p65_greater, multi_resp, on= \"TUCASEID\").filter([\"TUCASEID\",\"TUACTDUR24\",\"TUFNWGTP\"])\n",
    "#atus_2013_all_res_p65_greater_merge"
   ]
  },
  {
   "cell_type": "code",
   "execution_count": 143,
   "metadata": {},
   "outputs": [
    {
     "data": {
      "text/plain": [
       "2324122440665.597"
      ]
     },
     "execution_count": 143,
     "metadata": {},
     "output_type": "execute_result"
    }
   ],
   "source": [
    "atus_2013_all_nonres_p65_greater_merge[\"Multiplied Weight\"]=atus_2013_all_nonres_p65_greater_merge[\"TUACTDUR24\"]*atus_2013_all_nonres_p65_greater_merge[\"TUFNWGTP\"]\n",
    "\n",
    "atus_2013_all_nonres_p65_greater_multiplied_weight = atus_2013_all_nonres_p65_greater_merge[\"Multiplied Weight\"].sum()\n",
    "atus_2013_all_nonres_p65_greater_multiplied_weight"
   ]
  },
  {
   "cell_type": "code",
   "execution_count": 144,
   "metadata": {},
   "outputs": [
    {
     "data": {
      "text/plain": [
       "2.4443771591734182"
      ]
     },
     "execution_count": 144,
     "metadata": {},
     "output_type": "execute_result"
    }
   ],
   "source": [
    "all_act_2013_nonres_p65_greater_hpd = atus_2013_all_nonres_p65_greater_multiplied_weight / atus_2013_p65_greater_weight / 60\n",
    "all_act_2013_nonres_p65_greater_hpd"
   ]
  },
  {
   "cell_type": "markdown",
   "metadata": {},
   "source": [
    "### 2014 All Activities - NonResidential - Age Between 65 or Greater "
   ]
  },
  {
   "cell_type": "code",
   "execution_count": 145,
   "metadata": {},
   "outputs": [],
   "source": [
    "atus_2014_all_nonres_p65_greater = atus_2014_nonres_p65_greater.groupby([\"TUCASEID\"]).sum().filter([\"TUCASEID\", \"TUACTDUR24\"])\n",
    "#atus_2014_all_nonres_p65_greater"
   ]
  },
  {
   "cell_type": "code",
   "execution_count": 146,
   "metadata": {},
   "outputs": [],
   "source": [
    "atus_2014_all_nonres_p65_greater_merge = pd.merge(atus_2014_all_nonres_p65_greater, multi_resp, on= \"TUCASEID\").filter([\"TUCASEID\",\"TUACTDUR24\",\"TUFNWGTP\"])\n",
    "#atus_2014_all_res_p65_greater_merge"
   ]
  },
  {
   "cell_type": "code",
   "execution_count": 147,
   "metadata": {},
   "outputs": [
    {
     "data": {
      "text/plain": [
       "2430336889094.517"
      ]
     },
     "execution_count": 147,
     "metadata": {},
     "output_type": "execute_result"
    }
   ],
   "source": [
    "atus_2014_all_nonres_p65_greater_merge[\"Multiplied Weight\"]=atus_2014_all_nonres_p65_greater_merge[\"TUACTDUR24\"]*atus_2014_all_nonres_p65_greater_merge[\"TUFNWGTP\"]\n",
    "\n",
    "atus_2014_all_nonres_p65_greater_multiplied_weight = atus_2014_all_nonres_p65_greater_merge[\"Multiplied Weight\"].sum()\n",
    "atus_2014_all_nonres_p65_greater_multiplied_weight"
   ]
  },
  {
   "cell_type": "code",
   "execution_count": 148,
   "metadata": {},
   "outputs": [
    {
     "data": {
      "text/plain": [
       "2.4681105839749757"
      ]
     },
     "execution_count": 148,
     "metadata": {},
     "output_type": "execute_result"
    }
   ],
   "source": [
    "all_act_2014_nonres_p65_greater_hpd = atus_2014_all_nonres_p65_greater_multiplied_weight / atus_2014_p65_greater_weight / 60\n",
    "all_act_2014_nonres_p65_greater_hpd"
   ]
  },
  {
   "cell_type": "markdown",
   "metadata": {},
   "source": [
    "### 2015 All Activities - NonResidential - Age Between 65 or Greater "
   ]
  },
  {
   "cell_type": "code",
   "execution_count": 149,
   "metadata": {},
   "outputs": [],
   "source": [
    "atus_2015_all_nonres_p65_greater = atus_2015_nonres_p65_greater.groupby([\"TUCASEID\"]).sum().filter([\"TUCASEID\", \"TUACTDUR24\"])\n",
    "#atus_2015_all_nonres_p65_greater"
   ]
  },
  {
   "cell_type": "code",
   "execution_count": 150,
   "metadata": {},
   "outputs": [],
   "source": [
    "atus_2015_all_nonres_p65_greater_merge = pd.merge(atus_2015_all_nonres_p65_greater, multi_resp, on= \"TUCASEID\").filter([\"TUCASEID\",\"TUACTDUR24\",\"TUFNWGTP\"])\n",
    "#atus_2015_all_res_p65_greater_merge"
   ]
  },
  {
   "cell_type": "code",
   "execution_count": 151,
   "metadata": {},
   "outputs": [
    {
     "data": {
      "text/plain": [
       "2460845131760.8945"
      ]
     },
     "execution_count": 151,
     "metadata": {},
     "output_type": "execute_result"
    }
   ],
   "source": [
    "atus_2015_all_nonres_p65_greater_merge[\"Multiplied Weight\"]=atus_2015_all_nonres_p65_greater_merge[\"TUACTDUR24\"]*atus_2015_all_nonres_p65_greater_merge[\"TUFNWGTP\"]\n",
    "\n",
    "atus_2015_all_nonres_p65_greater_multiplied_weight = atus_2015_all_nonres_p65_greater_merge[\"Multiplied Weight\"].sum()\n",
    "atus_2015_all_nonres_p65_greater_multiplied_weight"
   ]
  },
  {
   "cell_type": "code",
   "execution_count": 152,
   "metadata": {},
   "outputs": [
    {
     "data": {
      "text/plain": [
       "2.4159690989846"
      ]
     },
     "execution_count": 152,
     "metadata": {},
     "output_type": "execute_result"
    }
   ],
   "source": [
    "all_act_2015_nonres_p65_greater_hpd = atus_2015_all_nonres_p65_greater_multiplied_weight / atus_2015_p65_greater_weight / 60\n",
    "all_act_2015_nonres_p65_greater_hpd"
   ]
  },
  {
   "cell_type": "markdown",
   "metadata": {},
   "source": [
    "### 2016 All Activities - NonResidential - Age Between 65 or Greater "
   ]
  },
  {
   "cell_type": "code",
   "execution_count": 153,
   "metadata": {},
   "outputs": [],
   "source": [
    "atus_2016_all_nonres_p65_greater = atus_2016_nonres_p65_greater.groupby([\"TUCASEID\"]).sum().filter([\"TUCASEID\", \"TUACTDUR24\"])\n",
    "#atus_2016_all_nonres_p65_greater"
   ]
  },
  {
   "cell_type": "code",
   "execution_count": 154,
   "metadata": {},
   "outputs": [],
   "source": [
    "atus_2016_all_nonres_p65_greater_merge = pd.merge(atus_2016_all_nonres_p65_greater, multi_resp, on= \"TUCASEID\").filter([\"TUCASEID\",\"TUACTDUR24\",\"TUFNWGTP\"])\n",
    "#atus_2016_all_res_p65_greater_merge"
   ]
  },
  {
   "cell_type": "code",
   "execution_count": 155,
   "metadata": {},
   "outputs": [
    {
     "data": {
      "text/plain": [
       "2662911316886.4775"
      ]
     },
     "execution_count": 155,
     "metadata": {},
     "output_type": "execute_result"
    }
   ],
   "source": [
    "atus_2016_all_nonres_p65_greater_merge[\"Multiplied Weight\"]=atus_2016_all_nonres_p65_greater_merge[\"TUACTDUR24\"]*atus_2016_all_nonres_p65_greater_merge[\"TUFNWGTP\"]\n",
    "\n",
    "atus_2016_all_nonres_p65_greater_multiplied_weight = atus_2016_all_nonres_p65_greater_merge[\"Multiplied Weight\"].sum()\n",
    "atus_2016_all_nonres_p65_greater_multiplied_weight"
   ]
  },
  {
   "cell_type": "code",
   "execution_count": 156,
   "metadata": {},
   "outputs": [
    {
     "data": {
      "text/plain": [
       "2.524695364661431"
      ]
     },
     "execution_count": 156,
     "metadata": {},
     "output_type": "execute_result"
    }
   ],
   "source": [
    "all_act_2016_nonres_p65_greater_hpd = atus_2016_all_nonres_p65_greater_multiplied_weight / atus_2016_p65_greater_weight / 60\n",
    "all_act_2016_nonres_p65_greater_hpd"
   ]
  },
  {
   "cell_type": "markdown",
   "metadata": {},
   "source": [
    "### 2017 All Activities - NonResidential - Age Between 65 or Greater "
   ]
  },
  {
   "cell_type": "code",
   "execution_count": 157,
   "metadata": {},
   "outputs": [],
   "source": [
    "atus_2017_all_nonres_p65_greater = atus_2017_nonres_p65_greater.groupby([\"TUCASEID\"]).sum().filter([\"TUCASEID\", \"TUACTDUR24\"])\n",
    "#atus_2017_all_nonres_p65_greater"
   ]
  },
  {
   "cell_type": "code",
   "execution_count": 158,
   "metadata": {},
   "outputs": [],
   "source": [
    "atus_2017_all_nonres_p65_greater_merge = pd.merge(atus_2017_all_nonres_p65_greater, multi_resp, on= \"TUCASEID\").filter([\"TUCASEID\",\"TUACTDUR24\",\"TUFNWGTP\"])\n",
    "#atus_2017_all_res_p65_greater_merge"
   ]
  },
  {
   "cell_type": "code",
   "execution_count": 159,
   "metadata": {},
   "outputs": [
    {
     "data": {
      "text/plain": [
       "2656832790187.8145"
      ]
     },
     "execution_count": 159,
     "metadata": {},
     "output_type": "execute_result"
    }
   ],
   "source": [
    "atus_2017_all_nonres_p65_greater_merge[\"Multiplied Weight\"]=atus_2017_all_nonres_p65_greater_merge[\"TUACTDUR24\"]*atus_2017_all_nonres_p65_greater_merge[\"TUFNWGTP\"]\n",
    "\n",
    "atus_2017_all_nonres_p65_greater_multiplied_weight = atus_2017_all_nonres_p65_greater_merge[\"Multiplied Weight\"].sum()\n",
    "atus_2017_all_nonres_p65_greater_multiplied_weight"
   ]
  },
  {
   "cell_type": "code",
   "execution_count": 160,
   "metadata": {},
   "outputs": [
    {
     "data": {
      "text/plain": [
       "2.44861969947232"
      ]
     },
     "execution_count": 160,
     "metadata": {},
     "output_type": "execute_result"
    }
   ],
   "source": [
    "all_act_2017_nonres_p65_greater_hpd = atus_2017_all_nonres_p65_greater_multiplied_weight / atus_2017_p65_greater_weight / 60\n",
    "all_act_2017_nonres_p65_greater_hpd"
   ]
  },
  {
   "cell_type": "markdown",
   "metadata": {},
   "source": [
    "### 2018 All Activities - NonResidential - Age Between 65 or Greater "
   ]
  },
  {
   "cell_type": "code",
   "execution_count": 161,
   "metadata": {},
   "outputs": [],
   "source": [
    "atus_2018_all_nonres_p65_greater = atus_2018_nonres_p65_greater.groupby([\"TUCASEID\"]).sum().filter([\"TUCASEID\", \"TUACTDUR24\"])\n",
    "#atus_2018_all_nonres_p65_greater"
   ]
  },
  {
   "cell_type": "code",
   "execution_count": 162,
   "metadata": {},
   "outputs": [],
   "source": [
    "atus_2018_all_nonres_p65_greater_merge = pd.merge(atus_2018_all_nonres_p65_greater, multi_resp, on= \"TUCASEID\").filter([\"TUCASEID\",\"TUACTDUR24\",\"TUFNWGTP\"])\n",
    "#atus_2018_all_res_p65_greater_merge"
   ]
  },
  {
   "cell_type": "code",
   "execution_count": 163,
   "metadata": {},
   "outputs": [
    {
     "data": {
      "text/plain": [
       "2659526517118.927"
      ]
     },
     "execution_count": 163,
     "metadata": {},
     "output_type": "execute_result"
    }
   ],
   "source": [
    "atus_2018_all_nonres_p65_greater_merge[\"Multiplied Weight\"]=atus_2018_all_nonres_p65_greater_merge[\"TUACTDUR24\"]*atus_2018_all_nonres_p65_greater_merge[\"TUFNWGTP\"]\n",
    "\n",
    "atus_2018_all_nonres_p65_greater_multiplied_weight = atus_2018_all_nonres_p65_greater_merge[\"Multiplied Weight\"].sum()\n",
    "atus_2018_all_nonres_p65_greater_multiplied_weight"
   ]
  },
  {
   "cell_type": "code",
   "execution_count": 164,
   "metadata": {},
   "outputs": [
    {
     "data": {
      "text/plain": [
       "2.367755021575059"
      ]
     },
     "execution_count": 164,
     "metadata": {},
     "output_type": "execute_result"
    }
   ],
   "source": [
    "all_act_2018_nonres_p65_greater_hpd = atus_2018_all_nonres_p65_greater_multiplied_weight / atus_2018_p65_greater_weight / 60\n",
    "all_act_2018_nonres_p65_greater_hpd"
   ]
  },
  {
   "cell_type": "markdown",
   "metadata": {},
   "source": [
    "### 2019 All Activities - NonResidential - Age Between 65 or Greater "
   ]
  },
  {
   "cell_type": "code",
   "execution_count": 165,
   "metadata": {},
   "outputs": [],
   "source": [
    "atus_2019_all_nonres_p65_greater = atus_2019_nonres_p65_greater.groupby([\"TUCASEID\"]).sum().filter([\"TUCASEID\", \"TUACTDUR24\"])\n",
    "#atus_2019_all_nonres_p65_greater"
   ]
  },
  {
   "cell_type": "code",
   "execution_count": 166,
   "metadata": {},
   "outputs": [],
   "source": [
    "atus_2019_all_nonres_p65_greater_merge = pd.merge(atus_2019_all_nonres_p65_greater, multi_resp, on= \"TUCASEID\").filter([\"TUCASEID\",\"TUACTDUR24\",\"TUFNWGTP\"])\n",
    "#atus_2019_all_res_p65_greater_merge"
   ]
  },
  {
   "cell_type": "code",
   "execution_count": 167,
   "metadata": {},
   "outputs": [
    {
     "data": {
      "text/plain": [
       "2754551822535.2803"
      ]
     },
     "execution_count": 167,
     "metadata": {},
     "output_type": "execute_result"
    }
   ],
   "source": [
    "atus_2019_all_nonres_p65_greater_merge[\"Multiplied Weight\"]=atus_2019_all_nonres_p65_greater_merge[\"TUACTDUR24\"]*atus_2019_all_nonres_p65_greater_merge[\"TUFNWGTP\"]\n",
    "\n",
    "atus_2019_all_nonres_p65_greater_multiplied_weight = atus_2019_all_nonres_p65_greater_merge[\"Multiplied Weight\"].sum()\n",
    "atus_2019_all_nonres_p65_greater_multiplied_weight"
   ]
  },
  {
   "cell_type": "code",
   "execution_count": 168,
   "metadata": {},
   "outputs": [
    {
     "data": {
      "text/plain": [
       "2.3771938387317064"
      ]
     },
     "execution_count": 168,
     "metadata": {},
     "output_type": "execute_result"
    }
   ],
   "source": [
    "all_act_2019_nonres_p65_greater_hpd = atus_2019_all_nonres_p65_greater_multiplied_weight / atus_2019_p65_greater_weight / 60\n",
    "all_act_2019_nonres_p65_greater_hpd"
   ]
  },
  {
   "cell_type": "markdown",
   "metadata": {},
   "source": [
    "### Regresssion: All Activities - NonResidential - Age Between 65 or Greater "
   ]
  },
  {
   "cell_type": "markdown",
   "metadata": {},
   "source": [
    "#### 2003 -2012 Regression"
   ]
  },
  {
   "cell_type": "code",
   "execution_count": 169,
   "metadata": {},
   "outputs": [],
   "source": [
    "year = np.array([2003, 2004, 2005, 2006, 2007, 2008, 2009, 2010,2011,2012]).reshape((-1, 1))\n",
    "activity_hours_per_day = np.array([all_act_2003_nonres_p65_greater_hpd, all_act_2004_nonres_p65_greater_hpd, all_act_2005_nonres_p65_greater_hpd,\n",
    "                                   all_act_2006_nonres_p65_greater_hpd, all_act_2007_nonres_p65_greater_hpd, all_act_2008_nonres_p65_greater_hpd,\n",
    "                                   all_act_2009_nonres_p65_greater_hpd, all_act_2010_nonres_p65_greater_hpd, all_act_2011_nonres_p65_greater_hpd,\n",
    "                                   all_act_2012_nonres_p65_greater_hpd]).reshape((-1, 1))\n",
    "\n",
    "activity_hours_per_yr = [i * 365 for i in activity_hours_per_day]\n",
    "#activity_hours_per_yr"
   ]
  },
  {
   "cell_type": "code",
   "execution_count": 170,
   "metadata": {},
   "outputs": [
    {
     "data": {
      "image/png": "[encoded data removed]",
      "text/plain": [
       "<Figure size 432x288 with 1 Axes>"
      ]
     },
     "metadata": {
      "needs_background": "light"
     },
     "output_type": "display_data"
    }
   ],
   "source": [
    "x = year\n",
    "y = activity_hours_per_yr\n",
    "x, y = np.array(x), np.array(y)\n",
    "\n",
    "model = LinearRegression().fit(x, y)\n",
    "\n",
    "y_pred = model.predict(x)  \n",
    "\n",
    "plt.scatter(x, y)\n",
    "plt.plot(x, y_pred, color='red')\n",
    "plt.show()"
   ]
  },
  {
   "cell_type": "code",
   "execution_count": 171,
   "metadata": {},
   "outputs": [
    {
     "data": {
      "text/plain": [
       "0.14919628531844575"
      ]
     },
     "execution_count": 171,
     "metadata": {},
     "output_type": "execute_result"
    }
   ],
   "source": [
    "coefficient_of_determination = model.score(x,y) #R sqaure value \n",
    "coefficient_of_determination"
   ]
  },
  {
   "cell_type": "code",
   "execution_count": 172,
   "metadata": {},
   "outputs": [
    {
     "data": {
      "text/plain": [
       "array([[4.67511544]])"
      ]
     },
     "execution_count": 172,
     "metadata": {},
     "output_type": "execute_result"
    }
   ],
   "source": [
    "all_act_2012_nonres_p65_greater_slope = model.coef_\n",
    "all_act_2012_nonres_p65_greater_slope"
   ]
  },
  {
   "cell_type": "markdown",
   "metadata": {},
   "source": [
    "#### 2003 -2019 Regression"
   ]
  },
  {
   "cell_type": "code",
   "execution_count": 173,
   "metadata": {},
   "outputs": [],
   "source": [
    "year = np.array([2003, 2004, 2005, 2006, 2007, 2008, 2009, 2010,2011,2012, 2013, 2014, 2015, 2016, 2017, 2018, 2019]).reshape((-1, 1))\n",
    "activity_hours_per_day = np.array([all_act_2003_nonres_p65_greater_hpd, all_act_2004_nonres_p65_greater_hpd, all_act_2005_nonres_p65_greater_hpd,\n",
    "                                   all_act_2006_nonres_p65_greater_hpd, all_act_2007_nonres_p65_greater_hpd, all_act_2008_nonres_p65_greater_hpd,\n",
    "                                   all_act_2009_nonres_p65_greater_hpd, all_act_2010_nonres_p65_greater_hpd, all_act_2011_nonres_p65_greater_hpd,\n",
    "                                   all_act_2012_nonres_p65_greater_hpd, all_act_2013_nonres_p65_greater_hpd, all_act_2014_nonres_p65_greater_hpd,\n",
    "                                   all_act_2015_nonres_p65_greater_hpd, all_act_2016_nonres_p65_greater_hpd, all_act_2017_nonres_p65_greater_hpd,\n",
    "                                   all_act_2018_nonres_p65_greater_hpd, all_act_2019_nonres_p65_greater_hpd]).reshape((-1, 1))\n",
    "\n",
    "activity_hours_per_yr = [i * 365 for i in activity_hours_per_day]\n",
    "#activity_hours_per_yr"
   ]
  },
  {
   "cell_type": "code",
   "execution_count": 174,
   "metadata": {},
   "outputs": [
    {
     "data": {
      "image/png": "[encoded data removed]",
      "text/plain": [
       "<Figure size 432x288 with 1 Axes>"
      ]
     },
     "metadata": {
      "needs_background": "light"
     },
     "output_type": "display_data"
    }
   ],
   "source": [
    "x = year\n",
    "y = activity_hours_per_yr\n",
    "x, y = np.array(x), np.array(y)\n",
    "\n",
    "model = LinearRegression().fit(x, y)\n",
    "\n",
    "y_pred = model.predict(x)  \n",
    "\n",
    "plt.scatter(x, y)\n",
    "plt.plot(x, y_pred, color='red')\n",
    "plt.show()"
   ]
  },
  {
   "cell_type": "code",
   "execution_count": 175,
   "metadata": {},
   "outputs": [
    {
     "data": {
      "text/plain": [
       "0.07410054810517863"
      ]
     },
     "execution_count": 175,
     "metadata": {},
     "output_type": "execute_result"
    }
   ],
   "source": [
    "coefficient_of_determination = model.score(x,y) #R sqaure value \n",
    "coefficient_of_determination"
   ]
  },
  {
   "cell_type": "code",
   "execution_count": 176,
   "metadata": {},
   "outputs": [
    {
     "data": {
      "text/plain": [
       "array([[1.65268167]])"
      ]
     },
     "execution_count": 176,
     "metadata": {},
     "output_type": "execute_result"
    }
   ],
   "source": [
    "all_act_2019_nonres_p65_greater_slope = model.coef_\n",
    "all_act_2019_nonres_p65_greater_slope"
   ]
  },
  {
   "cell_type": "markdown",
   "metadata": {},
   "source": [
    "## 2003-2019 Transportation - Age Between 65 or Greater "
   ]
  },
  {
   "cell_type": "markdown",
   "metadata": {},
   "source": [
    "### 2003 Transportation"
   ]
  },
  {
   "cell_type": "code",
   "execution_count": 177,
   "metadata": {},
   "outputs": [],
   "source": [
    "#transporation = 12, 13. 12 = Car, truck, or motorcycle (driver), 13= Car, truck, or motorcycle (passager)"
   ]
  },
  {
   "cell_type": "code",
   "execution_count": 178,
   "metadata": {},
   "outputs": [],
   "source": [
    "transpoartion_location = [12,13]\n",
    "atus_multi_yr_tran_p65_greater = multi_merged_p65_greater[multi_merged_p65_greater[\"TEWHERE\"].isin(transpoartion_location)]\n",
    "#atus_multi_yr_tran_p65_greater"
   ]
  },
  {
   "cell_type": "code",
   "execution_count": 179,
   "metadata": {},
   "outputs": [],
   "source": [
    "#atus transportation p65_greater population seperated by year\n",
    "atus_2003_tran_p65_greater = atus_multi_yr_tran_p65_greater[atus_multi_yr_tran_p65_greater[\"TUCASEID\"].apply(str).str.startswith(\"2003\")]\n",
    "atus_2004_tran_p65_greater = atus_multi_yr_tran_p65_greater[atus_multi_yr_tran_p65_greater[\"TUCASEID\"].apply(str).str.startswith(\"2004\")]\n",
    "atus_2005_tran_p65_greater = atus_multi_yr_tran_p65_greater[atus_multi_yr_tran_p65_greater[\"TUCASEID\"].apply(str).str.startswith(\"2005\")]\n",
    "atus_2006_tran_p65_greater = atus_multi_yr_tran_p65_greater[atus_multi_yr_tran_p65_greater[\"TUCASEID\"].apply(str).str.startswith(\"2006\")]\n",
    "atus_2007_tran_p65_greater = atus_multi_yr_tran_p65_greater[atus_multi_yr_tran_p65_greater[\"TUCASEID\"].apply(str).str.startswith(\"2007\")]\n",
    "atus_2008_tran_p65_greater = atus_multi_yr_tran_p65_greater[atus_multi_yr_tran_p65_greater[\"TUCASEID\"].apply(str).str.startswith(\"2008\")]\n",
    "atus_2009_tran_p65_greater = atus_multi_yr_tran_p65_greater[atus_multi_yr_tran_p65_greater[\"TUCASEID\"].apply(str).str.startswith(\"2009\")]\n",
    "atus_2010_tran_p65_greater = atus_multi_yr_tran_p65_greater[atus_multi_yr_tran_p65_greater[\"TUCASEID\"].apply(str).str.startswith(\"2010\")]\n",
    "atus_2011_tran_p65_greater = atus_multi_yr_tran_p65_greater[atus_multi_yr_tran_p65_greater[\"TUCASEID\"].apply(str).str.startswith(\"2011\")]\n",
    "atus_2012_tran_p65_greater = atus_multi_yr_tran_p65_greater[atus_multi_yr_tran_p65_greater[\"TUCASEID\"].apply(str).str.startswith(\"2012\")]\n",
    "atus_2013_tran_p65_greater = atus_multi_yr_tran_p65_greater[atus_multi_yr_tran_p65_greater[\"TUCASEID\"].apply(str).str.startswith(\"2013\")]\n",
    "atus_2014_tran_p65_greater = atus_multi_yr_tran_p65_greater[atus_multi_yr_tran_p65_greater[\"TUCASEID\"].apply(str).str.startswith(\"2014\")]\n",
    "atus_2015_tran_p65_greater = atus_multi_yr_tran_p65_greater[atus_multi_yr_tran_p65_greater[\"TUCASEID\"].apply(str).str.startswith(\"2015\")]\n",
    "atus_2016_tran_p65_greater = atus_multi_yr_tran_p65_greater[atus_multi_yr_tran_p65_greater[\"TUCASEID\"].apply(str).str.startswith(\"2016\")]\n",
    "atus_2017_tran_p65_greater = atus_multi_yr_tran_p65_greater[atus_multi_yr_tran_p65_greater[\"TUCASEID\"].apply(str).str.startswith(\"2017\")]\n",
    "atus_2018_tran_p65_greater = atus_multi_yr_tran_p65_greater[atus_multi_yr_tran_p65_greater[\"TUCASEID\"].apply(str).str.startswith(\"2018\")]\n",
    "atus_2019_tran_p65_greater = atus_multi_yr_tran_p65_greater[atus_multi_yr_tran_p65_greater[\"TUCASEID\"].apply(str).str.startswith(\"2019\")]\n",
    "#atus_2003_tran_p65_greater"
   ]
  },
  {
   "cell_type": "code",
   "execution_count": 180,
   "metadata": {},
   "outputs": [],
   "source": [
    "atus_2003_tran_p65_greater = atus_2003_tran_p65_greater.groupby([\"TUCASEID\"]).sum().filter([\"TUCASEID\", \"TUACTDUR24\"])\n",
    "#atus_2003_tran_p65_greater"
   ]
  },
  {
   "cell_type": "code",
   "execution_count": 181,
   "metadata": {},
   "outputs": [],
   "source": [
    "atus_2003_tran_p65_greater_merge = pd.merge(atus_2003_tran_p65_greater, multi_resp, on= \"TUCASEID\").filter([\"TUCASEID\",\"TUACTDUR24\",\"TUFNWGTP\"])\n",
    "#atus_2003_tran_p65_greater_merge"
   ]
  },
  {
   "cell_type": "code",
   "execution_count": 182,
   "metadata": {},
   "outputs": [],
   "source": [
    "atus_2003_tran_p65_greater_merge[\"Multiplied Weight\"] = atus_2003_tran_p65_greater_merge[\"TUACTDUR24\"] * atus_2003_tran_p65_greater_merge[\"TUFNWGTP\"]\n",
    "#atus_2003_tran_p65_greater_merge"
   ]
  },
  {
   "cell_type": "code",
   "execution_count": 183,
   "metadata": {},
   "outputs": [
    {
     "data": {
      "text/plain": [
       "610165911846.4021"
      ]
     },
     "execution_count": 183,
     "metadata": {},
     "output_type": "execute_result"
    }
   ],
   "source": [
    "atus_2003_tran_p65_greater_multiplied_weight = atus_2003_tran_p65_greater_merge[\"Multiplied Weight\"].sum()\n",
    "atus_2003_tran_p65_greater_multiplied_weight"
   ]
  },
  {
   "cell_type": "code",
   "execution_count": 184,
   "metadata": {},
   "outputs": [
    {
     "data": {
      "text/plain": [
       "0.8133794315151159"
      ]
     },
     "execution_count": 184,
     "metadata": {},
     "output_type": "execute_result"
    }
   ],
   "source": [
    "atus_2003_tran_p65_greater_hpd = atus_2003_tran_p65_greater_multiplied_weight / atus_2003_p65_greater_weight / 60\n",
    "atus_2003_tran_p65_greater_hpd"
   ]
  },
  {
   "cell_type": "markdown",
   "metadata": {},
   "source": [
    "### 2004 Transportation"
   ]
  },
  {
   "cell_type": "code",
   "execution_count": 185,
   "metadata": {},
   "outputs": [],
   "source": [
    "atus_2004_tran_p65_greater = atus_2004_tran_p65_greater.groupby([\"TUCASEID\"]).sum().filter([\"TUCASEID\", \"TUACTDUR24\"])\n",
    "atus_2004_tran_p65_greater_merge = pd.merge(atus_2004_tran_p65_greater, multi_resp, on= \"TUCASEID\").filter([\"TUCASEID\",\"TUACTDUR24\",\"TUFNWGTP\"])\n",
    "#atus_2004_tran_p65_greater_merge"
   ]
  },
  {
   "cell_type": "code",
   "execution_count": 186,
   "metadata": {},
   "outputs": [
    {
     "data": {
      "text/plain": [
       "651618961851.6833"
      ]
     },
     "execution_count": 186,
     "metadata": {},
     "output_type": "execute_result"
    }
   ],
   "source": [
    "atus_2004_tran_p65_greater_merge[\"Multiplied Weight\"] = atus_2004_tran_p65_greater_merge[\"TUACTDUR24\"] * atus_2004_tran_p65_greater_merge[\"TUFNWGTP\"]\n",
    "atus_2004_tran_p65_greater_multiplied_weight = atus_2004_tran_p65_greater_merge[\"Multiplied Weight\"].sum()\n",
    "atus_2004_tran_p65_greater_multiplied_weight"
   ]
  },
  {
   "cell_type": "code",
   "execution_count": 187,
   "metadata": {},
   "outputs": [
    {
     "data": {
      "text/plain": [
       "0.8573439489104104"
      ]
     },
     "execution_count": 187,
     "metadata": {},
     "output_type": "execute_result"
    }
   ],
   "source": [
    "atus_2004_tran_p65_greater_hpd = atus_2004_tran_p65_greater_multiplied_weight / atus_2004_p65_greater_weight / 60\n",
    "atus_2004_tran_p65_greater_hpd"
   ]
  },
  {
   "cell_type": "markdown",
   "metadata": {},
   "source": [
    "### 2005 Transportation"
   ]
  },
  {
   "cell_type": "code",
   "execution_count": 188,
   "metadata": {},
   "outputs": [],
   "source": [
    "atus_2005_tran_p65_greater = atus_2005_tran_p65_greater.groupby([\"TUCASEID\"]).sum().filter([\"TUCASEID\", \"TUACTDUR24\"])\n",
    "atus_2005_tran_p65_greater_merge = pd.merge(atus_2005_tran_p65_greater, multi_resp, on= \"TUCASEID\").filter([\"TUCASEID\",\"TUACTDUR24\",\"TUFNWGTP\"])\n",
    "#atus_2005_tran_p65_greater_merge"
   ]
  },
  {
   "cell_type": "code",
   "execution_count": 189,
   "metadata": {},
   "outputs": [
    {
     "data": {
      "text/plain": [
       "666496224931.4999"
      ]
     },
     "execution_count": 189,
     "metadata": {},
     "output_type": "execute_result"
    }
   ],
   "source": [
    "atus_2005_tran_p65_greater_merge[\"Multiplied Weight\"] = atus_2005_tran_p65_greater_merge[\"TUACTDUR24\"] * atus_2005_tran_p65_greater_merge[\"TUFNWGTP\"]\n",
    "atus_2005_tran_p65_greater_multiplied_weight = atus_2005_tran_p65_greater_merge[\"Multiplied Weight\"].sum()\n",
    "atus_2005_tran_p65_greater_multiplied_weight"
   ]
  },
  {
   "cell_type": "code",
   "execution_count": 190,
   "metadata": {},
   "outputs": [
    {
     "data": {
      "text/plain": [
       "0.867667344916977"
      ]
     },
     "execution_count": 190,
     "metadata": {},
     "output_type": "execute_result"
    }
   ],
   "source": [
    "atus_2005_tran_p65_greater_hpd = atus_2005_tran_p65_greater_multiplied_weight / atus_2005_p65_greater_weight / 60\n",
    "atus_2005_tran_p65_greater_hpd"
   ]
  },
  {
   "cell_type": "markdown",
   "metadata": {},
   "source": [
    "### 2006 Transportation"
   ]
  },
  {
   "cell_type": "code",
   "execution_count": 191,
   "metadata": {},
   "outputs": [],
   "source": [
    "atus_2006_tran_p65_greater = atus_2006_tran_p65_greater.groupby([\"TUCASEID\"]).sum().filter([\"TUCASEID\", \"TUACTDUR24\"])\n",
    "atus_2006_tran_p65_greater_merge = pd.merge(atus_2006_tran_p65_greater, multi_resp, on= \"TUCASEID\").filter([\"TUCASEID\",\"TUACTDUR24\",\"TUFNWGTP\"])\n",
    "#atus_2006_tran_p65_greater_merge"
   ]
  },
  {
   "cell_type": "code",
   "execution_count": 192,
   "metadata": {},
   "outputs": [
    {
     "data": {
      "text/plain": [
       "623389199057.0707"
      ]
     },
     "execution_count": 192,
     "metadata": {},
     "output_type": "execute_result"
    }
   ],
   "source": [
    "atus_2006_tran_p65_greater_merge[\"Multiplied Weight\"] = atus_2006_tran_p65_greater_merge[\"TUACTDUR24\"] * atus_2006_tran_p65_greater_merge[\"TUFNWGTP\"]\n",
    "atus_2006_tran_p65_greater_multiplied_weight = atus_2006_tran_p65_greater_merge[\"Multiplied Weight\"].sum()\n",
    "atus_2006_tran_p65_greater_multiplied_weight"
   ]
  },
  {
   "cell_type": "code",
   "execution_count": 193,
   "metadata": {},
   "outputs": [
    {
     "data": {
      "text/plain": [
       "0.7994189756532959"
      ]
     },
     "execution_count": 193,
     "metadata": {},
     "output_type": "execute_result"
    }
   ],
   "source": [
    "atus_2006_tran_p65_greater_hpd = atus_2006_tran_p65_greater_multiplied_weight / atus_2006_p65_greater_weight / 60\n",
    "atus_2006_tran_p65_greater_hpd"
   ]
  },
  {
   "cell_type": "markdown",
   "metadata": {},
   "source": [
    "### 2007 Transportation"
   ]
  },
  {
   "cell_type": "code",
   "execution_count": 194,
   "metadata": {},
   "outputs": [],
   "source": [
    "atus_2007_tran_p65_greater = atus_2007_tran_p65_greater.groupby([\"TUCASEID\"]).sum().filter([\"TUCASEID\", \"TUACTDUR24\"])\n",
    "atus_2007_tran_p65_greater_merge = pd.merge(atus_2007_tran_p65_greater, multi_resp, on= \"TUCASEID\").filter([\"TUCASEID\",\"TUACTDUR24\",\"TUFNWGTP\"])\n",
    "#atus_2007_tran_p65_greater_merge"
   ]
  },
  {
   "cell_type": "code",
   "execution_count": 195,
   "metadata": {},
   "outputs": [
    {
     "data": {
      "text/plain": [
       "670832789133.789"
      ]
     },
     "execution_count": 195,
     "metadata": {},
     "output_type": "execute_result"
    }
   ],
   "source": [
    "atus_2007_tran_p65_greater_merge[\"Multiplied Weight\"] = atus_2007_tran_p65_greater_merge[\"TUACTDUR24\"] * atus_2007_tran_p65_greater_merge[\"TUFNWGTP\"]\n",
    "atus_2007_tran_p65_greater_multiplied_weight = atus_2007_tran_p65_greater_merge[\"Multiplied Weight\"].sum()\n",
    "atus_2007_tran_p65_greater_multiplied_weight"
   ]
  },
  {
   "cell_type": "code",
   "execution_count": 196,
   "metadata": {},
   "outputs": [
    {
     "data": {
      "text/plain": [
       "0.8456070759168599"
      ]
     },
     "execution_count": 196,
     "metadata": {},
     "output_type": "execute_result"
    }
   ],
   "source": [
    "atus_2007_tran_p65_greater_hpd = atus_2007_tran_p65_greater_multiplied_weight / atus_2007_p65_greater_weight / 60\n",
    "atus_2007_tran_p65_greater_hpd"
   ]
  },
  {
   "cell_type": "markdown",
   "metadata": {},
   "source": [
    "### 2008 Transportation"
   ]
  },
  {
   "cell_type": "code",
   "execution_count": 197,
   "metadata": {},
   "outputs": [],
   "source": [
    "atus_2008_tran_p65_greater = atus_2008_tran_p65_greater.groupby([\"TUCASEID\"]).sum().filter([\"TUCASEID\", \"TUACTDUR24\"])\n",
    "atus_2008_tran_p65_greater_merge = pd.merge(atus_2008_tran_p65_greater, multi_resp, on= \"TUCASEID\").filter([\"TUCASEID\",\"TUACTDUR24\",\"TUFNWGTP\"])\n",
    "#atus_2008_tran_p65_greater_merge"
   ]
  },
  {
   "cell_type": "code",
   "execution_count": 198,
   "metadata": {},
   "outputs": [
    {
     "data": {
      "text/plain": [
       "678583679162.3057"
      ]
     },
     "execution_count": 198,
     "metadata": {},
     "output_type": "execute_result"
    }
   ],
   "source": [
    "atus_2008_tran_p65_greater_merge[\"Multiplied Weight\"] = atus_2008_tran_p65_greater_merge[\"TUACTDUR24\"] * atus_2008_tran_p65_greater_merge[\"TUFNWGTP\"]\n",
    "atus_2008_tran_p65_greater_multiplied_weight = atus_2008_tran_p65_greater_merge[\"Multiplied Weight\"].sum()\n",
    "atus_2008_tran_p65_greater_multiplied_weight"
   ]
  },
  {
   "cell_type": "code",
   "execution_count": 199,
   "metadata": {},
   "outputs": [
    {
     "data": {
      "text/plain": [
       "0.8314918161462631"
      ]
     },
     "execution_count": 199,
     "metadata": {},
     "output_type": "execute_result"
    }
   ],
   "source": [
    "atus_2008_tran_p65_greater_hpd = atus_2008_tran_p65_greater_multiplied_weight / atus_2008_p65_greater_weight / 60\n",
    "atus_2008_tran_p65_greater_hpd"
   ]
  },
  {
   "cell_type": "markdown",
   "metadata": {},
   "source": [
    "### 2009 Transportation"
   ]
  },
  {
   "cell_type": "code",
   "execution_count": 200,
   "metadata": {},
   "outputs": [],
   "source": [
    "atus_2009_tran_p65_greater = atus_2009_tran_p65_greater.groupby([\"TUCASEID\"]).sum().filter([\"TUCASEID\", \"TUACTDUR24\"])\n",
    "atus_2009_tran_p65_greater_merge = pd.merge(atus_2009_tran_p65_greater, multi_resp, on= \"TUCASEID\").filter([\"TUCASEID\",\"TUACTDUR24\",\"TUFNWGTP\"])\n",
    "#atus_2009_tran_p65_greater_merge"
   ]
  },
  {
   "cell_type": "code",
   "execution_count": 201,
   "metadata": {},
   "outputs": [
    {
     "data": {
      "text/plain": [
       "649791030324.7933"
      ]
     },
     "execution_count": 201,
     "metadata": {},
     "output_type": "execute_result"
    }
   ],
   "source": [
    "atus_2009_tran_p65_greater_merge[\"Multiplied Weight\"] = atus_2009_tran_p65_greater_merge[\"TUACTDUR24\"] * atus_2009_tran_p65_greater_merge[\"TUFNWGTP\"]\n",
    "atus_2009_tran_p65_greater_multiplied_weight = atus_2009_tran_p65_greater_merge[\"Multiplied Weight\"].sum()\n",
    "atus_2009_tran_p65_greater_multiplied_weight"
   ]
  },
  {
   "cell_type": "code",
   "execution_count": 202,
   "metadata": {},
   "outputs": [
    {
     "data": {
      "text/plain": [
       "0.7809265504085018"
      ]
     },
     "execution_count": 202,
     "metadata": {},
     "output_type": "execute_result"
    }
   ],
   "source": [
    "atus_2009_tran_p65_greater_hpd = atus_2009_tran_p65_greater_multiplied_weight / atus_2009_p65_greater_weight / 60\n",
    "atus_2009_tran_p65_greater_hpd"
   ]
  },
  {
   "cell_type": "markdown",
   "metadata": {},
   "source": [
    "### 2010 Transportation"
   ]
  },
  {
   "cell_type": "code",
   "execution_count": 203,
   "metadata": {},
   "outputs": [],
   "source": [
    "atus_2010_tran_p65_greater = atus_2010_tran_p65_greater.groupby([\"TUCASEID\"]).sum().filter([\"TUCASEID\", \"TUACTDUR24\"])\n",
    "atus_2010_tran_p65_greater_merge = pd.merge(atus_2010_tran_p65_greater, multi_resp, on= \"TUCASEID\").filter([\"TUCASEID\",\"TUACTDUR24\",\"TUFNWGTP\"])\n",
    "#atus_2010_tran_p65_greater_merge"
   ]
  },
  {
   "cell_type": "code",
   "execution_count": 204,
   "metadata": {},
   "outputs": [
    {
     "data": {
      "text/plain": [
       "652146711707.5493"
      ]
     },
     "execution_count": 204,
     "metadata": {},
     "output_type": "execute_result"
    }
   ],
   "source": [
    "atus_2010_tran_p65_greater_merge[\"Multiplied Weight\"] = atus_2010_tran_p65_greater_merge[\"TUACTDUR24\"] * atus_2010_tran_p65_greater_merge[\"TUFNWGTP\"]\n",
    "atus_2010_tran_p65_greater_multiplied_weight = atus_2010_tran_p65_greater_merge[\"Multiplied Weight\"].sum()\n",
    "atus_2010_tran_p65_greater_multiplied_weight"
   ]
  },
  {
   "cell_type": "code",
   "execution_count": 205,
   "metadata": {},
   "outputs": [
    {
     "data": {
      "text/plain": [
       "0.7694544923404832"
      ]
     },
     "execution_count": 205,
     "metadata": {},
     "output_type": "execute_result"
    }
   ],
   "source": [
    "atus_2010_tran_p65_greater_hpd = atus_2010_tran_p65_greater_multiplied_weight / atus_2010_p65_greater_weight / 60\n",
    "atus_2010_tran_p65_greater_hpd"
   ]
  },
  {
   "cell_type": "markdown",
   "metadata": {},
   "source": [
    "### 2011 Transportation"
   ]
  },
  {
   "cell_type": "code",
   "execution_count": 206,
   "metadata": {},
   "outputs": [],
   "source": [
    "atus_2011_tran_p65_greater = atus_2011_tran_p65_greater.groupby([\"TUCASEID\"]).sum().filter([\"TUCASEID\", \"TUACTDUR24\"])\n",
    "atus_2011_tran_p65_greater_merge = pd.merge(atus_2011_tran_p65_greater, multi_resp, on= \"TUCASEID\").filter([\"TUCASEID\",\"TUACTDUR24\",\"TUFNWGTP\"])\n",
    "#atus_2011_tran_p65_greater_merge"
   ]
  },
  {
   "cell_type": "code",
   "execution_count": 207,
   "metadata": {},
   "outputs": [
    {
     "data": {
      "text/plain": [
       "738225404285.7114"
      ]
     },
     "execution_count": 207,
     "metadata": {},
     "output_type": "execute_result"
    }
   ],
   "source": [
    "atus_2011_tran_p65_greater_merge[\"Multiplied Weight\"] = atus_2011_tran_p65_greater_merge[\"TUACTDUR24\"] * atus_2011_tran_p65_greater_merge[\"TUFNWGTP\"]\n",
    "atus_2011_tran_p65_greater_multiplied_weight = atus_2011_tran_p65_greater_merge[\"Multiplied Weight\"].sum()\n",
    "atus_2011_tran_p65_greater_multiplied_weight"
   ]
  },
  {
   "cell_type": "code",
   "execution_count": 208,
   "metadata": {},
   "outputs": [
    {
     "data": {
      "text/plain": [
       "0.8486321564130771"
      ]
     },
     "execution_count": 208,
     "metadata": {},
     "output_type": "execute_result"
    }
   ],
   "source": [
    "atus_2011_tran_p65_greater_hpd = atus_2011_tran_p65_greater_multiplied_weight / atus_2011_p65_greater_weight / 60\n",
    "atus_2011_tran_p65_greater_hpd"
   ]
  },
  {
   "cell_type": "markdown",
   "metadata": {},
   "source": [
    "### 2012 Transportation"
   ]
  },
  {
   "cell_type": "code",
   "execution_count": 209,
   "metadata": {},
   "outputs": [],
   "source": [
    "atus_2012_tran_p65_greater = atus_2012_tran_p65_greater.groupby([\"TUCASEID\"]).sum().filter([\"TUCASEID\", \"TUACTDUR24\"])\n",
    "atus_2012_tran_p65_greater_merge = pd.merge(atus_2012_tran_p65_greater, multi_resp, on= \"TUCASEID\").filter([\"TUCASEID\",\"TUACTDUR24\",\"TUFNWGTP\"])\n",
    "#atus_2012_tran_p65_greater_merge"
   ]
  },
  {
   "cell_type": "code",
   "execution_count": 210,
   "metadata": {},
   "outputs": [
    {
     "data": {
      "text/plain": [
       "754843003968.5518"
      ]
     },
     "execution_count": 210,
     "metadata": {},
     "output_type": "execute_result"
    }
   ],
   "source": [
    "atus_2012_tran_p65_greater_merge[\"Multiplied Weight\"] = atus_2012_tran_p65_greater_merge[\"TUACTDUR24\"] * atus_2012_tran_p65_greater_merge[\"TUFNWGTP\"]\n",
    "atus_2012_tran_p65_greater_multiplied_weight = atus_2012_tran_p65_greater_merge[\"Multiplied Weight\"].sum()\n",
    "atus_2012_tran_p65_greater_multiplied_weight"
   ]
  },
  {
   "cell_type": "code",
   "execution_count": 211,
   "metadata": {},
   "outputs": [
    {
     "data": {
      "text/plain": [
       "0.8209512338915884"
      ]
     },
     "execution_count": 211,
     "metadata": {},
     "output_type": "execute_result"
    }
   ],
   "source": [
    "atus_2012_tran_p65_greater_hpd = atus_2012_tran_p65_greater_multiplied_weight / atus_2012_p65_greater_weight / 60\n",
    "atus_2012_tran_p65_greater_hpd"
   ]
  },
  {
   "cell_type": "markdown",
   "metadata": {},
   "source": [
    "### 2013 Transportation"
   ]
  },
  {
   "cell_type": "code",
   "execution_count": 212,
   "metadata": {},
   "outputs": [],
   "source": [
    "atus_2013_tran_p65_greater = atus_2013_tran_p65_greater.groupby([\"TUCASEID\"]).sum().filter([\"TUCASEID\", \"TUACTDUR24\"])\n",
    "atus_2013_tran_p65_greater_merge = pd.merge(atus_2013_tran_p65_greater, multi_resp, on= \"TUCASEID\").filter([\"TUCASEID\",\"TUACTDUR24\",\"TUFNWGTP\"])\n",
    "#atus_2013_tran_p65_greater_merge"
   ]
  },
  {
   "cell_type": "code",
   "execution_count": 213,
   "metadata": {},
   "outputs": [
    {
     "data": {
      "text/plain": [
       "808934862240.0522"
      ]
     },
     "execution_count": 213,
     "metadata": {},
     "output_type": "execute_result"
    }
   ],
   "source": [
    "atus_2013_tran_p65_greater_merge[\"Multiplied Weight\"] = atus_2013_tran_p65_greater_merge[\"TUACTDUR24\"] * atus_2013_tran_p65_greater_merge[\"TUFNWGTP\"]\n",
    "atus_2013_tran_p65_greater_multiplied_weight = atus_2013_tran_p65_greater_merge[\"Multiplied Weight\"].sum()\n",
    "atus_2013_tran_p65_greater_multiplied_weight"
   ]
  },
  {
   "cell_type": "code",
   "execution_count": 214,
   "metadata": {},
   "outputs": [
    {
     "data": {
      "text/plain": [
       "0.8507907612442291"
      ]
     },
     "execution_count": 214,
     "metadata": {},
     "output_type": "execute_result"
    }
   ],
   "source": [
    "atus_2013_tran_p65_greater_hpd = atus_2013_tran_p65_greater_multiplied_weight / atus_2013_p65_greater_weight / 60\n",
    "atus_2013_tran_p65_greater_hpd"
   ]
  },
  {
   "cell_type": "markdown",
   "metadata": {},
   "source": [
    "### 2014 Transportation"
   ]
  },
  {
   "cell_type": "code",
   "execution_count": 215,
   "metadata": {},
   "outputs": [],
   "source": [
    "atus_2014_tran_p65_greater = atus_2014_tran_p65_greater.groupby([\"TUCASEID\"]).sum().filter([\"TUCASEID\", \"TUACTDUR24\"])\n",
    "atus_2014_tran_p65_greater_merge = pd.merge(atus_2014_tran_p65_greater, multi_resp, on= \"TUCASEID\").filter([\"TUCASEID\",\"TUACTDUR24\",\"TUFNWGTP\"])\n",
    "#atus_2014_tran_p65_greater_merge"
   ]
  },
  {
   "cell_type": "code",
   "execution_count": 216,
   "metadata": {},
   "outputs": [
    {
     "data": {
      "text/plain": [
       "762069508366.5197"
      ]
     },
     "execution_count": 216,
     "metadata": {},
     "output_type": "execute_result"
    }
   ],
   "source": [
    "atus_2014_tran_p65_greater_merge[\"Multiplied Weight\"] = atus_2014_tran_p65_greater_merge[\"TUACTDUR24\"] * atus_2014_tran_p65_greater_merge[\"TUFNWGTP\"]\n",
    "atus_2014_tran_p65_greater_multiplied_weight = atus_2014_tran_p65_greater_merge[\"Multiplied Weight\"].sum()\n",
    "atus_2014_tran_p65_greater_multiplied_weight"
   ]
  },
  {
   "cell_type": "code",
   "execution_count": 217,
   "metadata": {},
   "outputs": [
    {
     "data": {
      "text/plain": [
       "0.7739140313278869"
      ]
     },
     "execution_count": 217,
     "metadata": {},
     "output_type": "execute_result"
    }
   ],
   "source": [
    "atus_2014_tran_p65_greater_hpd = atus_2014_tran_p65_greater_multiplied_weight / atus_2014_p65_greater_weight / 60\n",
    "atus_2014_tran_p65_greater_hpd"
   ]
  },
  {
   "cell_type": "markdown",
   "metadata": {},
   "source": [
    "### 2015 Transportation"
   ]
  },
  {
   "cell_type": "code",
   "execution_count": 218,
   "metadata": {},
   "outputs": [],
   "source": [
    "atus_2015_tran_p65_greater = atus_2015_tran_p65_greater.groupby([\"TUCASEID\"]).sum().filter([\"TUCASEID\", \"TUACTDUR24\"])\n",
    "atus_2015_tran_p65_greater_merge = pd.merge(atus_2015_tran_p65_greater, multi_resp, on= \"TUCASEID\").filter([\"TUCASEID\",\"TUACTDUR24\",\"TUFNWGTP\"])\n",
    "#atus_2015_tran_p65_greater_merge"
   ]
  },
  {
   "cell_type": "code",
   "execution_count": 219,
   "metadata": {},
   "outputs": [
    {
     "data": {
      "text/plain": [
       "804168591334.6383"
      ]
     },
     "execution_count": 219,
     "metadata": {},
     "output_type": "execute_result"
    }
   ],
   "source": [
    "atus_2015_tran_p65_greater_merge[\"Multiplied Weight\"] = atus_2015_tran_p65_greater_merge[\"TUACTDUR24\"] * atus_2015_tran_p65_greater_merge[\"TUFNWGTP\"]\n",
    "atus_2015_tran_p65_greater_multiplied_weight = atus_2015_tran_p65_greater_merge[\"Multiplied Weight\"].sum()\n",
    "atus_2015_tran_p65_greater_multiplied_weight"
   ]
  },
  {
   "cell_type": "code",
   "execution_count": 220,
   "metadata": {},
   "outputs": [
    {
     "data": {
      "text/plain": [
       "0.7895037529843368"
      ]
     },
     "execution_count": 220,
     "metadata": {},
     "output_type": "execute_result"
    }
   ],
   "source": [
    "atus_2015_tran_p65_greater_hpd = atus_2015_tran_p65_greater_multiplied_weight / atus_2015_p65_greater_weight / 60\n",
    "atus_2015_tran_p65_greater_hpd"
   ]
  },
  {
   "cell_type": "markdown",
   "metadata": {},
   "source": [
    "### 2016 Transportation"
   ]
  },
  {
   "cell_type": "code",
   "execution_count": 221,
   "metadata": {},
   "outputs": [],
   "source": [
    "atus_2016_tran_p65_greater = atus_2016_tran_p65_greater.groupby([\"TUCASEID\"]).sum().filter([\"TUCASEID\", \"TUACTDUR24\"])\n",
    "atus_2016_tran_p65_greater_merge = pd.merge(atus_2016_tran_p65_greater, multi_resp, on= \"TUCASEID\").filter([\"TUCASEID\",\"TUACTDUR24\",\"TUFNWGTP\"])\n",
    "#atus_2016_tran_p65_greater_merge"
   ]
  },
  {
   "cell_type": "code",
   "execution_count": 222,
   "metadata": {},
   "outputs": [
    {
     "data": {
      "text/plain": [
       "922705328905.0587"
      ]
     },
     "execution_count": 222,
     "metadata": {},
     "output_type": "execute_result"
    }
   ],
   "source": [
    "atus_2016_tran_p65_greater_merge[\"Multiplied Weight\"] = atus_2016_tran_p65_greater_merge[\"TUACTDUR24\"] * atus_2016_tran_p65_greater_merge[\"TUFNWGTP\"]\n",
    "atus_2016_tran_p65_greater_multiplied_weight = atus_2016_tran_p65_greater_merge[\"Multiplied Weight\"].sum()\n",
    "atus_2016_tran_p65_greater_multiplied_weight"
   ]
  },
  {
   "cell_type": "code",
   "execution_count": 223,
   "metadata": {},
   "outputs": [
    {
     "data": {
      "text/plain": [
       "0.8748131610927071"
      ]
     },
     "execution_count": 223,
     "metadata": {},
     "output_type": "execute_result"
    }
   ],
   "source": [
    "atus_2016_tran_p65_greater_hpd = atus_2016_tran_p65_greater_multiplied_weight / atus_2016_p65_greater_weight / 60\n",
    "atus_2016_tran_p65_greater_hpd"
   ]
  },
  {
   "cell_type": "markdown",
   "metadata": {},
   "source": [
    "### 2017 Transportation"
   ]
  },
  {
   "cell_type": "code",
   "execution_count": 224,
   "metadata": {},
   "outputs": [],
   "source": [
    "atus_2017_tran_p65_greater = atus_2017_tran_p65_greater.groupby([\"TUCASEID\"]).sum().filter([\"TUCASEID\", \"TUACTDUR24\"])\n",
    "atus_2017_tran_p65_greater_merge = pd.merge(atus_2017_tran_p65_greater, multi_resp, on= \"TUCASEID\").filter([\"TUCASEID\",\"TUACTDUR24\",\"TUFNWGTP\"])\n",
    "#atus_2017_tran_p65_greater_merge"
   ]
  },
  {
   "cell_type": "code",
   "execution_count": 225,
   "metadata": {},
   "outputs": [
    {
     "data": {
      "text/plain": [
       "953545122989.3162"
      ]
     },
     "execution_count": 225,
     "metadata": {},
     "output_type": "execute_result"
    }
   ],
   "source": [
    "atus_2017_tran_p65_greater_merge[\"Multiplied Weight\"] = atus_2017_tran_p65_greater_merge[\"TUACTDUR24\"] * atus_2017_tran_p65_greater_merge[\"TUFNWGTP\"]\n",
    "atus_2017_tran_p65_greater_multiplied_weight = atus_2017_tran_p65_greater_merge[\"Multiplied Weight\"].sum()\n",
    "atus_2017_tran_p65_greater_multiplied_weight"
   ]
  },
  {
   "cell_type": "code",
   "execution_count": 226,
   "metadata": {},
   "outputs": [
    {
     "data": {
      "text/plain": [
       "0.8788168307431727"
      ]
     },
     "execution_count": 226,
     "metadata": {},
     "output_type": "execute_result"
    }
   ],
   "source": [
    "atus_2017_tran_p65_greater_hpd = atus_2017_tran_p65_greater_multiplied_weight / atus_2017_p65_greater_weight / 60\n",
    "atus_2017_tran_p65_greater_hpd"
   ]
  },
  {
   "cell_type": "markdown",
   "metadata": {},
   "source": [
    "### 2018 Transportation"
   ]
  },
  {
   "cell_type": "code",
   "execution_count": 227,
   "metadata": {},
   "outputs": [],
   "source": [
    "atus_2018_tran_p65_greater = atus_2018_tran_p65_greater.groupby([\"TUCASEID\"]).sum().filter([\"TUCASEID\", \"TUACTDUR24\"])\n",
    "atus_2018_tran_p65_greater_merge = pd.merge(atus_2018_tran_p65_greater, multi_resp, on= \"TUCASEID\").filter([\"TUCASEID\",\"TUACTDUR24\",\"TUFNWGTP\"])\n",
    "#atus_2018_tran_p65_greater_merge"
   ]
  },
  {
   "cell_type": "code",
   "execution_count": 228,
   "metadata": {},
   "outputs": [
    {
     "data": {
      "text/plain": [
       "954260585912.9448"
      ]
     },
     "execution_count": 228,
     "metadata": {},
     "output_type": "execute_result"
    }
   ],
   "source": [
    "atus_2018_tran_p65_greater_merge[\"Multiplied Weight\"] = atus_2018_tran_p65_greater_merge[\"TUACTDUR24\"] * atus_2018_tran_p65_greater_merge[\"TUFNWGTP\"]\n",
    "atus_2018_tran_p65_greater_multiplied_weight = atus_2018_tran_p65_greater_merge[\"Multiplied Weight\"].sum()\n",
    "atus_2018_tran_p65_greater_multiplied_weight"
   ]
  },
  {
   "cell_type": "code",
   "execution_count": 229,
   "metadata": {},
   "outputs": [
    {
     "data": {
      "text/plain": [
       "0.8495705079993743"
      ]
     },
     "execution_count": 229,
     "metadata": {},
     "output_type": "execute_result"
    }
   ],
   "source": [
    "atus_2018_tran_p65_greater_hpd = atus_2018_tran_p65_greater_multiplied_weight / atus_2018_p65_greater_weight / 60\n",
    "atus_2018_tran_p65_greater_hpd"
   ]
  },
  {
   "cell_type": "markdown",
   "metadata": {},
   "source": [
    "### 2019 Transportation"
   ]
  },
  {
   "cell_type": "code",
   "execution_count": 230,
   "metadata": {},
   "outputs": [],
   "source": [
    "atus_2019_tran_p65_greater = atus_2019_tran_p65_greater.groupby([\"TUCASEID\"]).sum().filter([\"TUCASEID\", \"TUACTDUR24\"])\n",
    "atus_2019_tran_p65_greater_merge = pd.merge(atus_2019_tran_p65_greater, multi_resp, on= \"TUCASEID\").filter([\"TUCASEID\",\"TUACTDUR24\",\"TUFNWGTP\"])\n",
    "#atus_2019_tran_p65_greater_merge"
   ]
  },
  {
   "cell_type": "code",
   "execution_count": 231,
   "metadata": {},
   "outputs": [
    {
     "data": {
      "text/plain": [
       "991651238048.5181"
      ]
     },
     "execution_count": 231,
     "metadata": {},
     "output_type": "execute_result"
    }
   ],
   "source": [
    "atus_2019_tran_p65_greater_merge[\"Multiplied Weight\"] = atus_2019_tran_p65_greater_merge[\"TUACTDUR24\"] * atus_2019_tran_p65_greater_merge[\"TUFNWGTP\"]\n",
    "atus_2019_tran_p65_greater_multiplied_weight = atus_2019_tran_p65_greater_merge[\"Multiplied Weight\"].sum()\n",
    "atus_2019_tran_p65_greater_multiplied_weight"
   ]
  },
  {
   "cell_type": "code",
   "execution_count": 232,
   "metadata": {},
   "outputs": [
    {
     "data": {
      "text/plain": [
       "0.855800640225353"
      ]
     },
     "execution_count": 232,
     "metadata": {},
     "output_type": "execute_result"
    }
   ],
   "source": [
    "atus_2019_tran_p65_greater_hpd = atus_2019_tran_p65_greater_multiplied_weight / atus_2019_p65_greater_weight / 60\n",
    "atus_2019_tran_p65_greater_hpd"
   ]
  },
  {
   "cell_type": "markdown",
   "metadata": {},
   "source": [
    "### Regresssion: Transportation - Age Between 65 or Greater "
   ]
  },
  {
   "cell_type": "markdown",
   "metadata": {},
   "source": [
    "#### 2003 -2012 Regression"
   ]
  },
  {
   "cell_type": "code",
   "execution_count": 233,
   "metadata": {},
   "outputs": [],
   "source": [
    "year = np.array([2003, 2004, 2005, 2006, 2007, 2008, 2009, 2010,2011,2012]).reshape((-1, 1))\n",
    "activity_hours_per_day = np.array([atus_2003_tran_p65_greater_hpd, atus_2004_tran_p65_greater_hpd, atus_2005_tran_p65_greater_hpd,\n",
    "                                   atus_2006_tran_p65_greater_hpd, atus_2007_tran_p65_greater_hpd, atus_2008_tran_p65_greater_hpd,\n",
    "                                   atus_2009_tran_p65_greater_hpd, atus_2010_tran_p65_greater_hpd, atus_2011_tran_p65_greater_hpd,\n",
    "                                   atus_2012_tran_p65_greater_hpd]).reshape((-1, 1))\n",
    "\n",
    "activity_hours_per_yr = [i * 365 for i in activity_hours_per_day]\n",
    "#activity_hours_per_yr"
   ]
  },
  {
   "cell_type": "code",
   "execution_count": 234,
   "metadata": {},
   "outputs": [
    {
     "data": {
      "image/png": "[encoded data removed]",
      "text/plain": [
       "<Figure size 432x288 with 1 Axes>"
      ]
     },
     "metadata": {
      "needs_background": "light"
     },
     "output_type": "display_data"
    }
   ],
   "source": [
    "x = year\n",
    "y = activity_hours_per_yr\n",
    "x, y = np.array(x), np.array(y)\n",
    "\n",
    "model = LinearRegression().fit(x, y)\n",
    "\n",
    "y_pred = model.predict(x)  \n",
    "\n",
    "plt.scatter(x, y)\n",
    "plt.plot(x, y_pred, color='red')\n",
    "plt.show()"
   ]
  },
  {
   "cell_type": "code",
   "execution_count": 235,
   "metadata": {},
   "outputs": [
    {
     "data": {
      "text/plain": [
       "0.09568011056429382"
      ]
     },
     "execution_count": 235,
     "metadata": {},
     "output_type": "execute_result"
    }
   ],
   "source": [
    "coefficient_of_determination = model.score(x,y) #R sqaure value \n",
    "coefficient_of_determination"
   ]
  },
  {
   "cell_type": "code",
   "execution_count": 236,
   "metadata": {},
   "outputs": [
    {
     "data": {
      "text/plain": [
       "array([[-1.22439388]])"
      ]
     },
     "execution_count": 236,
     "metadata": {},
     "output_type": "execute_result"
    }
   ],
   "source": [
    "tran_2012_p65_greater_slope = model.coef_\n",
    "tran_2012_p65_greater_slope"
   ]
  },
  {
   "cell_type": "markdown",
   "metadata": {},
   "source": [
    "#### 2003 -2019 Regression"
   ]
  },
  {
   "cell_type": "code",
   "execution_count": 237,
   "metadata": {},
   "outputs": [],
   "source": [
    "year = np.array([2003, 2004, 2005, 2006, 2007, 2008, 2009, 2010,2011,2012, 2013, 2014, 2015, 2016, 2017, 2018, 2019]).reshape((-1, 1))\n",
    "activity_hours_per_day = np.array([atus_2003_tran_p65_greater_hpd, atus_2004_tran_p65_greater_hpd, atus_2005_tran_p65_greater_hpd,\n",
    "                                   atus_2006_tran_p65_greater_hpd, atus_2007_tran_p65_greater_hpd, atus_2008_tran_p65_greater_hpd,\n",
    "                                   atus_2009_tran_p65_greater_hpd, atus_2010_tran_p65_greater_hpd, atus_2011_tran_p65_greater_hpd,\n",
    "                                   atus_2012_tran_p65_greater_hpd, atus_2013_tran_p65_greater_hpd, atus_2014_tran_p65_greater_hpd,\n",
    "                                   atus_2015_tran_p65_greater_hpd, atus_2016_tran_p65_greater_hpd, atus_2017_tran_p65_greater_hpd,\n",
    "                                   atus_2018_tran_p65_greater_hpd, atus_2019_tran_p65_greater_hpd]).reshape((-1, 1))\n",
    "\n",
    "activity_hours_per_yr = [i * 365 for i in activity_hours_per_day]\n",
    "#activity_hours_per_yr"
   ]
  },
  {
   "cell_type": "code",
   "execution_count": 238,
   "metadata": {},
   "outputs": [
    {
     "data": {
      "image/png": "[encoded data removed]",
      "text/plain": [
       "<Figure size 432x288 with 1 Axes>"
      ]
     },
     "metadata": {
      "needs_background": "light"
     },
     "output_type": "display_data"
    }
   ],
   "source": [
    "x = year\n",
    "y = activity_hours_per_yr\n",
    "x, y = np.array(x), np.array(y)\n",
    "\n",
    "model = LinearRegression().fit(x, y)\n",
    "\n",
    "y_pred = model.predict(x)  \n",
    "\n",
    "plt.scatter(x, y)\n",
    "plt.plot(x, y_pred, color='red')\n",
    "plt.show()"
   ]
  },
  {
   "cell_type": "code",
   "execution_count": 239,
   "metadata": {},
   "outputs": [
    {
     "data": {
      "text/plain": [
       "0.03224359670688837"
      ]
     },
     "execution_count": 239,
     "metadata": {},
     "output_type": "execute_result"
    }
   ],
   "source": [
    "coefficient_of_determination = model.score(x,y) #R sqaure value \n",
    "coefficient_of_determination"
   ]
  },
  {
   "cell_type": "code",
   "execution_count": 240,
   "metadata": {},
   "outputs": [
    {
     "data": {
      "text/plain": [
       "array([[0.46779218]])"
      ]
     },
     "execution_count": 240,
     "metadata": {},
     "output_type": "execute_result"
    }
   ],
   "source": [
    "tran_2019_p65_greater_slope = model.coef_\n",
    "tran_2019_p65_greater_slope"
   ]
  },
  {
   "cell_type": "markdown",
   "metadata": {},
   "source": [
    "### 2003-2019 - Unspecified- Age Between 65 or Greater "
   ]
  },
  {
   "cell_type": "code",
   "execution_count": 241,
   "metadata": {},
   "outputs": [],
   "source": [
    "#unspecified = 89, 89 = Unspecified place"
   ]
  },
  {
   "cell_type": "code",
   "execution_count": 242,
   "metadata": {},
   "outputs": [
    {
     "data": {
      "text/html": [
       "<div>\n",
       "<style scoped>\n",
       "    .dataframe tbody tr th:only-of-type {\n",
       "        vertical-align: middle;\n",
       "    }\n",
       "\n",
       "    .dataframe tbody tr th {\n",
       "        vertical-align: top;\n",
       "    }\n",
       "\n",
       "    .dataframe thead th {\n",
       "        text-align: right;\n",
       "    }\n",
       "</style>\n",
       "<table border=\"1\" class=\"dataframe\">\n",
       "  <thead>\n",
       "    <tr style=\"text-align: right;\">\n",
       "      <th></th>\n",
       "      <th>TUCASEID</th>\n",
       "      <th>TUACTDUR24</th>\n",
       "      <th>TUCUMDUR</th>\n",
       "      <th>TRTIER1P</th>\n",
       "      <th>TRTIER2P</th>\n",
       "      <th>TRCODEP</th>\n",
       "      <th>TEWHERE</th>\n",
       "      <th>TEAGE</th>\n",
       "      <th>TUFNWGTP</th>\n",
       "      <th>TUSTARTTIM</th>\n",
       "      <th>TUSTOPTIME</th>\n",
       "      <th>TUYEAR</th>\n",
       "    </tr>\n",
       "  </thead>\n",
       "  <tbody>\n",
       "    <tr>\n",
       "      <th>3075</th>\n",
       "      <td>20030101032209</td>\n",
       "      <td>10</td>\n",
       "      <td>400</td>\n",
       "      <td>13</td>\n",
       "      <td>1301</td>\n",
       "      <td>130131</td>\n",
       "      <td>89</td>\n",
       "      <td>78</td>\n",
       "      <td>7.554146e+06</td>\n",
       "      <td>10:30:00</td>\n",
       "      <td>10:40:00</td>\n",
       "      <td>2003</td>\n",
       "    </tr>\n",
       "    <tr>\n",
       "      <th>3588</th>\n",
       "      <td>20030101032616</td>\n",
       "      <td>10</td>\n",
       "      <td>750</td>\n",
       "      <td>04</td>\n",
       "      <td>0405</td>\n",
       "      <td>040508</td>\n",
       "      <td>89</td>\n",
       "      <td>65</td>\n",
       "      <td>1.387219e+06</td>\n",
       "      <td>16:20:00</td>\n",
       "      <td>16:30:00</td>\n",
       "      <td>2003</td>\n",
       "    </tr>\n",
       "    <tr>\n",
       "      <th>11079</th>\n",
       "      <td>20030112020527</td>\n",
       "      <td>40</td>\n",
       "      <td>855</td>\n",
       "      <td>13</td>\n",
       "      <td>1301</td>\n",
       "      <td>130131</td>\n",
       "      <td>89</td>\n",
       "      <td>68</td>\n",
       "      <td>3.458008e+06</td>\n",
       "      <td>17:35:00</td>\n",
       "      <td>18:15:00</td>\n",
       "      <td>2003</td>\n",
       "    </tr>\n",
       "    <tr>\n",
       "      <th>16024</th>\n",
       "      <td>20030112021166</td>\n",
       "      <td>1</td>\n",
       "      <td>158</td>\n",
       "      <td>04</td>\n",
       "      <td>0405</td>\n",
       "      <td>040507</td>\n",
       "      <td>89</td>\n",
       "      <td>73</td>\n",
       "      <td>7.191578e+06</td>\n",
       "      <td>06:37:00</td>\n",
       "      <td>06:38:00</td>\n",
       "      <td>2003</td>\n",
       "    </tr>\n",
       "    <tr>\n",
       "      <th>16036</th>\n",
       "      <td>20030112021166</td>\n",
       "      <td>5</td>\n",
       "      <td>750</td>\n",
       "      <td>04</td>\n",
       "      <td>0405</td>\n",
       "      <td>040507</td>\n",
       "      <td>89</td>\n",
       "      <td>73</td>\n",
       "      <td>7.191578e+06</td>\n",
       "      <td>16:25:00</td>\n",
       "      <td>16:30:00</td>\n",
       "      <td>2003</td>\n",
       "    </tr>\n",
       "    <tr>\n",
       "      <th>...</th>\n",
       "      <td>...</td>\n",
       "      <td>...</td>\n",
       "      <td>...</td>\n",
       "      <td>...</td>\n",
       "      <td>...</td>\n",
       "      <td>...</td>\n",
       "      <td>...</td>\n",
       "      <td>...</td>\n",
       "      <td>...</td>\n",
       "      <td>...</td>\n",
       "      <td>...</td>\n",
       "      <td>...</td>\n",
       "    </tr>\n",
       "    <tr>\n",
       "      <th>4119063</th>\n",
       "      <td>20191212190533</td>\n",
       "      <td>45</td>\n",
       "      <td>1035</td>\n",
       "      <td>13</td>\n",
       "      <td>1301</td>\n",
       "      <td>130131</td>\n",
       "      <td>89</td>\n",
       "      <td>76</td>\n",
       "      <td>5.368955e+06</td>\n",
       "      <td>20:30:00</td>\n",
       "      <td>21:15:00</td>\n",
       "      <td>2019</td>\n",
       "    </tr>\n",
       "    <tr>\n",
       "      <th>4120048</th>\n",
       "      <td>20191212191450</td>\n",
       "      <td>41</td>\n",
       "      <td>448</td>\n",
       "      <td>04</td>\n",
       "      <td>0405</td>\n",
       "      <td>040508</td>\n",
       "      <td>89</td>\n",
       "      <td>68</td>\n",
       "      <td>2.445740e+06</td>\n",
       "      <td>10:47:00</td>\n",
       "      <td>11:28:00</td>\n",
       "      <td>2019</td>\n",
       "    </tr>\n",
       "    <tr>\n",
       "      <th>4120912</th>\n",
       "      <td>20191212191980</td>\n",
       "      <td>12</td>\n",
       "      <td>422</td>\n",
       "      <td>03</td>\n",
       "      <td>0305</td>\n",
       "      <td>030504</td>\n",
       "      <td>89</td>\n",
       "      <td>67</td>\n",
       "      <td>1.975811e+07</td>\n",
       "      <td>10:50:00</td>\n",
       "      <td>11:02:00</td>\n",
       "      <td>2019</td>\n",
       "    </tr>\n",
       "    <tr>\n",
       "      <th>4120914</th>\n",
       "      <td>20191212191980</td>\n",
       "      <td>10</td>\n",
       "      <td>437</td>\n",
       "      <td>03</td>\n",
       "      <td>0305</td>\n",
       "      <td>030504</td>\n",
       "      <td>89</td>\n",
       "      <td>67</td>\n",
       "      <td>1.975811e+07</td>\n",
       "      <td>11:07:00</td>\n",
       "      <td>11:17:00</td>\n",
       "      <td>2019</td>\n",
       "    </tr>\n",
       "    <tr>\n",
       "      <th>4120922</th>\n",
       "      <td>20191212191980</td>\n",
       "      <td>10</td>\n",
       "      <td>597</td>\n",
       "      <td>03</td>\n",
       "      <td>0305</td>\n",
       "      <td>030504</td>\n",
       "      <td>89</td>\n",
       "      <td>67</td>\n",
       "      <td>1.975811e+07</td>\n",
       "      <td>13:47:00</td>\n",
       "      <td>13:57:00</td>\n",
       "      <td>2019</td>\n",
       "    </tr>\n",
       "  </tbody>\n",
       "</table>\n",
       "<p>1816 rows × 12 columns</p>\n",
       "</div>"
      ],
      "text/plain": [
       "               TUCASEID  TUACTDUR24  TUCUMDUR TRTIER1P TRTIER2P TRCODEP  \\\n",
       "3075     20030101032209          10       400       13     1301  130131   \n",
       "3588     20030101032616          10       750       04     0405  040508   \n",
       "11079    20030112020527          40       855       13     1301  130131   \n",
       "16024    20030112021166           1       158       04     0405  040507   \n",
       "16036    20030112021166           5       750       04     0405  040507   \n",
       "...                 ...         ...       ...      ...      ...     ...   \n",
       "4119063  20191212190533          45      1035       13     1301  130131   \n",
       "4120048  20191212191450          41       448       04     0405  040508   \n",
       "4120912  20191212191980          12       422       03     0305  030504   \n",
       "4120914  20191212191980          10       437       03     0305  030504   \n",
       "4120922  20191212191980          10       597       03     0305  030504   \n",
       "\n",
       "         TEWHERE  TEAGE      TUFNWGTP TUSTARTTIM TUSTOPTIME  TUYEAR  \n",
       "3075          89     78  7.554146e+06   10:30:00   10:40:00    2003  \n",
       "3588          89     65  1.387219e+06   16:20:00   16:30:00    2003  \n",
       "11079         89     68  3.458008e+06   17:35:00   18:15:00    2003  \n",
       "16024         89     73  7.191578e+06   06:37:00   06:38:00    2003  \n",
       "16036         89     73  7.191578e+06   16:25:00   16:30:00    2003  \n",
       "...          ...    ...           ...        ...        ...     ...  \n",
       "4119063       89     76  5.368955e+06   20:30:00   21:15:00    2019  \n",
       "4120048       89     68  2.445740e+06   10:47:00   11:28:00    2019  \n",
       "4120912       89     67  1.975811e+07   10:50:00   11:02:00    2019  \n",
       "4120914       89     67  1.975811e+07   11:07:00   11:17:00    2019  \n",
       "4120922       89     67  1.975811e+07   13:47:00   13:57:00    2019  \n",
       "\n",
       "[1816 rows x 12 columns]"
      ]
     },
     "execution_count": 242,
     "metadata": {},
     "output_type": "execute_result"
    }
   ],
   "source": [
    "unspecified_location = [89]\n",
    "atus_multi_yr_unsp_p65_greater = multi_merged_p65_greater[multi_merged_p65_greater[\"TEWHERE\"].isin(unspecified_location)]\n",
    "atus_multi_yr_unsp_p65_greater"
   ]
  },
  {
   "cell_type": "code",
   "execution_count": 243,
   "metadata": {},
   "outputs": [],
   "source": [
    "#atus transportation p65_greater population seperated by year\n",
    "#unsp = unspecified\n",
    "atus_2003_unsp_p65_greater = atus_multi_yr_unsp_p65_greater[atus_multi_yr_unsp_p65_greater[\"TUCASEID\"].apply(str).str.startswith(\"2003\")]\n",
    "atus_2004_unsp_p65_greater = atus_multi_yr_unsp_p65_greater[atus_multi_yr_unsp_p65_greater[\"TUCASEID\"].apply(str).str.startswith(\"2004\")]\n",
    "atus_2005_unsp_p65_greater = atus_multi_yr_unsp_p65_greater[atus_multi_yr_unsp_p65_greater[\"TUCASEID\"].apply(str).str.startswith(\"2005\")]\n",
    "atus_2006_unsp_p65_greater = atus_multi_yr_unsp_p65_greater[atus_multi_yr_unsp_p65_greater[\"TUCASEID\"].apply(str).str.startswith(\"2006\")]\n",
    "atus_2007_unsp_p65_greater = atus_multi_yr_unsp_p65_greater[atus_multi_yr_unsp_p65_greater[\"TUCASEID\"].apply(str).str.startswith(\"2007\")]\n",
    "atus_2008_unsp_p65_greater = atus_multi_yr_unsp_p65_greater[atus_multi_yr_unsp_p65_greater[\"TUCASEID\"].apply(str).str.startswith(\"2008\")]\n",
    "atus_2009_unsp_p65_greater = atus_multi_yr_unsp_p65_greater[atus_multi_yr_unsp_p65_greater[\"TUCASEID\"].apply(str).str.startswith(\"2009\")]\n",
    "atus_2010_unsp_p65_greater = atus_multi_yr_unsp_p65_greater[atus_multi_yr_unsp_p65_greater[\"TUCASEID\"].apply(str).str.startswith(\"2010\")]\n",
    "atus_2011_unsp_p65_greater = atus_multi_yr_unsp_p65_greater[atus_multi_yr_unsp_p65_greater[\"TUCASEID\"].apply(str).str.startswith(\"2011\")]\n",
    "atus_2012_unsp_p65_greater = atus_multi_yr_unsp_p65_greater[atus_multi_yr_unsp_p65_greater[\"TUCASEID\"].apply(str).str.startswith(\"2012\")]\n",
    "atus_2013_unsp_p65_greater = atus_multi_yr_unsp_p65_greater[atus_multi_yr_unsp_p65_greater[\"TUCASEID\"].apply(str).str.startswith(\"2013\")]\n",
    "atus_2014_unsp_p65_greater = atus_multi_yr_unsp_p65_greater[atus_multi_yr_unsp_p65_greater[\"TUCASEID\"].apply(str).str.startswith(\"2014\")]\n",
    "atus_2015_unsp_p65_greater = atus_multi_yr_unsp_p65_greater[atus_multi_yr_unsp_p65_greater[\"TUCASEID\"].apply(str).str.startswith(\"2015\")]\n",
    "atus_2016_unsp_p65_greater = atus_multi_yr_unsp_p65_greater[atus_multi_yr_unsp_p65_greater[\"TUCASEID\"].apply(str).str.startswith(\"2016\")]\n",
    "atus_2017_unsp_p65_greater = atus_multi_yr_unsp_p65_greater[atus_multi_yr_unsp_p65_greater[\"TUCASEID\"].apply(str).str.startswith(\"2017\")]\n",
    "atus_2018_unsp_p65_greater = atus_multi_yr_unsp_p65_greater[atus_multi_yr_unsp_p65_greater[\"TUCASEID\"].apply(str).str.startswith(\"2018\")]\n",
    "atus_2019_unsp_p65_greater = atus_multi_yr_unsp_p65_greater[atus_multi_yr_unsp_p65_greater[\"TUCASEID\"].apply(str).str.startswith(\"2019\")]\n",
    "#atus_2003_unsp_p65_greater\n",
    "#atus_2004_unsp_p65_greater[\"TRCODEP\"]"
   ]
  },
  {
   "cell_type": "markdown",
   "metadata": {},
   "source": [
    "### 2003 Unspecified- Age Between 65 or Greater "
   ]
  },
  {
   "cell_type": "code",
   "execution_count": 244,
   "metadata": {},
   "outputs": [],
   "source": [
    "atus_2003_unsp_p65_greater = atus_2003_unsp_p65_greater.groupby([\"TUCASEID\"]).sum().filter([\"TUCASEID\", \"TUACTDUR24\",])\n",
    "#atus_2003_unsp_p65_greater"
   ]
  },
  {
   "cell_type": "code",
   "execution_count": 245,
   "metadata": {},
   "outputs": [],
   "source": [
    "atus_2003_unsp_p65_greater_merge = pd.merge(atus_2003_unsp_p65_greater, multi_resp, on= \"TUCASEID\").filter([\"TUCASEID\",\"TUACTDUR24\",\"TUFNWGTP\"])\n",
    "#atus_2003_unsp_p65_greater_merge"
   ]
  },
  {
   "cell_type": "code",
   "execution_count": 246,
   "metadata": {},
   "outputs": [],
   "source": [
    "atus_2003_unsp_p65_greater_merge[\"Multiplied Weight\"] = atus_2003_unsp_p65_greater_merge[\"TUACTDUR24\"] * atus_2003_unsp_p65_greater_merge[\"TUFNWGTP\"]\n",
    "#atus_2003_unsp_p65_greater_merge"
   ]
  },
  {
   "cell_type": "code",
   "execution_count": 247,
   "metadata": {},
   "outputs": [
    {
     "data": {
      "text/plain": [
       "21728505483.339104"
      ]
     },
     "execution_count": 247,
     "metadata": {},
     "output_type": "execute_result"
    }
   ],
   "source": [
    "atus_2003_unsp_p65_greater_multiplied_weight = atus_2003_unsp_p65_greater_merge[\"Multiplied Weight\"].sum()\n",
    "atus_2003_unsp_p65_greater_multiplied_weight"
   ]
  },
  {
   "cell_type": "code",
   "execution_count": 248,
   "metadata": {},
   "outputs": [
    {
     "data": {
      "text/plain": [
       "0.028965104563495214"
      ]
     },
     "execution_count": 248,
     "metadata": {},
     "output_type": "execute_result"
    }
   ],
   "source": [
    "atus_2003_unsp_p65_greater_hpd = atus_2003_unsp_p65_greater_multiplied_weight / atus_2003_p65_greater_weight / 60\n",
    "atus_2003_unsp_p65_greater_hpd"
   ]
  },
  {
   "cell_type": "markdown",
   "metadata": {},
   "source": [
    "### 2004 Unspecified- Age Between 65 or Greater "
   ]
  },
  {
   "cell_type": "code",
   "execution_count": 249,
   "metadata": {},
   "outputs": [],
   "source": [
    "atus_2004_unsp_p65_greater = atus_2004_unsp_p65_greater.groupby([\"TUCASEID\"]).sum().filter([\"TUCASEID\", \"TUACTDUR24\"])\n",
    "#atus_2004_unsp_p65_greater"
   ]
  },
  {
   "cell_type": "code",
   "execution_count": 250,
   "metadata": {},
   "outputs": [
    {
     "data": {
      "text/plain": [
       "17618673156.696"
      ]
     },
     "execution_count": 250,
     "metadata": {},
     "output_type": "execute_result"
    }
   ],
   "source": [
    "atus_2004_unsp_p65_greater_merge = pd.merge(atus_2004_unsp_p65_greater, multi_resp, on= \"TUCASEID\").filter([\"TUCASEID\",\"TUACTDUR24\",\"TUFNWGTP\"])\n",
    "\n",
    "atus_2004_unsp_p65_greater_merge[\"Multiplied Weight\"] = atus_2004_unsp_p65_greater_merge[\"TUACTDUR24\"] * atus_2004_unsp_p65_greater_merge[\"TUFNWGTP\"]\n",
    "\n",
    "atus_2004_unsp_p65_greater_multiplied_weight = atus_2004_unsp_p65_greater_merge[\"Multiplied Weight\"].sum()\n",
    "atus_2004_unsp_p65_greater_multiplied_weight"
   ]
  },
  {
   "cell_type": "code",
   "execution_count": 251,
   "metadata": {},
   "outputs": [
    {
     "data": {
      "text/plain": [
       "0.02318112839411469"
      ]
     },
     "execution_count": 251,
     "metadata": {},
     "output_type": "execute_result"
    }
   ],
   "source": [
    "atus_2004_unsp_p65_greater_hpd = atus_2004_unsp_p65_greater_multiplied_weight / atus_2004_p65_greater_weight / 60\n",
    "atus_2004_unsp_p65_greater_hpd"
   ]
  },
  {
   "cell_type": "markdown",
   "metadata": {},
   "source": [
    "### 2005 Unspecified- Age Between 65 or Greater "
   ]
  },
  {
   "cell_type": "code",
   "execution_count": 252,
   "metadata": {},
   "outputs": [],
   "source": [
    "atus_2005_unsp_p65_greater = atus_2005_unsp_p65_greater.groupby([\"TUCASEID\"]).sum().filter([\"TUCASEID\", \"TUACTDUR24\"])\n",
    "#atus_2005_unsp_p65_greater"
   ]
  },
  {
   "cell_type": "code",
   "execution_count": 253,
   "metadata": {},
   "outputs": [
    {
     "data": {
      "text/plain": [
       "14878814135.03657"
      ]
     },
     "execution_count": 253,
     "metadata": {},
     "output_type": "execute_result"
    }
   ],
   "source": [
    "atus_2005_unsp_p65_greater_merge = pd.merge(atus_2005_unsp_p65_greater, multi_resp, on= \"TUCASEID\").filter([\"TUCASEID\",\"TUACTDUR24\",\"TUFNWGTP\"])\n",
    "\n",
    "atus_2005_unsp_p65_greater_merge[\"Multiplied Weight\"] = atus_2005_unsp_p65_greater_merge[\"TUACTDUR24\"] * atus_2005_unsp_p65_greater_merge[\"TUFNWGTP\"]\n",
    "\n",
    "atus_2005_unsp_p65_greater_multiplied_weight = atus_2005_unsp_p65_greater_merge[\"Multiplied Weight\"].sum()\n",
    "atus_2005_unsp_p65_greater_multiplied_weight"
   ]
  },
  {
   "cell_type": "code",
   "execution_count": 254,
   "metadata": {},
   "outputs": [
    {
     "data": {
      "text/plain": [
       "0.019369743853218668"
      ]
     },
     "execution_count": 254,
     "metadata": {},
     "output_type": "execute_result"
    }
   ],
   "source": [
    "atus_2005_unsp_p65_greater_hpd = atus_2005_unsp_p65_greater_multiplied_weight / atus_2005_p65_greater_weight / 60\n",
    "atus_2005_unsp_p65_greater_hpd"
   ]
  },
  {
   "cell_type": "markdown",
   "metadata": {},
   "source": [
    "### 2006 Unspecified- Age Between 65 or Greater "
   ]
  },
  {
   "cell_type": "code",
   "execution_count": 255,
   "metadata": {},
   "outputs": [],
   "source": [
    "atus_2006_unsp_p65_greater = atus_2006_unsp_p65_greater.groupby([\"TUCASEID\"]).sum().filter([\"TUCASEID\", \"TUACTDUR24\"])\n",
    "#atus_2006_unsp_p65_greater"
   ]
  },
  {
   "cell_type": "code",
   "execution_count": 256,
   "metadata": {},
   "outputs": [
    {
     "data": {
      "text/plain": [
       "12879066146.993938"
      ]
     },
     "execution_count": 256,
     "metadata": {},
     "output_type": "execute_result"
    }
   ],
   "source": [
    "atus_2006_unsp_p65_greater_merge = pd.merge(atus_2006_unsp_p65_greater, multi_resp, on= \"TUCASEID\").filter([\"TUCASEID\",\"TUACTDUR24\",\"TUFNWGTP\"])\n",
    "\n",
    "atus_2006_unsp_p65_greater_merge[\"Multiplied Weight\"] = atus_2006_unsp_p65_greater_merge[\"TUACTDUR24\"] * atus_2006_unsp_p65_greater_merge[\"TUFNWGTP\"]\n",
    "\n",
    "atus_2006_unsp_p65_greater_multiplied_weight = atus_2006_unsp_p65_greater_merge[\"Multiplied Weight\"].sum()\n",
    "atus_2006_unsp_p65_greater_multiplied_weight"
   ]
  },
  {
   "cell_type": "code",
   "execution_count": 257,
   "metadata": {},
   "outputs": [
    {
     "data": {
      "text/plain": [
       "0.01651579764643687"
      ]
     },
     "execution_count": 257,
     "metadata": {},
     "output_type": "execute_result"
    }
   ],
   "source": [
    "atus_2006_unsp_p65_greater_hpd = atus_2006_unsp_p65_greater_multiplied_weight / atus_2006_p65_greater_weight / 60\n",
    "atus_2006_unsp_p65_greater_hpd"
   ]
  },
  {
   "cell_type": "markdown",
   "metadata": {},
   "source": [
    "### 2007 Unspecified- Age Between 65 or Greater "
   ]
  },
  {
   "cell_type": "code",
   "execution_count": 258,
   "metadata": {},
   "outputs": [],
   "source": [
    "atus_2007_unsp_p65_greater = atus_2007_unsp_p65_greater.groupby([\"TUCASEID\"]).sum().filter([\"TUCASEID\", \"TUACTDUR24\"])\n",
    "#atus_2007_unsp_p65_greater"
   ]
  },
  {
   "cell_type": "code",
   "execution_count": 259,
   "metadata": {},
   "outputs": [
    {
     "data": {
      "text/plain": [
       "19164573999.691372"
      ]
     },
     "execution_count": 259,
     "metadata": {},
     "output_type": "execute_result"
    }
   ],
   "source": [
    "atus_2007_unsp_p65_greater_merge = pd.merge(atus_2007_unsp_p65_greater, multi_resp, on= \"TUCASEID\").filter([\"TUCASEID\",\"TUACTDUR24\",\"TUFNWGTP\"])\n",
    "\n",
    "atus_2007_unsp_p65_greater_merge[\"Multiplied Weight\"] = atus_2007_unsp_p65_greater_merge[\"TUACTDUR24\"] * atus_2007_unsp_p65_greater_merge[\"TUFNWGTP\"]\n",
    "\n",
    "atus_2007_unsp_p65_greater_multiplied_weight = atus_2007_unsp_p65_greater_merge[\"Multiplied Weight\"].sum()\n",
    "atus_2007_unsp_p65_greater_multiplied_weight"
   ]
  },
  {
   "cell_type": "code",
   "execution_count": 260,
   "metadata": {},
   "outputs": [
    {
     "data": {
      "text/plain": [
       "0.024157583892100546"
      ]
     },
     "execution_count": 260,
     "metadata": {},
     "output_type": "execute_result"
    }
   ],
   "source": [
    "atus_2007_unsp_p65_greater_hpd = atus_2007_unsp_p65_greater_multiplied_weight / atus_2007_p65_greater_weight / 60\n",
    "atus_2007_unsp_p65_greater_hpd"
   ]
  },
  {
   "cell_type": "markdown",
   "metadata": {},
   "source": [
    "### 2008 Unspecified- Age Between 65 or Greater "
   ]
  },
  {
   "cell_type": "code",
   "execution_count": 261,
   "metadata": {},
   "outputs": [],
   "source": [
    "atus_2008_unsp_p65_greater = atus_2008_unsp_p65_greater.groupby([\"TUCASEID\"]).sum().filter([\"TUCASEID\", \"TUACTDUR24\"])\n",
    "#atus_2008_unsp_p65_greater"
   ]
  },
  {
   "cell_type": "code",
   "execution_count": 262,
   "metadata": {},
   "outputs": [
    {
     "data": {
      "text/plain": [
       "22209072723.055534"
      ]
     },
     "execution_count": 262,
     "metadata": {},
     "output_type": "execute_result"
    }
   ],
   "source": [
    "atus_2008_unsp_p65_greater_merge = pd.merge(atus_2008_unsp_p65_greater, multi_resp, on= \"TUCASEID\").filter([\"TUCASEID\",\"TUACTDUR24\",\"TUFNWGTP\"])\n",
    "\n",
    "atus_2008_unsp_p65_greater_merge[\"Multiplied Weight\"] = atus_2008_unsp_p65_greater_merge[\"TUACTDUR24\"] * atus_2008_unsp_p65_greater_merge[\"TUFNWGTP\"]\n",
    "\n",
    "atus_2008_unsp_p65_greater_multiplied_weight = atus_2008_unsp_p65_greater_merge[\"Multiplied Weight\"].sum()\n",
    "atus_2008_unsp_p65_greater_multiplied_weight"
   ]
  },
  {
   "cell_type": "code",
   "execution_count": 263,
   "metadata": {},
   "outputs": [
    {
     "data": {
      "text/plain": [
       "0.027213537225378757"
      ]
     },
     "execution_count": 263,
     "metadata": {},
     "output_type": "execute_result"
    }
   ],
   "source": [
    "atus_2008_unsp_p65_greater_hpd = atus_2008_unsp_p65_greater_multiplied_weight / atus_2008_p65_greater_weight / 60\n",
    "atus_2008_unsp_p65_greater_hpd"
   ]
  },
  {
   "cell_type": "markdown",
   "metadata": {},
   "source": [
    "### 2009 Unspecified- Age Between 65 or Greater "
   ]
  },
  {
   "cell_type": "code",
   "execution_count": 264,
   "metadata": {},
   "outputs": [],
   "source": [
    "atus_2009_unsp_p65_greater = atus_2009_unsp_p65_greater.groupby([\"TUCASEID\"]).sum().filter([\"TUCASEID\", \"TUACTDUR24\"])\n",
    "#atus_2009_unsp_p65_greater"
   ]
  },
  {
   "cell_type": "code",
   "execution_count": 265,
   "metadata": {},
   "outputs": [
    {
     "data": {
      "text/plain": [
       "13533459264.92886"
      ]
     },
     "execution_count": 265,
     "metadata": {},
     "output_type": "execute_result"
    }
   ],
   "source": [
    "atus_2009_unsp_p65_greater_merge = pd.merge(atus_2009_unsp_p65_greater, multi_resp, on= \"TUCASEID\").filter([\"TUCASEID\",\"TUACTDUR24\",\"TUFNWGTP\"])\n",
    "\n",
    "atus_2009_unsp_p65_greater_merge[\"Multiplied Weight\"] = atus_2009_unsp_p65_greater_merge[\"TUACTDUR24\"] * atus_2009_unsp_p65_greater_merge[\"TUFNWGTP\"]\n",
    "\n",
    "atus_2009_unsp_p65_greater_multiplied_weight = atus_2009_unsp_p65_greater_merge[\"Multiplied Weight\"].sum()\n",
    "atus_2009_unsp_p65_greater_multiplied_weight"
   ]
  },
  {
   "cell_type": "code",
   "execution_count": 266,
   "metadata": {},
   "outputs": [
    {
     "data": {
      "text/plain": [
       "0.016264671510735098"
      ]
     },
     "execution_count": 266,
     "metadata": {},
     "output_type": "execute_result"
    }
   ],
   "source": [
    "atus_2009_unsp_p65_greater_hpd = atus_2009_unsp_p65_greater_multiplied_weight / atus_2009_p65_greater_weight / 60\n",
    "atus_2009_unsp_p65_greater_hpd"
   ]
  },
  {
   "cell_type": "markdown",
   "metadata": {},
   "source": [
    "### 2010 Unspecified- Age Between 65 or Greater "
   ]
  },
  {
   "cell_type": "code",
   "execution_count": 267,
   "metadata": {},
   "outputs": [],
   "source": [
    "atus_2010_unsp_p65_greater = atus_2010_unsp_p65_greater.groupby([\"TUCASEID\"]).sum().filter([\"TUCASEID\", \"TUACTDUR24\"])\n",
    "#atus_2010_unsp_p65_greater"
   ]
  },
  {
   "cell_type": "code",
   "execution_count": 268,
   "metadata": {},
   "outputs": [
    {
     "data": {
      "text/plain": [
       "21075613184.669777"
      ]
     },
     "execution_count": 268,
     "metadata": {},
     "output_type": "execute_result"
    }
   ],
   "source": [
    "atus_2010_unsp_p65_greater_merge = pd.merge(atus_2010_unsp_p65_greater, multi_resp, on= \"TUCASEID\").filter([\"TUCASEID\",\"TUACTDUR24\",\"TUFNWGTP\"])\n",
    "\n",
    "atus_2010_unsp_p65_greater_merge[\"Multiplied Weight\"] = atus_2010_unsp_p65_greater_merge[\"TUACTDUR24\"] * atus_2010_unsp_p65_greater_merge[\"TUFNWGTP\"]\n",
    "\n",
    "atus_2010_unsp_p65_greater_multiplied_weight = atus_2010_unsp_p65_greater_merge[\"Multiplied Weight\"].sum()\n",
    "atus_2010_unsp_p65_greater_multiplied_weight"
   ]
  },
  {
   "cell_type": "code",
   "execution_count": 269,
   "metadata": {},
   "outputs": [
    {
     "data": {
      "text/plain": [
       "0.024866682531164485"
      ]
     },
     "execution_count": 269,
     "metadata": {},
     "output_type": "execute_result"
    }
   ],
   "source": [
    "atus_2010_unsp_p65_greater_hpd = atus_2010_unsp_p65_greater_multiplied_weight / atus_2010_p65_greater_weight / 60\n",
    "atus_2010_unsp_p65_greater_hpd"
   ]
  },
  {
   "cell_type": "markdown",
   "metadata": {},
   "source": [
    "### 2011 Unspecified- Age Between 65 or Greater "
   ]
  },
  {
   "cell_type": "code",
   "execution_count": 270,
   "metadata": {},
   "outputs": [],
   "source": [
    "atus_2011_unsp_p65_greater = atus_2011_unsp_p65_greater.groupby([\"TUCASEID\"]).sum().filter([\"TUCASEID\", \"TUACTDUR24\"])\n",
    "#atus_2011_unsp_p65_greater"
   ]
  },
  {
   "cell_type": "code",
   "execution_count": 271,
   "metadata": {},
   "outputs": [
    {
     "data": {
      "text/plain": [
       "13116337973.022018"
      ]
     },
     "execution_count": 271,
     "metadata": {},
     "output_type": "execute_result"
    }
   ],
   "source": [
    "atus_2011_unsp_p65_greater_merge = pd.merge(atus_2011_unsp_p65_greater, multi_resp, on= \"TUCASEID\").filter([\"TUCASEID\",\"TUACTDUR24\",\"TUFNWGTP\"])\n",
    "\n",
    "atus_2011_unsp_p65_greater_merge[\"Multiplied Weight\"] = atus_2011_unsp_p65_greater_merge[\"TUACTDUR24\"] * atus_2011_unsp_p65_greater_merge[\"TUFNWGTP\"]\n",
    "\n",
    "atus_2011_unsp_p65_greater_multiplied_weight = atus_2011_unsp_p65_greater_merge[\"Multiplied Weight\"].sum()\n",
    "atus_2011_unsp_p65_greater_multiplied_weight"
   ]
  },
  {
   "cell_type": "code",
   "execution_count": 272,
   "metadata": {},
   "outputs": [
    {
     "data": {
      "text/plain": [
       "0.015077977693084717"
      ]
     },
     "execution_count": 272,
     "metadata": {},
     "output_type": "execute_result"
    }
   ],
   "source": [
    "atus_2011_unsp_p65_greater_hpd = atus_2011_unsp_p65_greater_multiplied_weight / atus_2011_p65_greater_weight / 60\n",
    "atus_2011_unsp_p65_greater_hpd"
   ]
  },
  {
   "cell_type": "markdown",
   "metadata": {},
   "source": [
    "### 2012 Unspecified- Age Between 65 or Greater "
   ]
  },
  {
   "cell_type": "code",
   "execution_count": 273,
   "metadata": {},
   "outputs": [],
   "source": [
    "atus_2012_unsp_p65_greater = atus_2012_unsp_p65_greater.groupby([\"TUCASEID\"]).sum().filter([\"TUCASEID\", \"TUACTDUR24\"])\n",
    "#atus_2012_unsp_p65_greater"
   ]
  },
  {
   "cell_type": "code",
   "execution_count": 274,
   "metadata": {},
   "outputs": [
    {
     "data": {
      "text/plain": [
       "12601183900.668644"
      ]
     },
     "execution_count": 274,
     "metadata": {},
     "output_type": "execute_result"
    }
   ],
   "source": [
    "atus_2012_unsp_p65_greater_merge = pd.merge(atus_2012_unsp_p65_greater, multi_resp, on= \"TUCASEID\").filter([\"TUCASEID\",\"TUACTDUR24\",\"TUFNWGTP\"])\n",
    "\n",
    "atus_2012_unsp_p65_greater_merge[\"Multiplied Weight\"] = atus_2012_unsp_p65_greater_merge[\"TUACTDUR24\"] * atus_2012_unsp_p65_greater_merge[\"TUFNWGTP\"]\n",
    "\n",
    "atus_2012_unsp_p65_greater_multiplied_weight = atus_2012_unsp_p65_greater_merge[\"Multiplied Weight\"].sum()\n",
    "atus_2012_unsp_p65_greater_multiplied_weight"
   ]
  },
  {
   "cell_type": "code",
   "execution_count": 275,
   "metadata": {},
   "outputs": [
    {
     "data": {
      "text/plain": [
       "0.01370478022232519"
      ]
     },
     "execution_count": 275,
     "metadata": {},
     "output_type": "execute_result"
    }
   ],
   "source": [
    "atus_2012_unsp_p65_greater_hpd = atus_2012_unsp_p65_greater_multiplied_weight / atus_2012_p65_greater_weight / 60\n",
    "atus_2012_unsp_p65_greater_hpd"
   ]
  },
  {
   "cell_type": "markdown",
   "metadata": {},
   "source": [
    "### 2013 Unspecified- Age Between 65 or Greater "
   ]
  },
  {
   "cell_type": "code",
   "execution_count": 276,
   "metadata": {},
   "outputs": [],
   "source": [
    "atus_2013_unsp_p65_greater = atus_2013_unsp_p65_greater.groupby([\"TUCASEID\"]).sum().filter([\"TUCASEID\", \"TUACTDUR24\"])\n",
    "#atus_2013_unsp_p65_greater"
   ]
  },
  {
   "cell_type": "code",
   "execution_count": 277,
   "metadata": {},
   "outputs": [
    {
     "data": {
      "text/plain": [
       "10080252284.164478"
      ]
     },
     "execution_count": 277,
     "metadata": {},
     "output_type": "execute_result"
    }
   ],
   "source": [
    "atus_2013_unsp_p65_greater_merge = pd.merge(atus_2013_unsp_p65_greater, multi_resp, on= \"TUCASEID\").filter([\"TUCASEID\",\"TUACTDUR24\",\"TUFNWGTP\"])\n",
    "\n",
    "atus_2013_unsp_p65_greater_merge[\"Multiplied Weight\"] = atus_2013_unsp_p65_greater_merge[\"TUACTDUR24\"] * atus_2013_unsp_p65_greater_merge[\"TUFNWGTP\"]\n",
    "\n",
    "atus_2013_unsp_p65_greater_multiplied_weight = atus_2013_unsp_p65_greater_merge[\"Multiplied Weight\"].sum()\n",
    "atus_2013_unsp_p65_greater_multiplied_weight"
   ]
  },
  {
   "cell_type": "code",
   "execution_count": 278,
   "metadata": {},
   "outputs": [
    {
     "data": {
      "text/plain": [
       "0.010601824590214269"
      ]
     },
     "execution_count": 278,
     "metadata": {},
     "output_type": "execute_result"
    }
   ],
   "source": [
    "atus_2013_unsp_p65_greater_hpd = atus_2013_unsp_p65_greater_multiplied_weight / atus_2013_p65_greater_weight / 60\n",
    "atus_2013_unsp_p65_greater_hpd"
   ]
  },
  {
   "cell_type": "markdown",
   "metadata": {},
   "source": [
    "### 2014 Unspecified- Age Between 65 or Greater "
   ]
  },
  {
   "cell_type": "code",
   "execution_count": 279,
   "metadata": {},
   "outputs": [],
   "source": [
    "atus_2014_unsp_p65_greater = atus_2014_unsp_p65_greater.groupby([\"TUCASEID\"]).sum().filter([\"TUCASEID\", \"TUACTDUR24\"])\n",
    "#atus_2014_unsp_p65_greater"
   ]
  },
  {
   "cell_type": "code",
   "execution_count": 280,
   "metadata": {},
   "outputs": [
    {
     "data": {
      "text/plain": [
       "12024409671.737837"
      ]
     },
     "execution_count": 280,
     "metadata": {},
     "output_type": "execute_result"
    }
   ],
   "source": [
    "atus_2014_unsp_p65_greater_merge = pd.merge(atus_2014_unsp_p65_greater, multi_resp, on= \"TUCASEID\").filter([\"TUCASEID\",\"TUACTDUR24\",\"TUFNWGTP\"])\n",
    "\n",
    "atus_2014_unsp_p65_greater_merge[\"Multiplied Weight\"] = atus_2014_unsp_p65_greater_merge[\"TUACTDUR24\"] * atus_2014_unsp_p65_greater_merge[\"TUFNWGTP\"]\n",
    "\n",
    "atus_2014_unsp_p65_greater_multiplied_weight = atus_2014_unsp_p65_greater_merge[\"Multiplied Weight\"].sum()\n",
    "atus_2014_unsp_p65_greater_multiplied_weight"
   ]
  },
  {
   "cell_type": "code",
   "execution_count": 281,
   "metadata": {},
   "outputs": [
    {
     "data": {
      "text/plain": [
       "0.012211299968344858"
      ]
     },
     "execution_count": 281,
     "metadata": {},
     "output_type": "execute_result"
    }
   ],
   "source": [
    "atus_2014_unsp_p65_greater_hpd = atus_2014_unsp_p65_greater_multiplied_weight / atus_2014_p65_greater_weight / 60\n",
    "atus_2014_unsp_p65_greater_hpd"
   ]
  },
  {
   "cell_type": "markdown",
   "metadata": {},
   "source": [
    "### 2015 Unspecified- Age Between 65 or Greater "
   ]
  },
  {
   "cell_type": "code",
   "execution_count": 282,
   "metadata": {},
   "outputs": [],
   "source": [
    "atus_2015_unsp_p65_greater = atus_2015_unsp_p65_greater.groupby([\"TUCASEID\"]).sum().filter([\"TUCASEID\", \"TUACTDUR24\"])\n",
    "#atus_2015_unsp_p65_greater"
   ]
  },
  {
   "cell_type": "code",
   "execution_count": 283,
   "metadata": {},
   "outputs": [
    {
     "data": {
      "text/plain": [
       "12069808098.766085"
      ]
     },
     "execution_count": 283,
     "metadata": {},
     "output_type": "execute_result"
    }
   ],
   "source": [
    "atus_2015_unsp_p65_greater_merge = pd.merge(atus_2015_unsp_p65_greater, multi_resp, on= \"TUCASEID\").filter([\"TUCASEID\",\"TUACTDUR24\",\"TUFNWGTP\"])\n",
    "\n",
    "atus_2015_unsp_p65_greater_merge[\"Multiplied Weight\"] = atus_2015_unsp_p65_greater_merge[\"TUACTDUR24\"] * atus_2015_unsp_p65_greater_merge[\"TUFNWGTP\"]\n",
    "\n",
    "atus_2015_unsp_p65_greater_multiplied_weight = atus_2015_unsp_p65_greater_merge[\"Multiplied Weight\"].sum()\n",
    "atus_2015_unsp_p65_greater_multiplied_weight"
   ]
  },
  {
   "cell_type": "code",
   "execution_count": 284,
   "metadata": {},
   "outputs": [
    {
     "data": {
      "text/plain": [
       "0.011849702779315841"
      ]
     },
     "execution_count": 284,
     "metadata": {},
     "output_type": "execute_result"
    }
   ],
   "source": [
    "atus_2015_unsp_p65_greater_hpd = atus_2015_unsp_p65_greater_multiplied_weight / atus_2015_p65_greater_weight / 60\n",
    "atus_2015_unsp_p65_greater_hpd"
   ]
  },
  {
   "cell_type": "markdown",
   "metadata": {},
   "source": [
    "### 2016 Unspecified- Age Between 65 or Greater "
   ]
  },
  {
   "cell_type": "code",
   "execution_count": 285,
   "metadata": {},
   "outputs": [],
   "source": [
    "atus_2016_unsp_p65_greater = atus_2016_unsp_p65_greater.groupby([\"TUCASEID\"]).sum().filter([\"TUCASEID\", \"TUACTDUR24\"])\n",
    "#atus_2016_unsp_p65_greater"
   ]
  },
  {
   "cell_type": "code",
   "execution_count": 286,
   "metadata": {},
   "outputs": [
    {
     "data": {
      "text/plain": [
       "12993429843.331766"
      ]
     },
     "execution_count": 286,
     "metadata": {},
     "output_type": "execute_result"
    }
   ],
   "source": [
    "atus_2016_unsp_p65_greater_merge = pd.merge(atus_2016_unsp_p65_greater, multi_resp, on= \"TUCASEID\").filter([\"TUCASEID\",\"TUACTDUR24\",\"TUFNWGTP\"])\n",
    "\n",
    "atus_2016_unsp_p65_greater_merge[\"Multiplied Weight\"] = atus_2016_unsp_p65_greater_merge[\"TUACTDUR24\"] * atus_2016_unsp_p65_greater_merge[\"TUFNWGTP\"]\n",
    "\n",
    "atus_2016_unsp_p65_greater_multiplied_weight = atus_2016_unsp_p65_greater_merge[\"Multiplied Weight\"].sum()\n",
    "atus_2016_unsp_p65_greater_multiplied_weight"
   ]
  },
  {
   "cell_type": "code",
   "execution_count": 287,
   "metadata": {},
   "outputs": [
    {
     "data": {
      "text/plain": [
       "0.012319017869085012"
      ]
     },
     "execution_count": 287,
     "metadata": {},
     "output_type": "execute_result"
    }
   ],
   "source": [
    "atus_2016_unsp_p65_greater_hpd = atus_2016_unsp_p65_greater_multiplied_weight / atus_2016_p65_greater_weight / 60\n",
    "atus_2016_unsp_p65_greater_hpd"
   ]
  },
  {
   "cell_type": "markdown",
   "metadata": {},
   "source": [
    "### 2017 Unspecified- Age Between 65 or Greater "
   ]
  },
  {
   "cell_type": "code",
   "execution_count": 288,
   "metadata": {},
   "outputs": [],
   "source": [
    "atus_2017_unsp_p65_greater = atus_2017_unsp_p65_greater.groupby([\"TUCASEID\"]).sum().filter([\"TUCASEID\", \"TUACTDUR24\"])\n",
    "#atus_2017_unsp_p65_greater"
   ]
  },
  {
   "cell_type": "code",
   "execution_count": 289,
   "metadata": {},
   "outputs": [
    {
     "data": {
      "text/plain": [
       "27568205640.981236"
      ]
     },
     "execution_count": 289,
     "metadata": {},
     "output_type": "execute_result"
    }
   ],
   "source": [
    "atus_2017_unsp_p65_greater_merge = pd.merge(atus_2017_unsp_p65_greater, multi_resp, on= \"TUCASEID\").filter([\"TUCASEID\",\"TUACTDUR24\",\"TUFNWGTP\"])\n",
    "\n",
    "atus_2017_unsp_p65_greater_merge[\"Multiplied Weight\"] = atus_2017_unsp_p65_greater_merge[\"TUACTDUR24\"] * atus_2017_unsp_p65_greater_merge[\"TUFNWGTP\"]\n",
    "\n",
    "atus_2017_unsp_p65_greater_multiplied_weight = atus_2017_unsp_p65_greater_merge[\"Multiplied Weight\"].sum()\n",
    "atus_2017_unsp_p65_greater_multiplied_weight"
   ]
  },
  {
   "cell_type": "code",
   "execution_count": 290,
   "metadata": {},
   "outputs": [
    {
     "data": {
      "text/plain": [
       "0.025407715404942237"
      ]
     },
     "execution_count": 290,
     "metadata": {},
     "output_type": "execute_result"
    }
   ],
   "source": [
    "atus_2017_unsp_p65_greater_hpd = atus_2017_unsp_p65_greater_multiplied_weight / atus_2017_p65_greater_weight / 60\n",
    "atus_2017_unsp_p65_greater_hpd"
   ]
  },
  {
   "cell_type": "markdown",
   "metadata": {},
   "source": [
    "### 2018 Unspecified- Age Between 65 or Greater "
   ]
  },
  {
   "cell_type": "code",
   "execution_count": 291,
   "metadata": {},
   "outputs": [],
   "source": [
    "atus_2018_unsp_p65_greater = atus_2018_unsp_p65_greater.groupby([\"TUCASEID\"]).sum().filter([\"TUCASEID\", \"TUACTDUR24\"])\n",
    "#atus_2018_unsp_p65_greater"
   ]
  },
  {
   "cell_type": "code",
   "execution_count": 292,
   "metadata": {},
   "outputs": [
    {
     "data": {
      "text/plain": [
       "20713421275.693935"
      ]
     },
     "execution_count": 292,
     "metadata": {},
     "output_type": "execute_result"
    }
   ],
   "source": [
    "atus_2018_unsp_p65_greater_merge = pd.merge(atus_2018_unsp_p65_greater, multi_resp, on= \"TUCASEID\").filter([\"TUCASEID\",\"TUACTDUR24\",\"TUFNWGTP\"])\n",
    "\n",
    "atus_2018_unsp_p65_greater_merge[\"Multiplied Weight\"] = atus_2018_unsp_p65_greater_merge[\"TUACTDUR24\"] * atus_2018_unsp_p65_greater_merge[\"TUFNWGTP\"]\n",
    "\n",
    "atus_2018_unsp_p65_greater_multiplied_weight = atus_2018_unsp_p65_greater_merge[\"Multiplied Weight\"].sum()\n",
    "atus_2018_unsp_p65_greater_multiplied_weight"
   ]
  },
  {
   "cell_type": "code",
   "execution_count": 293,
   "metadata": {},
   "outputs": [
    {
     "data": {
      "text/plain": [
       "0.018440992005093384"
      ]
     },
     "execution_count": 293,
     "metadata": {},
     "output_type": "execute_result"
    }
   ],
   "source": [
    "atus_2018_unsp_p65_greater_hpd = atus_2018_unsp_p65_greater_multiplied_weight / atus_2018_p65_greater_weight / 60\n",
    "atus_2018_unsp_p65_greater_hpd"
   ]
  },
  {
   "cell_type": "markdown",
   "metadata": {},
   "source": [
    "### 2019 Unspecified- Age Between 65 or Greater "
   ]
  },
  {
   "cell_type": "code",
   "execution_count": 294,
   "metadata": {},
   "outputs": [],
   "source": [
    "atus_2019_unsp_p65_greater = atus_2019_unsp_p65_greater.groupby([\"TUCASEID\"]).sum().filter([\"TUCASEID\", \"TUACTDUR24\"])\n",
    "#atus_2019_unsp_p65_greater"
   ]
  },
  {
   "cell_type": "code",
   "execution_count": 295,
   "metadata": {},
   "outputs": [
    {
     "data": {
      "text/plain": [
       "22390833273.132687"
      ]
     },
     "execution_count": 295,
     "metadata": {},
     "output_type": "execute_result"
    }
   ],
   "source": [
    "atus_2019_unsp_p65_greater_merge = pd.merge(atus_2019_unsp_p65_greater, multi_resp, on= \"TUCASEID\").filter([\"TUCASEID\",\"TUACTDUR24\",\"TUFNWGTP\"])\n",
    "\n",
    "atus_2019_unsp_p65_greater_merge[\"Multiplied Weight\"] = atus_2019_unsp_p65_greater_merge[\"TUACTDUR24\"] * atus_2019_unsp_p65_greater_merge[\"TUFNWGTP\"]\n",
    "\n",
    "atus_2019_unsp_p65_greater_multiplied_weight = atus_2019_unsp_p65_greater_merge[\"Multiplied Weight\"].sum()\n",
    "atus_2019_unsp_p65_greater_multiplied_weight"
   ]
  },
  {
   "cell_type": "code",
   "execution_count": 296,
   "metadata": {},
   "outputs": [
    {
     "data": {
      "text/plain": [
       "0.019323416051025548"
      ]
     },
     "execution_count": 296,
     "metadata": {},
     "output_type": "execute_result"
    }
   ],
   "source": [
    "atus_2019_unsp_p65_greater_hpd = atus_2019_unsp_p65_greater_multiplied_weight / atus_2019_p65_greater_weight / 60\n",
    "atus_2019_unsp_p65_greater_hpd"
   ]
  },
  {
   "cell_type": "markdown",
   "metadata": {},
   "source": [
    "### Regresssion: Unespecified - Age Between 65 or Greater "
   ]
  },
  {
   "cell_type": "markdown",
   "metadata": {},
   "source": [
    "#### 2003 -2012 Regression"
   ]
  },
  {
   "cell_type": "code",
   "execution_count": 297,
   "metadata": {},
   "outputs": [],
   "source": [
    "year = np.array([2003, 2004, 2005, 2006, 2007, 2008, 2009, 2010,2011,2012]).reshape((-1, 1))\n",
    "activity_hours_per_day = np.array([atus_2003_unsp_p65_greater_hpd, atus_2004_unsp_p65_greater_hpd, atus_2005_unsp_p65_greater_hpd,\n",
    "                                   atus_2006_unsp_p65_greater_hpd, atus_2007_unsp_p65_greater_hpd, atus_2008_unsp_p65_greater_hpd,\n",
    "                                   atus_2009_unsp_p65_greater_hpd, atus_2010_unsp_p65_greater_hpd, atus_2011_unsp_p65_greater_hpd,\n",
    "                                   atus_2012_unsp_p65_greater_hpd]).reshape((-1, 1))\n",
    "\n",
    "activity_hours_per_yr = [i * 365 for i in activity_hours_per_day]\n",
    "#activity_hours_per_yr"
   ]
  },
  {
   "cell_type": "code",
   "execution_count": 298,
   "metadata": {},
   "outputs": [
    {
     "data": {
      "image/png": "[encoded data removed]",
      "text/plain": [
       "<Figure size 432x288 with 1 Axes>"
      ]
     },
     "metadata": {
      "needs_background": "light"
     },
     "output_type": "display_data"
    }
   ],
   "source": [
    "x = year\n",
    "y = activity_hours_per_yr\n",
    "x, y = np.array(x), np.array(y)\n",
    "\n",
    "model = LinearRegression().fit(x, y)\n",
    "\n",
    "y_pred = model.predict(x)  \n",
    "\n",
    "plt.scatter(x, y)\n",
    "plt.plot(x, y_pred, color='red')\n",
    "plt.show()"
   ]
  },
  {
   "cell_type": "code",
   "execution_count": 299,
   "metadata": {},
   "outputs": [
    {
     "data": {
      "text/plain": [
       "0.3084114955426367"
      ]
     },
     "execution_count": 299,
     "metadata": {},
     "output_type": "execute_result"
    }
   ],
   "source": [
    "coefficient_of_determination = model.score(x,y) #R sqaure value \n",
    "coefficient_of_determination"
   ]
  },
  {
   "cell_type": "code",
   "execution_count": 300,
   "metadata": {},
   "outputs": [
    {
     "data": {
      "text/plain": [
       "array([[-0.3634022]])"
      ]
     },
     "execution_count": 300,
     "metadata": {},
     "output_type": "execute_result"
    }
   ],
   "source": [
    "all_act_2012_res_p65_greater_slope = model.coef_\n",
    "all_act_2012_res_p65_greater_slope"
   ]
  },
  {
   "cell_type": "markdown",
   "metadata": {},
   "source": [
    "#### 2003-2019 Regression"
   ]
  },
  {
   "cell_type": "code",
   "execution_count": 301,
   "metadata": {},
   "outputs": [],
   "source": [
    "year = np.array([2003, 2004, 2005, 2006, 2007, 2008, 2009, 2010,2011,2012,2013,2014,2015,2016,2017,2018,2019]).reshape((-1, 1))\n",
    "activity_hours_per_day = np.array([atus_2003_unsp_p65_greater_hpd, atus_2004_unsp_p65_greater_hpd, atus_2005_unsp_p65_greater_hpd,\n",
    "                                   atus_2006_unsp_p65_greater_hpd, atus_2007_unsp_p65_greater_hpd, atus_2008_unsp_p65_greater_hpd,\n",
    "                                   atus_2009_unsp_p65_greater_hpd, atus_2010_unsp_p65_greater_hpd, atus_2011_unsp_p65_greater_hpd,\n",
    "                                   atus_2012_unsp_p65_greater_hpd, atus_2013_unsp_p65_greater_hpd, atus_2014_unsp_p65_greater_hpd,\n",
    "                                   atus_2015_unsp_p65_greater_hpd, atus_2016_unsp_p65_greater_hpd, atus_2017_unsp_p65_greater_hpd,\n",
    "                                   atus_2018_unsp_p65_greater_hpd, atus_2019_unsp_p65_greater_hpd]).reshape((-1, 1))\n",
    "\n",
    "activity_hours_per_yr = [i * 365 for i in activity_hours_per_day]\n",
    "#activity_hours_per_yr"
   ]
  },
  {
   "cell_type": "code",
   "execution_count": 302,
   "metadata": {},
   "outputs": [
    {
     "data": {
      "image/png": "[encoded data removed]",
      "text/plain": [
       "<Figure size 432x288 with 1 Axes>"
      ]
     },
     "metadata": {
      "needs_background": "light"
     },
     "output_type": "display_data"
    }
   ],
   "source": [
    "x = year\n",
    "y = activity_hours_per_yr\n",
    "x, y = np.array(x), np.array(y)\n",
    "\n",
    "model = LinearRegression().fit(x, y)\n",
    "\n",
    "y_pred = model.predict(x)  \n",
    "\n",
    "plt.scatter(x, y)\n",
    "plt.plot(x, y_pred, color='red')\n",
    "plt.show()"
   ]
  },
  {
   "cell_type": "code",
   "execution_count": 303,
   "metadata": {},
   "outputs": [
    {
     "data": {
      "text/plain": [
       "0.1978861560306786"
      ]
     },
     "execution_count": 303,
     "metadata": {},
     "output_type": "execute_result"
    }
   ],
   "source": [
    "coefficient_of_determination = model.score(x,y) #R sqaure value \n",
    "coefficient_of_determination"
   ]
  },
  {
   "cell_type": "code",
   "execution_count": 304,
   "metadata": {},
   "outputs": [
    {
     "data": {
      "text/plain": [
       "array([[-0.18947469]])"
      ]
     },
     "execution_count": 304,
     "metadata": {},
     "output_type": "execute_result"
    }
   ],
   "source": [
    "all_act_2019_res_p65_greater_slope = model.coef_\n",
    "all_act_2019_res_p65_greater_slope"
   ]
  },
  {
   "cell_type": "code",
   "execution_count": null,
   "metadata": {},
   "outputs": [],
   "source": []
  }
 ],
 "metadata": {
  "kernelspec": {
   "display_name": "Python 3",
   "language": "python",
   "name": "python3"
  },
  "language_info": {
   "codemirror_mode": {
    "name": "ipython",
    "version": 3
   },
   "file_extension": ".py",
   "mimetype": "text/x-python",
   "name": "python",
   "nbconvert_exporter": "python",
   "pygments_lexer": "ipython3",
   "version": "3.8.3"
  }
 },
 "nbformat": 4,
 "nbformat_minor": 4
}
