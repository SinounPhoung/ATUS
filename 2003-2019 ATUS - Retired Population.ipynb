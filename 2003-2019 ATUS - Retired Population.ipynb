{
 "cells": [
  {
   "cell_type": "code",
   "execution_count": 1,
   "metadata": {},
   "outputs": [],
   "source": [
    "import pandas as pd \n",
    "import numpy as np \n",
    "%matplotlib inline\n",
    "import matplotlib.pyplot as plt\n",
    "from sklearn.linear_model import LinearRegression"
   ]
  },
  {
   "cell_type": "code",
   "execution_count": 2,
   "metadata": {},
   "outputs": [],
   "source": [
    "#General Codes\n",
    "# -1     Blank\n",
    "# -2     Don’t know \n",
    "# -3     Refused"
   ]
  },
  {
   "cell_type": "code",
   "execution_count": 3,
   "metadata": {},
   "outputs": [],
   "source": [
    "multi_act = pd.read_csv(\"ATUS DATA 03-19/atus_activity_0319.dat\", \n",
    "                        dtype= {\"TRCODEP\": object, \"TRTIER1P\": object, \"TRTIER2P\": object}) #using 2003-2019 activity file\n",
    "#multi_act"
   ]
  },
  {
   "cell_type": "code",
   "execution_count": 4,
   "metadata": {},
   "outputs": [],
   "source": [
    "multi_resp = pd.read_csv(\"ATUS DATA 03-19/atus_resp_0319.dat\")\n",
    "#multi_resp"
   ]
  },
  {
   "cell_type": "code",
   "execution_count": 5,
   "metadata": {},
   "outputs": [
    {
     "data": {
      "text/html": [
       "<div>\n",
       "<style scoped>\n",
       "    .dataframe tbody tr th:only-of-type {\n",
       "        vertical-align: middle;\n",
       "    }\n",
       "\n",
       "    .dataframe tbody tr th {\n",
       "        vertical-align: top;\n",
       "    }\n",
       "\n",
       "    .dataframe thead th {\n",
       "        text-align: right;\n",
       "    }\n",
       "</style>\n",
       "<table border=\"1\" class=\"dataframe\">\n",
       "  <thead>\n",
       "    <tr style=\"text-align: right;\">\n",
       "      <th></th>\n",
       "      <th>TUCASEID</th>\n",
       "      <th>TUACTDUR24</th>\n",
       "      <th>TUCUMDUR</th>\n",
       "      <th>TRTIER1P</th>\n",
       "      <th>TRTIER2P</th>\n",
       "      <th>TRCODEP</th>\n",
       "      <th>TEWHERE</th>\n",
       "      <th>TELFS</th>\n",
       "      <th>TUFNWGTP</th>\n",
       "      <th>TUSTARTTIM</th>\n",
       "      <th>TUSTOPTIME</th>\n",
       "      <th>TUYEAR</th>\n",
       "      <th>TURETOT</th>\n",
       "    </tr>\n",
       "  </thead>\n",
       "  <tbody>\n",
       "    <tr>\n",
       "      <th>0</th>\n",
       "      <td>20030100013280</td>\n",
       "      <td>60</td>\n",
       "      <td>60</td>\n",
       "      <td>13</td>\n",
       "      <td>1301</td>\n",
       "      <td>130124</td>\n",
       "      <td>9</td>\n",
       "      <td>2</td>\n",
       "      <td>8.155463e+06</td>\n",
       "      <td>04:00:00</td>\n",
       "      <td>05:00:00</td>\n",
       "      <td>2003</td>\n",
       "      <td>-1</td>\n",
       "    </tr>\n",
       "    <tr>\n",
       "      <th>1</th>\n",
       "      <td>20030100013280</td>\n",
       "      <td>30</td>\n",
       "      <td>90</td>\n",
       "      <td>01</td>\n",
       "      <td>0102</td>\n",
       "      <td>010201</td>\n",
       "      <td>-1</td>\n",
       "      <td>2</td>\n",
       "      <td>8.155463e+06</td>\n",
       "      <td>05:00:00</td>\n",
       "      <td>05:30:00</td>\n",
       "      <td>2003</td>\n",
       "      <td>-1</td>\n",
       "    </tr>\n",
       "    <tr>\n",
       "      <th>2</th>\n",
       "      <td>20030100013280</td>\n",
       "      <td>600</td>\n",
       "      <td>690</td>\n",
       "      <td>01</td>\n",
       "      <td>0101</td>\n",
       "      <td>010101</td>\n",
       "      <td>-1</td>\n",
       "      <td>2</td>\n",
       "      <td>8.155463e+06</td>\n",
       "      <td>05:30:00</td>\n",
       "      <td>15:30:00</td>\n",
       "      <td>2003</td>\n",
       "      <td>-1</td>\n",
       "    </tr>\n",
       "    <tr>\n",
       "      <th>3</th>\n",
       "      <td>20030100013280</td>\n",
       "      <td>150</td>\n",
       "      <td>840</td>\n",
       "      <td>12</td>\n",
       "      <td>1203</td>\n",
       "      <td>120303</td>\n",
       "      <td>1</td>\n",
       "      <td>2</td>\n",
       "      <td>8.155463e+06</td>\n",
       "      <td>15:30:00</td>\n",
       "      <td>18:00:00</td>\n",
       "      <td>2003</td>\n",
       "      <td>-1</td>\n",
       "    </tr>\n",
       "    <tr>\n",
       "      <th>4</th>\n",
       "      <td>20030100013280</td>\n",
       "      <td>5</td>\n",
       "      <td>845</td>\n",
       "      <td>11</td>\n",
       "      <td>1101</td>\n",
       "      <td>110101</td>\n",
       "      <td>1</td>\n",
       "      <td>2</td>\n",
       "      <td>8.155463e+06</td>\n",
       "      <td>18:00:00</td>\n",
       "      <td>18:05:00</td>\n",
       "      <td>2003</td>\n",
       "      <td>-1</td>\n",
       "    </tr>\n",
       "    <tr>\n",
       "      <th>...</th>\n",
       "      <td>...</td>\n",
       "      <td>...</td>\n",
       "      <td>...</td>\n",
       "      <td>...</td>\n",
       "      <td>...</td>\n",
       "      <td>...</td>\n",
       "      <td>...</td>\n",
       "      <td>...</td>\n",
       "      <td>...</td>\n",
       "      <td>...</td>\n",
       "      <td>...</td>\n",
       "      <td>...</td>\n",
       "      <td>...</td>\n",
       "    </tr>\n",
       "    <tr>\n",
       "      <th>4121278</th>\n",
       "      <td>20191212192270</td>\n",
       "      <td>98</td>\n",
       "      <td>690</td>\n",
       "      <td>03</td>\n",
       "      <td>0301</td>\n",
       "      <td>030103</td>\n",
       "      <td>1</td>\n",
       "      <td>1</td>\n",
       "      <td>1.072172e+07</td>\n",
       "      <td>13:52:00</td>\n",
       "      <td>15:30:00</td>\n",
       "      <td>2019</td>\n",
       "      <td>-1</td>\n",
       "    </tr>\n",
       "    <tr>\n",
       "      <th>4121279</th>\n",
       "      <td>20191212192270</td>\n",
       "      <td>30</td>\n",
       "      <td>720</td>\n",
       "      <td>18</td>\n",
       "      <td>1812</td>\n",
       "      <td>181201</td>\n",
       "      <td>13</td>\n",
       "      <td>1</td>\n",
       "      <td>1.072172e+07</td>\n",
       "      <td>15:30:00</td>\n",
       "      <td>16:00:00</td>\n",
       "      <td>2019</td>\n",
       "      <td>-1</td>\n",
       "    </tr>\n",
       "    <tr>\n",
       "      <th>4121280</th>\n",
       "      <td>20191212192270</td>\n",
       "      <td>390</td>\n",
       "      <td>1110</td>\n",
       "      <td>12</td>\n",
       "      <td>1201</td>\n",
       "      <td>120101</td>\n",
       "      <td>3</td>\n",
       "      <td>1</td>\n",
       "      <td>1.072172e+07</td>\n",
       "      <td>16:00:00</td>\n",
       "      <td>22:30:00</td>\n",
       "      <td>2019</td>\n",
       "      <td>-1</td>\n",
       "    </tr>\n",
       "    <tr>\n",
       "      <th>4121281</th>\n",
       "      <td>20191212192270</td>\n",
       "      <td>30</td>\n",
       "      <td>1140</td>\n",
       "      <td>18</td>\n",
       "      <td>1812</td>\n",
       "      <td>181201</td>\n",
       "      <td>13</td>\n",
       "      <td>1</td>\n",
       "      <td>1.072172e+07</td>\n",
       "      <td>22:30:00</td>\n",
       "      <td>23:00:00</td>\n",
       "      <td>2019</td>\n",
       "      <td>-1</td>\n",
       "    </tr>\n",
       "    <tr>\n",
       "      <th>4121282</th>\n",
       "      <td>20191212192270</td>\n",
       "      <td>300</td>\n",
       "      <td>1740</td>\n",
       "      <td>01</td>\n",
       "      <td>0101</td>\n",
       "      <td>010101</td>\n",
       "      <td>-1</td>\n",
       "      <td>1</td>\n",
       "      <td>1.072172e+07</td>\n",
       "      <td>23:00:00</td>\n",
       "      <td>09:00:00</td>\n",
       "      <td>2019</td>\n",
       "      <td>-1</td>\n",
       "    </tr>\n",
       "  </tbody>\n",
       "</table>\n",
       "<p>4121283 rows × 13 columns</p>\n",
       "</div>"
      ],
      "text/plain": [
       "               TUCASEID  TUACTDUR24  TUCUMDUR TRTIER1P TRTIER2P TRCODEP  \\\n",
       "0        20030100013280          60        60       13     1301  130124   \n",
       "1        20030100013280          30        90       01     0102  010201   \n",
       "2        20030100013280         600       690       01     0101  010101   \n",
       "3        20030100013280         150       840       12     1203  120303   \n",
       "4        20030100013280           5       845       11     1101  110101   \n",
       "...                 ...         ...       ...      ...      ...     ...   \n",
       "4121278  20191212192270          98       690       03     0301  030103   \n",
       "4121279  20191212192270          30       720       18     1812  181201   \n",
       "4121280  20191212192270         390      1110       12     1201  120101   \n",
       "4121281  20191212192270          30      1140       18     1812  181201   \n",
       "4121282  20191212192270         300      1740       01     0101  010101   \n",
       "\n",
       "         TEWHERE  TELFS      TUFNWGTP TUSTARTTIM TUSTOPTIME  TUYEAR  TURETOT  \n",
       "0              9      2  8.155463e+06   04:00:00   05:00:00    2003       -1  \n",
       "1             -1      2  8.155463e+06   05:00:00   05:30:00    2003       -1  \n",
       "2             -1      2  8.155463e+06   05:30:00   15:30:00    2003       -1  \n",
       "3              1      2  8.155463e+06   15:30:00   18:00:00    2003       -1  \n",
       "4              1      2  8.155463e+06   18:00:00   18:05:00    2003       -1  \n",
       "...          ...    ...           ...        ...        ...     ...      ...  \n",
       "4121278        1      1  1.072172e+07   13:52:00   15:30:00    2019       -1  \n",
       "4121279       13      1  1.072172e+07   15:30:00   16:00:00    2019       -1  \n",
       "4121280        3      1  1.072172e+07   16:00:00   22:30:00    2019       -1  \n",
       "4121281       13      1  1.072172e+07   22:30:00   23:00:00    2019       -1  \n",
       "4121282       -1      1  1.072172e+07   23:00:00   09:00:00    2019       -1  \n",
       "\n",
       "[4121283 rows x 13 columns]"
      ]
     },
     "execution_count": 5,
     "metadata": {},
     "output_type": "execute_result"
    }
   ],
   "source": [
    "multi_merged = pd.merge(multi_act, multi_resp, on=\"TUCASEID\")\n",
    "multi_merged = multi_merged.filter([\"TUCASEID\",\"TUACTDUR24\",\"TUCUMDUR\",\"TRTIER1P\",\"TRTIER2P\",\"TRCODEP\", \n",
    "                                    \"TEWHERE\",\"TELFS\", \"TUFNWGTP\",\"TUSTARTTIM\",\"TUSTOPTIME\", \"TUYEAR\", \"TURETOT\"])\n",
    "multi_merged"
   ]
  },
  {
   "cell_type": "code",
   "execution_count": 6,
   "metadata": {},
   "outputs": [
    {
     "data": {
      "text/plain": [
       "array([-1,  1,  3,  2,  0])"
      ]
     },
     "execution_count": 6,
     "metadata": {},
     "output_type": "execute_result"
    }
   ],
   "source": [
    "#TELFS = employment status \n",
    "multi_merged[\"TURETOT\"].unique()"
   ]
  },
  {
   "cell_type": "markdown",
   "metadata": {},
   "source": [
    "## Retired Population"
   ]
  },
  {
   "cell_type": "code",
   "execution_count": 7,
   "metadata": {},
   "outputs": [
    {
     "data": {
      "text/plain": [
       "array([1])"
      ]
     },
     "execution_count": 7,
     "metadata": {},
     "output_type": "execute_result"
    }
   ],
   "source": [
    "retired_codes = [1] # #1 yes, I am still retired\n",
    "multi_merged_retired = multi_merged[multi_merged[\"TURETOT\"].isin(retired_codes)]\n",
    "multi_merged_retired[\"TURETOT\"].unique()"
   ]
  },
  {
   "cell_type": "code",
   "execution_count": 8,
   "metadata": {},
   "outputs": [
    {
     "data": {
      "text/plain": [
       "12018510621.796375"
      ]
     },
     "execution_count": 8,
     "metadata": {},
     "output_type": "execute_result"
    }
   ],
   "source": [
    "retired_2003 = multi_merged_retired[multi_merged_retired[\"TUCASEID\"].apply(str).str.startswith(\"2003\")]\n",
    "atus_2003_retired_weight = retired_2003.drop_duplicates(subset=[\"TUCASEID\"])\n",
    "atus_2003_retired_weight = atus_2003_retired_weight[\"TUFNWGTP\"].sum()\n",
    "atus_2003_retired_weight"
   ]
  },
  {
   "cell_type": "markdown",
   "metadata": {},
   "source": [
    "## 2003-2019 Residential - Retired"
   ]
  },
  {
   "cell_type": "code",
   "execution_count": 9,
   "metadata": {},
   "outputs": [],
   "source": [
    "#only residential location from 2003-2019\n",
    "residential_location = [-1,1,3]\n",
    "atus_multi_yr_res_retired = multi_merged_retired[multi_merged_retired[\"TEWHERE\"].isin(residential_location)]\n",
    "#atus_multi_yr_res_retired"
   ]
  },
  {
   "cell_type": "code",
   "execution_count": 10,
   "metadata": {},
   "outputs": [],
   "source": [
    "#atus residential year seperation by retired population \n",
    "atus_2003_res_retired = atus_multi_yr_res_retired[atus_multi_yr_res_retired[\"TUCASEID\"].apply(str).str.startswith(\"2003\")]\n",
    "atus_2004_res_retired = atus_multi_yr_res_retired[atus_multi_yr_res_retired[\"TUCASEID\"].apply(str).str.startswith(\"2004\")]\n",
    "atus_2005_res_retired = atus_multi_yr_res_retired[atus_multi_yr_res_retired[\"TUCASEID\"].apply(str).str.startswith(\"2005\")]\n",
    "atus_2006_res_retired = atus_multi_yr_res_retired[atus_multi_yr_res_retired[\"TUCASEID\"].apply(str).str.startswith(\"2006\")]\n",
    "atus_2007_res_retired = atus_multi_yr_res_retired[atus_multi_yr_res_retired[\"TUCASEID\"].apply(str).str.startswith(\"2007\")]\n",
    "atus_2008_res_retired = atus_multi_yr_res_retired[atus_multi_yr_res_retired[\"TUCASEID\"].apply(str).str.startswith(\"2008\")]\n",
    "atus_2009_res_retired = atus_multi_yr_res_retired[atus_multi_yr_res_retired[\"TUCASEID\"].apply(str).str.startswith(\"2009\")]\n",
    "atus_2010_res_retired = atus_multi_yr_res_retired[atus_multi_yr_res_retired[\"TUCASEID\"].apply(str).str.startswith(\"2010\")]\n",
    "atus_2011_res_retired = atus_multi_yr_res_retired[atus_multi_yr_res_retired[\"TUCASEID\"].apply(str).str.startswith(\"2011\")]\n",
    "atus_2012_res_retired = atus_multi_yr_res_retired[atus_multi_yr_res_retired[\"TUCASEID\"].apply(str).str.startswith(\"2012\")]\n",
    "atus_2013_res_retired = atus_multi_yr_res_retired[atus_multi_yr_res_retired[\"TUCASEID\"].apply(str).str.startswith(\"2013\")]\n",
    "atus_2014_res_retired = atus_multi_yr_res_retired[atus_multi_yr_res_retired[\"TUCASEID\"].apply(str).str.startswith(\"2014\")]\n",
    "atus_2015_res_retired = atus_multi_yr_res_retired[atus_multi_yr_res_retired[\"TUCASEID\"].apply(str).str.startswith(\"2015\")]\n",
    "atus_2016_res_retired = atus_multi_yr_res_retired[atus_multi_yr_res_retired[\"TUCASEID\"].apply(str).str.startswith(\"2016\")]\n",
    "atus_2017_res_retired = atus_multi_yr_res_retired[atus_multi_yr_res_retired[\"TUCASEID\"].apply(str).str.startswith(\"2017\")]\n",
    "atus_2018_res_retired = atus_multi_yr_res_retired[atus_multi_yr_res_retired[\"TUCASEID\"].apply(str).str.startswith(\"2018\")]\n",
    "atus_2019_res_retired = atus_multi_yr_res_retired[atus_multi_yr_res_retired[\"TUCASEID\"].apply(str).str.startswith(\"2019\")]\n",
    "#atus_2003_res_retired"
   ]
  },
  {
   "cell_type": "code",
   "execution_count": null,
   "metadata": {},
   "outputs": [],
   "source": []
  },
  {
   "cell_type": "markdown",
   "metadata": {},
   "source": [
    "### 2003 All Residential Activities - Retired Population"
   ]
  },
  {
   "cell_type": "code",
   "execution_count": 11,
   "metadata": {},
   "outputs": [],
   "source": [
    "atus_2003_all_res_retired = atus_2003_res_retired.groupby([\"TUCASEID\"]).sum().filter([\"TUCASEID\", \"TUACTDUR24\"])\n",
    "#atus_2003_all_res_retired"
   ]
  },
  {
   "cell_type": "code",
   "execution_count": 12,
   "metadata": {},
   "outputs": [],
   "source": [
    "atus_2003_all_res_retired_merge = pd.merge(atus_2003_all_res_retired, multi_resp, on= \"TUCASEID\").filter([\"TUCASEID\",\"TUACTDUR24\",\"TUFNWGTP\"])\n",
    "#atus_2003_all_res_retired_merge"
   ]
  },
  {
   "cell_type": "code",
   "execution_count": 13,
   "metadata": {},
   "outputs": [],
   "source": [
    "atus_2003_all_res_retired_merge[\"Multiplied Weight\"] = atus_2003_all_res_retired_merge[\"TUACTDUR24\"] * atus_2003_all_res_retired_merge[\"TUFNWGTP\"]\n",
    "#atus_2003_all_res_retired_merge"
   ]
  },
  {
   "cell_type": "code",
   "execution_count": 14,
   "metadata": {},
   "outputs": [
    {
     "data": {
      "text/plain": [
       "15226164416990.12"
      ]
     },
     "execution_count": 14,
     "metadata": {},
     "output_type": "execute_result"
    }
   ],
   "source": [
    "atus_2003_all_res_retired_multiplied_weight = atus_2003_all_res_retired_merge[\"Multiplied Weight\"].sum()\n",
    "atus_2003_all_res_retired_multiplied_weight"
   ]
  },
  {
   "cell_type": "code",
   "execution_count": 15,
   "metadata": {},
   "outputs": [
    {
     "data": {
      "text/plain": [
       "12018510621.796375"
      ]
     },
     "execution_count": 15,
     "metadata": {},
     "output_type": "execute_result"
    }
   ],
   "source": [
    "retired_2003 = multi_merged_retired[multi_merged_retired[\"TUCASEID\"].apply(str).str.startswith(\"2003\")]\n",
    "atus_2003_retired_weight = retired_2003.drop_duplicates(subset=[\"TUCASEID\"])\n",
    "atus_2003_retired_weight = atus_2003_retired_weight[\"TUFNWGTP\"].sum()\n",
    "atus_2003_retired_weight"
   ]
  },
  {
   "cell_type": "code",
   "execution_count": 16,
   "metadata": {},
   "outputs": [
    {
     "data": {
      "text/plain": [
       "21.11487978299137"
      ]
     },
     "execution_count": 16,
     "metadata": {},
     "output_type": "execute_result"
    }
   ],
   "source": [
    "all_act_2003_res_retired_hpd = atus_2003_all_res_retired_multiplied_weight / atus_2003_retired_weight / 60\n",
    "all_act_2003_res_retired_hpd"
   ]
  },
  {
   "cell_type": "markdown",
   "metadata": {},
   "source": [
    "### 2004 All Residential Activities - Retired Population"
   ]
  },
  {
   "cell_type": "code",
   "execution_count": 17,
   "metadata": {},
   "outputs": [],
   "source": [
    "atus_2004_all_res_retired = atus_2004_res_retired.groupby([\"TUCASEID\"]).sum().filter([\"TUCASEID\", \"TUACTDUR24\"])\n",
    "#atus_2004_all_res_retired"
   ]
  },
  {
   "cell_type": "code",
   "execution_count": 18,
   "metadata": {},
   "outputs": [],
   "source": [
    "atus_2004_all_res_retired_merge = pd.merge(atus_2004_all_res_retired, multi_resp, on= \"TUCASEID\").filter([\"TUCASEID\",\"TUACTDUR24\",\"TUFNWGTP\"])\n",
    "atus_2004_all_res_retired_merge[\"Multiplied Weight\"] = atus_2004_all_res_retired_merge[\"TUACTDUR24\"] * atus_2004_all_res_retired_merge[\"TUFNWGTP\"]\n",
    "#atus_2004_all_res_retired_merge"
   ]
  },
  {
   "cell_type": "code",
   "execution_count": 19,
   "metadata": {},
   "outputs": [],
   "source": [
    "retired_2004 = multi_merged_retired[multi_merged_retired[\"TUCASEID\"].apply(str).str.startswith(\"2004\")]\n",
    "atus_2004_retired_weight = retired_2004.drop_duplicates(subset=[\"TUCASEID\"])\n",
    "atus_2004_retired_weight = atus_2004_retired_weight[\"TUFNWGTP\"].sum()\n",
    "\n",
    "atus_2004_all_res_retired_multiplied_weight = atus_2004_all_res_retired_merge[\"Multiplied Weight\"].sum()"
   ]
  },
  {
   "cell_type": "code",
   "execution_count": 20,
   "metadata": {},
   "outputs": [
    {
     "data": {
      "text/plain": [
       "21.042750720421736"
      ]
     },
     "execution_count": 20,
     "metadata": {},
     "output_type": "execute_result"
    }
   ],
   "source": [
    "all_act_2004_res_retired_hpd = atus_2004_all_res_retired_multiplied_weight / atus_2004_retired_weight / 60\n",
    "all_act_2004_res_retired_hpd"
   ]
  },
  {
   "cell_type": "markdown",
   "metadata": {},
   "source": [
    "### 2005 All Residential Activities - Retired Population"
   ]
  },
  {
   "cell_type": "code",
   "execution_count": 21,
   "metadata": {},
   "outputs": [],
   "source": [
    "atus_2005_all_res_retired = atus_2005_res_retired.groupby([\"TUCASEID\"]).sum().filter([\"TUCASEID\", \"TUACTDUR24\"])\n",
    "#atus_2005_all_res_retired"
   ]
  },
  {
   "cell_type": "code",
   "execution_count": 22,
   "metadata": {},
   "outputs": [],
   "source": [
    "atus_2005_all_res_retired_merge = pd.merge(atus_2005_all_res_retired, multi_resp, on= \"TUCASEID\").filter([\"TUCASEID\",\"TUACTDUR24\",\"TUFNWGTP\"])\n",
    "atus_2005_all_res_retired_merge[\"Multiplied Weight\"] = atus_2005_all_res_retired_merge[\"TUACTDUR24\"] * atus_2005_all_res_retired_merge[\"TUFNWGTP\"]\n",
    "#atus_2005_all_res_retired_merge"
   ]
  },
  {
   "cell_type": "code",
   "execution_count": 23,
   "metadata": {},
   "outputs": [],
   "source": [
    "retired_2005 = multi_merged_retired[multi_merged_retired[\"TUCASEID\"].apply(str).str.startswith(\"2005\")]\n",
    "atus_2005_retired_weight = retired_2005.drop_duplicates(subset=[\"TUCASEID\"])\n",
    "atus_2005_retired_weight = atus_2005_retired_weight[\"TUFNWGTP\"].sum()\n",
    "\n",
    "atus_2005_all_res_retired_multiplied_weight = atus_2005_all_res_retired_merge[\"Multiplied Weight\"].sum()"
   ]
  },
  {
   "cell_type": "code",
   "execution_count": 24,
   "metadata": {},
   "outputs": [
    {
     "data": {
      "text/plain": [
       "20.990164239574423"
      ]
     },
     "execution_count": 24,
     "metadata": {},
     "output_type": "execute_result"
    }
   ],
   "source": [
    "all_act_2005_res_retired_hpd = atus_2005_all_res_retired_multiplied_weight / atus_2005_retired_weight / 60\n",
    "all_act_2005_res_retired_hpd"
   ]
  },
  {
   "cell_type": "markdown",
   "metadata": {},
   "source": [
    "### 2006 All Residential Activities - Retired Population"
   ]
  },
  {
   "cell_type": "code",
   "execution_count": 25,
   "metadata": {},
   "outputs": [],
   "source": [
    "atus_2006_all_res_retired = atus_2006_res_retired.groupby([\"TUCASEID\"]).sum().filter([\"TUCASEID\", \"TUACTDUR24\"])\n",
    "#atus_2006_all_res_retired"
   ]
  },
  {
   "cell_type": "code",
   "execution_count": 26,
   "metadata": {},
   "outputs": [],
   "source": [
    "atus_2006_all_res_retired_merge = pd.merge(atus_2006_all_res_retired, multi_resp, on= \"TUCASEID\").filter([\"TUCASEID\",\"TUACTDUR24\",\"TUFNWGTP\"])\n",
    "atus_2006_all_res_retired_merge[\"Multiplied Weight\"] = atus_2006_all_res_retired_merge[\"TUACTDUR24\"] * atus_2006_all_res_retired_merge[\"TUFNWGTP\"]\n",
    "#atus_2006_all_res_retired_merge"
   ]
  },
  {
   "cell_type": "code",
   "execution_count": 27,
   "metadata": {},
   "outputs": [],
   "source": [
    "retired_2006 = multi_merged_retired[multi_merged_retired[\"TUCASEID\"].apply(str).str.startswith(\"2006\")]\n",
    "atus_2006_retired_weight = retired_2006.drop_duplicates(subset=[\"TUCASEID\"])\n",
    "atus_2006_retired_weight = atus_2006_retired_weight[\"TUFNWGTP\"].sum()\n",
    "\n",
    "atus_2006_all_res_retired_multiplied_weight = atus_2006_all_res_retired_merge[\"Multiplied Weight\"].sum()"
   ]
  },
  {
   "cell_type": "code",
   "execution_count": 28,
   "metadata": {},
   "outputs": [
    {
     "data": {
      "text/plain": [
       "21.175995730290385"
      ]
     },
     "execution_count": 28,
     "metadata": {},
     "output_type": "execute_result"
    }
   ],
   "source": [
    "all_act_2006_res_retired_hpd = atus_2006_all_res_retired_multiplied_weight / atus_2006_retired_weight / 60\n",
    "all_act_2006_res_retired_hpd"
   ]
  },
  {
   "cell_type": "markdown",
   "metadata": {},
   "source": [
    "### 2007 All Residential Activities - Retired Population"
   ]
  },
  {
   "cell_type": "code",
   "execution_count": 29,
   "metadata": {},
   "outputs": [],
   "source": [
    "atus_2007_all_res_retired = atus_2007_res_retired.groupby([\"TUCASEID\"]).sum().filter([\"TUCASEID\", \"TUACTDUR24\"])\n",
    "#atus_2007_all_res_retired"
   ]
  },
  {
   "cell_type": "code",
   "execution_count": 30,
   "metadata": {},
   "outputs": [],
   "source": [
    "atus_2007_all_res_retired_merge = pd.merge(atus_2007_all_res_retired, multi_resp, on= \"TUCASEID\").filter([\"TUCASEID\",\"TUACTDUR24\",\"TUFNWGTP\"])\n",
    "atus_2007_all_res_retired_merge[\"Multiplied Weight\"] = atus_2007_all_res_retired_merge[\"TUACTDUR24\"] * atus_2007_all_res_retired_merge[\"TUFNWGTP\"]\n",
    "#atus_2007_all_res_retired_merge"
   ]
  },
  {
   "cell_type": "code",
   "execution_count": 31,
   "metadata": {},
   "outputs": [],
   "source": [
    "retired_2007 = multi_merged_retired[multi_merged_retired[\"TUCASEID\"].apply(str).str.startswith(\"2007\")]\n",
    "atus_2007_retired_weight = retired_2007.drop_duplicates(subset=[\"TUCASEID\"])\n",
    "atus_2007_retired_weight = atus_2007_retired_weight[\"TUFNWGTP\"].sum()\n",
    "\n",
    "atus_2007_all_res_retired_multiplied_weight = atus_2007_all_res_retired_merge[\"Multiplied Weight\"].sum()"
   ]
  },
  {
   "cell_type": "code",
   "execution_count": 32,
   "metadata": {},
   "outputs": [
    {
     "data": {
      "text/plain": [
       "20.967603125778794"
      ]
     },
     "execution_count": 32,
     "metadata": {},
     "output_type": "execute_result"
    }
   ],
   "source": [
    "all_act_2007_res_retired_hpd = atus_2007_all_res_retired_multiplied_weight / atus_2007_retired_weight / 60\n",
    "all_act_2007_res_retired_hpd"
   ]
  },
  {
   "cell_type": "markdown",
   "metadata": {},
   "source": [
    "### 2008 All Residential Activities - Retired Population"
   ]
  },
  {
   "cell_type": "code",
   "execution_count": 33,
   "metadata": {},
   "outputs": [],
   "source": [
    "atus_2008_all_res_retired = atus_2008_res_retired.groupby([\"TUCASEID\"]).sum().filter([\"TUCASEID\", \"TUACTDUR24\"])\n",
    "#atus_2008_all_res_retired"
   ]
  },
  {
   "cell_type": "code",
   "execution_count": 34,
   "metadata": {},
   "outputs": [],
   "source": [
    "atus_2008_all_res_retired_merge = pd.merge(atus_2008_all_res_retired, multi_resp, on= \"TUCASEID\").filter([\"TUCASEID\",\"TUACTDUR24\",\"TUFNWGTP\"])\n",
    "atus_2008_all_res_retired_merge[\"Multiplied Weight\"] = atus_2008_all_res_retired_merge[\"TUACTDUR24\"] * atus_2008_all_res_retired_merge[\"TUFNWGTP\"]\n",
    "#atus_2008_all_res_retired_merge"
   ]
  },
  {
   "cell_type": "code",
   "execution_count": 35,
   "metadata": {},
   "outputs": [],
   "source": [
    "retired_2008 = multi_merged_retired[multi_merged_retired[\"TUCASEID\"].apply(str).str.startswith(\"2008\")]\n",
    "atus_2008_retired_weight = retired_2008.drop_duplicates(subset=[\"TUCASEID\"])\n",
    "atus_2008_retired_weight = atus_2008_retired_weight[\"TUFNWGTP\"].sum()\n",
    "\n",
    "atus_2008_all_res_retired_multiplied_weight = atus_2008_all_res_retired_merge[\"Multiplied Weight\"].sum()"
   ]
  },
  {
   "cell_type": "code",
   "execution_count": 36,
   "metadata": {},
   "outputs": [
    {
     "data": {
      "text/plain": [
       "21.21985302280641"
      ]
     },
     "execution_count": 36,
     "metadata": {},
     "output_type": "execute_result"
    }
   ],
   "source": [
    "all_act_2008_res_retired_hpd = atus_2008_all_res_retired_multiplied_weight / atus_2008_retired_weight / 60\n",
    "all_act_2008_res_retired_hpd"
   ]
  },
  {
   "cell_type": "markdown",
   "metadata": {},
   "source": [
    "### 2009 All Residential Activities - Retired Population"
   ]
  },
  {
   "cell_type": "code",
   "execution_count": 37,
   "metadata": {},
   "outputs": [],
   "source": [
    "atus_2009_all_res_retired = atus_2009_res_retired.groupby([\"TUCASEID\"]).sum().filter([\"TUCASEID\", \"TUACTDUR24\"])\n",
    "#atus_2009_all_res_retired"
   ]
  },
  {
   "cell_type": "code",
   "execution_count": 38,
   "metadata": {},
   "outputs": [],
   "source": [
    "atus_2009_all_res_retired_merge = pd.merge(atus_2009_all_res_retired, multi_resp, on= \"TUCASEID\").filter([\"TUCASEID\",\"TUACTDUR24\",\"TUFNWGTP\"])\n",
    "atus_2009_all_res_retired_merge[\"Multiplied Weight\"] = atus_2009_all_res_retired_merge[\"TUACTDUR24\"] * atus_2009_all_res_retired_merge[\"TUFNWGTP\"]\n",
    "#atus_2009_all_res_retired_merge"
   ]
  },
  {
   "cell_type": "code",
   "execution_count": 39,
   "metadata": {},
   "outputs": [],
   "source": [
    "retired_2009 = multi_merged_retired[multi_merged_retired[\"TUCASEID\"].apply(str).str.startswith(\"2009\")]\n",
    "atus_2009_retired_weight = retired_2009.drop_duplicates(subset=[\"TUCASEID\"])\n",
    "atus_2009_retired_weight = atus_2009_retired_weight[\"TUFNWGTP\"].sum()\n",
    "\n",
    "atus_2009_all_res_retired_multiplied_weight = atus_2009_all_res_retired_merge[\"Multiplied Weight\"].sum()"
   ]
  },
  {
   "cell_type": "code",
   "execution_count": 40,
   "metadata": {},
   "outputs": [
    {
     "data": {
      "text/plain": [
       "21.304571315331035"
      ]
     },
     "execution_count": 40,
     "metadata": {},
     "output_type": "execute_result"
    }
   ],
   "source": [
    "all_act_2009_res_retired_hpd = atus_2009_all_res_retired_multiplied_weight / atus_2009_retired_weight / 60\n",
    "all_act_2009_res_retired_hpd"
   ]
  },
  {
   "cell_type": "markdown",
   "metadata": {},
   "source": [
    "### 2010 All Residential Activities - Retired Population"
   ]
  },
  {
   "cell_type": "code",
   "execution_count": 41,
   "metadata": {},
   "outputs": [],
   "source": [
    "atus_2010_all_res_retired = atus_2010_res_retired.groupby([\"TUCASEID\"]).sum().filter([\"TUCASEID\", \"TUACTDUR24\"])\n",
    "#atus_2010_all_res_retired"
   ]
  },
  {
   "cell_type": "code",
   "execution_count": 42,
   "metadata": {},
   "outputs": [],
   "source": [
    "atus_2010_all_res_retired_merge = pd.merge(atus_2010_all_res_retired, multi_resp, on= \"TUCASEID\").filter([\"TUCASEID\",\"TUACTDUR24\",\"TUFNWGTP\"])\n",
    "atus_2010_all_res_retired_merge[\"Multiplied Weight\"] = atus_2010_all_res_retired_merge[\"TUACTDUR24\"] * atus_2010_all_res_retired_merge[\"TUFNWGTP\"]\n",
    "#atus_2010_all_res_retired_merge"
   ]
  },
  {
   "cell_type": "code",
   "execution_count": 43,
   "metadata": {},
   "outputs": [],
   "source": [
    "retired_2010 = multi_merged_retired[multi_merged_retired[\"TUCASEID\"].apply(str).str.startswith(\"2010\")]\n",
    "atus_2010_retired_weight = retired_2010.drop_duplicates(subset=[\"TUCASEID\"])\n",
    "atus_2010_retired_weight = atus_2010_retired_weight[\"TUFNWGTP\"].sum()\n",
    "\n",
    "atus_2010_all_res_retired_multiplied_weight = atus_2010_all_res_retired_merge[\"Multiplied Weight\"].sum()"
   ]
  },
  {
   "cell_type": "code",
   "execution_count": 44,
   "metadata": {},
   "outputs": [
    {
     "data": {
      "text/plain": [
       "21.19511082700762"
      ]
     },
     "execution_count": 44,
     "metadata": {},
     "output_type": "execute_result"
    }
   ],
   "source": [
    "all_act_2010_res_retired_hpd = atus_2010_all_res_retired_multiplied_weight / atus_2010_retired_weight / 60\n",
    "all_act_2010_res_retired_hpd"
   ]
  },
  {
   "cell_type": "markdown",
   "metadata": {},
   "source": [
    "### 2011 All Residential Activities - Retired Population"
   ]
  },
  {
   "cell_type": "code",
   "execution_count": 45,
   "metadata": {},
   "outputs": [],
   "source": [
    "atus_2011_all_res_retired = atus_2011_res_retired.groupby([\"TUCASEID\"]).sum().filter([\"TUCASEID\", \"TUACTDUR24\"])\n",
    "#atus_2011_all_res_retired"
   ]
  },
  {
   "cell_type": "code",
   "execution_count": 46,
   "metadata": {},
   "outputs": [],
   "source": [
    "atus_2011_all_res_retired_merge = pd.merge(atus_2011_all_res_retired, multi_resp, on= \"TUCASEID\").filter([\"TUCASEID\",\"TUACTDUR24\",\"TUFNWGTP\"])\n",
    "atus_2011_all_res_retired_merge[\"Multiplied Weight\"] = atus_2011_all_res_retired_merge[\"TUACTDUR24\"] * atus_2011_all_res_retired_merge[\"TUFNWGTP\"]\n",
    "#atus_2011_all_res_retired_merge"
   ]
  },
  {
   "cell_type": "code",
   "execution_count": 47,
   "metadata": {},
   "outputs": [],
   "source": [
    "atus_2011_all_res_retired_merge = pd.merge(atus_2011_all_res_retired, multi_resp, on= \"TUCASEID\").filter([\"TUCASEID\",\"TUACTDUR24\",\"TUFNWGTP\"])\n",
    "atus_2011_all_res_retired_merge[\"Multiplied Weight\"] = atus_2011_all_res_retired_merge[\"TUACTDUR24\"] * atus_2011_all_res_retired_merge[\"TUFNWGTP\"]\n",
    "#atus_2011_all_res_retired_merge"
   ]
  },
  {
   "cell_type": "code",
   "execution_count": 48,
   "metadata": {},
   "outputs": [],
   "source": [
    "retired_2011 = multi_merged_retired[multi_merged_retired[\"TUCASEID\"].apply(str).str.startswith(\"2011\")]\n",
    "atus_2011_retired_weight = retired_2011.drop_duplicates(subset=[\"TUCASEID\"])\n",
    "atus_2011_retired_weight = atus_2011_retired_weight[\"TUFNWGTP\"].sum()\n",
    "\n",
    "atus_2011_all_res_retired_multiplied_weight = atus_2011_all_res_retired_merge[\"Multiplied Weight\"].sum()"
   ]
  },
  {
   "cell_type": "code",
   "execution_count": 49,
   "metadata": {},
   "outputs": [
    {
     "data": {
      "text/plain": [
       "21.09168025497684"
      ]
     },
     "execution_count": 49,
     "metadata": {},
     "output_type": "execute_result"
    }
   ],
   "source": [
    "all_act_2011_res_retired_hpd = atus_2011_all_res_retired_multiplied_weight / atus_2011_retired_weight / 60\n",
    "all_act_2011_res_retired_hpd"
   ]
  },
  {
   "cell_type": "markdown",
   "metadata": {},
   "source": [
    "### 2012 All Residential Activities - Retired Population"
   ]
  },
  {
   "cell_type": "code",
   "execution_count": 50,
   "metadata": {},
   "outputs": [],
   "source": [
    "atus_2012_all_res_retired = atus_2012_res_retired.groupby([\"TUCASEID\"]).sum().filter([\"TUCASEID\", \"TUACTDUR24\"])\n",
    "#atus_2012_all_res_retired"
   ]
  },
  {
   "cell_type": "code",
   "execution_count": 51,
   "metadata": {},
   "outputs": [],
   "source": [
    "atus_2012_all_res_retired_merge = pd.merge(atus_2012_all_res_retired, multi_resp, on= \"TUCASEID\").filter([\"TUCASEID\",\"TUACTDUR24\",\"TUFNWGTP\"])\n",
    "atus_2012_all_res_retired_merge[\"Multiplied Weight\"] = atus_2012_all_res_retired_merge[\"TUACTDUR24\"] * atus_2012_all_res_retired_merge[\"TUFNWGTP\"]\n",
    "#atus_2012_all_res_retired_merge"
   ]
  },
  {
   "cell_type": "code",
   "execution_count": 52,
   "metadata": {},
   "outputs": [],
   "source": [
    "atus_2012_all_res_retired_merge = pd.merge(atus_2012_all_res_retired, multi_resp, on= \"TUCASEID\").filter([\"TUCASEID\",\"TUACTDUR24\",\"TUFNWGTP\"])\n",
    "atus_2012_all_res_retired_merge[\"Multiplied Weight\"] = atus_2012_all_res_retired_merge[\"TUACTDUR24\"] * atus_2012_all_res_retired_merge[\"TUFNWGTP\"]\n",
    "#atus_2012_all_res_retired_merge"
   ]
  },
  {
   "cell_type": "code",
   "execution_count": 53,
   "metadata": {},
   "outputs": [],
   "source": [
    "retired_2012 = multi_merged_retired[multi_merged_retired[\"TUCASEID\"].apply(str).str.startswith(\"2012\")]\n",
    "atus_2012_retired_weight = retired_2012.drop_duplicates(subset=[\"TUCASEID\"])\n",
    "atus_2012_retired_weight = atus_2012_retired_weight[\"TUFNWGTP\"].sum()\n",
    "\n",
    "atus_2012_all_res_retired_multiplied_weight = atus_2012_all_res_retired_merge[\"Multiplied Weight\"].sum()"
   ]
  },
  {
   "cell_type": "code",
   "execution_count": 54,
   "metadata": {},
   "outputs": [
    {
     "data": {
      "text/plain": [
       "21.20186962646235"
      ]
     },
     "execution_count": 54,
     "metadata": {},
     "output_type": "execute_result"
    }
   ],
   "source": [
    "all_act_2012_res_retired_hpd = atus_2012_all_res_retired_multiplied_weight / atus_2012_retired_weight / 60\n",
    "all_act_2012_res_retired_hpd"
   ]
  },
  {
   "cell_type": "markdown",
   "metadata": {},
   "source": [
    "### 2013 All Residential Activities - Retired Population"
   ]
  },
  {
   "cell_type": "code",
   "execution_count": 55,
   "metadata": {},
   "outputs": [],
   "source": [
    "atus_2013_all_res_retired = atus_2013_res_retired.groupby([\"TUCASEID\"]).sum().filter([\"TUCASEID\", \"TUACTDUR24\"])\n",
    "#atus_2013_all_res_retired"
   ]
  },
  {
   "cell_type": "code",
   "execution_count": 56,
   "metadata": {},
   "outputs": [],
   "source": [
    "atus_2013_all_res_retired_merge = pd.merge(atus_2013_all_res_retired, multi_resp, on= \"TUCASEID\").filter([\"TUCASEID\",\"TUACTDUR24\",\"TUFNWGTP\"])\n",
    "atus_2013_all_res_retired_merge[\"Multiplied Weight\"] = atus_2013_all_res_retired_merge[\"TUACTDUR24\"] * atus_2013_all_res_retired_merge[\"TUFNWGTP\"]\n",
    "#atus_2013_all_res_retired_merge"
   ]
  },
  {
   "cell_type": "code",
   "execution_count": 57,
   "metadata": {},
   "outputs": [],
   "source": [
    "atus_2013_all_res_retired_merge = pd.merge(atus_2013_all_res_retired, multi_resp, on= \"TUCASEID\").filter([\"TUCASEID\",\"TUACTDUR24\",\"TUFNWGTP\"])\n",
    "atus_2013_all_res_retired_merge[\"Multiplied Weight\"] = atus_2013_all_res_retired_merge[\"TUACTDUR24\"] * atus_2013_all_res_retired_merge[\"TUFNWGTP\"]\n",
    "#atus_2013_all_res_retired_merge"
   ]
  },
  {
   "cell_type": "code",
   "execution_count": 58,
   "metadata": {},
   "outputs": [],
   "source": [
    "retired_2013 = multi_merged_retired[multi_merged_retired[\"TUCASEID\"].apply(str).str.startswith(\"2013\")]\n",
    "atus_2013_retired_weight = retired_2013.drop_duplicates(subset=[\"TUCASEID\"])\n",
    "atus_2013_retired_weight = atus_2013_retired_weight[\"TUFNWGTP\"].sum()\n",
    "\n",
    "atus_2013_all_res_retired_multiplied_weight = atus_2013_all_res_retired_merge[\"Multiplied Weight\"].sum()"
   ]
  },
  {
   "cell_type": "code",
   "execution_count": 59,
   "metadata": {},
   "outputs": [
    {
     "data": {
      "text/plain": [
       "21.153131359685037"
      ]
     },
     "execution_count": 59,
     "metadata": {},
     "output_type": "execute_result"
    }
   ],
   "source": [
    "all_act_2013_res_retired_hpd = atus_2013_all_res_retired_multiplied_weight / atus_2013_retired_weight / 60\n",
    "all_act_2013_res_retired_hpd"
   ]
  },
  {
   "cell_type": "markdown",
   "metadata": {},
   "source": [
    "### 2014 All Residential Activities - Retired Population"
   ]
  },
  {
   "cell_type": "code",
   "execution_count": 60,
   "metadata": {},
   "outputs": [],
   "source": [
    "atus_2014_all_res_retired = atus_2014_res_retired.groupby([\"TUCASEID\"]).sum().filter([\"TUCASEID\", \"TUACTDUR24\"])\n",
    "#atus_2014_all_res_retired"
   ]
  },
  {
   "cell_type": "code",
   "execution_count": 61,
   "metadata": {},
   "outputs": [],
   "source": [
    "atus_2014_all_res_retired_merge = pd.merge(atus_2014_all_res_retired, multi_resp, on= \"TUCASEID\").filter([\"TUCASEID\",\"TUACTDUR24\",\"TUFNWGTP\"])\n",
    "atus_2014_all_res_retired_merge[\"Multiplied Weight\"] = atus_2014_all_res_retired_merge[\"TUACTDUR24\"] * atus_2014_all_res_retired_merge[\"TUFNWGTP\"]\n",
    "#atus_2014_all_res_retired_merge"
   ]
  },
  {
   "cell_type": "code",
   "execution_count": 62,
   "metadata": {},
   "outputs": [],
   "source": [
    "atus_2014_all_res_retired_merge = pd.merge(atus_2014_all_res_retired, multi_resp, on= \"TUCASEID\").filter([\"TUCASEID\",\"TUACTDUR24\",\"TUFNWGTP\"])\n",
    "atus_2014_all_res_retired_merge[\"Multiplied Weight\"] = atus_2014_all_res_retired_merge[\"TUACTDUR24\"] * atus_2014_all_res_retired_merge[\"TUFNWGTP\"]\n",
    "#atus_2014_all_res_retired_merge"
   ]
  },
  {
   "cell_type": "code",
   "execution_count": 63,
   "metadata": {},
   "outputs": [],
   "source": [
    "retired_2014 = multi_merged_retired[multi_merged_retired[\"TUCASEID\"].apply(str).str.startswith(\"2014\")]\n",
    "atus_2014_retired_weight = retired_2014.drop_duplicates(subset=[\"TUCASEID\"])\n",
    "atus_2014_retired_weight = atus_2014_retired_weight[\"TUFNWGTP\"].sum()\n",
    "\n",
    "atus_2014_all_res_retired_multiplied_weight = atus_2014_all_res_retired_merge[\"Multiplied Weight\"].sum()"
   ]
  },
  {
   "cell_type": "code",
   "execution_count": 64,
   "metadata": {},
   "outputs": [
    {
     "data": {
      "text/plain": [
       "21.17531506370368"
      ]
     },
     "execution_count": 64,
     "metadata": {},
     "output_type": "execute_result"
    }
   ],
   "source": [
    "all_act_2014_res_retired_hpd = atus_2014_all_res_retired_multiplied_weight / atus_2014_retired_weight / 60\n",
    "all_act_2014_res_retired_hpd"
   ]
  },
  {
   "cell_type": "markdown",
   "metadata": {},
   "source": [
    "### 2015 All Residential Activities - Retired Population"
   ]
  },
  {
   "cell_type": "code",
   "execution_count": 65,
   "metadata": {},
   "outputs": [],
   "source": [
    "atus_2015_all_res_retired = atus_2015_res_retired.groupby([\"TUCASEID\"]).sum().filter([\"TUCASEID\", \"TUACTDUR24\"])\n",
    "#atus_2015_all_res_retired"
   ]
  },
  {
   "cell_type": "code",
   "execution_count": 66,
   "metadata": {},
   "outputs": [],
   "source": [
    "atus_2015_all_res_retired_merge = pd.merge(atus_2015_all_res_retired, multi_resp, on= \"TUCASEID\").filter([\"TUCASEID\",\"TUACTDUR24\",\"TUFNWGTP\"])\n",
    "atus_2015_all_res_retired_merge[\"Multiplied Weight\"] = atus_2015_all_res_retired_merge[\"TUACTDUR24\"] * atus_2015_all_res_retired_merge[\"TUFNWGTP\"]\n",
    "#atus_2015_all_res_retired_merge"
   ]
  },
  {
   "cell_type": "code",
   "execution_count": 67,
   "metadata": {},
   "outputs": [],
   "source": [
    "atus_2015_all_res_retired_merge = pd.merge(atus_2015_all_res_retired, multi_resp, on= \"TUCASEID\").filter([\"TUCASEID\",\"TUACTDUR24\",\"TUFNWGTP\"])\n",
    "atus_2015_all_res_retired_merge[\"Multiplied Weight\"] = atus_2015_all_res_retired_merge[\"TUACTDUR24\"] * atus_2015_all_res_retired_merge[\"TUFNWGTP\"]\n",
    "#atus_2015_all_res_retired_merge"
   ]
  },
  {
   "cell_type": "code",
   "execution_count": 68,
   "metadata": {},
   "outputs": [],
   "source": [
    "retired_2015 = multi_merged_retired[multi_merged_retired[\"TUCASEID\"].apply(str).str.startswith(\"2015\")]\n",
    "atus_2015_retired_weight = retired_2015.drop_duplicates(subset=[\"TUCASEID\"])\n",
    "atus_2015_retired_weight = atus_2015_retired_weight[\"TUFNWGTP\"].sum()\n",
    "\n",
    "atus_2015_all_res_retired_multiplied_weight = atus_2015_all_res_retired_merge[\"Multiplied Weight\"].sum()"
   ]
  },
  {
   "cell_type": "code",
   "execution_count": 69,
   "metadata": {},
   "outputs": [
    {
     "data": {
      "text/plain": [
       "21.21513958925124"
      ]
     },
     "execution_count": 69,
     "metadata": {},
     "output_type": "execute_result"
    }
   ],
   "source": [
    "all_act_2015_res_retired_hpd = atus_2015_all_res_retired_multiplied_weight / atus_2015_retired_weight / 60\n",
    "all_act_2015_res_retired_hpd"
   ]
  },
  {
   "cell_type": "markdown",
   "metadata": {},
   "source": [
    "### 2016 All Residential Activities - Retired Population"
   ]
  },
  {
   "cell_type": "code",
   "execution_count": 70,
   "metadata": {},
   "outputs": [],
   "source": [
    "atus_2016_all_res_retired = atus_2016_res_retired.groupby([\"TUCASEID\"]).sum().filter([\"TUCASEID\", \"TUACTDUR24\"])\n",
    "#atus_2016_all_res_retired"
   ]
  },
  {
   "cell_type": "code",
   "execution_count": 71,
   "metadata": {},
   "outputs": [],
   "source": [
    "atus_2016_all_res_retired_merge = pd.merge(atus_2016_all_res_retired, multi_resp, on= \"TUCASEID\").filter([\"TUCASEID\",\"TUACTDUR24\",\"TUFNWGTP\"])\n",
    "atus_2016_all_res_retired_merge[\"Multiplied Weight\"] = atus_2016_all_res_retired_merge[\"TUACTDUR24\"] * atus_2016_all_res_retired_merge[\"TUFNWGTP\"]\n",
    "#atus_2016_all_res_retired_merge"
   ]
  },
  {
   "cell_type": "code",
   "execution_count": 72,
   "metadata": {},
   "outputs": [],
   "source": [
    "atus_2016_all_res_retired_merge = pd.merge(atus_2016_all_res_retired, multi_resp, on= \"TUCASEID\").filter([\"TUCASEID\",\"TUACTDUR24\",\"TUFNWGTP\"])\n",
    "atus_2016_all_res_retired_merge[\"Multiplied Weight\"] = atus_2016_all_res_retired_merge[\"TUACTDUR24\"] * atus_2016_all_res_retired_merge[\"TUFNWGTP\"]\n",
    "#atus_2016_all_res_retired_merge"
   ]
  },
  {
   "cell_type": "code",
   "execution_count": 73,
   "metadata": {},
   "outputs": [],
   "source": [
    "retired_2016 = multi_merged_retired[multi_merged_retired[\"TUCASEID\"].apply(str).str.startswith(\"2016\")]\n",
    "atus_2016_retired_weight = retired_2016.drop_duplicates(subset=[\"TUCASEID\"])\n",
    "atus_2016_retired_weight = atus_2016_retired_weight[\"TUFNWGTP\"].sum()\n",
    "\n",
    "atus_2016_all_res_retired_multiplied_weight = atus_2016_all_res_retired_merge[\"Multiplied Weight\"].sum()"
   ]
  },
  {
   "cell_type": "code",
   "execution_count": 74,
   "metadata": {},
   "outputs": [
    {
     "data": {
      "text/plain": [
       "21.16225710056438"
      ]
     },
     "execution_count": 74,
     "metadata": {},
     "output_type": "execute_result"
    }
   ],
   "source": [
    "all_act_2016_res_retired_hpd = atus_2016_all_res_retired_multiplied_weight / atus_2016_retired_weight / 60\n",
    "all_act_2016_res_retired_hpd"
   ]
  },
  {
   "cell_type": "markdown",
   "metadata": {},
   "source": [
    "### 2017 All Residential Activities - Retired Population"
   ]
  },
  {
   "cell_type": "code",
   "execution_count": 75,
   "metadata": {},
   "outputs": [],
   "source": [
    "atus_2017_all_res_retired = atus_2017_res_retired.groupby([\"TUCASEID\"]).sum().filter([\"TUCASEID\", \"TUACTDUR24\"])\n",
    "#atus_2017_all_res_retired"
   ]
  },
  {
   "cell_type": "code",
   "execution_count": 76,
   "metadata": {},
   "outputs": [],
   "source": [
    "atus_2017_all_res_retired_merge = pd.merge(atus_2017_all_res_retired, multi_resp, on= \"TUCASEID\").filter([\"TUCASEID\",\"TUACTDUR24\",\"TUFNWGTP\"])\n",
    "atus_2017_all_res_retired_merge[\"Multiplied Weight\"] = atus_2017_all_res_retired_merge[\"TUACTDUR24\"] * atus_2017_all_res_retired_merge[\"TUFNWGTP\"]\n",
    "#atus_2017_all_res_retired_merge"
   ]
  },
  {
   "cell_type": "code",
   "execution_count": 77,
   "metadata": {},
   "outputs": [],
   "source": [
    "atus_2017_all_res_retired_merge = pd.merge(atus_2017_all_res_retired, multi_resp, on= \"TUCASEID\").filter([\"TUCASEID\",\"TUACTDUR24\",\"TUFNWGTP\"])\n",
    "atus_2017_all_res_retired_merge[\"Multiplied Weight\"] = atus_2017_all_res_retired_merge[\"TUACTDUR24\"] * atus_2017_all_res_retired_merge[\"TUFNWGTP\"]\n",
    "#atus_2017_all_res_retired_merge"
   ]
  },
  {
   "cell_type": "code",
   "execution_count": 78,
   "metadata": {},
   "outputs": [],
   "source": [
    "retired_2017 = multi_merged_retired[multi_merged_retired[\"TUCASEID\"].apply(str).str.startswith(\"2017\")]\n",
    "atus_2017_retired_weight = retired_2017.drop_duplicates(subset=[\"TUCASEID\"])\n",
    "atus_2017_retired_weight = atus_2017_retired_weight[\"TUFNWGTP\"].sum()\n",
    "\n",
    "atus_2017_all_res_retired_multiplied_weight = atus_2017_all_res_retired_merge[\"Multiplied Weight\"].sum()"
   ]
  },
  {
   "cell_type": "code",
   "execution_count": 79,
   "metadata": {},
   "outputs": [
    {
     "data": {
      "text/plain": [
       "21.292020790122578"
      ]
     },
     "execution_count": 79,
     "metadata": {},
     "output_type": "execute_result"
    }
   ],
   "source": [
    "all_act_2017_res_retired_hpd = atus_2017_all_res_retired_multiplied_weight / atus_2017_retired_weight / 60\n",
    "all_act_2017_res_retired_hpd"
   ]
  },
  {
   "cell_type": "markdown",
   "metadata": {},
   "source": [
    "### 2018 All Residential Activities - Retired Population"
   ]
  },
  {
   "cell_type": "code",
   "execution_count": 80,
   "metadata": {},
   "outputs": [],
   "source": [
    "atus_2018_all_res_retired = atus_2018_res_retired.groupby([\"TUCASEID\"]).sum().filter([\"TUCASEID\", \"TUACTDUR24\"])\n",
    "#atus_2018_all_res_retired"
   ]
  },
  {
   "cell_type": "code",
   "execution_count": 81,
   "metadata": {},
   "outputs": [],
   "source": [
    "atus_2018_all_res_retired_merge = pd.merge(atus_2018_all_res_retired, multi_resp, on= \"TUCASEID\").filter([\"TUCASEID\",\"TUACTDUR24\",\"TUFNWGTP\"])\n",
    "atus_2018_all_res_retired_merge[\"Multiplied Weight\"] = atus_2018_all_res_retired_merge[\"TUACTDUR24\"] * atus_2018_all_res_retired_merge[\"TUFNWGTP\"]\n",
    "#atus_2018_all_res_retired_merge"
   ]
  },
  {
   "cell_type": "code",
   "execution_count": 82,
   "metadata": {},
   "outputs": [],
   "source": [
    "atus_2018_all_res_retired_merge = pd.merge(atus_2018_all_res_retired, multi_resp, on= \"TUCASEID\").filter([\"TUCASEID\",\"TUACTDUR24\",\"TUFNWGTP\"])\n",
    "atus_2018_all_res_retired_merge[\"Multiplied Weight\"] = atus_2018_all_res_retired_merge[\"TUACTDUR24\"] * atus_2018_all_res_retired_merge[\"TUFNWGTP\"]\n",
    "#atus_2018_all_res_retired_merge"
   ]
  },
  {
   "cell_type": "code",
   "execution_count": 83,
   "metadata": {},
   "outputs": [],
   "source": [
    "retired_2018 = multi_merged_retired[multi_merged_retired[\"TUCASEID\"].apply(str).str.startswith(\"2018\")]\n",
    "atus_2018_retired_weight = retired_2018.drop_duplicates(subset=[\"TUCASEID\"])\n",
    "atus_2018_retired_weight = atus_2018_retired_weight[\"TUFNWGTP\"].sum()\n",
    "\n",
    "atus_2018_all_res_retired_multiplied_weight = atus_2018_all_res_retired_merge[\"Multiplied Weight\"].sum()"
   ]
  },
  {
   "cell_type": "code",
   "execution_count": 84,
   "metadata": {},
   "outputs": [
    {
     "data": {
      "text/plain": [
       "21.199616622285113"
      ]
     },
     "execution_count": 84,
     "metadata": {},
     "output_type": "execute_result"
    }
   ],
   "source": [
    "all_act_2018_res_retired_hpd = atus_2018_all_res_retired_multiplied_weight / atus_2018_retired_weight / 60\n",
    "all_act_2018_res_retired_hpd"
   ]
  },
  {
   "cell_type": "markdown",
   "metadata": {},
   "source": [
    "### 2019 All Residential Activities - Retired Population"
   ]
  },
  {
   "cell_type": "code",
   "execution_count": 85,
   "metadata": {},
   "outputs": [],
   "source": [
    "atus_2019_all_res_retired = atus_2019_res_retired.groupby([\"TUCASEID\"]).sum().filter([\"TUCASEID\", \"TUACTDUR24\"])\n",
    "#atus_2019_all_res_retired"
   ]
  },
  {
   "cell_type": "code",
   "execution_count": 86,
   "metadata": {},
   "outputs": [],
   "source": [
    "atus_2019_all_res_retired_merge = pd.merge(atus_2019_all_res_retired, multi_resp, on= \"TUCASEID\").filter([\"TUCASEID\",\"TUACTDUR24\",\"TUFNWGTP\"])\n",
    "atus_2019_all_res_retired_merge[\"Multiplied Weight\"] = atus_2019_all_res_retired_merge[\"TUACTDUR24\"] * atus_2019_all_res_retired_merge[\"TUFNWGTP\"]\n",
    "#atus_2019_all_res_retired_merge"
   ]
  },
  {
   "cell_type": "code",
   "execution_count": 87,
   "metadata": {},
   "outputs": [],
   "source": [
    "atus_2019_all_res_retired_merge = pd.merge(atus_2019_all_res_retired, multi_resp, on= \"TUCASEID\").filter([\"TUCASEID\",\"TUACTDUR24\",\"TUFNWGTP\"])\n",
    "atus_2019_all_res_retired_merge[\"Multiplied Weight\"] = atus_2019_all_res_retired_merge[\"TUACTDUR24\"] * atus_2019_all_res_retired_merge[\"TUFNWGTP\"]\n",
    "#atus_2019_all_res_retired_merge"
   ]
  },
  {
   "cell_type": "code",
   "execution_count": 88,
   "metadata": {},
   "outputs": [],
   "source": [
    "retired_2019 = multi_merged_retired[multi_merged_retired[\"TUCASEID\"].apply(str).str.startswith(\"2019\")]\n",
    "atus_2019_retired_weight = retired_2019.drop_duplicates(subset=[\"TUCASEID\"])\n",
    "atus_2019_retired_weight = atus_2019_retired_weight[\"TUFNWGTP\"].sum()\n",
    "\n",
    "atus_2019_all_res_retired_multiplied_weight = atus_2019_all_res_retired_merge[\"Multiplied Weight\"].sum()"
   ]
  },
  {
   "cell_type": "code",
   "execution_count": 89,
   "metadata": {},
   "outputs": [
    {
     "data": {
      "text/plain": [
       "21.139688691869974"
      ]
     },
     "execution_count": 89,
     "metadata": {},
     "output_type": "execute_result"
    }
   ],
   "source": [
    "all_act_2019_res_retired_hpd = atus_2019_all_res_retired_multiplied_weight / atus_2019_retired_weight / 60\n",
    "all_act_2019_res_retired_hpd"
   ]
  },
  {
   "cell_type": "markdown",
   "metadata": {},
   "source": [
    "### Regresssion: All Residential Activity - Retired "
   ]
  },
  {
   "cell_type": "markdown",
   "metadata": {},
   "source": [
    "#### 2003 -2012 Regression "
   ]
  },
  {
   "cell_type": "code",
   "execution_count": 90,
   "metadata": {},
   "outputs": [],
   "source": [
    "year = np.array([2003, 2004, 2005, 2006, 2007, 2008, 2009, 2010,2011,2012]).reshape((-1, 1))\n",
    "activity_hours_per_day = np.array([all_act_2003_res_retired_hpd, all_act_2004_res_retired_hpd, all_act_2005_res_retired_hpd,\n",
    "                                   all_act_2006_res_retired_hpd, all_act_2007_res_retired_hpd, all_act_2008_res_retired_hpd,\n",
    "                                   all_act_2009_res_retired_hpd, all_act_2010_res_retired_hpd, all_act_2011_res_retired_hpd,\n",
    "                                   all_act_2012_res_retired_hpd]).reshape((-1, 1))\n",
    "\n",
    "activity_hours_per_yr = [i * 365 for i in activity_hours_per_day]\n",
    "#activity_hours_per_yr"
   ]
  },
  {
   "cell_type": "code",
   "execution_count": 91,
   "metadata": {},
   "outputs": [
    {
     "data": {
      "image/png": "[encoded data removed]",
      "text/plain": [
       "<Figure size 432x288 with 1 Axes>"
      ]
     },
     "metadata": {
      "needs_background": "light"
     },
     "output_type": "display_data"
    }
   ],
   "source": [
    "x = year\n",
    "y = activity_hours_per_yr\n",
    "x, y = np.array(x), np.array(y)\n",
    "\n",
    "model = LinearRegression().fit(x, y)\n",
    "\n",
    "y_pred = model.predict(x)  \n",
    "\n",
    "plt.scatter(x, y)\n",
    "plt.plot(x, y_pred, color='red')\n",
    "plt.show()"
   ]
  },
  {
   "cell_type": "code",
   "execution_count": 92,
   "metadata": {},
   "outputs": [
    {
     "data": {
      "text/plain": [
       "0.2237014853999153"
      ]
     },
     "execution_count": 92,
     "metadata": {},
     "output_type": "execute_result"
    }
   ],
   "source": [
    "coefficient_of_determination = model.score(x,y) #R sqaure value \n",
    "coefficient_of_determination"
   ]
  },
  {
   "cell_type": "code",
   "execution_count": 93,
   "metadata": {},
   "outputs": [
    {
     "data": {
      "text/plain": [
       "array([[6.16767028]])"
      ]
     },
     "execution_count": 93,
     "metadata": {},
     "output_type": "execute_result"
    }
   ],
   "source": [
    "all_act_2012_res_retired_slope = model.coef_\n",
    "all_act_2012_res_retired_slope"
   ]
  },
  {
   "cell_type": "markdown",
   "metadata": {},
   "source": [
    "#### 2003-2019 Regression"
   ]
  },
  {
   "cell_type": "code",
   "execution_count": 94,
   "metadata": {},
   "outputs": [],
   "source": [
    "year = np.array([2003, 2004, 2005, 2006, 2007, 2008, 2009, 2010,2011,2012, 2013, 2014, 2015, 2016, 2017, 2018, 2019]).reshape((-1, 1))\n",
    "activity_hours_per_day = np.array([all_act_2003_res_retired_hpd, all_act_2004_res_retired_hpd, all_act_2005_res_retired_hpd,\n",
    "                                   all_act_2006_res_retired_hpd, all_act_2007_res_retired_hpd, all_act_2008_res_retired_hpd,\n",
    "                                   all_act_2009_res_retired_hpd, all_act_2010_res_retired_hpd, all_act_2011_res_retired_hpd,\n",
    "                                   all_act_2012_res_retired_hpd, all_act_2013_res_retired_hpd, all_act_2014_res_retired_hpd,\n",
    "                                   all_act_2015_res_retired_hpd, all_act_2016_res_retired_hpd, all_act_2017_res_retired_hpd,\n",
    "                                   all_act_2018_res_retired_hpd, all_act_2019_res_retired_hpd]).reshape((-1, 1))\n",
    "\n",
    "activity_hours_per_yr = [i * 365 for i in activity_hours_per_day]\n",
    "#activity_hours_per_yr"
   ]
  },
  {
   "cell_type": "code",
   "execution_count": 95,
   "metadata": {},
   "outputs": [
    {
     "data": {
      "image/png": "[encoded data removed]",
      "text/plain": [
       "<Figure size 432x288 with 1 Axes>"
      ]
     },
     "metadata": {
      "needs_background": "light"
     },
     "output_type": "display_data"
    }
   ],
   "source": [
    "x = year\n",
    "y = activity_hours_per_yr\n",
    "x, y = np.array(x), np.array(y)\n",
    "\n",
    "model = LinearRegression().fit(x, y)\n",
    "\n",
    "y_pred = model.predict(x)  \n",
    "\n",
    "plt.scatter(x, y)\n",
    "plt.plot(x, y_pred, color='red')\n",
    "plt.show()"
   ]
  },
  {
   "cell_type": "code",
   "execution_count": 96,
   "metadata": {},
   "outputs": [
    {
     "data": {
      "text/plain": [
       "0.23277605010980518"
      ]
     },
     "execution_count": 96,
     "metadata": {},
     "output_type": "execute_result"
    }
   ],
   "source": [
    "coefficient_of_determination = model.score(x,y) #R sqaure value \n",
    "coefficient_of_determination"
   ]
  },
  {
   "cell_type": "code",
   "execution_count": 97,
   "metadata": {},
   "outputs": [
    {
     "data": {
      "text/plain": [
       "array([[3.22004217]])"
      ]
     },
     "execution_count": 97,
     "metadata": {},
     "output_type": "execute_result"
    }
   ],
   "source": [
    "all_act_2019_res_retired_slope = model.coef_\n",
    "all_act_2019_res_retired_slope"
   ]
  },
  {
   "cell_type": "markdown",
   "metadata": {},
   "source": [
    "### 2003-2019 NonResidential - Retired"
   ]
  },
  {
   "cell_type": "code",
   "execution_count": 98,
   "metadata": {},
   "outputs": [],
   "source": [
    "#non-residential = 2,4,5,6,7,8,9,10,11,30,31,32"
   ]
  },
  {
   "cell_type": "code",
   "execution_count": 99,
   "metadata": {},
   "outputs": [],
   "source": [
    "nonresidential_location = [2,4,5,6,7,8,9,10,11,30,31,32]\n",
    "atus_multi_yr_nonres_retired = multi_merged_retired[multi_merged_retired[\"TEWHERE\"].isin(nonresidential_location)]\n",
    "#atus_multi_yr_res_retired"
   ]
  },
  {
   "cell_type": "code",
   "execution_count": 100,
   "metadata": {},
   "outputs": [],
   "source": [
    "atus_2003_nonres_retired = atus_multi_yr_nonres_retired[atus_multi_yr_nonres_retired[\"TUCASEID\"].apply(str).str.startswith(\"2003\")]\n",
    "atus_2004_nonres_retired = atus_multi_yr_nonres_retired[atus_multi_yr_nonres_retired[\"TUCASEID\"].apply(str).str.startswith(\"2004\")]\n",
    "atus_2005_nonres_retired = atus_multi_yr_nonres_retired[atus_multi_yr_nonres_retired[\"TUCASEID\"].apply(str).str.startswith(\"2005\")]\n",
    "atus_2006_nonres_retired = atus_multi_yr_nonres_retired[atus_multi_yr_nonres_retired[\"TUCASEID\"].apply(str).str.startswith(\"2006\")]\n",
    "atus_2007_nonres_retired = atus_multi_yr_nonres_retired[atus_multi_yr_nonres_retired[\"TUCASEID\"].apply(str).str.startswith(\"2007\")]\n",
    "atus_2008_nonres_retired = atus_multi_yr_nonres_retired[atus_multi_yr_nonres_retired[\"TUCASEID\"].apply(str).str.startswith(\"2008\")]\n",
    "atus_2009_nonres_retired = atus_multi_yr_nonres_retired[atus_multi_yr_nonres_retired[\"TUCASEID\"].apply(str).str.startswith(\"2009\")]\n",
    "atus_2010_nonres_retired = atus_multi_yr_nonres_retired[atus_multi_yr_nonres_retired[\"TUCASEID\"].apply(str).str.startswith(\"2010\")]\n",
    "atus_2011_nonres_retired = atus_multi_yr_nonres_retired[atus_multi_yr_nonres_retired[\"TUCASEID\"].apply(str).str.startswith(\"2011\")]\n",
    "atus_2012_nonres_retired = atus_multi_yr_nonres_retired[atus_multi_yr_nonres_retired[\"TUCASEID\"].apply(str).str.startswith(\"2012\")]\n",
    "atus_2013_nonres_retired = atus_multi_yr_nonres_retired[atus_multi_yr_nonres_retired[\"TUCASEID\"].apply(str).str.startswith(\"2013\")]\n",
    "atus_2014_nonres_retired = atus_multi_yr_nonres_retired[atus_multi_yr_nonres_retired[\"TUCASEID\"].apply(str).str.startswith(\"2014\")]\n",
    "atus_2015_nonres_retired = atus_multi_yr_nonres_retired[atus_multi_yr_nonres_retired[\"TUCASEID\"].apply(str).str.startswith(\"2015\")]\n",
    "atus_2016_nonres_retired = atus_multi_yr_nonres_retired[atus_multi_yr_nonres_retired[\"TUCASEID\"].apply(str).str.startswith(\"2016\")]\n",
    "atus_2017_nonres_retired = atus_multi_yr_nonres_retired[atus_multi_yr_nonres_retired[\"TUCASEID\"].apply(str).str.startswith(\"2017\")]\n",
    "atus_2018_nonres_retired = atus_multi_yr_nonres_retired[atus_multi_yr_nonres_retired[\"TUCASEID\"].apply(str).str.startswith(\"2018\")]\n",
    "atus_2019_nonres_retired = atus_multi_yr_nonres_retired[atus_multi_yr_nonres_retired[\"TUCASEID\"].apply(str).str.startswith(\"2019\")]\n",
    "#atus_2003_nonres_retired"
   ]
  },
  {
   "cell_type": "markdown",
   "metadata": {},
   "source": [
    "### 2003 All Activities - NonResidential - Retired"
   ]
  },
  {
   "cell_type": "code",
   "execution_count": 101,
   "metadata": {},
   "outputs": [],
   "source": [
    "atus_2003_all_nonres_retired = atus_2003_nonres_retired.groupby([\"TUCASEID\"]).sum().filter([\"TUCASEID\", \"TUACTDUR24\"])\n",
    "#atus_2003_all_nonres_retired"
   ]
  },
  {
   "cell_type": "code",
   "execution_count": 102,
   "metadata": {},
   "outputs": [],
   "source": [
    "atus_2003_all_nonres_retired_merge = pd.merge(atus_2003_all_nonres_retired, multi_resp, on= \"TUCASEID\").filter([\"TUCASEID\",\"TUACTDUR24\",\"TUFNWGTP\"])\n",
    "#atus_2003_all_res_retired_merge"
   ]
  },
  {
   "cell_type": "code",
   "execution_count": 103,
   "metadata": {},
   "outputs": [],
   "source": [
    "atus_2003_all_nonres_retired_merge[\"Multiplied Weight\"]=atus_2003_all_nonres_retired_merge[\"TUACTDUR24\"]*atus_2003_all_nonres_retired_merge[\"TUFNWGTP\"]\n",
    "#atus_2003_all_nonres_retired_merge"
   ]
  },
  {
   "cell_type": "code",
   "execution_count": 104,
   "metadata": {},
   "outputs": [
    {
     "data": {
      "text/plain": [
       "1385461221836.277"
      ]
     },
     "execution_count": 104,
     "metadata": {},
     "output_type": "execute_result"
    }
   ],
   "source": [
    "atus_2003_all_nonres_retired_multiplied_weight = atus_2003_all_nonres_retired_merge[\"Multiplied Weight\"].sum()\n",
    "atus_2003_all_nonres_retired_multiplied_weight"
   ]
  },
  {
   "cell_type": "code",
   "execution_count": 105,
   "metadata": {},
   "outputs": [
    {
     "data": {
      "text/plain": [
       "1.921288010684189"
      ]
     },
     "execution_count": 105,
     "metadata": {},
     "output_type": "execute_result"
    }
   ],
   "source": [
    "all_act_2003_nonres_retired_hpd = atus_2003_all_nonres_retired_multiplied_weight / atus_2003_retired_weight / 60\n",
    "all_act_2003_nonres_retired_hpd"
   ]
  },
  {
   "cell_type": "markdown",
   "metadata": {},
   "source": [
    "### 2004 All Activities - NonResidential - Retired"
   ]
  },
  {
   "cell_type": "code",
   "execution_count": 106,
   "metadata": {},
   "outputs": [],
   "source": [
    "atus_2004_all_nonres_retired = atus_2004_nonres_retired.groupby([\"TUCASEID\"]).sum().filter([\"TUCASEID\", \"TUACTDUR24\"])\n",
    "#atus_2004_all_nonres_retired"
   ]
  },
  {
   "cell_type": "code",
   "execution_count": 107,
   "metadata": {},
   "outputs": [],
   "source": [
    "atus_2004_all_nonres_retired_merge = pd.merge(atus_2004_all_nonres_retired, multi_resp, on= \"TUCASEID\").filter([\"TUCASEID\",\"TUACTDUR24\",\"TUFNWGTP\"])\n",
    "#atus_2004_all_res_retired_merge"
   ]
  },
  {
   "cell_type": "code",
   "execution_count": 108,
   "metadata": {},
   "outputs": [
    {
     "data": {
      "text/plain": [
       "1470773509443.0469"
      ]
     },
     "execution_count": 108,
     "metadata": {},
     "output_type": "execute_result"
    }
   ],
   "source": [
    "atus_2004_all_nonres_retired_merge[\"Multiplied Weight\"]=atus_2004_all_nonres_retired_merge[\"TUACTDUR24\"]*atus_2004_all_nonres_retired_merge[\"TUFNWGTP\"]\n",
    "\n",
    "atus_2004_all_nonres_retired_multiplied_weight = atus_2004_all_nonres_retired_merge[\"Multiplied Weight\"].sum()\n",
    "atus_2004_all_nonres_retired_multiplied_weight"
   ]
  },
  {
   "cell_type": "code",
   "execution_count": 109,
   "metadata": {},
   "outputs": [
    {
     "data": {
      "text/plain": [
       "2.0095037087768373"
      ]
     },
     "execution_count": 109,
     "metadata": {},
     "output_type": "execute_result"
    }
   ],
   "source": [
    "all_act_2004_nonres_retired_hpd = atus_2004_all_nonres_retired_multiplied_weight / atus_2004_retired_weight / 60\n",
    "all_act_2004_nonres_retired_hpd"
   ]
  },
  {
   "cell_type": "markdown",
   "metadata": {},
   "source": [
    "### 2005 All Activities - NonResidential - Retired"
   ]
  },
  {
   "cell_type": "code",
   "execution_count": 110,
   "metadata": {},
   "outputs": [],
   "source": [
    "atus_2005_all_nonres_retired = atus_2005_nonres_retired.groupby([\"TUCASEID\"]).sum().filter([\"TUCASEID\", \"TUACTDUR24\"])\n",
    "#atus_2005_all_nonres_retired"
   ]
  },
  {
   "cell_type": "code",
   "execution_count": 111,
   "metadata": {},
   "outputs": [],
   "source": [
    "atus_2005_all_nonres_retired_merge = pd.merge(atus_2005_all_nonres_retired, multi_resp, on= \"TUCASEID\").filter([\"TUCASEID\",\"TUACTDUR24\",\"TUFNWGTP\"])\n",
    "#atus_2005_all_res_retired_merge"
   ]
  },
  {
   "cell_type": "code",
   "execution_count": 112,
   "metadata": {},
   "outputs": [
    {
     "data": {
      "text/plain": [
       "1472739128492.5437"
      ]
     },
     "execution_count": 112,
     "metadata": {},
     "output_type": "execute_result"
    }
   ],
   "source": [
    "atus_2005_all_nonres_retired_merge[\"Multiplied Weight\"]=atus_2005_all_nonres_retired_merge[\"TUACTDUR24\"]*atus_2005_all_nonres_retired_merge[\"TUFNWGTP\"]\n",
    "\n",
    "atus_2005_all_nonres_retired_multiplied_weight = atus_2005_all_nonres_retired_merge[\"Multiplied Weight\"].sum()\n",
    "atus_2005_all_nonres_retired_multiplied_weight"
   ]
  },
  {
   "cell_type": "code",
   "execution_count": 113,
   "metadata": {},
   "outputs": [
    {
     "data": {
      "text/plain": [
       "2.03627599630701"
      ]
     },
     "execution_count": 113,
     "metadata": {},
     "output_type": "execute_result"
    }
   ],
   "source": [
    "all_act_2005_nonres_retired_hpd = atus_2005_all_nonres_retired_multiplied_weight / atus_2005_retired_weight / 60\n",
    "all_act_2005_nonres_retired_hpd"
   ]
  },
  {
   "cell_type": "markdown",
   "metadata": {},
   "source": [
    "### 2006 All Activities - NonResidential - Retired"
   ]
  },
  {
   "cell_type": "code",
   "execution_count": 114,
   "metadata": {},
   "outputs": [],
   "source": [
    "atus_2006_all_nonres_retired = atus_2006_nonres_retired.groupby([\"TUCASEID\"]).sum().filter([\"TUCASEID\", \"TUACTDUR24\"])\n",
    "#atus_2006_all_nonres_retired"
   ]
  },
  {
   "cell_type": "code",
   "execution_count": 115,
   "metadata": {},
   "outputs": [],
   "source": [
    "atus_2006_all_nonres_retired_merge = pd.merge(atus_2006_all_nonres_retired, multi_resp, on= \"TUCASEID\").filter([\"TUCASEID\",\"TUACTDUR24\",\"TUFNWGTP\"])\n",
    "#atus_2006_all_res_retired_merge"
   ]
  },
  {
   "cell_type": "code",
   "execution_count": 116,
   "metadata": {},
   "outputs": [
    {
     "data": {
      "text/plain": [
       "1387129432985.7202"
      ]
     },
     "execution_count": 116,
     "metadata": {},
     "output_type": "execute_result"
    }
   ],
   "source": [
    "atus_2006_all_nonres_retired_merge[\"Multiplied Weight\"]=atus_2006_all_nonres_retired_merge[\"TUACTDUR24\"]*atus_2006_all_nonres_retired_merge[\"TUFNWGTP\"]\n",
    "\n",
    "atus_2006_all_nonres_retired_multiplied_weight = atus_2006_all_nonres_retired_merge[\"Multiplied Weight\"].sum()\n",
    "atus_2006_all_nonres_retired_multiplied_weight"
   ]
  },
  {
   "cell_type": "code",
   "execution_count": 117,
   "metadata": {},
   "outputs": [
    {
     "data": {
      "text/plain": [
       "1.9336843755296498"
      ]
     },
     "execution_count": 117,
     "metadata": {},
     "output_type": "execute_result"
    }
   ],
   "source": [
    "all_act_2006_nonres_retired_hpd = atus_2006_all_nonres_retired_multiplied_weight / atus_2006_retired_weight / 60\n",
    "all_act_2006_nonres_retired_hpd"
   ]
  },
  {
   "cell_type": "markdown",
   "metadata": {},
   "source": [
    "### 2007 All Activities - NonResidential - Retired"
   ]
  },
  {
   "cell_type": "code",
   "execution_count": 118,
   "metadata": {},
   "outputs": [],
   "source": [
    "atus_2007_all_nonres_retired = atus_2007_nonres_retired.groupby([\"TUCASEID\"]).sum().filter([\"TUCASEID\", \"TUACTDUR24\"])\n",
    "#atus_2007_all_nonres_retired"
   ]
  },
  {
   "cell_type": "code",
   "execution_count": 119,
   "metadata": {},
   "outputs": [],
   "source": [
    "atus_2007_all_nonres_retired_merge = pd.merge(atus_2007_all_nonres_retired, multi_resp, on= \"TUCASEID\").filter([\"TUCASEID\",\"TUACTDUR24\",\"TUFNWGTP\"])\n",
    "#atus_2007_all_res_retired_merge"
   ]
  },
  {
   "cell_type": "code",
   "execution_count": 120,
   "metadata": {},
   "outputs": [
    {
     "data": {
      "text/plain": [
       "1559684477416.188"
      ]
     },
     "execution_count": 120,
     "metadata": {},
     "output_type": "execute_result"
    }
   ],
   "source": [
    "atus_2007_all_nonres_retired_merge[\"Multiplied Weight\"]=atus_2007_all_nonres_retired_merge[\"TUACTDUR24\"]*atus_2007_all_nonres_retired_merge[\"TUFNWGTP\"]\n",
    "\n",
    "atus_2007_all_nonres_retired_multiplied_weight = atus_2007_all_nonres_retired_merge[\"Multiplied Weight\"].sum()\n",
    "atus_2007_all_nonres_retired_multiplied_weight"
   ]
  },
  {
   "cell_type": "code",
   "execution_count": 121,
   "metadata": {},
   "outputs": [
    {
     "data": {
      "text/plain": [
       "2.065945342094957"
      ]
     },
     "execution_count": 121,
     "metadata": {},
     "output_type": "execute_result"
    }
   ],
   "source": [
    "all_act_2007_nonres_retired_hpd = atus_2007_all_nonres_retired_multiplied_weight / atus_2007_retired_weight / 60\n",
    "all_act_2007_nonres_retired_hpd"
   ]
  },
  {
   "cell_type": "markdown",
   "metadata": {},
   "source": [
    "### 2008 All Activities - NonResidential - Retired"
   ]
  },
  {
   "cell_type": "code",
   "execution_count": 122,
   "metadata": {},
   "outputs": [],
   "source": [
    "atus_2008_all_nonres_retired = atus_2008_nonres_retired.groupby([\"TUCASEID\"]).sum().filter([\"TUCASEID\", \"TUACTDUR24\"])\n",
    "#atus_2008_all_nonres_retired"
   ]
  },
  {
   "cell_type": "code",
   "execution_count": 123,
   "metadata": {},
   "outputs": [],
   "source": [
    "atus_2008_all_nonres_retired_merge = pd.merge(atus_2008_all_nonres_retired, multi_resp, on= \"TUCASEID\").filter([\"TUCASEID\",\"TUACTDUR24\",\"TUFNWGTP\"])\n",
    "#atus_2008_all_res_retired_merge"
   ]
  },
  {
   "cell_type": "code",
   "execution_count": 124,
   "metadata": {},
   "outputs": [
    {
     "data": {
      "text/plain": [
       "1389330805013.074"
      ]
     },
     "execution_count": 124,
     "metadata": {},
     "output_type": "execute_result"
    }
   ],
   "source": [
    "atus_2008_all_nonres_retired_merge[\"Multiplied Weight\"]=atus_2008_all_nonres_retired_merge[\"TUACTDUR24\"]*atus_2008_all_nonres_retired_merge[\"TUFNWGTP\"]\n",
    "\n",
    "atus_2008_all_nonres_retired_multiplied_weight = atus_2008_all_nonres_retired_merge[\"Multiplied Weight\"].sum()\n",
    "atus_2008_all_nonres_retired_multiplied_weight"
   ]
  },
  {
   "cell_type": "code",
   "execution_count": 125,
   "metadata": {},
   "outputs": [
    {
     "data": {
      "text/plain": [
       "1.8613909698069666"
      ]
     },
     "execution_count": 125,
     "metadata": {},
     "output_type": "execute_result"
    }
   ],
   "source": [
    "all_act_2008_nonres_retired_hpd = atus_2008_all_nonres_retired_multiplied_weight / atus_2008_retired_weight / 60\n",
    "all_act_2008_nonres_retired_hpd"
   ]
  },
  {
   "cell_type": "markdown",
   "metadata": {},
   "source": [
    "### 2009 All Activities - NonResidential - Retired"
   ]
  },
  {
   "cell_type": "code",
   "execution_count": 126,
   "metadata": {},
   "outputs": [],
   "source": [
    "atus_2009_all_nonres_retired = atus_2009_nonres_retired.groupby([\"TUCASEID\"]).sum().filter([\"TUCASEID\", \"TUACTDUR24\"])\n",
    "#atus_2009_all_nonres_retired"
   ]
  },
  {
   "cell_type": "code",
   "execution_count": 127,
   "metadata": {},
   "outputs": [],
   "source": [
    "atus_2009_all_nonres_retired_merge = pd.merge(atus_2009_all_nonres_retired, multi_resp, on= \"TUCASEID\").filter([\"TUCASEID\",\"TUACTDUR24\",\"TUFNWGTP\"])\n",
    "#atus_2009_all_res_retired_merge"
   ]
  },
  {
   "cell_type": "code",
   "execution_count": 128,
   "metadata": {},
   "outputs": [
    {
     "data": {
      "text/plain": [
       "1374844567362.2314"
      ]
     },
     "execution_count": 128,
     "metadata": {},
     "output_type": "execute_result"
    }
   ],
   "source": [
    "atus_2009_all_nonres_retired_merge[\"Multiplied Weight\"]=atus_2009_all_nonres_retired_merge[\"TUACTDUR24\"]*atus_2009_all_nonres_retired_merge[\"TUFNWGTP\"]\n",
    "\n",
    "atus_2009_all_nonres_retired_multiplied_weight = atus_2009_all_nonres_retired_merge[\"Multiplied Weight\"].sum()\n",
    "atus_2009_all_nonres_retired_multiplied_weight"
   ]
  },
  {
   "cell_type": "code",
   "execution_count": 129,
   "metadata": {},
   "outputs": [
    {
     "data": {
      "text/plain": [
       "1.8317575422455614"
      ]
     },
     "execution_count": 129,
     "metadata": {},
     "output_type": "execute_result"
    }
   ],
   "source": [
    "all_act_2009_nonres_retired_hpd = atus_2009_all_nonres_retired_multiplied_weight / atus_2009_retired_weight / 60\n",
    "all_act_2009_nonres_retired_hpd"
   ]
  },
  {
   "cell_type": "markdown",
   "metadata": {},
   "source": [
    "### 2010 All Activities - NonResidential - Retired"
   ]
  },
  {
   "cell_type": "code",
   "execution_count": 130,
   "metadata": {},
   "outputs": [],
   "source": [
    "atus_2010_all_nonres_retired = atus_2010_nonres_retired.groupby([\"TUCASEID\"]).sum().filter([\"TUCASEID\", \"TUACTDUR24\"])\n",
    "#atus_2010_all_nonres_retired"
   ]
  },
  {
   "cell_type": "code",
   "execution_count": 131,
   "metadata": {},
   "outputs": [],
   "source": [
    "atus_2010_all_nonres_retired_merge = pd.merge(atus_2010_all_nonres_retired, multi_resp, on= \"TUCASEID\").filter([\"TUCASEID\",\"TUACTDUR24\",\"TUFNWGTP\"])\n",
    "#atus_2010_all_res_retired_merge"
   ]
  },
  {
   "cell_type": "code",
   "execution_count": 132,
   "metadata": {},
   "outputs": [
    {
     "data": {
      "text/plain": [
       "1431626705069.521"
      ]
     },
     "execution_count": 132,
     "metadata": {},
     "output_type": "execute_result"
    }
   ],
   "source": [
    "atus_2010_all_nonres_retired_merge[\"Multiplied Weight\"]=atus_2010_all_nonres_retired_merge[\"TUACTDUR24\"]*atus_2010_all_nonres_retired_merge[\"TUFNWGTP\"]\n",
    "\n",
    "atus_2010_all_nonres_retired_multiplied_weight = atus_2010_all_nonres_retired_merge[\"Multiplied Weight\"].sum()\n",
    "atus_2010_all_nonres_retired_multiplied_weight"
   ]
  },
  {
   "cell_type": "code",
   "execution_count": 133,
   "metadata": {},
   "outputs": [
    {
     "data": {
      "text/plain": [
       "1.916648834603046"
      ]
     },
     "execution_count": 133,
     "metadata": {},
     "output_type": "execute_result"
    }
   ],
   "source": [
    "all_act_2010_nonres_retired_hpd = atus_2010_all_nonres_retired_multiplied_weight / atus_2010_retired_weight / 60\n",
    "all_act_2010_nonres_retired_hpd"
   ]
  },
  {
   "cell_type": "markdown",
   "metadata": {},
   "source": [
    "### 2011 All Activities - NonResidential - Retired"
   ]
  },
  {
   "cell_type": "code",
   "execution_count": 134,
   "metadata": {},
   "outputs": [],
   "source": [
    "atus_2011_all_nonres_retired = atus_2011_nonres_retired.groupby([\"TUCASEID\"]).sum().filter([\"TUCASEID\", \"TUACTDUR24\"])\n",
    "#atus_2011_all_nonres_retired"
   ]
  },
  {
   "cell_type": "code",
   "execution_count": 135,
   "metadata": {},
   "outputs": [],
   "source": [
    "atus_2011_all_nonres_retired_merge = pd.merge(atus_2011_all_nonres_retired, multi_resp, on= \"TUCASEID\").filter([\"TUCASEID\",\"TUACTDUR24\",\"TUFNWGTP\"])\n",
    "#atus_2011_all_res_retired_merge"
   ]
  },
  {
   "cell_type": "code",
   "execution_count": 136,
   "metadata": {},
   "outputs": [
    {
     "data": {
      "text/plain": [
       "1478510780562.421"
      ]
     },
     "execution_count": 136,
     "metadata": {},
     "output_type": "execute_result"
    }
   ],
   "source": [
    "atus_2011_all_nonres_retired_merge[\"Multiplied Weight\"]=atus_2011_all_nonres_retired_merge[\"TUACTDUR24\"]*atus_2011_all_nonres_retired_merge[\"TUFNWGTP\"]\n",
    "\n",
    "atus_2011_all_nonres_retired_multiplied_weight = atus_2011_all_nonres_retired_merge[\"Multiplied Weight\"].sum()\n",
    "atus_2011_all_nonres_retired_multiplied_weight"
   ]
  },
  {
   "cell_type": "code",
   "execution_count": 137,
   "metadata": {},
   "outputs": [
    {
     "data": {
      "text/plain": [
       "1.9566444707834383"
      ]
     },
     "execution_count": 137,
     "metadata": {},
     "output_type": "execute_result"
    }
   ],
   "source": [
    "all_act_2011_nonres_retired_hpd = atus_2011_all_nonres_retired_multiplied_weight / atus_2011_retired_weight / 60\n",
    "all_act_2011_nonres_retired_hpd"
   ]
  },
  {
   "cell_type": "markdown",
   "metadata": {},
   "source": [
    "### 2012 All Activities - NonResidential - Retired"
   ]
  },
  {
   "cell_type": "code",
   "execution_count": 138,
   "metadata": {},
   "outputs": [],
   "source": [
    "atus_2012_all_nonres_retired = atus_2012_nonres_retired.groupby([\"TUCASEID\"]).sum().filter([\"TUCASEID\", \"TUACTDUR24\"])\n",
    "#atus_2012_all_nonres_retired"
   ]
  },
  {
   "cell_type": "code",
   "execution_count": 139,
   "metadata": {},
   "outputs": [],
   "source": [
    "atus_2012_all_nonres_retired_merge = pd.merge(atus_2012_all_nonres_retired, multi_resp, on= \"TUCASEID\").filter([\"TUCASEID\",\"TUACTDUR24\",\"TUFNWGTP\"])\n",
    "#atus_2012_all_res_retired_merge"
   ]
  },
  {
   "cell_type": "code",
   "execution_count": 140,
   "metadata": {},
   "outputs": [
    {
     "data": {
      "text/plain": [
       "1537231246618.848"
      ]
     },
     "execution_count": 140,
     "metadata": {},
     "output_type": "execute_result"
    }
   ],
   "source": [
    "atus_2012_all_nonres_retired_merge[\"Multiplied Weight\"]=atus_2012_all_nonres_retired_merge[\"TUACTDUR24\"]*atus_2012_all_nonres_retired_merge[\"TUFNWGTP\"]\n",
    "\n",
    "atus_2012_all_nonres_retired_multiplied_weight = atus_2012_all_nonres_retired_merge[\"Multiplied Weight\"].sum()\n",
    "atus_2012_all_nonres_retired_multiplied_weight"
   ]
  },
  {
   "cell_type": "code",
   "execution_count": 141,
   "metadata": {},
   "outputs": [
    {
     "data": {
      "text/plain": [
       "1.9390645902820973"
      ]
     },
     "execution_count": 141,
     "metadata": {},
     "output_type": "execute_result"
    }
   ],
   "source": [
    "all_act_2012_nonres_retired_hpd = atus_2012_all_nonres_retired_multiplied_weight / atus_2012_retired_weight / 60\n",
    "all_act_2012_nonres_retired_hpd"
   ]
  },
  {
   "cell_type": "markdown",
   "metadata": {},
   "source": [
    "### 2013 All Activities - NonResidential - Retired"
   ]
  },
  {
   "cell_type": "code",
   "execution_count": 142,
   "metadata": {},
   "outputs": [],
   "source": [
    "atus_2013_all_nonres_retired = atus_2013_nonres_retired.groupby([\"TUCASEID\"]).sum().filter([\"TUCASEID\", \"TUACTDUR24\"])\n",
    "#atus_2013_all_nonres_retired"
   ]
  },
  {
   "cell_type": "code",
   "execution_count": 143,
   "metadata": {},
   "outputs": [],
   "source": [
    "atus_2013_all_nonres_retired_merge = pd.merge(atus_2013_all_nonres_retired, multi_resp, on= \"TUCASEID\").filter([\"TUCASEID\",\"TUACTDUR24\",\"TUFNWGTP\"])\n",
    "#atus_2013_all_res_retired_merge"
   ]
  },
  {
   "cell_type": "code",
   "execution_count": 144,
   "metadata": {},
   "outputs": [
    {
     "data": {
      "text/plain": [
       "1531773250773.6807"
      ]
     },
     "execution_count": 144,
     "metadata": {},
     "output_type": "execute_result"
    }
   ],
   "source": [
    "atus_2013_all_nonres_retired_merge[\"Multiplied Weight\"]=atus_2013_all_nonres_retired_merge[\"TUACTDUR24\"]*atus_2013_all_nonres_retired_merge[\"TUFNWGTP\"]\n",
    "\n",
    "atus_2013_all_nonres_retired_multiplied_weight = atus_2013_all_nonres_retired_merge[\"Multiplied Weight\"].sum()\n",
    "atus_2013_all_nonres_retired_multiplied_weight"
   ]
  },
  {
   "cell_type": "code",
   "execution_count": 145,
   "metadata": {},
   "outputs": [
    {
     "data": {
      "text/plain": [
       "1.9164702080703888"
      ]
     },
     "execution_count": 145,
     "metadata": {},
     "output_type": "execute_result"
    }
   ],
   "source": [
    "all_act_2013_nonres_retired_hpd = atus_2013_all_nonres_retired_multiplied_weight / atus_2013_retired_weight / 60\n",
    "all_act_2013_nonres_retired_hpd"
   ]
  },
  {
   "cell_type": "markdown",
   "metadata": {},
   "source": [
    "### 2014 All Activities - NonResidential - Retired"
   ]
  },
  {
   "cell_type": "code",
   "execution_count": 146,
   "metadata": {},
   "outputs": [],
   "source": [
    "atus_2014_all_nonres_retired = atus_2014_nonres_retired.groupby([\"TUCASEID\"]).sum().filter([\"TUCASEID\", \"TUACTDUR24\"])\n",
    "#atus_2014_all_nonres_retired"
   ]
  },
  {
   "cell_type": "code",
   "execution_count": 147,
   "metadata": {},
   "outputs": [],
   "source": [
    "atus_2014_all_nonres_retired_merge = pd.merge(atus_2014_all_nonres_retired, multi_resp, on= \"TUCASEID\").filter([\"TUCASEID\",\"TUACTDUR24\",\"TUFNWGTP\"])\n",
    "#atus_2014_all_res_retired_merge"
   ]
  },
  {
   "cell_type": "code",
   "execution_count": 148,
   "metadata": {},
   "outputs": [
    {
     "data": {
      "text/plain": [
       "1667228624136.3445"
      ]
     },
     "execution_count": 148,
     "metadata": {},
     "output_type": "execute_result"
    }
   ],
   "source": [
    "atus_2014_all_nonres_retired_merge[\"Multiplied Weight\"]=atus_2014_all_nonres_retired_merge[\"TUACTDUR24\"]*atus_2014_all_nonres_retired_merge[\"TUFNWGTP\"]\n",
    "\n",
    "atus_2014_all_nonres_retired_multiplied_weight = atus_2014_all_nonres_retired_merge[\"Multiplied Weight\"].sum()\n",
    "atus_2014_all_nonres_retired_multiplied_weight"
   ]
  },
  {
   "cell_type": "code",
   "execution_count": 149,
   "metadata": {},
   "outputs": [
    {
     "data": {
      "text/plain": [
       "1.9776599944421165"
      ]
     },
     "execution_count": 149,
     "metadata": {},
     "output_type": "execute_result"
    }
   ],
   "source": [
    "all_act_2014_nonres_retired_hpd = atus_2014_all_nonres_retired_multiplied_weight / atus_2014_retired_weight / 60\n",
    "all_act_2014_nonres_retired_hpd"
   ]
  },
  {
   "cell_type": "markdown",
   "metadata": {},
   "source": [
    "### 2015 All Activities - NonResidential - Retired"
   ]
  },
  {
   "cell_type": "code",
   "execution_count": 150,
   "metadata": {},
   "outputs": [],
   "source": [
    "atus_2015_all_nonres_retired = atus_2015_nonres_retired.groupby([\"TUCASEID\"]).sum().filter([\"TUCASEID\", \"TUACTDUR24\"])\n",
    "#atus_2015_all_nonres_retired"
   ]
  },
  {
   "cell_type": "code",
   "execution_count": 151,
   "metadata": {},
   "outputs": [],
   "source": [
    "atus_2015_all_nonres_retired_merge = pd.merge(atus_2015_all_nonres_retired, multi_resp, on= \"TUCASEID\").filter([\"TUCASEID\",\"TUACTDUR24\",\"TUFNWGTP\"])\n",
    "#atus_2015_all_res_retired_merge"
   ]
  },
  {
   "cell_type": "code",
   "execution_count": 152,
   "metadata": {},
   "outputs": [
    {
     "data": {
      "text/plain": [
       "1605299231260.7441"
      ]
     },
     "execution_count": 152,
     "metadata": {},
     "output_type": "execute_result"
    }
   ],
   "source": [
    "atus_2015_all_nonres_retired_merge[\"Multiplied Weight\"]=atus_2015_all_nonres_retired_merge[\"TUACTDUR24\"]*atus_2015_all_nonres_retired_merge[\"TUFNWGTP\"]\n",
    "\n",
    "atus_2015_all_nonres_retired_multiplied_weight = atus_2015_all_nonres_retired_merge[\"Multiplied Weight\"].sum()\n",
    "atus_2015_all_nonres_retired_multiplied_weight"
   ]
  },
  {
   "cell_type": "code",
   "execution_count": 153,
   "metadata": {},
   "outputs": [
    {
     "data": {
      "text/plain": [
       "1.9307316165745367"
      ]
     },
     "execution_count": 153,
     "metadata": {},
     "output_type": "execute_result"
    }
   ],
   "source": [
    "all_act_2015_nonres_retired_hpd = atus_2015_all_nonres_retired_multiplied_weight / atus_2015_retired_weight / 60\n",
    "all_act_2015_nonres_retired_hpd"
   ]
  },
  {
   "cell_type": "markdown",
   "metadata": {},
   "source": [
    "### 2016 All Activities - NonResidential - Retired"
   ]
  },
  {
   "cell_type": "code",
   "execution_count": 154,
   "metadata": {},
   "outputs": [],
   "source": [
    "atus_2016_all_nonres_retired = atus_2016_nonres_retired.groupby([\"TUCASEID\"]).sum().filter([\"TUCASEID\", \"TUACTDUR24\"])\n",
    "#atus_2016_all_nonres_retired"
   ]
  },
  {
   "cell_type": "code",
   "execution_count": 155,
   "metadata": {},
   "outputs": [],
   "source": [
    "atus_2016_all_nonres_retired_merge = pd.merge(atus_2016_all_nonres_retired, multi_resp, on= \"TUCASEID\").filter([\"TUCASEID\",\"TUACTDUR24\",\"TUFNWGTP\"])\n",
    "#atus_2016_all_res_retired_merge"
   ]
  },
  {
   "cell_type": "code",
   "execution_count": 156,
   "metadata": {},
   "outputs": [
    {
     "data": {
      "text/plain": [
       "1683897199968.2021"
      ]
     },
     "execution_count": 156,
     "metadata": {},
     "output_type": "execute_result"
    }
   ],
   "source": [
    "atus_2016_all_nonres_retired_merge[\"Multiplied Weight\"]=atus_2016_all_nonres_retired_merge[\"TUACTDUR24\"]*atus_2016_all_nonres_retired_merge[\"TUFNWGTP\"]\n",
    "\n",
    "atus_2016_all_nonres_retired_multiplied_weight = atus_2016_all_nonres_retired_merge[\"Multiplied Weight\"].sum()\n",
    "atus_2016_all_nonres_retired_multiplied_weight"
   ]
  },
  {
   "cell_type": "code",
   "execution_count": 157,
   "metadata": {},
   "outputs": [
    {
     "data": {
      "text/plain": [
       "1.9326307200459392"
      ]
     },
     "execution_count": 157,
     "metadata": {},
     "output_type": "execute_result"
    }
   ],
   "source": [
    "all_act_2016_nonres_retired_hpd = atus_2016_all_nonres_retired_multiplied_weight / atus_2016_retired_weight / 60\n",
    "all_act_2016_nonres_retired_hpd"
   ]
  },
  {
   "cell_type": "markdown",
   "metadata": {},
   "source": [
    "### 2017 All Activities - NonResidential - Retired"
   ]
  },
  {
   "cell_type": "code",
   "execution_count": 158,
   "metadata": {},
   "outputs": [],
   "source": [
    "atus_2017_all_nonres_retired = atus_2017_nonres_retired.groupby([\"TUCASEID\"]).sum().filter([\"TUCASEID\", \"TUACTDUR24\"])\n",
    "#atus_2017_all_nonres_retired"
   ]
  },
  {
   "cell_type": "code",
   "execution_count": 159,
   "metadata": {},
   "outputs": [],
   "source": [
    "atus_2017_all_nonres_retired_merge = pd.merge(atus_2017_all_nonres_retired, multi_resp, on= \"TUCASEID\").filter([\"TUCASEID\",\"TUACTDUR24\",\"TUFNWGTP\"])\n",
    "#atus_2017_all_res_retired_merge"
   ]
  },
  {
   "cell_type": "code",
   "execution_count": 160,
   "metadata": {},
   "outputs": [
    {
     "data": {
      "text/plain": [
       "1616550312702.7126"
      ]
     },
     "execution_count": 160,
     "metadata": {},
     "output_type": "execute_result"
    }
   ],
   "source": [
    "atus_2017_all_nonres_retired_merge[\"Multiplied Weight\"]=atus_2017_all_nonres_retired_merge[\"TUACTDUR24\"]*atus_2017_all_nonres_retired_merge[\"TUFNWGTP\"]\n",
    "\n",
    "atus_2017_all_nonres_retired_multiplied_weight = atus_2017_all_nonres_retired_merge[\"Multiplied Weight\"].sum()\n",
    "atus_2017_all_nonres_retired_multiplied_weight"
   ]
  },
  {
   "cell_type": "code",
   "execution_count": 161,
   "metadata": {},
   "outputs": [
    {
     "data": {
      "text/plain": [
       "1.8259613636204348"
      ]
     },
     "execution_count": 161,
     "metadata": {},
     "output_type": "execute_result"
    }
   ],
   "source": [
    "all_act_2017_nonres_retired_hpd = atus_2017_all_nonres_retired_multiplied_weight / atus_2017_retired_weight / 60\n",
    "all_act_2017_nonres_retired_hpd"
   ]
  },
  {
   "cell_type": "markdown",
   "metadata": {},
   "source": [
    "### 2018 All Activities - NonResidential - Retired"
   ]
  },
  {
   "cell_type": "code",
   "execution_count": 162,
   "metadata": {},
   "outputs": [],
   "source": [
    "atus_2018_all_nonres_retired = atus_2018_nonres_retired.groupby([\"TUCASEID\"]).sum().filter([\"TUCASEID\", \"TUACTDUR24\"])\n",
    "#atus_2018_all_nonres_retired"
   ]
  },
  {
   "cell_type": "code",
   "execution_count": 163,
   "metadata": {},
   "outputs": [],
   "source": [
    "atus_2018_all_nonres_retired_merge = pd.merge(atus_2018_all_nonres_retired, multi_resp, on= \"TUCASEID\").filter([\"TUCASEID\",\"TUACTDUR24\",\"TUFNWGTP\"])\n",
    "#atus_2018_all_res_retired_merge"
   ]
  },
  {
   "cell_type": "code",
   "execution_count": 164,
   "metadata": {},
   "outputs": [
    {
     "data": {
      "text/plain": [
       "1720431797561.1162"
      ]
     },
     "execution_count": 164,
     "metadata": {},
     "output_type": "execute_result"
    }
   ],
   "source": [
    "atus_2018_all_nonres_retired_merge[\"Multiplied Weight\"]=atus_2018_all_nonres_retired_merge[\"TUACTDUR24\"]*atus_2018_all_nonres_retired_merge[\"TUFNWGTP\"]\n",
    "\n",
    "atus_2018_all_nonres_retired_multiplied_weight = atus_2018_all_nonres_retired_merge[\"Multiplied Weight\"].sum()\n",
    "atus_2018_all_nonres_retired_multiplied_weight"
   ]
  },
  {
   "cell_type": "code",
   "execution_count": 165,
   "metadata": {},
   "outputs": [
    {
     "data": {
      "text/plain": [
       "1.8545683407032711"
      ]
     },
     "execution_count": 165,
     "metadata": {},
     "output_type": "execute_result"
    }
   ],
   "source": [
    "all_act_2018_nonres_retired_hpd = atus_2018_all_nonres_retired_multiplied_weight / atus_2018_retired_weight / 60\n",
    "all_act_2018_nonres_retired_hpd"
   ]
  },
  {
   "cell_type": "markdown",
   "metadata": {},
   "source": [
    "### 2019 All Activities - NonResidential - Retired"
   ]
  },
  {
   "cell_type": "code",
   "execution_count": 166,
   "metadata": {},
   "outputs": [],
   "source": [
    "atus_2019_all_nonres_retired = atus_2019_nonres_retired.groupby([\"TUCASEID\"]).sum().filter([\"TUCASEID\", \"TUACTDUR24\"])\n",
    "#atus_2019_all_nonres_retired"
   ]
  },
  {
   "cell_type": "code",
   "execution_count": 167,
   "metadata": {},
   "outputs": [],
   "source": [
    "atus_2019_all_nonres_retired_merge = pd.merge(atus_2019_all_nonres_retired, multi_resp, on= \"TUCASEID\").filter([\"TUCASEID\",\"TUACTDUR24\",\"TUFNWGTP\"])\n",
    "#atus_2019_all_res_retired_merge"
   ]
  },
  {
   "cell_type": "code",
   "execution_count": 168,
   "metadata": {},
   "outputs": [
    {
     "data": {
      "text/plain": [
       "1836472481191.8345"
      ]
     },
     "execution_count": 168,
     "metadata": {},
     "output_type": "execute_result"
    }
   ],
   "source": [
    "atus_2019_all_nonres_retired_merge[\"Multiplied Weight\"]=atus_2019_all_nonres_retired_merge[\"TUACTDUR24\"]*atus_2019_all_nonres_retired_merge[\"TUFNWGTP\"]\n",
    "\n",
    "atus_2019_all_nonres_retired_multiplied_weight = atus_2019_all_nonres_retired_merge[\"Multiplied Weight\"].sum()\n",
    "atus_2019_all_nonres_retired_multiplied_weight"
   ]
  },
  {
   "cell_type": "code",
   "execution_count": 169,
   "metadata": {},
   "outputs": [
    {
     "data": {
      "text/plain": [
       "1.9284358526674634"
      ]
     },
     "execution_count": 169,
     "metadata": {},
     "output_type": "execute_result"
    }
   ],
   "source": [
    "all_act_2019_nonres_retired_hpd = atus_2019_all_nonres_retired_multiplied_weight / atus_2019_retired_weight / 60\n",
    "all_act_2019_nonres_retired_hpd"
   ]
  },
  {
   "cell_type": "markdown",
   "metadata": {},
   "source": [
    "### Regresssion: All Activities - NonResidential - Retired"
   ]
  },
  {
   "cell_type": "markdown",
   "metadata": {},
   "source": [
    "#### 2003 -2012 Regression"
   ]
  },
  {
   "cell_type": "code",
   "execution_count": 170,
   "metadata": {},
   "outputs": [],
   "source": [
    "year = np.array([2003, 2004, 2005, 2006, 2007, 2008, 2009, 2010,2011,2012]).reshape((-1, 1))\n",
    "activity_hours_per_day = np.array([all_act_2003_nonres_retired_hpd, all_act_2004_nonres_retired_hpd, all_act_2005_nonres_retired_hpd,\n",
    "                                   all_act_2006_nonres_retired_hpd, all_act_2007_nonres_retired_hpd, all_act_2008_nonres_retired_hpd,\n",
    "                                   all_act_2009_nonres_retired_hpd, all_act_2010_nonres_retired_hpd, all_act_2011_nonres_retired_hpd,\n",
    "                                   all_act_2012_nonres_retired_hpd]).reshape((-1, 1))\n",
    "\n",
    "activity_hours_per_yr = [i * 365 for i in activity_hours_per_day]\n",
    "#activity_hours_per_yr"
   ]
  },
  {
   "cell_type": "code",
   "execution_count": 171,
   "metadata": {},
   "outputs": [
    {
     "data": {
      "image/png": "[encoded data removed]",
      "text/plain": [
       "<Figure size 432x288 with 1 Axes>"
      ]
     },
     "metadata": {
      "needs_background": "light"
     },
     "output_type": "display_data"
    }
   ],
   "source": [
    "x = year\n",
    "y = activity_hours_per_yr\n",
    "x, y = np.array(x), np.array(y)\n",
    "\n",
    "model = LinearRegression().fit(x, y)\n",
    "\n",
    "y_pred = model.predict(x)  \n",
    "\n",
    "plt.scatter(x, y)\n",
    "plt.plot(x, y_pred, color='red')\n",
    "plt.show()"
   ]
  },
  {
   "cell_type": "code",
   "execution_count": 172,
   "metadata": {},
   "outputs": [
    {
     "data": {
      "text/plain": [
       "0.10850676085170563"
      ]
     },
     "execution_count": 172,
     "metadata": {},
     "output_type": "execute_result"
    }
   ],
   "source": [
    "coefficient_of_determination = model.score(x,y) #R sqaure value \n",
    "coefficient_of_determination"
   ]
  },
  {
   "cell_type": "code",
   "execution_count": 173,
   "metadata": {},
   "outputs": [
    {
     "data": {
      "text/plain": [
       "array([[-2.91667326]])"
      ]
     },
     "execution_count": 173,
     "metadata": {},
     "output_type": "execute_result"
    }
   ],
   "source": [
    "all_act_2012_nonres_retired_slope = model.coef_\n",
    "all_act_2012_nonres_retired_slope"
   ]
  },
  {
   "cell_type": "markdown",
   "metadata": {},
   "source": [
    "#### 2003 -2019 Regression"
   ]
  },
  {
   "cell_type": "code",
   "execution_count": 174,
   "metadata": {},
   "outputs": [],
   "source": [
    "year = np.array([2003, 2004, 2005, 2006, 2007, 2008, 2009, 2010,2011,2012, 2013, 2014, 2015, 2016, 2017, 2018, 2019]).reshape((-1, 1))\n",
    "activity_hours_per_day = np.array([all_act_2003_nonres_retired_hpd, all_act_2004_nonres_retired_hpd, all_act_2005_nonres_retired_hpd,\n",
    "                                   all_act_2006_nonres_retired_hpd, all_act_2007_nonres_retired_hpd, all_act_2008_nonres_retired_hpd,\n",
    "                                   all_act_2009_nonres_retired_hpd, all_act_2010_nonres_retired_hpd, all_act_2011_nonres_retired_hpd,\n",
    "                                   all_act_2012_nonres_retired_hpd, all_act_2013_nonres_retired_hpd, all_act_2014_nonres_retired_hpd,\n",
    "                                   all_act_2015_nonres_retired_hpd, all_act_2016_nonres_retired_hpd, all_act_2017_nonres_retired_hpd,\n",
    "                                   all_act_2018_nonres_retired_hpd, all_act_2019_nonres_retired_hpd]).reshape((-1, 1))\n",
    "\n",
    "activity_hours_per_yr = [i * 365 for i in activity_hours_per_day]\n",
    "#activity_hours_per_yr"
   ]
  },
  {
   "cell_type": "code",
   "execution_count": 175,
   "metadata": {},
   "outputs": [
    {
     "data": {
      "image/png": "[encoded data removed]",
      "text/plain": [
       "<Figure size 432x288 with 1 Axes>"
      ]
     },
     "metadata": {
      "needs_background": "light"
     },
     "output_type": "display_data"
    }
   ],
   "source": [
    "x = year\n",
    "y = activity_hours_per_yr\n",
    "x, y = np.array(x), np.array(y)\n",
    "\n",
    "model = LinearRegression().fit(x, y)\n",
    "\n",
    "y_pred = model.predict(x)  \n",
    "\n",
    "plt.scatter(x, y)\n",
    "plt.plot(x, y_pred, color='red')\n",
    "plt.show()"
   ]
  },
  {
   "cell_type": "code",
   "execution_count": 176,
   "metadata": {},
   "outputs": [
    {
     "data": {
      "text/plain": [
       "0.18321053554840805"
      ]
     },
     "execution_count": 176,
     "metadata": {},
     "output_type": "execute_result"
    }
   ],
   "source": [
    "coefficient_of_determination = model.score(x,y) #R sqaure value \n",
    "coefficient_of_determination"
   ]
  },
  {
   "cell_type": "code",
   "execution_count": 177,
   "metadata": {},
   "outputs": [
    {
     "data": {
      "text/plain": [
       "array([[-2.05288136]])"
      ]
     },
     "execution_count": 177,
     "metadata": {},
     "output_type": "execute_result"
    }
   ],
   "source": [
    "all_act_2019_nonres_retired_slope = model.coef_\n",
    "all_act_2019_nonres_retired_slope"
   ]
  },
  {
   "cell_type": "markdown",
   "metadata": {},
   "source": [
    "## 2003-2019 Transportation - Retired"
   ]
  },
  {
   "cell_type": "markdown",
   "metadata": {},
   "source": [
    "### 2003 Transportation"
   ]
  },
  {
   "cell_type": "code",
   "execution_count": 178,
   "metadata": {},
   "outputs": [],
   "source": [
    "#transporation = 12, 13. 12 = Car, truck, or motorcycle (driver), 13= Car, truck, or motorcycle (passager)"
   ]
  },
  {
   "cell_type": "code",
   "execution_count": 320,
   "metadata": {},
   "outputs": [],
   "source": [
    "transpoartion_location = [12,13]\n",
    "atus_multi_yr_tran_retired = multi_merged_retired[multi_merged_retired[\"TEWHERE\"].isin(transpoartion_location)]\n",
    "#atus_multi_yr_tran_retired"
   ]
  },
  {
   "cell_type": "code",
   "execution_count": 321,
   "metadata": {},
   "outputs": [],
   "source": [
    "#atus transportation retired population seperated by year\n",
    "atus_2003_tran_retired = atus_multi_yr_tran_retired[atus_multi_yr_tran_retired[\"TUCASEID\"].apply(str).str.startswith(\"2003\")]\n",
    "atus_2004_tran_retired = atus_multi_yr_tran_retired[atus_multi_yr_tran_retired[\"TUCASEID\"].apply(str).str.startswith(\"2004\")]\n",
    "atus_2005_tran_retired = atus_multi_yr_tran_retired[atus_multi_yr_tran_retired[\"TUCASEID\"].apply(str).str.startswith(\"2005\")]\n",
    "atus_2006_tran_retired = atus_multi_yr_tran_retired[atus_multi_yr_tran_retired[\"TUCASEID\"].apply(str).str.startswith(\"2006\")]\n",
    "atus_2007_tran_retired = atus_multi_yr_tran_retired[atus_multi_yr_tran_retired[\"TUCASEID\"].apply(str).str.startswith(\"2007\")]\n",
    "atus_2008_tran_retired = atus_multi_yr_tran_retired[atus_multi_yr_tran_retired[\"TUCASEID\"].apply(str).str.startswith(\"2008\")]\n",
    "atus_2009_tran_retired = atus_multi_yr_tran_retired[atus_multi_yr_tran_retired[\"TUCASEID\"].apply(str).str.startswith(\"2009\")]\n",
    "atus_2010_tran_retired = atus_multi_yr_tran_retired[atus_multi_yr_tran_retired[\"TUCASEID\"].apply(str).str.startswith(\"2010\")]\n",
    "atus_2011_tran_retired = atus_multi_yr_tran_retired[atus_multi_yr_tran_retired[\"TUCASEID\"].apply(str).str.startswith(\"2011\")]\n",
    "atus_2012_tran_retired = atus_multi_yr_tran_retired[atus_multi_yr_tran_retired[\"TUCASEID\"].apply(str).str.startswith(\"2012\")]\n",
    "atus_2013_tran_retired = atus_multi_yr_tran_retired[atus_multi_yr_tran_retired[\"TUCASEID\"].apply(str).str.startswith(\"2013\")]\n",
    "atus_2014_tran_retired = atus_multi_yr_tran_retired[atus_multi_yr_tran_retired[\"TUCASEID\"].apply(str).str.startswith(\"2014\")]\n",
    "atus_2015_tran_retired = atus_multi_yr_tran_retired[atus_multi_yr_tran_retired[\"TUCASEID\"].apply(str).str.startswith(\"2015\")]\n",
    "atus_2016_tran_retired = atus_multi_yr_tran_retired[atus_multi_yr_tran_retired[\"TUCASEID\"].apply(str).str.startswith(\"2016\")]\n",
    "atus_2017_tran_retired = atus_multi_yr_tran_retired[atus_multi_yr_tran_retired[\"TUCASEID\"].apply(str).str.startswith(\"2017\")]\n",
    "atus_2018_tran_retired = atus_multi_yr_tran_retired[atus_multi_yr_tran_retired[\"TUCASEID\"].apply(str).str.startswith(\"2018\")]\n",
    "atus_2019_tran_retired = atus_multi_yr_tran_retired[atus_multi_yr_tran_retired[\"TUCASEID\"].apply(str).str.startswith(\"2019\")]\n",
    "#atus_2003_tran_retired"
   ]
  },
  {
   "cell_type": "code",
   "execution_count": 322,
   "metadata": {},
   "outputs": [],
   "source": [
    "atus_2003_tran_retired = atus_2003_tran_retired.groupby([\"TUCASEID\"]).sum().filter([\"TUCASEID\", \"TUACTDUR24\"])\n",
    "#atus_2003_tran_retired"
   ]
  },
  {
   "cell_type": "code",
   "execution_count": 323,
   "metadata": {},
   "outputs": [],
   "source": [
    "atus_2003_tran_retired_merge = pd.merge(atus_2003_tran_retired, multi_resp, on= \"TUCASEID\").filter([\"TUCASEID\",\"TUACTDUR24\",\"TUFNWGTP\"])\n",
    "#atus_2003_tran_retired_merge"
   ]
  },
  {
   "cell_type": "code",
   "execution_count": 324,
   "metadata": {},
   "outputs": [],
   "source": [
    "atus_2003_tran_retired_merge[\"Multiplied Weight\"] = atus_2003_tran_retired_merge[\"TUACTDUR24\"] * atus_2003_tran_retired_merge[\"TUFNWGTP\"]\n",
    "#atus_2003_tran_retired_merge"
   ]
  },
  {
   "cell_type": "code",
   "execution_count": 325,
   "metadata": {},
   "outputs": [
    {
     "data": {
      "text/plain": [
       "608422095535.3794"
      ]
     },
     "execution_count": 325,
     "metadata": {},
     "output_type": "execute_result"
    }
   ],
   "source": [
    "atus_2003_tran_retired_multiplied_weight = atus_2003_tran_retired_merge[\"Multiplied Weight\"].sum()\n",
    "atus_2003_tran_retired_multiplied_weight"
   ]
  },
  {
   "cell_type": "code",
   "execution_count": 326,
   "metadata": {},
   "outputs": [
    {
     "data": {
      "text/plain": [
       "0.8437291922455643"
      ]
     },
     "execution_count": 326,
     "metadata": {},
     "output_type": "execute_result"
    }
   ],
   "source": [
    "atus_2003_tran_retired_hpd = atus_2003_tran_retired_multiplied_weight / atus_2003_retired_weight / 60\n",
    "atus_2003_tran_retired_hpd"
   ]
  },
  {
   "cell_type": "markdown",
   "metadata": {},
   "source": [
    "### 2004 Transportation"
   ]
  },
  {
   "cell_type": "code",
   "execution_count": 186,
   "metadata": {},
   "outputs": [],
   "source": [
    "atus_2004_tran_retired = atus_2004_tran_retired.groupby([\"TUCASEID\"]).sum().filter([\"TUCASEID\", \"TUACTDUR24\"])\n",
    "atus_2004_tran_retired_merge = pd.merge(atus_2004_tran_retired, multi_resp, on= \"TUCASEID\").filter([\"TUCASEID\",\"TUACTDUR24\",\"TUFNWGTP\"])\n",
    "#atus_2004_tran_retired_merge"
   ]
  },
  {
   "cell_type": "code",
   "execution_count": 187,
   "metadata": {},
   "outputs": [
    {
     "data": {
      "text/plain": [
       "627965532511.1997"
      ]
     },
     "execution_count": 187,
     "metadata": {},
     "output_type": "execute_result"
    }
   ],
   "source": [
    "atus_2004_tran_retired_merge[\"Multiplied Weight\"] = atus_2004_tran_retired_merge[\"TUACTDUR24\"] * atus_2004_tran_retired_merge[\"TUFNWGTP\"]\n",
    "atus_2004_tran_retired_multiplied_weight = atus_2004_tran_retired_merge[\"Multiplied Weight\"].sum()\n",
    "atus_2004_tran_retired_multiplied_weight"
   ]
  },
  {
   "cell_type": "code",
   "execution_count": 188,
   "metadata": {},
   "outputs": [
    {
     "data": {
      "text/plain": [
       "0.8579832710225614"
      ]
     },
     "execution_count": 188,
     "metadata": {},
     "output_type": "execute_result"
    }
   ],
   "source": [
    "atus_2004_tran_retired_hpd = atus_2004_tran_retired_multiplied_weight / atus_2004_retired_weight / 60\n",
    "atus_2004_tran_retired_hpd"
   ]
  },
  {
   "cell_type": "markdown",
   "metadata": {},
   "source": [
    "### 2005 Transportation"
   ]
  },
  {
   "cell_type": "code",
   "execution_count": 189,
   "metadata": {},
   "outputs": [],
   "source": [
    "atus_2005_tran_retired = atus_2005_tran_retired.groupby([\"TUCASEID\"]).sum().filter([\"TUCASEID\", \"TUACTDUR24\"])\n",
    "atus_2005_tran_retired_merge = pd.merge(atus_2005_tran_retired, multi_resp, on= \"TUCASEID\").filter([\"TUCASEID\",\"TUACTDUR24\",\"TUFNWGTP\"])\n",
    "#atus_2005_tran_retired_merge"
   ]
  },
  {
   "cell_type": "code",
   "execution_count": 190,
   "metadata": {},
   "outputs": [
    {
     "data": {
      "text/plain": [
       "626104478709.2015"
      ]
     },
     "execution_count": 190,
     "metadata": {},
     "output_type": "execute_result"
    }
   ],
   "source": [
    "atus_2005_tran_retired_merge[\"Multiplied Weight\"] = atus_2005_tran_retired_merge[\"TUACTDUR24\"] * atus_2005_tran_retired_merge[\"TUFNWGTP\"]\n",
    "atus_2005_tran_retired_multiplied_weight = atus_2005_tran_retired_merge[\"Multiplied Weight\"].sum()\n",
    "atus_2005_tran_retired_multiplied_weight"
   ]
  },
  {
   "cell_type": "code",
   "execution_count": 191,
   "metadata": {},
   "outputs": [
    {
     "data": {
      "text/plain": [
       "0.8656804837397346"
      ]
     },
     "execution_count": 191,
     "metadata": {},
     "output_type": "execute_result"
    }
   ],
   "source": [
    "atus_2005_tran_retired_hpd = atus_2005_tran_retired_multiplied_weight / atus_2005_retired_weight / 60\n",
    "atus_2005_tran_retired_hpd"
   ]
  },
  {
   "cell_type": "markdown",
   "metadata": {},
   "source": [
    "### 2006 Transportation"
   ]
  },
  {
   "cell_type": "code",
   "execution_count": 192,
   "metadata": {},
   "outputs": [],
   "source": [
    "atus_2006_tran_retired = atus_2006_tran_retired.groupby([\"TUCASEID\"]).sum().filter([\"TUCASEID\", \"TUACTDUR24\"])\n",
    "atus_2006_tran_retired_merge = pd.merge(atus_2006_tran_retired, multi_resp, on= \"TUCASEID\").filter([\"TUCASEID\",\"TUACTDUR24\",\"TUFNWGTP\"])\n",
    "#atus_2006_tran_retired_merge"
   ]
  },
  {
   "cell_type": "code",
   "execution_count": 193,
   "metadata": {},
   "outputs": [
    {
     "data": {
      "text/plain": [
       "573610461924.6222"
      ]
     },
     "execution_count": 193,
     "metadata": {},
     "output_type": "execute_result"
    }
   ],
   "source": [
    "atus_2006_tran_retired_merge[\"Multiplied Weight\"] = atus_2006_tran_retired_merge[\"TUACTDUR24\"] * atus_2006_tran_retired_merge[\"TUFNWGTP\"]\n",
    "atus_2006_tran_retired_multiplied_weight = atus_2006_tran_retired_merge[\"Multiplied Weight\"].sum()\n",
    "atus_2006_tran_retired_multiplied_weight"
   ]
  },
  {
   "cell_type": "code",
   "execution_count": 194,
   "metadata": {},
   "outputs": [
    {
     "data": {
      "text/plain": [
       "0.7996237131790466"
      ]
     },
     "execution_count": 194,
     "metadata": {},
     "output_type": "execute_result"
    }
   ],
   "source": [
    "atus_2006_tran_retired_hpd = atus_2006_tran_retired_multiplied_weight / atus_2006_retired_weight / 60\n",
    "atus_2006_tran_retired_hpd"
   ]
  },
  {
   "cell_type": "markdown",
   "metadata": {},
   "source": [
    "### 2007 Transportation"
   ]
  },
  {
   "cell_type": "code",
   "execution_count": 195,
   "metadata": {},
   "outputs": [],
   "source": [
    "atus_2007_tran_retired = atus_2007_tran_retired.groupby([\"TUCASEID\"]).sum().filter([\"TUCASEID\", \"TUACTDUR24\"])\n",
    "atus_2007_tran_retired_merge = pd.merge(atus_2007_tran_retired, multi_resp, on= \"TUCASEID\").filter([\"TUCASEID\",\"TUACTDUR24\",\"TUFNWGTP\"])\n",
    "#atus_2007_tran_retired_merge"
   ]
  },
  {
   "cell_type": "code",
   "execution_count": 196,
   "metadata": {},
   "outputs": [
    {
     "data": {
      "text/plain": [
       "664848576016.815"
      ]
     },
     "execution_count": 196,
     "metadata": {},
     "output_type": "execute_result"
    }
   ],
   "source": [
    "atus_2007_tran_retired_merge[\"Multiplied Weight\"] = atus_2007_tran_retired_merge[\"TUACTDUR24\"] * atus_2007_tran_retired_merge[\"TUFNWGTP\"]\n",
    "atus_2007_tran_retired_multiplied_weight = atus_2007_tran_retired_merge[\"Multiplied Weight\"].sum()\n",
    "atus_2007_tran_retired_multiplied_weight"
   ]
  },
  {
   "cell_type": "code",
   "execution_count": 197,
   "metadata": {},
   "outputs": [
    {
     "data": {
      "text/plain": [
       "0.8806530030329245"
      ]
     },
     "execution_count": 197,
     "metadata": {},
     "output_type": "execute_result"
    }
   ],
   "source": [
    "atus_2007_tran_retired_hpd = atus_2007_tran_retired_multiplied_weight / atus_2007_retired_weight / 60\n",
    "atus_2007_tran_retired_hpd"
   ]
  },
  {
   "cell_type": "markdown",
   "metadata": {},
   "source": [
    "### 2008 Transportation"
   ]
  },
  {
   "cell_type": "code",
   "execution_count": 198,
   "metadata": {},
   "outputs": [],
   "source": [
    "atus_2008_tran_retired = atus_2008_tran_retired.groupby([\"TUCASEID\"]).sum().filter([\"TUCASEID\", \"TUACTDUR24\"])\n",
    "atus_2008_tran_retired_merge = pd.merge(atus_2008_tran_retired, multi_resp, on= \"TUCASEID\").filter([\"TUCASEID\",\"TUACTDUR24\",\"TUFNWGTP\"])\n",
    "#atus_2008_tran_retired_merge"
   ]
  },
  {
   "cell_type": "code",
   "execution_count": 199,
   "metadata": {},
   "outputs": [
    {
     "data": {
      "text/plain": [
       "608530848119.2302"
      ]
     },
     "execution_count": 199,
     "metadata": {},
     "output_type": "execute_result"
    }
   ],
   "source": [
    "atus_2008_tran_retired_merge[\"Multiplied Weight\"] = atus_2008_tran_retired_merge[\"TUACTDUR24\"] * atus_2008_tran_retired_merge[\"TUFNWGTP\"]\n",
    "atus_2008_tran_retired_multiplied_weight = atus_2008_tran_retired_merge[\"Multiplied Weight\"].sum()\n",
    "atus_2008_tran_retired_multiplied_weight"
   ]
  },
  {
   "cell_type": "code",
   "execution_count": 200,
   "metadata": {},
   "outputs": [
    {
     "data": {
      "text/plain": [
       "0.8152945442877808"
      ]
     },
     "execution_count": 200,
     "metadata": {},
     "output_type": "execute_result"
    }
   ],
   "source": [
    "atus_2008_tran_retired_hpd = atus_2008_tran_retired_multiplied_weight / atus_2008_retired_weight / 60\n",
    "atus_2008_tran_retired_hpd"
   ]
  },
  {
   "cell_type": "markdown",
   "metadata": {},
   "source": [
    "### 2009 Transportation"
   ]
  },
  {
   "cell_type": "code",
   "execution_count": 201,
   "metadata": {},
   "outputs": [],
   "source": [
    "atus_2009_tran_retired = atus_2009_tran_retired.groupby([\"TUCASEID\"]).sum().filter([\"TUCASEID\", \"TUACTDUR24\"])\n",
    "atus_2009_tran_retired_merge = pd.merge(atus_2009_tran_retired, multi_resp, on= \"TUCASEID\").filter([\"TUCASEID\",\"TUACTDUR24\",\"TUFNWGTP\"])\n",
    "#atus_2009_tran_retired_merge"
   ]
  },
  {
   "cell_type": "code",
   "execution_count": 202,
   "metadata": {},
   "outputs": [
    {
     "data": {
      "text/plain": [
       "592410733318.4866"
      ]
     },
     "execution_count": 202,
     "metadata": {},
     "output_type": "execute_result"
    }
   ],
   "source": [
    "atus_2009_tran_retired_merge[\"Multiplied Weight\"] = atus_2009_tran_retired_merge[\"TUACTDUR24\"] * atus_2009_tran_retired_merge[\"TUFNWGTP\"]\n",
    "atus_2009_tran_retired_multiplied_weight = atus_2009_tran_retired_merge[\"Multiplied Weight\"].sum()\n",
    "atus_2009_tran_retired_multiplied_weight"
   ]
  },
  {
   "cell_type": "code",
   "execution_count": 203,
   "metadata": {},
   "outputs": [
    {
     "data": {
      "text/plain": [
       "0.789291280355662"
      ]
     },
     "execution_count": 203,
     "metadata": {},
     "output_type": "execute_result"
    }
   ],
   "source": [
    "atus_2009_tran_retired_hpd = atus_2009_tran_retired_multiplied_weight / atus_2009_retired_weight / 60\n",
    "atus_2009_tran_retired_hpd"
   ]
  },
  {
   "cell_type": "markdown",
   "metadata": {},
   "source": [
    "### 2010 Transportation"
   ]
  },
  {
   "cell_type": "code",
   "execution_count": 204,
   "metadata": {},
   "outputs": [],
   "source": [
    "atus_2010_tran_retired = atus_2010_tran_retired.groupby([\"TUCASEID\"]).sum().filter([\"TUCASEID\", \"TUACTDUR24\"])\n",
    "atus_2010_tran_retired_merge = pd.merge(atus_2010_tran_retired, multi_resp, on= \"TUCASEID\").filter([\"TUCASEID\",\"TUACTDUR24\",\"TUFNWGTP\"])\n",
    "#atus_2010_tran_retired_merge"
   ]
  },
  {
   "cell_type": "code",
   "execution_count": 205,
   "metadata": {},
   "outputs": [
    {
     "data": {
      "text/plain": [
       "580342029000.5486"
      ]
     },
     "execution_count": 205,
     "metadata": {},
     "output_type": "execute_result"
    }
   ],
   "source": [
    "atus_2010_tran_retired_merge[\"Multiplied Weight\"] = atus_2010_tran_retired_merge[\"TUACTDUR24\"] * atus_2010_tran_retired_merge[\"TUFNWGTP\"]\n",
    "atus_2010_tran_retired_multiplied_weight = atus_2010_tran_retired_merge[\"Multiplied Weight\"].sum()\n",
    "atus_2010_tran_retired_multiplied_weight"
   ]
  },
  {
   "cell_type": "code",
   "execution_count": 206,
   "metadata": {},
   "outputs": [
    {
     "data": {
      "text/plain": [
       "0.7769566393364069"
      ]
     },
     "execution_count": 206,
     "metadata": {},
     "output_type": "execute_result"
    }
   ],
   "source": [
    "atus_2010_tran_retired_hpd = atus_2010_tran_retired_multiplied_weight / atus_2010_retired_weight / 60\n",
    "atus_2010_tran_retired_hpd"
   ]
  },
  {
   "cell_type": "markdown",
   "metadata": {},
   "source": [
    "### 2011 Transportation"
   ]
  },
  {
   "cell_type": "code",
   "execution_count": 207,
   "metadata": {},
   "outputs": [],
   "source": [
    "atus_2011_tran_retired = atus_2011_tran_retired.groupby([\"TUCASEID\"]).sum().filter([\"TUCASEID\", \"TUACTDUR24\"])\n",
    "atus_2011_tran_retired_merge = pd.merge(atus_2011_tran_retired, multi_resp, on= \"TUCASEID\").filter([\"TUCASEID\",\"TUACTDUR24\",\"TUFNWGTP\"])\n",
    "#atus_2011_tran_retired_merge"
   ]
  },
  {
   "cell_type": "code",
   "execution_count": 208,
   "metadata": {},
   "outputs": [
    {
     "data": {
      "text/plain": [
       "630988410880.9258"
      ]
     },
     "execution_count": 208,
     "metadata": {},
     "output_type": "execute_result"
    }
   ],
   "source": [
    "atus_2011_tran_retired_merge[\"Multiplied Weight\"] = atus_2011_tran_retired_merge[\"TUACTDUR24\"] * atus_2011_tran_retired_merge[\"TUFNWGTP\"]\n",
    "atus_2011_tran_retired_multiplied_weight = atus_2011_tran_retired_merge[\"Multiplied Weight\"].sum()\n",
    "atus_2011_tran_retired_multiplied_weight"
   ]
  },
  {
   "cell_type": "code",
   "execution_count": 209,
   "metadata": {},
   "outputs": [
    {
     "data": {
      "text/plain": [
       "0.835042937467758"
      ]
     },
     "execution_count": 209,
     "metadata": {},
     "output_type": "execute_result"
    }
   ],
   "source": [
    "atus_2011_tran_retired_hpd = atus_2011_tran_retired_multiplied_weight / atus_2011_retired_weight / 60\n",
    "atus_2011_tran_retired_hpd"
   ]
  },
  {
   "cell_type": "markdown",
   "metadata": {},
   "source": [
    "### 2012 Transportation"
   ]
  },
  {
   "cell_type": "code",
   "execution_count": 210,
   "metadata": {},
   "outputs": [],
   "source": [
    "atus_2012_tran_retired = atus_2012_tran_retired.groupby([\"TUCASEID\"]).sum().filter([\"TUCASEID\", \"TUACTDUR24\"])\n",
    "atus_2012_tran_retired_merge = pd.merge(atus_2012_tran_retired, multi_resp, on= \"TUCASEID\").filter([\"TUCASEID\",\"TUACTDUR24\",\"TUFNWGTP\"])\n",
    "#atus_2012_tran_retired_merge"
   ]
  },
  {
   "cell_type": "code",
   "execution_count": 211,
   "metadata": {},
   "outputs": [
    {
     "data": {
      "text/plain": [
       "619521336784.0198"
      ]
     },
     "execution_count": 211,
     "metadata": {},
     "output_type": "execute_result"
    }
   ],
   "source": [
    "atus_2012_tran_retired_merge[\"Multiplied Weight\"] = atus_2012_tran_retired_merge[\"TUACTDUR24\"] * atus_2012_tran_retired_merge[\"TUFNWGTP\"]\n",
    "atus_2012_tran_retired_multiplied_weight = atus_2012_tran_retired_merge[\"Multiplied Weight\"].sum()\n",
    "atus_2012_tran_retired_multiplied_weight"
   ]
  },
  {
   "cell_type": "code",
   "execution_count": 212,
   "metadata": {},
   "outputs": [
    {
     "data": {
      "text/plain": [
       "0.781464655837808"
      ]
     },
     "execution_count": 212,
     "metadata": {},
     "output_type": "execute_result"
    }
   ],
   "source": [
    "atus_2012_tran_retired_hpd = atus_2012_tran_retired_multiplied_weight / atus_2012_retired_weight / 60\n",
    "atus_2012_tran_retired_hpd"
   ]
  },
  {
   "cell_type": "markdown",
   "metadata": {},
   "source": [
    "### 2013 Transportation"
   ]
  },
  {
   "cell_type": "code",
   "execution_count": 213,
   "metadata": {},
   "outputs": [],
   "source": [
    "atus_2013_tran_retired = atus_2013_tran_retired.groupby([\"TUCASEID\"]).sum().filter([\"TUCASEID\", \"TUACTDUR24\"])\n",
    "atus_2013_tran_retired_merge = pd.merge(atus_2013_tran_retired, multi_resp, on= \"TUCASEID\").filter([\"TUCASEID\",\"TUACTDUR24\",\"TUFNWGTP\"])\n",
    "#atus_2013_tran_retired_merge"
   ]
  },
  {
   "cell_type": "code",
   "execution_count": 214,
   "metadata": {},
   "outputs": [
    {
     "data": {
      "text/plain": [
       "671869745822.0532"
      ]
     },
     "execution_count": 214,
     "metadata": {},
     "output_type": "execute_result"
    }
   ],
   "source": [
    "atus_2013_tran_retired_merge[\"Multiplied Weight\"] = atus_2013_tran_retired_merge[\"TUACTDUR24\"] * atus_2013_tran_retired_merge[\"TUFNWGTP\"]\n",
    "atus_2013_tran_retired_multiplied_weight = atus_2013_tran_retired_merge[\"Multiplied Weight\"].sum()\n",
    "atus_2013_tran_retired_multiplied_weight"
   ]
  },
  {
   "cell_type": "code",
   "execution_count": 215,
   "metadata": {},
   "outputs": [
    {
     "data": {
      "text/plain": [
       "0.8406063697230832"
      ]
     },
     "execution_count": 215,
     "metadata": {},
     "output_type": "execute_result"
    }
   ],
   "source": [
    "atus_2013_tran_retired_hpd = atus_2013_tran_retired_multiplied_weight / atus_2013_retired_weight / 60\n",
    "atus_2013_tran_retired_hpd"
   ]
  },
  {
   "cell_type": "markdown",
   "metadata": {},
   "source": [
    "### 2014 Transportation"
   ]
  },
  {
   "cell_type": "code",
   "execution_count": 216,
   "metadata": {},
   "outputs": [],
   "source": [
    "atus_2014_tran_retired = atus_2014_tran_retired.groupby([\"TUCASEID\"]).sum().filter([\"TUCASEID\", \"TUACTDUR24\"])\n",
    "atus_2014_tran_retired_merge = pd.merge(atus_2014_tran_retired, multi_resp, on= \"TUCASEID\").filter([\"TUCASEID\",\"TUACTDUR24\",\"TUFNWGTP\"])\n",
    "#atus_2014_tran_retired_merge"
   ]
  },
  {
   "cell_type": "code",
   "execution_count": 217,
   "metadata": {},
   "outputs": [
    {
     "data": {
      "text/plain": [
       "643417177085.0723"
      ]
     },
     "execution_count": 217,
     "metadata": {},
     "output_type": "execute_result"
    }
   ],
   "source": [
    "atus_2014_tran_retired_merge[\"Multiplied Weight\"] = atus_2014_tran_retired_merge[\"TUACTDUR24\"] * atus_2014_tran_retired_merge[\"TUFNWGTP\"]\n",
    "atus_2014_tran_retired_multiplied_weight = atus_2014_tran_retired_merge[\"Multiplied Weight\"].sum()\n",
    "atus_2014_tran_retired_multiplied_weight"
   ]
  },
  {
   "cell_type": "code",
   "execution_count": 218,
   "metadata": {},
   "outputs": [
    {
     "data": {
      "text/plain": [
       "0.763218908574812"
      ]
     },
     "execution_count": 218,
     "metadata": {},
     "output_type": "execute_result"
    }
   ],
   "source": [
    "atus_2014_tran_retired_hpd = atus_2014_tran_retired_multiplied_weight / atus_2014_retired_weight / 60\n",
    "atus_2014_tran_retired_hpd"
   ]
  },
  {
   "cell_type": "markdown",
   "metadata": {},
   "source": [
    "### 2015 Transportation"
   ]
  },
  {
   "cell_type": "code",
   "execution_count": 219,
   "metadata": {},
   "outputs": [],
   "source": [
    "atus_2015_tran_retired = atus_2015_tran_retired.groupby([\"TUCASEID\"]).sum().filter([\"TUCASEID\", \"TUACTDUR24\"])\n",
    "atus_2015_tran_retired_merge = pd.merge(atus_2015_tran_retired, multi_resp, on= \"TUCASEID\").filter([\"TUCASEID\",\"TUACTDUR24\",\"TUFNWGTP\"])\n",
    "#atus_2015_tran_retired_merge"
   ]
  },
  {
   "cell_type": "code",
   "execution_count": 220,
   "metadata": {},
   "outputs": [
    {
     "data": {
      "text/plain": [
       "651543291881.8362"
      ]
     },
     "execution_count": 220,
     "metadata": {},
     "output_type": "execute_result"
    }
   ],
   "source": [
    "atus_2015_tran_retired_merge[\"Multiplied Weight\"] = atus_2015_tran_retired_merge[\"TUACTDUR24\"] * atus_2015_tran_retired_merge[\"TUFNWGTP\"]\n",
    "atus_2015_tran_retired_multiplied_weight = atus_2015_tran_retired_merge[\"Multiplied Weight\"].sum()\n",
    "atus_2015_tran_retired_multiplied_weight"
   ]
  },
  {
   "cell_type": "code",
   "execution_count": 221,
   "metadata": {},
   "outputs": [
    {
     "data": {
      "text/plain": [
       "0.7836266340296943"
      ]
     },
     "execution_count": 221,
     "metadata": {},
     "output_type": "execute_result"
    }
   ],
   "source": [
    "atus_2015_tran_retired_hpd = atus_2015_tran_retired_multiplied_weight / atus_2015_retired_weight / 60\n",
    "atus_2015_tran_retired_hpd"
   ]
  },
  {
   "cell_type": "markdown",
   "metadata": {},
   "source": [
    "### 2016 Transportation"
   ]
  },
  {
   "cell_type": "code",
   "execution_count": 222,
   "metadata": {},
   "outputs": [],
   "source": [
    "atus_2016_tran_retired = atus_2016_tran_retired.groupby([\"TUCASEID\"]).sum().filter([\"TUCASEID\", \"TUACTDUR24\"])\n",
    "atus_2016_tran_retired_merge = pd.merge(atus_2016_tran_retired, multi_resp, on= \"TUCASEID\").filter([\"TUCASEID\",\"TUACTDUR24\",\"TUFNWGTP\"])\n",
    "#atus_2016_tran_retired_merge"
   ]
  },
  {
   "cell_type": "code",
   "execution_count": 223,
   "metadata": {},
   "outputs": [
    {
     "data": {
      "text/plain": [
       "707344995782.0161"
      ]
     },
     "execution_count": 223,
     "metadata": {},
     "output_type": "execute_result"
    }
   ],
   "source": [
    "atus_2016_tran_retired_merge[\"Multiplied Weight\"] = atus_2016_tran_retired_merge[\"TUACTDUR24\"] * atus_2016_tran_retired_merge[\"TUFNWGTP\"]\n",
    "atus_2016_tran_retired_multiplied_weight = atus_2016_tran_retired_merge[\"Multiplied Weight\"].sum()\n",
    "atus_2016_tran_retired_multiplied_weight"
   ]
  },
  {
   "cell_type": "code",
   "execution_count": 224,
   "metadata": {},
   "outputs": [
    {
     "data": {
      "text/plain": [
       "0.8118290525959091"
      ]
     },
     "execution_count": 224,
     "metadata": {},
     "output_type": "execute_result"
    }
   ],
   "source": [
    "atus_2016_tran_retired_hpd = atus_2016_tran_retired_multiplied_weight / atus_2016_retired_weight / 60\n",
    "atus_2016_tran_retired_hpd"
   ]
  },
  {
   "cell_type": "markdown",
   "metadata": {},
   "source": [
    "### 2017 Transportation"
   ]
  },
  {
   "cell_type": "code",
   "execution_count": 225,
   "metadata": {},
   "outputs": [],
   "source": [
    "atus_2017_tran_retired = atus_2017_tran_retired.groupby([\"TUCASEID\"]).sum().filter([\"TUCASEID\", \"TUACTDUR24\"])\n",
    "atus_2017_tran_retired_merge = pd.merge(atus_2017_tran_retired, multi_resp, on= \"TUCASEID\").filter([\"TUCASEID\",\"TUACTDUR24\",\"TUFNWGTP\"])\n",
    "#atus_2017_tran_retired_merge"
   ]
  },
  {
   "cell_type": "code",
   "execution_count": 226,
   "metadata": {},
   "outputs": [
    {
     "data": {
      "text/plain": [
       "712686933591.0695"
      ]
     },
     "execution_count": 226,
     "metadata": {},
     "output_type": "execute_result"
    }
   ],
   "source": [
    "atus_2017_tran_retired_merge[\"Multiplied Weight\"] = atus_2017_tran_retired_merge[\"TUACTDUR24\"] * atus_2017_tran_retired_merge[\"TUFNWGTP\"]\n",
    "atus_2017_tran_retired_multiplied_weight = atus_2017_tran_retired_merge[\"Multiplied Weight\"].sum()\n",
    "atus_2017_tran_retired_multiplied_weight"
   ]
  },
  {
   "cell_type": "code",
   "execution_count": 227,
   "metadata": {},
   "outputs": [
    {
     "data": {
      "text/plain": [
       "0.8050097759832203"
      ]
     },
     "execution_count": 227,
     "metadata": {},
     "output_type": "execute_result"
    }
   ],
   "source": [
    "atus_2017_tran_retired_hpd = atus_2017_tran_retired_multiplied_weight / atus_2017_retired_weight / 60\n",
    "atus_2017_tran_retired_hpd"
   ]
  },
  {
   "cell_type": "markdown",
   "metadata": {},
   "source": [
    "### 2018 Transportation"
   ]
  },
  {
   "cell_type": "code",
   "execution_count": 228,
   "metadata": {},
   "outputs": [],
   "source": [
    "atus_2018_tran_retired = atus_2018_tran_retired.groupby([\"TUCASEID\"]).sum().filter([\"TUCASEID\", \"TUACTDUR24\"])\n",
    "atus_2018_tran_retired_merge = pd.merge(atus_2018_tran_retired, multi_resp, on= \"TUCASEID\").filter([\"TUCASEID\",\"TUACTDUR24\",\"TUFNWGTP\"])\n",
    "#atus_2018_tran_retired_merge"
   ]
  },
  {
   "cell_type": "code",
   "execution_count": 229,
   "metadata": {},
   "outputs": [
    {
     "data": {
      "text/plain": [
       "762759949473.0009"
      ]
     },
     "execution_count": 229,
     "metadata": {},
     "output_type": "execute_result"
    }
   ],
   "source": [
    "atus_2018_tran_retired_merge[\"Multiplied Weight\"] = atus_2018_tran_retired_merge[\"TUACTDUR24\"] * atus_2018_tran_retired_merge[\"TUFNWGTP\"]\n",
    "atus_2018_tran_retired_multiplied_weight = atus_2018_tran_retired_merge[\"Multiplied Weight\"].sum()\n",
    "atus_2018_tran_retired_multiplied_weight"
   ]
  },
  {
   "cell_type": "code",
   "execution_count": 230,
   "metadata": {},
   "outputs": [
    {
     "data": {
      "text/plain": [
       "0.822229893596699"
      ]
     },
     "execution_count": 230,
     "metadata": {},
     "output_type": "execute_result"
    }
   ],
   "source": [
    "atus_2018_tran_retired_hpd = atus_2018_tran_retired_multiplied_weight / atus_2018_retired_weight / 60\n",
    "atus_2018_tran_retired_hpd"
   ]
  },
  {
   "cell_type": "markdown",
   "metadata": {},
   "source": [
    "### 2019 Transportation"
   ]
  },
  {
   "cell_type": "code",
   "execution_count": 231,
   "metadata": {},
   "outputs": [],
   "source": [
    "atus_2019_tran_retired = atus_2019_tran_retired.groupby([\"TUCASEID\"]).sum().filter([\"TUCASEID\", \"TUACTDUR24\"])\n",
    "atus_2019_tran_retired_merge = pd.merge(atus_2019_tran_retired, multi_resp, on= \"TUCASEID\").filter([\"TUCASEID\",\"TUACTDUR24\",\"TUFNWGTP\"])\n",
    "#atus_2019_tran_retired_merge"
   ]
  },
  {
   "cell_type": "code",
   "execution_count": 232,
   "metadata": {},
   "outputs": [
    {
     "data": {
      "text/plain": [
       "775154624519.3356"
      ]
     },
     "execution_count": 232,
     "metadata": {},
     "output_type": "execute_result"
    }
   ],
   "source": [
    "atus_2019_tran_retired_merge[\"Multiplied Weight\"] = atus_2019_tran_retired_merge[\"TUACTDUR24\"] * atus_2019_tran_retired_merge[\"TUFNWGTP\"]\n",
    "atus_2019_tran_retired_multiplied_weight = atus_2019_tran_retired_merge[\"Multiplied Weight\"].sum()\n",
    "atus_2019_tran_retired_multiplied_weight"
   ]
  },
  {
   "cell_type": "code",
   "execution_count": 233,
   "metadata": {},
   "outputs": [
    {
     "data": {
      "text/plain": [
       "0.813971341576517"
      ]
     },
     "execution_count": 233,
     "metadata": {},
     "output_type": "execute_result"
    }
   ],
   "source": [
    "atus_2019_tran_retired_hpd = atus_2019_tran_retired_multiplied_weight / atus_2019_retired_weight / 60\n",
    "atus_2019_tran_retired_hpd"
   ]
  },
  {
   "cell_type": "markdown",
   "metadata": {},
   "source": [
    "### Regresssion: Transportation - Retired"
   ]
  },
  {
   "cell_type": "markdown",
   "metadata": {},
   "source": [
    "#### 2003 -2012 Regression"
   ]
  },
  {
   "cell_type": "code",
   "execution_count": 234,
   "metadata": {},
   "outputs": [],
   "source": [
    "year = np.array([2003, 2004, 2005, 2006, 2007, 2008, 2009, 2010,2011,2012]).reshape((-1, 1))\n",
    "activity_hours_per_day = np.array([atus_2003_tran_retired_hpd, atus_2004_tran_retired_hpd, atus_2005_tran_retired_hpd,\n",
    "                                   atus_2006_tran_retired_hpd, atus_2007_tran_retired_hpd, atus_2008_tran_retired_hpd,\n",
    "                                   atus_2009_tran_retired_hpd, atus_2010_tran_retired_hpd, atus_2011_tran_retired_hpd,\n",
    "                                   atus_2012_tran_retired_hpd]).reshape((-1, 1))\n",
    "\n",
    "activity_hours_per_yr = [i * 365 for i in activity_hours_per_day]\n",
    "#activity_hours_per_yr"
   ]
  },
  {
   "cell_type": "code",
   "execution_count": 235,
   "metadata": {},
   "outputs": [
    {
     "data": {
      "image/png": "[encoded data removed]",
      "text/plain": [
       "<Figure size 432x288 with 1 Axes>"
      ]
     },
     "metadata": {
      "needs_background": "light"
     },
     "output_type": "display_data"
    }
   ],
   "source": [
    "x = year\n",
    "y = activity_hours_per_yr\n",
    "x, y = np.array(x), np.array(y)\n",
    "\n",
    "model = LinearRegression().fit(x, y)\n",
    "\n",
    "y_pred = model.predict(x)  \n",
    "\n",
    "plt.scatter(x, y)\n",
    "plt.plot(x, y_pred, color='red')\n",
    "plt.show()"
   ]
  },
  {
   "cell_type": "code",
   "execution_count": 236,
   "metadata": {},
   "outputs": [
    {
     "data": {
      "text/plain": [
       "0.3852420054752036"
      ]
     },
     "execution_count": 236,
     "metadata": {},
     "output_type": "execute_result"
    }
   ],
   "source": [
    "coefficient_of_determination = model.score(x,y) #R sqaure value \n",
    "coefficient_of_determination"
   ]
  },
  {
   "cell_type": "code",
   "execution_count": 237,
   "metadata": {},
   "outputs": [
    {
     "data": {
      "text/plain": [
       "array([[-2.78934801]])"
      ]
     },
     "execution_count": 237,
     "metadata": {},
     "output_type": "execute_result"
    }
   ],
   "source": [
    "tran_2012_retired_slope = model.coef_\n",
    "tran_2012_retired_slope"
   ]
  },
  {
   "cell_type": "markdown",
   "metadata": {},
   "source": [
    "#### 2003 -2019 Regression"
   ]
  },
  {
   "cell_type": "code",
   "execution_count": 238,
   "metadata": {},
   "outputs": [],
   "source": [
    "year = np.array([2003, 2004, 2005, 2006, 2007, 2008, 2009, 2010,2011,2012, 2013, 2014, 2015, 2016, 2017, 2018, 2019]).reshape((-1, 1))\n",
    "activity_hours_per_day = np.array([atus_2003_tran_retired_hpd, atus_2004_tran_retired_hpd, atus_2005_tran_retired_hpd,\n",
    "                                   atus_2006_tran_retired_hpd, atus_2007_tran_retired_hpd, atus_2008_tran_retired_hpd,\n",
    "                                   atus_2009_tran_retired_hpd, atus_2010_tran_retired_hpd, atus_2011_tran_retired_hpd,\n",
    "                                   atus_2012_tran_retired_hpd, atus_2013_tran_retired_hpd, atus_2014_tran_retired_hpd,\n",
    "                                   atus_2015_tran_retired_hpd, atus_2016_tran_retired_hpd, atus_2017_tran_retired_hpd,\n",
    "                                   atus_2018_tran_retired_hpd, atus_2019_tran_retired_hpd]).reshape((-1, 1))\n",
    "\n",
    "activity_hours_per_yr = [i * 365 for i in activity_hours_per_day]\n",
    "#activity_hours_per_yr"
   ]
  },
  {
   "cell_type": "code",
   "execution_count": 239,
   "metadata": {},
   "outputs": [
    {
     "data": {
      "image/png": "[encoded data removed]",
      "text/plain": [
       "<Figure size 432x288 with 1 Axes>"
      ]
     },
     "metadata": {
      "needs_background": "light"
     },
     "output_type": "display_data"
    }
   ],
   "source": [
    "x = year\n",
    "y = activity_hours_per_yr\n",
    "x, y = np.array(x), np.array(y)\n",
    "\n",
    "model = LinearRegression().fit(x, y)\n",
    "\n",
    "y_pred = model.predict(x)  \n",
    "\n",
    "plt.scatter(x, y)\n",
    "plt.plot(x, y_pred, color='red')\n",
    "plt.show()"
   ]
  },
  {
   "cell_type": "code",
   "execution_count": 240,
   "metadata": {},
   "outputs": [
    {
     "data": {
      "text/plain": [
       "0.20723931903457427"
      ]
     },
     "execution_count": 240,
     "metadata": {},
     "output_type": "execute_result"
    }
   ],
   "source": [
    "coefficient_of_determination = model.score(x,y) #R sqaure value \n",
    "coefficient_of_determination"
   ]
  },
  {
   "cell_type": "code",
   "execution_count": 241,
   "metadata": {},
   "outputs": [
    {
     "data": {
      "text/plain": [
       "array([[-1.09905095]])"
      ]
     },
     "execution_count": 241,
     "metadata": {},
     "output_type": "execute_result"
    }
   ],
   "source": [
    "tran_2019_retired_slope = model.coef_\n",
    "tran_2019_retired_slope"
   ]
  },
  {
   "cell_type": "markdown",
   "metadata": {},
   "source": [
    "### 2003-2019 - Unspecified- Retired"
   ]
  },
  {
   "cell_type": "code",
   "execution_count": 242,
   "metadata": {},
   "outputs": [],
   "source": [
    "#unspecified = 89, 89 = Unspecified place"
   ]
  },
  {
   "cell_type": "code",
   "execution_count": 243,
   "metadata": {},
   "outputs": [
    {
     "data": {
      "text/html": [
       "<div>\n",
       "<style scoped>\n",
       "    .dataframe tbody tr th:only-of-type {\n",
       "        vertical-align: middle;\n",
       "    }\n",
       "\n",
       "    .dataframe tbody tr th {\n",
       "        vertical-align: top;\n",
       "    }\n",
       "\n",
       "    .dataframe thead th {\n",
       "        text-align: right;\n",
       "    }\n",
       "</style>\n",
       "<table border=\"1\" class=\"dataframe\">\n",
       "  <thead>\n",
       "    <tr style=\"text-align: right;\">\n",
       "      <th></th>\n",
       "      <th>TUCASEID</th>\n",
       "      <th>TUACTDUR24</th>\n",
       "      <th>TUCUMDUR</th>\n",
       "      <th>TRTIER1P</th>\n",
       "      <th>TRTIER2P</th>\n",
       "      <th>TRCODEP</th>\n",
       "      <th>TEWHERE</th>\n",
       "      <th>TELFS</th>\n",
       "      <th>TUFNWGTP</th>\n",
       "      <th>TUSTARTTIM</th>\n",
       "      <th>TUSTOPTIME</th>\n",
       "      <th>TUYEAR</th>\n",
       "      <th>TURETOT</th>\n",
       "    </tr>\n",
       "  </thead>\n",
       "  <tbody>\n",
       "    <tr>\n",
       "      <th>3588</th>\n",
       "      <td>20030101032616</td>\n",
       "      <td>10</td>\n",
       "      <td>750</td>\n",
       "      <td>04</td>\n",
       "      <td>0405</td>\n",
       "      <td>040508</td>\n",
       "      <td>89</td>\n",
       "      <td>5</td>\n",
       "      <td>1.387219e+06</td>\n",
       "      <td>16:20:00</td>\n",
       "      <td>16:30:00</td>\n",
       "      <td>2003</td>\n",
       "      <td>1</td>\n",
       "    </tr>\n",
       "    <tr>\n",
       "      <th>16808</th>\n",
       "      <td>20030112021285</td>\n",
       "      <td>10</td>\n",
       "      <td>235</td>\n",
       "      <td>04</td>\n",
       "      <td>0405</td>\n",
       "      <td>040507</td>\n",
       "      <td>89</td>\n",
       "      <td>5</td>\n",
       "      <td>1.236652e+06</td>\n",
       "      <td>07:45:00</td>\n",
       "      <td>07:55:00</td>\n",
       "      <td>2003</td>\n",
       "      <td>1</td>\n",
       "    </tr>\n",
       "    <tr>\n",
       "      <th>16812</th>\n",
       "      <td>20030112021285</td>\n",
       "      <td>10</td>\n",
       "      <td>580</td>\n",
       "      <td>04</td>\n",
       "      <td>0405</td>\n",
       "      <td>040507</td>\n",
       "      <td>89</td>\n",
       "      <td>5</td>\n",
       "      <td>1.236652e+06</td>\n",
       "      <td>13:30:00</td>\n",
       "      <td>13:40:00</td>\n",
       "      <td>2003</td>\n",
       "      <td>1</td>\n",
       "    </tr>\n",
       "    <tr>\n",
       "      <th>16998</th>\n",
       "      <td>20030112021309</td>\n",
       "      <td>30</td>\n",
       "      <td>620</td>\n",
       "      <td>13</td>\n",
       "      <td>1301</td>\n",
       "      <td>130131</td>\n",
       "      <td>89</td>\n",
       "      <td>5</td>\n",
       "      <td>7.127272e+06</td>\n",
       "      <td>13:50:00</td>\n",
       "      <td>14:20:00</td>\n",
       "      <td>2003</td>\n",
       "      <td>1</td>\n",
       "    </tr>\n",
       "    <tr>\n",
       "      <th>17712</th>\n",
       "      <td>20030112021408</td>\n",
       "      <td>15</td>\n",
       "      <td>351</td>\n",
       "      <td>13</td>\n",
       "      <td>1301</td>\n",
       "      <td>130131</td>\n",
       "      <td>89</td>\n",
       "      <td>4</td>\n",
       "      <td>6.199926e+06</td>\n",
       "      <td>09:36:00</td>\n",
       "      <td>09:51:00</td>\n",
       "      <td>2003</td>\n",
       "      <td>1</td>\n",
       "    </tr>\n",
       "    <tr>\n",
       "      <th>...</th>\n",
       "      <td>...</td>\n",
       "      <td>...</td>\n",
       "      <td>...</td>\n",
       "      <td>...</td>\n",
       "      <td>...</td>\n",
       "      <td>...</td>\n",
       "      <td>...</td>\n",
       "      <td>...</td>\n",
       "      <td>...</td>\n",
       "      <td>...</td>\n",
       "      <td>...</td>\n",
       "      <td>...</td>\n",
       "      <td>...</td>\n",
       "    </tr>\n",
       "    <tr>\n",
       "      <th>4105251</th>\n",
       "      <td>20191111191763</td>\n",
       "      <td>1</td>\n",
       "      <td>871</td>\n",
       "      <td>04</td>\n",
       "      <td>0405</td>\n",
       "      <td>040507</td>\n",
       "      <td>89</td>\n",
       "      <td>5</td>\n",
       "      <td>8.980968e+05</td>\n",
       "      <td>18:30:00</td>\n",
       "      <td>18:31:00</td>\n",
       "      <td>2019</td>\n",
       "      <td>1</td>\n",
       "    </tr>\n",
       "    <tr>\n",
       "      <th>4114300</th>\n",
       "      <td>20191211191655</td>\n",
       "      <td>90</td>\n",
       "      <td>630</td>\n",
       "      <td>13</td>\n",
       "      <td>1301</td>\n",
       "      <td>130131</td>\n",
       "      <td>89</td>\n",
       "      <td>5</td>\n",
       "      <td>9.197335e+06</td>\n",
       "      <td>13:00:00</td>\n",
       "      <td>14:30:00</td>\n",
       "      <td>2019</td>\n",
       "      <td>1</td>\n",
       "    </tr>\n",
       "    <tr>\n",
       "      <th>4115569</th>\n",
       "      <td>20191211191865</td>\n",
       "      <td>40</td>\n",
       "      <td>510</td>\n",
       "      <td>04</td>\n",
       "      <td>0401</td>\n",
       "      <td>040111</td>\n",
       "      <td>89</td>\n",
       "      <td>5</td>\n",
       "      <td>7.856008e+06</td>\n",
       "      <td>11:50:00</td>\n",
       "      <td>12:30:00</td>\n",
       "      <td>2019</td>\n",
       "      <td>1</td>\n",
       "    </tr>\n",
       "    <tr>\n",
       "      <th>4115570</th>\n",
       "      <td>20191211191865</td>\n",
       "      <td>10</td>\n",
       "      <td>520</td>\n",
       "      <td>04</td>\n",
       "      <td>0401</td>\n",
       "      <td>040112</td>\n",
       "      <td>89</td>\n",
       "      <td>5</td>\n",
       "      <td>7.856008e+06</td>\n",
       "      <td>12:30:00</td>\n",
       "      <td>12:40:00</td>\n",
       "      <td>2019</td>\n",
       "      <td>1</td>\n",
       "    </tr>\n",
       "    <tr>\n",
       "      <th>4120048</th>\n",
       "      <td>20191212191450</td>\n",
       "      <td>41</td>\n",
       "      <td>448</td>\n",
       "      <td>04</td>\n",
       "      <td>0405</td>\n",
       "      <td>040508</td>\n",
       "      <td>89</td>\n",
       "      <td>5</td>\n",
       "      <td>2.445740e+06</td>\n",
       "      <td>10:47:00</td>\n",
       "      <td>11:28:00</td>\n",
       "      <td>2019</td>\n",
       "      <td>1</td>\n",
       "    </tr>\n",
       "  </tbody>\n",
       "</table>\n",
       "<p>1655 rows × 13 columns</p>\n",
       "</div>"
      ],
      "text/plain": [
       "               TUCASEID  TUACTDUR24  TUCUMDUR TRTIER1P TRTIER2P TRCODEP  \\\n",
       "3588     20030101032616          10       750       04     0405  040508   \n",
       "16808    20030112021285          10       235       04     0405  040507   \n",
       "16812    20030112021285          10       580       04     0405  040507   \n",
       "16998    20030112021309          30       620       13     1301  130131   \n",
       "17712    20030112021408          15       351       13     1301  130131   \n",
       "...                 ...         ...       ...      ...      ...     ...   \n",
       "4105251  20191111191763           1       871       04     0405  040507   \n",
       "4114300  20191211191655          90       630       13     1301  130131   \n",
       "4115569  20191211191865          40       510       04     0401  040111   \n",
       "4115570  20191211191865          10       520       04     0401  040112   \n",
       "4120048  20191212191450          41       448       04     0405  040508   \n",
       "\n",
       "         TEWHERE  TELFS      TUFNWGTP TUSTARTTIM TUSTOPTIME  TUYEAR  TURETOT  \n",
       "3588          89      5  1.387219e+06   16:20:00   16:30:00    2003        1  \n",
       "16808         89      5  1.236652e+06   07:45:00   07:55:00    2003        1  \n",
       "16812         89      5  1.236652e+06   13:30:00   13:40:00    2003        1  \n",
       "16998         89      5  7.127272e+06   13:50:00   14:20:00    2003        1  \n",
       "17712         89      4  6.199926e+06   09:36:00   09:51:00    2003        1  \n",
       "...          ...    ...           ...        ...        ...     ...      ...  \n",
       "4105251       89      5  8.980968e+05   18:30:00   18:31:00    2019        1  \n",
       "4114300       89      5  9.197335e+06   13:00:00   14:30:00    2019        1  \n",
       "4115569       89      5  7.856008e+06   11:50:00   12:30:00    2019        1  \n",
       "4115570       89      5  7.856008e+06   12:30:00   12:40:00    2019        1  \n",
       "4120048       89      5  2.445740e+06   10:47:00   11:28:00    2019        1  \n",
       "\n",
       "[1655 rows x 13 columns]"
      ]
     },
     "execution_count": 243,
     "metadata": {},
     "output_type": "execute_result"
    }
   ],
   "source": [
    "unspecified_location = [89]\n",
    "atus_multi_yr_unsp_retired = multi_merged_retired[multi_merged_retired[\"TEWHERE\"].isin(unspecified_location)]\n",
    "atus_multi_yr_unsp_retired"
   ]
  },
  {
   "cell_type": "code",
   "execution_count": 244,
   "metadata": {},
   "outputs": [],
   "source": [
    "#atus transportation retired population seperated by year\n",
    "#unsp = unspecified\n",
    "atus_2003_unsp_retired = atus_multi_yr_unsp_retired[atus_multi_yr_unsp_retired[\"TUCASEID\"].apply(str).str.startswith(\"2003\")]\n",
    "atus_2004_unsp_retired = atus_multi_yr_unsp_retired[atus_multi_yr_unsp_retired[\"TUCASEID\"].apply(str).str.startswith(\"2004\")]\n",
    "atus_2005_unsp_retired = atus_multi_yr_unsp_retired[atus_multi_yr_unsp_retired[\"TUCASEID\"].apply(str).str.startswith(\"2005\")]\n",
    "atus_2006_unsp_retired = atus_multi_yr_unsp_retired[atus_multi_yr_unsp_retired[\"TUCASEID\"].apply(str).str.startswith(\"2006\")]\n",
    "atus_2007_unsp_retired = atus_multi_yr_unsp_retired[atus_multi_yr_unsp_retired[\"TUCASEID\"].apply(str).str.startswith(\"2007\")]\n",
    "atus_2008_unsp_retired = atus_multi_yr_unsp_retired[atus_multi_yr_unsp_retired[\"TUCASEID\"].apply(str).str.startswith(\"2008\")]\n",
    "atus_2009_unsp_retired = atus_multi_yr_unsp_retired[atus_multi_yr_unsp_retired[\"TUCASEID\"].apply(str).str.startswith(\"2009\")]\n",
    "atus_2010_unsp_retired = atus_multi_yr_unsp_retired[atus_multi_yr_unsp_retired[\"TUCASEID\"].apply(str).str.startswith(\"2010\")]\n",
    "atus_2011_unsp_retired = atus_multi_yr_unsp_retired[atus_multi_yr_unsp_retired[\"TUCASEID\"].apply(str).str.startswith(\"2011\")]\n",
    "atus_2012_unsp_retired = atus_multi_yr_unsp_retired[atus_multi_yr_unsp_retired[\"TUCASEID\"].apply(str).str.startswith(\"2012\")]\n",
    "atus_2013_unsp_retired = atus_multi_yr_unsp_retired[atus_multi_yr_unsp_retired[\"TUCASEID\"].apply(str).str.startswith(\"2013\")]\n",
    "atus_2014_unsp_retired = atus_multi_yr_unsp_retired[atus_multi_yr_unsp_retired[\"TUCASEID\"].apply(str).str.startswith(\"2014\")]\n",
    "atus_2015_unsp_retired = atus_multi_yr_unsp_retired[atus_multi_yr_unsp_retired[\"TUCASEID\"].apply(str).str.startswith(\"2015\")]\n",
    "atus_2016_unsp_retired = atus_multi_yr_unsp_retired[atus_multi_yr_unsp_retired[\"TUCASEID\"].apply(str).str.startswith(\"2016\")]\n",
    "atus_2017_unsp_retired = atus_multi_yr_unsp_retired[atus_multi_yr_unsp_retired[\"TUCASEID\"].apply(str).str.startswith(\"2017\")]\n",
    "atus_2018_unsp_retired = atus_multi_yr_unsp_retired[atus_multi_yr_unsp_retired[\"TUCASEID\"].apply(str).str.startswith(\"2018\")]\n",
    "atus_2019_unsp_retired = atus_multi_yr_unsp_retired[atus_multi_yr_unsp_retired[\"TUCASEID\"].apply(str).str.startswith(\"2019\")]\n",
    "#atus_2003_unsp_retired\n",
    "#atus_2004_unsp_retired[\"TRCODEP\"]"
   ]
  },
  {
   "cell_type": "markdown",
   "metadata": {},
   "source": [
    "### 2003 Unspecified- Retired"
   ]
  },
  {
   "cell_type": "code",
   "execution_count": 245,
   "metadata": {},
   "outputs": [],
   "source": [
    "atus_2003_unsp_retired = atus_2003_unsp_retired.groupby([\"TUCASEID\"]).sum().filter([\"TUCASEID\", \"TUACTDUR24\",])\n",
    "#atus_2003_unsp_retired"
   ]
  },
  {
   "cell_type": "code",
   "execution_count": 246,
   "metadata": {},
   "outputs": [],
   "source": [
    "atus_2003_unsp_retired_merge = pd.merge(atus_2003_unsp_retired, multi_resp, on= \"TUCASEID\").filter([\"TUCASEID\",\"TUACTDUR24\",\"TUFNWGTP\"])\n",
    "#atus_2003_unsp_retired_merge"
   ]
  },
  {
   "cell_type": "code",
   "execution_count": 247,
   "metadata": {},
   "outputs": [],
   "source": [
    "atus_2003_unsp_retired_merge[\"Multiplied Weight\"] = atus_2003_unsp_retired_merge[\"TUACTDUR24\"] * atus_2003_unsp_retired_merge[\"TUFNWGTP\"]\n",
    "#atus_2003_unsp_retired_merge"
   ]
  },
  {
   "cell_type": "code",
   "execution_count": 248,
   "metadata": {},
   "outputs": [
    {
     "data": {
      "text/plain": [
       "22355967393.14839"
      ]
     },
     "execution_count": 248,
     "metadata": {},
     "output_type": "execute_result"
    }
   ],
   "source": [
    "atus_2003_unsp_retired_multiplied_weight = atus_2003_unsp_retired_merge[\"Multiplied Weight\"].sum()\n",
    "atus_2003_unsp_retired_multiplied_weight"
   ]
  },
  {
   "cell_type": "code",
   "execution_count": 249,
   "metadata": {},
   "outputs": [
    {
     "data": {
      "text/plain": [
       "0.031002132317189044"
      ]
     },
     "execution_count": 249,
     "metadata": {},
     "output_type": "execute_result"
    }
   ],
   "source": [
    "atus_2003_unsp_retired_hpd = atus_2003_unsp_retired_multiplied_weight / atus_2003_retired_weight / 60\n",
    "atus_2003_unsp_retired_hpd"
   ]
  },
  {
   "cell_type": "markdown",
   "metadata": {},
   "source": [
    "### 2004 Unspecified- Retired"
   ]
  },
  {
   "cell_type": "code",
   "execution_count": 250,
   "metadata": {},
   "outputs": [],
   "source": [
    "atus_2004_unsp_retired = atus_2004_unsp_retired.groupby([\"TUCASEID\"]).sum().filter([\"TUCASEID\", \"TUACTDUR24\"])\n",
    "#atus_2004_unsp_retired"
   ]
  },
  {
   "cell_type": "code",
   "execution_count": 251,
   "metadata": {},
   "outputs": [
    {
     "data": {
      "text/plain": [
       "17227012923.188663"
      ]
     },
     "execution_count": 251,
     "metadata": {},
     "output_type": "execute_result"
    }
   ],
   "source": [
    "atus_2004_unsp_retired_merge = pd.merge(atus_2004_unsp_retired, multi_resp, on= \"TUCASEID\").filter([\"TUCASEID\",\"TUACTDUR24\",\"TUFNWGTP\"])\n",
    "\n",
    "atus_2004_unsp_retired_merge[\"Multiplied Weight\"] = atus_2004_unsp_retired_merge[\"TUACTDUR24\"] * atus_2004_unsp_retired_merge[\"TUFNWGTP\"]\n",
    "\n",
    "atus_2004_unsp_retired_multiplied_weight = atus_2004_unsp_retired_merge[\"Multiplied Weight\"].sum()\n",
    "atus_2004_unsp_retired_multiplied_weight"
   ]
  },
  {
   "cell_type": "code",
   "execution_count": 252,
   "metadata": {},
   "outputs": [
    {
     "data": {
      "text/plain": [
       "0.02353710216973053"
      ]
     },
     "execution_count": 252,
     "metadata": {},
     "output_type": "execute_result"
    }
   ],
   "source": [
    "atus_2004_unsp_retired_hpd = atus_2004_unsp_retired_multiplied_weight / atus_2004_retired_weight / 60\n",
    "atus_2004_unsp_retired_hpd"
   ]
  },
  {
   "cell_type": "markdown",
   "metadata": {},
   "source": [
    "### 2005 Unspecified- Retired"
   ]
  },
  {
   "cell_type": "code",
   "execution_count": 253,
   "metadata": {},
   "outputs": [],
   "source": [
    "atus_2005_unsp_retired = atus_2005_unsp_retired.groupby([\"TUCASEID\"]).sum().filter([\"TUCASEID\", \"TUACTDUR24\"])\n",
    "#atus_2005_unsp_retired"
   ]
  },
  {
   "cell_type": "code",
   "execution_count": 254,
   "metadata": {},
   "outputs": [
    {
     "data": {
      "text/plain": [
       "16016751371.525757"
      ]
     },
     "execution_count": 254,
     "metadata": {},
     "output_type": "execute_result"
    }
   ],
   "source": [
    "atus_2005_unsp_retired_merge = pd.merge(atus_2005_unsp_retired, multi_resp, on= \"TUCASEID\").filter([\"TUCASEID\",\"TUACTDUR24\",\"TUFNWGTP\"])\n",
    "\n",
    "atus_2005_unsp_retired_merge[\"Multiplied Weight\"] = atus_2005_unsp_retired_merge[\"TUACTDUR24\"] * atus_2005_unsp_retired_merge[\"TUFNWGTP\"]\n",
    "\n",
    "atus_2005_unsp_retired_multiplied_weight = atus_2005_unsp_retired_merge[\"Multiplied Weight\"].sum()\n",
    "atus_2005_unsp_retired_multiplied_weight"
   ]
  },
  {
   "cell_type": "code",
   "execution_count": 255,
   "metadata": {},
   "outputs": [
    {
     "data": {
      "text/plain": [
       "0.022145487768793538"
      ]
     },
     "execution_count": 255,
     "metadata": {},
     "output_type": "execute_result"
    }
   ],
   "source": [
    "atus_2005_unsp_retired_hpd = atus_2005_unsp_retired_multiplied_weight / atus_2005_retired_weight / 60\n",
    "atus_2005_unsp_retired_hpd"
   ]
  },
  {
   "cell_type": "markdown",
   "metadata": {},
   "source": [
    "### 2006 Unspecified- Retired"
   ]
  },
  {
   "cell_type": "code",
   "execution_count": 256,
   "metadata": {},
   "outputs": [],
   "source": [
    "atus_2006_unsp_retired = atus_2006_unsp_retired.groupby([\"TUCASEID\"]).sum().filter([\"TUCASEID\", \"TUACTDUR24\"])\n",
    "#atus_2006_unsp_retired"
   ]
  },
  {
   "cell_type": "code",
   "execution_count": 257,
   "metadata": {},
   "outputs": [
    {
     "data": {
      "text/plain": [
       "12508457849.674261"
      ]
     },
     "execution_count": 257,
     "metadata": {},
     "output_type": "execute_result"
    }
   ],
   "source": [
    "atus_2006_unsp_retired_merge = pd.merge(atus_2006_unsp_retired, multi_resp, on= \"TUCASEID\").filter([\"TUCASEID\",\"TUACTDUR24\",\"TUFNWGTP\"])\n",
    "\n",
    "atus_2006_unsp_retired_merge[\"Multiplied Weight\"] = atus_2006_unsp_retired_merge[\"TUACTDUR24\"] * atus_2006_unsp_retired_merge[\"TUFNWGTP\"]\n",
    "\n",
    "atus_2006_unsp_retired_multiplied_weight = atus_2006_unsp_retired_merge[\"Multiplied Weight\"].sum()\n",
    "atus_2006_unsp_retired_multiplied_weight"
   ]
  },
  {
   "cell_type": "code",
   "execution_count": 258,
   "metadata": {},
   "outputs": [
    {
     "data": {
      "text/plain": [
       "0.0174370242103682"
      ]
     },
     "execution_count": 258,
     "metadata": {},
     "output_type": "execute_result"
    }
   ],
   "source": [
    "atus_2006_unsp_retired_hpd = atus_2006_unsp_retired_multiplied_weight / atus_2006_retired_weight / 60\n",
    "atus_2006_unsp_retired_hpd"
   ]
  },
  {
   "cell_type": "markdown",
   "metadata": {},
   "source": [
    "### 2007 Unspecified- Retired"
   ]
  },
  {
   "cell_type": "code",
   "execution_count": 259,
   "metadata": {},
   "outputs": [],
   "source": [
    "atus_2007_unsp_retired = atus_2007_unsp_retired.groupby([\"TUCASEID\"]).sum().filter([\"TUCASEID\", \"TUACTDUR24\"])\n",
    "#atus_2007_unsp_retired"
   ]
  },
  {
   "cell_type": "code",
   "execution_count": 260,
   "metadata": {},
   "outputs": [
    {
     "data": {
      "text/plain": [
       "21255431097.986927"
      ]
     },
     "execution_count": 260,
     "metadata": {},
     "output_type": "execute_result"
    }
   ],
   "source": [
    "atus_2007_unsp_retired_merge = pd.merge(atus_2007_unsp_retired, multi_resp, on= \"TUCASEID\").filter([\"TUCASEID\",\"TUACTDUR24\",\"TUFNWGTP\"])\n",
    "\n",
    "atus_2007_unsp_retired_merge[\"Multiplied Weight\"] = atus_2007_unsp_retired_merge[\"TUACTDUR24\"] * atus_2007_unsp_retired_merge[\"TUFNWGTP\"]\n",
    "\n",
    "atus_2007_unsp_retired_multiplied_weight = atus_2007_unsp_retired_merge[\"Multiplied Weight\"].sum()\n",
    "atus_2007_unsp_retired_multiplied_weight"
   ]
  },
  {
   "cell_type": "code",
   "execution_count": 261,
   "metadata": {},
   "outputs": [
    {
     "data": {
      "text/plain": [
       "0.02815477072891885"
      ]
     },
     "execution_count": 261,
     "metadata": {},
     "output_type": "execute_result"
    }
   ],
   "source": [
    "atus_2007_unsp_retired_hpd = atus_2007_unsp_retired_multiplied_weight / atus_2007_retired_weight / 60\n",
    "atus_2007_unsp_retired_hpd"
   ]
  },
  {
   "cell_type": "markdown",
   "metadata": {},
   "source": [
    "### 2008 Unspecified- Retired"
   ]
  },
  {
   "cell_type": "code",
   "execution_count": 262,
   "metadata": {},
   "outputs": [],
   "source": [
    "atus_2008_unsp_retired = atus_2008_unsp_retired.groupby([\"TUCASEID\"]).sum().filter([\"TUCASEID\", \"TUACTDUR24\"])\n",
    "#atus_2008_unsp_retired"
   ]
  },
  {
   "cell_type": "code",
   "execution_count": 263,
   "metadata": {},
   "outputs": [
    {
     "data": {
      "text/plain": [
       "18724688609.650013"
      ]
     },
     "execution_count": 263,
     "metadata": {},
     "output_type": "execute_result"
    }
   ],
   "source": [
    "atus_2008_unsp_retired_merge = pd.merge(atus_2008_unsp_retired, multi_resp, on= \"TUCASEID\").filter([\"TUCASEID\",\"TUACTDUR24\",\"TUFNWGTP\"])\n",
    "\n",
    "atus_2008_unsp_retired_merge[\"Multiplied Weight\"] = atus_2008_unsp_retired_merge[\"TUACTDUR24\"] * atus_2008_unsp_retired_merge[\"TUFNWGTP\"]\n",
    "\n",
    "atus_2008_unsp_retired_multiplied_weight = atus_2008_unsp_retired_merge[\"Multiplied Weight\"].sum()\n",
    "atus_2008_unsp_retired_multiplied_weight"
   ]
  },
  {
   "cell_type": "code",
   "execution_count": 264,
   "metadata": {},
   "outputs": [
    {
     "data": {
      "text/plain": [
       "0.025086873597481282"
      ]
     },
     "execution_count": 264,
     "metadata": {},
     "output_type": "execute_result"
    }
   ],
   "source": [
    "atus_2008_unsp_retired_hpd = atus_2008_unsp_retired_multiplied_weight / atus_2008_retired_weight / 60\n",
    "atus_2008_unsp_retired_hpd"
   ]
  },
  {
   "cell_type": "markdown",
   "metadata": {},
   "source": [
    "### 2009 Unspecified- Retired"
   ]
  },
  {
   "cell_type": "code",
   "execution_count": 265,
   "metadata": {},
   "outputs": [],
   "source": [
    "atus_2009_unsp_retired = atus_2009_unsp_retired.groupby([\"TUCASEID\"]).sum().filter([\"TUCASEID\", \"TUACTDUR24\"])\n",
    "#atus_2009_unsp_retired"
   ]
  },
  {
   "cell_type": "code",
   "execution_count": 266,
   "metadata": {},
   "outputs": [
    {
     "data": {
      "text/plain": [
       "13872809151.827946"
      ]
     },
     "execution_count": 266,
     "metadata": {},
     "output_type": "execute_result"
    }
   ],
   "source": [
    "atus_2009_unsp_retired_merge = pd.merge(atus_2009_unsp_retired, multi_resp, on= \"TUCASEID\").filter([\"TUCASEID\",\"TUACTDUR24\",\"TUFNWGTP\"])\n",
    "\n",
    "atus_2009_unsp_retired_merge[\"Multiplied Weight\"] = atus_2009_unsp_retired_merge[\"TUACTDUR24\"] * atus_2009_unsp_retired_merge[\"TUFNWGTP\"]\n",
    "\n",
    "atus_2009_unsp_retired_multiplied_weight = atus_2009_unsp_retired_merge[\"Multiplied Weight\"].sum()\n",
    "atus_2009_unsp_retired_multiplied_weight"
   ]
  },
  {
   "cell_type": "code",
   "execution_count": 267,
   "metadata": {},
   "outputs": [
    {
     "data": {
      "text/plain": [
       "0.018483269599521842"
      ]
     },
     "execution_count": 267,
     "metadata": {},
     "output_type": "execute_result"
    }
   ],
   "source": [
    "atus_2009_unsp_retired_hpd = atus_2009_unsp_retired_multiplied_weight / atus_2009_retired_weight / 60\n",
    "atus_2009_unsp_retired_hpd"
   ]
  },
  {
   "cell_type": "markdown",
   "metadata": {},
   "source": [
    "### 2010 Unspecified- Retired"
   ]
  },
  {
   "cell_type": "code",
   "execution_count": 268,
   "metadata": {},
   "outputs": [],
   "source": [
    "atus_2010_unsp_retired = atus_2010_unsp_retired.groupby([\"TUCASEID\"]).sum().filter([\"TUCASEID\", \"TUACTDUR24\"])\n",
    "#atus_2010_unsp_retired"
   ]
  },
  {
   "cell_type": "code",
   "execution_count": 269,
   "metadata": {},
   "outputs": [
    {
     "data": {
      "text/plain": [
       "20489673748.27497"
      ]
     },
     "execution_count": 269,
     "metadata": {},
     "output_type": "execute_result"
    }
   ],
   "source": [
    "atus_2010_unsp_retired_merge = pd.merge(atus_2010_unsp_retired, multi_resp, on= \"TUCASEID\").filter([\"TUCASEID\",\"TUACTDUR24\",\"TUFNWGTP\"])\n",
    "\n",
    "atus_2010_unsp_retired_merge[\"Multiplied Weight\"] = atus_2010_unsp_retired_merge[\"TUACTDUR24\"] * atus_2010_unsp_retired_merge[\"TUFNWGTP\"]\n",
    "\n",
    "atus_2010_unsp_retired_multiplied_weight = atus_2010_unsp_retired_merge[\"Multiplied Weight\"].sum()\n",
    "atus_2010_unsp_retired_multiplied_weight"
   ]
  },
  {
   "cell_type": "code",
   "execution_count": 270,
   "metadata": {},
   "outputs": [
    {
     "data": {
      "text/plain": [
       "0.02743138918264366"
      ]
     },
     "execution_count": 270,
     "metadata": {},
     "output_type": "execute_result"
    }
   ],
   "source": [
    "atus_2010_unsp_retired_hpd = atus_2010_unsp_retired_multiplied_weight / atus_2010_retired_weight / 60\n",
    "atus_2010_unsp_retired_hpd"
   ]
  },
  {
   "cell_type": "markdown",
   "metadata": {},
   "source": [
    "### 2011 Unspecified- Retired"
   ]
  },
  {
   "cell_type": "code",
   "execution_count": 271,
   "metadata": {},
   "outputs": [],
   "source": [
    "atus_2011_unsp_retired = atus_2011_unsp_retired.groupby([\"TUCASEID\"]).sum().filter([\"TUCASEID\", \"TUACTDUR24\"])\n",
    "#atus_2011_unsp_retired"
   ]
  },
  {
   "cell_type": "code",
   "execution_count": 272,
   "metadata": {},
   "outputs": [
    {
     "data": {
      "text/plain": [
       "14614040732.17773"
      ]
     },
     "execution_count": 272,
     "metadata": {},
     "output_type": "execute_result"
    }
   ],
   "source": [
    "atus_2011_unsp_retired_merge = pd.merge(atus_2011_unsp_retired, multi_resp, on= \"TUCASEID\").filter([\"TUCASEID\",\"TUACTDUR24\",\"TUFNWGTP\"])\n",
    "\n",
    "atus_2011_unsp_retired_merge[\"Multiplied Weight\"] = atus_2011_unsp_retired_merge[\"TUACTDUR24\"] * atus_2011_unsp_retired_merge[\"TUFNWGTP\"]\n",
    "\n",
    "atus_2011_unsp_retired_multiplied_weight = atus_2011_unsp_retired_merge[\"Multiplied Weight\"].sum()\n",
    "atus_2011_unsp_retired_multiplied_weight"
   ]
  },
  {
   "cell_type": "code",
   "execution_count": 273,
   "metadata": {},
   "outputs": [
    {
     "data": {
      "text/plain": [
       "0.019340056474625267"
      ]
     },
     "execution_count": 273,
     "metadata": {},
     "output_type": "execute_result"
    }
   ],
   "source": [
    "atus_2011_unsp_retired_hpd = atus_2011_unsp_retired_multiplied_weight / atus_2011_retired_weight / 60\n",
    "atus_2011_unsp_retired_hpd"
   ]
  },
  {
   "cell_type": "markdown",
   "metadata": {},
   "source": [
    "### 2012 Unspecified- Retired"
   ]
  },
  {
   "cell_type": "code",
   "execution_count": 274,
   "metadata": {},
   "outputs": [],
   "source": [
    "atus_2012_unsp_retired = atus_2012_unsp_retired.groupby([\"TUCASEID\"]).sum().filter([\"TUCASEID\", \"TUACTDUR24\"])\n",
    "#atus_2012_unsp_retired"
   ]
  },
  {
   "cell_type": "code",
   "execution_count": 275,
   "metadata": {},
   "outputs": [
    {
     "data": {
      "text/plain": [
       "7268893655.027723"
      ]
     },
     "execution_count": 275,
     "metadata": {},
     "output_type": "execute_result"
    }
   ],
   "source": [
    "atus_2012_unsp_retired_merge = pd.merge(atus_2012_unsp_retired, multi_resp, on= \"TUCASEID\").filter([\"TUCASEID\",\"TUACTDUR24\",\"TUFNWGTP\"])\n",
    "\n",
    "atus_2012_unsp_retired_merge[\"Multiplied Weight\"] = atus_2012_unsp_retired_merge[\"TUACTDUR24\"] * atus_2012_unsp_retired_merge[\"TUFNWGTP\"]\n",
    "\n",
    "atus_2012_unsp_retired_multiplied_weight = atus_2012_unsp_retired_merge[\"Multiplied Weight\"].sum()\n",
    "atus_2012_unsp_retired_multiplied_weight"
   ]
  },
  {
   "cell_type": "code",
   "execution_count": 276,
   "metadata": {},
   "outputs": [
    {
     "data": {
      "text/plain": [
       "0.009168987637996697"
      ]
     },
     "execution_count": 276,
     "metadata": {},
     "output_type": "execute_result"
    }
   ],
   "source": [
    "atus_2012_unsp_retired_hpd = atus_2012_unsp_retired_multiplied_weight / atus_2012_retired_weight / 60\n",
    "atus_2012_unsp_retired_hpd"
   ]
  },
  {
   "cell_type": "markdown",
   "metadata": {},
   "source": [
    "### 2013 Unspecified- Retired"
   ]
  },
  {
   "cell_type": "code",
   "execution_count": 277,
   "metadata": {},
   "outputs": [],
   "source": [
    "atus_2013_unsp_retired = atus_2013_unsp_retired.groupby([\"TUCASEID\"]).sum().filter([\"TUCASEID\", \"TUACTDUR24\"])\n",
    "#atus_2013_unsp_retired"
   ]
  },
  {
   "cell_type": "code",
   "execution_count": 278,
   "metadata": {},
   "outputs": [
    {
     "data": {
      "text/plain": [
       "10773091875.455845"
      ]
     },
     "execution_count": 278,
     "metadata": {},
     "output_type": "execute_result"
    }
   ],
   "source": [
    "atus_2013_unsp_retired_merge = pd.merge(atus_2013_unsp_retired, multi_resp, on= \"TUCASEID\").filter([\"TUCASEID\",\"TUACTDUR24\",\"TUFNWGTP\"])\n",
    "\n",
    "atus_2013_unsp_retired_merge[\"Multiplied Weight\"] = atus_2013_unsp_retired_merge[\"TUACTDUR24\"] * atus_2013_unsp_retired_merge[\"TUFNWGTP\"]\n",
    "\n",
    "atus_2013_unsp_retired_multiplied_weight = atus_2013_unsp_retired_merge[\"Multiplied Weight\"].sum()\n",
    "atus_2013_unsp_retired_multiplied_weight"
   ]
  },
  {
   "cell_type": "code",
   "execution_count": 279,
   "metadata": {},
   "outputs": [
    {
     "data": {
      "text/plain": [
       "0.013478698376334792"
      ]
     },
     "execution_count": 279,
     "metadata": {},
     "output_type": "execute_result"
    }
   ],
   "source": [
    "atus_2013_unsp_retired_hpd = atus_2013_unsp_retired_multiplied_weight / atus_2013_retired_weight / 60\n",
    "atus_2013_unsp_retired_hpd"
   ]
  },
  {
   "cell_type": "markdown",
   "metadata": {},
   "source": [
    "### 2014 Unspecified- Retired"
   ]
  },
  {
   "cell_type": "code",
   "execution_count": 280,
   "metadata": {},
   "outputs": [],
   "source": [
    "atus_2014_unsp_retired = atus_2014_unsp_retired.groupby([\"TUCASEID\"]).sum().filter([\"TUCASEID\", \"TUACTDUR24\"])\n",
    "#atus_2014_unsp_retired"
   ]
  },
  {
   "cell_type": "code",
   "execution_count": 281,
   "metadata": {},
   "outputs": [
    {
     "data": {
      "text/plain": [
       "13843423993.426697"
      ]
     },
     "execution_count": 281,
     "metadata": {},
     "output_type": "execute_result"
    }
   ],
   "source": [
    "atus_2014_unsp_retired_merge = pd.merge(atus_2014_unsp_retired, multi_resp, on= \"TUCASEID\").filter([\"TUCASEID\",\"TUACTDUR24\",\"TUFNWGTP\"])\n",
    "\n",
    "atus_2014_unsp_retired_merge[\"Multiplied Weight\"] = atus_2014_unsp_retired_merge[\"TUACTDUR24\"] * atus_2014_unsp_retired_merge[\"TUFNWGTP\"]\n",
    "\n",
    "atus_2014_unsp_retired_multiplied_weight = atus_2014_unsp_retired_merge[\"Multiplied Weight\"].sum()\n",
    "atus_2014_unsp_retired_multiplied_weight"
   ]
  },
  {
   "cell_type": "code",
   "execution_count": 282,
   "metadata": {},
   "outputs": [
    {
     "data": {
      "text/plain": [
       "0.016421014743603145"
      ]
     },
     "execution_count": 282,
     "metadata": {},
     "output_type": "execute_result"
    }
   ],
   "source": [
    "atus_2014_unsp_retired_hpd = atus_2014_unsp_retired_multiplied_weight / atus_2014_retired_weight / 60\n",
    "atus_2014_unsp_retired_hpd"
   ]
  },
  {
   "cell_type": "markdown",
   "metadata": {},
   "source": [
    "### 2015 Unspecified- Retired"
   ]
  },
  {
   "cell_type": "code",
   "execution_count": 283,
   "metadata": {},
   "outputs": [],
   "source": [
    "atus_2015_unsp_retired = atus_2015_unsp_retired.groupby([\"TUCASEID\"]).sum().filter([\"TUCASEID\", \"TUACTDUR24\"])\n",
    "#atus_2015_unsp_retired"
   ]
  },
  {
   "cell_type": "code",
   "execution_count": 284,
   "metadata": {},
   "outputs": [
    {
     "data": {
      "text/plain": [
       "11212509348.141996"
      ]
     },
     "execution_count": 284,
     "metadata": {},
     "output_type": "execute_result"
    }
   ],
   "source": [
    "atus_2015_unsp_retired_merge = pd.merge(atus_2015_unsp_retired, multi_resp, on= \"TUCASEID\").filter([\"TUCASEID\",\"TUACTDUR24\",\"TUFNWGTP\"])\n",
    "\n",
    "atus_2015_unsp_retired_merge[\"Multiplied Weight\"] = atus_2015_unsp_retired_merge[\"TUACTDUR24\"] * atus_2015_unsp_retired_merge[\"TUFNWGTP\"]\n",
    "\n",
    "atus_2015_unsp_retired_multiplied_weight = atus_2015_unsp_retired_merge[\"Multiplied Weight\"].sum()\n",
    "atus_2015_unsp_retired_multiplied_weight"
   ]
  },
  {
   "cell_type": "code",
   "execution_count": 285,
   "metadata": {},
   "outputs": [
    {
     "data": {
      "text/plain": [
       "0.0134855520254585"
      ]
     },
     "execution_count": 285,
     "metadata": {},
     "output_type": "execute_result"
    }
   ],
   "source": [
    "atus_2015_unsp_retired_hpd = atus_2015_unsp_retired_multiplied_weight / atus_2015_retired_weight / 60\n",
    "atus_2015_unsp_retired_hpd"
   ]
  },
  {
   "cell_type": "markdown",
   "metadata": {},
   "source": [
    "### 2016 Unspecified- Retired"
   ]
  },
  {
   "cell_type": "code",
   "execution_count": 286,
   "metadata": {},
   "outputs": [],
   "source": [
    "atus_2016_unsp_retired = atus_2016_unsp_retired.groupby([\"TUCASEID\"]).sum().filter([\"TUCASEID\", \"TUACTDUR24\"])\n",
    "#atus_2016_unsp_retired"
   ]
  },
  {
   "cell_type": "code",
   "execution_count": 287,
   "metadata": {},
   "outputs": [
    {
     "data": {
      "text/plain": [
       "12763499223.545464"
      ]
     },
     "execution_count": 287,
     "metadata": {},
     "output_type": "execute_result"
    }
   ],
   "source": [
    "atus_2016_unsp_retired_merge = pd.merge(atus_2016_unsp_retired, multi_resp, on= \"TUCASEID\").filter([\"TUCASEID\",\"TUACTDUR24\",\"TUFNWGTP\"])\n",
    "\n",
    "atus_2016_unsp_retired_merge[\"Multiplied Weight\"] = atus_2016_unsp_retired_merge[\"TUACTDUR24\"] * atus_2016_unsp_retired_merge[\"TUFNWGTP\"]\n",
    "\n",
    "atus_2016_unsp_retired_multiplied_weight = atus_2016_unsp_retired_merge[\"Multiplied Weight\"].sum()\n",
    "atus_2016_unsp_retired_multiplied_weight"
   ]
  },
  {
   "cell_type": "code",
   "execution_count": 288,
   "metadata": {},
   "outputs": [
    {
     "data": {
      "text/plain": [
       "0.014648834082729193"
      ]
     },
     "execution_count": 288,
     "metadata": {},
     "output_type": "execute_result"
    }
   ],
   "source": [
    "atus_2016_unsp_retired_hpd = atus_2016_unsp_retired_multiplied_weight / atus_2016_retired_weight / 60\n",
    "atus_2016_unsp_retired_hpd"
   ]
  },
  {
   "cell_type": "markdown",
   "metadata": {},
   "source": [
    "### 2017 Unspecified- Retired"
   ]
  },
  {
   "cell_type": "code",
   "execution_count": 289,
   "metadata": {},
   "outputs": [],
   "source": [
    "atus_2017_unsp_retired = atus_2017_unsp_retired.groupby([\"TUCASEID\"]).sum().filter([\"TUCASEID\", \"TUACTDUR24\"])\n",
    "#atus_2017_unsp_retired"
   ]
  },
  {
   "cell_type": "code",
   "execution_count": 290,
   "metadata": {},
   "outputs": [
    {
     "data": {
      "text/plain": [
       "23026838555.734947"
      ]
     },
     "execution_count": 290,
     "metadata": {},
     "output_type": "execute_result"
    }
   ],
   "source": [
    "atus_2017_unsp_retired_merge = pd.merge(atus_2017_unsp_retired, multi_resp, on= \"TUCASEID\").filter([\"TUCASEID\",\"TUACTDUR24\",\"TUFNWGTP\"])\n",
    "\n",
    "atus_2017_unsp_retired_merge[\"Multiplied Weight\"] = atus_2017_unsp_retired_merge[\"TUACTDUR24\"] * atus_2017_unsp_retired_merge[\"TUFNWGTP\"]\n",
    "\n",
    "atus_2017_unsp_retired_multiplied_weight = atus_2017_unsp_retired_merge[\"Multiplied Weight\"].sum()\n",
    "atus_2017_unsp_retired_multiplied_weight"
   ]
  },
  {
   "cell_type": "code",
   "execution_count": 291,
   "metadata": {},
   "outputs": [
    {
     "data": {
      "text/plain": [
       "0.026009779713444505"
      ]
     },
     "execution_count": 291,
     "metadata": {},
     "output_type": "execute_result"
    }
   ],
   "source": [
    "atus_2017_unsp_retired_hpd = atus_2017_unsp_retired_multiplied_weight / atus_2017_retired_weight / 60\n",
    "atus_2017_unsp_retired_hpd"
   ]
  },
  {
   "cell_type": "markdown",
   "metadata": {},
   "source": [
    "### 2018 Unspecified- Retired"
   ]
  },
  {
   "cell_type": "code",
   "execution_count": 292,
   "metadata": {},
   "outputs": [],
   "source": [
    "atus_2018_unsp_retired = atus_2018_unsp_retired.groupby([\"TUCASEID\"]).sum().filter([\"TUCASEID\", \"TUACTDUR24\"])\n",
    "#atus_2018_unsp_retired"
   ]
  },
  {
   "cell_type": "code",
   "execution_count": 293,
   "metadata": {},
   "outputs": [
    {
     "data": {
      "text/plain": [
       "22834126716.5151"
      ]
     },
     "execution_count": 293,
     "metadata": {},
     "output_type": "execute_result"
    }
   ],
   "source": [
    "atus_2018_unsp_retired_merge = pd.merge(atus_2018_unsp_retired, multi_resp, on= \"TUCASEID\").filter([\"TUCASEID\",\"TUACTDUR24\",\"TUFNWGTP\"])\n",
    "\n",
    "atus_2018_unsp_retired_merge[\"Multiplied Weight\"] = atus_2018_unsp_retired_merge[\"TUACTDUR24\"] * atus_2018_unsp_retired_merge[\"TUFNWGTP\"]\n",
    "\n",
    "atus_2018_unsp_retired_multiplied_weight = atus_2018_unsp_retired_merge[\"Multiplied Weight\"].sum()\n",
    "atus_2018_unsp_retired_multiplied_weight"
   ]
  },
  {
   "cell_type": "code",
   "execution_count": 294,
   "metadata": {},
   "outputs": [
    {
     "data": {
      "text/plain": [
       "0.02461443025878002"
      ]
     },
     "execution_count": 294,
     "metadata": {},
     "output_type": "execute_result"
    }
   ],
   "source": [
    "atus_2018_unsp_retired_hpd = atus_2018_unsp_retired_multiplied_weight / atus_2018_retired_weight / 60\n",
    "atus_2018_unsp_retired_hpd"
   ]
  },
  {
   "cell_type": "markdown",
   "metadata": {},
   "source": [
    "### 2019 Unspecified- Retired"
   ]
  },
  {
   "cell_type": "code",
   "execution_count": 295,
   "metadata": {},
   "outputs": [],
   "source": [
    "atus_2019_unsp_retired = atus_2019_unsp_retired.groupby([\"TUCASEID\"]).sum().filter([\"TUCASEID\", \"TUACTDUR24\"])\n",
    "#atus_2019_unsp_retired"
   ]
  },
  {
   "cell_type": "code",
   "execution_count": 296,
   "metadata": {},
   "outputs": [
    {
     "data": {
      "text/plain": [
       "15664176018.853146"
      ]
     },
     "execution_count": 296,
     "metadata": {},
     "output_type": "execute_result"
    }
   ],
   "source": [
    "atus_2019_unsp_retired_merge = pd.merge(atus_2019_unsp_retired, multi_resp, on= \"TUCASEID\").filter([\"TUCASEID\",\"TUACTDUR24\",\"TUFNWGTP\"])\n",
    "\n",
    "atus_2019_unsp_retired_merge[\"Multiplied Weight\"] = atus_2019_unsp_retired_merge[\"TUACTDUR24\"] * atus_2019_unsp_retired_merge[\"TUFNWGTP\"]\n",
    "\n",
    "atus_2019_unsp_retired_multiplied_weight = atus_2019_unsp_retired_merge[\"Multiplied Weight\"].sum()\n",
    "atus_2019_unsp_retired_multiplied_weight"
   ]
  },
  {
   "cell_type": "code",
   "execution_count": 297,
   "metadata": {},
   "outputs": [
    {
     "data": {
      "text/plain": [
       "0.01644857679416264"
      ]
     },
     "execution_count": 297,
     "metadata": {},
     "output_type": "execute_result"
    }
   ],
   "source": [
    "atus_2019_unsp_retired_hpd = atus_2019_unsp_retired_multiplied_weight / atus_2019_retired_weight / 60\n",
    "atus_2019_unsp_retired_hpd"
   ]
  },
  {
   "cell_type": "markdown",
   "metadata": {},
   "source": [
    "### Regresssion: Unespecified - Retired"
   ]
  },
  {
   "cell_type": "markdown",
   "metadata": {},
   "source": [
    "#### 2003 -2012 Regression"
   ]
  },
  {
   "cell_type": "code",
   "execution_count": 298,
   "metadata": {},
   "outputs": [],
   "source": [
    "year = np.array([2003, 2004, 2005, 2006, 2007, 2008, 2009, 2010,2011,2012]).reshape((-1, 1))\n",
    "activity_hours_per_day = np.array([atus_2003_unsp_retired_hpd, atus_2004_unsp_retired_hpd, atus_2005_unsp_retired_hpd,\n",
    "                                   atus_2006_unsp_retired_hpd, atus_2007_unsp_retired_hpd, atus_2008_unsp_retired_hpd,\n",
    "                                   atus_2009_unsp_retired_hpd, atus_2010_unsp_retired_hpd, atus_2011_unsp_retired_hpd,\n",
    "                                   atus_2012_unsp_retired_hpd]).reshape((-1, 1))\n",
    "\n",
    "activity_hours_per_yr = [i * 365 for i in activity_hours_per_day]\n",
    "#activity_hours_per_yr"
   ]
  },
  {
   "cell_type": "code",
   "execution_count": 299,
   "metadata": {},
   "outputs": [
    {
     "data": {
      "image/png": "[encoded data removed]",
      "text/plain": [
       "<Figure size 432x288 with 1 Axes>"
      ]
     },
     "metadata": {
      "needs_background": "light"
     },
     "output_type": "display_data"
    }
   ],
   "source": [
    "x = year\n",
    "y = activity_hours_per_yr\n",
    "x, y = np.array(x), np.array(y)\n",
    "\n",
    "model = LinearRegression().fit(x, y)\n",
    "\n",
    "y_pred = model.predict(x)  \n",
    "\n",
    "plt.scatter(x, y)\n",
    "plt.plot(x, y_pred, color='red')\n",
    "plt.show()"
   ]
  },
  {
   "cell_type": "code",
   "execution_count": 300,
   "metadata": {},
   "outputs": [
    {
     "data": {
      "text/plain": [
       "0.3301035733732266"
      ]
     },
     "execution_count": 300,
     "metadata": {},
     "output_type": "execute_result"
    }
   ],
   "source": [
    "coefficient_of_determination = model.score(x,y) #R sqaure value \n",
    "coefficient_of_determination"
   ]
  },
  {
   "cell_type": "code",
   "execution_count": 301,
   "metadata": {},
   "outputs": [
    {
     "data": {
      "text/plain": [
       "array([[-0.4410467]])"
      ]
     },
     "execution_count": 301,
     "metadata": {},
     "output_type": "execute_result"
    }
   ],
   "source": [
    "all_act_2012_res_retired_slope = model.coef_\n",
    "all_act_2012_res_retired_slope"
   ]
  },
  {
   "cell_type": "markdown",
   "metadata": {},
   "source": [
    "#### 2003-2019 Regression"
   ]
  },
  {
   "cell_type": "code",
   "execution_count": 302,
   "metadata": {},
   "outputs": [],
   "source": [
    "year = np.array([2003, 2004, 2005, 2006, 2007, 2008, 2009, 2010,2011,2012,2013,2014,2015,2016,2017,2018,2019]).reshape((-1, 1))\n",
    "activity_hours_per_day = np.array([atus_2003_unsp_retired_hpd, atus_2004_unsp_retired_hpd, atus_2005_unsp_retired_hpd,\n",
    "                                   atus_2006_unsp_retired_hpd, atus_2007_unsp_retired_hpd, atus_2008_unsp_retired_hpd,\n",
    "                                   atus_2009_unsp_retired_hpd, atus_2010_unsp_retired_hpd, atus_2011_unsp_retired_hpd,\n",
    "                                   atus_2012_unsp_retired_hpd, atus_2013_unsp_retired_hpd, atus_2014_unsp_retired_hpd,\n",
    "                                   atus_2015_unsp_retired_hpd, atus_2016_unsp_retired_hpd, atus_2017_unsp_retired_hpd,\n",
    "                                   atus_2018_unsp_retired_hpd, atus_2019_unsp_retired_hpd]).reshape((-1, 1))\n",
    "\n",
    "activity_hours_per_yr = [i * 365 for i in activity_hours_per_day]\n",
    "#activity_hours_per_yr"
   ]
  },
  {
   "cell_type": "code",
   "execution_count": 303,
   "metadata": {},
   "outputs": [
    {
     "data": {
      "image/png": "[encoded data removed]",
      "text/plain": [
       "<Figure size 432x288 with 1 Axes>"
      ]
     },
     "metadata": {
      "needs_background": "light"
     },
     "output_type": "display_data"
    }
   ],
   "source": [
    "x = year\n",
    "y = activity_hours_per_yr\n",
    "x, y = np.array(x), np.array(y)\n",
    "\n",
    "model = LinearRegression().fit(x, y)\n",
    "\n",
    "y_pred = model.predict(x)  \n",
    "\n",
    "plt.scatter(x, y)\n",
    "plt.plot(x, y_pred, color='red')\n",
    "plt.show()"
   ]
  },
  {
   "cell_type": "code",
   "execution_count": 304,
   "metadata": {},
   "outputs": [
    {
     "data": {
      "text/plain": [
       "0.18278258463509978"
      ]
     },
     "execution_count": 304,
     "metadata": {},
     "output_type": "execute_result"
    }
   ],
   "source": [
    "coefficient_of_determination = model.score(x,y) #R sqaure value \n",
    "coefficient_of_determination"
   ]
  },
  {
   "cell_type": "code",
   "execution_count": 305,
   "metadata": {},
   "outputs": [
    {
     "data": {
      "text/plain": [
       "array([[-0.1901832]])"
      ]
     },
     "execution_count": 305,
     "metadata": {},
     "output_type": "execute_result"
    }
   ],
   "source": [
    "all_act_2019_res_retired_slope = model.coef_\n",
    "all_act_2019_res_retired_slope"
   ]
  },
  {
   "cell_type": "code",
   "execution_count": null,
   "metadata": {},
   "outputs": [],
   "source": []
  }
 ],
 "metadata": {
  "kernelspec": {
   "display_name": "Python 3",
   "language": "python",
   "name": "python3"
  },
  "language_info": {
   "codemirror_mode": {
    "name": "ipython",
    "version": 3
   },
   "file_extension": ".py",
   "mimetype": "text/x-python",
   "name": "python",
   "nbconvert_exporter": "python",
   "pygments_lexer": "ipython3",
   "version": "3.8.3"
  }
 },
 "nbformat": 4,
 "nbformat_minor": 4
}
