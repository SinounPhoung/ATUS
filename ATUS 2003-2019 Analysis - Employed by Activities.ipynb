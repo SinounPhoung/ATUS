{
 "cells": [
  {
   "cell_type": "code",
   "execution_count": 1,
   "metadata": {},
   "outputs": [],
   "source": [
    "import pandas as pd \n",
    "import numpy as np \n",
    "%matplotlib inline\n",
    "import matplotlib.pyplot as plt\n",
    "from sklearn.linear_model import LinearRegression"
   ]
  },
  {
   "cell_type": "code",
   "execution_count": 2,
   "metadata": {},
   "outputs": [],
   "source": [
    "multi_act = pd.read_csv(\"ATUS DATA 03-19/atus_activity_0319.dat\", \n",
    "                        dtype= {\"TRCODEP\": object, \"TRTIER1P\": object, \"TRTIER2P\": object}) #using 2003-2019 activity file\n",
    "#multi_act"
   ]
  },
  {
   "cell_type": "code",
   "execution_count": 3,
   "metadata": {},
   "outputs": [
    {
     "data": {
      "text/plain": [
       "Index(['TUCASEID', 'TUACTIVITY_N', 'TUACTDUR24', 'TUCC5', 'TUCC5B',\n",
       "       'TRTCCTOT_LN', 'TRTCC_LN', 'TRTCOC_LN', 'TUSTARTTIM', 'TUSTOPTIME',\n",
       "       'TRCODEP', 'TRTIER1P', 'TRTIER2P', 'TUCC8', 'TUCUMDUR', 'TUCUMDUR24',\n",
       "       'TUACTDUR', 'TR_03CC57', 'TRTO_LN', 'TRTONHH_LN', 'TRTOHH_LN',\n",
       "       'TRTHH_LN', 'TRTNOHH_LN', 'TEWHERE', 'TUCC7', 'TRWBELIG', 'TRTEC_LN',\n",
       "       'TUEC24', 'TUDURSTOP'],\n",
       "      dtype='object')"
      ]
     },
     "execution_count": 3,
     "metadata": {},
     "output_type": "execute_result"
    }
   ],
   "source": [
    "multi_act.columns  #CC = childcare, EC = elderly care"
   ]
  },
  {
   "cell_type": "code",
   "execution_count": 4,
   "metadata": {},
   "outputs": [],
   "source": [
    "multi_resp = pd.read_csv(\"ATUS DATA 03-19/atus_resp_0319.dat\")\n",
    "#multi_resp"
   ]
  },
  {
   "cell_type": "code",
   "execution_count": 5,
   "metadata": {},
   "outputs": [],
   "source": [
    "#multi_resp.columns.to_list()"
   ]
  },
  {
   "cell_type": "code",
   "execution_count": 6,
   "metadata": {},
   "outputs": [],
   "source": [
    "multi_merged = pd.merge(multi_act, multi_resp, on=\"TUCASEID\")\n",
    "multi_merged = multi_merged.filter([\"TUCASEID\",\"TUACTDUR24\",\"TUCUMDUR\",\"TRTIER1P\",\"TRTIER2P\",\"TRCODEP\", \n",
    "                                    \"TEWHERE\",\"TELFS\", \"TUFNWGTP\",\"TUSTARTTIM\",\"TUSTOPTIME\", \"TUYEAR\"])\n",
    "#multi_merged"
   ]
  },
  {
   "cell_type": "code",
   "execution_count": 7,
   "metadata": {},
   "outputs": [
    {
     "data": {
      "text/plain": [
       "array([2, 1, 4, 5, 3])"
      ]
     },
     "execution_count": 7,
     "metadata": {},
     "output_type": "execute_result"
    }
   ],
   "source": [
    "#TELFS = employment status \n",
    "multi_merged[\"TELFS\"].unique()"
   ]
  },
  {
   "cell_type": "markdown",
   "metadata": {},
   "source": [
    "# Employed Population"
   ]
  },
  {
   "cell_type": "code",
   "execution_count": 8,
   "metadata": {},
   "outputs": [
    {
     "data": {
      "text/plain": [
       "array([2, 1])"
      ]
     },
     "execution_count": 8,
     "metadata": {},
     "output_type": "execute_result"
    }
   ],
   "source": [
    "employed_codes = [1,2] # 1= Employed - at work, 2 = Employed - absent\n",
    "multi_merged_employed = multi_merged[multi_merged[\"TELFS\"].isin(employed_codes)]\n",
    "multi_merged_employed[\"TELFS\"].unique()"
   ]
  },
  {
   "cell_type": "markdown",
   "metadata": {},
   "source": [
    "# 2003-2019 Residential -Employed"
   ]
  },
  {
   "cell_type": "code",
   "execution_count": 9,
   "metadata": {},
   "outputs": [],
   "source": [
    "#only residential location from 2003-2019\n",
    "residential_location = [1,3]\n",
    "atus_multi_yr_res_emp = multi_merged_employed[multi_merged_employed[\"TEWHERE\"].isin(residential_location)]\n",
    "#atus_multi_yr_res_employed"
   ]
  },
  {
   "cell_type": "code",
   "execution_count": 10,
   "metadata": {},
   "outputs": [],
   "source": [
    "#atus residential year seperation by employed population \n",
    "atus_2003_res_emp = atus_multi_yr_res_emp[atus_multi_yr_res_emp[\"TUCASEID\"].apply(str).str.startswith(\"2003\")]\n",
    "atus_2004_res_emp = atus_multi_yr_res_emp[atus_multi_yr_res_emp[\"TUCASEID\"].apply(str).str.startswith(\"2004\")]\n",
    "atus_2005_res_emp = atus_multi_yr_res_emp[atus_multi_yr_res_emp[\"TUCASEID\"].apply(str).str.startswith(\"2005\")]\n",
    "atus_2006_res_emp = atus_multi_yr_res_emp[atus_multi_yr_res_emp[\"TUCASEID\"].apply(str).str.startswith(\"2006\")]\n",
    "atus_2007_res_emp = atus_multi_yr_res_emp[atus_multi_yr_res_emp[\"TUCASEID\"].apply(str).str.startswith(\"2007\")]\n",
    "atus_2008_res_emp = atus_multi_yr_res_emp[atus_multi_yr_res_emp[\"TUCASEID\"].apply(str).str.startswith(\"2008\")]\n",
    "atus_2009_res_emp = atus_multi_yr_res_emp[atus_multi_yr_res_emp[\"TUCASEID\"].apply(str).str.startswith(\"2009\")]\n",
    "atus_2010_res_emp = atus_multi_yr_res_emp[atus_multi_yr_res_emp[\"TUCASEID\"].apply(str).str.startswith(\"2010\")]\n",
    "atus_2011_res_emp = atus_multi_yr_res_emp[atus_multi_yr_res_emp[\"TUCASEID\"].apply(str).str.startswith(\"2011\")]\n",
    "atus_2012_res_emp = atus_multi_yr_res_emp[atus_multi_yr_res_emp[\"TUCASEID\"].apply(str).str.startswith(\"2012\")]\n",
    "atus_2013_res_emp = atus_multi_yr_res_emp[atus_multi_yr_res_emp[\"TUCASEID\"].apply(str).str.startswith(\"2013\")]\n",
    "atus_2014_res_emp = atus_multi_yr_res_emp[atus_multi_yr_res_emp[\"TUCASEID\"].apply(str).str.startswith(\"2014\")]\n",
    "atus_2015_res_emp = atus_multi_yr_res_emp[atus_multi_yr_res_emp[\"TUCASEID\"].apply(str).str.startswith(\"2015\")]\n",
    "atus_2016_res_emp = atus_multi_yr_res_emp[atus_multi_yr_res_emp[\"TUCASEID\"].apply(str).str.startswith(\"2016\")]\n",
    "atus_2017_res_emp = atus_multi_yr_res_emp[atus_multi_yr_res_emp[\"TUCASEID\"].apply(str).str.startswith(\"2017\")]\n",
    "atus_2018_res_emp = atus_multi_yr_res_emp[atus_multi_yr_res_emp[\"TUCASEID\"].apply(str).str.startswith(\"2018\")]\n",
    "atus_2019_res_emp = atus_multi_yr_res_emp[atus_multi_yr_res_emp[\"TUCASEID\"].apply(str).str.startswith(\"2019\")]\n",
    "#atus_2003_res_emp"
   ]
  },
  {
   "cell_type": "code",
   "execution_count": 11,
   "metadata": {},
   "outputs": [],
   "source": [
    "#atus year seperation for all employed respondants\n",
    "atus_2003 = multi_merged_employed[multi_merged_employed[\"TUCASEID\"].apply(str).str.startswith(\"2003\")]\n",
    "atus_2004 = multi_merged_employed[multi_merged_employed[\"TUCASEID\"].apply(str).str.startswith(\"2004\")]\n",
    "atus_2005 = multi_merged_employed[multi_merged_employed[\"TUCASEID\"].apply(str).str.startswith(\"2005\")]\n",
    "atus_2006 = multi_merged_employed[multi_merged_employed[\"TUCASEID\"].apply(str).str.startswith(\"2006\")]\n",
    "atus_2007 = multi_merged_employed[multi_merged_employed[\"TUCASEID\"].apply(str).str.startswith(\"2007\")]\n",
    "atus_2008 = multi_merged_employed[multi_merged_employed[\"TUCASEID\"].apply(str).str.startswith(\"2008\")]\n",
    "atus_2009 = multi_merged_employed[multi_merged_employed[\"TUCASEID\"].apply(str).str.startswith(\"2009\")]\n",
    "atus_2010 = multi_merged_employed[multi_merged_employed[\"TUCASEID\"].apply(str).str.startswith(\"2010\")]\n",
    "atus_2011 = multi_merged_employed[multi_merged_employed[\"TUCASEID\"].apply(str).str.startswith(\"2011\")]\n",
    "atus_2012 = multi_merged_employed[multi_merged_employed[\"TUCASEID\"].apply(str).str.startswith(\"2012\")]\n",
    "atus_2013 = multi_merged_employed[multi_merged_employed[\"TUCASEID\"].apply(str).str.startswith(\"2013\")]\n",
    "atus_2014 = multi_merged_employed[multi_merged_employed[\"TUCASEID\"].apply(str).str.startswith(\"2014\")]\n",
    "atus_2015 = multi_merged_employed[multi_merged_employed[\"TUCASEID\"].apply(str).str.startswith(\"2015\")]\n",
    "atus_2016 = multi_merged_employed[multi_merged_employed[\"TUCASEID\"].apply(str).str.startswith(\"2016\")]\n",
    "atus_2017 = multi_merged_employed[multi_merged_employed[\"TUCASEID\"].apply(str).str.startswith(\"2017\")]\n",
    "atus_2018 = multi_merged_employed[multi_merged_employed[\"TUCASEID\"].apply(str).str.startswith(\"2018\")]\n",
    "atus_2019 = multi_merged_employed[multi_merged_employed[\"TUCASEID\"].apply(str).str.startswith(\"2019\")]"
   ]
  },
  {
   "cell_type": "code",
   "execution_count": 12,
   "metadata": {},
   "outputs": [
    {
     "data": {
      "text/plain": [
       "53187186872.01529"
      ]
     },
     "execution_count": 12,
     "metadata": {},
     "output_type": "execute_result"
    }
   ],
   "source": [
    "#weight for all respondants in from 2003-2019 (by dropping duplicate respondent)\n",
    "atus_2003_drop = atus_2003.drop_duplicates(subset=[\"TUCASEID\"])\n",
    "all_2003_weight = atus_2003_drop[\"TUFNWGTP\"].sum()\n",
    "all_2003_weight"
   ]
  },
  {
   "cell_type": "code",
   "execution_count": 13,
   "metadata": {},
   "outputs": [],
   "source": [
    "#employed_codes = [1,2] # 1= Employed - at work, 2 = Employed - absent\n",
    "#multi_merged_employed = multi_merged[multi_merged[\"TELFS\"].isin(employed_codes)]\n",
    "#residential_location = [1,3]\n",
    "#atus_multi_yr_res_emp = multi_merged_employed[multi_merged_employed[\"TEWHERE\"].isin(residential_location)]\n",
    "#atus_2003_res_emp = atus_multi_yr_res_emp[atus_multi_yr_res_emp[\"TUCASEID\"].apply(str).str.startswith(\"2003\")]\n",
    "#atus_2003 = multi_merged_employed[multi_merged_employed[\"TUCASEID\"].apply(str).str.startswith(\"2003\")]"
   ]
  },
  {
   "cell_type": "markdown",
   "metadata": {},
   "source": [
    "## 2003-2019 Work, Main Job"
   ]
  },
  {
   "cell_type": "markdown",
   "metadata": {},
   "source": [
    "### 2003 Work, Main Job"
   ]
  },
  {
   "cell_type": "code",
   "execution_count": 14,
   "metadata": {},
   "outputs": [],
   "source": [
    "#050101 is Work, main job\n",
    "atus_2003_res_work_emp = atus_2003_res_emp.loc[atus_2003_res_emp.TRCODEP == \"050101\"]\n",
    "#atus_2003_res_work_emp"
   ]
  },
  {
   "cell_type": "code",
   "execution_count": 15,
   "metadata": {},
   "outputs": [],
   "source": [
    "work = atus_2003_res_work_emp.groupby([\"TUCASEID\"]).sum().filter([\"TUCASEID\", \"TUACTDUR24\"])\n",
    "#work"
   ]
  },
  {
   "cell_type": "code",
   "execution_count": 16,
   "metadata": {},
   "outputs": [],
   "source": [
    "work_2003_res_emp_merge = pd.merge(work, multi_resp, on =\"TUCASEID\").filter([\"TUCASEID\",\"TUACTDUR24\",\"TUFNWGTP\"])\n",
    "#work_2003_res_emp_merge"
   ]
  },
  {
   "cell_type": "code",
   "execution_count": 17,
   "metadata": {},
   "outputs": [],
   "source": [
    "work_2003_res_emp_merge[\"Mutiplied Weighted\"] = work_2003_res_emp_merge[\"TUACTDUR24\"] * work_2003_res_emp_merge[\"TUFNWGTP\"]\n",
    "#work_2003_res_emp_merge"
   ]
  },
  {
   "cell_type": "code",
   "execution_count": 18,
   "metadata": {},
   "outputs": [
    {
     "data": {
      "text/plain": [
       "991523271995.9087"
      ]
     },
     "execution_count": 18,
     "metadata": {},
     "output_type": "execute_result"
    }
   ],
   "source": [
    "work_2003_res_emp_weight = work_2003_res_emp_merge[\"Mutiplied Weighted\"].sum()\n",
    "work_2003_res_emp_weight"
   ]
  },
  {
   "cell_type": "code",
   "execution_count": 19,
   "metadata": {},
   "outputs": [
    {
     "data": {
      "text/plain": [
       "53187186872.01529"
      ]
     },
     "execution_count": 19,
     "metadata": {},
     "output_type": "execute_result"
    }
   ],
   "source": [
    "#weight from all respondants in from 2003\n",
    "atus_2003_drop = atus_2003.drop_duplicates(subset=[\"TUCASEID\"])\n",
    "all_2003_emp_weight = atus_2003_drop[\"TUFNWGTP\"].sum()\n",
    "all_2003_emp_weight"
   ]
  },
  {
   "cell_type": "code",
   "execution_count": 20,
   "metadata": {},
   "outputs": [
    {
     "data": {
      "text/plain": [
       "18.64214541712496"
      ]
     },
     "execution_count": 20,
     "metadata": {},
     "output_type": "execute_result"
    }
   ],
   "source": [
    "work_2003_res_emp_minutes_per_day = work_2003_res_emp_weight/all_2003_emp_weight\n",
    "work_2003_res_emp_minutes_per_day"
   ]
  },
  {
   "cell_type": "code",
   "execution_count": 21,
   "metadata": {},
   "outputs": [
    {
     "data": {
      "text/plain": [
       "0.31070242361874933"
      ]
     },
     "execution_count": 21,
     "metadata": {},
     "output_type": "execute_result"
    }
   ],
   "source": [
    "work_2003_res_emp_hr_per_day = work_2003_res_emp_minutes_per_day / 60\n",
    "work_2003_res_emp_hr_per_day"
   ]
  },
  {
   "cell_type": "markdown",
   "metadata": {},
   "source": [
    "### 2004 Work, Main Job"
   ]
  },
  {
   "cell_type": "code",
   "execution_count": 22,
   "metadata": {},
   "outputs": [],
   "source": [
    "atus_2004_res_work_emp = atus_2004_res_emp.loc[atus_2004_res_emp.TRCODEP == \"050101\"]\n",
    "work = atus_2004_res_work_emp.groupby([\"TUCASEID\"]).sum().filter([\"TUCASEID\", \"TUACTDUR24\"])\n",
    "work_2004_res_emp_merge = pd.merge(work, multi_resp, on =\"TUCASEID\").filter([\"TUCASEID\",\"TUACTDUR24\",\"TUFNWGTP\"])\n",
    "work_2004_res_emp_merge[\"Mutiplied Weighted\"] = work_2004_res_emp_merge[\"TUACTDUR24\"] * work_2004_res_emp_merge[\"TUFNWGTP\"]"
   ]
  },
  {
   "cell_type": "code",
   "execution_count": 23,
   "metadata": {},
   "outputs": [],
   "source": [
    "work_2004_res_emp_weight = work_2004_res_emp_merge[\"Mutiplied Weighted\"].sum()\n",
    "\n",
    "atus_2004_drop = atus_2004.drop_duplicates(subset=[\"TUCASEID\"])\n",
    "all_2004_emp_weight = atus_2004_drop[\"TUFNWGTP\"].sum()"
   ]
  },
  {
   "cell_type": "code",
   "execution_count": 24,
   "metadata": {},
   "outputs": [
    {
     "data": {
      "text/plain": [
       "0.3746587969120332"
      ]
     },
     "execution_count": 24,
     "metadata": {},
     "output_type": "execute_result"
    }
   ],
   "source": [
    "work_2004_res_emp_hr_per_day = work_2004_res_emp_weight/all_2004_emp_weight/60\n",
    "work_2004_res_emp_hr_per_day"
   ]
  },
  {
   "cell_type": "markdown",
   "metadata": {},
   "source": [
    "### 2005 Work, Main Job"
   ]
  },
  {
   "cell_type": "code",
   "execution_count": 25,
   "metadata": {},
   "outputs": [],
   "source": [
    "atus_2005_res_work_emp = atus_2005_res_emp.loc[atus_2005_res_emp.TRCODEP == \"050101\"]\n",
    "work = atus_2005_res_work_emp.groupby([\"TUCASEID\"]).sum().filter([\"TUCASEID\", \"TUACTDUR24\"])\n",
    "work_2005_res_emp_merge = pd.merge(work, multi_resp, on =\"TUCASEID\").filter([\"TUCASEID\",\"TUACTDUR24\",\"TUFNWGTP\"])\n",
    "work_2005_res_emp_merge[\"Mutiplied Weighted\"] = work_2005_res_emp_merge[\"TUACTDUR24\"] * work_2005_res_emp_merge[\"TUFNWGTP\"]"
   ]
  },
  {
   "cell_type": "code",
   "execution_count": 26,
   "metadata": {},
   "outputs": [],
   "source": [
    "work_2005_res_emp_weight = work_2005_res_emp_merge[\"Mutiplied Weighted\"].sum()\n",
    "\n",
    "atus_2005_drop = atus_2005.drop_duplicates(subset=[\"TUCASEID\"])\n",
    "all_2005_emp_weight = atus_2005_drop[\"TUFNWGTP\"].sum()"
   ]
  },
  {
   "cell_type": "code",
   "execution_count": 27,
   "metadata": {},
   "outputs": [
    {
     "data": {
      "text/plain": [
       "0.34322997144732337"
      ]
     },
     "execution_count": 27,
     "metadata": {},
     "output_type": "execute_result"
    }
   ],
   "source": [
    "work_2005_res_emp_hr_per_day = work_2005_res_emp_weight/all_2005_emp_weight/60\n",
    "work_2005_res_emp_hr_per_day"
   ]
  },
  {
   "cell_type": "markdown",
   "metadata": {},
   "source": [
    "### 2006 Work, Main Job"
   ]
  },
  {
   "cell_type": "code",
   "execution_count": 28,
   "metadata": {},
   "outputs": [],
   "source": [
    "atus_2006_res_work_emp = atus_2006_res_emp.loc[atus_2006_res_emp.TRCODEP == \"050101\"]\n",
    "work = atus_2006_res_work_emp.groupby([\"TUCASEID\"]).sum().filter([\"TUCASEID\", \"TUACTDUR24\"])\n",
    "work_2006_res_emp_merge = pd.merge(work, multi_resp, on =\"TUCASEID\").filter([\"TUCASEID\",\"TUACTDUR24\",\"TUFNWGTP\"])\n",
    "work_2006_res_emp_merge[\"Mutiplied Weighted\"] = work_2006_res_emp_merge[\"TUACTDUR24\"] * work_2006_res_emp_merge[\"TUFNWGTP\"]"
   ]
  },
  {
   "cell_type": "code",
   "execution_count": 29,
   "metadata": {},
   "outputs": [],
   "source": [
    "work_2006_res_emp_weight = work_2006_res_emp_merge[\"Mutiplied Weighted\"].sum()\n",
    "\n",
    "atus_2006_drop = atus_2006.drop_duplicates(subset=[\"TUCASEID\"])\n",
    "all_2006_emp_weight = atus_2006_drop[\"TUFNWGTP\"].sum()"
   ]
  },
  {
   "cell_type": "code",
   "execution_count": 30,
   "metadata": {},
   "outputs": [
    {
     "data": {
      "text/plain": [
       "0.3546750828682425"
      ]
     },
     "execution_count": 30,
     "metadata": {},
     "output_type": "execute_result"
    }
   ],
   "source": [
    "work_2006_res_emp_hr_per_day = work_2006_res_emp_weight/all_2006_emp_weight/60\n",
    "work_2006_res_emp_hr_per_day"
   ]
  },
  {
   "cell_type": "markdown",
   "metadata": {},
   "source": [
    "### 2007 Work, Main Job"
   ]
  },
  {
   "cell_type": "code",
   "execution_count": 31,
   "metadata": {},
   "outputs": [],
   "source": [
    "atus_2007_res_work_emp = atus_2007_res_emp.loc[atus_2007_res_emp.TRCODEP == \"050101\"]\n",
    "work = atus_2007_res_work_emp.groupby([\"TUCASEID\"]).sum().filter([\"TUCASEID\", \"TUACTDUR24\"])\n",
    "work_2007_res_emp_merge = pd.merge(work, multi_resp, on =\"TUCASEID\").filter([\"TUCASEID\",\"TUACTDUR24\",\"TUFNWGTP\"])\n",
    "work_2007_res_emp_merge[\"Mutiplied Weighted\"] = work_2007_res_emp_merge[\"TUACTDUR24\"] * work_2007_res_emp_merge[\"TUFNWGTP\"]"
   ]
  },
  {
   "cell_type": "code",
   "execution_count": 32,
   "metadata": {},
   "outputs": [],
   "source": [
    "work_2007_res_emp_weight = work_2007_res_emp_merge[\"Mutiplied Weighted\"].sum()\n",
    "\n",
    "atus_2007_drop = atus_2007.drop_duplicates(subset=[\"TUCASEID\"])\n",
    "all_2007_emp_weight = atus_2007_drop[\"TUFNWGTP\"].sum()"
   ]
  },
  {
   "cell_type": "code",
   "execution_count": 33,
   "metadata": {},
   "outputs": [
    {
     "data": {
      "text/plain": [
       "0.38824574036612003"
      ]
     },
     "execution_count": 33,
     "metadata": {},
     "output_type": "execute_result"
    }
   ],
   "source": [
    "work_2007_res_emp_hr_per_day = work_2007_res_emp_weight/all_2007_emp_weight/60\n",
    "work_2007_res_emp_hr_per_day"
   ]
  },
  {
   "cell_type": "markdown",
   "metadata": {},
   "source": [
    "### 2008 Work, Main Job"
   ]
  },
  {
   "cell_type": "code",
   "execution_count": 34,
   "metadata": {},
   "outputs": [],
   "source": [
    "atus_2008_res_work_emp = atus_2008_res_emp.loc[atus_2008_res_emp.TRCODEP == \"050101\"]\n",
    "work = atus_2008_res_work_emp.groupby([\"TUCASEID\"]).sum().filter([\"TUCASEID\", \"TUACTDUR24\"])\n",
    "work_2008_res_emp_merge = pd.merge(work, multi_resp, on =\"TUCASEID\").filter([\"TUCASEID\",\"TUACTDUR24\",\"TUFNWGTP\"])\n",
    "work_2008_res_emp_merge[\"Mutiplied Weighted\"] = work_2008_res_emp_merge[\"TUACTDUR24\"] * work_2008_res_emp_merge[\"TUFNWGTP\"]"
   ]
  },
  {
   "cell_type": "code",
   "execution_count": 35,
   "metadata": {},
   "outputs": [],
   "source": [
    "work_2008_res_emp_weight = work_2008_res_emp_merge[\"Mutiplied Weighted\"].sum()\n",
    "\n",
    "atus_2008_drop = atus_2008.drop_duplicates(subset=[\"TUCASEID\"])\n",
    "all_2008_emp_weight = atus_2008_drop[\"TUFNWGTP\"].sum()"
   ]
  },
  {
   "cell_type": "code",
   "execution_count": 36,
   "metadata": {},
   "outputs": [
    {
     "data": {
      "text/plain": [
       "0.3991974075917517"
      ]
     },
     "execution_count": 36,
     "metadata": {},
     "output_type": "execute_result"
    }
   ],
   "source": [
    "work_2008_res_emp_hr_per_day = work_2008_res_emp_weight/all_2008_emp_weight/60\n",
    "work_2008_res_emp_hr_per_day"
   ]
  },
  {
   "cell_type": "markdown",
   "metadata": {},
   "source": [
    "### 2009 Work, Main Job"
   ]
  },
  {
   "cell_type": "code",
   "execution_count": 37,
   "metadata": {},
   "outputs": [],
   "source": [
    "atus_2009_res_work_emp = atus_2009_res_emp.loc[atus_2009_res_emp.TRCODEP == \"050101\"]\n",
    "work = atus_2009_res_work_emp.groupby([\"TUCASEID\"]).sum().filter([\"TUCASEID\", \"TUACTDUR24\"])\n",
    "work_2009_res_emp_merge = pd.merge(work, multi_resp, on =\"TUCASEID\").filter([\"TUCASEID\",\"TUACTDUR24\",\"TUFNWGTP\"])\n",
    "work_2009_res_emp_merge[\"Mutiplied Weighted\"] = work_2009_res_emp_merge[\"TUACTDUR24\"] * work_2009_res_emp_merge[\"TUFNWGTP\"]"
   ]
  },
  {
   "cell_type": "code",
   "execution_count": 38,
   "metadata": {},
   "outputs": [],
   "source": [
    "work_2009_res_emp_weight = work_2009_res_emp_merge[\"Mutiplied Weighted\"].sum()\n",
    "\n",
    "atus_2009_drop = atus_2009.drop_duplicates(subset=[\"TUCASEID\"])\n",
    "all_2009_emp_weight = atus_2009_drop[\"TUFNWGTP\"].sum()"
   ]
  },
  {
   "cell_type": "code",
   "execution_count": 39,
   "metadata": {},
   "outputs": [
    {
     "data": {
      "text/plain": [
       "0.4796813407793066"
      ]
     },
     "execution_count": 39,
     "metadata": {},
     "output_type": "execute_result"
    }
   ],
   "source": [
    "work_2009_res_emp_hr_per_day = work_2009_res_emp_weight/all_2009_emp_weight/60\n",
    "work_2009_res_emp_hr_per_day"
   ]
  },
  {
   "cell_type": "markdown",
   "metadata": {},
   "source": [
    "### 2010 Work, Main Job"
   ]
  },
  {
   "cell_type": "code",
   "execution_count": 40,
   "metadata": {},
   "outputs": [],
   "source": [
    "atus_2010_res_work_emp = atus_2010_res_emp.loc[atus_2010_res_emp.TRCODEP == \"050101\"]\n",
    "work = atus_2010_res_work_emp.groupby([\"TUCASEID\"]).sum().filter([\"TUCASEID\", \"TUACTDUR24\"])\n",
    "work_2010_res_emp_merge = pd.merge(work, multi_resp, on =\"TUCASEID\").filter([\"TUCASEID\",\"TUACTDUR24\",\"TUFNWGTP\"])\n",
    "work_2010_res_emp_merge[\"Mutiplied Weighted\"] = work_2010_res_emp_merge[\"TUACTDUR24\"] * work_2010_res_emp_merge[\"TUFNWGTP\"]"
   ]
  },
  {
   "cell_type": "code",
   "execution_count": 41,
   "metadata": {},
   "outputs": [],
   "source": [
    "work_2010_res_emp_weight = work_2010_res_emp_merge[\"Mutiplied Weighted\"].sum()\n",
    "\n",
    "atus_2010_drop = atus_2010.drop_duplicates(subset=[\"TUCASEID\"])\n",
    "all_2010_emp_weight = atus_2010_drop[\"TUFNWGTP\"].sum()"
   ]
  },
  {
   "cell_type": "code",
   "execution_count": 42,
   "metadata": {},
   "outputs": [
    {
     "data": {
      "text/plain": [
       "0.48231686643751154"
      ]
     },
     "execution_count": 42,
     "metadata": {},
     "output_type": "execute_result"
    }
   ],
   "source": [
    "work_2010_res_emp_hr_per_day = work_2010_res_emp_weight/all_2010_emp_weight/60\n",
    "work_2010_res_emp_hr_per_day"
   ]
  },
  {
   "cell_type": "markdown",
   "metadata": {},
   "source": [
    "### 2011 Work, Main Job"
   ]
  },
  {
   "cell_type": "code",
   "execution_count": 43,
   "metadata": {},
   "outputs": [],
   "source": [
    "atus_2011_res_work_emp = atus_2011_res_emp.loc[atus_2011_res_emp.TRCODEP == \"050101\"]\n",
    "work = atus_2011_res_work_emp.groupby([\"TUCASEID\"]).sum().filter([\"TUCASEID\", \"TUACTDUR24\"])\n",
    "work_2011_res_emp_merge = pd.merge(work, multi_resp, on =\"TUCASEID\").filter([\"TUCASEID\",\"TUACTDUR24\",\"TUFNWGTP\"])\n",
    "work_2011_res_emp_merge[\"Mutiplied Weighted\"] = work_2011_res_emp_merge[\"TUACTDUR24\"] * work_2011_res_emp_merge[\"TUFNWGTP\"]"
   ]
  },
  {
   "cell_type": "code",
   "execution_count": 44,
   "metadata": {},
   "outputs": [],
   "source": [
    "work_2011_res_emp_weight = work_2011_res_emp_merge[\"Mutiplied Weighted\"].sum()\n",
    "\n",
    "atus_2011_drop = atus_2011.drop_duplicates(subset=[\"TUCASEID\"])\n",
    "all_2011_emp_weight = atus_2011_drop[\"TUFNWGTP\"].sum()"
   ]
  },
  {
   "cell_type": "code",
   "execution_count": 45,
   "metadata": {},
   "outputs": [
    {
     "data": {
      "text/plain": [
       "0.44697595131295986"
      ]
     },
     "execution_count": 45,
     "metadata": {},
     "output_type": "execute_result"
    }
   ],
   "source": [
    "work_2011_res_emp_hr_per_day = work_2011_res_emp_weight/all_2011_emp_weight/60\n",
    "work_2011_res_emp_hr_per_day"
   ]
  },
  {
   "cell_type": "markdown",
   "metadata": {},
   "source": [
    "### 2012 Work, Main Job "
   ]
  },
  {
   "cell_type": "code",
   "execution_count": 46,
   "metadata": {},
   "outputs": [],
   "source": [
    "atus_2012_res_work_emp = atus_2012_res_emp.loc[atus_2012_res_emp.TRCODEP == \"050101\"]\n",
    "work = atus_2012_res_work_emp.groupby([\"TUCASEID\"]).sum().filter([\"TUCASEID\", \"TUACTDUR24\"])\n",
    "work_2012_res_emp_merge = pd.merge(work, multi_resp, on =\"TUCASEID\").filter([\"TUCASEID\",\"TUACTDUR24\",\"TUFNWGTP\"])\n",
    "work_2012_res_emp_merge[\"Mutiplied Weighted\"] = work_2012_res_emp_merge[\"TUACTDUR24\"] * work_2012_res_emp_merge[\"TUFNWGTP\"]"
   ]
  },
  {
   "cell_type": "code",
   "execution_count": 47,
   "metadata": {},
   "outputs": [],
   "source": [
    "work_2012_res_emp_weight = work_2012_res_emp_merge[\"Mutiplied Weighted\"].sum()\n",
    "\n",
    "atus_2012_drop = atus_2012.drop_duplicates(subset=[\"TUCASEID\"])\n",
    "all_2012_emp_weight = atus_2012_drop[\"TUFNWGTP\"].sum()"
   ]
  },
  {
   "cell_type": "code",
   "execution_count": 48,
   "metadata": {},
   "outputs": [
    {
     "data": {
      "text/plain": [
       "0.49838165929179656"
      ]
     },
     "execution_count": 48,
     "metadata": {},
     "output_type": "execute_result"
    }
   ],
   "source": [
    "work_2012_res_emp_hr_per_day = work_2012_res_emp_weight/all_2012_emp_weight/60\n",
    "work_2012_res_emp_hr_per_day"
   ]
  },
  {
   "cell_type": "markdown",
   "metadata": {},
   "source": [
    "### 2013 Work, Main Job"
   ]
  },
  {
   "cell_type": "code",
   "execution_count": 49,
   "metadata": {},
   "outputs": [],
   "source": [
    "atus_2013_res_work_emp = atus_2013_res_emp.loc[atus_2013_res_emp.TRCODEP == \"050101\"]\n",
    "work = atus_2013_res_work_emp.groupby([\"TUCASEID\"]).sum().filter([\"TUCASEID\", \"TUACTDUR24\"])\n",
    "work_2013_res_emp_merge = pd.merge(work, multi_resp, on =\"TUCASEID\").filter([\"TUCASEID\",\"TUACTDUR24\",\"TUFNWGTP\"])\n",
    "work_2013_res_emp_merge[\"Mutiplied Weighted\"] = work_2013_res_emp_merge[\"TUACTDUR24\"] * work_2013_res_emp_merge[\"TUFNWGTP\"]"
   ]
  },
  {
   "cell_type": "code",
   "execution_count": 50,
   "metadata": {},
   "outputs": [],
   "source": [
    "work_2013_res_emp_weight = work_2013_res_emp_merge[\"Mutiplied Weighted\"].sum()\n",
    "\n",
    "atus_2013_drop = atus_2013.drop_duplicates(subset=[\"TUCASEID\"])\n",
    "all_2013_emp_weight = atus_2013_drop[\"TUFNWGTP\"].sum()"
   ]
  },
  {
   "cell_type": "code",
   "execution_count": 51,
   "metadata": {},
   "outputs": [
    {
     "data": {
      "text/plain": [
       "0.4914855338135969"
      ]
     },
     "execution_count": 51,
     "metadata": {},
     "output_type": "execute_result"
    }
   ],
   "source": [
    "work_2013_res_emp_hr_per_day = work_2013_res_emp_weight/all_2013_emp_weight/60\n",
    "work_2013_res_emp_hr_per_day"
   ]
  },
  {
   "cell_type": "markdown",
   "metadata": {},
   "source": [
    "### 2014 Work, Main Job"
   ]
  },
  {
   "cell_type": "code",
   "execution_count": 52,
   "metadata": {},
   "outputs": [],
   "source": [
    "atus_2014_res_work_emp = atus_2014_res_emp.loc[atus_2014_res_emp.TRCODEP == \"050101\"]\n",
    "work = atus_2014_res_work_emp.groupby([\"TUCASEID\"]).sum().filter([\"TUCASEID\", \"TUACTDUR24\"])\n",
    "work_2014_res_emp_merge = pd.merge(work, multi_resp, on =\"TUCASEID\").filter([\"TUCASEID\",\"TUACTDUR24\",\"TUFNWGTP\"])\n",
    "work_2014_res_emp_merge[\"Mutiplied Weighted\"] = work_2014_res_emp_merge[\"TUACTDUR24\"] * work_2014_res_emp_merge[\"TUFNWGTP\"]"
   ]
  },
  {
   "cell_type": "code",
   "execution_count": 53,
   "metadata": {},
   "outputs": [],
   "source": [
    "work_2014_res_emp_weight = work_2014_res_emp_merge[\"Mutiplied Weighted\"].sum()\n",
    "\n",
    "atus_2014_drop = atus_2014.drop_duplicates(subset=[\"TUCASEID\"])\n",
    "all_2014_emp_weight = atus_2014_drop[\"TUFNWGTP\"].sum()"
   ]
  },
  {
   "cell_type": "code",
   "execution_count": 54,
   "metadata": {},
   "outputs": [
    {
     "data": {
      "text/plain": [
       "0.5086661965128918"
      ]
     },
     "execution_count": 54,
     "metadata": {},
     "output_type": "execute_result"
    }
   ],
   "source": [
    "work_2014_res_emp_hr_per_day = work_2014_res_emp_weight/all_2014_emp_weight/60\n",
    "work_2014_res_emp_hr_per_day"
   ]
  },
  {
   "cell_type": "markdown",
   "metadata": {},
   "source": [
    "### 2015 Work, Main Job"
   ]
  },
  {
   "cell_type": "code",
   "execution_count": 55,
   "metadata": {},
   "outputs": [],
   "source": [
    "atus_2015_res_work_emp = atus_2015_res_emp.loc[atus_2015_res_emp.TRCODEP == \"050101\"]\n",
    "work = atus_2015_res_work_emp.groupby([\"TUCASEID\"]).sum().filter([\"TUCASEID\", \"TUACTDUR24\"])\n",
    "work_2015_res_emp_merge = pd.merge(work, multi_resp, on =\"TUCASEID\").filter([\"TUCASEID\",\"TUACTDUR24\",\"TUFNWGTP\"])\n",
    "work_2015_res_emp_merge[\"Mutiplied Weighted\"] = work_2015_res_emp_merge[\"TUACTDUR24\"] * work_2015_res_emp_merge[\"TUFNWGTP\"]"
   ]
  },
  {
   "cell_type": "code",
   "execution_count": 56,
   "metadata": {},
   "outputs": [],
   "source": [
    "work_2015_res_emp_weight = work_2015_res_emp_merge[\"Mutiplied Weighted\"].sum()\n",
    "\n",
    "atus_2015_drop = atus_2015.drop_duplicates(subset=[\"TUCASEID\"])\n",
    "all_2015_emp_weight = atus_2015_drop[\"TUFNWGTP\"].sum()"
   ]
  },
  {
   "cell_type": "code",
   "execution_count": 57,
   "metadata": {},
   "outputs": [
    {
     "data": {
      "text/plain": [
       "0.5324948613133272"
      ]
     },
     "execution_count": 57,
     "metadata": {},
     "output_type": "execute_result"
    }
   ],
   "source": [
    "work_2015_res_emp_hr_per_day = work_2015_res_emp_weight/all_2015_emp_weight/60\n",
    "work_2015_res_emp_hr_per_day"
   ]
  },
  {
   "cell_type": "markdown",
   "metadata": {},
   "source": [
    "### 2016 Work, Main Job"
   ]
  },
  {
   "cell_type": "code",
   "execution_count": 58,
   "metadata": {},
   "outputs": [],
   "source": [
    "atus_2016_res_work_emp = atus_2016_res_emp.loc[atus_2016_res_emp.TRCODEP == \"050101\"]\n",
    "work = atus_2016_res_work_emp.groupby([\"TUCASEID\"]).sum().filter([\"TUCASEID\", \"TUACTDUR24\"])\n",
    "work_2016_res_emp_merge = pd.merge(work, multi_resp, on =\"TUCASEID\").filter([\"TUCASEID\",\"TUACTDUR24\",\"TUFNWGTP\"])\n",
    "work_2016_res_emp_merge[\"Mutiplied Weighted\"] = work_2016_res_emp_merge[\"TUACTDUR24\"] * work_2016_res_emp_merge[\"TUFNWGTP\"]"
   ]
  },
  {
   "cell_type": "code",
   "execution_count": 59,
   "metadata": {},
   "outputs": [],
   "source": [
    "work_2016_res_emp_weight = work_2016_res_emp_merge[\"Mutiplied Weighted\"].sum()\n",
    "\n",
    "atus_2016_drop = atus_2016.drop_duplicates(subset=[\"TUCASEID\"])\n",
    "all_2016_emp_weight = atus_2016_drop[\"TUFNWGTP\"].sum()"
   ]
  },
  {
   "cell_type": "code",
   "execution_count": 60,
   "metadata": {},
   "outputs": [
    {
     "data": {
      "text/plain": [
       "0.47966184719856203"
      ]
     },
     "execution_count": 60,
     "metadata": {},
     "output_type": "execute_result"
    }
   ],
   "source": [
    "work_2016_res_emp_hr_per_day = work_2016_res_emp_weight/all_2016_emp_weight/60\n",
    "work_2016_res_emp_hr_per_day"
   ]
  },
  {
   "cell_type": "markdown",
   "metadata": {},
   "source": [
    "### 2017 Work, Main Job"
   ]
  },
  {
   "cell_type": "code",
   "execution_count": 61,
   "metadata": {},
   "outputs": [],
   "source": [
    "atus_2017_res_work_emp = atus_2017_res_emp.loc[atus_2017_res_emp.TRCODEP == \"050101\"]\n",
    "work = atus_2017_res_work_emp.groupby([\"TUCASEID\"]).sum().filter([\"TUCASEID\", \"TUACTDUR24\"])\n",
    "work_2017_res_emp_merge = pd.merge(work, multi_resp, on =\"TUCASEID\").filter([\"TUCASEID\",\"TUACTDUR24\",\"TUFNWGTP\"])\n",
    "work_2017_res_emp_merge[\"Mutiplied Weighted\"] = work_2017_res_emp_merge[\"TUACTDUR24\"] * work_2017_res_emp_merge[\"TUFNWGTP\"]"
   ]
  },
  {
   "cell_type": "code",
   "execution_count": 62,
   "metadata": {},
   "outputs": [],
   "source": [
    "work_2017_res_emp_weight = work_2017_res_emp_merge[\"Mutiplied Weighted\"].sum()\n",
    "\n",
    "atus_2017_drop = atus_2017.drop_duplicates(subset=[\"TUCASEID\"])\n",
    "all_2017_emp_weight = atus_2017_drop[\"TUFNWGTP\"].sum()"
   ]
  },
  {
   "cell_type": "code",
   "execution_count": 63,
   "metadata": {},
   "outputs": [
    {
     "data": {
      "text/plain": [
       "0.5056467487838024"
      ]
     },
     "execution_count": 63,
     "metadata": {},
     "output_type": "execute_result"
    }
   ],
   "source": [
    "work_2017_res_emp_hr_per_day = work_2017_res_emp_weight/all_2017_emp_weight/60\n",
    "work_2017_res_emp_hr_per_day"
   ]
  },
  {
   "cell_type": "markdown",
   "metadata": {},
   "source": [
    "### 2018 Work, Main Job"
   ]
  },
  {
   "cell_type": "code",
   "execution_count": 64,
   "metadata": {},
   "outputs": [],
   "source": [
    "atus_2018_res_work_emp = atus_2018_res_emp.loc[atus_2018_res_emp.TRCODEP == \"050101\"]\n",
    "work = atus_2018_res_work_emp.groupby([\"TUCASEID\"]).sum().filter([\"TUCASEID\", \"TUACTDUR24\"])\n",
    "work_2018_res_emp_merge = pd.merge(work, multi_resp, on =\"TUCASEID\").filter([\"TUCASEID\",\"TUACTDUR24\",\"TUFNWGTP\"])\n",
    "work_2018_res_emp_merge[\"Mutiplied Weighted\"] = work_2018_res_emp_merge[\"TUACTDUR24\"] * work_2018_res_emp_merge[\"TUFNWGTP\"]"
   ]
  },
  {
   "cell_type": "code",
   "execution_count": 65,
   "metadata": {},
   "outputs": [],
   "source": [
    "work_2018_res_emp_weight = work_2018_res_emp_merge[\"Mutiplied Weighted\"].sum()\n",
    "\n",
    "atus_2018_drop = atus_2018.drop_duplicates(subset=[\"TUCASEID\"])\n",
    "all_2018_emp_weight = atus_2018_drop[\"TUFNWGTP\"].sum()"
   ]
  },
  {
   "cell_type": "code",
   "execution_count": 66,
   "metadata": {},
   "outputs": [
    {
     "data": {
      "text/plain": [
       "0.49696152043770375"
      ]
     },
     "execution_count": 66,
     "metadata": {},
     "output_type": "execute_result"
    }
   ],
   "source": [
    "work_2018_res_emp_hr_per_day = work_2018_res_emp_weight/all_2018_emp_weight/60\n",
    "work_2018_res_emp_hr_per_day"
   ]
  },
  {
   "cell_type": "markdown",
   "metadata": {},
   "source": [
    "### 2019 Work, Main Job"
   ]
  },
  {
   "cell_type": "code",
   "execution_count": 67,
   "metadata": {},
   "outputs": [],
   "source": [
    "atus_2019_res_work_emp = atus_2019_res_emp.loc[atus_2019_res_emp.TRCODEP == \"050101\"]\n",
    "work = atus_2019_res_work_emp.groupby([\"TUCASEID\"]).sum().filter([\"TUCASEID\", \"TUACTDUR24\"])\n",
    "work_2019_res_emp_merge = pd.merge(work, multi_resp, on =\"TUCASEID\").filter([\"TUCASEID\",\"TUACTDUR24\",\"TUFNWGTP\"])\n",
    "work_2019_res_emp_merge[\"Mutiplied Weighted\"] = work_2019_res_emp_merge[\"TUACTDUR24\"] * work_2019_res_emp_merge[\"TUFNWGTP\"]"
   ]
  },
  {
   "cell_type": "code",
   "execution_count": 68,
   "metadata": {},
   "outputs": [],
   "source": [
    "work_2019_res_emp_weight = work_2019_res_emp_merge[\"Mutiplied Weighted\"].sum()\n",
    "\n",
    "atus_2019_drop = atus_2019.drop_duplicates(subset=[\"TUCASEID\"])\n",
    "all_2019_emp_weight = atus_2019_drop[\"TUFNWGTP\"].sum()"
   ]
  },
  {
   "cell_type": "code",
   "execution_count": 69,
   "metadata": {},
   "outputs": [
    {
     "data": {
      "text/plain": [
       "0.5693888238140974"
      ]
     },
     "execution_count": 69,
     "metadata": {},
     "output_type": "execute_result"
    }
   ],
   "source": [
    "work_2019_res_emp_hr_per_day = work_2019_res_emp_weight/all_2019_emp_weight/60\n",
    "work_2019_res_emp_hr_per_day"
   ]
  },
  {
   "cell_type": "markdown",
   "metadata": {},
   "source": [
    "### Work, Main Job Linear Regresssion "
   ]
  },
  {
   "cell_type": "markdown",
   "metadata": {},
   "source": [
    "##### 2003-2012 Regression"
   ]
  },
  {
   "cell_type": "code",
   "execution_count": 70,
   "metadata": {},
   "outputs": [
    {
     "data": {
      "text/plain": [
       "[array([113.40638462]),\n",
       " array([136.75046087]),\n",
       " array([125.27893958]),\n",
       " array([129.45640525]),\n",
       " array([141.70969523]),\n",
       " array([145.70705377]),\n",
       " array([175.08368938]),\n",
       " array([176.04565625]),\n",
       " array([163.14622223]),\n",
       " array([181.90930564])]"
      ]
     },
     "execution_count": 70,
     "metadata": {},
     "output_type": "execute_result"
    }
   ],
   "source": [
    "year = np.array([2003, 2004, 2005, 2006, 2007, 2008, 2009, 2010,2011,2012]).reshape((-1, 1))\n",
    "activity_hours_per_day = np.array([work_2003_res_emp_hr_per_day, work_2004_res_emp_hr_per_day, work_2005_res_emp_hr_per_day, work_2006_res_emp_hr_per_day, work_2007_res_emp_hr_per_day,work_2008_res_emp_hr_per_day, work_2009_res_emp_hr_per_day, work_2010_res_emp_hr_per_day, work_2011_res_emp_hr_per_day,work_2012_res_emp_hr_per_day]).reshape((-1, 1))\n",
    "\n",
    "activity_hours_per_yr = [i * 365 for i in activity_hours_per_day]\n",
    "activity_hours_per_yr"
   ]
  },
  {
   "cell_type": "code",
   "execution_count": 71,
   "metadata": {},
   "outputs": [],
   "source": [
    "x = year\n",
    "y = activity_hours_per_yr\n",
    "x, y = np.array(x), np.array(y)"
   ]
  },
  {
   "cell_type": "code",
   "execution_count": 72,
   "metadata": {},
   "outputs": [],
   "source": [
    "model = LinearRegression().fit(x, y)"
   ]
  },
  {
   "cell_type": "code",
   "execution_count": 73,
   "metadata": {},
   "outputs": [],
   "source": [
    "y_pred = model.predict(x)  # make predictions"
   ]
  },
  {
   "cell_type": "code",
   "execution_count": 74,
   "metadata": {},
   "outputs": [
    {
     "data": {
      "image/png": "[encoded data removed]",
      "text/plain": [
       "<Figure size 432x288 with 1 Axes>"
      ]
     },
     "metadata": {
      "needs_background": "light"
     },
     "output_type": "display_data"
    }
   ],
   "source": [
    "plt.scatter(x, y)\n",
    "plt.plot(x, y_pred, color='red')\n",
    "plt.show()\n",
    "#look to "
   ]
  },
  {
   "cell_type": "code",
   "execution_count": 75,
   "metadata": {},
   "outputs": [
    {
     "data": {
      "text/plain": [
       "0.8465596340525738"
      ]
     },
     "execution_count": 75,
     "metadata": {},
     "output_type": "execute_result"
    }
   ],
   "source": [
    "coefficient_of_determination = model.score(x,y) #R sqaure value \n",
    "coefficient_of_determination"
   ]
  },
  {
   "cell_type": "code",
   "execution_count": 76,
   "metadata": {},
   "outputs": [
    {
     "data": {
      "text/plain": [
       "array([-14402.59847673])"
      ]
     },
     "execution_count": 76,
     "metadata": {},
     "output_type": "execute_result"
    }
   ],
   "source": [
    "intercept = model.intercept_ #everthing else is correct but the interception \n",
    "intercept"
   ]
  },
  {
   "cell_type": "code",
   "execution_count": 77,
   "metadata": {},
   "outputs": [
    {
     "data": {
      "text/plain": [
       "array([[7.2485419]])"
      ]
     },
     "execution_count": 77,
     "metadata": {},
     "output_type": "execute_result"
    }
   ],
   "source": [
    "work_res_emp_2003_2012_slope = model.coef_\n",
    "work_res_emp_2003_2012_slope"
   ]
  },
  {
   "cell_type": "markdown",
   "metadata": {},
   "source": [
    "#### 2003-2019 Work, Regression"
   ]
  },
  {
   "cell_type": "code",
   "execution_count": 78,
   "metadata": {},
   "outputs": [],
   "source": [
    "year = np.array([2003, 2004, 2005, 2006, 2007, 2008, 2009, 2010,2011,2012,2013,2014,2015,2016,2017,2018,2019]).reshape((-1, 1))\n",
    "activity_hours_per_day = np.array([work_2003_res_emp_hr_per_day, work_2004_res_emp_hr_per_day, work_2005_res_emp_hr_per_day, work_2006_res_emp_hr_per_day, work_2007_res_emp_hr_per_day,work_2008_res_emp_hr_per_day, work_2009_res_emp_hr_per_day, work_2010_res_emp_hr_per_day, work_2011_res_emp_hr_per_day,work_2012_res_emp_hr_per_day, work_2013_res_emp_hr_per_day, work_2014_res_emp_hr_per_day, work_2015_res_emp_hr_per_day, work_2016_res_emp_hr_per_day, work_2017_res_emp_hr_per_day, work_2018_res_emp_hr_per_day, work_2019_res_emp_hr_per_day]).reshape((-1, 1))\n",
    "\n",
    "activity_hours_per_yr = [i * 365 for i in activity_hours_per_day]\n",
    "#activity_hours_per_yr"
   ]
  },
  {
   "cell_type": "code",
   "execution_count": 79,
   "metadata": {},
   "outputs": [
    {
     "data": {
      "image/png": "[encoded data removed]",
      "text/plain": [
       "<Figure size 432x288 with 1 Axes>"
      ]
     },
     "metadata": {
      "needs_background": "light"
     },
     "output_type": "display_data"
    }
   ],
   "source": [
    "x = year\n",
    "y = activity_hours_per_yr\n",
    "x, y = np.array(x), np.array(y)\n",
    "\n",
    "model = LinearRegression().fit(x, y)\n",
    "\n",
    "y_pred = model.predict(x)  \n",
    "\n",
    "plt.scatter(x, y)\n",
    "plt.plot(x, y_pred, color='red')\n",
    "plt.show()"
   ]
  },
  {
   "cell_type": "code",
   "execution_count": 80,
   "metadata": {},
   "outputs": [
    {
     "data": {
      "text/plain": [
       "0.8274599848904041"
      ]
     },
     "execution_count": 80,
     "metadata": {},
     "output_type": "execute_result"
    }
   ],
   "source": [
    "coefficient_of_determination = model.score(x,y) #R sqaure value \n",
    "coefficient_of_determination"
   ]
  },
  {
   "cell_type": "code",
   "execution_count": 81,
   "metadata": {},
   "outputs": [
    {
     "data": {
      "text/plain": [
       "array([[4.89361295]])"
      ]
     },
     "execution_count": 81,
     "metadata": {},
     "output_type": "execute_result"
    }
   ],
   "source": [
    "work_res_emp_2003_2019_slope = model.coef_\n",
    "work_res_emp_2003_2019_slope"
   ]
  },
  {
   "cell_type": "markdown",
   "metadata": {},
   "source": [
    "## 2003-2019 Television -Employed"
   ]
  },
  {
   "cell_type": "markdown",
   "metadata": {},
   "source": [
    "### 2003 Television"
   ]
  },
  {
   "cell_type": "code",
   "execution_count": 82,
   "metadata": {},
   "outputs": [],
   "source": [
    "#120303 = Television and movies (not religious), 120304 = Television (religious)\n",
    "watch_tv = [\"120303\",\"120304\"]\n",
    "television = atus_2003_res_emp[atus_2003_res_emp[\"TRCODEP\"].isin(watch_tv)]\n",
    "#television"
   ]
  },
  {
   "cell_type": "code",
   "execution_count": 83,
   "metadata": {},
   "outputs": [],
   "source": [
    "tv_2003_res_emp = television.groupby([\"TUCASEID\"]).sum().filter([\"TUCASEID\", \"TUACTDUR24\"])\n",
    "tv_2003_res_emp_merged = pd.merge(tv_2003_res_emp, multi_resp, on =\"TUCASEID\").filter([\"TUCASEID\",\"TUACTDUR24\",\"TUFNWGTP\"])\n",
    "#television_2003_merged"
   ]
  },
  {
   "cell_type": "code",
   "execution_count": 84,
   "metadata": {},
   "outputs": [],
   "source": [
    "tv_2003_res_emp_merged[\"Mutiplied Weighted\"] = tv_2003_res_emp_merged[\"TUACTDUR24\"] * tv_2003_res_emp_merged[\"TUFNWGTP\"]\n",
    "#tv_2003_res_emp_merged"
   ]
  },
  {
   "cell_type": "code",
   "execution_count": 85,
   "metadata": {},
   "outputs": [
    {
     "data": {
      "text/plain": [
       "6544102609733.714"
      ]
     },
     "execution_count": 85,
     "metadata": {},
     "output_type": "execute_result"
    }
   ],
   "source": [
    "tv_2003_res_emp_weight = tv_2003_res_emp_merged[\"Mutiplied Weighted\"].sum()\n",
    "tv_2003_res_emp_weight"
   ]
  },
  {
   "cell_type": "code",
   "execution_count": 86,
   "metadata": {},
   "outputs": [
    {
     "data": {
      "text/plain": [
       "123.0390813013073"
      ]
     },
     "execution_count": 86,
     "metadata": {},
     "output_type": "execute_result"
    }
   ],
   "source": [
    "tv_2003_res_emp_avg_minutes = tv_2003_res_emp_weight / all_2003_emp_weight\n",
    "tv_2003_res_emp_avg_minutes"
   ]
  },
  {
   "cell_type": "code",
   "execution_count": 87,
   "metadata": {},
   "outputs": [
    {
     "data": {
      "text/plain": [
       "2.0506513550217886"
      ]
     },
     "execution_count": 87,
     "metadata": {},
     "output_type": "execute_result"
    }
   ],
   "source": [
    "tv_2003_res_emp_avg_hr_per_day = tv_2003_res_emp_avg_minutes / 60\n",
    "tv_2003_res_emp_avg_hr_per_day"
   ]
  },
  {
   "cell_type": "markdown",
   "metadata": {},
   "source": [
    "### 2004 Television"
   ]
  },
  {
   "cell_type": "code",
   "execution_count": 88,
   "metadata": {},
   "outputs": [],
   "source": [
    "watch_tv = [\"120303\",\"120304\"]\n",
    "television = atus_2004_res_emp[atus_2004_res_emp[\"TRCODEP\"].isin(watch_tv)]\n",
    "\n",
    "tv_2004_res_emp = television.groupby([\"TUCASEID\"]).sum().filter([\"TUCASEID\", \"TUACTDUR24\"])\n",
    "tv_2004_res_emp_merged = pd.merge(tv_2004_res_emp, multi_resp, on =\"TUCASEID\").filter([\"TUCASEID\",\"TUACTDUR24\",\"TUFNWGTP\"])\n",
    "\n",
    "tv_2004_res_emp_merged[\"Mutiplied Weighted\"] = tv_2004_res_emp_merged[\"TUACTDUR24\"] * tv_2004_res_emp_merged[\"TUFNWGTP\"]"
   ]
  },
  {
   "cell_type": "code",
   "execution_count": 89,
   "metadata": {},
   "outputs": [
    {
     "data": {
      "text/plain": [
       "2.1109772602893178"
      ]
     },
     "execution_count": 89,
     "metadata": {},
     "output_type": "execute_result"
    }
   ],
   "source": [
    "tv_2004_res_emp_weight = tv_2004_res_emp_merged[\"Mutiplied Weighted\"].sum()\n",
    "\n",
    "tv_2004_res_emp_avg_minutes = tv_2004_res_emp_weight / all_2004_emp_weight\n",
    "\n",
    "tv_2004_res_emp_avg_hr_per_day = tv_2004_res_emp_avg_minutes / 60\n",
    "tv_2004_res_emp_avg_hr_per_day"
   ]
  },
  {
   "cell_type": "markdown",
   "metadata": {},
   "source": [
    "### 2005 Television"
   ]
  },
  {
   "cell_type": "code",
   "execution_count": 90,
   "metadata": {},
   "outputs": [],
   "source": [
    "watch_tv = [\"120303\",\"120304\"]\n",
    "television = atus_2005_res_emp[atus_2005_res_emp[\"TRCODEP\"].isin(watch_tv)]\n",
    "\n",
    "tv_2005_res_emp = television.groupby([\"TUCASEID\"]).sum().filter([\"TUCASEID\", \"TUACTDUR24\"])\n",
    "tv_2005_res_emp_merged = pd.merge(tv_2005_res_emp, multi_resp, on =\"TUCASEID\").filter([\"TUCASEID\",\"TUACTDUR24\",\"TUFNWGTP\"])\n",
    "\n",
    "tv_2005_res_emp_merged[\"Mutiplied Weighted\"] = tv_2005_res_emp_merged[\"TUACTDUR24\"] * tv_2005_res_emp_merged[\"TUFNWGTP\"]"
   ]
  },
  {
   "cell_type": "code",
   "execution_count": 91,
   "metadata": {},
   "outputs": [
    {
     "data": {
      "text/plain": [
       "2.067364027745159"
      ]
     },
     "execution_count": 91,
     "metadata": {},
     "output_type": "execute_result"
    }
   ],
   "source": [
    "tv_2005_res_emp_weight = tv_2005_res_emp_merged[\"Mutiplied Weighted\"].sum()\n",
    "\n",
    "tv_2005_res_emp_avg_minutes = tv_2005_res_emp_weight / all_2005_emp_weight\n",
    "\n",
    "tv_2005_res_emp_avg_hr_per_day = tv_2005_res_emp_avg_minutes / 60\n",
    "tv_2005_res_emp_avg_hr_per_day"
   ]
  },
  {
   "cell_type": "markdown",
   "metadata": {},
   "source": [
    "### 2006 Television "
   ]
  },
  {
   "cell_type": "code",
   "execution_count": 92,
   "metadata": {},
   "outputs": [],
   "source": [
    "watch_tv = [\"120303\",\"120304\"]\n",
    "television = atus_2006_res_emp[atus_2006_res_emp[\"TRCODEP\"].isin(watch_tv)]\n",
    "\n",
    "tv_2006_res_emp = television.groupby([\"TUCASEID\"]).sum().filter([\"TUCASEID\", \"TUACTDUR24\"])\n",
    "tv_2006_res_emp_merged = pd.merge(tv_2006_res_emp, multi_resp, on =\"TUCASEID\").filter([\"TUCASEID\",\"TUACTDUR24\",\"TUFNWGTP\"])\n",
    "\n",
    "tv_2006_res_emp_merged[\"Mutiplied Weighted\"] = tv_2006_res_emp_merged[\"TUACTDUR24\"] * tv_2006_res_emp_merged[\"TUFNWGTP\"]"
   ]
  },
  {
   "cell_type": "code",
   "execution_count": 93,
   "metadata": {},
   "outputs": [
    {
     "data": {
      "text/plain": [
       "2.039295165058429"
      ]
     },
     "execution_count": 93,
     "metadata": {},
     "output_type": "execute_result"
    }
   ],
   "source": [
    "tv_2006_res_emp_weight = tv_2006_res_emp_merged[\"Mutiplied Weighted\"].sum()\n",
    "\n",
    "tv_2006_res_emp_avg_minutes = tv_2006_res_emp_weight / all_2006_emp_weight\n",
    "\n",
    "tv_2006_res_emp_avg_hr_per_day = tv_2006_res_emp_avg_minutes / 60\n",
    "tv_2006_res_emp_avg_hr_per_day"
   ]
  },
  {
   "cell_type": "markdown",
   "metadata": {},
   "source": [
    "### 2007 Television "
   ]
  },
  {
   "cell_type": "code",
   "execution_count": 94,
   "metadata": {},
   "outputs": [],
   "source": [
    "watch_tv = [\"120303\",\"120304\"]\n",
    "television = atus_2007_res_emp[atus_2007_res_emp[\"TRCODEP\"].isin(watch_tv)]\n",
    "\n",
    "tv_2007_res_emp = television.groupby([\"TUCASEID\"]).sum().filter([\"TUCASEID\", \"TUACTDUR24\"])\n",
    "tv_2007_res_emp_merged = pd.merge(tv_2007_res_emp, multi_resp, on =\"TUCASEID\").filter([\"TUCASEID\",\"TUACTDUR24\",\"TUFNWGTP\"])\n",
    "\n",
    "tv_2007_res_emp_merged[\"Mutiplied Weighted\"] = tv_2007_res_emp_merged[\"TUACTDUR24\"] * tv_2007_res_emp_merged[\"TUFNWGTP\"]"
   ]
  },
  {
   "cell_type": "code",
   "execution_count": 95,
   "metadata": {},
   "outputs": [
    {
     "data": {
      "text/plain": [
       "2.08785700962462"
      ]
     },
     "execution_count": 95,
     "metadata": {},
     "output_type": "execute_result"
    }
   ],
   "source": [
    "tv_2007_res_emp_weight = tv_2007_res_emp_merged[\"Mutiplied Weighted\"].sum()\n",
    "\n",
    "tv_2007_res_emp_avg_minutes = tv_2007_res_emp_weight / all_2007_emp_weight\n",
    "\n",
    "tv_2007_res_emp_avg_hr_per_day = tv_2007_res_emp_avg_minutes / 60\n",
    "tv_2007_res_emp_avg_hr_per_day"
   ]
  },
  {
   "cell_type": "markdown",
   "metadata": {},
   "source": [
    "### 2008 Television "
   ]
  },
  {
   "cell_type": "code",
   "execution_count": 96,
   "metadata": {},
   "outputs": [],
   "source": [
    "watch_tv = [\"120303\",\"120304\"]\n",
    "television = atus_2008_res_emp[atus_2008_res_emp[\"TRCODEP\"].isin(watch_tv)]\n",
    "\n",
    "tv_2008_res_emp = television.groupby([\"TUCASEID\"]).sum().filter([\"TUCASEID\", \"TUACTDUR24\"])\n",
    "tv_2008_res_emp_merged = pd.merge(tv_2008_res_emp, multi_resp, on =\"TUCASEID\").filter([\"TUCASEID\",\"TUACTDUR24\",\"TUFNWGTP\"])\n",
    "\n",
    "tv_2008_res_emp_merged[\"Mutiplied Weighted\"] = tv_2008_res_emp_merged[\"TUACTDUR24\"] * tv_2008_res_emp_merged[\"TUFNWGTP\"]"
   ]
  },
  {
   "cell_type": "code",
   "execution_count": 97,
   "metadata": {},
   "outputs": [
    {
     "data": {
      "text/plain": [
       "2.195797732822891"
      ]
     },
     "execution_count": 97,
     "metadata": {},
     "output_type": "execute_result"
    }
   ],
   "source": [
    "tv_2008_res_emp_weight = tv_2008_res_emp_merged[\"Mutiplied Weighted\"].sum()\n",
    "\n",
    "tv_2008_res_emp_avg_minutes = tv_2008_res_emp_weight / all_2008_emp_weight\n",
    "\n",
    "tv_2008_res_emp_avg_hr_per_day = tv_2008_res_emp_avg_minutes / 60\n",
    "tv_2008_res_emp_avg_hr_per_day"
   ]
  },
  {
   "cell_type": "markdown",
   "metadata": {},
   "source": [
    "### 2009 Televison "
   ]
  },
  {
   "cell_type": "code",
   "execution_count": 98,
   "metadata": {},
   "outputs": [],
   "source": [
    "watch_tv = [\"120303\",\"120304\"]\n",
    "television = atus_2009_res_emp[atus_2009_res_emp[\"TRCODEP\"].isin(watch_tv)]\n",
    "\n",
    "tv_2009_res_emp = television.groupby([\"TUCASEID\"]).sum().filter([\"TUCASEID\", \"TUACTDUR24\"])\n",
    "tv_2009_res_emp_merged = pd.merge(tv_2009_res_emp, multi_resp, on =\"TUCASEID\").filter([\"TUCASEID\",\"TUACTDUR24\",\"TUFNWGTP\"])\n",
    "\n",
    "tv_2009_res_emp_merged[\"Mutiplied Weighted\"] = tv_2009_res_emp_merged[\"TUACTDUR24\"] * tv_2009_res_emp_merged[\"TUFNWGTP\"]"
   ]
  },
  {
   "cell_type": "code",
   "execution_count": 99,
   "metadata": {},
   "outputs": [
    {
     "data": {
      "text/plain": [
       "2.192936237737446"
      ]
     },
     "execution_count": 99,
     "metadata": {},
     "output_type": "execute_result"
    }
   ],
   "source": [
    "tv_2009_res_emp_weight = tv_2009_res_emp_merged[\"Mutiplied Weighted\"].sum()\n",
    "\n",
    "tv_2009_res_emp_avg_minutes = tv_2009_res_emp_weight / all_2009_emp_weight\n",
    "\n",
    "tv_2009_res_emp_avg_hr_per_day = tv_2009_res_emp_avg_minutes / 60\n",
    "tv_2009_res_emp_avg_hr_per_day"
   ]
  },
  {
   "cell_type": "markdown",
   "metadata": {},
   "source": [
    "### 2010 Television "
   ]
  },
  {
   "cell_type": "code",
   "execution_count": 100,
   "metadata": {},
   "outputs": [],
   "source": [
    "watch_tv = [\"120303\",\"120304\"]\n",
    "television = atus_2010_res_emp[atus_2010_res_emp[\"TRCODEP\"].isin(watch_tv)]\n",
    "\n",
    "tv_2010_res_emp = television.groupby([\"TUCASEID\"]).sum().filter([\"TUCASEID\", \"TUACTDUR24\"])\n",
    "tv_2010_res_emp_merged = pd.merge(tv_2010_res_emp, multi_resp, on =\"TUCASEID\").filter([\"TUCASEID\",\"TUACTDUR24\",\"TUFNWGTP\"])\n",
    "\n",
    "tv_2010_res_emp_merged[\"Mutiplied Weighted\"] = tv_2010_res_emp_merged[\"TUACTDUR24\"] * tv_2010_res_emp_merged[\"TUFNWGTP\"]"
   ]
  },
  {
   "cell_type": "code",
   "execution_count": 101,
   "metadata": {},
   "outputs": [
    {
     "data": {
      "text/plain": [
       "2.1269858523572736"
      ]
     },
     "execution_count": 101,
     "metadata": {},
     "output_type": "execute_result"
    }
   ],
   "source": [
    "tv_2010_res_emp_weight = tv_2010_res_emp_merged[\"Mutiplied Weighted\"].sum()\n",
    "\n",
    "tv_2010_res_emp_avg_minutes = tv_2010_res_emp_weight / all_2010_emp_weight\n",
    "\n",
    "tv_2010_res_emp_avg_hr_per_day = tv_2010_res_emp_avg_minutes / 60\n",
    "tv_2010_res_emp_avg_hr_per_day"
   ]
  },
  {
   "cell_type": "markdown",
   "metadata": {},
   "source": [
    "### 2011 Television "
   ]
  },
  {
   "cell_type": "code",
   "execution_count": 102,
   "metadata": {},
   "outputs": [],
   "source": [
    "watch_tv = [\"120303\",\"120304\"]\n",
    "television = atus_2011_res_emp[atus_2011_res_emp[\"TRCODEP\"].isin(watch_tv)]\n",
    "\n",
    "tv_2011_res_emp = television.groupby([\"TUCASEID\"]).sum().filter([\"TUCASEID\", \"TUACTDUR24\"])\n",
    "tv_2011_res_emp_merged = pd.merge(tv_2011_res_emp, multi_resp, on =\"TUCASEID\").filter([\"TUCASEID\",\"TUACTDUR24\",\"TUFNWGTP\"])\n",
    "\n",
    "tv_2011_res_emp_merged[\"Mutiplied Weighted\"] = tv_2011_res_emp_merged[\"TUACTDUR24\"] * tv_2011_res_emp_merged[\"TUFNWGTP\"]"
   ]
  },
  {
   "cell_type": "code",
   "execution_count": 103,
   "metadata": {},
   "outputs": [
    {
     "data": {
      "text/plain": [
       "2.135001597987184"
      ]
     },
     "execution_count": 103,
     "metadata": {},
     "output_type": "execute_result"
    }
   ],
   "source": [
    "tv_2011_res_emp_weight = tv_2011_res_emp_merged[\"Mutiplied Weighted\"].sum()\n",
    "\n",
    "tv_2011_res_emp_avg_minutes = tv_2011_res_emp_weight / all_2011_emp_weight\n",
    "\n",
    "tv_2011_res_emp_avg_hr_per_day = tv_2011_res_emp_avg_minutes / 60\n",
    "tv_2011_res_emp_avg_hr_per_day"
   ]
  },
  {
   "cell_type": "markdown",
   "metadata": {},
   "source": [
    "### 2012 Television"
   ]
  },
  {
   "cell_type": "code",
   "execution_count": 104,
   "metadata": {},
   "outputs": [],
   "source": [
    "watch_tv = [\"120303\",\"120304\"]\n",
    "television = atus_2012_res_emp[atus_2012_res_emp[\"TRCODEP\"].isin(watch_tv)]\n",
    "\n",
    "tv_2012_res_emp = television.groupby([\"TUCASEID\"]).sum().filter([\"TUCASEID\", \"TUACTDUR24\"])\n",
    "tv_2012_res_emp_merged = pd.merge(tv_2012_res_emp, multi_resp, on =\"TUCASEID\").filter([\"TUCASEID\",\"TUACTDUR24\",\"TUFNWGTP\"])\n",
    "\n",
    "tv_2012_res_emp_merged[\"Mutiplied Weighted\"] = tv_2012_res_emp_merged[\"TUACTDUR24\"] * tv_2012_res_emp_merged[\"TUFNWGTP\"]"
   ]
  },
  {
   "cell_type": "code",
   "execution_count": 105,
   "metadata": {},
   "outputs": [
    {
     "data": {
      "text/plain": [
       "2.231287263600931"
      ]
     },
     "execution_count": 105,
     "metadata": {},
     "output_type": "execute_result"
    }
   ],
   "source": [
    "tv_2012_res_emp_weight = tv_2012_res_emp_merged[\"Mutiplied Weighted\"].sum()\n",
    "\n",
    "tv_2012_res_emp_avg_minutes = tv_2012_res_emp_weight / all_2012_emp_weight\n",
    "\n",
    "tv_2012_res_emp_avg_hr_per_day = tv_2012_res_emp_avg_minutes / 60\n",
    "tv_2012_res_emp_avg_hr_per_day"
   ]
  },
  {
   "cell_type": "markdown",
   "metadata": {},
   "source": [
    "### 2013 Television "
   ]
  },
  {
   "cell_type": "code",
   "execution_count": 106,
   "metadata": {},
   "outputs": [],
   "source": [
    "watch_tv = [\"120303\",\"120304\"]\n",
    "television = atus_2013_res_emp[atus_2013_res_emp[\"TRCODEP\"].isin(watch_tv)]\n",
    "\n",
    "tv_2013_res_emp = television.groupby([\"TUCASEID\"]).sum().filter([\"TUCASEID\", \"TUACTDUR24\"])\n",
    "tv_2013_res_emp_merged = pd.merge(tv_2013_res_emp, multi_resp, on =\"TUCASEID\").filter([\"TUCASEID\",\"TUACTDUR24\",\"TUFNWGTP\"])\n",
    "\n",
    "tv_2013_res_emp_merged[\"Mutiplied Weighted\"] = tv_2013_res_emp_merged[\"TUACTDUR24\"] * tv_2013_res_emp_merged[\"TUFNWGTP\"]"
   ]
  },
  {
   "cell_type": "code",
   "execution_count": 107,
   "metadata": {},
   "outputs": [
    {
     "data": {
      "text/plain": [
       "2.0754542815673758"
      ]
     },
     "execution_count": 107,
     "metadata": {},
     "output_type": "execute_result"
    }
   ],
   "source": [
    "tv_2013_res_emp_weight = tv_2013_res_emp_merged[\"Mutiplied Weighted\"].sum()\n",
    "\n",
    "tv_2013_res_emp_avg_minutes = tv_2013_res_emp_weight / all_2013_emp_weight\n",
    "\n",
    "tv_2013_res_emp_avg_hr_per_day = tv_2013_res_emp_avg_minutes / 60\n",
    "tv_2013_res_emp_avg_hr_per_day"
   ]
  },
  {
   "cell_type": "markdown",
   "metadata": {},
   "source": [
    "### 2014 Television "
   ]
  },
  {
   "cell_type": "code",
   "execution_count": 108,
   "metadata": {},
   "outputs": [],
   "source": [
    "watch_tv = [\"120303\",\"120304\"]\n",
    "television = atus_2014_res_emp[atus_2014_res_emp[\"TRCODEP\"].isin(watch_tv)]\n",
    "\n",
    "tv_2014_res_emp = television.groupby([\"TUCASEID\"]).sum().filter([\"TUCASEID\", \"TUACTDUR24\"])\n",
    "tv_2014_res_emp_merged = pd.merge(tv_2014_res_emp, multi_resp, on =\"TUCASEID\").filter([\"TUCASEID\",\"TUACTDUR24\",\"TUFNWGTP\"])\n",
    "\n",
    "tv_2014_res_emp_merged[\"Mutiplied Weighted\"] = tv_2014_res_emp_merged[\"TUACTDUR24\"] * tv_2014_res_emp_merged[\"TUFNWGTP\"]"
   ]
  },
  {
   "cell_type": "code",
   "execution_count": 109,
   "metadata": {},
   "outputs": [
    {
     "data": {
      "text/plain": [
       "2.1590392547197634"
      ]
     },
     "execution_count": 109,
     "metadata": {},
     "output_type": "execute_result"
    }
   ],
   "source": [
    "tv_2014_res_emp_weight = tv_2014_res_emp_merged[\"Mutiplied Weighted\"].sum()\n",
    "\n",
    "tv_2014_res_emp_avg_minutes = tv_2014_res_emp_weight / all_2014_emp_weight\n",
    "\n",
    "tv_2014_res_emp_avg_hr_per_day = tv_2014_res_emp_avg_minutes / 60\n",
    "tv_2014_res_emp_avg_hr_per_day"
   ]
  },
  {
   "cell_type": "markdown",
   "metadata": {},
   "source": [
    "### 2015 Television "
   ]
  },
  {
   "cell_type": "code",
   "execution_count": 110,
   "metadata": {},
   "outputs": [],
   "source": [
    "watch_tv = [\"120303\",\"120304\"]\n",
    "television = atus_2015_res_emp[atus_2015_res_emp[\"TRCODEP\"].isin(watch_tv)]\n",
    "\n",
    "tv_2015_res_emp = television.groupby([\"TUCASEID\"]).sum().filter([\"TUCASEID\", \"TUACTDUR24\"])\n",
    "tv_2015_res_emp_merged = pd.merge(tv_2015_res_emp, multi_resp, on =\"TUCASEID\").filter([\"TUCASEID\",\"TUACTDUR24\",\"TUFNWGTP\"])\n",
    "\n",
    "tv_2015_res_emp_merged[\"Mutiplied Weighted\"] = tv_2015_res_emp_merged[\"TUACTDUR24\"] * tv_2015_res_emp_merged[\"TUFNWGTP\"]"
   ]
  },
  {
   "cell_type": "code",
   "execution_count": 111,
   "metadata": {},
   "outputs": [
    {
     "data": {
      "text/plain": [
       "2.116224047367439"
      ]
     },
     "execution_count": 111,
     "metadata": {},
     "output_type": "execute_result"
    }
   ],
   "source": [
    "tv_2015_res_emp_weight = tv_2015_res_emp_merged[\"Mutiplied Weighted\"].sum()\n",
    "\n",
    "tv_2015_res_emp_avg_minutes = tv_2015_res_emp_weight / all_2015_emp_weight\n",
    "\n",
    "tv_2015_res_emp_avg_hr_per_day = tv_2015_res_emp_avg_minutes / 60\n",
    "tv_2015_res_emp_avg_hr_per_day"
   ]
  },
  {
   "cell_type": "markdown",
   "metadata": {},
   "source": [
    "### 2016 Television"
   ]
  },
  {
   "cell_type": "code",
   "execution_count": 112,
   "metadata": {},
   "outputs": [],
   "source": [
    "watch_tv = [\"120303\",\"120304\"]\n",
    "television = atus_2016_res_emp[atus_2016_res_emp[\"TRCODEP\"].isin(watch_tv)]\n",
    "\n",
    "tv_2016_res_emp = television.groupby([\"TUCASEID\"]).sum().filter([\"TUCASEID\", \"TUACTDUR24\"])\n",
    "tv_2016_res_emp_merged = pd.merge(tv_2016_res_emp, multi_resp, on =\"TUCASEID\").filter([\"TUCASEID\",\"TUACTDUR24\",\"TUFNWGTP\"])\n",
    "\n",
    "tv_2016_res_emp_merged[\"Mutiplied Weighted\"] = tv_2016_res_emp_merged[\"TUACTDUR24\"] * tv_2016_res_emp_merged[\"TUFNWGTP\"]"
   ]
  },
  {
   "cell_type": "code",
   "execution_count": 113,
   "metadata": {},
   "outputs": [
    {
     "data": {
      "text/plain": [
       "2.069973741894652"
      ]
     },
     "execution_count": 113,
     "metadata": {},
     "output_type": "execute_result"
    }
   ],
   "source": [
    "tv_2016_res_emp_weight = tv_2016_res_emp_merged[\"Mutiplied Weighted\"].sum()\n",
    "\n",
    "tv_2016_res_emp_avg_minutes = tv_2016_res_emp_weight / all_2016_emp_weight\n",
    "\n",
    "tv_2016_res_emp_avg_hr_per_day = tv_2016_res_emp_avg_minutes / 60\n",
    "tv_2016_res_emp_avg_hr_per_day"
   ]
  },
  {
   "cell_type": "markdown",
   "metadata": {},
   "source": [
    "### 2017 Television "
   ]
  },
  {
   "cell_type": "code",
   "execution_count": 114,
   "metadata": {},
   "outputs": [],
   "source": [
    "watch_tv = [\"120303\",\"120304\"]\n",
    "television = atus_2017_res_emp[atus_2017_res_emp[\"TRCODEP\"].isin(watch_tv)]\n",
    "\n",
    "tv_2017_res_emp = television.groupby([\"TUCASEID\"]).sum().filter([\"TUCASEID\", \"TUACTDUR24\"])\n",
    "tv_2017_res_emp_merged = pd.merge(tv_2017_res_emp, multi_resp, on =\"TUCASEID\").filter([\"TUCASEID\",\"TUACTDUR24\",\"TUFNWGTP\"])\n",
    "\n",
    "tv_2017_res_emp_merged[\"Mutiplied Weighted\"] = tv_2017_res_emp_merged[\"TUACTDUR24\"] * tv_2017_res_emp_merged[\"TUFNWGTP\"]"
   ]
  },
  {
   "cell_type": "code",
   "execution_count": 115,
   "metadata": {},
   "outputs": [
    {
     "data": {
      "text/plain": [
       "2.0917497636798137"
      ]
     },
     "execution_count": 115,
     "metadata": {},
     "output_type": "execute_result"
    }
   ],
   "source": [
    "tv_2017_res_emp_weight = tv_2017_res_emp_merged[\"Mutiplied Weighted\"].sum()\n",
    "\n",
    "tv_2017_res_emp_avg_minutes = tv_2017_res_emp_weight / all_2017_emp_weight\n",
    "\n",
    "tv_2017_res_emp_avg_hr_per_day = tv_2017_res_emp_avg_minutes / 60\n",
    "tv_2017_res_emp_avg_hr_per_day"
   ]
  },
  {
   "cell_type": "markdown",
   "metadata": {},
   "source": [
    "### 2018 Television "
   ]
  },
  {
   "cell_type": "code",
   "execution_count": 116,
   "metadata": {},
   "outputs": [],
   "source": [
    "watch_tv = [\"120303\",\"120304\"]\n",
    "television = atus_2018_res_emp[atus_2018_res_emp[\"TRCODEP\"].isin(watch_tv)]\n",
    "\n",
    "tv_2018_res_emp = television.groupby([\"TUCASEID\"]).sum().filter([\"TUCASEID\", \"TUACTDUR24\"])\n",
    "tv_2018_res_emp_merged = pd.merge(tv_2018_res_emp, multi_resp, on =\"TUCASEID\").filter([\"TUCASEID\",\"TUACTDUR24\",\"TUFNWGTP\"])\n",
    "\n",
    "tv_2018_res_emp_merged[\"Mutiplied Weighted\"] = tv_2018_res_emp_merged[\"TUACTDUR24\"] * tv_2018_res_emp_merged[\"TUFNWGTP\"]"
   ]
  },
  {
   "cell_type": "code",
   "execution_count": 117,
   "metadata": {},
   "outputs": [
    {
     "data": {
      "text/plain": [
       "2.1066620923492705"
      ]
     },
     "execution_count": 117,
     "metadata": {},
     "output_type": "execute_result"
    }
   ],
   "source": [
    "tv_2018_res_emp_weight = tv_2018_res_emp_merged[\"Mutiplied Weighted\"].sum()\n",
    "\n",
    "tv_2018_res_emp_avg_minutes = tv_2018_res_emp_weight / all_2018_emp_weight\n",
    "\n",
    "tv_2018_res_emp_avg_hr_per_day = tv_2018_res_emp_avg_minutes / 60\n",
    "tv_2018_res_emp_avg_hr_per_day"
   ]
  },
  {
   "cell_type": "markdown",
   "metadata": {},
   "source": [
    "### 2019 Television"
   ]
  },
  {
   "cell_type": "code",
   "execution_count": 118,
   "metadata": {},
   "outputs": [],
   "source": [
    "watch_tv = [\"120303\",\"120304\"]\n",
    "television = atus_2019_res_emp[atus_2019_res_emp[\"TRCODEP\"].isin(watch_tv)]\n",
    "\n",
    "tv_2019_res_emp = television.groupby([\"TUCASEID\"]).sum().filter([\"TUCASEID\", \"TUACTDUR24\"])\n",
    "tv_2019_res_emp_merged = pd.merge(tv_2019_res_emp, multi_resp, on =\"TUCASEID\").filter([\"TUCASEID\",\"TUACTDUR24\",\"TUFNWGTP\"])\n",
    "\n",
    "tv_2019_res_emp_merged[\"Mutiplied Weighted\"] = tv_2019_res_emp_merged[\"TUACTDUR24\"] * tv_2019_res_emp_merged[\"TUFNWGTP\"]"
   ]
  },
  {
   "cell_type": "code",
   "execution_count": 119,
   "metadata": {},
   "outputs": [
    {
     "data": {
      "text/plain": [
       "2.0943981520203674"
      ]
     },
     "execution_count": 119,
     "metadata": {},
     "output_type": "execute_result"
    }
   ],
   "source": [
    "tv_2019_res_emp_weight = tv_2019_res_emp_merged[\"Mutiplied Weighted\"].sum()\n",
    "\n",
    "tv_2019_res_emp_avg_minutes = tv_2019_res_emp_weight / all_2019_emp_weight\n",
    "\n",
    "tv_2019_res_emp_avg_hr_per_day = tv_2019_res_emp_avg_minutes / 60\n",
    "tv_2019_res_emp_avg_hr_per_day"
   ]
  },
  {
   "cell_type": "markdown",
   "metadata": {},
   "source": [
    "### Television Regression "
   ]
  },
  {
   "cell_type": "markdown",
   "metadata": {},
   "source": [
    "#### 2003-2012 Regression"
   ]
  },
  {
   "cell_type": "code",
   "execution_count": 120,
   "metadata": {},
   "outputs": [
    {
     "data": {
      "text/plain": [
       "[array([748.48774458]),\n",
       " array([770.50670001]),\n",
       " array([754.58787013]),\n",
       " array([744.34273525]),\n",
       " array([762.06780851]),\n",
       " array([801.46617248]),\n",
       " array([800.42172677]),\n",
       " array([776.34983611]),\n",
       " array([779.27558327]),\n",
       " array([814.41985121])]"
      ]
     },
     "execution_count": 120,
     "metadata": {},
     "output_type": "execute_result"
    }
   ],
   "source": [
    "year = np.array([2003, 2004, 2005, 2006, 2007, 2008, 2009, 2010,2011,2012]).reshape((-1, 1))\n",
    "activity_hours_per_day = np.array([tv_2003_res_emp_avg_hr_per_day, tv_2004_res_emp_avg_hr_per_day, tv_2005_res_emp_avg_hr_per_day, tv_2006_res_emp_avg_hr_per_day, tv_2007_res_emp_avg_hr_per_day, tv_2008_res_emp_avg_hr_per_day, tv_2009_res_emp_avg_hr_per_day, tv_2010_res_emp_avg_hr_per_day, tv_2011_res_emp_avg_hr_per_day, tv_2012_res_emp_avg_hr_per_day]).reshape((-1, 1))\n",
    "\n",
    "activity_hours_per_yr = [i * 365 for i in activity_hours_per_day]\n",
    "activity_hours_per_yr"
   ]
  },
  {
   "cell_type": "code",
   "execution_count": 121,
   "metadata": {},
   "outputs": [
    {
     "data": {
      "image/png": "[encoded data removed]",
      "text/plain": [
       "<Figure size 432x288 with 1 Axes>"
      ]
     },
     "metadata": {
      "needs_background": "light"
     },
     "output_type": "display_data"
    }
   ],
   "source": [
    "x = year\n",
    "y = activity_hours_per_yr\n",
    "x, y = np.array(x), np.array(y)\n",
    "\n",
    "model = LinearRegression().fit(x, y)\n",
    "\n",
    "y_pred = model.predict(x)  \n",
    "\n",
    "plt.scatter(x, y)\n",
    "plt.plot(x, y_pred, color='red')\n",
    "plt.show()"
   ]
  },
  {
   "cell_type": "code",
   "execution_count": 122,
   "metadata": {},
   "outputs": [
    {
     "data": {
      "text/plain": [
       "0.5531717171182995"
      ]
     },
     "execution_count": 122,
     "metadata": {},
     "output_type": "execute_result"
    }
   ],
   "source": [
    "coefficient_of_determination = model.score(x,y) #R sqaure value \n",
    "coefficient_of_determination"
   ]
  },
  {
   "cell_type": "code",
   "execution_count": 123,
   "metadata": {},
   "outputs": [
    {
     "data": {
      "text/plain": [
       "array([[5.88615946]])"
      ]
     },
     "execution_count": 123,
     "metadata": {},
     "output_type": "execute_result"
    }
   ],
   "source": [
    "tv_res_emp_2003_2012_slope = model.coef_\n",
    "tv_res_emp_2003_2012_slope"
   ]
  },
  {
   "cell_type": "markdown",
   "metadata": {},
   "source": [
    "#### 2003-2019 Regression"
   ]
  },
  {
   "cell_type": "code",
   "execution_count": 124,
   "metadata": {},
   "outputs": [
    {
     "data": {
      "text/plain": [
       "[array([748.48774458]),\n",
       " array([770.50670001]),\n",
       " array([754.58787013]),\n",
       " array([744.34273525]),\n",
       " array([762.06780851]),\n",
       " array([801.46617248]),\n",
       " array([800.42172677]),\n",
       " array([776.34983611]),\n",
       " array([779.27558327]),\n",
       " array([814.41985121]),\n",
       " array([757.54081277]),\n",
       " array([788.04932797]),\n",
       " array([772.42177729]),\n",
       " array([755.54041579]),\n",
       " array([763.48866374]),\n",
       " array([768.93166371]),\n",
       " array([764.45532549])]"
      ]
     },
     "execution_count": 124,
     "metadata": {},
     "output_type": "execute_result"
    }
   ],
   "source": [
    "year = np.array([2003, 2004, 2005, 2006, 2007, 2008, 2009, 2010,2011,2012,2013,2014,2015,2016,2017,2018,2019]).reshape((-1, 1))\n",
    "activity_hours_per_day = np.array([tv_2003_res_emp_avg_hr_per_day, tv_2004_res_emp_avg_hr_per_day, tv_2005_res_emp_avg_hr_per_day, tv_2006_res_emp_avg_hr_per_day, tv_2007_res_emp_avg_hr_per_day, tv_2008_res_emp_avg_hr_per_day, tv_2009_res_emp_avg_hr_per_day, tv_2010_res_emp_avg_hr_per_day, tv_2011_res_emp_avg_hr_per_day, tv_2012_res_emp_avg_hr_per_day, tv_2013_res_emp_avg_hr_per_day, tv_2014_res_emp_avg_hr_per_day, tv_2015_res_emp_avg_hr_per_day, tv_2016_res_emp_avg_hr_per_day, tv_2017_res_emp_avg_hr_per_day, tv_2018_res_emp_avg_hr_per_day, tv_2019_res_emp_avg_hr_per_day]).reshape((-1, 1))\n",
    "\n",
    "activity_hours_per_yr = [i * 365 for i in activity_hours_per_day]\n",
    "activity_hours_per_yr"
   ]
  },
  {
   "cell_type": "code",
   "execution_count": 125,
   "metadata": {},
   "outputs": [
    {
     "data": {
      "image/png": "[encoded data removed]",
      "text/plain": [
       "<Figure size 432x288 with 1 Axes>"
      ]
     },
     "metadata": {
      "needs_background": "light"
     },
     "output_type": "display_data"
    }
   ],
   "source": [
    "x = year\n",
    "y = activity_hours_per_yr\n",
    "x, y = np.array(x), np.array(y)\n",
    "\n",
    "model = LinearRegression().fit(x, y)\n",
    "\n",
    "y_pred = model.predict(x)  \n",
    "\n",
    "plt.scatter(x, y)\n",
    "plt.plot(x, y_pred, color='red')\n",
    "plt.show() #maybe not linear regression, multiviate regression might be best "
   ]
  },
  {
   "cell_type": "code",
   "execution_count": 126,
   "metadata": {},
   "outputs": [
    {
     "data": {
      "text/plain": [
       "0.012861951569073549"
      ]
     },
     "execution_count": 126,
     "metadata": {},
     "output_type": "execute_result"
    }
   ],
   "source": [
    "coefficient_of_determination = model.score(x,y) #R sqaure value \n",
    "coefficient_of_determination"
   ]
  },
  {
   "cell_type": "code",
   "execution_count": 127,
   "metadata": {},
   "outputs": [
    {
     "data": {
      "text/plain": [
       "array([[0.44015217]])"
      ]
     },
     "execution_count": 127,
     "metadata": {},
     "output_type": "execute_result"
    }
   ],
   "source": [
    "tv_res_emp_2003_2019_slope = model.coef_\n",
    "tv_res_emp_2003_2019_slope"
   ]
  },
  {
   "cell_type": "markdown",
   "metadata": {},
   "source": [
    "### 2003-2019 Sleeping "
   ]
  },
  {
   "cell_type": "code",
   "execution_count": 128,
   "metadata": {},
   "outputs": [],
   "source": [
    "#filter to only include 2003 survey (CASEID begins witn 2003)\n",
    "atus_2003_emp = multi_merged_employed[multi_merged_employed[\"TUCASEID\"].apply(str).str.startswith(\"2003\")]\n",
    "#atus_2003"
   ]
  },
  {
   "cell_type": "code",
   "execution_count": 129,
   "metadata": {},
   "outputs": [],
   "source": [
    "#010101 is Sleeping\n",
    "#TEWHERE = -1 is not surveyed due to confidential info and too pesonal i.e sleeping \n",
    "#all sleeping is assumed to be done at home \n",
    "sleeping_2003_emp = atus_2003_emp[atus_2003_emp[\"TRCODEP\"].apply(str).str.startswith(\"010101\")]\n",
    "#sleeping"
   ]
  },
  {
   "cell_type": "code",
   "execution_count": 130,
   "metadata": {},
   "outputs": [],
   "source": [
    "sleep_2003_emp = sleeping_2003_emp.groupby([\"TUCASEID\"]).sum().filter([\"TUCASEID\", \"TUACTDUR24\"])\n",
    "#sleep"
   ]
  },
  {
   "cell_type": "code",
   "execution_count": 131,
   "metadata": {},
   "outputs": [],
   "source": [
    "sleep_2003_emp_merge = pd.merge(sleep_2003_emp, multi_resp, on =\"TUCASEID\")\n",
    "sleep_2003_emp_merge = sleep_2003_emp_merge.filter([\"TUCASEID\",\"TUACTDUR24\",\"TUYEAR\",\"TUFNWGTP\"])\n",
    "#sleep_merge"
   ]
  },
  {
   "cell_type": "code",
   "execution_count": 132,
   "metadata": {},
   "outputs": [],
   "source": [
    "sleep_2003_emp_merge[\"Multiplied Weight\"] = sleep_2003_emp_merge[\"TUACTDUR24\"] * sleep_2003_emp_merge[\"TUFNWGTP\"]\n",
    "#sleep_2003_emp_merge"
   ]
  },
  {
   "cell_type": "code",
   "execution_count": 133,
   "metadata": {},
   "outputs": [
    {
     "data": {
      "text/plain": [
       "26307987320203.17"
      ]
     },
     "execution_count": 133,
     "metadata": {},
     "output_type": "execute_result"
    }
   ],
   "source": [
    "sleep_2003_emp_weight = sleep_2003_emp_merge[\"Multiplied Weight\"].sum()\n",
    "sleep_2003_emp_weight"
   ]
  },
  {
   "cell_type": "code",
   "execution_count": 134,
   "metadata": {},
   "outputs": [
    {
     "data": {
      "text/plain": [
       "8.243836177908873"
      ]
     },
     "execution_count": 134,
     "metadata": {},
     "output_type": "execute_result"
    }
   ],
   "source": [
    "sleeping_2003_emp_avg_hr_per_day = sleep_2003_emp_weight.sum() / all_2003_emp_weight /60\n",
    "sleeping_2003_emp_avg_hr_per_day"
   ]
  },
  {
   "cell_type": "markdown",
   "metadata": {},
   "source": [
    "### 2004 Sleeping"
   ]
  },
  {
   "cell_type": "code",
   "execution_count": 135,
   "metadata": {},
   "outputs": [],
   "source": [
    "atus_2004_emp = multi_merged_employed[multi_merged_employed[\"TUCASEID\"].apply(str).str.startswith(\"2004\")]\n",
    "\n",
    "sleeping_2004_emp = atus_2004_emp[atus_2004_emp[\"TRCODEP\"].apply(str).str.startswith(\"010101\")]\n",
    "sleep_2004_emp = sleeping_2004_emp.groupby([\"TUCASEID\"]).sum().filter([\"TUCASEID\", \"TUACTDUR24\"])\n",
    "\n",
    "sleep_2004_emp_merge = pd.merge(sleep_2004_emp, multi_resp, on =\"TUCASEID\").filter([\"TUCASEID\",\"TUACTDUR24\",\"TUYEAR\",\"TUFNWGTP\"])\n",
    "sleep_2004_emp_merge[\"Multiplied Weight\"] = sleep_2004_emp_merge[\"TUACTDUR24\"] * sleep_2004_emp_merge[\"TUFNWGTP\"]\n",
    "#sleep_2004_emp_merge"
   ]
  },
  {
   "cell_type": "code",
   "execution_count": 136,
   "metadata": {},
   "outputs": [
    {
     "data": {
      "text/plain": [
       "8.186287134811623"
      ]
     },
     "execution_count": 136,
     "metadata": {},
     "output_type": "execute_result"
    }
   ],
   "source": [
    "sleep_2004_emp_weight = sleep_2004_emp_merge[\"Multiplied Weight\"].sum()\n",
    "\n",
    "sleeping_2004_emp_avg_hr_per_day = sleep_2004_emp_weight.sum() / all_2004_emp_weight /60\n",
    "sleeping_2004_emp_avg_hr_per_day"
   ]
  },
  {
   "cell_type": "markdown",
   "metadata": {},
   "source": [
    "### 2005 Sleeping"
   ]
  },
  {
   "cell_type": "code",
   "execution_count": 137,
   "metadata": {},
   "outputs": [],
   "source": [
    "atus_2005_emp = multi_merged_employed[multi_merged_employed[\"TUCASEID\"].apply(str).str.startswith(\"2005\")]\n",
    "\n",
    "sleeping_2005_emp = atus_2005_emp[atus_2005_emp[\"TRCODEP\"].apply(str).str.startswith(\"010101\")]\n",
    "sleep_2005_emp = sleeping_2005_emp.groupby([\"TUCASEID\"]).sum().filter([\"TUCASEID\", \"TUACTDUR24\"])\n",
    "\n",
    "sleep_2005_emp_merge = pd.merge(sleep_2005_emp, multi_resp, on =\"TUCASEID\").filter([\"TUCASEID\",\"TUACTDUR24\",\"TUYEAR\",\"TUFNWGTP\"])\n",
    "sleep_2005_emp_merge[\"Multiplied Weight\"] = sleep_2005_emp_merge[\"TUACTDUR24\"] * sleep_2005_emp_merge[\"TUFNWGTP\"]"
   ]
  },
  {
   "cell_type": "code",
   "execution_count": 138,
   "metadata": {},
   "outputs": [
    {
     "data": {
      "text/plain": [
       "8.294006584954253"
      ]
     },
     "execution_count": 138,
     "metadata": {},
     "output_type": "execute_result"
    }
   ],
   "source": [
    "sleep_2005_emp_weight = sleep_2005_emp_merge[\"Multiplied Weight\"].sum()\n",
    "\n",
    "sleeping_2005_emp_avg_hr_per_day = sleep_2005_emp_weight.sum() / all_2005_emp_weight /60\n",
    "sleeping_2005_emp_avg_hr_per_day"
   ]
  },
  {
   "cell_type": "markdown",
   "metadata": {},
   "source": [
    "### Sleeping 2006"
   ]
  },
  {
   "cell_type": "code",
   "execution_count": 139,
   "metadata": {},
   "outputs": [],
   "source": [
    "atus_2006_emp = multi_merged_employed[multi_merged_employed[\"TUCASEID\"].apply(str).str.startswith(\"2006\")]\n",
    "\n",
    "sleeping_2006_emp = atus_2006_emp[atus_2006_emp[\"TRCODEP\"].apply(str).str.startswith(\"010101\")]\n",
    "sleep_2006_emp = sleeping_2006_emp.groupby([\"TUCASEID\"]).sum().filter([\"TUCASEID\", \"TUACTDUR24\"])\n",
    "\n",
    "sleep_2006_emp_merge = pd.merge(sleep_2006_emp, multi_resp, on =\"TUCASEID\").filter([\"TUCASEID\",\"TUACTDUR24\",\"TUYEAR\",\"TUFNWGTP\"])\n",
    "sleep_2006_emp_merge[\"Multiplied Weight\"] = sleep_2006_emp_merge[\"TUACTDUR24\"] * sleep_2006_emp_merge[\"TUFNWGTP\"]"
   ]
  },
  {
   "cell_type": "code",
   "execution_count": 140,
   "metadata": {},
   "outputs": [
    {
     "data": {
      "text/plain": [
       "8.285432130084683"
      ]
     },
     "execution_count": 140,
     "metadata": {},
     "output_type": "execute_result"
    }
   ],
   "source": [
    "sleep_2006_emp_weight = sleep_2006_emp_merge[\"Multiplied Weight\"].sum()\n",
    "\n",
    "sleeping_2006_emp_avg_hr_per_day = sleep_2006_emp_weight.sum() / all_2006_emp_weight /60\n",
    "sleeping_2006_emp_avg_hr_per_day"
   ]
  },
  {
   "cell_type": "markdown",
   "metadata": {},
   "source": [
    "### Sleeping 2007"
   ]
  },
  {
   "cell_type": "code",
   "execution_count": 141,
   "metadata": {},
   "outputs": [],
   "source": [
    "atus_2007_emp = multi_merged_employed[multi_merged_employed[\"TUCASEID\"].apply(str).str.startswith(\"2007\")]\n",
    "\n",
    "sleeping_2007_emp = atus_2007_emp[atus_2007_emp[\"TRCODEP\"].apply(str).str.startswith(\"010101\")]\n",
    "sleep_2007_emp = sleeping_2007_emp.groupby([\"TUCASEID\"]).sum().filter([\"TUCASEID\", \"TUACTDUR24\"])\n",
    "\n",
    "sleep_2007_emp_merge = pd.merge(sleep_2007_emp, multi_resp, on =\"TUCASEID\").filter([\"TUCASEID\",\"TUACTDUR24\",\"TUYEAR\",\"TUFNWGTP\"])\n",
    "sleep_2007_emp_merge[\"Multiplied Weight\"] = sleep_2007_emp_merge[\"TUACTDUR24\"] * sleep_2007_emp_merge[\"TUFNWGTP\"]"
   ]
  },
  {
   "cell_type": "code",
   "execution_count": 142,
   "metadata": {},
   "outputs": [
    {
     "data": {
      "text/plain": [
       "8.211234165830327"
      ]
     },
     "execution_count": 142,
     "metadata": {},
     "output_type": "execute_result"
    }
   ],
   "source": [
    "sleep_2007_emp_weight = sleep_2007_emp_merge[\"Multiplied Weight\"].sum()\n",
    "\n",
    "sleeping_2007_emp_avg_hr_per_day = sleep_2007_emp_weight.sum() / all_2007_emp_weight /60\n",
    "sleeping_2007_emp_avg_hr_per_day"
   ]
  },
  {
   "cell_type": "markdown",
   "metadata": {},
   "source": [
    "### Sleeping 2008"
   ]
  },
  {
   "cell_type": "code",
   "execution_count": 143,
   "metadata": {},
   "outputs": [],
   "source": [
    "atus_2008_emp = multi_merged_employed[multi_merged_employed[\"TUCASEID\"].apply(str).str.startswith(\"2008\")]\n",
    "\n",
    "sleeping_2008_emp = atus_2008_emp[atus_2008_emp[\"TRCODEP\"].apply(str).str.startswith(\"010101\")]\n",
    "sleep_2008_emp = sleeping_2008_emp.groupby([\"TUCASEID\"]).sum().filter([\"TUCASEID\", \"TUACTDUR24\"])\n",
    "\n",
    "sleep_2008_emp_merge = pd.merge(sleep_2008_emp, multi_resp, on =\"TUCASEID\").filter([\"TUCASEID\",\"TUACTDUR24\",\"TUYEAR\",\"TUFNWGTP\"])\n",
    "sleep_2008_emp_merge[\"Multiplied Weight\"] = sleep_2008_emp_merge[\"TUACTDUR24\"] * sleep_2008_emp_merge[\"TUFNWGTP\"]"
   ]
  },
  {
   "cell_type": "code",
   "execution_count": 144,
   "metadata": {},
   "outputs": [
    {
     "data": {
      "text/plain": [
       "8.264721099036251"
      ]
     },
     "execution_count": 144,
     "metadata": {},
     "output_type": "execute_result"
    }
   ],
   "source": [
    "sleep_2008_emp_weight = sleep_2008_emp_merge[\"Multiplied Weight\"].sum()\n",
    "\n",
    "sleeping_2008_emp_avg_hr_per_day = sleep_2008_emp_weight.sum() / all_2008_emp_weight /60\n",
    "sleeping_2008_emp_avg_hr_per_day"
   ]
  },
  {
   "cell_type": "markdown",
   "metadata": {},
   "source": [
    "### Sleeping 2009"
   ]
  },
  {
   "cell_type": "code",
   "execution_count": 145,
   "metadata": {},
   "outputs": [],
   "source": [
    "atus_2009_emp = multi_merged_employed[multi_merged_employed[\"TUCASEID\"].apply(str).str.startswith(\"2009\")]\n",
    "\n",
    "sleeping_2009_emp = atus_2009_emp[atus_2009_emp[\"TRCODEP\"].apply(str).str.startswith(\"010101\")]\n",
    "sleep_2009_emp = sleeping_2009_emp.groupby([\"TUCASEID\"]).sum().filter([\"TUCASEID\", \"TUACTDUR24\"])\n",
    "\n",
    "sleep_2009_emp_merge = pd.merge(sleep_2009_emp, multi_resp, on =\"TUCASEID\").filter([\"TUCASEID\",\"TUACTDUR24\",\"TUYEAR\",\"TUFNWGTP\"])\n",
    "sleep_2009_emp_merge[\"Multiplied Weight\"] = sleep_2009_emp_merge[\"TUACTDUR24\"] * sleep_2009_emp_merge[\"TUFNWGTP\"]"
   ]
  },
  {
   "cell_type": "code",
   "execution_count": 146,
   "metadata": {},
   "outputs": [
    {
     "data": {
      "text/plain": [
       "8.314999011102454"
      ]
     },
     "execution_count": 146,
     "metadata": {},
     "output_type": "execute_result"
    }
   ],
   "source": [
    "sleep_2009_emp_weight = sleep_2009_emp_merge[\"Multiplied Weight\"].sum()\n",
    "\n",
    "sleeping_2009_emp_avg_hr_per_day = sleep_2009_emp_weight.sum() / all_2009_emp_weight /60\n",
    "sleeping_2009_emp_avg_hr_per_day"
   ]
  },
  {
   "cell_type": "markdown",
   "metadata": {},
   "source": [
    "### Sleeping 2010"
   ]
  },
  {
   "cell_type": "code",
   "execution_count": 147,
   "metadata": {},
   "outputs": [],
   "source": [
    "atus_2010_emp = multi_merged_employed[multi_merged_employed[\"TUCASEID\"].apply(str).str.startswith(\"2010\")]\n",
    "\n",
    "sleeping_2010_emp = atus_2010_emp[atus_2010_emp[\"TRCODEP\"].apply(str).str.startswith(\"010101\")]\n",
    "sleep_2010_emp = sleeping_2010_emp.groupby([\"TUCASEID\"]).sum().filter([\"TUCASEID\", \"TUACTDUR24\"])\n",
    "\n",
    "sleep_2010_emp_merge = pd.merge(sleep_2010_emp, multi_resp, on =\"TUCASEID\").filter([\"TUCASEID\",\"TUACTDUR24\",\"TUYEAR\",\"TUFNWGTP\"])\n",
    "sleep_2010_emp_merge[\"Multiplied Weight\"] = sleep_2010_emp_merge[\"TUACTDUR24\"] * sleep_2010_emp_merge[\"TUFNWGTP\"]"
   ]
  },
  {
   "cell_type": "code",
   "execution_count": 148,
   "metadata": {},
   "outputs": [
    {
     "data": {
      "text/plain": [
       "8.254470400644756"
      ]
     },
     "execution_count": 148,
     "metadata": {},
     "output_type": "execute_result"
    }
   ],
   "source": [
    "sleep_2010_emp_weight = sleep_2010_emp_merge[\"Multiplied Weight\"].sum()\n",
    "\n",
    "sleeping_2010_emp_avg_hr_per_day = sleep_2010_emp_weight.sum() / all_2010_emp_weight /60\n",
    "sleeping_2010_emp_avg_hr_per_day"
   ]
  },
  {
   "cell_type": "markdown",
   "metadata": {},
   "source": [
    "### Sleeping 2011"
   ]
  },
  {
   "cell_type": "code",
   "execution_count": 149,
   "metadata": {},
   "outputs": [],
   "source": [
    "atus_2011_emp = multi_merged_employed[multi_merged_employed[\"TUCASEID\"].apply(str).str.startswith(\"2011\")]\n",
    "\n",
    "sleeping_2011_emp = atus_2011_emp[atus_2011_emp[\"TRCODEP\"].apply(str).str.startswith(\"010101\")]\n",
    "sleep_2011_emp = sleeping_2011_emp.groupby([\"TUCASEID\"]).sum().filter([\"TUCASEID\", \"TUACTDUR24\"])\n",
    "\n",
    "sleep_2011_emp_merge = pd.merge(sleep_2011_emp, multi_resp, on =\"TUCASEID\").filter([\"TUCASEID\",\"TUACTDUR24\",\"TUYEAR\",\"TUFNWGTP\"])\n",
    "sleep_2011_emp_merge[\"Multiplied Weight\"] = sleep_2011_emp_merge[\"TUACTDUR24\"] * sleep_2011_emp_merge[\"TUFNWGTP\"]"
   ]
  },
  {
   "cell_type": "code",
   "execution_count": 150,
   "metadata": {},
   "outputs": [
    {
     "data": {
      "text/plain": [
       "8.325902975589477"
      ]
     },
     "execution_count": 150,
     "metadata": {},
     "output_type": "execute_result"
    }
   ],
   "source": [
    "sleep_2011_emp_weight = sleep_2011_emp_merge[\"Multiplied Weight\"].sum()\n",
    "\n",
    "sleeping_2011_emp_avg_hr_per_day = sleep_2011_emp_weight.sum() / all_2011_emp_weight /60\n",
    "sleeping_2011_emp_avg_hr_per_day"
   ]
  },
  {
   "cell_type": "markdown",
   "metadata": {},
   "source": [
    "### Sleeping 2012"
   ]
  },
  {
   "cell_type": "code",
   "execution_count": 151,
   "metadata": {},
   "outputs": [],
   "source": [
    "atus_2012_emp = multi_merged_employed[multi_merged_employed[\"TUCASEID\"].apply(str).str.startswith(\"2012\")]\n",
    "\n",
    "sleeping_2012_emp = atus_2012_emp[atus_2012_emp[\"TRCODEP\"].apply(str).str.startswith(\"010101\")]\n",
    "sleep_2012_emp = sleeping_2012_emp.groupby([\"TUCASEID\"]).sum().filter([\"TUCASEID\", \"TUACTDUR24\"])\n",
    "\n",
    "sleep_2012_emp_merge = pd.merge(sleep_2012_emp, multi_resp, on =\"TUCASEID\").filter([\"TUCASEID\",\"TUACTDUR24\",\"TUYEAR\",\"TUFNWGTP\"])\n",
    "sleep_2012_emp_merge[\"Multiplied Weight\"] = sleep_2012_emp_merge[\"TUACTDUR24\"] * sleep_2012_emp_merge[\"TUFNWGTP\"]"
   ]
  },
  {
   "cell_type": "code",
   "execution_count": 152,
   "metadata": {},
   "outputs": [
    {
     "data": {
      "text/plain": [
       "8.346469233914052"
      ]
     },
     "execution_count": 152,
     "metadata": {},
     "output_type": "execute_result"
    }
   ],
   "source": [
    "sleep_2012_emp_weight = sleep_2012_emp_merge[\"Multiplied Weight\"].sum()\n",
    "\n",
    "sleeping_2012_emp_avg_hr_per_day = sleep_2012_emp_weight.sum() / all_2012_emp_weight /60\n",
    "sleeping_2012_emp_avg_hr_per_day"
   ]
  },
  {
   "cell_type": "markdown",
   "metadata": {},
   "source": [
    "### Sleeping 2013"
   ]
  },
  {
   "cell_type": "code",
   "execution_count": 153,
   "metadata": {},
   "outputs": [],
   "source": [
    "atus_2013_emp = multi_merged_employed[multi_merged_employed[\"TUCASEID\"].apply(str).str.startswith(\"2013\")]\n",
    "\n",
    "sleeping_2013_emp = atus_2013_emp[atus_2013_emp[\"TRCODEP\"].apply(str).str.startswith(\"010101\")]\n",
    "sleep_2013_emp = sleeping_2013_emp.groupby([\"TUCASEID\"]).sum().filter([\"TUCASEID\", \"TUACTDUR24\"])\n",
    "\n",
    "sleep_2013_emp_merge = pd.merge(sleep_2013_emp, multi_resp, on =\"TUCASEID\").filter([\"TUCASEID\",\"TUACTDUR24\",\"TUYEAR\",\"TUFNWGTP\"])\n",
    "sleep_2013_emp_merge[\"Multiplied Weight\"] = sleep_2013_emp_merge[\"TUACTDUR24\"] * sleep_2013_emp_merge[\"TUFNWGTP\"]"
   ]
  },
  {
   "cell_type": "code",
   "execution_count": 154,
   "metadata": {},
   "outputs": [
    {
     "data": {
      "text/plain": [
       "8.379678273642932"
      ]
     },
     "execution_count": 154,
     "metadata": {},
     "output_type": "execute_result"
    }
   ],
   "source": [
    "sleep_2013_emp_weight = sleep_2013_emp_merge[\"Multiplied Weight\"].sum()\n",
    "\n",
    "sleeping_2013_emp_avg_hr_per_day = sleep_2013_emp_weight.sum() / all_2013_emp_weight /60\n",
    "sleeping_2013_emp_avg_hr_per_day"
   ]
  },
  {
   "cell_type": "markdown",
   "metadata": {},
   "source": [
    "### Sleeping 2014"
   ]
  },
  {
   "cell_type": "code",
   "execution_count": 155,
   "metadata": {},
   "outputs": [],
   "source": [
    "atus_2014_emp = multi_merged_employed[multi_merged_employed[\"TUCASEID\"].apply(str).str.startswith(\"2014\")]\n",
    "\n",
    "sleeping_2014_emp = atus_2014_emp[atus_2014_emp[\"TRCODEP\"].apply(str).str.startswith(\"010101\")]\n",
    "sleep_2014_emp = sleeping_2014_emp.groupby([\"TUCASEID\"]).sum().filter([\"TUCASEID\", \"TUACTDUR24\"])\n",
    "\n",
    "sleep_2014_emp_merge = pd.merge(sleep_2014_emp, multi_resp, on =\"TUCASEID\").filter([\"TUCASEID\",\"TUACTDUR24\",\"TUYEAR\",\"TUFNWGTP\"])\n",
    "sleep_2014_emp_merge[\"Multiplied Weight\"] = sleep_2014_emp_merge[\"TUACTDUR24\"] * sleep_2014_emp_merge[\"TUFNWGTP\"]"
   ]
  },
  {
   "cell_type": "code",
   "execution_count": 156,
   "metadata": {},
   "outputs": [
    {
     "data": {
      "text/plain": [
       "8.419490515283176"
      ]
     },
     "execution_count": 156,
     "metadata": {},
     "output_type": "execute_result"
    }
   ],
   "source": [
    "sleep_2014_emp_weight = sleep_2014_emp_merge[\"Multiplied Weight\"].sum()\n",
    "\n",
    "sleeping_2014_emp_avg_hr_per_day = sleep_2014_emp_weight.sum() / all_2014_emp_weight /60\n",
    "sleeping_2014_emp_avg_hr_per_day"
   ]
  },
  {
   "cell_type": "markdown",
   "metadata": {},
   "source": [
    "### Sleeping 2015"
   ]
  },
  {
   "cell_type": "code",
   "execution_count": 157,
   "metadata": {},
   "outputs": [],
   "source": [
    "atus_2015_emp = multi_merged_employed[multi_merged_employed[\"TUCASEID\"].apply(str).str.startswith(\"2015\")]\n",
    "\n",
    "sleeping_2015_emp = atus_2015_emp[atus_2015_emp[\"TRCODEP\"].apply(str).str.startswith(\"010101\")]\n",
    "sleep_2015_emp = sleeping_2015_emp.groupby([\"TUCASEID\"]).sum().filter([\"TUCASEID\", \"TUACTDUR24\"])\n",
    "\n",
    "sleep_2015_emp_merge = pd.merge(sleep_2015_emp, multi_resp, on =\"TUCASEID\").filter([\"TUCASEID\",\"TUACTDUR24\",\"TUYEAR\",\"TUFNWGTP\"])\n",
    "sleep_2015_emp_merge[\"Multiplied Weight\"] = sleep_2015_emp_merge[\"TUACTDUR24\"] * sleep_2015_emp_merge[\"TUFNWGTP\"]"
   ]
  },
  {
   "cell_type": "code",
   "execution_count": 158,
   "metadata": {},
   "outputs": [
    {
     "data": {
      "text/plain": [
       "8.462134202281257"
      ]
     },
     "execution_count": 158,
     "metadata": {},
     "output_type": "execute_result"
    }
   ],
   "source": [
    "sleep_2015_emp_weight = sleep_2015_emp_merge[\"Multiplied Weight\"].sum()\n",
    "\n",
    "sleeping_2015_emp_avg_hr_per_day = sleep_2015_emp_weight.sum() / all_2015_emp_weight /60\n",
    "sleeping_2015_emp_avg_hr_per_day"
   ]
  },
  {
   "cell_type": "markdown",
   "metadata": {},
   "source": [
    "### Sleeping 2016"
   ]
  },
  {
   "cell_type": "code",
   "execution_count": 159,
   "metadata": {},
   "outputs": [],
   "source": [
    "atus_2016_emp = multi_merged_employed[multi_merged_employed[\"TUCASEID\"].apply(str).str.startswith(\"2016\")]\n",
    "\n",
    "sleeping_2016_emp = atus_2016_emp[atus_2016_emp[\"TRCODEP\"].apply(str).str.startswith(\"010101\")]\n",
    "sleep_2016_emp = sleeping_2016_emp.groupby([\"TUCASEID\"]).sum().filter([\"TUCASEID\", \"TUACTDUR24\"])\n",
    "\n",
    "sleep_2016_emp_merge = pd.merge(sleep_2016_emp, multi_resp, on =\"TUCASEID\").filter([\"TUCASEID\",\"TUACTDUR24\",\"TUYEAR\",\"TUFNWGTP\"])\n",
    "sleep_2016_emp_merge[\"Multiplied Weight\"] = sleep_2016_emp_merge[\"TUACTDUR24\"] * sleep_2016_emp_merge[\"TUFNWGTP\"]"
   ]
  },
  {
   "cell_type": "code",
   "execution_count": 160,
   "metadata": {},
   "outputs": [
    {
     "data": {
      "text/plain": [
       "8.44333573671128"
      ]
     },
     "execution_count": 160,
     "metadata": {},
     "output_type": "execute_result"
    }
   ],
   "source": [
    "sleep_2016_emp_weight = sleep_2016_emp_merge[\"Multiplied Weight\"].sum()\n",
    "\n",
    "sleeping_2016_emp_avg_hr_per_day = sleep_2016_emp_weight.sum() / all_2016_emp_weight /60\n",
    "sleeping_2016_emp_avg_hr_per_day"
   ]
  },
  {
   "cell_type": "markdown",
   "metadata": {},
   "source": [
    "### Sleeping 2017"
   ]
  },
  {
   "cell_type": "code",
   "execution_count": 161,
   "metadata": {},
   "outputs": [],
   "source": [
    "atus_2017_emp = multi_merged_employed[multi_merged_employed[\"TUCASEID\"].apply(str).str.startswith(\"2017\")]\n",
    "\n",
    "sleeping_2017_emp = atus_2017_emp[atus_2017_emp[\"TRCODEP\"].apply(str).str.startswith(\"010101\")]\n",
    "sleep_2017_emp = sleeping_2017_emp.groupby([\"TUCASEID\"]).sum().filter([\"TUCASEID\", \"TUACTDUR24\"])\n",
    "\n",
    "sleep_2017_emp_merge = pd.merge(sleep_2017_emp, multi_resp, on =\"TUCASEID\").filter([\"TUCASEID\",\"TUACTDUR24\",\"TUYEAR\",\"TUFNWGTP\"])\n",
    "sleep_2017_emp_merge[\"Multiplied Weight\"] = sleep_2017_emp_merge[\"TUACTDUR24\"] * sleep_2017_emp_merge[\"TUFNWGTP\"]"
   ]
  },
  {
   "cell_type": "code",
   "execution_count": 162,
   "metadata": {},
   "outputs": [
    {
     "data": {
      "text/plain": [
       "8.458351236684376"
      ]
     },
     "execution_count": 162,
     "metadata": {},
     "output_type": "execute_result"
    }
   ],
   "source": [
    "sleep_2017_emp_weight = sleep_2017_emp_merge[\"Multiplied Weight\"].sum()\n",
    "\n",
    "sleeping_2017_emp_avg_hr_per_day = sleep_2017_emp_weight.sum() / all_2017_emp_weight /60\n",
    "sleeping_2017_emp_avg_hr_per_day"
   ]
  },
  {
   "cell_type": "markdown",
   "metadata": {},
   "source": [
    "### Sleeping 2018"
   ]
  },
  {
   "cell_type": "code",
   "execution_count": 163,
   "metadata": {},
   "outputs": [],
   "source": [
    "atus_2018_emp = multi_merged_employed[multi_merged_employed[\"TUCASEID\"].apply(str).str.startswith(\"2018\")]\n",
    "\n",
    "sleeping_2018_emp = atus_2018_emp[atus_2018_emp[\"TRCODEP\"].apply(str).str.startswith(\"010101\")]\n",
    "sleep_2018_emp = sleeping_2018_emp.groupby([\"TUCASEID\"]).sum().filter([\"TUCASEID\", \"TUACTDUR24\"])\n",
    "\n",
    "sleep_2018_emp_merge = pd.merge(sleep_2018_emp, multi_resp, on =\"TUCASEID\").filter([\"TUCASEID\",\"TUACTDUR24\",\"TUYEAR\",\"TUFNWGTP\"])\n",
    "sleep_2018_emp_merge[\"Multiplied Weight\"] = sleep_2018_emp_merge[\"TUACTDUR24\"] * sleep_2018_emp_merge[\"TUFNWGTP\"]"
   ]
  },
  {
   "cell_type": "code",
   "execution_count": 164,
   "metadata": {},
   "outputs": [
    {
     "data": {
      "text/plain": [
       "8.440480228130172"
      ]
     },
     "execution_count": 164,
     "metadata": {},
     "output_type": "execute_result"
    }
   ],
   "source": [
    "sleep_2018_emp_weight = sleep_2018_emp_merge[\"Multiplied Weight\"].sum()\n",
    "\n",
    "sleeping_2018_emp_avg_hr_per_day = sleep_2018_emp_weight.sum() / all_2018_emp_weight /60\n",
    "sleeping_2018_emp_avg_hr_per_day"
   ]
  },
  {
   "cell_type": "markdown",
   "metadata": {},
   "source": [
    "### Sleeping 2019"
   ]
  },
  {
   "cell_type": "code",
   "execution_count": 165,
   "metadata": {},
   "outputs": [],
   "source": [
    "atus_2019_emp = multi_merged_employed[multi_merged_employed[\"TUCASEID\"].apply(str).str.startswith(\"2019\")]\n",
    "\n",
    "sleeping_2019_emp = atus_2019_emp[atus_2019_emp[\"TRCODEP\"].apply(str).str.startswith(\"010101\")]\n",
    "sleep_2019_emp = sleeping_2019_emp.groupby([\"TUCASEID\"]).sum().filter([\"TUCASEID\", \"TUACTDUR24\"])\n",
    "\n",
    "sleep_2019_emp_merge = pd.merge(sleep_2019_emp, multi_resp, on =\"TUCASEID\").filter([\"TUCASEID\",\"TUACTDUR24\",\"TUYEAR\",\"TUFNWGTP\"])\n",
    "sleep_2019_emp_merge[\"Multiplied Weight\"] = sleep_2019_emp_merge[\"TUACTDUR24\"] * sleep_2019_emp_merge[\"TUFNWGTP\"]"
   ]
  },
  {
   "cell_type": "code",
   "execution_count": 166,
   "metadata": {},
   "outputs": [
    {
     "data": {
      "text/plain": [
       "8.490851580015663"
      ]
     },
     "execution_count": 166,
     "metadata": {},
     "output_type": "execute_result"
    }
   ],
   "source": [
    "sleep_2019_emp_weight = sleep_2019_emp_merge[\"Multiplied Weight\"].sum()\n",
    "\n",
    "sleeping_2019_emp_avg_hr_per_day = sleep_2019_emp_weight.sum() / all_2019_emp_weight /60\n",
    "sleeping_2019_emp_avg_hr_per_day"
   ]
  },
  {
   "cell_type": "markdown",
   "metadata": {},
   "source": [
    "### Sleeping Regression"
   ]
  },
  {
   "cell_type": "markdown",
   "metadata": {},
   "source": [
    "#### 2003-2012 Sleeping Regression "
   ]
  },
  {
   "cell_type": "code",
   "execution_count": 167,
   "metadata": {},
   "outputs": [
    {
     "data": {
      "text/plain": [
       "[array([3009.00020494]),\n",
       " array([2987.99480421]),\n",
       " array([3027.31240351]),\n",
       " array([3024.18272748]),\n",
       " array([2997.10047053]),\n",
       " array([3016.62320115]),\n",
       " array([3034.97463905]),\n",
       " array([3012.88169624]),\n",
       " array([3038.95458609]),\n",
       " array([3046.46127038])]"
      ]
     },
     "execution_count": 167,
     "metadata": {},
     "output_type": "execute_result"
    }
   ],
   "source": [
    "year = np.array([2003, 2004, 2005, 2006, 2007, 2008, 2009, 2010,2011,2012]).reshape((-1, 1))\n",
    "activity_hours_per_day = np.array([sleeping_2003_emp_avg_hr_per_day, sleeping_2004_emp_avg_hr_per_day, sleeping_2005_emp_avg_hr_per_day, sleeping_2006_emp_avg_hr_per_day, sleeping_2007_emp_avg_hr_per_day, sleeping_2008_emp_avg_hr_per_day, sleeping_2009_emp_avg_hr_per_day, sleeping_2010_emp_avg_hr_per_day, sleeping_2011_emp_avg_hr_per_day, sleeping_2012_emp_avg_hr_per_day]).reshape((-1, 1))\n",
    "\n",
    "activity_hours_per_yr = [i * 365 for i in activity_hours_per_day]\n",
    "activity_hours_per_yr"
   ]
  },
  {
   "cell_type": "code",
   "execution_count": 168,
   "metadata": {},
   "outputs": [
    {
     "data": {
      "image/png": "[encoded data removed]",
      "text/plain": [
       "<Figure size 432x288 with 1 Axes>"
      ]
     },
     "metadata": {
      "needs_background": "light"
     },
     "output_type": "display_data"
    }
   ],
   "source": [
    "x = year\n",
    "y = activity_hours_per_yr\n",
    "x, y = np.array(x), np.array(y)\n",
    "\n",
    "model = LinearRegression().fit(x, y)\n",
    "\n",
    "y_pred = model.predict(x)  \n",
    "\n",
    "plt.scatter(x, y)\n",
    "plt.plot(x, y_pred, color='red')\n",
    "plt.show()"
   ]
  },
  {
   "cell_type": "code",
   "execution_count": 169,
   "metadata": {},
   "outputs": [
    {
     "data": {
      "text/plain": [
       "0.4457912917709401"
      ]
     },
     "execution_count": 169,
     "metadata": {},
     "output_type": "execute_result"
    }
   ],
   "source": [
    "coefficient_of_determination = model.score(x,y) #R sqaure value \n",
    "coefficient_of_determination"
   ]
  },
  {
   "cell_type": "code",
   "execution_count": 170,
   "metadata": {},
   "outputs": [
    {
     "data": {
      "text/plain": [
       "array([[4.08250298]])"
      ]
     },
     "execution_count": 170,
     "metadata": {},
     "output_type": "execute_result"
    }
   ],
   "source": [
    "sleeping_res_emp_2003_2012_slope = model.coef_\n",
    "sleeping_res_emp_2003_2012_slope"
   ]
  },
  {
   "cell_type": "markdown",
   "metadata": {},
   "source": [
    "#### 2003-2019 Sleeping Regression"
   ]
  },
  {
   "cell_type": "code",
   "execution_count": 171,
   "metadata": {},
   "outputs": [],
   "source": [
    "year = np.array([2003, 2004, 2005, 2006, 2007, 2008, 2009, 2010,2011,2012,2013,2014,2015,2016,2017,2018,2019]).reshape((-1, 1))\n",
    "activity_hours_per_day = np.array([sleeping_2003_emp_avg_hr_per_day, sleeping_2004_emp_avg_hr_per_day, sleeping_2005_emp_avg_hr_per_day, sleeping_2006_emp_avg_hr_per_day, sleeping_2007_emp_avg_hr_per_day, sleeping_2008_emp_avg_hr_per_day, sleeping_2009_emp_avg_hr_per_day, sleeping_2010_emp_avg_hr_per_day, sleeping_2011_emp_avg_hr_per_day, sleeping_2012_emp_avg_hr_per_day, sleeping_2013_emp_avg_hr_per_day, sleeping_2014_emp_avg_hr_per_day, sleeping_2015_emp_avg_hr_per_day, sleeping_2016_emp_avg_hr_per_day, sleeping_2017_emp_avg_hr_per_day, sleeping_2018_emp_avg_hr_per_day, sleeping_2019_emp_avg_hr_per_day]).reshape((-1, 1))\n",
    "\n",
    "activity_hours_per_yr = [i * 365 for i in activity_hours_per_day]\n",
    "#activity_hours_per_yr"
   ]
  },
  {
   "cell_type": "code",
   "execution_count": 172,
   "metadata": {},
   "outputs": [
    {
     "data": {
      "image/png": "[encoded data removed]",
      "text/plain": [
       "<Figure size 432x288 with 1 Axes>"
      ]
     },
     "metadata": {
      "needs_background": "light"
     },
     "output_type": "display_data"
    }
   ],
   "source": [
    "x = year\n",
    "y = activity_hours_per_yr\n",
    "x, y = np.array(x), np.array(y)\n",
    "\n",
    "model = LinearRegression().fit(x, y)\n",
    "\n",
    "y_pred = model.predict(x)  \n",
    "\n",
    "plt.scatter(x, y)\n",
    "plt.plot(x, y_pred, color='red')\n",
    "plt.show()"
   ]
  },
  {
   "cell_type": "code",
   "execution_count": 173,
   "metadata": {},
   "outputs": [
    {
     "data": {
      "text/plain": [
       "0.8596302009058292"
      ]
     },
     "execution_count": 173,
     "metadata": {},
     "output_type": "execute_result"
    }
   ],
   "source": [
    "coefficient_of_determination = model.score(x,y) #R sqaure value \n",
    "coefficient_of_determination"
   ]
  },
  {
   "cell_type": "code",
   "execution_count": 174,
   "metadata": {},
   "outputs": [
    {
     "data": {
      "text/plain": [
       "array([[6.45936078]])"
      ]
     },
     "execution_count": 174,
     "metadata": {},
     "output_type": "execute_result"
    }
   ],
   "source": [
    "sleeping_res_emp_2003_2019_slope = model.coef_\n",
    "sleeping_res_emp_2003_2019_slope"
   ]
  },
  {
   "cell_type": "markdown",
   "metadata": {},
   "source": [
    "## 2003-2004 Food and Drink Preparation Residential - Employed"
   ]
  },
  {
   "cell_type": "markdown",
   "metadata": {},
   "source": [
    "### 2003 Food and Drink Preparation"
   ]
  },
  {
   "cell_type": "code",
   "execution_count": 175,
   "metadata": {},
   "outputs": [],
   "source": [
    "#020201 is Food and Drink Preparation\n",
    "food_2003_res_emp = atus_2003_res_emp.loc[atus_2003_res_emp[\"TRCODEP\"] == \"020201\"]"
   ]
  },
  {
   "cell_type": "code",
   "execution_count": 176,
   "metadata": {},
   "outputs": [],
   "source": [
    "food_2003_res_emp = food_2003_res_emp.groupby([\"TUCASEID\"]).sum().filter([\"TUCASEID\", \"TUACTDUR24\"])\n",
    "food_2003_res_emp_merged = pd.merge(food_2003_res_emp, multi_resp, on =\"TUCASEID\").filter([\"TUCASEID\",\"TUACTDUR24\",\"TUFNWGTP\"])\n",
    "#food_2003_merged"
   ]
  },
  {
   "cell_type": "code",
   "execution_count": 177,
   "metadata": {},
   "outputs": [],
   "source": [
    "food_2003_res_emp_merged[\"Mutiplied Weighted\"] = food_2003_res_emp_merged[\"TUACTDUR24\"] * food_2003_res_emp_merged[\"TUFNWGTP\"]\n",
    "#food_2003_merged"
   ]
  },
  {
   "cell_type": "code",
   "execution_count": 178,
   "metadata": {},
   "outputs": [
    {
     "data": {
      "text/plain": [
       "993492594967.4374"
      ]
     },
     "execution_count": 178,
     "metadata": {},
     "output_type": "execute_result"
    }
   ],
   "source": [
    "food_2003_res_emp_weight = food_2003_res_emp_merged[\"Mutiplied Weighted\"].sum()\n",
    "food_2003_res_emp_weight"
   ]
  },
  {
   "cell_type": "code",
   "execution_count": 179,
   "metadata": {},
   "outputs": [
    {
     "data": {
      "text/plain": [
       "0.31131952806543606"
      ]
     },
     "execution_count": 179,
     "metadata": {},
     "output_type": "execute_result"
    }
   ],
   "source": [
    "food_2003_res_emp_avg_hr_per_day = food_2003_res_emp_weight / all_2003_emp_weight /60\n",
    "food_2003_res_emp_avg_hr_per_day"
   ]
  },
  {
   "cell_type": "markdown",
   "metadata": {},
   "source": [
    "### 2004 Food and Drink Preparation"
   ]
  },
  {
   "cell_type": "code",
   "execution_count": 180,
   "metadata": {},
   "outputs": [],
   "source": [
    "food_2004_res_emp = atus_2004_res_emp.loc[atus_2004_res_emp[\"TRCODEP\"] == \"020201\"]\n",
    "\n",
    "food_2004_res_emp = food_2004_res_emp.groupby([\"TUCASEID\"]).sum().filter([\"TUCASEID\", \"TUACTDUR24\"])\n",
    "food_2004_res_emp_merged = pd.merge(food_2004_res_emp, multi_resp, on =\"TUCASEID\").filter([\"TUCASEID\",\"TUACTDUR24\",\"TUFNWGTP\"])\n",
    "\n",
    "food_2004_res_emp_merged[\"Mutiplied Weighted\"] = food_2004_res_emp_merged[\"TUACTDUR24\"] * food_2004_res_emp_merged[\"TUFNWGTP\"]"
   ]
  },
  {
   "cell_type": "code",
   "execution_count": 181,
   "metadata": {},
   "outputs": [
    {
     "data": {
      "text/plain": [
       "0.3016482064830671"
      ]
     },
     "execution_count": 181,
     "metadata": {},
     "output_type": "execute_result"
    }
   ],
   "source": [
    "food_2004_res_emp_weight = food_2004_res_emp_merged[\"Mutiplied Weighted\"].sum()\n",
    "\n",
    "food_2004_res_emp_avg_hr_per_day = food_2004_res_emp_weight / all_2004_emp_weight /60\n",
    "food_2004_res_emp_avg_hr_per_day"
   ]
  },
  {
   "cell_type": "markdown",
   "metadata": {},
   "source": [
    "### 2005 Food and Drink Preparation"
   ]
  },
  {
   "cell_type": "code",
   "execution_count": 182,
   "metadata": {},
   "outputs": [],
   "source": [
    "food_2005_res_emp = atus_2005_res_emp.loc[atus_2005_res_emp[\"TRCODEP\"] == \"020201\"]\n",
    "\n",
    "food_2005_res_emp = food_2005_res_emp.groupby([\"TUCASEID\"]).sum().filter([\"TUCASEID\", \"TUACTDUR24\"])\n",
    "food_2005_res_emp_merged = pd.merge(food_2005_res_emp, multi_resp, on =\"TUCASEID\").filter([\"TUCASEID\",\"TUACTDUR24\",\"TUFNWGTP\"])\n",
    "\n",
    "food_2005_res_emp_merged[\"Mutiplied Weighted\"] = food_2005_res_emp_merged[\"TUACTDUR24\"] * food_2005_res_emp_merged[\"TUFNWGTP\"]"
   ]
  },
  {
   "cell_type": "code",
   "execution_count": 183,
   "metadata": {},
   "outputs": [
    {
     "data": {
      "text/plain": [
       "0.30791273554744786"
      ]
     },
     "execution_count": 183,
     "metadata": {},
     "output_type": "execute_result"
    }
   ],
   "source": [
    "food_2005_res_emp_weight = food_2005_res_emp_merged[\"Mutiplied Weighted\"].sum()\n",
    "\n",
    "food_2005_res_emp_avg_hr_per_day = food_2005_res_emp_weight / all_2005_emp_weight /60\n",
    "food_2005_res_emp_avg_hr_per_day"
   ]
  },
  {
   "cell_type": "markdown",
   "metadata": {},
   "source": [
    "### 2006 Food and Drink Preparation"
   ]
  },
  {
   "cell_type": "code",
   "execution_count": 184,
   "metadata": {},
   "outputs": [],
   "source": [
    "food_2006_res_emp = atus_2006_res_emp.loc[atus_2006_res_emp[\"TRCODEP\"] == \"020201\"]\n",
    "\n",
    "food_2006_res_emp = food_2006_res_emp.groupby([\"TUCASEID\"]).sum().filter([\"TUCASEID\", \"TUACTDUR24\"])\n",
    "food_2006_res_emp_merged = pd.merge(food_2006_res_emp, multi_resp, on =\"TUCASEID\").filter([\"TUCASEID\",\"TUACTDUR24\",\"TUFNWGTP\"])\n",
    "\n",
    "food_2006_res_emp_merged[\"Mutiplied Weighted\"] = food_2006_res_emp_merged[\"TUACTDUR24\"] * food_2006_res_emp_merged[\"TUFNWGTP\"]"
   ]
  },
  {
   "cell_type": "code",
   "execution_count": 185,
   "metadata": {},
   "outputs": [
    {
     "data": {
      "text/plain": [
       "0.3158219140433619"
      ]
     },
     "execution_count": 185,
     "metadata": {},
     "output_type": "execute_result"
    }
   ],
   "source": [
    "food_2006_res_emp_weight = food_2006_res_emp_merged[\"Mutiplied Weighted\"].sum()\n",
    "\n",
    "food_2006_res_emp_avg_hr_per_day = food_2006_res_emp_weight / all_2006_emp_weight /60\n",
    "food_2006_res_emp_avg_hr_per_day"
   ]
  },
  {
   "cell_type": "markdown",
   "metadata": {},
   "source": [
    "### 2007 Food and Drink Preparation"
   ]
  },
  {
   "cell_type": "code",
   "execution_count": 186,
   "metadata": {},
   "outputs": [],
   "source": [
    "food_2007_res_emp = atus_2007_res_emp.loc[atus_2007_res_emp[\"TRCODEP\"] == \"020201\"]\n",
    "\n",
    "food_2007_res_emp = food_2007_res_emp.groupby([\"TUCASEID\"]).sum().filter([\"TUCASEID\", \"TUACTDUR24\"])\n",
    "food_2007_res_emp_merged = pd.merge(food_2007_res_emp, multi_resp, on =\"TUCASEID\").filter([\"TUCASEID\",\"TUACTDUR24\",\"TUFNWGTP\"])\n",
    "\n",
    "food_2007_res_emp_merged[\"Mutiplied Weighted\"] = food_2007_res_emp_merged[\"TUACTDUR24\"] * food_2007_res_emp_merged[\"TUFNWGTP\"]"
   ]
  },
  {
   "cell_type": "code",
   "execution_count": 187,
   "metadata": {},
   "outputs": [
    {
     "data": {
      "text/plain": [
       "0.32483993062103245"
      ]
     },
     "execution_count": 187,
     "metadata": {},
     "output_type": "execute_result"
    }
   ],
   "source": [
    "food_2007_res_emp_weight = food_2007_res_emp_merged[\"Mutiplied Weighted\"].sum()\n",
    "\n",
    "food_2007_res_emp_avg_hr_per_day = food_2007_res_emp_weight / all_2007_emp_weight /60\n",
    "food_2007_res_emp_avg_hr_per_day"
   ]
  },
  {
   "cell_type": "markdown",
   "metadata": {},
   "source": [
    "### 2008 Food and Drink Preparation"
   ]
  },
  {
   "cell_type": "code",
   "execution_count": 188,
   "metadata": {},
   "outputs": [],
   "source": [
    "food_2008_res_emp = atus_2008_res_emp.loc[atus_2008_res_emp[\"TRCODEP\"] == \"020201\"]\n",
    "\n",
    "food_2008_res_emp = food_2008_res_emp.groupby([\"TUCASEID\"]).sum().filter([\"TUCASEID\", \"TUACTDUR24\"])\n",
    "food_2008_res_emp_merged = pd.merge(food_2008_res_emp, multi_resp, on =\"TUCASEID\").filter([\"TUCASEID\",\"TUACTDUR24\",\"TUFNWGTP\"])\n",
    "\n",
    "food_2008_res_emp_merged[\"Mutiplied Weighted\"] = food_2008_res_emp_merged[\"TUACTDUR24\"] * food_2008_res_emp_merged[\"TUFNWGTP\"]"
   ]
  },
  {
   "cell_type": "code",
   "execution_count": 189,
   "metadata": {},
   "outputs": [
    {
     "data": {
      "text/plain": [
       "0.3347016521414819"
      ]
     },
     "execution_count": 189,
     "metadata": {},
     "output_type": "execute_result"
    }
   ],
   "source": [
    "food_2008_res_emp_weight = food_2008_res_emp_merged[\"Mutiplied Weighted\"].sum()\n",
    "\n",
    "food_2008_res_emp_avg_hr_per_day = food_2008_res_emp_weight / all_2008_emp_weight /60\n",
    "food_2008_res_emp_avg_hr_per_day"
   ]
  },
  {
   "cell_type": "markdown",
   "metadata": {},
   "source": [
    "### 2009 Food and Drink Preparation"
   ]
  },
  {
   "cell_type": "code",
   "execution_count": 190,
   "metadata": {},
   "outputs": [],
   "source": [
    "food_2009_res_emp = atus_2009_res_emp.loc[atus_2009_res_emp[\"TRCODEP\"] == \"020201\"]\n",
    "\n",
    "food_2009_res_emp = food_2009_res_emp.groupby([\"TUCASEID\"]).sum().filter([\"TUCASEID\", \"TUACTDUR24\"])\n",
    "food_2009_res_emp_merged = pd.merge(food_2009_res_emp, multi_resp, on =\"TUCASEID\").filter([\"TUCASEID\",\"TUACTDUR24\",\"TUFNWGTP\"])\n",
    "\n",
    "food_2009_res_emp_merged[\"Mutiplied Weighted\"] = food_2009_res_emp_merged[\"TUACTDUR24\"] * food_2009_res_emp_merged[\"TUFNWGTP\"]"
   ]
  },
  {
   "cell_type": "code",
   "execution_count": 191,
   "metadata": {},
   "outputs": [
    {
     "data": {
      "text/plain": [
       "0.3439123648990766"
      ]
     },
     "execution_count": 191,
     "metadata": {},
     "output_type": "execute_result"
    }
   ],
   "source": [
    "food_2009_res_emp_weight = food_2009_res_emp_merged[\"Mutiplied Weighted\"].sum()\n",
    "\n",
    "food_2009_res_emp_avg_hr_per_day = food_2009_res_emp_weight / all_2009_emp_weight /60\n",
    "food_2009_res_emp_avg_hr_per_day"
   ]
  },
  {
   "cell_type": "markdown",
   "metadata": {},
   "source": [
    "### 2010 Food and Drink Preparation"
   ]
  },
  {
   "cell_type": "code",
   "execution_count": 192,
   "metadata": {},
   "outputs": [],
   "source": [
    "food_2010_res_emp = atus_2010_res_emp.loc[atus_2010_res_emp[\"TRCODEP\"] == \"020201\"]\n",
    "\n",
    "food_2010_res_emp = food_2010_res_emp.groupby([\"TUCASEID\"]).sum().filter([\"TUCASEID\", \"TUACTDUR24\"])\n",
    "food_2010_res_emp_merged = pd.merge(food_2010_res_emp, multi_resp, on =\"TUCASEID\").filter([\"TUCASEID\",\"TUACTDUR24\",\"TUFNWGTP\"])\n",
    "\n",
    "food_2010_res_emp_merged[\"Mutiplied Weighted\"] = food_2010_res_emp_merged[\"TUACTDUR24\"] * food_2010_res_emp_merged[\"TUFNWGTP\"]"
   ]
  },
  {
   "cell_type": "code",
   "execution_count": 193,
   "metadata": {},
   "outputs": [
    {
     "data": {
      "text/plain": [
       "0.35658420888024106"
      ]
     },
     "execution_count": 193,
     "metadata": {},
     "output_type": "execute_result"
    }
   ],
   "source": [
    "food_2010_res_emp_weight = food_2010_res_emp_merged[\"Mutiplied Weighted\"].sum()\n",
    "\n",
    "food_2010_res_emp_avg_hr_per_day = food_2010_res_emp_weight / all_2010_emp_weight /60\n",
    "food_2010_res_emp_avg_hr_per_day"
   ]
  },
  {
   "cell_type": "markdown",
   "metadata": {},
   "source": [
    "### 2011 Food and Drink Preparation"
   ]
  },
  {
   "cell_type": "code",
   "execution_count": 194,
   "metadata": {},
   "outputs": [],
   "source": [
    "food_2011_res_emp = atus_2011_res_emp.loc[atus_2011_res_emp[\"TRCODEP\"] == \"020201\"]\n",
    "\n",
    "food_2011_res_emp = food_2011_res_emp.groupby([\"TUCASEID\"]).sum().filter([\"TUCASEID\", \"TUACTDUR24\"])\n",
    "food_2011_res_emp_merged = pd.merge(food_2011_res_emp, multi_resp, on =\"TUCASEID\").filter([\"TUCASEID\",\"TUACTDUR24\",\"TUFNWGTP\"])\n",
    "\n",
    "food_2011_res_emp_merged[\"Mutiplied Weighted\"] = food_2011_res_emp_merged[\"TUACTDUR24\"] * food_2011_res_emp_merged[\"TUFNWGTP\"]"
   ]
  },
  {
   "cell_type": "code",
   "execution_count": 195,
   "metadata": {},
   "outputs": [
    {
     "data": {
      "text/plain": [
       "0.35376864927363"
      ]
     },
     "execution_count": 195,
     "metadata": {},
     "output_type": "execute_result"
    }
   ],
   "source": [
    "food_2011_res_emp_weight = food_2011_res_emp_merged[\"Mutiplied Weighted\"].sum()\n",
    "\n",
    "food_2011_res_emp_avg_hr_per_day = food_2011_res_emp_weight / all_2011_emp_weight /60\n",
    "food_2011_res_emp_avg_hr_per_day"
   ]
  },
  {
   "cell_type": "markdown",
   "metadata": {},
   "source": [
    "### 2012 Food and Drink Preparation"
   ]
  },
  {
   "cell_type": "code",
   "execution_count": 196,
   "metadata": {},
   "outputs": [],
   "source": [
    "food_2012_res_emp = atus_2012_res_emp.loc[atus_2012_res_emp[\"TRCODEP\"] == \"020201\"]\n",
    "\n",
    "food_2012_res_emp = food_2012_res_emp.groupby([\"TUCASEID\"]).sum().filter([\"TUCASEID\", \"TUACTDUR24\"])\n",
    "food_2012_res_emp_merged = pd.merge(food_2012_res_emp, multi_resp, on =\"TUCASEID\").filter([\"TUCASEID\",\"TUACTDUR24\",\"TUFNWGTP\"])\n",
    "\n",
    "food_2012_res_emp_merged[\"Mutiplied Weighted\"] = food_2012_res_emp_merged[\"TUACTDUR24\"] * food_2012_res_emp_merged[\"TUFNWGTP\"]"
   ]
  },
  {
   "cell_type": "code",
   "execution_count": 197,
   "metadata": {},
   "outputs": [
    {
     "data": {
      "text/plain": [
       "0.3404759572738179"
      ]
     },
     "execution_count": 197,
     "metadata": {},
     "output_type": "execute_result"
    }
   ],
   "source": [
    "food_2012_res_emp_weight = food_2012_res_emp_merged[\"Mutiplied Weighted\"].sum()\n",
    "\n",
    "food_2012_res_emp_avg_hr_per_day = food_2012_res_emp_weight / all_2012_emp_weight /60\n",
    "food_2012_res_emp_avg_hr_per_day"
   ]
  },
  {
   "cell_type": "markdown",
   "metadata": {},
   "source": [
    "### 2013 Food and Drink Preparation"
   ]
  },
  {
   "cell_type": "code",
   "execution_count": 198,
   "metadata": {},
   "outputs": [],
   "source": [
    "food_2013_res_emp = atus_2013_res_emp.loc[atus_2013_res_emp[\"TRCODEP\"] == \"020201\"]\n",
    "\n",
    "food_2013_res_emp = food_2013_res_emp.groupby([\"TUCASEID\"]).sum().filter([\"TUCASEID\", \"TUACTDUR24\"])\n",
    "food_2013_res_emp_merged = pd.merge(food_2013_res_emp, multi_resp, on =\"TUCASEID\").filter([\"TUCASEID\",\"TUACTDUR24\",\"TUFNWGTP\"])\n",
    "\n",
    "food_2013_res_emp_merged[\"Mutiplied Weighted\"] = food_2013_res_emp_merged[\"TUACTDUR24\"] * food_2013_res_emp_merged[\"TUFNWGTP\"]"
   ]
  },
  {
   "cell_type": "code",
   "execution_count": 199,
   "metadata": {},
   "outputs": [
    {
     "data": {
      "text/plain": [
       "0.38620773672126624"
      ]
     },
     "execution_count": 199,
     "metadata": {},
     "output_type": "execute_result"
    }
   ],
   "source": [
    "food_2013_res_emp_weight = food_2013_res_emp_merged[\"Mutiplied Weighted\"].sum()\n",
    "\n",
    "food_2013_res_emp_avg_hr_per_day = food_2013_res_emp_weight / all_2013_emp_weight /60\n",
    "food_2013_res_emp_avg_hr_per_day"
   ]
  },
  {
   "cell_type": "markdown",
   "metadata": {},
   "source": [
    "### 2014 Food and Drink Preparation"
   ]
  },
  {
   "cell_type": "code",
   "execution_count": 200,
   "metadata": {},
   "outputs": [],
   "source": [
    "food_2014_res_emp = atus_2014_res_emp.loc[atus_2014_res_emp[\"TRCODEP\"] == \"020201\"]\n",
    "\n",
    "food_2014_res_emp = food_2014_res_emp.groupby([\"TUCASEID\"]).sum().filter([\"TUCASEID\", \"TUACTDUR24\"])\n",
    "food_2014_res_emp_merged = pd.merge(food_2014_res_emp, multi_resp, on =\"TUCASEID\").filter([\"TUCASEID\",\"TUACTDUR24\",\"TUFNWGTP\"])\n",
    "\n",
    "food_2014_res_emp_merged[\"Mutiplied Weighted\"] = food_2014_res_emp_merged[\"TUACTDUR24\"] * food_2014_res_emp_merged[\"TUFNWGTP\"]"
   ]
  },
  {
   "cell_type": "code",
   "execution_count": 201,
   "metadata": {},
   "outputs": [
    {
     "data": {
      "text/plain": [
       "0.3654609867933297"
      ]
     },
     "execution_count": 201,
     "metadata": {},
     "output_type": "execute_result"
    }
   ],
   "source": [
    "food_2014_res_emp_weight = food_2014_res_emp_merged[\"Mutiplied Weighted\"].sum()\n",
    "\n",
    "food_2014_res_emp_avg_hr_per_day = food_2014_res_emp_weight / all_2014_emp_weight /60\n",
    "food_2014_res_emp_avg_hr_per_day"
   ]
  },
  {
   "cell_type": "markdown",
   "metadata": {},
   "source": [
    "### 2015 Food and Drink Preparation"
   ]
  },
  {
   "cell_type": "code",
   "execution_count": 202,
   "metadata": {},
   "outputs": [],
   "source": [
    "food_2015_res_emp = atus_2015_res_emp.loc[atus_2015_res_emp[\"TRCODEP\"] == \"020201\"]\n",
    "\n",
    "food_2015_res_emp = food_2015_res_emp.groupby([\"TUCASEID\"]).sum().filter([\"TUCASEID\", \"TUACTDUR24\"])\n",
    "food_2015_res_emp_merged = pd.merge(food_2015_res_emp, multi_resp, on =\"TUCASEID\").filter([\"TUCASEID\",\"TUACTDUR24\",\"TUFNWGTP\"])\n",
    "\n",
    "food_2015_res_emp_merged[\"Mutiplied Weighted\"] = food_2015_res_emp_merged[\"TUACTDUR24\"] * food_2015_res_emp_merged[\"TUFNWGTP\"]"
   ]
  },
  {
   "cell_type": "code",
   "execution_count": 203,
   "metadata": {},
   "outputs": [
    {
     "data": {
      "text/plain": [
       "0.3791408385196276"
      ]
     },
     "execution_count": 203,
     "metadata": {},
     "output_type": "execute_result"
    }
   ],
   "source": [
    "food_2015_res_emp_weight = food_2015_res_emp_merged[\"Mutiplied Weighted\"].sum()\n",
    "\n",
    "food_2015_res_emp_avg_hr_per_day = food_2015_res_emp_weight / all_2015_emp_weight /60\n",
    "food_2015_res_emp_avg_hr_per_day"
   ]
  },
  {
   "cell_type": "markdown",
   "metadata": {},
   "source": [
    "### 2016 Food and Drink Preparation"
   ]
  },
  {
   "cell_type": "code",
   "execution_count": 204,
   "metadata": {},
   "outputs": [],
   "source": [
    "food_2016_res_emp = atus_2016_res_emp.loc[atus_2016_res_emp[\"TRCODEP\"] == \"020201\"]\n",
    "\n",
    "food_2016_res_emp = food_2016_res_emp.groupby([\"TUCASEID\"]).sum().filter([\"TUCASEID\", \"TUACTDUR24\"])\n",
    "food_2016_res_emp_merged = pd.merge(food_2016_res_emp, multi_resp, on =\"TUCASEID\").filter([\"TUCASEID\",\"TUACTDUR24\",\"TUFNWGTP\"])\n",
    "\n",
    "food_2016_res_emp_merged[\"Mutiplied Weighted\"] = food_2016_res_emp_merged[\"TUACTDUR24\"] * food_2016_res_emp_merged[\"TUFNWGTP\"]"
   ]
  },
  {
   "cell_type": "code",
   "execution_count": 205,
   "metadata": {},
   "outputs": [
    {
     "data": {
      "text/plain": [
       "0.37134892866194513"
      ]
     },
     "execution_count": 205,
     "metadata": {},
     "output_type": "execute_result"
    }
   ],
   "source": [
    "food_2016_res_emp_weight = food_2016_res_emp_merged[\"Mutiplied Weighted\"].sum()\n",
    "\n",
    "food_2016_res_emp_avg_hr_per_day = food_2016_res_emp_weight / all_2016_emp_weight /60\n",
    "food_2016_res_emp_avg_hr_per_day"
   ]
  },
  {
   "cell_type": "markdown",
   "metadata": {},
   "source": [
    "### 2017 Food and Drink Preparation"
   ]
  },
  {
   "cell_type": "code",
   "execution_count": 206,
   "metadata": {},
   "outputs": [],
   "source": [
    "food_2017_res_emp = atus_2017_res_emp.loc[atus_2017_res_emp[\"TRCODEP\"] == \"020201\"]\n",
    "\n",
    "food_2017_res_emp = food_2017_res_emp.groupby([\"TUCASEID\"]).sum().filter([\"TUCASEID\", \"TUACTDUR24\"])\n",
    "food_2017_res_emp_merged = pd.merge(food_2017_res_emp, multi_resp, on =\"TUCASEID\").filter([\"TUCASEID\",\"TUACTDUR24\",\"TUFNWGTP\"])\n",
    "\n",
    "food_2017_res_emp_merged[\"Mutiplied Weighted\"] = food_2017_res_emp_merged[\"TUACTDUR24\"] * food_2017_res_emp_merged[\"TUFNWGTP\"]"
   ]
  },
  {
   "cell_type": "code",
   "execution_count": 207,
   "metadata": {},
   "outputs": [
    {
     "data": {
      "text/plain": [
       "0.38897743460779116"
      ]
     },
     "execution_count": 207,
     "metadata": {},
     "output_type": "execute_result"
    }
   ],
   "source": [
    "food_2017_res_emp_weight = food_2017_res_emp_merged[\"Mutiplied Weighted\"].sum()\n",
    "\n",
    "food_2017_res_emp_avg_hr_per_day = food_2017_res_emp_weight / all_2017_emp_weight /60\n",
    "food_2017_res_emp_avg_hr_per_day"
   ]
  },
  {
   "cell_type": "markdown",
   "metadata": {},
   "source": [
    "### 2018 Food and Drink Preparation"
   ]
  },
  {
   "cell_type": "code",
   "execution_count": 208,
   "metadata": {},
   "outputs": [],
   "source": [
    "food_2018_res_emp = atus_2018_res_emp.loc[atus_2018_res_emp[\"TRCODEP\"] == \"020201\"]\n",
    "\n",
    "food_2018_res_emp = food_2018_res_emp.groupby([\"TUCASEID\"]).sum().filter([\"TUCASEID\", \"TUACTDUR24\"])\n",
    "food_2018_res_emp_merged = pd.merge(food_2018_res_emp, multi_resp, on =\"TUCASEID\").filter([\"TUCASEID\",\"TUACTDUR24\",\"TUFNWGTP\"])\n",
    "\n",
    "food_2018_res_emp_merged[\"Mutiplied Weighted\"] = food_2018_res_emp_merged[\"TUACTDUR24\"] * food_2018_res_emp_merged[\"TUFNWGTP\"]"
   ]
  },
  {
   "cell_type": "code",
   "execution_count": 209,
   "metadata": {},
   "outputs": [
    {
     "data": {
      "text/plain": [
       "0.4056933050024361"
      ]
     },
     "execution_count": 209,
     "metadata": {},
     "output_type": "execute_result"
    }
   ],
   "source": [
    "food_2018_res_emp_weight = food_2018_res_emp_merged[\"Mutiplied Weighted\"].sum()\n",
    "\n",
    "food_2018_res_emp_avg_hr_per_day = food_2018_res_emp_weight / all_2018_emp_weight /60\n",
    "food_2018_res_emp_avg_hr_per_day"
   ]
  },
  {
   "cell_type": "markdown",
   "metadata": {},
   "source": [
    "### 2019 Food and Drink Preparation"
   ]
  },
  {
   "cell_type": "code",
   "execution_count": 210,
   "metadata": {},
   "outputs": [],
   "source": [
    "food_2019_res_emp = atus_2019_res_emp.loc[atus_2019_res_emp[\"TRCODEP\"] == \"020201\"]\n",
    "\n",
    "food_2019_res_emp = food_2019_res_emp.groupby([\"TUCASEID\"]).sum().filter([\"TUCASEID\", \"TUACTDUR24\"])\n",
    "food_2019_res_emp_merged = pd.merge(food_2019_res_emp, multi_resp, on =\"TUCASEID\").filter([\"TUCASEID\",\"TUACTDUR24\",\"TUFNWGTP\"])\n",
    "\n",
    "food_2019_res_emp_merged[\"Mutiplied Weighted\"] = food_2019_res_emp_merged[\"TUACTDUR24\"] * food_2019_res_emp_merged[\"TUFNWGTP\"]"
   ]
  },
  {
   "cell_type": "code",
   "execution_count": 211,
   "metadata": {},
   "outputs": [
    {
     "data": {
      "text/plain": [
       "0.39406624295247183"
      ]
     },
     "execution_count": 211,
     "metadata": {},
     "output_type": "execute_result"
    }
   ],
   "source": [
    "food_2019_res_emp_weight = food_2019_res_emp_merged[\"Mutiplied Weighted\"].sum()\n",
    "\n",
    "food_2019_res_emp_avg_hr_per_day = food_2019_res_emp_weight / all_2019_emp_weight /60\n",
    "food_2019_res_emp_avg_hr_per_day"
   ]
  },
  {
   "cell_type": "markdown",
   "metadata": {},
   "source": [
    "### Food and Drink Preparation"
   ]
  },
  {
   "cell_type": "markdown",
   "metadata": {},
   "source": [
    "#### 2003-2019 Food and Drink Preparation Regression "
   ]
  },
  {
   "cell_type": "code",
   "execution_count": 212,
   "metadata": {},
   "outputs": [],
   "source": [
    "year = np.array([2003, 2004, 2005, 2006, 2007, 2008, 2009, 2010,2011,2012]).reshape((-1, 1))\n",
    "activity_hours_per_day = np.array([food_2003_res_emp_avg_hr_per_day, food_2004_res_emp_avg_hr_per_day, food_2005_res_emp_avg_hr_per_day, food_2006_res_emp_avg_hr_per_day, food_2007_res_emp_avg_hr_per_day, food_2008_res_emp_avg_hr_per_day, food_2009_res_emp_avg_hr_per_day, food_2010_res_emp_avg_hr_per_day, food_2011_res_emp_avg_hr_per_day, food_2012_res_emp_avg_hr_per_day]).reshape((-1, 1))\n",
    "\n",
    "activity_hours_per_yr = [i * 365 for i in activity_hours_per_day]\n",
    "#activity_hours_per_yr"
   ]
  },
  {
   "cell_type": "code",
   "execution_count": 213,
   "metadata": {},
   "outputs": [
    {
     "data": {
      "image/png": "[encoded data removed]",
      "text/plain": [
       "<Figure size 432x288 with 1 Axes>"
      ]
     },
     "metadata": {
      "needs_background": "light"
     },
     "output_type": "display_data"
    }
   ],
   "source": [
    "x = year\n",
    "y = activity_hours_per_yr\n",
    "x, y = np.array(x), np.array(y)\n",
    "\n",
    "model = LinearRegression().fit(x, y)\n",
    "\n",
    "y_pred = model.predict(x)  \n",
    "\n",
    "plt.scatter(x, y)\n",
    "plt.plot(x, y_pred, color='red')\n",
    "plt.show()"
   ]
  },
  {
   "cell_type": "code",
   "execution_count": 214,
   "metadata": {},
   "outputs": [
    {
     "data": {
      "text/plain": [
       "0.8157939608935348"
      ]
     },
     "execution_count": 214,
     "metadata": {},
     "output_type": "execute_result"
    }
   ],
   "source": [
    "coefficient_of_determination = model.score(x,y) #R sqaure value \n",
    "coefficient_of_determination"
   ]
  },
  {
   "cell_type": "code",
   "execution_count": 215,
   "metadata": {},
   "outputs": [
    {
     "data": {
      "text/plain": [
       "array([[2.13412492]])"
      ]
     },
     "execution_count": 215,
     "metadata": {},
     "output_type": "execute_result"
    }
   ],
   "source": [
    "food_res_emp_2003_2012_slope = model.coef_\n",
    "food_res_emp_2003_2012_slope"
   ]
  },
  {
   "cell_type": "markdown",
   "metadata": {},
   "source": [
    "#### 2003 - 2019 Food and Drink Preparation Regression"
   ]
  },
  {
   "cell_type": "code",
   "execution_count": 216,
   "metadata": {},
   "outputs": [],
   "source": [
    "year = np.array([2003, 2004, 2005, 2006, 2007, 2008, 2009, 2010,2011,2012,2013,2014,2015,2016,2017,2018,2019]).reshape((-1, 1))\n",
    "activity_hours_per_day = np.array([food_2003_res_emp_avg_hr_per_day, food_2004_res_emp_avg_hr_per_day, food_2005_res_emp_avg_hr_per_day, food_2006_res_emp_avg_hr_per_day, food_2007_res_emp_avg_hr_per_day, food_2008_res_emp_avg_hr_per_day, food_2009_res_emp_avg_hr_per_day, food_2010_res_emp_avg_hr_per_day, food_2011_res_emp_avg_hr_per_day, food_2012_res_emp_avg_hr_per_day, food_2013_res_emp_avg_hr_per_day, food_2014_res_emp_avg_hr_per_day, food_2015_res_emp_avg_hr_per_day, food_2016_res_emp_avg_hr_per_day, food_2017_res_emp_avg_hr_per_day, food_2018_res_emp_avg_hr_per_day, food_2019_res_emp_avg_hr_per_day]).reshape((-1, 1))\n",
    "\n",
    "activity_hours_per_yr = [i * 365 for i in activity_hours_per_day]\n",
    "#activity_hours_per_yr"
   ]
  },
  {
   "cell_type": "code",
   "execution_count": 217,
   "metadata": {},
   "outputs": [
    {
     "data": {
      "image/png": "[encoded data removed]",
      "text/plain": [
       "<Figure size 432x288 with 1 Axes>"
      ]
     },
     "metadata": {
      "needs_background": "light"
     },
     "output_type": "display_data"
    }
   ],
   "source": [
    "x = year\n",
    "y = activity_hours_per_yr\n",
    "x, y = np.array(x), np.array(y)\n",
    "\n",
    "model = LinearRegression().fit(x, y)\n",
    "\n",
    "y_pred = model.predict(x)  \n",
    "\n",
    "plt.scatter(x, y)\n",
    "plt.plot(x, y_pred, color='red')\n",
    "plt.show()"
   ]
  },
  {
   "cell_type": "code",
   "execution_count": 218,
   "metadata": {},
   "outputs": [
    {
     "data": {
      "text/plain": [
       "0.9146150650457723"
      ]
     },
     "execution_count": 218,
     "metadata": {},
     "output_type": "execute_result"
    }
   ],
   "source": [
    "coefficient_of_determination = model.score(x,y) #R sqaure value \n",
    "coefficient_of_determination"
   ]
  },
  {
   "cell_type": "code",
   "execution_count": 219,
   "metadata": {},
   "outputs": [
    {
     "data": {
      "text/plain": [
       "array([[2.26539469]])"
      ]
     },
     "execution_count": 219,
     "metadata": {},
     "output_type": "execute_result"
    }
   ],
   "source": [
    "food_res_emp_2003_2019_slope = model.coef_\n",
    "food_res_emp_2003_2019_slope"
   ]
  },
  {
   "cell_type": "markdown",
   "metadata": {},
   "source": [
    "### 2003-2019 Eating and Drinking "
   ]
  },
  {
   "cell_type": "markdown",
   "metadata": {},
   "source": [
    "### 2003 Eating and Drinking"
   ]
  },
  {
   "cell_type": "code",
   "execution_count": 220,
   "metadata": {},
   "outputs": [],
   "source": [
    "#110101 is eating and drinking\n",
    "eating = atus_2003_res_emp[atus_2003_res_emp[\"TRCODEP\"].apply(str).str.startswith(\"110101\")]"
   ]
  },
  {
   "cell_type": "code",
   "execution_count": 221,
   "metadata": {},
   "outputs": [],
   "source": [
    "eating_2003_res_emp = eating.groupby([\"TUCASEID\"]).sum().filter([\"TUCASEID\", \"TUACTDUR24\"])\n",
    "eating_2003_res_emp_merged = pd.merge(eating_2003_res_emp, multi_resp, on =\"TUCASEID\").filter([\"TUCASEID\",\"TUACTDUR24\",\"TUFNWGTP\"])"
   ]
  },
  {
   "cell_type": "code",
   "execution_count": 222,
   "metadata": {},
   "outputs": [],
   "source": [
    "eating_2003_res_emp_merged[\"Mutiplied Weighted\"] = eating_2003_res_emp_merged[\"TUACTDUR24\"] * eating_2003_res_emp_merged[\"TUFNWGTP\"]\n",
    "#eating_2003_res_emp_merged"
   ]
  },
  {
   "cell_type": "code",
   "execution_count": 223,
   "metadata": {},
   "outputs": [
    {
     "data": {
      "text/plain": [
       "1949014920083.285"
      ]
     },
     "execution_count": 223,
     "metadata": {},
     "output_type": "execute_result"
    }
   ],
   "source": [
    "eating_2003_res_emp_weight = eating_2003_res_emp_merged[\"Mutiplied Weighted\"].sum()\n",
    "eating_2003_res_emp_weight"
   ]
  },
  {
   "cell_type": "code",
   "execution_count": 224,
   "metadata": {},
   "outputs": [
    {
     "data": {
      "text/plain": [
       "0.6107407424941191"
      ]
     },
     "execution_count": 224,
     "metadata": {},
     "output_type": "execute_result"
    }
   ],
   "source": [
    "eating_2003_res_emp_avg_hr_per_day = eating_2003_res_emp_weight / all_2003_emp_weight /60\n",
    "eating_2003_res_emp_avg_hr_per_day"
   ]
  },
  {
   "cell_type": "markdown",
   "metadata": {},
   "source": [
    "### 2004 Eating and Drinking"
   ]
  },
  {
   "cell_type": "code",
   "execution_count": 225,
   "metadata": {},
   "outputs": [],
   "source": [
    "eating = atus_2004_res_emp[atus_2004_res_emp[\"TRCODEP\"].apply(str).str.startswith(\"110101\")]\n",
    "\n",
    "eating_2004_res_emp = eating.groupby([\"TUCASEID\"]).sum().filter([\"TUCASEID\", \"TUACTDUR24\"])\n",
    "eating_2004_res_emp_merged = pd.merge(eating_2004_res_emp, multi_resp, on =\"TUCASEID\").filter([\"TUCASEID\",\"TUACTDUR24\",\"TUFNWGTP\"])\n",
    "eating_2004_res_emp_merged[\"Mutiplied Weighted\"] = eating_2004_res_emp_merged[\"TUACTDUR24\"] * eating_2004_res_emp_merged[\"TUFNWGTP\"]"
   ]
  },
  {
   "cell_type": "code",
   "execution_count": 226,
   "metadata": {},
   "outputs": [
    {
     "data": {
      "text/plain": [
       "0.6284541590111961"
      ]
     },
     "execution_count": 226,
     "metadata": {},
     "output_type": "execute_result"
    }
   ],
   "source": [
    "eating_2004_res_emp_weight = eating_2004_res_emp_merged[\"Mutiplied Weighted\"].sum()\n",
    "\n",
    "eating_2004_res_emp_avg_hr_per_day = eating_2004_res_emp_weight / all_2004_emp_weight /60\n",
    "eating_2004_res_emp_avg_hr_per_day"
   ]
  },
  {
   "cell_type": "markdown",
   "metadata": {},
   "source": [
    "### 2005 Eating and Drinking"
   ]
  },
  {
   "cell_type": "code",
   "execution_count": 227,
   "metadata": {},
   "outputs": [],
   "source": [
    "eating = atus_2005_res_emp[atus_2005_res_emp[\"TRCODEP\"].apply(str).str.startswith(\"110101\")]\n",
    "\n",
    "eating_2005_res_emp = eating.groupby([\"TUCASEID\"]).sum().filter([\"TUCASEID\", \"TUACTDUR24\"])\n",
    "eating_2005_res_emp_merged = pd.merge(eating_2005_res_emp, multi_resp, on =\"TUCASEID\").filter([\"TUCASEID\",\"TUACTDUR24\",\"TUFNWGTP\"])\n",
    "eating_2005_res_emp_merged[\"Mutiplied Weighted\"] = eating_2005_res_emp_merged[\"TUACTDUR24\"] * eating_2005_res_emp_merged[\"TUFNWGTP\"]"
   ]
  },
  {
   "cell_type": "code",
   "execution_count": 228,
   "metadata": {},
   "outputs": [
    {
     "data": {
      "text/plain": [
       "0.6328059401964428"
      ]
     },
     "execution_count": 228,
     "metadata": {},
     "output_type": "execute_result"
    }
   ],
   "source": [
    "eating_2005_res_emp_weight = eating_2005_res_emp_merged[\"Mutiplied Weighted\"].sum()\n",
    "\n",
    "eating_2005_res_emp_avg_hr_per_day = eating_2005_res_emp_weight / all_2005_emp_weight /60\n",
    "eating_2005_res_emp_avg_hr_per_day"
   ]
  },
  {
   "cell_type": "markdown",
   "metadata": {},
   "source": [
    "### 2006 Eating and Drinking"
   ]
  },
  {
   "cell_type": "code",
   "execution_count": 229,
   "metadata": {},
   "outputs": [],
   "source": [
    "eating = atus_2006_res_emp[atus_2006_res_emp[\"TRCODEP\"].apply(str).str.startswith(\"110101\")]\n",
    "\n",
    "eating_2006_res_emp = eating.groupby([\"TUCASEID\"]).sum().filter([\"TUCASEID\", \"TUACTDUR24\"])\n",
    "eating_2006_res_emp_merged = pd.merge(eating_2006_res_emp, multi_resp, on =\"TUCASEID\").filter([\"TUCASEID\",\"TUACTDUR24\",\"TUFNWGTP\"])\n",
    "eating_2006_res_emp_merged[\"Mutiplied Weighted\"] = eating_2006_res_emp_merged[\"TUACTDUR24\"] * eating_2006_res_emp_merged[\"TUFNWGTP\"]"
   ]
  },
  {
   "cell_type": "code",
   "execution_count": 230,
   "metadata": {},
   "outputs": [
    {
     "data": {
      "text/plain": [
       "0.6147541065989893"
      ]
     },
     "execution_count": 230,
     "metadata": {},
     "output_type": "execute_result"
    }
   ],
   "source": [
    "eating_2006_res_emp_weight = eating_2006_res_emp_merged[\"Mutiplied Weighted\"].sum()\n",
    "\n",
    "eating_2006_res_emp_avg_hr_per_day = eating_2006_res_emp_weight / all_2006_emp_weight /60\n",
    "eating_2006_res_emp_avg_hr_per_day"
   ]
  },
  {
   "cell_type": "markdown",
   "metadata": {},
   "source": [
    "### 2007 Eating and Drinking"
   ]
  },
  {
   "cell_type": "code",
   "execution_count": 231,
   "metadata": {},
   "outputs": [],
   "source": [
    "eating = atus_2007_res_emp[atus_2007_res_emp[\"TRCODEP\"].apply(str).str.startswith(\"110101\")]\n",
    "\n",
    "eating_2007_res_emp = eating.groupby([\"TUCASEID\"]).sum().filter([\"TUCASEID\", \"TUACTDUR24\"])\n",
    "eating_2007_res_emp_merged = pd.merge(eating_2007_res_emp, multi_resp, on =\"TUCASEID\").filter([\"TUCASEID\",\"TUACTDUR24\",\"TUFNWGTP\"])\n",
    "eating_2007_res_emp_merged[\"Mutiplied Weighted\"] = eating_2007_res_emp_merged[\"TUACTDUR24\"] * eating_2007_res_emp_merged[\"TUFNWGTP\"]"
   ]
  },
  {
   "cell_type": "code",
   "execution_count": 232,
   "metadata": {},
   "outputs": [
    {
     "data": {
      "text/plain": [
       "0.6147677547183125"
      ]
     },
     "execution_count": 232,
     "metadata": {},
     "output_type": "execute_result"
    }
   ],
   "source": [
    "eating_2007_res_emp_weight = eating_2007_res_emp_merged[\"Mutiplied Weighted\"].sum()\n",
    "\n",
    "eating_2007_res_emp_avg_hr_per_day = eating_2007_res_emp_weight / all_2007_emp_weight /60\n",
    "eating_2007_res_emp_avg_hr_per_day"
   ]
  },
  {
   "cell_type": "markdown",
   "metadata": {},
   "source": [
    "### 2008 Eating and Drinking"
   ]
  },
  {
   "cell_type": "code",
   "execution_count": 233,
   "metadata": {},
   "outputs": [],
   "source": [
    "eating = atus_2008_res_emp[atus_2008_res_emp[\"TRCODEP\"].apply(str).str.startswith(\"110101\")]\n",
    "\n",
    "eating_2008_res_emp = eating.groupby([\"TUCASEID\"]).sum().filter([\"TUCASEID\", \"TUACTDUR24\"])\n",
    "eating_2008_res_emp_merged = pd.merge(eating_2008_res_emp, multi_resp, on =\"TUCASEID\").filter([\"TUCASEID\",\"TUACTDUR24\",\"TUFNWGTP\"])\n",
    "eating_2008_res_emp_merged[\"Mutiplied Weighted\"] = eating_2008_res_emp_merged[\"TUACTDUR24\"] * eating_2008_res_emp_merged[\"TUFNWGTP\"]"
   ]
  },
  {
   "cell_type": "code",
   "execution_count": 234,
   "metadata": {},
   "outputs": [
    {
     "data": {
      "text/plain": [
       "0.6286871026190987"
      ]
     },
     "execution_count": 234,
     "metadata": {},
     "output_type": "execute_result"
    }
   ],
   "source": [
    "eating_2008_res_emp_weight = eating_2008_res_emp_merged[\"Mutiplied Weighted\"].sum()\n",
    "\n",
    "eating_2008_res_emp_avg_hr_per_day = eating_2008_res_emp_weight / all_2008_emp_weight /60\n",
    "eating_2008_res_emp_avg_hr_per_day"
   ]
  },
  {
   "cell_type": "markdown",
   "metadata": {},
   "source": [
    "### 2009 Eating and Drinking"
   ]
  },
  {
   "cell_type": "code",
   "execution_count": 235,
   "metadata": {},
   "outputs": [],
   "source": [
    "eating = atus_2009_res_emp[atus_2009_res_emp[\"TRCODEP\"].apply(str).str.startswith(\"110101\")]\n",
    "\n",
    "eating_2009_res_emp = eating.groupby([\"TUCASEID\"]).sum().filter([\"TUCASEID\", \"TUACTDUR24\"])\n",
    "eating_2009_res_emp_merged = pd.merge(eating_2009_res_emp, multi_resp, on =\"TUCASEID\").filter([\"TUCASEID\",\"TUACTDUR24\",\"TUFNWGTP\"])\n",
    "eating_2009_res_emp_merged[\"Mutiplied Weighted\"] = eating_2009_res_emp_merged[\"TUACTDUR24\"] * eating_2009_res_emp_merged[\"TUFNWGTP\"]"
   ]
  },
  {
   "cell_type": "code",
   "execution_count": 236,
   "metadata": {},
   "outputs": [
    {
     "data": {
      "text/plain": [
       "0.6555276506847113"
      ]
     },
     "execution_count": 236,
     "metadata": {},
     "output_type": "execute_result"
    }
   ],
   "source": [
    "eating_2009_res_emp_weight = eating_2009_res_emp_merged[\"Mutiplied Weighted\"].sum()\n",
    "\n",
    "eating_2009_res_emp_avg_hr_per_day = eating_2009_res_emp_weight / all_2009_emp_weight /60\n",
    "eating_2009_res_emp_avg_hr_per_day"
   ]
  },
  {
   "cell_type": "markdown",
   "metadata": {},
   "source": [
    "### 2010 Eating and Drinking"
   ]
  },
  {
   "cell_type": "code",
   "execution_count": 237,
   "metadata": {},
   "outputs": [],
   "source": [
    "eating = atus_2010_res_emp[atus_2010_res_emp[\"TRCODEP\"].apply(str).str.startswith(\"110101\")]\n",
    "\n",
    "eating_2010_res_emp = eating.groupby([\"TUCASEID\"]).sum().filter([\"TUCASEID\", \"TUACTDUR24\"])\n",
    "eating_2010_res_emp_merged = pd.merge(eating_2010_res_emp, multi_resp, on =\"TUCASEID\").filter([\"TUCASEID\",\"TUACTDUR24\",\"TUFNWGTP\"])\n",
    "eating_2010_res_emp_merged[\"Mutiplied Weighted\"] = eating_2010_res_emp_merged[\"TUACTDUR24\"] * eating_2010_res_emp_merged[\"TUFNWGTP\"]"
   ]
  },
  {
   "cell_type": "code",
   "execution_count": 238,
   "metadata": {},
   "outputs": [
    {
     "data": {
      "text/plain": [
       "0.6487416335187438"
      ]
     },
     "execution_count": 238,
     "metadata": {},
     "output_type": "execute_result"
    }
   ],
   "source": [
    "eating_2010_res_emp_weight = eating_2010_res_emp_merged[\"Mutiplied Weighted\"].sum()\n",
    "\n",
    "eating_2010_res_emp_avg_hr_per_day = eating_2010_res_emp_weight / all_2010_emp_weight /60\n",
    "eating_2010_res_emp_avg_hr_per_day"
   ]
  },
  {
   "cell_type": "markdown",
   "metadata": {},
   "source": [
    "### 2011 Eating and Drinking"
   ]
  },
  {
   "cell_type": "code",
   "execution_count": 239,
   "metadata": {},
   "outputs": [],
   "source": [
    "eating = atus_2011_res_emp[atus_2011_res_emp[\"TRCODEP\"].apply(str).str.startswith(\"110101\")]\n",
    "\n",
    "eating_2011_res_emp = eating.groupby([\"TUCASEID\"]).sum().filter([\"TUCASEID\", \"TUACTDUR24\"])\n",
    "eating_2011_res_emp_merged = pd.merge(eating_2011_res_emp, multi_resp, on =\"TUCASEID\").filter([\"TUCASEID\",\"TUACTDUR24\",\"TUFNWGTP\"])\n",
    "eating_2011_res_emp_merged[\"Mutiplied Weighted\"] = eating_2011_res_emp_merged[\"TUACTDUR24\"] * eating_2011_res_emp_merged[\"TUFNWGTP\"]"
   ]
  },
  {
   "cell_type": "code",
   "execution_count": 240,
   "metadata": {},
   "outputs": [
    {
     "data": {
      "text/plain": [
       "0.6616194084267771"
      ]
     },
     "execution_count": 240,
     "metadata": {},
     "output_type": "execute_result"
    }
   ],
   "source": [
    "eating_2011_res_emp_weight = eating_2011_res_emp_merged[\"Mutiplied Weighted\"].sum()\n",
    "\n",
    "eating_2011_res_emp_avg_hr_per_day = eating_2011_res_emp_weight / all_2011_emp_weight /60\n",
    "eating_2011_res_emp_avg_hr_per_day"
   ]
  },
  {
   "cell_type": "markdown",
   "metadata": {},
   "source": [
    "### 2012 Eating and Drinking"
   ]
  },
  {
   "cell_type": "code",
   "execution_count": 241,
   "metadata": {},
   "outputs": [],
   "source": [
    "eating = atus_2012_res_emp[atus_2012_res_emp[\"TRCODEP\"].apply(str).str.startswith(\"110101\")]\n",
    "\n",
    "eating_2012_res_emp = eating.groupby([\"TUCASEID\"]).sum().filter([\"TUCASEID\", \"TUACTDUR24\"])\n",
    "eating_2012_res_emp_merged = pd.merge(eating_2012_res_emp, multi_resp, on =\"TUCASEID\").filter([\"TUCASEID\",\"TUACTDUR24\",\"TUFNWGTP\"])\n",
    "eating_2012_res_emp_merged[\"Mutiplied Weighted\"] = eating_2012_res_emp_merged[\"TUACTDUR24\"] * eating_2012_res_emp_merged[\"TUFNWGTP\"]"
   ]
  },
  {
   "cell_type": "code",
   "execution_count": 242,
   "metadata": {},
   "outputs": [
    {
     "data": {
      "text/plain": [
       "0.6642942301430439"
      ]
     },
     "execution_count": 242,
     "metadata": {},
     "output_type": "execute_result"
    }
   ],
   "source": [
    "eating_2012_res_emp_weight = eating_2012_res_emp_merged[\"Mutiplied Weighted\"].sum()\n",
    "\n",
    "eating_2012_res_emp_avg_hr_per_day = eating_2012_res_emp_weight / all_2012_emp_weight /60\n",
    "eating_2012_res_emp_avg_hr_per_day"
   ]
  },
  {
   "cell_type": "markdown",
   "metadata": {},
   "source": [
    "### 2013 Eating and Drinking"
   ]
  },
  {
   "cell_type": "code",
   "execution_count": 243,
   "metadata": {},
   "outputs": [],
   "source": [
    "eating = atus_2013_res_emp[atus_2013_res_emp[\"TRCODEP\"].apply(str).str.startswith(\"110101\")]\n",
    "\n",
    "eating_2013_res_emp = eating.groupby([\"TUCASEID\"]).sum().filter([\"TUCASEID\", \"TUACTDUR24\"])\n",
    "eating_2013_res_emp_merged = pd.merge(eating_2013_res_emp, multi_resp, on =\"TUCASEID\").filter([\"TUCASEID\",\"TUACTDUR24\",\"TUFNWGTP\"])\n",
    "eating_2013_res_emp_merged[\"Mutiplied Weighted\"] = eating_2013_res_emp_merged[\"TUACTDUR24\"] * eating_2013_res_emp_merged[\"TUFNWGTP\"]"
   ]
  },
  {
   "cell_type": "code",
   "execution_count": 244,
   "metadata": {},
   "outputs": [
    {
     "data": {
      "text/plain": [
       "0.6550551793495735"
      ]
     },
     "execution_count": 244,
     "metadata": {},
     "output_type": "execute_result"
    }
   ],
   "source": [
    "eating_2013_res_emp_weight = eating_2013_res_emp_merged[\"Mutiplied Weighted\"].sum()\n",
    "\n",
    "eating_2013_res_emp_avg_hr_per_day = eating_2013_res_emp_weight / all_2013_emp_weight /60\n",
    "eating_2013_res_emp_avg_hr_per_day"
   ]
  },
  {
   "cell_type": "markdown",
   "metadata": {},
   "source": [
    "### 2014 Eating and Drinking"
   ]
  },
  {
   "cell_type": "code",
   "execution_count": 245,
   "metadata": {},
   "outputs": [],
   "source": [
    "eating = atus_2014_res_emp[atus_2014_res_emp[\"TRCODEP\"].apply(str).str.startswith(\"110101\")]\n",
    "\n",
    "eating_2014_res_emp = eating.groupby([\"TUCASEID\"]).sum().filter([\"TUCASEID\", \"TUACTDUR24\"])\n",
    "eating_2014_res_emp_merged = pd.merge(eating_2014_res_emp, multi_resp, on =\"TUCASEID\").filter([\"TUCASEID\",\"TUACTDUR24\",\"TUFNWGTP\"])\n",
    "eating_2014_res_emp_merged[\"Mutiplied Weighted\"] = eating_2014_res_emp_merged[\"TUACTDUR24\"] * eating_2014_res_emp_merged[\"TUFNWGTP\"]"
   ]
  },
  {
   "cell_type": "code",
   "execution_count": 246,
   "metadata": {},
   "outputs": [
    {
     "data": {
      "text/plain": [
       "0.6216430167861219"
      ]
     },
     "execution_count": 246,
     "metadata": {},
     "output_type": "execute_result"
    }
   ],
   "source": [
    "eating_2014_res_emp_weight = eating_2014_res_emp_merged[\"Mutiplied Weighted\"].sum()\n",
    "\n",
    "eating_2014_res_emp_avg_hr_per_day = eating_2014_res_emp_weight / all_2014_emp_weight /60\n",
    "eating_2014_res_emp_avg_hr_per_day"
   ]
  },
  {
   "cell_type": "markdown",
   "metadata": {},
   "source": [
    "### 2015 Eating and Drinking"
   ]
  },
  {
   "cell_type": "code",
   "execution_count": 247,
   "metadata": {},
   "outputs": [],
   "source": [
    "eating = atus_2015_res_emp[atus_2015_res_emp[\"TRCODEP\"].apply(str).str.startswith(\"110101\")]\n",
    "\n",
    "eating_2015_res_emp = eating.groupby([\"TUCASEID\"]).sum().filter([\"TUCASEID\", \"TUACTDUR24\"])\n",
    "eating_2015_res_emp_merged = pd.merge(eating_2015_res_emp, multi_resp, on =\"TUCASEID\").filter([\"TUCASEID\",\"TUACTDUR24\",\"TUFNWGTP\"])\n",
    "eating_2015_res_emp_merged[\"Mutiplied Weighted\"] = eating_2015_res_emp_merged[\"TUACTDUR24\"] * eating_2015_res_emp_merged[\"TUFNWGTP\"]"
   ]
  },
  {
   "cell_type": "code",
   "execution_count": 248,
   "metadata": {},
   "outputs": [
    {
     "data": {
      "text/plain": [
       "0.6288102708555134"
      ]
     },
     "execution_count": 248,
     "metadata": {},
     "output_type": "execute_result"
    }
   ],
   "source": [
    "eating_2015_res_emp_weight = eating_2015_res_emp_merged[\"Mutiplied Weighted\"].sum()\n",
    "\n",
    "eating_2015_res_emp_avg_hr_per_day = eating_2015_res_emp_weight / all_2015_emp_weight /60\n",
    "eating_2015_res_emp_avg_hr_per_day"
   ]
  },
  {
   "cell_type": "markdown",
   "metadata": {},
   "source": [
    "### 2016 Eating and Drinking"
   ]
  },
  {
   "cell_type": "code",
   "execution_count": 249,
   "metadata": {},
   "outputs": [],
   "source": [
    "eating = atus_2016_res_emp[atus_2016_res_emp[\"TRCODEP\"].apply(str).str.startswith(\"110101\")]\n",
    "\n",
    "eating_2016_res_emp = eating.groupby([\"TUCASEID\"]).sum().filter([\"TUCASEID\", \"TUACTDUR24\"])\n",
    "eating_2016_res_emp_merged = pd.merge(eating_2016_res_emp, multi_resp, on =\"TUCASEID\").filter([\"TUCASEID\",\"TUACTDUR24\",\"TUFNWGTP\"])\n",
    "eating_2016_res_emp_merged[\"Mutiplied Weighted\"] = eating_2016_res_emp_merged[\"TUACTDUR24\"] * eating_2016_res_emp_merged[\"TUFNWGTP\"]"
   ]
  },
  {
   "cell_type": "code",
   "execution_count": 250,
   "metadata": {},
   "outputs": [
    {
     "data": {
      "text/plain": [
       "0.6133749653507938"
      ]
     },
     "execution_count": 250,
     "metadata": {},
     "output_type": "execute_result"
    }
   ],
   "source": [
    "eating_2016_res_emp_weight = eating_2016_res_emp_merged[\"Mutiplied Weighted\"].sum()\n",
    "\n",
    "eating_2016_res_emp_avg_hr_per_day = eating_2016_res_emp_weight / all_2016_emp_weight /60\n",
    "eating_2016_res_emp_avg_hr_per_day"
   ]
  },
  {
   "cell_type": "markdown",
   "metadata": {},
   "source": [
    "### 2017 Eating and Drinking"
   ]
  },
  {
   "cell_type": "code",
   "execution_count": 251,
   "metadata": {},
   "outputs": [],
   "source": [
    "eating = atus_2017_res_emp[atus_2017_res_emp[\"TRCODEP\"].apply(str).str.startswith(\"110101\")]\n",
    "\n",
    "eating_2017_res_emp = eating.groupby([\"TUCASEID\"]).sum().filter([\"TUCASEID\", \"TUACTDUR24\"])\n",
    "eating_2017_res_emp_merged = pd.merge(eating_2017_res_emp, multi_resp, on =\"TUCASEID\").filter([\"TUCASEID\",\"TUACTDUR24\",\"TUFNWGTP\"])\n",
    "eating_2017_res_emp_merged[\"Mutiplied Weighted\"] = eating_2017_res_emp_merged[\"TUACTDUR24\"] * eating_2017_res_emp_merged[\"TUFNWGTP\"]"
   ]
  },
  {
   "cell_type": "code",
   "execution_count": 252,
   "metadata": {},
   "outputs": [
    {
     "data": {
      "text/plain": [
       "0.6055351844816381"
      ]
     },
     "execution_count": 252,
     "metadata": {},
     "output_type": "execute_result"
    }
   ],
   "source": [
    "eating_2017_res_emp_weight = eating_2017_res_emp_merged[\"Mutiplied Weighted\"].sum()\n",
    "\n",
    "eating_2017_res_emp_avg_hr_per_day = eating_2017_res_emp_weight / all_2017_emp_weight /60\n",
    "eating_2017_res_emp_avg_hr_per_day"
   ]
  },
  {
   "cell_type": "markdown",
   "metadata": {},
   "source": [
    "### 2018 Eating and Drinking"
   ]
  },
  {
   "cell_type": "code",
   "execution_count": 253,
   "metadata": {},
   "outputs": [],
   "source": [
    "eating = atus_2018_res_emp[atus_2018_res_emp[\"TRCODEP\"].apply(str).str.startswith(\"110101\")]\n",
    "\n",
    "eating_2018_res_emp = eating.groupby([\"TUCASEID\"]).sum().filter([\"TUCASEID\", \"TUACTDUR24\"])\n",
    "eating_2018_res_emp_merged = pd.merge(eating_2018_res_emp, multi_resp, on =\"TUCASEID\").filter([\"TUCASEID\",\"TUACTDUR24\",\"TUFNWGTP\"])\n",
    "eating_2018_res_emp_merged[\"Mutiplied Weighted\"] = eating_2018_res_emp_merged[\"TUACTDUR24\"] * eating_2018_res_emp_merged[\"TUFNWGTP\"]"
   ]
  },
  {
   "cell_type": "code",
   "execution_count": 254,
   "metadata": {},
   "outputs": [
    {
     "data": {
      "text/plain": [
       "0.6109851440335708"
      ]
     },
     "execution_count": 254,
     "metadata": {},
     "output_type": "execute_result"
    }
   ],
   "source": [
    "eating_2018_res_emp_weight = eating_2018_res_emp_merged[\"Mutiplied Weighted\"].sum()\n",
    "\n",
    "eating_2018_res_emp_avg_hr_per_day = eating_2018_res_emp_weight / all_2018_emp_weight /60\n",
    "eating_2018_res_emp_avg_hr_per_day"
   ]
  },
  {
   "cell_type": "markdown",
   "metadata": {},
   "source": [
    "### 2019 Eating and Drinking"
   ]
  },
  {
   "cell_type": "code",
   "execution_count": 255,
   "metadata": {},
   "outputs": [],
   "source": [
    "eating = atus_2019_res_emp[atus_2019_res_emp[\"TRCODEP\"].apply(str).str.startswith(\"110101\")]\n",
    "\n",
    "eating_2019_res_emp = eating.groupby([\"TUCASEID\"]).sum().filter([\"TUCASEID\", \"TUACTDUR24\"])\n",
    "eating_2019_res_emp_merged = pd.merge(eating_2019_res_emp, multi_resp, on =\"TUCASEID\").filter([\"TUCASEID\",\"TUACTDUR24\",\"TUFNWGTP\"])\n",
    "eating_2019_res_emp_merged[\"Mutiplied Weighted\"] = eating_2019_res_emp_merged[\"TUACTDUR24\"] * eating_2019_res_emp_merged[\"TUFNWGTP\"]"
   ]
  },
  {
   "cell_type": "code",
   "execution_count": 256,
   "metadata": {},
   "outputs": [
    {
     "data": {
      "text/plain": [
       "0.6135663545965192"
      ]
     },
     "execution_count": 256,
     "metadata": {},
     "output_type": "execute_result"
    }
   ],
   "source": [
    "eating_2019_res_emp_weight = eating_2019_res_emp_merged[\"Mutiplied Weighted\"].sum()\n",
    "\n",
    "eating_2019_res_emp_avg_hr_per_day = eating_2019_res_emp_weight / all_2019_emp_weight /60\n",
    "eating_2019_res_emp_avg_hr_per_day"
   ]
  },
  {
   "cell_type": "markdown",
   "metadata": {},
   "source": [
    "### Eating and Drinking"
   ]
  },
  {
   "cell_type": "markdown",
   "metadata": {},
   "source": [
    "#### 2003-2012 Eating and Drinking Regression "
   ]
  },
  {
   "cell_type": "code",
   "execution_count": 257,
   "metadata": {},
   "outputs": [],
   "source": [
    "year = np.array([2003, 2004, 2005, 2006, 2007, 2008, 2009, 2010,2011,2012]).reshape((-1, 1))\n",
    "activity_hours_per_day = np.array([eating_2003_res_emp_avg_hr_per_day, eating_2004_res_emp_avg_hr_per_day, eating_2005_res_emp_avg_hr_per_day, eating_2006_res_emp_avg_hr_per_day, eating_2007_res_emp_avg_hr_per_day, eating_2008_res_emp_avg_hr_per_day, eating_2009_res_emp_avg_hr_per_day, eating_2010_res_emp_avg_hr_per_day, eating_2011_res_emp_avg_hr_per_day, eating_2012_res_emp_avg_hr_per_day]).reshape((-1, 1))\n",
    "\n",
    "activity_hours_per_yr = [i * 365 for i in activity_hours_per_day]\n",
    "#activity_hours_per_yr"
   ]
  },
  {
   "cell_type": "code",
   "execution_count": 258,
   "metadata": {},
   "outputs": [
    {
     "data": {
      "image/png": "[encoded data removed]",
      "text/plain": [
       "<Figure size 432x288 with 1 Axes>"
      ]
     },
     "metadata": {
      "needs_background": "light"
     },
     "output_type": "display_data"
    }
   ],
   "source": [
    "x = year\n",
    "y = activity_hours_per_yr\n",
    "x, y = np.array(x), np.array(y)\n",
    "\n",
    "model = LinearRegression().fit(x, y)\n",
    "\n",
    "y_pred = model.predict(x)  \n",
    "\n",
    "plt.scatter(x, y)\n",
    "plt.plot(x, y_pred, color='red')\n",
    "plt.show()"
   ]
  },
  {
   "cell_type": "code",
   "execution_count": 259,
   "metadata": {},
   "outputs": [
    {
     "data": {
      "text/plain": [
       "0.7159033919766233"
      ]
     },
     "execution_count": 259,
     "metadata": {},
     "output_type": "execute_result"
    }
   ],
   "source": [
    "coefficient_of_determination = model.score(x,y) #R sqaure value \n",
    "coefficient_of_determination"
   ]
  },
  {
   "cell_type": "code",
   "execution_count": 260,
   "metadata": {},
   "outputs": [
    {
     "data": {
      "text/plain": [
       "array([[2.05739789]])"
      ]
     },
     "execution_count": 260,
     "metadata": {},
     "output_type": "execute_result"
    }
   ],
   "source": [
    "eating_res_emp_2003_2009 = slope = model.coef_\n",
    "eating_res_emp_2003_2009"
   ]
  },
  {
   "cell_type": "markdown",
   "metadata": {},
   "source": [
    "#### 2003-2019 Eating and Drinking Regression"
   ]
  },
  {
   "cell_type": "code",
   "execution_count": 261,
   "metadata": {},
   "outputs": [
    {
     "data": {
      "text/plain": [
       "[array([222.92037101]),\n",
       " array([229.38576804]),\n",
       " array([230.97416817]),\n",
       " array([224.38524891]),\n",
       " array([224.39023047]),\n",
       " array([229.47079246]),\n",
       " array([239.2675925]),\n",
       " array([236.79069623]),\n",
       " array([241.49108408]),\n",
       " array([242.467394]),\n",
       " array([239.09514046]),\n",
       " array([226.89970113]),\n",
       " array([229.51574886]),\n",
       " array([223.88186235]),\n",
       " array([221.02034234]),\n",
       " array([223.00957757]),\n",
       " array([223.95171943])]"
      ]
     },
     "execution_count": 261,
     "metadata": {},
     "output_type": "execute_result"
    }
   ],
   "source": [
    "year = np.array([2003, 2004, 2005, 2006, 2007, 2008, 2009, 2010,2011,2012,2013,2014,2015,2016,2017,2018,2019]).reshape((-1, 1))\n",
    "\n",
    "activity_hours_per_day = np.array([eating_2003_res_emp_avg_hr_per_day, eating_2004_res_emp_avg_hr_per_day, eating_2005_res_emp_avg_hr_per_day, eating_2006_res_emp_avg_hr_per_day, eating_2007_res_emp_avg_hr_per_day, eating_2008_res_emp_avg_hr_per_day, eating_2009_res_emp_avg_hr_per_day, eating_2010_res_emp_avg_hr_per_day, eating_2011_res_emp_avg_hr_per_day, eating_2012_res_emp_avg_hr_per_day, eating_2013_res_emp_avg_hr_per_day, eating_2014_res_emp_avg_hr_per_day, eating_2015_res_emp_avg_hr_per_day, eating_2016_res_emp_avg_hr_per_day, eating_2017_res_emp_avg_hr_per_day, eating_2018_res_emp_avg_hr_per_day, eating_2019_res_emp_avg_hr_per_day]).reshape((-1, 1))\n",
    "\n",
    "activity_hours_per_yr = [i * 365 for i in activity_hours_per_day]\n",
    "activity_hours_per_yr"
   ]
  },
  {
   "cell_type": "code",
   "execution_count": 262,
   "metadata": {},
   "outputs": [
    {
     "data": {
      "image/png": "[encoded data removed]",
      "text/plain": [
       "<Figure size 432x288 with 1 Axes>"
      ]
     },
     "metadata": {
      "needs_background": "light"
     },
     "output_type": "display_data"
    }
   ],
   "source": [
    "x = year\n",
    "y = activity_hours_per_yr\n",
    "x, y = np.array(x), np.array(y)\n",
    "\n",
    "model = LinearRegression().fit(x, y)\n",
    "\n",
    "y_pred = model.predict(x)  \n",
    "\n",
    "plt.scatter(x, y)\n",
    "plt.plot(x, y_pred, color='red')\n",
    "plt.show()"
   ]
  },
  {
   "cell_type": "code",
   "execution_count": 263,
   "metadata": {},
   "outputs": [
    {
     "data": {
      "text/plain": [
       "0.019131959078009353"
      ]
     },
     "execution_count": 263,
     "metadata": {},
     "output_type": "execute_result"
    }
   ],
   "source": [
    "coefficient_of_determination = model.score(x,y) #R sqaure value \n",
    "coefficient_of_determination"
   ]
  },
  {
   "cell_type": "code",
   "execution_count": 264,
   "metadata": {},
   "outputs": [
    {
     "data": {
      "text/plain": [
       "array([[-0.19730843]])"
      ]
     },
     "execution_count": 264,
     "metadata": {},
     "output_type": "execute_result"
    }
   ],
   "source": [
    "eating_res_emp_2003_2009 = slope = model.coef_\n",
    "eating_res_emp_2003_2009"
   ]
  },
  {
   "cell_type": "markdown",
   "metadata": {},
   "source": [
    "## 2003-2019 Computer Use for Leisure (exc. Games) Residential - Employed"
   ]
  },
  {
   "cell_type": "markdown",
   "metadata": {},
   "source": [
    "### 2003 Computer Use for Leisure (exc. Games)"
   ]
  },
  {
   "cell_type": "code",
   "execution_count": 265,
   "metadata": {},
   "outputs": [],
   "source": [
    "atus_2003_leisure = atus_2003_res_emp.loc[atus_2003_res_emp[\"TRCODEP\"] == \"120308\"]\n",
    "#atus_2003_leisure"
   ]
  },
  {
   "cell_type": "code",
   "execution_count": 266,
   "metadata": {},
   "outputs": [],
   "source": [
    "computer_2003_res_emp_merged = atus_2003_leisure.groupby([\"TUCASEID\"]).sum().filter([\"TUCASEID\", \"TUACTDUR24\"])\n",
    "computer_2003_res_emp_merged = pd.merge(computer_2003_res_emp_merged, multi_resp, on =\"TUCASEID\").filter([\"TUCASEID\",\"TUACTDUR24\",\"TUFNWGTP\"])\n",
    "computer_2003_res_emp_merged\n",
    "\n",
    "computer_2003_res_emp_merged[\"Mutiplied Weighted\"] = computer_2003_res_emp_merged[\"TUACTDUR24\"] * computer_2003_res_emp_merged[\"TUFNWGTP\"]\n",
    "#computer_2003_res_emp_merged"
   ]
  },
  {
   "cell_type": "code",
   "execution_count": 267,
   "metadata": {},
   "outputs": [
    {
     "data": {
      "text/plain": [
       "389989056433.8152"
      ]
     },
     "execution_count": 267,
     "metadata": {},
     "output_type": "execute_result"
    }
   ],
   "source": [
    "computer_2003_res_emp_weight = computer_2003_res_emp_merged[\"Mutiplied Weighted\"].sum()\n",
    "computer_2003_res_emp_weight"
   ]
  },
  {
   "cell_type": "code",
   "execution_count": 268,
   "metadata": {},
   "outputs": [
    {
     "data": {
      "text/plain": [
       "0.12220645590583332"
      ]
     },
     "execution_count": 268,
     "metadata": {},
     "output_type": "execute_result"
    }
   ],
   "source": [
    "# hdp = hour per day\n",
    "computer_2003_res_emp_avg_hpd = computer_2003_res_emp_weight / all_2003_emp_weight /60\n",
    "computer_2003_res_emp_avg_hpd"
   ]
  },
  {
   "cell_type": "markdown",
   "metadata": {},
   "source": [
    "### 2004 Computer Use for Leisure (exc. Games)"
   ]
  },
  {
   "cell_type": "code",
   "execution_count": 269,
   "metadata": {},
   "outputs": [],
   "source": [
    "atus_2004_leisure = atus_2004_res_emp.loc[atus_2004_res_emp[\"TRCODEP\"] == \"120308\"]\n",
    "\n",
    "computer_2004_res_emp_merged = atus_2004_leisure.groupby([\"TUCASEID\"]).sum().filter([\"TUCASEID\", \"TUACTDUR24\"])\n",
    "computer_2004_res_emp_merged = pd.merge(computer_2004_res_emp_merged, multi_resp, on =\"TUCASEID\").filter([\"TUCASEID\",\"TUACTDUR24\",\"TUFNWGTP\"])\n",
    "computer_2004_res_emp_merged\n",
    "\n",
    "computer_2004_res_emp_merged[\"Mutiplied Weighted\"] = computer_2004_res_emp_merged[\"TUACTDUR24\"] * computer_2004_res_emp_merged[\"TUFNWGTP\"]\n"
   ]
  },
  {
   "cell_type": "code",
   "execution_count": 270,
   "metadata": {},
   "outputs": [
    {
     "data": {
      "text/plain": [
       "0.117411423121604"
      ]
     },
     "execution_count": 270,
     "metadata": {},
     "output_type": "execute_result"
    }
   ],
   "source": [
    "computer_2004_res_emp_weight = computer_2004_res_emp_merged[\"Mutiplied Weighted\"].sum()\n",
    "computer_2004_res_emp_avg_hpd = computer_2004_res_emp_weight / all_2004_emp_weight /60\n",
    "computer_2004_res_emp_avg_hpd"
   ]
  },
  {
   "cell_type": "markdown",
   "metadata": {},
   "source": [
    "### 2005 Computer Use for Leisure (exc. Games)"
   ]
  },
  {
   "cell_type": "code",
   "execution_count": 271,
   "metadata": {},
   "outputs": [],
   "source": [
    "atus_2005_leisure = atus_2005_res_emp.loc[atus_2005_res_emp[\"TRCODEP\"] == \"120308\"]\n",
    "\n",
    "computer_2005_res_emp_merged = atus_2005_leisure.groupby([\"TUCASEID\"]).sum().filter([\"TUCASEID\", \"TUACTDUR24\"])\n",
    "computer_2005_res_emp_merged = pd.merge(computer_2005_res_emp_merged, multi_resp, on =\"TUCASEID\").filter([\"TUCASEID\",\"TUACTDUR24\",\"TUFNWGTP\"])\n",
    "computer_2005_res_emp_merged\n",
    "\n",
    "computer_2005_res_emp_merged[\"Mutiplied Weighted\"] = computer_2005_res_emp_merged[\"TUACTDUR24\"] * computer_2005_res_emp_merged[\"TUFNWGTP\"]"
   ]
  },
  {
   "cell_type": "code",
   "execution_count": 272,
   "metadata": {},
   "outputs": [
    {
     "data": {
      "text/plain": [
       "0.12078009484617437"
      ]
     },
     "execution_count": 272,
     "metadata": {},
     "output_type": "execute_result"
    }
   ],
   "source": [
    "computer_2005_res_emp_weight = computer_2005_res_emp_merged[\"Mutiplied Weighted\"].sum()\n",
    "computer_2005_res_emp_avg_hpd = computer_2005_res_emp_weight / all_2005_emp_weight /60\n",
    "computer_2005_res_emp_avg_hpd"
   ]
  },
  {
   "cell_type": "markdown",
   "metadata": {},
   "source": [
    "### 2006 Computer Use for Leisure (exc. Games)"
   ]
  },
  {
   "cell_type": "code",
   "execution_count": 273,
   "metadata": {},
   "outputs": [],
   "source": [
    "atus_2006_leisure = atus_2006_res_emp.loc[atus_2006_res_emp[\"TRCODEP\"] == \"120308\"]\n",
    "\n",
    "computer_2006_res_emp_merged = atus_2006_leisure.groupby([\"TUCASEID\"]).sum().filter([\"TUCASEID\", \"TUACTDUR24\"])\n",
    "computer_2006_res_emp_merged = pd.merge(computer_2006_res_emp_merged, multi_resp, on =\"TUCASEID\").filter([\"TUCASEID\",\"TUACTDUR24\",\"TUFNWGTP\"])\n",
    "computer_2006_res_emp_merged\n",
    "\n",
    "computer_2006_res_emp_merged[\"Mutiplied Weighted\"] = computer_2006_res_emp_merged[\"TUACTDUR24\"] * computer_2006_res_emp_merged[\"TUFNWGTP\"]"
   ]
  },
  {
   "cell_type": "code",
   "execution_count": 274,
   "metadata": {},
   "outputs": [
    {
     "data": {
      "text/plain": [
       "0.12570595726780137"
      ]
     },
     "execution_count": 274,
     "metadata": {},
     "output_type": "execute_result"
    }
   ],
   "source": [
    "computer_2006_res_emp_weight = computer_2006_res_emp_merged[\"Mutiplied Weighted\"].sum()\n",
    "computer_2006_res_emp_avg_hpd = computer_2006_res_emp_weight / all_2006_emp_weight /60\n",
    "computer_2006_res_emp_avg_hpd"
   ]
  },
  {
   "cell_type": "markdown",
   "metadata": {},
   "source": [
    "### 2007 Computer Use for Leisure (exc. Games)"
   ]
  },
  {
   "cell_type": "code",
   "execution_count": 275,
   "metadata": {},
   "outputs": [],
   "source": [
    "atus_2007_leisure = atus_2007_res_emp.loc[atus_2007_res_emp[\"TRCODEP\"] == \"120308\"]\n",
    "\n",
    "computer_2007_res_emp_merged = atus_2007_leisure.groupby([\"TUCASEID\"]).sum().filter([\"TUCASEID\", \"TUACTDUR24\"])\n",
    "computer_2007_res_emp_merged = pd.merge(computer_2007_res_emp_merged, multi_resp, on =\"TUCASEID\").filter([\"TUCASEID\",\"TUACTDUR24\",\"TUFNWGTP\"])\n",
    "computer_2007_res_emp_merged\n",
    "\n",
    "computer_2007_res_emp_merged[\"Mutiplied Weighted\"] = computer_2007_res_emp_merged[\"TUACTDUR24\"] * computer_2007_res_emp_merged[\"TUFNWGTP\"]"
   ]
  },
  {
   "cell_type": "code",
   "execution_count": 276,
   "metadata": {},
   "outputs": [
    {
     "data": {
      "text/plain": [
       "0.11030412868722318"
      ]
     },
     "execution_count": 276,
     "metadata": {},
     "output_type": "execute_result"
    }
   ],
   "source": [
    "computer_2007_res_emp_weight = computer_2007_res_emp_merged[\"Mutiplied Weighted\"].sum()\n",
    "computer_2007_res_emp_avg_hpd = computer_2007_res_emp_weight / all_2007_emp_weight /60\n",
    "computer_2007_res_emp_avg_hpd"
   ]
  },
  {
   "cell_type": "markdown",
   "metadata": {},
   "source": [
    "### 2008 Computer Use for Leisure (exc. Games)"
   ]
  },
  {
   "cell_type": "code",
   "execution_count": 277,
   "metadata": {},
   "outputs": [],
   "source": [
    "atus_2008_leisure = atus_2008_res_emp.loc[atus_2008_res_emp[\"TRCODEP\"] == \"120308\"]\n",
    "\n",
    "computer_2008_res_emp_merged = atus_2008_leisure.groupby([\"TUCASEID\"]).sum().filter([\"TUCASEID\", \"TUACTDUR24\"])\n",
    "computer_2008_res_emp_merged = pd.merge(computer_2008_res_emp_merged, multi_resp, on =\"TUCASEID\").filter([\"TUCASEID\",\"TUACTDUR24\",\"TUFNWGTP\"])\n",
    "computer_2008_res_emp_merged\n",
    "\n",
    "computer_2008_res_emp_merged[\"Mutiplied Weighted\"] = computer_2008_res_emp_merged[\"TUACTDUR24\"] * computer_2008_res_emp_merged[\"TUFNWGTP\"]"
   ]
  },
  {
   "cell_type": "code",
   "execution_count": 278,
   "metadata": {},
   "outputs": [
    {
     "data": {
      "text/plain": [
       "0.1069114312694856"
      ]
     },
     "execution_count": 278,
     "metadata": {},
     "output_type": "execute_result"
    }
   ],
   "source": [
    "computer_2008_res_emp_weight = computer_2008_res_emp_merged[\"Mutiplied Weighted\"].sum()\n",
    "computer_2008_res_emp_avg_hpd = computer_2008_res_emp_weight / all_2008_emp_weight /60\n",
    "computer_2008_res_emp_avg_hpd"
   ]
  },
  {
   "cell_type": "markdown",
   "metadata": {},
   "source": [
    "### 2009 Computer Use for Leisure (exc. Games)"
   ]
  },
  {
   "cell_type": "code",
   "execution_count": 279,
   "metadata": {},
   "outputs": [],
   "source": [
    "atus_2009_leisure = atus_2009_res_emp.loc[atus_2009_res_emp[\"TRCODEP\"] == \"120308\"]\n",
    "\n",
    "computer_2009_res_emp_merged = atus_2009_leisure.groupby([\"TUCASEID\"]).sum().filter([\"TUCASEID\", \"TUACTDUR24\"])\n",
    "computer_2009_res_emp_merged = pd.merge(computer_2009_res_emp_merged, multi_resp, on =\"TUCASEID\").filter([\"TUCASEID\",\"TUACTDUR24\",\"TUFNWGTP\"])\n",
    "computer_2009_res_emp_merged\n",
    "\n",
    "computer_2009_res_emp_merged[\"Mutiplied Weighted\"] = computer_2009_res_emp_merged[\"TUACTDUR24\"] * computer_2009_res_emp_merged[\"TUFNWGTP\"]"
   ]
  },
  {
   "cell_type": "code",
   "execution_count": 280,
   "metadata": {},
   "outputs": [
    {
     "data": {
      "text/plain": [
       "0.12133382321933368"
      ]
     },
     "execution_count": 280,
     "metadata": {},
     "output_type": "execute_result"
    }
   ],
   "source": [
    "computer_2009_res_emp_weight = computer_2009_res_emp_merged[\"Mutiplied Weighted\"].sum()\n",
    "computer_2009_res_emp_avg_hpd = computer_2009_res_emp_weight / all_2009_emp_weight /60\n",
    "computer_2009_res_emp_avg_hpd"
   ]
  },
  {
   "cell_type": "markdown",
   "metadata": {},
   "source": [
    "### 2010 Computer Use for Leisure (exc. Games)"
   ]
  },
  {
   "cell_type": "code",
   "execution_count": 281,
   "metadata": {},
   "outputs": [],
   "source": [
    "atus_2010_leisure = atus_2010_res_emp.loc[atus_2010_res_emp[\"TRCODEP\"] == \"120308\"]\n",
    "\n",
    "computer_2010_res_emp_merged = atus_2010_leisure.groupby([\"TUCASEID\"]).sum().filter([\"TUCASEID\", \"TUACTDUR24\"])\n",
    "computer_2010_res_emp_merged = pd.merge(computer_2010_res_emp_merged, multi_resp, on =\"TUCASEID\").filter([\"TUCASEID\",\"TUACTDUR24\",\"TUFNWGTP\"])\n",
    "computer_2010_res_emp_merged\n",
    "\n",
    "computer_2010_res_emp_merged[\"Mutiplied Weighted\"] = computer_2010_res_emp_merged[\"TUACTDUR24\"] * computer_2010_res_emp_merged[\"TUFNWGTP\"]"
   ]
  },
  {
   "cell_type": "code",
   "execution_count": 282,
   "metadata": {},
   "outputs": [
    {
     "data": {
      "text/plain": [
       "0.15419535640655194"
      ]
     },
     "execution_count": 282,
     "metadata": {},
     "output_type": "execute_result"
    }
   ],
   "source": [
    "computer_2010_res_emp_weight = computer_2010_res_emp_merged[\"Mutiplied Weighted\"].sum()\n",
    "computer_2010_res_emp_avg_hpd = computer_2010_res_emp_weight / all_2010_emp_weight /60\n",
    "computer_2010_res_emp_avg_hpd"
   ]
  },
  {
   "cell_type": "markdown",
   "metadata": {},
   "source": [
    "### 2011 Computer Use for Leisure (exc. Games)"
   ]
  },
  {
   "cell_type": "code",
   "execution_count": 283,
   "metadata": {},
   "outputs": [],
   "source": [
    "atus_2011_leisure = atus_2011_res_emp.loc[atus_2011_res_emp[\"TRCODEP\"] == \"120308\"]\n",
    "\n",
    "computer_2011_res_emp_merged = atus_2011_leisure.groupby([\"TUCASEID\"]).sum().filter([\"TUCASEID\", \"TUACTDUR24\"])\n",
    "computer_2011_res_emp_merged = pd.merge(computer_2011_res_emp_merged, multi_resp, on =\"TUCASEID\").filter([\"TUCASEID\",\"TUACTDUR24\",\"TUFNWGTP\"])\n",
    "computer_2011_res_emp_merged\n",
    "\n",
    "computer_2011_res_emp_merged[\"Mutiplied Weighted\"] = computer_2011_res_emp_merged[\"TUACTDUR24\"] * computer_2011_res_emp_merged[\"TUFNWGTP\"]"
   ]
  },
  {
   "cell_type": "code",
   "execution_count": 284,
   "metadata": {},
   "outputs": [
    {
     "data": {
      "text/plain": [
       "0.15399769784733106"
      ]
     },
     "execution_count": 284,
     "metadata": {},
     "output_type": "execute_result"
    }
   ],
   "source": [
    "computer_2011_res_emp_weight = computer_2011_res_emp_merged[\"Mutiplied Weighted\"].sum()\n",
    "computer_2011_res_emp_avg_hpd = computer_2011_res_emp_weight / all_2011_emp_weight /60\n",
    "computer_2011_res_emp_avg_hpd"
   ]
  },
  {
   "cell_type": "markdown",
   "metadata": {},
   "source": [
    "### 2012 Computer Use for Leisure (exc. Games)"
   ]
  },
  {
   "cell_type": "code",
   "execution_count": 285,
   "metadata": {},
   "outputs": [],
   "source": [
    "atus_2012_leisure = atus_2012_res_emp.loc[atus_2012_res_emp[\"TRCODEP\"] == \"120308\"]\n",
    "\n",
    "computer_2012_res_emp_merged = atus_2012_leisure.groupby([\"TUCASEID\"]).sum().filter([\"TUCASEID\", \"TUACTDUR24\"])\n",
    "computer_2012_res_emp_merged = pd.merge(computer_2012_res_emp_merged, multi_resp, on =\"TUCASEID\").filter([\"TUCASEID\",\"TUACTDUR24\",\"TUFNWGTP\"])\n",
    "computer_2012_res_emp_merged\n",
    "\n",
    "computer_2012_res_emp_merged[\"Mutiplied Weighted\"] = computer_2012_res_emp_merged[\"TUACTDUR24\"] * computer_2012_res_emp_merged[\"TUFNWGTP\"]"
   ]
  },
  {
   "cell_type": "code",
   "execution_count": 286,
   "metadata": {},
   "outputs": [
    {
     "data": {
      "text/plain": [
       "0.16657918969936733"
      ]
     },
     "execution_count": 286,
     "metadata": {},
     "output_type": "execute_result"
    }
   ],
   "source": [
    "computer_2012_res_emp_weight = computer_2012_res_emp_merged[\"Mutiplied Weighted\"].sum()\n",
    "computer_2012_res_emp_avg_hpd = computer_2012_res_emp_weight / all_2012_emp_weight /60\n",
    "computer_2012_res_emp_avg_hpd"
   ]
  },
  {
   "cell_type": "markdown",
   "metadata": {},
   "source": [
    "### 2013 Computer Use for Leisure (exc. Games)"
   ]
  },
  {
   "cell_type": "code",
   "execution_count": 287,
   "metadata": {},
   "outputs": [],
   "source": [
    "atus_2013_leisure = atus_2013_res_emp.loc[atus_2013_res_emp[\"TRCODEP\"] == \"120308\"]\n",
    "\n",
    "computer_2013_res_emp_merged = atus_2013_leisure.groupby([\"TUCASEID\"]).sum().filter([\"TUCASEID\", \"TUACTDUR24\"])\n",
    "computer_2013_res_emp_merged = pd.merge(computer_2013_res_emp_merged, multi_resp, on =\"TUCASEID\").filter([\"TUCASEID\",\"TUACTDUR24\",\"TUFNWGTP\"])\n",
    "computer_2013_res_emp_merged\n",
    "\n",
    "computer_2013_res_emp_merged[\"Mutiplied Weighted\"] = computer_2013_res_emp_merged[\"TUACTDUR24\"] * computer_2013_res_emp_merged[\"TUFNWGTP\"]"
   ]
  },
  {
   "cell_type": "code",
   "execution_count": 288,
   "metadata": {},
   "outputs": [
    {
     "data": {
      "text/plain": [
       "0.16066628633366495"
      ]
     },
     "execution_count": 288,
     "metadata": {},
     "output_type": "execute_result"
    }
   ],
   "source": [
    "computer_2013_res_emp_weight = computer_2013_res_emp_merged[\"Mutiplied Weighted\"].sum()\n",
    "computer_2013_res_emp_avg_hpd = computer_2013_res_emp_weight / all_2013_emp_weight /60\n",
    "computer_2013_res_emp_avg_hpd"
   ]
  },
  {
   "cell_type": "markdown",
   "metadata": {},
   "source": [
    "### 2014 Computer Use for Leisure (exc. Games)"
   ]
  },
  {
   "cell_type": "code",
   "execution_count": 289,
   "metadata": {},
   "outputs": [],
   "source": [
    "atus_2014_leisure = atus_2014_res_emp.loc[atus_2014_res_emp[\"TRCODEP\"] == \"120308\"]\n",
    "\n",
    "computer_2014_res_emp_merged = atus_2014_leisure.groupby([\"TUCASEID\"]).sum().filter([\"TUCASEID\", \"TUACTDUR24\"])\n",
    "computer_2014_res_emp_merged = pd.merge(computer_2014_res_emp_merged, multi_resp, on =\"TUCASEID\").filter([\"TUCASEID\",\"TUACTDUR24\",\"TUFNWGTP\"])\n",
    "computer_2014_res_emp_merged\n",
    "\n",
    "computer_2014_res_emp_merged[\"Mutiplied Weighted\"] = computer_2014_res_emp_merged[\"TUACTDUR24\"] * computer_2014_res_emp_merged[\"TUFNWGTP\"]"
   ]
  },
  {
   "cell_type": "code",
   "execution_count": 290,
   "metadata": {},
   "outputs": [
    {
     "data": {
      "text/plain": [
       "0.17732494814355562"
      ]
     },
     "execution_count": 290,
     "metadata": {},
     "output_type": "execute_result"
    }
   ],
   "source": [
    "computer_2014_res_emp_weight = computer_2014_res_emp_merged[\"Mutiplied Weighted\"].sum()\n",
    "computer_2014_res_emp_avg_hpd = computer_2014_res_emp_weight / all_2014_emp_weight /60\n",
    "computer_2014_res_emp_avg_hpd"
   ]
  },
  {
   "cell_type": "markdown",
   "metadata": {},
   "source": [
    "### 2015 Computer Use for Leisure (exc. Games)"
   ]
  },
  {
   "cell_type": "code",
   "execution_count": 291,
   "metadata": {},
   "outputs": [],
   "source": [
    "atus_2015_leisure = atus_2015_res_emp.loc[atus_2015_res_emp[\"TRCODEP\"] == \"120308\"]\n",
    "\n",
    "computer_2015_res_emp_merged = atus_2015_leisure.groupby([\"TUCASEID\"]).sum().filter([\"TUCASEID\", \"TUACTDUR24\"])\n",
    "computer_2015_res_emp_merged = pd.merge(computer_2015_res_emp_merged, multi_resp, on =\"TUCASEID\").filter([\"TUCASEID\",\"TUACTDUR24\",\"TUFNWGTP\"])\n",
    "computer_2015_res_emp_merged\n",
    "\n",
    "computer_2015_res_emp_merged[\"Mutiplied Weighted\"] = computer_2015_res_emp_merged[\"TUACTDUR24\"] * computer_2015_res_emp_merged[\"TUFNWGTP\"]"
   ]
  },
  {
   "cell_type": "code",
   "execution_count": 292,
   "metadata": {},
   "outputs": [
    {
     "data": {
      "text/plain": [
       "0.13802417548795554"
      ]
     },
     "execution_count": 292,
     "metadata": {},
     "output_type": "execute_result"
    }
   ],
   "source": [
    "computer_2015_res_emp_weight = computer_2015_res_emp_merged[\"Mutiplied Weighted\"].sum()\n",
    "computer_2015_res_emp_avg_hpd = computer_2015_res_emp_weight / all_2015_emp_weight /60\n",
    "computer_2015_res_emp_avg_hpd"
   ]
  },
  {
   "cell_type": "markdown",
   "metadata": {},
   "source": [
    "### 2016 Computer Use for Leisure (exc. Games)"
   ]
  },
  {
   "cell_type": "code",
   "execution_count": 293,
   "metadata": {},
   "outputs": [],
   "source": [
    "atus_2016_leisure = atus_2016_res_emp.loc[atus_2016_res_emp[\"TRCODEP\"] == \"120308\"]\n",
    "\n",
    "computer_2016_res_emp_merged = atus_2016_leisure.groupby([\"TUCASEID\"]).sum().filter([\"TUCASEID\", \"TUACTDUR24\"])\n",
    "computer_2016_res_emp_merged = pd.merge(computer_2016_res_emp_merged, multi_resp, on =\"TUCASEID\").filter([\"TUCASEID\",\"TUACTDUR24\",\"TUFNWGTP\"])\n",
    "computer_2016_res_emp_merged\n",
    "\n",
    "computer_2016_res_emp_merged[\"Mutiplied Weighted\"] = computer_2016_res_emp_merged[\"TUACTDUR24\"] * computer_2016_res_emp_merged[\"TUFNWGTP\"]"
   ]
  },
  {
   "cell_type": "code",
   "execution_count": 294,
   "metadata": {},
   "outputs": [
    {
     "data": {
      "text/plain": [
       "0.1437141686578358"
      ]
     },
     "execution_count": 294,
     "metadata": {},
     "output_type": "execute_result"
    }
   ],
   "source": [
    "computer_2016_res_emp_weight = computer_2016_res_emp_merged[\"Mutiplied Weighted\"].sum()\n",
    "computer_2016_res_emp_avg_hpd = computer_2016_res_emp_weight / all_2016_emp_weight /60\n",
    "computer_2016_res_emp_avg_hpd"
   ]
  },
  {
   "cell_type": "markdown",
   "metadata": {},
   "source": [
    "### 2017 Computer Use for Leisure (exc. Games)"
   ]
  },
  {
   "cell_type": "code",
   "execution_count": 295,
   "metadata": {},
   "outputs": [],
   "source": [
    "atus_2017_leisure = atus_2017_res_emp.loc[atus_2017_res_emp[\"TRCODEP\"] == \"120308\"]\n",
    "\n",
    "computer_2017_res_emp_merged = atus_2017_leisure.groupby([\"TUCASEID\"]).sum().filter([\"TUCASEID\", \"TUACTDUR24\"])\n",
    "computer_2017_res_emp_merged = pd.merge(computer_2017_res_emp_merged, multi_resp, on =\"TUCASEID\").filter([\"TUCASEID\",\"TUACTDUR24\",\"TUFNWGTP\"])\n",
    "computer_2017_res_emp_merged\n",
    "\n",
    "computer_2017_res_emp_merged[\"Mutiplied Weighted\"] = computer_2017_res_emp_merged[\"TUACTDUR24\"] * computer_2017_res_emp_merged[\"TUFNWGTP\"]"
   ]
  },
  {
   "cell_type": "code",
   "execution_count": 296,
   "metadata": {},
   "outputs": [
    {
     "data": {
      "text/plain": [
       "0.13381043361793976"
      ]
     },
     "execution_count": 296,
     "metadata": {},
     "output_type": "execute_result"
    }
   ],
   "source": [
    "computer_2017_res_emp_weight = computer_2017_res_emp_merged[\"Mutiplied Weighted\"].sum()\n",
    "computer_2017_res_emp_avg_hpd = computer_2017_res_emp_weight / all_2017_emp_weight /60\n",
    "computer_2017_res_emp_avg_hpd"
   ]
  },
  {
   "cell_type": "markdown",
   "metadata": {},
   "source": [
    "### 2018 Computer Use for Leisure (exc. Games)"
   ]
  },
  {
   "cell_type": "code",
   "execution_count": 297,
   "metadata": {},
   "outputs": [],
   "source": [
    "atus_2018_leisure = atus_2018_res_emp.loc[atus_2018_res_emp[\"TRCODEP\"] == \"120308\"]\n",
    "\n",
    "computer_2018_res_emp_merged = atus_2018_leisure.groupby([\"TUCASEID\"]).sum().filter([\"TUCASEID\", \"TUACTDUR24\"])\n",
    "computer_2018_res_emp_merged = pd.merge(computer_2018_res_emp_merged, multi_resp, on =\"TUCASEID\").filter([\"TUCASEID\",\"TUACTDUR24\",\"TUFNWGTP\"])\n",
    "computer_2018_res_emp_merged\n",
    "\n",
    "computer_2018_res_emp_merged[\"Mutiplied Weighted\"] = computer_2018_res_emp_merged[\"TUACTDUR24\"] * computer_2018_res_emp_merged[\"TUFNWGTP\"]"
   ]
  },
  {
   "cell_type": "code",
   "execution_count": 298,
   "metadata": {},
   "outputs": [
    {
     "data": {
      "text/plain": [
       "0.14419684915868994"
      ]
     },
     "execution_count": 298,
     "metadata": {},
     "output_type": "execute_result"
    }
   ],
   "source": [
    "computer_2018_res_emp_weight = computer_2018_res_emp_merged[\"Mutiplied Weighted\"].sum()\n",
    "computer_2018_res_emp_avg_hpd = computer_2018_res_emp_weight / all_2018_emp_weight /60\n",
    "computer_2018_res_emp_avg_hpd"
   ]
  },
  {
   "cell_type": "markdown",
   "metadata": {},
   "source": [
    "### 2019 Computer Use for Leisure (exc. Games)"
   ]
  },
  {
   "cell_type": "code",
   "execution_count": 299,
   "metadata": {},
   "outputs": [],
   "source": [
    "atus_2019_leisure = atus_2019_res_emp.loc[atus_2019_res_emp[\"TRCODEP\"] == \"120308\"]\n",
    "\n",
    "computer_2019_res_emp_merged = atus_2019_leisure.groupby([\"TUCASEID\"]).sum().filter([\"TUCASEID\", \"TUACTDUR24\"])\n",
    "computer_2019_res_emp_merged = pd.merge(computer_2019_res_emp_merged, multi_resp, on =\"TUCASEID\").filter([\"TUCASEID\",\"TUACTDUR24\",\"TUFNWGTP\"])\n",
    "computer_2019_res_emp_merged\n",
    "\n",
    "computer_2019_res_emp_merged[\"Mutiplied Weighted\"] = computer_2019_res_emp_merged[\"TUACTDUR24\"] * computer_2019_res_emp_merged[\"TUFNWGTP\"]"
   ]
  },
  {
   "cell_type": "code",
   "execution_count": 300,
   "metadata": {},
   "outputs": [
    {
     "data": {
      "text/plain": [
       "0.13073623903441733"
      ]
     },
     "execution_count": 300,
     "metadata": {},
     "output_type": "execute_result"
    }
   ],
   "source": [
    "computer_2019_res_emp_weight = computer_2019_res_emp_merged[\"Mutiplied Weighted\"].sum()\n",
    "computer_2019_res_emp_avg_hpd = computer_2019_res_emp_weight / all_2019_emp_weight /60\n",
    "computer_2019_res_emp_avg_hpd"
   ]
  },
  {
   "cell_type": "markdown",
   "metadata": {},
   "source": [
    "### 2003 - 2019 Computer Regression Residential - Employed"
   ]
  },
  {
   "cell_type": "markdown",
   "metadata": {},
   "source": [
    "#### 2003-2012 Regression"
   ]
  },
  {
   "cell_type": "code",
   "execution_count": 301,
   "metadata": {},
   "outputs": [],
   "source": [
    "year = np.array([2003, 2004, 2005, 2006, 2007, 2008, 2009, 2010,2011,2012]).reshape((-1, 1))\n",
    "activity_hours_per_day = np.array([computer_2003_res_emp_avg_hpd, computer_2004_res_emp_avg_hpd, computer_2005_res_emp_avg_hpd, computer_2006_res_emp_avg_hpd, computer_2007_res_emp_avg_hpd, computer_2008_res_emp_avg_hpd, computer_2009_res_emp_avg_hpd, computer_2010_res_emp_avg_hpd, computer_2011_res_emp_avg_hpd, computer_2012_res_emp_avg_hpd]).reshape((-1, 1))\n",
    "\n",
    "activity_hours_per_yr = [i * 365 for i in activity_hours_per_day]\n",
    "#activity_hours_per_yr"
   ]
  },
  {
   "cell_type": "code",
   "execution_count": 302,
   "metadata": {},
   "outputs": [
    {
     "data": {
      "image/png": "[encoded data removed]",
      "text/plain": [
       "<Figure size 432x288 with 1 Axes>"
      ]
     },
     "metadata": {
      "needs_background": "light"
     },
     "output_type": "display_data"
    }
   ],
   "source": [
    "x = year\n",
    "y = activity_hours_per_yr\n",
    "x, y = np.array(x), np.array(y)\n",
    "\n",
    "model = LinearRegression().fit(x, y)\n",
    "\n",
    "y_pred = model.predict(x)  \n",
    "\n",
    "plt.scatter(x, y)\n",
    "plt.plot(x, y_pred, color='red')\n",
    "plt.show()"
   ]
  },
  {
   "cell_type": "code",
   "execution_count": 303,
   "metadata": {},
   "outputs": [
    {
     "data": {
      "text/plain": [
       "0.5156310838158662"
      ]
     },
     "execution_count": 303,
     "metadata": {},
     "output_type": "execute_result"
    }
   ],
   "source": [
    "coefficient_of_determination = model.score(x,y)\n",
    "coefficient_of_determination"
   ]
  },
  {
   "cell_type": "code",
   "execution_count": 304,
   "metadata": {},
   "outputs": [
    {
     "data": {
      "text/plain": [
       "array([[1.78302663]])"
      ]
     },
     "execution_count": 304,
     "metadata": {},
     "output_type": "execute_result"
    }
   ],
   "source": [
    "computer_res_emp_2003_2012_slope = model.coef_\n",
    "computer_res_emp_2003_2012_slope"
   ]
  },
  {
   "cell_type": "markdown",
   "metadata": {},
   "source": [
    "#### 2003 - 2019 Regression"
   ]
  },
  {
   "cell_type": "code",
   "execution_count": 305,
   "metadata": {},
   "outputs": [],
   "source": [
    "year = np.array([2003, 2004, 2005, 2006, 2007, 2008, 2009, 2010,2011,2012, 2013, 2014, 2015, 2016, 2017, 2018, 2019]).reshape((-1, 1))\n",
    "activity_hours_per_day = np.array([computer_2003_res_emp_avg_hpd, computer_2004_res_emp_avg_hpd, computer_2005_res_emp_avg_hpd, computer_2006_res_emp_avg_hpd, computer_2007_res_emp_avg_hpd, \n",
    "                                   computer_2008_res_emp_avg_hpd, computer_2009_res_emp_avg_hpd, computer_2010_res_emp_avg_hpd, computer_2011_res_emp_avg_hpd, computer_2012_res_emp_avg_hpd,\n",
    "                                 computer_2013_res_emp_avg_hpd, computer_2014_res_emp_avg_hpd, computer_2015_res_emp_avg_hpd, computer_2016_res_emp_avg_hpd, computer_2017_res_emp_avg_hpd,\n",
    "                                  computer_2018_res_emp_avg_hpd, computer_2019_res_emp_avg_hpd]).reshape((-1, 1))\n",
    "\n",
    "activity_hours_per_yr = [i * 365 for i in activity_hours_per_day]\n",
    "#activity_hours_per_yr"
   ]
  },
  {
   "cell_type": "code",
   "execution_count": 306,
   "metadata": {},
   "outputs": [
    {
     "data": {
      "image/png": "[encoded data removed]",
      "text/plain": [
       "<Figure size 432x288 with 1 Axes>"
      ]
     },
     "metadata": {
      "needs_background": "light"
     },
     "output_type": "display_data"
    }
   ],
   "source": [
    "x = year\n",
    "y = activity_hours_per_yr\n",
    "x, y = np.array(x), np.array(y)\n",
    "\n",
    "model = LinearRegression().fit(x, y)\n",
    "\n",
    "y_pred = model.predict(x)  \n",
    "\n",
    "plt.scatter(x, y)\n",
    "plt.plot(x, y_pred, color='red')\n",
    "plt.show()"
   ]
  },
  {
   "cell_type": "code",
   "execution_count": 307,
   "metadata": {},
   "outputs": [
    {
     "data": {
      "text/plain": [
       "0.2583023735474391"
      ]
     },
     "execution_count": 307,
     "metadata": {},
     "output_type": "execute_result"
    }
   ],
   "source": [
    "coefficient_of_determination = model.score(x,y)\n",
    "coefficient_of_determination"
   ]
  },
  {
   "cell_type": "code",
   "execution_count": 308,
   "metadata": {},
   "outputs": [
    {
     "data": {
      "text/plain": [
       "array([[0.74890202]])"
      ]
     },
     "execution_count": 308,
     "metadata": {},
     "output_type": "execute_result"
    }
   ],
   "source": [
    "computer_res_emp_2003_2012_slope = model.coef_\n",
    "computer_res_emp_2003_2012_slope"
   ]
  },
  {
   "cell_type": "markdown",
   "metadata": {},
   "source": [
    "## 2003 - 2019 Playing Games Residential - Employed"
   ]
  },
  {
   "cell_type": "markdown",
   "metadata": {},
   "source": [
    "### 2003 Playing Games "
   ]
  },
  {
   "cell_type": "code",
   "execution_count": 309,
   "metadata": {},
   "outputs": [],
   "source": [
    "#120307 = Playing Games\n",
    "playing_game_2003 = atus_2003_res_emp.loc[atus_2003_res_emp[\"TRCODEP\"] == \"120307\"]\n",
    "#playing_game_2003"
   ]
  },
  {
   "cell_type": "code",
   "execution_count": 310,
   "metadata": {},
   "outputs": [],
   "source": [
    "playing_game = playing_game_2003.groupby([\"TUCASEID\"]).sum().filter([\"TUCASEID\", \"TUACTDUR24\"])\n",
    "game_2003_res_emp_merged = pd.merge(playing_game, multi_resp, on =\"TUCASEID\").filter([\"TUCASEID\",\"TUACTDUR24\",\"TUFNWGTP\"])\n",
    "\n",
    "\n",
    "game_2003_res_emp_merged[\"Mutiplied Weighted\"] = game_2003_res_emp_merged[\"TUACTDUR24\"] * game_2003_res_emp_merged[\"TUFNWGTP\"]\n",
    "#game_2003_res_emp_merged"
   ]
  },
  {
   "cell_type": "code",
   "execution_count": 311,
   "metadata": {},
   "outputs": [
    {
     "data": {
      "text/plain": [
       "377657752864.28204"
      ]
     },
     "execution_count": 311,
     "metadata": {},
     "output_type": "execute_result"
    }
   ],
   "source": [
    "game_2003_res_emp_weight = game_2003_res_emp_merged[\"Mutiplied Weighted\"].sum()\n",
    "game_2003_res_emp_weight"
   ]
  },
  {
   "cell_type": "code",
   "execution_count": 312,
   "metadata": {},
   "outputs": [
    {
     "data": {
      "text/plain": [
       "0.11834233489763948"
      ]
     },
     "execution_count": 312,
     "metadata": {},
     "output_type": "execute_result"
    }
   ],
   "source": [
    "game_2003_res_weight_avg_hpd = game_2003_res_emp_weight / all_2003_emp_weight / 60\n",
    "game_2003_res_weight_avg_hpd"
   ]
  },
  {
   "cell_type": "markdown",
   "metadata": {},
   "source": [
    "### 2004 Playing Games"
   ]
  },
  {
   "cell_type": "code",
   "execution_count": 313,
   "metadata": {},
   "outputs": [],
   "source": [
    "playing_game_2004 = atus_2004_res_emp.loc[atus_2004_res_emp[\"TRCODEP\"] == \"120307\"]\n",
    "\n",
    "playing_game = playing_game_2004.groupby([\"TUCASEID\"]).sum().filter([\"TUCASEID\", \"TUACTDUR24\"])\n",
    "game_2004_res_emp_merged = pd.merge(playing_game, multi_resp, on =\"TUCASEID\").filter([\"TUCASEID\",\"TUACTDUR24\",\"TUFNWGTP\"])\n",
    "\n",
    "\n",
    "game_2004_res_emp_merged[\"Mutiplied Weighted\"] = game_2004_res_emp_merged[\"TUACTDUR24\"] * game_2004_res_emp_merged[\"TUFNWGTP\"]\n",
    "#game_2004_res_emp_merged"
   ]
  },
  {
   "cell_type": "code",
   "execution_count": 314,
   "metadata": {},
   "outputs": [
    {
     "data": {
      "text/plain": [
       "0.1143190193856555"
      ]
     },
     "execution_count": 314,
     "metadata": {},
     "output_type": "execute_result"
    }
   ],
   "source": [
    "game_2004_res_emp_weight = game_2004_res_emp_merged[\"Mutiplied Weighted\"].sum()\n",
    "\n",
    "game_2004_res_weight_avg_hpd = game_2004_res_emp_weight / all_2004_emp_weight / 60\n",
    "game_2004_res_weight_avg_hpd"
   ]
  },
  {
   "cell_type": "markdown",
   "metadata": {},
   "source": [
    "### 2005 Playing Games"
   ]
  },
  {
   "cell_type": "code",
   "execution_count": 315,
   "metadata": {},
   "outputs": [],
   "source": [
    "playing_game_2005 = atus_2005_res_emp.loc[atus_2005_res_emp[\"TRCODEP\"] == \"120307\"]\n",
    "\n",
    "playing_game = playing_game_2005.groupby([\"TUCASEID\"]).sum().filter([\"TUCASEID\", \"TUACTDUR24\"])\n",
    "game_2005_res_emp_merged = pd.merge(playing_game, multi_resp, on =\"TUCASEID\").filter([\"TUCASEID\",\"TUACTDUR24\",\"TUFNWGTP\"])\n",
    "\n",
    "\n",
    "game_2005_res_emp_merged[\"Mutiplied Weighted\"] = game_2005_res_emp_merged[\"TUACTDUR24\"] * game_2005_res_emp_merged[\"TUFNWGTP\"]\n",
    "#game_2005_res_emp_merged"
   ]
  },
  {
   "cell_type": "code",
   "execution_count": 316,
   "metadata": {},
   "outputs": [
    {
     "data": {
      "text/plain": [
       "0.13113248667172234"
      ]
     },
     "execution_count": 316,
     "metadata": {},
     "output_type": "execute_result"
    }
   ],
   "source": [
    "game_2005_res_emp_weight = game_2005_res_emp_merged[\"Mutiplied Weighted\"].sum()\n",
    "\n",
    "game_2005_res_weight_avg_hpd = game_2005_res_emp_weight / all_2005_emp_weight / 60\n",
    "game_2005_res_weight_avg_hpd"
   ]
  },
  {
   "cell_type": "markdown",
   "metadata": {},
   "source": [
    "### 2006 Playing Games"
   ]
  },
  {
   "cell_type": "code",
   "execution_count": 317,
   "metadata": {},
   "outputs": [],
   "source": [
    "playing_game_2006 = atus_2006_res_emp.loc[atus_2006_res_emp[\"TRCODEP\"] == \"120307\"]\n",
    "\n",
    "playing_game = playing_game_2006.groupby([\"TUCASEID\"]).sum().filter([\"TUCASEID\", \"TUACTDUR24\"])\n",
    "game_2006_res_emp_merged = pd.merge(playing_game, multi_resp, on =\"TUCASEID\").filter([\"TUCASEID\",\"TUACTDUR24\",\"TUFNWGTP\"])\n",
    "\n",
    "\n",
    "game_2006_res_emp_merged[\"Mutiplied Weighted\"] = game_2006_res_emp_merged[\"TUACTDUR24\"] * game_2006_res_emp_merged[\"TUFNWGTP\"]\n",
    "#game_2006_res_emp_merged"
   ]
  },
  {
   "cell_type": "code",
   "execution_count": 318,
   "metadata": {},
   "outputs": [
    {
     "data": {
      "text/plain": [
       "0.11979458081115596"
      ]
     },
     "execution_count": 318,
     "metadata": {},
     "output_type": "execute_result"
    }
   ],
   "source": [
    "game_2006_res_emp_weight = game_2006_res_emp_merged[\"Mutiplied Weighted\"].sum()\n",
    "\n",
    "game_2006_res_weight_avg_hpd = game_2006_res_emp_weight / all_2006_emp_weight / 60\n",
    "game_2006_res_weight_avg_hpd"
   ]
  },
  {
   "cell_type": "markdown",
   "metadata": {},
   "source": [
    "### 2007 Playing Games"
   ]
  },
  {
   "cell_type": "code",
   "execution_count": 319,
   "metadata": {},
   "outputs": [],
   "source": [
    "playing_game_2007 = atus_2007_res_emp.loc[atus_2007_res_emp[\"TRCODEP\"] == \"120307\"]\n",
    "\n",
    "playing_game = playing_game_2007.groupby([\"TUCASEID\"]).sum().filter([\"TUCASEID\", \"TUACTDUR24\"])\n",
    "game_2007_res_emp_merged = pd.merge(playing_game, multi_resp, on =\"TUCASEID\").filter([\"TUCASEID\",\"TUACTDUR24\",\"TUFNWGTP\"])\n",
    "\n",
    "\n",
    "game_2007_res_emp_merged[\"Mutiplied Weighted\"] = game_2007_res_emp_merged[\"TUACTDUR24\"] * game_2007_res_emp_merged[\"TUFNWGTP\"]\n",
    "#game_2007_res_emp_merged"
   ]
  },
  {
   "cell_type": "code",
   "execution_count": 320,
   "metadata": {},
   "outputs": [
    {
     "data": {
      "text/plain": [
       "0.13114605362745244"
      ]
     },
     "execution_count": 320,
     "metadata": {},
     "output_type": "execute_result"
    }
   ],
   "source": [
    "game_2007_res_emp_weight = game_2007_res_emp_merged[\"Mutiplied Weighted\"].sum()\n",
    "\n",
    "game_2007_res_weight_avg_hpd = game_2007_res_emp_weight / all_2007_emp_weight / 60\n",
    "game_2007_res_weight_avg_hpd"
   ]
  },
  {
   "cell_type": "markdown",
   "metadata": {},
   "source": [
    "### 2008 Playing Games"
   ]
  },
  {
   "cell_type": "code",
   "execution_count": 321,
   "metadata": {},
   "outputs": [],
   "source": [
    "playing_game_2008 = atus_2008_res_emp.loc[atus_2008_res_emp[\"TRCODEP\"] == \"120307\"]\n",
    "\n",
    "playing_game = playing_game_2008.groupby([\"TUCASEID\"]).sum().filter([\"TUCASEID\", \"TUACTDUR24\"])\n",
    "game_2008_res_emp_merged = pd.merge(playing_game, multi_resp, on =\"TUCASEID\").filter([\"TUCASEID\",\"TUACTDUR24\",\"TUFNWGTP\"])\n",
    "\n",
    "\n",
    "game_2008_res_emp_merged[\"Mutiplied Weighted\"] = game_2008_res_emp_merged[\"TUACTDUR24\"] * game_2008_res_emp_merged[\"TUFNWGTP\"]\n",
    "#game_2008_res_emp_merged"
   ]
  },
  {
   "cell_type": "code",
   "execution_count": 322,
   "metadata": {},
   "outputs": [
    {
     "data": {
      "text/plain": [
       "0.1317410682022608"
      ]
     },
     "execution_count": 322,
     "metadata": {},
     "output_type": "execute_result"
    }
   ],
   "source": [
    "game_2008_res_emp_weight = game_2008_res_emp_merged[\"Mutiplied Weighted\"].sum()\n",
    "\n",
    "game_2008_res_weight_avg_hpd = game_2008_res_emp_weight / all_2008_emp_weight / 60\n",
    "game_2008_res_weight_avg_hpd"
   ]
  },
  {
   "cell_type": "markdown",
   "metadata": {},
   "source": [
    "### 2009 Playing Games"
   ]
  },
  {
   "cell_type": "code",
   "execution_count": 323,
   "metadata": {},
   "outputs": [],
   "source": [
    "playing_game_2009 = atus_2009_res_emp.loc[atus_2009_res_emp[\"TRCODEP\"] == \"120307\"]\n",
    "\n",
    "playing_game = playing_game_2009.groupby([\"TUCASEID\"]).sum().filter([\"TUCASEID\", \"TUACTDUR24\"])\n",
    "game_2009_res_emp_merged = pd.merge(playing_game, multi_resp, on =\"TUCASEID\").filter([\"TUCASEID\",\"TUACTDUR24\",\"TUFNWGTP\"])\n",
    "\n",
    "\n",
    "game_2009_res_emp_merged[\"Mutiplied Weighted\"] = game_2009_res_emp_merged[\"TUACTDUR24\"] * game_2009_res_emp_merged[\"TUFNWGTP\"]\n",
    "#game_2009_res_emp_merged"
   ]
  },
  {
   "cell_type": "code",
   "execution_count": 324,
   "metadata": {},
   "outputs": [
    {
     "data": {
      "text/plain": [
       "0.13822623255304242"
      ]
     },
     "execution_count": 324,
     "metadata": {},
     "output_type": "execute_result"
    }
   ],
   "source": [
    "game_2009_res_emp_weight = game_2009_res_emp_merged[\"Mutiplied Weighted\"].sum()\n",
    "\n",
    "game_2009_res_weight_avg_hpd = game_2009_res_emp_weight / all_2009_emp_weight / 60\n",
    "game_2009_res_weight_avg_hpd"
   ]
  },
  {
   "cell_type": "markdown",
   "metadata": {},
   "source": [
    "### 2010 Playing Games"
   ]
  },
  {
   "cell_type": "code",
   "execution_count": 325,
   "metadata": {},
   "outputs": [],
   "source": [
    "playing_game_2010 = atus_2010_res_emp.loc[atus_2010_res_emp[\"TRCODEP\"] == \"120307\"]\n",
    "\n",
    "playing_game = playing_game_2010.groupby([\"TUCASEID\"]).sum().filter([\"TUCASEID\", \"TUACTDUR24\"])\n",
    "game_2010_res_emp_merged = pd.merge(playing_game, multi_resp, on =\"TUCASEID\").filter([\"TUCASEID\",\"TUACTDUR24\",\"TUFNWGTP\"])\n",
    "\n",
    "\n",
    "game_2010_res_emp_merged[\"Mutiplied Weighted\"] = game_2010_res_emp_merged[\"TUACTDUR24\"] * game_2010_res_emp_merged[\"TUFNWGTP\"]\n",
    "#game_2010_res_emp_merged"
   ]
  },
  {
   "cell_type": "code",
   "execution_count": 326,
   "metadata": {},
   "outputs": [
    {
     "data": {
      "text/plain": [
       "0.14210696250985272"
      ]
     },
     "execution_count": 326,
     "metadata": {},
     "output_type": "execute_result"
    }
   ],
   "source": [
    "game_2010_res_emp_weight = game_2010_res_emp_merged[\"Mutiplied Weighted\"].sum()\n",
    "\n",
    "game_2010_res_weight_avg_hpd = game_2010_res_emp_weight / all_2010_emp_weight / 60\n",
    "game_2010_res_weight_avg_hpd"
   ]
  },
  {
   "cell_type": "markdown",
   "metadata": {},
   "source": [
    "### 2011 Playing Games"
   ]
  },
  {
   "cell_type": "code",
   "execution_count": 327,
   "metadata": {},
   "outputs": [],
   "source": [
    "playing_game_2011 = atus_2011_res_emp.loc[atus_2011_res_emp[\"TRCODEP\"] == \"120307\"]\n",
    "\n",
    "playing_game = playing_game_2011.groupby([\"TUCASEID\"]).sum().filter([\"TUCASEID\", \"TUACTDUR24\"])\n",
    "game_2011_res_emp_merged = pd.merge(playing_game, multi_resp, on =\"TUCASEID\").filter([\"TUCASEID\",\"TUACTDUR24\",\"TUFNWGTP\"])\n",
    "\n",
    "\n",
    "game_2011_res_emp_merged[\"Mutiplied Weighted\"] = game_2011_res_emp_merged[\"TUACTDUR24\"] * game_2011_res_emp_merged[\"TUFNWGTP\"]\n",
    "#game_2011_res_emp_merged"
   ]
  },
  {
   "cell_type": "code",
   "execution_count": 328,
   "metadata": {},
   "outputs": [
    {
     "data": {
      "text/plain": [
       "0.12394052387135648"
      ]
     },
     "execution_count": 328,
     "metadata": {},
     "output_type": "execute_result"
    }
   ],
   "source": [
    "game_2011_res_emp_weight = game_2011_res_emp_merged[\"Mutiplied Weighted\"].sum()\n",
    "\n",
    "game_2011_res_weight_avg_hpd = game_2011_res_emp_weight / all_2011_emp_weight / 60\n",
    "game_2011_res_weight_avg_hpd"
   ]
  },
  {
   "cell_type": "markdown",
   "metadata": {},
   "source": [
    "### 2012 Playing Games"
   ]
  },
  {
   "cell_type": "code",
   "execution_count": 329,
   "metadata": {},
   "outputs": [],
   "source": [
    "playing_game_2012 = atus_2012_res_emp.loc[atus_2012_res_emp[\"TRCODEP\"] == \"120307\"]\n",
    "\n",
    "playing_game = playing_game_2012.groupby([\"TUCASEID\"]).sum().filter([\"TUCASEID\", \"TUACTDUR24\"])\n",
    "game_2012_res_emp_merged = pd.merge(playing_game, multi_resp, on =\"TUCASEID\").filter([\"TUCASEID\",\"TUACTDUR24\",\"TUFNWGTP\"])\n",
    "\n",
    "\n",
    "game_2012_res_emp_merged[\"Mutiplied Weighted\"] = game_2012_res_emp_merged[\"TUACTDUR24\"] * game_2012_res_emp_merged[\"TUFNWGTP\"]\n",
    "#game_2012_res_emp_merged"
   ]
  },
  {
   "cell_type": "code",
   "execution_count": 330,
   "metadata": {},
   "outputs": [
    {
     "data": {
      "text/plain": [
       "0.13103672049725268"
      ]
     },
     "execution_count": 330,
     "metadata": {},
     "output_type": "execute_result"
    }
   ],
   "source": [
    "game_2012_res_emp_weight = game_2012_res_emp_merged[\"Mutiplied Weighted\"].sum()\n",
    "\n",
    "game_2012_res_weight_avg_hpd = game_2012_res_emp_weight / all_2012_emp_weight / 60\n",
    "game_2012_res_weight_avg_hpd"
   ]
  },
  {
   "cell_type": "markdown",
   "metadata": {},
   "source": [
    "### 2013 Playing Games"
   ]
  },
  {
   "cell_type": "code",
   "execution_count": 331,
   "metadata": {},
   "outputs": [],
   "source": [
    "playing_game_2013 = atus_2013_res_emp.loc[atus_2013_res_emp[\"TRCODEP\"] == \"120307\"]\n",
    "\n",
    "playing_game = playing_game_2013.groupby([\"TUCASEID\"]).sum().filter([\"TUCASEID\", \"TUACTDUR24\"])\n",
    "game_2013_res_emp_merged = pd.merge(playing_game, multi_resp, on =\"TUCASEID\").filter([\"TUCASEID\",\"TUACTDUR24\",\"TUFNWGTP\"])\n",
    "\n",
    "\n",
    "game_2013_res_emp_merged[\"Mutiplied Weighted\"] = game_2013_res_emp_merged[\"TUACTDUR24\"] * game_2013_res_emp_merged[\"TUFNWGTP\"]\n",
    "#game_2013_res_emp_merged"
   ]
  },
  {
   "cell_type": "code",
   "execution_count": 332,
   "metadata": {},
   "outputs": [
    {
     "data": {
      "text/plain": [
       "0.14637280244899403"
      ]
     },
     "execution_count": 332,
     "metadata": {},
     "output_type": "execute_result"
    }
   ],
   "source": [
    "game_2013_res_emp_weight = game_2013_res_emp_merged[\"Mutiplied Weighted\"].sum()\n",
    "\n",
    "game_2013_res_weight_avg_hpd = game_2013_res_emp_weight / all_2013_emp_weight / 60\n",
    "game_2013_res_weight_avg_hpd"
   ]
  },
  {
   "cell_type": "markdown",
   "metadata": {},
   "source": [
    "### 2014 Playing Games"
   ]
  },
  {
   "cell_type": "code",
   "execution_count": 333,
   "metadata": {},
   "outputs": [],
   "source": [
    "playing_game_2014 = atus_2014_res_emp.loc[atus_2014_res_emp[\"TRCODEP\"] == \"120307\"]\n",
    "\n",
    "playing_game = playing_game_2014.groupby([\"TUCASEID\"]).sum().filter([\"TUCASEID\", \"TUACTDUR24\"])\n",
    "game_2014_res_emp_merged = pd.merge(playing_game, multi_resp, on =\"TUCASEID\").filter([\"TUCASEID\",\"TUACTDUR24\",\"TUFNWGTP\"])\n",
    "\n",
    "\n",
    "game_2014_res_emp_merged[\"Mutiplied Weighted\"] = game_2014_res_emp_merged[\"TUACTDUR24\"] * game_2014_res_emp_merged[\"TUFNWGTP\"]\n",
    "#game_2014_res_emp_merged"
   ]
  },
  {
   "cell_type": "code",
   "execution_count": 334,
   "metadata": {},
   "outputs": [
    {
     "data": {
      "text/plain": [
       "0.15088543232853716"
      ]
     },
     "execution_count": 334,
     "metadata": {},
     "output_type": "execute_result"
    }
   ],
   "source": [
    "game_2014_res_emp_weight = game_2014_res_emp_merged[\"Mutiplied Weighted\"].sum()\n",
    "\n",
    "game_2014_res_weight_avg_hpd = game_2014_res_emp_weight / all_2014_emp_weight / 60\n",
    "game_2014_res_weight_avg_hpd"
   ]
  },
  {
   "cell_type": "markdown",
   "metadata": {},
   "source": [
    "### 2015 Playing Games"
   ]
  },
  {
   "cell_type": "code",
   "execution_count": 335,
   "metadata": {},
   "outputs": [],
   "source": [
    "playing_game_2015 = atus_2015_res_emp.loc[atus_2015_res_emp[\"TRCODEP\"] == \"120307\"]\n",
    "\n",
    "playing_game = playing_game_2015.groupby([\"TUCASEID\"]).sum().filter([\"TUCASEID\", \"TUACTDUR24\"])\n",
    "game_2015_res_emp_merged = pd.merge(playing_game, multi_resp, on =\"TUCASEID\").filter([\"TUCASEID\",\"TUACTDUR24\",\"TUFNWGTP\"])\n",
    "\n",
    "\n",
    "game_2015_res_emp_merged[\"Mutiplied Weighted\"] = game_2015_res_emp_merged[\"TUACTDUR24\"] * game_2015_res_emp_merged[\"TUFNWGTP\"]\n",
    "#game_2015_res_emp_merged"
   ]
  },
  {
   "cell_type": "code",
   "execution_count": 336,
   "metadata": {},
   "outputs": [
    {
     "data": {
      "text/plain": [
       "0.14892192017608785"
      ]
     },
     "execution_count": 336,
     "metadata": {},
     "output_type": "execute_result"
    }
   ],
   "source": [
    "game_2015_res_emp_weight = game_2015_res_emp_merged[\"Mutiplied Weighted\"].sum()\n",
    "\n",
    "game_2015_res_weight_avg_hpd = game_2015_res_emp_weight / all_2015_emp_weight / 60\n",
    "game_2015_res_weight_avg_hpd"
   ]
  },
  {
   "cell_type": "markdown",
   "metadata": {},
   "source": [
    "### 2016 Playing Games"
   ]
  },
  {
   "cell_type": "code",
   "execution_count": 337,
   "metadata": {},
   "outputs": [],
   "source": [
    "playing_game_2016 = atus_2016_res_emp.loc[atus_2016_res_emp[\"TRCODEP\"] == \"120307\"]\n",
    "\n",
    "playing_game = playing_game_2016.groupby([\"TUCASEID\"]).sum().filter([\"TUCASEID\", \"TUACTDUR24\"])\n",
    "game_2016_res_emp_merged = pd.merge(playing_game, multi_resp, on =\"TUCASEID\").filter([\"TUCASEID\",\"TUACTDUR24\",\"TUFNWGTP\"])\n",
    "\n",
    "\n",
    "game_2016_res_emp_merged[\"Mutiplied Weighted\"] = game_2016_res_emp_merged[\"TUACTDUR24\"] * game_2016_res_emp_merged[\"TUFNWGTP\"]\n",
    "#game_2017_res_emp_merged"
   ]
  },
  {
   "cell_type": "code",
   "execution_count": 338,
   "metadata": {},
   "outputs": [
    {
     "data": {
      "text/plain": [
       "0.16288214543108995"
      ]
     },
     "execution_count": 338,
     "metadata": {},
     "output_type": "execute_result"
    }
   ],
   "source": [
    "game_2016_res_emp_weight = game_2016_res_emp_merged[\"Mutiplied Weighted\"].sum()\n",
    "\n",
    "game_2016_res_weight_avg_hpd = game_2016_res_emp_weight / all_2016_emp_weight / 60\n",
    "game_2016_res_weight_avg_hpd"
   ]
  },
  {
   "cell_type": "markdown",
   "metadata": {},
   "source": [
    "### 2017 Playing Games"
   ]
  },
  {
   "cell_type": "code",
   "execution_count": 339,
   "metadata": {},
   "outputs": [],
   "source": [
    "playing_game_2017 = atus_2017_res_emp.loc[atus_2017_res_emp[\"TRCODEP\"] == \"120307\"]\n",
    "\n",
    "playing_game = playing_game_2017.groupby([\"TUCASEID\"]).sum().filter([\"TUCASEID\", \"TUACTDUR24\"])\n",
    "game_2017_res_emp_merged = pd.merge(playing_game, multi_resp, on =\"TUCASEID\").filter([\"TUCASEID\",\"TUACTDUR24\",\"TUFNWGTP\"])\n",
    "\n",
    "\n",
    "game_2017_res_emp_merged[\"Mutiplied Weighted\"] = game_2017_res_emp_merged[\"TUACTDUR24\"] * game_2017_res_emp_merged[\"TUFNWGTP\"]\n",
    "#game_2017_res_emp_merged"
   ]
  },
  {
   "cell_type": "code",
   "execution_count": 340,
   "metadata": {},
   "outputs": [
    {
     "data": {
      "text/plain": [
       "0.17493143780746032"
      ]
     },
     "execution_count": 340,
     "metadata": {},
     "output_type": "execute_result"
    }
   ],
   "source": [
    "game_2017_res_emp_weight = game_2017_res_emp_merged[\"Mutiplied Weighted\"].sum()\n",
    "\n",
    "game_2017_res_weight_avg_hpd = game_2017_res_emp_weight / all_2017_emp_weight / 60\n",
    "game_2017_res_weight_avg_hpd"
   ]
  },
  {
   "cell_type": "markdown",
   "metadata": {},
   "source": [
    "### 2018 Playing Games"
   ]
  },
  {
   "cell_type": "code",
   "execution_count": 341,
   "metadata": {},
   "outputs": [],
   "source": [
    "playing_game_2018 = atus_2018_res_emp.loc[atus_2018_res_emp[\"TRCODEP\"] == \"120307\"]\n",
    "\n",
    "playing_game = playing_game_2018.groupby([\"TUCASEID\"]).sum().filter([\"TUCASEID\", \"TUACTDUR24\"])\n",
    "game_2018_res_emp_merged = pd.merge(playing_game, multi_resp, on =\"TUCASEID\").filter([\"TUCASEID\",\"TUACTDUR24\",\"TUFNWGTP\"])\n",
    "\n",
    "\n",
    "game_2018_res_emp_merged[\"Mutiplied Weighted\"] = game_2018_res_emp_merged[\"TUACTDUR24\"] * game_2018_res_emp_merged[\"TUFNWGTP\"]\n",
    "#game_2018_res_emp_merged"
   ]
  },
  {
   "cell_type": "code",
   "execution_count": 342,
   "metadata": {},
   "outputs": [
    {
     "data": {
      "text/plain": [
       "0.22913435506700483"
      ]
     },
     "execution_count": 342,
     "metadata": {},
     "output_type": "execute_result"
    }
   ],
   "source": [
    "game_2018_res_emp_weight = game_2018_res_emp_merged[\"Mutiplied Weighted\"].sum()\n",
    "\n",
    "game_2018_res_weight_avg_hpd = game_2018_res_emp_weight / all_2018_emp_weight / 60\n",
    "game_2018_res_weight_avg_hpd"
   ]
  },
  {
   "cell_type": "markdown",
   "metadata": {},
   "source": [
    "### 2019 Playing Games"
   ]
  },
  {
   "cell_type": "code",
   "execution_count": 343,
   "metadata": {},
   "outputs": [],
   "source": [
    "playing_game_2019 = atus_2019_res_emp.loc[atus_2019_res_emp[\"TRCODEP\"] == \"120307\"]\n",
    "\n",
    "playing_game = playing_game_2019.groupby([\"TUCASEID\"]).sum().filter([\"TUCASEID\", \"TUACTDUR24\"])\n",
    "game_2019_res_emp_merged = pd.merge(playing_game, multi_resp, on =\"TUCASEID\").filter([\"TUCASEID\",\"TUACTDUR24\",\"TUFNWGTP\"])\n",
    "\n",
    "\n",
    "game_2019_res_emp_merged[\"Mutiplied Weighted\"] = game_2019_res_emp_merged[\"TUACTDUR24\"] * game_2019_res_emp_merged[\"TUFNWGTP\"]\n",
    "#game_2019_res_emp_merged"
   ]
  },
  {
   "cell_type": "code",
   "execution_count": 344,
   "metadata": {},
   "outputs": [
    {
     "data": {
      "text/plain": [
       "0.18802302650640293"
      ]
     },
     "execution_count": 344,
     "metadata": {},
     "output_type": "execute_result"
    }
   ],
   "source": [
    "game_2019_res_emp_weight = game_2019_res_emp_merged[\"Mutiplied Weighted\"].sum()\n",
    "\n",
    "game_2019_res_weight_avg_hpd = game_2019_res_emp_weight / all_2019_emp_weight / 60\n",
    "game_2019_res_weight_avg_hpd"
   ]
  },
  {
   "cell_type": "markdown",
   "metadata": {},
   "source": [
    "### Playing Games Regression"
   ]
  },
  {
   "cell_type": "markdown",
   "metadata": {},
   "source": [
    "#### 2003-2012 Regression"
   ]
  },
  {
   "cell_type": "code",
   "execution_count": 345,
   "metadata": {},
   "outputs": [],
   "source": [
    "year = np.array([2003, 2004, 2005, 2006, 2007, 2008, 2009, 2010,2011,2012]).reshape((-1, 1))\n",
    "activity_hours_per_day = np.array([game_2003_res_weight_avg_hpd, game_2004_res_weight_avg_hpd, game_2005_res_weight_avg_hpd,\n",
    "                                   game_2006_res_weight_avg_hpd, game_2007_res_weight_avg_hpd, game_2008_res_weight_avg_hpd,\n",
    "                                   game_2009_res_weight_avg_hpd, game_2010_res_weight_avg_hpd, game_2011_res_weight_avg_hpd,\n",
    "                                   game_2012_res_weight_avg_hpd]).reshape((-1, 1))\n",
    "\n",
    "activity_hours_per_yr = [i * 365 for i in activity_hours_per_day]\n",
    "#activity_hours_per_yr"
   ]
  },
  {
   "cell_type": "code",
   "execution_count": 346,
   "metadata": {},
   "outputs": [
    {
     "data": {
      "image/png": "[encoded data removed]",
      "text/plain": [
       "<Figure size 432x288 with 1 Axes>"
      ]
     },
     "metadata": {
      "needs_background": "light"
     },
     "output_type": "display_data"
    }
   ],
   "source": [
    "x = year\n",
    "y = activity_hours_per_yr\n",
    "x, y = np.array(x), np.array(y)\n",
    "\n",
    "model = LinearRegression().fit(x, y)\n",
    "\n",
    "y_pred = model.predict(x)  \n",
    "\n",
    "plt.scatter(x, y)\n",
    "plt.plot(x, y_pred, color='red')\n",
    "plt.show()"
   ]
  },
  {
   "cell_type": "code",
   "execution_count": 347,
   "metadata": {},
   "outputs": [
    {
     "data": {
      "text/plain": [
       "0.3645880179305897"
      ]
     },
     "execution_count": 347,
     "metadata": {},
     "output_type": "execute_result"
    }
   ],
   "source": [
    "coefficient_of_determination = model.score(x,y)\n",
    "coefficient_of_determination"
   ]
  },
  {
   "cell_type": "code",
   "execution_count": 348,
   "metadata": {},
   "outputs": [
    {
     "data": {
      "text/plain": [
       "array([[0.64674096]])"
      ]
     },
     "execution_count": 348,
     "metadata": {},
     "output_type": "execute_result"
    }
   ],
   "source": [
    "game_res_emp_2003_2012_slope = model.coef_\n",
    "game_res_emp_2003_2012_slope"
   ]
  },
  {
   "cell_type": "markdown",
   "metadata": {},
   "source": [
    "#### 2003-2019 Regression"
   ]
  },
  {
   "cell_type": "code",
   "execution_count": 349,
   "metadata": {},
   "outputs": [],
   "source": [
    "year = np.array([2003, 2004, 2005, 2006, 2007, 2008, 2009, 2010,2011,2012,2013,2014,2015,2016,2017,2018,2019]).reshape((-1, 1))\n",
    "activity_hours_per_day = np.array([game_2003_res_weight_avg_hpd, game_2004_res_weight_avg_hpd, game_2005_res_weight_avg_hpd,\n",
    "                                   game_2006_res_weight_avg_hpd, game_2007_res_weight_avg_hpd, game_2008_res_weight_avg_hpd,\n",
    "                                   game_2009_res_weight_avg_hpd, game_2010_res_weight_avg_hpd, game_2011_res_weight_avg_hpd,\n",
    "                                   game_2012_res_weight_avg_hpd, game_2013_res_weight_avg_hpd, game_2014_res_weight_avg_hpd,\n",
    "                                   game_2015_res_weight_avg_hpd, game_2016_res_weight_avg_hpd, game_2017_res_weight_avg_hpd,\n",
    "                                   game_2018_res_weight_avg_hpd, game_2019_res_weight_avg_hpd]).reshape((-1, 1))\n",
    "\n",
    "activity_hours_per_yr = [i * 365 for i in activity_hours_per_day]\n",
    "#activity_hours_per_yr"
   ]
  },
  {
   "cell_type": "code",
   "execution_count": 350,
   "metadata": {},
   "outputs": [
    {
     "data": {
      "image/png": "[encoded data removed]",
      "text/plain": [
       "<Figure size 432x288 with 1 Axes>"
      ]
     },
     "metadata": {
      "needs_background": "light"
     },
     "output_type": "display_data"
    }
   ],
   "source": [
    "x = year\n",
    "y = activity_hours_per_yr\n",
    "x, y = np.array(x), np.array(y)\n",
    "\n",
    "model = LinearRegression().fit(x, y)\n",
    "\n",
    "y_pred = model.predict(x)  \n",
    "\n",
    "plt.scatter(x, y)\n",
    "plt.plot(x, y_pred, color='red')\n",
    "plt.show()"
   ]
  },
  {
   "cell_type": "code",
   "execution_count": 351,
   "metadata": {},
   "outputs": [
    {
     "data": {
      "text/plain": [
       "0.6955987265860049"
      ]
     },
     "execution_count": 351,
     "metadata": {},
     "output_type": "execute_result"
    }
   ],
   "source": [
    "coefficient_of_determination = model.score(x,y)\n",
    "coefficient_of_determination"
   ]
  },
  {
   "cell_type": "code",
   "execution_count": 352,
   "metadata": {},
   "outputs": [
    {
     "data": {
      "text/plain": [
       "array([[1.76518998]])"
      ]
     },
     "execution_count": 352,
     "metadata": {},
     "output_type": "execute_result"
    }
   ],
   "source": [
    "game_res_emp_2003_2012_slope = model.coef_\n",
    "game_res_emp_2003_2012_slope"
   ]
  },
  {
   "cell_type": "markdown",
   "metadata": {},
   "source": [
    "### 2003-2019 Reading for Personal Interest Residential - Employed"
   ]
  },
  {
   "cell_type": "markdown",
   "metadata": {},
   "source": [
    "### 2003 Reading for Personal Interest"
   ]
  },
  {
   "cell_type": "code",
   "execution_count": 353,
   "metadata": {},
   "outputs": [],
   "source": [
    "#120312 = Playing Games\n",
    "reading_2003 = atus_2003_res_emp.loc[atus_2003_res_emp[\"TRCODEP\"] == \"120312\"]\n",
    "\n",
    "reading = reading_2003.groupby([\"TUCASEID\"]).sum().filter([\"TUCASEID\", \"TUACTDUR24\"])\n",
    "reading_2003_res_emp_merged = pd.merge(reading, multi_resp, on =\"TUCASEID\").filter([\"TUCASEID\",\"TUACTDUR24\",\"TUFNWGTP\"])\n",
    "\n",
    "reading_2003_res_emp_merged[\"Mutiplied Weighted\"] = reading_2003_res_emp_merged[\"TUACTDUR24\"] * reading_2003_res_emp_merged[\"TUFNWGTP\"]\n",
    "#reading_2003_merged"
   ]
  },
  {
   "cell_type": "code",
   "execution_count": 354,
   "metadata": {},
   "outputs": [
    {
     "data": {
      "text/plain": [
       "0.2347186665817878"
      ]
     },
     "execution_count": 354,
     "metadata": {},
     "output_type": "execute_result"
    }
   ],
   "source": [
    "reading_2003_res_emp_weight = reading_2003_res_emp_merged[\"Mutiplied Weighted\"].sum()\n",
    "\n",
    "reading_2003_res_emp_hpd = reading_2003_res_emp_weight / all_2003_emp_weight/60\n",
    "\n",
    "reading_2003_res_emp_hpd"
   ]
  },
  {
   "cell_type": "markdown",
   "metadata": {},
   "source": [
    "### 2004 Reading for Personal Interest"
   ]
  },
  {
   "cell_type": "code",
   "execution_count": 355,
   "metadata": {},
   "outputs": [],
   "source": [
    "reading_2004 = atus_2004_res_emp.loc[atus_2004_res_emp[\"TRCODEP\"] == \"120312\"]\n",
    "\n",
    "reading = reading_2004.groupby([\"TUCASEID\"]).sum().filter([\"TUCASEID\", \"TUACTDUR24\"])\n",
    "reading_2004_res_emp_merged = pd.merge(reading, multi_resp, on =\"TUCASEID\").filter([\"TUCASEID\",\"TUACTDUR24\",\"TUFNWGTP\"])\n",
    "\n",
    "reading_2004_res_emp_merged[\"Mutiplied Weighted\"] = reading_2004_res_emp_merged[\"TUACTDUR24\"] * reading_2004_res_emp_merged[\"TUFNWGTP\"]\n",
    "#reading_2004_merged"
   ]
  },
  {
   "cell_type": "code",
   "execution_count": 356,
   "metadata": {},
   "outputs": [
    {
     "data": {
      "text/plain": [
       "0.23954930105269187"
      ]
     },
     "execution_count": 356,
     "metadata": {},
     "output_type": "execute_result"
    }
   ],
   "source": [
    "reading_2004_res_emp_weight = reading_2004_res_emp_merged[\"Mutiplied Weighted\"].sum()\n",
    "\n",
    "reading_2004_res_emp_hpd = reading_2004_res_emp_weight / all_2004_emp_weight/60\n",
    "\n",
    "reading_2004_res_emp_hpd"
   ]
  },
  {
   "cell_type": "markdown",
   "metadata": {},
   "source": [
    "### 2005 Reading for Personal Interest"
   ]
  },
  {
   "cell_type": "code",
   "execution_count": 357,
   "metadata": {},
   "outputs": [],
   "source": [
    "reading_2005 = atus_2005_res_emp.loc[atus_2005_res_emp[\"TRCODEP\"] == \"120312\"]\n",
    "\n",
    "reading = reading_2005.groupby([\"TUCASEID\"]).sum().filter([\"TUCASEID\", \"TUACTDUR24\"])\n",
    "reading_2005_res_emp_merged = pd.merge(reading, multi_resp, on =\"TUCASEID\").filter([\"TUCASEID\",\"TUACTDUR24\",\"TUFNWGTP\"])\n",
    "\n",
    "reading_2005_res_emp_merged[\"Mutiplied Weighted\"] = reading_2005_res_emp_merged[\"TUACTDUR24\"] * reading_2005_res_emp_merged[\"TUFNWGTP\"]\n",
    "#reading_2005_merged"
   ]
  },
  {
   "cell_type": "code",
   "execution_count": 358,
   "metadata": {},
   "outputs": [
    {
     "data": {
      "text/plain": [
       "0.2334064063638325"
      ]
     },
     "execution_count": 358,
     "metadata": {},
     "output_type": "execute_result"
    }
   ],
   "source": [
    "reading_2005_res_emp_weight = reading_2005_res_emp_merged[\"Mutiplied Weighted\"].sum()\n",
    "\n",
    "reading_2005_res_emp_hpd = reading_2005_res_emp_weight / all_2005_emp_weight/60\n",
    "reading_2005_res_emp_hpd"
   ]
  },
  {
   "cell_type": "markdown",
   "metadata": {},
   "source": [
    "### 2006 Reading for Personal Interest"
   ]
  },
  {
   "cell_type": "code",
   "execution_count": 359,
   "metadata": {},
   "outputs": [],
   "source": [
    "reading_2006 = atus_2006_res_emp.loc[atus_2006_res_emp[\"TRCODEP\"] == \"120312\"]\n",
    "\n",
    "reading = reading_2006.groupby([\"TUCASEID\"]).sum().filter([\"TUCASEID\", \"TUACTDUR24\"])\n",
    "reading_2006_res_emp_merged = pd.merge(reading, multi_resp, on =\"TUCASEID\").filter([\"TUCASEID\",\"TUACTDUR24\",\"TUFNWGTP\"])\n",
    "\n",
    "reading_2006_res_emp_merged[\"Mutiplied Weighted\"] = reading_2006_res_emp_merged[\"TUACTDUR24\"] * reading_2006_res_emp_merged[\"TUFNWGTP\"]\n",
    "#reading_2006_merged"
   ]
  },
  {
   "cell_type": "code",
   "execution_count": 360,
   "metadata": {},
   "outputs": [
    {
     "data": {
      "text/plain": [
       "0.23449654025213623"
      ]
     },
     "execution_count": 360,
     "metadata": {},
     "output_type": "execute_result"
    }
   ],
   "source": [
    "reading_2006_res_emp_weight = reading_2006_res_emp_merged[\"Mutiplied Weighted\"].sum()\n",
    "\n",
    "reading_2006_res_emp_hpd = reading_2006_res_emp_weight / all_2006_emp_weight/60\n",
    "reading_2006_res_emp_hpd"
   ]
  },
  {
   "cell_type": "markdown",
   "metadata": {},
   "source": [
    "### 2007 Reading for Personal Interest"
   ]
  },
  {
   "cell_type": "code",
   "execution_count": 361,
   "metadata": {},
   "outputs": [],
   "source": [
    "reading_2007 = atus_2007_res_emp.loc[atus_2007_res_emp[\"TRCODEP\"] == \"120312\"]\n",
    "\n",
    "reading = reading_2007.groupby([\"TUCASEID\"]).sum().filter([\"TUCASEID\", \"TUACTDUR24\"])\n",
    "reading_2007_res_emp_merged = pd.merge(reading, multi_resp, on =\"TUCASEID\").filter([\"TUCASEID\",\"TUACTDUR24\",\"TUFNWGTP\"])\n",
    "\n",
    "reading_2007_res_emp_merged[\"Mutiplied Weighted\"] = reading_2007_res_emp_merged[\"TUACTDUR24\"] * reading_2007_res_emp_merged[\"TUFNWGTP\"]\n",
    "#reading_2007_merged"
   ]
  },
  {
   "cell_type": "code",
   "execution_count": 362,
   "metadata": {},
   "outputs": [
    {
     "data": {
      "text/plain": [
       "0.20726947788878552"
      ]
     },
     "execution_count": 362,
     "metadata": {},
     "output_type": "execute_result"
    }
   ],
   "source": [
    "reading_2007_res_emp_weight = reading_2007_res_emp_merged[\"Mutiplied Weighted\"].sum()\n",
    "\n",
    "reading_2007_res_emp_hpd = reading_2007_res_emp_weight / all_2007_emp_weight/60\n",
    "reading_2007_res_emp_hpd"
   ]
  },
  {
   "cell_type": "markdown",
   "metadata": {},
   "source": [
    "### 2008 Reading for Personal Interest"
   ]
  },
  {
   "cell_type": "code",
   "execution_count": 363,
   "metadata": {},
   "outputs": [],
   "source": [
    "reading_2008 = atus_2008_res_emp.loc[atus_2008_res_emp[\"TRCODEP\"] == \"120312\"]\n",
    "\n",
    "reading = reading_2008.groupby([\"TUCASEID\"]).sum().filter([\"TUCASEID\", \"TUACTDUR24\"])\n",
    "reading_2008_res_emp_merged = pd.merge(reading, multi_resp, on =\"TUCASEID\").filter([\"TUCASEID\",\"TUACTDUR24\",\"TUFNWGTP\"])\n",
    "\n",
    "reading_2008_res_emp_merged[\"Mutiplied Weighted\"] = reading_2008_res_emp_merged[\"TUACTDUR24\"] * reading_2008_res_emp_merged[\"TUFNWGTP\"]\n",
    "#reading_2008_merged"
   ]
  },
  {
   "cell_type": "code",
   "execution_count": 364,
   "metadata": {},
   "outputs": [
    {
     "data": {
      "text/plain": [
       "0.22343375911137883"
      ]
     },
     "execution_count": 364,
     "metadata": {},
     "output_type": "execute_result"
    }
   ],
   "source": [
    "reading_2008_res_emp_weight = reading_2008_res_emp_merged[\"Mutiplied Weighted\"].sum()\n",
    "\n",
    "reading_2008_res_emp_hpd = reading_2008_res_emp_weight / all_2008_emp_weight/60\n",
    "reading_2008_res_emp_hpd"
   ]
  },
  {
   "cell_type": "markdown",
   "metadata": {},
   "source": [
    "### 2009 Reading for Personal Interest"
   ]
  },
  {
   "cell_type": "code",
   "execution_count": 365,
   "metadata": {},
   "outputs": [],
   "source": [
    "reading_2009 = atus_2009_res_emp.loc[atus_2009_res_emp[\"TRCODEP\"] == \"120312\"]\n",
    "\n",
    "reading = reading_2009.groupby([\"TUCASEID\"]).sum().filter([\"TUCASEID\", \"TUACTDUR24\"])\n",
    "reading_2009_res_emp_merged = pd.merge(reading, multi_resp, on =\"TUCASEID\").filter([\"TUCASEID\",\"TUACTDUR24\",\"TUFNWGTP\"])\n",
    "\n",
    "reading_2009_res_emp_merged[\"Mutiplied Weighted\"] = reading_2009_res_emp_merged[\"TUACTDUR24\"] * reading_2009_res_emp_merged[\"TUFNWGTP\"]\n",
    "#reading_2009_merged"
   ]
  },
  {
   "cell_type": "code",
   "execution_count": 366,
   "metadata": {},
   "outputs": [
    {
     "data": {
      "text/plain": [
       "0.21859334862924534"
      ]
     },
     "execution_count": 366,
     "metadata": {},
     "output_type": "execute_result"
    }
   ],
   "source": [
    "reading_2009_res_emp_weight = reading_2009_res_emp_merged[\"Mutiplied Weighted\"].sum()\n",
    "\n",
    "reading_2009_res_emp_hpd = reading_2009_res_emp_weight / all_2009_emp_weight/60\n",
    "reading_2009_res_emp_hpd"
   ]
  },
  {
   "cell_type": "markdown",
   "metadata": {},
   "source": [
    "### 2010 Reading for Personal Interest"
   ]
  },
  {
   "cell_type": "code",
   "execution_count": 367,
   "metadata": {},
   "outputs": [],
   "source": [
    "reading_2010 = atus_2010_res_emp.loc[atus_2010_res_emp[\"TRCODEP\"] == \"120312\"]\n",
    "\n",
    "reading = reading_2010.groupby([\"TUCASEID\"]).sum().filter([\"TUCASEID\", \"TUACTDUR24\"])\n",
    "reading_2010_res_emp_merged = pd.merge(reading, multi_resp, on =\"TUCASEID\").filter([\"TUCASEID\",\"TUACTDUR24\",\"TUFNWGTP\"])\n",
    "\n",
    "reading_2010_res_emp_merged[\"Mutiplied Weighted\"] = reading_2010_res_emp_merged[\"TUACTDUR24\"] * reading_2010_res_emp_merged[\"TUFNWGTP\"]\n",
    "#reading_2010_merged"
   ]
  },
  {
   "cell_type": "code",
   "execution_count": 368,
   "metadata": {},
   "outputs": [
    {
     "data": {
      "text/plain": [
       "0.195628488857153"
      ]
     },
     "execution_count": 368,
     "metadata": {},
     "output_type": "execute_result"
    }
   ],
   "source": [
    "reading_2010_res_emp_weight = reading_2010_res_emp_merged[\"Mutiplied Weighted\"].sum()\n",
    "\n",
    "reading_2010_res_emp_hpd = reading_2010_res_emp_weight / all_2010_emp_weight/60\n",
    "reading_2010_res_emp_hpd"
   ]
  },
  {
   "cell_type": "markdown",
   "metadata": {},
   "source": [
    "### 2011 Reading for Personal Interest"
   ]
  },
  {
   "cell_type": "code",
   "execution_count": 369,
   "metadata": {},
   "outputs": [],
   "source": [
    "reading_2011 = atus_2011_res_emp.loc[atus_2011_res_emp[\"TRCODEP\"] == \"120312\"]\n",
    "\n",
    "reading = reading_2011.groupby([\"TUCASEID\"]).sum().filter([\"TUCASEID\", \"TUACTDUR24\"])\n",
    "reading_2011_res_emp_merged = pd.merge(reading, multi_resp, on =\"TUCASEID\").filter([\"TUCASEID\",\"TUACTDUR24\",\"TUFNWGTP\"])\n",
    "\n",
    "reading_2011_res_emp_merged[\"Mutiplied Weighted\"] = reading_2011_res_emp_merged[\"TUACTDUR24\"] * reading_2011_res_emp_merged[\"TUFNWGTP\"]\n",
    "#reading_2011_merged"
   ]
  },
  {
   "cell_type": "code",
   "execution_count": 370,
   "metadata": {},
   "outputs": [
    {
     "data": {
      "text/plain": [
       "0.18341354450767833"
      ]
     },
     "execution_count": 370,
     "metadata": {},
     "output_type": "execute_result"
    }
   ],
   "source": [
    "reading_2011_res_emp_weight = reading_2011_res_emp_merged[\"Mutiplied Weighted\"].sum()\n",
    "\n",
    "reading_2011_res_emp_hpd = reading_2011_res_emp_weight / all_2011_emp_weight/60\n",
    "reading_2011_res_emp_hpd"
   ]
  },
  {
   "cell_type": "markdown",
   "metadata": {},
   "source": [
    "### 2012 Reading for Personal Interest"
   ]
  },
  {
   "cell_type": "code",
   "execution_count": 371,
   "metadata": {},
   "outputs": [],
   "source": [
    "reading_2012 = atus_2012_res_emp.loc[atus_2012_res_emp[\"TRCODEP\"] == \"120312\"]\n",
    "\n",
    "reading = reading_2012.groupby([\"TUCASEID\"]).sum().filter([\"TUCASEID\", \"TUACTDUR24\"])\n",
    "reading_2012_res_emp_merged = pd.merge(reading, multi_resp, on =\"TUCASEID\").filter([\"TUCASEID\",\"TUACTDUR24\",\"TUFNWGTP\"])\n",
    "\n",
    "reading_2012_res_emp_merged[\"Mutiplied Weighted\"] = reading_2012_res_emp_merged[\"TUACTDUR24\"] * reading_2012_res_emp_merged[\"TUFNWGTP\"]\n",
    "#reading_2012_merged"
   ]
  },
  {
   "cell_type": "code",
   "execution_count": 372,
   "metadata": {},
   "outputs": [
    {
     "data": {
      "text/plain": [
       "0.20822113721180713"
      ]
     },
     "execution_count": 372,
     "metadata": {},
     "output_type": "execute_result"
    }
   ],
   "source": [
    "reading_2012_res_emp_weight = reading_2012_res_emp_merged[\"Mutiplied Weighted\"].sum()\n",
    "\n",
    "reading_2012_res_emp_hpd = reading_2012_res_emp_weight / all_2012_emp_weight/60\n",
    "reading_2012_res_emp_hpd"
   ]
  },
  {
   "cell_type": "markdown",
   "metadata": {},
   "source": [
    "### 2013 Reading for Personal Interest"
   ]
  },
  {
   "cell_type": "code",
   "execution_count": 373,
   "metadata": {},
   "outputs": [],
   "source": [
    "reading_2013 = atus_2013_res_emp.loc[atus_2013_res_emp[\"TRCODEP\"] == \"120312\"]\n",
    "\n",
    "reading = reading_2013.groupby([\"TUCASEID\"]).sum().filter([\"TUCASEID\", \"TUACTDUR24\"])\n",
    "reading_2013_res_emp_merged = pd.merge(reading, multi_resp, on =\"TUCASEID\").filter([\"TUCASEID\",\"TUACTDUR24\",\"TUFNWGTP\"])\n",
    "\n",
    "reading_2013_res_emp_merged[\"Mutiplied Weighted\"] = reading_2013_res_emp_merged[\"TUACTDUR24\"] * reading_2013_res_emp_merged[\"TUFNWGTP\"]\n",
    "#reading_2013_merged"
   ]
  },
  {
   "cell_type": "code",
   "execution_count": 374,
   "metadata": {},
   "outputs": [
    {
     "data": {
      "text/plain": [
       "0.19482848028949631"
      ]
     },
     "execution_count": 374,
     "metadata": {},
     "output_type": "execute_result"
    }
   ],
   "source": [
    "reading_2013_res_emp_weight = reading_2013_res_emp_merged[\"Mutiplied Weighted\"].sum()\n",
    "\n",
    "reading_2013_res_emp_hpd = reading_2013_res_emp_weight / all_2013_emp_weight/60\n",
    "reading_2013_res_emp_hpd"
   ]
  },
  {
   "cell_type": "markdown",
   "metadata": {},
   "source": [
    "### 2014 Reading for Personal Interest"
   ]
  },
  {
   "cell_type": "code",
   "execution_count": 375,
   "metadata": {},
   "outputs": [],
   "source": [
    "reading_2014 = atus_2014_res_emp.loc[atus_2014_res_emp[\"TRCODEP\"] == \"120312\"]\n",
    "\n",
    "reading = reading_2014.groupby([\"TUCASEID\"]).sum().filter([\"TUCASEID\", \"TUACTDUR24\"])\n",
    "reading_2014_res_emp_merged = pd.merge(reading, multi_resp, on =\"TUCASEID\").filter([\"TUCASEID\",\"TUACTDUR24\",\"TUFNWGTP\"])\n",
    "\n",
    "reading_2014_res_emp_merged[\"Mutiplied Weighted\"] = reading_2014_res_emp_merged[\"TUACTDUR24\"] * reading_2014_res_emp_merged[\"TUFNWGTP\"]\n",
    "#reading_2014_merged"
   ]
  },
  {
   "cell_type": "code",
   "execution_count": 376,
   "metadata": {},
   "outputs": [
    {
     "data": {
      "text/plain": [
       "0.18097739801713736"
      ]
     },
     "execution_count": 376,
     "metadata": {},
     "output_type": "execute_result"
    }
   ],
   "source": [
    "reading_2014_res_emp_weight = reading_2014_res_emp_merged[\"Mutiplied Weighted\"].sum()\n",
    "\n",
    "reading_2014_res_emp_hpd = reading_2014_res_emp_weight / all_2014_emp_weight/60\n",
    "reading_2014_res_emp_hpd"
   ]
  },
  {
   "cell_type": "markdown",
   "metadata": {},
   "source": [
    "### 2015 Reading for Personal Interest"
   ]
  },
  {
   "cell_type": "code",
   "execution_count": 377,
   "metadata": {},
   "outputs": [],
   "source": [
    "reading_2015 = atus_2015_res_emp.loc[atus_2015_res_emp[\"TRCODEP\"] == \"120312\"]\n",
    "\n",
    "reading = reading_2015.groupby([\"TUCASEID\"]).sum().filter([\"TUCASEID\", \"TUACTDUR24\"])\n",
    "reading_2015_res_emp_merged = pd.merge(reading, multi_resp, on =\"TUCASEID\").filter([\"TUCASEID\",\"TUACTDUR24\",\"TUFNWGTP\"])\n",
    "\n",
    "reading_2015_res_emp_merged[\"Mutiplied Weighted\"] = reading_2015_res_emp_merged[\"TUACTDUR24\"] * reading_2015_res_emp_merged[\"TUFNWGTP\"]\n",
    "#reading_2015_merged"
   ]
  },
  {
   "cell_type": "code",
   "execution_count": 378,
   "metadata": {},
   "outputs": [
    {
     "data": {
      "text/plain": [
       "0.18651592314090917"
      ]
     },
     "execution_count": 378,
     "metadata": {},
     "output_type": "execute_result"
    }
   ],
   "source": [
    "reading_2015_res_emp_weight = reading_2015_res_emp_merged[\"Mutiplied Weighted\"].sum()\n",
    "\n",
    "reading_2015_res_emp_hpd = reading_2015_res_emp_weight / all_2015_emp_weight/60\n",
    "reading_2015_res_emp_hpd"
   ]
  },
  {
   "cell_type": "markdown",
   "metadata": {},
   "source": [
    "### 2016 Reading for Personal Interest"
   ]
  },
  {
   "cell_type": "code",
   "execution_count": 379,
   "metadata": {},
   "outputs": [],
   "source": [
    "reading_2016 = atus_2016_res_emp.loc[atus_2016_res_emp[\"TRCODEP\"] == \"120312\"]\n",
    "\n",
    "reading = reading_2016.groupby([\"TUCASEID\"]).sum().filter([\"TUCASEID\", \"TUACTDUR24\"])\n",
    "reading_2016_res_emp_merged = pd.merge(reading, multi_resp, on =\"TUCASEID\").filter([\"TUCASEID\",\"TUACTDUR24\",\"TUFNWGTP\"])\n",
    "\n",
    "reading_2016_res_emp_merged[\"Mutiplied Weighted\"] = reading_2016_res_emp_merged[\"TUACTDUR24\"] * reading_2016_res_emp_merged[\"TUFNWGTP\"]\n",
    "#reading_2016_merged"
   ]
  },
  {
   "cell_type": "code",
   "execution_count": 380,
   "metadata": {},
   "outputs": [
    {
     "data": {
      "text/plain": [
       "0.1909406103852508"
      ]
     },
     "execution_count": 380,
     "metadata": {},
     "output_type": "execute_result"
    }
   ],
   "source": [
    "reading_2016_res_emp_weight = reading_2016_res_emp_merged[\"Mutiplied Weighted\"].sum()\n",
    "\n",
    "reading_2016_res_emp_hpd = reading_2016_res_emp_weight / all_2016_emp_weight/60\n",
    "reading_2016_res_emp_hpd"
   ]
  },
  {
   "cell_type": "markdown",
   "metadata": {},
   "source": [
    "### 2017 Reading for Personal Interest"
   ]
  },
  {
   "cell_type": "code",
   "execution_count": 381,
   "metadata": {},
   "outputs": [],
   "source": [
    "reading_2017 = atus_2017_res_emp.loc[atus_2017_res_emp[\"TRCODEP\"] == \"120312\"]\n",
    "\n",
    "reading = reading_2017.groupby([\"TUCASEID\"]).sum().filter([\"TUCASEID\", \"TUACTDUR24\"])\n",
    "reading_2017_res_emp_merged = pd.merge(reading, multi_resp, on =\"TUCASEID\").filter([\"TUCASEID\",\"TUACTDUR24\",\"TUFNWGTP\"])\n",
    "\n",
    "reading_2017_res_emp_merged[\"Mutiplied Weighted\"] = reading_2017_res_emp_merged[\"TUACTDUR24\"] * reading_2017_res_emp_merged[\"TUFNWGTP\"]\n",
    "#reading_2017_merged"
   ]
  },
  {
   "cell_type": "code",
   "execution_count": 382,
   "metadata": {},
   "outputs": [
    {
     "data": {
      "text/plain": [
       "0.1666010232686902"
      ]
     },
     "execution_count": 382,
     "metadata": {},
     "output_type": "execute_result"
    }
   ],
   "source": [
    "reading_2017_res_emp_weight = reading_2017_res_emp_merged[\"Mutiplied Weighted\"].sum()\n",
    "\n",
    "reading_2017_res_emp_hpd = reading_2017_res_emp_weight / all_2017_emp_weight/60\n",
    "reading_2017_res_emp_hpd"
   ]
  },
  {
   "cell_type": "markdown",
   "metadata": {},
   "source": [
    "### 2018 Reading for Personal Interest"
   ]
  },
  {
   "cell_type": "code",
   "execution_count": 383,
   "metadata": {},
   "outputs": [],
   "source": [
    "reading_2018 = atus_2018_res_emp.loc[atus_2018_res_emp[\"TRCODEP\"] == \"120312\"]\n",
    "\n",
    "reading = reading_2018.groupby([\"TUCASEID\"]).sum().filter([\"TUCASEID\", \"TUACTDUR24\"])\n",
    "reading_2018_res_emp_merged = pd.merge(reading, multi_resp, on =\"TUCASEID\").filter([\"TUCASEID\",\"TUACTDUR24\",\"TUFNWGTP\"])\n",
    "\n",
    "reading_2018_res_emp_merged[\"Mutiplied Weighted\"] = reading_2018_res_emp_merged[\"TUACTDUR24\"] * reading_2018_res_emp_merged[\"TUFNWGTP\"]\n",
    "#reading_2018_merged"
   ]
  },
  {
   "cell_type": "code",
   "execution_count": 384,
   "metadata": {},
   "outputs": [
    {
     "data": {
      "text/plain": [
       "0.15705693150292407"
      ]
     },
     "execution_count": 384,
     "metadata": {},
     "output_type": "execute_result"
    }
   ],
   "source": [
    "reading_2018_res_emp_weight = reading_2018_res_emp_merged[\"Mutiplied Weighted\"].sum()\n",
    "\n",
    "reading_2018_res_emp_hpd = reading_2018_res_emp_weight / all_2018_emp_weight/60\n",
    "reading_2018_res_emp_hpd"
   ]
  },
  {
   "cell_type": "markdown",
   "metadata": {},
   "source": [
    "### 2019 Reading for Personal Interest"
   ]
  },
  {
   "cell_type": "code",
   "execution_count": 385,
   "metadata": {},
   "outputs": [],
   "source": [
    "reading_2019 = atus_2019_res_emp.loc[atus_2019_res_emp[\"TRCODEP\"] == \"120312\"]\n",
    "\n",
    "reading = reading_2019.groupby([\"TUCASEID\"]).sum().filter([\"TUCASEID\", \"TUACTDUR24\"])\n",
    "reading_2019_res_emp_merged = pd.merge(reading, multi_resp, on =\"TUCASEID\").filter([\"TUCASEID\",\"TUACTDUR24\",\"TUFNWGTP\"])\n",
    "\n",
    "reading_2019_res_emp_merged[\"Mutiplied Weighted\"] = reading_2019_res_emp_merged[\"TUACTDUR24\"] * reading_2019_res_emp_merged[\"TUFNWGTP\"]\n",
    "#reading_2019_merged"
   ]
  },
  {
   "cell_type": "code",
   "execution_count": 386,
   "metadata": {},
   "outputs": [
    {
     "data": {
      "text/plain": [
       "0.1608769950859375"
      ]
     },
     "execution_count": 386,
     "metadata": {},
     "output_type": "execute_result"
    }
   ],
   "source": [
    "reading_2019_res_emp_weight = reading_2019_res_emp_merged[\"Mutiplied Weighted\"].sum()\n",
    "\n",
    "reading_2019_res_emp_hpd = reading_2019_res_emp_weight / all_2019_emp_weight/60\n",
    "reading_2019_res_emp_hpd"
   ]
  },
  {
   "cell_type": "markdown",
   "metadata": {},
   "source": [
    "### Reading for Personal Interest Regression"
   ]
  },
  {
   "cell_type": "markdown",
   "metadata": {},
   "source": [
    "#### 2003-2012 Regression"
   ]
  },
  {
   "cell_type": "code",
   "execution_count": 387,
   "metadata": {},
   "outputs": [],
   "source": [
    "year = np.array([2003, 2004, 2005, 2006, 2007, 2008, 2009, 2010,2011,2012]).reshape((-1, 1))\n",
    "activity_hours_per_day = np.array([reading_2003_res_emp_hpd, reading_2004_res_emp_hpd, reading_2005_res_emp_hpd, reading_2006_res_emp_hpd,\n",
    "                                   reading_2007_res_emp_hpd, reading_2008_res_emp_hpd, reading_2009_res_emp_hpd, reading_2010_res_emp_hpd,\n",
    "                                   reading_2011_res_emp_hpd, reading_2012_res_emp_hpd]).reshape((-1, 1))\n",
    "                                  \n",
    "\n",
    "activity_hours_per_yr = [i * 365 for i in activity_hours_per_day]\n",
    "#activity_hours_per_yr"
   ]
  },
  {
   "cell_type": "code",
   "execution_count": 388,
   "metadata": {},
   "outputs": [
    {
     "data": {
      "image/png": "[encoded data removed]",
      "text/plain": [
       "<Figure size 432x288 with 1 Axes>"
      ]
     },
     "metadata": {
      "needs_background": "light"
     },
     "output_type": "display_data"
    }
   ],
   "source": [
    "x = year\n",
    "y = activity_hours_per_yr\n",
    "x, y = np.array(x), np.array(y)\n",
    "\n",
    "model = LinearRegression().fit(x, y)\n",
    "\n",
    "y_pred = model.predict(x)  \n",
    "\n",
    "plt.scatter(x, y)\n",
    "plt.plot(x, y_pred, color='red')\n",
    "plt.show()"
   ]
  },
  {
   "cell_type": "code",
   "execution_count": 389,
   "metadata": {},
   "outputs": [
    {
     "data": {
      "text/plain": [
       "0.6892181794999356"
      ]
     },
     "execution_count": 389,
     "metadata": {},
     "output_type": "execute_result"
    }
   ],
   "source": [
    "coefficient_of_determination = model.score(x,y) #R sqaure value \n",
    "coefficient_of_determination"
   ]
  },
  {
   "cell_type": "code",
   "execution_count": 390,
   "metadata": {},
   "outputs": [
    {
     "data": {
      "text/plain": [
       "array([[-1.88442408]])"
      ]
     },
     "execution_count": 390,
     "metadata": {},
     "output_type": "execute_result"
    }
   ],
   "source": [
    "reading_res_emp_2003_2012_slope = model.coef_\n",
    "reading_res_emp_2003_2012_slope"
   ]
  },
  {
   "cell_type": "markdown",
   "metadata": {},
   "source": [
    "#### 2003-2019 Regression"
   ]
  },
  {
   "cell_type": "code",
   "execution_count": 391,
   "metadata": {},
   "outputs": [],
   "source": [
    "year = np.array([2003,2004,2005,2006,2007,2008,2009,2010,2011,2012,2013,2014,2015,2016,2017,2018,2019]).reshape((-1, 1))\n",
    "activity_hours_per_day = np.array([reading_2003_res_emp_hpd, reading_2004_res_emp_hpd, reading_2005_res_emp_hpd, reading_2006_res_emp_hpd,\n",
    "                                   reading_2007_res_emp_hpd, reading_2008_res_emp_hpd, reading_2009_res_emp_hpd, reading_2010_res_emp_hpd,\n",
    "                                   reading_2011_res_emp_hpd, reading_2012_res_emp_hpd, reading_2013_res_emp_hpd, reading_2014_res_emp_hpd,\n",
    "                                   reading_2015_res_emp_hpd, reading_2016_res_emp_hpd, reading_2017_res_emp_hpd, reading_2018_res_emp_hpd,\n",
    "                                   reading_2019_res_emp_hpd]).reshape((-1, 1))\n",
    "                                           \n",
    "\n",
    "activity_hours_per_yr = [i * 365 for i in activity_hours_per_day]\n",
    "#activity_hours_per_yr"
   ]
  },
  {
   "cell_type": "code",
   "execution_count": 392,
   "metadata": {},
   "outputs": [
    {
     "data": {
      "image/png": "[encoded data removed]",
      "text/plain": [
       "<Figure size 432x288 with 1 Axes>"
      ]
     },
     "metadata": {
      "needs_background": "light"
     },
     "output_type": "display_data"
    }
   ],
   "source": [
    "x = year\n",
    "y = activity_hours_per_yr\n",
    "x, y = np.array(x), np.array(y)\n",
    "\n",
    "model = LinearRegression().fit(x, y)\n",
    "\n",
    "y_pred = model.predict(x)  \n",
    "\n",
    "plt.scatter(x, y)\n",
    "plt.plot(x, y_pred, color='red')\n",
    "plt.show()"
   ]
  },
  {
   "cell_type": "code",
   "execution_count": 393,
   "metadata": {},
   "outputs": [
    {
     "data": {
      "text/plain": [
       "0.8792183124839128"
      ]
     },
     "execution_count": 393,
     "metadata": {},
     "output_type": "execute_result"
    }
   ],
   "source": [
    "coefficient_of_determination = model.score(x,y) #R sqaure value \n",
    "coefficient_of_determination"
   ]
  },
  {
   "cell_type": "code",
   "execution_count": 394,
   "metadata": {},
   "outputs": [
    {
     "data": {
      "text/plain": [
       "array([[-1.8179436]])"
      ]
     },
     "execution_count": 394,
     "metadata": {},
     "output_type": "execute_result"
    }
   ],
   "source": [
    "reading_res_emp_2003_2019_slope = model.coef_\n",
    "reading_res_emp_2003_2019_slope"
   ]
  },
  {
   "cell_type": "markdown",
   "metadata": {},
   "source": [
    "## 2003-2019 Non-Residential- Employed"
   ]
  },
  {
   "cell_type": "code",
   "execution_count": 395,
   "metadata": {},
   "outputs": [],
   "source": [
    "#non-residential = 2,4,5,6,7,8,9,10,11,30,31,32"
   ]
  },
  {
   "cell_type": "code",
   "execution_count": 396,
   "metadata": {},
   "outputs": [],
   "source": [
    "#only residential location from 2003-2019\n",
    "non_residential_location = [2,4,5,6,7,8,9,10,11,30,31,32]\n",
    "atus_multi_yr_non_res_emp = multi_merged_employed[multi_merged_employed[\"TEWHERE\"].isin(non_residential_location)]\n",
    "#atus_multi_yr_non_res_emp"
   ]
  },
  {
   "cell_type": "code",
   "execution_count": 397,
   "metadata": {},
   "outputs": [],
   "source": [
    "#atus non residential year seperation by employed population \n",
    "atus_2003_non_res_emp = atus_multi_yr_non_res_emp[atus_multi_yr_non_res_emp[\"TUCASEID\"].apply(str).str.startswith(\"2003\")]\n",
    "atus_2004_non_res_emp = atus_multi_yr_non_res_emp[atus_multi_yr_non_res_emp[\"TUCASEID\"].apply(str).str.startswith(\"2004\")]\n",
    "atus_2005_non_res_emp = atus_multi_yr_non_res_emp[atus_multi_yr_non_res_emp[\"TUCASEID\"].apply(str).str.startswith(\"2005\")]\n",
    "atus_2006_non_res_emp = atus_multi_yr_non_res_emp[atus_multi_yr_non_res_emp[\"TUCASEID\"].apply(str).str.startswith(\"2006\")]\n",
    "atus_2007_non_res_emp = atus_multi_yr_non_res_emp[atus_multi_yr_non_res_emp[\"TUCASEID\"].apply(str).str.startswith(\"2007\")]\n",
    "atus_2008_non_res_emp = atus_multi_yr_non_res_emp[atus_multi_yr_non_res_emp[\"TUCASEID\"].apply(str).str.startswith(\"2008\")]\n",
    "atus_2009_non_res_emp = atus_multi_yr_non_res_emp[atus_multi_yr_non_res_emp[\"TUCASEID\"].apply(str).str.startswith(\"2009\")]\n",
    "atus_2010_non_res_emp = atus_multi_yr_non_res_emp[atus_multi_yr_non_res_emp[\"TUCASEID\"].apply(str).str.startswith(\"2010\")]\n",
    "atus_2011_non_res_emp = atus_multi_yr_non_res_emp[atus_multi_yr_non_res_emp[\"TUCASEID\"].apply(str).str.startswith(\"2011\")]\n",
    "atus_2012_non_res_emp = atus_multi_yr_non_res_emp[atus_multi_yr_non_res_emp[\"TUCASEID\"].apply(str).str.startswith(\"2012\")]\n",
    "atus_2013_non_res_emp = atus_multi_yr_non_res_emp[atus_multi_yr_non_res_emp[\"TUCASEID\"].apply(str).str.startswith(\"2013\")]\n",
    "atus_2014_non_res_emp = atus_multi_yr_non_res_emp[atus_multi_yr_non_res_emp[\"TUCASEID\"].apply(str).str.startswith(\"2014\")]\n",
    "atus_2015_non_res_emp = atus_multi_yr_non_res_emp[atus_multi_yr_non_res_emp[\"TUCASEID\"].apply(str).str.startswith(\"2015\")]\n",
    "atus_2016_non_res_emp = atus_multi_yr_non_res_emp[atus_multi_yr_non_res_emp[\"TUCASEID\"].apply(str).str.startswith(\"2016\")]\n",
    "atus_2017_non_res_emp = atus_multi_yr_non_res_emp[atus_multi_yr_non_res_emp[\"TUCASEID\"].apply(str).str.startswith(\"2017\")]\n",
    "atus_2018_non_res_emp = atus_multi_yr_non_res_emp[atus_multi_yr_non_res_emp[\"TUCASEID\"].apply(str).str.startswith(\"2018\")]\n",
    "atus_2019_non_res_emp = atus_multi_yr_non_res_emp[atus_multi_yr_non_res_emp[\"TUCASEID\"].apply(str).str.startswith(\"2019\")]"
   ]
  },
  {
   "cell_type": "markdown",
   "metadata": {},
   "source": [
    "### 2003 Work, Main Job Non Residential- Employed"
   ]
  },
  {
   "cell_type": "code",
   "execution_count": 398,
   "metadata": {},
   "outputs": [],
   "source": [
    "#050101 is Work, main job\n",
    "atus_2003_non_res_work_emp = atus_2003_non_res_emp.loc[atus_2003_non_res_emp.TRCODEP == \"050101\"]\n",
    "#atus_2003_non_res_work_emp"
   ]
  },
  {
   "cell_type": "code",
   "execution_count": 399,
   "metadata": {},
   "outputs": [],
   "source": [
    "work = atus_2003_non_res_work_emp.groupby([\"TUCASEID\"]).sum().filter([\"TUCASEID\", \"TUACTDUR24\"])\n",
    "#work"
   ]
  },
  {
   "cell_type": "code",
   "execution_count": 400,
   "metadata": {},
   "outputs": [],
   "source": [
    "work_2003_non_res_emp_merge = pd.merge(work, multi_resp, on =\"TUCASEID\").filter([\"TUCASEID\",\"TUACTDUR24\",\"TUFNWGTP\"])\n",
    "#work_2003_non_res_emp_merge"
   ]
  },
  {
   "cell_type": "code",
   "execution_count": 401,
   "metadata": {},
   "outputs": [],
   "source": [
    "work_2003_non_res_emp_merge[\"Mutiplied Weighted\"] = work_2003_non_res_emp_merge[\"TUACTDUR24\"] * work_2003_non_res_emp_merge[\"TUFNWGTP\"]\n",
    "#work_2003_non_res_emp_merge"
   ]
  },
  {
   "cell_type": "code",
   "execution_count": 402,
   "metadata": {},
   "outputs": [
    {
     "data": {
      "text/plain": [
       "14848181335967.852"
      ]
     },
     "execution_count": 402,
     "metadata": {},
     "output_type": "execute_result"
    }
   ],
   "source": [
    "work_2003_non_res_emp_weight = work_2003_non_res_emp_merge[\"Mutiplied Weighted\"].sum()\n",
    "work_2003_non_res_emp_weight"
   ]
  },
  {
   "cell_type": "code",
   "execution_count": 403,
   "metadata": {},
   "outputs": [
    {
     "data": {
      "text/plain": [
       "53187186872.01529"
      ]
     },
     "execution_count": 403,
     "metadata": {},
     "output_type": "execute_result"
    }
   ],
   "source": [
    "#weight from all respondants in from 2003\n",
    "atus_2003_drop = atus_2003.drop_duplicates(subset=[\"TUCASEID\"])\n",
    "all_2003_non_res_emp_weight = atus_2003_drop[\"TUFNWGTP\"].sum()\n",
    "all_2003_non_res_emp_weight"
   ]
  },
  {
   "cell_type": "code",
   "execution_count": 404,
   "metadata": {},
   "outputs": [
    {
     "data": {
      "text/plain": [
       "279.1683901556429"
      ]
     },
     "execution_count": 404,
     "metadata": {},
     "output_type": "execute_result"
    }
   ],
   "source": [
    "work_2003_non_res_emp_minutes_per_day = work_2003_non_res_emp_weight/all_2003_non_res_emp_weight\n",
    "work_2003_non_res_emp_minutes_per_day"
   ]
  },
  {
   "cell_type": "code",
   "execution_count": 405,
   "metadata": {},
   "outputs": [
    {
     "data": {
      "text/plain": [
       "4.652806502594048"
      ]
     },
     "execution_count": 405,
     "metadata": {},
     "output_type": "execute_result"
    }
   ],
   "source": [
    "#hpd = hour per day\n",
    "work_2003_non_res_emp_hpd = work_2003_non_res_emp_minutes_per_day / 60\n",
    "work_2003_non_res_emp_hpd"
   ]
  },
  {
   "cell_type": "markdown",
   "metadata": {},
   "source": [
    "### 2004 Work, Main Job Non Residential- Employed"
   ]
  },
  {
   "cell_type": "code",
   "execution_count": 406,
   "metadata": {},
   "outputs": [],
   "source": [
    "atus_2004_non_res_work_emp = atus_2004_non_res_emp.loc[atus_2004_non_res_emp.TRCODEP == \"050101\"]\n",
    "\n",
    "work = atus_2004_non_res_work_emp.groupby([\"TUCASEID\"]).sum().filter([\"TUCASEID\", \"TUACTDUR24\"])\n",
    "\n",
    "work_2004_non_res_emp_merge = pd.merge(work, multi_resp, on =\"TUCASEID\").filter([\"TUCASEID\",\"TUACTDUR24\",\"TUFNWGTP\"])\n",
    "work_2004_non_res_emp_merge[\"Mutiplied Weighted\"] = work_2004_non_res_emp_merge[\"TUACTDUR24\"] * work_2004_non_res_emp_merge[\"TUFNWGTP\"]"
   ]
  },
  {
   "cell_type": "code",
   "execution_count": 407,
   "metadata": {},
   "outputs": [],
   "source": [
    "work_2004_non_res_emp_weight = work_2004_non_res_emp_merge[\"Mutiplied Weighted\"].sum()\n",
    "work_2004_non_res_emp_weight\n",
    "\n",
    "atus_2004_drop = atus_2004.drop_duplicates(subset=[\"TUCASEID\"])\n",
    "all_2004_non_res_emp_weight = atus_2004_drop[\"TUFNWGTP\"].sum()"
   ]
  },
  {
   "cell_type": "code",
   "execution_count": 408,
   "metadata": {},
   "outputs": [
    {
     "data": {
      "text/plain": [
       "4.667982747104644"
      ]
     },
     "execution_count": 408,
     "metadata": {},
     "output_type": "execute_result"
    }
   ],
   "source": [
    "work_2004_non_res_emp_hpd = work_2004_non_res_emp_weight / all_2004_non_res_emp_weight / 60\n",
    "work_2004_non_res_emp_hpd"
   ]
  },
  {
   "cell_type": "markdown",
   "metadata": {},
   "source": [
    "### 2005 Work, Main Job Non Residential- Employed"
   ]
  },
  {
   "cell_type": "code",
   "execution_count": 409,
   "metadata": {},
   "outputs": [],
   "source": [
    "atus_2005_non_res_work_emp = atus_2005_non_res_emp.loc[atus_2005_non_res_emp.TRCODEP == \"050101\"]\n",
    "\n",
    "work = atus_2005_non_res_work_emp.groupby([\"TUCASEID\"]).sum().filter([\"TUCASEID\", \"TUACTDUR24\"])\n",
    "\n",
    "work_2005_non_res_emp_merge = pd.merge(work, multi_resp, on =\"TUCASEID\").filter([\"TUCASEID\",\"TUACTDUR24\",\"TUFNWGTP\"])\n",
    "work_2005_non_res_emp_merge[\"Mutiplied Weighted\"] = work_2005_non_res_emp_merge[\"TUACTDUR24\"] * work_2005_non_res_emp_merge[\"TUFNWGTP\"]"
   ]
  },
  {
   "cell_type": "code",
   "execution_count": 410,
   "metadata": {},
   "outputs": [],
   "source": [
    "work_2005_non_res_emp_weight = work_2005_non_res_emp_merge[\"Mutiplied Weighted\"].sum()\n",
    "work_2005_non_res_emp_weight\n",
    "\n",
    "atus_2005_drop = atus_2005.drop_duplicates(subset=[\"TUCASEID\"])\n",
    "all_2005_non_res_emp_weight = atus_2005_drop[\"TUFNWGTP\"].sum()"
   ]
  },
  {
   "cell_type": "code",
   "execution_count": 411,
   "metadata": {},
   "outputs": [
    {
     "data": {
      "text/plain": [
       "4.62812556788408"
      ]
     },
     "execution_count": 411,
     "metadata": {},
     "output_type": "execute_result"
    }
   ],
   "source": [
    "work_2005_non_res_emp_hpd = work_2005_non_res_emp_weight / all_2005_non_res_emp_weight / 60\n",
    "work_2005_non_res_emp_hpd"
   ]
  },
  {
   "cell_type": "markdown",
   "metadata": {},
   "source": [
    "### 2006 Work, Main Job Non Residential- Employed"
   ]
  },
  {
   "cell_type": "code",
   "execution_count": 412,
   "metadata": {},
   "outputs": [],
   "source": [
    "atus_2006_non_res_work_emp = atus_2006_non_res_emp.loc[atus_2006_non_res_emp.TRCODEP == \"050101\"]\n",
    "\n",
    "work = atus_2006_non_res_work_emp.groupby([\"TUCASEID\"]).sum().filter([\"TUCASEID\", \"TUACTDUR24\"])\n",
    "\n",
    "work_2006_non_res_emp_merge = pd.merge(work, multi_resp, on =\"TUCASEID\").filter([\"TUCASEID\",\"TUACTDUR24\",\"TUFNWGTP\"])\n",
    "work_2006_non_res_emp_merge[\"Mutiplied Weighted\"] = work_2006_non_res_emp_merge[\"TUACTDUR24\"] * work_2006_non_res_emp_merge[\"TUFNWGTP\"]"
   ]
  },
  {
   "cell_type": "code",
   "execution_count": 413,
   "metadata": {},
   "outputs": [],
   "source": [
    "work_2006_non_res_emp_weight = work_2006_non_res_emp_merge[\"Mutiplied Weighted\"].sum()\n",
    "work_2006_non_res_emp_weight\n",
    "\n",
    "atus_2006_drop = atus_2006.drop_duplicates(subset=[\"TUCASEID\"])\n",
    "all_2006_non_res_emp_weight = atus_2006_drop[\"TUFNWGTP\"].sum()"
   ]
  },
  {
   "cell_type": "code",
   "execution_count": 414,
   "metadata": {},
   "outputs": [
    {
     "data": {
      "text/plain": [
       "4.705754654881947"
      ]
     },
     "execution_count": 414,
     "metadata": {},
     "output_type": "execute_result"
    }
   ],
   "source": [
    "work_2006_non_res_emp_hpd = work_2006_non_res_emp_weight / all_2006_non_res_emp_weight / 60\n",
    "work_2006_non_res_emp_hpd"
   ]
  },
  {
   "cell_type": "markdown",
   "metadata": {},
   "source": [
    "### 2007 Work, Main Job Non Residential- Employed"
   ]
  },
  {
   "cell_type": "code",
   "execution_count": 415,
   "metadata": {},
   "outputs": [],
   "source": [
    "atus_2007_non_res_work_emp = atus_2007_non_res_emp.loc[atus_2007_non_res_emp.TRCODEP == \"050101\"]\n",
    "\n",
    "work = atus_2007_non_res_work_emp.groupby([\"TUCASEID\"]).sum().filter([\"TUCASEID\", \"TUACTDUR24\"])\n",
    "\n",
    "work_2007_non_res_emp_merge = pd.merge(work, multi_resp, on =\"TUCASEID\").filter([\"TUCASEID\",\"TUACTDUR24\",\"TUFNWGTP\"])\n",
    "work_2007_non_res_emp_merge[\"Mutiplied Weighted\"] = work_2007_non_res_emp_merge[\"TUACTDUR24\"] * work_2007_non_res_emp_merge[\"TUFNWGTP\"]"
   ]
  },
  {
   "cell_type": "code",
   "execution_count": 416,
   "metadata": {},
   "outputs": [],
   "source": [
    "work_2007_non_res_emp_weight = work_2007_non_res_emp_merge[\"Mutiplied Weighted\"].sum()\n",
    "work_2007_non_res_emp_weight\n",
    "\n",
    "atus_2007_drop = atus_2007.drop_duplicates(subset=[\"TUCASEID\"])\n",
    "all_2007_non_res_emp_weight = atus_2007_drop[\"TUFNWGTP\"].sum()"
   ]
  },
  {
   "cell_type": "code",
   "execution_count": 417,
   "metadata": {},
   "outputs": [
    {
     "data": {
      "text/plain": [
       "4.706907832780482"
      ]
     },
     "execution_count": 417,
     "metadata": {},
     "output_type": "execute_result"
    }
   ],
   "source": [
    "work_2007_non_res_emp_hpd = work_2007_non_res_emp_weight / all_2007_non_res_emp_weight / 60\n",
    "work_2007_non_res_emp_hpd"
   ]
  },
  {
   "cell_type": "markdown",
   "metadata": {},
   "source": [
    "### 2008 Work, Main Job Non Residential- Employed"
   ]
  },
  {
   "cell_type": "code",
   "execution_count": 418,
   "metadata": {},
   "outputs": [],
   "source": [
    "atus_2008_non_res_work_emp = atus_2008_non_res_emp.loc[atus_2008_non_res_emp.TRCODEP == \"050101\"]\n",
    "\n",
    "work = atus_2008_non_res_work_emp.groupby([\"TUCASEID\"]).sum().filter([\"TUCASEID\", \"TUACTDUR24\"])\n",
    "\n",
    "work_2008_non_res_emp_merge = pd.merge(work, multi_resp, on =\"TUCASEID\").filter([\"TUCASEID\",\"TUACTDUR24\",\"TUFNWGTP\"])\n",
    "work_2008_non_res_emp_merge[\"Mutiplied Weighted\"] = work_2008_non_res_emp_merge[\"TUACTDUR24\"] * work_2008_non_res_emp_merge[\"TUFNWGTP\"]"
   ]
  },
  {
   "cell_type": "code",
   "execution_count": 419,
   "metadata": {},
   "outputs": [],
   "source": [
    "work_2008_non_res_emp_weight = work_2008_non_res_emp_merge[\"Mutiplied Weighted\"].sum()\n",
    "work_2008_non_res_emp_weight\n",
    "\n",
    "atus_2008_drop = atus_2008.drop_duplicates(subset=[\"TUCASEID\"])\n",
    "all_2008_non_res_emp_weight = atus_2008_drop[\"TUFNWGTP\"].sum()"
   ]
  },
  {
   "cell_type": "code",
   "execution_count": 420,
   "metadata": {},
   "outputs": [
    {
     "data": {
      "text/plain": [
       "4.576502916130981"
      ]
     },
     "execution_count": 420,
     "metadata": {},
     "output_type": "execute_result"
    }
   ],
   "source": [
    "work_2008_non_res_emp_hpd = work_2008_non_res_emp_weight / all_2008_non_res_emp_weight / 60\n",
    "work_2008_non_res_emp_hpd"
   ]
  },
  {
   "cell_type": "markdown",
   "metadata": {},
   "source": [
    "### 2009 Work, Main Job Non Residential- Employed"
   ]
  },
  {
   "cell_type": "code",
   "execution_count": 421,
   "metadata": {},
   "outputs": [],
   "source": [
    "atus_2009_non_res_work_emp = atus_2009_non_res_emp.loc[atus_2009_non_res_emp.TRCODEP == \"050101\"]\n",
    "\n",
    "work = atus_2009_non_res_work_emp.groupby([\"TUCASEID\"]).sum().filter([\"TUCASEID\", \"TUACTDUR24\"])\n",
    "\n",
    "work_2009_non_res_emp_merge = pd.merge(work, multi_resp, on =\"TUCASEID\").filter([\"TUCASEID\",\"TUACTDUR24\",\"TUFNWGTP\"])\n",
    "work_2009_non_res_emp_merge[\"Mutiplied Weighted\"] = work_2009_non_res_emp_merge[\"TUACTDUR24\"] * work_2009_non_res_emp_merge[\"TUFNWGTP\"]"
   ]
  },
  {
   "cell_type": "code",
   "execution_count": 422,
   "metadata": {},
   "outputs": [],
   "source": [
    "work_2009_non_res_emp_weight = work_2009_non_res_emp_merge[\"Mutiplied Weighted\"].sum()\n",
    "work_2009_non_res_emp_weight\n",
    "\n",
    "atus_2009_drop = atus_2009.drop_duplicates(subset=[\"TUCASEID\"])\n",
    "all_2009_non_res_emp_weight = atus_2009_drop[\"TUFNWGTP\"].sum()"
   ]
  },
  {
   "cell_type": "code",
   "execution_count": 423,
   "metadata": {},
   "outputs": [
    {
     "data": {
      "text/plain": [
       "4.450647072834839"
      ]
     },
     "execution_count": 423,
     "metadata": {},
     "output_type": "execute_result"
    }
   ],
   "source": [
    "work_2009_non_res_emp_hpd = work_2009_non_res_emp_weight / all_2009_non_res_emp_weight / 60\n",
    "work_2009_non_res_emp_hpd"
   ]
  },
  {
   "cell_type": "markdown",
   "metadata": {},
   "source": [
    "### 2010 Work, Main Job Non Residential- Employed"
   ]
  },
  {
   "cell_type": "code",
   "execution_count": 424,
   "metadata": {},
   "outputs": [],
   "source": [
    "atus_2010_non_res_work_emp = atus_2010_non_res_emp.loc[atus_2010_non_res_emp.TRCODEP == \"050101\"]\n",
    "\n",
    "work = atus_2010_non_res_work_emp.groupby([\"TUCASEID\"]).sum().filter([\"TUCASEID\", \"TUACTDUR24\"])\n",
    "\n",
    "work_2010_non_res_emp_merge = pd.merge(work, multi_resp, on =\"TUCASEID\").filter([\"TUCASEID\",\"TUACTDUR24\",\"TUFNWGTP\"])\n",
    "work_2010_non_res_emp_merge[\"Mutiplied Weighted\"] = work_2010_non_res_emp_merge[\"TUACTDUR24\"] * work_2010_non_res_emp_merge[\"TUFNWGTP\"]"
   ]
  },
  {
   "cell_type": "code",
   "execution_count": 425,
   "metadata": {},
   "outputs": [],
   "source": [
    "work_2010_non_res_emp_weight = work_2010_non_res_emp_merge[\"Mutiplied Weighted\"].sum()\n",
    "work_2010_non_res_emp_weight\n",
    "\n",
    "atus_2010_drop = atus_2010.drop_duplicates(subset=[\"TUCASEID\"])\n",
    "all_2010_non_res_emp_weight = atus_2010_drop[\"TUFNWGTP\"].sum()"
   ]
  },
  {
   "cell_type": "code",
   "execution_count": 426,
   "metadata": {},
   "outputs": [
    {
     "data": {
      "text/plain": [
       "4.485890365299347"
      ]
     },
     "execution_count": 426,
     "metadata": {},
     "output_type": "execute_result"
    }
   ],
   "source": [
    "work_2010_non_res_emp_hpd = work_2010_non_res_emp_weight / all_2010_non_res_emp_weight / 60\n",
    "work_2010_non_res_emp_hpd"
   ]
  },
  {
   "cell_type": "markdown",
   "metadata": {},
   "source": [
    "### 2011 Work, Main Job Non Residential- Employed"
   ]
  },
  {
   "cell_type": "code",
   "execution_count": 427,
   "metadata": {},
   "outputs": [],
   "source": [
    "atus_2011_non_res_work_emp = atus_2011_non_res_emp.loc[atus_2011_non_res_emp.TRCODEP == \"050101\"]\n",
    "\n",
    "work = atus_2011_non_res_work_emp.groupby([\"TUCASEID\"]).sum().filter([\"TUCASEID\", \"TUACTDUR24\"])\n",
    "\n",
    "work_2011_non_res_emp_merge = pd.merge(work, multi_resp, on =\"TUCASEID\").filter([\"TUCASEID\",\"TUACTDUR24\",\"TUFNWGTP\"])\n",
    "work_2011_non_res_emp_merge[\"Mutiplied Weighted\"] = work_2011_non_res_emp_merge[\"TUACTDUR24\"] * work_2011_non_res_emp_merge[\"TUFNWGTP\"]"
   ]
  },
  {
   "cell_type": "code",
   "execution_count": 428,
   "metadata": {},
   "outputs": [],
   "source": [
    "work_2011_non_res_emp_weight = work_2011_non_res_emp_merge[\"Mutiplied Weighted\"].sum()\n",
    "work_2011_non_res_emp_weight\n",
    "\n",
    "atus_2011_drop = atus_2011.drop_duplicates(subset=[\"TUCASEID\"])\n",
    "all_2011_non_res_emp_weight = atus_2011_drop[\"TUFNWGTP\"].sum()"
   ]
  },
  {
   "cell_type": "code",
   "execution_count": 429,
   "metadata": {},
   "outputs": [
    {
     "data": {
      "text/plain": [
       "4.570070796155762"
      ]
     },
     "execution_count": 429,
     "metadata": {},
     "output_type": "execute_result"
    }
   ],
   "source": [
    "work_2011_non_res_emp_hpd = work_2011_non_res_emp_weight / all_2011_non_res_emp_weight / 60\n",
    "work_2011_non_res_emp_hpd"
   ]
  },
  {
   "cell_type": "markdown",
   "metadata": {},
   "source": [
    "### 2012 Work, Main Job Non Residential- Employed"
   ]
  },
  {
   "cell_type": "code",
   "execution_count": 430,
   "metadata": {},
   "outputs": [],
   "source": [
    "atus_2012_non_res_work_emp = atus_2012_non_res_emp.loc[atus_2012_non_res_emp.TRCODEP == \"050101\"]\n",
    "\n",
    "work = atus_2012_non_res_work_emp.groupby([\"TUCASEID\"]).sum().filter([\"TUCASEID\", \"TUACTDUR24\"])\n",
    "\n",
    "work_2012_non_res_emp_merge = pd.merge(work, multi_resp, on =\"TUCASEID\").filter([\"TUCASEID\",\"TUACTDUR24\",\"TUFNWGTP\"])\n",
    "work_2012_non_res_emp_merge[\"Mutiplied Weighted\"] = work_2012_non_res_emp_merge[\"TUACTDUR24\"] * work_2012_non_res_emp_merge[\"TUFNWGTP\"]"
   ]
  },
  {
   "cell_type": "code",
   "execution_count": 431,
   "metadata": {},
   "outputs": [],
   "source": [
    "work_2012_non_res_emp_weight = work_2012_non_res_emp_merge[\"Mutiplied Weighted\"].sum()\n",
    "work_2012_non_res_emp_weight\n",
    "\n",
    "atus_2012_drop = atus_2012.drop_duplicates(subset=[\"TUCASEID\"])\n",
    "all_2012_non_res_emp_weight = atus_2012_drop[\"TUFNWGTP\"].sum()"
   ]
  },
  {
   "cell_type": "code",
   "execution_count": 432,
   "metadata": {},
   "outputs": [
    {
     "data": {
      "text/plain": [
       "4.554239930214818"
      ]
     },
     "execution_count": 432,
     "metadata": {},
     "output_type": "execute_result"
    }
   ],
   "source": [
    "work_2012_non_res_emp_hpd = work_2012_non_res_emp_weight / all_2012_non_res_emp_weight / 60\n",
    "work_2012_non_res_emp_hpd"
   ]
  },
  {
   "cell_type": "markdown",
   "metadata": {},
   "source": [
    "### 2013 Work, Main Job Non Residential- Employed"
   ]
  },
  {
   "cell_type": "code",
   "execution_count": 433,
   "metadata": {},
   "outputs": [],
   "source": [
    "atus_2013_non_res_work_emp = atus_2013_non_res_emp.loc[atus_2013_non_res_emp.TRCODEP == \"050101\"]\n",
    "\n",
    "work = atus_2013_non_res_work_emp.groupby([\"TUCASEID\"]).sum().filter([\"TUCASEID\", \"TUACTDUR24\"])\n",
    "\n",
    "work_2013_non_res_emp_merge = pd.merge(work, multi_resp, on =\"TUCASEID\").filter([\"TUCASEID\",\"TUACTDUR24\",\"TUFNWGTP\"])\n",
    "work_2013_non_res_emp_merge[\"Mutiplied Weighted\"] = work_2013_non_res_emp_merge[\"TUACTDUR24\"] * work_2013_non_res_emp_merge[\"TUFNWGTP\"]"
   ]
  },
  {
   "cell_type": "code",
   "execution_count": 434,
   "metadata": {},
   "outputs": [],
   "source": [
    "work_2013_non_res_emp_weight = work_2013_non_res_emp_merge[\"Mutiplied Weighted\"].sum()\n",
    "work_2013_non_res_emp_weight\n",
    "\n",
    "atus_2013_drop = atus_2013.drop_duplicates(subset=[\"TUCASEID\"])\n",
    "all_2013_non_res_emp_weight = atus_2013_drop[\"TUFNWGTP\"].sum()"
   ]
  },
  {
   "cell_type": "code",
   "execution_count": 435,
   "metadata": {},
   "outputs": [
    {
     "data": {
      "text/plain": [
       "4.4873402771262265"
      ]
     },
     "execution_count": 435,
     "metadata": {},
     "output_type": "execute_result"
    }
   ],
   "source": [
    "work_2013_non_res_emp_hpd = work_2013_non_res_emp_weight / all_2013_non_res_emp_weight / 60\n",
    "work_2013_non_res_emp_hpd"
   ]
  },
  {
   "cell_type": "markdown",
   "metadata": {},
   "source": [
    "### 2014 Work, Main Job Non Residential- Employed"
   ]
  },
  {
   "cell_type": "code",
   "execution_count": 436,
   "metadata": {},
   "outputs": [],
   "source": [
    "atus_2014_non_res_work_emp = atus_2014_non_res_emp.loc[atus_2014_non_res_emp.TRCODEP == \"050101\"]\n",
    "\n",
    "work = atus_2014_non_res_work_emp.groupby([\"TUCASEID\"]).sum().filter([\"TUCASEID\", \"TUACTDUR24\"])\n",
    "\n",
    "work_2014_non_res_emp_merge = pd.merge(work, multi_resp, on =\"TUCASEID\").filter([\"TUCASEID\",\"TUACTDUR24\",\"TUFNWGTP\"])\n",
    "work_2014_non_res_emp_merge[\"Mutiplied Weighted\"] = work_2014_non_res_emp_merge[\"TUACTDUR24\"] * work_2014_non_res_emp_merge[\"TUFNWGTP\"]"
   ]
  },
  {
   "cell_type": "code",
   "execution_count": 437,
   "metadata": {},
   "outputs": [],
   "source": [
    "work_2014_non_res_emp_weight = work_2014_non_res_emp_merge[\"Mutiplied Weighted\"].sum()\n",
    "work_2014_non_res_emp_weight\n",
    "\n",
    "atus_2014_drop = atus_2014.drop_duplicates(subset=[\"TUCASEID\"])\n",
    "all_2014_non_res_emp_weight = atus_2014_drop[\"TUFNWGTP\"].sum()"
   ]
  },
  {
   "cell_type": "code",
   "execution_count": 438,
   "metadata": {},
   "outputs": [
    {
     "data": {
      "text/plain": [
       "4.661962558391975"
      ]
     },
     "execution_count": 438,
     "metadata": {},
     "output_type": "execute_result"
    }
   ],
   "source": [
    "work_2014_non_res_emp_hpd = work_2014_non_res_emp_weight / all_2014_non_res_emp_weight / 60\n",
    "work_2014_non_res_emp_hpd"
   ]
  },
  {
   "cell_type": "markdown",
   "metadata": {},
   "source": [
    "### 2015 Work, Main Job Non Residential- Employed"
   ]
  },
  {
   "cell_type": "code",
   "execution_count": 439,
   "metadata": {},
   "outputs": [],
   "source": [
    "atus_2015_non_res_work_emp = atus_2015_non_res_emp.loc[atus_2015_non_res_emp.TRCODEP == \"050101\"]\n",
    "\n",
    "work = atus_2015_non_res_work_emp.groupby([\"TUCASEID\"]).sum().filter([\"TUCASEID\", \"TUACTDUR24\"])\n",
    "\n",
    "work_2015_non_res_emp_merge = pd.merge(work, multi_resp, on =\"TUCASEID\").filter([\"TUCASEID\",\"TUACTDUR24\",\"TUFNWGTP\"])\n",
    "work_2015_non_res_emp_merge[\"Mutiplied Weighted\"] = work_2015_non_res_emp_merge[\"TUACTDUR24\"] * work_2015_non_res_emp_merge[\"TUFNWGTP\"]"
   ]
  },
  {
   "cell_type": "code",
   "execution_count": 440,
   "metadata": {},
   "outputs": [],
   "source": [
    "work_2015_non_res_emp_weight = work_2015_non_res_emp_merge[\"Mutiplied Weighted\"].sum()\n",
    "work_2015_non_res_emp_weight\n",
    "\n",
    "atus_2015_drop = atus_2015.drop_duplicates(subset=[\"TUCASEID\"])\n",
    "all_2015_non_res_emp_weight = atus_2015_drop[\"TUFNWGTP\"].sum()"
   ]
  },
  {
   "cell_type": "code",
   "execution_count": 441,
   "metadata": {},
   "outputs": [
    {
     "data": {
      "text/plain": [
       "4.488046501687274"
      ]
     },
     "execution_count": 441,
     "metadata": {},
     "output_type": "execute_result"
    }
   ],
   "source": [
    "work_2015_non_res_emp_hpd = work_2015_non_res_emp_weight / all_2015_non_res_emp_weight / 60\n",
    "work_2015_non_res_emp_hpd"
   ]
  },
  {
   "cell_type": "markdown",
   "metadata": {},
   "source": [
    "### 2016 Work, Main Job Non Residential- Employed"
   ]
  },
  {
   "cell_type": "code",
   "execution_count": 442,
   "metadata": {},
   "outputs": [],
   "source": [
    "atus_2016_non_res_work_emp = atus_2016_non_res_emp.loc[atus_2016_non_res_emp.TRCODEP == \"050101\"]\n",
    "\n",
    "work = atus_2016_non_res_work_emp.groupby([\"TUCASEID\"]).sum().filter([\"TUCASEID\", \"TUACTDUR24\"])\n",
    "\n",
    "work_2016_non_res_emp_merge = pd.merge(work, multi_resp, on =\"TUCASEID\").filter([\"TUCASEID\",\"TUACTDUR24\",\"TUFNWGTP\"])\n",
    "work_2016_non_res_emp_merge[\"Mutiplied Weighted\"] = work_2016_non_res_emp_merge[\"TUACTDUR24\"] * work_2016_non_res_emp_merge[\"TUFNWGTP\"]"
   ]
  },
  {
   "cell_type": "code",
   "execution_count": 443,
   "metadata": {},
   "outputs": [],
   "source": [
    "work_2016_non_res_emp_weight = work_2016_non_res_emp_merge[\"Mutiplied Weighted\"].sum()\n",
    "work_2016_non_res_emp_weight\n",
    "\n",
    "atus_2016_drop = atus_2016.drop_duplicates(subset=[\"TUCASEID\"])\n",
    "all_2016_non_res_emp_weight = atus_2016_drop[\"TUFNWGTP\"].sum()"
   ]
  },
  {
   "cell_type": "code",
   "execution_count": 444,
   "metadata": {},
   "outputs": [
    {
     "data": {
      "text/plain": [
       "4.549602779606514"
      ]
     },
     "execution_count": 444,
     "metadata": {},
     "output_type": "execute_result"
    }
   ],
   "source": [
    "work_2016_non_res_emp_hpd = work_2016_non_res_emp_weight / all_2016_non_res_emp_weight / 60\n",
    "work_2016_non_res_emp_hpd"
   ]
  },
  {
   "cell_type": "markdown",
   "metadata": {},
   "source": [
    "### 2017 Work, Main Job Non Residential- Employed"
   ]
  },
  {
   "cell_type": "code",
   "execution_count": 445,
   "metadata": {},
   "outputs": [],
   "source": [
    "atus_2017_non_res_work_emp = atus_2017_non_res_emp.loc[atus_2017_non_res_emp.TRCODEP == \"050101\"]\n",
    "\n",
    "work = atus_2017_non_res_work_emp.groupby([\"TUCASEID\"]).sum().filter([\"TUCASEID\", \"TUACTDUR24\"])\n",
    "\n",
    "work_2017_non_res_emp_merge = pd.merge(work, multi_resp, on =\"TUCASEID\").filter([\"TUCASEID\",\"TUACTDUR24\",\"TUFNWGTP\"])\n",
    "work_2017_non_res_emp_merge[\"Mutiplied Weighted\"] = work_2017_non_res_emp_merge[\"TUACTDUR24\"] * work_2017_non_res_emp_merge[\"TUFNWGTP\"]"
   ]
  },
  {
   "cell_type": "code",
   "execution_count": 446,
   "metadata": {},
   "outputs": [],
   "source": [
    "work_2017_non_res_emp_weight = work_2017_non_res_emp_merge[\"Mutiplied Weighted\"].sum()\n",
    "work_2017_non_res_emp_weight\n",
    "\n",
    "atus_2017_drop = atus_2017.drop_duplicates(subset=[\"TUCASEID\"])\n",
    "all_2017_non_res_emp_weight = atus_2017_drop[\"TUFNWGTP\"].sum()"
   ]
  },
  {
   "cell_type": "code",
   "execution_count": 447,
   "metadata": {},
   "outputs": [
    {
     "data": {
      "text/plain": [
       "4.47153444806593"
      ]
     },
     "execution_count": 447,
     "metadata": {},
     "output_type": "execute_result"
    }
   ],
   "source": [
    "work_2017_non_res_emp_hpd = work_2017_non_res_emp_weight / all_2017_non_res_emp_weight / 60\n",
    "work_2017_non_res_emp_hpd"
   ]
  },
  {
   "cell_type": "markdown",
   "metadata": {},
   "source": [
    "### 2018 Work, Main Job Non Residential- Employed"
   ]
  },
  {
   "cell_type": "code",
   "execution_count": 448,
   "metadata": {},
   "outputs": [],
   "source": [
    "atus_2018_non_res_work_emp = atus_2018_non_res_emp.loc[atus_2018_non_res_emp.TRCODEP == \"050101\"]\n",
    "\n",
    "work = atus_2018_non_res_work_emp.groupby([\"TUCASEID\"]).sum().filter([\"TUCASEID\", \"TUACTDUR24\"])\n",
    "\n",
    "work_2018_non_res_emp_merge = pd.merge(work, multi_resp, on =\"TUCASEID\").filter([\"TUCASEID\",\"TUACTDUR24\",\"TUFNWGTP\"])\n",
    "work_2018_non_res_emp_merge[\"Mutiplied Weighted\"] = work_2018_non_res_emp_merge[\"TUACTDUR24\"] * work_2018_non_res_emp_merge[\"TUFNWGTP\"]"
   ]
  },
  {
   "cell_type": "code",
   "execution_count": 449,
   "metadata": {},
   "outputs": [],
   "source": [
    "work_2018_non_res_emp_weight = work_2018_non_res_emp_merge[\"Mutiplied Weighted\"].sum()\n",
    "work_2018_non_res_emp_weight\n",
    "\n",
    "atus_2018_drop = atus_2018.drop_duplicates(subset=[\"TUCASEID\"])\n",
    "all_2018_non_res_emp_weight = atus_2018_drop[\"TUFNWGTP\"].sum()"
   ]
  },
  {
   "cell_type": "code",
   "execution_count": 450,
   "metadata": {},
   "outputs": [
    {
     "data": {
      "text/plain": [
       "4.4476028500846665"
      ]
     },
     "execution_count": 450,
     "metadata": {},
     "output_type": "execute_result"
    }
   ],
   "source": [
    "work_2018_non_res_emp_hpd = work_2018_non_res_emp_weight / all_2018_non_res_emp_weight / 60\n",
    "work_2018_non_res_emp_hpd"
   ]
  },
  {
   "cell_type": "markdown",
   "metadata": {},
   "source": [
    "### 2019 Work, Main Job Non Residential- Employed"
   ]
  },
  {
   "cell_type": "code",
   "execution_count": 451,
   "metadata": {},
   "outputs": [],
   "source": [
    "atus_2019_non_res_work_emp = atus_2019_non_res_emp.loc[atus_2019_non_res_emp.TRCODEP == \"050101\"]\n",
    "\n",
    "work = atus_2019_non_res_work_emp.groupby([\"TUCASEID\"]).sum().filter([\"TUCASEID\", \"TUACTDUR24\"])\n",
    "\n",
    "work_2019_non_res_emp_merge = pd.merge(work, multi_resp, on =\"TUCASEID\").filter([\"TUCASEID\",\"TUACTDUR24\",\"TUFNWGTP\"])\n",
    "work_2019_non_res_emp_merge[\"Mutiplied Weighted\"] = work_2019_non_res_emp_merge[\"TUACTDUR24\"] * work_2019_non_res_emp_merge[\"TUFNWGTP\"]"
   ]
  },
  {
   "cell_type": "code",
   "execution_count": 452,
   "metadata": {},
   "outputs": [],
   "source": [
    "work_2019_non_res_emp_weight = work_2019_non_res_emp_merge[\"Mutiplied Weighted\"].sum()\n",
    "work_2019_non_res_emp_weight\n",
    "\n",
    "atus_2019_drop = atus_2019.drop_duplicates(subset=[\"TUCASEID\"])\n",
    "all_2019_non_res_emp_weight = atus_2019_drop[\"TUFNWGTP\"].sum()"
   ]
  },
  {
   "cell_type": "code",
   "execution_count": 453,
   "metadata": {},
   "outputs": [
    {
     "data": {
      "text/plain": [
       "4.403962404023578"
      ]
     },
     "execution_count": 453,
     "metadata": {},
     "output_type": "execute_result"
    }
   ],
   "source": [
    "work_2019_non_res_emp_hpd = work_2019_non_res_emp_weight / all_2019_non_res_emp_weight / 60\n",
    "work_2019_non_res_emp_hpd"
   ]
  },
  {
   "cell_type": "markdown",
   "metadata": {},
   "source": [
    "### Work, Main Job Non Residential- Employed Regression"
   ]
  },
  {
   "cell_type": "markdown",
   "metadata": {},
   "source": [
    "#### 2003-2012 Work, Main Job Non Residential- Employed"
   ]
  },
  {
   "cell_type": "code",
   "execution_count": 454,
   "metadata": {},
   "outputs": [],
   "source": [
    "year = np.array([2003, 2004, 2005, 2006, 2007, 2008, 2009, 2010,2011,2012]).reshape((-1, 1))\n",
    "activity_hours_per_day = np.array([work_2003_non_res_emp_hpd, work_2004_non_res_emp_hpd, work_2005_non_res_emp_hpd, work_2006_non_res_emp_hpd,\n",
    "                                   work_2007_non_res_emp_hpd, work_2008_non_res_emp_hpd, work_2009_non_res_emp_hpd, work_2010_non_res_emp_hpd,\n",
    "                                   work_2011_non_res_emp_hpd, work_2012_non_res_emp_hpd]).reshape((-1, 1))\n",
    "                                  \n",
    "\n",
    "activity_hours_per_yr = [i * 365 for i in activity_hours_per_day]\n",
    "#activity_hours_per_yr"
   ]
  },
  {
   "cell_type": "code",
   "execution_count": 455,
   "metadata": {},
   "outputs": [
    {
     "data": {
      "image/png": "[encoded data removed]",
      "text/plain": [
       "<Figure size 432x288 with 1 Axes>"
      ]
     },
     "metadata": {
      "needs_background": "light"
     },
     "output_type": "display_data"
    }
   ],
   "source": [
    "x = year\n",
    "y = activity_hours_per_yr\n",
    "x, y = np.array(x), np.array(y)\n",
    "\n",
    "model = LinearRegression().fit(x, y)\n",
    "\n",
    "y_pred = model.predict(x)  \n",
    "\n",
    "plt.scatter(x, y)\n",
    "plt.plot(x, y_pred, color='red')\n",
    "plt.show()"
   ]
  },
  {
   "cell_type": "code",
   "execution_count": 456,
   "metadata": {},
   "outputs": [
    {
     "data": {
      "text/plain": [
       "0.4395842240995631"
      ]
     },
     "execution_count": 456,
     "metadata": {},
     "output_type": "execute_result"
    }
   ],
   "source": [
    "coefficient_of_determination = model.score(x,y) #R sqaure value \n",
    "coefficient_of_determination"
   ]
  },
  {
   "cell_type": "code",
   "execution_count": 457,
   "metadata": {},
   "outputs": [
    {
     "data": {
      "text/plain": [
       "array([[-7.03318828]])"
      ]
     },
     "execution_count": 457,
     "metadata": {},
     "output_type": "execute_result"
    }
   ],
   "source": [
    "work_non_res_emp_2003_2012_slope = model.coef_\n",
    "work_non_res_emp_2003_2012_slope"
   ]
  },
  {
   "cell_type": "markdown",
   "metadata": {},
   "source": [
    "#### 2003-2019 Work, Main Job Non Residential- Employed"
   ]
  },
  {
   "cell_type": "code",
   "execution_count": 458,
   "metadata": {},
   "outputs": [],
   "source": [
    "year = np.array([2003,2004,2005,2006,2007,2008,2009,2010,2011,2012,2013,2014,2015,2016,2017,2018,2019]).reshape((-1, 1))\n",
    "activity_hours_per_day = np.array([work_2003_non_res_emp_hpd, work_2004_non_res_emp_hpd, work_2005_non_res_emp_hpd, work_2006_non_res_emp_hpd,\n",
    "                                   work_2007_non_res_emp_hpd, work_2008_non_res_emp_hpd, work_2009_non_res_emp_hpd, work_2010_non_res_emp_hpd,\n",
    "                                   work_2011_non_res_emp_hpd, work_2012_non_res_emp_hpd, work_2013_non_res_emp_hpd, work_2014_non_res_emp_hpd,\n",
    "                                   work_2015_non_res_emp_hpd, work_2016_non_res_emp_hpd, work_2017_non_res_emp_hpd, work_2018_non_res_emp_hpd,\n",
    "                                   work_2019_non_res_emp_hpd]).reshape((-1, 1))\n",
    "                                  \n",
    "\n",
    "activity_hours_per_yr = [i * 365 for i in activity_hours_per_day]\n",
    "#activity_hours_per_yr"
   ]
  },
  {
   "cell_type": "code",
   "execution_count": 459,
   "metadata": {},
   "outputs": [
    {
     "data": {
      "image/png": "[encoded data removed]",
      "text/plain": [
       "<Figure size 432x288 with 1 Axes>"
      ]
     },
     "metadata": {
      "needs_background": "light"
     },
     "output_type": "display_data"
    }
   ],
   "source": [
    "x = year\n",
    "y = activity_hours_per_yr\n",
    "x, y = np.array(x), np.array(y)\n",
    "\n",
    "model = LinearRegression().fit(x, y)\n",
    "\n",
    "y_pred = model.predict(x)  \n",
    "\n",
    "plt.scatter(x, y)\n",
    "plt.plot(x, y_pred, color='red')\n",
    "plt.show()"
   ]
  },
  {
   "cell_type": "code",
   "execution_count": 460,
   "metadata": {},
   "outputs": [
    {
     "data": {
      "text/plain": [
       "0.5318627806707782"
      ]
     },
     "execution_count": 460,
     "metadata": {},
     "output_type": "execute_result"
    }
   ],
   "source": [
    "coefficient_of_determination = model.score(x,y) #R sqaure value \n",
    "coefficient_of_determination"
   ]
  },
  {
   "cell_type": "code",
   "execution_count": 461,
   "metadata": {},
   "outputs": [
    {
     "data": {
      "text/plain": [
       "array([[-5.12704102]])"
      ]
     },
     "execution_count": 461,
     "metadata": {},
     "output_type": "execute_result"
    }
   ],
   "source": [
    "work_non_res_emp_2003_2019_slope = model.coef_\n",
    "work_non_res_emp_2003_2019_slope"
   ]
  },
  {
   "cell_type": "markdown",
   "metadata": {},
   "source": [
    "## 2003 - 2019 Eating and drinking Non Residential - Employed"
   ]
  },
  {
   "cell_type": "markdown",
   "metadata": {},
   "source": [
    "### 2003  Eating and drinking"
   ]
  },
  {
   "cell_type": "code",
   "execution_count": 462,
   "metadata": {},
   "outputs": [],
   "source": [
    "#110101 is eating and drinking\n",
    "eating = atus_2003_non_res_emp[atus_2003_non_res_emp[\"TRCODEP\"].apply(str).str.startswith(\"110101\")]"
   ]
  },
  {
   "cell_type": "code",
   "execution_count": 463,
   "metadata": {},
   "outputs": [],
   "source": [
    "eating_2003_non_res_emp = eating.groupby([\"TUCASEID\"]).sum().filter([\"TUCASEID\", \"TUACTDUR24\"])\n",
    "eating_2003_non_res_emp_merged = pd.merge(eating_2003_non_res_emp, multi_resp, on =\"TUCASEID\").filter([\"TUCASEID\",\"TUACTDUR24\",\"TUFNWGTP\"])"
   ]
  },
  {
   "cell_type": "code",
   "execution_count": 464,
   "metadata": {},
   "outputs": [],
   "source": [
    "eating_2003_non_res_emp_merged[\"Mutiplied Weighted\"] = eating_2003_non_res_emp_merged[\"TUACTDUR24\"] * eating_2003_non_res_emp_merged[\"TUFNWGTP\"]\n",
    "#eating_2003_non_res_emp_merged"
   ]
  },
  {
   "cell_type": "code",
   "execution_count": 465,
   "metadata": {},
   "outputs": [
    {
     "data": {
      "text/plain": [
       "1428782932097.408"
      ]
     },
     "execution_count": 465,
     "metadata": {},
     "output_type": "execute_result"
    }
   ],
   "source": [
    "eating_2003_non_res_emp_weight = eating_2003_non_res_emp_merged[\"Mutiplied Weighted\"].sum()\n",
    "eating_2003_non_res_emp_weight"
   ]
  },
  {
   "cell_type": "code",
   "execution_count": 466,
   "metadata": {},
   "outputs": [
    {
     "data": {
      "text/plain": [
       "0.44772153348872623"
      ]
     },
     "execution_count": 466,
     "metadata": {},
     "output_type": "execute_result"
    }
   ],
   "source": [
    "eating_2003_non_res_emp_avg_hpd = eating_2003_non_res_emp_weight / all_2003_emp_weight /60\n",
    "eating_2003_non_res_emp_avg_hpd"
   ]
  },
  {
   "cell_type": "markdown",
   "metadata": {},
   "source": [
    "### 2004 Eating and drinking"
   ]
  },
  {
   "cell_type": "code",
   "execution_count": 467,
   "metadata": {},
   "outputs": [],
   "source": [
    "eating = atus_2004_non_res_emp[atus_2004_non_res_emp[\"TRCODEP\"].apply(str).str.startswith(\"110101\")]\n",
    "\n",
    "eating_2004_non_res_emp = eating.groupby([\"TUCASEID\"]).sum().filter([\"TUCASEID\", \"TUACTDUR24\"])\n",
    "eating_2004_non_res_emp_merged = pd.merge(eating_2004_non_res_emp, multi_resp, on =\"TUCASEID\").filter([\"TUCASEID\",\"TUACTDUR24\",\"TUFNWGTP\"])"
   ]
  },
  {
   "cell_type": "code",
   "execution_count": 468,
   "metadata": {},
   "outputs": [
    {
     "data": {
      "text/plain": [
       "1499095806440.9556"
      ]
     },
     "execution_count": 468,
     "metadata": {},
     "output_type": "execute_result"
    }
   ],
   "source": [
    "eating_2004_non_res_emp_merged[\"Mutiplied Weighted\"] = eating_2004_non_res_emp_merged[\"TUACTDUR24\"] * eating_2004_non_res_emp_merged[\"TUFNWGTP\"]\n",
    "eating_2004_non_res_emp_weight = eating_2004_non_res_emp_merged[\"Mutiplied Weighted\"].sum()\n",
    "eating_2004_non_res_emp_weight"
   ]
  },
  {
   "cell_type": "code",
   "execution_count": 469,
   "metadata": {},
   "outputs": [
    {
     "data": {
      "text/plain": [
       "0.4681290739944653"
      ]
     },
     "execution_count": 469,
     "metadata": {},
     "output_type": "execute_result"
    }
   ],
   "source": [
    "eating_2004_non_res_emp_avg_hpd = eating_2004_non_res_emp_weight / all_2004_emp_weight /60\n",
    "eating_2004_non_res_emp_avg_hpd"
   ]
  },
  {
   "cell_type": "markdown",
   "metadata": {},
   "source": [
    "### 2005 Eating and drinking"
   ]
  },
  {
   "cell_type": "code",
   "execution_count": 470,
   "metadata": {},
   "outputs": [],
   "source": [
    "eating = atus_2005_non_res_emp[atus_2005_non_res_emp[\"TRCODEP\"].apply(str).str.startswith(\"110101\")]\n",
    "\n",
    "eating_2005_non_res_emp = eating.groupby([\"TUCASEID\"]).sum().filter([\"TUCASEID\", \"TUACTDUR24\"])\n",
    "eating_2005_non_res_emp_merged = pd.merge(eating_2005_non_res_emp, multi_resp, on =\"TUCASEID\").filter([\"TUCASEID\",\"TUACTDUR24\",\"TUFNWGTP\"])"
   ]
  },
  {
   "cell_type": "code",
   "execution_count": 471,
   "metadata": {},
   "outputs": [
    {
     "data": {
      "text/plain": [
       "1545347236151.2378"
      ]
     },
     "execution_count": 471,
     "metadata": {},
     "output_type": "execute_result"
    }
   ],
   "source": [
    "eating_2005_non_res_emp_merged[\"Mutiplied Weighted\"] = eating_2005_non_res_emp_merged[\"TUACTDUR24\"] * eating_2005_non_res_emp_merged[\"TUFNWGTP\"]\n",
    "eating_2005_non_res_emp_weight = eating_2005_non_res_emp_merged[\"Mutiplied Weighted\"].sum()\n",
    "eating_2005_non_res_emp_weight"
   ]
  },
  {
   "cell_type": "code",
   "execution_count": 472,
   "metadata": {},
   "outputs": [
    {
     "data": {
      "text/plain": [
       "0.46804725551642523"
      ]
     },
     "execution_count": 472,
     "metadata": {},
     "output_type": "execute_result"
    }
   ],
   "source": [
    "eating_2005_non_res_emp_avg_hpd = eating_2005_non_res_emp_weight / all_2005_emp_weight /60\n",
    "eating_2005_non_res_emp_avg_hpd"
   ]
  },
  {
   "cell_type": "markdown",
   "metadata": {},
   "source": [
    "### 2006 Eating and drinking"
   ]
  },
  {
   "cell_type": "code",
   "execution_count": 473,
   "metadata": {},
   "outputs": [],
   "source": [
    "eating = atus_2006_non_res_emp[atus_2006_non_res_emp[\"TRCODEP\"].apply(str).str.startswith(\"110101\")]\n",
    "\n",
    "eating_2006_non_res_emp = eating.groupby([\"TUCASEID\"]).sum().filter([\"TUCASEID\", \"TUACTDUR24\"])\n",
    "eating_2006_non_res_emp_merged = pd.merge(eating_2006_non_res_emp, multi_resp, on =\"TUCASEID\").filter([\"TUCASEID\",\"TUACTDUR24\",\"TUFNWGTP\"])"
   ]
  },
  {
   "cell_type": "code",
   "execution_count": 474,
   "metadata": {},
   "outputs": [
    {
     "data": {
      "text/plain": [
       "1570157749133.6707"
      ]
     },
     "execution_count": 474,
     "metadata": {},
     "output_type": "execute_result"
    }
   ],
   "source": [
    "eating_2006_non_res_emp_merged[\"Mutiplied Weighted\"] = eating_2006_non_res_emp_merged[\"TUACTDUR24\"] * eating_2006_non_res_emp_merged[\"TUFNWGTP\"]\n",
    "eating_2006_non_res_emp_weight = eating_2006_non_res_emp_merged[\"Mutiplied Weighted\"].sum()\n",
    "eating_2006_non_res_emp_weight"
   ]
  },
  {
   "cell_type": "code",
   "execution_count": 475,
   "metadata": {},
   "outputs": [
    {
     "data": {
      "text/plain": [
       "0.47426342015190737"
      ]
     },
     "execution_count": 475,
     "metadata": {},
     "output_type": "execute_result"
    }
   ],
   "source": [
    "eating_2006_non_res_emp_avg_hpd = eating_2006_non_res_emp_weight / all_2006_emp_weight /60\n",
    "eating_2006_non_res_emp_avg_hpd"
   ]
  },
  {
   "cell_type": "markdown",
   "metadata": {},
   "source": [
    "### 2007 Eating and drinking"
   ]
  },
  {
   "cell_type": "code",
   "execution_count": 476,
   "metadata": {},
   "outputs": [],
   "source": [
    "eating = atus_2007_non_res_emp[atus_2007_non_res_emp[\"TRCODEP\"].apply(str).str.startswith(\"110101\")]\n",
    "\n",
    "eating_2007_non_res_emp = eating.groupby([\"TUCASEID\"]).sum().filter([\"TUCASEID\", \"TUACTDUR24\"])\n",
    "eating_2007_non_res_emp_merged = pd.merge(eating_2007_non_res_emp, multi_resp, on =\"TUCASEID\").filter([\"TUCASEID\",\"TUACTDUR24\",\"TUFNWGTP\"])"
   ]
  },
  {
   "cell_type": "code",
   "execution_count": 477,
   "metadata": {},
   "outputs": [
    {
     "data": {
      "text/plain": [
       "1589717006786.079"
      ]
     },
     "execution_count": 477,
     "metadata": {},
     "output_type": "execute_result"
    }
   ],
   "source": [
    "eating_2007_non_res_emp_merged[\"Mutiplied Weighted\"] = eating_2007_non_res_emp_merged[\"TUACTDUR24\"] * eating_2007_non_res_emp_merged[\"TUFNWGTP\"]\n",
    "eating_2007_non_res_emp_weight = eating_2007_non_res_emp_merged[\"Mutiplied Weighted\"].sum()\n",
    "eating_2007_non_res_emp_weight"
   ]
  },
  {
   "cell_type": "code",
   "execution_count": 478,
   "metadata": {},
   "outputs": [
    {
     "data": {
      "text/plain": [
       "0.4668094984841533"
      ]
     },
     "execution_count": 478,
     "metadata": {},
     "output_type": "execute_result"
    }
   ],
   "source": [
    "eating_2007_non_res_emp_avg_hpd = eating_2007_non_res_emp_weight / all_2007_emp_weight /60\n",
    "eating_2007_non_res_emp_avg_hpd"
   ]
  },
  {
   "cell_type": "markdown",
   "metadata": {},
   "source": [
    "### 2008 Eating and drinking"
   ]
  },
  {
   "cell_type": "code",
   "execution_count": 479,
   "metadata": {},
   "outputs": [],
   "source": [
    "eating = atus_2008_non_res_emp[atus_2008_non_res_emp[\"TRCODEP\"].apply(str).str.startswith(\"110101\")]\n",
    "\n",
    "eating_2008_non_res_emp = eating.groupby([\"TUCASEID\"]).sum().filter([\"TUCASEID\", \"TUACTDUR24\"])\n",
    "eating_2008_non_res_emp_merged = pd.merge(eating_2008_non_res_emp, multi_resp, on =\"TUCASEID\").filter([\"TUCASEID\",\"TUACTDUR24\",\"TUFNWGTP\"])"
   ]
  },
  {
   "cell_type": "code",
   "execution_count": 480,
   "metadata": {},
   "outputs": [
    {
     "data": {
      "text/plain": [
       "1541219855473.8447"
      ]
     },
     "execution_count": 480,
     "metadata": {},
     "output_type": "execute_result"
    }
   ],
   "source": [
    "eating_2008_non_res_emp_merged[\"Mutiplied Weighted\"] = eating_2008_non_res_emp_merged[\"TUACTDUR24\"] * eating_2008_non_res_emp_merged[\"TUFNWGTP\"]\n",
    "eating_2008_non_res_emp_weight = eating_2008_non_res_emp_merged[\"Mutiplied Weighted\"].sum()\n",
    "eating_2008_non_res_emp_weight"
   ]
  },
  {
   "cell_type": "code",
   "execution_count": 481,
   "metadata": {},
   "outputs": [
    {
     "data": {
      "text/plain": [
       "0.4517123106856748"
      ]
     },
     "execution_count": 481,
     "metadata": {},
     "output_type": "execute_result"
    }
   ],
   "source": [
    "eating_2008_non_res_emp_avg_hpd = eating_2008_non_res_emp_weight / all_2008_emp_weight /60\n",
    "eating_2008_non_res_emp_avg_hpd"
   ]
  },
  {
   "cell_type": "markdown",
   "metadata": {},
   "source": [
    "### 2009 Eating and drinking"
   ]
  },
  {
   "cell_type": "code",
   "execution_count": 482,
   "metadata": {},
   "outputs": [],
   "source": [
    "eating = atus_2009_non_res_emp[atus_2009_non_res_emp[\"TRCODEP\"].apply(str).str.startswith(\"110101\")]\n",
    "\n",
    "eating_2009_non_res_emp = eating.groupby([\"TUCASEID\"]).sum().filter([\"TUCASEID\", \"TUACTDUR24\"])\n",
    "eating_2009_non_res_emp_merged = pd.merge(eating_2009_non_res_emp, multi_resp, on =\"TUCASEID\").filter([\"TUCASEID\",\"TUACTDUR24\",\"TUFNWGTP\"])"
   ]
  },
  {
   "cell_type": "code",
   "execution_count": 483,
   "metadata": {},
   "outputs": [
    {
     "data": {
      "text/plain": [
       "1413164279166.7688"
      ]
     },
     "execution_count": 483,
     "metadata": {},
     "output_type": "execute_result"
    }
   ],
   "source": [
    "eating_2009_non_res_emp_merged[\"Mutiplied Weighted\"] = eating_2009_non_res_emp_merged[\"TUACTDUR24\"] * eating_2009_non_res_emp_merged[\"TUFNWGTP\"]\n",
    "eating_2009_non_res_emp_weight = eating_2009_non_res_emp_merged[\"Mutiplied Weighted\"].sum()\n",
    "eating_2009_non_res_emp_weight"
   ]
  },
  {
   "cell_type": "code",
   "execution_count": 484,
   "metadata": {},
   "outputs": [
    {
     "data": {
      "text/plain": [
       "0.4338882297171971"
      ]
     },
     "execution_count": 484,
     "metadata": {},
     "output_type": "execute_result"
    }
   ],
   "source": [
    "eating_2009_non_res_emp_avg_hpd = eating_2009_non_res_emp_weight / all_2009_emp_weight /60\n",
    "eating_2009_non_res_emp_avg_hpd"
   ]
  },
  {
   "cell_type": "markdown",
   "metadata": {},
   "source": [
    "### 2010 Eating and drinking"
   ]
  },
  {
   "cell_type": "code",
   "execution_count": 485,
   "metadata": {},
   "outputs": [],
   "source": [
    "eating = atus_2010_non_res_emp[atus_2010_non_res_emp[\"TRCODEP\"].apply(str).str.startswith(\"110101\")]\n",
    "\n",
    "eating_2010_non_res_emp = eating.groupby([\"TUCASEID\"]).sum().filter([\"TUCASEID\", \"TUACTDUR24\"])\n",
    "eating_2010_non_res_emp_merged = pd.merge(eating_2010_non_res_emp, multi_resp, on =\"TUCASEID\").filter([\"TUCASEID\",\"TUACTDUR24\",\"TUFNWGTP\"])"
   ]
  },
  {
   "cell_type": "code",
   "execution_count": 486,
   "metadata": {},
   "outputs": [
    {
     "data": {
      "text/plain": [
       "1529153939286.6572"
      ]
     },
     "execution_count": 486,
     "metadata": {},
     "output_type": "execute_result"
    }
   ],
   "source": [
    "eating_2010_non_res_emp_merged[\"Mutiplied Weighted\"] = eating_2010_non_res_emp_merged[\"TUACTDUR24\"] * eating_2010_non_res_emp_merged[\"TUFNWGTP\"]\n",
    "eating_2010_non_res_emp_weight = eating_2010_non_res_emp_merged[\"Mutiplied Weighted\"].sum()\n",
    "eating_2010_non_res_emp_weight"
   ]
  },
  {
   "cell_type": "code",
   "execution_count": 487,
   "metadata": {},
   "outputs": [
    {
     "data": {
      "text/plain": [
       "0.4725960397071214"
      ]
     },
     "execution_count": 487,
     "metadata": {},
     "output_type": "execute_result"
    }
   ],
   "source": [
    "eating_2010_non_res_emp_avg_hpd = eating_2010_non_res_emp_weight / all_2010_emp_weight /60\n",
    "eating_2010_non_res_emp_avg_hpd"
   ]
  },
  {
   "cell_type": "markdown",
   "metadata": {},
   "source": [
    "### 2011 Eating and drinking"
   ]
  },
  {
   "cell_type": "code",
   "execution_count": 488,
   "metadata": {},
   "outputs": [],
   "source": [
    "eating = atus_2011_non_res_emp[atus_2011_non_res_emp[\"TRCODEP\"].apply(str).str.startswith(\"110101\")]\n",
    "\n",
    "eating_2011_non_res_emp = eating.groupby([\"TUCASEID\"]).sum().filter([\"TUCASEID\", \"TUACTDUR24\"])\n",
    "eating_2011_non_res_emp_merged = pd.merge(eating_2011_non_res_emp, multi_resp, on =\"TUCASEID\").filter([\"TUCASEID\",\"TUACTDUR24\",\"TUFNWGTP\"])"
   ]
  },
  {
   "cell_type": "code",
   "execution_count": 489,
   "metadata": {},
   "outputs": [
    {
     "data": {
      "text/plain": [
       "1424332154631.1602"
      ]
     },
     "execution_count": 489,
     "metadata": {},
     "output_type": "execute_result"
    }
   ],
   "source": [
    "eating_2011_non_res_emp_merged[\"Mutiplied Weighted\"] = eating_2011_non_res_emp_merged[\"TUACTDUR24\"] * eating_2011_non_res_emp_merged[\"TUFNWGTP\"]\n",
    "eating_2011_non_res_emp_weight = eating_2011_non_res_emp_merged[\"Mutiplied Weighted\"].sum()\n",
    "eating_2011_non_res_emp_weight"
   ]
  },
  {
   "cell_type": "code",
   "execution_count": 490,
   "metadata": {},
   "outputs": [
    {
     "data": {
      "text/plain": [
       "0.43536992691800575"
      ]
     },
     "execution_count": 490,
     "metadata": {},
     "output_type": "execute_result"
    }
   ],
   "source": [
    "eating_2011_non_res_emp_avg_hpd = eating_2011_non_res_emp_weight / all_2011_emp_weight /60\n",
    "eating_2011_non_res_emp_avg_hpd"
   ]
  },
  {
   "cell_type": "markdown",
   "metadata": {},
   "source": [
    "### 2012 Eating and drinking"
   ]
  },
  {
   "cell_type": "code",
   "execution_count": 491,
   "metadata": {},
   "outputs": [],
   "source": [
    "eating = atus_2012_non_res_emp[atus_2012_non_res_emp[\"TRCODEP\"].apply(str).str.startswith(\"110101\")]\n",
    "\n",
    "eating_2012_non_res_emp = eating.groupby([\"TUCASEID\"]).sum().filter([\"TUCASEID\", \"TUACTDUR24\"])\n",
    "eating_2012_non_res_emp_merged = pd.merge(eating_2012_non_res_emp, multi_resp, on =\"TUCASEID\").filter([\"TUCASEID\",\"TUACTDUR24\",\"TUFNWGTP\"])"
   ]
  },
  {
   "cell_type": "code",
   "execution_count": 492,
   "metadata": {},
   "outputs": [
    {
     "data": {
      "text/plain": [
       "1471062789330.3975"
      ]
     },
     "execution_count": 492,
     "metadata": {},
     "output_type": "execute_result"
    }
   ],
   "source": [
    "eating_2012_non_res_emp_merged[\"Mutiplied Weighted\"] = eating_2012_non_res_emp_merged[\"TUACTDUR24\"] * eating_2012_non_res_emp_merged[\"TUFNWGTP\"]\n",
    "eating_2012_non_res_emp_weight = eating_2012_non_res_emp_merged[\"Mutiplied Weighted\"].sum()\n",
    "eating_2012_non_res_emp_weight"
   ]
  },
  {
   "cell_type": "code",
   "execution_count": 493,
   "metadata": {},
   "outputs": [
    {
     "data": {
      "text/plain": [
       "0.4439925270361347"
      ]
     },
     "execution_count": 493,
     "metadata": {},
     "output_type": "execute_result"
    }
   ],
   "source": [
    "eating_2012_non_res_emp_avg_hpd = eating_2012_non_res_emp_weight / all_2012_emp_weight /60\n",
    "eating_2012_non_res_emp_avg_hpd"
   ]
  },
  {
   "cell_type": "markdown",
   "metadata": {},
   "source": [
    "### 2013 Eating and drinking"
   ]
  },
  {
   "cell_type": "code",
   "execution_count": 494,
   "metadata": {},
   "outputs": [],
   "source": [
    "eating = atus_2013_non_res_emp[atus_2013_non_res_emp[\"TRCODEP\"].apply(str).str.startswith(\"110101\")]\n",
    "\n",
    "eating_2013_non_res_emp = eating.groupby([\"TUCASEID\"]).sum().filter([\"TUCASEID\", \"TUACTDUR24\"])\n",
    "eating_2013_non_res_emp_merged = pd.merge(eating_2013_non_res_emp, multi_resp, on =\"TUCASEID\").filter([\"TUCASEID\",\"TUACTDUR24\",\"TUFNWGTP\"])"
   ]
  },
  {
   "cell_type": "code",
   "execution_count": 495,
   "metadata": {},
   "outputs": [
    {
     "data": {
      "text/plain": [
       "1480691360590.677"
      ]
     },
     "execution_count": 495,
     "metadata": {},
     "output_type": "execute_result"
    }
   ],
   "source": [
    "eating_2013_non_res_emp_merged[\"Mutiplied Weighted\"] = eating_2013_non_res_emp_merged[\"TUACTDUR24\"] * eating_2013_non_res_emp_merged[\"TUFNWGTP\"]\n",
    "eating_2013_non_res_emp_weight = eating_2013_non_res_emp_merged[\"Mutiplied Weighted\"].sum()\n",
    "eating_2013_non_res_emp_weight"
   ]
  },
  {
   "cell_type": "code",
   "execution_count": 496,
   "metadata": {},
   "outputs": [
    {
     "data": {
      "text/plain": [
       "0.445793482413514"
      ]
     },
     "execution_count": 496,
     "metadata": {},
     "output_type": "execute_result"
    }
   ],
   "source": [
    "eating_2013_non_res_emp_avg_hpd = eating_2013_non_res_emp_weight / all_2013_emp_weight /60\n",
    "eating_2013_non_res_emp_avg_hpd"
   ]
  },
  {
   "cell_type": "markdown",
   "metadata": {},
   "source": [
    "### 2014 Eating and Drinking"
   ]
  },
  {
   "cell_type": "code",
   "execution_count": 497,
   "metadata": {},
   "outputs": [],
   "source": [
    "eating = atus_2014_non_res_emp[atus_2014_non_res_emp[\"TRCODEP\"].apply(str).str.startswith(\"110101\")]\n",
    "\n",
    "eating_2014_non_res_emp = eating.groupby([\"TUCASEID\"]).sum().filter([\"TUCASEID\", \"TUACTDUR24\"])\n",
    "eating_2014_non_res_emp_merged = pd.merge(eating_2014_non_res_emp, multi_resp, on =\"TUCASEID\").filter([\"TUCASEID\",\"TUACTDUR24\",\"TUFNWGTP\"])"
   ]
  },
  {
   "cell_type": "code",
   "execution_count": 498,
   "metadata": {},
   "outputs": [
    {
     "data": {
      "text/plain": [
       "1378849918914.131"
      ]
     },
     "execution_count": 498,
     "metadata": {},
     "output_type": "execute_result"
    }
   ],
   "source": [
    "eating_2014_non_res_emp_merged[\"Mutiplied Weighted\"] = eating_2014_non_res_emp_merged[\"TUACTDUR24\"] * eating_2014_non_res_emp_merged[\"TUFNWGTP\"]\n",
    "eating_2014_non_res_emp_weight = eating_2014_non_res_emp_merged[\"Mutiplied Weighted\"].sum()\n",
    "eating_2014_non_res_emp_weight"
   ]
  },
  {
   "cell_type": "code",
   "execution_count": 499,
   "metadata": {},
   "outputs": [
    {
     "data": {
      "text/plain": [
       "0.4096869316887056"
      ]
     },
     "execution_count": 499,
     "metadata": {},
     "output_type": "execute_result"
    }
   ],
   "source": [
    "eating_2014_non_res_emp_avg_hpd = eating_2014_non_res_emp_weight / all_2014_emp_weight /60\n",
    "eating_2014_non_res_emp_avg_hpd"
   ]
  },
  {
   "cell_type": "markdown",
   "metadata": {},
   "source": [
    "### 2015 Eating and Drinking"
   ]
  },
  {
   "cell_type": "code",
   "execution_count": 500,
   "metadata": {},
   "outputs": [],
   "source": [
    "eating = atus_2015_non_res_emp[atus_2015_non_res_emp[\"TRCODEP\"].apply(str).str.startswith(\"110101\")]\n",
    "\n",
    "eating_2015_non_res_emp = eating.groupby([\"TUCASEID\"]).sum().filter([\"TUCASEID\", \"TUACTDUR24\"])\n",
    "eating_2015_non_res_emp_merged = pd.merge(eating_2015_non_res_emp, multi_resp, on =\"TUCASEID\").filter([\"TUCASEID\",\"TUACTDUR24\",\"TUFNWGTP\"])"
   ]
  },
  {
   "cell_type": "code",
   "execution_count": 501,
   "metadata": {},
   "outputs": [
    {
     "data": {
      "text/plain": [
       "1432060425905.2124"
      ]
     },
     "execution_count": 501,
     "metadata": {},
     "output_type": "execute_result"
    }
   ],
   "source": [
    "eating_2015_non_res_emp_merged[\"Mutiplied Weighted\"] = eating_2015_non_res_emp_merged[\"TUACTDUR24\"] * eating_2015_non_res_emp_merged[\"TUFNWGTP\"]\n",
    "eating_2015_non_res_emp_weight = eating_2015_non_res_emp_merged[\"Mutiplied Weighted\"].sum()\n",
    "eating_2015_non_res_emp_weight"
   ]
  },
  {
   "cell_type": "code",
   "execution_count": 502,
   "metadata": {},
   "outputs": [
    {
     "data": {
      "text/plain": [
       "0.4168550797427963"
      ]
     },
     "execution_count": 502,
     "metadata": {},
     "output_type": "execute_result"
    }
   ],
   "source": [
    "eating_2015_non_res_emp_avg_hpd = eating_2015_non_res_emp_weight / all_2015_emp_weight /60\n",
    "eating_2015_non_res_emp_avg_hpd"
   ]
  },
  {
   "cell_type": "markdown",
   "metadata": {},
   "source": [
    "### 2015 Eating and Drinking"
   ]
  },
  {
   "cell_type": "code",
   "execution_count": 503,
   "metadata": {},
   "outputs": [],
   "source": [
    "eating = atus_2016_non_res_emp[atus_2016_non_res_emp[\"TRCODEP\"].apply(str).str.startswith(\"110101\")]\n",
    "\n",
    "eating_2016_non_res_emp = eating.groupby([\"TUCASEID\"]).sum().filter([\"TUCASEID\", \"TUACTDUR24\"])\n",
    "eating_2016_non_res_emp_merged = pd.merge(eating_2016_non_res_emp, multi_resp, on =\"TUCASEID\").filter([\"TUCASEID\",\"TUACTDUR24\",\"TUFNWGTP\"])"
   ]
  },
  {
   "cell_type": "code",
   "execution_count": 504,
   "metadata": {},
   "outputs": [
    {
     "data": {
      "text/plain": [
       "1528983709692.2043"
      ]
     },
     "execution_count": 504,
     "metadata": {},
     "output_type": "execute_result"
    }
   ],
   "source": [
    "eating_2016_non_res_emp_merged[\"Mutiplied Weighted\"] = eating_2016_non_res_emp_merged[\"TUACTDUR24\"] * eating_2016_non_res_emp_merged[\"TUFNWGTP\"]\n",
    "eating_2016_non_res_emp_weight = eating_2016_non_res_emp_merged[\"Mutiplied Weighted\"].sum()\n",
    "eating_2016_non_res_emp_weight"
   ]
  },
  {
   "cell_type": "code",
   "execution_count": 505,
   "metadata": {},
   "outputs": [
    {
     "data": {
      "text/plain": [
       "0.43040826803102317"
      ]
     },
     "execution_count": 505,
     "metadata": {},
     "output_type": "execute_result"
    }
   ],
   "source": [
    "eating_2016_non_res_emp_avg_hpd = eating_2016_non_res_emp_weight / all_2016_emp_weight /60\n",
    "eating_2016_non_res_emp_avg_hpd"
   ]
  },
  {
   "cell_type": "markdown",
   "metadata": {},
   "source": [
    "### 2017 Eating and Drinking"
   ]
  },
  {
   "cell_type": "code",
   "execution_count": 506,
   "metadata": {},
   "outputs": [],
   "source": [
    "eating = atus_2017_non_res_emp[atus_2017_non_res_emp[\"TRCODEP\"].apply(str).str.startswith(\"110101\")]\n",
    "\n",
    "eating_2017_non_res_emp = eating.groupby([\"TUCASEID\"]).sum().filter([\"TUCASEID\", \"TUACTDUR24\"])\n",
    "eating_2017_non_res_emp_merged = pd.merge(eating_2017_non_res_emp, multi_resp, on =\"TUCASEID\").filter([\"TUCASEID\",\"TUACTDUR24\",\"TUFNWGTP\"])"
   ]
  },
  {
   "cell_type": "code",
   "execution_count": 507,
   "metadata": {},
   "outputs": [
    {
     "data": {
      "text/plain": [
       "1486267444124.232"
      ]
     },
     "execution_count": 507,
     "metadata": {},
     "output_type": "execute_result"
    }
   ],
   "source": [
    "eating_2017_non_res_emp_merged[\"Mutiplied Weighted\"] = eating_2017_non_res_emp_merged[\"TUACTDUR24\"] * eating_2017_non_res_emp_merged[\"TUFNWGTP\"]\n",
    "eating_2017_non_res_emp_weight = eating_2017_non_res_emp_merged[\"Mutiplied Weighted\"].sum()\n",
    "eating_2017_non_res_emp_weight"
   ]
  },
  {
   "cell_type": "code",
   "execution_count": 508,
   "metadata": {},
   "outputs": [
    {
     "data": {
      "text/plain": [
       "0.41983137625409145"
      ]
     },
     "execution_count": 508,
     "metadata": {},
     "output_type": "execute_result"
    }
   ],
   "source": [
    "eating_2017_non_res_emp_avg_hpd = eating_2017_non_res_emp_weight / all_2017_emp_weight /60\n",
    "eating_2017_non_res_emp_avg_hpd"
   ]
  },
  {
   "cell_type": "markdown",
   "metadata": {},
   "source": [
    "### 2018 Eating and Drinking"
   ]
  },
  {
   "cell_type": "code",
   "execution_count": 509,
   "metadata": {},
   "outputs": [],
   "source": [
    "eating = atus_2018_non_res_emp[atus_2018_non_res_emp[\"TRCODEP\"].apply(str).str.startswith(\"110101\")]\n",
    "\n",
    "eating_2018_non_res_emp = eating.groupby([\"TUCASEID\"]).sum().filter([\"TUCASEID\", \"TUACTDUR24\"])\n",
    "eating_2018_non_res_emp_merged = pd.merge(eating_2018_non_res_emp, multi_resp, on =\"TUCASEID\").filter([\"TUCASEID\",\"TUACTDUR24\",\"TUFNWGTP\"])"
   ]
  },
  {
   "cell_type": "code",
   "execution_count": 510,
   "metadata": {},
   "outputs": [
    {
     "data": {
      "text/plain": [
       "1618120016425.2102"
      ]
     },
     "execution_count": 510,
     "metadata": {},
     "output_type": "execute_result"
    }
   ],
   "source": [
    "eating_2018_non_res_emp_merged[\"Mutiplied Weighted\"] = eating_2018_non_res_emp_merged[\"TUACTDUR24\"] * eating_2018_non_res_emp_merged[\"TUFNWGTP\"]\n",
    "eating_2018_non_res_emp_weight = eating_2018_non_res_emp_merged[\"Mutiplied Weighted\"].sum()\n",
    "eating_2018_non_res_emp_weight"
   ]
  },
  {
   "cell_type": "code",
   "execution_count": 511,
   "metadata": {},
   "outputs": [
    {
     "data": {
      "text/plain": [
       "0.4470687182035092"
      ]
     },
     "execution_count": 511,
     "metadata": {},
     "output_type": "execute_result"
    }
   ],
   "source": [
    "eating_2018_non_res_emp_avg_hpd = eating_2018_non_res_emp_weight / all_2018_emp_weight /60\n",
    "eating_2018_non_res_emp_avg_hpd"
   ]
  },
  {
   "cell_type": "markdown",
   "metadata": {},
   "source": [
    "### 2019 Eating and Drinking"
   ]
  },
  {
   "cell_type": "code",
   "execution_count": 512,
   "metadata": {},
   "outputs": [],
   "source": [
    "eating = atus_2019_non_res_emp[atus_2019_non_res_emp[\"TRCODEP\"].apply(str).str.startswith(\"110101\")]\n",
    "\n",
    "eating_2019_non_res_emp = eating.groupby([\"TUCASEID\"]).sum().filter([\"TUCASEID\", \"TUACTDUR24\"])\n",
    "eating_2019_non_res_emp_merged = pd.merge(eating_2019_non_res_emp, multi_resp, on =\"TUCASEID\").filter([\"TUCASEID\",\"TUACTDUR24\",\"TUFNWGTP\"])"
   ]
  },
  {
   "cell_type": "code",
   "execution_count": 513,
   "metadata": {},
   "outputs": [
    {
     "data": {
      "text/plain": [
       "1491013315629.8105"
      ]
     },
     "execution_count": 513,
     "metadata": {},
     "output_type": "execute_result"
    }
   ],
   "source": [
    "eating_2019_non_res_emp_merged[\"Mutiplied Weighted\"] = eating_2019_non_res_emp_merged[\"TUACTDUR24\"] * eating_2019_non_res_emp_merged[\"TUFNWGTP\"]\n",
    "eating_2019_non_res_emp_weight = eating_2019_non_res_emp_merged[\"Mutiplied Weighted\"].sum()\n",
    "eating_2019_non_res_emp_weight"
   ]
  },
  {
   "cell_type": "code",
   "execution_count": 514,
   "metadata": {},
   "outputs": [
    {
     "data": {
      "text/plain": [
       "0.40939224106142164"
      ]
     },
     "execution_count": 514,
     "metadata": {},
     "output_type": "execute_result"
    }
   ],
   "source": [
    "eating_2019_non_res_emp_avg_hpd = eating_2019_non_res_emp_weight / all_2019_emp_weight /60\n",
    "eating_2019_non_res_emp_avg_hpd"
   ]
  },
  {
   "cell_type": "markdown",
   "metadata": {},
   "source": [
    "### Eating and Drinking Regression"
   ]
  },
  {
   "cell_type": "markdown",
   "metadata": {},
   "source": [
    "#### 2003 - 2012 Regression"
   ]
  },
  {
   "cell_type": "code",
   "execution_count": 515,
   "metadata": {},
   "outputs": [],
   "source": [
    "year = np.array([2003, 2004, 2005, 2006, 2007, 2008, 2009, 2010,2011,2012]).reshape((-1, 1))\n",
    "activity_hours_per_day = np.array([eating_2003_non_res_emp_avg_hpd, eating_2004_non_res_emp_avg_hpd, eating_2005_non_res_emp_avg_hpd, eating_2006_non_res_emp_avg_hpd,\n",
    "                                   eating_2007_non_res_emp_avg_hpd, eating_2008_non_res_emp_avg_hpd, eating_2009_non_res_emp_avg_hpd, eating_2010_non_res_emp_avg_hpd,\n",
    "                                   eating_2011_non_res_emp_avg_hpd, eating_2012_non_res_emp_avg_hpd]).reshape((-1, 1))\n",
    "                                  \n",
    "\n",
    "activity_hours_per_yr = [i * 365 for i in activity_hours_per_day]\n",
    "#activity_hours_per_yr"
   ]
  },
  {
   "cell_type": "code",
   "execution_count": 516,
   "metadata": {},
   "outputs": [
    {
     "data": {
      "image/png": "[encoded data removed]",
      "text/plain": [
       "<Figure size 432x288 with 1 Axes>"
      ]
     },
     "metadata": {
      "needs_background": "light"
     },
     "output_type": "display_data"
    }
   ],
   "source": [
    "x = year\n",
    "y = activity_hours_per_yr\n",
    "x, y = np.array(x), np.array(y)\n",
    "\n",
    "model = LinearRegression().fit(x, y)\n",
    "\n",
    "y_pred = model.predict(x)  \n",
    "\n",
    "plt.scatter(x, y)\n",
    "plt.plot(x, y_pred, color='red')\n",
    "plt.show()"
   ]
  },
  {
   "cell_type": "code",
   "execution_count": 517,
   "metadata": {},
   "outputs": [
    {
     "data": {
      "text/plain": [
       "0.19843102255524936"
      ]
     },
     "execution_count": 517,
     "metadata": {},
     "output_type": "execute_result"
    }
   ],
   "source": [
    "coefficient_of_determination = model.score(x,y) #R sqaure value \n",
    "coefficient_of_determination"
   ]
  },
  {
   "cell_type": "code",
   "execution_count": 518,
   "metadata": {},
   "outputs": [
    {
     "data": {
      "text/plain": [
       "array([[-0.8325405]])"
      ]
     },
     "execution_count": 518,
     "metadata": {},
     "output_type": "execute_result"
    }
   ],
   "source": [
    "eating_non_res_emp_2003_2012_slope = model.coef_\n",
    "eating_non_res_emp_2003_2012_slope"
   ]
  },
  {
   "cell_type": "markdown",
   "metadata": {},
   "source": [
    "#### 2003-2019 Regression"
   ]
  },
  {
   "cell_type": "code",
   "execution_count": 519,
   "metadata": {},
   "outputs": [],
   "source": [
    "year = np.array([2003,2004,2005,2006,2007,2008,2009,2010,2011,2012,2013,2014,2015,2016,2017,2018,2019]).reshape((-1, 1))\n",
    "activity_hours_per_day = np.array([eating_2003_non_res_emp_avg_hpd, eating_2004_non_res_emp_avg_hpd, eating_2005_non_res_emp_avg_hpd, eating_2006_non_res_emp_avg_hpd,\n",
    "                                   eating_2007_non_res_emp_avg_hpd, eating_2008_non_res_emp_avg_hpd, eating_2009_non_res_emp_avg_hpd, eating_2010_non_res_emp_avg_hpd,\n",
    "                                   eating_2011_non_res_emp_avg_hpd, eating_2012_non_res_emp_avg_hpd, eating_2013_non_res_emp_avg_hpd, eating_2014_non_res_emp_avg_hpd,\n",
    "                                   eating_2015_non_res_emp_avg_hpd, eating_2016_non_res_emp_avg_hpd, eating_2017_non_res_emp_avg_hpd, eating_2018_non_res_emp_avg_hpd,\n",
    "                                   eating_2019_non_res_emp_avg_hpd]).reshape((-1, 1))\n",
    "                                  \n",
    "\n",
    "activity_hours_per_yr = [i * 365 for i in activity_hours_per_day]\n",
    "#activity_hours_per_yr"
   ]
  },
  {
   "cell_type": "code",
   "execution_count": 520,
   "metadata": {},
   "outputs": [
    {
     "data": {
      "image/png": "[encoded data removed]",
      "text/plain": [
       "<Figure size 432x288 with 1 Axes>"
      ]
     },
     "metadata": {
      "needs_background": "light"
     },
     "output_type": "display_data"
    }
   ],
   "source": [
    "x = year\n",
    "y = activity_hours_per_yr\n",
    "x, y = np.array(x), np.array(y)\n",
    "\n",
    "model = LinearRegression().fit(x, y)\n",
    "\n",
    "y_pred = model.predict(x)  \n",
    "\n",
    "plt.scatter(x, y)\n",
    "plt.plot(x, y_pred, color='red')\n",
    "plt.show()"
   ]
  },
  {
   "cell_type": "code",
   "execution_count": 521,
   "metadata": {},
   "outputs": [
    {
     "data": {
      "text/plain": [
       "0.542613314877009"
      ]
     },
     "execution_count": 521,
     "metadata": {},
     "output_type": "execute_result"
    }
   ],
   "source": [
    "coefficient_of_determination = model.score(x,y) #R sqaure value \n",
    "coefficient_of_determination"
   ]
  },
  {
   "cell_type": "code",
   "execution_count": 522,
   "metadata": {},
   "outputs": [
    {
     "data": {
      "text/plain": [
       "array([[-1.15700946]])"
      ]
     },
     "execution_count": 522,
     "metadata": {},
     "output_type": "execute_result"
    }
   ],
   "source": [
    "eating_non_res_emp_2003_2019 = model.coef_\n",
    "eating_non_res_emp_2003_2019"
   ]
  },
  {
   "cell_type": "markdown",
   "metadata": {},
   "source": [
    "## 2003-2019 Shopping, except groceries, food and gas - Non Residential - Employed "
   ]
  },
  {
   "cell_type": "markdown",
   "metadata": {},
   "source": [
    "### 2003 Shopping, except groceries, food and gas"
   ]
  },
  {
   "cell_type": "code",
   "execution_count": 523,
   "metadata": {},
   "outputs": [],
   "source": [
    "#070104 is eating and drinking\n",
    "shopping = atus_2003_non_res_emp[atus_2003_non_res_emp[\"TRCODEP\"].apply(str).str.startswith(\"070104\")]"
   ]
  },
  {
   "cell_type": "code",
   "execution_count": 524,
   "metadata": {},
   "outputs": [],
   "source": [
    "shopping_2003_non_res_emp = shopping.groupby([\"TUCASEID\"]).sum().filter([\"TUCASEID\", \"TUACTDUR24\"])\n",
    "shopping_2003_non_res_emp_merged = pd.merge(shopping_2003_non_res_emp, multi_resp, on =\"TUCASEID\").filter([\"TUCASEID\",\"TUACTDUR24\",\"TUFNWGTP\"])"
   ]
  },
  {
   "cell_type": "code",
   "execution_count": 525,
   "metadata": {},
   "outputs": [],
   "source": [
    "shopping_2003_non_res_emp_merged[\"Mutiplied Weighted\"] = shopping_2003_non_res_emp_merged[\"TUACTDUR24\"] * shopping_2003_non_res_emp_merged[\"TUFNWGTP\"]\n",
    "#shopping_2003_non_res_emp_merged"
   ]
  },
  {
   "cell_type": "code",
   "execution_count": 526,
   "metadata": {},
   "outputs": [
    {
     "data": {
      "text/plain": [
       "812635648716.2136"
      ]
     },
     "execution_count": 526,
     "metadata": {},
     "output_type": "execute_result"
    }
   ],
   "source": [
    "shopping_2003_non_res_emp_weight = shopping_2003_non_res_emp_merged[\"Mutiplied Weighted\"].sum()\n",
    "shopping_2003_non_res_emp_weight"
   ]
  },
  {
   "cell_type": "code",
   "execution_count": 527,
   "metadata": {},
   "outputs": [
    {
     "data": {
      "text/plain": [
       "0.254646434134492"
      ]
     },
     "execution_count": 527,
     "metadata": {},
     "output_type": "execute_result"
    }
   ],
   "source": [
    "#hpd = hour per day\n",
    "shopping_2003_non_res_emp_avg_hpd = shopping_2003_non_res_emp_weight / all_2003_emp_weight /60\n",
    "shopping_2003_non_res_emp_avg_hpd"
   ]
  },
  {
   "cell_type": "markdown",
   "metadata": {},
   "source": [
    "### 2004 Shopping, except groceries, food and gas"
   ]
  },
  {
   "cell_type": "code",
   "execution_count": 528,
   "metadata": {},
   "outputs": [],
   "source": [
    "shopping = atus_2004_non_res_emp[atus_2004_non_res_emp[\"TRCODEP\"].apply(str).str.startswith(\"070104\")]\n",
    "shopping_2004_non_res_emp = shopping.groupby([\"TUCASEID\"]).sum().filter([\"TUCASEID\", \"TUACTDUR24\"])\n",
    "shopping_2004_non_res_emp_merged = pd.merge(shopping_2004_non_res_emp, multi_resp, on =\"TUCASEID\").filter([\"TUCASEID\",\"TUACTDUR24\",\"TUFNWGTP\"])"
   ]
  },
  {
   "cell_type": "code",
   "execution_count": 529,
   "metadata": {},
   "outputs": [
    {
     "data": {
      "text/plain": [
       "845757014156.1978"
      ]
     },
     "execution_count": 529,
     "metadata": {},
     "output_type": "execute_result"
    }
   ],
   "source": [
    "shopping_2004_non_res_emp_merged[\"Mutiplied Weighted\"]= shopping_2004_non_res_emp_merged[\"TUACTDUR24\"]*shopping_2004_non_res_emp_merged[\"TUFNWGTP\"]\n",
    "shopping_2004_non_res_emp_weight = shopping_2004_non_res_emp_merged[\"Mutiplied Weighted\"].sum()\n",
    "shopping_2004_non_res_emp_weight"
   ]
  },
  {
   "cell_type": "code",
   "execution_count": 530,
   "metadata": {},
   "outputs": [
    {
     "data": {
      "text/plain": [
       "0.2641081685107488"
      ]
     },
     "execution_count": 530,
     "metadata": {},
     "output_type": "execute_result"
    }
   ],
   "source": [
    "shopping_2004_non_res_emp_avg_hpd = shopping_2004_non_res_emp_weight / all_2004_emp_weight /60\n",
    "shopping_2004_non_res_emp_avg_hpd"
   ]
  },
  {
   "cell_type": "markdown",
   "metadata": {},
   "source": [
    "### 2005 Shopping, except groceries, food and gas"
   ]
  },
  {
   "cell_type": "code",
   "execution_count": 531,
   "metadata": {},
   "outputs": [],
   "source": [
    "shopping = atus_2005_non_res_emp[atus_2005_non_res_emp[\"TRCODEP\"].apply(str).str.startswith(\"070104\")]\n",
    "shopping_2005_non_res_emp = shopping.groupby([\"TUCASEID\"]).sum().filter([\"TUCASEID\", \"TUACTDUR24\"])\n",
    "shopping_2005_non_res_emp_merged = pd.merge(shopping_2005_non_res_emp, multi_resp, on =\"TUCASEID\").filter([\"TUCASEID\",\"TUACTDUR24\",\"TUFNWGTP\"])"
   ]
  },
  {
   "cell_type": "code",
   "execution_count": 532,
   "metadata": {},
   "outputs": [
    {
     "data": {
      "text/plain": [
       "810981262864.4865"
      ]
     },
     "execution_count": 532,
     "metadata": {},
     "output_type": "execute_result"
    }
   ],
   "source": [
    "shopping_2005_non_res_emp_merged[\"Mutiplied Weighted\"]= shopping_2005_non_res_emp_merged[\"TUACTDUR24\"]*shopping_2005_non_res_emp_merged[\"TUFNWGTP\"]\n",
    "shopping_2005_non_res_emp_weight = shopping_2005_non_res_emp_merged[\"Mutiplied Weighted\"].sum()\n",
    "shopping_2005_non_res_emp_weight"
   ]
  },
  {
   "cell_type": "code",
   "execution_count": 533,
   "metadata": {},
   "outputs": [
    {
     "data": {
      "text/plain": [
       "0.24562606091322478"
      ]
     },
     "execution_count": 533,
     "metadata": {},
     "output_type": "execute_result"
    }
   ],
   "source": [
    "shopping_2005_non_res_emp_avg_hpd = shopping_2005_non_res_emp_weight / all_2005_emp_weight /60\n",
    "shopping_2005_non_res_emp_avg_hpd"
   ]
  },
  {
   "cell_type": "markdown",
   "metadata": {},
   "source": [
    "### 2006 Shopping, except groceries, food and gas"
   ]
  },
  {
   "cell_type": "code",
   "execution_count": 534,
   "metadata": {},
   "outputs": [],
   "source": [
    "shopping = atus_2006_non_res_emp[atus_2006_non_res_emp[\"TRCODEP\"].apply(str).str.startswith(\"070104\")]\n",
    "shopping_2006_non_res_emp = shopping.groupby([\"TUCASEID\"]).sum().filter([\"TUCASEID\", \"TUACTDUR24\"])\n",
    "shopping_2006_non_res_emp_merged = pd.merge(shopping_2006_non_res_emp, multi_resp, on =\"TUCASEID\").filter([\"TUCASEID\",\"TUACTDUR24\",\"TUFNWGTP\"])"
   ]
  },
  {
   "cell_type": "code",
   "execution_count": 535,
   "metadata": {},
   "outputs": [
    {
     "data": {
      "text/plain": [
       "855537968497.5922"
      ]
     },
     "execution_count": 535,
     "metadata": {},
     "output_type": "execute_result"
    }
   ],
   "source": [
    "shopping_2006_non_res_emp_merged[\"Mutiplied Weighted\"]= shopping_2006_non_res_emp_merged[\"TUACTDUR24\"]*shopping_2006_non_res_emp_merged[\"TUFNWGTP\"]\n",
    "shopping_2006_non_res_emp_weight = shopping_2006_non_res_emp_merged[\"Mutiplied Weighted\"].sum()\n",
    "shopping_2006_non_res_emp_weight"
   ]
  },
  {
   "cell_type": "code",
   "execution_count": 536,
   "metadata": {},
   "outputs": [
    {
     "data": {
      "text/plain": [
       "0.2584137569829237"
      ]
     },
     "execution_count": 536,
     "metadata": {},
     "output_type": "execute_result"
    }
   ],
   "source": [
    "shopping_2006_non_res_emp_avg_hpd = shopping_2006_non_res_emp_weight / all_2006_emp_weight /60\n",
    "shopping_2006_non_res_emp_avg_hpd"
   ]
  },
  {
   "cell_type": "markdown",
   "metadata": {},
   "source": [
    "### 2007 Shopping, except groceries, food and gas"
   ]
  },
  {
   "cell_type": "code",
   "execution_count": 537,
   "metadata": {},
   "outputs": [],
   "source": [
    "shopping = atus_2007_non_res_emp[atus_2007_non_res_emp[\"TRCODEP\"].apply(str).str.startswith(\"070104\")]\n",
    "shopping_2007_non_res_emp = shopping.groupby([\"TUCASEID\"]).sum().filter([\"TUCASEID\", \"TUACTDUR24\"])\n",
    "shopping_2007_non_res_emp_merged = pd.merge(shopping_2007_non_res_emp, multi_resp, on =\"TUCASEID\").filter([\"TUCASEID\",\"TUACTDUR24\",\"TUFNWGTP\"])"
   ]
  },
  {
   "cell_type": "code",
   "execution_count": 538,
   "metadata": {},
   "outputs": [
    {
     "data": {
      "text/plain": [
       "862157802429.9478"
      ]
     },
     "execution_count": 538,
     "metadata": {},
     "output_type": "execute_result"
    }
   ],
   "source": [
    "shopping_2007_non_res_emp_merged[\"Mutiplied Weighted\"]= shopping_2007_non_res_emp_merged[\"TUACTDUR24\"]*shopping_2007_non_res_emp_merged[\"TUFNWGTP\"]\n",
    "shopping_2007_non_res_emp_weight = shopping_2007_non_res_emp_merged[\"Mutiplied Weighted\"].sum()\n",
    "shopping_2007_non_res_emp_weight"
   ]
  },
  {
   "cell_type": "code",
   "execution_count": 539,
   "metadata": {},
   "outputs": [
    {
     "data": {
      "text/plain": [
       "0.2531667269385144"
      ]
     },
     "execution_count": 539,
     "metadata": {},
     "output_type": "execute_result"
    }
   ],
   "source": [
    "shopping_2007_non_res_emp_avg_hpd = shopping_2007_non_res_emp_weight / all_2007_emp_weight /60\n",
    "shopping_2007_non_res_emp_avg_hpd"
   ]
  },
  {
   "cell_type": "markdown",
   "metadata": {},
   "source": [
    "### 2008 Shopping, except groceries, food and gas"
   ]
  },
  {
   "cell_type": "code",
   "execution_count": 540,
   "metadata": {},
   "outputs": [],
   "source": [
    "shopping = atus_2008_non_res_emp[atus_2008_non_res_emp[\"TRCODEP\"].apply(str).str.startswith(\"070104\")]\n",
    "shopping_2008_non_res_emp = shopping.groupby([\"TUCASEID\"]).sum().filter([\"TUCASEID\", \"TUACTDUR24\"])\n",
    "shopping_2008_non_res_emp_merged = pd.merge(shopping_2008_non_res_emp, multi_resp, on =\"TUCASEID\").filter([\"TUCASEID\",\"TUACTDUR24\",\"TUFNWGTP\"])"
   ]
  },
  {
   "cell_type": "code",
   "execution_count": 541,
   "metadata": {},
   "outputs": [
    {
     "data": {
      "text/plain": [
       "776358673596.5139"
      ]
     },
     "execution_count": 541,
     "metadata": {},
     "output_type": "execute_result"
    }
   ],
   "source": [
    "shopping_2008_non_res_emp_merged[\"Mutiplied Weighted\"]= shopping_2008_non_res_emp_merged[\"TUACTDUR24\"]*shopping_2008_non_res_emp_merged[\"TUFNWGTP\"]\n",
    "shopping_2008_non_res_emp_weight = shopping_2008_non_res_emp_merged[\"Mutiplied Weighted\"].sum()\n",
    "shopping_2008_non_res_emp_weight"
   ]
  },
  {
   "cell_type": "code",
   "execution_count": 542,
   "metadata": {},
   "outputs": [
    {
     "data": {
      "text/plain": [
       "0.22754104103033876"
      ]
     },
     "execution_count": 542,
     "metadata": {},
     "output_type": "execute_result"
    }
   ],
   "source": [
    "shopping_2008_non_res_emp_avg_hpd = shopping_2008_non_res_emp_weight / all_2008_emp_weight /60\n",
    "shopping_2008_non_res_emp_avg_hpd"
   ]
  },
  {
   "cell_type": "markdown",
   "metadata": {},
   "source": [
    "### 2009 Shopping, except groceries, food and gas"
   ]
  },
  {
   "cell_type": "code",
   "execution_count": 543,
   "metadata": {},
   "outputs": [],
   "source": [
    "shopping = atus_2009_non_res_emp[atus_2009_non_res_emp[\"TRCODEP\"].apply(str).str.startswith(\"070104\")]\n",
    "shopping_2009_non_res_emp = shopping.groupby([\"TUCASEID\"]).sum().filter([\"TUCASEID\", \"TUACTDUR24\"])\n",
    "shopping_2009_non_res_emp_merged = pd.merge(shopping_2009_non_res_emp, multi_resp, on =\"TUCASEID\").filter([\"TUCASEID\",\"TUACTDUR24\",\"TUFNWGTP\"])"
   ]
  },
  {
   "cell_type": "code",
   "execution_count": 544,
   "metadata": {},
   "outputs": [
    {
     "data": {
      "text/plain": [
       "745811961009.4233"
      ]
     },
     "execution_count": 544,
     "metadata": {},
     "output_type": "execute_result"
    }
   ],
   "source": [
    "shopping_2009_non_res_emp_merged[\"Mutiplied Weighted\"]= shopping_2009_non_res_emp_merged[\"TUACTDUR24\"]*shopping_2009_non_res_emp_merged[\"TUFNWGTP\"]\n",
    "shopping_2009_non_res_emp_weight = shopping_2009_non_res_emp_merged[\"Mutiplied Weighted\"].sum()\n",
    "shopping_2009_non_res_emp_weight"
   ]
  },
  {
   "cell_type": "code",
   "execution_count": 545,
   "metadata": {},
   "outputs": [
    {
     "data": {
      "text/plain": [
       "0.22898896910633113"
      ]
     },
     "execution_count": 545,
     "metadata": {},
     "output_type": "execute_result"
    }
   ],
   "source": [
    "shopping_2009_non_res_emp_avg_hpd = shopping_2009_non_res_emp_weight / all_2009_emp_weight /60\n",
    "shopping_2009_non_res_emp_avg_hpd"
   ]
  },
  {
   "cell_type": "markdown",
   "metadata": {},
   "source": [
    "### 2010 Shopping, except groceries, food and gas"
   ]
  },
  {
   "cell_type": "code",
   "execution_count": 546,
   "metadata": {},
   "outputs": [],
   "source": [
    "shopping = atus_2010_non_res_emp[atus_2010_non_res_emp[\"TRCODEP\"].apply(str).str.startswith(\"070104\")]\n",
    "shopping_2010_non_res_emp = shopping.groupby([\"TUCASEID\"]).sum().filter([\"TUCASEID\", \"TUACTDUR24\"])\n",
    "shopping_2010_non_res_emp_merged = pd.merge(shopping_2010_non_res_emp, multi_resp, on =\"TUCASEID\").filter([\"TUCASEID\",\"TUACTDUR24\",\"TUFNWGTP\"])"
   ]
  },
  {
   "cell_type": "code",
   "execution_count": 547,
   "metadata": {},
   "outputs": [
    {
     "data": {
      "text/plain": [
       "729671136101.5173"
      ]
     },
     "execution_count": 547,
     "metadata": {},
     "output_type": "execute_result"
    }
   ],
   "source": [
    "shopping_2010_non_res_emp_merged[\"Mutiplied Weighted\"]= shopping_2010_non_res_emp_merged[\"TUACTDUR24\"]*shopping_2010_non_res_emp_merged[\"TUFNWGTP\"]\n",
    "shopping_2010_non_res_emp_weight = shopping_2010_non_res_emp_merged[\"Mutiplied Weighted\"].sum()\n",
    "shopping_2010_non_res_emp_weight"
   ]
  },
  {
   "cell_type": "code",
   "execution_count": 548,
   "metadata": {},
   "outputs": [
    {
     "data": {
      "text/plain": [
       "0.2255101205644731"
      ]
     },
     "execution_count": 548,
     "metadata": {},
     "output_type": "execute_result"
    }
   ],
   "source": [
    "shopping_2010_non_res_emp_avg_hpd = shopping_2010_non_res_emp_weight / all_2010_emp_weight /60\n",
    "shopping_2010_non_res_emp_avg_hpd"
   ]
  },
  {
   "cell_type": "markdown",
   "metadata": {},
   "source": [
    "### 2011 Shopping, except groceries, food and gas"
   ]
  },
  {
   "cell_type": "code",
   "execution_count": 549,
   "metadata": {},
   "outputs": [],
   "source": [
    "shopping = atus_2011_non_res_emp[atus_2011_non_res_emp[\"TRCODEP\"].apply(str).str.startswith(\"070104\")]\n",
    "shopping_2011_non_res_emp = shopping.groupby([\"TUCASEID\"]).sum().filter([\"TUCASEID\", \"TUACTDUR24\"])\n",
    "shopping_2011_non_res_emp_merged = pd.merge(shopping_2011_non_res_emp, multi_resp, on =\"TUCASEID\").filter([\"TUCASEID\",\"TUACTDUR24\",\"TUFNWGTP\"])"
   ]
  },
  {
   "cell_type": "code",
   "execution_count": 550,
   "metadata": {},
   "outputs": [
    {
     "data": {
      "text/plain": [
       "730427351442.2134"
      ]
     },
     "execution_count": 550,
     "metadata": {},
     "output_type": "execute_result"
    }
   ],
   "source": [
    "shopping_2011_non_res_emp_merged[\"Mutiplied Weighted\"]= shopping_2011_non_res_emp_merged[\"TUACTDUR24\"]*shopping_2011_non_res_emp_merged[\"TUFNWGTP\"]\n",
    "shopping_2011_non_res_emp_weight = shopping_2011_non_res_emp_merged[\"Mutiplied Weighted\"].sum()\n",
    "shopping_2011_non_res_emp_weight"
   ]
  },
  {
   "cell_type": "code",
   "execution_count": 551,
   "metadata": {},
   "outputs": [
    {
     "data": {
      "text/plain": [
       "0.22326681426261744"
      ]
     },
     "execution_count": 551,
     "metadata": {},
     "output_type": "execute_result"
    }
   ],
   "source": [
    "shopping_2011_non_res_emp_avg_hpd = shopping_2011_non_res_emp_weight / all_2011_emp_weight /60\n",
    "shopping_2011_non_res_emp_avg_hpd"
   ]
  },
  {
   "cell_type": "markdown",
   "metadata": {},
   "source": [
    "### 2012 Shopping, except groceries, food and gas"
   ]
  },
  {
   "cell_type": "code",
   "execution_count": 552,
   "metadata": {},
   "outputs": [],
   "source": [
    "shopping = atus_2012_non_res_emp[atus_2012_non_res_emp[\"TRCODEP\"].apply(str).str.startswith(\"070104\")]\n",
    "shopping_2012_non_res_emp = shopping.groupby([\"TUCASEID\"]).sum().filter([\"TUCASEID\", \"TUACTDUR24\"])\n",
    "shopping_2012_non_res_emp_merged = pd.merge(shopping_2012_non_res_emp, multi_resp, on =\"TUCASEID\").filter([\"TUCASEID\",\"TUACTDUR24\",\"TUFNWGTP\"])"
   ]
  },
  {
   "cell_type": "code",
   "execution_count": 553,
   "metadata": {},
   "outputs": [
    {
     "data": {
      "text/plain": [
       "717357351720.0039"
      ]
     },
     "execution_count": 553,
     "metadata": {},
     "output_type": "execute_result"
    }
   ],
   "source": [
    "shopping_2012_non_res_emp_merged[\"Mutiplied Weighted\"]= shopping_2012_non_res_emp_merged[\"TUACTDUR24\"]*shopping_2012_non_res_emp_merged[\"TUFNWGTP\"]\n",
    "shopping_2012_non_res_emp_weight = shopping_2012_non_res_emp_merged[\"Mutiplied Weighted\"].sum()\n",
    "shopping_2012_non_res_emp_weight"
   ]
  },
  {
   "cell_type": "code",
   "execution_count": 554,
   "metadata": {},
   "outputs": [
    {
     "data": {
      "text/plain": [
       "0.21651101889613436"
      ]
     },
     "execution_count": 554,
     "metadata": {},
     "output_type": "execute_result"
    }
   ],
   "source": [
    "shopping_2012_non_res_emp_avg_hpd = shopping_2012_non_res_emp_weight / all_2012_emp_weight /60\n",
    "shopping_2012_non_res_emp_avg_hpd"
   ]
  },
  {
   "cell_type": "markdown",
   "metadata": {},
   "source": [
    "### 2013 Shopping, except groceries, food and gas"
   ]
  },
  {
   "cell_type": "code",
   "execution_count": 555,
   "metadata": {},
   "outputs": [],
   "source": [
    "shopping = atus_2013_non_res_emp[atus_2013_non_res_emp[\"TRCODEP\"].apply(str).str.startswith(\"070104\")]\n",
    "shopping_2013_non_res_emp = shopping.groupby([\"TUCASEID\"]).sum().filter([\"TUCASEID\", \"TUACTDUR24\"])\n",
    "shopping_2013_non_res_emp_merged = pd.merge(shopping_2013_non_res_emp, multi_resp, on =\"TUCASEID\").filter([\"TUCASEID\",\"TUACTDUR24\",\"TUFNWGTP\"])"
   ]
  },
  {
   "cell_type": "code",
   "execution_count": 556,
   "metadata": {},
   "outputs": [
    {
     "data": {
      "text/plain": [
       "745029526827.7875"
      ]
     },
     "execution_count": 556,
     "metadata": {},
     "output_type": "execute_result"
    }
   ],
   "source": [
    "shopping_2013_non_res_emp_merged[\"Mutiplied Weighted\"]= shopping_2013_non_res_emp_merged[\"TUACTDUR24\"]*shopping_2013_non_res_emp_merged[\"TUFNWGTP\"]\n",
    "shopping_2013_non_res_emp_weight = shopping_2013_non_res_emp_merged[\"Mutiplied Weighted\"].sum()\n",
    "shopping_2013_non_res_emp_weight"
   ]
  },
  {
   "cell_type": "code",
   "execution_count": 557,
   "metadata": {},
   "outputs": [
    {
     "data": {
      "text/plain": [
       "0.22430691236893488"
      ]
     },
     "execution_count": 557,
     "metadata": {},
     "output_type": "execute_result"
    }
   ],
   "source": [
    "shopping_2013_non_res_emp_avg_hpd = shopping_2013_non_res_emp_weight / all_2013_emp_weight /60\n",
    "shopping_2013_non_res_emp_avg_hpd"
   ]
  },
  {
   "cell_type": "markdown",
   "metadata": {},
   "source": [
    "### 2014 Shopping, except groceries, food and gas"
   ]
  },
  {
   "cell_type": "code",
   "execution_count": 558,
   "metadata": {},
   "outputs": [],
   "source": [
    "shopping = atus_2014_non_res_emp[atus_2014_non_res_emp[\"TRCODEP\"].apply(str).str.startswith(\"070104\")]\n",
    "shopping_2014_non_res_emp = shopping.groupby([\"TUCASEID\"]).sum().filter([\"TUCASEID\", \"TUACTDUR24\"])\n",
    "shopping_2014_non_res_emp_merged = pd.merge(shopping_2014_non_res_emp, multi_resp, on =\"TUCASEID\").filter([\"TUCASEID\",\"TUACTDUR24\",\"TUFNWGTP\"])"
   ]
  },
  {
   "cell_type": "code",
   "execution_count": 559,
   "metadata": {},
   "outputs": [
    {
     "data": {
      "text/plain": [
       "625591100183.5142"
      ]
     },
     "execution_count": 559,
     "metadata": {},
     "output_type": "execute_result"
    }
   ],
   "source": [
    "shopping_2014_non_res_emp_merged[\"Mutiplied Weighted\"]= shopping_2014_non_res_emp_merged[\"TUACTDUR24\"]*shopping_2014_non_res_emp_merged[\"TUFNWGTP\"]\n",
    "shopping_2014_non_res_emp_weight = shopping_2014_non_res_emp_merged[\"Mutiplied Weighted\"].sum()\n",
    "shopping_2014_non_res_emp_weight"
   ]
  },
  {
   "cell_type": "code",
   "execution_count": 560,
   "metadata": {},
   "outputs": [
    {
     "data": {
      "text/plain": [
       "0.18587700866515164"
      ]
     },
     "execution_count": 560,
     "metadata": {},
     "output_type": "execute_result"
    }
   ],
   "source": [
    "shopping_2014_non_res_emp_avg_hpd = shopping_2014_non_res_emp_weight / all_2014_emp_weight /60\n",
    "shopping_2014_non_res_emp_avg_hpd"
   ]
  },
  {
   "cell_type": "markdown",
   "metadata": {},
   "source": [
    "### 2015 Shopping, except groceries, food and gas"
   ]
  },
  {
   "cell_type": "code",
   "execution_count": 561,
   "metadata": {},
   "outputs": [],
   "source": [
    "shopping = atus_2015_non_res_emp[atus_2015_non_res_emp[\"TRCODEP\"].apply(str).str.startswith(\"070104\")]\n",
    "shopping_2015_non_res_emp = shopping.groupby([\"TUCASEID\"]).sum().filter([\"TUCASEID\", \"TUACTDUR24\"])\n",
    "shopping_2015_non_res_emp_merged = pd.merge(shopping_2015_non_res_emp, multi_resp, on =\"TUCASEID\").filter([\"TUCASEID\",\"TUACTDUR24\",\"TUFNWGTP\"])"
   ]
  },
  {
   "cell_type": "code",
   "execution_count": 562,
   "metadata": {},
   "outputs": [
    {
     "data": {
      "text/plain": [
       "712432690345.3741"
      ]
     },
     "execution_count": 562,
     "metadata": {},
     "output_type": "execute_result"
    }
   ],
   "source": [
    "shopping_2015_non_res_emp_merged[\"Mutiplied Weighted\"]= shopping_2015_non_res_emp_merged[\"TUACTDUR24\"]*shopping_2015_non_res_emp_merged[\"TUFNWGTP\"]\n",
    "shopping_2015_non_res_emp_weight = shopping_2015_non_res_emp_merged[\"Mutiplied Weighted\"].sum()\n",
    "shopping_2015_non_res_emp_weight"
   ]
  },
  {
   "cell_type": "code",
   "execution_count": 563,
   "metadata": {},
   "outputs": [
    {
     "data": {
      "text/plain": [
       "0.20738034553086165"
      ]
     },
     "execution_count": 563,
     "metadata": {},
     "output_type": "execute_result"
    }
   ],
   "source": [
    "shopping_2015_non_res_emp_avg_hpd = shopping_2015_non_res_emp_weight / all_2015_emp_weight /60\n",
    "shopping_2015_non_res_emp_avg_hpd"
   ]
  },
  {
   "cell_type": "markdown",
   "metadata": {},
   "source": [
    "### 2016 Shopping, except groceries, food and gas"
   ]
  },
  {
   "cell_type": "code",
   "execution_count": 564,
   "metadata": {},
   "outputs": [],
   "source": [
    "shopping = atus_2016_non_res_emp[atus_2016_non_res_emp[\"TRCODEP\"].apply(str).str.startswith(\"070104\")]\n",
    "shopping_2016_non_res_emp = shopping.groupby([\"TUCASEID\"]).sum().filter([\"TUCASEID\", \"TUACTDUR24\"])\n",
    "shopping_2016_non_res_emp_merged = pd.merge(shopping_2016_non_res_emp, multi_resp, on =\"TUCASEID\").filter([\"TUCASEID\",\"TUACTDUR24\",\"TUFNWGTP\"])"
   ]
  },
  {
   "cell_type": "code",
   "execution_count": 565,
   "metadata": {},
   "outputs": [
    {
     "data": {
      "text/plain": [
       "689557035758.4968"
      ]
     },
     "execution_count": 565,
     "metadata": {},
     "output_type": "execute_result"
    }
   ],
   "source": [
    "shopping_2016_non_res_emp_merged[\"Mutiplied Weighted\"]= shopping_2016_non_res_emp_merged[\"TUACTDUR24\"]*shopping_2016_non_res_emp_merged[\"TUFNWGTP\"]\n",
    "shopping_2016_non_res_emp_weight = shopping_2016_non_res_emp_merged[\"Mutiplied Weighted\"].sum()\n",
    "shopping_2016_non_res_emp_weight"
   ]
  },
  {
   "cell_type": "code",
   "execution_count": 566,
   "metadata": {},
   "outputs": [
    {
     "data": {
      "text/plain": [
       "0.1941100141146482"
      ]
     },
     "execution_count": 566,
     "metadata": {},
     "output_type": "execute_result"
    }
   ],
   "source": [
    "shopping_2016_non_res_emp_avg_hpd = shopping_2016_non_res_emp_weight / all_2016_emp_weight /60\n",
    "shopping_2016_non_res_emp_avg_hpd"
   ]
  },
  {
   "cell_type": "markdown",
   "metadata": {},
   "source": [
    "### 2017 Shopping, except groceries, food and gas"
   ]
  },
  {
   "cell_type": "code",
   "execution_count": 567,
   "metadata": {},
   "outputs": [],
   "source": [
    "shopping = atus_2017_non_res_emp[atus_2017_non_res_emp[\"TRCODEP\"].apply(str).str.startswith(\"070104\")]\n",
    "shopping_2017_non_res_emp = shopping.groupby([\"TUCASEID\"]).sum().filter([\"TUCASEID\", \"TUACTDUR24\"])\n",
    "shopping_2017_non_res_emp_merged = pd.merge(shopping_2017_non_res_emp, multi_resp, on =\"TUCASEID\").filter([\"TUCASEID\",\"TUACTDUR24\",\"TUFNWGTP\"])"
   ]
  },
  {
   "cell_type": "code",
   "execution_count": 568,
   "metadata": {},
   "outputs": [
    {
     "data": {
      "text/plain": [
       "645850274515.5956"
      ]
     },
     "execution_count": 568,
     "metadata": {},
     "output_type": "execute_result"
    }
   ],
   "source": [
    "shopping_2017_non_res_emp_merged[\"Mutiplied Weighted\"]= shopping_2017_non_res_emp_merged[\"TUACTDUR24\"]*shopping_2017_non_res_emp_merged[\"TUFNWGTP\"]\n",
    "shopping_2017_non_res_emp_weight = shopping_2017_non_res_emp_merged[\"Mutiplied Weighted\"].sum()\n",
    "shopping_2017_non_res_emp_weight"
   ]
  },
  {
   "cell_type": "code",
   "execution_count": 569,
   "metadata": {},
   "outputs": [
    {
     "data": {
      "text/plain": [
       "0.18243567850181677"
      ]
     },
     "execution_count": 569,
     "metadata": {},
     "output_type": "execute_result"
    }
   ],
   "source": [
    "shopping_2017_non_res_emp_avg_hpd = shopping_2017_non_res_emp_weight / all_2017_emp_weight /60\n",
    "shopping_2017_non_res_emp_avg_hpd"
   ]
  },
  {
   "cell_type": "markdown",
   "metadata": {},
   "source": [
    "### 2018 Shopping, except groceries, food and gas"
   ]
  },
  {
   "cell_type": "code",
   "execution_count": 570,
   "metadata": {},
   "outputs": [],
   "source": [
    "shopping = atus_2018_non_res_emp[atus_2018_non_res_emp[\"TRCODEP\"].apply(str).str.startswith(\"070104\")]\n",
    "shopping_2018_non_res_emp = shopping.groupby([\"TUCASEID\"]).sum().filter([\"TUCASEID\", \"TUACTDUR24\"])\n",
    "shopping_2018_non_res_emp_merged = pd.merge(shopping_2018_non_res_emp, multi_resp, on =\"TUCASEID\").filter([\"TUCASEID\",\"TUACTDUR24\",\"TUFNWGTP\"])"
   ]
  },
  {
   "cell_type": "code",
   "execution_count": 571,
   "metadata": {},
   "outputs": [
    {
     "data": {
      "text/plain": [
       "608739394087.9049"
      ]
     },
     "execution_count": 571,
     "metadata": {},
     "output_type": "execute_result"
    }
   ],
   "source": [
    "shopping_2018_non_res_emp_merged[\"Mutiplied Weighted\"]= shopping_2018_non_res_emp_merged[\"TUACTDUR24\"]*shopping_2018_non_res_emp_merged[\"TUFNWGTP\"]\n",
    "shopping_2018_non_res_emp_weight = shopping_2018_non_res_emp_merged[\"Mutiplied Weighted\"].sum()\n",
    "shopping_2018_non_res_emp_weight"
   ]
  },
  {
   "cell_type": "code",
   "execution_count": 572,
   "metadata": {},
   "outputs": [
    {
     "data": {
      "text/plain": [
       "0.168187982270992"
      ]
     },
     "execution_count": 572,
     "metadata": {},
     "output_type": "execute_result"
    }
   ],
   "source": [
    "shopping_2018_non_res_emp_avg_hpd = shopping_2018_non_res_emp_weight / all_2018_emp_weight /60\n",
    "shopping_2018_non_res_emp_avg_hpd"
   ]
  },
  {
   "cell_type": "markdown",
   "metadata": {},
   "source": [
    "### 2019 Shopping, except groceries, food and gas"
   ]
  },
  {
   "cell_type": "code",
   "execution_count": 573,
   "metadata": {},
   "outputs": [],
   "source": [
    "shopping = atus_2019_non_res_emp[atus_2019_non_res_emp[\"TRCODEP\"].apply(str).str.startswith(\"070104\")]\n",
    "shopping_2019_non_res_emp = shopping.groupby([\"TUCASEID\"]).sum().filter([\"TUCASEID\", \"TUACTDUR24\"])\n",
    "shopping_2019_non_res_emp_merged = pd.merge(shopping_2019_non_res_emp, multi_resp, on =\"TUCASEID\").filter([\"TUCASEID\",\"TUACTDUR24\",\"TUFNWGTP\"])"
   ]
  },
  {
   "cell_type": "code",
   "execution_count": 574,
   "metadata": {},
   "outputs": [
    {
     "data": {
      "text/plain": [
       "703926448394.0664"
      ]
     },
     "execution_count": 574,
     "metadata": {},
     "output_type": "execute_result"
    }
   ],
   "source": [
    "shopping_2019_non_res_emp_merged[\"Mutiplied Weighted\"]= shopping_2019_non_res_emp_merged[\"TUACTDUR24\"]*shopping_2019_non_res_emp_merged[\"TUFNWGTP\"]\n",
    "shopping_2019_non_res_emp_weight = shopping_2019_non_res_emp_merged[\"Mutiplied Weighted\"].sum()\n",
    "shopping_2019_non_res_emp_weight"
   ]
  },
  {
   "cell_type": "code",
   "execution_count": 575,
   "metadata": {},
   "outputs": [
    {
     "data": {
      "text/plain": [
       "0.19327931094211903"
      ]
     },
     "execution_count": 575,
     "metadata": {},
     "output_type": "execute_result"
    }
   ],
   "source": [
    "shopping_2019_non_res_emp_avg_hpd = shopping_2019_non_res_emp_weight / all_2019_emp_weight /60\n",
    "shopping_2019_non_res_emp_avg_hpd"
   ]
  },
  {
   "cell_type": "markdown",
   "metadata": {},
   "source": [
    "### Shopping, except groceries, food and gas Regression"
   ]
  },
  {
   "cell_type": "markdown",
   "metadata": {},
   "source": [
    "#### 2003-2012 Regression"
   ]
  },
  {
   "cell_type": "code",
   "execution_count": 576,
   "metadata": {},
   "outputs": [],
   "source": [
    "year = np.array([2003, 2004, 2005, 2006, 2007, 2008, 2009, 2010,2011,2012]).reshape((-1, 1))\n",
    "activity_hours_per_day = np.array([shopping_2003_non_res_emp_avg_hpd, shopping_2004_non_res_emp_avg_hpd, shopping_2005_non_res_emp_avg_hpd,\n",
    "                                   shopping_2006_non_res_emp_avg_hpd, shopping_2007_non_res_emp_avg_hpd, shopping_2008_non_res_emp_avg_hpd,\n",
    "                                   shopping_2009_non_res_emp_avg_hpd, shopping_2010_non_res_emp_avg_hpd, shopping_2011_non_res_emp_avg_hpd,\n",
    "                                   shopping_2012_non_res_emp_avg_hpd]).reshape((-1, 1))\n",
    "                                  \n",
    "\n",
    "activity_hours_per_yr = [i * 365 for i in activity_hours_per_day]\n",
    "#activity_hours_per_yr"
   ]
  },
  {
   "cell_type": "code",
   "execution_count": 577,
   "metadata": {},
   "outputs": [
    {
     "data": {
      "image/png": "[encoded data removed]",
      "text/plain": [
       "<Figure size 432x288 with 1 Axes>"
      ]
     },
     "metadata": {
      "needs_background": "light"
     },
     "output_type": "display_data"
    }
   ],
   "source": [
    "x = year\n",
    "y = activity_hours_per_yr\n",
    "x, y = np.array(x), np.array(y)\n",
    "\n",
    "model = LinearRegression().fit(x, y)\n",
    "\n",
    "y_pred = model.predict(x)  \n",
    "\n",
    "plt.scatter(x, y)\n",
    "plt.plot(x, y_pred, color='red')\n",
    "plt.show()"
   ]
  },
  {
   "cell_type": "code",
   "execution_count": 578,
   "metadata": {},
   "outputs": [
    {
     "data": {
      "text/plain": [
       "0.8114820502526623"
      ]
     },
     "execution_count": 578,
     "metadata": {},
     "output_type": "execute_result"
    }
   ],
   "source": [
    "coefficient_of_determination = model.score(x,y) #R sqaure value \n",
    "coefficient_of_determination"
   ]
  },
  {
   "cell_type": "code",
   "execution_count": 579,
   "metadata": {},
   "outputs": [
    {
     "data": {
      "text/plain": [
       "array([[-1.86611884]])"
      ]
     },
     "execution_count": 579,
     "metadata": {},
     "output_type": "execute_result"
    }
   ],
   "source": [
    "shoping_non_res_emp_2003_2012_slope = model.coef_\n",
    "shoping_non_res_emp_2003_2012_slope"
   ]
  },
  {
   "cell_type": "markdown",
   "metadata": {},
   "source": [
    "#### 2003 - 2019"
   ]
  },
  {
   "cell_type": "code",
   "execution_count": 580,
   "metadata": {},
   "outputs": [],
   "source": [
    "year = np.array([2003,2004,2005,2006,2007,2008,2009,2010,2011,2012,2013,2014,2015,2016,2017,2018,2019]).reshape((-1, 1))\n",
    "activity_hours_per_day = np.array([shopping_2003_non_res_emp_avg_hpd, shopping_2004_non_res_emp_avg_hpd, shopping_2005_non_res_emp_avg_hpd,\n",
    "                                   shopping_2006_non_res_emp_avg_hpd, shopping_2007_non_res_emp_avg_hpd, shopping_2008_non_res_emp_avg_hpd,\n",
    "                                   shopping_2009_non_res_emp_avg_hpd, shopping_2010_non_res_emp_avg_hpd, shopping_2011_non_res_emp_avg_hpd,\n",
    "                                   shopping_2012_non_res_emp_avg_hpd, shopping_2013_non_res_emp_avg_hpd, shopping_2014_non_res_emp_avg_hpd,\n",
    "                                   shopping_2015_non_res_emp_avg_hpd, shopping_2016_non_res_emp_avg_hpd, shopping_2017_non_res_emp_avg_hpd,\n",
    "                                   shopping_2018_non_res_emp_avg_hpd, shopping_2019_non_res_emp_avg_hpd]).reshape((-1, 1))\n",
    "                                  \n",
    "\n",
    "activity_hours_per_yr = [i * 365 for i in activity_hours_per_day]\n",
    "#activity_hours_per_yr"
   ]
  },
  {
   "cell_type": "code",
   "execution_count": 581,
   "metadata": {},
   "outputs": [
    {
     "data": {
      "image/png": "[encoded data removed]",
      "text/plain": [
       "<Figure size 432x288 with 1 Axes>"
      ]
     },
     "metadata": {
      "needs_background": "light"
     },
     "output_type": "display_data"
    }
   ],
   "source": [
    "x = year\n",
    "y = activity_hours_per_yr\n",
    "x, y = np.array(x), np.array(y)\n",
    "\n",
    "model = LinearRegression().fit(x, y)\n",
    "\n",
    "y_pred = model.predict(x)  \n",
    "\n",
    "plt.scatter(x, y)\n",
    "plt.plot(x, y_pred, color='red')\n",
    "plt.show()"
   ]
  },
  {
   "cell_type": "code",
   "execution_count": 582,
   "metadata": {},
   "outputs": [
    {
     "data": {
      "text/plain": [
       "0.8781485027679715"
      ]
     },
     "execution_count": 582,
     "metadata": {},
     "output_type": "execute_result"
    }
   ],
   "source": [
    "coefficient_of_determination = model.score(x,y) #R sqaure value \n",
    "coefficient_of_determination"
   ]
  },
  {
   "cell_type": "code",
   "execution_count": 583,
   "metadata": {},
   "outputs": [
    {
     "data": {
      "text/plain": [
       "array([[-1.95877978]])"
      ]
     },
     "execution_count": 583,
     "metadata": {},
     "output_type": "execute_result"
    }
   ],
   "source": [
    "shoping_non_res_emp_2003_2019_slope = model.coef_\n",
    "shoping_non_res_emp_2003_2019_slope"
   ]
  },
  {
   "cell_type": "markdown",
   "metadata": {},
   "source": [
    "## 2003-2019 All Travel - Employed"
   ]
  },
  {
   "cell_type": "code",
   "execution_count": 584,
   "metadata": {},
   "outputs": [],
   "source": [
    "#all travel = 12,13,19. 12 = Car, truck, or motorcycle (driver), 13 = Car, truck, or motorcycle (passenger), \n",
    "                        #19 = Taxi/limousine service. 19 is not included"
   ]
  },
  {
   "cell_type": "code",
   "execution_count": 585,
   "metadata": {},
   "outputs": [],
   "source": [
    "#only residential location from 2003-2019\n",
    "travel_location = [12,13]\n",
    "atus_multi_yr_travel_emp = multi_merged_employed[multi_merged_employed[\"TEWHERE\"].isin(travel_location)]\n",
    "#atus_multi_yr_travel_emp"
   ]
  },
  {
   "cell_type": "code",
   "execution_count": 586,
   "metadata": {},
   "outputs": [],
   "source": [
    "atus_2003_travel_emp = atus_multi_yr_travel_emp[atus_multi_yr_travel_emp[\"TUCASEID\"].apply(str).str.startswith(\"2003\")]\n",
    "atus_2004_travel_emp = atus_multi_yr_travel_emp[atus_multi_yr_travel_emp[\"TUCASEID\"].apply(str).str.startswith(\"2004\")]\n",
    "atus_2005_travel_emp = atus_multi_yr_travel_emp[atus_multi_yr_travel_emp[\"TUCASEID\"].apply(str).str.startswith(\"2005\")]\n",
    "atus_2006_travel_emp = atus_multi_yr_travel_emp[atus_multi_yr_travel_emp[\"TUCASEID\"].apply(str).str.startswith(\"2006\")]\n",
    "atus_2007_travel_emp = atus_multi_yr_travel_emp[atus_multi_yr_travel_emp[\"TUCASEID\"].apply(str).str.startswith(\"2007\")]\n",
    "atus_2008_travel_emp = atus_multi_yr_travel_emp[atus_multi_yr_travel_emp[\"TUCASEID\"].apply(str).str.startswith(\"2008\")]\n",
    "atus_2009_travel_emp = atus_multi_yr_travel_emp[atus_multi_yr_travel_emp[\"TUCASEID\"].apply(str).str.startswith(\"2009\")]\n",
    "atus_2010_travel_emp = atus_multi_yr_travel_emp[atus_multi_yr_travel_emp[\"TUCASEID\"].apply(str).str.startswith(\"2010\")]\n",
    "atus_2011_travel_emp = atus_multi_yr_travel_emp[atus_multi_yr_travel_emp[\"TUCASEID\"].apply(str).str.startswith(\"2011\")]\n",
    "atus_2012_travel_emp = atus_multi_yr_travel_emp[atus_multi_yr_travel_emp[\"TUCASEID\"].apply(str).str.startswith(\"2012\")]\n",
    "atus_2013_travel_emp = atus_multi_yr_travel_emp[atus_multi_yr_travel_emp[\"TUCASEID\"].apply(str).str.startswith(\"2013\")]\n",
    "atus_2014_travel_emp = atus_multi_yr_travel_emp[atus_multi_yr_travel_emp[\"TUCASEID\"].apply(str).str.startswith(\"2014\")]\n",
    "atus_2015_travel_emp = atus_multi_yr_travel_emp[atus_multi_yr_travel_emp[\"TUCASEID\"].apply(str).str.startswith(\"2015\")]\n",
    "atus_2016_travel_emp = atus_multi_yr_travel_emp[atus_multi_yr_travel_emp[\"TUCASEID\"].apply(str).str.startswith(\"2016\")]\n",
    "atus_2017_travel_emp = atus_multi_yr_travel_emp[atus_multi_yr_travel_emp[\"TUCASEID\"].apply(str).str.startswith(\"2017\")]\n",
    "atus_2018_travel_emp = atus_multi_yr_travel_emp[atus_multi_yr_travel_emp[\"TUCASEID\"].apply(str).str.startswith(\"2018\")]\n",
    "atus_2019_travel_emp = atus_multi_yr_travel_emp[atus_multi_yr_travel_emp[\"TUCASEID\"].apply(str).str.startswith(\"2019\")]"
   ]
  },
  {
   "cell_type": "markdown",
   "metadata": {},
   "source": [
    "### 2003 All Travel"
   ]
  },
  {
   "cell_type": "code",
   "execution_count": 587,
   "metadata": {},
   "outputs": [],
   "source": [
    "travel_2003_emp = atus_2003_travel_emp.groupby([\"TUCASEID\"]).sum().filter([\"TUCASEID\", \"TUACTDUR24\"])\n",
    "travel_2003_emp_merged = pd.merge(travel_2003_emp, multi_resp, on =\"TUCASEID\").filter([\"TUCASEID\",\"TUACTDUR24\",\"TUFNWGTP\"])"
   ]
  },
  {
   "cell_type": "code",
   "execution_count": 588,
   "metadata": {},
   "outputs": [],
   "source": [
    "travel_2003_emp_merged[\"Mutiplied Weighted\"] = travel_2003_emp_merged[\"TUACTDUR24\"] * travel_2003_emp_merged[\"TUFNWGTP\"]\n",
    "#travel_2003_emp_merged"
   ]
  },
  {
   "cell_type": "code",
   "execution_count": 589,
   "metadata": {},
   "outputs": [
    {
     "data": {
      "text/plain": [
       "4167245994357.7397"
      ]
     },
     "execution_count": 589,
     "metadata": {},
     "output_type": "execute_result"
    }
   ],
   "source": [
    "travel_2003_emp_weight = travel_2003_emp_merged[\"Mutiplied Weighted\"].sum()\n",
    "travel_2003_emp_weight"
   ]
  },
  {
   "cell_type": "code",
   "execution_count": 590,
   "metadata": {},
   "outputs": [
    {
     "data": {
      "text/plain": [
       "1.3058427036776776"
      ]
     },
     "execution_count": 590,
     "metadata": {},
     "output_type": "execute_result"
    }
   ],
   "source": [
    "# hpd = hour per day\n",
    "travel_2003_emp_avg_hpd = travel_2003_emp_weight / all_2003_emp_weight /60\n",
    "travel_2003_emp_avg_hpd"
   ]
  },
  {
   "cell_type": "markdown",
   "metadata": {},
   "source": [
    "### 2004 All Travel"
   ]
  },
  {
   "cell_type": "code",
   "execution_count": 591,
   "metadata": {},
   "outputs": [],
   "source": [
    "travel_2004_emp = atus_2004_travel_emp.groupby([\"TUCASEID\"]).sum().filter([\"TUCASEID\", \"TUACTDUR24\"])\n",
    "travel_2004_emp_merged = pd.merge(travel_2004_emp, multi_resp, on =\"TUCASEID\").filter([\"TUCASEID\",\"TUACTDUR24\",\"TUFNWGTP\"])\n",
    "travel_2004_emp_merged[\"Mutiplied Weighted\"] = travel_2004_emp_merged[\"TUACTDUR24\"] * travel_2004_emp_merged[\"TUFNWGTP\"]"
   ]
  },
  {
   "cell_type": "code",
   "execution_count": 592,
   "metadata": {},
   "outputs": [
    {
     "data": {
      "text/plain": [
       "4078153407613.2627"
      ]
     },
     "execution_count": 592,
     "metadata": {},
     "output_type": "execute_result"
    }
   ],
   "source": [
    "travel_2004_emp_weight = travel_2004_emp_merged[\"Mutiplied Weighted\"].sum()\n",
    "travel_2004_emp_weight"
   ]
  },
  {
   "cell_type": "code",
   "execution_count": 593,
   "metadata": {},
   "outputs": [
    {
     "data": {
      "text/plain": [
       "1.273502447349127"
      ]
     },
     "execution_count": 593,
     "metadata": {},
     "output_type": "execute_result"
    }
   ],
   "source": [
    "travel_2004_emp_avg_hpd = travel_2004_emp_weight / all_2004_emp_weight /60\n",
    "travel_2004_emp_avg_hpd"
   ]
  },
  {
   "cell_type": "markdown",
   "metadata": {},
   "source": [
    "### 2005 All Travel"
   ]
  },
  {
   "cell_type": "code",
   "execution_count": 594,
   "metadata": {},
   "outputs": [],
   "source": [
    "travel_2005_emp = atus_2005_travel_emp.groupby([\"TUCASEID\"]).sum().filter([\"TUCASEID\", \"TUACTDUR24\"])\n",
    "travel_2005_emp_merged = pd.merge(travel_2005_emp, multi_resp, on =\"TUCASEID\").filter([\"TUCASEID\",\"TUACTDUR24\",\"TUFNWGTP\"])\n",
    "travel_2005_emp_merged[\"Mutiplied Weighted\"] = travel_2005_emp_merged[\"TUACTDUR24\"] * travel_2005_emp_merged[\"TUFNWGTP\"]"
   ]
  },
  {
   "cell_type": "code",
   "execution_count": 595,
   "metadata": {},
   "outputs": [
    {
     "data": {
      "text/plain": [
       "4099058361310.119"
      ]
     },
     "execution_count": 595,
     "metadata": {},
     "output_type": "execute_result"
    }
   ],
   "source": [
    "travel_2005_emp_weight = travel_2005_emp_merged[\"Mutiplied Weighted\"].sum()\n",
    "travel_2005_emp_weight"
   ]
  },
  {
   "cell_type": "code",
   "execution_count": 596,
   "metadata": {},
   "outputs": [
    {
     "data": {
      "text/plain": [
       "1.24150286183648"
      ]
     },
     "execution_count": 596,
     "metadata": {},
     "output_type": "execute_result"
    }
   ],
   "source": [
    "travel_2005_emp_avg_hpd = travel_2005_emp_weight / all_2005_emp_weight /60\n",
    "travel_2005_emp_avg_hpd"
   ]
  },
  {
   "cell_type": "markdown",
   "metadata": {},
   "source": [
    "### 2006 All Travel"
   ]
  },
  {
   "cell_type": "code",
   "execution_count": 597,
   "metadata": {},
   "outputs": [],
   "source": [
    "travel_2006_emp = atus_2006_travel_emp.groupby([\"TUCASEID\"]).sum().filter([\"TUCASEID\", \"TUACTDUR24\"])\n",
    "travel_2006_emp_merged = pd.merge(travel_2006_emp, multi_resp, on =\"TUCASEID\").filter([\"TUCASEID\",\"TUACTDUR24\",\"TUFNWGTP\"])\n",
    "travel_2006_emp_merged[\"Mutiplied Weighted\"] = travel_2006_emp_merged[\"TUACTDUR24\"] * travel_2006_emp_merged[\"TUFNWGTP\"]"
   ]
  },
  {
   "cell_type": "code",
   "execution_count": 598,
   "metadata": {},
   "outputs": [
    {
     "data": {
      "text/plain": [
       "4087542084627.415"
      ]
     },
     "execution_count": 598,
     "metadata": {},
     "output_type": "execute_result"
    }
   ],
   "source": [
    "travel_2006_emp_weight = travel_2006_emp_merged[\"Mutiplied Weighted\"].sum()\n",
    "travel_2006_emp_weight"
   ]
  },
  {
   "cell_type": "code",
   "execution_count": 599,
   "metadata": {},
   "outputs": [
    {
     "data": {
      "text/plain": [
       "1.2346349850133564"
      ]
     },
     "execution_count": 599,
     "metadata": {},
     "output_type": "execute_result"
    }
   ],
   "source": [
    "travel_2006_emp_avg_hpd = travel_2006_emp_weight / all_2006_emp_weight /60\n",
    "travel_2006_emp_avg_hpd"
   ]
  },
  {
   "cell_type": "markdown",
   "metadata": {},
   "source": [
    "### 2007 All Travel"
   ]
  },
  {
   "cell_type": "code",
   "execution_count": 600,
   "metadata": {},
   "outputs": [],
   "source": [
    "travel_2007_emp = atus_2007_travel_emp.groupby([\"TUCASEID\"]).sum().filter([\"TUCASEID\", \"TUACTDUR24\"])\n",
    "travel_2007_emp_merged = pd.merge(travel_2007_emp, multi_resp, on =\"TUCASEID\").filter([\"TUCASEID\",\"TUACTDUR24\",\"TUFNWGTP\"])\n",
    "travel_2007_emp_merged[\"Mutiplied Weighted\"] = travel_2007_emp_merged[\"TUACTDUR24\"] * travel_2007_emp_merged[\"TUFNWGTP\"]"
   ]
  },
  {
   "cell_type": "code",
   "execution_count": 601,
   "metadata": {},
   "outputs": [
    {
     "data": {
      "text/plain": [
       "4161956618730.7344"
      ]
     },
     "execution_count": 601,
     "metadata": {},
     "output_type": "execute_result"
    }
   ],
   "source": [
    "travel_2007_emp_weight = travel_2007_emp_merged[\"Mutiplied Weighted\"].sum()\n",
    "travel_2007_emp_weight"
   ]
  },
  {
   "cell_type": "code",
   "execution_count": 602,
   "metadata": {},
   "outputs": [
    {
     "data": {
      "text/plain": [
       "1.2221300228965444"
      ]
     },
     "execution_count": 602,
     "metadata": {},
     "output_type": "execute_result"
    }
   ],
   "source": [
    "travel_2007_emp_avg_hpd = travel_2007_emp_weight / all_2007_emp_weight /60\n",
    "travel_2007_emp_avg_hpd"
   ]
  },
  {
   "cell_type": "markdown",
   "metadata": {},
   "source": [
    "### 2008 All Travel"
   ]
  },
  {
   "cell_type": "code",
   "execution_count": 603,
   "metadata": {},
   "outputs": [],
   "source": [
    "travel_2008_emp = atus_2008_travel_emp.groupby([\"TUCASEID\"]).sum().filter([\"TUCASEID\", \"TUACTDUR24\"])\n",
    "travel_2008_emp_merged = pd.merge(travel_2008_emp, multi_resp, on =\"TUCASEID\").filter([\"TUCASEID\",\"TUACTDUR24\",\"TUFNWGTP\"])\n",
    "travel_2008_emp_merged[\"Mutiplied Weighted\"] = travel_2008_emp_merged[\"TUACTDUR24\"] * travel_2008_emp_merged[\"TUFNWGTP\"]"
   ]
  },
  {
   "cell_type": "code",
   "execution_count": 604,
   "metadata": {},
   "outputs": [
    {
     "data": {
      "text/plain": [
       "4121617924756.8374"
      ]
     },
     "execution_count": 604,
     "metadata": {},
     "output_type": "execute_result"
    }
   ],
   "source": [
    "travel_2008_emp_weight = travel_2008_emp_merged[\"Mutiplied Weighted\"].sum()\n",
    "travel_2008_emp_weight"
   ]
  },
  {
   "cell_type": "code",
   "execution_count": 605,
   "metadata": {},
   "outputs": [
    {
     "data": {
      "text/plain": [
       "1.207994790582947"
      ]
     },
     "execution_count": 605,
     "metadata": {},
     "output_type": "execute_result"
    }
   ],
   "source": [
    "travel_2008_emp_avg_hpd = travel_2008_emp_weight / all_2008_emp_weight /60\n",
    "travel_2008_emp_avg_hpd"
   ]
  },
  {
   "cell_type": "markdown",
   "metadata": {},
   "source": [
    "### 2009 All Travel"
   ]
  },
  {
   "cell_type": "code",
   "execution_count": 606,
   "metadata": {},
   "outputs": [],
   "source": [
    "travel_2009_emp = atus_2009_travel_emp.groupby([\"TUCASEID\"]).sum().filter([\"TUCASEID\", \"TUACTDUR24\"])\n",
    "travel_2009_emp_merged = pd.merge(travel_2009_emp, multi_resp, on =\"TUCASEID\").filter([\"TUCASEID\",\"TUACTDUR24\",\"TUFNWGTP\"])\n",
    "travel_2009_emp_merged[\"Mutiplied Weighted\"] = travel_2009_emp_merged[\"TUACTDUR24\"] * travel_2009_emp_merged[\"TUFNWGTP\"]"
   ]
  },
  {
   "cell_type": "code",
   "execution_count": 607,
   "metadata": {},
   "outputs": [
    {
     "data": {
      "text/plain": [
       "3966645758459.585"
      ]
     },
     "execution_count": 607,
     "metadata": {},
     "output_type": "execute_result"
    }
   ],
   "source": [
    "travel_2009_emp_weight = travel_2009_emp_merged[\"Mutiplied Weighted\"].sum()\n",
    "travel_2009_emp_weight"
   ]
  },
  {
   "cell_type": "code",
   "execution_count": 608,
   "metadata": {},
   "outputs": [
    {
     "data": {
      "text/plain": [
       "1.2178916007331033"
      ]
     },
     "execution_count": 608,
     "metadata": {},
     "output_type": "execute_result"
    }
   ],
   "source": [
    "travel_2009_emp_avg_hpd = travel_2009_emp_weight / all_2009_emp_weight /60\n",
    "travel_2009_emp_avg_hpd"
   ]
  },
  {
   "cell_type": "markdown",
   "metadata": {},
   "source": [
    "### 2010 All Travel"
   ]
  },
  {
   "cell_type": "code",
   "execution_count": 609,
   "metadata": {},
   "outputs": [],
   "source": [
    "travel_2010_emp = atus_2010_travel_emp.groupby([\"TUCASEID\"]).sum().filter([\"TUCASEID\", \"TUACTDUR24\"])\n",
    "travel_2010_emp_merged = pd.merge(travel_2010_emp, multi_resp, on =\"TUCASEID\").filter([\"TUCASEID\",\"TUACTDUR24\",\"TUFNWGTP\"])\n",
    "travel_2010_emp_merged[\"Mutiplied Weighted\"] = travel_2010_emp_merged[\"TUACTDUR24\"] * travel_2010_emp_merged[\"TUFNWGTP\"]"
   ]
  },
  {
   "cell_type": "code",
   "execution_count": 610,
   "metadata": {},
   "outputs": [
    {
     "data": {
      "text/plain": [
       "4104128562661.0596"
      ]
     },
     "execution_count": 610,
     "metadata": {},
     "output_type": "execute_result"
    }
   ],
   "source": [
    "travel_2010_emp_weight = travel_2010_emp_merged[\"Mutiplied Weighted\"].sum()\n",
    "travel_2010_emp_weight"
   ]
  },
  {
   "cell_type": "code",
   "execution_count": 611,
   "metadata": {},
   "outputs": [
    {
     "data": {
      "text/plain": [
       "1.2684104950658588"
      ]
     },
     "execution_count": 611,
     "metadata": {},
     "output_type": "execute_result"
    }
   ],
   "source": [
    "travel_2010_emp_avg_hpd = travel_2010_emp_weight / all_2010_emp_weight /60\n",
    "travel_2010_emp_avg_hpd"
   ]
  },
  {
   "cell_type": "markdown",
   "metadata": {},
   "source": [
    "### 2011 All Travel"
   ]
  },
  {
   "cell_type": "code",
   "execution_count": 612,
   "metadata": {},
   "outputs": [],
   "source": [
    "travel_2011_emp = atus_2011_travel_emp.groupby([\"TUCASEID\"]).sum().filter([\"TUCASEID\", \"TUACTDUR24\"])\n",
    "travel_2011_emp_merged = pd.merge(travel_2011_emp, multi_resp, on =\"TUCASEID\").filter([\"TUCASEID\",\"TUACTDUR24\",\"TUFNWGTP\"])\n",
    "travel_2011_emp_merged[\"Mutiplied Weighted\"] = travel_2011_emp_merged[\"TUACTDUR24\"] * travel_2011_emp_merged[\"TUFNWGTP\"]"
   ]
  },
  {
   "cell_type": "code",
   "execution_count": 613,
   "metadata": {},
   "outputs": [
    {
     "data": {
      "text/plain": [
       "4023222019932.2524"
      ]
     },
     "execution_count": 613,
     "metadata": {},
     "output_type": "execute_result"
    }
   ],
   "source": [
    "travel_2011_emp_weight = travel_2011_emp_merged[\"Mutiplied Weighted\"].sum()\n",
    "travel_2011_emp_weight"
   ]
  },
  {
   "cell_type": "code",
   "execution_count": 614,
   "metadata": {},
   "outputs": [
    {
     "data": {
      "text/plain": [
       "1.2297622230163028"
      ]
     },
     "execution_count": 614,
     "metadata": {},
     "output_type": "execute_result"
    }
   ],
   "source": [
    "travel_2011_emp_avg_hpd = travel_2011_emp_weight / all_2011_emp_weight /60\n",
    "travel_2011_emp_avg_hpd"
   ]
  },
  {
   "cell_type": "markdown",
   "metadata": {},
   "source": [
    "### 2012 All Travel"
   ]
  },
  {
   "cell_type": "code",
   "execution_count": 615,
   "metadata": {},
   "outputs": [],
   "source": [
    "travel_2012_emp = atus_2012_travel_emp.groupby([\"TUCASEID\"]).sum().filter([\"TUCASEID\", \"TUACTDUR24\"])\n",
    "travel_2012_emp_merged = pd.merge(travel_2012_emp, multi_resp, on =\"TUCASEID\").filter([\"TUCASEID\",\"TUACTDUR24\",\"TUFNWGTP\"])\n",
    "travel_2012_emp_merged[\"Mutiplied Weighted\"] = travel_2012_emp_merged[\"TUACTDUR24\"] * travel_2012_emp_merged[\"TUFNWGTP\"]"
   ]
  },
  {
   "cell_type": "code",
   "execution_count": 616,
   "metadata": {},
   "outputs": [
    {
     "data": {
      "text/plain": [
       "4092251747960.9863"
      ]
     },
     "execution_count": 616,
     "metadata": {},
     "output_type": "execute_result"
    }
   ],
   "source": [
    "travel_2012_emp_weight = travel_2012_emp_merged[\"Mutiplied Weighted\"].sum()\n",
    "travel_2012_emp_weight"
   ]
  },
  {
   "cell_type": "code",
   "execution_count": 617,
   "metadata": {},
   "outputs": [
    {
     "data": {
      "text/plain": [
       "1.2351132854582452"
      ]
     },
     "execution_count": 617,
     "metadata": {},
     "output_type": "execute_result"
    }
   ],
   "source": [
    "travel_2012_emp_avg_hpd = travel_2012_emp_weight / all_2012_emp_weight /60\n",
    "travel_2012_emp_avg_hpd"
   ]
  },
  {
   "cell_type": "markdown",
   "metadata": {},
   "source": [
    "### 2013 All Travel"
   ]
  },
  {
   "cell_type": "code",
   "execution_count": 618,
   "metadata": {},
   "outputs": [],
   "source": [
    "travel_2013_emp = atus_2013_travel_emp.groupby([\"TUCASEID\"]).sum().filter([\"TUCASEID\", \"TUACTDUR24\"])\n",
    "travel_2013_emp_merged = pd.merge(travel_2013_emp, multi_resp, on =\"TUCASEID\").filter([\"TUCASEID\",\"TUACTDUR24\",\"TUFNWGTP\"])\n",
    "travel_2013_emp_merged[\"Mutiplied Weighted\"] = travel_2013_emp_merged[\"TUACTDUR24\"] * travel_2013_emp_merged[\"TUFNWGTP\"]"
   ]
  },
  {
   "cell_type": "code",
   "execution_count": 619,
   "metadata": {},
   "outputs": [
    {
     "data": {
      "text/plain": [
       "4077829445772.0977"
      ]
     },
     "execution_count": 619,
     "metadata": {},
     "output_type": "execute_result"
    }
   ],
   "source": [
    "travel_2013_emp_weight = travel_2013_emp_merged[\"Mutiplied Weighted\"].sum()\n",
    "travel_2013_emp_weight"
   ]
  },
  {
   "cell_type": "code",
   "execution_count": 620,
   "metadata": {},
   "outputs": [
    {
     "data": {
      "text/plain": [
       "1.2277168880042153"
      ]
     },
     "execution_count": 620,
     "metadata": {},
     "output_type": "execute_result"
    }
   ],
   "source": [
    "travel_2013_emp_avg_hpd = travel_2013_emp_weight / all_2013_emp_weight /60\n",
    "travel_2013_emp_avg_hpd"
   ]
  },
  {
   "cell_type": "markdown",
   "metadata": {},
   "source": [
    "### 2014 All Travel"
   ]
  },
  {
   "cell_type": "code",
   "execution_count": 621,
   "metadata": {},
   "outputs": [],
   "source": [
    "travel_2014_emp = atus_2014_travel_emp.groupby([\"TUCASEID\"]).sum().filter([\"TUCASEID\", \"TUACTDUR24\"])\n",
    "travel_2014_emp_merged = pd.merge(travel_2014_emp, multi_resp, on =\"TUCASEID\").filter([\"TUCASEID\",\"TUACTDUR24\",\"TUFNWGTP\"])\n",
    "travel_2014_emp_merged[\"Mutiplied Weighted\"] = travel_2014_emp_merged[\"TUACTDUR24\"] * travel_2014_emp_merged[\"TUFNWGTP\"]"
   ]
  },
  {
   "cell_type": "code",
   "execution_count": 622,
   "metadata": {},
   "outputs": [
    {
     "data": {
      "text/plain": [
       "3933154940774.0586"
      ]
     },
     "execution_count": 622,
     "metadata": {},
     "output_type": "execute_result"
    }
   ],
   "source": [
    "travel_2014_emp_weight = travel_2014_emp_merged[\"Mutiplied Weighted\"].sum()\n",
    "travel_2014_emp_weight"
   ]
  },
  {
   "cell_type": "code",
   "execution_count": 623,
   "metadata": {},
   "outputs": [
    {
     "data": {
      "text/plain": [
       "1.1686276783560123"
      ]
     },
     "execution_count": 623,
     "metadata": {},
     "output_type": "execute_result"
    }
   ],
   "source": [
    "travel_2014_emp_avg_hpd = travel_2014_emp_weight / all_2014_emp_weight /60\n",
    "travel_2014_emp_avg_hpd"
   ]
  },
  {
   "cell_type": "markdown",
   "metadata": {},
   "source": [
    "### 2015 All Travel"
   ]
  },
  {
   "cell_type": "code",
   "execution_count": 624,
   "metadata": {},
   "outputs": [],
   "source": [
    "travel_2015_emp = atus_2015_travel_emp.groupby([\"TUCASEID\"]).sum().filter([\"TUCASEID\", \"TUACTDUR24\"])\n",
    "travel_2015_emp_merged = pd.merge(travel_2015_emp, multi_resp, on =\"TUCASEID\").filter([\"TUCASEID\",\"TUACTDUR24\",\"TUFNWGTP\"])\n",
    "travel_2015_emp_merged[\"Mutiplied Weighted\"] = travel_2015_emp_merged[\"TUACTDUR24\"] * travel_2015_emp_merged[\"TUFNWGTP\"]"
   ]
  },
  {
   "cell_type": "code",
   "execution_count": 625,
   "metadata": {},
   "outputs": [
    {
     "data": {
      "text/plain": [
       "4155892803994.1514"
      ]
     },
     "execution_count": 625,
     "metadata": {},
     "output_type": "execute_result"
    }
   ],
   "source": [
    "travel_2015_emp_weight = travel_2015_emp_merged[\"Mutiplied Weighted\"].sum()\n",
    "travel_2015_emp_weight"
   ]
  },
  {
   "cell_type": "code",
   "execution_count": 626,
   "metadata": {},
   "outputs": [
    {
     "data": {
      "text/plain": [
       "1.2097289994704192"
      ]
     },
     "execution_count": 626,
     "metadata": {},
     "output_type": "execute_result"
    }
   ],
   "source": [
    "travel_2015_emp_avg_hpd = travel_2015_emp_weight / all_2015_emp_weight /60\n",
    "travel_2015_emp_avg_hpd"
   ]
  },
  {
   "cell_type": "markdown",
   "metadata": {},
   "source": [
    "### 2016 All Travel"
   ]
  },
  {
   "cell_type": "code",
   "execution_count": 627,
   "metadata": {},
   "outputs": [],
   "source": [
    "travel_2016_emp = atus_2016_travel_emp.groupby([\"TUCASEID\"]).sum().filter([\"TUCASEID\", \"TUACTDUR24\"])\n",
    "travel_2016_emp_merged = pd.merge(travel_2016_emp, multi_resp, on =\"TUCASEID\").filter([\"TUCASEID\",\"TUACTDUR24\",\"TUFNWGTP\"])\n",
    "travel_2016_emp_merged[\"Mutiplied Weighted\"] = travel_2016_emp_merged[\"TUACTDUR24\"] * travel_2016_emp_merged[\"TUFNWGTP\"]"
   ]
  },
  {
   "cell_type": "code",
   "execution_count": 628,
   "metadata": {},
   "outputs": [
    {
     "data": {
      "text/plain": [
       "4437823828695.921"
      ]
     },
     "execution_count": 628,
     "metadata": {},
     "output_type": "execute_result"
    }
   ],
   "source": [
    "travel_2016_emp_weight = travel_2016_emp_merged[\"Mutiplied Weighted\"].sum()\n",
    "travel_2016_emp_weight"
   ]
  },
  {
   "cell_type": "code",
   "execution_count": 629,
   "metadata": {},
   "outputs": [
    {
     "data": {
      "text/plain": [
       "1.24924553206674"
      ]
     },
     "execution_count": 629,
     "metadata": {},
     "output_type": "execute_result"
    }
   ],
   "source": [
    "travel_2016_emp_avg_hpd = travel_2016_emp_weight / all_2016_emp_weight /60\n",
    "travel_2016_emp_avg_hpd"
   ]
  },
  {
   "cell_type": "markdown",
   "metadata": {},
   "source": [
    "### 2017 All Travel"
   ]
  },
  {
   "cell_type": "code",
   "execution_count": 630,
   "metadata": {},
   "outputs": [],
   "source": [
    "travel_2017_emp = atus_2017_travel_emp.groupby([\"TUCASEID\"]).sum().filter([\"TUCASEID\", \"TUACTDUR24\"])\n",
    "travel_2017_emp_merged = pd.merge(travel_2017_emp, multi_resp, on =\"TUCASEID\").filter([\"TUCASEID\",\"TUACTDUR24\",\"TUFNWGTP\"])\n",
    "travel_2017_emp_merged[\"Mutiplied Weighted\"] = travel_2017_emp_merged[\"TUACTDUR24\"] * travel_2017_emp_merged[\"TUFNWGTP\"]"
   ]
  },
  {
   "cell_type": "code",
   "execution_count": 631,
   "metadata": {},
   "outputs": [
    {
     "data": {
      "text/plain": [
       "4444140572101.519"
      ]
     },
     "execution_count": 631,
     "metadata": {},
     "output_type": "execute_result"
    }
   ],
   "source": [
    "travel_2017_emp_weight = travel_2017_emp_merged[\"Mutiplied Weighted\"].sum()\n",
    "travel_2017_emp_weight"
   ]
  },
  {
   "cell_type": "code",
   "execution_count": 632,
   "metadata": {},
   "outputs": [
    {
     "data": {
      "text/plain": [
       "1.255352567956855"
      ]
     },
     "execution_count": 632,
     "metadata": {},
     "output_type": "execute_result"
    }
   ],
   "source": [
    "travel_2017_emp_avg_hpd = travel_2017_emp_weight / all_2017_emp_weight /60\n",
    "travel_2017_emp_avg_hpd"
   ]
  },
  {
   "cell_type": "markdown",
   "metadata": {},
   "source": [
    "### 2018 All Travel"
   ]
  },
  {
   "cell_type": "code",
   "execution_count": 633,
   "metadata": {},
   "outputs": [],
   "source": [
    "travel_2018_emp = atus_2018_travel_emp.groupby([\"TUCASEID\"]).sum().filter([\"TUCASEID\", \"TUACTDUR24\"])\n",
    "travel_2018_emp_merged = pd.merge(travel_2018_emp, multi_resp, on =\"TUCASEID\").filter([\"TUCASEID\",\"TUACTDUR24\",\"TUFNWGTP\"])\n",
    "travel_2018_emp_merged[\"Mutiplied Weighted\"] = travel_2018_emp_merged[\"TUACTDUR24\"] * travel_2018_emp_merged[\"TUFNWGTP\"]"
   ]
  },
  {
   "cell_type": "code",
   "execution_count": 634,
   "metadata": {},
   "outputs": [
    {
     "data": {
      "text/plain": [
       "4460007201102.445"
      ]
     },
     "execution_count": 634,
     "metadata": {},
     "output_type": "execute_result"
    }
   ],
   "source": [
    "travel_2018_emp_weight = travel_2018_emp_merged[\"Mutiplied Weighted\"].sum()\n",
    "travel_2018_emp_weight"
   ]
  },
  {
   "cell_type": "code",
   "execution_count": 635,
   "metadata": {},
   "outputs": [
    {
     "data": {
      "text/plain": [
       "1.2322508110247155"
      ]
     },
     "execution_count": 635,
     "metadata": {},
     "output_type": "execute_result"
    }
   ],
   "source": [
    "travel_2018_emp_avg_hpd = travel_2018_emp_weight / all_2018_emp_weight /60\n",
    "travel_2018_emp_avg_hpd"
   ]
  },
  {
   "cell_type": "markdown",
   "metadata": {},
   "source": [
    "### 2019 All Travel"
   ]
  },
  {
   "cell_type": "code",
   "execution_count": 636,
   "metadata": {},
   "outputs": [],
   "source": [
    "travel_2019_emp = atus_2019_travel_emp.groupby([\"TUCASEID\"]).sum().filter([\"TUCASEID\", \"TUACTDUR24\"])\n",
    "travel_2019_emp_merged = pd.merge(travel_2019_emp, multi_resp, on =\"TUCASEID\").filter([\"TUCASEID\",\"TUACTDUR24\",\"TUFNWGTP\"])\n",
    "travel_2019_emp_merged[\"Mutiplied Weighted\"] = travel_2019_emp_merged[\"TUACTDUR24\"] * travel_2019_emp_merged[\"TUFNWGTP\"]"
   ]
  },
  {
   "cell_type": "code",
   "execution_count": 637,
   "metadata": {},
   "outputs": [
    {
     "data": {
      "text/plain": [
       "4606182762395.939"
      ]
     },
     "execution_count": 637,
     "metadata": {},
     "output_type": "execute_result"
    }
   ],
   "source": [
    "travel_2019_emp_weight = travel_2019_emp_merged[\"Mutiplied Weighted\"].sum()\n",
    "travel_2019_emp_weight"
   ]
  },
  {
   "cell_type": "code",
   "execution_count": 638,
   "metadata": {},
   "outputs": [
    {
     "data": {
      "text/plain": [
       "1.2647341670716201"
      ]
     },
     "execution_count": 638,
     "metadata": {},
     "output_type": "execute_result"
    }
   ],
   "source": [
    "travel_2019_emp_avg_hpd = travel_2019_emp_weight / all_2019_emp_weight /60\n",
    "travel_2019_emp_avg_hpd"
   ]
  },
  {
   "cell_type": "markdown",
   "metadata": {},
   "source": [
    "### All Travel Regression"
   ]
  },
  {
   "cell_type": "code",
   "execution_count": 639,
   "metadata": {},
   "outputs": [],
   "source": [
    "year = np.array([2003, 2004, 2005, 2006, 2007, 2008, 2009, 2010,2011,2012]).reshape((-1, 1))\n",
    "activity_hours_per_day = np.array([travel_2003_emp_avg_hpd, travel_2004_emp_avg_hpd, travel_2005_emp_avg_hpd, travel_2006_emp_avg_hpd,\n",
    "                                   travel_2007_emp_avg_hpd, travel_2008_emp_avg_hpd, travel_2009_emp_avg_hpd, travel_2010_emp_avg_hpd,\n",
    "                                   travel_2011_emp_avg_hpd, travel_2012_emp_avg_hpd]).reshape((-1, 1))\n",
    "                                  \n",
    "activity_hours_per_yr = [i * 365 for i in activity_hours_per_day]\n",
    "#activity_hours_per_yr"
   ]
  },
  {
   "cell_type": "code",
   "execution_count": 640,
   "metadata": {},
   "outputs": [
    {
     "data": {
      "image/png": "[encoded data removed]",
      "text/plain": [
       "<Figure size 432x288 with 1 Axes>"
      ]
     },
     "metadata": {
      "needs_background": "light"
     },
     "output_type": "display_data"
    }
   ],
   "source": [
    "x = year\n",
    "y = activity_hours_per_yr\n",
    "x, y = np.array(x), np.array(y)\n",
    "\n",
    "model = LinearRegression().fit(x, y)\n",
    "\n",
    "y_pred = model.predict(x)  \n",
    "\n",
    "plt.scatter(x, y)\n",
    "plt.plot(x, y_pred, color='red')\n",
    "plt.show()"
   ]
  },
  {
   "cell_type": "code",
   "execution_count": 641,
   "metadata": {},
   "outputs": [
    {
     "data": {
      "text/plain": [
       "0.2840816667147814"
      ]
     },
     "execution_count": 641,
     "metadata": {},
     "output_type": "execute_result"
    }
   ],
   "source": [
    "coefficient_of_determination = model.score(x,y) #R sqaure value \n",
    "coefficient_of_determination"
   ]
  },
  {
   "cell_type": "code",
   "execution_count": 642,
   "metadata": {},
   "outputs": [
    {
     "data": {
      "text/plain": [
       "array([[-1.93023847]])"
      ]
     },
     "execution_count": 642,
     "metadata": {},
     "output_type": "execute_result"
    }
   ],
   "source": [
    "all_travel_emp_2003_2012_slope = model.coef_\n",
    "all_travel_emp_2003_2012_slope"
   ]
  },
  {
   "cell_type": "markdown",
   "metadata": {},
   "source": [
    "#### 2003-2019 Regression"
   ]
  },
  {
   "cell_type": "code",
   "execution_count": 643,
   "metadata": {},
   "outputs": [],
   "source": [
    "year = np.array([2003, 2004, 2005, 2006, 2007, 2008, 2009, 2010,2011,2012,2013,2014,2015,2016,2017,2018,2019]).reshape((-1, 1))\n",
    "activity_hours_per_day = np.array([travel_2003_emp_avg_hpd, travel_2004_emp_avg_hpd, travel_2005_emp_avg_hpd, travel_2006_emp_avg_hpd,\n",
    "                                   travel_2007_emp_avg_hpd, travel_2008_emp_avg_hpd, travel_2009_emp_avg_hpd, travel_2010_emp_avg_hpd,\n",
    "                                   travel_2011_emp_avg_hpd, travel_2012_emp_avg_hpd, travel_2013_emp_avg_hpd, travel_2014_emp_avg_hpd,\n",
    "                                   travel_2015_emp_avg_hpd, travel_2016_emp_avg_hpd, travel_2017_emp_avg_hpd, travel_2018_emp_avg_hpd,\n",
    "                                   travel_2019_emp_avg_hpd]).reshape((-1, 1))\n",
    "                                                             \n",
    "activity_hours_per_yr = [i * 365 for i in activity_hours_per_day]\n",
    "#activity_hours_per_yr"
   ]
  },
  {
   "cell_type": "code",
   "execution_count": 644,
   "metadata": {},
   "outputs": [
    {
     "data": {
      "image/png": "[encoded data removed]",
      "text/plain": [
       "<Figure size 432x288 with 1 Axes>"
      ]
     },
     "metadata": {
      "needs_background": "light"
     },
     "output_type": "display_data"
    }
   ],
   "source": [
    "x = year\n",
    "y = activity_hours_per_yr\n",
    "x, y = np.array(x), np.array(y)\n",
    "\n",
    "model = LinearRegression().fit(x, y)\n",
    "\n",
    "y_pred = model.predict(x)  \n",
    "\n",
    "plt.scatter(x, y)\n",
    "plt.plot(x, y_pred, color='red')\n",
    "plt.show()"
   ]
  },
  {
   "cell_type": "code",
   "execution_count": 645,
   "metadata": {},
   "outputs": [
    {
     "data": {
      "text/plain": [
       "0.06603839955597113"
      ]
     },
     "execution_count": 645,
     "metadata": {},
     "output_type": "execute_result"
    }
   ],
   "source": [
    "coefficient_of_determination = model.score(x,y) #R sqaure value \n",
    "coefficient_of_determination"
   ]
  },
  {
   "cell_type": "code",
   "execution_count": 646,
   "metadata": {},
   "outputs": [
    {
     "data": {
      "text/plain": [
       "array([[-0.57508151]])"
      ]
     },
     "execution_count": 646,
     "metadata": {},
     "output_type": "execute_result"
    }
   ],
   "source": [
    "all_travel_emp_2003_2019_slope = model.coef_\n",
    "all_travel_emp_2003_2019_slope"
   ]
  },
  {
   "cell_type": "markdown",
   "metadata": {},
   "source": [
    "## Employed Population "
   ]
  },
  {
   "cell_type": "markdown",
   "metadata": {},
   "source": [
    "### Residential Location for Employed Population for all Activities"
   ]
  },
  {
   "cell_type": "code",
   "execution_count": 647,
   "metadata": {},
   "outputs": [],
   "source": [
    "#multi_merged_employed"
   ]
  },
  {
   "cell_type": "code",
   "execution_count": 648,
   "metadata": {},
   "outputs": [],
   "source": [
    "residenial = [-1,1,3]\n",
    "atus_multi_res_emp = multi_merged_employed[multi_merged_employed[\"TEWHERE\"].isin(residenial)]\n",
    "#atus_multi_res_emp"
   ]
  },
  {
   "cell_type": "code",
   "execution_count": 649,
   "metadata": {},
   "outputs": [],
   "source": [
    "atus_2003_all_res_emp = atus_multi_res_emp[atus_multi_res_emp[\"TUCASEID\"].apply(str).str.startswith(\"2003\")]\n",
    "atus_2004_all_res_emp = atus_multi_res_emp[atus_multi_res_emp[\"TUCASEID\"].apply(str).str.startswith(\"2004\")]\n",
    "atus_2005_all_res_emp = atus_multi_res_emp[atus_multi_res_emp[\"TUCASEID\"].apply(str).str.startswith(\"2005\")]\n",
    "atus_2006_all_res_emp = atus_multi_res_emp[atus_multi_res_emp[\"TUCASEID\"].apply(str).str.startswith(\"2006\")]\n",
    "atus_2007_all_res_emp = atus_multi_res_emp[atus_multi_res_emp[\"TUCASEID\"].apply(str).str.startswith(\"2007\")]\n",
    "atus_2008_all_res_emp = atus_multi_res_emp[atus_multi_res_emp[\"TUCASEID\"].apply(str).str.startswith(\"2008\")]\n",
    "atus_2009_all_res_emp = atus_multi_res_emp[atus_multi_res_emp[\"TUCASEID\"].apply(str).str.startswith(\"2009\")]\n",
    "atus_2010_all_res_emp = atus_multi_res_emp[atus_multi_res_emp[\"TUCASEID\"].apply(str).str.startswith(\"2010\")]\n",
    "atus_2011_all_res_emp = atus_multi_res_emp[atus_multi_res_emp[\"TUCASEID\"].apply(str).str.startswith(\"2011\")]\n",
    "atus_2012_all_res_emp = atus_multi_res_emp[atus_multi_res_emp[\"TUCASEID\"].apply(str).str.startswith(\"2012\")]\n",
    "atus_2013_all_res_emp = atus_multi_res_emp[atus_multi_res_emp[\"TUCASEID\"].apply(str).str.startswith(\"2013\")]\n",
    "atus_2014_all_res_emp = atus_multi_res_emp[atus_multi_res_emp[\"TUCASEID\"].apply(str).str.startswith(\"2014\")]\n",
    "atus_2015_all_res_emp = atus_multi_res_emp[atus_multi_res_emp[\"TUCASEID\"].apply(str).str.startswith(\"2015\")]\n",
    "atus_2016_all_res_emp = atus_multi_res_emp[atus_multi_res_emp[\"TUCASEID\"].apply(str).str.startswith(\"2016\")]\n",
    "atus_2017_all_res_emp = atus_multi_res_emp[atus_multi_res_emp[\"TUCASEID\"].apply(str).str.startswith(\"2017\")]\n",
    "atus_2018_all_res_emp = atus_multi_res_emp[atus_multi_res_emp[\"TUCASEID\"].apply(str).str.startswith(\"2018\")]\n",
    "atus_2019_all_res_emp = atus_multi_res_emp[atus_multi_res_emp[\"TUCASEID\"].apply(str).str.startswith(\"2019\")]"
   ]
  },
  {
   "cell_type": "markdown",
   "metadata": {},
   "source": [
    "### 2003 All Residential Activities- Employed¶"
   ]
  },
  {
   "cell_type": "code",
   "execution_count": 650,
   "metadata": {},
   "outputs": [],
   "source": [
    "atus_2003_all_res_emp = atus_2003_all_res_emp.groupby([\"TUCASEID\"]).sum().filter([\"TUCASEID\", \"TUACTDUR24\"])\n",
    "#atus_2003_all_res_emp                                                                         "
   ]
  },
  {
   "cell_type": "code",
   "execution_count": 651,
   "metadata": {},
   "outputs": [],
   "source": [
    "atus_2003_all_res_emp_merge = pd.merge(atus_2003_all_res_emp, multi_resp, on= \"TUCASEID\").filter([\"TUCASEID\",\"TUACTDUR24\",\"TUFNWGTP\"])\n",
    "#atus_2003_all_res_emp_merge"
   ]
  },
  {
   "cell_type": "code",
   "execution_count": 652,
   "metadata": {
    "scrolled": true
   },
   "outputs": [],
   "source": [
    "atus_2003_all_res_emp_merge[\"Multiplied Weight\"] = atus_2003_all_res_emp_merge[\"TUACTDUR24\"] * atus_2003_all_res_emp_merge[\"TUFNWGTP\"]\n",
    "#atus_2003_all_res_emp_merge"
   ]
  },
  {
   "cell_type": "code",
   "execution_count": 653,
   "metadata": {},
   "outputs": [
    {
     "data": {
      "text/plain": [
       "49942198160284.39"
      ]
     },
     "execution_count": 653,
     "metadata": {},
     "output_type": "execute_result"
    }
   ],
   "source": [
    "atus_2003_all_res_emp_multiplied_weight = atus_2003_all_res_emp_merge[\"Multiplied Weight\"].sum()\n",
    "atus_2003_all_res_emp_multiplied_weight"
   ]
  },
  {
   "cell_type": "code",
   "execution_count": 654,
   "metadata": {},
   "outputs": [
    {
     "data": {
      "text/plain": [
       "15.649821287615964"
      ]
     },
     "execution_count": 654,
     "metadata": {},
     "output_type": "execute_result"
    }
   ],
   "source": [
    "atus_2003_all_res_emp_hdp = atus_2003_all_res_emp_multiplied_weight / all_2003_emp_weight / 60 \n",
    "atus_2003_all_res_emp_hdp"
   ]
  },
  {
   "cell_type": "markdown",
   "metadata": {},
   "source": [
    "### 2004 All Residential Activities- Employed"
   ]
  },
  {
   "cell_type": "code",
   "execution_count": 655,
   "metadata": {},
   "outputs": [],
   "source": [
    "atus_2004_all_res_emp = atus_2004_all_res_emp.groupby([\"TUCASEID\"]).sum().filter([\"TUCASEID\", \"TUACTDUR24\"])\n",
    "atus_2004_all_res_emp_merge = pd.merge(atus_2004_all_res_emp, multi_resp, on= \"TUCASEID\").filter([\"TUCASEID\",\"TUACTDUR24\",\"TUFNWGTP\"])\n",
    "atus_2004_all_res_emp_merge[\"Multiplied Weight\"] = atus_2004_all_res_emp_merge[\"TUACTDUR24\"] * atus_2004_all_res_emp_merge[\"TUFNWGTP\"]\n",
    "#atus_2004_all_res_emp_merge                                                         "
   ]
  },
  {
   "cell_type": "code",
   "execution_count": 656,
   "metadata": {},
   "outputs": [
    {
     "data": {
      "text/plain": [
       "15.641641276921264"
      ]
     },
     "execution_count": 656,
     "metadata": {},
     "output_type": "execute_result"
    }
   ],
   "source": [
    "atus_2004_all_res_emp_multiplied_weight = atus_2004_all_res_emp_merge[\"Multiplied Weight\"].sum()\n",
    "atus_2004_all_res_emp_hdp = atus_2004_all_res_emp_multiplied_weight / all_2004_emp_weight / 60 \n",
    "atus_2004_all_res_emp_hdp"
   ]
  },
  {
   "cell_type": "markdown",
   "metadata": {},
   "source": [
    "### 2005 All Residential Activities- Employed"
   ]
  },
  {
   "cell_type": "code",
   "execution_count": 657,
   "metadata": {
    "scrolled": true
   },
   "outputs": [],
   "source": [
    "atus_2005_all_res_emp = atus_2005_all_res_emp.groupby([\"TUCASEID\"]).sum().filter([\"TUCASEID\", \"TUACTDUR24\"])\n",
    "atus_2005_all_res_emp_merge = pd.merge(atus_2005_all_res_emp, multi_resp, on= \"TUCASEID\").filter([\"TUCASEID\",\"TUACTDUR24\",\"TUFNWGTP\"])\n",
    "atus_2005_all_res_emp_merge[\"Multiplied Weight\"] = atus_2005_all_res_emp_merge[\"TUACTDUR24\"] * atus_2005_all_res_emp_merge[\"TUFNWGTP\"]\n",
    "#atus_2005_all_res_emp_merge     "
   ]
  },
  {
   "cell_type": "code",
   "execution_count": 658,
   "metadata": {},
   "outputs": [
    {
     "data": {
      "text/plain": [
       "15.762196371062803"
      ]
     },
     "execution_count": 658,
     "metadata": {},
     "output_type": "execute_result"
    }
   ],
   "source": [
    "atus_2005_all_res_emp_multiplied_weight = atus_2005_all_res_emp_merge[\"Multiplied Weight\"].sum()\n",
    "atus_2005_all_res_emp_hdp = atus_2005_all_res_emp_multiplied_weight / all_2005_emp_weight / 60 \n",
    "atus_2005_all_res_emp_hdp"
   ]
  },
  {
   "cell_type": "markdown",
   "metadata": {},
   "source": [
    "### 2006 All Residential Activities- Employed"
   ]
  },
  {
   "cell_type": "code",
   "execution_count": 659,
   "metadata": {},
   "outputs": [],
   "source": [
    "atus_2006_all_res_emp = atus_2006_all_res_emp.groupby([\"TUCASEID\"]).sum().filter([\"TUCASEID\", \"TUACTDUR24\"])\n",
    "atus_2006_all_res_emp_merge = pd.merge(atus_2006_all_res_emp, multi_resp, on= \"TUCASEID\").filter([\"TUCASEID\",\"TUACTDUR24\",\"TUFNWGTP\"])\n",
    "atus_2006_all_res_emp_merge[\"Multiplied Weight\"] = atus_2006_all_res_emp_merge[\"TUACTDUR24\"] * atus_2006_all_res_emp_merge[\"TUFNWGTP\"]\n",
    "#atus_2006_all_res_emp_merge  "
   ]
  },
  {
   "cell_type": "code",
   "execution_count": 660,
   "metadata": {},
   "outputs": [
    {
     "data": {
      "text/plain": [
       "15.587197063325505"
      ]
     },
     "execution_count": 660,
     "metadata": {},
     "output_type": "execute_result"
    }
   ],
   "source": [
    "atus_2006_all_res_emp_multiplied_weight = atus_2006_all_res_emp_merge[\"Multiplied Weight\"].sum()\n",
    "atus_2006_all_res_emp_hdp = atus_2006_all_res_emp_multiplied_weight / all_2006_emp_weight / 60 \n",
    "atus_2006_all_res_emp_hdp"
   ]
  },
  {
   "cell_type": "markdown",
   "metadata": {},
   "source": [
    "### 2007 All Residential Activities- Employed"
   ]
  },
  {
   "cell_type": "code",
   "execution_count": 661,
   "metadata": {},
   "outputs": [],
   "source": [
    "atus_2007_all_res_emp = atus_2007_all_res_emp.groupby([\"TUCASEID\"]).sum().filter([\"TUCASEID\", \"TUACTDUR24\"])\n",
    "atus_2007_all_res_emp_merge = pd.merge(atus_2007_all_res_emp, multi_resp, on= \"TUCASEID\").filter([\"TUCASEID\",\"TUACTDUR24\",\"TUFNWGTP\"])\n",
    "atus_2007_all_res_emp_merge[\"Multiplied Weight\"] = atus_2007_all_res_emp_merge[\"TUACTDUR24\"] * atus_2007_all_res_emp_merge[\"TUFNWGTP\"]\n",
    "#atus_2007_all_res_emp_merge"
   ]
  },
  {
   "cell_type": "code",
   "execution_count": 662,
   "metadata": {},
   "outputs": [
    {
     "data": {
      "text/plain": [
       "15.673922525003073"
      ]
     },
     "execution_count": 662,
     "metadata": {},
     "output_type": "execute_result"
    }
   ],
   "source": [
    "atus_2007_all_res_emp_multiplied_weight = atus_2007_all_res_emp_merge[\"Multiplied Weight\"].sum()\n",
    "atus_2007_all_res_emp_hdp = atus_2007_all_res_emp_multiplied_weight / all_2007_emp_weight / 60 \n",
    "atus_2007_all_res_emp_hdp"
   ]
  },
  {
   "cell_type": "markdown",
   "metadata": {},
   "source": [
    "### 2008 All Residential Activities- Employed"
   ]
  },
  {
   "cell_type": "code",
   "execution_count": 663,
   "metadata": {},
   "outputs": [],
   "source": [
    "atus_2008_all_res_emp = atus_2008_all_res_emp.groupby([\"TUCASEID\"]).sum().filter([\"TUCASEID\", \"TUACTDUR24\"])\n",
    "atus_2008_all_res_emp_merge = pd.merge(atus_2008_all_res_emp, multi_resp, on= \"TUCASEID\").filter([\"TUCASEID\",\"TUACTDUR24\",\"TUFNWGTP\"])\n",
    "atus_2008_all_res_emp_merge[\"Multiplied Weight\"] = atus_2008_all_res_emp_merge[\"TUACTDUR24\"] * atus_2008_all_res_emp_merge[\"TUFNWGTP\"]\n",
    "#atus_2008_all_res_emp_merge"
   ]
  },
  {
   "cell_type": "code",
   "execution_count": 664,
   "metadata": {},
   "outputs": [
    {
     "data": {
      "text/plain": [
       "15.851603139249415"
      ]
     },
     "execution_count": 664,
     "metadata": {},
     "output_type": "execute_result"
    }
   ],
   "source": [
    "atus_2008_all_res_emp_multiplied_weight = atus_2008_all_res_emp_merge[\"Multiplied Weight\"].sum()\n",
    "atus_2008_all_res_emp_hdp = atus_2008_all_res_emp_multiplied_weight / all_2008_emp_weight / 60 \n",
    "atus_2008_all_res_emp_hdp"
   ]
  },
  {
   "cell_type": "markdown",
   "metadata": {},
   "source": [
    "### 2009 All Residential Activities- Employed"
   ]
  },
  {
   "cell_type": "code",
   "execution_count": 665,
   "metadata": {},
   "outputs": [],
   "source": [
    "atus_2009_all_res_emp = atus_2009_all_res_emp.groupby([\"TUCASEID\"]).sum().filter([\"TUCASEID\", \"TUACTDUR24\"])\n",
    "atus_2009_all_res_emp_merge = pd.merge(atus_2009_all_res_emp, multi_resp, on= \"TUCASEID\").filter([\"TUCASEID\",\"TUACTDUR24\",\"TUFNWGTP\"])\n",
    "atus_2009_all_res_emp_merge[\"Multiplied Weight\"] = atus_2009_all_res_emp_merge[\"TUACTDUR24\"] * atus_2009_all_res_emp_merge[\"TUFNWGTP\"]\n",
    "#atus_2009_all_res_emp_merge"
   ]
  },
  {
   "cell_type": "code",
   "execution_count": 666,
   "metadata": {},
   "outputs": [
    {
     "data": {
      "text/plain": [
       "15.97076000084869"
      ]
     },
     "execution_count": 666,
     "metadata": {},
     "output_type": "execute_result"
    }
   ],
   "source": [
    "atus_2009_all_res_emp_multiplied_weight = atus_2009_all_res_emp_merge[\"Multiplied Weight\"].sum()\n",
    "atus_2009_all_res_emp_hdp = atus_2009_all_res_emp_multiplied_weight / all_2009_emp_weight / 60 \n",
    "atus_2009_all_res_emp_hdp"
   ]
  },
  {
   "cell_type": "markdown",
   "metadata": {},
   "source": [
    "### 2010 All Residential Activities- Employed"
   ]
  },
  {
   "cell_type": "code",
   "execution_count": 667,
   "metadata": {},
   "outputs": [],
   "source": [
    "atus_2010_all_res_emp = atus_2010_all_res_emp.groupby([\"TUCASEID\"]).sum().filter([\"TUCASEID\", \"TUACTDUR24\"])\n",
    "atus_2010_all_res_emp_merge = pd.merge(atus_2010_all_res_emp, multi_resp, on= \"TUCASEID\").filter([\"TUCASEID\",\"TUACTDUR24\",\"TUFNWGTP\"])\n",
    "atus_2010_all_res_emp_merge[\"Multiplied Weight\"] = atus_2010_all_res_emp_merge[\"TUACTDUR24\"] * atus_2010_all_res_emp_merge[\"TUFNWGTP\"]\n",
    "#atus_2010_all_res_emp_merge"
   ]
  },
  {
   "cell_type": "code",
   "execution_count": 668,
   "metadata": {},
   "outputs": [
    {
     "data": {
      "text/plain": [
       "15.895993031159824"
      ]
     },
     "execution_count": 668,
     "metadata": {},
     "output_type": "execute_result"
    }
   ],
   "source": [
    "atus_2010_all_res_emp_multiplied_weight = atus_2010_all_res_emp_merge[\"Multiplied Weight\"].sum()\n",
    "atus_2010_all_res_emp_hdp = atus_2010_all_res_emp_multiplied_weight / all_2010_emp_weight / 60 \n",
    "atus_2010_all_res_emp_hdp"
   ]
  },
  {
   "cell_type": "markdown",
   "metadata": {},
   "source": [
    "### 2011 All Residential Activities- Employed"
   ]
  },
  {
   "cell_type": "code",
   "execution_count": 669,
   "metadata": {},
   "outputs": [],
   "source": [
    "atus_2011_all_res_emp = atus_2011_all_res_emp.groupby([\"TUCASEID\"]).sum().filter([\"TUCASEID\", \"TUACTDUR24\"])\n",
    "atus_2011_all_res_emp_merge = pd.merge(atus_2011_all_res_emp, multi_resp, on= \"TUCASEID\").filter([\"TUCASEID\",\"TUACTDUR24\",\"TUFNWGTP\"])\n",
    "atus_2011_all_res_emp_merge[\"Multiplied Weight\"] = atus_2011_all_res_emp_merge[\"TUACTDUR24\"] * atus_2011_all_res_emp_merge[\"TUFNWGTP\"]\n",
    "#atus_2011_all_res_emp_merge"
   ]
  },
  {
   "cell_type": "code",
   "execution_count": 670,
   "metadata": {},
   "outputs": [
    {
     "data": {
      "text/plain": [
       "15.861696126623604"
      ]
     },
     "execution_count": 670,
     "metadata": {},
     "output_type": "execute_result"
    }
   ],
   "source": [
    "atus_2011_all_res_emp_multiplied_weight = atus_2011_all_res_emp_merge[\"Multiplied Weight\"].sum()\n",
    "atus_2011_all_res_emp_hdp = atus_2011_all_res_emp_multiplied_weight / all_2011_emp_weight / 60 \n",
    "atus_2011_all_res_emp_hdp"
   ]
  },
  {
   "cell_type": "markdown",
   "metadata": {},
   "source": [
    "### 2012 All Residential Activities- Employed"
   ]
  },
  {
   "cell_type": "code",
   "execution_count": 671,
   "metadata": {},
   "outputs": [],
   "source": [
    "atus_2012_all_res_emp = atus_2012_all_res_emp.groupby([\"TUCASEID\"]).sum().filter([\"TUCASEID\", \"TUACTDUR24\"])\n",
    "atus_2012_all_res_emp_merge = pd.merge(atus_2012_all_res_emp, multi_resp, on= \"TUCASEID\").filter([\"TUCASEID\",\"TUACTDUR24\",\"TUFNWGTP\"])\n",
    "atus_2012_all_res_emp_merge[\"Multiplied Weight\"] = atus_2012_all_res_emp_merge[\"TUACTDUR24\"] * atus_2012_all_res_emp_merge[\"TUFNWGTP\"]\n",
    "#atus_2012_all_res_emp_merge"
   ]
  },
  {
   "cell_type": "code",
   "execution_count": 672,
   "metadata": {},
   "outputs": [
    {
     "data": {
      "text/plain": [
       "15.973406878937983"
      ]
     },
     "execution_count": 672,
     "metadata": {},
     "output_type": "execute_result"
    }
   ],
   "source": [
    "atus_2012_all_res_emp_multiplied_weight = atus_2012_all_res_emp_merge[\"Multiplied Weight\"].sum()\n",
    "atus_2012_all_res_emp_hdp = atus_2012_all_res_emp_multiplied_weight / all_2012_emp_weight / 60 \n",
    "atus_2012_all_res_emp_hdp"
   ]
  },
  {
   "cell_type": "markdown",
   "metadata": {},
   "source": [
    "### 2013 All Residential Activities- Employed"
   ]
  },
  {
   "cell_type": "code",
   "execution_count": 673,
   "metadata": {},
   "outputs": [],
   "source": [
    "atus_2013_all_res_emp = atus_2013_all_res_emp.groupby([\"TUCASEID\"]).sum().filter([\"TUCASEID\", \"TUACTDUR24\"])\n",
    "atus_2013_all_res_emp_merge = pd.merge(atus_2013_all_res_emp, multi_resp, on= \"TUCASEID\").filter([\"TUCASEID\",\"TUACTDUR24\",\"TUFNWGTP\"])\n",
    "atus_2013_all_res_emp_merge[\"Multiplied Weight\"] = atus_2013_all_res_emp_merge[\"TUACTDUR24\"] * atus_2013_all_res_emp_merge[\"TUFNWGTP\"]\n",
    "#atus_2013_all_res_emp_merge"
   ]
  },
  {
   "cell_type": "code",
   "execution_count": 674,
   "metadata": {},
   "outputs": [
    {
     "data": {
      "text/plain": [
       "15.98869640390716"
      ]
     },
     "execution_count": 674,
     "metadata": {},
     "output_type": "execute_result"
    }
   ],
   "source": [
    "atus_2013_all_res_emp_multiplied_weight = atus_2013_all_res_emp_merge[\"Multiplied Weight\"].sum()\n",
    "atus_2013_all_res_emp_hdp = atus_2013_all_res_emp_multiplied_weight / all_2013_emp_weight / 60 \n",
    "atus_2013_all_res_emp_hdp"
   ]
  },
  {
   "cell_type": "markdown",
   "metadata": {},
   "source": [
    "### 2014 All Residential Activities- Employed"
   ]
  },
  {
   "cell_type": "code",
   "execution_count": 675,
   "metadata": {},
   "outputs": [],
   "source": [
    "atus_2014_all_res_emp = atus_2014_all_res_emp.groupby([\"TUCASEID\"]).sum().filter([\"TUCASEID\", \"TUACTDUR24\"])\n",
    "atus_2014_all_res_emp_merge = pd.merge(atus_2014_all_res_emp, multi_resp, on= \"TUCASEID\").filter([\"TUCASEID\",\"TUACTDUR24\",\"TUFNWGTP\"])\n",
    "atus_2014_all_res_emp_merge[\"Multiplied Weight\"] = atus_2014_all_res_emp_merge[\"TUACTDUR24\"] * atus_2014_all_res_emp_merge[\"TUFNWGTP\"]\n",
    "#atus_2014_all_res_emp_merge"
   ]
  },
  {
   "cell_type": "code",
   "execution_count": 676,
   "metadata": {},
   "outputs": [
    {
     "data": {
      "text/plain": [
       "15.932269442477272"
      ]
     },
     "execution_count": 676,
     "metadata": {},
     "output_type": "execute_result"
    }
   ],
   "source": [
    "atus_2014_all_res_emp_multiplied_weight = atus_2014_all_res_emp_merge[\"Multiplied Weight\"].sum()\n",
    "atus_2014_all_res_emp_hdp = atus_2014_all_res_emp_multiplied_weight / all_2014_emp_weight / 60 \n",
    "atus_2014_all_res_emp_hdp"
   ]
  },
  {
   "cell_type": "markdown",
   "metadata": {},
   "source": [
    "### 2015 All Residential Activities- Employed"
   ]
  },
  {
   "cell_type": "code",
   "execution_count": 677,
   "metadata": {},
   "outputs": [],
   "source": [
    "atus_2015_all_res_emp = atus_2015_all_res_emp.groupby([\"TUCASEID\"]).sum().filter([\"TUCASEID\", \"TUACTDUR24\"])\n",
    "atus_2015_all_res_emp_merge = pd.merge(atus_2015_all_res_emp, multi_resp, on= \"TUCASEID\").filter([\"TUCASEID\",\"TUACTDUR24\",\"TUFNWGTP\"])\n",
    "atus_2015_all_res_emp_merge[\"Multiplied Weight\"] = atus_2015_all_res_emp_merge[\"TUACTDUR24\"] * atus_2015_all_res_emp_merge[\"TUFNWGTP\"]\n",
    "#atus_2015_all_res_emp_merge"
   ]
  },
  {
   "cell_type": "code",
   "execution_count": 678,
   "metadata": {},
   "outputs": [
    {
     "data": {
      "text/plain": [
       "16.045970747702995"
      ]
     },
     "execution_count": 678,
     "metadata": {},
     "output_type": "execute_result"
    }
   ],
   "source": [
    "atus_2015_all_res_emp_multiplied_weight = atus_2015_all_res_emp_merge[\"Multiplied Weight\"].sum()\n",
    "atus_2015_all_res_emp_hdp = atus_2015_all_res_emp_multiplied_weight / all_2015_emp_weight / 60 \n",
    "atus_2015_all_res_emp_hdp"
   ]
  },
  {
   "cell_type": "markdown",
   "metadata": {},
   "source": [
    "### 2016 All Residential Activities- Employed"
   ]
  },
  {
   "cell_type": "code",
   "execution_count": 679,
   "metadata": {},
   "outputs": [],
   "source": [
    "atus_2016_all_res_emp = atus_2016_all_res_emp.groupby([\"TUCASEID\"]).sum().filter([\"TUCASEID\", \"TUACTDUR24\"])\n",
    "atus_2016_all_res_emp_merge = pd.merge(atus_2016_all_res_emp, multi_resp, on= \"TUCASEID\").filter([\"TUCASEID\",\"TUACTDUR24\",\"TUFNWGTP\"])\n",
    "atus_2016_all_res_emp_merge[\"Multiplied Weight\"] = atus_2016_all_res_emp_merge[\"TUACTDUR24\"] * atus_2016_all_res_emp_merge[\"TUFNWGTP\"]\n",
    "#atus_2016_all_res_emp_merge"
   ]
  },
  {
   "cell_type": "code",
   "execution_count": 680,
   "metadata": {},
   "outputs": [
    {
     "data": {
      "text/plain": [
       "15.943609716259544"
      ]
     },
     "execution_count": 680,
     "metadata": {},
     "output_type": "execute_result"
    }
   ],
   "source": [
    "atus_2016_all_res_emp_multiplied_weight = atus_2016_all_res_emp_merge[\"Multiplied Weight\"].sum()\n",
    "atus_2016_all_res_emp_hdp = atus_2016_all_res_emp_multiplied_weight / all_2016_emp_weight / 60 \n",
    "atus_2016_all_res_emp_hdp"
   ]
  },
  {
   "cell_type": "markdown",
   "metadata": {},
   "source": [
    "### 2017 All Residential Activities- Employed"
   ]
  },
  {
   "cell_type": "code",
   "execution_count": 681,
   "metadata": {},
   "outputs": [],
   "source": [
    "atus_2017_all_res_emp = atus_2017_all_res_emp.groupby([\"TUCASEID\"]).sum().filter([\"TUCASEID\", \"TUACTDUR24\"])\n",
    "atus_2017_all_res_emp_merge = pd.merge(atus_2017_all_res_emp, multi_resp, on= \"TUCASEID\").filter([\"TUCASEID\",\"TUACTDUR24\",\"TUFNWGTP\"])\n",
    "atus_2017_all_res_emp_merge[\"Multiplied Weight\"] = atus_2017_all_res_emp_merge[\"TUACTDUR24\"] * atus_2017_all_res_emp_merge[\"TUFNWGTP\"]\n",
    "#atus_2017_all_res_emp_merge"
   ]
  },
  {
   "cell_type": "code",
   "execution_count": 682,
   "metadata": {},
   "outputs": [
    {
     "data": {
      "text/plain": [
       "15.960102568984578"
      ]
     },
     "execution_count": 682,
     "metadata": {},
     "output_type": "execute_result"
    }
   ],
   "source": [
    "atus_2017_all_res_emp_multiplied_weight = atus_2017_all_res_emp_merge[\"Multiplied Weight\"].sum()\n",
    "atus_2017_all_res_emp_hdp = atus_2017_all_res_emp_multiplied_weight / all_2017_emp_weight / 60 \n",
    "atus_2017_all_res_emp_hdp"
   ]
  },
  {
   "cell_type": "markdown",
   "metadata": {},
   "source": [
    "### 2018 All Residential Activities- Employed"
   ]
  },
  {
   "cell_type": "code",
   "execution_count": 683,
   "metadata": {},
   "outputs": [],
   "source": [
    "atus_2018_all_res_emp = atus_2018_all_res_emp.groupby([\"TUCASEID\"]).sum().filter([\"TUCASEID\", \"TUACTDUR24\"])\n",
    "atus_2018_all_res_emp_merge = pd.merge(atus_2018_all_res_emp, multi_resp, on= \"TUCASEID\").filter([\"TUCASEID\",\"TUACTDUR24\",\"TUFNWGTP\"])\n",
    "atus_2018_all_res_emp_merge[\"Multiplied Weight\"] = atus_2018_all_res_emp_merge[\"TUACTDUR24\"] * atus_2018_all_res_emp_merge[\"TUFNWGTP\"]\n",
    "#atus_2018_all_res_emp_merge"
   ]
  },
  {
   "cell_type": "code",
   "execution_count": 684,
   "metadata": {},
   "outputs": [
    {
     "data": {
      "text/plain": [
       "16.015746257487205"
      ]
     },
     "execution_count": 684,
     "metadata": {},
     "output_type": "execute_result"
    }
   ],
   "source": [
    "atus_2018_all_res_emp_multiplied_weight = atus_2018_all_res_emp_merge[\"Multiplied Weight\"].sum()\n",
    "atus_2018_all_res_emp_hdp = atus_2018_all_res_emp_multiplied_weight / all_2018_emp_weight / 60 \n",
    "atus_2018_all_res_emp_hdp"
   ]
  },
  {
   "cell_type": "markdown",
   "metadata": {},
   "source": [
    "### 2019 All Residential Activities- Employed"
   ]
  },
  {
   "cell_type": "code",
   "execution_count": 685,
   "metadata": {},
   "outputs": [],
   "source": [
    "atus_2019_all_res_emp = atus_2019_all_res_emp.groupby([\"TUCASEID\"]).sum().filter([\"TUCASEID\", \"TUACTDUR24\"])\n",
    "atus_2019_all_res_emp_merge = pd.merge(atus_2019_all_res_emp, multi_resp, on= \"TUCASEID\").filter([\"TUCASEID\",\"TUACTDUR24\",\"TUFNWGTP\"])\n",
    "atus_2019_all_res_emp_merge[\"Multiplied Weight\"] = atus_2019_all_res_emp_merge[\"TUACTDUR24\"] * atus_2019_all_res_emp_merge[\"TUFNWGTP\"]\n",
    "#atus_2019_all_res_emp_merge"
   ]
  },
  {
   "cell_type": "code",
   "execution_count": 686,
   "metadata": {},
   "outputs": [
    {
     "data": {
      "text/plain": [
       "16.08055115636143"
      ]
     },
     "execution_count": 686,
     "metadata": {},
     "output_type": "execute_result"
    }
   ],
   "source": [
    "atus_2019_all_res_emp_multiplied_weight = atus_2019_all_res_emp_merge[\"Multiplied Weight\"].sum()\n",
    "atus_2019_all_res_emp_hdp = atus_2019_all_res_emp_multiplied_weight / all_2019_emp_weight / 60 \n",
    "atus_2019_all_res_emp_hdp"
   ]
  },
  {
   "cell_type": "markdown",
   "metadata": {},
   "source": [
    "### All Residential Activities- Employed"
   ]
  },
  {
   "cell_type": "markdown",
   "metadata": {},
   "source": [
    "#### 2003-2012 Regression All Residential Activities- Employed"
   ]
  },
  {
   "cell_type": "code",
   "execution_count": 687,
   "metadata": {},
   "outputs": [],
   "source": [
    "year = np.array([2003, 2004, 2005, 2006, 2007, 2008, 2009, 2010,2011,2012]).reshape((-1, 1))\n",
    "activity_hours_per_day = np.array([atus_2003_all_res_emp_hdp, atus_2004_all_res_emp_hdp, atus_2005_all_res_emp_hdp,\n",
    "                                   atus_2006_all_res_emp_hdp, atus_2007_all_res_emp_hdp, atus_2008_all_res_emp_hdp,\n",
    "                                   atus_2009_all_res_emp_hdp, atus_2010_all_res_emp_hdp, atus_2011_all_res_emp_hdp,\n",
    "                                   atus_2012_all_res_emp_hdp]).reshape((-1, 1))\n",
    "\n",
    "activity_hours_per_yr = [i * 365 for i in activity_hours_per_day]\n",
    "#activity_hours_per_yr"
   ]
  },
  {
   "cell_type": "code",
   "execution_count": 688,
   "metadata": {},
   "outputs": [],
   "source": [
    "x = year\n",
    "y = activity_hours_per_yr\n",
    "x, y = np.array(x), np.array(y)"
   ]
  },
  {
   "cell_type": "code",
   "execution_count": 689,
   "metadata": {},
   "outputs": [
    {
     "data": {
      "image/png": "[encoded data removed]",
      "text/plain": [
       "<Figure size 432x288 with 1 Axes>"
      ]
     },
     "metadata": {
      "needs_background": "light"
     },
     "output_type": "display_data"
    }
   ],
   "source": [
    "model = LinearRegression().fit(x, y)\n",
    "y_pred = model.predict(x)  # make predictions\n",
    "\n",
    "plt.scatter(x, y)\n",
    "plt.plot(x, y_pred, color='red')\n",
    "plt.show()\n",
    "#look to "
   ]
  },
  {
   "cell_type": "code",
   "execution_count": 690,
   "metadata": {},
   "outputs": [
    {
     "data": {
      "text/plain": [
       "0.6873301381266681"
      ]
     },
     "execution_count": 690,
     "metadata": {},
     "output_type": "execute_result"
    }
   ],
   "source": [
    "coefficient_of_determination = model.score(x,y) #R sqaure value \n",
    "coefficient_of_determination"
   ]
  },
  {
   "cell_type": "code",
   "execution_count": 691,
   "metadata": {},
   "outputs": [
    {
     "data": {
      "text/plain": [
       "array([[14.2681973]])"
      ]
     },
     "execution_count": 691,
     "metadata": {},
     "output_type": "execute_result"
    }
   ],
   "source": [
    "all_res_emp_2003_2012_slope = model.coef_\n",
    "all_res_emp_2003_2012_slope"
   ]
  },
  {
   "cell_type": "markdown",
   "metadata": {},
   "source": [
    "#### 2003-2019 Regression All Residential Activities- Employed"
   ]
  },
  {
   "cell_type": "code",
   "execution_count": 692,
   "metadata": {},
   "outputs": [],
   "source": [
    "year = np.array([2003, 2004, 2005, 2006, 2007, 2008, 2009, 2010,2011,2012,2013,2014,2015,2016,2017,2018,2019]).reshape((-1, 1))\n",
    "activity_hours_per_day = np.array([atus_2003_all_res_emp_hdp, atus_2004_all_res_emp_hdp, atus_2005_all_res_emp_hdp,\n",
    "                                   atus_2006_all_res_emp_hdp, atus_2007_all_res_emp_hdp, atus_2008_all_res_emp_hdp,\n",
    "                                   atus_2009_all_res_emp_hdp, atus_2010_all_res_emp_hdp, atus_2011_all_res_emp_hdp,\n",
    "                                   atus_2012_all_res_emp_hdp, atus_2013_all_res_emp_hdp, atus_2014_all_res_emp_hdp,\n",
    "                                   atus_2015_all_res_emp_hdp, atus_2016_all_res_emp_hdp, atus_2017_all_res_emp_hdp,\n",
    "                                   atus_2018_all_res_emp_hdp, atus_2019_all_res_emp_hdp]).reshape((-1, 1))\n",
    "\n",
    "activity_hours_per_yr = [i * 365 for i in activity_hours_per_day]\n",
    "#activity_hours_per_yr"
   ]
  },
  {
   "cell_type": "code",
   "execution_count": 693,
   "metadata": {},
   "outputs": [],
   "source": [
    "x = year\n",
    "y = activity_hours_per_yr\n",
    "x, y = np.array(x), np.array(y)"
   ]
  },
  {
   "cell_type": "code",
   "execution_count": 694,
   "metadata": {},
   "outputs": [
    {
     "data": {
      "image/png": "[encoded data removed]",
      "text/plain": [
       "<Figure size 432x288 with 1 Axes>"
      ]
     },
     "metadata": {
      "needs_background": "light"
     },
     "output_type": "display_data"
    }
   ],
   "source": [
    "model = LinearRegression().fit(x, y)\n",
    "y_pred = model.predict(x)  # make predictions\n",
    "\n",
    "plt.scatter(x, y)\n",
    "plt.plot(x, y_pred, color='red')\n",
    "plt.show()\n",
    "#look to "
   ]
  },
  {
   "cell_type": "code",
   "execution_count": 695,
   "metadata": {},
   "outputs": [
    {
     "data": {
      "text/plain": [
       "0.7621163745690702"
      ]
     },
     "execution_count": 695,
     "metadata": {},
     "output_type": "execute_result"
    }
   ],
   "source": [
    "coefficient_of_determination = model.score(x,y) #R sqaure value \n",
    "coefficient_of_determination"
   ]
  },
  {
   "cell_type": "code",
   "execution_count": 696,
   "metadata": {},
   "outputs": [
    {
     "data": {
      "text/plain": [
       "array([[9.73114398]])"
      ]
     },
     "execution_count": 696,
     "metadata": {},
     "output_type": "execute_result"
    }
   ],
   "source": [
    "all_res_emp_2003_2019_slope = model.coef_\n",
    "all_res_emp_2003_2019_slope"
   ]
  },
  {
   "cell_type": "markdown",
   "metadata": {},
   "source": [
    "### All Non-Residential Activities- Employed"
   ]
  },
  {
   "cell_type": "code",
   "execution_count": 723,
   "metadata": {},
   "outputs": [
    {
     "data": {
      "text/html": [
       "<div>\n",
       "<style scoped>\n",
       "    .dataframe tbody tr th:only-of-type {\n",
       "        vertical-align: middle;\n",
       "    }\n",
       "\n",
       "    .dataframe tbody tr th {\n",
       "        vertical-align: top;\n",
       "    }\n",
       "\n",
       "    .dataframe thead th {\n",
       "        text-align: right;\n",
       "    }\n",
       "</style>\n",
       "<table border=\"1\" class=\"dataframe\">\n",
       "  <thead>\n",
       "    <tr style=\"text-align: right;\">\n",
       "      <th></th>\n",
       "      <th>TUCASEID</th>\n",
       "      <th>TUACTDUR24</th>\n",
       "      <th>TUCUMDUR</th>\n",
       "      <th>TRTIER1P</th>\n",
       "      <th>TRTIER2P</th>\n",
       "      <th>TRCODEP</th>\n",
       "      <th>TEWHERE</th>\n",
       "      <th>TELFS</th>\n",
       "      <th>TUFNWGTP</th>\n",
       "      <th>TUSTARTTIM</th>\n",
       "      <th>TUSTOPTIME</th>\n",
       "      <th>TUYEAR</th>\n",
       "    </tr>\n",
       "  </thead>\n",
       "  <tbody>\n",
       "    <tr>\n",
       "      <th>0</th>\n",
       "      <td>20030100013280</td>\n",
       "      <td>60</td>\n",
       "      <td>60</td>\n",
       "      <td>13</td>\n",
       "      <td>1301</td>\n",
       "      <td>130124</td>\n",
       "      <td>9</td>\n",
       "      <td>2</td>\n",
       "      <td>8.155463e+06</td>\n",
       "      <td>04:00:00</td>\n",
       "      <td>05:00:00</td>\n",
       "      <td>2003</td>\n",
       "    </tr>\n",
       "    <tr>\n",
       "      <th>8</th>\n",
       "      <td>20030100013280</td>\n",
       "      <td>140</td>\n",
       "      <td>1470</td>\n",
       "      <td>13</td>\n",
       "      <td>1301</td>\n",
       "      <td>130124</td>\n",
       "      <td>9</td>\n",
       "      <td>2</td>\n",
       "      <td>8.155463e+06</td>\n",
       "      <td>01:40:00</td>\n",
       "      <td>04:30:00</td>\n",
       "      <td>2003</td>\n",
       "    </tr>\n",
       "    <tr>\n",
       "      <th>23</th>\n",
       "      <td>20030100013352</td>\n",
       "      <td>60</td>\n",
       "      <td>455</td>\n",
       "      <td>07</td>\n",
       "      <td>0701</td>\n",
       "      <td>070101</td>\n",
       "      <td>6</td>\n",
       "      <td>2</td>\n",
       "      <td>3.830527e+06</td>\n",
       "      <td>10:35:00</td>\n",
       "      <td>11:35:00</td>\n",
       "      <td>2003</td>\n",
       "    </tr>\n",
       "    <tr>\n",
       "      <th>54</th>\n",
       "      <td>20030100014165</td>\n",
       "      <td>435</td>\n",
       "      <td>540</td>\n",
       "      <td>05</td>\n",
       "      <td>0501</td>\n",
       "      <td>050101</td>\n",
       "      <td>2</td>\n",
       "      <td>1</td>\n",
       "      <td>3.068387e+06</td>\n",
       "      <td>05:45:00</td>\n",
       "      <td>13:00:00</td>\n",
       "      <td>2003</td>\n",
       "    </tr>\n",
       "    <tr>\n",
       "      <th>56</th>\n",
       "      <td>20030100014165</td>\n",
       "      <td>15</td>\n",
       "      <td>558</td>\n",
       "      <td>08</td>\n",
       "      <td>0802</td>\n",
       "      <td>080201</td>\n",
       "      <td>11</td>\n",
       "      <td>1</td>\n",
       "      <td>3.068387e+06</td>\n",
       "      <td>13:03:00</td>\n",
       "      <td>13:18:00</td>\n",
       "      <td>2003</td>\n",
       "    </tr>\n",
       "    <tr>\n",
       "      <th>...</th>\n",
       "      <td>...</td>\n",
       "      <td>...</td>\n",
       "      <td>...</td>\n",
       "      <td>...</td>\n",
       "      <td>...</td>\n",
       "      <td>...</td>\n",
       "      <td>...</td>\n",
       "      <td>...</td>\n",
       "      <td>...</td>\n",
       "      <td>...</td>\n",
       "      <td>...</td>\n",
       "      <td>...</td>\n",
       "    </tr>\n",
       "    <tr>\n",
       "      <th>412557</th>\n",
       "      <td>20031212033597</td>\n",
       "      <td>30</td>\n",
       "      <td>845</td>\n",
       "      <td>02</td>\n",
       "      <td>0206</td>\n",
       "      <td>020681</td>\n",
       "      <td>9</td>\n",
       "      <td>1</td>\n",
       "      <td>3.575899e+06</td>\n",
       "      <td>17:35:00</td>\n",
       "      <td>18:05:00</td>\n",
       "      <td>2003</td>\n",
       "    </tr>\n",
       "    <tr>\n",
       "      <th>412568</th>\n",
       "      <td>20031212033621</td>\n",
       "      <td>268</td>\n",
       "      <td>510</td>\n",
       "      <td>05</td>\n",
       "      <td>0501</td>\n",
       "      <td>050101</td>\n",
       "      <td>2</td>\n",
       "      <td>1</td>\n",
       "      <td>6.004256e+06</td>\n",
       "      <td>08:02:00</td>\n",
       "      <td>12:30:00</td>\n",
       "      <td>2003</td>\n",
       "    </tr>\n",
       "    <tr>\n",
       "      <th>412569</th>\n",
       "      <td>20031212033621</td>\n",
       "      <td>30</td>\n",
       "      <td>540</td>\n",
       "      <td>11</td>\n",
       "      <td>1101</td>\n",
       "      <td>110101</td>\n",
       "      <td>2</td>\n",
       "      <td>1</td>\n",
       "      <td>6.004256e+06</td>\n",
       "      <td>12:30:00</td>\n",
       "      <td>13:00:00</td>\n",
       "      <td>2003</td>\n",
       "    </tr>\n",
       "    <tr>\n",
       "      <th>412570</th>\n",
       "      <td>20031212033621</td>\n",
       "      <td>210</td>\n",
       "      <td>750</td>\n",
       "      <td>05</td>\n",
       "      <td>0501</td>\n",
       "      <td>050101</td>\n",
       "      <td>2</td>\n",
       "      <td>1</td>\n",
       "      <td>6.004256e+06</td>\n",
       "      <td>13:00:00</td>\n",
       "      <td>16:30:00</td>\n",
       "      <td>2003</td>\n",
       "    </tr>\n",
       "    <tr>\n",
       "      <th>412583</th>\n",
       "      <td>20031212033636</td>\n",
       "      <td>230</td>\n",
       "      <td>600</td>\n",
       "      <td>07</td>\n",
       "      <td>0701</td>\n",
       "      <td>070104</td>\n",
       "      <td>7</td>\n",
       "      <td>1</td>\n",
       "      <td>1.402276e+06</td>\n",
       "      <td>10:10:00</td>\n",
       "      <td>14:00:00</td>\n",
       "      <td>2003</td>\n",
       "    </tr>\n",
       "  </tbody>\n",
       "</table>\n",
       "<p>52040 rows × 12 columns</p>\n",
       "</div>"
      ],
      "text/plain": [
       "              TUCASEID  TUACTDUR24  TUCUMDUR TRTIER1P TRTIER2P TRCODEP  \\\n",
       "0       20030100013280          60        60       13     1301  130124   \n",
       "8       20030100013280         140      1470       13     1301  130124   \n",
       "23      20030100013352          60       455       07     0701  070101   \n",
       "54      20030100014165         435       540       05     0501  050101   \n",
       "56      20030100014165          15       558       08     0802  080201   \n",
       "...                ...         ...       ...      ...      ...     ...   \n",
       "412557  20031212033597          30       845       02     0206  020681   \n",
       "412568  20031212033621         268       510       05     0501  050101   \n",
       "412569  20031212033621          30       540       11     1101  110101   \n",
       "412570  20031212033621         210       750       05     0501  050101   \n",
       "412583  20031212033636         230       600       07     0701  070104   \n",
       "\n",
       "        TEWHERE  TELFS      TUFNWGTP TUSTARTTIM TUSTOPTIME  TUYEAR  \n",
       "0             9      2  8.155463e+06   04:00:00   05:00:00    2003  \n",
       "8             9      2  8.155463e+06   01:40:00   04:30:00    2003  \n",
       "23            6      2  3.830527e+06   10:35:00   11:35:00    2003  \n",
       "54            2      1  3.068387e+06   05:45:00   13:00:00    2003  \n",
       "56           11      1  3.068387e+06   13:03:00   13:18:00    2003  \n",
       "...         ...    ...           ...        ...        ...     ...  \n",
       "412557        9      1  3.575899e+06   17:35:00   18:05:00    2003  \n",
       "412568        2      1  6.004256e+06   08:02:00   12:30:00    2003  \n",
       "412569        2      1  6.004256e+06   12:30:00   13:00:00    2003  \n",
       "412570        2      1  6.004256e+06   13:00:00   16:30:00    2003  \n",
       "412583        7      1  1.402276e+06   10:10:00   14:00:00    2003  \n",
       "\n",
       "[52040 rows x 12 columns]"
      ]
     },
     "execution_count": 723,
     "metadata": {},
     "output_type": "execute_result"
    }
   ],
   "source": [
    "atus_2003_non_res_emp"
   ]
  },
  {
   "cell_type": "code",
   "execution_count": 698,
   "metadata": {},
   "outputs": [],
   "source": [
    "atus_2003_all_act_non_res_emp = atus_2003_non_res_emp.groupby([\"TUCASEID\"]).sum().filter([\"TUCASEID\", \"TUACTDUR24\"])\n",
    "#atus_2003_all_act_non_res_emp "
   ]
  },
  {
   "cell_type": "code",
   "execution_count": 699,
   "metadata": {},
   "outputs": [],
   "source": [
    "atus_2003_all_act_non_res_emp_merge = pd.merge(atus_2003_all_act_non_res_emp, multi_resp, on= \"TUCASEID\").filter([\"TUCASEID\",\"TUACTDUR24\",\"TUFNWGTP\"])\n",
    "#atus_2003_all_act_non_res_emp_merge"
   ]
  },
  {
   "cell_type": "code",
   "execution_count": 724,
   "metadata": {},
   "outputs": [
    {
     "data": {
      "text/html": [
       "<div>\n",
       "<style scoped>\n",
       "    .dataframe tbody tr th:only-of-type {\n",
       "        vertical-align: middle;\n",
       "    }\n",
       "\n",
       "    .dataframe tbody tr th {\n",
       "        vertical-align: top;\n",
       "    }\n",
       "\n",
       "    .dataframe thead th {\n",
       "        text-align: right;\n",
       "    }\n",
       "</style>\n",
       "<table border=\"1\" class=\"dataframe\">\n",
       "  <thead>\n",
       "    <tr style=\"text-align: right;\">\n",
       "      <th></th>\n",
       "      <th>TUCASEID</th>\n",
       "      <th>TUACTDUR24</th>\n",
       "      <th>TUFNWGTP</th>\n",
       "      <th>Multiplied Weight</th>\n",
       "    </tr>\n",
       "  </thead>\n",
       "  <tbody>\n",
       "    <tr>\n",
       "      <th>0</th>\n",
       "      <td>20030100013280</td>\n",
       "      <td>200</td>\n",
       "      <td>8.155463e+06</td>\n",
       "      <td>1.631093e+09</td>\n",
       "    </tr>\n",
       "    <tr>\n",
       "      <th>1</th>\n",
       "      <td>20030100013352</td>\n",
       "      <td>60</td>\n",
       "      <td>3.830527e+06</td>\n",
       "      <td>2.298316e+08</td>\n",
       "    </tr>\n",
       "    <tr>\n",
       "      <th>2</th>\n",
       "      <td>20030100014165</td>\n",
       "      <td>615</td>\n",
       "      <td>3.068387e+06</td>\n",
       "      <td>1.887058e+09</td>\n",
       "    </tr>\n",
       "    <tr>\n",
       "      <th>3</th>\n",
       "      <td>20030100014209</td>\n",
       "      <td>117</td>\n",
       "      <td>1.637826e+06</td>\n",
       "      <td>1.916257e+08</td>\n",
       "    </tr>\n",
       "    <tr>\n",
       "      <th>4</th>\n",
       "      <td>20030100014427</td>\n",
       "      <td>525</td>\n",
       "      <td>6.574427e+06</td>\n",
       "      <td>3.451574e+09</td>\n",
       "    </tr>\n",
       "    <tr>\n",
       "      <th>...</th>\n",
       "      <td>...</td>\n",
       "      <td>...</td>\n",
       "      <td>...</td>\n",
       "      <td>...</td>\n",
       "    </tr>\n",
       "    <tr>\n",
       "      <th>12057</th>\n",
       "      <td>20031212033589</td>\n",
       "      <td>175</td>\n",
       "      <td>2.434457e+06</td>\n",
       "      <td>4.260300e+08</td>\n",
       "    </tr>\n",
       "    <tr>\n",
       "      <th>12058</th>\n",
       "      <td>20031212033591</td>\n",
       "      <td>150</td>\n",
       "      <td>1.731625e+06</td>\n",
       "      <td>2.597438e+08</td>\n",
       "    </tr>\n",
       "    <tr>\n",
       "      <th>12059</th>\n",
       "      <td>20031212033597</td>\n",
       "      <td>458</td>\n",
       "      <td>3.575899e+06</td>\n",
       "      <td>1.637762e+09</td>\n",
       "    </tr>\n",
       "    <tr>\n",
       "      <th>12060</th>\n",
       "      <td>20031212033621</td>\n",
       "      <td>508</td>\n",
       "      <td>6.004256e+06</td>\n",
       "      <td>3.050162e+09</td>\n",
       "    </tr>\n",
       "    <tr>\n",
       "      <th>12061</th>\n",
       "      <td>20031212033636</td>\n",
       "      <td>230</td>\n",
       "      <td>1.402276e+06</td>\n",
       "      <td>3.225235e+08</td>\n",
       "    </tr>\n",
       "  </tbody>\n",
       "</table>\n",
       "<p>12062 rows × 4 columns</p>\n",
       "</div>"
      ],
      "text/plain": [
       "             TUCASEID  TUACTDUR24      TUFNWGTP  Multiplied Weight\n",
       "0      20030100013280         200  8.155463e+06       1.631093e+09\n",
       "1      20030100013352          60  3.830527e+06       2.298316e+08\n",
       "2      20030100014165         615  3.068387e+06       1.887058e+09\n",
       "3      20030100014209         117  1.637826e+06       1.916257e+08\n",
       "4      20030100014427         525  6.574427e+06       3.451574e+09\n",
       "...               ...         ...           ...                ...\n",
       "12057  20031212033589         175  2.434457e+06       4.260300e+08\n",
       "12058  20031212033591         150  1.731625e+06       2.597438e+08\n",
       "12059  20031212033597         458  3.575899e+06       1.637762e+09\n",
       "12060  20031212033621         508  6.004256e+06       3.050162e+09\n",
       "12061  20031212033636         230  1.402276e+06       3.225235e+08\n",
       "\n",
       "[12062 rows x 4 columns]"
      ]
     },
     "execution_count": 724,
     "metadata": {},
     "output_type": "execute_result"
    }
   ],
   "source": [
    "atus_2003_all_act_non_res_emp_merge[\"Multiplied Weight\"]=atus_2003_all_act_non_res_emp_merge[\"TUACTDUR24\"]*atus_2003_all_act_non_res_emp_merge[\"TUFNWGTP\"]\n",
    "atus_2003_all_act_non_res_emp_merge"
   ]
  },
  {
   "cell_type": "code",
   "execution_count": 701,
   "metadata": {},
   "outputs": [
    {
     "data": {
      "text/plain": [
       "21998777295558.215"
      ]
     },
     "execution_count": 701,
     "metadata": {},
     "output_type": "execute_result"
    }
   ],
   "source": [
    "atus_2003_all_act_non_res_emp_multiplied_weight = atus_2003_all_act_non_res_emp_merge[\"Multiplied Weight\"].sum()\n",
    "atus_2003_all_act_non_res_emp_multiplied_weight"
   ]
  },
  {
   "cell_type": "code",
   "execution_count": 702,
   "metadata": {},
   "outputs": [
    {
     "data": {
      "text/plain": [
       "6.893507813104821"
      ]
     },
     "execution_count": 702,
     "metadata": {},
     "output_type": "execute_result"
    }
   ],
   "source": [
    "atus_2003_all_act_non_res_emp_multiplied_weight / all_2003_weight/ 60"
   ]
  },
  {
   "cell_type": "code",
   "execution_count": 703,
   "metadata": {},
   "outputs": [
    {
     "data": {
      "text/html": [
       "<div>\n",
       "<style scoped>\n",
       "    .dataframe tbody tr th:only-of-type {\n",
       "        vertical-align: middle;\n",
       "    }\n",
       "\n",
       "    .dataframe tbody tr th {\n",
       "        vertical-align: top;\n",
       "    }\n",
       "\n",
       "    .dataframe thead th {\n",
       "        text-align: right;\n",
       "    }\n",
       "</style>\n",
       "<table border=\"1\" class=\"dataframe\">\n",
       "  <thead>\n",
       "    <tr style=\"text-align: right;\">\n",
       "      <th></th>\n",
       "      <th>TUCASEID</th>\n",
       "      <th>TUACTDUR24</th>\n",
       "      <th>TUCUMDUR</th>\n",
       "      <th>TRTIER1P</th>\n",
       "      <th>TRTIER2P</th>\n",
       "      <th>TRCODEP</th>\n",
       "      <th>TEWHERE</th>\n",
       "      <th>TELFS</th>\n",
       "      <th>TUFNWGTP</th>\n",
       "      <th>TUSTARTTIM</th>\n",
       "      <th>TUSTOPTIME</th>\n",
       "      <th>TUYEAR</th>\n",
       "    </tr>\n",
       "  </thead>\n",
       "  <tbody>\n",
       "    <tr>\n",
       "      <th>0</th>\n",
       "      <td>20030100013280</td>\n",
       "      <td>60</td>\n",
       "      <td>60</td>\n",
       "      <td>13</td>\n",
       "      <td>1301</td>\n",
       "      <td>130124</td>\n",
       "      <td>9</td>\n",
       "      <td>2</td>\n",
       "      <td>8.155463e+06</td>\n",
       "      <td>04:00:00</td>\n",
       "      <td>05:00:00</td>\n",
       "      <td>2003</td>\n",
       "    </tr>\n",
       "    <tr>\n",
       "      <th>23</th>\n",
       "      <td>20030100013352</td>\n",
       "      <td>60</td>\n",
       "      <td>455</td>\n",
       "      <td>07</td>\n",
       "      <td>0701</td>\n",
       "      <td>070101</td>\n",
       "      <td>6</td>\n",
       "      <td>2</td>\n",
       "      <td>3.830527e+06</td>\n",
       "      <td>10:35:00</td>\n",
       "      <td>11:35:00</td>\n",
       "      <td>2003</td>\n",
       "    </tr>\n",
       "    <tr>\n",
       "      <th>54</th>\n",
       "      <td>20030100014165</td>\n",
       "      <td>435</td>\n",
       "      <td>540</td>\n",
       "      <td>05</td>\n",
       "      <td>0501</td>\n",
       "      <td>050101</td>\n",
       "      <td>2</td>\n",
       "      <td>1</td>\n",
       "      <td>3.068387e+06</td>\n",
       "      <td>05:45:00</td>\n",
       "      <td>13:00:00</td>\n",
       "      <td>2003</td>\n",
       "    </tr>\n",
       "    <tr>\n",
       "      <th>110</th>\n",
       "      <td>20030100014209</td>\n",
       "      <td>2</td>\n",
       "      <td>184</td>\n",
       "      <td>03</td>\n",
       "      <td>0301</td>\n",
       "      <td>030112</td>\n",
       "      <td>11</td>\n",
       "      <td>1</td>\n",
       "      <td>1.637826e+06</td>\n",
       "      <td>07:02:00</td>\n",
       "      <td>07:04:00</td>\n",
       "      <td>2003</td>\n",
       "    </tr>\n",
       "    <tr>\n",
       "      <th>134</th>\n",
       "      <td>20030100014427</td>\n",
       "      <td>10</td>\n",
       "      <td>175</td>\n",
       "      <td>05</td>\n",
       "      <td>0501</td>\n",
       "      <td>050101</td>\n",
       "      <td>2</td>\n",
       "      <td>1</td>\n",
       "      <td>6.574427e+06</td>\n",
       "      <td>06:45:00</td>\n",
       "      <td>06:55:00</td>\n",
       "      <td>2003</td>\n",
       "    </tr>\n",
       "    <tr>\n",
       "      <th>...</th>\n",
       "      <td>...</td>\n",
       "      <td>...</td>\n",
       "      <td>...</td>\n",
       "      <td>...</td>\n",
       "      <td>...</td>\n",
       "      <td>...</td>\n",
       "      <td>...</td>\n",
       "      <td>...</td>\n",
       "      <td>...</td>\n",
       "      <td>...</td>\n",
       "      <td>...</td>\n",
       "      <td>...</td>\n",
       "    </tr>\n",
       "    <tr>\n",
       "      <th>412514</th>\n",
       "      <td>20031212033589</td>\n",
       "      <td>85</td>\n",
       "      <td>390</td>\n",
       "      <td>15</td>\n",
       "      <td>1502</td>\n",
       "      <td>150204</td>\n",
       "      <td>5</td>\n",
       "      <td>1</td>\n",
       "      <td>2.434457e+06</td>\n",
       "      <td>09:05:00</td>\n",
       "      <td>10:30:00</td>\n",
       "      <td>2003</td>\n",
       "    </tr>\n",
       "    <tr>\n",
       "      <th>412531</th>\n",
       "      <td>20031212033591</td>\n",
       "      <td>150</td>\n",
       "      <td>690</td>\n",
       "      <td>11</td>\n",
       "      <td>1101</td>\n",
       "      <td>110101</td>\n",
       "      <td>4</td>\n",
       "      <td>1</td>\n",
       "      <td>1.731625e+06</td>\n",
       "      <td>13:00:00</td>\n",
       "      <td>15:30:00</td>\n",
       "      <td>2003</td>\n",
       "    </tr>\n",
       "    <tr>\n",
       "      <th>412548</th>\n",
       "      <td>20031212033597</td>\n",
       "      <td>20</td>\n",
       "      <td>122</td>\n",
       "      <td>02</td>\n",
       "      <td>0206</td>\n",
       "      <td>020681</td>\n",
       "      <td>9</td>\n",
       "      <td>1</td>\n",
       "      <td>3.575899e+06</td>\n",
       "      <td>05:42:00</td>\n",
       "      <td>06:02:00</td>\n",
       "      <td>2003</td>\n",
       "    </tr>\n",
       "    <tr>\n",
       "      <th>412568</th>\n",
       "      <td>20031212033621</td>\n",
       "      <td>268</td>\n",
       "      <td>510</td>\n",
       "      <td>05</td>\n",
       "      <td>0501</td>\n",
       "      <td>050101</td>\n",
       "      <td>2</td>\n",
       "      <td>1</td>\n",
       "      <td>6.004256e+06</td>\n",
       "      <td>08:02:00</td>\n",
       "      <td>12:30:00</td>\n",
       "      <td>2003</td>\n",
       "    </tr>\n",
       "    <tr>\n",
       "      <th>412583</th>\n",
       "      <td>20031212033636</td>\n",
       "      <td>230</td>\n",
       "      <td>600</td>\n",
       "      <td>07</td>\n",
       "      <td>0701</td>\n",
       "      <td>070104</td>\n",
       "      <td>7</td>\n",
       "      <td>1</td>\n",
       "      <td>1.402276e+06</td>\n",
       "      <td>10:10:00</td>\n",
       "      <td>14:00:00</td>\n",
       "      <td>2003</td>\n",
       "    </tr>\n",
       "  </tbody>\n",
       "</table>\n",
       "<p>12062 rows × 12 columns</p>\n",
       "</div>"
      ],
      "text/plain": [
       "              TUCASEID  TUACTDUR24  TUCUMDUR TRTIER1P TRTIER2P TRCODEP  \\\n",
       "0       20030100013280          60        60       13     1301  130124   \n",
       "23      20030100013352          60       455       07     0701  070101   \n",
       "54      20030100014165         435       540       05     0501  050101   \n",
       "110     20030100014209           2       184       03     0301  030112   \n",
       "134     20030100014427          10       175       05     0501  050101   \n",
       "...                ...         ...       ...      ...      ...     ...   \n",
       "412514  20031212033589          85       390       15     1502  150204   \n",
       "412531  20031212033591         150       690       11     1101  110101   \n",
       "412548  20031212033597          20       122       02     0206  020681   \n",
       "412568  20031212033621         268       510       05     0501  050101   \n",
       "412583  20031212033636         230       600       07     0701  070104   \n",
       "\n",
       "        TEWHERE  TELFS      TUFNWGTP TUSTARTTIM TUSTOPTIME  TUYEAR  \n",
       "0             9      2  8.155463e+06   04:00:00   05:00:00    2003  \n",
       "23            6      2  3.830527e+06   10:35:00   11:35:00    2003  \n",
       "54            2      1  3.068387e+06   05:45:00   13:00:00    2003  \n",
       "110          11      1  1.637826e+06   07:02:00   07:04:00    2003  \n",
       "134           2      1  6.574427e+06   06:45:00   06:55:00    2003  \n",
       "...         ...    ...           ...        ...        ...     ...  \n",
       "412514        5      1  2.434457e+06   09:05:00   10:30:00    2003  \n",
       "412531        4      1  1.731625e+06   13:00:00   15:30:00    2003  \n",
       "412548        9      1  3.575899e+06   05:42:00   06:02:00    2003  \n",
       "412568        2      1  6.004256e+06   08:02:00   12:30:00    2003  \n",
       "412583        7      1  1.402276e+06   10:10:00   14:00:00    2003  \n",
       "\n",
       "[12062 rows x 12 columns]"
      ]
     },
     "execution_count": 703,
     "metadata": {},
     "output_type": "execute_result"
    }
   ],
   "source": [
    "a = atus_2003_non_res_emp.drop_duplicates(subset=[\"TUCASEID\"])\n",
    "a"
   ]
  },
  {
   "cell_type": "code",
   "execution_count": 704,
   "metadata": {},
   "outputs": [
    {
     "data": {
      "text/plain": [
       "49094311252.45511"
      ]
     },
     "execution_count": 704,
     "metadata": {},
     "output_type": "execute_result"
    }
   ],
   "source": [
    "b = a[\"TUFNWGTP\"].sum()\n",
    "b"
   ]
  },
  {
   "cell_type": "code",
   "execution_count": 727,
   "metadata": {},
   "outputs": [
    {
     "data": {
      "text/plain": [
       "7.468203115711666"
      ]
     },
     "execution_count": 727,
     "metadata": {},
     "output_type": "execute_result"
    }
   ],
   "source": [
    "c = atus_2003_all_act_non_res_emp_multiplied_weight / b / 60\n",
    "c"
   ]
  },
  {
   "cell_type": "code",
   "execution_count": 728,
   "metadata": {},
   "outputs": [
    {
     "data": {
      "text/plain": [
       "array([2, 1])"
      ]
     },
     "execution_count": 728,
     "metadata": {},
     "output_type": "execute_result"
    }
   ],
   "source": [
    "a[\"TELFS\"].unique()"
   ]
  },
  {
   "cell_type": "code",
   "execution_count": 729,
   "metadata": {},
   "outputs": [
    {
     "data": {
      "text/plain": [
       "49094311252.45511"
      ]
     },
     "execution_count": 729,
     "metadata": {},
     "output_type": "execute_result"
    }
   ],
   "source": [
    "b"
   ]
  },
  {
   "cell_type": "code",
   "execution_count": 730,
   "metadata": {},
   "outputs": [
    {
     "data": {
      "text/plain": [
       "53187186872.01529"
      ]
     },
     "execution_count": 730,
     "metadata": {},
     "output_type": "execute_result"
    }
   ],
   "source": [
    "all_2003_emp_weight"
   ]
  },
  {
   "cell_type": "code",
   "execution_count": 731,
   "metadata": {},
   "outputs": [
    {
     "data": {
      "text/plain": [
       "53187186872.01529"
      ]
     },
     "execution_count": 731,
     "metadata": {},
     "output_type": "execute_result"
    }
   ],
   "source": [
    "all_2003_non_res_emp_weight"
   ]
  },
  {
   "cell_type": "markdown",
   "metadata": {},
   "source": [
    "## All Transportation"
   ]
  },
  {
   "cell_type": "markdown",
   "metadata": {},
   "source": [
    "### Transportation - Employed "
   ]
  },
  {
   "cell_type": "code",
   "execution_count": null,
   "metadata": {},
   "outputs": [],
   "source": []
  }
 ],
 "metadata": {
  "kernelspec": {
   "display_name": "Python 3",
   "language": "python",
   "name": "python3"
  },
  "language_info": {
   "codemirror_mode": {
    "name": "ipython",
    "version": 3
   },
   "file_extension": ".py",
   "mimetype": "text/x-python",
   "name": "python",
   "nbconvert_exporter": "python",
   "pygments_lexer": "ipython3",
   "version": "3.8.3"
  }
 },
 "nbformat": 4,
 "nbformat_minor": 4
}
