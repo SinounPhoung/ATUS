{
 "cells": [
  {
   "cell_type": "code",
   "execution_count": 1,
   "metadata": {},
   "outputs": [],
   "source": [
    "import pandas as pd \n",
    "import numpy as np \n",
    "%matplotlib inline\n",
    "import matplotlib.pyplot as plt\n",
    "from sklearn.linear_model import LinearRegression"
   ]
  },
  {
   "cell_type": "code",
   "execution_count": 2,
   "metadata": {},
   "outputs": [],
   "source": [
    "multi_act = pd.read_csv(\"ATUS DATA 03-19/atus_activity_0319.dat\", \n",
    "                        dtype= {\"TRCODEP\": object, \"TRTIER1P\": object, \"TRTIER2P\": object}) #using 2003-2019 activity file\n",
    "#multi_act"
   ]
  },
  {
   "cell_type": "code",
   "execution_count": 3,
   "metadata": {},
   "outputs": [],
   "source": [
    "multi_resp = pd.read_csv(\"ATUS DATA 03-19/atus_resp_0319.dat\")\n",
    "#multi_resp"
   ]
  },
  {
   "cell_type": "code",
   "execution_count": 4,
   "metadata": {},
   "outputs": [],
   "source": [
    "multi_merged = pd.merge(multi_act, multi_resp, on=\"TUCASEID\")\n",
    "multi_merged = multi_merged.filter([\"TUCASEID\",\"TUACTDUR24\",\"TUCUMDUR\",\"TRTIER1P\",\"TRTIER2P\",\"TRCODEP\", \n",
    "                                    \"TEWHERE\",\"TELFS\", \"TUFNWGTP\",\"TUSTARTTIM\",\"TUSTOPTIME\", \"TUYEAR\"])\n",
    "#multi_merged"
   ]
  },
  {
   "cell_type": "code",
   "execution_count": 5,
   "metadata": {},
   "outputs": [
    {
     "data": {
      "text/plain": [
       "array([2, 1, 4, 5, 3])"
      ]
     },
     "execution_count": 5,
     "metadata": {},
     "output_type": "execute_result"
    }
   ],
   "source": [
    "#TELFS = employment status \n",
    "multi_merged[\"TELFS\"].unique()"
   ]
  },
  {
   "cell_type": "markdown",
   "metadata": {},
   "source": [
    "## Unemployed Population"
   ]
  },
  {
   "cell_type": "code",
   "execution_count": 6,
   "metadata": {},
   "outputs": [
    {
     "data": {
      "text/plain": [
       "array([4, 3])"
      ]
     },
     "execution_count": 6,
     "metadata": {},
     "output_type": "execute_result"
    }
   ],
   "source": [
    "unemployed_codes = [3,4] # 3= Unemployed - on layoff, 3 = Unemployed - looking\n",
    "multi_merged_unemployed = multi_merged[multi_merged[\"TELFS\"].isin(unemployed_codes)]\n",
    "multi_merged_unemployed[\"TELFS\"].unique()"
   ]
  },
  {
   "cell_type": "code",
   "execution_count": 7,
   "metadata": {},
   "outputs": [
    {
     "data": {
      "text/plain": [
       "4392886319.613959"
      ]
     },
     "execution_count": 7,
     "metadata": {},
     "output_type": "execute_result"
    }
   ],
   "source": [
    "unemp_2003 = multi_merged_unemployed[multi_merged_unemployed[\"TUCASEID\"].apply(str).str.startswith(\"2003\")]\n",
    "atus_2003_unemp_weight = unemp_2003.drop_duplicates(subset=[\"TUCASEID\"])\n",
    "atus_2003_unemp_weight = atus_2003_unemp_weight[\"TUFNWGTP\"].sum()\n",
    "atus_2003_unemp_weight"
   ]
  },
  {
   "cell_type": "markdown",
   "metadata": {},
   "source": [
    "## 2003-2019 Residential - Unemployed"
   ]
  },
  {
   "cell_type": "code",
   "execution_count": 8,
   "metadata": {},
   "outputs": [],
   "source": [
    "#only residential location from 2003-2019\n",
    "residential_location = [-1,1,3]\n",
    "atus_multi_yr_res_unemp = multi_merged_unemployed[multi_merged_unemployed[\"TEWHERE\"].isin(residential_location)]\n",
    "#atus_multi_yr_res_unemp"
   ]
  },
  {
   "cell_type": "code",
   "execution_count": 9,
   "metadata": {},
   "outputs": [],
   "source": [
    "#atus residential year seperation by unemployed population \n",
    "atus_2003_res_unemp = atus_multi_yr_res_unemp[atus_multi_yr_res_unemp[\"TUCASEID\"].apply(str).str.startswith(\"2003\")]\n",
    "atus_2004_res_unemp = atus_multi_yr_res_unemp[atus_multi_yr_res_unemp[\"TUCASEID\"].apply(str).str.startswith(\"2004\")]\n",
    "atus_2005_res_unemp = atus_multi_yr_res_unemp[atus_multi_yr_res_unemp[\"TUCASEID\"].apply(str).str.startswith(\"2005\")]\n",
    "atus_2006_res_unemp = atus_multi_yr_res_unemp[atus_multi_yr_res_unemp[\"TUCASEID\"].apply(str).str.startswith(\"2006\")]\n",
    "atus_2007_res_unemp = atus_multi_yr_res_unemp[atus_multi_yr_res_unemp[\"TUCASEID\"].apply(str).str.startswith(\"2007\")]\n",
    "atus_2008_res_unemp = atus_multi_yr_res_unemp[atus_multi_yr_res_unemp[\"TUCASEID\"].apply(str).str.startswith(\"2008\")]\n",
    "atus_2009_res_unemp = atus_multi_yr_res_unemp[atus_multi_yr_res_unemp[\"TUCASEID\"].apply(str).str.startswith(\"2009\")]\n",
    "atus_2010_res_unemp = atus_multi_yr_res_unemp[atus_multi_yr_res_unemp[\"TUCASEID\"].apply(str).str.startswith(\"2010\")]\n",
    "atus_2011_res_unemp = atus_multi_yr_res_unemp[atus_multi_yr_res_unemp[\"TUCASEID\"].apply(str).str.startswith(\"2011\")]\n",
    "atus_2012_res_unemp = atus_multi_yr_res_unemp[atus_multi_yr_res_unemp[\"TUCASEID\"].apply(str).str.startswith(\"2012\")]\n",
    "atus_2013_res_unemp = atus_multi_yr_res_unemp[atus_multi_yr_res_unemp[\"TUCASEID\"].apply(str).str.startswith(\"2013\")]\n",
    "atus_2014_res_unemp = atus_multi_yr_res_unemp[atus_multi_yr_res_unemp[\"TUCASEID\"].apply(str).str.startswith(\"2014\")]\n",
    "atus_2015_res_unemp = atus_multi_yr_res_unemp[atus_multi_yr_res_unemp[\"TUCASEID\"].apply(str).str.startswith(\"2015\")]\n",
    "atus_2016_res_unemp = atus_multi_yr_res_unemp[atus_multi_yr_res_unemp[\"TUCASEID\"].apply(str).str.startswith(\"2016\")]\n",
    "atus_2017_res_unemp = atus_multi_yr_res_unemp[atus_multi_yr_res_unemp[\"TUCASEID\"].apply(str).str.startswith(\"2017\")]\n",
    "atus_2018_res_unemp = atus_multi_yr_res_unemp[atus_multi_yr_res_unemp[\"TUCASEID\"].apply(str).str.startswith(\"2018\")]\n",
    "atus_2019_res_unemp = atus_multi_yr_res_unemp[atus_multi_yr_res_unemp[\"TUCASEID\"].apply(str).str.startswith(\"2019\")]\n",
    "#atus_2003_res_unemp"
   ]
  },
  {
   "cell_type": "code",
   "execution_count": null,
   "metadata": {},
   "outputs": [],
   "source": []
  },
  {
   "cell_type": "markdown",
   "metadata": {},
   "source": [
    "### 2003 All Residential Activities - Unemployed Population"
   ]
  },
  {
   "cell_type": "code",
   "execution_count": 10,
   "metadata": {},
   "outputs": [],
   "source": [
    "atus_2003_all_res_unemp = atus_2003_res_unemp.groupby([\"TUCASEID\"]).sum().filter([\"TUCASEID\", \"TUACTDUR24\"])\n",
    "#atus_2003_all_res_unemp"
   ]
  },
  {
   "cell_type": "code",
   "execution_count": 11,
   "metadata": {},
   "outputs": [],
   "source": [
    "atus_2003_all_res_unemp_merge = pd.merge(atus_2003_all_res_unemp, multi_resp, on= \"TUCASEID\").filter([\"TUCASEID\",\"TUACTDUR24\",\"TUFNWGTP\"])\n",
    "#atus_2003_all_res_unemp_merge"
   ]
  },
  {
   "cell_type": "code",
   "execution_count": 12,
   "metadata": {},
   "outputs": [],
   "source": [
    "atus_2003_all_res_unemp_merge[\"Multiplied Weight\"] = atus_2003_all_res_unemp_merge[\"TUACTDUR24\"] * atus_2003_all_res_unemp_merge[\"TUFNWGTP\"]\n",
    "#atus_2003_all_res_unemp_merge"
   ]
  },
  {
   "cell_type": "code",
   "execution_count": 13,
   "metadata": {},
   "outputs": [
    {
     "data": {
      "text/plain": [
       "5182588217166.77"
      ]
     },
     "execution_count": 13,
     "metadata": {},
     "output_type": "execute_result"
    }
   ],
   "source": [
    "atus_2003_all_res_unemp_multiplied_weight = atus_2003_all_res_unemp_merge[\"Multiplied Weight\"].sum()\n",
    "atus_2003_all_res_unemp_multiplied_weight"
   ]
  },
  {
   "cell_type": "code",
   "execution_count": 14,
   "metadata": {},
   "outputs": [
    {
     "data": {
      "text/plain": [
       "4392886319.613959"
      ]
     },
     "execution_count": 14,
     "metadata": {},
     "output_type": "execute_result"
    }
   ],
   "source": [
    "unemp_2003 = multi_merged_unemployed[multi_merged_unemployed[\"TUCASEID\"].apply(str).str.startswith(\"2003\")]\n",
    "atus_2003_unemp_weight = unemp_2003.drop_duplicates(subset=[\"TUCASEID\"])\n",
    "atus_2003_unemp_weight = atus_2003_unemp_weight[\"TUFNWGTP\"].sum()\n",
    "atus_2003_unemp_weight"
   ]
  },
  {
   "cell_type": "code",
   "execution_count": 15,
   "metadata": {},
   "outputs": [
    {
     "data": {
      "text/plain": [
       "19.662805727625443"
      ]
     },
     "execution_count": 15,
     "metadata": {},
     "output_type": "execute_result"
    }
   ],
   "source": [
    "all_act_2003_res_unemp_hpd = atus_2003_all_res_unemp_multiplied_weight / atus_2003_unemp_weight / 60\n",
    "all_act_2003_res_unemp_hpd"
   ]
  },
  {
   "cell_type": "markdown",
   "metadata": {},
   "source": [
    "### 2004 All Residential Activities - Unemployed Population"
   ]
  },
  {
   "cell_type": "code",
   "execution_count": 16,
   "metadata": {},
   "outputs": [],
   "source": [
    "atus_2004_all_res_unemp = atus_2004_res_unemp.groupby([\"TUCASEID\"]).sum().filter([\"TUCASEID\", \"TUACTDUR24\"])\n",
    "#atus_2004_all_res_unemp"
   ]
  },
  {
   "cell_type": "code",
   "execution_count": 17,
   "metadata": {},
   "outputs": [],
   "source": [
    "atus_2004_all_res_unemp_merge = pd.merge(atus_2004_all_res_unemp, multi_resp, on= \"TUCASEID\").filter([\"TUCASEID\",\"TUACTDUR24\",\"TUFNWGTP\"])\n",
    "atus_2004_all_res_unemp_merge[\"Multiplied Weight\"] = atus_2004_all_res_unemp_merge[\"TUACTDUR24\"] * atus_2004_all_res_unemp_merge[\"TUFNWGTP\"]\n",
    "#atus_2004_all_res_unemp_merge"
   ]
  },
  {
   "cell_type": "code",
   "execution_count": 18,
   "metadata": {},
   "outputs": [],
   "source": [
    "unemp_2004 = multi_merged_unemployed[multi_merged_unemployed[\"TUCASEID\"].apply(str).str.startswith(\"2004\")]\n",
    "atus_2004_unemp_weight = unemp_2004.drop_duplicates(subset=[\"TUCASEID\"])\n",
    "atus_2004_unemp_weight = atus_2004_unemp_weight[\"TUFNWGTP\"].sum()\n",
    "\n",
    "atus_2004_all_res_unemp_multiplied_weight = atus_2004_all_res_unemp_merge[\"Multiplied Weight\"].sum()"
   ]
  },
  {
   "cell_type": "code",
   "execution_count": 19,
   "metadata": {},
   "outputs": [
    {
     "data": {
      "text/plain": [
       "19.577109088593215"
      ]
     },
     "execution_count": 19,
     "metadata": {},
     "output_type": "execute_result"
    }
   ],
   "source": [
    "all_act_2004_res_unemp_hpd = atus_2004_all_res_unemp_multiplied_weight / atus_2004_unemp_weight / 60\n",
    "all_act_2004_res_unemp_hpd"
   ]
  },
  {
   "cell_type": "markdown",
   "metadata": {},
   "source": [
    "### 2005 All Residential Activities - Unemployed Population"
   ]
  },
  {
   "cell_type": "code",
   "execution_count": 20,
   "metadata": {},
   "outputs": [],
   "source": [
    "atus_2005_all_res_unemp = atus_2005_res_unemp.groupby([\"TUCASEID\"]).sum().filter([\"TUCASEID\", \"TUACTDUR24\"])\n",
    "#atus_2005_all_res_unemp"
   ]
  },
  {
   "cell_type": "code",
   "execution_count": 21,
   "metadata": {},
   "outputs": [],
   "source": [
    "atus_2005_all_res_unemp_merge = pd.merge(atus_2005_all_res_unemp, multi_resp, on= \"TUCASEID\").filter([\"TUCASEID\",\"TUACTDUR24\",\"TUFNWGTP\"])\n",
    "atus_2005_all_res_unemp_merge[\"Multiplied Weight\"] = atus_2005_all_res_unemp_merge[\"TUACTDUR24\"] * atus_2005_all_res_unemp_merge[\"TUFNWGTP\"]\n",
    "#atus_2005_all_res_unemp_merge"
   ]
  },
  {
   "cell_type": "code",
   "execution_count": 22,
   "metadata": {},
   "outputs": [],
   "source": [
    "unemp_2005 = multi_merged_unemployed[multi_merged_unemployed[\"TUCASEID\"].apply(str).str.startswith(\"2005\")]\n",
    "atus_2005_unemp_weight = unemp_2005.drop_duplicates(subset=[\"TUCASEID\"])\n",
    "atus_2005_unemp_weight = atus_2005_unemp_weight[\"TUFNWGTP\"].sum()\n",
    "\n",
    "atus_2005_all_res_unemp_multiplied_weight = atus_2005_all_res_unemp_merge[\"Multiplied Weight\"].sum()"
   ]
  },
  {
   "cell_type": "code",
   "execution_count": 23,
   "metadata": {},
   "outputs": [
    {
     "data": {
      "text/plain": [
       "19.897607446565623"
      ]
     },
     "execution_count": 23,
     "metadata": {},
     "output_type": "execute_result"
    }
   ],
   "source": [
    "all_act_2005_res_unemp_hpd = atus_2005_all_res_unemp_multiplied_weight / atus_2005_unemp_weight / 60\n",
    "all_act_2005_res_unemp_hpd"
   ]
  },
  {
   "cell_type": "markdown",
   "metadata": {},
   "source": [
    "### 2006 All Residential Activities - Unemployed Population"
   ]
  },
  {
   "cell_type": "code",
   "execution_count": 24,
   "metadata": {},
   "outputs": [],
   "source": [
    "atus_2006_all_res_unemp = atus_2006_res_unemp.groupby([\"TUCASEID\"]).sum().filter([\"TUCASEID\", \"TUACTDUR24\"])\n",
    "#atus_2006_all_res_unemp"
   ]
  },
  {
   "cell_type": "code",
   "execution_count": 25,
   "metadata": {},
   "outputs": [],
   "source": [
    "atus_2006_all_res_unemp_merge = pd.merge(atus_2006_all_res_unemp, multi_resp, on= \"TUCASEID\").filter([\"TUCASEID\",\"TUACTDUR24\",\"TUFNWGTP\"])\n",
    "atus_2006_all_res_unemp_merge[\"Multiplied Weight\"] = atus_2006_all_res_unemp_merge[\"TUACTDUR24\"] * atus_2006_all_res_unemp_merge[\"TUFNWGTP\"]\n",
    "#atus_2006_all_res_unemp_merge"
   ]
  },
  {
   "cell_type": "code",
   "execution_count": 26,
   "metadata": {},
   "outputs": [],
   "source": [
    "unemp_2006 = multi_merged_unemployed[multi_merged_unemployed[\"TUCASEID\"].apply(str).str.startswith(\"2006\")]\n",
    "atus_2006_unemp_weight = unemp_2006.drop_duplicates(subset=[\"TUCASEID\"])\n",
    "atus_2006_unemp_weight = atus_2006_unemp_weight[\"TUFNWGTP\"].sum()\n",
    "\n",
    "atus_2006_all_res_unemp_multiplied_weight = atus_2006_all_res_unemp_merge[\"Multiplied Weight\"].sum()"
   ]
  },
  {
   "cell_type": "code",
   "execution_count": 27,
   "metadata": {},
   "outputs": [
    {
     "data": {
      "text/plain": [
       "19.834923059014486"
      ]
     },
     "execution_count": 27,
     "metadata": {},
     "output_type": "execute_result"
    }
   ],
   "source": [
    "all_act_2006_res_unemp_hpd = atus_2006_all_res_unemp_multiplied_weight / atus_2006_unemp_weight / 60\n",
    "all_act_2006_res_unemp_hpd"
   ]
  },
  {
   "cell_type": "markdown",
   "metadata": {},
   "source": [
    "### 2007 All Residential Activities - Unemployed Population"
   ]
  },
  {
   "cell_type": "code",
   "execution_count": 28,
   "metadata": {},
   "outputs": [],
   "source": [
    "atus_2007_all_res_unemp = atus_2007_res_unemp.groupby([\"TUCASEID\"]).sum().filter([\"TUCASEID\", \"TUACTDUR24\"])\n",
    "#atus_2007_all_res_unemp"
   ]
  },
  {
   "cell_type": "code",
   "execution_count": 29,
   "metadata": {},
   "outputs": [],
   "source": [
    "atus_2007_all_res_unemp_merge = pd.merge(atus_2007_all_res_unemp, multi_resp, on= \"TUCASEID\").filter([\"TUCASEID\",\"TUACTDUR24\",\"TUFNWGTP\"])\n",
    "atus_2007_all_res_unemp_merge[\"Multiplied Weight\"] = atus_2007_all_res_unemp_merge[\"TUACTDUR24\"] * atus_2007_all_res_unemp_merge[\"TUFNWGTP\"]\n",
    "#atus_2007_all_res_unemp_merge"
   ]
  },
  {
   "cell_type": "code",
   "execution_count": 30,
   "metadata": {},
   "outputs": [],
   "source": [
    "unemp_2007 = multi_merged_unemployed[multi_merged_unemployed[\"TUCASEID\"].apply(str).str.startswith(\"2007\")]\n",
    "atus_2007_unemp_weight = unemp_2007.drop_duplicates(subset=[\"TUCASEID\"])\n",
    "atus_2007_unemp_weight = atus_2007_unemp_weight[\"TUFNWGTP\"].sum()\n",
    "\n",
    "atus_2007_all_res_unemp_multiplied_weight = atus_2007_all_res_unemp_merge[\"Multiplied Weight\"].sum()"
   ]
  },
  {
   "cell_type": "code",
   "execution_count": 31,
   "metadata": {},
   "outputs": [
    {
     "data": {
      "text/plain": [
       "20.005739986573982"
      ]
     },
     "execution_count": 31,
     "metadata": {},
     "output_type": "execute_result"
    }
   ],
   "source": [
    "all_act_2007_res_unemp_hpd = atus_2007_all_res_unemp_multiplied_weight / atus_2007_unemp_weight / 60\n",
    "all_act_2007_res_unemp_hpd"
   ]
  },
  {
   "cell_type": "markdown",
   "metadata": {},
   "source": [
    "### 2008 All Residential Activities - Unemployed Population"
   ]
  },
  {
   "cell_type": "code",
   "execution_count": 32,
   "metadata": {},
   "outputs": [],
   "source": [
    "atus_2008_all_res_unemp = atus_2008_res_unemp.groupby([\"TUCASEID\"]).sum().filter([\"TUCASEID\", \"TUACTDUR24\"])\n",
    "#atus_2008_all_res_unemp"
   ]
  },
  {
   "cell_type": "code",
   "execution_count": 33,
   "metadata": {},
   "outputs": [],
   "source": [
    "atus_2008_all_res_unemp_merge = pd.merge(atus_2008_all_res_unemp, multi_resp, on= \"TUCASEID\").filter([\"TUCASEID\",\"TUACTDUR24\",\"TUFNWGTP\"])\n",
    "atus_2008_all_res_unemp_merge[\"Multiplied Weight\"] = atus_2008_all_res_unemp_merge[\"TUACTDUR24\"] * atus_2008_all_res_unemp_merge[\"TUFNWGTP\"]\n",
    "#atus_2008_all_res_unemp_merge"
   ]
  },
  {
   "cell_type": "code",
   "execution_count": 34,
   "metadata": {},
   "outputs": [],
   "source": [
    "unemp_2008 = multi_merged_unemployed[multi_merged_unemployed[\"TUCASEID\"].apply(str).str.startswith(\"2008\")]\n",
    "atus_2008_unemp_weight = unemp_2008.drop_duplicates(subset=[\"TUCASEID\"])\n",
    "atus_2008_unemp_weight = atus_2008_unemp_weight[\"TUFNWGTP\"].sum()\n",
    "\n",
    "atus_2008_all_res_unemp_multiplied_weight = atus_2008_all_res_unemp_merge[\"Multiplied Weight\"].sum()"
   ]
  },
  {
   "cell_type": "code",
   "execution_count": 35,
   "metadata": {},
   "outputs": [
    {
     "data": {
      "text/plain": [
       "19.937483559118274"
      ]
     },
     "execution_count": 35,
     "metadata": {},
     "output_type": "execute_result"
    }
   ],
   "source": [
    "all_act_2008_res_unemp_hpd = atus_2008_all_res_unemp_multiplied_weight / atus_2008_unemp_weight / 60\n",
    "all_act_2008_res_unemp_hpd"
   ]
  },
  {
   "cell_type": "markdown",
   "metadata": {},
   "source": [
    "### 2009 All Residential Activities - Unemployed Population"
   ]
  },
  {
   "cell_type": "code",
   "execution_count": 36,
   "metadata": {},
   "outputs": [],
   "source": [
    "atus_2009_all_res_unemp = atus_2009_res_unemp.groupby([\"TUCASEID\"]).sum().filter([\"TUCASEID\", \"TUACTDUR24\"])\n",
    "#atus_2009_all_res_unemp"
   ]
  },
  {
   "cell_type": "code",
   "execution_count": 37,
   "metadata": {},
   "outputs": [],
   "source": [
    "atus_2009_all_res_unemp_merge = pd.merge(atus_2009_all_res_unemp, multi_resp, on= \"TUCASEID\").filter([\"TUCASEID\",\"TUACTDUR24\",\"TUFNWGTP\"])\n",
    "atus_2009_all_res_unemp_merge[\"Multiplied Weight\"] = atus_2009_all_res_unemp_merge[\"TUACTDUR24\"] * atus_2009_all_res_unemp_merge[\"TUFNWGTP\"]\n",
    "#atus_2009_all_res_unemp_merge"
   ]
  },
  {
   "cell_type": "code",
   "execution_count": 38,
   "metadata": {},
   "outputs": [],
   "source": [
    "unemp_2009 = multi_merged_unemployed[multi_merged_unemployed[\"TUCASEID\"].apply(str).str.startswith(\"2009\")]\n",
    "atus_2009_unemp_weight = unemp_2009.drop_duplicates(subset=[\"TUCASEID\"])\n",
    "atus_2009_unemp_weight = atus_2009_unemp_weight[\"TUFNWGTP\"].sum()\n",
    "\n",
    "atus_2009_all_res_unemp_multiplied_weight = atus_2009_all_res_unemp_merge[\"Multiplied Weight\"].sum()"
   ]
  },
  {
   "cell_type": "code",
   "execution_count": 39,
   "metadata": {},
   "outputs": [
    {
     "data": {
      "text/plain": [
       "19.9508015597221"
      ]
     },
     "execution_count": 39,
     "metadata": {},
     "output_type": "execute_result"
    }
   ],
   "source": [
    "all_act_2009_res_unemp_hpd = atus_2009_all_res_unemp_multiplied_weight / atus_2009_unemp_weight / 60\n",
    "all_act_2009_res_unemp_hpd"
   ]
  },
  {
   "cell_type": "markdown",
   "metadata": {},
   "source": [
    "### 2010 All Residential Activities - Unemployed Population"
   ]
  },
  {
   "cell_type": "code",
   "execution_count": 40,
   "metadata": {},
   "outputs": [],
   "source": [
    "atus_2010_all_res_unemp = atus_2010_res_unemp.groupby([\"TUCASEID\"]).sum().filter([\"TUCASEID\", \"TUACTDUR24\"])\n",
    "#atus_2010_all_res_unemp"
   ]
  },
  {
   "cell_type": "code",
   "execution_count": 41,
   "metadata": {},
   "outputs": [],
   "source": [
    "atus_2010_all_res_unemp_merge = pd.merge(atus_2010_all_res_unemp, multi_resp, on= \"TUCASEID\").filter([\"TUCASEID\",\"TUACTDUR24\",\"TUFNWGTP\"])\n",
    "atus_2010_all_res_unemp_merge[\"Multiplied Weight\"] = atus_2010_all_res_unemp_merge[\"TUACTDUR24\"] * atus_2010_all_res_unemp_merge[\"TUFNWGTP\"]\n",
    "#atus_2010_all_res_unemp_merge"
   ]
  },
  {
   "cell_type": "code",
   "execution_count": 42,
   "metadata": {},
   "outputs": [],
   "source": [
    "unemp_2010 = multi_merged_unemployed[multi_merged_unemployed[\"TUCASEID\"].apply(str).str.startswith(\"2010\")]\n",
    "atus_2010_unemp_weight = unemp_2010.drop_duplicates(subset=[\"TUCASEID\"])\n",
    "atus_2010_unemp_weight = atus_2010_unemp_weight[\"TUFNWGTP\"].sum()\n",
    "\n",
    "atus_2010_all_res_unemp_multiplied_weight = atus_2010_all_res_unemp_merge[\"Multiplied Weight\"].sum()"
   ]
  },
  {
   "cell_type": "code",
   "execution_count": 43,
   "metadata": {},
   "outputs": [
    {
     "data": {
      "text/plain": [
       "20.006918469316233"
      ]
     },
     "execution_count": 43,
     "metadata": {},
     "output_type": "execute_result"
    }
   ],
   "source": [
    "all_act_2010_res_unemp_hpd = atus_2010_all_res_unemp_multiplied_weight / atus_2010_unemp_weight / 60\n",
    "all_act_2010_res_unemp_hpd"
   ]
  },
  {
   "cell_type": "markdown",
   "metadata": {},
   "source": [
    "### 2011 All Residential Activities - Unemployed Population"
   ]
  },
  {
   "cell_type": "code",
   "execution_count": 44,
   "metadata": {},
   "outputs": [],
   "source": [
    "atus_2011_all_res_unemp = atus_2011_res_unemp.groupby([\"TUCASEID\"]).sum().filter([\"TUCASEID\", \"TUACTDUR24\"])\n",
    "#atus_2011_all_res_unemp"
   ]
  },
  {
   "cell_type": "code",
   "execution_count": 45,
   "metadata": {},
   "outputs": [],
   "source": [
    "atus_2011_all_res_unemp_merge = pd.merge(atus_2011_all_res_unemp, multi_resp, on= \"TUCASEID\").filter([\"TUCASEID\",\"TUACTDUR24\",\"TUFNWGTP\"])\n",
    "atus_2011_all_res_unemp_merge[\"Multiplied Weight\"] = atus_2011_all_res_unemp_merge[\"TUACTDUR24\"] * atus_2011_all_res_unemp_merge[\"TUFNWGTP\"]\n",
    "#atus_2011_all_res_unemp_merge"
   ]
  },
  {
   "cell_type": "code",
   "execution_count": 46,
   "metadata": {},
   "outputs": [],
   "source": [
    "atus_2011_all_res_unemp_merge = pd.merge(atus_2011_all_res_unemp, multi_resp, on= \"TUCASEID\").filter([\"TUCASEID\",\"TUACTDUR24\",\"TUFNWGTP\"])\n",
    "atus_2011_all_res_unemp_merge[\"Multiplied Weight\"] = atus_2011_all_res_unemp_merge[\"TUACTDUR24\"] * atus_2011_all_res_unemp_merge[\"TUFNWGTP\"]\n",
    "#atus_2011_all_res_unemp_merge"
   ]
  },
  {
   "cell_type": "code",
   "execution_count": 47,
   "metadata": {},
   "outputs": [],
   "source": [
    "unemp_2011 = multi_merged_unemployed[multi_merged_unemployed[\"TUCASEID\"].apply(str).str.startswith(\"2011\")]\n",
    "atus_2011_unemp_weight = unemp_2011.drop_duplicates(subset=[\"TUCASEID\"])\n",
    "atus_2011_unemp_weight = atus_2011_unemp_weight[\"TUFNWGTP\"].sum()\n",
    "\n",
    "atus_2011_all_res_unemp_multiplied_weight = atus_2011_all_res_unemp_merge[\"Multiplied Weight\"].sum()"
   ]
  },
  {
   "cell_type": "code",
   "execution_count": 48,
   "metadata": {},
   "outputs": [
    {
     "data": {
      "text/plain": [
       "19.903429722504303"
      ]
     },
     "execution_count": 48,
     "metadata": {},
     "output_type": "execute_result"
    }
   ],
   "source": [
    "all_act_2011_res_unemp_hpd = atus_2011_all_res_unemp_multiplied_weight / atus_2011_unemp_weight / 60\n",
    "all_act_2011_res_unemp_hpd"
   ]
  },
  {
   "cell_type": "markdown",
   "metadata": {},
   "source": [
    "### 2012 All Residential Activities - Unemployed Population"
   ]
  },
  {
   "cell_type": "code",
   "execution_count": 49,
   "metadata": {},
   "outputs": [],
   "source": [
    "atus_2012_all_res_unemp = atus_2012_res_unemp.groupby([\"TUCASEID\"]).sum().filter([\"TUCASEID\", \"TUACTDUR24\"])\n",
    "#atus_2012_all_res_unemp"
   ]
  },
  {
   "cell_type": "code",
   "execution_count": 50,
   "metadata": {},
   "outputs": [],
   "source": [
    "atus_2012_all_res_unemp_merge = pd.merge(atus_2012_all_res_unemp, multi_resp, on= \"TUCASEID\").filter([\"TUCASEID\",\"TUACTDUR24\",\"TUFNWGTP\"])\n",
    "atus_2012_all_res_unemp_merge[\"Multiplied Weight\"] = atus_2012_all_res_unemp_merge[\"TUACTDUR24\"] * atus_2012_all_res_unemp_merge[\"TUFNWGTP\"]\n",
    "#atus_2012_all_res_unemp_merge"
   ]
  },
  {
   "cell_type": "code",
   "execution_count": 51,
   "metadata": {},
   "outputs": [],
   "source": [
    "atus_2012_all_res_unemp_merge = pd.merge(atus_2012_all_res_unemp, multi_resp, on= \"TUCASEID\").filter([\"TUCASEID\",\"TUACTDUR24\",\"TUFNWGTP\"])\n",
    "atus_2012_all_res_unemp_merge[\"Multiplied Weight\"] = atus_2012_all_res_unemp_merge[\"TUACTDUR24\"] * atus_2012_all_res_unemp_merge[\"TUFNWGTP\"]\n",
    "#atus_2012_all_res_unemp_merge"
   ]
  },
  {
   "cell_type": "code",
   "execution_count": 52,
   "metadata": {},
   "outputs": [],
   "source": [
    "unemp_2012 = multi_merged_unemployed[multi_merged_unemployed[\"TUCASEID\"].apply(str).str.startswith(\"2012\")]\n",
    "atus_2012_unemp_weight = unemp_2012.drop_duplicates(subset=[\"TUCASEID\"])\n",
    "atus_2012_unemp_weight = atus_2012_unemp_weight[\"TUFNWGTP\"].sum()\n",
    "\n",
    "atus_2012_all_res_unemp_multiplied_weight = atus_2012_all_res_unemp_merge[\"Multiplied Weight\"].sum()"
   ]
  },
  {
   "cell_type": "code",
   "execution_count": 53,
   "metadata": {},
   "outputs": [
    {
     "data": {
      "text/plain": [
       "19.79363715901313"
      ]
     },
     "execution_count": 53,
     "metadata": {},
     "output_type": "execute_result"
    }
   ],
   "source": [
    "all_act_2012_res_unemp_hpd = atus_2012_all_res_unemp_multiplied_weight / atus_2012_unemp_weight / 60\n",
    "all_act_2012_res_unemp_hpd"
   ]
  },
  {
   "cell_type": "markdown",
   "metadata": {},
   "source": [
    "### 2013 All Residential Activities - Unemployed Population"
   ]
  },
  {
   "cell_type": "code",
   "execution_count": 54,
   "metadata": {},
   "outputs": [],
   "source": [
    "atus_2013_all_res_unemp = atus_2013_res_unemp.groupby([\"TUCASEID\"]).sum().filter([\"TUCASEID\", \"TUACTDUR24\"])\n",
    "#atus_2013_all_res_unemp"
   ]
  },
  {
   "cell_type": "code",
   "execution_count": 55,
   "metadata": {},
   "outputs": [],
   "source": [
    "atus_2013_all_res_unemp_merge = pd.merge(atus_2013_all_res_unemp, multi_resp, on= \"TUCASEID\").filter([\"TUCASEID\",\"TUACTDUR24\",\"TUFNWGTP\"])\n",
    "atus_2013_all_res_unemp_merge[\"Multiplied Weight\"] = atus_2013_all_res_unemp_merge[\"TUACTDUR24\"] * atus_2013_all_res_unemp_merge[\"TUFNWGTP\"]\n",
    "#atus_2013_all_res_unemp_merge"
   ]
  },
  {
   "cell_type": "code",
   "execution_count": 56,
   "metadata": {},
   "outputs": [],
   "source": [
    "atus_2013_all_res_unemp_merge = pd.merge(atus_2013_all_res_unemp, multi_resp, on= \"TUCASEID\").filter([\"TUCASEID\",\"TUACTDUR24\",\"TUFNWGTP\"])\n",
    "atus_2013_all_res_unemp_merge[\"Multiplied Weight\"] = atus_2013_all_res_unemp_merge[\"TUACTDUR24\"] * atus_2013_all_res_unemp_merge[\"TUFNWGTP\"]\n",
    "#atus_2013_all_res_unemp_merge"
   ]
  },
  {
   "cell_type": "code",
   "execution_count": 57,
   "metadata": {},
   "outputs": [],
   "source": [
    "unemp_2013 = multi_merged_unemployed[multi_merged_unemployed[\"TUCASEID\"].apply(str).str.startswith(\"2013\")]\n",
    "atus_2013_unemp_weight = unemp_2013.drop_duplicates(subset=[\"TUCASEID\"])\n",
    "atus_2013_unemp_weight = atus_2013_unemp_weight[\"TUFNWGTP\"].sum()\n",
    "\n",
    "atus_2013_all_res_unemp_multiplied_weight = atus_2013_all_res_unemp_merge[\"Multiplied Weight\"].sum()"
   ]
  },
  {
   "cell_type": "code",
   "execution_count": 58,
   "metadata": {},
   "outputs": [
    {
     "data": {
      "text/plain": [
       "19.7551595126508"
      ]
     },
     "execution_count": 58,
     "metadata": {},
     "output_type": "execute_result"
    }
   ],
   "source": [
    "all_act_2013_res_unemp_hpd = atus_2013_all_res_unemp_multiplied_weight / atus_2013_unemp_weight / 60\n",
    "all_act_2013_res_unemp_hpd"
   ]
  },
  {
   "cell_type": "markdown",
   "metadata": {},
   "source": [
    "### 2014 All Residential Activities - Unemployed Population"
   ]
  },
  {
   "cell_type": "code",
   "execution_count": 59,
   "metadata": {},
   "outputs": [],
   "source": [
    "atus_2014_all_res_unemp = atus_2014_res_unemp.groupby([\"TUCASEID\"]).sum().filter([\"TUCASEID\", \"TUACTDUR24\"])\n",
    "#atus_2014_all_res_unemp"
   ]
  },
  {
   "cell_type": "code",
   "execution_count": 60,
   "metadata": {},
   "outputs": [],
   "source": [
    "atus_2014_all_res_unemp_merge = pd.merge(atus_2014_all_res_unemp, multi_resp, on= \"TUCASEID\").filter([\"TUCASEID\",\"TUACTDUR24\",\"TUFNWGTP\"])\n",
    "atus_2014_all_res_unemp_merge[\"Multiplied Weight\"] = atus_2014_all_res_unemp_merge[\"TUACTDUR24\"] * atus_2014_all_res_unemp_merge[\"TUFNWGTP\"]\n",
    "#atus_2014_all_res_unemp_merge"
   ]
  },
  {
   "cell_type": "code",
   "execution_count": 61,
   "metadata": {},
   "outputs": [],
   "source": [
    "atus_2014_all_res_unemp_merge = pd.merge(atus_2014_all_res_unemp, multi_resp, on= \"TUCASEID\").filter([\"TUCASEID\",\"TUACTDUR24\",\"TUFNWGTP\"])\n",
    "atus_2014_all_res_unemp_merge[\"Multiplied Weight\"] = atus_2014_all_res_unemp_merge[\"TUACTDUR24\"] * atus_2014_all_res_unemp_merge[\"TUFNWGTP\"]\n",
    "#atus_2014_all_res_unemp_merge"
   ]
  },
  {
   "cell_type": "code",
   "execution_count": 62,
   "metadata": {},
   "outputs": [],
   "source": [
    "unemp_2014 = multi_merged_unemployed[multi_merged_unemployed[\"TUCASEID\"].apply(str).str.startswith(\"2014\")]\n",
    "atus_2014_unemp_weight = unemp_2014.drop_duplicates(subset=[\"TUCASEID\"])\n",
    "atus_2014_unemp_weight = atus_2014_unemp_weight[\"TUFNWGTP\"].sum()\n",
    "\n",
    "atus_2014_all_res_unemp_multiplied_weight = atus_2014_all_res_unemp_merge[\"Multiplied Weight\"].sum()"
   ]
  },
  {
   "cell_type": "code",
   "execution_count": 63,
   "metadata": {},
   "outputs": [
    {
     "data": {
      "text/plain": [
       "20.169591742501517"
      ]
     },
     "execution_count": 63,
     "metadata": {},
     "output_type": "execute_result"
    }
   ],
   "source": [
    "all_act_2014_res_unemp_hpd = atus_2014_all_res_unemp_multiplied_weight / atus_2014_unemp_weight / 60\n",
    "all_act_2014_res_unemp_hpd"
   ]
  },
  {
   "cell_type": "markdown",
   "metadata": {},
   "source": [
    "### 2015 All Residential Activities - Unemployed Population"
   ]
  },
  {
   "cell_type": "code",
   "execution_count": 64,
   "metadata": {},
   "outputs": [],
   "source": [
    "atus_2015_all_res_unemp = atus_2015_res_unemp.groupby([\"TUCASEID\"]).sum().filter([\"TUCASEID\", \"TUACTDUR24\"])\n",
    "#atus_2015_all_res_unemp"
   ]
  },
  {
   "cell_type": "code",
   "execution_count": 65,
   "metadata": {},
   "outputs": [],
   "source": [
    "atus_2015_all_res_unemp_merge = pd.merge(atus_2015_all_res_unemp, multi_resp, on= \"TUCASEID\").filter([\"TUCASEID\",\"TUACTDUR24\",\"TUFNWGTP\"])\n",
    "atus_2015_all_res_unemp_merge[\"Multiplied Weight\"] = atus_2015_all_res_unemp_merge[\"TUACTDUR24\"] * atus_2015_all_res_unemp_merge[\"TUFNWGTP\"]\n",
    "#atus_2015_all_res_unemp_merge"
   ]
  },
  {
   "cell_type": "code",
   "execution_count": 66,
   "metadata": {},
   "outputs": [],
   "source": [
    "atus_2015_all_res_unemp_merge = pd.merge(atus_2015_all_res_unemp, multi_resp, on= \"TUCASEID\").filter([\"TUCASEID\",\"TUACTDUR24\",\"TUFNWGTP\"])\n",
    "atus_2015_all_res_unemp_merge[\"Multiplied Weight\"] = atus_2015_all_res_unemp_merge[\"TUACTDUR24\"] * atus_2015_all_res_unemp_merge[\"TUFNWGTP\"]\n",
    "#atus_2015_all_res_unemp_merge"
   ]
  },
  {
   "cell_type": "code",
   "execution_count": 67,
   "metadata": {},
   "outputs": [],
   "source": [
    "unemp_2015 = multi_merged_unemployed[multi_merged_unemployed[\"TUCASEID\"].apply(str).str.startswith(\"2015\")]\n",
    "atus_2015_unemp_weight = unemp_2015.drop_duplicates(subset=[\"TUCASEID\"])\n",
    "atus_2015_unemp_weight = atus_2015_unemp_weight[\"TUFNWGTP\"].sum()\n",
    "\n",
    "atus_2015_all_res_unemp_multiplied_weight = atus_2015_all_res_unemp_merge[\"Multiplied Weight\"].sum()"
   ]
  },
  {
   "cell_type": "code",
   "execution_count": 68,
   "metadata": {},
   "outputs": [
    {
     "data": {
      "text/plain": [
       "20.132570865253495"
      ]
     },
     "execution_count": 68,
     "metadata": {},
     "output_type": "execute_result"
    }
   ],
   "source": [
    "all_act_2015_res_unemp_hpd = atus_2015_all_res_unemp_multiplied_weight / atus_2015_unemp_weight / 60\n",
    "all_act_2015_res_unemp_hpd"
   ]
  },
  {
   "cell_type": "markdown",
   "metadata": {},
   "source": [
    "### 2016 All Residential Activities - Unemployed Population"
   ]
  },
  {
   "cell_type": "code",
   "execution_count": 69,
   "metadata": {},
   "outputs": [],
   "source": [
    "atus_2016_all_res_unemp = atus_2016_res_unemp.groupby([\"TUCASEID\"]).sum().filter([\"TUCASEID\", \"TUACTDUR24\"])\n",
    "#atus_2016_all_res_unemp"
   ]
  },
  {
   "cell_type": "code",
   "execution_count": 70,
   "metadata": {},
   "outputs": [],
   "source": [
    "atus_2016_all_res_unemp_merge = pd.merge(atus_2016_all_res_unemp, multi_resp, on= \"TUCASEID\").filter([\"TUCASEID\",\"TUACTDUR24\",\"TUFNWGTP\"])\n",
    "atus_2016_all_res_unemp_merge[\"Multiplied Weight\"] = atus_2016_all_res_unemp_merge[\"TUACTDUR24\"] * atus_2016_all_res_unemp_merge[\"TUFNWGTP\"]\n",
    "#atus_2016_all_res_unemp_merge"
   ]
  },
  {
   "cell_type": "code",
   "execution_count": 71,
   "metadata": {},
   "outputs": [],
   "source": [
    "atus_2016_all_res_unemp_merge = pd.merge(atus_2016_all_res_unemp, multi_resp, on= \"TUCASEID\").filter([\"TUCASEID\",\"TUACTDUR24\",\"TUFNWGTP\"])\n",
    "atus_2016_all_res_unemp_merge[\"Multiplied Weight\"] = atus_2016_all_res_unemp_merge[\"TUACTDUR24\"] * atus_2016_all_res_unemp_merge[\"TUFNWGTP\"]\n",
    "#atus_2016_all_res_unemp_merge"
   ]
  },
  {
   "cell_type": "code",
   "execution_count": 72,
   "metadata": {},
   "outputs": [],
   "source": [
    "unemp_2016 = multi_merged_unemployed[multi_merged_unemployed[\"TUCASEID\"].apply(str).str.startswith(\"2016\")]\n",
    "atus_2016_unemp_weight = unemp_2016.drop_duplicates(subset=[\"TUCASEID\"])\n",
    "atus_2016_unemp_weight = atus_2016_unemp_weight[\"TUFNWGTP\"].sum()\n",
    "\n",
    "atus_2016_all_res_unemp_multiplied_weight = atus_2016_all_res_unemp_merge[\"Multiplied Weight\"].sum()"
   ]
  },
  {
   "cell_type": "code",
   "execution_count": 73,
   "metadata": {},
   "outputs": [
    {
     "data": {
      "text/plain": [
       "19.837443399942643"
      ]
     },
     "execution_count": 73,
     "metadata": {},
     "output_type": "execute_result"
    }
   ],
   "source": [
    "all_act_2016_res_unemp_hpd = atus_2016_all_res_unemp_multiplied_weight / atus_2016_unemp_weight / 60\n",
    "all_act_2016_res_unemp_hpd"
   ]
  },
  {
   "cell_type": "markdown",
   "metadata": {},
   "source": [
    "### 2017 All Residential Activities - Unemployed Population"
   ]
  },
  {
   "cell_type": "code",
   "execution_count": 74,
   "metadata": {},
   "outputs": [],
   "source": [
    "atus_2017_all_res_unemp = atus_2017_res_unemp.groupby([\"TUCASEID\"]).sum().filter([\"TUCASEID\", \"TUACTDUR24\"])\n",
    "#atus_2017_all_res_unemp"
   ]
  },
  {
   "cell_type": "code",
   "execution_count": 75,
   "metadata": {},
   "outputs": [],
   "source": [
    "atus_2017_all_res_unemp_merge = pd.merge(atus_2017_all_res_unemp, multi_resp, on= \"TUCASEID\").filter([\"TUCASEID\",\"TUACTDUR24\",\"TUFNWGTP\"])\n",
    "atus_2017_all_res_unemp_merge[\"Multiplied Weight\"] = atus_2017_all_res_unemp_merge[\"TUACTDUR24\"] * atus_2017_all_res_unemp_merge[\"TUFNWGTP\"]\n",
    "#atus_2017_all_res_unemp_merge"
   ]
  },
  {
   "cell_type": "code",
   "execution_count": 76,
   "metadata": {},
   "outputs": [],
   "source": [
    "atus_2017_all_res_unemp_merge = pd.merge(atus_2017_all_res_unemp, multi_resp, on= \"TUCASEID\").filter([\"TUCASEID\",\"TUACTDUR24\",\"TUFNWGTP\"])\n",
    "atus_2017_all_res_unemp_merge[\"Multiplied Weight\"] = atus_2017_all_res_unemp_merge[\"TUACTDUR24\"] * atus_2017_all_res_unemp_merge[\"TUFNWGTP\"]\n",
    "#atus_2017_all_res_unemp_merge"
   ]
  },
  {
   "cell_type": "code",
   "execution_count": 77,
   "metadata": {},
   "outputs": [],
   "source": [
    "unemp_2017 = multi_merged_unemployed[multi_merged_unemployed[\"TUCASEID\"].apply(str).str.startswith(\"2017\")]\n",
    "atus_2017_unemp_weight = unemp_2017.drop_duplicates(subset=[\"TUCASEID\"])\n",
    "atus_2017_unemp_weight = atus_2017_unemp_weight[\"TUFNWGTP\"].sum()\n",
    "\n",
    "atus_2017_all_res_unemp_multiplied_weight = atus_2017_all_res_unemp_merge[\"Multiplied Weight\"].sum()"
   ]
  },
  {
   "cell_type": "code",
   "execution_count": 78,
   "metadata": {},
   "outputs": [
    {
     "data": {
      "text/plain": [
       "19.81927271327297"
      ]
     },
     "execution_count": 78,
     "metadata": {},
     "output_type": "execute_result"
    }
   ],
   "source": [
    "all_act_2017_res_unemp_hpd = atus_2017_all_res_unemp_multiplied_weight / atus_2017_unemp_weight / 60\n",
    "all_act_2017_res_unemp_hpd"
   ]
  },
  {
   "cell_type": "markdown",
   "metadata": {},
   "source": [
    "### 2018 All Residential Activities - Unemployed Population"
   ]
  },
  {
   "cell_type": "code",
   "execution_count": 79,
   "metadata": {},
   "outputs": [],
   "source": [
    "atus_2018_all_res_unemp = atus_2018_res_unemp.groupby([\"TUCASEID\"]).sum().filter([\"TUCASEID\", \"TUACTDUR24\"])\n",
    "#atus_2018_all_res_unemp"
   ]
  },
  {
   "cell_type": "code",
   "execution_count": 80,
   "metadata": {},
   "outputs": [],
   "source": [
    "atus_2018_all_res_unemp_merge = pd.merge(atus_2018_all_res_unemp, multi_resp, on= \"TUCASEID\").filter([\"TUCASEID\",\"TUACTDUR24\",\"TUFNWGTP\"])\n",
    "atus_2018_all_res_unemp_merge[\"Multiplied Weight\"] = atus_2018_all_res_unemp_merge[\"TUACTDUR24\"] * atus_2018_all_res_unemp_merge[\"TUFNWGTP\"]\n",
    "#atus_2018_all_res_unemp_merge"
   ]
  },
  {
   "cell_type": "code",
   "execution_count": 81,
   "metadata": {},
   "outputs": [],
   "source": [
    "atus_2018_all_res_unemp_merge = pd.merge(atus_2018_all_res_unemp, multi_resp, on= \"TUCASEID\").filter([\"TUCASEID\",\"TUACTDUR24\",\"TUFNWGTP\"])\n",
    "atus_2018_all_res_unemp_merge[\"Multiplied Weight\"] = atus_2018_all_res_unemp_merge[\"TUACTDUR24\"] * atus_2018_all_res_unemp_merge[\"TUFNWGTP\"]\n",
    "#atus_2018_all_res_unemp_merge"
   ]
  },
  {
   "cell_type": "code",
   "execution_count": 82,
   "metadata": {},
   "outputs": [],
   "source": [
    "unemp_2018 = multi_merged_unemployed[multi_merged_unemployed[\"TUCASEID\"].apply(str).str.startswith(\"2018\")]\n",
    "atus_2018_unemp_weight = unemp_2018.drop_duplicates(subset=[\"TUCASEID\"])\n",
    "atus_2018_unemp_weight = atus_2018_unemp_weight[\"TUFNWGTP\"].sum()\n",
    "\n",
    "atus_2018_all_res_unemp_multiplied_weight = atus_2018_all_res_unemp_merge[\"Multiplied Weight\"].sum()"
   ]
  },
  {
   "cell_type": "code",
   "execution_count": 83,
   "metadata": {},
   "outputs": [
    {
     "data": {
      "text/plain": [
       "20.674421058689273"
      ]
     },
     "execution_count": 83,
     "metadata": {},
     "output_type": "execute_result"
    }
   ],
   "source": [
    "all_act_2018_res_unemp_hpd = atus_2018_all_res_unemp_multiplied_weight / atus_2018_unemp_weight / 60\n",
    "all_act_2018_res_unemp_hpd"
   ]
  },
  {
   "cell_type": "markdown",
   "metadata": {},
   "source": [
    "### 2019 All Residential Activities - Unemployed Population"
   ]
  },
  {
   "cell_type": "code",
   "execution_count": 84,
   "metadata": {},
   "outputs": [],
   "source": [
    "atus_2019_all_res_unemp = atus_2019_res_unemp.groupby([\"TUCASEID\"]).sum().filter([\"TUCASEID\", \"TUACTDUR24\"])\n",
    "#atus_2019_all_res_unemp"
   ]
  },
  {
   "cell_type": "code",
   "execution_count": 85,
   "metadata": {},
   "outputs": [],
   "source": [
    "atus_2019_all_res_unemp_merge = pd.merge(atus_2019_all_res_unemp, multi_resp, on= \"TUCASEID\").filter([\"TUCASEID\",\"TUACTDUR24\",\"TUFNWGTP\"])\n",
    "atus_2019_all_res_unemp_merge[\"Multiplied Weight\"] = atus_2019_all_res_unemp_merge[\"TUACTDUR24\"] * atus_2019_all_res_unemp_merge[\"TUFNWGTP\"]\n",
    "#atus_2019_all_res_unemp_merge"
   ]
  },
  {
   "cell_type": "code",
   "execution_count": 86,
   "metadata": {},
   "outputs": [],
   "source": [
    "atus_2019_all_res_unemp_merge = pd.merge(atus_2019_all_res_unemp, multi_resp, on= \"TUCASEID\").filter([\"TUCASEID\",\"TUACTDUR24\",\"TUFNWGTP\"])\n",
    "atus_2019_all_res_unemp_merge[\"Multiplied Weight\"] = atus_2019_all_res_unemp_merge[\"TUACTDUR24\"] * atus_2019_all_res_unemp_merge[\"TUFNWGTP\"]\n",
    "#atus_2019_all_res_unemp_merge"
   ]
  },
  {
   "cell_type": "code",
   "execution_count": 87,
   "metadata": {},
   "outputs": [],
   "source": [
    "unemp_2019 = multi_merged_unemployed[multi_merged_unemployed[\"TUCASEID\"].apply(str).str.startswith(\"2019\")]\n",
    "atus_2019_unemp_weight = unemp_2019.drop_duplicates(subset=[\"TUCASEID\"])\n",
    "atus_2019_unemp_weight = atus_2019_unemp_weight[\"TUFNWGTP\"].sum()\n",
    "\n",
    "atus_2019_all_res_unemp_multiplied_weight = atus_2019_all_res_unemp_merge[\"Multiplied Weight\"].sum()"
   ]
  },
  {
   "cell_type": "code",
   "execution_count": 88,
   "metadata": {},
   "outputs": [
    {
     "data": {
      "text/plain": [
       "20.697726781418282"
      ]
     },
     "execution_count": 88,
     "metadata": {},
     "output_type": "execute_result"
    }
   ],
   "source": [
    "all_act_2019_res_unemp_hpd = atus_2019_all_res_unemp_multiplied_weight / atus_2019_unemp_weight / 60\n",
    "all_act_2019_res_unemp_hpd"
   ]
  },
  {
   "cell_type": "markdown",
   "metadata": {},
   "source": [
    "### Regresssion: All Residential Activity - Unemployed "
   ]
  },
  {
   "cell_type": "markdown",
   "metadata": {},
   "source": [
    "#### 2003 -2012 Regression "
   ]
  },
  {
   "cell_type": "code",
   "execution_count": 89,
   "metadata": {},
   "outputs": [],
   "source": [
    "year = np.array([2003, 2004, 2005, 2006, 2007, 2008, 2009, 2010,2011,2012]).reshape((-1, 1))\n",
    "activity_hours_per_day = np.array([all_act_2003_res_unemp_hpd, all_act_2004_res_unemp_hpd, all_act_2005_res_unemp_hpd,\n",
    "                                   all_act_2006_res_unemp_hpd, all_act_2007_res_unemp_hpd, all_act_2008_res_unemp_hpd,\n",
    "                                   all_act_2009_res_unemp_hpd, all_act_2010_res_unemp_hpd, all_act_2011_res_unemp_hpd,\n",
    "                                   all_act_2012_res_unemp_hpd]).reshape((-1, 1))\n",
    "\n",
    "activity_hours_per_yr = [i * 365 for i in activity_hours_per_day]\n",
    "#activity_hours_per_yr"
   ]
  },
  {
   "cell_type": "code",
   "execution_count": 90,
   "metadata": {},
   "outputs": [
    {
     "data": {
      "image/png": "[encoded data removed]",
      "text/plain": [
       "<Figure size 432x288 with 1 Axes>"
      ]
     },
     "metadata": {
      "needs_background": "light"
     },
     "output_type": "display_data"
    }
   ],
   "source": [
    "x = year\n",
    "y = activity_hours_per_yr\n",
    "x, y = np.array(x), np.array(y)\n",
    "\n",
    "model = LinearRegression().fit(x, y)\n",
    "\n",
    "y_pred = model.predict(x)  \n",
    "\n",
    "plt.scatter(x, y)\n",
    "plt.plot(x, y_pred, color='red')\n",
    "plt.show()"
   ]
  },
  {
   "cell_type": "code",
   "execution_count": 91,
   "metadata": {},
   "outputs": [
    {
     "data": {
      "text/plain": [
       "0.30238504437623914"
      ]
     },
     "execution_count": 91,
     "metadata": {},
     "output_type": "execute_result"
    }
   ],
   "source": [
    "coefficient_of_determination = model.score(x,y) #R sqaure value \n",
    "coefficient_of_determination"
   ]
  },
  {
   "cell_type": "code",
   "execution_count": 92,
   "metadata": {},
   "outputs": [
    {
     "data": {
      "text/plain": [
       "array([[9.48482697]])"
      ]
     },
     "execution_count": 92,
     "metadata": {},
     "output_type": "execute_result"
    }
   ],
   "source": [
    "all_act_2012_res_unemp_slope = model.coef_\n",
    "all_act_2012_res_unemp_slope"
   ]
  },
  {
   "cell_type": "markdown",
   "metadata": {},
   "source": [
    "#### 2003-2019 Regression"
   ]
  },
  {
   "cell_type": "code",
   "execution_count": 93,
   "metadata": {},
   "outputs": [],
   "source": [
    "year = np.array([2003, 2004, 2005, 2006, 2007, 2008, 2009, 2010,2011,2012, 2013, 2014, 2015, 2016, 2017, 2018, 2019]).reshape((-1, 1))\n",
    "activity_hours_per_day = np.array([all_act_2003_res_unemp_hpd, all_act_2004_res_unemp_hpd, all_act_2005_res_unemp_hpd,\n",
    "                                   all_act_2006_res_unemp_hpd, all_act_2007_res_unemp_hpd, all_act_2008_res_unemp_hpd,\n",
    "                                   all_act_2009_res_unemp_hpd, all_act_2010_res_unemp_hpd, all_act_2011_res_unemp_hpd,\n",
    "                                   all_act_2012_res_unemp_hpd, all_act_2013_res_unemp_hpd, all_act_2014_res_unemp_hpd,\n",
    "                                   all_act_2015_res_unemp_hpd, all_act_2016_res_unemp_hpd, all_act_2017_res_unemp_hpd,\n",
    "                                   all_act_2018_res_unemp_hpd, all_act_2019_res_unemp_hpd]).reshape((-1, 1))\n",
    "\n",
    "activity_hours_per_yr = [i * 365 for i in activity_hours_per_day]\n",
    "#activity_hours_per_yr"
   ]
  },
  {
   "cell_type": "code",
   "execution_count": 94,
   "metadata": {},
   "outputs": [
    {
     "data": {
      "image/png": "[encoded data removed]",
      "text/plain": [
       "<Figure size 432x288 with 1 Axes>"
      ]
     },
     "metadata": {
      "needs_background": "light"
     },
     "output_type": "display_data"
    }
   ],
   "source": [
    "x = year\n",
    "y = activity_hours_per_yr\n",
    "x, y = np.array(x), np.array(y)\n",
    "\n",
    "model = LinearRegression().fit(x, y)\n",
    "\n",
    "y_pred = model.predict(x)  \n",
    "\n",
    "plt.scatter(x, y)\n",
    "plt.plot(x, y_pred, color='red')\n",
    "plt.show()"
   ]
  },
  {
   "cell_type": "code",
   "execution_count": 95,
   "metadata": {},
   "outputs": [
    {
     "data": {
      "text/plain": [
       "0.4268805147380961"
      ]
     },
     "execution_count": 95,
     "metadata": {},
     "output_type": "execute_result"
    }
   ],
   "source": [
    "coefficient_of_determination = model.score(x,y) #R sqaure value \n",
    "coefficient_of_determination"
   ]
  },
  {
   "cell_type": "code",
   "execution_count": 96,
   "metadata": {},
   "outputs": [
    {
     "data": {
      "text/plain": [
       "array([[14.40517963]])"
      ]
     },
     "execution_count": 96,
     "metadata": {},
     "output_type": "execute_result"
    }
   ],
   "source": [
    "all_act_2019_res_unemp_slope = model.coef_\n",
    "all_act_2019_res_unemp_slope"
   ]
  },
  {
   "cell_type": "markdown",
   "metadata": {},
   "source": [
    "### 2003-2019 NonResidential - Unemployed"
   ]
  },
  {
   "cell_type": "code",
   "execution_count": 97,
   "metadata": {},
   "outputs": [],
   "source": [
    "#non-residential = 2,4,5,6,7,8,9,10,11,30,31,32"
   ]
  },
  {
   "cell_type": "code",
   "execution_count": 98,
   "metadata": {},
   "outputs": [],
   "source": [
    "nonresidential_location = [2,4,5,6,7,8,9,10,11,30,31,32]\n",
    "atus_multi_yr_nonres_unemp = multi_merged_unemployed[multi_merged_unemployed[\"TEWHERE\"].isin(nonresidential_location)]\n",
    "#atus_multi_yr_res_unemp"
   ]
  },
  {
   "cell_type": "code",
   "execution_count": 99,
   "metadata": {},
   "outputs": [],
   "source": [
    "atus_2003_nonres_unemp = atus_multi_yr_nonres_unemp[atus_multi_yr_nonres_unemp[\"TUCASEID\"].apply(str).str.startswith(\"2003\")]\n",
    "atus_2004_nonres_unemp = atus_multi_yr_nonres_unemp[atus_multi_yr_nonres_unemp[\"TUCASEID\"].apply(str).str.startswith(\"2004\")]\n",
    "atus_2005_nonres_unemp = atus_multi_yr_nonres_unemp[atus_multi_yr_nonres_unemp[\"TUCASEID\"].apply(str).str.startswith(\"2005\")]\n",
    "atus_2006_nonres_unemp = atus_multi_yr_nonres_unemp[atus_multi_yr_nonres_unemp[\"TUCASEID\"].apply(str).str.startswith(\"2006\")]\n",
    "atus_2007_nonres_unemp = atus_multi_yr_nonres_unemp[atus_multi_yr_nonres_unemp[\"TUCASEID\"].apply(str).str.startswith(\"2007\")]\n",
    "atus_2008_nonres_unemp = atus_multi_yr_nonres_unemp[atus_multi_yr_nonres_unemp[\"TUCASEID\"].apply(str).str.startswith(\"2008\")]\n",
    "atus_2009_nonres_unemp = atus_multi_yr_nonres_unemp[atus_multi_yr_nonres_unemp[\"TUCASEID\"].apply(str).str.startswith(\"2009\")]\n",
    "atus_2010_nonres_unemp = atus_multi_yr_nonres_unemp[atus_multi_yr_nonres_unemp[\"TUCASEID\"].apply(str).str.startswith(\"2010\")]\n",
    "atus_2011_nonres_unemp = atus_multi_yr_nonres_unemp[atus_multi_yr_nonres_unemp[\"TUCASEID\"].apply(str).str.startswith(\"2011\")]\n",
    "atus_2012_nonres_unemp = atus_multi_yr_nonres_unemp[atus_multi_yr_nonres_unemp[\"TUCASEID\"].apply(str).str.startswith(\"2012\")]\n",
    "atus_2013_nonres_unemp = atus_multi_yr_nonres_unemp[atus_multi_yr_nonres_unemp[\"TUCASEID\"].apply(str).str.startswith(\"2013\")]\n",
    "atus_2014_nonres_unemp = atus_multi_yr_nonres_unemp[atus_multi_yr_nonres_unemp[\"TUCASEID\"].apply(str).str.startswith(\"2014\")]\n",
    "atus_2015_nonres_unemp = atus_multi_yr_nonres_unemp[atus_multi_yr_nonres_unemp[\"TUCASEID\"].apply(str).str.startswith(\"2015\")]\n",
    "atus_2016_nonres_unemp = atus_multi_yr_nonres_unemp[atus_multi_yr_nonres_unemp[\"TUCASEID\"].apply(str).str.startswith(\"2016\")]\n",
    "atus_2017_nonres_unemp = atus_multi_yr_nonres_unemp[atus_multi_yr_nonres_unemp[\"TUCASEID\"].apply(str).str.startswith(\"2017\")]\n",
    "atus_2018_nonres_unemp = atus_multi_yr_nonres_unemp[atus_multi_yr_nonres_unemp[\"TUCASEID\"].apply(str).str.startswith(\"2018\")]\n",
    "atus_2019_nonres_unemp = atus_multi_yr_nonres_unemp[atus_multi_yr_nonres_unemp[\"TUCASEID\"].apply(str).str.startswith(\"2019\")]\n",
    "#atus_2003_nonres_unemp"
   ]
  },
  {
   "cell_type": "markdown",
   "metadata": {},
   "source": [
    "### 2003 All Activities - NonResidential - Unemployed"
   ]
  },
  {
   "cell_type": "code",
   "execution_count": 100,
   "metadata": {},
   "outputs": [],
   "source": [
    "atus_2003_all_nonres_unemp = atus_2003_nonres_unemp.groupby([\"TUCASEID\"]).sum().filter([\"TUCASEID\", \"TUACTDUR24\"])\n",
    "#atus_2003_all_nonres_unemp"
   ]
  },
  {
   "cell_type": "code",
   "execution_count": 101,
   "metadata": {},
   "outputs": [],
   "source": [
    "atus_2003_all_nonres_unemp_merge = pd.merge(atus_2003_all_nonres_unemp, multi_resp, on= \"TUCASEID\").filter([\"TUCASEID\",\"TUACTDUR24\",\"TUFNWGTP\"])\n",
    "#atus_2003_all_res_unemp_merge"
   ]
  },
  {
   "cell_type": "code",
   "execution_count": 102,
   "metadata": {},
   "outputs": [],
   "source": [
    "atus_2003_all_nonres_unemp_merge[\"Multiplied Weight\"]=atus_2003_all_nonres_unemp_merge[\"TUACTDUR24\"]*atus_2003_all_nonres_unemp_merge[\"TUFNWGTP\"]\n",
    "#atus_2003_all_nonres_unemp_merge"
   ]
  },
  {
   "cell_type": "code",
   "execution_count": 103,
   "metadata": {},
   "outputs": [
    {
     "data": {
      "text/plain": [
       "801281691332.0256"
      ]
     },
     "execution_count": 103,
     "metadata": {},
     "output_type": "execute_result"
    }
   ],
   "source": [
    "atus_2003_all_nonres_unemp_multiplied_weight = atus_2003_all_nonres_unemp_merge[\"Multiplied Weight\"].sum()\n",
    "atus_2003_all_nonres_unemp_multiplied_weight"
   ]
  },
  {
   "cell_type": "code",
   "execution_count": 104,
   "metadata": {},
   "outputs": [
    {
     "data": {
      "text/plain": [
       "3.040072946096031"
      ]
     },
     "execution_count": 104,
     "metadata": {},
     "output_type": "execute_result"
    }
   ],
   "source": [
    "all_act_2003_nonres_unemp_hpd = atus_2003_all_nonres_unemp_multiplied_weight / atus_2003_unemp_weight / 60\n",
    "all_act_2003_nonres_unemp_hpd"
   ]
  },
  {
   "cell_type": "markdown",
   "metadata": {},
   "source": [
    "### 2004 All Activities - NonResidential - Unemployed"
   ]
  },
  {
   "cell_type": "code",
   "execution_count": 105,
   "metadata": {},
   "outputs": [],
   "source": [
    "atus_2004_all_nonres_unemp = atus_2004_nonres_unemp.groupby([\"TUCASEID\"]).sum().filter([\"TUCASEID\", \"TUACTDUR24\"])\n",
    "#atus_2004_all_nonres_unemp"
   ]
  },
  {
   "cell_type": "code",
   "execution_count": 106,
   "metadata": {},
   "outputs": [],
   "source": [
    "atus_2004_all_nonres_unemp_merge = pd.merge(atus_2004_all_nonres_unemp, multi_resp, on= \"TUCASEID\").filter([\"TUCASEID\",\"TUACTDUR24\",\"TUFNWGTP\"])\n",
    "#atus_2004_all_res_unemp_merge"
   ]
  },
  {
   "cell_type": "code",
   "execution_count": 107,
   "metadata": {},
   "outputs": [
    {
     "data": {
      "text/plain": [
       "765983910291.1521"
      ]
     },
     "execution_count": 107,
     "metadata": {},
     "output_type": "execute_result"
    }
   ],
   "source": [
    "atus_2004_all_nonres_unemp_merge[\"Multiplied Weight\"]=atus_2004_all_nonres_unemp_merge[\"TUACTDUR24\"]*atus_2004_all_nonres_unemp_merge[\"TUFNWGTP\"]\n",
    "\n",
    "atus_2004_all_nonres_unemp_multiplied_weight = atus_2004_all_nonres_unemp_merge[\"Multiplied Weight\"].sum()\n",
    "atus_2004_all_nonres_unemp_multiplied_weight"
   ]
  },
  {
   "cell_type": "code",
   "execution_count": 108,
   "metadata": {},
   "outputs": [
    {
     "data": {
      "text/plain": [
       "3.0033150320575746"
      ]
     },
     "execution_count": 108,
     "metadata": {},
     "output_type": "execute_result"
    }
   ],
   "source": [
    "all_act_2004_nonres_unemp_hpd = atus_2004_all_nonres_unemp_multiplied_weight / atus_2004_unemp_weight / 60\n",
    "all_act_2004_nonres_unemp_hpd"
   ]
  },
  {
   "cell_type": "markdown",
   "metadata": {},
   "source": [
    "### 2005 All Activities - NonResidential - Unemployed"
   ]
  },
  {
   "cell_type": "code",
   "execution_count": 109,
   "metadata": {},
   "outputs": [],
   "source": [
    "atus_2005_all_nonres_unemp = atus_2005_nonres_unemp.groupby([\"TUCASEID\"]).sum().filter([\"TUCASEID\", \"TUACTDUR24\"])\n",
    "#atus_2005_all_nonres_unemp"
   ]
  },
  {
   "cell_type": "code",
   "execution_count": 110,
   "metadata": {},
   "outputs": [],
   "source": [
    "atus_2005_all_nonres_unemp_merge = pd.merge(atus_2005_all_nonres_unemp, multi_resp, on= \"TUCASEID\").filter([\"TUCASEID\",\"TUACTDUR24\",\"TUFNWGTP\"])\n",
    "#atus_2005_all_res_unemp_merge"
   ]
  },
  {
   "cell_type": "code",
   "execution_count": 111,
   "metadata": {},
   "outputs": [
    {
     "data": {
      "text/plain": [
       "687443297716.6096"
      ]
     },
     "execution_count": 111,
     "metadata": {},
     "output_type": "execute_result"
    }
   ],
   "source": [
    "atus_2005_all_nonres_unemp_merge[\"Multiplied Weight\"]=atus_2005_all_nonres_unemp_merge[\"TUACTDUR24\"]*atus_2005_all_nonres_unemp_merge[\"TUFNWGTP\"]\n",
    "\n",
    "atus_2005_all_nonres_unemp_multiplied_weight = atus_2005_all_nonres_unemp_merge[\"Multiplied Weight\"].sum()\n",
    "atus_2005_all_nonres_unemp_multiplied_weight"
   ]
  },
  {
   "cell_type": "code",
   "execution_count": 112,
   "metadata": {},
   "outputs": [
    {
     "data": {
      "text/plain": [
       "2.9633536647338685"
      ]
     },
     "execution_count": 112,
     "metadata": {},
     "output_type": "execute_result"
    }
   ],
   "source": [
    "all_act_2005_nonres_unemp_hpd = atus_2005_all_nonres_unemp_multiplied_weight / atus_2005_unemp_weight / 60\n",
    "all_act_2005_nonres_unemp_hpd"
   ]
  },
  {
   "cell_type": "markdown",
   "metadata": {},
   "source": [
    "### 2006 All Activities - NonResidential - Unemployed"
   ]
  },
  {
   "cell_type": "code",
   "execution_count": 113,
   "metadata": {},
   "outputs": [],
   "source": [
    "atus_2006_all_nonres_unemp = atus_2006_nonres_unemp.groupby([\"TUCASEID\"]).sum().filter([\"TUCASEID\", \"TUACTDUR24\"])\n",
    "#atus_2006_all_nonres_unemp"
   ]
  },
  {
   "cell_type": "code",
   "execution_count": 114,
   "metadata": {},
   "outputs": [],
   "source": [
    "atus_2006_all_nonres_unemp_merge = pd.merge(atus_2006_all_nonres_unemp, multi_resp, on= \"TUCASEID\").filter([\"TUCASEID\",\"TUACTDUR24\",\"TUFNWGTP\"])\n",
    "#atus_2006_all_res_unemp_merge"
   ]
  },
  {
   "cell_type": "code",
   "execution_count": 115,
   "metadata": {},
   "outputs": [
    {
     "data": {
      "text/plain": [
       "716282639980.1855"
      ]
     },
     "execution_count": 115,
     "metadata": {},
     "output_type": "execute_result"
    }
   ],
   "source": [
    "atus_2006_all_nonres_unemp_merge[\"Multiplied Weight\"]=atus_2006_all_nonres_unemp_merge[\"TUACTDUR24\"]*atus_2006_all_nonres_unemp_merge[\"TUFNWGTP\"]\n",
    "\n",
    "atus_2006_all_nonres_unemp_multiplied_weight = atus_2006_all_nonres_unemp_merge[\"Multiplied Weight\"].sum()\n",
    "atus_2006_all_nonres_unemp_multiplied_weight"
   ]
  },
  {
   "cell_type": "code",
   "execution_count": 116,
   "metadata": {},
   "outputs": [
    {
     "data": {
      "text/plain": [
       "3.0059256931249725"
      ]
     },
     "execution_count": 116,
     "metadata": {},
     "output_type": "execute_result"
    }
   ],
   "source": [
    "all_act_2006_nonres_unemp_hpd = atus_2006_all_nonres_unemp_multiplied_weight / atus_2006_unemp_weight / 60\n",
    "all_act_2006_nonres_unemp_hpd"
   ]
  },
  {
   "cell_type": "markdown",
   "metadata": {},
   "source": [
    "### 2007 All Activities - NonResidential - Unemployed"
   ]
  },
  {
   "cell_type": "code",
   "execution_count": 117,
   "metadata": {},
   "outputs": [],
   "source": [
    "atus_2007_all_nonres_unemp = atus_2007_nonres_unemp.groupby([\"TUCASEID\"]).sum().filter([\"TUCASEID\", \"TUACTDUR24\"])\n",
    "#atus_2007_all_nonres_unemp"
   ]
  },
  {
   "cell_type": "code",
   "execution_count": 118,
   "metadata": {},
   "outputs": [],
   "source": [
    "atus_2007_all_nonres_unemp_merge = pd.merge(atus_2007_all_nonres_unemp, multi_resp, on= \"TUCASEID\").filter([\"TUCASEID\",\"TUACTDUR24\",\"TUFNWGTP\"])\n",
    "#atus_2007_all_res_unemp_merge"
   ]
  },
  {
   "cell_type": "code",
   "execution_count": 119,
   "metadata": {},
   "outputs": [
    {
     "data": {
      "text/plain": [
       "645643002768.7258"
      ]
     },
     "execution_count": 119,
     "metadata": {},
     "output_type": "execute_result"
    }
   ],
   "source": [
    "atus_2007_all_nonres_unemp_merge[\"Multiplied Weight\"]=atus_2007_all_nonres_unemp_merge[\"TUACTDUR24\"]*atus_2007_all_nonres_unemp_merge[\"TUFNWGTP\"]\n",
    "\n",
    "atus_2007_all_nonres_unemp_multiplied_weight = atus_2007_all_nonres_unemp_merge[\"Multiplied Weight\"].sum()\n",
    "atus_2007_all_nonres_unemp_multiplied_weight"
   ]
  },
  {
   "cell_type": "code",
   "execution_count": 120,
   "metadata": {},
   "outputs": [
    {
     "data": {
      "text/plain": [
       "2.8024433680804304"
      ]
     },
     "execution_count": 120,
     "metadata": {},
     "output_type": "execute_result"
    }
   ],
   "source": [
    "all_act_2007_nonres_unemp_hpd = atus_2007_all_nonres_unemp_multiplied_weight / atus_2007_unemp_weight / 60\n",
    "all_act_2007_nonres_unemp_hpd"
   ]
  },
  {
   "cell_type": "markdown",
   "metadata": {},
   "source": [
    "### 2008 All Activities - NonResidential - Unemployed"
   ]
  },
  {
   "cell_type": "code",
   "execution_count": 121,
   "metadata": {},
   "outputs": [],
   "source": [
    "atus_2008_all_nonres_unemp = atus_2008_nonres_unemp.groupby([\"TUCASEID\"]).sum().filter([\"TUCASEID\", \"TUACTDUR24\"])\n",
    "#atus_2008_all_nonres_unemp"
   ]
  },
  {
   "cell_type": "code",
   "execution_count": 122,
   "metadata": {},
   "outputs": [],
   "source": [
    "atus_2008_all_nonres_unemp_merge = pd.merge(atus_2008_all_nonres_unemp, multi_resp, on= \"TUCASEID\").filter([\"TUCASEID\",\"TUACTDUR24\",\"TUFNWGTP\"])\n",
    "#atus_2008_all_res_unemp_merge"
   ]
  },
  {
   "cell_type": "code",
   "execution_count": 123,
   "metadata": {},
   "outputs": [
    {
     "data": {
      "text/plain": [
       "824877180969.8381"
      ]
     },
     "execution_count": 123,
     "metadata": {},
     "output_type": "execute_result"
    }
   ],
   "source": [
    "atus_2008_all_nonres_unemp_merge[\"Multiplied Weight\"]=atus_2008_all_nonres_unemp_merge[\"TUACTDUR24\"]*atus_2008_all_nonres_unemp_merge[\"TUFNWGTP\"]\n",
    "\n",
    "atus_2008_all_nonres_unemp_multiplied_weight = atus_2008_all_nonres_unemp_merge[\"Multiplied Weight\"].sum()\n",
    "atus_2008_all_nonres_unemp_multiplied_weight"
   ]
  },
  {
   "cell_type": "code",
   "execution_count": 124,
   "metadata": {},
   "outputs": [
    {
     "data": {
      "text/plain": [
       "2.975738562393001"
      ]
     },
     "execution_count": 124,
     "metadata": {},
     "output_type": "execute_result"
    }
   ],
   "source": [
    "all_act_2008_nonres_unemp_hpd = atus_2008_all_nonres_unemp_multiplied_weight / atus_2008_unemp_weight / 60\n",
    "all_act_2008_nonres_unemp_hpd"
   ]
  },
  {
   "cell_type": "markdown",
   "metadata": {},
   "source": [
    "### 2009 All Activities - NonResidential - Unemployed"
   ]
  },
  {
   "cell_type": "code",
   "execution_count": 125,
   "metadata": {},
   "outputs": [],
   "source": [
    "atus_2009_all_nonres_unemp = atus_2009_nonres_unemp.groupby([\"TUCASEID\"]).sum().filter([\"TUCASEID\", \"TUACTDUR24\"])\n",
    "#atus_2009_all_nonres_unemp"
   ]
  },
  {
   "cell_type": "code",
   "execution_count": 126,
   "metadata": {},
   "outputs": [],
   "source": [
    "atus_2009_all_nonres_unemp_merge = pd.merge(atus_2009_all_nonres_unemp, multi_resp, on= \"TUCASEID\").filter([\"TUCASEID\",\"TUACTDUR24\",\"TUFNWGTP\"])\n",
    "#atus_2009_all_res_unemp_merge"
   ]
  },
  {
   "cell_type": "code",
   "execution_count": 127,
   "metadata": {},
   "outputs": [
    {
     "data": {
      "text/plain": [
       "1186123686160.5032"
      ]
     },
     "execution_count": 127,
     "metadata": {},
     "output_type": "execute_result"
    }
   ],
   "source": [
    "atus_2009_all_nonres_unemp_merge[\"Multiplied Weight\"]=atus_2009_all_nonres_unemp_merge[\"TUACTDUR24\"]*atus_2009_all_nonres_unemp_merge[\"TUFNWGTP\"]\n",
    "\n",
    "atus_2009_all_nonres_unemp_multiplied_weight = atus_2009_all_nonres_unemp_merge[\"Multiplied Weight\"].sum()\n",
    "atus_2009_all_nonres_unemp_multiplied_weight"
   ]
  },
  {
   "cell_type": "code",
   "execution_count": 128,
   "metadata": {},
   "outputs": [
    {
     "data": {
      "text/plain": [
       "2.897698348779676"
      ]
     },
     "execution_count": 128,
     "metadata": {},
     "output_type": "execute_result"
    }
   ],
   "source": [
    "all_act_2009_nonres_unemp_hpd = atus_2009_all_nonres_unemp_multiplied_weight / atus_2009_unemp_weight / 60\n",
    "all_act_2009_nonres_unemp_hpd"
   ]
  },
  {
   "cell_type": "markdown",
   "metadata": {},
   "source": [
    "### 2010 All Activities - NonResidential - Unemployed"
   ]
  },
  {
   "cell_type": "code",
   "execution_count": 129,
   "metadata": {},
   "outputs": [],
   "source": [
    "atus_2010_all_nonres_unemp = atus_2010_nonres_unemp.groupby([\"TUCASEID\"]).sum().filter([\"TUCASEID\", \"TUACTDUR24\"])\n",
    "#atus_2010_all_nonres_unemp"
   ]
  },
  {
   "cell_type": "code",
   "execution_count": 130,
   "metadata": {},
   "outputs": [],
   "source": [
    "atus_2010_all_nonres_unemp_merge = pd.merge(atus_2010_all_nonres_unemp, multi_resp, on= \"TUCASEID\").filter([\"TUCASEID\",\"TUACTDUR24\",\"TUFNWGTP\"])\n",
    "#atus_2010_all_res_unemp_merge"
   ]
  },
  {
   "cell_type": "code",
   "execution_count": 131,
   "metadata": {},
   "outputs": [
    {
     "data": {
      "text/plain": [
       "1182813315454.4673"
      ]
     },
     "execution_count": 131,
     "metadata": {},
     "output_type": "execute_result"
    }
   ],
   "source": [
    "atus_2010_all_nonres_unemp_merge[\"Multiplied Weight\"]=atus_2010_all_nonres_unemp_merge[\"TUACTDUR24\"]*atus_2010_all_nonres_unemp_merge[\"TUFNWGTP\"]\n",
    "\n",
    "atus_2010_all_nonres_unemp_multiplied_weight = atus_2010_all_nonres_unemp_merge[\"Multiplied Weight\"].sum()\n",
    "atus_2010_all_nonres_unemp_multiplied_weight"
   ]
  },
  {
   "cell_type": "code",
   "execution_count": 132,
   "metadata": {},
   "outputs": [
    {
     "data": {
      "text/plain": [
       "2.8219498559053204"
      ]
     },
     "execution_count": 132,
     "metadata": {},
     "output_type": "execute_result"
    }
   ],
   "source": [
    "all_act_2010_nonres_unemp_hpd = atus_2010_all_nonres_unemp_multiplied_weight / atus_2010_unemp_weight / 60\n",
    "all_act_2010_nonres_unemp_hpd"
   ]
  },
  {
   "cell_type": "markdown",
   "metadata": {},
   "source": [
    "### 2011 All Activities - NonResidential - Unemployed"
   ]
  },
  {
   "cell_type": "code",
   "execution_count": 133,
   "metadata": {},
   "outputs": [],
   "source": [
    "atus_2011_all_nonres_unemp = atus_2011_nonres_unemp.groupby([\"TUCASEID\"]).sum().filter([\"TUCASEID\", \"TUACTDUR24\"])\n",
    "#atus_2011_all_nonres_unemp"
   ]
  },
  {
   "cell_type": "code",
   "execution_count": 134,
   "metadata": {},
   "outputs": [],
   "source": [
    "atus_2011_all_nonres_unemp_merge = pd.merge(atus_2011_all_nonres_unemp, multi_resp, on= \"TUCASEID\").filter([\"TUCASEID\",\"TUACTDUR24\",\"TUFNWGTP\"])\n",
    "#atus_2011_all_res_unemp_merge"
   ]
  },
  {
   "cell_type": "code",
   "execution_count": 135,
   "metadata": {},
   "outputs": [
    {
     "data": {
      "text/plain": [
       "1155633312527.121"
      ]
     },
     "execution_count": 135,
     "metadata": {},
     "output_type": "execute_result"
    }
   ],
   "source": [
    "atus_2011_all_nonres_unemp_merge[\"Multiplied Weight\"]=atus_2011_all_nonres_unemp_merge[\"TUACTDUR24\"]*atus_2011_all_nonres_unemp_merge[\"TUFNWGTP\"]\n",
    "\n",
    "atus_2011_all_nonres_unemp_multiplied_weight = atus_2011_all_nonres_unemp_merge[\"Multiplied Weight\"].sum()\n",
    "atus_2011_all_nonres_unemp_multiplied_weight"
   ]
  },
  {
   "cell_type": "code",
   "execution_count": 136,
   "metadata": {},
   "outputs": [
    {
     "data": {
      "text/plain": [
       "2.9787264591991285"
      ]
     },
     "execution_count": 136,
     "metadata": {},
     "output_type": "execute_result"
    }
   ],
   "source": [
    "all_act_2011_nonres_unemp_hpd = atus_2011_all_nonres_unemp_multiplied_weight / atus_2011_unemp_weight / 60\n",
    "all_act_2011_nonres_unemp_hpd"
   ]
  },
  {
   "cell_type": "markdown",
   "metadata": {},
   "source": [
    "### 2012 All Activities - NonResidential - Unemployed"
   ]
  },
  {
   "cell_type": "code",
   "execution_count": 137,
   "metadata": {},
   "outputs": [],
   "source": [
    "atus_2012_all_nonres_unemp = atus_2012_nonres_unemp.groupby([\"TUCASEID\"]).sum().filter([\"TUCASEID\", \"TUACTDUR24\"])\n",
    "#atus_2012_all_nonres_unemp"
   ]
  },
  {
   "cell_type": "code",
   "execution_count": 138,
   "metadata": {},
   "outputs": [],
   "source": [
    "atus_2012_all_nonres_unemp_merge = pd.merge(atus_2012_all_nonres_unemp, multi_resp, on= \"TUCASEID\").filter([\"TUCASEID\",\"TUACTDUR24\",\"TUFNWGTP\"])\n",
    "#atus_2012_all_res_unemp_merge"
   ]
  },
  {
   "cell_type": "code",
   "execution_count": 139,
   "metadata": {},
   "outputs": [
    {
     "data": {
      "text/plain": [
       "1028586884714.4003"
      ]
     },
     "execution_count": 139,
     "metadata": {},
     "output_type": "execute_result"
    }
   ],
   "source": [
    "atus_2012_all_nonres_unemp_merge[\"Multiplied Weight\"]=atus_2012_all_nonres_unemp_merge[\"TUACTDUR24\"]*atus_2012_all_nonres_unemp_merge[\"TUFNWGTP\"]\n",
    "\n",
    "atus_2012_all_nonres_unemp_multiplied_weight = atus_2012_all_nonres_unemp_merge[\"Multiplied Weight\"].sum()\n",
    "atus_2012_all_nonres_unemp_multiplied_weight"
   ]
  },
  {
   "cell_type": "code",
   "execution_count": 140,
   "metadata": {},
   "outputs": [
    {
     "data": {
      "text/plain": [
       "3.0541365336546415"
      ]
     },
     "execution_count": 140,
     "metadata": {},
     "output_type": "execute_result"
    }
   ],
   "source": [
    "all_act_2012_nonres_unemp_hpd = atus_2012_all_nonres_unemp_multiplied_weight / atus_2012_unemp_weight / 60\n",
    "all_act_2012_nonres_unemp_hpd"
   ]
  },
  {
   "cell_type": "markdown",
   "metadata": {},
   "source": [
    "### 2013 All Activities - NonResidential - Unemployed"
   ]
  },
  {
   "cell_type": "code",
   "execution_count": 141,
   "metadata": {},
   "outputs": [],
   "source": [
    "atus_2013_all_nonres_unemp = atus_2013_nonres_unemp.groupby([\"TUCASEID\"]).sum().filter([\"TUCASEID\", \"TUACTDUR24\"])\n",
    "#atus_2013_all_nonres_unemp"
   ]
  },
  {
   "cell_type": "code",
   "execution_count": 142,
   "metadata": {},
   "outputs": [],
   "source": [
    "atus_2013_all_nonres_unemp_merge = pd.merge(atus_2013_all_nonres_unemp, multi_resp, on= \"TUCASEID\").filter([\"TUCASEID\",\"TUACTDUR24\",\"TUFNWGTP\"])\n",
    "#atus_2013_all_res_unemp_merge"
   ]
  },
  {
   "cell_type": "code",
   "execution_count": 143,
   "metadata": {},
   "outputs": [
    {
     "data": {
      "text/plain": [
       "989381309428.4365"
      ]
     },
     "execution_count": 143,
     "metadata": {},
     "output_type": "execute_result"
    }
   ],
   "source": [
    "atus_2013_all_nonres_unemp_merge[\"Multiplied Weight\"]=atus_2013_all_nonres_unemp_merge[\"TUACTDUR24\"]*atus_2013_all_nonres_unemp_merge[\"TUFNWGTP\"]\n",
    "\n",
    "atus_2013_all_nonres_unemp_multiplied_weight = atus_2013_all_nonres_unemp_merge[\"Multiplied Weight\"].sum()\n",
    "atus_2013_all_nonres_unemp_multiplied_weight"
   ]
  },
  {
   "cell_type": "code",
   "execution_count": 144,
   "metadata": {},
   "outputs": [
    {
     "data": {
      "text/plain": [
       "3.127352567560488"
      ]
     },
     "execution_count": 144,
     "metadata": {},
     "output_type": "execute_result"
    }
   ],
   "source": [
    "all_act_2013_nonres_unemp_hpd = atus_2013_all_nonres_unemp_multiplied_weight / atus_2013_unemp_weight / 60\n",
    "all_act_2013_nonres_unemp_hpd"
   ]
  },
  {
   "cell_type": "markdown",
   "metadata": {},
   "source": [
    "### 2014 All Activities - NonResidential - Unemployed"
   ]
  },
  {
   "cell_type": "code",
   "execution_count": 145,
   "metadata": {},
   "outputs": [],
   "source": [
    "atus_2014_all_nonres_unemp = atus_2014_nonres_unemp.groupby([\"TUCASEID\"]).sum().filter([\"TUCASEID\", \"TUACTDUR24\"])\n",
    "#atus_2014_all_nonres_unemp"
   ]
  },
  {
   "cell_type": "code",
   "execution_count": 146,
   "metadata": {},
   "outputs": [],
   "source": [
    "atus_2014_all_nonres_unemp_merge = pd.merge(atus_2014_all_nonres_unemp, multi_resp, on= \"TUCASEID\").filter([\"TUCASEID\",\"TUACTDUR24\",\"TUFNWGTP\"])\n",
    "#atus_2014_all_res_unemp_merge"
   ]
  },
  {
   "cell_type": "code",
   "execution_count": 147,
   "metadata": {},
   "outputs": [
    {
     "data": {
      "text/plain": [
       "803749134299.7153"
      ]
     },
     "execution_count": 147,
     "metadata": {},
     "output_type": "execute_result"
    }
   ],
   "source": [
    "atus_2014_all_nonres_unemp_merge[\"Multiplied Weight\"]=atus_2014_all_nonres_unemp_merge[\"TUACTDUR24\"]*atus_2014_all_nonres_unemp_merge[\"TUFNWGTP\"]\n",
    "\n",
    "atus_2014_all_nonres_unemp_multiplied_weight = atus_2014_all_nonres_unemp_merge[\"Multiplied Weight\"].sum()\n",
    "atus_2014_all_nonres_unemp_multiplied_weight"
   ]
  },
  {
   "cell_type": "code",
   "execution_count": 148,
   "metadata": {},
   "outputs": [
    {
     "data": {
      "text/plain": [
       "2.702178394262446"
      ]
     },
     "execution_count": 148,
     "metadata": {},
     "output_type": "execute_result"
    }
   ],
   "source": [
    "all_act_2014_nonres_unemp_hpd = atus_2014_all_nonres_unemp_multiplied_weight / atus_2014_unemp_weight / 60\n",
    "all_act_2014_nonres_unemp_hpd"
   ]
  },
  {
   "cell_type": "markdown",
   "metadata": {},
   "source": [
    "### 2015 All Activities - NonResidential - Unemployed"
   ]
  },
  {
   "cell_type": "code",
   "execution_count": 149,
   "metadata": {},
   "outputs": [],
   "source": [
    "atus_2015_all_nonres_unemp = atus_2015_nonres_unemp.groupby([\"TUCASEID\"]).sum().filter([\"TUCASEID\", \"TUACTDUR24\"])\n",
    "#atus_2015_all_nonres_unemp"
   ]
  },
  {
   "cell_type": "code",
   "execution_count": 150,
   "metadata": {},
   "outputs": [],
   "source": [
    "atus_2015_all_nonres_unemp_merge = pd.merge(atus_2015_all_nonres_unemp, multi_resp, on= \"TUCASEID\").filter([\"TUCASEID\",\"TUACTDUR24\",\"TUFNWGTP\"])\n",
    "#atus_2015_all_res_unemp_merge"
   ]
  },
  {
   "cell_type": "code",
   "execution_count": 151,
   "metadata": {},
   "outputs": [
    {
     "data": {
      "text/plain": [
       "781899560089.572"
      ]
     },
     "execution_count": 151,
     "metadata": {},
     "output_type": "execute_result"
    }
   ],
   "source": [
    "atus_2015_all_nonres_unemp_merge[\"Multiplied Weight\"]=atus_2015_all_nonres_unemp_merge[\"TUACTDUR24\"]*atus_2015_all_nonres_unemp_merge[\"TUFNWGTP\"]\n",
    "\n",
    "atus_2015_all_nonres_unemp_multiplied_weight = atus_2015_all_nonres_unemp_merge[\"Multiplied Weight\"].sum()\n",
    "atus_2015_all_nonres_unemp_multiplied_weight"
   ]
  },
  {
   "cell_type": "code",
   "execution_count": 152,
   "metadata": {},
   "outputs": [
    {
     "data": {
      "text/plain": [
       "2.7785867827935915"
      ]
     },
     "execution_count": 152,
     "metadata": {},
     "output_type": "execute_result"
    }
   ],
   "source": [
    "all_act_2015_nonres_unemp_hpd = atus_2015_all_nonres_unemp_multiplied_weight / atus_2015_unemp_weight / 60\n",
    "all_act_2015_nonres_unemp_hpd"
   ]
  },
  {
   "cell_type": "markdown",
   "metadata": {},
   "source": [
    "### 2016 All Activities - NonResidential - Unemployed"
   ]
  },
  {
   "cell_type": "code",
   "execution_count": 153,
   "metadata": {},
   "outputs": [],
   "source": [
    "atus_2016_all_nonres_unemp = atus_2016_nonres_unemp.groupby([\"TUCASEID\"]).sum().filter([\"TUCASEID\", \"TUACTDUR24\"])\n",
    "#atus_2016_all_nonres_unemp"
   ]
  },
  {
   "cell_type": "code",
   "execution_count": 154,
   "metadata": {},
   "outputs": [],
   "source": [
    "atus_2016_all_nonres_unemp_merge = pd.merge(atus_2016_all_nonres_unemp, multi_resp, on= \"TUCASEID\").filter([\"TUCASEID\",\"TUACTDUR24\",\"TUFNWGTP\"])\n",
    "#atus_2016_all_res_unemp_merge"
   ]
  },
  {
   "cell_type": "code",
   "execution_count": 155,
   "metadata": {},
   "outputs": [
    {
     "data": {
      "text/plain": [
       "689079101483.5421"
      ]
     },
     "execution_count": 155,
     "metadata": {},
     "output_type": "execute_result"
    }
   ],
   "source": [
    "atus_2016_all_nonres_unemp_merge[\"Multiplied Weight\"]=atus_2016_all_nonres_unemp_merge[\"TUACTDUR24\"]*atus_2016_all_nonres_unemp_merge[\"TUFNWGTP\"]\n",
    "\n",
    "atus_2016_all_nonres_unemp_multiplied_weight = atus_2016_all_nonres_unemp_merge[\"Multiplied Weight\"].sum()\n",
    "atus_2016_all_nonres_unemp_multiplied_weight"
   ]
  },
  {
   "cell_type": "code",
   "execution_count": 156,
   "metadata": {},
   "outputs": [
    {
     "data": {
      "text/plain": [
       "2.9939135230635423"
      ]
     },
     "execution_count": 156,
     "metadata": {},
     "output_type": "execute_result"
    }
   ],
   "source": [
    "all_act_2016_nonres_unemp_hpd = atus_2016_all_nonres_unemp_multiplied_weight / atus_2016_unemp_weight / 60\n",
    "all_act_2016_nonres_unemp_hpd"
   ]
  },
  {
   "cell_type": "markdown",
   "metadata": {},
   "source": [
    "### 2017 All Activities - NonResidential - Unemployed"
   ]
  },
  {
   "cell_type": "code",
   "execution_count": 157,
   "metadata": {},
   "outputs": [],
   "source": [
    "atus_2017_all_nonres_unemp = atus_2017_nonres_unemp.groupby([\"TUCASEID\"]).sum().filter([\"TUCASEID\", \"TUACTDUR24\"])\n",
    "#atus_2017_all_nonres_unemp"
   ]
  },
  {
   "cell_type": "code",
   "execution_count": 158,
   "metadata": {},
   "outputs": [],
   "source": [
    "atus_2017_all_nonres_unemp_merge = pd.merge(atus_2017_all_nonres_unemp, multi_resp, on= \"TUCASEID\").filter([\"TUCASEID\",\"TUACTDUR24\",\"TUFNWGTP\"])\n",
    "#atus_2017_all_res_unemp_merge"
   ]
  },
  {
   "cell_type": "code",
   "execution_count": 159,
   "metadata": {},
   "outputs": [
    {
     "data": {
      "text/plain": [
       "659427848692.301"
      ]
     },
     "execution_count": 159,
     "metadata": {},
     "output_type": "execute_result"
    }
   ],
   "source": [
    "atus_2017_all_nonres_unemp_merge[\"Multiplied Weight\"]=atus_2017_all_nonres_unemp_merge[\"TUACTDUR24\"]*atus_2017_all_nonres_unemp_merge[\"TUFNWGTP\"]\n",
    "\n",
    "atus_2017_all_nonres_unemp_multiplied_weight = atus_2017_all_nonres_unemp_merge[\"Multiplied Weight\"].sum()\n",
    "atus_2017_all_nonres_unemp_multiplied_weight"
   ]
  },
  {
   "cell_type": "code",
   "execution_count": 160,
   "metadata": {},
   "outputs": [
    {
     "data": {
      "text/plain": [
       "2.890880931539013"
      ]
     },
     "execution_count": 160,
     "metadata": {},
     "output_type": "execute_result"
    }
   ],
   "source": [
    "all_act_2017_nonres_unemp_hpd = atus_2017_all_nonres_unemp_multiplied_weight / atus_2017_unemp_weight / 60\n",
    "all_act_2017_nonres_unemp_hpd"
   ]
  },
  {
   "cell_type": "markdown",
   "metadata": {},
   "source": [
    "### 2018 All Activities - NonResidential - Unemployed"
   ]
  },
  {
   "cell_type": "code",
   "execution_count": 161,
   "metadata": {},
   "outputs": [],
   "source": [
    "atus_2018_all_nonres_unemp = atus_2018_nonres_unemp.groupby([\"TUCASEID\"]).sum().filter([\"TUCASEID\", \"TUACTDUR24\"])\n",
    "#atus_2018_all_nonres_unemp"
   ]
  },
  {
   "cell_type": "code",
   "execution_count": 162,
   "metadata": {},
   "outputs": [],
   "source": [
    "atus_2018_all_nonres_unemp_merge = pd.merge(atus_2018_all_nonres_unemp, multi_resp, on= \"TUCASEID\").filter([\"TUCASEID\",\"TUACTDUR24\",\"TUFNWGTP\"])\n",
    "#atus_2018_all_res_unemp_merge"
   ]
  },
  {
   "cell_type": "code",
   "execution_count": 163,
   "metadata": {},
   "outputs": [
    {
     "data": {
      "text/plain": [
       "493470763746.2007"
      ]
     },
     "execution_count": 163,
     "metadata": {},
     "output_type": "execute_result"
    }
   ],
   "source": [
    "atus_2018_all_nonres_unemp_merge[\"Multiplied Weight\"]=atus_2018_all_nonres_unemp_merge[\"TUACTDUR24\"]*atus_2018_all_nonres_unemp_merge[\"TUFNWGTP\"]\n",
    "\n",
    "atus_2018_all_nonres_unemp_multiplied_weight = atus_2018_all_nonres_unemp_merge[\"Multiplied Weight\"].sum()\n",
    "atus_2018_all_nonres_unemp_multiplied_weight"
   ]
  },
  {
   "cell_type": "code",
   "execution_count": 164,
   "metadata": {},
   "outputs": [
    {
     "data": {
      "text/plain": [
       "2.3773727135422207"
      ]
     },
     "execution_count": 164,
     "metadata": {},
     "output_type": "execute_result"
    }
   ],
   "source": [
    "all_act_2018_nonres_unemp_hpd = atus_2018_all_nonres_unemp_multiplied_weight / atus_2018_unemp_weight / 60\n",
    "all_act_2018_nonres_unemp_hpd"
   ]
  },
  {
   "cell_type": "markdown",
   "metadata": {},
   "source": [
    "### 2019 All Activities - NonResidential - Unemployed"
   ]
  },
  {
   "cell_type": "code",
   "execution_count": 165,
   "metadata": {},
   "outputs": [],
   "source": [
    "atus_2019_all_nonres_unemp = atus_2019_nonres_unemp.groupby([\"TUCASEID\"]).sum().filter([\"TUCASEID\", \"TUACTDUR24\"])\n",
    "#atus_2019_all_nonres_unemp"
   ]
  },
  {
   "cell_type": "code",
   "execution_count": 166,
   "metadata": {},
   "outputs": [],
   "source": [
    "atus_2019_all_nonres_unemp_merge = pd.merge(atus_2019_all_nonres_unemp, multi_resp, on= \"TUCASEID\").filter([\"TUCASEID\",\"TUACTDUR24\",\"TUFNWGTP\"])\n",
    "#atus_2019_all_res_unemp_merge"
   ]
  },
  {
   "cell_type": "code",
   "execution_count": 167,
   "metadata": {},
   "outputs": [
    {
     "data": {
      "text/plain": [
       "425945711307.84326"
      ]
     },
     "execution_count": 167,
     "metadata": {},
     "output_type": "execute_result"
    }
   ],
   "source": [
    "atus_2019_all_nonres_unemp_merge[\"Multiplied Weight\"]=atus_2019_all_nonres_unemp_merge[\"TUACTDUR24\"]*atus_2019_all_nonres_unemp_merge[\"TUFNWGTP\"]\n",
    "\n",
    "atus_2019_all_nonres_unemp_multiplied_weight = atus_2019_all_nonres_unemp_merge[\"Multiplied Weight\"].sum()\n",
    "atus_2019_all_nonres_unemp_multiplied_weight"
   ]
  },
  {
   "cell_type": "code",
   "execution_count": 168,
   "metadata": {},
   "outputs": [
    {
     "data": {
      "text/plain": [
       "2.1015388136101683"
      ]
     },
     "execution_count": 168,
     "metadata": {},
     "output_type": "execute_result"
    }
   ],
   "source": [
    "all_act_2019_nonres_unemp_hpd = atus_2019_all_nonres_unemp_multiplied_weight / atus_2019_unemp_weight / 60\n",
    "all_act_2019_nonres_unemp_hpd"
   ]
  },
  {
   "cell_type": "markdown",
   "metadata": {},
   "source": [
    "### Regresssion: All Activities - NonResidential - Unemployed"
   ]
  },
  {
   "cell_type": "markdown",
   "metadata": {},
   "source": [
    "#### 2003 -2012 Regression"
   ]
  },
  {
   "cell_type": "code",
   "execution_count": 169,
   "metadata": {},
   "outputs": [],
   "source": [
    "year = np.array([2003, 2004, 2005, 2006, 2007, 2008, 2009, 2010,2011,2012]).reshape((-1, 1))\n",
    "activity_hours_per_day = np.array([all_act_2003_nonres_unemp_hpd, all_act_2004_nonres_unemp_hpd, all_act_2005_nonres_unemp_hpd,\n",
    "                                   all_act_2006_nonres_unemp_hpd, all_act_2007_nonres_unemp_hpd, all_act_2008_nonres_unemp_hpd,\n",
    "                                   all_act_2009_nonres_unemp_hpd, all_act_2010_nonres_unemp_hpd, all_act_2011_nonres_unemp_hpd,\n",
    "                                   all_act_2012_nonres_unemp_hpd]).reshape((-1, 1))\n",
    "\n",
    "activity_hours_per_yr = [i * 365 for i in activity_hours_per_day]\n",
    "#activity_hours_per_yr"
   ]
  },
  {
   "cell_type": "code",
   "execution_count": 170,
   "metadata": {},
   "outputs": [
    {
     "data": {
      "image/png": "[encoded data removed]",
      "text/plain": [
       "<Figure size 432x288 with 1 Axes>"
      ]
     },
     "metadata": {
      "needs_background": "light"
     },
     "output_type": "display_data"
    }
   ],
   "source": [
    "x = year\n",
    "y = activity_hours_per_yr\n",
    "x, y = np.array(x), np.array(y)\n",
    "\n",
    "model = LinearRegression().fit(x, y)\n",
    "\n",
    "y_pred = model.predict(x)  \n",
    "\n",
    "plt.scatter(x, y)\n",
    "plt.plot(x, y_pred, color='red')\n",
    "plt.show()"
   ]
  },
  {
   "cell_type": "code",
   "execution_count": 171,
   "metadata": {},
   "outputs": [
    {
     "data": {
      "text/plain": [
       "0.03678683467752297"
      ]
     },
     "execution_count": 171,
     "metadata": {},
     "output_type": "execute_result"
    }
   ],
   "source": [
    "coefficient_of_determination = model.score(x,y) #R sqaure value \n",
    "coefficient_of_determination"
   ]
  },
  {
   "cell_type": "code",
   "execution_count": 172,
   "metadata": {},
   "outputs": [
    {
     "data": {
      "text/plain": [
       "array([[-1.99965494]])"
      ]
     },
     "execution_count": 172,
     "metadata": {},
     "output_type": "execute_result"
    }
   ],
   "source": [
    "all_act_2012_nonres_unemp_slope = model.coef_\n",
    "all_act_2012_nonres_unemp_slope"
   ]
  },
  {
   "cell_type": "markdown",
   "metadata": {},
   "source": [
    "#### 2003 -2019 Regression"
   ]
  },
  {
   "cell_type": "code",
   "execution_count": 173,
   "metadata": {},
   "outputs": [],
   "source": [
    "year = np.array([2003, 2004, 2005, 2006, 2007, 2008, 2009, 2010,2011,2012, 2013, 2014, 2015, 2016, 2017, 2018, 2019]).reshape((-1, 1))\n",
    "activity_hours_per_day = np.array([all_act_2003_nonres_unemp_hpd, all_act_2004_nonres_unemp_hpd, all_act_2005_nonres_unemp_hpd,\n",
    "                                   all_act_2006_nonres_unemp_hpd, all_act_2007_nonres_unemp_hpd, all_act_2008_nonres_unemp_hpd,\n",
    "                                   all_act_2009_nonres_unemp_hpd, all_act_2010_nonres_unemp_hpd, all_act_2011_nonres_unemp_hpd,\n",
    "                                   all_act_2012_nonres_unemp_hpd, all_act_2013_nonres_unemp_hpd, all_act_2014_nonres_unemp_hpd,\n",
    "                                   all_act_2015_nonres_unemp_hpd, all_act_2016_nonres_unemp_hpd, all_act_2017_nonres_unemp_hpd,\n",
    "                                   all_act_2018_nonres_unemp_hpd, all_act_2019_nonres_unemp_hpd]).reshape((-1, 1))\n",
    "\n",
    "activity_hours_per_yr = [i * 365 for i in activity_hours_per_day]\n",
    "#activity_hours_per_yr"
   ]
  },
  {
   "cell_type": "code",
   "execution_count": 174,
   "metadata": {},
   "outputs": [
    {
     "data": {
      "image/png": "[encoded data removed]",
      "text/plain": [
       "<Figure size 432x288 with 1 Axes>"
      ]
     },
     "metadata": {
      "needs_background": "light"
     },
     "output_type": "display_data"
    }
   ],
   "source": [
    "x = year\n",
    "y = activity_hours_per_yr\n",
    "x, y = np.array(x), np.array(y)\n",
    "\n",
    "model = LinearRegression().fit(x, y)\n",
    "\n",
    "y_pred = model.predict(x)  \n",
    "\n",
    "plt.scatter(x, y)\n",
    "plt.plot(x, y_pred, color='red')\n",
    "plt.show()"
   ]
  },
  {
   "cell_type": "code",
   "execution_count": 175,
   "metadata": {},
   "outputs": [
    {
     "data": {
      "text/plain": [
       "0.3589198332255833"
      ]
     },
     "execution_count": 175,
     "metadata": {},
     "output_type": "execute_result"
    }
   ],
   "source": [
    "coefficient_of_determination = model.score(x,y) #R sqaure value \n",
    "coefficient_of_determination"
   ]
  },
  {
   "cell_type": "code",
   "execution_count": 176,
   "metadata": {},
   "outputs": [
    {
     "data": {
      "text/plain": [
       "array([[-11.2804487]])"
      ]
     },
     "execution_count": 176,
     "metadata": {},
     "output_type": "execute_result"
    }
   ],
   "source": [
    "all_act_2019_nonres_unemp_slope = model.coef_\n",
    "all_act_2019_nonres_unemp_slope"
   ]
  },
  {
   "cell_type": "markdown",
   "metadata": {},
   "source": [
    "## 2003-2019 Transportation - Unemployed"
   ]
  },
  {
   "cell_type": "markdown",
   "metadata": {},
   "source": [
    "### 2003 Transportation"
   ]
  },
  {
   "cell_type": "code",
   "execution_count": 177,
   "metadata": {},
   "outputs": [],
   "source": [
    "#transporation = 12, 13. 12 = Car, truck, or motorcycle (driver), 13= Car, truck, or motorcycle (passager)"
   ]
  },
  {
   "cell_type": "code",
   "execution_count": 178,
   "metadata": {},
   "outputs": [],
   "source": [
    "transpoartion_location = [12,13]\n",
    "atus_multi_yr_tran_unemp = multi_merged_unemployed[multi_merged_unemployed[\"TEWHERE\"].isin(transpoartion_location)]\n",
    "#atus_multi_yr_tran_unemp"
   ]
  },
  {
   "cell_type": "code",
   "execution_count": 179,
   "metadata": {},
   "outputs": [],
   "source": [
    "#atus transportation unemployed population seperated by year\n",
    "atus_2003_tran_unemp = atus_multi_yr_tran_unemp[atus_multi_yr_tran_unemp[\"TUCASEID\"].apply(str).str.startswith(\"2003\")]\n",
    "atus_2004_tran_unemp = atus_multi_yr_tran_unemp[atus_multi_yr_tran_unemp[\"TUCASEID\"].apply(str).str.startswith(\"2004\")]\n",
    "atus_2005_tran_unemp = atus_multi_yr_tran_unemp[atus_multi_yr_tran_unemp[\"TUCASEID\"].apply(str).str.startswith(\"2005\")]\n",
    "atus_2006_tran_unemp = atus_multi_yr_tran_unemp[atus_multi_yr_tran_unemp[\"TUCASEID\"].apply(str).str.startswith(\"2006\")]\n",
    "atus_2007_tran_unemp = atus_multi_yr_tran_unemp[atus_multi_yr_tran_unemp[\"TUCASEID\"].apply(str).str.startswith(\"2007\")]\n",
    "atus_2008_tran_unemp = atus_multi_yr_tran_unemp[atus_multi_yr_tran_unemp[\"TUCASEID\"].apply(str).str.startswith(\"2008\")]\n",
    "atus_2009_tran_unemp = atus_multi_yr_tran_unemp[atus_multi_yr_tran_unemp[\"TUCASEID\"].apply(str).str.startswith(\"2009\")]\n",
    "atus_2010_tran_unemp = atus_multi_yr_tran_unemp[atus_multi_yr_tran_unemp[\"TUCASEID\"].apply(str).str.startswith(\"2010\")]\n",
    "atus_2011_tran_unemp = atus_multi_yr_tran_unemp[atus_multi_yr_tran_unemp[\"TUCASEID\"].apply(str).str.startswith(\"2011\")]\n",
    "atus_2012_tran_unemp = atus_multi_yr_tran_unemp[atus_multi_yr_tran_unemp[\"TUCASEID\"].apply(str).str.startswith(\"2012\")]\n",
    "atus_2013_tran_unemp = atus_multi_yr_tran_unemp[atus_multi_yr_tran_unemp[\"TUCASEID\"].apply(str).str.startswith(\"2013\")]\n",
    "atus_2014_tran_unemp = atus_multi_yr_tran_unemp[atus_multi_yr_tran_unemp[\"TUCASEID\"].apply(str).str.startswith(\"2014\")]\n",
    "atus_2015_tran_unemp = atus_multi_yr_tran_unemp[atus_multi_yr_tran_unemp[\"TUCASEID\"].apply(str).str.startswith(\"2015\")]\n",
    "atus_2016_tran_unemp = atus_multi_yr_tran_unemp[atus_multi_yr_tran_unemp[\"TUCASEID\"].apply(str).str.startswith(\"2016\")]\n",
    "atus_2017_tran_unemp = atus_multi_yr_tran_unemp[atus_multi_yr_tran_unemp[\"TUCASEID\"].apply(str).str.startswith(\"2017\")]\n",
    "atus_2018_tran_unemp = atus_multi_yr_tran_unemp[atus_multi_yr_tran_unemp[\"TUCASEID\"].apply(str).str.startswith(\"2018\")]\n",
    "atus_2019_tran_unemp = atus_multi_yr_tran_unemp[atus_multi_yr_tran_unemp[\"TUCASEID\"].apply(str).str.startswith(\"2019\")]\n",
    "#atus_2003_tran_unemp"
   ]
  },
  {
   "cell_type": "code",
   "execution_count": 180,
   "metadata": {},
   "outputs": [],
   "source": [
    "atus_2003_tran_unemp = atus_2003_tran_unemp.groupby([\"TUCASEID\"]).sum().filter([\"TUCASEID\", \"TUACTDUR24\"])\n",
    "#atus_2003_tran_unemp"
   ]
  },
  {
   "cell_type": "code",
   "execution_count": 181,
   "metadata": {},
   "outputs": [],
   "source": [
    "atus_2003_tran_unemp_merge = pd.merge(atus_2003_tran_unemp, multi_resp, on= \"TUCASEID\").filter([\"TUCASEID\",\"TUACTDUR24\",\"TUFNWGTP\"])\n",
    "#atus_2003_tran_unemp_merge"
   ]
  },
  {
   "cell_type": "code",
   "execution_count": 182,
   "metadata": {},
   "outputs": [],
   "source": [
    "atus_2003_tran_unemp_merge[\"Multiplied Weight\"] = atus_2003_tran_unemp_merge[\"TUACTDUR24\"] * atus_2003_tran_unemp_merge[\"TUFNWGTP\"]\n",
    "#atus_2003_tran_unemp_merge"
   ]
  },
  {
   "cell_type": "code",
   "execution_count": 183,
   "metadata": {},
   "outputs": [
    {
     "data": {
      "text/plain": [
       "269015237242.3978"
      ]
     },
     "execution_count": 183,
     "metadata": {},
     "output_type": "execute_result"
    }
   ],
   "source": [
    "atus_2003_tran_unemp_multiplied_weight = atus_2003_tran_unemp_merge[\"Multiplied Weight\"].sum()\n",
    "atus_2003_tran_unemp_multiplied_weight"
   ]
  },
  {
   "cell_type": "code",
   "execution_count": 184,
   "metadata": {},
   "outputs": [
    {
     "data": {
      "text/plain": [
       "1.0206472376383526"
      ]
     },
     "execution_count": 184,
     "metadata": {},
     "output_type": "execute_result"
    }
   ],
   "source": [
    "atus_2003_tran_unemp_hpd = atus_2003_tran_unemp_multiplied_weight / atus_2003_unemp_weight / 60\n",
    "atus_2003_tran_unemp_hpd"
   ]
  },
  {
   "cell_type": "markdown",
   "metadata": {},
   "source": [
    "### 2004 Transportation"
   ]
  },
  {
   "cell_type": "code",
   "execution_count": 185,
   "metadata": {},
   "outputs": [],
   "source": [
    "atus_2004_tran_unemp = atus_2004_tran_unemp.groupby([\"TUCASEID\"]).sum().filter([\"TUCASEID\", \"TUACTDUR24\"])\n",
    "atus_2004_tran_unemp_merge = pd.merge(atus_2004_tran_unemp, multi_resp, on= \"TUCASEID\").filter([\"TUCASEID\",\"TUACTDUR24\",\"TUFNWGTP\"])\n",
    "#atus_2004_tran_unemp_merge"
   ]
  },
  {
   "cell_type": "code",
   "execution_count": 186,
   "metadata": {},
   "outputs": [
    {
     "data": {
      "text/plain": [
       "288649030045.65356"
      ]
     },
     "execution_count": 186,
     "metadata": {},
     "output_type": "execute_result"
    }
   ],
   "source": [
    "atus_2004_tran_unemp_merge[\"Multiplied Weight\"] = atus_2004_tran_unemp_merge[\"TUACTDUR24\"] * atus_2004_tran_unemp_merge[\"TUFNWGTP\"]\n",
    "atus_2004_tran_unemp_multiplied_weight = atus_2004_tran_unemp_merge[\"Multiplied Weight\"].sum()\n",
    "atus_2004_tran_unemp_multiplied_weight"
   ]
  },
  {
   "cell_type": "code",
   "execution_count": 187,
   "metadata": {},
   "outputs": [
    {
     "data": {
      "text/plain": [
       "1.131752193848873"
      ]
     },
     "execution_count": 187,
     "metadata": {},
     "output_type": "execute_result"
    }
   ],
   "source": [
    "atus_2004_tran_unemp_hpd = atus_2004_tran_unemp_multiplied_weight / atus_2004_unemp_weight / 60\n",
    "atus_2004_tran_unemp_hpd"
   ]
  },
  {
   "cell_type": "markdown",
   "metadata": {},
   "source": [
    "### 2005 Transportation"
   ]
  },
  {
   "cell_type": "code",
   "execution_count": 188,
   "metadata": {},
   "outputs": [],
   "source": [
    "atus_2005_tran_unemp = atus_2005_tran_unemp.groupby([\"TUCASEID\"]).sum().filter([\"TUCASEID\", \"TUACTDUR24\"])\n",
    "atus_2005_tran_unemp_merge = pd.merge(atus_2005_tran_unemp, multi_resp, on= \"TUCASEID\").filter([\"TUCASEID\",\"TUACTDUR24\",\"TUFNWGTP\"])\n",
    "#atus_2005_tran_unemp_merge"
   ]
  },
  {
   "cell_type": "code",
   "execution_count": 189,
   "metadata": {},
   "outputs": [
    {
     "data": {
      "text/plain": [
       "207900777323.19736"
      ]
     },
     "execution_count": 189,
     "metadata": {},
     "output_type": "execute_result"
    }
   ],
   "source": [
    "atus_2005_tran_unemp_merge[\"Multiplied Weight\"] = atus_2005_tran_unemp_merge[\"TUACTDUR24\"] * atus_2005_tran_unemp_merge[\"TUFNWGTP\"]\n",
    "atus_2005_tran_unemp_multiplied_weight = atus_2005_tran_unemp_merge[\"Multiplied Weight\"].sum()\n",
    "atus_2005_tran_unemp_multiplied_weight"
   ]
  },
  {
   "cell_type": "code",
   "execution_count": 190,
   "metadata": {},
   "outputs": [
    {
     "data": {
      "text/plain": [
       "0.896195413393484"
      ]
     },
     "execution_count": 190,
     "metadata": {},
     "output_type": "execute_result"
    }
   ],
   "source": [
    "atus_2005_tran_unemp_hpd = atus_2005_tran_unemp_multiplied_weight / atus_2005_unemp_weight / 60\n",
    "atus_2005_tran_unemp_hpd"
   ]
  },
  {
   "cell_type": "markdown",
   "metadata": {},
   "source": [
    "### 2006 Transportation"
   ]
  },
  {
   "cell_type": "code",
   "execution_count": 191,
   "metadata": {},
   "outputs": [],
   "source": [
    "atus_2006_tran_unemp = atus_2006_tran_unemp.groupby([\"TUCASEID\"]).sum().filter([\"TUCASEID\", \"TUACTDUR24\"])\n",
    "atus_2006_tran_unemp_merge = pd.merge(atus_2006_tran_unemp, multi_resp, on= \"TUCASEID\").filter([\"TUCASEID\",\"TUACTDUR24\",\"TUFNWGTP\"])\n",
    "#atus_2006_tran_unemp_merge"
   ]
  },
  {
   "cell_type": "code",
   "execution_count": 192,
   "metadata": {},
   "outputs": [
    {
     "data": {
      "text/plain": [
       "227350923716.5099"
      ]
     },
     "execution_count": 192,
     "metadata": {},
     "output_type": "execute_result"
    }
   ],
   "source": [
    "atus_2006_tran_unemp_merge[\"Multiplied Weight\"] = atus_2006_tran_unemp_merge[\"TUACTDUR24\"] * atus_2006_tran_unemp_merge[\"TUFNWGTP\"]\n",
    "atus_2006_tran_unemp_multiplied_weight = atus_2006_tran_unemp_merge[\"Multiplied Weight\"].sum()\n",
    "atus_2006_tran_unemp_multiplied_weight"
   ]
  },
  {
   "cell_type": "code",
   "execution_count": 193,
   "metadata": {},
   "outputs": [
    {
     "data": {
      "text/plain": [
       "0.9540926232332777"
      ]
     },
     "execution_count": 193,
     "metadata": {},
     "output_type": "execute_result"
    }
   ],
   "source": [
    "atus_2006_tran_unemp_hpd = atus_2006_tran_unemp_multiplied_weight / atus_2006_unemp_weight / 60\n",
    "atus_2006_tran_unemp_hpd"
   ]
  },
  {
   "cell_type": "markdown",
   "metadata": {},
   "source": [
    "### 2007 Transportation"
   ]
  },
  {
   "cell_type": "code",
   "execution_count": 194,
   "metadata": {},
   "outputs": [],
   "source": [
    "atus_2007_tran_unemp = atus_2007_tran_unemp.groupby([\"TUCASEID\"]).sum().filter([\"TUCASEID\", \"TUACTDUR24\"])\n",
    "atus_2007_tran_unemp_merge = pd.merge(atus_2007_tran_unemp, multi_resp, on= \"TUCASEID\").filter([\"TUCASEID\",\"TUACTDUR24\",\"TUFNWGTP\"])\n",
    "#atus_2007_tran_unemp_merge"
   ]
  },
  {
   "cell_type": "code",
   "execution_count": 195,
   "metadata": {},
   "outputs": [
    {
     "data": {
      "text/plain": [
       "212631075893.6386"
      ]
     },
     "execution_count": 195,
     "metadata": {},
     "output_type": "execute_result"
    }
   ],
   "source": [
    "atus_2007_tran_unemp_merge[\"Multiplied Weight\"] = atus_2007_tran_unemp_merge[\"TUACTDUR24\"] * atus_2007_tran_unemp_merge[\"TUFNWGTP\"]\n",
    "atus_2007_tran_unemp_multiplied_weight = atus_2007_tran_unemp_merge[\"Multiplied Weight\"].sum()\n",
    "atus_2007_tran_unemp_multiplied_weight"
   ]
  },
  {
   "cell_type": "code",
   "execution_count": 196,
   "metadata": {},
   "outputs": [
    {
     "data": {
      "text/plain": [
       "0.9229350367472119"
      ]
     },
     "execution_count": 196,
     "metadata": {},
     "output_type": "execute_result"
    }
   ],
   "source": [
    "atus_2007_tran_unemp_hpd = atus_2007_tran_unemp_multiplied_weight / atus_2007_unemp_weight / 60\n",
    "atus_2007_tran_unemp_hpd"
   ]
  },
  {
   "cell_type": "markdown",
   "metadata": {},
   "source": [
    "### 2008 Transportation"
   ]
  },
  {
   "cell_type": "code",
   "execution_count": 197,
   "metadata": {},
   "outputs": [],
   "source": [
    "atus_2008_tran_unemp = atus_2008_tran_unemp.groupby([\"TUCASEID\"]).sum().filter([\"TUCASEID\", \"TUACTDUR24\"])\n",
    "atus_2008_tran_unemp_merge = pd.merge(atus_2008_tran_unemp, multi_resp, on= \"TUCASEID\").filter([\"TUCASEID\",\"TUACTDUR24\",\"TUFNWGTP\"])\n",
    "#atus_2008_tran_unemp_merge"
   ]
  },
  {
   "cell_type": "code",
   "execution_count": 198,
   "metadata": {},
   "outputs": [
    {
     "data": {
      "text/plain": [
       "244221536735.30786"
      ]
     },
     "execution_count": 198,
     "metadata": {},
     "output_type": "execute_result"
    }
   ],
   "source": [
    "atus_2008_tran_unemp_merge[\"Multiplied Weight\"] = atus_2008_tran_unemp_merge[\"TUACTDUR24\"] * atus_2008_tran_unemp_merge[\"TUFNWGTP\"]\n",
    "atus_2008_tran_unemp_multiplied_weight = atus_2008_tran_unemp_merge[\"Multiplied Weight\"].sum()\n",
    "atus_2008_tran_unemp_multiplied_weight"
   ]
  },
  {
   "cell_type": "code",
   "execution_count": 199,
   "metadata": {},
   "outputs": [
    {
     "data": {
      "text/plain": [
       "0.8810274564459166"
      ]
     },
     "execution_count": 199,
     "metadata": {},
     "output_type": "execute_result"
    }
   ],
   "source": [
    "atus_2008_tran_unemp_hpd = atus_2008_tran_unemp_multiplied_weight / atus_2008_unemp_weight / 60\n",
    "atus_2008_tran_unemp_hpd"
   ]
  },
  {
   "cell_type": "markdown",
   "metadata": {},
   "source": [
    "### 2009 Transportation"
   ]
  },
  {
   "cell_type": "code",
   "execution_count": 200,
   "metadata": {},
   "outputs": [],
   "source": [
    "atus_2009_tran_unemp = atus_2009_tran_unemp.groupby([\"TUCASEID\"]).sum().filter([\"TUCASEID\", \"TUACTDUR24\"])\n",
    "atus_2009_tran_unemp_merge = pd.merge(atus_2009_tran_unemp, multi_resp, on= \"TUCASEID\").filter([\"TUCASEID\",\"TUACTDUR24\",\"TUFNWGTP\"])\n",
    "#atus_2009_tran_unemp_merge"
   ]
  },
  {
   "cell_type": "code",
   "execution_count": 201,
   "metadata": {},
   "outputs": [
    {
     "data": {
      "text/plain": [
       "359509614265.7339"
      ]
     },
     "execution_count": 201,
     "metadata": {},
     "output_type": "execute_result"
    }
   ],
   "source": [
    "atus_2009_tran_unemp_merge[\"Multiplied Weight\"] = atus_2009_tran_unemp_merge[\"TUACTDUR24\"] * atus_2009_tran_unemp_merge[\"TUFNWGTP\"]\n",
    "atus_2009_tran_unemp_multiplied_weight = atus_2009_tran_unemp_merge[\"Multiplied Weight\"].sum()\n",
    "atus_2009_tran_unemp_multiplied_weight"
   ]
  },
  {
   "cell_type": "code",
   "execution_count": 202,
   "metadata": {},
   "outputs": [
    {
     "data": {
      "text/plain": [
       "0.878281437073729"
      ]
     },
     "execution_count": 202,
     "metadata": {},
     "output_type": "execute_result"
    }
   ],
   "source": [
    "atus_2009_tran_unemp_hpd = atus_2009_tran_unemp_multiplied_weight / atus_2009_unemp_weight / 60\n",
    "atus_2009_tran_unemp_hpd"
   ]
  },
  {
   "cell_type": "markdown",
   "metadata": {},
   "source": [
    "### 2010 Transportation"
   ]
  },
  {
   "cell_type": "code",
   "execution_count": 203,
   "metadata": {},
   "outputs": [],
   "source": [
    "atus_2010_tran_unemp = atus_2010_tran_unemp.groupby([\"TUCASEID\"]).sum().filter([\"TUCASEID\", \"TUACTDUR24\"])\n",
    "atus_2010_tran_unemp_merge = pd.merge(atus_2010_tran_unemp, multi_resp, on= \"TUCASEID\").filter([\"TUCASEID\",\"TUACTDUR24\",\"TUFNWGTP\"])\n",
    "#atus_2010_tran_unemp_merge"
   ]
  },
  {
   "cell_type": "code",
   "execution_count": 204,
   "metadata": {},
   "outputs": [
    {
     "data": {
      "text/plain": [
       "398738907644.1785"
      ]
     },
     "execution_count": 204,
     "metadata": {},
     "output_type": "execute_result"
    }
   ],
   "source": [
    "atus_2010_tran_unemp_merge[\"Multiplied Weight\"] = atus_2010_tran_unemp_merge[\"TUACTDUR24\"] * atus_2010_tran_unemp_merge[\"TUFNWGTP\"]\n",
    "atus_2010_tran_unemp_multiplied_weight = atus_2010_tran_unemp_merge[\"Multiplied Weight\"].sum()\n",
    "atus_2010_tran_unemp_multiplied_weight"
   ]
  },
  {
   "cell_type": "code",
   "execution_count": 205,
   "metadata": {},
   "outputs": [
    {
     "data": {
      "text/plain": [
       "0.9513092119173476"
      ]
     },
     "execution_count": 205,
     "metadata": {},
     "output_type": "execute_result"
    }
   ],
   "source": [
    "atus_2010_tran_unemp_hpd = atus_2010_tran_unemp_multiplied_weight / atus_2010_unemp_weight / 60\n",
    "atus_2010_tran_unemp_hpd"
   ]
  },
  {
   "cell_type": "markdown",
   "metadata": {},
   "source": [
    "### 2011 Transportation"
   ]
  },
  {
   "cell_type": "code",
   "execution_count": 206,
   "metadata": {},
   "outputs": [],
   "source": [
    "atus_2011_tran_unemp = atus_2011_tran_unemp.groupby([\"TUCASEID\"]).sum().filter([\"TUCASEID\", \"TUACTDUR24\"])\n",
    "atus_2011_tran_unemp_merge = pd.merge(atus_2011_tran_unemp, multi_resp, on= \"TUCASEID\").filter([\"TUCASEID\",\"TUACTDUR24\",\"TUFNWGTP\"])\n",
    "#atus_2011_tran_unemp_merge"
   ]
  },
  {
   "cell_type": "code",
   "execution_count": 207,
   "metadata": {},
   "outputs": [
    {
     "data": {
      "text/plain": [
       "363365977467.8368"
      ]
     },
     "execution_count": 207,
     "metadata": {},
     "output_type": "execute_result"
    }
   ],
   "source": [
    "atus_2011_tran_unemp_merge[\"Multiplied Weight\"] = atus_2011_tran_unemp_merge[\"TUACTDUR24\"] * atus_2011_tran_unemp_merge[\"TUFNWGTP\"]\n",
    "atus_2011_tran_unemp_multiplied_weight = atus_2011_tran_unemp_merge[\"Multiplied Weight\"].sum()\n",
    "atus_2011_tran_unemp_multiplied_weight"
   ]
  },
  {
   "cell_type": "code",
   "execution_count": 208,
   "metadata": {},
   "outputs": [
    {
     "data": {
      "text/plain": [
       "0.9366014632178563"
      ]
     },
     "execution_count": 208,
     "metadata": {},
     "output_type": "execute_result"
    }
   ],
   "source": [
    "atus_2011_tran_unemp_hpd = atus_2011_tran_unemp_multiplied_weight / atus_2011_unemp_weight / 60\n",
    "atus_2011_tran_unemp_hpd"
   ]
  },
  {
   "cell_type": "markdown",
   "metadata": {},
   "source": [
    "### 2012 Transportation"
   ]
  },
  {
   "cell_type": "code",
   "execution_count": 209,
   "metadata": {},
   "outputs": [],
   "source": [
    "atus_2012_tran_unemp = atus_2012_tran_unemp.groupby([\"TUCASEID\"]).sum().filter([\"TUCASEID\", \"TUACTDUR24\"])\n",
    "atus_2012_tran_unemp_merge = pd.merge(atus_2012_tran_unemp, multi_resp, on= \"TUCASEID\").filter([\"TUCASEID\",\"TUACTDUR24\",\"TUFNWGTP\"])\n",
    "#atus_2012_tran_unemp_merge"
   ]
  },
  {
   "cell_type": "code",
   "execution_count": 210,
   "metadata": {},
   "outputs": [
    {
     "data": {
      "text/plain": [
       "337918528377.4186"
      ]
     },
     "execution_count": 210,
     "metadata": {},
     "output_type": "execute_result"
    }
   ],
   "source": [
    "atus_2012_tran_unemp_merge[\"Multiplied Weight\"] = atus_2012_tran_unemp_merge[\"TUACTDUR24\"] * atus_2012_tran_unemp_merge[\"TUFNWGTP\"]\n",
    "atus_2012_tran_unemp_multiplied_weight = atus_2012_tran_unemp_merge[\"Multiplied Weight\"].sum()\n",
    "atus_2012_tran_unemp_multiplied_weight"
   ]
  },
  {
   "cell_type": "code",
   "execution_count": 211,
   "metadata": {},
   "outputs": [
    {
     "data": {
      "text/plain": [
       "1.00336620877958"
      ]
     },
     "execution_count": 211,
     "metadata": {},
     "output_type": "execute_result"
    }
   ],
   "source": [
    "atus_2012_tran_unemp_hpd = atus_2012_tran_unemp_multiplied_weight / atus_2012_unemp_weight / 60\n",
    "atus_2012_tran_unemp_hpd"
   ]
  },
  {
   "cell_type": "markdown",
   "metadata": {},
   "source": [
    "### 2013 Transportation"
   ]
  },
  {
   "cell_type": "code",
   "execution_count": 212,
   "metadata": {},
   "outputs": [],
   "source": [
    "atus_2013_tran_unemp = atus_2013_tran_unemp.groupby([\"TUCASEID\"]).sum().filter([\"TUCASEID\", \"TUACTDUR24\"])\n",
    "atus_2013_tran_unemp_merge = pd.merge(atus_2013_tran_unemp, multi_resp, on= \"TUCASEID\").filter([\"TUCASEID\",\"TUACTDUR24\",\"TUFNWGTP\"])\n",
    "#atus_2013_tran_unemp_merge"
   ]
  },
  {
   "cell_type": "code",
   "execution_count": 213,
   "metadata": {},
   "outputs": [
    {
     "data": {
      "text/plain": [
       "307049817892.92755"
      ]
     },
     "execution_count": 213,
     "metadata": {},
     "output_type": "execute_result"
    }
   ],
   "source": [
    "atus_2013_tran_unemp_merge[\"Multiplied Weight\"] = atus_2013_tran_unemp_merge[\"TUACTDUR24\"] * atus_2013_tran_unemp_merge[\"TUFNWGTP\"]\n",
    "atus_2013_tran_unemp_multiplied_weight = atus_2013_tran_unemp_merge[\"Multiplied Weight\"].sum()\n",
    "atus_2013_tran_unemp_multiplied_weight"
   ]
  },
  {
   "cell_type": "code",
   "execution_count": 214,
   "metadata": {},
   "outputs": [
    {
     "data": {
      "text/plain": [
       "0.9705591031542364"
      ]
     },
     "execution_count": 214,
     "metadata": {},
     "output_type": "execute_result"
    }
   ],
   "source": [
    "atus_2013_tran_unemp_hpd = atus_2013_tran_unemp_multiplied_weight / atus_2013_unemp_weight / 60\n",
    "atus_2013_tran_unemp_hpd"
   ]
  },
  {
   "cell_type": "markdown",
   "metadata": {},
   "source": [
    "### 2014 Transportation"
   ]
  },
  {
   "cell_type": "code",
   "execution_count": 306,
   "metadata": {},
   "outputs": [],
   "source": [
    "atus_2014_tran_unemp = atus_2014_tran_unemp.groupby([\"TUCASEID\"]).sum().filter([\"TUCASEID\", \"TUACTDUR24\"])\n",
    "atus_2014_tran_unemp_merge = pd.merge(atus_2014_tran_unemp, multi_resp, on= \"TUCASEID\").filter([\"TUCASEID\",\"TUACTDUR24\",\"TUFNWGTP\"])\n",
    "#atus_2014_tran_unemp_merge"
   ]
  },
  {
   "cell_type": "code",
   "execution_count": 216,
   "metadata": {},
   "outputs": [
    {
     "data": {
      "text/plain": [
       "277702903575.3698"
      ]
     },
     "execution_count": 216,
     "metadata": {},
     "output_type": "execute_result"
    }
   ],
   "source": [
    "atus_2014_tran_unemp_merge[\"Multiplied Weight\"] = atus_2014_tran_unemp_merge[\"TUACTDUR24\"] * atus_2014_tran_unemp_merge[\"TUFNWGTP\"]\n",
    "atus_2014_tran_unemp_multiplied_weight = atus_2014_tran_unemp_merge[\"Multiplied Weight\"].sum()\n",
    "atus_2014_tran_unemp_multiplied_weight"
   ]
  },
  {
   "cell_type": "code",
   "execution_count": 217,
   "metadata": {},
   "outputs": [
    {
     "data": {
      "text/plain": [
       "0.9336281111134473"
      ]
     },
     "execution_count": 217,
     "metadata": {},
     "output_type": "execute_result"
    }
   ],
   "source": [
    "atus_2014_tran_unemp_hpd = atus_2014_tran_unemp_multiplied_weight / atus_2014_unemp_weight / 60\n",
    "atus_2014_tran_unemp_hpd"
   ]
  },
  {
   "cell_type": "markdown",
   "metadata": {},
   "source": [
    "### 2015 Transportation"
   ]
  },
  {
   "cell_type": "code",
   "execution_count": 218,
   "metadata": {},
   "outputs": [],
   "source": [
    "atus_2015_tran_unemp = atus_2015_tran_unemp.groupby([\"TUCASEID\"]).sum().filter([\"TUCASEID\", \"TUACTDUR24\"])\n",
    "atus_2015_tran_unemp_merge = pd.merge(atus_2015_tran_unemp, multi_resp, on= \"TUCASEID\").filter([\"TUCASEID\",\"TUACTDUR24\",\"TUFNWGTP\"])\n",
    "#atus_2015_tran_unemp_merge"
   ]
  },
  {
   "cell_type": "code",
   "execution_count": 219,
   "metadata": {},
   "outputs": [
    {
     "data": {
      "text/plain": [
       "239335381109.37955"
      ]
     },
     "execution_count": 219,
     "metadata": {},
     "output_type": "execute_result"
    }
   ],
   "source": [
    "atus_2015_tran_unemp_merge[\"Multiplied Weight\"] = atus_2015_tran_unemp_merge[\"TUACTDUR24\"] * atus_2015_tran_unemp_merge[\"TUFNWGTP\"]\n",
    "atus_2015_tran_unemp_multiplied_weight = atus_2015_tran_unemp_merge[\"Multiplied Weight\"].sum()\n",
    "atus_2015_tran_unemp_multiplied_weight"
   ]
  },
  {
   "cell_type": "code",
   "execution_count": 220,
   "metadata": {},
   "outputs": [
    {
     "data": {
      "text/plain": [
       "0.8505109358665032"
      ]
     },
     "execution_count": 220,
     "metadata": {},
     "output_type": "execute_result"
    }
   ],
   "source": [
    "atus_2015_tran_unemp_hpd = atus_2015_tran_unemp_multiplied_weight / atus_2015_unemp_weight / 60\n",
    "atus_2015_tran_unemp_hpd"
   ]
  },
  {
   "cell_type": "markdown",
   "metadata": {},
   "source": [
    "### 2016 Transportation"
   ]
  },
  {
   "cell_type": "code",
   "execution_count": 221,
   "metadata": {},
   "outputs": [],
   "source": [
    "atus_2016_tran_unemp = atus_2016_tran_unemp.groupby([\"TUCASEID\"]).sum().filter([\"TUCASEID\", \"TUACTDUR24\"])\n",
    "atus_2016_tran_unemp_merge = pd.merge(atus_2016_tran_unemp, multi_resp, on= \"TUCASEID\").filter([\"TUCASEID\",\"TUACTDUR24\",\"TUFNWGTP\"])\n",
    "#atus_2016_tran_unemp_merge"
   ]
  },
  {
   "cell_type": "code",
   "execution_count": 222,
   "metadata": {},
   "outputs": [
    {
     "data": {
      "text/plain": [
       "228771691893.12122"
      ]
     },
     "execution_count": 222,
     "metadata": {},
     "output_type": "execute_result"
    }
   ],
   "source": [
    "atus_2016_tran_unemp_merge[\"Multiplied Weight\"] = atus_2016_tran_unemp_merge[\"TUACTDUR24\"] * atus_2016_tran_unemp_merge[\"TUFNWGTP\"]\n",
    "atus_2016_tran_unemp_multiplied_weight = atus_2016_tran_unemp_merge[\"Multiplied Weight\"].sum()\n",
    "atus_2016_tran_unemp_multiplied_weight"
   ]
  },
  {
   "cell_type": "code",
   "execution_count": 223,
   "metadata": {},
   "outputs": [
    {
     "data": {
      "text/plain": [
       "0.9939681243827425"
      ]
     },
     "execution_count": 223,
     "metadata": {},
     "output_type": "execute_result"
    }
   ],
   "source": [
    "atus_2016_tran_unemp_hpd = atus_2016_tran_unemp_multiplied_weight / atus_2016_unemp_weight / 60\n",
    "atus_2016_tran_unemp_hpd"
   ]
  },
  {
   "cell_type": "markdown",
   "metadata": {},
   "source": [
    "### 2017 Transportation"
   ]
  },
  {
   "cell_type": "code",
   "execution_count": 224,
   "metadata": {},
   "outputs": [],
   "source": [
    "atus_2017_tran_unemp = atus_2017_tran_unemp.groupby([\"TUCASEID\"]).sum().filter([\"TUCASEID\", \"TUACTDUR24\"])\n",
    "atus_2017_tran_unemp_merge = pd.merge(atus_2017_tran_unemp, multi_resp, on= \"TUCASEID\").filter([\"TUCASEID\",\"TUACTDUR24\",\"TUFNWGTP\"])\n",
    "#atus_2017_tran_unemp_merge"
   ]
  },
  {
   "cell_type": "code",
   "execution_count": 225,
   "metadata": {},
   "outputs": [
    {
     "data": {
      "text/plain": [
       "245339190693.67993"
      ]
     },
     "execution_count": 225,
     "metadata": {},
     "output_type": "execute_result"
    }
   ],
   "source": [
    "atus_2017_tran_unemp_merge[\"Multiplied Weight\"] = atus_2017_tran_unemp_merge[\"TUACTDUR24\"] * atus_2017_tran_unemp_merge[\"TUFNWGTP\"]\n",
    "atus_2017_tran_unemp_multiplied_weight = atus_2017_tran_unemp_merge[\"Multiplied Weight\"].sum()\n",
    "atus_2017_tran_unemp_multiplied_weight"
   ]
  },
  {
   "cell_type": "code",
   "execution_count": 226,
   "metadata": {},
   "outputs": [
    {
     "data": {
      "text/plain": [
       "1.0755481278839925"
      ]
     },
     "execution_count": 226,
     "metadata": {},
     "output_type": "execute_result"
    }
   ],
   "source": [
    "atus_2017_tran_unemp_hpd = atus_2017_tran_unemp_multiplied_weight / atus_2017_unemp_weight / 60\n",
    "atus_2017_tran_unemp_hpd"
   ]
  },
  {
   "cell_type": "markdown",
   "metadata": {},
   "source": [
    "### 2018 Transportation"
   ]
  },
  {
   "cell_type": "code",
   "execution_count": 227,
   "metadata": {},
   "outputs": [],
   "source": [
    "atus_2018_tran_unemp = atus_2018_tran_unemp.groupby([\"TUCASEID\"]).sum().filter([\"TUCASEID\", \"TUACTDUR24\"])\n",
    "atus_2018_tran_unemp_merge = pd.merge(atus_2018_tran_unemp, multi_resp, on= \"TUCASEID\").filter([\"TUCASEID\",\"TUACTDUR24\",\"TUFNWGTP\"])\n",
    "#atus_2018_tran_unemp_merge"
   ]
  },
  {
   "cell_type": "code",
   "execution_count": 228,
   "metadata": {},
   "outputs": [
    {
     "data": {
      "text/plain": [
       "162609777947.18665"
      ]
     },
     "execution_count": 228,
     "metadata": {},
     "output_type": "execute_result"
    }
   ],
   "source": [
    "atus_2018_tran_unemp_merge[\"Multiplied Weight\"] = atus_2018_tran_unemp_merge[\"TUACTDUR24\"] * atus_2018_tran_unemp_merge[\"TUFNWGTP\"]\n",
    "atus_2018_tran_unemp_multiplied_weight = atus_2018_tran_unemp_merge[\"Multiplied Weight\"].sum()\n",
    "atus_2018_tran_unemp_multiplied_weight"
   ]
  },
  {
   "cell_type": "code",
   "execution_count": 229,
   "metadata": {},
   "outputs": [
    {
     "data": {
      "text/plain": [
       "0.7833980803888657"
      ]
     },
     "execution_count": 229,
     "metadata": {},
     "output_type": "execute_result"
    }
   ],
   "source": [
    "atus_2018_tran_unemp_hpd = atus_2018_tran_unemp_multiplied_weight / atus_2018_unemp_weight / 60\n",
    "atus_2018_tran_unemp_hpd"
   ]
  },
  {
   "cell_type": "markdown",
   "metadata": {},
   "source": [
    "### 2019 Transportation"
   ]
  },
  {
   "cell_type": "code",
   "execution_count": 230,
   "metadata": {},
   "outputs": [],
   "source": [
    "atus_2019_tran_unemp = atus_2019_tran_unemp.groupby([\"TUCASEID\"]).sum().filter([\"TUCASEID\", \"TUACTDUR24\"])\n",
    "atus_2019_tran_unemp_merge = pd.merge(atus_2019_tran_unemp, multi_resp, on= \"TUCASEID\").filter([\"TUCASEID\",\"TUACTDUR24\",\"TUFNWGTP\"])\n",
    "#atus_2019_tran_unemp_merge"
   ]
  },
  {
   "cell_type": "code",
   "execution_count": 231,
   "metadata": {},
   "outputs": [
    {
     "data": {
      "text/plain": [
       "199842575579.40707"
      ]
     },
     "execution_count": 231,
     "metadata": {},
     "output_type": "execute_result"
    }
   ],
   "source": [
    "atus_2019_tran_unemp_merge[\"Multiplied Weight\"] = atus_2019_tran_unemp_merge[\"TUACTDUR24\"] * atus_2019_tran_unemp_merge[\"TUFNWGTP\"]\n",
    "atus_2019_tran_unemp_multiplied_weight = atus_2019_tran_unemp_merge[\"Multiplied Weight\"].sum()\n",
    "atus_2019_tran_unemp_multiplied_weight"
   ]
  },
  {
   "cell_type": "code",
   "execution_count": 232,
   "metadata": {},
   "outputs": [
    {
     "data": {
      "text/plain": [
       "0.9859869885822563"
      ]
     },
     "execution_count": 232,
     "metadata": {},
     "output_type": "execute_result"
    }
   ],
   "source": [
    "atus_2019_tran_unemp_hpd = atus_2019_tran_unemp_multiplied_weight / atus_2019_unemp_weight / 60\n",
    "atus_2019_tran_unemp_hpd"
   ]
  },
  {
   "cell_type": "markdown",
   "metadata": {},
   "source": [
    "### Regresssion: Transportation - Unemployed"
   ]
  },
  {
   "cell_type": "markdown",
   "metadata": {},
   "source": [
    "#### 2003 -2012 Regression"
   ]
  },
  {
   "cell_type": "code",
   "execution_count": 233,
   "metadata": {},
   "outputs": [],
   "source": [
    "year = np.array([2003, 2004, 2005, 2006, 2007, 2008, 2009, 2010,2011,2012]).reshape((-1, 1))\n",
    "activity_hours_per_day = np.array([atus_2003_tran_unemp_hpd, atus_2004_tran_unemp_hpd, atus_2005_tran_unemp_hpd,\n",
    "                                   atus_2006_tran_unemp_hpd, atus_2007_tran_unemp_hpd, atus_2008_tran_unemp_hpd,\n",
    "                                   atus_2009_tran_unemp_hpd, atus_2010_tran_unemp_hpd, atus_2011_tran_unemp_hpd,\n",
    "                                   atus_2012_tran_unemp_hpd]).reshape((-1, 1))\n",
    "\n",
    "activity_hours_per_yr = [i * 365 for i in activity_hours_per_day]\n",
    "#activity_hours_per_yr"
   ]
  },
  {
   "cell_type": "code",
   "execution_count": 234,
   "metadata": {},
   "outputs": [
    {
     "data": {
      "image/png": "[encoded data removed]",
      "text/plain": [
       "<Figure size 432x288 with 1 Axes>"
      ]
     },
     "metadata": {
      "needs_background": "light"
     },
     "output_type": "display_data"
    }
   ],
   "source": [
    "x = year\n",
    "y = activity_hours_per_yr\n",
    "x, y = np.array(x), np.array(y)\n",
    "\n",
    "model = LinearRegression().fit(x, y)\n",
    "\n",
    "y_pred = model.predict(x)  \n",
    "\n",
    "plt.scatter(x, y)\n",
    "plt.plot(x, y_pred, color='red')\n",
    "plt.show()"
   ]
  },
  {
   "cell_type": "code",
   "execution_count": 235,
   "metadata": {},
   "outputs": [
    {
     "data": {
      "text/plain": [
       "0.12881755327419775"
      ]
     },
     "execution_count": 235,
     "metadata": {},
     "output_type": "execute_result"
    }
   ],
   "source": [
    "coefficient_of_determination = model.score(x,y) #R sqaure value \n",
    "coefficient_of_determination"
   ]
  },
  {
   "cell_type": "code",
   "execution_count": 236,
   "metadata": {},
   "outputs": [
    {
     "data": {
      "text/plain": [
       "array([[-3.3521523]])"
      ]
     },
     "execution_count": 236,
     "metadata": {},
     "output_type": "execute_result"
    }
   ],
   "source": [
    "tran_2012_unemp_slope = model.coef_\n",
    "tran_2012_unemp_slope"
   ]
  },
  {
   "cell_type": "markdown",
   "metadata": {},
   "source": [
    "#### 2003 -2019 Regression"
   ]
  },
  {
   "cell_type": "code",
   "execution_count": 237,
   "metadata": {},
   "outputs": [],
   "source": [
    "year = np.array([2003, 2004, 2005, 2006, 2007, 2008, 2009, 2010,2011,2012, 2013, 2014, 2015, 2016, 2017, 2018, 2019]).reshape((-1, 1))\n",
    "activity_hours_per_day = np.array([atus_2003_tran_unemp_hpd, atus_2004_tran_unemp_hpd, atus_2005_tran_unemp_hpd,\n",
    "                                   atus_2006_tran_unemp_hpd, atus_2007_tran_unemp_hpd, atus_2008_tran_unemp_hpd,\n",
    "                                   atus_2009_tran_unemp_hpd, atus_2010_tran_unemp_hpd, atus_2011_tran_unemp_hpd,\n",
    "                                   atus_2012_tran_unemp_hpd, atus_2013_tran_unemp_hpd, atus_2014_tran_unemp_hpd,\n",
    "                                   atus_2015_tran_unemp_hpd, atus_2016_tran_unemp_hpd, atus_2017_tran_unemp_hpd,\n",
    "                                   atus_2018_tran_unemp_hpd, atus_2019_tran_unemp_hpd]).reshape((-1, 1))\n",
    "\n",
    "activity_hours_per_yr = [i * 365 for i in activity_hours_per_day]\n",
    "#activity_hours_per_yr"
   ]
  },
  {
   "cell_type": "code",
   "execution_count": 238,
   "metadata": {},
   "outputs": [
    {
     "data": {
      "image/png": "[encoded data removed]",
      "text/plain": [
       "<Figure size 432x288 with 1 Axes>"
      ]
     },
     "metadata": {
      "needs_background": "light"
     },
     "output_type": "display_data"
    }
   ],
   "source": [
    "x = year\n",
    "y = activity_hours_per_yr\n",
    "x, y = np.array(x), np.array(y)\n",
    "\n",
    "model = LinearRegression().fit(x, y)\n",
    "\n",
    "y_pred = model.predict(x)  \n",
    "\n",
    "plt.scatter(x, y)\n",
    "plt.plot(x, y_pred, color='red')\n",
    "plt.show()"
   ]
  },
  {
   "cell_type": "code",
   "execution_count": 239,
   "metadata": {},
   "outputs": [
    {
     "data": {
      "text/plain": [
       "0.039064717285199"
      ]
     },
     "execution_count": 239,
     "metadata": {},
     "output_type": "execute_result"
    }
   ],
   "source": [
    "coefficient_of_determination = model.score(x,y) #R sqaure value \n",
    "coefficient_of_determination"
   ]
  },
  {
   "cell_type": "code",
   "execution_count": 240,
   "metadata": {},
   "outputs": [
    {
     "data": {
      "text/plain": [
       "array([[-1.1947927]])"
      ]
     },
     "execution_count": 240,
     "metadata": {},
     "output_type": "execute_result"
    }
   ],
   "source": [
    "tran_2019_unemp_slope = model.coef_\n",
    "tran_2019_unemp_slope"
   ]
  },
  {
   "cell_type": "markdown",
   "metadata": {},
   "source": [
    "### 2003-2019 - Unspecified- Unemployed"
   ]
  },
  {
   "cell_type": "code",
   "execution_count": 241,
   "metadata": {},
   "outputs": [],
   "source": [
    "#unspecified = 89, 89 = Unspecified place"
   ]
  },
  {
   "cell_type": "code",
   "execution_count": 242,
   "metadata": {},
   "outputs": [
    {
     "data": {
      "text/html": [
       "<div>\n",
       "<style scoped>\n",
       "    .dataframe tbody tr th:only-of-type {\n",
       "        vertical-align: middle;\n",
       "    }\n",
       "\n",
       "    .dataframe tbody tr th {\n",
       "        vertical-align: top;\n",
       "    }\n",
       "\n",
       "    .dataframe thead th {\n",
       "        text-align: right;\n",
       "    }\n",
       "</style>\n",
       "<table border=\"1\" class=\"dataframe\">\n",
       "  <thead>\n",
       "    <tr style=\"text-align: right;\">\n",
       "      <th></th>\n",
       "      <th>TUCASEID</th>\n",
       "      <th>TUACTDUR24</th>\n",
       "      <th>TUCUMDUR</th>\n",
       "      <th>TRTIER1P</th>\n",
       "      <th>TRTIER2P</th>\n",
       "      <th>TRCODEP</th>\n",
       "      <th>TEWHERE</th>\n",
       "      <th>TELFS</th>\n",
       "      <th>TUFNWGTP</th>\n",
       "      <th>TUSTARTTIM</th>\n",
       "      <th>TUSTOPTIME</th>\n",
       "      <th>TUYEAR</th>\n",
       "    </tr>\n",
       "  </thead>\n",
       "  <tbody>\n",
       "    <tr>\n",
       "      <th>5674</th>\n",
       "      <td>20030111020848</td>\n",
       "      <td>1</td>\n",
       "      <td>661</td>\n",
       "      <td>03</td>\n",
       "      <td>0301</td>\n",
       "      <td>030112</td>\n",
       "      <td>89</td>\n",
       "      <td>4</td>\n",
       "      <td>2.112649e+06</td>\n",
       "      <td>15:00:00</td>\n",
       "      <td>15:01:00</td>\n",
       "      <td>2003</td>\n",
       "    </tr>\n",
       "    <tr>\n",
       "      <th>5676</th>\n",
       "      <td>20030111020848</td>\n",
       "      <td>1</td>\n",
       "      <td>672</td>\n",
       "      <td>03</td>\n",
       "      <td>0301</td>\n",
       "      <td>030112</td>\n",
       "      <td>89</td>\n",
       "      <td>4</td>\n",
       "      <td>2.112649e+06</td>\n",
       "      <td>15:11:00</td>\n",
       "      <td>15:12:00</td>\n",
       "      <td>2003</td>\n",
       "    </tr>\n",
       "    <tr>\n",
       "      <th>17712</th>\n",
       "      <td>20030112021408</td>\n",
       "      <td>15</td>\n",
       "      <td>351</td>\n",
       "      <td>13</td>\n",
       "      <td>1301</td>\n",
       "      <td>130131</td>\n",
       "      <td>89</td>\n",
       "      <td>4</td>\n",
       "      <td>6.199926e+06</td>\n",
       "      <td>09:36:00</td>\n",
       "      <td>09:51:00</td>\n",
       "      <td>2003</td>\n",
       "    </tr>\n",
       "    <tr>\n",
       "      <th>23888</th>\n",
       "      <td>20030112022151</td>\n",
       "      <td>10</td>\n",
       "      <td>615</td>\n",
       "      <td>03</td>\n",
       "      <td>0301</td>\n",
       "      <td>030112</td>\n",
       "      <td>89</td>\n",
       "      <td>4</td>\n",
       "      <td>2.366599e+06</td>\n",
       "      <td>14:05:00</td>\n",
       "      <td>14:15:00</td>\n",
       "      <td>2003</td>\n",
       "    </tr>\n",
       "    <tr>\n",
       "      <th>26969</th>\n",
       "      <td>20030112022505</td>\n",
       "      <td>5</td>\n",
       "      <td>485</td>\n",
       "      <td>03</td>\n",
       "      <td>0301</td>\n",
       "      <td>030111</td>\n",
       "      <td>89</td>\n",
       "      <td>4</td>\n",
       "      <td>3.299135e+06</td>\n",
       "      <td>12:00:00</td>\n",
       "      <td>12:05:00</td>\n",
       "      <td>2003</td>\n",
       "    </tr>\n",
       "    <tr>\n",
       "      <th>...</th>\n",
       "      <td>...</td>\n",
       "      <td>...</td>\n",
       "      <td>...</td>\n",
       "      <td>...</td>\n",
       "      <td>...</td>\n",
       "      <td>...</td>\n",
       "      <td>...</td>\n",
       "      <td>...</td>\n",
       "      <td>...</td>\n",
       "      <td>...</td>\n",
       "      <td>...</td>\n",
       "      <td>...</td>\n",
       "    </tr>\n",
       "    <tr>\n",
       "      <th>3992927</th>\n",
       "      <td>20190403191041</td>\n",
       "      <td>10</td>\n",
       "      <td>690</td>\n",
       "      <td>04</td>\n",
       "      <td>0405</td>\n",
       "      <td>040507</td>\n",
       "      <td>89</td>\n",
       "      <td>4</td>\n",
       "      <td>2.154017e+07</td>\n",
       "      <td>15:20:00</td>\n",
       "      <td>15:30:00</td>\n",
       "      <td>2019</td>\n",
       "    </tr>\n",
       "    <tr>\n",
       "      <th>4002613</th>\n",
       "      <td>20190404192391</td>\n",
       "      <td>200</td>\n",
       "      <td>870</td>\n",
       "      <td>13</td>\n",
       "      <td>1301</td>\n",
       "      <td>130131</td>\n",
       "      <td>89</td>\n",
       "      <td>4</td>\n",
       "      <td>1.824885e+07</td>\n",
       "      <td>15:10:00</td>\n",
       "      <td>18:30:00</td>\n",
       "      <td>2019</td>\n",
       "    </tr>\n",
       "    <tr>\n",
       "      <th>4011949</th>\n",
       "      <td>20190504191636</td>\n",
       "      <td>15</td>\n",
       "      <td>45</td>\n",
       "      <td>04</td>\n",
       "      <td>0405</td>\n",
       "      <td>040507</td>\n",
       "      <td>89</td>\n",
       "      <td>4</td>\n",
       "      <td>5.137876e+06</td>\n",
       "      <td>04:30:00</td>\n",
       "      <td>04:45:00</td>\n",
       "      <td>2019</td>\n",
       "    </tr>\n",
       "    <tr>\n",
       "      <th>4077905</th>\n",
       "      <td>20191008191006</td>\n",
       "      <td>1</td>\n",
       "      <td>694</td>\n",
       "      <td>03</td>\n",
       "      <td>0301</td>\n",
       "      <td>030112</td>\n",
       "      <td>89</td>\n",
       "      <td>4</td>\n",
       "      <td>6.150108e+06</td>\n",
       "      <td>15:33:00</td>\n",
       "      <td>15:34:00</td>\n",
       "      <td>2019</td>\n",
       "    </tr>\n",
       "    <tr>\n",
       "      <th>4119807</th>\n",
       "      <td>20191212191294</td>\n",
       "      <td>10</td>\n",
       "      <td>750</td>\n",
       "      <td>03</td>\n",
       "      <td>0301</td>\n",
       "      <td>030111</td>\n",
       "      <td>89</td>\n",
       "      <td>4</td>\n",
       "      <td>3.119249e+06</td>\n",
       "      <td>16:20:00</td>\n",
       "      <td>16:30:00</td>\n",
       "      <td>2019</td>\n",
       "    </tr>\n",
       "  </tbody>\n",
       "</table>\n",
       "<p>642 rows × 12 columns</p>\n",
       "</div>"
      ],
      "text/plain": [
       "               TUCASEID  TUACTDUR24  TUCUMDUR TRTIER1P TRTIER2P TRCODEP  \\\n",
       "5674     20030111020848           1       661       03     0301  030112   \n",
       "5676     20030111020848           1       672       03     0301  030112   \n",
       "17712    20030112021408          15       351       13     1301  130131   \n",
       "23888    20030112022151          10       615       03     0301  030112   \n",
       "26969    20030112022505           5       485       03     0301  030111   \n",
       "...                 ...         ...       ...      ...      ...     ...   \n",
       "3992927  20190403191041          10       690       04     0405  040507   \n",
       "4002613  20190404192391         200       870       13     1301  130131   \n",
       "4011949  20190504191636          15        45       04     0405  040507   \n",
       "4077905  20191008191006           1       694       03     0301  030112   \n",
       "4119807  20191212191294          10       750       03     0301  030111   \n",
       "\n",
       "         TEWHERE  TELFS      TUFNWGTP TUSTARTTIM TUSTOPTIME  TUYEAR  \n",
       "5674          89      4  2.112649e+06   15:00:00   15:01:00    2003  \n",
       "5676          89      4  2.112649e+06   15:11:00   15:12:00    2003  \n",
       "17712         89      4  6.199926e+06   09:36:00   09:51:00    2003  \n",
       "23888         89      4  2.366599e+06   14:05:00   14:15:00    2003  \n",
       "26969         89      4  3.299135e+06   12:00:00   12:05:00    2003  \n",
       "...          ...    ...           ...        ...        ...     ...  \n",
       "3992927       89      4  2.154017e+07   15:20:00   15:30:00    2019  \n",
       "4002613       89      4  1.824885e+07   15:10:00   18:30:00    2019  \n",
       "4011949       89      4  5.137876e+06   04:30:00   04:45:00    2019  \n",
       "4077905       89      4  6.150108e+06   15:33:00   15:34:00    2019  \n",
       "4119807       89      4  3.119249e+06   16:20:00   16:30:00    2019  \n",
       "\n",
       "[642 rows x 12 columns]"
      ]
     },
     "execution_count": 242,
     "metadata": {},
     "output_type": "execute_result"
    }
   ],
   "source": [
    "unspecified_location = [89]\n",
    "atus_multi_yr_unsp_unemp = multi_merged_unemployed[multi_merged_unemployed[\"TEWHERE\"].isin(unspecified_location)]\n",
    "atus_multi_yr_unsp_unemp"
   ]
  },
  {
   "cell_type": "code",
   "execution_count": 310,
   "metadata": {},
   "outputs": [],
   "source": [
    "#atus transportation unemployed population seperated by year\n",
    "#unsp = unspecified\n",
    "atus_2003_unsp_unemp = atus_multi_yr_unsp_unemp[atus_multi_yr_unsp_unemp[\"TUCASEID\"].apply(str).str.startswith(\"2003\")]\n",
    "atus_2004_unsp_unemp = atus_multi_yr_unsp_unemp[atus_multi_yr_unsp_unemp[\"TUCASEID\"].apply(str).str.startswith(\"2004\")]\n",
    "atus_2005_unsp_unemp = atus_multi_yr_unsp_unemp[atus_multi_yr_unsp_unemp[\"TUCASEID\"].apply(str).str.startswith(\"2005\")]\n",
    "atus_2006_unsp_unemp = atus_multi_yr_unsp_unemp[atus_multi_yr_unsp_unemp[\"TUCASEID\"].apply(str).str.startswith(\"2006\")]\n",
    "atus_2007_unsp_unemp = atus_multi_yr_unsp_unemp[atus_multi_yr_unsp_unemp[\"TUCASEID\"].apply(str).str.startswith(\"2007\")]\n",
    "atus_2008_unsp_unemp = atus_multi_yr_unsp_unemp[atus_multi_yr_unsp_unemp[\"TUCASEID\"].apply(str).str.startswith(\"2008\")]\n",
    "atus_2009_unsp_unemp = atus_multi_yr_unsp_unemp[atus_multi_yr_unsp_unemp[\"TUCASEID\"].apply(str).str.startswith(\"2009\")]\n",
    "atus_2010_unsp_unemp = atus_multi_yr_unsp_unemp[atus_multi_yr_unsp_unemp[\"TUCASEID\"].apply(str).str.startswith(\"2010\")]\n",
    "atus_2011_unsp_unemp = atus_multi_yr_unsp_unemp[atus_multi_yr_unsp_unemp[\"TUCASEID\"].apply(str).str.startswith(\"2011\")]\n",
    "atus_2012_unsp_unemp = atus_multi_yr_unsp_unemp[atus_multi_yr_unsp_unemp[\"TUCASEID\"].apply(str).str.startswith(\"2012\")]\n",
    "atus_2013_unsp_unemp = atus_multi_yr_unsp_unemp[atus_multi_yr_unsp_unemp[\"TUCASEID\"].apply(str).str.startswith(\"2013\")]\n",
    "atus_2014_unsp_unemp = atus_multi_yr_unsp_unemp[atus_multi_yr_unsp_unemp[\"TUCASEID\"].apply(str).str.startswith(\"2014\")]\n",
    "atus_2015_unsp_unemp = atus_multi_yr_unsp_unemp[atus_multi_yr_unsp_unemp[\"TUCASEID\"].apply(str).str.startswith(\"2015\")]\n",
    "atus_2016_unsp_unemp = atus_multi_yr_unsp_unemp[atus_multi_yr_unsp_unemp[\"TUCASEID\"].apply(str).str.startswith(\"2016\")]\n",
    "atus_2017_unsp_unemp = atus_multi_yr_unsp_unemp[atus_multi_yr_unsp_unemp[\"TUCASEID\"].apply(str).str.startswith(\"2017\")]\n",
    "atus_2018_unsp_unemp = atus_multi_yr_unsp_unemp[atus_multi_yr_unsp_unemp[\"TUCASEID\"].apply(str).str.startswith(\"2018\")]\n",
    "atus_2019_unsp_unemp = atus_multi_yr_unsp_unemp[atus_multi_yr_unsp_unemp[\"TUCASEID\"].apply(str).str.startswith(\"2019\")]\n",
    "#atus_2003_unsp_unemp\n",
    "#atus_2004_unsp_unemp[\"TRCODEP\"]"
   ]
  },
  {
   "cell_type": "markdown",
   "metadata": {},
   "source": [
    "### 2003 Unspecified- Unemployed"
   ]
  },
  {
   "cell_type": "code",
   "execution_count": 308,
   "metadata": {},
   "outputs": [],
   "source": [
    "atus_2003_unsp_unemp = atus_2003_unsp_unemp.groupby([\"TUCASEID\"]).sum().filter([\"TUCASEID\", \"TUACTDUR24\",])\n",
    "#atus_2003_unsp_unemp"
   ]
  },
  {
   "cell_type": "code",
   "execution_count": 245,
   "metadata": {},
   "outputs": [],
   "source": [
    "atus_2003_unsp_unemp_merge = pd.merge(atus_2003_unsp_unemp, multi_resp, on= \"TUCASEID\").filter([\"TUCASEID\",\"TUACTDUR24\",\"TUFNWGTP\"])\n",
    "#atus_2003_unsp_unemp_merge"
   ]
  },
  {
   "cell_type": "code",
   "execution_count": 246,
   "metadata": {},
   "outputs": [],
   "source": [
    "atus_2003_unsp_unemp_merge[\"Multiplied Weight\"] = atus_2003_unsp_unemp_merge[\"TUACTDUR24\"] * atus_2003_unsp_unemp_merge[\"TUFNWGTP\"]\n",
    "#atus_2003_unsp_unemp_merge"
   ]
  },
  {
   "cell_type": "code",
   "execution_count": 247,
   "metadata": {},
   "outputs": [
    {
     "data": {
      "text/plain": [
       "7488771392.410891"
      ]
     },
     "execution_count": 247,
     "metadata": {},
     "output_type": "execute_result"
    }
   ],
   "source": [
    "atus_2003_unsp_unemp_multiplied_weight = atus_2003_unsp_unemp_merge[\"Multiplied Weight\"].sum()\n",
    "atus_2003_unsp_unemp_multiplied_weight"
   ]
  },
  {
   "cell_type": "code",
   "execution_count": 248,
   "metadata": {},
   "outputs": [
    {
     "data": {
      "text/plain": [
       "0.028412494077731994"
      ]
     },
     "execution_count": 248,
     "metadata": {},
     "output_type": "execute_result"
    }
   ],
   "source": [
    "atus_2003_unsp_unemp_hpd = atus_2003_unsp_unemp_multiplied_weight / atus_2003_unemp_weight / 60\n",
    "atus_2003_unsp_unemp_hpd"
   ]
  },
  {
   "cell_type": "markdown",
   "metadata": {},
   "source": [
    "### 2004 Unspecified- Unemployed"
   ]
  },
  {
   "cell_type": "code",
   "execution_count": 249,
   "metadata": {},
   "outputs": [],
   "source": [
    "atus_2004_unsp_unemp = atus_2004_unsp_unemp.groupby([\"TUCASEID\"]).sum().filter([\"TUCASEID\", \"TUACTDUR24\"])\n",
    "#atus_2004_unsp_unemp"
   ]
  },
  {
   "cell_type": "code",
   "execution_count": 250,
   "metadata": {},
   "outputs": [
    {
     "data": {
      "text/plain": [
       "2612175200.781327"
      ]
     },
     "execution_count": 250,
     "metadata": {},
     "output_type": "execute_result"
    }
   ],
   "source": [
    "atus_2004_unsp_unemp_merge = pd.merge(atus_2004_unsp_unemp, multi_resp, on= \"TUCASEID\").filter([\"TUCASEID\",\"TUACTDUR24\",\"TUFNWGTP\"])\n",
    "\n",
    "atus_2004_unsp_unemp_merge[\"Multiplied Weight\"] = atus_2004_unsp_unemp_merge[\"TUACTDUR24\"] * atus_2004_unsp_unemp_merge[\"TUFNWGTP\"]\n",
    "\n",
    "atus_2004_unsp_unemp_multiplied_weight = atus_2004_unsp_unemp_merge[\"Multiplied Weight\"].sum()\n",
    "atus_2004_unsp_unemp_multiplied_weight"
   ]
  },
  {
   "cell_type": "code",
   "execution_count": 251,
   "metadata": {},
   "outputs": [
    {
     "data": {
      "text/plain": [
       "0.010241971066849957"
      ]
     },
     "execution_count": 251,
     "metadata": {},
     "output_type": "execute_result"
    }
   ],
   "source": [
    "atus_2004_unsp_unemp_hpd = atus_2004_unsp_unemp_multiplied_weight / atus_2004_unemp_weight / 60\n",
    "atus_2004_unsp_unemp_hpd"
   ]
  },
  {
   "cell_type": "markdown",
   "metadata": {},
   "source": [
    "### 2005 Unspecified- Unemployed"
   ]
  },
  {
   "cell_type": "code",
   "execution_count": 252,
   "metadata": {},
   "outputs": [],
   "source": [
    "atus_2005_unsp_unemp = atus_2005_unsp_unemp.groupby([\"TUCASEID\"]).sum().filter([\"TUCASEID\", \"TUACTDUR24\"])\n",
    "#atus_2005_unsp_unemp"
   ]
  },
  {
   "cell_type": "code",
   "execution_count": 253,
   "metadata": {},
   "outputs": [
    {
     "data": {
      "text/plain": [
       "3244295355.526269"
      ]
     },
     "execution_count": 253,
     "metadata": {},
     "output_type": "execute_result"
    }
   ],
   "source": [
    "atus_2005_unsp_unemp_merge = pd.merge(atus_2005_unsp_unemp, multi_resp, on= \"TUCASEID\").filter([\"TUCASEID\",\"TUACTDUR24\",\"TUFNWGTP\"])\n",
    "\n",
    "atus_2005_unsp_unemp_merge[\"Multiplied Weight\"] = atus_2005_unsp_unemp_merge[\"TUACTDUR24\"] * atus_2005_unsp_unemp_merge[\"TUFNWGTP\"]\n",
    "\n",
    "atus_2005_unsp_unemp_multiplied_weight = atus_2005_unsp_unemp_merge[\"Multiplied Weight\"].sum()\n",
    "atus_2005_unsp_unemp_multiplied_weight"
   ]
  },
  {
   "cell_type": "code",
   "execution_count": 254,
   "metadata": {},
   "outputs": [
    {
     "data": {
      "text/plain": [
       "0.013985145485033289"
      ]
     },
     "execution_count": 254,
     "metadata": {},
     "output_type": "execute_result"
    }
   ],
   "source": [
    "atus_2005_unsp_unemp_hpd = atus_2005_unsp_unemp_multiplied_weight / atus_2005_unemp_weight / 60\n",
    "atus_2005_unsp_unemp_hpd"
   ]
  },
  {
   "cell_type": "markdown",
   "metadata": {},
   "source": [
    "### 2006 Unspecified- Unemployed"
   ]
  },
  {
   "cell_type": "code",
   "execution_count": 255,
   "metadata": {},
   "outputs": [],
   "source": [
    "atus_2006_unsp_unemp = atus_2006_unsp_unemp.groupby([\"TUCASEID\"]).sum().filter([\"TUCASEID\", \"TUACTDUR24\"])\n",
    "#atus_2006_unsp_unemp"
   ]
  },
  {
   "cell_type": "code",
   "execution_count": 256,
   "metadata": {},
   "outputs": [
    {
     "data": {
      "text/plain": [
       "3050612273.3861694"
      ]
     },
     "execution_count": 256,
     "metadata": {},
     "output_type": "execute_result"
    }
   ],
   "source": [
    "atus_2006_unsp_unemp_merge = pd.merge(atus_2006_unsp_unemp, multi_resp, on= \"TUCASEID\").filter([\"TUCASEID\",\"TUACTDUR24\",\"TUFNWGTP\"])\n",
    "\n",
    "atus_2006_unsp_unemp_merge[\"Multiplied Weight\"] = atus_2006_unsp_unemp_merge[\"TUACTDUR24\"] * atus_2006_unsp_unemp_merge[\"TUFNWGTP\"]\n",
    "\n",
    "atus_2006_unsp_unemp_multiplied_weight = atus_2006_unsp_unemp_merge[\"Multiplied Weight\"].sum()\n",
    "atus_2006_unsp_unemp_multiplied_weight"
   ]
  },
  {
   "cell_type": "code",
   "execution_count": 257,
   "metadata": {},
   "outputs": [
    {
     "data": {
      "text/plain": [
       "0.01280208858976051"
      ]
     },
     "execution_count": 257,
     "metadata": {},
     "output_type": "execute_result"
    }
   ],
   "source": [
    "atus_2006_unsp_unemp_hpd = atus_2006_unsp_unemp_multiplied_weight / atus_2006_unemp_weight / 60\n",
    "atus_2006_unsp_unemp_hpd"
   ]
  },
  {
   "cell_type": "markdown",
   "metadata": {},
   "source": [
    "### 2007 Unspecified- Unemployed"
   ]
  },
  {
   "cell_type": "code",
   "execution_count": 258,
   "metadata": {},
   "outputs": [],
   "source": [
    "atus_2007_unsp_unemp = atus_2007_unsp_unemp.groupby([\"TUCASEID\"]).sum().filter([\"TUCASEID\", \"TUACTDUR24\"])\n",
    "#atus_2007_unsp_unemp"
   ]
  },
  {
   "cell_type": "code",
   "execution_count": 259,
   "metadata": {},
   "outputs": [
    {
     "data": {
      "text/plain": [
       "6677123004.294082"
      ]
     },
     "execution_count": 259,
     "metadata": {},
     "output_type": "execute_result"
    }
   ],
   "source": [
    "atus_2007_unsp_unemp_merge = pd.merge(atus_2007_unsp_unemp, multi_resp, on= \"TUCASEID\").filter([\"TUCASEID\",\"TUACTDUR24\",\"TUFNWGTP\"])\n",
    "\n",
    "atus_2007_unsp_unemp_merge[\"Multiplied Weight\"] = atus_2007_unsp_unemp_merge[\"TUACTDUR24\"] * atus_2007_unsp_unemp_merge[\"TUFNWGTP\"]\n",
    "\n",
    "atus_2007_unsp_unemp_multiplied_weight = atus_2007_unsp_unemp_merge[\"Multiplied Weight\"].sum()\n",
    "atus_2007_unsp_unemp_multiplied_weight"
   ]
  },
  {
   "cell_type": "code",
   "execution_count": 260,
   "metadata": {},
   "outputs": [
    {
     "data": {
      "text/plain": [
       "0.028982361771128957"
      ]
     },
     "execution_count": 260,
     "metadata": {},
     "output_type": "execute_result"
    }
   ],
   "source": [
    "atus_2007_unsp_unemp_hpd = atus_2007_unsp_unemp_multiplied_weight / atus_2007_unemp_weight / 60\n",
    "atus_2007_unsp_unemp_hpd"
   ]
  },
  {
   "cell_type": "markdown",
   "metadata": {},
   "source": [
    "### 2008 Unspecified- Unemployed"
   ]
  },
  {
   "cell_type": "code",
   "execution_count": 261,
   "metadata": {},
   "outputs": [],
   "source": [
    "atus_2008_unsp_unemp = atus_2008_unsp_unemp.groupby([\"TUCASEID\"]).sum().filter([\"TUCASEID\", \"TUACTDUR24\"])\n",
    "#atus_2008_unsp_unemp"
   ]
  },
  {
   "cell_type": "code",
   "execution_count": 262,
   "metadata": {},
   "outputs": [
    {
     "data": {
      "text/plain": [
       "3101059047.880535"
      ]
     },
     "execution_count": 262,
     "metadata": {},
     "output_type": "execute_result"
    }
   ],
   "source": [
    "atus_2008_unsp_unemp_merge = pd.merge(atus_2008_unsp_unemp, multi_resp, on= \"TUCASEID\").filter([\"TUCASEID\",\"TUACTDUR24\",\"TUFNWGTP\"])\n",
    "\n",
    "atus_2008_unsp_unemp_merge[\"Multiplied Weight\"] = atus_2008_unsp_unemp_merge[\"TUACTDUR24\"] * atus_2008_unsp_unemp_merge[\"TUFNWGTP\"]\n",
    "\n",
    "atus_2008_unsp_unemp_multiplied_weight = atus_2008_unsp_unemp_merge[\"Multiplied Weight\"].sum()\n",
    "atus_2008_unsp_unemp_multiplied_weight"
   ]
  },
  {
   "cell_type": "code",
   "execution_count": 263,
   "metadata": {},
   "outputs": [
    {
     "data": {
      "text/plain": [
       "0.0111870484551242"
      ]
     },
     "execution_count": 263,
     "metadata": {},
     "output_type": "execute_result"
    }
   ],
   "source": [
    "atus_2008_unsp_unemp_hpd = atus_2008_unsp_unemp_multiplied_weight / atus_2008_unemp_weight / 60\n",
    "atus_2008_unsp_unemp_hpd"
   ]
  },
  {
   "cell_type": "markdown",
   "metadata": {},
   "source": [
    "### 2009 Unspecified- Unemployed"
   ]
  },
  {
   "cell_type": "code",
   "execution_count": 264,
   "metadata": {},
   "outputs": [],
   "source": [
    "atus_2009_unsp_unemp = atus_2009_unsp_unemp.groupby([\"TUCASEID\"]).sum().filter([\"TUCASEID\", \"TUACTDUR24\"])\n",
    "#atus_2009_unsp_unemp"
   ]
  },
  {
   "cell_type": "code",
   "execution_count": 265,
   "metadata": {},
   "outputs": [
    {
     "data": {
      "text/plain": [
       "10725994327.972006"
      ]
     },
     "execution_count": 265,
     "metadata": {},
     "output_type": "execute_result"
    }
   ],
   "source": [
    "atus_2009_unsp_unemp_merge = pd.merge(atus_2009_unsp_unemp, multi_resp, on= \"TUCASEID\").filter([\"TUCASEID\",\"TUACTDUR24\",\"TUFNWGTP\"])\n",
    "\n",
    "atus_2009_unsp_unemp_merge[\"Multiplied Weight\"] = atus_2009_unsp_unemp_merge[\"TUACTDUR24\"] * atus_2009_unsp_unemp_merge[\"TUFNWGTP\"]\n",
    "\n",
    "atus_2009_unsp_unemp_multiplied_weight = atus_2009_unsp_unemp_merge[\"Multiplied Weight\"].sum()\n",
    "atus_2009_unsp_unemp_multiplied_weight"
   ]
  },
  {
   "cell_type": "code",
   "execution_count": 266,
   "metadata": {},
   "outputs": [
    {
     "data": {
      "text/plain": [
       "0.026203587716718855"
      ]
     },
     "execution_count": 266,
     "metadata": {},
     "output_type": "execute_result"
    }
   ],
   "source": [
    "atus_2009_unsp_unemp_hpd = atus_2009_unsp_unemp_multiplied_weight / atus_2009_unemp_weight / 60\n",
    "atus_2009_unsp_unemp_hpd"
   ]
  },
  {
   "cell_type": "markdown",
   "metadata": {},
   "source": [
    "### 2010 Unspecified- Unemployed"
   ]
  },
  {
   "cell_type": "code",
   "execution_count": 267,
   "metadata": {},
   "outputs": [],
   "source": [
    "atus_2010_unsp_unemp = atus_2010_unsp_unemp.groupby([\"TUCASEID\"]).sum().filter([\"TUCASEID\", \"TUACTDUR24\"])\n",
    "#atus_2010_unsp_unemp"
   ]
  },
  {
   "cell_type": "code",
   "execution_count": 268,
   "metadata": {},
   "outputs": [
    {
     "data": {
      "text/plain": [
       "9088043779.165169"
      ]
     },
     "execution_count": 268,
     "metadata": {},
     "output_type": "execute_result"
    }
   ],
   "source": [
    "atus_2010_unsp_unemp_merge = pd.merge(atus_2010_unsp_unemp, multi_resp, on= \"TUCASEID\").filter([\"TUCASEID\",\"TUACTDUR24\",\"TUFNWGTP\"])\n",
    "\n",
    "atus_2010_unsp_unemp_merge[\"Multiplied Weight\"] = atus_2010_unsp_unemp_merge[\"TUACTDUR24\"] * atus_2010_unsp_unemp_merge[\"TUFNWGTP\"]\n",
    "\n",
    "atus_2010_unsp_unemp_multiplied_weight = atus_2010_unsp_unemp_merge[\"Multiplied Weight\"].sum()\n",
    "atus_2010_unsp_unemp_multiplied_weight"
   ]
  },
  {
   "cell_type": "code",
   "execution_count": 269,
   "metadata": {},
   "outputs": [
    {
     "data": {
      "text/plain": [
       "0.021682207579158456"
      ]
     },
     "execution_count": 269,
     "metadata": {},
     "output_type": "execute_result"
    }
   ],
   "source": [
    "atus_2010_unsp_unemp_hpd = atus_2010_unsp_unemp_multiplied_weight / atus_2010_unemp_weight / 60\n",
    "atus_2010_unsp_unemp_hpd"
   ]
  },
  {
   "cell_type": "markdown",
   "metadata": {},
   "source": [
    "### 2011 Unspecified- Unemployed"
   ]
  },
  {
   "cell_type": "code",
   "execution_count": 270,
   "metadata": {},
   "outputs": [],
   "source": [
    "atus_2011_unsp_unemp = atus_2011_unsp_unemp.groupby([\"TUCASEID\"]).sum().filter([\"TUCASEID\", \"TUACTDUR24\"])\n",
    "#atus_2011_unsp_unemp"
   ]
  },
  {
   "cell_type": "code",
   "execution_count": 271,
   "metadata": {},
   "outputs": [
    {
     "data": {
      "text/plain": [
       "8363446973.861037"
      ]
     },
     "execution_count": 271,
     "metadata": {},
     "output_type": "execute_result"
    }
   ],
   "source": [
    "atus_2011_unsp_unemp_merge = pd.merge(atus_2011_unsp_unemp, multi_resp, on= \"TUCASEID\").filter([\"TUCASEID\",\"TUACTDUR24\",\"TUFNWGTP\"])\n",
    "\n",
    "atus_2011_unsp_unemp_merge[\"Multiplied Weight\"] = atus_2011_unsp_unemp_merge[\"TUACTDUR24\"] * atus_2011_unsp_unemp_merge[\"TUFNWGTP\"]\n",
    "\n",
    "atus_2011_unsp_unemp_multiplied_weight = atus_2011_unsp_unemp_merge[\"Multiplied Weight\"].sum()\n",
    "atus_2011_unsp_unemp_multiplied_weight"
   ]
  },
  {
   "cell_type": "code",
   "execution_count": 272,
   "metadata": {},
   "outputs": [
    {
     "data": {
      "text/plain": [
       "0.021557375095626708"
      ]
     },
     "execution_count": 272,
     "metadata": {},
     "output_type": "execute_result"
    }
   ],
   "source": [
    "atus_2011_unsp_unemp_hpd = atus_2011_unsp_unemp_multiplied_weight / atus_2011_unemp_weight / 60\n",
    "atus_2011_unsp_unemp_hpd"
   ]
  },
  {
   "cell_type": "markdown",
   "metadata": {},
   "source": [
    "### 2012 Unspecified- Unemployed"
   ]
  },
  {
   "cell_type": "code",
   "execution_count": 273,
   "metadata": {},
   "outputs": [],
   "source": [
    "atus_2012_unsp_unemp = atus_2012_unsp_unemp.groupby([\"TUCASEID\"]).sum().filter([\"TUCASEID\", \"TUACTDUR24\"])\n",
    "#atus_2012_unsp_unemp"
   ]
  },
  {
   "cell_type": "code",
   "execution_count": 274,
   "metadata": {},
   "outputs": [
    {
     "data": {
      "text/plain": [
       "2035833316.5704339"
      ]
     },
     "execution_count": 274,
     "metadata": {},
     "output_type": "execute_result"
    }
   ],
   "source": [
    "atus_2012_unsp_unemp_merge = pd.merge(atus_2012_unsp_unemp, multi_resp, on= \"TUCASEID\").filter([\"TUCASEID\",\"TUACTDUR24\",\"TUFNWGTP\"])\n",
    "\n",
    "atus_2012_unsp_unemp_merge[\"Multiplied Weight\"] = atus_2012_unsp_unemp_merge[\"TUACTDUR24\"] * atus_2012_unsp_unemp_merge[\"TUFNWGTP\"]\n",
    "\n",
    "atus_2012_unsp_unemp_multiplied_weight = atus_2012_unsp_unemp_merge[\"Multiplied Weight\"].sum()\n",
    "atus_2012_unsp_unemp_multiplied_weight"
   ]
  },
  {
   "cell_type": "code",
   "execution_count": 275,
   "metadata": {},
   "outputs": [
    {
     "data": {
      "text/plain": [
       "0.006044907825453638"
      ]
     },
     "execution_count": 275,
     "metadata": {},
     "output_type": "execute_result"
    }
   ],
   "source": [
    "atus_2012_unsp_unemp_hpd = atus_2012_unsp_unemp_multiplied_weight / atus_2012_unemp_weight / 60\n",
    "atus_2012_unsp_unemp_hpd"
   ]
  },
  {
   "cell_type": "markdown",
   "metadata": {},
   "source": [
    "### 2013 Unspecified- Unemployed"
   ]
  },
  {
   "cell_type": "code",
   "execution_count": 276,
   "metadata": {},
   "outputs": [],
   "source": [
    "atus_2013_unsp_unemp = atus_2013_unsp_unemp.groupby([\"TUCASEID\"]).sum().filter([\"TUCASEID\", \"TUACTDUR24\"])\n",
    "#atus_2013_unsp_unemp"
   ]
  },
  {
   "cell_type": "code",
   "execution_count": 277,
   "metadata": {},
   "outputs": [
    {
     "data": {
      "text/plain": [
       "1821602873.8850875"
      ]
     },
     "execution_count": 277,
     "metadata": {},
     "output_type": "execute_result"
    }
   ],
   "source": [
    "atus_2013_unsp_unemp_merge = pd.merge(atus_2013_unsp_unemp, multi_resp, on= \"TUCASEID\").filter([\"TUCASEID\",\"TUACTDUR24\",\"TUFNWGTP\"])\n",
    "\n",
    "atus_2013_unsp_unemp_merge[\"Multiplied Weight\"] = atus_2013_unsp_unemp_merge[\"TUACTDUR24\"] * atus_2013_unsp_unemp_merge[\"TUFNWGTP\"]\n",
    "\n",
    "atus_2013_unsp_unemp_multiplied_weight = atus_2013_unsp_unemp_merge[\"Multiplied Weight\"].sum()\n",
    "atus_2013_unsp_unemp_multiplied_weight"
   ]
  },
  {
   "cell_type": "code",
   "execution_count": 278,
   "metadata": {},
   "outputs": [
    {
     "data": {
      "text/plain": [
       "0.005757936167210515"
      ]
     },
     "execution_count": 278,
     "metadata": {},
     "output_type": "execute_result"
    }
   ],
   "source": [
    "atus_2013_unsp_unemp_hpd = atus_2013_unsp_unemp_multiplied_weight / atus_2013_unemp_weight / 60\n",
    "atus_2013_unsp_unemp_hpd"
   ]
  },
  {
   "cell_type": "markdown",
   "metadata": {},
   "source": [
    "### 2014 Unspecified- Unemployed"
   ]
  },
  {
   "cell_type": "code",
   "execution_count": 279,
   "metadata": {},
   "outputs": [],
   "source": [
    "atus_2014_unsp_unemp = atus_2014_unsp_unemp.groupby([\"TUCASEID\"]).sum().filter([\"TUCASEID\", \"TUACTDUR24\"])\n",
    "#atus_2014_unsp_unemp"
   ]
  },
  {
   "cell_type": "code",
   "execution_count": 280,
   "metadata": {},
   "outputs": [
    {
     "data": {
      "text/plain": [
       "6458677507.009595"
      ]
     },
     "execution_count": 280,
     "metadata": {},
     "output_type": "execute_result"
    }
   ],
   "source": [
    "atus_2014_unsp_unemp_merge = pd.merge(atus_2014_unsp_unemp, multi_resp, on= \"TUCASEID\").filter([\"TUCASEID\",\"TUACTDUR24\",\"TUFNWGTP\"])\n",
    "\n",
    "atus_2014_unsp_unemp_merge[\"Multiplied Weight\"] = atus_2014_unsp_unemp_merge[\"TUACTDUR24\"] * atus_2014_unsp_unemp_merge[\"TUFNWGTP\"]\n",
    "\n",
    "atus_2014_unsp_unemp_multiplied_weight = atus_2014_unsp_unemp_merge[\"Multiplied Weight\"].sum()\n",
    "atus_2014_unsp_unemp_multiplied_weight"
   ]
  },
  {
   "cell_type": "code",
   "execution_count": 281,
   "metadata": {},
   "outputs": [
    {
     "data": {
      "text/plain": [
       "0.02171386328167688"
      ]
     },
     "execution_count": 281,
     "metadata": {},
     "output_type": "execute_result"
    }
   ],
   "source": [
    "atus_2014_unsp_unemp_hpd = atus_2014_unsp_unemp_multiplied_weight / atus_2014_unemp_weight / 60\n",
    "atus_2014_unsp_unemp_hpd"
   ]
  },
  {
   "cell_type": "markdown",
   "metadata": {},
   "source": [
    "### 2015 Unspecified- Unemployed"
   ]
  },
  {
   "cell_type": "code",
   "execution_count": 282,
   "metadata": {},
   "outputs": [],
   "source": [
    "atus_2015_unsp_unemp = atus_2015_unsp_unemp.groupby([\"TUCASEID\"]).sum().filter([\"TUCASEID\", \"TUACTDUR24\"])\n",
    "#atus_2015_unsp_unemp"
   ]
  },
  {
   "cell_type": "code",
   "execution_count": 283,
   "metadata": {},
   "outputs": [
    {
     "data": {
      "text/plain": [
       "4757399817.670819"
      ]
     },
     "execution_count": 283,
     "metadata": {},
     "output_type": "execute_result"
    }
   ],
   "source": [
    "atus_2015_unsp_unemp_merge = pd.merge(atus_2015_unsp_unemp, multi_resp, on= \"TUCASEID\").filter([\"TUCASEID\",\"TUACTDUR24\",\"TUFNWGTP\"])\n",
    "\n",
    "atus_2015_unsp_unemp_merge[\"Multiplied Weight\"] = atus_2015_unsp_unemp_merge[\"TUACTDUR24\"] * atus_2015_unsp_unemp_merge[\"TUFNWGTP\"]\n",
    "\n",
    "atus_2015_unsp_unemp_multiplied_weight = atus_2015_unsp_unemp_merge[\"Multiplied Weight\"].sum()\n",
    "atus_2015_unsp_unemp_multiplied_weight"
   ]
  },
  {
   "cell_type": "code",
   "execution_count": 284,
   "metadata": {},
   "outputs": [
    {
     "data": {
      "text/plain": [
       "0.016906069434711627"
      ]
     },
     "execution_count": 284,
     "metadata": {},
     "output_type": "execute_result"
    }
   ],
   "source": [
    "atus_2015_unsp_unemp_hpd = atus_2015_unsp_unemp_multiplied_weight / atus_2015_unemp_weight / 60\n",
    "atus_2015_unsp_unemp_hpd"
   ]
  },
  {
   "cell_type": "markdown",
   "metadata": {},
   "source": [
    "### 2016 Unspecified- Unemployed"
   ]
  },
  {
   "cell_type": "code",
   "execution_count": 285,
   "metadata": {},
   "outputs": [],
   "source": [
    "atus_2016_unsp_unemp = atus_2016_unsp_unemp.groupby([\"TUCASEID\"]).sum().filter([\"TUCASEID\", \"TUACTDUR24\"])\n",
    "#atus_2016_unsp_unemp"
   ]
  },
  {
   "cell_type": "code",
   "execution_count": 286,
   "metadata": {},
   "outputs": [
    {
     "data": {
      "text/plain": [
       "6839032343.658081"
      ]
     },
     "execution_count": 286,
     "metadata": {},
     "output_type": "execute_result"
    }
   ],
   "source": [
    "atus_2016_unsp_unemp_merge = pd.merge(atus_2016_unsp_unemp, multi_resp, on= \"TUCASEID\").filter([\"TUCASEID\",\"TUACTDUR24\",\"TUFNWGTP\"])\n",
    "\n",
    "atus_2016_unsp_unemp_merge[\"Multiplied Weight\"] = atus_2016_unsp_unemp_merge[\"TUACTDUR24\"] * atus_2016_unsp_unemp_merge[\"TUFNWGTP\"]\n",
    "\n",
    "atus_2016_unsp_unemp_multiplied_weight = atus_2016_unsp_unemp_merge[\"Multiplied Weight\"].sum()\n",
    "atus_2016_unsp_unemp_multiplied_weight"
   ]
  },
  {
   "cell_type": "code",
   "execution_count": 287,
   "metadata": {},
   "outputs": [
    {
     "data": {
      "text/plain": [
       "0.029714253957585614"
      ]
     },
     "execution_count": 287,
     "metadata": {},
     "output_type": "execute_result"
    }
   ],
   "source": [
    "atus_2016_unsp_unemp_hpd = atus_2016_unsp_unemp_multiplied_weight / atus_2016_unemp_weight / 60\n",
    "atus_2016_unsp_unemp_hpd"
   ]
  },
  {
   "cell_type": "markdown",
   "metadata": {},
   "source": [
    "### 2017 Unspecified- Unemployed"
   ]
  },
  {
   "cell_type": "code",
   "execution_count": 288,
   "metadata": {},
   "outputs": [],
   "source": [
    "atus_2017_unsp_unemp = atus_2017_unsp_unemp.groupby([\"TUCASEID\"]).sum().filter([\"TUCASEID\", \"TUACTDUR24\"])\n",
    "#atus_2017_unsp_unemp"
   ]
  },
  {
   "cell_type": "code",
   "execution_count": 289,
   "metadata": {},
   "outputs": [
    {
     "data": {
      "text/plain": [
       "5464974620.597077"
      ]
     },
     "execution_count": 289,
     "metadata": {},
     "output_type": "execute_result"
    }
   ],
   "source": [
    "atus_2017_unsp_unemp_merge = pd.merge(atus_2017_unsp_unemp, multi_resp, on= \"TUCASEID\").filter([\"TUCASEID\",\"TUACTDUR24\",\"TUFNWGTP\"])\n",
    "\n",
    "atus_2017_unsp_unemp_merge[\"Multiplied Weight\"] = atus_2017_unsp_unemp_merge[\"TUACTDUR24\"] * atus_2017_unsp_unemp_merge[\"TUFNWGTP\"]\n",
    "\n",
    "atus_2017_unsp_unemp_multiplied_weight = atus_2017_unsp_unemp_merge[\"Multiplied Weight\"].sum()\n",
    "atus_2017_unsp_unemp_multiplied_weight"
   ]
  },
  {
   "cell_type": "code",
   "execution_count": 290,
   "metadata": {},
   "outputs": [
    {
     "data": {
      "text/plain": [
       "0.023958028089591046"
      ]
     },
     "execution_count": 290,
     "metadata": {},
     "output_type": "execute_result"
    }
   ],
   "source": [
    "atus_2017_unsp_unemp_hpd = atus_2017_unsp_unemp_multiplied_weight / atus_2017_unemp_weight / 60\n",
    "atus_2017_unsp_unemp_hpd"
   ]
  },
  {
   "cell_type": "markdown",
   "metadata": {},
   "source": [
    "### 2018 Unspecified- Unemployed"
   ]
  },
  {
   "cell_type": "code",
   "execution_count": 291,
   "metadata": {},
   "outputs": [],
   "source": [
    "atus_2018_unsp_unemp = atus_2018_unsp_unemp.groupby([\"TUCASEID\"]).sum().filter([\"TUCASEID\", \"TUACTDUR24\"])\n",
    "#atus_2018_unsp_unemp"
   ]
  },
  {
   "cell_type": "code",
   "execution_count": 292,
   "metadata": {},
   "outputs": [
    {
     "data": {
      "text/plain": [
       "4676405903.432171"
      ]
     },
     "execution_count": 292,
     "metadata": {},
     "output_type": "execute_result"
    }
   ],
   "source": [
    "atus_2018_unsp_unemp_merge = pd.merge(atus_2018_unsp_unemp, multi_resp, on= \"TUCASEID\").filter([\"TUCASEID\",\"TUACTDUR24\",\"TUFNWGTP\"])\n",
    "\n",
    "atus_2018_unsp_unemp_merge[\"Multiplied Weight\"] = atus_2018_unsp_unemp_merge[\"TUACTDUR24\"] * atus_2018_unsp_unemp_merge[\"TUFNWGTP\"]\n",
    "\n",
    "atus_2018_unsp_unemp_multiplied_weight = atus_2018_unsp_unemp_merge[\"Multiplied Weight\"].sum()\n",
    "atus_2018_unsp_unemp_multiplied_weight"
   ]
  },
  {
   "cell_type": "code",
   "execution_count": 293,
   "metadata": {},
   "outputs": [
    {
     "data": {
      "text/plain": [
       "0.02252931806510289"
      ]
     },
     "execution_count": 293,
     "metadata": {},
     "output_type": "execute_result"
    }
   ],
   "source": [
    "atus_2018_unsp_unemp_hpd = atus_2018_unsp_unemp_multiplied_weight / atus_2018_unemp_weight / 60\n",
    "atus_2018_unsp_unemp_hpd"
   ]
  },
  {
   "cell_type": "markdown",
   "metadata": {},
   "source": [
    "### 2019 Unspecified- Unemployed"
   ]
  },
  {
   "cell_type": "code",
   "execution_count": 294,
   "metadata": {},
   "outputs": [],
   "source": [
    "atus_2019_unsp_unemp = atus_2019_unsp_unemp.groupby([\"TUCASEID\"]).sum().filter([\"TUCASEID\", \"TUACTDUR24\"])\n",
    "#atus_2019_unsp_unemp"
   ]
  },
  {
   "cell_type": "code",
   "execution_count": 295,
   "metadata": {},
   "outputs": [
    {
     "data": {
      "text/plain": [
       "4273368933.2332363"
      ]
     },
     "execution_count": 295,
     "metadata": {},
     "output_type": "execute_result"
    }
   ],
   "source": [
    "atus_2019_unsp_unemp_merge = pd.merge(atus_2019_unsp_unemp, multi_resp, on= \"TUCASEID\").filter([\"TUCASEID\",\"TUACTDUR24\",\"TUFNWGTP\"])\n",
    "\n",
    "atus_2019_unsp_unemp_merge[\"Multiplied Weight\"] = atus_2019_unsp_unemp_merge[\"TUACTDUR24\"] * atus_2019_unsp_unemp_merge[\"TUFNWGTP\"]\n",
    "\n",
    "atus_2019_unsp_unemp_multiplied_weight = atus_2019_unsp_unemp_merge[\"Multiplied Weight\"].sum()\n",
    "atus_2019_unsp_unemp_multiplied_weight"
   ]
  },
  {
   "cell_type": "code",
   "execution_count": 296,
   "metadata": {},
   "outputs": [
    {
     "data": {
      "text/plain": [
       "0.02108402653120024"
      ]
     },
     "execution_count": 296,
     "metadata": {},
     "output_type": "execute_result"
    }
   ],
   "source": [
    "atus_2019_unsp_unemp_hpd = atus_2019_unsp_unemp_multiplied_weight / atus_2019_unemp_weight / 60\n",
    "atus_2019_unsp_unemp_hpd"
   ]
  },
  {
   "cell_type": "markdown",
   "metadata": {},
   "source": [
    "### Regresssion: Unespecified - Unemployed"
   ]
  },
  {
   "cell_type": "markdown",
   "metadata": {},
   "source": [
    "#### 2003 -2012 Regression"
   ]
  },
  {
   "cell_type": "code",
   "execution_count": 297,
   "metadata": {},
   "outputs": [],
   "source": [
    "year = np.array([2003, 2004, 2005, 2006, 2007, 2008, 2009, 2010,2011,2012]).reshape((-1, 1))\n",
    "activity_hours_per_day = np.array([atus_2003_unsp_unemp_hpd, atus_2004_unsp_unemp_hpd, atus_2005_unsp_unemp_hpd,\n",
    "                                   atus_2006_unsp_unemp_hpd, atus_2007_unsp_unemp_hpd, atus_2008_unsp_unemp_hpd,\n",
    "                                   atus_2009_unsp_unemp_hpd, atus_2010_unsp_unemp_hpd, atus_2011_unsp_unemp_hpd,\n",
    "                                   atus_2012_unsp_unemp_hpd]).reshape((-1, 1))\n",
    "\n",
    "activity_hours_per_yr = [i * 365 for i in activity_hours_per_day]\n",
    "#activity_hours_per_yr"
   ]
  },
  {
   "cell_type": "code",
   "execution_count": 298,
   "metadata": {},
   "outputs": [
    {
     "data": {
      "image/png": "[encoded data removed]",
      "text/plain": [
       "<Figure size 432x288 with 1 Axes>"
      ]
     },
     "metadata": {
      "needs_background": "light"
     },
     "output_type": "display_data"
    }
   ],
   "source": [
    "x = year\n",
    "y = activity_hours_per_yr\n",
    "x, y = np.array(x), np.array(y)\n",
    "\n",
    "model = LinearRegression().fit(x, y)\n",
    "\n",
    "y_pred = model.predict(x)  \n",
    "\n",
    "plt.scatter(x, y)\n",
    "plt.plot(x, y_pred, color='red')\n",
    "plt.show()"
   ]
  },
  {
   "cell_type": "code",
   "execution_count": 299,
   "metadata": {},
   "outputs": [
    {
     "data": {
      "text/plain": [
       "0.018455915024962133"
      ]
     },
     "execution_count": 299,
     "metadata": {},
     "output_type": "execute_result"
    }
   ],
   "source": [
    "coefficient_of_determination = model.score(x,y) #R sqaure value \n",
    "coefficient_of_determination"
   ]
  },
  {
   "cell_type": "code",
   "execution_count": 300,
   "metadata": {},
   "outputs": [
    {
     "data": {
      "text/plain": [
       "array([[-0.13539499]])"
      ]
     },
     "execution_count": 300,
     "metadata": {},
     "output_type": "execute_result"
    }
   ],
   "source": [
    "all_act_2012_res_unemp_slope = model.coef_\n",
    "all_act_2012_res_unemp_slope"
   ]
  },
  {
   "cell_type": "markdown",
   "metadata": {},
   "source": [
    "#### 2003-2019 Regression"
   ]
  },
  {
   "cell_type": "code",
   "execution_count": 301,
   "metadata": {},
   "outputs": [],
   "source": [
    "year = np.array([2003, 2004, 2005, 2006, 2007, 2008, 2009, 2010,2011,2012,2013,2014,2015,2016,2017,2018,2019]).reshape((-1, 1))\n",
    "activity_hours_per_day = np.array([atus_2003_unsp_unemp_hpd, atus_2004_unsp_unemp_hpd, atus_2005_unsp_unemp_hpd,\n",
    "                                   atus_2006_unsp_unemp_hpd, atus_2007_unsp_unemp_hpd, atus_2008_unsp_unemp_hpd,\n",
    "                                   atus_2009_unsp_unemp_hpd, atus_2010_unsp_unemp_hpd, atus_2011_unsp_unemp_hpd,\n",
    "                                   atus_2012_unsp_unemp_hpd, atus_2013_unsp_unemp_hpd, atus_2014_unsp_unemp_hpd,\n",
    "                                   atus_2015_unsp_unemp_hpd, atus_2016_unsp_unemp_hpd, atus_2017_unsp_unemp_hpd,\n",
    "                                   atus_2018_unsp_unemp_hpd, atus_2019_unsp_unemp_hpd]).reshape((-1, 1))\n",
    "\n",
    "activity_hours_per_yr = [i * 365 for i in activity_hours_per_day]\n",
    "#activity_hours_per_yr"
   ]
  },
  {
   "cell_type": "code",
   "execution_count": 302,
   "metadata": {},
   "outputs": [
    {
     "data": {
      "image/png": "[encoded data removed]",
      "text/plain": [
       "<Figure size 432x288 with 1 Axes>"
      ]
     },
     "metadata": {
      "needs_background": "light"
     },
     "output_type": "display_data"
    }
   ],
   "source": [
    "x = year\n",
    "y = activity_hours_per_yr\n",
    "x, y = np.array(x), np.array(y)\n",
    "\n",
    "model = LinearRegression().fit(x, y)\n",
    "\n",
    "y_pred = model.predict(x)  \n",
    "\n",
    "plt.scatter(x, y)\n",
    "plt.plot(x, y_pred, color='red')\n",
    "plt.show()"
   ]
  },
  {
   "cell_type": "code",
   "execution_count": 303,
   "metadata": {},
   "outputs": [
    {
     "data": {
      "text/plain": [
       "0.024623943403670245"
      ]
     },
     "execution_count": 303,
     "metadata": {},
     "output_type": "execute_result"
    }
   ],
   "source": [
    "coefficient_of_determination = model.score(x,y) #R sqaure value \n",
    "coefficient_of_determination"
   ]
  },
  {
   "cell_type": "code",
   "execution_count": 304,
   "metadata": {},
   "outputs": [
    {
     "data": {
      "text/plain": [
       "array([[0.08814435]])"
      ]
     },
     "execution_count": 304,
     "metadata": {},
     "output_type": "execute_result"
    }
   ],
   "source": [
    "all_act_2019_res_unemp_slope = model.coef_\n",
    "all_act_2019_res_unemp_slope"
   ]
  },
  {
   "cell_type": "code",
   "execution_count": null,
   "metadata": {},
   "outputs": [],
   "source": []
  }
 ],
 "metadata": {
  "kernelspec": {
   "display_name": "Python 3",
   "language": "python",
   "name": "python3"
  },
  "language_info": {
   "codemirror_mode": {
    "name": "ipython",
    "version": 3
   },
   "file_extension": ".py",
   "mimetype": "text/x-python",
   "name": "python",
   "nbconvert_exporter": "python",
   "pygments_lexer": "ipython3",
   "version": "3.8.3"
  }
 },
 "nbformat": 4,
 "nbformat_minor": 4
}
